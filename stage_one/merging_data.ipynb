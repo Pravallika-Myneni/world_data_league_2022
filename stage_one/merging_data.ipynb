{
 "cells": [
  {
   "cell_type": "code",
   "metadata": {
    "tags": [],
    "cell_id": "e3bd1fc0-fd4c-43b5-b028-db91756682ae",
    "deepnote_to_be_reexecuted": false,
    "source_hash": "c76c7c51",
    "execution_start": 1647858901721,
    "execution_millis": 1,
    "deepnote_cell_type": "code",
    "deepnote_cell_height": 99
   },
   "source": "import pandas as pd\nimport numpy as np",
   "execution_count": null,
   "outputs": []
  },
  {
   "cell_type": "code",
   "metadata": {
    "cell_id": "df656f31-2272-493a-8062-848251bcdd3e",
    "tags": [],
    "deepnote_to_be_reexecuted": false,
    "source_hash": "a5216b79",
    "execution_start": 1647860189520,
    "execution_millis": 224,
    "deepnote_cell_type": "code",
    "deepnote_cell_height": 323
   },
   "source": "weather_df = pd.read_csv(\"/work/world_data_league_2022/stage_one/data_1/WeatherData_weekly.csv\")\ngarbage_df = pd.read_csv(\"/work/world_data_league_2022/stage_one/data_1/weekly_garbage_data_2014-2021.csv\", index_col =[0])\nweather_df.head(2)",
   "execution_count": null,
   "outputs": [
    {
     "output_type": "execute_result",
     "execution_count": 68,
     "data": {
      "application/vnd.deepnote.dataframe.v3+json": {
       "column_count": 11,
       "row_count": 2,
       "columns": [
        {
         "name": "time",
         "dtype": "object",
         "stats": {
          "unique_count": 2,
          "nan_count": 0,
          "categories": [
           {
            "name": "2005-01-02",
            "count": 1
           },
           {
            "name": "2005-01-09",
            "count": 1
           }
          ]
         }
        },
        {
         "name": "tavg",
         "dtype": "float64",
         "stats": {
          "unique_count": 2,
          "nan_count": 0,
          "min": "13.7",
          "max": "20.8",
          "histogram": [
           {
            "bin_start": 13.7,
            "bin_end": 14.41,
            "count": 1
           },
           {
            "bin_start": 14.41,
            "bin_end": 15.12,
            "count": 0
           },
           {
            "bin_start": 15.12,
            "bin_end": 15.83,
            "count": 0
           },
           {
            "bin_start": 15.83,
            "bin_end": 16.54,
            "count": 0
           },
           {
            "bin_start": 16.54,
            "bin_end": 17.25,
            "count": 0
           },
           {
            "bin_start": 17.25,
            "bin_end": 17.96,
            "count": 0
           },
           {
            "bin_start": 17.96,
            "bin_end": 18.67,
            "count": 0
           },
           {
            "bin_start": 18.67,
            "bin_end": 19.380000000000003,
            "count": 0
           },
           {
            "bin_start": 19.380000000000003,
            "bin_end": 20.09,
            "count": 0
           },
           {
            "bin_start": 20.09,
            "bin_end": 20.8,
            "count": 1
           }
          ]
         }
        },
        {
         "name": "tmin",
         "dtype": "float64",
         "stats": {
          "unique_count": 2,
          "nan_count": 0,
          "min": "1.1",
          "max": "17.8",
          "histogram": [
           {
            "bin_start": 1.1,
            "bin_end": 2.77,
            "count": 1
           },
           {
            "bin_start": 2.77,
            "bin_end": 4.4399999999999995,
            "count": 0
           },
           {
            "bin_start": 4.4399999999999995,
            "bin_end": 6.109999999999999,
            "count": 0
           },
           {
            "bin_start": 6.109999999999999,
            "bin_end": 7.779999999999999,
            "count": 0
           },
           {
            "bin_start": 7.779999999999999,
            "bin_end": 9.45,
            "count": 0
           },
           {
            "bin_start": 9.45,
            "bin_end": 11.12,
            "count": 0
           },
           {
            "bin_start": 11.12,
            "bin_end": 12.79,
            "count": 0
           },
           {
            "bin_start": 12.79,
            "bin_end": 14.459999999999999,
            "count": 0
           },
           {
            "bin_start": 14.459999999999999,
            "bin_end": 16.13,
            "count": 0
           },
           {
            "bin_start": 16.13,
            "bin_end": 17.8,
            "count": 1
           }
          ]
         }
        },
        {
         "name": "tmax",
         "dtype": "float64",
         "stats": {
          "unique_count": 2,
          "nan_count": 0,
          "min": "23.9",
          "max": "25.6",
          "histogram": [
           {
            "bin_start": 23.9,
            "bin_end": 24.07,
            "count": 1
           },
           {
            "bin_start": 24.07,
            "bin_end": 24.24,
            "count": 0
           },
           {
            "bin_start": 24.24,
            "bin_end": 24.41,
            "count": 0
           },
           {
            "bin_start": 24.41,
            "bin_end": 24.58,
            "count": 0
           },
           {
            "bin_start": 24.58,
            "bin_end": 24.75,
            "count": 0
           },
           {
            "bin_start": 24.75,
            "bin_end": 24.92,
            "count": 0
           },
           {
            "bin_start": 24.92,
            "bin_end": 25.09,
            "count": 0
           },
           {
            "bin_start": 25.09,
            "bin_end": 25.26,
            "count": 0
           },
           {
            "bin_start": 25.26,
            "bin_end": 25.43,
            "count": 0
           },
           {
            "bin_start": 25.43,
            "bin_end": 25.6,
            "count": 1
           }
          ]
         }
        },
        {
         "name": "prcp",
         "dtype": "float64",
         "stats": {
          "unique_count": 2,
          "nan_count": 0,
          "min": "6.1",
          "max": "8.1",
          "histogram": [
           {
            "bin_start": 6.1,
            "bin_end": 6.3,
            "count": 1
           },
           {
            "bin_start": 6.3,
            "bin_end": 6.5,
            "count": 0
           },
           {
            "bin_start": 6.5,
            "bin_end": 6.699999999999999,
            "count": 0
           },
           {
            "bin_start": 6.699999999999999,
            "bin_end": 6.8999999999999995,
            "count": 0
           },
           {
            "bin_start": 6.8999999999999995,
            "bin_end": 7.1,
            "count": 0
           },
           {
            "bin_start": 7.1,
            "bin_end": 7.3,
            "count": 0
           },
           {
            "bin_start": 7.3,
            "bin_end": 7.5,
            "count": 0
           },
           {
            "bin_start": 7.5,
            "bin_end": 7.699999999999999,
            "count": 0
           },
           {
            "bin_start": 7.699999999999999,
            "bin_end": 7.8999999999999995,
            "count": 0
           },
           {
            "bin_start": 7.8999999999999995,
            "bin_end": 8.1,
            "count": 1
           }
          ]
         }
        },
        {
         "name": "snow",
         "dtype": "float64",
         "stats": {
          "unique_count": 1,
          "nan_count": 0,
          "min": "0.0",
          "max": "0.0",
          "histogram": [
           {
            "bin_start": -0.5,
            "bin_end": -0.4,
            "count": 0
           },
           {
            "bin_start": -0.4,
            "bin_end": -0.3,
            "count": 0
           },
           {
            "bin_start": -0.3,
            "bin_end": -0.19999999999999996,
            "count": 0
           },
           {
            "bin_start": -0.19999999999999996,
            "bin_end": -0.09999999999999998,
            "count": 0
           },
           {
            "bin_start": -0.09999999999999998,
            "bin_end": 0,
            "count": 0
           },
           {
            "bin_start": 0,
            "bin_end": 0.10000000000000009,
            "count": 2
           },
           {
            "bin_start": 0.10000000000000009,
            "bin_end": 0.20000000000000007,
            "count": 0
           },
           {
            "bin_start": 0.20000000000000007,
            "bin_end": 0.30000000000000004,
            "count": 0
           },
           {
            "bin_start": 0.30000000000000004,
            "bin_end": 0.4,
            "count": 0
           },
           {
            "bin_start": 0.4,
            "bin_end": 0.5,
            "count": 0
           }
          ]
         }
        },
        {
         "name": "wdir",
         "dtype": "float64",
         "stats": {
          "unique_count": 0,
          "nan_count": 2,
          "min": null,
          "max": null,
          "histogram": [
           {
            "bin_start": 0,
            "bin_end": 0.1,
            "count": 0
           },
           {
            "bin_start": 0.1,
            "bin_end": 0.2,
            "count": 0
           },
           {
            "bin_start": 0.2,
            "bin_end": 0.30000000000000004,
            "count": 0
           },
           {
            "bin_start": 0.30000000000000004,
            "bin_end": 0.4,
            "count": 0
           },
           {
            "bin_start": 0.4,
            "bin_end": 0.5,
            "count": 0
           },
           {
            "bin_start": 0.5,
            "bin_end": 0.6000000000000001,
            "count": 0
           },
           {
            "bin_start": 0.6000000000000001,
            "bin_end": 0.7000000000000001,
            "count": 0
           },
           {
            "bin_start": 0.7000000000000001,
            "bin_end": 0.8,
            "count": 0
           },
           {
            "bin_start": 0.8,
            "bin_end": 0.9,
            "count": 0
           },
           {
            "bin_start": 0.9,
            "bin_end": 1,
            "count": 0
           }
          ]
         }
        },
        {
         "name": "wspd",
         "dtype": "float64",
         "stats": {
          "unique_count": 2,
          "nan_count": 0,
          "min": "9.0",
          "max": "11.4",
          "histogram": [
           {
            "bin_start": 9,
            "bin_end": 9.24,
            "count": 1
           },
           {
            "bin_start": 9.24,
            "bin_end": 9.48,
            "count": 0
           },
           {
            "bin_start": 9.48,
            "bin_end": 9.72,
            "count": 0
           },
           {
            "bin_start": 9.72,
            "bin_end": 9.96,
            "count": 0
           },
           {
            "bin_start": 9.96,
            "bin_end": 10.2,
            "count": 0
           },
           {
            "bin_start": 10.2,
            "bin_end": 10.440000000000001,
            "count": 0
           },
           {
            "bin_start": 10.440000000000001,
            "bin_end": 10.68,
            "count": 0
           },
           {
            "bin_start": 10.68,
            "bin_end": 10.92,
            "count": 0
           },
           {
            "bin_start": 10.92,
            "bin_end": 11.16,
            "count": 0
           },
           {
            "bin_start": 11.16,
            "bin_end": 11.4,
            "count": 1
           }
          ]
         }
        },
        {
         "name": "wpgt",
         "dtype": "float64",
         "stats": {
          "unique_count": 0,
          "nan_count": 2,
          "min": null,
          "max": null,
          "histogram": [
           {
            "bin_start": 0,
            "bin_end": 0.1,
            "count": 0
           },
           {
            "bin_start": 0.1,
            "bin_end": 0.2,
            "count": 0
           },
           {
            "bin_start": 0.2,
            "bin_end": 0.30000000000000004,
            "count": 0
           },
           {
            "bin_start": 0.30000000000000004,
            "bin_end": 0.4,
            "count": 0
           },
           {
            "bin_start": 0.4,
            "bin_end": 0.5,
            "count": 0
           },
           {
            "bin_start": 0.5,
            "bin_end": 0.6000000000000001,
            "count": 0
           },
           {
            "bin_start": 0.6000000000000001,
            "bin_end": 0.7000000000000001,
            "count": 0
           },
           {
            "bin_start": 0.7000000000000001,
            "bin_end": 0.8,
            "count": 0
           },
           {
            "bin_start": 0.8,
            "bin_end": 0.9,
            "count": 0
           },
           {
            "bin_start": 0.9,
            "bin_end": 1,
            "count": 0
           }
          ]
         }
        },
        {
         "name": "pres",
         "dtype": "float64",
         "stats": {
          "unique_count": 2,
          "nan_count": 0,
          "min": "1019.5",
          "max": "1022.0",
          "histogram": [
           {
            "bin_start": 1019.5,
            "bin_end": 1019.75,
            "count": 1
           },
           {
            "bin_start": 1019.75,
            "bin_end": 1020,
            "count": 0
           },
           {
            "bin_start": 1020,
            "bin_end": 1020.25,
            "count": 0
           },
           {
            "bin_start": 1020.25,
            "bin_end": 1020.5,
            "count": 0
           },
           {
            "bin_start": 1020.5,
            "bin_end": 1020.75,
            "count": 0
           },
           {
            "bin_start": 1020.75,
            "bin_end": 1021,
            "count": 0
           },
           {
            "bin_start": 1021,
            "bin_end": 1021.25,
            "count": 0
           },
           {
            "bin_start": 1021.25,
            "bin_end": 1021.5,
            "count": 0
           },
           {
            "bin_start": 1021.5,
            "bin_end": 1021.75,
            "count": 0
           },
           {
            "bin_start": 1021.75,
            "bin_end": 1022,
            "count": 1
           }
          ]
         }
        },
        {
         "name": "tsun",
         "dtype": "float64",
         "stats": {
          "unique_count": 1,
          "nan_count": 0,
          "min": "0.0",
          "max": "0.0",
          "histogram": [
           {
            "bin_start": -0.5,
            "bin_end": -0.4,
            "count": 0
           },
           {
            "bin_start": -0.4,
            "bin_end": -0.3,
            "count": 0
           },
           {
            "bin_start": -0.3,
            "bin_end": -0.19999999999999996,
            "count": 0
           },
           {
            "bin_start": -0.19999999999999996,
            "bin_end": -0.09999999999999998,
            "count": 0
           },
           {
            "bin_start": -0.09999999999999998,
            "bin_end": 0,
            "count": 0
           },
           {
            "bin_start": 0,
            "bin_end": 0.10000000000000009,
            "count": 2
           },
           {
            "bin_start": 0.10000000000000009,
            "bin_end": 0.20000000000000007,
            "count": 0
           },
           {
            "bin_start": 0.20000000000000007,
            "bin_end": 0.30000000000000004,
            "count": 0
           },
           {
            "bin_start": 0.30000000000000004,
            "bin_end": 0.4,
            "count": 0
           },
           {
            "bin_start": 0.4,
            "bin_end": 0.5,
            "count": 0
           }
          ]
         }
        },
        {
         "name": "_deepnote_index_column",
         "dtype": "int64"
        }
       ],
       "rows": [
        {
         "time": "2005-01-02",
         "tavg": 20.8,
         "tmin": 17.8,
         "tmax": 23.9,
         "prcp": 8.1,
         "snow": 0,
         "wdir": "nan",
         "wspd": 11.4,
         "wpgt": "nan",
         "pres": 1019.5,
         "tsun": 0,
         "_deepnote_index_column": 0
        },
        {
         "time": "2005-01-09",
         "tavg": 13.7,
         "tmin": 1.1,
         "tmax": 25.6,
         "prcp": 6.1,
         "snow": 0,
         "wdir": "nan",
         "wspd": 9,
         "wpgt": "nan",
         "pres": 1022,
         "tsun": 0,
         "_deepnote_index_column": 1
        }
       ]
      },
      "text/plain": "         time  tavg  tmin  tmax  prcp  snow  wdir  wspd  wpgt    pres  tsun\n0  2005-01-02  20.8  17.8  23.9   8.1   0.0   NaN  11.4   NaN  1019.5   0.0\n1  2005-01-09  13.7   1.1  25.6   6.1   0.0   NaN   9.0   NaN  1022.0   0.0",
      "text/html": "<div>\n<style scoped>\n    .dataframe tbody tr th:only-of-type {\n        vertical-align: middle;\n    }\n\n    .dataframe tbody tr th {\n        vertical-align: top;\n    }\n\n    .dataframe thead th {\n        text-align: right;\n    }\n</style>\n<table border=\"1\" class=\"dataframe\">\n  <thead>\n    <tr style=\"text-align: right;\">\n      <th></th>\n      <th>time</th>\n      <th>tavg</th>\n      <th>tmin</th>\n      <th>tmax</th>\n      <th>prcp</th>\n      <th>snow</th>\n      <th>wdir</th>\n      <th>wspd</th>\n      <th>wpgt</th>\n      <th>pres</th>\n      <th>tsun</th>\n    </tr>\n  </thead>\n  <tbody>\n    <tr>\n      <th>0</th>\n      <td>2005-01-02</td>\n      <td>20.8</td>\n      <td>17.8</td>\n      <td>23.9</td>\n      <td>8.1</td>\n      <td>0.0</td>\n      <td>NaN</td>\n      <td>11.4</td>\n      <td>NaN</td>\n      <td>1019.5</td>\n      <td>0.0</td>\n    </tr>\n    <tr>\n      <th>1</th>\n      <td>2005-01-09</td>\n      <td>13.7</td>\n      <td>1.1</td>\n      <td>25.6</td>\n      <td>6.1</td>\n      <td>0.0</td>\n      <td>NaN</td>\n      <td>9.0</td>\n      <td>NaN</td>\n      <td>1022.0</td>\n      <td>0.0</td>\n    </tr>\n  </tbody>\n</table>\n</div>"
     },
     "metadata": {}
    }
   ]
  },
  {
   "cell_type": "code",
   "metadata": {
    "cell_id": "63eea73b-b546-4bac-a374-ff68a5deb94d",
    "tags": [],
    "deepnote_to_be_reexecuted": false,
    "source_hash": "241c8600",
    "execution_start": 1647860190306,
    "execution_millis": 16,
    "deepnote_cell_type": "code",
    "deepnote_cell_height": 270
   },
   "source": "garbage_df.head(2)",
   "execution_count": null,
   "outputs": [
    {
     "output_type": "execute_result",
     "execution_count": 69,
     "data": {
      "application/vnd.deepnote.dataframe.v3+json": {
       "column_count": 7,
       "row_count": 2,
       "columns": [
        {
         "name": "Date",
         "dtype": "object",
         "stats": {
          "unique_count": 2,
          "nan_count": 0,
          "categories": [
           {
            "name": "2013-12-29",
            "count": 1
           },
           {
            "name": "2014-01-05",
            "count": 1
           }
          ]
         }
        },
        {
         "name": "Load Type",
         "dtype": "object",
         "stats": {
          "unique_count": 2,
          "nan_count": 0,
          "categories": [
           {
            "name": "['YARD TRIMMING', 'YARD TRIMMING', 'YARD TRIMMING', 'RECYCLING - SINGLE STREAM', 'YARD TRIMMING', 'RECYCLING - SINGLE STREAM', 'RECYCLING - SINGLE STREAM', 'RECYCLING - SINGLE STREAM', 'GARBAGE COLLECTIONS', 'GARBAGE COLLECTIONS', 'YARD TRIMMING', 'GARBAGE COLLECTIONS', 'RECYCLING - SINGLE STREAM', 'LITTER', 'BULK', 'GARBAGE COLLECTIONS', 'RECYCLING - SINGLE STREAM', 'RECYCLING - SINGLE STREAM', 'GARBAGE COLLECTIONS', 'YARD TRIMMING', 'GARBAGE COLLECTIONS', 'YARD TRIMMING', 'RECYCLING - SINGLE STREAM', 'GARBAGE COLLECTIONS', 'GARBAGE COLLECTIONS', 'GARBAGE COLLECTIONS', 'SWEEPING', 'RECYCLING - SINGLE STREAM', 'BULK', 'GARBAGE COLLECTIONS', 'GARBAGE COLLECTIONS', 'BULK', 'GARBAGE COLLECTIONS', 'RECYCLING - SINGLE STREAM', 'GARBAGE COLLECTIONS', 'RECYCLING - SINGLE STREAM', 'GARBAGE COLLECTIONS', 'RECYCLING - SINGLE STREAM', 'YARD TRIMMING', 'BULK', 'RECYCLING - SINGLE STREAM', 'RECYCLING - SINGLE STREAM', 'LITTER', 'GARBAGE COLLECTIONS', 'GARBAGE COLLECTIONS', 'GARBAGE COLLECTIONS', 'RECYCLING - SINGLE STREAM', 'RECYCLING - SINGLE STREAM', 'RECYCLING - SINGLE STREAM', 'GARBAGE COLLECTIONS', 'DEAD ANIMAL', 'GARBAGE COLLECTIONS', 'GARBAGE COLLECTIONS', 'RECYCLING - SINGLE STREAM', 'RECYCLING - SINGLE STREAM', 'GARBAGE COLLECTIONS', 'RECYCLING - SINGLE STREAM', 'GARBAGE COLLECTIONS', 'YARD TRIMMING', 'RECYCLING - SINGLE STREAM', 'GARBAGE COLLECTIONS', 'GARBAGE COLLECTIONS', 'RECYCLING - SINGLE STREAM', 'SWEEPING', 'RECYCLING - SINGLE STREAM', 'YARD TRIMMING', 'YARD TRIMMING', 'GARBAGE COLLECTIONS', 'SWEEPING', 'RECYCLING - SINGLE STREAM', 'RECYCLING - SINGLE STREAM', 'GARBAGE COLLECTIONS', 'GARBAGE COLLECTIONS', 'RECYCLING - SINGLE STREAM', 'SWEEPING', 'SWEEPING', 'YARD TRIMMING', 'RECYCLING - SINGLE STREAM', 'GARBAGE COLLECTIONS', 'GARBAGE COLLECTIONS', 'YARD TRIMMING', 'GARBAGE COLLECTIONS', 'GARBAGE COLLECTIONS', 'BRUSH', 'GARBAGE COLLECTIONS', 'SWEEPING', 'RECYCLING - SINGLE STREAM', 'GARBAGE COLLECTIONS', 'GARBAGE COLLECTIONS', 'YARD TRIMMING', 'RECYCLING - SINGLE STREAM', 'GARBAGE COLLECTIONS', 'RECYCLING - SINGLE STREAM', 'GARBAGE COLLECTIONS', 'YARD TRIMMING', 'GARBAGE COLLECTIONS', 'GARBAGE COLLECTIONS', 'GARBAGE COLLECTIONS', 'YARD TRIMMING', 'GARBAGE COLLECTIONS', 'YARD TRIMMING', 'GARBAGE COLLECTIONS', 'RECYCLING - SINGLE STREAM', 'RECYCLING - SINGLE STREAM', 'RECYCLING - SINGLE STREAM', 'RECYCLING - SINGLE STREAM', 'YARD TRIMMING', 'YARD TRIMMING', 'YARD TRIMMING', 'GARBAGE COLLECTIONS', 'RECYCLING - SINGLE STREAM', 'GARBAGE COLLECTIONS', 'GARBAGE COLLECTIONS', 'SWEEPING', 'GARBAGE COLLECTIONS', 'RECYCLING - SINGLE STREAM', 'DEAD ANIMAL', 'YARD TRIMMING', 'GARBAGE COLLECTIONS', 'YARD TRIMMING', 'YARD TRIMMING', 'BULK', 'RECYCLING - SINGLE STREAM', 'GARBAGE COLLECTIONS', 'YARD TRIMMING', 'GARBAGE COLLECTIONS', 'BRUSH', 'SWEEPING', 'GARBAGE COLLECTIONS', 'RECYCLING - SINGLE STREAM', 'GARBAGE COLLECTIONS', 'GARBAGE COLLECTIONS', 'GARBAGE COLLECTIONS', 'GARBAGE COLLECTIONS', 'SWEEPING', 'YARD TRIMMING', 'SWEEPING', 'GARBAGE COLLECTIONS', 'GARBAGE COLLECTIONS', 'GARBAGE COLLECTIONS', 'GARBAGE COLLECTIONS', 'YARD TRIMMING', 'RECYCLING - SINGLE STREAM', 'GARBAGE COLLECTIONS', 'YARD TRIMMING', 'GARBAGE COLLECTIONS', 'YARD TRIMMING', 'RECYCLING - SINGLE STREAM', 'GARBAGE COLLECTIONS', 'RECYCLING - SINGLE STREAM', 'GARBAGE COLLECTIONS', 'GARBAGE COLLECTIONS', 'GARBAGE COLLECTIONS', 'RECYCLING - SINGLE STREAM', 'YARD TRIMMING', 'RECYCLING - SINGLE STREAM', 'GARBAGE COLLECTIONS', 'RECYCLING - SINGLE STREAM', 'RECYCLING - SINGLE STREAM', 'GARBAGE COLLECTIONS', 'RECYCLING - SINGLE STREAM', 'GARBAGE COLLECTIONS', 'YARD TRIMMING', 'GARBAGE COLLECTIONS', 'GARBAGE COLLECTIONS', 'YARD TRIMMING', 'YARD TRIMMING', 'RECYCLING - SINGLE STREAM', 'RECYCLING - SINGLE STREAM', 'YARD TRIMMING', 'GARBAGE COLLECTIONS', 'RECYCLING - SINGLE STREAM', 'YARD TRIMMING', 'RECYCLING - SINGLE STREAM', 'YARD TRIMMING', 'SWEEPING', 'GARBAGE COLLECTIONS', 'YARD TRIMMING', 'GARBAGE COLLECTIONS', 'GARBAGE COLLECTIONS', 'GARBAGE COLLECTIONS', 'RECYCLING - SINGLE STREAM', 'YARD TRIMMING', 'GARBAGE COLLECTIONS', 'RECYCLING - SINGLE STREAM', 'GARBAGE COLLECTIONS', 'RECYCLING - SINGLE STREAM', 'GARBAGE COLLECTIONS', 'GARBAGE COLLECTIONS', 'BULK', 'RECYCLING - SINGLE STREAM', 'YARD TRIMMING', 'GARBAGE COLLECTIONS', 'YARD TRIMMING', 'RECYCLING - SINGLE STREAM', 'RECYCLING - SINGLE STREAM', 'YARD TRIMMING', 'RECYCLING - SINGLE STREAM', 'YARD TRIMMING', 'RECYCLING - SINGLE STREAM', 'GARBAGE COLLECTIONS', 'RECYCLING - SINGLE STREAM', 'GARBAGE COLLECTIONS', 'RECYCLING - SINGLE STREAM', 'YARD TRIMMING', 'RECYCLING - SINGLE STREAM', 'YARD TRIMMING', 'GARBAGE COLLECTIONS', 'GARBAGE COLLECTIONS', 'GARBAGE COLLECTIONS', 'RECYCLING - SINGLE STREAM', 'RECYCLING - SINGLE STREAM', 'RECYCLING - SINGLE STREAM', 'YARD TRIMMING', 'GARBAGE COLLECTIONS', 'RECYCLING - SINGLE STREAM', 'GARBAGE COLLECTIONS', 'YARD TRIMMING', 'RECYCLING - SINGLE STREAM', 'RECYCLING - SINGLE STREAM', 'RECYCLING - SINGLE STREAM', 'GARBAGE COLLECTIONS', 'GARBAGE COLLECTIONS', 'GARBAGE COLLECTIONS', 'GARBAGE COLLECTIONS', 'RECYCLING - SINGLE STREAM', 'GARBAGE COLLECTIONS', 'GARBAGE COLLECTIONS', 'RECYCLING - SINGLE STREAM', 'YARD TRIMMING', 'GARBAGE COLLECTIONS', 'RECYCLING - SINGLE STREAM', 'GARBAGE COLLECTIONS', 'BULK', 'GARBAGE COLLECTIONS', 'GARBAGE COLLECTIONS', 'RECYCLING - SINGLE STREAM', 'YARD TRIMMING', 'GARBAGE COLLECTIONS', 'DEAD ANIMAL', 'YARD TRIMMING', 'RECYCLING - SINGLE STREAM', 'RECYCLING - SINGLE STREAM', 'GARBAGE COLLECTIONS', 'RECYCLING - SINGLE STREAM', 'RECYCLING - SINGLE STREAM', 'GARBAGE COLLECTIONS', 'GARBAGE COLLECTIONS', 'GARBAGE COLLECTIONS', 'YARD TRIMMING', 'GARBAGE COLLECTIONS', 'GARBAGE COLLECTIONS', 'GARBAGE COLLECTIONS', 'RECYCLING - SINGLE STREAM', 'GARBAGE COLLECTIONS', 'GARBAGE COLLECTIONS', 'GARBAGE COLLECTIONS', 'GARBAGE COLLECTIONS', 'RECYCLING - SINGLE STREAM', 'GARBAGE COLLECTIONS', 'SWEEPING', 'RECYCLING - SINGLE STREAM', 'RECYCLING - SINGLE STREAM', 'YARD TRIMMING', 'GARBAGE COLLECTIONS', 'DEAD ANIMAL', 'BRUSH', 'SWEEPING', 'GARBAGE COLLECTIONS', 'GARBAGE COLLECTIONS', 'GARBAGE COLLECTIONS', 'GARBAGE COLLECTIONS', 'RECYCLING - SINGLE STREAM', 'RECYCLING - SINGLE STREAM', 'GARBAGE COLLECTIONS', 'RECYCLING - SINGLE STREAM', 'YARD TRIMMING', 'GARBAGE COLLECTIONS', 'GARBAGE COLLECTIONS', 'RECYCLING - SINGLE STREAM', 'RECYCLING - SINGLE STREAM', 'GARBAGE COLLECTIONS', 'YARD TRIMMING', 'YARD TRIMMING', 'GARBAGE COLLECTIONS', 'GARBAGE COLLECTIONS', 'RECYCLING - SINGLE STREAM', 'YARD TRIMMING', 'GARBAGE COLLECTIONS', 'GARBAGE COLLECTIONS', 'RECYCLING - SINGLE STREAM', 'GARBAGE COLLECTIONS', 'GARBAGE COLLECTIONS', 'GARBAGE COLLECTIONS', 'RECYCLING - SINGLE STREAM', 'YARD TRIMMING', 'GARBAGE COLLECTIONS', 'BULK', 'YARD TRIMMING', 'YARD TRIMMING', 'RECYCLING - SINGLE STREAM', 'RECYCLING - SINGLE STREAM', 'RECYCLING - SINGLE STREAM', 'YARD TRIMMING', 'GARBAGE COLLECTIONS', 'GARBAGE COLLECTIONS', 'RECYCLING - SINGLE STREAM', 'GARBAGE COLLECTIONS', 'GARBAGE COLLECTIONS', 'GARBAGE COLLECTIONS', 'GARBAGE COLLECTIONS', 'GARBAGE COLLECTIONS', 'GARBAGE COLLECTIONS', 'YARD TRIMMING', 'RECYCLING - SINGLE STREAM', 'GARBAGE COLLECTIONS', 'YARD TRIMMING', 'RECYCLING - SINGLE STREAM', 'RECYCLING - SINGLE STREAM', 'YARD TRIMMING', 'RECYCLING - SINGLE STREAM', 'GARBAGE COLLECTIONS', 'YARD TRIMMING', 'YARD TRIMMING', 'RECYCLING - SINGLE STREAM', 'RECYCLING - SINGLE STREAM', 'YARD TRIMMING', 'DEAD ANIMAL', 'GARBAGE COLLECTIONS', 'RECYCLING - SINGLE STREAM', 'RECYCLING - SINGLE STREAM', 'GARBAGE COLLECTIONS', 'GARBAGE COLLECTIONS', 'RECYCLING - SINGLE STREAM', 'GARBAGE COLLECTIONS', 'GARBAGE COLLECTIONS', 'RECYCLING - SINGLE STREAM', 'GARBAGE COLLECTIONS', 'RECYCLING - SINGLE STREAM', 'YARD TRIMMING', 'RECYCLING - SINGLE STREAM', 'RECYCLING - SINGLE STREAM', 'YARD TRIMMING', 'RECYCLING - SINGLE STREAM', 'RECYCLING - SINGLE STREAM', 'RECYCLING - SINGLE STREAM', 'RECYCLING - SINGLE STREAM', 'GARBAGE COLLECTIONS', 'BRUSH', 'GARBAGE COLLECTIONS', 'RECYCLING - SINGLE STREAM', 'GARBAGE COLLECTIONS', 'SWEEPING', 'YARD TRIMMING', 'TIRES', 'GARBAGE COLLECTIONS', 'GARBAGE COLLECTIONS', 'GARBAGE COLLECTIONS', 'GARBAGE COLLECTIONS', 'GARBAGE COLLECTIONS', 'RECYCLING - SINGLE STREAM', 'GARBAGE COLLECTIONS', 'RECYCLING - SINGLE STREAM', 'RECYCLING - SINGLE STREAM', 'RECYCLING - SINGLE STREAM', 'GARBAGE COLLECTIONS', 'GARBAGE COLLECTIONS', 'YARD TRIMMING', 'YARD TRIMMING', 'RECYCLING - SINGLE STREAM', 'RECYCLING - SINGLE STREAM', 'RECYCLING - SINGLE STREAM', 'RECYCLING - SINGLE STREAM', 'GARBAGE COLLECTIONS', 'GARBAGE COLLECTIONS', 'RECYCLING - SINGLE STREAM', 'RECYCLING - SINGLE STREAM', 'GARBAGE COLLECTIONS', 'BULK', 'YARD TRIMMING', 'YARD TRIMMING', 'RECYCLING - SINGLE STREAM', 'RECYCLING - SINGLE STREAM', 'RECYCLING - SINGLE STREAM', 'RECYCLING - SINGLE STREAM', 'GARBAGE COLLECTIONS', 'RECYCLING - SINGLE STREAM', 'YARD TRIMMING', 'YARD TRIMMING', 'GARBAGE COLLECTIONS', 'RECYCLING - SINGLE STREAM', 'RECYCLING - SINGLE STREAM', 'RECYCLING - SINGLE STREAM', 'GARBAGE COLLECTIONS', 'RECYCLING - SINGLE STREAM', 'RECYCLING - SINGLE STREAM', 'YARD TRIMMING', 'GARBAGE COLLECTIONS', 'RECYCLING - SINGLE STREAM', 'GARBAGE COLLECTIONS', 'RECYCLING - SINGLE STREAM', 'GARBAGE COLLECTIONS', 'GARBAGE COLLECTIONS', 'YARD TRIMMING', 'BULK', 'RECYCLING - SINGLE STREAM', 'YARD TRIMMING', 'RECYCLING - SINGLE STREAM', 'GARBAGE COLLECTIONS', 'YARD TRIMMING', 'RECYCLING - SINGLE STREAM', 'GARBAGE COLLECTIONS', 'GARBAGE COLLECTIONS', 'SWEEPING', 'GARBAGE COLLECTIONS', 'SWEEPING', 'GARBAGE COLLECTIONS', 'GARBAGE COLLECTIONS', 'GARBAGE COLLECTIONS', 'RECYCLING - SINGLE STREAM', 'GARBAGE COLLECTIONS', 'YARD TRIMMING', 'RECYCLING - SINGLE STREAM', 'GARBAGE COLLECTIONS', 'RECYCLING - SINGLE STREAM', 'GARBAGE COLLECTIONS', 'GARBAGE COLLECTIONS', 'DEAD ANIMAL', 'GARBAGE COLLECTIONS', 'YARD TRIMMING', 'YARD TRIMMING', 'GARBAGE COLLECTIONS', 'GARBAGE COLLECTIONS']",
            "count": 1
           },
           {
            "name": "['GARBAGE COLLECTIONS', 'GARBAGE COLLECTIONS', 'GARBAGE COLLECTIONS', 'BULK', 'RECYCLING - SINGLE STREAM', 'GARBAGE COLLECTIONS', 'GARBAGE COLLECTIONS', 'RECYCLING - SINGLE STREAM', 'GARBAGE COLLECTIONS', 'RECYCLING - SINGLE STREAM', 'GARBAGE COLLECTIONS', 'TIRES', 'GARBAGE COLLECTIONS', 'GARBAGE COLLECTIONS', 'RECYCLING - SINGLE STREAM', 'LITTER', 'RECYCLING - SINGLE STREAM', 'RECYCLING - SINGLE STREAM', 'RECYCLING - SINGLE STREAM', 'BULK', 'GARBAGE COLLECTIONS', 'BULK', 'YARD TRIMMING', 'YARD TRIMMING', 'RECYCLING - SINGLE STREAM', 'YARD TRIMMING', 'RECYCLING - SINGLE STREAM', 'YARD TRIMMING', 'RECYCLING - SINGLE STREAM', 'RECYCLING - SINGLE STREAM', 'BRUSH', 'YARD TRIMMING', 'BULK', 'GARBAGE COLLECTIONS', 'GARBAGE COLLECTIONS', 'RECYCLING - SINGLE STREAM', 'RECYCLING - SINGLE STREAM', 'GARBAGE COLLECTIONS', 'YARD TRIMMING', 'GARBAGE COLLECTIONS', 'GARBAGE COLLECTIONS', 'BULK', 'GARBAGE COLLECTIONS', 'YARD TRIMMING', 'GARBAGE COLLECTIONS', 'GARBAGE COLLECTIONS', 'GARBAGE COLLECTIONS', 'RECYCLING - SINGLE STREAM', 'GARBAGE COLLECTIONS', 'BULK', 'RECYCLING - SINGLE STREAM', 'BULK', 'BRUSH', 'GARBAGE COLLECTIONS', 'GARBAGE COLLECTIONS', 'GARBAGE COLLECTIONS', 'GARBAGE COLLECTIONS', 'YARD TRIMMING', 'BRUSH', 'YARD TRIMMING', 'RECYCLING - SINGLE STREAM', 'YARD TRIMMING', 'GARBAGE COLLECTIONS', 'GARBAGE COLLECTIONS', 'GARBAGE COLLECTIONS', 'GARBAGE COLLECTIONS', 'GARBAGE COLLECTIONS', 'BULK', 'RECYCLING - SINGLE STREAM', 'GARBAGE COLLECTIONS', 'GARBAGE COLLECTIONS', 'RECYCLING - SINGLE STREAM', 'RECYCLING - SINGLE STREAM', 'GARBAGE COLLECTIONS', 'GARBAGE COLLECTIONS', 'GARBAGE COLLECTIONS', 'GARBAGE COLLECTIONS', 'GARBAGE COLLECTIONS', 'BRUSH', 'RECYCLING - SINGLE STREAM', 'GARBAGE COLLECTIONS', 'GARBAGE COLLECTIONS', 'GARBAGE COLLECTIONS', 'BULK', 'GARBAGE COLLECTIONS', 'GARBAGE COLLECTIONS', 'YARD TRIMMING', 'RECYCLING - SINGLE STREAM', 'RECYCLING - SINGLE STREAM', 'RECYCLING - SINGLE STREAM', 'GARBAGE COLLECTIONS', 'RECYCLING - SINGLE STREAM', 'RECYCLING - SINGLE STREAM', 'BRUSH', 'RECYCLING - SINGLE STREAM', 'GARBAGE COLLECTIONS', 'GARBAGE COLLECTIONS', 'RECYCLING - SINGLE STREAM', 'SWEEPING', 'RECYCLING - SINGLE STREAM', 'GARBAGE COLLECTIONS', 'GARBAGE COLLECTIONS', 'BRUSH', 'GARBAGE COLLECTIONS', 'YARD TRIMMING', 'DEAD ANIMAL', 'GARBAGE COLLECTIONS', 'RECYCLING - SINGLE STREAM', 'YARD TRIMMING', 'GARBAGE COLLECTIONS', 'GARBAGE COLLECTIONS', 'RECYCLING - SINGLE STREAM', 'SWEEPING', 'RECYCLING - SINGLE STREAM', 'RECYCLING - SINGLE STREAM', 'YARD TRIMMING', 'RECYCLING - SINGLE STREAM', 'RECYCLING - SINGLE STREAM', 'RECYCLING - SINGLE STREAM', 'RECYCLING - SINGLE STREAM', 'GARBAGE COLLECTIONS', 'GARBAGE COLLECTIONS', 'GARBAGE COLLECTIONS', 'GARBAGE COLLECTIONS', 'GARBAGE COLLECTIONS', 'GARBAGE COLLECTIONS', 'GARBAGE COLLECTIONS', 'GARBAGE COLLECTIONS', 'GARBAGE COLLECTIONS', 'GARBAGE COLLECTIONS', 'RECYCLING - SINGLE STREAM', 'GARBAGE COLLECTIONS', 'YARD TRIMMING', 'GARBAGE COLLECTIONS', 'DEAD ANIMAL', 'GARBAGE COLLECTIONS', 'SWEEPING', 'BULK', 'GARBAGE COLLECTIONS', 'GARBAGE COLLECTIONS', 'GARBAGE COLLECTIONS', 'RECYCLING - SINGLE STREAM', 'GARBAGE COLLECTIONS', 'BRUSH', 'RECYCLING - SINGLE STREAM', 'GARBAGE COLLECTIONS', 'GARBAGE COLLECTIONS', 'SWEEPING', 'SWEEPING', 'RECYCLING - SINGLE STREAM', 'YARD TRIMMING', 'GARBAGE COLLECTIONS', 'RECYCLING - SINGLE STREAM', 'GARBAGE COLLECTIONS', 'GARBAGE COLLECTIONS', 'RECYCLING - SINGLE STREAM', 'GARBAGE COLLECTIONS', 'GARBAGE COLLECTIONS', 'RECYCLING - SINGLE STREAM', 'YARD TRIMMING', 'YARD TRIMMING', 'GARBAGE COLLECTIONS', 'GARBAGE COLLECTIONS', 'GARBAGE COLLECTIONS', 'SWEEPING', 'GARBAGE COLLECTIONS', 'GARBAGE COLLECTIONS', 'RECYCLING - SINGLE STREAM', 'GARBAGE COLLECTIONS', 'YARD TRIMMING', 'RECYCLING - SINGLE STREAM', 'RECYCLING - SINGLE STREAM', 'RECYCLING - SINGLE STREAM', 'YARD TRIMMING', 'GARBAGE COLLECTIONS', 'RECYCLING - SINGLE STREAM', 'GARBAGE COLLECTIONS', 'GARBAGE COLLECTIONS', 'RECYCLING - SINGLE STREAM', 'GARBAGE COLLECTIONS', 'RECYCLING - SINGLE STREAM', 'GARBAGE COLLECTIONS', 'RECYCLING - SINGLE STREAM', 'YARD TRIMMING', 'YARD TRIMMING', 'RECYCLING - SINGLE STREAM', 'YARD TRIMMING', 'GARBAGE COLLECTIONS', 'RECYCLING - SINGLE STREAM', 'RECYCLING - SINGLE STREAM', 'YARD TRIMMING', 'GARBAGE COLLECTIONS', 'RECYCLING - SINGLE STREAM', 'SWEEPING', 'GARBAGE COLLECTIONS', 'GARBAGE COLLECTIONS', 'GARBAGE COLLECTIONS', 'SWEEPING', 'RECYCLING - SINGLE STREAM', 'SWEEPING', 'YARD TRIMMING', 'SWEEPING', 'GARBAGE COLLECTIONS', 'RECYCLING - SINGLE STREAM', 'GARBAGE COLLECTIONS', 'GARBAGE COLLECTIONS', 'GARBAGE COLLECTIONS', 'RECYCLING - SINGLE STREAM', 'SWEEPING', 'GARBAGE COLLECTIONS', 'GARBAGE COLLECTIONS', 'RECYCLING - SINGLE STREAM', 'RECYCLING - SINGLE STREAM', 'YARD TRIMMING', 'YARD TRIMMING', 'GARBAGE COLLECTIONS', 'YARD TRIMMING', 'RECYCLING - SINGLE STREAM', 'GARBAGE COLLECTIONS', 'RECYCLING - SINGLE STREAM', 'RECYCLING - SINGLE STREAM', 'GARBAGE COLLECTIONS', 'RECYCLING - SINGLE STREAM', 'RECYCLING - SINGLE STREAM', 'RECYCLING - SINGLE STREAM', 'GARBAGE COLLECTIONS', 'RECYCLING - SINGLE STREAM', 'GARBAGE COLLECTIONS', 'GARBAGE COLLECTIONS', 'YARD TRIMMING', 'BULK', 'GARBAGE COLLECTIONS', 'GARBAGE COLLECTIONS', 'GARBAGE COLLECTIONS', 'GARBAGE COLLECTIONS', 'GARBAGE COLLECTIONS', 'BULK', 'SWEEPING', 'GARBAGE COLLECTIONS', 'RECYCLING - SINGLE STREAM', 'YARD TRIMMING', 'YARD TRIMMING', 'RECYCLING - SINGLE STREAM', 'RECYCLING - SINGLE STREAM', 'BRUSH', 'RECYCLING - SINGLE STREAM', 'SWEEPING', 'RECYCLING - SINGLE STREAM', 'GARBAGE COLLECTIONS', 'RECYCLING - SINGLE STREAM', 'RECYCLING - SINGLE STREAM', 'RECYCLING - SINGLE STREAM', 'GARBAGE COLLECTIONS', 'GARBAGE COLLECTIONS', 'RECYCLING - SINGLE STREAM', 'RECYCLING - SINGLE STREAM', 'GARBAGE COLLECTIONS', 'GARBAGE COLLECTIONS', 'YARD TRIMMING', 'GARBAGE COLLECTIONS', 'RECYCLING - SINGLE STREAM', 'GARBAGE COLLECTIONS', 'GARBAGE COLLECTIONS', 'YARD TRIMMING', 'RECYCLING - SINGLE STREAM', 'BULK', 'RECYCLING - SINGLE STREAM', 'RECYCLING - SINGLE STREAM', 'RECYCLING - SINGLE STREAM', 'GARBAGE COLLECTIONS', 'BRUSH', 'GARBAGE COLLECTIONS', 'RECYCLING - SINGLE STREAM', 'GARBAGE COLLECTIONS', 'RECYCLING - SINGLE STREAM', 'BULK', 'GARBAGE COLLECTIONS', 'GARBAGE COLLECTIONS', 'GARBAGE COLLECTIONS', 'GARBAGE COLLECTIONS', 'GARBAGE COLLECTIONS', 'GARBAGE COLLECTIONS', 'GARBAGE COLLECTIONS', 'GARBAGE COLLECTIONS', 'RECYCLING - SINGLE STREAM', 'BULK', 'GARBAGE COLLECTIONS', 'RECYCLING - SINGLE STREAM', 'GARBAGE COLLECTIONS', 'YARD TRIMMING', 'RECYCLING - SINGLE STREAM', 'RECYCLING - SINGLE STREAM', 'RECYCLING - SINGLE STREAM', 'GARBAGE COLLECTIONS', 'GARBAGE COLLECTIONS', 'RECYCLING - SINGLE STREAM', 'GARBAGE COLLECTIONS', 'RECYCLING - SINGLE STREAM', 'GARBAGE COLLECTIONS', 'YARD TRIMMING', 'RECYCLING - SINGLE STREAM', 'SWEEPING', 'GARBAGE COLLECTIONS', 'BULK', 'RECYCLING - SINGLE STREAM', 'GARBAGE COLLECTIONS', 'RECYCLING - SINGLE STREAM', 'GARBAGE COLLECTIONS', 'BULK', 'RECYCLING - SINGLE STREAM', 'GARBAGE COLLECTIONS', 'GARBAGE COLLECTIONS', 'YARD TRIMMING', 'GARBAGE COLLECTIONS', 'YARD TRIMMING', 'SWEEPING', 'RECYCLING - SINGLE STREAM', 'GARBAGE COLLECTIONS', 'RECYCLING - SINGLE STREAM', 'RECYCLING - SINGLE STREAM', 'GARBAGE COLLECTIONS', 'GARBAGE COLLECTIONS', 'YARD TRIMMING', 'GARBAGE COLLECTIONS', 'GARBAGE COLLECTIONS', 'GARBAGE COLLECTIONS', 'GARBAGE COLLECTIONS', 'YARD TRIMMING', 'YARD TRIMMING', 'YARD TRIMMING', 'RECYCLING - SINGLE STREAM', 'GARBAGE COLLECTIONS', 'YARD TRIMMING', 'RECYCLING - SINGLE STREAM', 'RECYCLING - SINGLE STREAM', 'YARD TRIMMING', 'BULK', 'BULK', 'GARBAGE COLLECTIONS', 'GARBAGE COLLECTIONS', 'RECYCLING - SINGLE STREAM', 'SWEEPING', 'RECYCLING - SINGLE STREAM', 'RECYCLING - SINGLE STREAM', 'GARBAGE COLLECTIONS', 'RECYCLING - SINGLE STREAM', 'YARD TRIMMING', 'RECYCLING - SINGLE STREAM', 'GARBAGE COLLECTIONS', 'RECYCLING - SINGLE STREAM', 'GARBAGE COLLECTIONS', 'GARBAGE COLLECTIONS', 'RECYCLING - SINGLE STREAM', 'SWEEPING', 'RECYCLING - SINGLE STREAM', 'RECYCLING - SINGLE STREAM', 'RECYCLING - SINGLE STREAM', 'GARBAGE COLLECTIONS', 'RECYCLING - SINGLE STREAM', 'BRUSH', 'RECYCLING - SINGLE STREAM', 'YARD TRIMMING', 'BULK', 'GARBAGE COLLECTIONS', 'GARBAGE COLLECTIONS', 'BRUSH', 'RECYCLING - SINGLE STREAM', 'BRUSH', 'GARBAGE COLLECTIONS', 'RECYCLING - SINGLE STREAM', 'YARD TRIMMING', 'RECYCLING - SINGLE STREAM', 'RECYCLING - SINGLE STREAM', 'SWEEPING', 'BRUSH', 'GARBAGE COLLECTIONS', 'GARBAGE COLLECTIONS', 'GARBAGE COLLECTIONS', 'RECYCLING - SINGLE STREAM', 'BRUSH', 'RECYCLING - SINGLE STREAM', 'RECYCLING - SINGLE STREAM', 'GARBAGE COLLECTIONS', 'GARBAGE COLLECTIONS', 'GARBAGE COLLECTIONS', 'YARD TRIMMING', 'GARBAGE COLLECTIONS', 'BULK', 'RECYCLING - SINGLE STREAM', 'RECYCLING - SINGLE STREAM', 'GARBAGE COLLECTIONS', 'RECYCLING - SINGLE STREAM', 'RECYCLING - SINGLE STREAM', 'RECYCLING - SINGLE STREAM', 'GARBAGE COLLECTIONS', 'YARD TRIMMING', 'RECYCLING - SINGLE STREAM', 'BULK', 'GARBAGE COLLECTIONS', 'RECYCLING - SINGLE STREAM', 'RECYCLING - SINGLE STREAM', 'RECYCLING - SINGLE STREAM', 'BULK', 'GARBAGE COLLECTIONS', 'BRUSH', 'BRUSH', 'RECYCLING - SINGLE STREAM', 'RECYCLING - SINGLE STREAM', 'YARD TRIMMING', 'GARBAGE COLLECTIONS', 'GARBAGE COLLECTIONS', 'BULK', 'GARBAGE COLLECTIONS', 'GARBAGE COLLECTIONS', 'RECYCLING - SINGLE STREAM', 'GARBAGE COLLECTIONS', 'RECYCLING - SINGLE STREAM', 'GARBAGE COLLECTIONS', 'GARBAGE COLLECTIONS', 'GARBAGE COLLECTIONS', 'GARBAGE COLLECTIONS', 'BULK', 'RECYCLING - SINGLE STREAM', 'BULK', 'GARBAGE COLLECTIONS', 'SWEEPING', 'BULK', 'RECYCLING - SINGLE STREAM', 'GARBAGE COLLECTIONS', 'RECYCLING - SINGLE STREAM', 'GARBAGE COLLECTIONS', 'GARBAGE COLLECTIONS', 'GARBAGE COLLECTIONS', 'YARD TRIMMING', 'GARBAGE COLLECTIONS', 'GARBAGE COLLECTIONS', 'GARBAGE COLLECTIONS', 'GARBAGE COLLECTIONS', 'RECYCLING - SINGLE STREAM', 'BULK', 'GARBAGE COLLECTIONS', 'RECYCLING - SINGLE STREAM', 'SWEEPING', 'RECYCLING - SINGLE STREAM', 'GARBAGE COLLECTIONS', 'RECYCLING - SINGLE STREAM', 'RECYCLING - SINGLE STREAM', 'YARD TRIMMING', 'GARBAGE COLLECTIONS', 'RECYCLING - SINGLE STREAM', 'RECYCLING - SINGLE STREAM', 'GARBAGE COLLECTIONS', 'RECYCLING - SINGLE STREAM', 'GARBAGE COLLECTIONS', 'GARBAGE COLLECTIONS', 'YARD TRIMMING', 'SWEEPING', 'BULK', 'YARD TRIMMING', 'GARBAGE COLLECTIONS', 'GARBAGE COLLECTIONS', 'GARBAGE COLLECTIONS', 'RECYCLING - SINGLE STREAM', 'DEAD ANIMAL', 'GARBAGE COLLECTIONS', 'GARBAGE COLLECTIONS', 'RECYCLING - SINGLE STREAM', 'RECYCLING - SINGLE STREAM', 'SWEEPING', 'GARBAGE COLLECTIONS', 'GARBAGE COLLECTIONS', 'LITTER', 'RECYCLING - SINGLE STREAM', 'GARBAGE COLLECTIONS', 'RECYCLING - SINGLE STREAM', 'DEAD ANIMAL', 'SWEEPING', 'RECYCLING - SINGLE STREAM', 'BULK', 'RECYCLING - SINGLE STREAM', 'RECYCLING - SINGLE STREAM', 'GARBAGE COLLECTIONS', 'GARBAGE COLLECTIONS', 'GARBAGE COLLECTIONS', 'YARD TRIMMING', 'YARD TRIMMING', 'YARD TRIMMING', 'GARBAGE COLLECTIONS', 'GARBAGE COLLECTIONS', 'GARBAGE COLLECTIONS', 'GARBAGE COLLECTIONS', 'RECYCLING - SINGLE STREAM', 'GARBAGE COLLECTIONS', 'BULK', 'RECYCLING - SINGLE STREAM', 'GARBAGE COLLECTIONS', 'BULK', 'BRUSH', 'YARD TRIMMING', 'RECYCLING - SINGLE STREAM', 'SWEEPING', 'YARD TRIMMING', 'GARBAGE COLLECTIONS', 'BULK', 'RECYCLING - SINGLE STREAM', 'RECYCLING - SINGLE STREAM', 'RECYCLING - SINGLE STREAM', 'GARBAGE COLLECTIONS', 'GARBAGE COLLECTIONS', 'BRUSH', 'RECYCLING - SINGLE STREAM', 'YARD TRIMMING', 'BULK', 'RECYCLING - SINGLE STREAM', 'GARBAGE COLLECTIONS', 'RECYCLING - SINGLE STREAM', 'GARBAGE COLLECTIONS', 'GARBAGE COLLECTIONS', 'BULK', 'RECYCLING - SINGLE STREAM', 'BULK', 'BULK', 'YARD TRIMMING', 'YARD TRIMMING', 'BULK', 'SWEEPING', 'SWEEPING', 'GARBAGE COLLECTIONS', 'BULK', 'YARD TRIMMING', 'GARBAGE COLLECTIONS', 'GARBAGE COLLECTIONS', 'RECYCLING - SINGLE STREAM', 'BRUSH', 'GARBAGE COLLECTIONS', 'RECYCLING - SINGLE STREAM', 'SWEEPING', 'BULK', 'GARBAGE COLLECTIONS', 'GARBAGE COLLECTIONS', 'SWEEPING', 'GARBAGE COLLECTIONS', 'GARBAGE COLLECTIONS', 'GARBAGE COLLECTIONS', 'GARBAGE COLLECTIONS', 'RECYCLING - SINGLE STREAM', 'GARBAGE COLLECTIONS', 'GARBAGE COLLECTIONS', 'RECYCLING - SINGLE STREAM', 'GARBAGE COLLECTIONS', 'YARD TRIMMING', 'YARD TRIMMING', 'GARBAGE COLLECTIONS', 'RECYCLING - SINGLE STREAM', 'RECYCLING - SINGLE STREAM', 'RECYCLING - SINGLE STREAM', 'RECYCLING - SINGLE STREAM', 'RECYCLING - SINGLE STREAM', 'RECYCLING - SINGLE STREAM', 'RECYCLING - SINGLE STREAM', 'YARD TRIMMING', 'RECYCLING - SINGLE STREAM', 'RECYCLING - SINGLE STREAM', 'GARBAGE COLLECTIONS', 'RECYCLING - SINGLE STREAM', 'GARBAGE COLLECTIONS', 'GARBAGE COLLECTIONS', 'RECYCLING - SINGLE STREAM', 'RECYCLING - SINGLE STREAM', 'GARBAGE COLLECTIONS', 'TIRES', 'YARD TRIMMING', 'RECYCLING - SINGLE STREAM', 'YARD TRIMMING', 'SWEEPING', 'GARBAGE COLLECTIONS', 'SWEEPING', 'RECYCLING - SINGLE STREAM', 'RECYCLING - SINGLE STREAM', 'BULK', 'GARBAGE COLLECTIONS', 'GARBAGE COLLECTIONS', 'RECYCLING - SINGLE STREAM', 'BRUSH', 'BULK', 'GARBAGE COLLECTIONS', 'DEAD ANIMAL', 'GARBAGE COLLECTIONS', 'RECYCLING - SINGLE STREAM', 'RECYCLING - SINGLE STREAM', 'GARBAGE COLLECTIONS', 'BULK', 'DEAD ANIMAL', 'SWEEPING', 'RECYCLING - SINGLE STREAM', 'RECYCLING - SINGLE STREAM', 'SWEEPING', 'RECYCLING - SINGLE STREAM', 'RECYCLING - SINGLE STREAM', 'RECYCLING - SINGLE STREAM', 'GARBAGE COLLECTIONS', 'SWEEPING', 'GARBAGE COLLECTIONS', 'GARBAGE COLLECTIONS', 'GARBAGE COLLECTIONS', 'RECYCLING - SINGLE STREAM', 'RECYCLING - SINGLE STREAM', 'GARBAGE COLLECTIONS', 'GARBAGE COLLECTIONS', 'RECYCLING - SINGLE STREAM', 'RECYCLING - SINGLE STREAM', 'BULK', 'RECYCLING - SINGLE STREAM', 'GARBAGE COLLECTIONS', 'RECYCLING - SINGLE STREAM', 'GARBAGE COLLECTIONS', 'RECYCLING - SINGLE STREAM', 'YARD TRIMMING', 'GARBAGE COLLECTIONS', 'SWEEPING', 'RECYCLING - SINGLE STREAM', 'RECYCLING - SINGLE STREAM', 'GARBAGE COLLECTIONS', 'YARD TRIMMING', 'RECYCLING - SINGLE STREAM', 'RECYCLING - SINGLE STREAM', 'RECYCLING - SINGLE STREAM', 'GARBAGE COLLECTIONS', 'RECYCLING - SINGLE STREAM', 'GARBAGE COLLECTIONS', 'RECYCLING - SINGLE STREAM', 'GARBAGE COLLECTIONS', 'RECYCLING - SINGLE STREAM', 'GARBAGE COLLECTIONS', 'GARBAGE COLLECTIONS', 'GARBAGE COLLECTIONS', 'GARBAGE COLLECTIONS', 'GARBAGE COLLECTIONS', 'YARD TRIMMING', 'DEAD ANIMAL', 'YARD TRIMMING', 'YARD TRIMMING', 'GARBAGE COLLECTIONS', 'RECYCLING - SINGLE STREAM', 'RECYCLING - SINGLE STREAM', 'RECYCLING - SINGLE STREAM', 'RECYCLING - SINGLE STREAM', 'BULK', 'GARBAGE COLLECTIONS', 'RECYCLING - SINGLE STREAM', 'RECYCLING - SINGLE STREAM', 'YARD TRIMMING', 'GARBAGE COLLECTIONS', 'GARBAGE COLLECTIONS', 'GARBAGE COLLECTIONS', 'GARBAGE COLLECTIONS', 'GARBAGE COLLECTIONS', 'GARBAGE COLLECTIONS', 'GARBAGE COLLECTIONS', 'SWEEPING', 'SWEEPING', 'SWEEPING', 'GARBAGE COLLECTIONS', 'YARD TRIMMING', 'RECYCLING - SINGLE STREAM', 'BRUSH', 'GARBAGE COLLECTIONS', 'BRUSH', 'RECYCLING - SINGLE STREAM', 'GARBAGE COLLECTIONS', 'GARBAGE COLLECTIONS', 'BRUSH', 'BULK', 'RECYCLING - SINGLE STREAM', 'GARBAGE COLLECTIONS', 'GARBAGE COLLECTIONS', 'RECYCLING - SINGLE STREAM', 'BULK', 'BRUSH', 'GARBAGE COLLECTIONS', 'GARBAGE COLLECTIONS', 'GARBAGE COLLECTIONS', 'GARBAGE COLLECTIONS', 'GARBAGE COLLECTIONS', 'YARD TRIMMING', 'SWEEPING', 'RECYCLING - SINGLE STREAM', 'RECYCLING - SINGLE STREAM', 'GARBAGE COLLECTIONS', 'BRUSH', 'GARBAGE COLLECTIONS', 'GARBAGE COLLECTIONS', 'BULK', 'GARBAGE COLLECTIONS', 'BRUSH', 'GARBAGE COLLECTIONS', 'GARBAGE COLLECTIONS', 'GARBAGE COLLECTIONS', 'GARBAGE COLLECTIONS', 'GARBAGE COLLECTIONS', 'LITTER', 'TIRES', 'GARBAGE COLLECTIONS', 'GARBAGE COLLECTIONS', 'GARBAGE COLLECTIONS', 'BULK', 'GARBAGE COLLECTIONS', 'SWEEPING', 'GARBAGE COLLECTIONS', 'GARBAGE COLLECTIONS', 'RECYCLING - SINGLE STREAM', 'YARD TRIMMING', 'BRUSH', 'RECYCLING - SINGLE STREAM', 'RECYCLING - SINGLE STREAM', 'RECYCLING - SINGLE STREAM', 'YARD TRIMMING', 'GARBAGE COLLECTIONS', 'GARBAGE COLLECTIONS', 'GARBAGE COLLECTIONS', 'GARBAGE COLLECTIONS', 'GARBAGE COLLECTIONS', 'BRUSH', 'SWEEPING', 'SWEEPING', 'YARD TRIMMING', 'BRUSH', 'SWEEPING', 'GARBAGE COLLECTIONS', 'BULK', 'GARBAGE COLLECTIONS', 'RECYCLING - SINGLE STREAM', 'GARBAGE COLLECTIONS', 'BULK', 'YARD TRIMMING', 'BULK', 'RECYCLING - SINGLE STREAM', 'RECYCLING - SINGLE STREAM', 'YARD TRIMMING', 'GARBAGE COLLECTIONS', 'RECYCLING - SINGLE STREAM', 'BULK', 'RECYCLING - SINGLE STREAM', 'YARD TRIMMING', 'BULK', 'YARD TRIMMING', 'SWEEPING', 'BRUSH', 'GARBAGE COLLECTIONS', 'RECYCLING - SINGLE STREAM', 'GARBAGE COLLECTIONS', 'RECYCLING - SINGLE STREAM', 'RECYCLING - SINGLE STREAM', 'RECYCLING - SINGLE STREAM', 'BRUSH', 'DEAD ANIMAL', 'GARBAGE COLLECTIONS', 'GARBAGE COLLECTIONS', 'RECYCLING - SINGLE STREAM', 'BULK', 'GARBAGE COLLECTIONS', 'RECYCLING - SINGLE STREAM', 'GARBAGE COLLECTIONS', 'GARBAGE COLLECTIONS', 'YARD TRIMMING', 'RECYCLING - SINGLE STREAM', 'GARBAGE COLLECTIONS', 'GARBAGE COLLECTIONS', 'GARBAGE COLLECTIONS', 'RECYCLING - SINGLE STREAM', 'GARBAGE COLLECTIONS', 'BULK', 'GARBAGE COLLECTIONS', 'RECYCLING - SINGLE STREAM', 'GARBAGE COLLECTIONS', 'GARBAGE COLLECTIONS', 'RECYCLING - SINGLE STREAM', 'GARBAGE COLLECTIONS', 'YARD TRIMMING', 'GARBAGE COLLECTIONS', 'GARBAGE COLLECTIONS', 'GARBAGE COLLECTIONS', 'RECYCLING - SINGLE STREAM', 'GARBAGE COLLECTIONS', 'YARD TRIMMING', 'GARBAGE COLLECTIONS', 'YARD TRIMMING', 'GARBAGE COLLECTIONS', 'RECYCLING - SINGLE STREAM', 'YARD TRIMMING']",
            "count": 1
           }
          ]
         }
        },
        {
         "name": "Load Weight",
         "dtype": "float64",
         "stats": {
          "unique_count": 2,
          "nan_count": 0,
          "min": "5864992.0",
          "max": "9650424.0",
          "histogram": [
           {
            "bin_start": 5864992,
            "bin_end": 6243535.2,
            "count": 1
           },
           {
            "bin_start": 6243535.2,
            "bin_end": 6622078.4,
            "count": 0
           },
           {
            "bin_start": 6622078.4,
            "bin_end": 7000621.6,
            "count": 0
           },
           {
            "bin_start": 7000621.6,
            "bin_end": 7379164.8,
            "count": 0
           },
           {
            "bin_start": 7379164.8,
            "bin_end": 7757708,
            "count": 0
           },
           {
            "bin_start": 7757708,
            "bin_end": 8136251.2,
            "count": 0
           },
           {
            "bin_start": 8136251.2,
            "bin_end": 8514794.4,
            "count": 0
           },
           {
            "bin_start": 8514794.4,
            "bin_end": 8893337.6,
            "count": 0
           },
           {
            "bin_start": 8893337.6,
            "bin_end": 9271880.8,
            "count": 0
           },
           {
            "bin_start": 9271880.8,
            "bin_end": 9650424,
            "count": 1
           }
          ]
         }
        },
        {
         "name": "Dropoff Site",
         "dtype": "object",
         "stats": {
          "unique_count": 2,
          "nan_count": 0,
          "categories": [
           {
            "name": "['HORNSBY BEND', 'HORNSBY BEND', 'HORNSBY BEND', 'BALCONES RECYCLING', 'HORNSBY BEND', 'BALCONES RECYCLING', 'BALCONES RECYCLING', 'BALCONES RECYCLING', 'TDS LANDFILL', 'TDS LANDFILL', 'HORNSBY BEND', 'TDS LANDFILL', 'BALCONES RECYCLING', 'TDS LANDFILL', 'TDS LANDFILL', 'TDS LANDFILL', 'BALCONES RECYCLING', 'BALCONES RECYCLING', 'TDS LANDFILL', 'HORNSBY BEND', 'TDS LANDFILL', 'HORNSBY BEND', 'BALCONES RECYCLING', 'TDS LANDFILL', 'TDS LANDFILL', 'TDS LANDFILL', 'TDS LANDFILL', 'BALCONES RECYCLING', 'TDS LANDFILL', 'TDS LANDFILL', 'TDS LANDFILL', 'TDS LANDFILL', 'TDS LANDFILL', 'BALCONES RECYCLING', 'TDS LANDFILL', 'BALCONES RECYCLING', 'TDS LANDFILL', 'BALCONES RECYCLING', 'HORNSBY BEND', 'TDS LANDFILL', 'BALCONES RECYCLING', 'BALCONES RECYCLING', 'TDS LANDFILL', 'TDS LANDFILL', 'TDS LANDFILL', 'TDS LANDFILL', 'BALCONES RECYCLING', 'BALCONES RECYCLING', 'BALCONES RECYCLING', 'TDS LANDFILL', 'TDS LANDFILL', 'TDS LANDFILL', 'TDS LANDFILL', 'BALCONES RECYCLING', 'BALCONES RECYCLING', 'TDS LANDFILL', 'BALCONES RECYCLING', 'TDS LANDFILL', 'HORNSBY BEND', 'BALCONES RECYCLING', 'TDS LANDFILL', 'TDS LANDFILL', 'BALCONES RECYCLING', 'TDS LANDFILL', 'BALCONES RECYCLING', 'HORNSBY BEND', 'HORNSBY BEND', 'TDS LANDFILL', 'TDS LANDFILL', 'BALCONES RECYCLING', 'BALCONES RECYCLING', 'TDS LANDFILL', 'TDS LANDFILL', 'BALCONES RECYCLING', 'TDS LANDFILL', 'TDS LANDFILL', 'HORNSBY BEND', 'BALCONES RECYCLING', 'TDS LANDFILL', 'TDS LANDFILL', 'HORNSBY BEND', 'TDS LANDFILL', 'TDS LANDFILL', 'HORNSBY BEND', 'TDS LANDFILL', 'TDS LANDFILL', 'BALCONES RECYCLING', 'TDS LANDFILL', 'TDS LANDFILL', 'HORNSBY BEND', 'BALCONES RECYCLING', 'TDS LANDFILL', 'BALCONES RECYCLING', 'TDS LANDFILL', 'HORNSBY BEND', 'TDS LANDFILL', 'TDS LANDFILL', 'TDS LANDFILL', 'HORNSBY BEND', 'TDS LANDFILL', 'HORNSBY BEND', 'TDS LANDFILL', 'BALCONES RECYCLING', 'BALCONES RECYCLING', 'BALCONES RECYCLING', 'BALCONES RECYCLING', 'HORNSBY BEND', 'HORNSBY BEND', 'HORNSBY BEND', 'TDS LANDFILL', 'BALCONES RECYCLING', 'TDS LANDFILL', 'TDS LANDFILL', 'TDS LANDFILL', 'TDS LANDFILL', 'BALCONES RECYCLING', 'TDS LANDFILL', 'HORNSBY BEND', 'TDS LANDFILL', 'ORGANICS BY GOSH', 'HORNSBY BEND', 'TDS LANDFILL', 'BALCONES RECYCLING', 'TDS LANDFILL', 'HORNSBY BEND', 'TDS LANDFILL', 'HORNSBY BEND', 'TDS LANDFILL', 'TDS LANDFILL', 'BALCONES RECYCLING', 'TDS LANDFILL', 'TDS LANDFILL', 'TDS LANDFILL', 'TDS LANDFILL', 'TDS LANDFILL', 'HORNSBY BEND', 'TDS LANDFILL', 'TDS LANDFILL', 'TDS LANDFILL', 'TDS LANDFILL', 'TDS LANDFILL', 'HORNSBY BEND', 'BALCONES RECYCLING', 'TDS LANDFILL', 'HORNSBY BEND', 'TDS LANDFILL', 'HORNSBY BEND', 'BALCONES RECYCLING', 'TDS LANDFILL', 'BALCONES RECYCLING', 'TDS LANDFILL', 'TDS LANDFILL', 'TDS LANDFILL', 'BALCONES RECYCLING', 'HORNSBY BEND', 'BALCONES RECYCLING', 'TDS LANDFILL', 'BALCONES RECYCLING', 'BALCONES RECYCLING', 'TDS LANDFILL', 'BALCONES RECYCLING', 'TDS LANDFILL', 'HORNSBY BEND', 'TDS LANDFILL', 'TDS LANDFILL', 'HORNSBY BEND', 'HORNSBY BEND', 'BALCONES RECYCLING', 'BALCONES RECYCLING', 'HORNSBY BEND', 'TDS LANDFILL', 'BALCONES RECYCLING', 'HORNSBY BEND', 'BALCONES RECYCLING', 'HORNSBY BEND', 'TDS LANDFILL', 'TDS LANDFILL', 'HORNSBY BEND', 'TDS LANDFILL', 'TDS LANDFILL', 'TDS LANDFILL', 'BALCONES RECYCLING', 'HORNSBY BEND', 'TDS LANDFILL', 'BALCONES RECYCLING', 'TDS LANDFILL', 'BALCONES RECYCLING', 'TDS LANDFILL', 'TDS LANDFILL', 'TDS LANDFILL', 'BALCONES RECYCLING', 'HORNSBY BEND', 'TDS LANDFILL', 'HORNSBY BEND', 'BALCONES RECYCLING', 'BALCONES RECYCLING', 'HORNSBY BEND', 'BALCONES RECYCLING', 'HORNSBY BEND', 'BALCONES RECYCLING', 'TDS LANDFILL', 'BALCONES RECYCLING', 'TDS LANDFILL', 'BALCONES RECYCLING', 'HORNSBY BEND', 'BALCONES RECYCLING', 'HORNSBY BEND', 'TDS LANDFILL', 'TDS LANDFILL', 'TDS LANDFILL', 'BALCONES RECYCLING', 'BALCONES RECYCLING', 'BALCONES RECYCLING', 'HORNSBY BEND', 'TDS LANDFILL', 'BALCONES RECYCLING', 'TDS LANDFILL', 'HORNSBY BEND', 'BALCONES RECYCLING', 'BALCONES RECYCLING', 'BALCONES RECYCLING', 'TDS LANDFILL', 'TDS LANDFILL', 'TDS LANDFILL', 'TDS LANDFILL', 'BALCONES RECYCLING', 'TDS LANDFILL', 'TDS LANDFILL', 'BALCONES RECYCLING', 'ORGANICS BY GOSH', 'TDS LANDFILL', 'BALCONES RECYCLING', 'TDS LANDFILL', 'TDS LANDFILL', 'TDS LANDFILL', 'TDS LANDFILL', 'BALCONES RECYCLING', 'HORNSBY BEND', 'TDS LANDFILL', 'TDS - MRF', 'HORNSBY BEND', 'BALCONES RECYCLING', 'BALCONES RECYCLING', 'TDS LANDFILL', 'BALCONES RECYCLING', 'BALCONES RECYCLING', 'TDS LANDFILL', 'TDS LANDFILL', 'TDS LANDFILL', 'HORNSBY BEND', 'TDS LANDFILL', 'TDS LANDFILL', 'TDS LANDFILL', 'BALCONES RECYCLING', 'TDS LANDFILL', 'TDS LANDFILL', 'TDS LANDFILL', 'TDS LANDFILL', 'BALCONES RECYCLING', 'TDS LANDFILL', 'TDS LANDFILL', 'BALCONES RECYCLING', 'BALCONES RECYCLING', 'HORNSBY BEND', 'TDS LANDFILL', 'TDS LANDFILL', 'HORNSBY BEND', 'TDS LANDFILL', 'TDS LANDFILL', 'TDS LANDFILL', 'TDS LANDFILL', 'TDS LANDFILL', 'BALCONES RECYCLING', 'BALCONES RECYCLING', 'TDS LANDFILL', 'BALCONES RECYCLING', 'HORNSBY BEND', 'TDS LANDFILL', 'TDS LANDFILL', 'BALCONES RECYCLING', 'BALCONES RECYCLING', 'TDS LANDFILL', 'HORNSBY BEND', 'HORNSBY BEND', 'TDS LANDFILL', 'TDS LANDFILL', 'BALCONES RECYCLING', 'HORNSBY BEND', 'TDS LANDFILL', 'TDS LANDFILL', 'BALCONES RECYCLING', 'TDS LANDFILL', 'TDS LANDFILL', 'TDS LANDFILL', 'BALCONES RECYCLING', 'HORNSBY BEND', 'TDS LANDFILL', 'TDS LANDFILL', 'HORNSBY BEND', 'HORNSBY BEND', 'BALCONES RECYCLING', 'BALCONES RECYCLING', 'BALCONES RECYCLING', 'HORNSBY BEND', 'TDS LANDFILL', 'TDS LANDFILL', 'BALCONES RECYCLING', 'TDS LANDFILL', 'TDS LANDFILL', 'TDS LANDFILL', 'TDS LANDFILL', 'TDS LANDFILL', 'TDS LANDFILL', 'ORGANICS BY GOSH', 'BALCONES RECYCLING', 'TDS LANDFILL', 'HORNSBY BEND', 'BALCONES RECYCLING', 'BALCONES RECYCLING', 'HORNSBY BEND', 'BALCONES RECYCLING', 'TDS LANDFILL', 'HORNSBY BEND', 'ORGANICS BY GOSH', 'BALCONES RECYCLING', 'BALCONES RECYCLING', 'HORNSBY BEND', 'TDS LANDFILL', 'TDS LANDFILL', 'BALCONES RECYCLING', 'BALCONES RECYCLING', 'TDS LANDFILL', 'TDS LANDFILL', 'BALCONES RECYCLING', 'TDS LANDFILL', 'TDS LANDFILL', 'BALCONES RECYCLING', 'TDS LANDFILL', 'BALCONES RECYCLING', 'HORNSBY BEND', 'BALCONES RECYCLING', 'BALCONES RECYCLING', 'HORNSBY BEND', 'BALCONES RECYCLING', 'BALCONES RECYCLING', 'BALCONES RECYCLING', 'BALCONES RECYCLING', 'TDS LANDFILL', 'HORNSBY BEND', 'TDS LANDFILL', 'BALCONES RECYCLING', 'TDS LANDFILL', 'TDS LANDFILL', 'HORNSBY BEND', 'MRF', 'TDS LANDFILL', 'TDS LANDFILL', 'TDS LANDFILL', 'TDS LANDFILL', 'TDS LANDFILL', 'BALCONES RECYCLING', 'TDS LANDFILL', 'BALCONES RECYCLING', 'BALCONES RECYCLING', 'BALCONES RECYCLING', 'TDS LANDFILL', 'TDS LANDFILL', 'HORNSBY BEND', 'HORNSBY BEND', 'BALCONES RECYCLING', 'BALCONES RECYCLING', 'BALCONES RECYCLING', 'BALCONES RECYCLING', 'TDS LANDFILL', 'TDS LANDFILL', 'BALCONES RECYCLING', 'BALCONES RECYCLING', 'TDS LANDFILL', 'TDS LANDFILL', 'HORNSBY BEND', 'HORNSBY BEND', 'BALCONES RECYCLING', 'BALCONES RECYCLING', 'BALCONES RECYCLING', 'BALCONES RECYCLING', 'TDS LANDFILL', 'BALCONES RECYCLING', 'ORGANICS BY GOSH', 'HORNSBY BEND', 'TDS LANDFILL', 'BALCONES RECYCLING', 'BALCONES RECYCLING', 'BALCONES RECYCLING', 'TDS LANDFILL', 'BALCONES RECYCLING', 'BALCONES RECYCLING', 'HORNSBY BEND', 'TDS LANDFILL', 'BALCONES RECYCLING', 'TDS LANDFILL', 'BALCONES RECYCLING', 'TDS LANDFILL', 'TDS LANDFILL', 'HORNSBY BEND', 'TDS LANDFILL', 'BALCONES RECYCLING', 'HORNSBY BEND', 'BALCONES RECYCLING', 'TDS LANDFILL', 'HORNSBY BEND', 'BALCONES RECYCLING', 'TDS LANDFILL', 'TDS LANDFILL', 'TDS LANDFILL', 'TDS LANDFILL', 'TDS LANDFILL', 'TDS LANDFILL', 'TDS LANDFILL', 'TDS LANDFILL', 'BALCONES RECYCLING', 'TDS LANDFILL', 'HORNSBY BEND', 'BALCONES RECYCLING', 'TDS LANDFILL', 'BALCONES RECYCLING', 'TDS LANDFILL', 'TDS LANDFILL', 'TDS LANDFILL', 'TDS LANDFILL', 'HORNSBY BEND', 'HORNSBY BEND', 'TDS LANDFILL', 'TDS LANDFILL']",
            "count": 1
           },
           {
            "name": "['TDS LANDFILL', 'TDS LANDFILL', 'TDS LANDFILL', 'TDS LANDFILL', 'BALCONES RECYCLING', 'TDS LANDFILL', 'TDS LANDFILL', 'BALCONES RECYCLING', 'TDS LANDFILL', 'BALCONES RECYCLING', 'TDS LANDFILL', 'MRF', 'TDS LANDFILL', 'TDS LANDFILL', 'BALCONES RECYCLING', 'TDS LANDFILL', 'BALCONES RECYCLING', 'BALCONES RECYCLING', 'TDS - MRF', 'TDS LANDFILL', 'TDS LANDFILL', 'TDS LANDFILL', 'HORNSBY BEND', 'HORNSBY BEND', 'BALCONES RECYCLING', 'ORGANICS BY GOSH', 'BALCONES RECYCLING', 'HORNSBY BEND', 'BALCONES RECYCLING', 'TDS - MRF', 'HORNSBY BEND', 'ORGANICS BY GOSH', 'TDS LANDFILL', 'TDS LANDFILL', 'TDS LANDFILL', 'TDS - MRF', 'BALCONES RECYCLING', 'TDS LANDFILL', 'HORNSBY BEND', 'TDS LANDFILL', 'TDS LANDFILL', 'TDS LANDFILL', 'TDS LANDFILL', 'HORNSBY BEND', 'TDS LANDFILL', 'TDS LANDFILL', 'TDS LANDFILL', 'BALCONES RECYCLING', 'TDS LANDFILL', 'TDS LANDFILL', 'BALCONES RECYCLING', 'TDS LANDFILL', 'HORNSBY BEND', 'TDS LANDFILL', 'TDS LANDFILL', 'TDS LANDFILL', 'TDS LANDFILL', 'HORNSBY BEND', 'HORNSBY BEND', 'HORNSBY BEND', 'BALCONES RECYCLING', 'HORNSBY BEND', 'TDS LANDFILL', 'TDS LANDFILL', 'TDS LANDFILL', 'TDS LANDFILL', 'TDS LANDFILL', 'TDS LANDFILL', 'TDS - MRF', 'TDS LANDFILL', 'TDS LANDFILL', 'BALCONES RECYCLING', 'BALCONES RECYCLING', 'TDS LANDFILL', 'TDS LANDFILL', 'TDS LANDFILL', 'TDS LANDFILL', 'TDS LANDFILL', 'HORNSBY BEND', 'BALCONES RECYCLING', 'TDS LANDFILL', 'TDS LANDFILL', 'TDS LANDFILL', 'TDS LANDFILL', 'TDS LANDFILL', 'TDS LANDFILL', 'HORNSBY BEND', 'BALCONES RECYCLING', 'TDS - MRF', 'BALCONES RECYCLING', 'TDS LANDFILL', 'BALCONES RECYCLING', 'BALCONES RECYCLING', 'HORNSBY BEND', 'BALCONES RECYCLING', 'TDS LANDFILL', 'TDS LANDFILL', 'TDS - MRF', 'TDS LANDFILL', 'TDS - MRF', 'TDS LANDFILL', 'TDS LANDFILL', 'HORNSBY BEND', 'TDS LANDFILL', 'HORNSBY BEND', 'TDS LANDFILL', 'TDS LANDFILL', 'BALCONES RECYCLING', 'HORNSBY BEND', 'TDS LANDFILL', 'TDS LANDFILL', 'BALCONES RECYCLING', 'TDS LANDFILL', 'TDS - MRF', 'TDS - MRF', 'HORNSBY BEND', 'BALCONES RECYCLING', 'TDS - MRF', 'BALCONES RECYCLING', 'BALCONES RECYCLING', 'TDS LANDFILL', 'TDS LANDFILL', 'TDS LANDFILL', 'TDS LANDFILL', 'TDS LANDFILL', 'TDS LANDFILL', 'TDS LANDFILL', 'TDS LANDFILL', 'TDS LANDFILL', 'TDS LANDFILL', 'BALCONES RECYCLING', 'TDS LANDFILL', 'HORNSBY BEND', 'TDS LANDFILL', 'TDS LANDFILL', 'TDS LANDFILL', 'TDS LANDFILL', 'TDS LANDFILL', 'TDS LANDFILL', 'TDS LANDFILL', 'TDS LANDFILL', 'BALCONES RECYCLING', 'TDS LANDFILL', 'HORNSBY BEND', 'BALCONES RECYCLING', 'TDS LANDFILL', 'TDS LANDFILL', 'TDS LANDFILL', 'TDS LANDFILL', 'TDS - MRF', 'HORNSBY BEND', 'TDS LANDFILL', 'TDS - MRF', 'TDS LANDFILL', 'TDS LANDFILL', 'TDS - MRF', 'TDS LANDFILL', 'TDS LANDFILL', 'BALCONES RECYCLING', 'HORNSBY BEND', 'HORNSBY BEND', 'TDS LANDFILL', 'TDS LANDFILL', 'TDS LANDFILL', 'TDS LANDFILL', 'TDS LANDFILL', 'TDS LANDFILL', 'BALCONES RECYCLING', 'TDS LANDFILL', 'ORGANICS BY GOSH', 'BALCONES RECYCLING', 'TDS - MRF', 'BALCONES RECYCLING', 'HORNSBY BEND', 'TDS LANDFILL', 'BALCONES RECYCLING', 'TDS LANDFILL', 'TDS LANDFILL', 'TDS - MRF', 'TDS LANDFILL', 'BALCONES RECYCLING', 'TDS LANDFILL', 'BALCONES RECYCLING', 'HORNSBY BEND', 'HORNSBY BEND', 'BALCONES RECYCLING', 'HORNSBY BEND', 'TDS LANDFILL', 'TDS - MRF', 'BALCONES RECYCLING', 'HORNSBY BEND', 'TDS LANDFILL', 'TDS - MRF', 'TDS LANDFILL', 'TDS LANDFILL', 'TDS LANDFILL', 'TDS LANDFILL', 'TDS LANDFILL', 'BALCONES RECYCLING', 'TDS LANDFILL', 'HORNSBY BEND', 'TDS LANDFILL', 'TDS LANDFILL', 'BALCONES RECYCLING', 'TDS LANDFILL', 'TDS LANDFILL', 'TDS LANDFILL', 'TDS - MRF', 'TDS LANDFILL', 'TDS LANDFILL', 'TDS LANDFILL', 'BALCONES RECYCLING', 'TDS - MRF', 'HORNSBY BEND', 'HORNSBY BEND', 'TDS LANDFILL', 'HORNSBY BEND', 'TDS - MRF', 'TDS LANDFILL', 'TDS - MRF', 'TDS - MRF', 'TDS LANDFILL', 'BALCONES RECYCLING', 'BALCONES RECYCLING', 'BALCONES RECYCLING', 'TDS LANDFILL', 'BALCONES RECYCLING', 'TDS LANDFILL', 'TDS LANDFILL', 'HORNSBY BEND', 'TDS LANDFILL', 'TDS LANDFILL', 'TDS LANDFILL', 'TDS LANDFILL', 'TDS LANDFILL', 'TDS LANDFILL', 'TDS LANDFILL', 'TDS LANDFILL', 'TDS LANDFILL', 'BALCONES RECYCLING', 'HORNSBY BEND', 'HORNSBY BEND', 'BALCONES RECYCLING', 'BALCONES RECYCLING', 'HORNSBY BEND', 'TDS - MRF', 'TDS LANDFILL', 'TDS - MRF', 'TDS LANDFILL', 'TDS - MRF', 'TDS - MRF', 'TDS - MRF', 'TDS LANDFILL', 'TDS LANDFILL', 'TDS - MRF', 'TDS - MRF', 'TDS LANDFILL', 'TDS LANDFILL', 'HORNSBY BEND', 'TDS LANDFILL', 'TDS - MRF', 'TDS LANDFILL', 'TDS LANDFILL', 'HORNSBY BEND', 'TDS - MRF', 'TDS LANDFILL', 'BALCONES RECYCLING', 'BALCONES RECYCLING', 'TDS - MRF', 'TDS LANDFILL', 'HORNSBY BEND', 'TDS LANDFILL', 'TDS - MRF', 'TDS LANDFILL', 'TDS - MRF', 'TDS LANDFILL', 'TDS LANDFILL', 'TDS LANDFILL', 'TDS LANDFILL', 'TDS LANDFILL', 'TDS LANDFILL', 'TDS LANDFILL', 'TDS LANDFILL', 'TDS LANDFILL', 'BALCONES RECYCLING', 'TDS LANDFILL', 'TDS LANDFILL', 'BALCONES RECYCLING', 'TDS LANDFILL', 'HORNSBY BEND', 'TDS - MRF', 'BALCONES RECYCLING', 'BALCONES RECYCLING', 'TDS LANDFILL', 'TDS LANDFILL', 'TDS - MRF', 'TDS LANDFILL', 'BALCONES RECYCLING', 'TDS LANDFILL', 'HORNSBY BEND', 'TDS - MRF', 'TDS LANDFILL', 'TDS LANDFILL', 'TDS LANDFILL', 'BALCONES RECYCLING', 'TDS LANDFILL', 'TDS - MRF', 'TDS LANDFILL', 'TDS LANDFILL', 'TDS - MRF', 'TDS LANDFILL', 'TDS LANDFILL', 'HORNSBY BEND', 'TDS LANDFILL', 'HORNSBY BEND', 'TDS LANDFILL', 'BALCONES RECYCLING', 'TDS LANDFILL', 'BALCONES RECYCLING', 'BALCONES RECYCLING', 'TDS LANDFILL', 'TDS LANDFILL', 'HORNSBY BEND', 'TDS LANDFILL', 'TDS LANDFILL', 'TDS LANDFILL', 'TDS LANDFILL', 'HORNSBY BEND', 'HORNSBY BEND', 'HORNSBY BEND', 'TDS - MRF', 'TDS LANDFILL', 'HORNSBY BEND', 'TDS - MRF', 'BALCONES RECYCLING', 'HORNSBY BEND', 'TDS LANDFILL', 'TDS LANDFILL', 'TDS LANDFILL', 'TDS LANDFILL', 'TDS - MRF', 'TDS LANDFILL', 'BALCONES RECYCLING', 'BALCONES RECYCLING', 'TDS LANDFILL', 'TDS - MRF', 'HORNSBY BEND', 'TDS - MRF', 'TDS LANDFILL', 'TDS - MRF', 'TDS LANDFILL', 'TDS LANDFILL', 'TDS - MRF', 'TDS LANDFILL', 'TDS - MRF', 'BALCONES RECYCLING', 'BALCONES RECYCLING', 'TDS LANDFILL', 'BALCONES RECYCLING', 'HORNSBY BEND', 'BALCONES RECYCLING', 'HORNSBY BEND', 'TDS LANDFILL', 'TDS LANDFILL', 'TDS LANDFILL', 'HORNSBY BEND', 'BALCONES RECYCLING', 'HORNSBY BEND', 'TDS LANDFILL', 'BALCONES RECYCLING', 'HORNSBY BEND', 'BALCONES RECYCLING', 'BALCONES RECYCLING', 'TDS LANDFILL', 'HORNSBY BEND', 'TDS LANDFILL', 'TDS LANDFILL', 'TDS LANDFILL', 'TDS - MRF', 'HORNSBY BEND', 'TDS - MRF', 'BALCONES RECYCLING', 'TDS LANDFILL', 'TDS LANDFILL', 'TDS LANDFILL', 'HORNSBY BEND', 'TDS LANDFILL', 'TDS LANDFILL', 'TDS - MRF', 'BALCONES RECYCLING', 'TDS LANDFILL', 'BALCONES RECYCLING', 'BALCONES RECYCLING', 'BALCONES RECYCLING', 'TDS LANDFILL', 'HORNSBY BEND', 'BALCONES RECYCLING', 'TDS LANDFILL', 'TDS LANDFILL', 'BALCONES RECYCLING', 'BALCONES RECYCLING', 'BALCONES RECYCLING', 'TDS LANDFILL', 'TDS LANDFILL', 'HORNSBY BEND', 'HORNSBY BEND', 'TDS - MRF', 'TDS - MRF', 'ORGANICS BY GOSH', 'TDS LANDFILL', 'TDS LANDFILL', 'TDS LANDFILL', 'TDS LANDFILL', 'TDS LANDFILL', 'TDS - MRF', 'TDS LANDFILL', 'TDS - MRF', 'TDS LANDFILL', 'TDS LANDFILL', 'TDS LANDFILL', 'TDS LANDFILL', 'TDS LANDFILL', 'BALCONES RECYCLING', 'TDS LANDFILL', 'TDS LANDFILL', 'TDS LANDFILL', 'TDS LANDFILL', 'BALCONES RECYCLING', 'TDS LANDFILL', 'BALCONES RECYCLING', 'TDS LANDFILL', 'TDS LANDFILL', 'TDS LANDFILL', 'HORNSBY BEND', 'TDS LANDFILL', 'TDS LANDFILL', 'TDS LANDFILL', 'TDS LANDFILL', 'BALCONES RECYCLING', 'TDS LANDFILL', 'TDS LANDFILL', 'BALCONES RECYCLING', 'TDS LANDFILL', 'TDS - MRF', 'TDS LANDFILL', 'BALCONES WOODS', 'BALCONES RECYCLING', 'HORNSBY BEND', 'TDS LANDFILL', 'TDS - MRF', 'TDS - MRF', 'TDS LANDFILL', 'BALCONES RECYCLING', 'TDS LANDFILL', 'TDS LANDFILL', 'HORNSBY BEND', 'TDS LANDFILL', 'TDS LANDFILL', 'HORNSBY BEND', 'TDS LANDFILL', 'TDS LANDFILL', 'TDS LANDFILL', 'TDS - MRF', 'TDS LANDFILL', 'TDS LANDFILL', 'TDS LANDFILL', 'TDS - MRF', 'BALCONES RECYCLING', 'TDS LANDFILL', 'TDS LANDFILL', 'TDS LANDFILL', 'TDS LANDFILL', 'BALCONES RECYCLING', 'TDS LANDFILL', 'BALCONES RECYCLING', 'TDS LANDFILL', 'TDS LANDFILL', 'BALCONES RECYCLING', 'TDS LANDFILL', 'BALCONES RECYCLING', 'BALCONES RECYCLING', 'TDS LANDFILL', 'TDS LANDFILL', 'TDS LANDFILL', 'HORNSBY BEND', 'HORNSBY BEND', 'HORNSBY BEND', 'TDS LANDFILL', 'TDS LANDFILL', 'TDS LANDFILL', 'TDS LANDFILL', 'BALCONES RECYCLING', 'TDS LANDFILL', 'TDS LANDFILL', 'BALCONES RECYCLING', 'TDS LANDFILL', 'TDS LANDFILL', 'HORNSBY BEND', 'HORNSBY BEND', 'TDS - MRF', 'TDS LANDFILL', 'ORGANICS BY GOSH', 'TDS LANDFILL', 'TDS LANDFILL', 'BALCONES RECYCLING', 'BALCONES RECYCLING', 'TDS - MRF', 'TDS LANDFILL', 'TDS LANDFILL', 'HORNSBY BEND', 'TDS - MRF', 'HORNSBY BEND', 'TDS LANDFILL', 'BALCONES RECYCLING', 'TDS LANDFILL', 'BALCONES RECYCLING', 'TDS LANDFILL', 'TDS LANDFILL', 'TDS LANDFILL', 'TDS - MRF', 'TDS LANDFILL', 'TDS LANDFILL', 'HORNSBY BEND', 'HORNSBY BEND', 'TDS LANDFILL', 'TDS LANDFILL', 'TDS LANDFILL', 'TDS LANDFILL', 'TDS LANDFILL', 'HORNSBY BEND', 'TDS LANDFILL', 'TDS LANDFILL', 'BALCONES RECYCLING', 'HORNSBY BEND', 'TDS LANDFILL', 'BALCONES RECYCLING', 'TDS LANDFILL', 'TDS LANDFILL', 'TDS LANDFILL', 'TDS LANDFILL', 'TDS LANDFILL', 'TDS LANDFILL', 'TDS LANDFILL', 'TDS LANDFILL', 'TDS LANDFILL', 'TDS - MRF', 'TDS LANDFILL', 'TDS LANDFILL', 'TDS - MRF', 'TDS LANDFILL', 'HORNSBY BEND', 'HORNSBY BEND', 'TDS LANDFILL', 'BALCONES RECYCLING', 'TDS - MRF', 'BALCONES RECYCLING', 'BALCONES RECYCLING', 'TDS - MRF', 'TDS - MRF', 'TDS - MRF', 'HORNSBY BEND', 'TDS - MRF', 'BALCONES RECYCLING', 'TDS LANDFILL', 'BALCONES RECYCLING', 'TDS LANDFILL', 'TDS LANDFILL', 'BALCONES RECYCLING', 'TDS - MRF', 'TDS LANDFILL', 'MRF', 'HORNSBY BEND', 'BALCONES RECYCLING', 'HORNSBY BEND', 'TDS LANDFILL', 'TDS LANDFILL', 'TDS LANDFILL', 'TDS - MRF', 'BALCONES RECYCLING', 'TDS LANDFILL', 'TDS LANDFILL', 'TDS LANDFILL', 'BALCONES RECYCLING', 'HORNSBY BEND', 'TDS LANDFILL', 'TDS LANDFILL', 'TDS LANDFILL', 'TDS LANDFILL', 'BALCONES RECYCLING', 'TDS - MRF', 'TDS LANDFILL', 'TDS LANDFILL', 'TDS LANDFILL', 'TDS LANDFILL', 'TDS - MRF', 'BALCONES RECYCLING', 'TDS LANDFILL', 'TDS - MRF', 'TDS - MRF', 'BALCONES RECYCLING', 'TDS LANDFILL', 'TDS LANDFILL', 'TDS LANDFILL', 'TDS LANDFILL', 'TDS LANDFILL', 'BALCONES RECYCLING', 'TDS - MRF', 'TDS LANDFILL', 'TDS LANDFILL', 'BALCONES RECYCLING', 'BALCONES RECYCLING', 'TDS LANDFILL', 'TDS - MRF', 'TDS LANDFILL', 'BALCONES RECYCLING', 'TDS LANDFILL', 'BALCONES RECYCLING', 'HORNSBY BEND', 'TDS LANDFILL', 'TDS LANDFILL', 'BALCONES RECYCLING', 'TDS - MRF', 'TDS LANDFILL', 'HORNSBY BEND', 'TDS - MRF', 'BALCONES RECYCLING', 'TDS - MRF', 'TDS LANDFILL', 'BALCONES RECYCLING', 'TDS LANDFILL', 'TDS - MRF', 'TDS LANDFILL', 'TDS - MRF', 'TDS LANDFILL', 'TDS LANDFILL', 'TDS LANDFILL', 'TDS LANDFILL', 'TDS LANDFILL', 'HORNSBY BEND', 'TDS LANDFILL', 'HORNSBY BEND', 'HORNSBY BEND', 'TDS LANDFILL', 'BALCONES RECYCLING', 'TDS - MRF', 'BALCONES RECYCLING', 'BALCONES RECYCLING', 'TDS LANDFILL', 'TDS LANDFILL', 'TDS - MRF', 'BALCONES RECYCLING', 'HORNSBY BEND', 'TDS LANDFILL', 'TDS LANDFILL', 'TDS LANDFILL', 'TDS LANDFILL', 'TDS LANDFILL', 'TDS LANDFILL', 'TDS LANDFILL', 'TDS LANDFILL', 'TDS LANDFILL', 'TDS LANDFILL', 'TDS LANDFILL', 'HORNSBY BEND', 'TDS - MRF', 'HORNSBY BEND', 'TDS LANDFILL', 'HORNSBY BEND', 'BALCONES RECYCLING', 'TDS LANDFILL', 'TDS LANDFILL', 'HORNSBY BEND', 'TDS LANDFILL', 'TDS - MRF', 'TDS LANDFILL', 'TDS LANDFILL', 'TDS - MRF', 'TDS LANDFILL', 'HORNSBY BEND', 'TDS LANDFILL', 'TDS LANDFILL', 'TDS LANDFILL', 'TDS LANDFILL', 'TDS LANDFILL', 'ORGANICS BY GOSH', 'TDS LANDFILL', 'BALCONES RECYCLING', 'TDS - MRF', 'TDS LANDFILL', 'HORNSBY BEND', 'TDS LANDFILL', 'TDS LANDFILL', 'TDS LANDFILL', 'TDS LANDFILL', 'HORNSBY BEND', 'TDS LANDFILL', 'TDS - MRF', 'TDS LANDFILL', 'TDS LANDFILL', 'TDS LANDFILL', 'TDS LANDFILL', 'MRF', 'TDS LANDFILL', 'TDS LANDFILL', 'TDS LANDFILL', 'TDS LANDFILL', 'TDS LANDFILL', 'TDS LANDFILL', 'TDS LANDFILL', 'TDS LANDFILL', 'TDS - MRF', 'HORNSBY BEND', 'HORNSBY BEND', 'BALCONES RECYCLING', 'TDS - MRF', 'BALCONES RECYCLING', 'HORNSBY BEND', 'TDS LANDFILL', 'TDS LANDFILL', 'TDS LANDFILL', 'TDS LANDFILL', 'TDS LANDFILL', 'HORNSBY BEND', 'TDS LANDFILL', 'TDS LANDFILL', 'ORGANICS BY GOSH', 'HORNSBY BEND', 'TDS LANDFILL', 'TDS LANDFILL', 'TDS LANDFILL', 'TDS LANDFILL', 'BALCONES RECYCLING', 'TDS LANDFILL', 'TDS LANDFILL', 'HORNSBY BEND', 'TDS LANDFILL', 'TDS - MRF', 'TDS - MRF', 'HORNSBY BEND', 'TDS LANDFILL', 'TDS - MRF', 'TDS LANDFILL', 'TDS - MRF', 'HORNSBY BEND', 'TDS LANDFILL', 'HORNSBY BEND', 'TDS LANDFILL', 'HORNSBY BEND', 'TDS LANDFILL', 'BALCONES RECYCLING', 'TDS LANDFILL', 'BALCONES RECYCLING', 'TDS - MRF', 'BALCONES RECYCLING', 'HORNSBY BEND', 'TDS LANDFILL', 'TDS LANDFILL', 'TDS LANDFILL', 'BALCONES RECYCLING', 'TDS LANDFILL', 'TDS LANDFILL', 'BALCONES RECYCLING', 'TDS LANDFILL', 'TDS LANDFILL', 'HORNSBY BEND', 'TDS - MRF', 'TDS LANDFILL', 'TDS LANDFILL', 'TDS LANDFILL', 'BALCONES RECYCLING', 'TDS LANDFILL', 'TDS LANDFILL', 'TDS LANDFILL', 'BALCONES RECYCLING', 'TDS LANDFILL', 'TDS LANDFILL', 'TDS - MRF', 'TDS LANDFILL', 'HORNSBY BEND', 'TDS LANDFILL', 'TDS LANDFILL', 'TDS LANDFILL', 'BALCONES RECYCLING', 'TDS LANDFILL', 'HORNSBY BEND', 'TDS LANDFILL', 'HORNSBY BEND', 'TDS LANDFILL', 'BALCONES RECYCLING', 'HORNSBY BEND']",
            "count": 1
           }
          ]
         }
        },
        {
         "name": "Route Type",
         "dtype": "object",
         "stats": {
          "unique_count": 2,
          "nan_count": 0,
          "categories": [
           {
            "name": "['YARD TRIMMINGS', 'YARD TRIMMINGS', 'YARD TRIMMINGS', 'RECYCLING - SINGLE STREAM', 'YARD TRIMMINGS', 'RECYCLING - SINGLE STREAM', 'RECYCLING - SINGLE STREAM', 'RECYCLING - SINGLE STREAM', 'GARBAGE COLLECTION', 'GARBAGE COLLECTION', 'YARD TRIMMINGS', 'GARBAGE COLLECTION', 'RECYCLING - SINGLE STREAM', 'KAB', 'STORM', 'GARBAGE COLLECTION', 'RECYCLING - SINGLE STREAM', 'RECYCLING - SINGLE STREAM', 'GARBAGE COLLECTION', 'YARD TRIMMINGS', 'GARBAGE COLLECTION', 'YARD TRIMMINGS', 'RECYCLING - SINGLE STREAM', 'GARBAGE COLLECTION', 'GARBAGE COLLECTION', 'GARBAGE COLLECTION', 'SWEEPER DUMPSITES', 'RECYCLING - SINGLE STREAM', 'BULK', 'GARBAGE COLLECTION', 'GARBAGE COLLECTION', 'STORM', 'GARBAGE COLLECTION', 'RECYCLING - SINGLE STREAM', 'GARBAGE COLLECTION', 'RECYCLING - SINGLE STREAM', 'GARBAGE COLLECTION', 'RECYCLING - SINGLE STREAM', 'YARD TRIMMINGS', 'BULK', 'RECYCLING - SINGLE STREAM', 'RECYCLING - SINGLE STREAM', 'LITTER P/U', 'GARBAGE COLLECTION', 'GARBAGE COLLECTION', 'GARBAGE COLLECTION', 'RECYCLING - SINGLE STREAM', 'RECYCLING - SINGLE STREAM', 'RECYCLING - SINGLE STREAM', 'GARBAGE COLLECTION', 'DEAD ANIMAL', 'GARBAGE COLLECTION', 'GARBAGE COLLECTION', 'RECYCLING - SINGLE STREAM', 'RECYCLING - SINGLE STREAM', 'GARBAGE COLLECTION', 'RECYCLING - SINGLE STREAM', 'GARBAGE COLLECTION', 'YARD TRIMMINGS', 'RECYCLING - SINGLE STREAM', 'GARBAGE COLLECTION', 'GARBAGE COLLECTION', 'RECYCLING - SINGLE STREAM', 'SWEEPER DUMPSITES', 'RECYCLING - SINGLE STREAM', 'YARD TRIMMINGS', 'YARD TRIMMINGS', 'GARBAGE COLLECTION', 'SWEEPER DUMPSITES', 'RECYCLING - SINGLE STREAM', 'RECYCLING - SINGLE STREAM', 'GARBAGE COLLECTION', 'GARBAGE COLLECTION', 'RECYCLING - SINGLE STREAM', 'SWEEPER DUMPSITES', 'SWEEPER DUMPSITES', 'YARD TRIMMINGS', 'RECYCLING - SINGLE STREAM', 'GARBAGE COLLECTION', 'GARBAGE COLLECTION', 'YARD TRIMMINGS', 'GARBAGE COLLECTION', 'GARBAGE COLLECTION', 'BRUSH', 'GARBAGE COLLECTION', 'SWEEPER DUMPSITES', 'RECYCLING - SINGLE STREAM', 'GARBAGE COLLECTION', 'GARBAGE COLLECTION', 'YARD TRIMMINGS', 'RECYCLING - SINGLE STREAM', 'GARBAGE COLLECTION', 'RECYCLING - SINGLE STREAM', 'GARBAGE COLLECTION', 'YARD TRIMMINGS', 'GARBAGE COLLECTION', 'GARBAGE COLLECTION', 'GARBAGE COLLECTION', 'YARD TRIMMINGS', 'GARBAGE COLLECTION', 'YARD TRIMMINGS', 'GARBAGE COLLECTION', 'RECYCLING - SINGLE STREAM', 'RECYCLING - SINGLE STREAM', 'RECYCLING - SINGLE STREAM', 'RECYCLING - SINGLE STREAM', 'YARD TRIMMINGS', 'YARD TRIMMINGS', 'YARD TRIMMINGS', 'GARBAGE COLLECTION', 'RECYCLING - SINGLE STREAM', 'GARBAGE COLLECTION', 'GARBAGE COLLECTION', 'SWEEPER DUMPSITES', 'GARBAGE COLLECTION', 'RECYCLING - SINGLE STREAM', 'DEAD ANIMAL', 'YARD TRIMMINGS', 'GARBAGE COLLECTION', 'YARD TRIMMINGS-ORGANICS', 'YARD TRIMMINGS', 'BULK', 'RECYCLING - SINGLE STREAM', 'GARBAGE COLLECTION', 'YARD TRIMMINGS', 'GARBAGE COLLECTION', 'BRUSH', 'SWEEPER DUMPSITES', 'GARBAGE COLLECTION', 'RECYCLING - SINGLE STREAM', 'GARBAGE COLLECTION', 'GARBAGE COLLECTION', 'GARBAGE COLLECTION', 'GARBAGE COLLECTION', 'SWEEPER DUMPSITES', 'YARD TRIMMINGS', 'SWEEPER DUMPSITES', 'GARBAGE COLLECTION', 'GARBAGE COLLECTION', 'GARBAGE COLLECTION', 'GARBAGE COLLECTION', 'YARD TRIMMINGS', 'RECYCLING - SINGLE STREAM', 'GARBAGE COLLECTION', 'YARD TRIMMINGS', 'GARBAGE COLLECTION', 'YARD TRIMMINGS', 'RECYCLING - SINGLE STREAM', 'GARBAGE COLLECTION', 'RECYCLING - SINGLE STREAM', 'GARBAGE COLLECTION', 'GARBAGE COLLECTION', 'GARBAGE COLLECTION', 'RECYCLING - SINGLE STREAM', 'YARD TRIMMINGS', 'RECYCLING - SINGLE STREAM', 'GARBAGE COLLECTION', 'RECYCLING - SINGLE STREAM', 'RECYCLING - SINGLE STREAM', 'GARBAGE COLLECTION', 'RECYCLING - SINGLE STREAM', 'GARBAGE COLLECTION', 'YARD TRIMMINGS', 'GARBAGE COLLECTION', 'GARBAGE COLLECTION', 'YARD TRIMMINGS', 'YARD TRIMMINGS', 'RECYCLING - SINGLE STREAM', 'RECYCLING - SINGLE STREAM', 'YARD TRIMMINGS', 'GARBAGE COLLECTION', 'RECYCLING - SINGLE STREAM', 'YARD TRIMMINGS', 'RECYCLING - SINGLE STREAM', 'YARD TRIMMINGS', 'SWEEPER DUMPSITES', 'GARBAGE COLLECTION', 'YARD TRIMMINGS', 'GARBAGE COLLECTION', 'GARBAGE COLLECTION', 'GARBAGE COLLECTION', 'RECYCLING - SINGLE STREAM', 'YARD TRIMMINGS', 'GARBAGE COLLECTION', 'RECYCLING - SINGLE STREAM', 'GARBAGE COLLECTION', 'RECYCLING - SINGLE STREAM', 'GARBAGE COLLECTION', 'GARBAGE COLLECTION', 'BULK', 'RECYCLING - SINGLE STREAM', 'YARD TRIMMINGS', 'GARBAGE COLLECTION', 'YARD TRIMMINGS', 'RECYCLING - SINGLE STREAM', 'RECYCLING - SINGLE STREAM', 'YARD TRIMMINGS', 'RECYCLING - SINGLE STREAM', 'YARD TRIMMINGS', 'RECYCLING - SINGLE STREAM', 'GARBAGE COLLECTION', 'RECYCLING - SINGLE STREAM', 'GARBAGE COLLECTION', 'RECYCLING - SINGLE STREAM', 'YARD TRIMMINGS', 'RECYCLING - SINGLE STREAM', 'YARD TRIMMINGS', 'GARBAGE COLLECTION', 'GARBAGE COLLECTION', 'GARBAGE COLLECTION', 'RECYCLING - SINGLE STREAM', 'RECYCLING - SINGLE STREAM', 'RECYCLING - SINGLE STREAM', 'YARD TRIMMINGS', 'GARBAGE COLLECTION', 'RECYCLING - SINGLE STREAM', 'GARBAGE COLLECTION', 'YARD TRIMMINGS', 'RECYCLING - SINGLE STREAM', 'RECYCLING - SINGLE STREAM', 'RECYCLING - SINGLE STREAM', 'GARBAGE COLLECTION', 'GARBAGE COLLECTION', 'GARBAGE COLLECTION', 'GARBAGE COLLECTION', 'RECYCLING - SINGLE STREAM', 'GARBAGE COLLECTION', 'GARBAGE COLLECTION', 'RECYCLING - SINGLE STREAM', 'YARD TRIMMINGS-ORGANICS', 'GARBAGE COLLECTION', 'RECYCLING - SINGLE STREAM', 'GARBAGE COLLECTION', 'STORM', 'GARBAGE COLLECTION', 'GARBAGE COLLECTION', 'RECYCLING - SINGLE STREAM', 'YARD TRIMMINGS', 'GARBAGE COLLECTION', 'DEAD ANIMAL', 'YARD TRIMMINGS', 'RECYCLING - SINGLE STREAM', 'RECYCLING - SINGLE STREAM', 'GARBAGE COLLECTION', 'RECYCLING - SINGLE STREAM', 'RECYCLING - SINGLE STREAM', 'GARBAGE COLLECTION', 'GARBAGE COLLECTION', 'GARBAGE COLLECTION', 'YARD TRIMMINGS', 'GARBAGE COLLECTION', 'GARBAGE COLLECTION', 'GARBAGE COLLECTION', 'RECYCLING - SINGLE STREAM', 'GARBAGE COLLECTION', 'GARBAGE COLLECTION', 'GARBAGE COLLECTION', 'GARBAGE COLLECTION', 'RECYCLING - SINGLE STREAM', 'GARBAGE COLLECTION', 'SWEEPER DUMPSITES', 'RECYCLING - SINGLE STREAM', 'RECYCLING - SINGLE STREAM', 'YARD TRIMMINGS', 'GARBAGE COLLECTION', 'DEAD ANIMAL', 'BRUSH', 'SWEEPER DUMPSITES', 'GARBAGE COLLECTION', 'GARBAGE COLLECTION', 'GARBAGE COLLECTION', 'GARBAGE COLLECTION', 'INHOUSE - RECYCLING', 'RECYCLING - SINGLE STREAM', 'GARBAGE COLLECTION', 'RECYCLING - SINGLE STREAM', 'YARD TRIMMINGS', 'GARBAGE COLLECTION', 'GARBAGE COLLECTION', 'RECYCLING - SINGLE STREAM', 'RECYCLING - SINGLE STREAM', 'GARBAGE COLLECTION', 'YARD TRIMMINGS', 'YARD TRIMMINGS', 'GARBAGE COLLECTION', 'GARBAGE COLLECTION', 'RECYCLING - SINGLE STREAM', 'YARD TRIMMINGS', 'GARBAGE COLLECTION', 'GARBAGE COLLECTION', 'RECYCLING - SINGLE STREAM', 'GARBAGE COLLECTION', 'GARBAGE COLLECTION', 'GARBAGE COLLECTION', 'RECYCLING - SINGLE STREAM', 'YARD TRIMMINGS', 'GARBAGE COLLECTION', 'BULK', 'YARD TRIMMINGS', 'YARD TRIMMINGS', 'RECYCLING - SINGLE STREAM', 'RECYCLING - SINGLE STREAM', 'RECYCLING - SINGLE STREAM', 'YARD TRIMMINGS', 'GARBAGE COLLECTION', 'GARBAGE COLLECTION', 'RECYCLING - SINGLE STREAM', 'GARBAGE COLLECTION', 'GARBAGE COLLECTION', 'GARBAGE COLLECTION', 'GARBAGE COLLECTION', 'GARBAGE COLLECTION', 'GARBAGE COLLECTION', 'YARD TRIMMINGS-ORGANICS', 'RECYCLING - SINGLE STREAM', 'GARBAGE COLLECTION', 'YARD TRIMMINGS', 'RECYCLING - SINGLE STREAM', 'RECYCLING - SINGLE STREAM', 'YARD TRIMMINGS', 'RECYCLING - SINGLE STREAM', 'GARBAGE COLLECTION', 'YARD TRIMMINGS', 'YARD TRIMMINGS-ORGANICS', 'RECYCLING - SINGLE STREAM', 'RECYCLING - SINGLE STREAM', 'YARD TRIMMINGS', 'DEAD ANIMAL', 'GARBAGE COLLECTION', 'RECYCLING - SINGLE STREAM', 'RECYCLING - SINGLE STREAM', 'GARBAGE COLLECTION', 'GARBAGE COLLECTION', 'RECYCLING - SINGLE STREAM', 'GARBAGE COLLECTION', 'GARBAGE COLLECTION', 'RECYCLING - SINGLE STREAM', 'GARBAGE COLLECTION', 'RECYCLING - SINGLE STREAM', 'YARD TRIMMINGS', 'RECYCLING - SINGLE STREAM', 'RECYCLING - SINGLE STREAM', 'YARD TRIMMINGS', 'RECYCLING - SINGLE STREAM', 'RECYCLING - SINGLE STREAM', 'RECYCLING - SINGLE STREAM', 'RECYCLING - SINGLE STREAM', 'GARBAGE COLLECTION', 'BRUSH', 'GARBAGE COLLECTION', 'RECYCLING - SINGLE STREAM', 'GARBAGE COLLECTION', 'SWEEPER DUMPSITES', 'YARD TRIMMINGS', 'BULK', 'GARBAGE COLLECTION', 'GARBAGE COLLECTION', 'GARBAGE COLLECTION', 'GARBAGE COLLECTION', 'GARBAGE COLLECTION', 'RECYCLING - SINGLE STREAM', 'GARBAGE COLLECTION', 'RECYCLING - SINGLE STREAM', 'RECYCLING - SINGLE STREAM', 'RECYCLING - SINGLE STREAM', 'GARBAGE COLLECTION', 'GARBAGE COLLECTION', 'YARD TRIMMINGS', 'YARD TRIMMINGS', 'RECYCLING - SINGLE STREAM', 'RECYCLING - SINGLE STREAM', 'RECYCLING - SINGLE STREAM', 'RECYCLING - SINGLE STREAM', 'GARBAGE COLLECTION', 'GARBAGE COLLECTION', 'RECYCLING - SINGLE STREAM', 'RECYCLING - SINGLE STREAM', 'GARBAGE COLLECTION', 'STORM', 'YARD TRIMMINGS', 'YARD TRIMMINGS', 'RECYCLING - SINGLE STREAM', 'RECYCLING - SINGLE STREAM', 'RECYCLING - SINGLE STREAM', 'RECYCLING - SINGLE STREAM', 'GARBAGE COLLECTION', 'RECYCLING - SINGLE STREAM', 'YARD TRIMMINGS-ORGANICS', 'YARD TRIMMINGS', 'GARBAGE COLLECTION', 'RECYCLING - SINGLE STREAM', 'RECYCLING - SINGLE STREAM', 'RECYCLING - SINGLE STREAM', 'GARBAGE COLLECTION', 'RECYCLING - SINGLE STREAM', 'RECYCLING - SINGLE STREAM', 'YARD TRIMMINGS', 'GARBAGE COLLECTION', 'RECYCLING - SINGLE STREAM', 'GARBAGE COLLECTION', 'RECYCLING - SINGLE STREAM', 'GARBAGE COLLECTION', 'GARBAGE COLLECTION', 'YARD TRIMMINGS', 'BULK', 'RECYCLING - SINGLE STREAM', 'YARD TRIMMINGS', 'RECYCLING - SINGLE STREAM', 'GARBAGE COLLECTION', 'YARD TRIMMINGS', 'RECYCLING - SINGLE STREAM', 'GARBAGE COLLECTION', 'GARBAGE COLLECTION', 'SWEEPER DUMPSITES', 'GARBAGE COLLECTION', 'SWEEPER DUMPSITES', 'GARBAGE COLLECTION', 'GARBAGE COLLECTION', 'GARBAGE COLLECTION', 'RECYCLING - SINGLE STREAM', 'GARBAGE COLLECTION', 'YARD TRIMMINGS', 'RECYCLING - SINGLE STREAM', 'GARBAGE COLLECTION', 'INHOUSE - RECYCLING', 'GARBAGE COLLECTION', 'GARBAGE COLLECTION', 'DEAD ANIMAL', 'GARBAGE COLLECTION', 'YARD TRIMMINGS', 'YARD TRIMMINGS', 'GARBAGE COLLECTION', 'GARBAGE COLLECTION']",
            "count": 1
           },
           {
            "name": "['GARBAGE COLLECTION', 'GARBAGE COLLECTION', 'GARBAGE COLLECTION', 'BULK', 'RECYCLING - SINGLE STREAM', 'GARBAGE COLLECTION', 'GARBAGE COLLECTION', 'RECYCLING - SINGLE STREAM', 'GARBAGE COLLECTION', 'RECYCLING - SINGLE STREAM', 'GARBAGE COLLECTION', 'BULK', 'GARBAGE COLLECTION', 'GARBAGE COLLECTION', 'RECYCLING - SINGLE STREAM', 'KAB', 'RECYCLING - SINGLE STREAM', 'RECYCLING - SINGLE STREAM', 'RECYCLING - SINGLE STREAM', 'BULK', 'GARBAGE COLLECTION', 'BULK', 'YARD TRIMMINGS', 'YARD TRIMMINGS', 'RECYCLING - SINGLE STREAM', 'YARD TRIMMINGS', 'RECYCLING - SINGLE STREAM', 'YARD TRIMMINGS', 'RECYCLING - SINGLE STREAM', 'RECYCLING - SINGLE STREAM', 'BRUSH', 'YARD TRIMMINGS', 'BULK', 'GARBAGE COLLECTION', 'GARBAGE COLLECTION', 'RECYCLING - SINGLE STREAM', 'RECYCLING - SINGLE STREAM', 'GARBAGE COLLECTION', 'YARD TRIMMINGS', 'GARBAGE COLLECTION', 'GARBAGE COLLECTION', 'BULK', 'GARBAGE COLLECTION', 'YARD TRIMMINGS', 'GARBAGE COLLECTION', 'GARBAGE COLLECTION', 'GARBAGE COLLECTION', 'RECYCLING - SINGLE STREAM', 'GARBAGE COLLECTION', 'BULK', 'RECYCLING - SINGLE STREAM', 'STORM', 'BRUSH', 'GARBAGE COLLECTION', 'GARBAGE COLLECTION', 'GARBAGE COLLECTION', 'GARBAGE COLLECTION', 'YARD TRIMMINGS', 'BRUSH', 'YARD TRIMMINGS', 'RECYCLING - SINGLE STREAM', 'YARD TRIMMINGS', 'GARBAGE COLLECTION', 'GARBAGE COLLECTION', 'GARBAGE COLLECTION', 'GARBAGE COLLECTION', 'GARBAGE COLLECTION', 'STORM', 'RECYCLING - SINGLE STREAM', 'GARBAGE COLLECTION', 'GARBAGE COLLECTION', 'RECYCLING - SINGLE STREAM', 'RECYCLING - SINGLE STREAM', 'GARBAGE COLLECTION', 'GARBAGE COLLECTION', 'GARBAGE COLLECTION', 'GARBAGE COLLECTION', 'GARBAGE COLLECTION', 'BRUSH', 'RECYCLING - SINGLE STREAM', 'GARBAGE COLLECTION', 'GARBAGE COLLECTION', 'GARBAGE COLLECTION', 'BULK', 'GARBAGE COLLECTION', 'GARBAGE COLLECTION', 'YARD TRIMMINGS', 'RECYCLING - SINGLE STREAM', 'RECYCLING - SINGLE STREAM', 'RECYCLING - SINGLE STREAM', 'GARBAGE COLLECTION', 'RECYCLING - SINGLE STREAM', 'RECYCLING - SINGLE STREAM', 'STORM', 'RECYCLING - SINGLE STREAM', 'GARBAGE COLLECTION', 'GARBAGE COLLECTION', 'RECYCLING - SINGLE STREAM', 'SWEEPER DUMPSITES', 'RECYCLING - SINGLE STREAM', 'GARBAGE COLLECTION', 'GARBAGE COLLECTION', 'BRUSH', 'GARBAGE COLLECTION', 'YARD TRIMMINGS', 'DEAD ANIMAL', 'GARBAGE COLLECTION', 'RECYCLING - SINGLE STREAM', 'YARD TRIMMINGS', 'GARBAGE COLLECTION', 'GARBAGE COLLECTION', 'RECYCLING - SINGLE STREAM', 'SWEEPER DUMPSITES', 'RECYCLING - SINGLE STREAM', 'RECYCLING - SINGLE STREAM', 'YARD TRIMMINGS', 'RECYCLING - SINGLE STREAM', 'RECYCLING - SINGLE STREAM', 'RECYCLING - SINGLE STREAM', 'RECYCLING - SINGLE STREAM', 'GARBAGE COLLECTION', 'GARBAGE COLLECTION', 'GARBAGE COLLECTION', 'GARBAGE COLLECTION', 'GARBAGE COLLECTION', 'GARBAGE COLLECTION', 'GARBAGE COLLECTION', 'GARBAGE COLLECTION', 'GARBAGE COLLECTION', 'GARBAGE COLLECTION', 'INHOUSE - RECYCLING', 'GARBAGE COLLECTION', 'YARD TRIMMINGS', 'GARBAGE COLLECTION', 'DEAD ANIMAL', 'GARBAGE COLLECTION', 'SWEEPER DUMPSITES', 'BULK', 'GARBAGE COLLECTION', 'GARBAGE COLLECTION', 'GARBAGE COLLECTION', 'RECYCLING - SINGLE STREAM', 'GARBAGE COLLECTION', 'BRUSH', 'RECYCLING - SINGLE STREAM', 'GARBAGE COLLECTION', 'GARBAGE COLLECTION', 'SWEEPER DUMPSITES', 'SWEEPER DUMPSITES', 'RECYCLING - SINGLE STREAM', 'YARD TRIMMINGS', 'GARBAGE COLLECTION', 'RECYCLING - SINGLE STREAM', 'GARBAGE COLLECTION', 'GARBAGE COLLECTION', 'RECYCLING - SINGLE STREAM', 'GARBAGE COLLECTION', 'GARBAGE COLLECTION', 'RECYCLING - SINGLE STREAM', 'YARD TRIMMINGS-ORGANICS', 'YARD TRIMMINGS', 'GARBAGE COLLECTION', 'GARBAGE COLLECTION', 'GARBAGE COLLECTION', 'SWEEPER DUMPSITES', 'GARBAGE COLLECTION', 'GARBAGE COLLECTION', 'RECYCLING - SINGLE STREAM', 'GARBAGE COLLECTION', 'YARD TRIMMINGS-ORGANICS', 'RECYCLING - SINGLE STREAM', 'RECYCLING - SINGLE STREAM', 'RECYCLING - SINGLE STREAM', 'YARD TRIMMINGS', 'GARBAGE COLLECTION', 'RECYCLING - SINGLE STREAM', 'GARBAGE COLLECTION', 'GARBAGE COLLECTION', 'RECYCLING - SINGLE STREAM', 'GARBAGE COLLECTION', 'RECYCLING - SINGLE STREAM', 'GARBAGE COLLECTION', 'RECYCLING - SINGLE STREAM', 'YARD TRIMMINGS', 'YARD TRIMMINGS', 'RECYCLING - SINGLE STREAM', 'YARD TRIMMINGS', 'GARBAGE COLLECTION', 'RECYCLING - SINGLE STREAM', 'RECYCLING - SINGLE STREAM', 'YARD TRIMMINGS', 'GARBAGE COLLECTION', 'RECYCLING - SINGLE STREAM', 'SWEEPER DUMPSITES', 'GARBAGE COLLECTION', 'GARBAGE COLLECTION', 'GARBAGE COLLECTION', 'SWEEPER DUMPSITES', 'RECYCLING - SINGLE STREAM', 'SWEEPER DUMPSITES', 'YARD TRIMMINGS', 'SWEEPER DUMPSITES', 'GARBAGE COLLECTION', 'RECYCLING - SINGLE STREAM', 'GARBAGE COLLECTION', 'GARBAGE COLLECTION', 'GARBAGE COLLECTION', 'RECYCLING - SINGLE STREAM', 'SWEEPER DUMPSITES', 'GARBAGE COLLECTION', 'GARBAGE COLLECTION', 'RECYCLING - SINGLE STREAM', 'RECYCLING - SINGLE STREAM', 'YARD TRIMMINGS', 'YARD TRIMMINGS', 'GARBAGE COLLECTION', 'YARD TRIMMINGS', 'RECYCLING - SINGLE STREAM', 'GARBAGE COLLECTION', 'RECYCLING - SINGLE STREAM', 'RECYCLING - SINGLE STREAM', 'GARBAGE COLLECTION', 'RECYCLING - SINGLE STREAM', 'RECYCLING - SINGLE STREAM', 'RECYCLING - SINGLE STREAM', 'GARBAGE COLLECTION', 'RECYCLING - SINGLE STREAM', 'GARBAGE COLLECTION', 'GARBAGE COLLECTION', 'YARD TRIMMINGS', 'STORM', 'GARBAGE COLLECTION', 'GARBAGE COLLECTION', 'GARBAGE COLLECTION', 'GARBAGE COLLECTION', 'GARBAGE COLLECTION', 'STORM', 'SWEEPER DUMPSITES', 'GARBAGE COLLECTION', 'RECYCLING - SINGLE STREAM', 'YARD TRIMMINGS', 'YARD TRIMMINGS', 'RECYCLING - SINGLE STREAM', 'RECYCLING - SINGLE STREAM', 'BRUSH', 'RECYCLING - SINGLE STREAM', 'SWEEPER DUMPSITES', 'RECYCLING - SINGLE STREAM', 'GARBAGE COLLECTION', 'RECYCLING - SINGLE STREAM', 'RECYCLING - SINGLE STREAM', 'RECYCLING - SINGLE STREAM', 'GARBAGE COLLECTION', 'GARBAGE COLLECTION', 'RECYCLING - SINGLE STREAM', 'RECYCLING - SINGLE STREAM', 'GARBAGE COLLECTION', 'GARBAGE COLLECTION', 'YARD TRIMMINGS', 'GARBAGE COLLECTION', 'RECYCLING - SINGLE STREAM', 'GARBAGE COLLECTION', 'GARBAGE COLLECTION', 'YARD TRIMMINGS', 'RECYCLING - SINGLE STREAM', 'STORM', 'RECYCLING - SINGLE STREAM', 'RECYCLING - SINGLE STREAM', 'RECYCLING - SINGLE STREAM', 'GARBAGE COLLECTION', 'BRUSH', 'GARBAGE COLLECTION', 'RECYCLING - SINGLE STREAM', 'GARBAGE COLLECTION', 'RECYCLING - SINGLE STREAM', 'STORM', 'GARBAGE COLLECTION', 'GARBAGE COLLECTION', 'GARBAGE COLLECTION', 'GARBAGE COLLECTION', 'GARBAGE COLLECTION', 'GARBAGE COLLECTION', 'GARBAGE COLLECTION', 'GARBAGE COLLECTION', 'RECYCLING - SINGLE STREAM', 'BULK', 'GARBAGE COLLECTION', 'RECYCLING - SINGLE STREAM', 'GARBAGE COLLECTION', 'YARD TRIMMINGS', 'INHOUSE - RECYCLING', 'RECYCLING - SINGLE STREAM', 'RECYCLING - SINGLE STREAM', 'GARBAGE COLLECTION', 'GARBAGE COLLECTION', 'RECYCLING - SINGLE STREAM', 'GARBAGE COLLECTION', 'RECYCLING - SINGLE STREAM', 'GARBAGE COLLECTION', 'YARD TRIMMINGS', 'RECYCLING - SINGLE STREAM', 'SWEEPER DUMPSITES', 'GARBAGE COLLECTION', 'BULK', 'RECYCLING - SINGLE STREAM', 'GARBAGE COLLECTION', 'RECYCLING - SINGLE STREAM', 'GARBAGE COLLECTION', 'STORM', 'RECYCLING - SINGLE STREAM', 'GARBAGE COLLECTION', 'GARBAGE COLLECTION', 'YARD TRIMMINGS', 'GARBAGE COLLECTION', 'YARD TRIMMINGS', 'SWEEPER DUMPSITES', 'RECYCLING - SINGLE STREAM', 'GARBAGE COLLECTION', 'RECYCLING - SINGLE STREAM', 'RECYCLING - SINGLE STREAM', 'GARBAGE COLLECTION', 'GARBAGE COLLECTION', 'YARD TRIMMINGS', 'GARBAGE COLLECTION', 'GARBAGE COLLECTION', 'GARBAGE COLLECTION', 'GARBAGE COLLECTION', 'YARD TRIMMINGS', 'YARD TRIMMINGS', 'YARD TRIMMINGS', 'RECYCLING - SINGLE STREAM', 'GARBAGE COLLECTION', 'YARD TRIMMINGS', 'RECYCLING - SINGLE STREAM', 'RECYCLING - SINGLE STREAM', 'YARD TRIMMINGS', 'STORM', 'STORM', 'GARBAGE COLLECTION', 'GARBAGE COLLECTION', 'RECYCLING - SINGLE STREAM', 'SWEEPER DUMPSITES', 'RECYCLING - SINGLE STREAM', 'RECYCLING - SINGLE STREAM', 'GARBAGE COLLECTION', 'RECYCLING - SINGLE STREAM', 'YARD TRIMMINGS', 'RECYCLING - SINGLE STREAM', 'GARBAGE COLLECTION', 'RECYCLING - SINGLE STREAM', 'GARBAGE COLLECTION', 'GARBAGE COLLECTION', 'INHOUSE - RECYCLING', 'SWEEPER DUMPSITES', 'RECYCLING - SINGLE STREAM', 'RECYCLING - SINGLE STREAM', 'RECYCLING - SINGLE STREAM', 'GARBAGE COLLECTION', 'RECYCLING - SINGLE STREAM', 'BRUSH', 'RECYCLING - SINGLE STREAM', 'YARD TRIMMINGS', 'BULK', 'GARBAGE COLLECTION', 'GARBAGE COLLECTION', 'BRUSH', 'RECYCLING - SINGLE STREAM', 'BRUSH', 'GARBAGE COLLECTION', 'RECYCLING - SINGLE STREAM', 'YARD TRIMMINGS', 'RECYCLING - SINGLE STREAM', 'RECYCLING - SINGLE STREAM', 'SWEEPER DUMPSITES', 'BRUSH', 'GARBAGE COLLECTION', 'GARBAGE COLLECTION', 'GARBAGE COLLECTION', 'RECYCLING - SINGLE STREAM', 'BRUSH', 'RECYCLING - SINGLE STREAM', 'RECYCLING - SINGLE STREAM', 'GARBAGE COLLECTION', 'GARBAGE COLLECTION', 'GARBAGE COLLECTION', 'YARD TRIMMINGS', 'GARBAGE COLLECTION', 'BULK', 'RECYCLING - SINGLE STREAM', 'RECYCLING - SINGLE STREAM', 'GARBAGE COLLECTION', 'RECYCLING - SINGLE STREAM', 'RECYCLING - SINGLE STREAM', 'RECYCLING - SINGLE STREAM', 'GARBAGE COLLECTION', 'YARD TRIMMINGS', 'RECYCLING - SINGLE STREAM', 'STORM', 'GARBAGE COLLECTION', 'RECYCLING - SINGLE STREAM', 'RECYCLING - SINGLE STREAM', 'RECYCLING - SINGLE STREAM', 'BULK', 'GARBAGE COLLECTION', 'BRUSH', 'BRUSH', 'RECYCLING - SINGLE STREAM', 'RECYCLING - SINGLE STREAM', 'YARD TRIMMINGS-ORGANICS', 'GARBAGE COLLECTION', 'GARBAGE COLLECTION', 'STORM', 'GARBAGE COLLECTION', 'GARBAGE COLLECTION', 'RECYCLING - SINGLE STREAM', 'GARBAGE COLLECTION', 'RECYCLING - SINGLE STREAM', 'GARBAGE COLLECTION', 'GARBAGE COLLECTION', 'GARBAGE COLLECTION', 'GARBAGE COLLECTION', 'STORM', 'RECYCLING - SINGLE STREAM', 'BULK', 'GARBAGE COLLECTION', 'SWEEPER DUMPSITES', 'BULK', 'RECYCLING - SINGLE STREAM', 'GARBAGE COLLECTION', 'RECYCLING - SINGLE STREAM', 'GARBAGE COLLECTION', 'GARBAGE COLLECTION', 'GARBAGE COLLECTION', 'YARD TRIMMINGS', 'GARBAGE COLLECTION', 'GARBAGE COLLECTION', 'GARBAGE COLLECTION', 'GARBAGE COLLECTION', 'RECYCLING - SINGLE STREAM', 'BULK', 'GARBAGE COLLECTION', 'RECYCLING - SINGLE STREAM', 'SWEEPER DUMPSITES', 'RECYCLING - SINGLE STREAM', 'GARBAGE COLLECTION', 'RECYCLING - SINGLE STREAM', 'RECYCLING - SINGLE STREAM', 'YARD TRIMMINGS', 'GARBAGE COLLECTION', 'RECYCLING - SINGLE STREAM', 'RECYCLING - SINGLE STREAM', 'GARBAGE COLLECTION', 'RECYCLING - SINGLE STREAM', 'GARBAGE COLLECTION', 'GARBAGE COLLECTION', 'YARD TRIMMINGS', 'SWEEPER DUMPSITES', 'BULK', 'YARD TRIMMINGS', 'GARBAGE COLLECTION', 'GARBAGE COLLECTION', 'GARBAGE COLLECTION', 'RECYCLING - SINGLE STREAM', 'DEAD ANIMAL', 'GARBAGE COLLECTION', 'GARBAGE COLLECTION', 'RECYCLING - SINGLE STREAM', 'RECYCLING - SINGLE STREAM', 'SWEEPER DUMPSITES', 'GARBAGE COLLECTION', 'GARBAGE COLLECTION', 'LITTER CONTROL', 'RECYCLING - SINGLE STREAM', 'GARBAGE COLLECTION', 'RECYCLING - SINGLE STREAM', 'DEAD ANIMAL', 'SWEEPER DUMPSITES', 'RECYCLING - SINGLE STREAM', 'BULK', 'INHOUSE - RECYCLING', 'RECYCLING - SINGLE STREAM', 'GARBAGE COLLECTION', 'GARBAGE COLLECTION', 'GARBAGE COLLECTION', 'YARD TRIMMINGS', 'YARD TRIMMINGS', 'YARD TRIMMINGS', 'GARBAGE COLLECTION', 'GARBAGE COLLECTION', 'GARBAGE COLLECTION', 'GARBAGE COLLECTION', 'RECYCLING - SINGLE STREAM', 'GARBAGE COLLECTION', 'STORM', 'RECYCLING - SINGLE STREAM', 'GARBAGE COLLECTION', 'BULK', 'BRUSH', 'YARD TRIMMINGS', 'RECYCLING - SINGLE STREAM', 'SWEEPER DUMPSITES', 'YARD TRIMMINGS-ORGANICS', 'GARBAGE COLLECTION', 'BULK', 'RECYCLING - SINGLE STREAM', 'RECYCLING - SINGLE STREAM', 'RECYCLING - SINGLE STREAM', 'GARBAGE COLLECTION', 'GARBAGE COLLECTION', 'BRUSH', 'RECYCLING - SINGLE STREAM', 'YARD TRIMMINGS', 'BULK', 'RECYCLING - SINGLE STREAM', 'GARBAGE COLLECTION', 'RECYCLING - SINGLE STREAM', 'GARBAGE COLLECTION', 'GARBAGE COLLECTION', 'BULK', 'RECYCLING - SINGLE STREAM', 'STORM', 'BULK', 'YARD TRIMMINGS', 'YARD TRIMMINGS', 'STORM', 'SWEEPER DUMPSITES', 'SWEEPER DUMPSITES', 'GARBAGE COLLECTION', 'BULK', 'YARD TRIMMINGS', 'GARBAGE COLLECTION', 'GARBAGE COLLECTION', 'RECYCLING - SINGLE STREAM', 'BRUSH', 'GARBAGE COLLECTION', 'INHOUSE - RECYCLING', 'SWEEPER DUMPSITES', 'BULK', 'GARBAGE COLLECTION', 'GARBAGE COLLECTION', 'SWEEPER DUMPSITES', 'GARBAGE COLLECTION', 'GARBAGE COLLECTION', 'GARBAGE COLLECTION', 'GARBAGE COLLECTION', 'RECYCLING - SINGLE STREAM', 'GARBAGE COLLECTION', 'GARBAGE COLLECTION', 'RECYCLING - SINGLE STREAM', 'GARBAGE COLLECTION', 'YARD TRIMMINGS', 'YARD TRIMMINGS', 'GARBAGE COLLECTION', 'RECYCLING - SINGLE STREAM', 'RECYCLING - SINGLE STREAM', 'RECYCLING - SINGLE STREAM', 'RECYCLING - SINGLE STREAM', 'RECYCLING - SINGLE STREAM', 'RECYCLING - SINGLE STREAM', 'RECYCLING - SINGLE STREAM', 'YARD TRIMMINGS', 'RECYCLING - SINGLE STREAM', 'RECYCLING - SINGLE STREAM', 'GARBAGE COLLECTION', 'RECYCLING - SINGLE STREAM', 'GARBAGE COLLECTION', 'GARBAGE COLLECTION', 'RECYCLING - SINGLE STREAM', 'RECYCLING - SINGLE STREAM', 'GARBAGE COLLECTION', 'BULK', 'YARD TRIMMINGS', 'RECYCLING - SINGLE STREAM', 'YARD TRIMMINGS', 'SWEEPER DUMPSITES', 'GARBAGE COLLECTION', 'SWEEPER DUMPSITES', 'RECYCLING - SINGLE STREAM', 'RECYCLING - SINGLE STREAM', 'BULK', 'GARBAGE COLLECTION', 'GARBAGE COLLECTION', 'RECYCLING - SINGLE STREAM', 'BRUSH', 'BULK', 'GARBAGE COLLECTION', 'DEAD ANIMAL', 'GARBAGE COLLECTION', 'RECYCLING - SINGLE STREAM', 'RECYCLING - SINGLE STREAM', 'GARBAGE COLLECTION', 'STORM', 'DEAD ANIMAL', 'SWEEPER DUMPSITES', 'RECYCLING - SINGLE STREAM', 'RECYCLING - SINGLE STREAM', 'SWEEPER DUMPSITES', 'RECYCLING - SINGLE STREAM', 'RECYCLING - SINGLE STREAM', 'RECYCLING - SINGLE STREAM', 'GARBAGE COLLECTION', 'SWEEPER DUMPSITES', 'GARBAGE COLLECTION', 'GARBAGE COLLECTION', 'GARBAGE COLLECTION', 'RECYCLING - SINGLE STREAM', 'RECYCLING - SINGLE STREAM', 'GARBAGE COLLECTION', 'GARBAGE COLLECTION', 'RECYCLING - SINGLE STREAM', 'RECYCLING - SINGLE STREAM', 'BULK', 'RECYCLING - SINGLE STREAM', 'GARBAGE COLLECTION', 'RECYCLING - SINGLE STREAM', 'GARBAGE COLLECTION', 'RECYCLING - SINGLE STREAM', 'YARD TRIMMINGS', 'GARBAGE COLLECTION', 'SWEEPER DUMPSITES', 'RECYCLING - SINGLE STREAM', 'RECYCLING - SINGLE STREAM', 'GARBAGE COLLECTION', 'YARD TRIMMINGS', 'RECYCLING - SINGLE STREAM', 'RECYCLING - SINGLE STREAM', 'RECYCLING - SINGLE STREAM', 'GARBAGE COLLECTION', 'INHOUSE - RECYCLING', 'GARBAGE COLLECTION', 'RECYCLING - SINGLE STREAM', 'GARBAGE COLLECTION', 'RECYCLING - SINGLE STREAM', 'GARBAGE COLLECTION', 'GARBAGE COLLECTION', 'GARBAGE COLLECTION', 'GARBAGE COLLECTION', 'GARBAGE COLLECTION', 'YARD TRIMMINGS', 'DEAD ANIMAL', 'YARD TRIMMINGS', 'YARD TRIMMINGS', 'GARBAGE COLLECTION', 'RECYCLING - SINGLE STREAM', 'RECYCLING - SINGLE STREAM', 'RECYCLING - SINGLE STREAM', 'RECYCLING - SINGLE STREAM', 'BULK', 'GARBAGE COLLECTION', 'RECYCLING - SINGLE STREAM', 'RECYCLING - SINGLE STREAM', 'YARD TRIMMINGS', 'GARBAGE COLLECTION', 'GARBAGE COLLECTION', 'GARBAGE COLLECTION', 'GARBAGE COLLECTION', 'GARBAGE COLLECTION', 'GARBAGE COLLECTION', 'GARBAGE COLLECTION', 'SWEEPER DUMPSITES', 'SWEEPER DUMPSITES', 'SWEEPER DUMPSITES', 'GARBAGE COLLECTION', 'YARD TRIMMINGS', 'RECYCLING - SINGLE STREAM', 'BRUSH', 'GARBAGE COLLECTION', 'BRUSH', 'RECYCLING - SINGLE STREAM', 'GARBAGE COLLECTION', 'GARBAGE COLLECTION', 'BRUSH', 'BULK', 'RECYCLING - SINGLE STREAM', 'GARBAGE COLLECTION', 'GARBAGE COLLECTION', 'RECYCLING - SINGLE STREAM', 'BULK', 'BRUSH', 'GARBAGE COLLECTION', 'GARBAGE COLLECTION', 'GARBAGE COLLECTION', 'GARBAGE COLLECTION', 'GARBAGE COLLECTION', 'YARD TRIMMINGS-ORGANICS', 'SWEEPER DUMPSITES', 'RECYCLING - SINGLE STREAM', 'RECYCLING - SINGLE STREAM', 'GARBAGE COLLECTION', 'STORM', 'GARBAGE COLLECTION', 'GARBAGE COLLECTION', 'BULK', 'GARBAGE COLLECTION', 'BRUSH', 'GARBAGE COLLECTION', 'GARBAGE COLLECTION', 'GARBAGE COLLECTION', 'GARBAGE COLLECTION', 'GARBAGE COLLECTION', 'KAB', 'BULK', 'GARBAGE COLLECTION', 'GARBAGE COLLECTION', 'GARBAGE COLLECTION', 'STORM', 'GARBAGE COLLECTION', 'SWEEPER DUMPSITES', 'GARBAGE COLLECTION', 'GARBAGE COLLECTION', 'RECYCLING - SINGLE STREAM', 'YARD TRIMMINGS', 'BRUSH', 'RECYCLING - SINGLE STREAM', 'RECYCLING - SINGLE STREAM', 'RECYCLING - SINGLE STREAM', 'YARD TRIMMINGS', 'GARBAGE COLLECTION', 'GARBAGE COLLECTION', 'GARBAGE COLLECTION', 'GARBAGE COLLECTION', 'GARBAGE COLLECTION', 'BRUSH', 'SWEEPER DUMPSITES', 'SWEEPER DUMPSITES', 'YARD TRIMMINGS-ORGANICS', 'BRUSH', 'SWEEPER DUMPSITES', 'GARBAGE COLLECTION', 'BULK', 'GARBAGE COLLECTION', 'RECYCLING - SINGLE STREAM', 'GARBAGE COLLECTION', 'BULK', 'YARD TRIMMINGS', 'BULK', 'RECYCLING - SINGLE STREAM', 'RECYCLING - SINGLE STREAM', 'YARD TRIMMINGS', 'GARBAGE COLLECTION', 'RECYCLING - SINGLE STREAM', 'STORM', 'RECYCLING - SINGLE STREAM', 'YARD TRIMMINGS', 'BULK', 'YARD TRIMMINGS', 'SWEEPER DUMPSITES', 'BRUSH', 'GARBAGE COLLECTION', 'RECYCLING - SINGLE STREAM', 'GARBAGE COLLECTION', 'RECYCLING - SINGLE STREAM', 'RECYCLING - SINGLE STREAM', 'RECYCLING - SINGLE STREAM', 'BRUSH', 'DEAD ANIMAL', 'GARBAGE COLLECTION', 'GARBAGE COLLECTION', 'RECYCLING - SINGLE STREAM', 'BULK', 'GARBAGE COLLECTION', 'RECYCLING - SINGLE STREAM', 'GARBAGE COLLECTION', 'GARBAGE COLLECTION', 'YARD TRIMMINGS', 'RECYCLING - SINGLE STREAM', 'GARBAGE COLLECTION', 'GARBAGE COLLECTION', 'GARBAGE COLLECTION', 'RECYCLING - SINGLE STREAM', 'GARBAGE COLLECTION', 'BULK', 'GARBAGE COLLECTION', 'RECYCLING - SINGLE STREAM', 'GARBAGE COLLECTION', 'GARBAGE COLLECTION', 'RECYCLING - SINGLE STREAM', 'GARBAGE COLLECTION', 'YARD TRIMMINGS', 'GARBAGE COLLECTION', 'GARBAGE COLLECTION', 'GARBAGE COLLECTION', 'RECYCLING - SINGLE STREAM', 'GARBAGE COLLECTION', 'YARD TRIMMINGS', 'GARBAGE COLLECTION', 'YARD TRIMMINGS', 'GARBAGE COLLECTION', 'RECYCLING - SINGLE STREAM', 'YARD TRIMMINGS']",
            "count": 1
           }
          ]
         }
        },
        {
         "name": "Route Number",
         "dtype": "object",
         "stats": {
          "unique_count": 2,
          "nan_count": 0,
          "categories": [
           {
            "name": "['YF01', 'YH01', 'YW13', 'DH1', 'YH06', 'RFAU21', 'RHAS35', 'RWAU12', 'PAW81', 'PAF01', 'YBF00', 'PAH60', 'RHAU10', 'KAB07', 'STO13', 'PAH86', 'RFAU21', 'RWAU20', 'PW33', 'YH08', 'PF20', 'YH10', 'RHAU13', 'PF13', 'PAW03', 'PAH69', 'DSS01', 'RFAU13', 'BU08', 'PAW84', 'PAW70', 'STO13', 'PH34', 'RFAU25', 'PW12', 'DW4', 'PAF05', 'RHAU15', 'YH06', 'BU08', 'RFAS41', 'RWAU10', 'LC01', 'PF21', 'PAW70', 'PAH01', 'RFAU10', 'RFAU16', 'RFAU22', 'PAW82', 'DA02', 'PW22', 'PAW85', 'RHAU15', 'RWAU14', 'PAH86', 'RHAU15', 'PAW83', 'YW07', 'RHAS41', 'PW21', 'PW39', 'RFAU25', 'DSS01', 'RWAU22', 'YH09', 'YF09', 'PAW02', 'DSS01', 'RWAU11', 'RWAU22', 'PW21', 'PAH63', 'RHAU23', 'DSS01', 'DSS04', 'YF05', 'RFAU15', 'PW10', 'PAH74', 'YW13', 'PAH76', 'PAF74', 'BR13', 'PAW61', 'DSS01', 'RHAS42', 'PAF02', 'PAW62', 'YBF00', 'RHAU12', 'PAF80', 'RWAS33', 'PAF79', 'YBF00', 'PAH02', 'PAH82', 'PW30', 'YW12', 'PW11', 'YH03', 'PAW72', 'RHAU13', 'RFAU12', 'RFAU16', 'RFAU22', 'YH03', 'YW02', 'YW04', 'PAW73', 'DH1', 'PAH03', 'PAH80', 'DSS01', 'PAW80', 'DF3', 'DA02', 'YH08', 'PAF03', 'OF1', 'YH10', 'BU08', 'RHAU23', 'PAW67', 'YF03', 'PAW84', 'BR13', 'DSS01', 'PW12', 'RWAS43', 'PAH07', 'PAW10', 'PAF73', 'PAF61', 'DSS04', 'YW03', 'DSS01', 'PAW79', 'PAF10', 'PAH64', 'PAW72', 'YF01', 'RWAU24', 'PAH10', 'YF04', 'PAH83', 'YF10', 'RWAS35', 'PH10', 'RHAU10', 'PAH62', 'PAH76', 'PAT66', 'RWAS41', 'YH04', 'RWAU16', 'PAF70', 'RHAS34', 'RHAU26', 'PAF75', 'RHAU15', 'PAW85', 'YHP', 'PAW86', 'PH12', 'YF10', 'YW10', 'DF4', 'RFAU15', 'YW10', 'PAW10', 'DF2', 'YW08', 'RHAU24', 'YBF00', 'DSS04', 'PAH75', 'YW01', 'PH39', 'PAF69', 'PAH06', 'RWAS34', 'YH02', 'PAF60', 'RWAS40', 'PAF72', 'RWAU26', 'PF22', 'PAH83', 'BU08', 'DF3', 'YW13', 'PAW75', 'YF09', 'RHAS42', 'RWAU12', 'YF06', 'RFAU20', 'YF08', 'RHAS33', 'PAW82', 'RWAS41', 'PAF09', 'RFAS43', 'YF05', 'RHAS41', 'YW05', 'PAH81', 'PAW66', 'PAH73', 'RHAU20', 'RHAU22', 'RFAS35', 'YT09', 'PAF81', 'RWAU11', 'PW31', 'YH07', 'RWAU16', 'RWAS40', 'RFAU26', 'PAW81', 'PF34', 'PAW86', 'PAW80', 'DW3', 'PAW63', 'PAW83', 'RFAU20', 'OH1', 'PAF04', 'RWAU23', 'PW11', 'STO13', 'PAH79', 'PF23', 'RHAU26', 'YHP', 'PAW75', 'DA01', 'YBH00', 'RHAU20', 'DF1', 'PAH05', 'DW1', 'RWAU20', 'PAW87', 'PW20', 'PAF64', 'YW03', 'PAH84', 'PH33', 'PAW71', 'RWAU15', 'PH11', 'PH20', 'PAW78', 'PAF67', 'RHAU14', 'PF34', 'DSS01', 'RFAU12', 'RWAU26', 'YF02', 'PW32', 'DA02', 'BR13', 'DSS01', 'PH31', 'PAF82', 'PAF10', 'PAF71', 'IRW1', 'RWAS43', 'PAH82', 'RHAS34', 'YH02', 'PW19', 'PF23', 'RHAU21', 'RFAS43', 'PH22', 'YF02', 'YW03', 'PAW69', 'PH21', 'RHAU24', 'YF08', 'PF33', 'PAF78', 'RWAU24', 'PAW74', 'PF10', 'PF32', 'RHAU21', 'YW12', 'PW19', 'BU08', 'YH07', 'YW04', 'RHAU20', 'DF1', 'RHAU26', 'YBH00', 'PH20', 'PAH61', 'DW2', 'PW22', 'PAH04', 'PW33', 'PAW65', 'PF34', 'PAH67', 'OW1', 'DF1', 'PAW06', 'YBW00', 'DF2', 'RFAU13', 'YW08', 'RWAS42', 'PAH84', 'YH10', 'OW1', 'RWAS35', 'RFAU25', 'YF02', 'DA01', 'PAW74', 'RHAU22', 'RHAS43', 'PH19', 'PAW04', 'RFAS35', 'PAH85', 'PAH81', 'RHAU11', 'PH23', 'DH2', 'YHP', 'RWAU23', 'RFAU10', 'YBF00', 'RFAU20', 'RHAU12', 'RWAU15', 'RHAS40', 'PAH65', 'BR13', 'PAF87', 'RWAU21', 'PAW67', 'DSS01', 'YBW00', 'BU08', 'PAW60', 'PAH61', 'PF12', 'PAH76', 'PF30', 'DH4', 'PAW05', 'DH3', 'RWAU24', 'RFAS33', 'PH32', 'PAF63', 'YT09', 'YW06', 'RWAU14', 'RWAU20', 'RWAU13', 'RHAU14', 'PAW01', 'PAH85', 'RFAS41', 'RFAU22', 'PAH80', 'STO13', 'YH09', 'YW06', 'RFAU10', 'RWAU21', 'RWAU24', 'RFAU20', 'PAF84', 'RHAS40', 'OH1', 'YF06', 'PAH73', 'DH4', 'RHAU20', 'RWAS34', 'PF11', 'RFAS35', 'RFAS42', 'YF07', 'PH22', 'RFAU22', 'PAH09', 'RHAU11', 'PH30', 'PAH72', 'YH11', 'BU08', 'RWAU10', 'YF02', 'RFAU10', 'PAW71', 'YF03', 'RWAU13', 'PAW07', 'PH23', 'DSS01', 'PAH75', 'DSS01', 'PF19', 'PW10', 'PAH70', 'RFAU25', 'PAW09', 'YH04', 'RWAU20', 'PAH87', 'IRF1', 'PAF88', 'PH13', 'DA02', 'PAW64', 'YH01', 'YW05', 'PAF62', 'PAF62']",
            "count": 1
           },
           {
            "name": "['PAW72', 'PAH71', 'PH34', 'BU06', 'RHBU13', 'PAF60', 'PW11', 'RWBU11', 'PAW05', 'RHBU25', 'PAT01', 'BU06', 'PAH81', 'PAT69', 'RHBU21', 'KAB07', 'RWBS34', 'RWBU11', 'RTBU21', 'BU06', 'PW33', 'BU06', 'YW13', 'YT06', 'RWBU13', 'YM05', 'RFBU22', 'YF04', 'RFBS41', 'RMBU14', 'BR19', 'YM05', 'BU06', 'PM10', 'PT31', 'RMBS42', 'RFBS42', 'PAW82', 'YM01', 'PAF73', 'PH23', 'BU06', 'PAW62', 'YW10', 'PAH65', 'PAH85', 'PM20', 'RHBU20', 'PAF04', 'BU06', 'RHBU11', 'STO13', 'BR19', 'PM30', 'PAT82', 'PAT63', 'PAW61', 'YH01', 'BR19', 'YF10', 'RFBU11', 'YW02', 'PAW01', 'PAM85', 'PAT81', 'PAF83', 'PAW83', 'STO13', 'RMBS34', 'PAM73', 'PM20', 'RWBS34', 'RWBU23', 'PAM80', 'PAT09', 'PAM81', 'PAW79', 'PM12', 'BR19', 'RFBU20', 'PAT87', 'PAW80', 'PH22', 'BU06', 'PH12', 'PAM73', 'YT08', 'RFBU24', 'RMBU26', 'RWBU16', 'PAH69', 'RFBU16', 'RHBS40', 'STO13', 'DH4', 'PAM73', 'PAH03', 'RMBU26', 'DSS01', 'RTBS40', 'PAF83', 'PAH82', 'BR19', 'PH23', 'YM02', 'DA01', 'PW30', 'RFBU20', 'YT02', 'PAT84', 'PAH06', 'RWBS43', 'DSS01', 'RMBS33', 'RTBS43', 'YM08', 'RWBS35', 'RTBU26', 'RHBU10', 'RHBU20', 'PAF73', 'PAT72', 'PW21', 'PAW81', 'PAM73', 'PW39', 'PAW63', 'PAM74', 'PAM87', 'PH11', 'IRF1', 'PAT03', 'YF02', 'PAW64', 'DA02', 'PH33', 'DSS04', 'BU06', 'PAW04', 'PAH76', 'PAT03', 'RHBS43', 'PH10', 'BR19', 'RHBS33', 'PH30', 'PF21', 'DSS04', 'DSS01', 'RMBU25', 'YBT99', 'PAM74', 'RMBU16', 'PAH85', 'PAF64', 'RTBU10', 'PAW09', 'PM13', 'RFAS33', 'OF1', 'YT03', 'PAF81', 'PAW05', 'PM23', 'DSS04', 'PF39', 'PAT84', 'RWBU20', 'PAM84', 'OM-1', 'RFBU15', 'RMBU20', 'RWBU10', 'YW05', 'PAM74', 'RWBS42', 'PAT74', 'PF12', 'RTBS43', 'PAM64', 'RHBS43', 'PH32', 'DF3', 'YT09', 'YW01', 'RFBU23', 'YW09', 'PT19', 'RMBU11', 'RHBU14', 'YH04', 'PAM83', 'RMBU22', 'DSS01', 'PAH76', 'PAF71', 'PAM01', 'DSS04', 'RWBU21', 'DSS04', 'YM11', 'DSS01', 'PAM69', 'RHBU16', 'PH39', 'PW31', 'PW19', 'RTBS40', 'DSS01', 'PAM71', 'PAW70', 'RHBU16', 'RMBU23', 'YF07', 'YH08', 'PF33', 'YT01', 'RMBU14', 'PAM70', 'DT3', 'RMBU24', 'PAW84', 'RWBU25', 'RWBS33', 'RWBU14', 'PM32', 'RHBU22', 'PT39', 'PAH70', 'YW13', 'STO13', 'PAM84', 'PAF72', 'PAM62', 'PAH01', 'PAT65', 'STO13', 'DSS01', 'PT22', 'RHBS40', 'YW06', 'YT10', 'RWBS35', 'RFBU13', 'BR19', 'RMBU21', 'DSS01', 'RMBS35', 'PAW02', 'RMBU23', 'RTBU10', 'RMBU11', 'PM20', 'PAH73', 'RTBU10', 'RTBS35', 'PAT71', 'PT21', 'YF09', 'PAF01', 'RMBS43', 'PAF63', 'PAM74', 'YF06', 'RTBU23', 'STO13', 'RHBU21', 'RWBU20', 'DT1', 'PAT61', 'BR19', 'PAH87', 'RMBU13', 'PH21', 'RTBU11', 'STO13', 'PAW60', 'PM23', 'PAT72', 'PM22', 'PAM72', 'PAH84', 'PAM04', 'PAM02', 'RWBU23', 'BU06', 'PAM84', 'RHBS42', 'PAM01', 'YT08', 'IRT1', 'RFBU23', 'DF1', 'PAM83', 'PAH63', 'RTBU22', 'PM31', 'RWBU24', 'PAW64', 'YF05', 'RMBU15', 'DSS04', 'PAF80', 'BU06', 'RHBU13', 'PAH81', 'DM4', 'PW32', 'STO13', 'RTBU21', 'PAF72', 'PAM75', 'YH02', 'PAF87', 'YHP', 'DSS01', 'RFBS41', 'PAF82', 'RHBU26', 'RWBU21', 'PAW75', 'PAW87', 'YM01', 'PAT02', 'PAM64', 'PAT81', 'PM11', 'YHP', 'YH07', 'YM11', 'RMBU10', 'PAW80', 'YM10', 'RMBU20', 'DF2', 'YM04', 'STO13', 'STO13', 'PT20', 'PAT83', 'DM1', 'DSS01', 'RWBS43', 'RFBU14', 'PW21', 'RMBS40', 'YH06', 'RMBS34', 'PAW83', 'RMBU25', 'PAH71', 'PAF69', 'IRM1', 'DSS01', 'RMBU21', 'RWBU12', 'RHBU24', 'PT12', 'RHBU10', 'BR19', 'RWBU12', 'YW03', 'BU06', 'PAW74', 'PAM84', 'BR19', 'RWBU12', 'BR19', 'PH19', 'RHBS34', 'YT07', 'DH1', 'RFBU10', 'DSS04', 'BR19', 'PS36', 'PAW72', 'PAM85', 'RTBU20', 'BR19', 'RMBU25', 'RHBU11', 'PAW03', 'PAW85', 'PAT80', 'YW12', 'PM39', 'BU06', 'DT2', 'DF3', 'PAM02', 'RWBS40', 'RFBU22', 'RWBS33', 'PAM03', 'YW08', 'RFBU21', 'STO13', 'PS36', 'RHBS35', 'RHBU10', 'RHBS35', 'BU06', 'PAF80', 'BR19', 'BR19', 'RTBU26', 'RMBS35', 'OH1', 'PF30', 'PT11', 'STO13', 'PAM75', 'PAW01', 'RMBU10', 'PAT72', 'RTBS33', 'PF10', 'PAF03', 'PAW71', 'PAH61', 'STO13', 'RHBU26', 'BU06', 'PT10', 'DSS01', 'BU06', 'RWBU25', 'PAM01', 'RWBS40', 'PH31', 'PM33', 'PAT01', 'YW04', 'PAM06', 'PAM60', 'PAF01', 'PAM62', 'DF2', 'BU06', 'PAF70', 'RFBU21', 'DSS01', 'RMBU21', 'PAT70', 'DW4', 'RHBU25', 'YF08', 'PAM61', 'RTBU13', 'RTBS34', 'PF32', 'RFBU15', 'PAW06', 'PW20', 'YT12', 'DSS01', 'BU08', 'YM08', 'PAH75', 'PAW82', 'PM33', 'RTBU26', 'DA02', 'PF22', 'PAF04', 'RTBU15', 'RWBS42', 'DSS01', 'PAW73', 'PAH79', 'NI15', 'RWBU16', 'PAT83', 'RWBU24', 'DA01', 'DSS04', 'RFBU13', 'BU06', 'IRW1', 'RWBU25', 'PM21', 'PAM05', 'PF20', 'YW03', 'YF02', 'YM07', 'PAM70', 'PH20', 'PW11', 'PAH75', 'RWBU16', 'PAW73', 'STO13', 'RHBU24', 'PAT72', 'BU06', 'BR19', 'YBF00', 'RMBU12', 'DSS01', 'OH1', 'PAM86', 'BU06', 'RFBS35', 'RWBS41', 'RMBU11', 'PAM65', 'PAF79', 'BR19', 'DT4', 'YM04', 'BU06', 'RHBU10', 'PAW70', 'RFBU10', 'PAW85', 'PAH02', 'BU06', 'RTBU13', 'STO13', 'BU06', 'YH09', 'YT07', 'STO13', 'DSS04', 'DSS01', 'PAF62', 'BU06', 'YM03', 'PM30', 'PAM74', 'RWBU12', 'BR19', 'PAW84', 'IRH1', 'DSS01', 'BU06', 'PAT71', 'PAH60', 'DSS04', 'PAM85', 'PAW83', 'PAF72', 'PAW75', 'RMBS43', 'PAM85', 'PAT03', 'RMBU22', 'PAH09', 'YT10', 'YM02', 'PAT83', 'RWBU23', 'RMBU23', 'RWBU22', 'RWBU21', 'RMBU11', 'RMBU11', 'RMBS41', 'YT09', 'RMBU16', 'DF4', 'PAM61', 'RFBS34', 'PAM06', 'PF11', 'RHBU12', 'RMBU20', 'PAT62', 'BU06', 'YT12', 'RHBS43', 'YH03', 'DSS01', 'PAM03', 'DSS01', 'DT1', 'RWBS40', 'BU06', 'PM10', 'PAF05', 'DF4', 'BR19', 'BU06', 'PAF61', 'DA01', 'PAW85', 'RWBU22', 'RMBU26', 'PF19', 'STO13', 'DA01', 'DSS01', 'RMBU14', 'RHBS34', 'DSS01', 'RMBU15', 'RMBS42', 'RWBU12', 'PAW02', 'DSS04', 'PAT70', 'PAT04', 'PAM72', 'DF1', 'RMBU16', 'PAT04', 'PAT61', 'RWBU13', 'RWBS35', 'BU06', 'RTBU20', 'PAM86', 'RWBU14', 'PAW74', 'RHBS33', 'YW01', 'PT32', 'DSS01', 'DW1', 'RMBU13', 'PM19', 'YT05', 'RTBU11', 'DW3', 'RTBU23', 'PAW85', 'IRW1', 'PAM04', 'RTBU22', 'PAH04', 'RTBU12', 'PT30', 'PAM79', 'PM21', 'PAH70', 'PAT70', 'YF03', 'DA02', 'YF03', 'YF01', 'PAT82', 'RFBS33', 'DT2', 'RHBU22', 'RFBU25', 'BU06', 'PAM74', 'RMBS33', 'RHBU14', 'YM09', 'PM12', 'PAF09', 'PW12', 'PF13', 'PAW69', 'PAW83', 'PAM05', 'DSS04', 'DSS04', 'DSS04', 'PAH72', 'YT03', 'RTBS42', 'BR19', 'PAW73', 'BR19', 'RHBU12', 'PAT73', 'PAF63', 'BR19', 'BU06', 'RTBS43', 'PAM65', 'PAM64', 'RMBU24', 'BU06', 'BR19', 'PAT60', 'PAF70', 'PAM82', 'PAH75', 'PAT83', 'OT1', 'DSS01', 'RFBU24', 'RTBU12', 'PAW85', 'STO13', 'PAM06', 'PF23', 'BU06', 'PT20', 'BR19', 'PAW64', 'PAH83', 'PH14', 'PM22', 'PAM09', 'KAB06', 'BU06', 'PAH80', 'PAT79', 'PAM63', 'STO13', 'PAW85', 'DSS01', 'PW10', 'PAM60', 'RMBU12', 'YH11', 'BR19', 'RFBS33', 'RMBU10', 'DH3', 'YW04', 'PW22', 'PAM63', 'PAT62', 'PAT73', 'PAM71', 'BR19', 'DSS01', 'DSS04', 'OW1', 'BR19', 'DSS01', 'PAT74', 'BU06', 'PAW74', 'RFBU16', 'PAT74', 'BU06', 'YM03', 'BU06', 'RTBU15', 'DM3', 'YBT00', 'PM11', 'RMBU13', 'STO13', 'RMBU12', 'YM06', 'BU06', 'YH10', 'DSS01', 'BR19', 'PAH05', 'RFBU14', 'PW13', 'RFBU25', 'RMBS40', 'DH2', 'BR19', 'DA01', 'PAH74', 'PAM03', 'RWBU13', 'BU06', 'PAW06', 'RFBS40', 'PAH62', 'PAF63', 'YH13', 'RTBU10', 'PAF03', 'PAF02', 'PAF60', 'RWBS41', 'PAW81', 'BU06', 'PAT86', 'RWBS35', 'PAT63', 'PAT80', 'RTBS35', 'PAH01', 'YM07', 'PAM70', 'PAW06', 'PAH64', 'RWBU22', 'PAH73', 'YM06', 'PAT86', 'YW07', 'PW33', 'RFBS42', 'YM09']",
            "count": 1
           }
          ]
         }
        },
        {
         "name": "Time",
         "dtype": "object",
         "stats": {
          "unique_count": 2,
          "nan_count": 0,
          "categories": [
           {
            "name": "[datetime.time(12, 10), datetime.time(16, 38), datetime.time(18, 18), datetime.time(13, 0), datetime.time(11, 10), datetime.time(13, 56), datetime.time(13, 34), datetime.time(10, 53), datetime.time(15, 33), datetime.time(12, 55), datetime.time(8, 52), datetime.time(14, 24), datetime.time(9, 54), datetime.time(11, 34), datetime.time(10, 30), datetime.time(9, 56), datetime.time(10, 56), datetime.time(11, 20), datetime.time(16, 0), datetime.time(12, 28), datetime.time(12, 15), datetime.time(14, 39), datetime.time(10, 49), datetime.time(13, 50), datetime.time(13, 50), datetime.time(14, 36), datetime.time(13, 17), datetime.time(9, 49), datetime.time(14, 2), datetime.time(15, 32), datetime.time(10, 30), datetime.time(9, 49), datetime.time(13, 45), datetime.time(10, 12), datetime.time(16, 1), datetime.time(11, 35), datetime.time(12, 29), datetime.time(9, 52), datetime.time(17, 40), datetime.time(13, 57), datetime.time(12, 36), datetime.time(14, 32), datetime.time(0, 0), datetime.time(12, 30), datetime.time(16, 42), datetime.time(14, 30), datetime.time(9, 17), datetime.time(12, 30), datetime.time(13, 46), datetime.time(15, 37), datetime.time(11, 53), datetime.time(13, 14), datetime.time(10, 57), datetime.time(0, 0), datetime.time(11, 28), datetime.time(15, 7), datetime.time(15, 26), datetime.time(10, 23), datetime.time(15, 47), datetime.time(11, 51), datetime.time(13, 18), datetime.time(12, 0), datetime.time(10, 37), datetime.time(11, 28), datetime.time(15, 37), datetime.time(11, 59), datetime.time(10, 58), datetime.time(13, 6), datetime.time(13, 34), datetime.time(15, 38), datetime.time(10, 34), datetime.time(8, 27), datetime.time(15, 52), datetime.time(10, 6), datetime.time(7, 44), datetime.time(11, 57), datetime.time(11, 51), datetime.time(9, 12), datetime.time(11, 24), datetime.time(15, 33), datetime.time(9, 44), datetime.time(14, 6), datetime.time(13, 6), datetime.time(10, 36), datetime.time(14, 53), datetime.time(10, 49), datetime.time(10, 30), datetime.time(12, 16), datetime.time(15, 2), datetime.time(13, 4), datetime.time(10, 4), datetime.time(12, 43), datetime.time(13, 14), datetime.time(12, 42), datetime.time(17, 16), datetime.time(13, 58), datetime.time(10, 2), datetime.time(13, 30), datetime.time(17, 56), datetime.time(10, 40), datetime.time(17, 36), datetime.time(15, 10), datetime.time(14, 51), datetime.time(14, 4), datetime.time(9, 14), datetime.time(9, 54), datetime.time(11, 33), datetime.time(13, 24), datetime.time(18, 0), datetime.time(18, 46), datetime.time(11, 53), datetime.time(14, 8), datetime.time(10, 18), datetime.time(9, 28), datetime.time(11, 2), datetime.time(8, 53), datetime.time(14, 5), datetime.time(17, 52), datetime.time(13, 1), datetime.time(12, 45), datetime.time(17, 35), datetime.time(14, 52), datetime.time(14, 29), datetime.time(16, 39), datetime.time(14, 24), datetime.time(12, 6), datetime.time(13, 29), datetime.time(7, 34), datetime.time(12, 24), datetime.time(11, 31), datetime.time(13, 57), datetime.time(14, 38), datetime.time(12, 48), datetime.time(12, 47), datetime.time(10, 41), datetime.time(14, 39), datetime.time(7, 53), datetime.time(13, 11), datetime.time(12, 56), datetime.time(14, 27), datetime.time(10, 28), datetime.time(17, 6), datetime.time(10, 28), datetime.time(14, 1), datetime.time(16, 55), datetime.time(15, 10), datetime.time(12, 58), datetime.time(11, 14), datetime.time(13, 55), datetime.time(14, 15), datetime.time(14, 0), datetime.time(10, 40), datetime.time(14, 12), datetime.time(3, 11), datetime.time(11, 23), datetime.time(10, 6), datetime.time(13, 0), datetime.time(13, 21), datetime.time(10, 53), datetime.time(13, 31), datetime.time(11, 4), datetime.time(15, 40), datetime.time(15, 31), datetime.time(11, 9), datetime.time(13, 33), datetime.time(16, 41), datetime.time(17, 50), datetime.time(10, 25), datetime.time(12, 26), datetime.time(12, 30), datetime.time(13, 25), datetime.time(12, 38), datetime.time(12, 15), datetime.time(9, 57), datetime.time(10, 51), datetime.time(11, 18), datetime.time(13, 35), datetime.time(0, 0), datetime.time(12, 45), datetime.time(13, 19), datetime.time(13, 42), datetime.time(10, 53), datetime.time(17, 0), datetime.time(13, 16), datetime.time(3, 40), datetime.time(12, 49), datetime.time(14, 25), datetime.time(12, 15), datetime.time(9, 30), datetime.time(14, 55), datetime.time(12, 28), datetime.time(14, 3), datetime.time(18, 43), datetime.time(16, 37), datetime.time(3, 10), datetime.time(17, 0), datetime.time(16, 52), datetime.time(11, 26), datetime.time(10, 29), datetime.time(13, 23), datetime.time(10, 25), datetime.time(11, 28), datetime.time(12, 18), datetime.time(1, 47), datetime.time(16, 54), datetime.time(2, 57), datetime.time(13, 25), datetime.time(15, 10), datetime.time(16, 7), datetime.time(15, 38), datetime.time(10, 55), datetime.time(14, 39), datetime.time(11, 30), datetime.time(11, 11), datetime.time(12, 44), datetime.time(11, 8), datetime.time(15, 0), datetime.time(12, 29), datetime.time(15, 0), datetime.time(10, 58), datetime.time(10, 48), datetime.time(10, 56), datetime.time(11, 0), datetime.time(15, 46), datetime.time(16, 20), datetime.time(11, 1), datetime.time(14, 15), datetime.time(15, 27), datetime.time(13, 49), datetime.time(12, 43), datetime.time(13, 2), datetime.time(11, 19), datetime.time(15, 43), datetime.time(14, 18), datetime.time(12, 36), datetime.time(12, 30), datetime.time(10, 5), datetime.time(9, 17), datetime.time(12, 36), datetime.time(13, 0), datetime.time(17, 41), datetime.time(14, 14), datetime.time(12, 0), datetime.time(14, 46), datetime.time(12, 48), datetime.time(15, 27), datetime.time(11, 50), datetime.time(13, 23), datetime.time(13, 2), datetime.time(10, 19), datetime.time(15, 39), datetime.time(13, 0), datetime.time(16, 41), datetime.time(14, 21), datetime.time(14, 9), datetime.time(13, 32), datetime.time(17, 46), datetime.time(12, 58), datetime.time(9, 56), datetime.time(11, 45), datetime.time(12, 31), datetime.time(10, 32), datetime.time(10, 0), datetime.time(0, 0), datetime.time(13, 30), datetime.time(13, 31), datetime.time(14, 56), datetime.time(10, 31), datetime.time(12, 45), datetime.time(12, 30), datetime.time(11, 11), datetime.time(12, 50), datetime.time(13, 57), datetime.time(3, 11), datetime.time(15, 17), datetime.time(13, 27), datetime.time(0, 0), datetime.time(12, 40), datetime.time(12, 30), datetime.time(10, 22), datetime.time(11, 15), datetime.time(14, 7), datetime.time(16, 55), datetime.time(17, 57), datetime.time(13, 11), datetime.time(12, 59), datetime.time(13, 41), datetime.time(15, 38), datetime.time(11, 15), datetime.time(13, 8), datetime.time(10, 32), datetime.time(11, 21), datetime.time(14, 8), datetime.time(10, 45), datetime.time(14, 37), datetime.time(14, 14), datetime.time(15, 54), datetime.time(12, 35), datetime.time(17, 39), datetime.time(12, 21), datetime.time(10, 24), datetime.time(10, 30), datetime.time(14, 30), datetime.time(17, 20), datetime.time(8, 53), datetime.time(11, 31), datetime.time(12, 58), datetime.time(12, 42), datetime.time(14, 27), datetime.time(15, 45), datetime.time(15, 19), datetime.time(10, 45), datetime.time(14, 49), datetime.time(18, 23), datetime.time(12, 25), datetime.time(14, 6), datetime.time(17, 58), datetime.time(11, 2), datetime.time(13, 9), datetime.time(18, 10), datetime.time(2, 15), datetime.time(9, 58), datetime.time(10, 58), datetime.time(14, 2), datetime.time(15, 14), datetime.time(13, 4), datetime.time(13, 34), datetime.time(13, 18), datetime.time(18, 0), datetime.time(10, 37), datetime.time(2, 47), datetime.time(12, 55), datetime.time(13, 36), datetime.time(10, 43), datetime.time(15, 8), datetime.time(11, 19), datetime.time(13, 50), datetime.time(14, 53), datetime.time(12, 28), datetime.time(12, 0), datetime.time(15, 25), datetime.time(12, 24), datetime.time(17, 1), datetime.time(11, 39), datetime.time(14, 2), datetime.time(9, 57), datetime.time(11, 5), datetime.time(14, 37), datetime.time(15, 35), datetime.time(12, 11), datetime.time(15, 15), datetime.time(14, 15), datetime.time(12, 8), datetime.time(18, 7), datetime.time(16, 0), datetime.time(14, 28), datetime.time(14, 31), datetime.time(14, 46), datetime.time(17, 38), datetime.time(10, 45), datetime.time(12, 59), datetime.time(15, 0), datetime.time(11, 59), datetime.time(14, 16), datetime.time(12, 9), datetime.time(13, 0), datetime.time(13, 11), datetime.time(17, 55), datetime.time(13, 56), datetime.time(15, 43), datetime.time(16, 48), datetime.time(16, 41), datetime.time(14, 12), datetime.time(13, 43), datetime.time(10, 22), datetime.time(11, 59), datetime.time(10, 50), datetime.time(15, 11), datetime.time(14, 0), datetime.time(17, 37), datetime.time(17, 52), datetime.time(12, 47), datetime.time(10, 46), datetime.time(15, 16), datetime.time(13, 43), datetime.time(12, 33), datetime.time(3, 6), datetime.time(12, 42), datetime.time(11, 13), datetime.time(8, 16), datetime.time(10, 32), datetime.time(14, 52), datetime.time(14, 54), datetime.time(14, 12), datetime.time(12, 13), datetime.time(10, 45), datetime.time(14, 8), datetime.time(12, 16), datetime.time(12, 56), datetime.time(13, 56), datetime.time(10, 50), datetime.time(6, 45), datetime.time(13, 28), datetime.time(15, 19), datetime.time(8, 35), datetime.time(10, 15), datetime.time(16, 42), datetime.time(9, 52), datetime.time(14, 26), datetime.time(10, 4), datetime.time(11, 44), datetime.time(13, 5), datetime.time(10, 42), datetime.time(11, 40), datetime.time(16, 43), datetime.time(13, 24), datetime.time(13, 30), datetime.time(15, 59), datetime.time(14, 52), datetime.time(13, 41), datetime.time(13, 15), datetime.time(16, 59), datetime.time(10, 55), datetime.time(13, 25), datetime.time(14, 43), datetime.time(12, 41), datetime.time(10, 38), datetime.time(14, 1), datetime.time(12, 27), datetime.time(10, 50), datetime.time(18, 9), datetime.time(11, 57), datetime.time(12, 55)]",
            "count": 1
           },
           {
            "name": "[datetime.time(14, 12), datetime.time(12, 38), datetime.time(12, 15), datetime.time(12, 51), datetime.time(14, 40), datetime.time(15, 22), datetime.time(15, 15), datetime.time(11, 26), datetime.time(12, 33), datetime.time(13, 54), datetime.time(13, 47), datetime.time(16, 0), datetime.time(16, 37), datetime.time(12, 7), datetime.time(11, 18), datetime.time(9, 14), datetime.time(12, 34), datetime.time(15, 47), datetime.time(11, 15), datetime.time(14, 12), datetime.time(14, 45), datetime.time(14, 14), datetime.time(12, 5), datetime.time(17, 31), datetime.time(17, 19), datetime.time(13, 5), datetime.time(14, 2), datetime.time(15, 3), datetime.time(3, 27), datetime.time(10, 10), datetime.time(8, 32), datetime.time(16, 33), datetime.time(10, 53), datetime.time(14, 54), datetime.time(12, 45), datetime.time(3, 11), datetime.time(12, 27), datetime.time(17, 16), datetime.time(17, 23), datetime.time(11, 7), datetime.time(12, 59), datetime.time(15, 22), datetime.time(14, 50), datetime.time(15, 26), datetime.time(14, 12), datetime.time(17, 12), datetime.time(9, 54), datetime.time(13, 55), datetime.time(13, 44), datetime.time(15, 17), datetime.time(11, 5), datetime.time(11, 35), datetime.time(10, 50), datetime.time(13, 45), datetime.time(11, 4), datetime.time(13, 44), datetime.time(14, 1), datetime.time(14, 11), datetime.time(15, 0), datetime.time(14, 28), datetime.time(15, 16), datetime.time(17, 8), datetime.time(12, 53), datetime.time(16, 5), datetime.time(16, 29), datetime.time(11, 36), datetime.time(12, 20), datetime.time(11, 6), datetime.time(15, 32), datetime.time(17, 19), datetime.time(16, 22), datetime.time(17, 20), datetime.time(11, 47), datetime.time(16, 7), datetime.time(12, 26), datetime.time(11, 50), datetime.time(14, 20), datetime.time(10, 49), datetime.time(10, 45), datetime.time(14, 6), datetime.time(12, 28), datetime.time(11, 5), datetime.time(12, 35), datetime.time(12, 23), datetime.time(12, 41), datetime.time(11, 52), datetime.time(13, 39), datetime.time(7, 8), datetime.time(14, 20), datetime.time(10, 2), datetime.time(15, 45), datetime.time(14, 26), datetime.time(12, 39), datetime.time(9, 29), datetime.time(1, 14), datetime.time(16, 34), datetime.time(14, 23), datetime.time(10, 30), datetime.time(8, 43), datetime.time(4, 9), datetime.time(11, 31), datetime.time(14, 58), datetime.time(12, 15), datetime.time(13, 0), datetime.time(17, 11), datetime.time(15, 16), datetime.time(14, 45), datetime.time(11, 46), datetime.time(16, 56), datetime.time(15, 39), datetime.time(13, 51), datetime.time(5, 57), datetime.time(10, 12), datetime.time(15, 43), datetime.time(5, 23), datetime.time(17, 13), datetime.time(12, 24), datetime.time(16, 16), datetime.time(14, 59), datetime.time(10, 23), datetime.time(15, 19), datetime.time(16, 2), datetime.time(13, 30), datetime.time(16, 9), datetime.time(17, 36), datetime.time(12, 30), datetime.time(14, 26), datetime.time(10, 35), datetime.time(11, 46), datetime.time(13, 34), datetime.time(13, 12), datetime.time(10, 52), datetime.time(15, 4), datetime.time(19, 8), datetime.time(14, 15), datetime.time(12, 45), datetime.time(13, 11), datetime.time(15, 19), datetime.time(17, 8), datetime.time(14, 4), datetime.time(16, 34), datetime.time(1, 59), datetime.time(12, 58), datetime.time(14, 10), datetime.time(10, 27), datetime.time(12, 15), datetime.time(12, 54), datetime.time(13, 59), datetime.time(13, 24), datetime.time(19, 13), datetime.time(17, 19), datetime.time(15, 18), datetime.time(14, 48), datetime.time(12, 56), datetime.time(15, 27), datetime.time(12, 24), datetime.time(15, 8), datetime.time(7, 2), datetime.time(7, 16), datetime.time(12, 26), datetime.time(17, 18), datetime.time(12, 37), datetime.time(16, 42), datetime.time(10, 23), datetime.time(11, 32), datetime.time(12, 45), datetime.time(13, 42), datetime.time(15, 0), datetime.time(11, 17), datetime.time(15, 16), datetime.time(14, 12), datetime.time(14, 23), datetime.time(10, 9), datetime.time(15, 47), datetime.time(19, 26), datetime.time(11, 29), datetime.time(15, 13), datetime.time(14, 15), datetime.time(2, 21), datetime.time(17, 35), datetime.time(3, 10), datetime.time(12, 15), datetime.time(12, 13), datetime.time(13, 59), datetime.time(12, 32), datetime.time(10, 5), datetime.time(16, 59), datetime.time(13, 57), datetime.time(17, 54), datetime.time(13, 52), datetime.time(14, 23), datetime.time(16, 0), datetime.time(19, 13), datetime.time(13, 29), datetime.time(16, 43), datetime.time(13, 25), datetime.time(11, 54), datetime.time(7, 48), datetime.time(15, 2), datetime.time(10, 23), datetime.time(17, 7), datetime.time(9, 5), datetime.time(12, 45), datetime.time(9, 59), datetime.time(13, 15), datetime.time(15, 0), datetime.time(14, 45), datetime.time(11, 20), datetime.time(11, 54), datetime.time(16, 33), datetime.time(11, 40), datetime.time(13, 40), datetime.time(14, 41), datetime.time(14, 52), datetime.time(14, 49), datetime.time(15, 0), datetime.time(17, 40), datetime.time(13, 38), datetime.time(19, 41), datetime.time(13, 45), datetime.time(14, 40), datetime.time(11, 58), datetime.time(15, 35), datetime.time(15, 59), datetime.time(13, 57), datetime.time(14, 15), datetime.time(14, 27), datetime.time(11, 45), datetime.time(8, 44), datetime.time(17, 6), datetime.time(11, 31), datetime.time(12, 17), datetime.time(14, 56), datetime.time(14, 3), datetime.time(14, 21), datetime.time(16, 5), datetime.time(7, 44), datetime.time(13, 39), datetime.time(11, 52), datetime.time(3, 24), datetime.time(15, 31), datetime.time(14, 56), datetime.time(16, 20), datetime.time(10, 27), datetime.time(15, 0), datetime.time(16, 14), datetime.time(11, 27), datetime.time(11, 23), datetime.time(16, 59), datetime.time(10, 53), datetime.time(15, 37), datetime.time(15, 2), datetime.time(15, 1), datetime.time(16, 54), datetime.time(12, 13), datetime.time(12, 0), datetime.time(14, 8), datetime.time(11, 47), datetime.time(14, 58), datetime.time(13, 55), datetime.time(3, 30), datetime.time(17, 2), datetime.time(11, 49), datetime.time(14, 57), datetime.time(10, 45), datetime.time(13, 42), datetime.time(14, 31), datetime.time(19, 0), datetime.time(13, 36), datetime.time(14, 30), datetime.time(12, 0), datetime.time(12, 37), datetime.time(13, 54), datetime.time(12, 30), datetime.time(12, 35), datetime.time(9, 55), datetime.time(13, 34), datetime.time(14, 24), datetime.time(10, 16), datetime.time(10, 3), datetime.time(14, 28), datetime.time(12, 18), datetime.time(16, 15), datetime.time(10, 52), datetime.time(15, 18), datetime.time(10, 24), datetime.time(17, 1), datetime.time(1, 56), datetime.time(17, 52), datetime.time(17, 15), datetime.time(13, 48), datetime.time(13, 50), datetime.time(10, 35), datetime.time(16, 25), datetime.time(15, 29), datetime.time(11, 19), datetime.time(14, 0), datetime.time(12, 22), datetime.time(11, 21), datetime.time(15, 1), datetime.time(9, 59), datetime.time(9, 12), datetime.time(15, 20), datetime.time(15, 0), datetime.time(10, 40), datetime.time(17, 55), datetime.time(1, 28), datetime.time(14, 45), datetime.time(10, 4), datetime.time(16, 25), datetime.time(14, 39), datetime.time(19, 33), datetime.time(14, 1), datetime.time(12, 3), datetime.time(15, 13), datetime.time(13, 50), datetime.time(12, 27), datetime.time(12, 59), datetime.time(10, 10), datetime.time(18, 49), datetime.time(11, 29), datetime.time(13, 9), datetime.time(11, 53), datetime.time(14, 42), datetime.time(17, 36), datetime.time(10, 49), datetime.time(14, 47), datetime.time(10, 18), datetime.time(14, 39), datetime.time(13, 9), datetime.time(14, 10), datetime.time(14, 27), datetime.time(14, 12), datetime.time(10, 16), datetime.time(11, 16), datetime.time(11, 11), datetime.time(12, 15), datetime.time(13, 28), datetime.time(11, 43), datetime.time(15, 37), datetime.time(14, 4), datetime.time(12, 3), datetime.time(5, 57), datetime.time(13, 21), datetime.time(13, 45), datetime.time(9, 32), datetime.time(14, 34), datetime.time(12, 23), datetime.time(10, 35), datetime.time(11, 9), datetime.time(16, 41), datetime.time(14, 28), datetime.time(12, 40), datetime.time(8, 56), datetime.time(19, 46), datetime.time(6, 50), datetime.time(15, 21), datetime.time(13, 13), datetime.time(14, 0), datetime.time(15, 45), datetime.time(10, 15), datetime.time(12, 19), datetime.time(12, 29), datetime.time(11, 37), datetime.time(16, 18), datetime.time(15, 45), datetime.time(15, 43), datetime.time(15, 15), datetime.time(12, 34), datetime.time(14, 40), datetime.time(17, 4), datetime.time(11, 15), datetime.time(10, 2), datetime.time(8, 4), datetime.time(15, 0), datetime.time(11, 45), datetime.time(11, 3), datetime.time(11, 55), datetime.time(15, 22), datetime.time(11, 10), datetime.time(14, 43), datetime.time(15, 1), datetime.time(12, 32), datetime.time(20, 2), datetime.time(10, 27), datetime.time(17, 3), datetime.time(11, 45), datetime.time(13, 43), datetime.time(12, 32), datetime.time(11, 53), datetime.time(15, 17), datetime.time(6, 13), datetime.time(10, 40), datetime.time(11, 27), datetime.time(17, 31), datetime.time(15, 32), datetime.time(11, 29), datetime.time(14, 9), datetime.time(12, 15), datetime.time(14, 8), datetime.time(10, 39), datetime.time(14, 12), datetime.time(8, 34), datetime.time(12, 38), datetime.time(11, 30), datetime.time(15, 12), datetime.time(15, 41), datetime.time(15, 38), datetime.time(10, 56), datetime.time(15, 15), datetime.time(13, 16), datetime.time(14, 7), datetime.time(12, 50), datetime.time(17, 26), datetime.time(10, 10), datetime.time(10, 4), datetime.time(14, 45), datetime.time(13, 54), datetime.time(11, 49), datetime.time(15, 28), datetime.time(14, 24), datetime.time(13, 15), datetime.time(14, 30), datetime.time(16, 40), datetime.time(13, 14), datetime.time(14, 10), datetime.time(15, 10), datetime.time(12, 10), datetime.time(17, 44), datetime.time(3, 22), datetime.time(12, 15), datetime.time(13, 45), datetime.time(13, 51), datetime.time(13, 24), datetime.time(14, 43), datetime.time(14, 46), datetime.time(13, 43), datetime.time(17, 8), datetime.time(14, 16), datetime.time(13, 22), datetime.time(15, 59), datetime.time(14, 14), datetime.time(10, 25), datetime.time(11, 21), datetime.time(16, 7), datetime.time(11, 25), datetime.time(10, 21), datetime.time(14, 51), datetime.time(11, 54), datetime.time(15, 43), datetime.time(12, 47), datetime.time(15, 15), datetime.time(10, 31), datetime.time(12, 55), datetime.time(14, 15), datetime.time(16, 58), datetime.time(11, 45), datetime.time(14, 51), datetime.time(12, 32), datetime.time(16, 5), datetime.time(12, 56), datetime.time(10, 0), datetime.time(11, 21), datetime.time(13, 32), datetime.time(13, 23), datetime.time(14, 59), datetime.time(15, 17), datetime.time(5, 34), datetime.time(8, 25), datetime.time(18, 50), datetime.time(15, 26), datetime.time(0, 0), datetime.time(16, 49), datetime.time(10, 24), datetime.time(18, 3), datetime.time(13, 53), datetime.time(10, 25), datetime.time(15, 3), datetime.time(13, 15), datetime.time(15, 9), datetime.time(18, 15), datetime.time(15, 39), datetime.time(11, 16), datetime.time(13, 17), datetime.time(16, 58), datetime.time(10, 3), datetime.time(12, 35), datetime.time(8, 10), datetime.time(12, 20), datetime.time(11, 57), datetime.time(11, 2), datetime.time(15, 9), datetime.time(11, 57), datetime.time(10, 41), datetime.time(11, 34), datetime.time(13, 11), datetime.time(10, 23), datetime.time(13, 42), datetime.time(15, 3), datetime.time(9, 42), datetime.time(12, 12), datetime.time(10, 54), datetime.time(15, 57), datetime.time(13, 33), datetime.time(13, 23), datetime.time(4, 57), datetime.time(10, 52), datetime.time(15, 41), datetime.time(14, 25), datetime.time(15, 25), datetime.time(12, 51), datetime.time(17, 11), datetime.time(13, 38), datetime.time(11, 40), datetime.time(18, 3), datetime.time(14, 28), datetime.time(15, 58), datetime.time(14, 15), datetime.time(12, 41), datetime.time(11, 43), datetime.time(15, 3), datetime.time(11, 55), datetime.time(14, 21), datetime.time(13, 13), datetime.time(9, 24), datetime.time(11, 59), datetime.time(7, 53), datetime.time(16, 48), datetime.time(11, 53), datetime.time(17, 10), datetime.time(12, 15), datetime.time(19, 43), datetime.time(11, 21), datetime.time(12, 35), datetime.time(20, 5), datetime.time(14, 0), datetime.time(12, 38), datetime.time(12, 51), datetime.time(10, 2), datetime.time(17, 0), datetime.time(12, 27), datetime.time(16, 24), datetime.time(16, 45), datetime.time(13, 31), datetime.time(19, 3), datetime.time(12, 6), datetime.time(14, 8), datetime.time(13, 56), datetime.time(10, 11), datetime.time(14, 8), datetime.time(11, 21), datetime.time(12, 9), datetime.time(11, 23), datetime.time(18, 54), datetime.time(19, 11), datetime.time(10, 55), datetime.time(11, 33), datetime.time(10, 54), datetime.time(19, 14), datetime.time(10, 44), datetime.time(16, 49), datetime.time(17, 31), datetime.time(10, 2), datetime.time(16, 41), datetime.time(12, 25), datetime.time(17, 15), datetime.time(14, 18), datetime.time(14, 53), datetime.time(19, 0), datetime.time(14, 45), datetime.time(0, 0), datetime.time(13, 27), datetime.time(1, 28), datetime.time(14, 0), datetime.time(8, 29), datetime.time(15, 59), datetime.time(12, 54), datetime.time(12, 2), datetime.time(10, 32), datetime.time(14, 43), datetime.time(11, 59), datetime.time(14, 21), datetime.time(2, 15), datetime.time(10, 2), datetime.time(15, 4), datetime.time(14, 15), datetime.time(13, 37), datetime.time(11, 40), datetime.time(15, 6), datetime.time(16, 55), datetime.time(14, 38), datetime.time(13, 44), datetime.time(14, 14), datetime.time(10, 6), datetime.time(18, 0), datetime.time(13, 3), datetime.time(10, 29), datetime.time(16, 56), datetime.time(12, 1), datetime.time(18, 2), datetime.time(11, 27), datetime.time(8, 49), datetime.time(16, 4), datetime.time(14, 40), datetime.time(10, 41), datetime.time(13, 42), datetime.time(9, 44), datetime.time(13, 30), datetime.time(12, 31), datetime.time(18, 52), datetime.time(16, 23), datetime.time(12, 22), datetime.time(0, 0), datetime.time(16, 9), datetime.time(10, 17), datetime.time(17, 24), datetime.time(14, 11), datetime.time(17, 42), datetime.time(12, 45), datetime.time(11, 34), datetime.time(13, 9), datetime.time(10, 25), datetime.time(14, 33), datetime.time(16, 51), datetime.time(15, 10), datetime.time(12, 21), datetime.time(16, 15), datetime.time(16, 15), datetime.time(10, 49), datetime.time(11, 51), datetime.time(15, 30), datetime.time(14, 33), datetime.time(11, 45), datetime.time(13, 0), datetime.time(14, 18), datetime.time(10, 45), datetime.time(16, 34), datetime.time(11, 15), datetime.time(12, 34), datetime.time(13, 58), datetime.time(15, 12), datetime.time(14, 47), datetime.time(16, 17), datetime.time(10, 30), datetime.time(14, 34), datetime.time(10, 55), datetime.time(10, 55), datetime.time(14, 50), datetime.time(19, 42), datetime.time(15, 36), datetime.time(10, 7), datetime.time(17, 8), datetime.time(14, 56), datetime.time(13, 10), datetime.time(15, 7), datetime.time(14, 7), datetime.time(13, 34), datetime.time(16, 39), datetime.time(16, 4), datetime.time(12, 8), datetime.time(13, 26), datetime.time(10, 57), datetime.time(12, 24), datetime.time(11, 17), datetime.time(2, 43), datetime.time(15, 28), datetime.time(16, 38), datetime.time(15, 0), datetime.time(10, 58), datetime.time(13, 49), datetime.time(8, 47), datetime.time(15, 35), datetime.time(15, 37), datetime.time(12, 9), datetime.time(13, 19), datetime.time(14, 37), datetime.time(10, 20), datetime.time(11, 28), datetime.time(15, 50), datetime.time(14, 25), datetime.time(15, 17), datetime.time(12, 20), datetime.time(15, 55), datetime.time(15, 38), datetime.time(14, 43), datetime.time(12, 22), datetime.time(14, 35), datetime.time(15, 18), datetime.time(19, 24), datetime.time(8, 45), datetime.time(10, 27), datetime.time(13, 37), datetime.time(15, 25), datetime.time(12, 29), datetime.time(14, 20), datetime.time(14, 57), datetime.time(14, 3), datetime.time(13, 33), datetime.time(15, 50), datetime.time(13, 43), datetime.time(8, 40), datetime.time(16, 0), datetime.time(15, 39), datetime.time(12, 49), datetime.time(15, 15), datetime.time(13, 28), datetime.time(11, 46), datetime.time(13, 29), datetime.time(14, 49), datetime.time(10, 51), datetime.time(13, 18), datetime.time(14, 22), datetime.time(10, 55), datetime.time(15, 3), datetime.time(16, 31), datetime.time(14, 58), datetime.time(17, 4), datetime.time(15, 15), datetime.time(12, 39), datetime.time(7, 22), datetime.time(11, 36), datetime.time(11, 1), datetime.time(15, 15), datetime.time(8, 10), datetime.time(13, 21), datetime.time(15, 43), datetime.time(8, 37), datetime.time(10, 10), datetime.time(10, 46), datetime.time(15, 18), datetime.time(17, 23), datetime.time(10, 5), datetime.time(15, 1), datetime.time(12, 2), datetime.time(10, 12), datetime.time(14, 39), datetime.time(11, 28), datetime.time(12, 29), datetime.time(14, 55), datetime.time(11, 44), datetime.time(18, 45), datetime.time(13, 30), datetime.time(14, 42), datetime.time(17, 2), datetime.time(13, 14), datetime.time(12, 29), datetime.time(12, 17), datetime.time(13, 18), datetime.time(14, 22), datetime.time(9, 43), datetime.time(15, 22), datetime.time(14, 28), datetime.time(2, 25), datetime.time(12, 25), datetime.time(16, 0), datetime.time(13, 49), datetime.time(14, 52), datetime.time(10, 34), datetime.time(10, 46), datetime.time(9, 11), datetime.time(17, 17), datetime.time(3, 19), datetime.time(14, 22), datetime.time(16, 41), datetime.time(14, 29), datetime.time(15, 56), datetime.time(11, 34), datetime.time(13, 46), datetime.time(10, 41), datetime.time(10, 26), datetime.time(11, 43), datetime.time(13, 23), datetime.time(15, 43), datetime.time(12, 29), datetime.time(14, 15), datetime.time(15, 48), datetime.time(14, 52), datetime.time(14, 9), datetime.time(17, 20), datetime.time(19, 27), datetime.time(17, 40), datetime.time(15, 36), datetime.time(18, 30), datetime.time(15, 54), datetime.time(12, 32), datetime.time(10, 7), datetime.time(16, 56), datetime.time(14, 45), datetime.time(3, 28), datetime.time(14, 53)]",
            "count": 1
           }
          ]
         }
        },
        {
         "name": "_deepnote_index_column",
         "dtype": "int64"
        }
       ],
       "rows": [
        {
         "Date": "2013-12-29",
         "Load Type": "['YARD TRIMMING', 'YARD TRIMMING', 'YARD TRIMMING', 'RECYCLING - SINGLE STREAM', 'YARD TRIMMING', '…",
         "Load Weight": 5864992,
         "Dropoff Site": "['HORNSBY BEND', 'HORNSBY BEND', 'HORNSBY BEND', 'BALCONES RECYCLING', 'HORNSBY BEND', 'BALCONES RE…",
         "Route Type": "['YARD TRIMMINGS', 'YARD TRIMMINGS', 'YARD TRIMMINGS', 'RECYCLING - SINGLE STREAM', 'YARD TRIMMINGS…",
         "Route Number": "['YF01', 'YH01', 'YW13', 'DH1', 'YH06', 'RFAU21', 'RHAS35', 'RWAU12', 'PAW81', 'PAF01', 'YBF00', 'P…",
         "Time": "[datetime.time(12, 10), datetime.time(16, 38), datetime.time(18, 18), datetime.time(13, 0), datetim…",
         "_deepnote_index_column": 0
        },
        {
         "Date": "2014-01-05",
         "Load Type": "['GARBAGE COLLECTIONS', 'GARBAGE COLLECTIONS', 'GARBAGE COLLECTIONS', 'BULK', 'RECYCLING - SINGLE S…",
         "Load Weight": 9650424,
         "Dropoff Site": "['TDS LANDFILL', 'TDS LANDFILL', 'TDS LANDFILL', 'TDS LANDFILL', 'BALCONES RECYCLING', 'TDS LANDFIL…",
         "Route Type": "['GARBAGE COLLECTION', 'GARBAGE COLLECTION', 'GARBAGE COLLECTION', 'BULK', 'RECYCLING - SINGLE STRE…",
         "Route Number": "['PAW72', 'PAH71', 'PH34', 'BU06', 'RHBU13', 'PAF60', 'PW11', 'RWBU11', 'PAW05', 'RHBU25', 'PAT01',…",
         "Time": "[datetime.time(14, 12), datetime.time(12, 38), datetime.time(12, 15), datetime.time(12, 51), dateti…",
         "_deepnote_index_column": 1
        }
       ]
      },
      "text/plain": "         Date                                          Load Type  Load Weight  \\\n0  2013-12-29  ['YARD TRIMMING', 'YARD TRIMMING', 'YARD TRIMM...    5864992.0   \n1  2014-01-05  ['GARBAGE COLLECTIONS', 'GARBAGE COLLECTIONS',...    9650424.0   \n\n                                        Dropoff Site  \\\n0  ['HORNSBY BEND', 'HORNSBY BEND', 'HORNSBY BEND...   \n1  ['TDS LANDFILL', 'TDS LANDFILL', 'TDS LANDFILL...   \n\n                                          Route Type  \\\n0  ['YARD TRIMMINGS', 'YARD TRIMMINGS', 'YARD TRI...   \n1  ['GARBAGE COLLECTION', 'GARBAGE COLLECTION', '...   \n\n                                        Route Number  \\\n0  ['YF01', 'YH01', 'YW13', 'DH1', 'YH06', 'RFAU2...   \n1  ['PAW72', 'PAH71', 'PH34', 'BU06', 'RHBU13', '...   \n\n                                                Time  \n0  [datetime.time(12, 10), datetime.time(16, 38),...  \n1  [datetime.time(14, 12), datetime.time(12, 38),...  ",
      "text/html": "<div>\n<style scoped>\n    .dataframe tbody tr th:only-of-type {\n        vertical-align: middle;\n    }\n\n    .dataframe tbody tr th {\n        vertical-align: top;\n    }\n\n    .dataframe thead th {\n        text-align: right;\n    }\n</style>\n<table border=\"1\" class=\"dataframe\">\n  <thead>\n    <tr style=\"text-align: right;\">\n      <th></th>\n      <th>Date</th>\n      <th>Load Type</th>\n      <th>Load Weight</th>\n      <th>Dropoff Site</th>\n      <th>Route Type</th>\n      <th>Route Number</th>\n      <th>Time</th>\n    </tr>\n  </thead>\n  <tbody>\n    <tr>\n      <th>0</th>\n      <td>2013-12-29</td>\n      <td>['YARD TRIMMING', 'YARD TRIMMING', 'YARD TRIMM...</td>\n      <td>5864992.0</td>\n      <td>['HORNSBY BEND', 'HORNSBY BEND', 'HORNSBY BEND...</td>\n      <td>['YARD TRIMMINGS', 'YARD TRIMMINGS', 'YARD TRI...</td>\n      <td>['YF01', 'YH01', 'YW13', 'DH1', 'YH06', 'RFAU2...</td>\n      <td>[datetime.time(12, 10), datetime.time(16, 38),...</td>\n    </tr>\n    <tr>\n      <th>1</th>\n      <td>2014-01-05</td>\n      <td>['GARBAGE COLLECTIONS', 'GARBAGE COLLECTIONS',...</td>\n      <td>9650424.0</td>\n      <td>['TDS LANDFILL', 'TDS LANDFILL', 'TDS LANDFILL...</td>\n      <td>['GARBAGE COLLECTION', 'GARBAGE COLLECTION', '...</td>\n      <td>['PAW72', 'PAH71', 'PH34', 'BU06', 'RHBU13', '...</td>\n      <td>[datetime.time(14, 12), datetime.time(12, 38),...</td>\n    </tr>\n  </tbody>\n</table>\n</div>"
     },
     "metadata": {}
    }
   ]
  },
  {
   "cell_type": "code",
   "metadata": {
    "cell_id": "7799ecf0-7ca6-4a11-8da7-4f1413e291cc",
    "tags": [],
    "deepnote_to_be_reexecuted": false,
    "source_hash": "181146e8",
    "execution_start": 1647860190951,
    "execution_millis": 8,
    "deepnote_cell_type": "code",
    "deepnote_cell_height": 559.5,
    "deepnote_output_heights": [
     462.5
    ]
   },
   "source": "weather_df['time'].sort_values() , garbage_df['Date'].sort_values()",
   "execution_count": null,
   "outputs": [
    {
     "output_type": "execute_result",
     "execution_count": 70,
     "data": {
      "text/plain": "(0      2005-01-02\n 1      2005-01-09\n 2      2005-01-16\n 3      2005-01-23\n 4      2005-01-30\n           ...    \n 883    2021-12-05\n 884    2021-12-12\n 885    2021-12-19\n 886    2021-12-26\n 887    2022-01-02\n Name: time, Length: 888, dtype: object,\n 0      2013-12-29\n 1      2014-01-05\n 2      2014-01-12\n 3      2014-01-19\n 4      2014-01-26\n           ...    \n 391    2021-06-27\n 392    2021-07-04\n 393    2021-07-11\n 394    2021-12-05\n 395    2021-12-19\n Name: Date, Length: 396, dtype: object)"
     },
     "metadata": {}
    }
   ]
  },
  {
   "cell_type": "code",
   "metadata": {
    "cell_id": "52b752f3-06d8-4540-8ebe-23f7b6896bf5",
    "tags": [],
    "deepnote_to_be_reexecuted": false,
    "source_hash": "6b8c764d",
    "execution_start": 1647860197896,
    "execution_millis": 55,
    "deepnote_cell_type": "code",
    "deepnote_cell_height": 687
   },
   "source": "weather_df_1 = weather_df.copy()\nweather_df_1['year'] =pd.to_datetime(weather_df_1['time']).dt.year\nweather_df_1 = weather_df_1[(weather_df_1['year']>2013) & (weather_df_1['year']<2020)]\nweather_df_1 = weather_df_1.drop(columns = ['year'])\nweather_df_1",
   "execution_count": null,
   "outputs": [
    {
     "output_type": "execute_result",
     "execution_count": 71,
     "data": {
      "application/vnd.deepnote.dataframe.v3+json": {
       "column_count": 11,
       "row_count": 313,
       "columns": [
        {
         "name": "time",
         "dtype": "object",
         "stats": {
          "unique_count": 313,
          "nan_count": 0,
          "categories": [
           {
            "name": "2014-01-05",
            "count": 1
           },
           {
            "name": "2014-01-12",
            "count": 1
           },
           {
            "name": "311 others",
            "count": 311
           }
          ]
         }
        },
        {
         "name": "tavg",
         "dtype": "float64",
         "stats": {
          "unique_count": 186,
          "nan_count": 0,
          "min": "2.6",
          "max": "32.3",
          "histogram": [
           {
            "bin_start": 2.6,
            "bin_end": 5.57,
            "count": 4
           },
           {
            "bin_start": 5.57,
            "bin_end": 8.54,
            "count": 13
           },
           {
            "bin_start": 8.54,
            "bin_end": 11.51,
            "count": 26
           },
           {
            "bin_start": 11.51,
            "bin_end": 14.479999999999999,
            "count": 29
           },
           {
            "bin_start": 14.479999999999999,
            "bin_end": 17.45,
            "count": 30
           },
           {
            "bin_start": 17.45,
            "bin_end": 20.42,
            "count": 41
           },
           {
            "bin_start": 20.42,
            "bin_end": 23.39,
            "count": 35
           },
           {
            "bin_start": 23.39,
            "bin_end": 26.36,
            "count": 40
           },
           {
            "bin_start": 26.36,
            "bin_end": 29.33,
            "count": 49
           },
           {
            "bin_start": 29.33,
            "bin_end": 32.3,
            "count": 46
           }
          ]
         }
        },
        {
         "name": "tmin",
         "dtype": "float64",
         "stats": {
          "unique_count": 58,
          "nan_count": 0,
          "min": "-7.7",
          "max": "25.6",
          "histogram": [
           {
            "bin_start": -7.7,
            "bin_end": -4.369999999999999,
            "count": 6
           },
           {
            "bin_start": -4.369999999999999,
            "bin_end": -1.0399999999999991,
            "count": 12
           },
           {
            "bin_start": -1.0399999999999991,
            "bin_end": 2.290000000000002,
            "count": 44
           },
           {
            "bin_start": 2.290000000000002,
            "bin_end": 5.620000000000002,
            "count": 34
           },
           {
            "bin_start": 5.620000000000002,
            "bin_end": 8.950000000000003,
            "count": 41
           },
           {
            "bin_start": 8.950000000000003,
            "bin_end": 12.280000000000005,
            "count": 26
           },
           {
            "bin_start": 12.280000000000005,
            "bin_end": 15.610000000000003,
            "count": 27
           },
           {
            "bin_start": 15.610000000000003,
            "bin_end": 18.940000000000005,
            "count": 28
           },
           {
            "bin_start": 18.940000000000005,
            "bin_end": 22.270000000000007,
            "count": 45
           },
           {
            "bin_start": 22.270000000000007,
            "bin_end": 25.6,
            "count": 50
           }
          ]
         }
        },
        {
         "name": "tmax",
         "dtype": "float64",
         "stats": {
          "unique_count": 44,
          "nan_count": 0,
          "min": "16.7",
          "max": "43.3",
          "histogram": [
           {
            "bin_start": 16.7,
            "bin_end": 19.36,
            "count": 5
           },
           {
            "bin_start": 19.36,
            "bin_end": 22.02,
            "count": 14
           },
           {
            "bin_start": 22.02,
            "bin_end": 24.68,
            "count": 26
           },
           {
            "bin_start": 24.68,
            "bin_end": 27.339999999999996,
            "count": 33
           },
           {
            "bin_start": 27.339999999999996,
            "bin_end": 30,
            "count": 41
           },
           {
            "bin_start": 30,
            "bin_end": 32.66,
            "count": 55
           },
           {
            "bin_start": 32.66,
            "bin_end": 35.31999999999999,
            "count": 52
           },
           {
            "bin_start": 35.31999999999999,
            "bin_end": 37.98,
            "count": 41
           },
           {
            "bin_start": 37.98,
            "bin_end": 40.64,
            "count": 43
           },
           {
            "bin_start": 40.64,
            "bin_end": 43.3,
            "count": 3
           }
          ]
         }
        },
        {
         "name": "prcp",
         "dtype": "float64",
         "stats": {
          "unique_count": 152,
          "nan_count": 0,
          "min": "0.0",
          "max": "201.6",
          "histogram": [
           {
            "bin_start": 0,
            "bin_end": 20.16,
            "count": 225
           },
           {
            "bin_start": 20.16,
            "bin_end": 40.32,
            "count": 35
           },
           {
            "bin_start": 40.32,
            "bin_end": 60.480000000000004,
            "count": 20
           },
           {
            "bin_start": 60.480000000000004,
            "bin_end": 80.64,
            "count": 12
           },
           {
            "bin_start": 80.64,
            "bin_end": 100.8,
            "count": 10
           },
           {
            "bin_start": 100.8,
            "bin_end": 120.96000000000001,
            "count": 2
           },
           {
            "bin_start": 120.96000000000001,
            "bin_end": 141.12,
            "count": 4
           },
           {
            "bin_start": 141.12,
            "bin_end": 161.28,
            "count": 3
           },
           {
            "bin_start": 161.28,
            "bin_end": 181.44,
            "count": 1
           },
           {
            "bin_start": 181.44,
            "bin_end": 201.6,
            "count": 1
           }
          ]
         }
        },
        {
         "name": "snow",
         "dtype": "float64",
         "stats": {
          "unique_count": 1,
          "nan_count": 0,
          "min": "0.0",
          "max": "0.0",
          "histogram": [
           {
            "bin_start": -0.5,
            "bin_end": -0.4,
            "count": 0
           },
           {
            "bin_start": -0.4,
            "bin_end": -0.3,
            "count": 0
           },
           {
            "bin_start": -0.3,
            "bin_end": -0.19999999999999996,
            "count": 0
           },
           {
            "bin_start": -0.19999999999999996,
            "bin_end": -0.09999999999999998,
            "count": 0
           },
           {
            "bin_start": -0.09999999999999998,
            "bin_end": 0,
            "count": 0
           },
           {
            "bin_start": 0,
            "bin_end": 0.10000000000000009,
            "count": 313
           },
           {
            "bin_start": 0.10000000000000009,
            "bin_end": 0.20000000000000007,
            "count": 0
           },
           {
            "bin_start": 0.20000000000000007,
            "bin_end": 0.30000000000000004,
            "count": 0
           },
           {
            "bin_start": 0.30000000000000004,
            "bin_end": 0.4,
            "count": 0
           },
           {
            "bin_start": 0.4,
            "bin_end": 0.5,
            "count": 0
           }
          ]
         }
        },
        {
         "name": "wdir",
         "dtype": "float64",
         "stats": {
          "unique_count": 93,
          "nan_count": 219,
          "min": "0.4",
          "max": "353.3",
          "histogram": [
           {
            "bin_start": 0.4,
            "bin_end": 35.690000000000005,
            "count": 13
           },
           {
            "bin_start": 35.690000000000005,
            "bin_end": 70.98000000000002,
            "count": 10
           },
           {
            "bin_start": 70.98000000000002,
            "bin_end": 106.27000000000002,
            "count": 3
           },
           {
            "bin_start": 106.27000000000002,
            "bin_end": 141.56000000000003,
            "count": 15
           },
           {
            "bin_start": 141.56000000000003,
            "bin_end": 176.85000000000005,
            "count": 22
           },
           {
            "bin_start": 176.85000000000005,
            "bin_end": 212.14000000000004,
            "count": 10
           },
           {
            "bin_start": 212.14000000000004,
            "bin_end": 247.43000000000004,
            "count": 2
           },
           {
            "bin_start": 247.43000000000004,
            "bin_end": 282.72,
            "count": 5
           },
           {
            "bin_start": 282.72,
            "bin_end": 318.01000000000005,
            "count": 5
           },
           {
            "bin_start": 318.01000000000005,
            "bin_end": 353.3,
            "count": 9
           }
          ]
         }
        },
        {
         "name": "wspd",
         "dtype": "float64",
         "stats": {
          "unique_count": 83,
          "nan_count": 0,
          "min": "3.3",
          "max": "14.2",
          "histogram": [
           {
            "bin_start": 3.3,
            "bin_end": 4.39,
            "count": 8
           },
           {
            "bin_start": 4.39,
            "bin_end": 5.4799999999999995,
            "count": 23
           },
           {
            "bin_start": 5.4799999999999995,
            "bin_end": 6.569999999999999,
            "count": 48
           },
           {
            "bin_start": 6.569999999999999,
            "bin_end": 7.659999999999999,
            "count": 76
           },
           {
            "bin_start": 7.659999999999999,
            "bin_end": 8.75,
            "count": 65
           },
           {
            "bin_start": 8.75,
            "bin_end": 9.84,
            "count": 45
           },
           {
            "bin_start": 9.84,
            "bin_end": 10.93,
            "count": 29
           },
           {
            "bin_start": 10.93,
            "bin_end": 12.02,
            "count": 13
           },
           {
            "bin_start": 12.02,
            "bin_end": 13.11,
            "count": 5
           },
           {
            "bin_start": 13.11,
            "bin_end": 14.2,
            "count": 1
           }
          ]
         }
        },
        {
         "name": "wpgt",
         "dtype": "float64",
         "stats": {
          "unique_count": 0,
          "nan_count": 313,
          "min": null,
          "max": null,
          "histogram": [
           {
            "bin_start": 0,
            "bin_end": 0.1,
            "count": 0
           },
           {
            "bin_start": 0.1,
            "bin_end": 0.2,
            "count": 0
           },
           {
            "bin_start": 0.2,
            "bin_end": 0.30000000000000004,
            "count": 0
           },
           {
            "bin_start": 0.30000000000000004,
            "bin_end": 0.4,
            "count": 0
           },
           {
            "bin_start": 0.4,
            "bin_end": 0.5,
            "count": 0
           },
           {
            "bin_start": 0.5,
            "bin_end": 0.6000000000000001,
            "count": 0
           },
           {
            "bin_start": 0.6000000000000001,
            "bin_end": 0.7000000000000001,
            "count": 0
           },
           {
            "bin_start": 0.7000000000000001,
            "bin_end": 0.8,
            "count": 0
           },
           {
            "bin_start": 0.8,
            "bin_end": 0.9,
            "count": 0
           },
           {
            "bin_start": 0.9,
            "bin_end": 1,
            "count": 0
           }
          ]
         }
        },
        {
         "name": "pres",
         "dtype": "float64",
         "stats": {
          "unique_count": 139,
          "nan_count": 0,
          "min": "1005.7",
          "max": "1033.7",
          "histogram": [
           {
            "bin_start": 1005.7,
            "bin_end": 1008.5,
            "count": 2
           },
           {
            "bin_start": 1008.5,
            "bin_end": 1011.3000000000001,
            "count": 27
           },
           {
            "bin_start": 1011.3000000000001,
            "bin_end": 1014.1,
            "count": 71
           },
           {
            "bin_start": 1014.1,
            "bin_end": 1016.9000000000001,
            "count": 83
           },
           {
            "bin_start": 1016.9000000000001,
            "bin_end": 1019.7,
            "count": 54
           },
           {
            "bin_start": 1019.7,
            "bin_end": 1022.5,
            "count": 36
           },
           {
            "bin_start": 1022.5,
            "bin_end": 1025.3,
            "count": 29
           },
           {
            "bin_start": 1025.3,
            "bin_end": 1028.1000000000001,
            "count": 6
           },
           {
            "bin_start": 1028.1000000000001,
            "bin_end": 1030.9,
            "count": 3
           },
           {
            "bin_start": 1030.9,
            "bin_end": 1033.7,
            "count": 2
           }
          ]
         }
        },
        {
         "name": "tsun",
         "dtype": "float64",
         "stats": {
          "unique_count": 1,
          "nan_count": 0,
          "min": "0.0",
          "max": "0.0",
          "histogram": [
           {
            "bin_start": -0.5,
            "bin_end": -0.4,
            "count": 0
           },
           {
            "bin_start": -0.4,
            "bin_end": -0.3,
            "count": 0
           },
           {
            "bin_start": -0.3,
            "bin_end": -0.19999999999999996,
            "count": 0
           },
           {
            "bin_start": -0.19999999999999996,
            "bin_end": -0.09999999999999998,
            "count": 0
           },
           {
            "bin_start": -0.09999999999999998,
            "bin_end": 0,
            "count": 0
           },
           {
            "bin_start": 0,
            "bin_end": 0.10000000000000009,
            "count": 313
           },
           {
            "bin_start": 0.10000000000000009,
            "bin_end": 0.20000000000000007,
            "count": 0
           },
           {
            "bin_start": 0.20000000000000007,
            "bin_end": 0.30000000000000004,
            "count": 0
           },
           {
            "bin_start": 0.30000000000000004,
            "bin_end": 0.4,
            "count": 0
           },
           {
            "bin_start": 0.4,
            "bin_end": 0.5,
            "count": 0
           }
          ]
         }
        },
        {
         "name": "_deepnote_index_column",
         "dtype": "int64"
        }
       ],
       "rows": [
        {
         "time": "2014-01-05",
         "tavg": 8,
         "tmin": -2.1,
         "tmax": 21.7,
         "prcp": 0,
         "snow": 0,
         "wdir": "nan",
         "wspd": 8.7,
         "wpgt": "nan",
         "pres": 1023.5,
         "tsun": 0,
         "_deepnote_index_column": 470
        },
        {
         "time": "2014-01-12",
         "tavg": 10.5,
         "tmin": -5.5,
         "tmax": 23.9,
         "prcp": 6.9,
         "snow": 0,
         "wdir": "nan",
         "wspd": 6.6,
         "wpgt": "nan",
         "pres": 1027.3,
         "tsun": 0,
         "_deepnote_index_column": 471
        },
        {
         "time": "2014-01-19",
         "tavg": 13,
         "tmin": 2.8,
         "tmax": 24.4,
         "prcp": 0,
         "snow": 0,
         "wdir": "nan",
         "wspd": 7,
         "wpgt": "nan",
         "pres": 1022.2,
         "tsun": 0,
         "_deepnote_index_column": 472
        },
        {
         "time": "2014-01-26",
         "tavg": 9.9,
         "tmin": -3.2,
         "tmax": 27.8,
         "prcp": 2.8,
         "snow": 0,
         "wdir": "nan",
         "wspd": 7.7,
         "wpgt": "nan",
         "pres": 1023.2,
         "tsun": 0,
         "_deepnote_index_column": 473
        },
        {
         "time": "2014-02-02",
         "tavg": 9.5,
         "tmin": -2.7,
         "tmax": 26.7,
         "prcp": 2.3,
         "snow": 0,
         "wdir": 352.7,
         "wspd": 12.3,
         "wpgt": "nan",
         "pres": 1020.1,
         "tsun": 0,
         "_deepnote_index_column": 474
        },
        {
         "time": "2014-02-09",
         "tavg": 4.8,
         "tmin": -3.2,
         "tmax": 24.4,
         "prcp": 3.8,
         "snow": 0,
         "wdir": 346.1,
         "wspd": 8.8,
         "wpgt": "nan",
         "pres": 1023.8,
         "tsun": 0,
         "_deepnote_index_column": 475
        },
        {
         "time": "2014-02-16",
         "tavg": 10.7,
         "tmin": 0,
         "tmax": 30,
         "prcp": 2.5,
         "snow": 0,
         "wdir": "nan",
         "wspd": 9.8,
         "wpgt": "nan",
         "pres": 1018.9,
         "tsun": 0,
         "_deepnote_index_column": 476
        },
        {
         "time": "2014-02-23",
         "tavg": 19.4,
         "tmin": 5,
         "tmax": 30,
         "prcp": 0,
         "snow": 0,
         "wdir": "nan",
         "wspd": 9,
         "wpgt": "nan",
         "pres": 1015.1,
         "tsun": 0,
         "_deepnote_index_column": 477
        },
        {
         "time": "2014-03-02",
         "tavg": 12.3,
         "tmin": -2.1,
         "tmax": 27.8,
         "prcp": 4.8,
         "snow": 0,
         "wdir": "nan",
         "wspd": 9.5,
         "wpgt": "nan",
         "pres": 1020.6,
         "tsun": 0,
         "_deepnote_index_column": 478
        },
        {
         "time": "2014-03-09",
         "tavg": 8.4,
         "tmin": -4.3,
         "tmax": 19.4,
         "prcp": 27.9,
         "snow": 0,
         "wdir": "nan",
         "wspd": 8.3,
         "wpgt": "nan",
         "pres": 1019.9,
         "tsun": 0,
         "_deepnote_index_column": 479
        }
       ]
      },
      "text/plain": "           time  tavg  tmin  tmax  prcp  snow   wdir  wspd  wpgt    pres  tsun\n470  2014-01-05   8.0  -2.1  21.7   0.0   0.0    NaN   8.7   NaN  1023.5   0.0\n471  2014-01-12  10.5  -5.5  23.9   6.9   0.0    NaN   6.6   NaN  1027.3   0.0\n472  2014-01-19  13.0   2.8  24.4   0.0   0.0    NaN   7.0   NaN  1022.2   0.0\n473  2014-01-26   9.9  -3.2  27.8   2.8   0.0    NaN   7.7   NaN  1023.2   0.0\n474  2014-02-02   9.5  -2.7  26.7   2.3   0.0  352.7  12.3   NaN  1020.1   0.0\n..          ...   ...   ...   ...   ...   ...    ...   ...   ...     ...   ...\n778  2019-12-01  17.1   8.9  31.1   5.1   0.0  270.2   7.7   NaN  1014.3   0.0\n779  2019-12-08  15.1   3.9  23.9   0.0   0.0  353.3   5.8   NaN  1019.5   0.0\n780  2019-12-15  13.2   1.7  28.3   9.4   0.0  196.6   5.5   NaN  1017.3   0.0\n781  2019-12-22   8.9  -1.0  21.1   9.9   0.0  329.2   6.0   NaN  1026.0   0.0\n782  2019-12-29  14.4   2.2  22.2   1.8   0.0  195.1   4.3   NaN  1015.2   0.0\n\n[313 rows x 11 columns]",
      "text/html": "<div>\n<style scoped>\n    .dataframe tbody tr th:only-of-type {\n        vertical-align: middle;\n    }\n\n    .dataframe tbody tr th {\n        vertical-align: top;\n    }\n\n    .dataframe thead th {\n        text-align: right;\n    }\n</style>\n<table border=\"1\" class=\"dataframe\">\n  <thead>\n    <tr style=\"text-align: right;\">\n      <th></th>\n      <th>time</th>\n      <th>tavg</th>\n      <th>tmin</th>\n      <th>tmax</th>\n      <th>prcp</th>\n      <th>snow</th>\n      <th>wdir</th>\n      <th>wspd</th>\n      <th>wpgt</th>\n      <th>pres</th>\n      <th>tsun</th>\n    </tr>\n  </thead>\n  <tbody>\n    <tr>\n      <th>470</th>\n      <td>2014-01-05</td>\n      <td>8.0</td>\n      <td>-2.1</td>\n      <td>21.7</td>\n      <td>0.0</td>\n      <td>0.0</td>\n      <td>NaN</td>\n      <td>8.7</td>\n      <td>NaN</td>\n      <td>1023.5</td>\n      <td>0.0</td>\n    </tr>\n    <tr>\n      <th>471</th>\n      <td>2014-01-12</td>\n      <td>10.5</td>\n      <td>-5.5</td>\n      <td>23.9</td>\n      <td>6.9</td>\n      <td>0.0</td>\n      <td>NaN</td>\n      <td>6.6</td>\n      <td>NaN</td>\n      <td>1027.3</td>\n      <td>0.0</td>\n    </tr>\n    <tr>\n      <th>472</th>\n      <td>2014-01-19</td>\n      <td>13.0</td>\n      <td>2.8</td>\n      <td>24.4</td>\n      <td>0.0</td>\n      <td>0.0</td>\n      <td>NaN</td>\n      <td>7.0</td>\n      <td>NaN</td>\n      <td>1022.2</td>\n      <td>0.0</td>\n    </tr>\n    <tr>\n      <th>473</th>\n      <td>2014-01-26</td>\n      <td>9.9</td>\n      <td>-3.2</td>\n      <td>27.8</td>\n      <td>2.8</td>\n      <td>0.0</td>\n      <td>NaN</td>\n      <td>7.7</td>\n      <td>NaN</td>\n      <td>1023.2</td>\n      <td>0.0</td>\n    </tr>\n    <tr>\n      <th>474</th>\n      <td>2014-02-02</td>\n      <td>9.5</td>\n      <td>-2.7</td>\n      <td>26.7</td>\n      <td>2.3</td>\n      <td>0.0</td>\n      <td>352.7</td>\n      <td>12.3</td>\n      <td>NaN</td>\n      <td>1020.1</td>\n      <td>0.0</td>\n    </tr>\n    <tr>\n      <th>...</th>\n      <td>...</td>\n      <td>...</td>\n      <td>...</td>\n      <td>...</td>\n      <td>...</td>\n      <td>...</td>\n      <td>...</td>\n      <td>...</td>\n      <td>...</td>\n      <td>...</td>\n      <td>...</td>\n    </tr>\n    <tr>\n      <th>778</th>\n      <td>2019-12-01</td>\n      <td>17.1</td>\n      <td>8.9</td>\n      <td>31.1</td>\n      <td>5.1</td>\n      <td>0.0</td>\n      <td>270.2</td>\n      <td>7.7</td>\n      <td>NaN</td>\n      <td>1014.3</td>\n      <td>0.0</td>\n    </tr>\n    <tr>\n      <th>779</th>\n      <td>2019-12-08</td>\n      <td>15.1</td>\n      <td>3.9</td>\n      <td>23.9</td>\n      <td>0.0</td>\n      <td>0.0</td>\n      <td>353.3</td>\n      <td>5.8</td>\n      <td>NaN</td>\n      <td>1019.5</td>\n      <td>0.0</td>\n    </tr>\n    <tr>\n      <th>780</th>\n      <td>2019-12-15</td>\n      <td>13.2</td>\n      <td>1.7</td>\n      <td>28.3</td>\n      <td>9.4</td>\n      <td>0.0</td>\n      <td>196.6</td>\n      <td>5.5</td>\n      <td>NaN</td>\n      <td>1017.3</td>\n      <td>0.0</td>\n    </tr>\n    <tr>\n      <th>781</th>\n      <td>2019-12-22</td>\n      <td>8.9</td>\n      <td>-1.0</td>\n      <td>21.1</td>\n      <td>9.9</td>\n      <td>0.0</td>\n      <td>329.2</td>\n      <td>6.0</td>\n      <td>NaN</td>\n      <td>1026.0</td>\n      <td>0.0</td>\n    </tr>\n    <tr>\n      <th>782</th>\n      <td>2019-12-29</td>\n      <td>14.4</td>\n      <td>2.2</td>\n      <td>22.2</td>\n      <td>1.8</td>\n      <td>0.0</td>\n      <td>195.1</td>\n      <td>4.3</td>\n      <td>NaN</td>\n      <td>1015.2</td>\n      <td>0.0</td>\n    </tr>\n  </tbody>\n</table>\n<p>313 rows × 11 columns</p>\n</div>"
     },
     "metadata": {}
    }
   ]
  },
  {
   "cell_type": "code",
   "metadata": {
    "cell_id": "1d9c1a69-faf0-48e2-b8a4-12d35db14723",
    "tags": [],
    "deepnote_to_be_reexecuted": false,
    "source_hash": "ff5410d7",
    "execution_start": 1647860205781,
    "execution_millis": 104,
    "deepnote_cell_type": "code",
    "deepnote_cell_height": 670
   },
   "source": "garbage_df_1 = garbage_df.copy()\ngarbage_df_1['year'] =pd.to_datetime(garbage_df_1['Date']).dt.year\ngarbage_df_1 = garbage_df_1[(garbage_df_1['year']>2013) & (garbage_df_1['year']<2020)]\ngarbage_df_1 = garbage_df_1.drop(columns = ['year'])\ngarbage_df_1",
   "execution_count": null,
   "outputs": [
    {
     "output_type": "execute_result",
     "execution_count": 72,
     "data": {
      "application/vnd.deepnote.dataframe.v3+json": {
       "column_count": 7,
       "row_count": 313,
       "columns": [
        {
         "name": "Date",
         "dtype": "object",
         "stats": {
          "unique_count": 313,
          "nan_count": 0,
          "categories": [
           {
            "name": "2014-01-05",
            "count": 1
           },
           {
            "name": "2014-01-12",
            "count": 1
           },
           {
            "name": "311 others",
            "count": 311
           }
          ]
         }
        },
        {
         "name": "Load Type",
         "dtype": "object",
         "stats": {
          "unique_count": 313,
          "nan_count": 0,
          "categories": [
           {
            "name": "['GARBAGE COLLECTIONS', 'GARBAGE COLLECTIONS', 'GARBAGE COLLECTIONS', 'BULK', 'RECYCLING - SINGLE STREAM', 'GARBAGE COLLECTIONS', 'GARBAGE COLLECTIONS', 'RECYCLING - SINGLE STREAM', 'GARBAGE COLLECTIONS', 'RECYCLING - SINGLE STREAM', 'GARBAGE COLLECTIONS', 'TIRES', 'GARBAGE COLLECTIONS', 'GARBAGE COLLECTIONS', 'RECYCLING - SINGLE STREAM', 'LITTER', 'RECYCLING - SINGLE STREAM', 'RECYCLING - SINGLE STREAM', 'RECYCLING - SINGLE STREAM', 'BULK', 'GARBAGE COLLECTIONS', 'BULK', 'YARD TRIMMING', 'YARD TRIMMING', 'RECYCLING - SINGLE STREAM', 'YARD TRIMMING', 'RECYCLING - SINGLE STREAM', 'YARD TRIMMING', 'RECYCLING - SINGLE STREAM', 'RECYCLING - SINGLE STREAM', 'BRUSH', 'YARD TRIMMING', 'BULK', 'GARBAGE COLLECTIONS', 'GARBAGE COLLECTIONS', 'RECYCLING - SINGLE STREAM', 'RECYCLING - SINGLE STREAM', 'GARBAGE COLLECTIONS', 'YARD TRIMMING', 'GARBAGE COLLECTIONS', 'GARBAGE COLLECTIONS', 'BULK', 'GARBAGE COLLECTIONS', 'YARD TRIMMING', 'GARBAGE COLLECTIONS', 'GARBAGE COLLECTIONS', 'GARBAGE COLLECTIONS', 'RECYCLING - SINGLE STREAM', 'GARBAGE COLLECTIONS', 'BULK', 'RECYCLING - SINGLE STREAM', 'BULK', 'BRUSH', 'GARBAGE COLLECTIONS', 'GARBAGE COLLECTIONS', 'GARBAGE COLLECTIONS', 'GARBAGE COLLECTIONS', 'YARD TRIMMING', 'BRUSH', 'YARD TRIMMING', 'RECYCLING - SINGLE STREAM', 'YARD TRIMMING', 'GARBAGE COLLECTIONS', 'GARBAGE COLLECTIONS', 'GARBAGE COLLECTIONS', 'GARBAGE COLLECTIONS', 'GARBAGE COLLECTIONS', 'BULK', 'RECYCLING - SINGLE STREAM', 'GARBAGE COLLECTIONS', 'GARBAGE COLLECTIONS', 'RECYCLING - SINGLE STREAM', 'RECYCLING - SINGLE STREAM', 'GARBAGE COLLECTIONS', 'GARBAGE COLLECTIONS', 'GARBAGE COLLECTIONS', 'GARBAGE COLLECTIONS', 'GARBAGE COLLECTIONS', 'BRUSH', 'RECYCLING - SINGLE STREAM', 'GARBAGE COLLECTIONS', 'GARBAGE COLLECTIONS', 'GARBAGE COLLECTIONS', 'BULK', 'GARBAGE COLLECTIONS', 'GARBAGE COLLECTIONS', 'YARD TRIMMING', 'RECYCLING - SINGLE STREAM', 'RECYCLING - SINGLE STREAM', 'RECYCLING - SINGLE STREAM', 'GARBAGE COLLECTIONS', 'RECYCLING - SINGLE STREAM', 'RECYCLING - SINGLE STREAM', 'BRUSH', 'RECYCLING - SINGLE STREAM', 'GARBAGE COLLECTIONS', 'GARBAGE COLLECTIONS', 'RECYCLING - SINGLE STREAM', 'SWEEPING', 'RECYCLING - SINGLE STREAM', 'GARBAGE COLLECTIONS', 'GARBAGE COLLECTIONS', 'BRUSH', 'GARBAGE COLLECTIONS', 'YARD TRIMMING', 'DEAD ANIMAL', 'GARBAGE COLLECTIONS', 'RECYCLING - SINGLE STREAM', 'YARD TRIMMING', 'GARBAGE COLLECTIONS', 'GARBAGE COLLECTIONS', 'RECYCLING - SINGLE STREAM', 'SWEEPING', 'RECYCLING - SINGLE STREAM', 'RECYCLING - SINGLE STREAM', 'YARD TRIMMING', 'RECYCLING - SINGLE STREAM', 'RECYCLING - SINGLE STREAM', 'RECYCLING - SINGLE STREAM', 'RECYCLING - SINGLE STREAM', 'GARBAGE COLLECTIONS', 'GARBAGE COLLECTIONS', 'GARBAGE COLLECTIONS', 'GARBAGE COLLECTIONS', 'GARBAGE COLLECTIONS', 'GARBAGE COLLECTIONS', 'GARBAGE COLLECTIONS', 'GARBAGE COLLECTIONS', 'GARBAGE COLLECTIONS', 'GARBAGE COLLECTIONS', 'RECYCLING - SINGLE STREAM', 'GARBAGE COLLECTIONS', 'YARD TRIMMING', 'GARBAGE COLLECTIONS', 'DEAD ANIMAL', 'GARBAGE COLLECTIONS', 'SWEEPING', 'BULK', 'GARBAGE COLLECTIONS', 'GARBAGE COLLECTIONS', 'GARBAGE COLLECTIONS', 'RECYCLING - SINGLE STREAM', 'GARBAGE COLLECTIONS', 'BRUSH', 'RECYCLING - SINGLE STREAM', 'GARBAGE COLLECTIONS', 'GARBAGE COLLECTIONS', 'SWEEPING', 'SWEEPING', 'RECYCLING - SINGLE STREAM', 'YARD TRIMMING', 'GARBAGE COLLECTIONS', 'RECYCLING - SINGLE STREAM', 'GARBAGE COLLECTIONS', 'GARBAGE COLLECTIONS', 'RECYCLING - SINGLE STREAM', 'GARBAGE COLLECTIONS', 'GARBAGE COLLECTIONS', 'RECYCLING - SINGLE STREAM', 'YARD TRIMMING', 'YARD TRIMMING', 'GARBAGE COLLECTIONS', 'GARBAGE COLLECTIONS', 'GARBAGE COLLECTIONS', 'SWEEPING', 'GARBAGE COLLECTIONS', 'GARBAGE COLLECTIONS', 'RECYCLING - SINGLE STREAM', 'GARBAGE COLLECTIONS', 'YARD TRIMMING', 'RECYCLING - SINGLE STREAM', 'RECYCLING - SINGLE STREAM', 'RECYCLING - SINGLE STREAM', 'YARD TRIMMING', 'GARBAGE COLLECTIONS', 'RECYCLING - SINGLE STREAM', 'GARBAGE COLLECTIONS', 'GARBAGE COLLECTIONS', 'RECYCLING - SINGLE STREAM', 'GARBAGE COLLECTIONS', 'RECYCLING - SINGLE STREAM', 'GARBAGE COLLECTIONS', 'RECYCLING - SINGLE STREAM', 'YARD TRIMMING', 'YARD TRIMMING', 'RECYCLING - SINGLE STREAM', 'YARD TRIMMING', 'GARBAGE COLLECTIONS', 'RECYCLING - SINGLE STREAM', 'RECYCLING - SINGLE STREAM', 'YARD TRIMMING', 'GARBAGE COLLECTIONS', 'RECYCLING - SINGLE STREAM', 'SWEEPING', 'GARBAGE COLLECTIONS', 'GARBAGE COLLECTIONS', 'GARBAGE COLLECTIONS', 'SWEEPING', 'RECYCLING - SINGLE STREAM', 'SWEEPING', 'YARD TRIMMING', 'SWEEPING', 'GARBAGE COLLECTIONS', 'RECYCLING - SINGLE STREAM', 'GARBAGE COLLECTIONS', 'GARBAGE COLLECTIONS', 'GARBAGE COLLECTIONS', 'RECYCLING - SINGLE STREAM', 'SWEEPING', 'GARBAGE COLLECTIONS', 'GARBAGE COLLECTIONS', 'RECYCLING - SINGLE STREAM', 'RECYCLING - SINGLE STREAM', 'YARD TRIMMING', 'YARD TRIMMING', 'GARBAGE COLLECTIONS', 'YARD TRIMMING', 'RECYCLING - SINGLE STREAM', 'GARBAGE COLLECTIONS', 'RECYCLING - SINGLE STREAM', 'RECYCLING - SINGLE STREAM', 'GARBAGE COLLECTIONS', 'RECYCLING - SINGLE STREAM', 'RECYCLING - SINGLE STREAM', 'RECYCLING - SINGLE STREAM', 'GARBAGE COLLECTIONS', 'RECYCLING - SINGLE STREAM', 'GARBAGE COLLECTIONS', 'GARBAGE COLLECTIONS', 'YARD TRIMMING', 'BULK', 'GARBAGE COLLECTIONS', 'GARBAGE COLLECTIONS', 'GARBAGE COLLECTIONS', 'GARBAGE COLLECTIONS', 'GARBAGE COLLECTIONS', 'BULK', 'SWEEPING', 'GARBAGE COLLECTIONS', 'RECYCLING - SINGLE STREAM', 'YARD TRIMMING', 'YARD TRIMMING', 'RECYCLING - SINGLE STREAM', 'RECYCLING - SINGLE STREAM', 'BRUSH', 'RECYCLING - SINGLE STREAM', 'SWEEPING', 'RECYCLING - SINGLE STREAM', 'GARBAGE COLLECTIONS', 'RECYCLING - SINGLE STREAM', 'RECYCLING - SINGLE STREAM', 'RECYCLING - SINGLE STREAM', 'GARBAGE COLLECTIONS', 'GARBAGE COLLECTIONS', 'RECYCLING - SINGLE STREAM', 'RECYCLING - SINGLE STREAM', 'GARBAGE COLLECTIONS', 'GARBAGE COLLECTIONS', 'YARD TRIMMING', 'GARBAGE COLLECTIONS', 'RECYCLING - SINGLE STREAM', 'GARBAGE COLLECTIONS', 'GARBAGE COLLECTIONS', 'YARD TRIMMING', 'RECYCLING - SINGLE STREAM', 'BULK', 'RECYCLING - SINGLE STREAM', 'RECYCLING - SINGLE STREAM', 'RECYCLING - SINGLE STREAM', 'GARBAGE COLLECTIONS', 'BRUSH', 'GARBAGE COLLECTIONS', 'RECYCLING - SINGLE STREAM', 'GARBAGE COLLECTIONS', 'RECYCLING - SINGLE STREAM', 'BULK', 'GARBAGE COLLECTIONS', 'GARBAGE COLLECTIONS', 'GARBAGE COLLECTIONS', 'GARBAGE COLLECTIONS', 'GARBAGE COLLECTIONS', 'GARBAGE COLLECTIONS', 'GARBAGE COLLECTIONS', 'GARBAGE COLLECTIONS', 'RECYCLING - SINGLE STREAM', 'BULK', 'GARBAGE COLLECTIONS', 'RECYCLING - SINGLE STREAM', 'GARBAGE COLLECTIONS', 'YARD TRIMMING', 'RECYCLING - SINGLE STREAM', 'RECYCLING - SINGLE STREAM', 'RECYCLING - SINGLE STREAM', 'GARBAGE COLLECTIONS', 'GARBAGE COLLECTIONS', 'RECYCLING - SINGLE STREAM', 'GARBAGE COLLECTIONS', 'RECYCLING - SINGLE STREAM', 'GARBAGE COLLECTIONS', 'YARD TRIMMING', 'RECYCLING - SINGLE STREAM', 'SWEEPING', 'GARBAGE COLLECTIONS', 'BULK', 'RECYCLING - SINGLE STREAM', 'GARBAGE COLLECTIONS', 'RECYCLING - SINGLE STREAM', 'GARBAGE COLLECTIONS', 'BULK', 'RECYCLING - SINGLE STREAM', 'GARBAGE COLLECTIONS', 'GARBAGE COLLECTIONS', 'YARD TRIMMING', 'GARBAGE COLLECTIONS', 'YARD TRIMMING', 'SWEEPING', 'RECYCLING - SINGLE STREAM', 'GARBAGE COLLECTIONS', 'RECYCLING - SINGLE STREAM', 'RECYCLING - SINGLE STREAM', 'GARBAGE COLLECTIONS', 'GARBAGE COLLECTIONS', 'YARD TRIMMING', 'GARBAGE COLLECTIONS', 'GARBAGE COLLECTIONS', 'GARBAGE COLLECTIONS', 'GARBAGE COLLECTIONS', 'YARD TRIMMING', 'YARD TRIMMING', 'YARD TRIMMING', 'RECYCLING - SINGLE STREAM', 'GARBAGE COLLECTIONS', 'YARD TRIMMING', 'RECYCLING - SINGLE STREAM', 'RECYCLING - SINGLE STREAM', 'YARD TRIMMING', 'BULK', 'BULK', 'GARBAGE COLLECTIONS', 'GARBAGE COLLECTIONS', 'RECYCLING - SINGLE STREAM', 'SWEEPING', 'RECYCLING - SINGLE STREAM', 'RECYCLING - SINGLE STREAM', 'GARBAGE COLLECTIONS', 'RECYCLING - SINGLE STREAM', 'YARD TRIMMING', 'RECYCLING - SINGLE STREAM', 'GARBAGE COLLECTIONS', 'RECYCLING - SINGLE STREAM', 'GARBAGE COLLECTIONS', 'GARBAGE COLLECTIONS', 'RECYCLING - SINGLE STREAM', 'SWEEPING', 'RECYCLING - SINGLE STREAM', 'RECYCLING - SINGLE STREAM', 'RECYCLING - SINGLE STREAM', 'GARBAGE COLLECTIONS', 'RECYCLING - SINGLE STREAM', 'BRUSH', 'RECYCLING - SINGLE STREAM', 'YARD TRIMMING', 'BULK', 'GARBAGE COLLECTIONS', 'GARBAGE COLLECTIONS', 'BRUSH', 'RECYCLING - SINGLE STREAM', 'BRUSH', 'GARBAGE COLLECTIONS', 'RECYCLING - SINGLE STREAM', 'YARD TRIMMING', 'RECYCLING - SINGLE STREAM', 'RECYCLING - SINGLE STREAM', 'SWEEPING', 'BRUSH', 'GARBAGE COLLECTIONS', 'GARBAGE COLLECTIONS', 'GARBAGE COLLECTIONS', 'RECYCLING - SINGLE STREAM', 'BRUSH', 'RECYCLING - SINGLE STREAM', 'RECYCLING - SINGLE STREAM', 'GARBAGE COLLECTIONS', 'GARBAGE COLLECTIONS', 'GARBAGE COLLECTIONS', 'YARD TRIMMING', 'GARBAGE COLLECTIONS', 'BULK', 'RECYCLING - SINGLE STREAM', 'RECYCLING - SINGLE STREAM', 'GARBAGE COLLECTIONS', 'RECYCLING - SINGLE STREAM', 'RECYCLING - SINGLE STREAM', 'RECYCLING - SINGLE STREAM', 'GARBAGE COLLECTIONS', 'YARD TRIMMING', 'RECYCLING - SINGLE STREAM', 'BULK', 'GARBAGE COLLECTIONS', 'RECYCLING - SINGLE STREAM', 'RECYCLING - SINGLE STREAM', 'RECYCLING - SINGLE STREAM', 'BULK', 'GARBAGE COLLECTIONS', 'BRUSH', 'BRUSH', 'RECYCLING - SINGLE STREAM', 'RECYCLING - SINGLE STREAM', 'YARD TRIMMING', 'GARBAGE COLLECTIONS', 'GARBAGE COLLECTIONS', 'BULK', 'GARBAGE COLLECTIONS', 'GARBAGE COLLECTIONS', 'RECYCLING - SINGLE STREAM', 'GARBAGE COLLECTIONS', 'RECYCLING - SINGLE STREAM', 'GARBAGE COLLECTIONS', 'GARBAGE COLLECTIONS', 'GARBAGE COLLECTIONS', 'GARBAGE COLLECTIONS', 'BULK', 'RECYCLING - SINGLE STREAM', 'BULK', 'GARBAGE COLLECTIONS', 'SWEEPING', 'BULK', 'RECYCLING - SINGLE STREAM', 'GARBAGE COLLECTIONS', 'RECYCLING - SINGLE STREAM', 'GARBAGE COLLECTIONS', 'GARBAGE COLLECTIONS', 'GARBAGE COLLECTIONS', 'YARD TRIMMING', 'GARBAGE COLLECTIONS', 'GARBAGE COLLECTIONS', 'GARBAGE COLLECTIONS', 'GARBAGE COLLECTIONS', 'RECYCLING - SINGLE STREAM', 'BULK', 'GARBAGE COLLECTIONS', 'RECYCLING - SINGLE STREAM', 'SWEEPING', 'RECYCLING - SINGLE STREAM', 'GARBAGE COLLECTIONS', 'RECYCLING - SINGLE STREAM', 'RECYCLING - SINGLE STREAM', 'YARD TRIMMING', 'GARBAGE COLLECTIONS', 'RECYCLING - SINGLE STREAM', 'RECYCLING - SINGLE STREAM', 'GARBAGE COLLECTIONS', 'RECYCLING - SINGLE STREAM', 'GARBAGE COLLECTIONS', 'GARBAGE COLLECTIONS', 'YARD TRIMMING', 'SWEEPING', 'BULK', 'YARD TRIMMING', 'GARBAGE COLLECTIONS', 'GARBAGE COLLECTIONS', 'GARBAGE COLLECTIONS', 'RECYCLING - SINGLE STREAM', 'DEAD ANIMAL', 'GARBAGE COLLECTIONS', 'GARBAGE COLLECTIONS', 'RECYCLING - SINGLE STREAM', 'RECYCLING - SINGLE STREAM', 'SWEEPING', 'GARBAGE COLLECTIONS', 'GARBAGE COLLECTIONS', 'LITTER', 'RECYCLING - SINGLE STREAM', 'GARBAGE COLLECTIONS', 'RECYCLING - SINGLE STREAM', 'DEAD ANIMAL', 'SWEEPING', 'RECYCLING - SINGLE STREAM', 'BULK', 'RECYCLING - SINGLE STREAM', 'RECYCLING - SINGLE STREAM', 'GARBAGE COLLECTIONS', 'GARBAGE COLLECTIONS', 'GARBAGE COLLECTIONS', 'YARD TRIMMING', 'YARD TRIMMING', 'YARD TRIMMING', 'GARBAGE COLLECTIONS', 'GARBAGE COLLECTIONS', 'GARBAGE COLLECTIONS', 'GARBAGE COLLECTIONS', 'RECYCLING - SINGLE STREAM', 'GARBAGE COLLECTIONS', 'BULK', 'RECYCLING - SINGLE STREAM', 'GARBAGE COLLECTIONS', 'BULK', 'BRUSH', 'YARD TRIMMING', 'RECYCLING - SINGLE STREAM', 'SWEEPING', 'YARD TRIMMING', 'GARBAGE COLLECTIONS', 'BULK', 'RECYCLING - SINGLE STREAM', 'RECYCLING - SINGLE STREAM', 'RECYCLING - SINGLE STREAM', 'GARBAGE COLLECTIONS', 'GARBAGE COLLECTIONS', 'BRUSH', 'RECYCLING - SINGLE STREAM', 'YARD TRIMMING', 'BULK', 'RECYCLING - SINGLE STREAM', 'GARBAGE COLLECTIONS', 'RECYCLING - SINGLE STREAM', 'GARBAGE COLLECTIONS', 'GARBAGE COLLECTIONS', 'BULK', 'RECYCLING - SINGLE STREAM', 'BULK', 'BULK', 'YARD TRIMMING', 'YARD TRIMMING', 'BULK', 'SWEEPING', 'SWEEPING', 'GARBAGE COLLECTIONS', 'BULK', 'YARD TRIMMING', 'GARBAGE COLLECTIONS', 'GARBAGE COLLECTIONS', 'RECYCLING - SINGLE STREAM', 'BRUSH', 'GARBAGE COLLECTIONS', 'RECYCLING - SINGLE STREAM', 'SWEEPING', 'BULK', 'GARBAGE COLLECTIONS', 'GARBAGE COLLECTIONS', 'SWEEPING', 'GARBAGE COLLECTIONS', 'GARBAGE COLLECTIONS', 'GARBAGE COLLECTIONS', 'GARBAGE COLLECTIONS', 'RECYCLING - SINGLE STREAM', 'GARBAGE COLLECTIONS', 'GARBAGE COLLECTIONS', 'RECYCLING - SINGLE STREAM', 'GARBAGE COLLECTIONS', 'YARD TRIMMING', 'YARD TRIMMING', 'GARBAGE COLLECTIONS', 'RECYCLING - SINGLE STREAM', 'RECYCLING - SINGLE STREAM', 'RECYCLING - SINGLE STREAM', 'RECYCLING - SINGLE STREAM', 'RECYCLING - SINGLE STREAM', 'RECYCLING - SINGLE STREAM', 'RECYCLING - SINGLE STREAM', 'YARD TRIMMING', 'RECYCLING - SINGLE STREAM', 'RECYCLING - SINGLE STREAM', 'GARBAGE COLLECTIONS', 'RECYCLING - SINGLE STREAM', 'GARBAGE COLLECTIONS', 'GARBAGE COLLECTIONS', 'RECYCLING - SINGLE STREAM', 'RECYCLING - SINGLE STREAM', 'GARBAGE COLLECTIONS', 'TIRES', 'YARD TRIMMING', 'RECYCLING - SINGLE STREAM', 'YARD TRIMMING', 'SWEEPING', 'GARBAGE COLLECTIONS', 'SWEEPING', 'RECYCLING - SINGLE STREAM', 'RECYCLING - SINGLE STREAM', 'BULK', 'GARBAGE COLLECTIONS', 'GARBAGE COLLECTIONS', 'RECYCLING - SINGLE STREAM', 'BRUSH', 'BULK', 'GARBAGE COLLECTIONS', 'DEAD ANIMAL', 'GARBAGE COLLECTIONS', 'RECYCLING - SINGLE STREAM', 'RECYCLING - SINGLE STREAM', 'GARBAGE COLLECTIONS', 'BULK', 'DEAD ANIMAL', 'SWEEPING', 'RECYCLING - SINGLE STREAM', 'RECYCLING - SINGLE STREAM', 'SWEEPING', 'RECYCLING - SINGLE STREAM', 'RECYCLING - SINGLE STREAM', 'RECYCLING - SINGLE STREAM', 'GARBAGE COLLECTIONS', 'SWEEPING', 'GARBAGE COLLECTIONS', 'GARBAGE COLLECTIONS', 'GARBAGE COLLECTIONS', 'RECYCLING - SINGLE STREAM', 'RECYCLING - SINGLE STREAM', 'GARBAGE COLLECTIONS', 'GARBAGE COLLECTIONS', 'RECYCLING - SINGLE STREAM', 'RECYCLING - SINGLE STREAM', 'BULK', 'RECYCLING - SINGLE STREAM', 'GARBAGE COLLECTIONS', 'RECYCLING - SINGLE STREAM', 'GARBAGE COLLECTIONS', 'RECYCLING - SINGLE STREAM', 'YARD TRIMMING', 'GARBAGE COLLECTIONS', 'SWEEPING', 'RECYCLING - SINGLE STREAM', 'RECYCLING - SINGLE STREAM', 'GARBAGE COLLECTIONS', 'YARD TRIMMING', 'RECYCLING - SINGLE STREAM', 'RECYCLING - SINGLE STREAM', 'RECYCLING - SINGLE STREAM', 'GARBAGE COLLECTIONS', 'RECYCLING - SINGLE STREAM', 'GARBAGE COLLECTIONS', 'RECYCLING - SINGLE STREAM', 'GARBAGE COLLECTIONS', 'RECYCLING - SINGLE STREAM', 'GARBAGE COLLECTIONS', 'GARBAGE COLLECTIONS', 'GARBAGE COLLECTIONS', 'GARBAGE COLLECTIONS', 'GARBAGE COLLECTIONS', 'YARD TRIMMING', 'DEAD ANIMAL', 'YARD TRIMMING', 'YARD TRIMMING', 'GARBAGE COLLECTIONS', 'RECYCLING - SINGLE STREAM', 'RECYCLING - SINGLE STREAM', 'RECYCLING - SINGLE STREAM', 'RECYCLING - SINGLE STREAM', 'BULK', 'GARBAGE COLLECTIONS', 'RECYCLING - SINGLE STREAM', 'RECYCLING - SINGLE STREAM', 'YARD TRIMMING', 'GARBAGE COLLECTIONS', 'GARBAGE COLLECTIONS', 'GARBAGE COLLECTIONS', 'GARBAGE COLLECTIONS', 'GARBAGE COLLECTIONS', 'GARBAGE COLLECTIONS', 'GARBAGE COLLECTIONS', 'SWEEPING', 'SWEEPING', 'SWEEPING', 'GARBAGE COLLECTIONS', 'YARD TRIMMING', 'RECYCLING - SINGLE STREAM', 'BRUSH', 'GARBAGE COLLECTIONS', 'BRUSH', 'RECYCLING - SINGLE STREAM', 'GARBAGE COLLECTIONS', 'GARBAGE COLLECTIONS', 'BRUSH', 'BULK', 'RECYCLING - SINGLE STREAM', 'GARBAGE COLLECTIONS', 'GARBAGE COLLECTIONS', 'RECYCLING - SINGLE STREAM', 'BULK', 'BRUSH', 'GARBAGE COLLECTIONS', 'GARBAGE COLLECTIONS', 'GARBAGE COLLECTIONS', 'GARBAGE COLLECTIONS', 'GARBAGE COLLECTIONS', 'YARD TRIMMING', 'SWEEPING', 'RECYCLING - SINGLE STREAM', 'RECYCLING - SINGLE STREAM', 'GARBAGE COLLECTIONS', 'BRUSH', 'GARBAGE COLLECTIONS', 'GARBAGE COLLECTIONS', 'BULK', 'GARBAGE COLLECTIONS', 'BRUSH', 'GARBAGE COLLECTIONS', 'GARBAGE COLLECTIONS', 'GARBAGE COLLECTIONS', 'GARBAGE COLLECTIONS', 'GARBAGE COLLECTIONS', 'LITTER', 'TIRES', 'GARBAGE COLLECTIONS', 'GARBAGE COLLECTIONS', 'GARBAGE COLLECTIONS', 'BULK', 'GARBAGE COLLECTIONS', 'SWEEPING', 'GARBAGE COLLECTIONS', 'GARBAGE COLLECTIONS', 'RECYCLING - SINGLE STREAM', 'YARD TRIMMING', 'BRUSH', 'RECYCLING - SINGLE STREAM', 'RECYCLING - SINGLE STREAM', 'RECYCLING - SINGLE STREAM', 'YARD TRIMMING', 'GARBAGE COLLECTIONS', 'GARBAGE COLLECTIONS', 'GARBAGE COLLECTIONS', 'GARBAGE COLLECTIONS', 'GARBAGE COLLECTIONS', 'BRUSH', 'SWEEPING', 'SWEEPING', 'YARD TRIMMING', 'BRUSH', 'SWEEPING', 'GARBAGE COLLECTIONS', 'BULK', 'GARBAGE COLLECTIONS', 'RECYCLING - SINGLE STREAM', 'GARBAGE COLLECTIONS', 'BULK', 'YARD TRIMMING', 'BULK', 'RECYCLING - SINGLE STREAM', 'RECYCLING - SINGLE STREAM', 'YARD TRIMMING', 'GARBAGE COLLECTIONS', 'RECYCLING - SINGLE STREAM', 'BULK', 'RECYCLING - SINGLE STREAM', 'YARD TRIMMING', 'BULK', 'YARD TRIMMING', 'SWEEPING', 'BRUSH', 'GARBAGE COLLECTIONS', 'RECYCLING - SINGLE STREAM', 'GARBAGE COLLECTIONS', 'RECYCLING - SINGLE STREAM', 'RECYCLING - SINGLE STREAM', 'RECYCLING - SINGLE STREAM', 'BRUSH', 'DEAD ANIMAL', 'GARBAGE COLLECTIONS', 'GARBAGE COLLECTIONS', 'RECYCLING - SINGLE STREAM', 'BULK', 'GARBAGE COLLECTIONS', 'RECYCLING - SINGLE STREAM', 'GARBAGE COLLECTIONS', 'GARBAGE COLLECTIONS', 'YARD TRIMMING', 'RECYCLING - SINGLE STREAM', 'GARBAGE COLLECTIONS', 'GARBAGE COLLECTIONS', 'GARBAGE COLLECTIONS', 'RECYCLING - SINGLE STREAM', 'GARBAGE COLLECTIONS', 'BULK', 'GARBAGE COLLECTIONS', 'RECYCLING - SINGLE STREAM', 'GARBAGE COLLECTIONS', 'GARBAGE COLLECTIONS', 'RECYCLING - SINGLE STREAM', 'GARBAGE COLLECTIONS', 'YARD TRIMMING', 'GARBAGE COLLECTIONS', 'GARBAGE COLLECTIONS', 'GARBAGE COLLECTIONS', 'RECYCLING - SINGLE STREAM', 'GARBAGE COLLECTIONS', 'YARD TRIMMING', 'GARBAGE COLLECTIONS', 'YARD TRIMMING', 'GARBAGE COLLECTIONS', 'RECYCLING - SINGLE STREAM', 'YARD TRIMMING']",
            "count": 1
           },
           {
            "name": "['GARBAGE COLLECTIONS', 'GARBAGE COLLECTIONS', 'RECYCLING - SINGLE STREAM', 'DEAD ANIMAL', 'GARBAGE COLLECTIONS', 'GARBAGE COLLECTIONS', 'GARBAGE COLLECTIONS', 'RECYCLING - SINGLE STREAM', 'RECYCLING - SINGLE STREAM', 'BRUSH', 'GARBAGE COLLECTIONS', 'RECYCLING - SINGLE STREAM', 'GARBAGE COLLECTIONS', 'RECYCLING - SINGLE STREAM', 'GARBAGE COLLECTIONS', 'RECYCLING - SINGLE STREAM', 'BRUSH', 'BRUSH', 'GARBAGE COLLECTIONS', 'SWEEPING', 'BULK', 'RECYCLING - SINGLE STREAM', 'GARBAGE COLLECTIONS', 'BULK', 'GARBAGE COLLECTIONS', 'RECYCLING - SINGLE STREAM', 'YARD TRIMMING', 'GARBAGE COLLECTIONS', 'GARBAGE COLLECTIONS', 'RECYCLING - SINGLE STREAM', 'BULK', 'RECYCLING - SINGLE STREAM', 'YARD TRIMMING', 'RECYCLING - SINGLE STREAM', 'GARBAGE COLLECTIONS', 'TIRES', 'RECYCLING - SINGLE STREAM', 'GARBAGE COLLECTIONS', 'YARD TRIMMING', 'BRUSH', 'GARBAGE COLLECTIONS', 'BRUSH', 'RECYCLING - SINGLE STREAM', 'SWEEPING', 'BRUSH', 'SWEEPING', 'RECYCLING - SINGLE STREAM', 'YARD TRIMMING', 'GARBAGE COLLECTIONS', 'YARD TRIMMING', 'GARBAGE COLLECTIONS', 'GARBAGE COLLECTIONS', 'GARBAGE COLLECTIONS', 'RECYCLING - SINGLE STREAM', 'RECYCLING - SINGLE STREAM', 'GARBAGE COLLECTIONS', 'BULK', 'RECYCLING - SINGLE STREAM', 'BULK', 'RECYCLING - SINGLE STREAM', 'GARBAGE COLLECTIONS', 'BRUSH', 'GARBAGE COLLECTIONS', 'BULK', 'RECYCLING - SINGLE STREAM', 'BULK', 'GARBAGE COLLECTIONS', 'GARBAGE COLLECTIONS', 'GARBAGE COLLECTIONS', 'GARBAGE COLLECTIONS', 'GARBAGE COLLECTIONS', 'RECYCLING - SINGLE STREAM', 'RECYCLING - SINGLE STREAM', 'SWEEPING', 'GARBAGE COLLECTIONS', 'YARD TRIMMING', 'GARBAGE COLLECTIONS', 'RECYCLING - SINGLE STREAM', 'SWEEPING', 'YARD TRIMMING', 'SWEEPING', 'GARBAGE COLLECTIONS', 'GARBAGE COLLECTIONS', 'RECYCLING - SINGLE STREAM', 'RECYCLING - SINGLE STREAM', 'RECYCLING - SINGLE STREAM', 'BRUSH', 'GARBAGE COLLECTIONS', 'RECYCLING - SINGLE STREAM', 'GARBAGE COLLECTIONS', 'RECYCLING - SINGLE STREAM', 'GARBAGE COLLECTIONS', 'GARBAGE COLLECTIONS', 'GARBAGE COLLECTIONS', 'RECYCLING - SINGLE STREAM', 'RECYCLING - SINGLE STREAM', 'RECYCLING - SINGLE STREAM', 'YARD TRIMMING', 'GARBAGE COLLECTIONS', 'GARBAGE COLLECTIONS', 'RECYCLING - SINGLE STREAM', 'GARBAGE COLLECTIONS', 'GARBAGE COLLECTIONS', 'SWEEPING', 'RECYCLING - SINGLE STREAM', 'RECYCLING - SINGLE STREAM', 'BULK', 'RECYCLING - SINGLE STREAM', 'RECYCLING - SINGLE STREAM', 'YARD TRIMMING', 'GARBAGE COLLECTIONS', 'BULK', 'RECYCLING - SINGLE STREAM', 'GARBAGE COLLECTIONS', 'GARBAGE COLLECTIONS', 'RECYCLING - SINGLE STREAM', 'RECYCLING - SINGLE STREAM', 'YARD TRIMMING', 'RECYCLING - SINGLE STREAM', 'RECYCLING - SINGLE STREAM', 'BRUSH', 'BULK', 'GARBAGE COLLECTIONS', 'GARBAGE COLLECTIONS', 'GARBAGE COLLECTIONS', 'GARBAGE COLLECTIONS', 'RECYCLING - SINGLE STREAM', 'RECYCLING - SINGLE STREAM', 'RECYCLING - SINGLE STREAM', 'BRUSH', 'RECYCLING - SINGLE STREAM', 'RECYCLING - SINGLE STREAM', 'GARBAGE COLLECTIONS', 'RECYCLING - SINGLE STREAM', 'GARBAGE COLLECTIONS', 'GARBAGE COLLECTIONS', 'GARBAGE COLLECTIONS', 'YARD TRIMMING', 'BULK', 'BRUSH', 'BULK', 'YARD TRIMMING', 'RECYCLING - SINGLE STREAM', 'GARBAGE COLLECTIONS', 'GARBAGE COLLECTIONS', 'RECYCLING - SINGLE STREAM', 'GARBAGE COLLECTIONS', 'BULK', 'GARBAGE COLLECTIONS', 'RECYCLING - SINGLE STREAM', 'RECYCLING - SINGLE STREAM', 'GARBAGE COLLECTIONS', 'GARBAGE COLLECTIONS', 'GARBAGE COLLECTIONS', 'RECYCLING - SINGLE STREAM', 'SWEEPING', 'RECYCLING - SINGLE STREAM', 'BULK', 'RECYCLING - SINGLE STREAM', 'GARBAGE COLLECTIONS', 'RECYCLING - SINGLE STREAM', 'RECYCLING - SINGLE STREAM', 'GARBAGE COLLECTIONS', 'RECYCLING - SINGLE STREAM', 'GARBAGE COLLECTIONS', 'GARBAGE COLLECTIONS', 'RECYCLING - SINGLE STREAM', 'GARBAGE COLLECTIONS', 'RECYCLING - SINGLE STREAM', 'GARBAGE COLLECTIONS', 'RECYCLING - SINGLE STREAM', 'GARBAGE COLLECTIONS', 'BRUSH', 'RECYCLING - SINGLE STREAM', 'GARBAGE COLLECTIONS', 'SWEEPING', 'RECYCLING - SINGLE STREAM', 'RECYCLING - SINGLE STREAM', 'RECYCLING - SINGLE STREAM', 'RECYCLING - SINGLE STREAM', 'SWEEPING', 'RECYCLING - SINGLE STREAM', 'GARBAGE COLLECTIONS', 'GARBAGE COLLECTIONS', 'YARD TRIMMING', 'RECYCLING - SINGLE STREAM', 'GARBAGE COLLECTIONS', 'GARBAGE COLLECTIONS', 'GARBAGE COLLECTIONS', 'BULK', 'YARD TRIMMING', 'GARBAGE COLLECTIONS', 'GARBAGE COLLECTIONS', 'RECYCLING - SINGLE STREAM', 'RECYCLING - SINGLE STREAM', 'GARBAGE COLLECTIONS', 'GARBAGE COLLECTIONS', 'BRUSH', 'RECYCLING - SINGLE STREAM', 'GARBAGE COLLECTIONS', 'GARBAGE COLLECTIONS', 'RECYCLING - SINGLE STREAM', 'BRUSH', 'TIRES', 'DEAD ANIMAL', 'RECYCLING - SINGLE STREAM', 'GARBAGE COLLECTIONS', 'GARBAGE COLLECTIONS', 'YARD TRIMMING', 'YARD TRIMMING', 'GARBAGE COLLECTIONS', 'GARBAGE COLLECTIONS', 'BULK', 'SWEEPING', 'DEAD ANIMAL', 'GARBAGE COLLECTIONS', 'GARBAGE COLLECTIONS', 'YARD TRIMMING', 'BULK', 'GARBAGE COLLECTIONS', 'GARBAGE COLLECTIONS', 'RECYCLING - SINGLE STREAM', 'YARD TRIMMING', 'GARBAGE COLLECTIONS', 'GARBAGE COLLECTIONS', 'DEAD ANIMAL', 'YARD TRIMMING', 'GARBAGE COLLECTIONS', 'RECYCLING - SINGLE STREAM', 'GARBAGE COLLECTIONS', 'GARBAGE COLLECTIONS', 'RECYCLING - SINGLE STREAM', 'RECYCLING - SINGLE STREAM', 'GARBAGE COLLECTIONS', 'RECYCLING - SINGLE STREAM', 'RECYCLING - SINGLE STREAM', 'RECYCLING - SINGLE STREAM', 'GARBAGE COLLECTIONS', 'GARBAGE COLLECTIONS', 'RECYCLING - SINGLE STREAM', 'GARBAGE COLLECTIONS', 'GARBAGE COLLECTIONS', 'GARBAGE COLLECTIONS', 'RECYCLING - SINGLE STREAM', 'RECYCLING - SINGLE STREAM', 'RECYCLING - SINGLE STREAM', 'GARBAGE COLLECTIONS', 'GARBAGE COLLECTIONS', 'RECYCLING - SINGLE STREAM', 'RECYCLING - SINGLE STREAM', 'RECYCLING - SINGLE STREAM', 'RECYCLING - SINGLE STREAM', 'GARBAGE COLLECTIONS', 'RECYCLING - SINGLE STREAM', 'GARBAGE COLLECTIONS', 'GARBAGE COLLECTIONS', 'RECYCLING - SINGLE STREAM', 'RECYCLING - SINGLE STREAM', 'GARBAGE COLLECTIONS', 'GARBAGE COLLECTIONS', 'GARBAGE COLLECTIONS', 'RECYCLING - SINGLE STREAM', 'GARBAGE COLLECTIONS', 'BRUSH', 'GARBAGE COLLECTIONS', 'YARD TRIMMING', 'GARBAGE COLLECTIONS', 'YARD TRIMMING', 'YARD TRIMMING', 'BULK', 'DEAD ANIMAL', 'RECYCLING - SINGLE STREAM', 'GARBAGE COLLECTIONS', 'YARD TRIMMING', 'GARBAGE COLLECTIONS', 'RECYCLING - SINGLE STREAM', 'YARD TRIMMING', 'BULK', 'GARBAGE COLLECTIONS', 'YARD TRIMMING', 'YARD TRIMMING', 'RECYCLING - SINGLE STREAM', 'GARBAGE COLLECTIONS', 'RECYCLING - SINGLE STREAM', 'YARD TRIMMING', 'GARBAGE COLLECTIONS', 'GARBAGE COLLECTIONS', 'RECYCLING - SINGLE STREAM', 'GARBAGE COLLECTIONS', 'DEAD ANIMAL', 'YARD TRIMMING', 'GARBAGE COLLECTIONS', 'YARD TRIMMING', 'GARBAGE COLLECTIONS', 'GARBAGE COLLECTIONS', 'GARBAGE COLLECTIONS', 'GARBAGE COLLECTIONS', 'GARBAGE COLLECTIONS', 'GARBAGE COLLECTIONS', 'RECYCLING - SINGLE STREAM', 'GARBAGE COLLECTIONS', 'GARBAGE COLLECTIONS', 'GARBAGE COLLECTIONS', 'YARD TRIMMING', 'SWEEPING', 'RECYCLING - SINGLE STREAM', 'GARBAGE COLLECTIONS', 'RECYCLING - SINGLE STREAM', 'GARBAGE COLLECTIONS', 'RECYCLING - SINGLE STREAM', 'GARBAGE COLLECTIONS', 'GARBAGE COLLECTIONS', 'GARBAGE COLLECTIONS', 'RECYCLING - SINGLE STREAM', 'GARBAGE COLLECTIONS', 'YARD TRIMMING', 'GARBAGE COLLECTIONS', 'GARBAGE COLLECTIONS', 'RECYCLING - SINGLE STREAM', 'GARBAGE COLLECTIONS', 'GARBAGE COLLECTIONS', 'YARD TRIMMING', 'SWEEPING', 'GARBAGE COLLECTIONS', 'GARBAGE COLLECTIONS', 'YARD TRIMMING', 'RECYCLING - SINGLE STREAM', 'YARD TRIMMING', 'GARBAGE COLLECTIONS', 'BULK', 'RECYCLING - SINGLE STREAM', 'RECYCLING - SINGLE STREAM', 'YARD TRIMMING', 'RECYCLING - SINGLE STREAM', 'BULK', 'GARBAGE COLLECTIONS', 'YARD TRIMMING', 'YARD TRIMMING', 'GARBAGE COLLECTIONS', 'GARBAGE COLLECTIONS', 'GARBAGE COLLECTIONS', 'GARBAGE COLLECTIONS', 'BULK', 'GARBAGE COLLECTIONS', 'BULK', 'RECYCLING - SINGLE STREAM', 'YARD TRIMMING', 'LITTER', 'RECYCLING - SINGLE STREAM', 'GARBAGE COLLECTIONS', 'GARBAGE COLLECTIONS', 'RECYCLING - SINGLE STREAM', 'GARBAGE COLLECTIONS', 'YARD TRIMMING', 'GARBAGE COLLECTIONS', 'GARBAGE COLLECTIONS', 'RECYCLING - SINGLE STREAM', 'GARBAGE COLLECTIONS', 'RECYCLING - SINGLE STREAM', 'GARBAGE COLLECTIONS', 'YARD TRIMMING', 'GARBAGE COLLECTIONS', 'RECYCLING - SINGLE STREAM', 'RECYCLING - SINGLE STREAM', 'BRUSH', 'GARBAGE COLLECTIONS', 'RECYCLING - SINGLE STREAM', 'GARBAGE COLLECTIONS', 'GARBAGE COLLECTIONS', 'RECYCLING - SINGLE STREAM', 'SWEEPING', 'RECYCLING - SINGLE STREAM', 'YARD TRIMMING', 'RECYCLING - SINGLE STREAM', 'GARBAGE COLLECTIONS', 'BRUSH', 'RECYCLING - SINGLE STREAM', 'RECYCLING - SINGLE STREAM', 'BULK', 'GARBAGE COLLECTIONS', 'GARBAGE COLLECTIONS', 'BRUSH', 'GARBAGE COLLECTIONS', 'SWEEPING', 'DEAD ANIMAL', 'BULK', 'SWEEPING', 'GARBAGE COLLECTIONS', 'BRUSH', 'DEAD ANIMAL', 'RECYCLING - SINGLE STREAM', 'RECYCLING - SINGLE STREAM', 'GARBAGE COLLECTIONS', 'BULK', 'GARBAGE COLLECTIONS', 'SWEEPING', 'SWEEPING', 'SWEEPING', 'GARBAGE COLLECTIONS', 'GARBAGE COLLECTIONS', 'RECYCLING - SINGLE STREAM', 'RECYCLING - SINGLE STREAM', 'GARBAGE COLLECTIONS', 'GARBAGE COLLECTIONS', 'GARBAGE COLLECTIONS', 'RECYCLING - SINGLE STREAM', 'RECYCLING - SINGLE STREAM', 'BULK', 'RECYCLING - SINGLE STREAM', 'YARD TRIMMING', 'RECYCLING - SINGLE STREAM', 'YARD TRIMMING', 'YARD TRIMMING', 'GARBAGE COLLECTIONS', 'YARD TRIMMING', 'RECYCLING - SINGLE STREAM', 'RECYCLING - SINGLE STREAM', 'RECYCLING - SINGLE STREAM', 'RECYCLING - SINGLE STREAM', 'GARBAGE COLLECTIONS', 'YARD TRIMMING', 'GARBAGE COLLECTIONS', 'GARBAGE COLLECTIONS', 'YARD TRIMMING', 'YARD TRIMMING', 'BRUSH', 'RECYCLING - SINGLE STREAM', 'BULK', 'YARD TRIMMING', 'RECYCLING - SINGLE STREAM', 'BULK', 'SWEEPING', 'RECYCLING - SINGLE STREAM', 'GARBAGE COLLECTIONS', 'RECYCLING - SINGLE STREAM', 'GARBAGE COLLECTIONS', 'BULK', 'GARBAGE COLLECTIONS', 'RECYCLING - SINGLE STREAM', 'BULK', 'RECYCLING - SINGLE STREAM', 'BULK', 'RECYCLING - SINGLE STREAM', 'BULK', 'YARD TRIMMING', 'GARBAGE COLLECTIONS', 'RECYCLING - SINGLE STREAM', 'YARD TRIMMING', 'RECYCLING - SINGLE STREAM', 'GARBAGE COLLECTIONS', 'BRUSH', 'GARBAGE COLLECTIONS', 'GARBAGE COLLECTIONS', 'RECYCLING - SINGLE STREAM', 'GARBAGE COLLECTIONS', 'YARD TRIMMING', 'RECYCLING - SINGLE STREAM', 'GARBAGE COLLECTIONS', 'GARBAGE COLLECTIONS', 'SWEEPING', 'GARBAGE COLLECTIONS', 'YARD TRIMMING', 'GARBAGE COLLECTIONS', 'BULK', 'GARBAGE COLLECTIONS', 'RECYCLING - SINGLE STREAM', 'BRUSH', 'GARBAGE COLLECTIONS', 'BULK', 'RECYCLING - SINGLE STREAM', 'GARBAGE COLLECTIONS', 'SWEEPING', 'GARBAGE COLLECTIONS', 'RECYCLING - SINGLE STREAM', 'RECYCLING - SINGLE STREAM', 'GARBAGE COLLECTIONS', 'BULK', 'RECYCLING - SINGLE STREAM', 'RECYCLING - SINGLE STREAM', 'GARBAGE COLLECTIONS', 'GARBAGE COLLECTIONS', 'RECYCLING - SINGLE STREAM', 'BRUSH', 'SWEEPING', 'RECYCLING - SINGLE STREAM', 'RECYCLING - SINGLE STREAM', 'SWEEPING', 'GARBAGE COLLECTIONS', 'BRUSH', 'GARBAGE COLLECTIONS', 'SWEEPING', 'RECYCLING - SINGLE STREAM', 'GARBAGE COLLECTIONS', 'GARBAGE COLLECTIONS', 'YARD TRIMMING', 'BULK', 'BRUSH', 'GARBAGE COLLECTIONS', 'YARD TRIMMING', 'GARBAGE COLLECTIONS', 'RECYCLING - SINGLE STREAM', 'RECYCLING - SINGLE STREAM', 'SWEEPING', 'YARD TRIMMING', 'RECYCLING - SINGLE STREAM', 'RECYCLING - SINGLE STREAM', 'RECYCLING - SINGLE STREAM', 'GARBAGE COLLECTIONS', 'RECYCLING - SINGLE STREAM', 'GARBAGE COLLECTIONS', 'BRUSH', 'YARD TRIMMING', 'GARBAGE COLLECTIONS', 'RECYCLING - SINGLE STREAM', 'GARBAGE COLLECTIONS', 'GARBAGE COLLECTIONS', 'RECYCLING - SINGLE STREAM', 'GARBAGE COLLECTIONS', 'YARD TRIMMING', 'GARBAGE COLLECTIONS', 'TIRES', 'SWEEPING', 'YARD TRIMMING', 'YARD TRIMMING', 'RECYCLING - SINGLE STREAM', 'GARBAGE COLLECTIONS', 'GARBAGE COLLECTIONS', 'GARBAGE COLLECTIONS', 'GARBAGE COLLECTIONS', 'GARBAGE COLLECTIONS', 'TIRES', 'GARBAGE COLLECTIONS', 'YARD TRIMMING', 'GARBAGE COLLECTIONS', 'GARBAGE COLLECTIONS', 'YARD TRIMMING', 'RECYCLING - SINGLE STREAM', 'YARD TRIMMING', 'GARBAGE COLLECTIONS', 'SWEEPING', 'BULK', 'BULK', 'GARBAGE COLLECTIONS', 'RECYCLING - SINGLE STREAM', 'RECYCLING - SINGLE STREAM', 'RECYCLING - SINGLE STREAM', 'BULK', 'RECYCLING - SINGLE STREAM', 'SWEEPING', 'RECYCLING - SINGLE STREAM', 'GARBAGE COLLECTIONS', 'RECYCLING - SINGLE STREAM', 'GARBAGE COLLECTIONS', 'BULK', 'RECYCLING - SINGLE STREAM', 'YARD TRIMMING', 'BULK', 'GARBAGE COLLECTIONS', 'BULK', 'RECYCLING - SINGLE STREAM', 'BULK', 'GARBAGE COLLECTIONS', 'GARBAGE COLLECTIONS', 'GARBAGE COLLECTIONS', 'GARBAGE COLLECTIONS', 'RECYCLING - SINGLE STREAM', 'RECYCLING - SINGLE STREAM', 'BULK', 'YARD TRIMMING', 'BULK', 'GARBAGE COLLECTIONS', 'GARBAGE COLLECTIONS', 'RECYCLING - SINGLE STREAM', 'GARBAGE COLLECTIONS', 'SWEEPING', 'RECYCLING - SINGLE STREAM', 'YARD TRIMMING', 'GARBAGE COLLECTIONS', 'GARBAGE COLLECTIONS', 'RECYCLING - SINGLE STREAM', 'GARBAGE COLLECTIONS', 'RECYCLING - SINGLE STREAM', 'RECYCLING - SINGLE STREAM', 'GARBAGE COLLECTIONS', 'GARBAGE COLLECTIONS', 'GARBAGE COLLECTIONS', 'YARD TRIMMING', 'GARBAGE COLLECTIONS', 'BULK', 'YARD TRIMMING', 'GARBAGE COLLECTIONS', 'BULK', 'GARBAGE COLLECTIONS', 'YARD TRIMMING', 'GARBAGE COLLECTIONS', 'SWEEPING', 'GARBAGE COLLECTIONS', 'GARBAGE COLLECTIONS', 'YARD TRIMMING', 'GARBAGE COLLECTIONS', 'GARBAGE COLLECTIONS', 'GARBAGE COLLECTIONS', 'YARD TRIMMING', 'RECYCLING - SINGLE STREAM', 'GARBAGE COLLECTIONS', 'BULK', 'GARBAGE COLLECTIONS', 'YARD TRIMMING', 'SWEEPING', 'RECYCLING - SINGLE STREAM', 'YARD TRIMMING', 'YARD TRIMMING', 'RECYCLING - SINGLE STREAM', 'YARD TRIMMING', 'GARBAGE COLLECTIONS', 'GARBAGE COLLECTIONS', 'GARBAGE COLLECTIONS', 'RECYCLING - SINGLE STREAM', 'RECYCLING - SINGLE STREAM', 'GARBAGE COLLECTIONS', 'RECYCLING - SINGLE STREAM', 'YARD TRIMMING', 'GARBAGE COLLECTIONS', 'RECYCLING - SINGLE STREAM', 'GARBAGE COLLECTIONS', 'GARBAGE COLLECTIONS', 'YARD TRIMMING', 'GARBAGE COLLECTIONS', 'GARBAGE COLLECTIONS', 'GARBAGE COLLECTIONS', 'RECYCLING - SINGLE STREAM', 'RECYCLING - SINGLE STREAM', 'RECYCLING - SINGLE STREAM', 'BULK', 'YARD TRIMMING', 'GARBAGE COLLECTIONS', 'YARD TRIMMING', 'GARBAGE COLLECTIONS', 'SWEEPING', 'RECYCLING - SINGLE STREAM', 'YARD TRIMMING', 'RECYCLING - SINGLE STREAM', 'GARBAGE COLLECTIONS', 'BULK', 'RECYCLING - SINGLE STREAM', 'RECYCLING - SINGLE STREAM', 'RECYCLING - SINGLE STREAM', 'RECYCLING - SINGLE STREAM', 'RECYCLING - SINGLE STREAM', 'RECYCLING - SINGLE STREAM', 'RECYCLING - SINGLE STREAM', 'YARD TRIMMING', 'YARD TRIMMING', 'BRUSH', 'RECYCLING - SINGLE STREAM', 'RECYCLING - SINGLE STREAM', 'RECYCLING - SINGLE STREAM', 'GARBAGE COLLECTIONS', 'GARBAGE COLLECTIONS', 'RECYCLING - SINGLE STREAM', 'GARBAGE COLLECTIONS', 'GARBAGE COLLECTIONS', 'RECYCLING - SINGLE STREAM', 'GARBAGE COLLECTIONS', 'RECYCLING - SINGLE STREAM', 'GARBAGE COLLECTIONS', 'SWEEPING', 'SWEEPING', 'RECYCLING - SINGLE STREAM', 'SWEEPING', 'BRUSH', 'RECYCLING - SINGLE STREAM', 'YARD TRIMMING', 'RECYCLING - SINGLE STREAM', 'GARBAGE COLLECTIONS', 'YARD TRIMMING', 'GARBAGE COLLECTIONS', 'RECYCLING - SINGLE STREAM', 'GARBAGE COLLECTIONS', 'SWEEPING', 'GARBAGE COLLECTIONS', 'BULK', 'BULK', 'GARBAGE COLLECTIONS', 'YARD TRIMMING', 'YARD TRIMMING', 'GARBAGE COLLECTIONS', 'RECYCLING - SINGLE STREAM', 'GARBAGE COLLECTIONS', 'BULK', 'GARBAGE COLLECTIONS', 'GARBAGE COLLECTIONS', 'LITTER', 'GARBAGE COLLECTIONS', 'GARBAGE COLLECTIONS', 'GARBAGE COLLECTIONS', 'GARBAGE COLLECTIONS', 'YARD TRIMMING', 'GARBAGE COLLECTIONS', 'YARD TRIMMING', 'SWEEPING', 'GARBAGE COLLECTIONS', 'GARBAGE COLLECTIONS', 'YARD TRIMMING', 'RECYCLING - SINGLE STREAM', 'YARD TRIMMING', 'RECYCLING - SINGLE STREAM', 'BULK', 'GARBAGE COLLECTIONS', 'YARD TRIMMING', 'GARBAGE COLLECTIONS', 'BULK', 'GARBAGE COLLECTIONS', 'GARBAGE COLLECTIONS', 'RECYCLING - SINGLE STREAM', 'GARBAGE COLLECTIONS', 'GARBAGE COLLECTIONS', 'SWEEPING', 'YARD TRIMMING', 'YARD TRIMMING', 'GARBAGE COLLECTIONS', 'RECYCLING - SINGLE STREAM', 'YARD TRIMMING', 'RECYCLING - SINGLE STREAM', 'SWEEPING', 'BULK', 'RECYCLING - SINGLE STREAM', 'GARBAGE COLLECTIONS', 'RECYCLING - SINGLE STREAM', 'GARBAGE COLLECTIONS', 'RECYCLING - SINGLE STREAM', 'DEAD ANIMAL', 'GARBAGE COLLECTIONS', 'GARBAGE COLLECTIONS', 'GARBAGE COLLECTIONS', 'RECYCLING - SINGLE STREAM', 'RECYCLING - SINGLE STREAM', 'RECYCLING - SINGLE STREAM', 'GARBAGE COLLECTIONS', 'RECYCLING - SINGLE STREAM', 'GARBAGE COLLECTIONS', 'RECYCLING - SINGLE STREAM', 'GARBAGE COLLECTIONS', 'RECYCLING - SINGLE STREAM', 'GARBAGE COLLECTIONS', 'GARBAGE COLLECTIONS', 'BULK', 'GARBAGE COLLECTIONS', 'GARBAGE COLLECTIONS', 'BULK', 'YARD TRIMMING', 'GARBAGE COLLECTIONS', 'YARD TRIMMING']",
            "count": 1
           },
           {
            "name": "311 others",
            "count": 311
           }
          ]
         }
        },
        {
         "name": "Load Weight",
         "dtype": "float64",
         "stats": {
          "unique_count": 313,
          "nan_count": 0,
          "min": "7715144.0",
          "max": "12595938.0",
          "histogram": [
           {
            "bin_start": 7715144,
            "bin_end": 8203223.4,
            "count": 11
           },
           {
            "bin_start": 8203223.4,
            "bin_end": 8691302.8,
            "count": 57
           },
           {
            "bin_start": 8691302.8,
            "bin_end": 9179382.2,
            "count": 74
           },
           {
            "bin_start": 9179382.2,
            "bin_end": 9667461.6,
            "count": 62
           },
           {
            "bin_start": 9667461.6,
            "bin_end": 10155541,
            "count": 47
           },
           {
            "bin_start": 10155541,
            "bin_end": 10643620.4,
            "count": 34
           },
           {
            "bin_start": 10643620.4,
            "bin_end": 11131699.8,
            "count": 17
           },
           {
            "bin_start": 11131699.8,
            "bin_end": 11619779.2,
            "count": 6
           },
           {
            "bin_start": 11619779.2,
            "bin_end": 12107858.600000001,
            "count": 4
           },
           {
            "bin_start": 12107858.600000001,
            "bin_end": 12595938,
            "count": 1
           }
          ]
         }
        },
        {
         "name": "Dropoff Site",
         "dtype": "object",
         "stats": {
          "unique_count": 313,
          "nan_count": 0,
          "categories": [
           {
            "name": "['TDS LANDFILL', 'TDS LANDFILL', 'TDS LANDFILL', 'TDS LANDFILL', 'BALCONES RECYCLING', 'TDS LANDFILL', 'TDS LANDFILL', 'BALCONES RECYCLING', 'TDS LANDFILL', 'BALCONES RECYCLING', 'TDS LANDFILL', 'MRF', 'TDS LANDFILL', 'TDS LANDFILL', 'BALCONES RECYCLING', 'TDS LANDFILL', 'BALCONES RECYCLING', 'BALCONES RECYCLING', 'TDS - MRF', 'TDS LANDFILL', 'TDS LANDFILL', 'TDS LANDFILL', 'HORNSBY BEND', 'HORNSBY BEND', 'BALCONES RECYCLING', 'ORGANICS BY GOSH', 'BALCONES RECYCLING', 'HORNSBY BEND', 'BALCONES RECYCLING', 'TDS - MRF', 'HORNSBY BEND', 'ORGANICS BY GOSH', 'TDS LANDFILL', 'TDS LANDFILL', 'TDS LANDFILL', 'TDS - MRF', 'BALCONES RECYCLING', 'TDS LANDFILL', 'HORNSBY BEND', 'TDS LANDFILL', 'TDS LANDFILL', 'TDS LANDFILL', 'TDS LANDFILL', 'HORNSBY BEND', 'TDS LANDFILL', 'TDS LANDFILL', 'TDS LANDFILL', 'BALCONES RECYCLING', 'TDS LANDFILL', 'TDS LANDFILL', 'BALCONES RECYCLING', 'TDS LANDFILL', 'HORNSBY BEND', 'TDS LANDFILL', 'TDS LANDFILL', 'TDS LANDFILL', 'TDS LANDFILL', 'HORNSBY BEND', 'HORNSBY BEND', 'HORNSBY BEND', 'BALCONES RECYCLING', 'HORNSBY BEND', 'TDS LANDFILL', 'TDS LANDFILL', 'TDS LANDFILL', 'TDS LANDFILL', 'TDS LANDFILL', 'TDS LANDFILL', 'TDS - MRF', 'TDS LANDFILL', 'TDS LANDFILL', 'BALCONES RECYCLING', 'BALCONES RECYCLING', 'TDS LANDFILL', 'TDS LANDFILL', 'TDS LANDFILL', 'TDS LANDFILL', 'TDS LANDFILL', 'HORNSBY BEND', 'BALCONES RECYCLING', 'TDS LANDFILL', 'TDS LANDFILL', 'TDS LANDFILL', 'TDS LANDFILL', 'TDS LANDFILL', 'TDS LANDFILL', 'HORNSBY BEND', 'BALCONES RECYCLING', 'TDS - MRF', 'BALCONES RECYCLING', 'TDS LANDFILL', 'BALCONES RECYCLING', 'BALCONES RECYCLING', 'HORNSBY BEND', 'BALCONES RECYCLING', 'TDS LANDFILL', 'TDS LANDFILL', 'TDS - MRF', 'TDS LANDFILL', 'TDS - MRF', 'TDS LANDFILL', 'TDS LANDFILL', 'HORNSBY BEND', 'TDS LANDFILL', 'HORNSBY BEND', 'TDS LANDFILL', 'TDS LANDFILL', 'BALCONES RECYCLING', 'HORNSBY BEND', 'TDS LANDFILL', 'TDS LANDFILL', 'BALCONES RECYCLING', 'TDS LANDFILL', 'TDS - MRF', 'TDS - MRF', 'HORNSBY BEND', 'BALCONES RECYCLING', 'TDS - MRF', 'BALCONES RECYCLING', 'BALCONES RECYCLING', 'TDS LANDFILL', 'TDS LANDFILL', 'TDS LANDFILL', 'TDS LANDFILL', 'TDS LANDFILL', 'TDS LANDFILL', 'TDS LANDFILL', 'TDS LANDFILL', 'TDS LANDFILL', 'TDS LANDFILL', 'BALCONES RECYCLING', 'TDS LANDFILL', 'HORNSBY BEND', 'TDS LANDFILL', 'TDS LANDFILL', 'TDS LANDFILL', 'TDS LANDFILL', 'TDS LANDFILL', 'TDS LANDFILL', 'TDS LANDFILL', 'TDS LANDFILL', 'BALCONES RECYCLING', 'TDS LANDFILL', 'HORNSBY BEND', 'BALCONES RECYCLING', 'TDS LANDFILL', 'TDS LANDFILL', 'TDS LANDFILL', 'TDS LANDFILL', 'TDS - MRF', 'HORNSBY BEND', 'TDS LANDFILL', 'TDS - MRF', 'TDS LANDFILL', 'TDS LANDFILL', 'TDS - MRF', 'TDS LANDFILL', 'TDS LANDFILL', 'BALCONES RECYCLING', 'HORNSBY BEND', 'HORNSBY BEND', 'TDS LANDFILL', 'TDS LANDFILL', 'TDS LANDFILL', 'TDS LANDFILL', 'TDS LANDFILL', 'TDS LANDFILL', 'BALCONES RECYCLING', 'TDS LANDFILL', 'ORGANICS BY GOSH', 'BALCONES RECYCLING', 'TDS - MRF', 'BALCONES RECYCLING', 'HORNSBY BEND', 'TDS LANDFILL', 'BALCONES RECYCLING', 'TDS LANDFILL', 'TDS LANDFILL', 'TDS - MRF', 'TDS LANDFILL', 'BALCONES RECYCLING', 'TDS LANDFILL', 'BALCONES RECYCLING', 'HORNSBY BEND', 'HORNSBY BEND', 'BALCONES RECYCLING', 'HORNSBY BEND', 'TDS LANDFILL', 'TDS - MRF', 'BALCONES RECYCLING', 'HORNSBY BEND', 'TDS LANDFILL', 'TDS - MRF', 'TDS LANDFILL', 'TDS LANDFILL', 'TDS LANDFILL', 'TDS LANDFILL', 'TDS LANDFILL', 'BALCONES RECYCLING', 'TDS LANDFILL', 'HORNSBY BEND', 'TDS LANDFILL', 'TDS LANDFILL', 'BALCONES RECYCLING', 'TDS LANDFILL', 'TDS LANDFILL', 'TDS LANDFILL', 'TDS - MRF', 'TDS LANDFILL', 'TDS LANDFILL', 'TDS LANDFILL', 'BALCONES RECYCLING', 'TDS - MRF', 'HORNSBY BEND', 'HORNSBY BEND', 'TDS LANDFILL', 'HORNSBY BEND', 'TDS - MRF', 'TDS LANDFILL', 'TDS - MRF', 'TDS - MRF', 'TDS LANDFILL', 'BALCONES RECYCLING', 'BALCONES RECYCLING', 'BALCONES RECYCLING', 'TDS LANDFILL', 'BALCONES RECYCLING', 'TDS LANDFILL', 'TDS LANDFILL', 'HORNSBY BEND', 'TDS LANDFILL', 'TDS LANDFILL', 'TDS LANDFILL', 'TDS LANDFILL', 'TDS LANDFILL', 'TDS LANDFILL', 'TDS LANDFILL', 'TDS LANDFILL', 'TDS LANDFILL', 'BALCONES RECYCLING', 'HORNSBY BEND', 'HORNSBY BEND', 'BALCONES RECYCLING', 'BALCONES RECYCLING', 'HORNSBY BEND', 'TDS - MRF', 'TDS LANDFILL', 'TDS - MRF', 'TDS LANDFILL', 'TDS - MRF', 'TDS - MRF', 'TDS - MRF', 'TDS LANDFILL', 'TDS LANDFILL', 'TDS - MRF', 'TDS - MRF', 'TDS LANDFILL', 'TDS LANDFILL', 'HORNSBY BEND', 'TDS LANDFILL', 'TDS - MRF', 'TDS LANDFILL', 'TDS LANDFILL', 'HORNSBY BEND', 'TDS - MRF', 'TDS LANDFILL', 'BALCONES RECYCLING', 'BALCONES RECYCLING', 'TDS - MRF', 'TDS LANDFILL', 'HORNSBY BEND', 'TDS LANDFILL', 'TDS - MRF', 'TDS LANDFILL', 'TDS - MRF', 'TDS LANDFILL', 'TDS LANDFILL', 'TDS LANDFILL', 'TDS LANDFILL', 'TDS LANDFILL', 'TDS LANDFILL', 'TDS LANDFILL', 'TDS LANDFILL', 'TDS LANDFILL', 'BALCONES RECYCLING', 'TDS LANDFILL', 'TDS LANDFILL', 'BALCONES RECYCLING', 'TDS LANDFILL', 'HORNSBY BEND', 'TDS - MRF', 'BALCONES RECYCLING', 'BALCONES RECYCLING', 'TDS LANDFILL', 'TDS LANDFILL', 'TDS - MRF', 'TDS LANDFILL', 'BALCONES RECYCLING', 'TDS LANDFILL', 'HORNSBY BEND', 'TDS - MRF', 'TDS LANDFILL', 'TDS LANDFILL', 'TDS LANDFILL', 'BALCONES RECYCLING', 'TDS LANDFILL', 'TDS - MRF', 'TDS LANDFILL', 'TDS LANDFILL', 'TDS - MRF', 'TDS LANDFILL', 'TDS LANDFILL', 'HORNSBY BEND', 'TDS LANDFILL', 'HORNSBY BEND', 'TDS LANDFILL', 'BALCONES RECYCLING', 'TDS LANDFILL', 'BALCONES RECYCLING', 'BALCONES RECYCLING', 'TDS LANDFILL', 'TDS LANDFILL', 'HORNSBY BEND', 'TDS LANDFILL', 'TDS LANDFILL', 'TDS LANDFILL', 'TDS LANDFILL', 'HORNSBY BEND', 'HORNSBY BEND', 'HORNSBY BEND', 'TDS - MRF', 'TDS LANDFILL', 'HORNSBY BEND', 'TDS - MRF', 'BALCONES RECYCLING', 'HORNSBY BEND', 'TDS LANDFILL', 'TDS LANDFILL', 'TDS LANDFILL', 'TDS LANDFILL', 'TDS - MRF', 'TDS LANDFILL', 'BALCONES RECYCLING', 'BALCONES RECYCLING', 'TDS LANDFILL', 'TDS - MRF', 'HORNSBY BEND', 'TDS - MRF', 'TDS LANDFILL', 'TDS - MRF', 'TDS LANDFILL', 'TDS LANDFILL', 'TDS - MRF', 'TDS LANDFILL', 'TDS - MRF', 'BALCONES RECYCLING', 'BALCONES RECYCLING', 'TDS LANDFILL', 'BALCONES RECYCLING', 'HORNSBY BEND', 'BALCONES RECYCLING', 'HORNSBY BEND', 'TDS LANDFILL', 'TDS LANDFILL', 'TDS LANDFILL', 'HORNSBY BEND', 'BALCONES RECYCLING', 'HORNSBY BEND', 'TDS LANDFILL', 'BALCONES RECYCLING', 'HORNSBY BEND', 'BALCONES RECYCLING', 'BALCONES RECYCLING', 'TDS LANDFILL', 'HORNSBY BEND', 'TDS LANDFILL', 'TDS LANDFILL', 'TDS LANDFILL', 'TDS - MRF', 'HORNSBY BEND', 'TDS - MRF', 'BALCONES RECYCLING', 'TDS LANDFILL', 'TDS LANDFILL', 'TDS LANDFILL', 'HORNSBY BEND', 'TDS LANDFILL', 'TDS LANDFILL', 'TDS - MRF', 'BALCONES RECYCLING', 'TDS LANDFILL', 'BALCONES RECYCLING', 'BALCONES RECYCLING', 'BALCONES RECYCLING', 'TDS LANDFILL', 'HORNSBY BEND', 'BALCONES RECYCLING', 'TDS LANDFILL', 'TDS LANDFILL', 'BALCONES RECYCLING', 'BALCONES RECYCLING', 'BALCONES RECYCLING', 'TDS LANDFILL', 'TDS LANDFILL', 'HORNSBY BEND', 'HORNSBY BEND', 'TDS - MRF', 'TDS - MRF', 'ORGANICS BY GOSH', 'TDS LANDFILL', 'TDS LANDFILL', 'TDS LANDFILL', 'TDS LANDFILL', 'TDS LANDFILL', 'TDS - MRF', 'TDS LANDFILL', 'TDS - MRF', 'TDS LANDFILL', 'TDS LANDFILL', 'TDS LANDFILL', 'TDS LANDFILL', 'TDS LANDFILL', 'BALCONES RECYCLING', 'TDS LANDFILL', 'TDS LANDFILL', 'TDS LANDFILL', 'TDS LANDFILL', 'BALCONES RECYCLING', 'TDS LANDFILL', 'BALCONES RECYCLING', 'TDS LANDFILL', 'TDS LANDFILL', 'TDS LANDFILL', 'HORNSBY BEND', 'TDS LANDFILL', 'TDS LANDFILL', 'TDS LANDFILL', 'TDS LANDFILL', 'BALCONES RECYCLING', 'TDS LANDFILL', 'TDS LANDFILL', 'BALCONES RECYCLING', 'TDS LANDFILL', 'TDS - MRF', 'TDS LANDFILL', 'BALCONES WOODS', 'BALCONES RECYCLING', 'HORNSBY BEND', 'TDS LANDFILL', 'TDS - MRF', 'TDS - MRF', 'TDS LANDFILL', 'BALCONES RECYCLING', 'TDS LANDFILL', 'TDS LANDFILL', 'HORNSBY BEND', 'TDS LANDFILL', 'TDS LANDFILL', 'HORNSBY BEND', 'TDS LANDFILL', 'TDS LANDFILL', 'TDS LANDFILL', 'TDS - MRF', 'TDS LANDFILL', 'TDS LANDFILL', 'TDS LANDFILL', 'TDS - MRF', 'BALCONES RECYCLING', 'TDS LANDFILL', 'TDS LANDFILL', 'TDS LANDFILL', 'TDS LANDFILL', 'BALCONES RECYCLING', 'TDS LANDFILL', 'BALCONES RECYCLING', 'TDS LANDFILL', 'TDS LANDFILL', 'BALCONES RECYCLING', 'TDS LANDFILL', 'BALCONES RECYCLING', 'BALCONES RECYCLING', 'TDS LANDFILL', 'TDS LANDFILL', 'TDS LANDFILL', 'HORNSBY BEND', 'HORNSBY BEND', 'HORNSBY BEND', 'TDS LANDFILL', 'TDS LANDFILL', 'TDS LANDFILL', 'TDS LANDFILL', 'BALCONES RECYCLING', 'TDS LANDFILL', 'TDS LANDFILL', 'BALCONES RECYCLING', 'TDS LANDFILL', 'TDS LANDFILL', 'HORNSBY BEND', 'HORNSBY BEND', 'TDS - MRF', 'TDS LANDFILL', 'ORGANICS BY GOSH', 'TDS LANDFILL', 'TDS LANDFILL', 'BALCONES RECYCLING', 'BALCONES RECYCLING', 'TDS - MRF', 'TDS LANDFILL', 'TDS LANDFILL', 'HORNSBY BEND', 'TDS - MRF', 'HORNSBY BEND', 'TDS LANDFILL', 'BALCONES RECYCLING', 'TDS LANDFILL', 'BALCONES RECYCLING', 'TDS LANDFILL', 'TDS LANDFILL', 'TDS LANDFILL', 'TDS - MRF', 'TDS LANDFILL', 'TDS LANDFILL', 'HORNSBY BEND', 'HORNSBY BEND', 'TDS LANDFILL', 'TDS LANDFILL', 'TDS LANDFILL', 'TDS LANDFILL', 'TDS LANDFILL', 'HORNSBY BEND', 'TDS LANDFILL', 'TDS LANDFILL', 'BALCONES RECYCLING', 'HORNSBY BEND', 'TDS LANDFILL', 'BALCONES RECYCLING', 'TDS LANDFILL', 'TDS LANDFILL', 'TDS LANDFILL', 'TDS LANDFILL', 'TDS LANDFILL', 'TDS LANDFILL', 'TDS LANDFILL', 'TDS LANDFILL', 'TDS LANDFILL', 'TDS - MRF', 'TDS LANDFILL', 'TDS LANDFILL', 'TDS - MRF', 'TDS LANDFILL', 'HORNSBY BEND', 'HORNSBY BEND', 'TDS LANDFILL', 'BALCONES RECYCLING', 'TDS - MRF', 'BALCONES RECYCLING', 'BALCONES RECYCLING', 'TDS - MRF', 'TDS - MRF', 'TDS - MRF', 'HORNSBY BEND', 'TDS - MRF', 'BALCONES RECYCLING', 'TDS LANDFILL', 'BALCONES RECYCLING', 'TDS LANDFILL', 'TDS LANDFILL', 'BALCONES RECYCLING', 'TDS - MRF', 'TDS LANDFILL', 'MRF', 'HORNSBY BEND', 'BALCONES RECYCLING', 'HORNSBY BEND', 'TDS LANDFILL', 'TDS LANDFILL', 'TDS LANDFILL', 'TDS - MRF', 'BALCONES RECYCLING', 'TDS LANDFILL', 'TDS LANDFILL', 'TDS LANDFILL', 'BALCONES RECYCLING', 'HORNSBY BEND', 'TDS LANDFILL', 'TDS LANDFILL', 'TDS LANDFILL', 'TDS LANDFILL', 'BALCONES RECYCLING', 'TDS - MRF', 'TDS LANDFILL', 'TDS LANDFILL', 'TDS LANDFILL', 'TDS LANDFILL', 'TDS - MRF', 'BALCONES RECYCLING', 'TDS LANDFILL', 'TDS - MRF', 'TDS - MRF', 'BALCONES RECYCLING', 'TDS LANDFILL', 'TDS LANDFILL', 'TDS LANDFILL', 'TDS LANDFILL', 'TDS LANDFILL', 'BALCONES RECYCLING', 'TDS - MRF', 'TDS LANDFILL', 'TDS LANDFILL', 'BALCONES RECYCLING', 'BALCONES RECYCLING', 'TDS LANDFILL', 'TDS - MRF', 'TDS LANDFILL', 'BALCONES RECYCLING', 'TDS LANDFILL', 'BALCONES RECYCLING', 'HORNSBY BEND', 'TDS LANDFILL', 'TDS LANDFILL', 'BALCONES RECYCLING', 'TDS - MRF', 'TDS LANDFILL', 'HORNSBY BEND', 'TDS - MRF', 'BALCONES RECYCLING', 'TDS - MRF', 'TDS LANDFILL', 'BALCONES RECYCLING', 'TDS LANDFILL', 'TDS - MRF', 'TDS LANDFILL', 'TDS - MRF', 'TDS LANDFILL', 'TDS LANDFILL', 'TDS LANDFILL', 'TDS LANDFILL', 'TDS LANDFILL', 'HORNSBY BEND', 'TDS LANDFILL', 'HORNSBY BEND', 'HORNSBY BEND', 'TDS LANDFILL', 'BALCONES RECYCLING', 'TDS - MRF', 'BALCONES RECYCLING', 'BALCONES RECYCLING', 'TDS LANDFILL', 'TDS LANDFILL', 'TDS - MRF', 'BALCONES RECYCLING', 'HORNSBY BEND', 'TDS LANDFILL', 'TDS LANDFILL', 'TDS LANDFILL', 'TDS LANDFILL', 'TDS LANDFILL', 'TDS LANDFILL', 'TDS LANDFILL', 'TDS LANDFILL', 'TDS LANDFILL', 'TDS LANDFILL', 'TDS LANDFILL', 'HORNSBY BEND', 'TDS - MRF', 'HORNSBY BEND', 'TDS LANDFILL', 'HORNSBY BEND', 'BALCONES RECYCLING', 'TDS LANDFILL', 'TDS LANDFILL', 'HORNSBY BEND', 'TDS LANDFILL', 'TDS - MRF', 'TDS LANDFILL', 'TDS LANDFILL', 'TDS - MRF', 'TDS LANDFILL', 'HORNSBY BEND', 'TDS LANDFILL', 'TDS LANDFILL', 'TDS LANDFILL', 'TDS LANDFILL', 'TDS LANDFILL', 'ORGANICS BY GOSH', 'TDS LANDFILL', 'BALCONES RECYCLING', 'TDS - MRF', 'TDS LANDFILL', 'HORNSBY BEND', 'TDS LANDFILL', 'TDS LANDFILL', 'TDS LANDFILL', 'TDS LANDFILL', 'HORNSBY BEND', 'TDS LANDFILL', 'TDS - MRF', 'TDS LANDFILL', 'TDS LANDFILL', 'TDS LANDFILL', 'TDS LANDFILL', 'MRF', 'TDS LANDFILL', 'TDS LANDFILL', 'TDS LANDFILL', 'TDS LANDFILL', 'TDS LANDFILL', 'TDS LANDFILL', 'TDS LANDFILL', 'TDS LANDFILL', 'TDS - MRF', 'HORNSBY BEND', 'HORNSBY BEND', 'BALCONES RECYCLING', 'TDS - MRF', 'BALCONES RECYCLING', 'HORNSBY BEND', 'TDS LANDFILL', 'TDS LANDFILL', 'TDS LANDFILL', 'TDS LANDFILL', 'TDS LANDFILL', 'HORNSBY BEND', 'TDS LANDFILL', 'TDS LANDFILL', 'ORGANICS BY GOSH', 'HORNSBY BEND', 'TDS LANDFILL', 'TDS LANDFILL', 'TDS LANDFILL', 'TDS LANDFILL', 'BALCONES RECYCLING', 'TDS LANDFILL', 'TDS LANDFILL', 'HORNSBY BEND', 'TDS LANDFILL', 'TDS - MRF', 'TDS - MRF', 'HORNSBY BEND', 'TDS LANDFILL', 'TDS - MRF', 'TDS LANDFILL', 'TDS - MRF', 'HORNSBY BEND', 'TDS LANDFILL', 'HORNSBY BEND', 'TDS LANDFILL', 'HORNSBY BEND', 'TDS LANDFILL', 'BALCONES RECYCLING', 'TDS LANDFILL', 'BALCONES RECYCLING', 'TDS - MRF', 'BALCONES RECYCLING', 'HORNSBY BEND', 'TDS LANDFILL', 'TDS LANDFILL', 'TDS LANDFILL', 'BALCONES RECYCLING', 'TDS LANDFILL', 'TDS LANDFILL', 'BALCONES RECYCLING', 'TDS LANDFILL', 'TDS LANDFILL', 'HORNSBY BEND', 'TDS - MRF', 'TDS LANDFILL', 'TDS LANDFILL', 'TDS LANDFILL', 'BALCONES RECYCLING', 'TDS LANDFILL', 'TDS LANDFILL', 'TDS LANDFILL', 'BALCONES RECYCLING', 'TDS LANDFILL', 'TDS LANDFILL', 'TDS - MRF', 'TDS LANDFILL', 'HORNSBY BEND', 'TDS LANDFILL', 'TDS LANDFILL', 'TDS LANDFILL', 'BALCONES RECYCLING', 'TDS LANDFILL', 'HORNSBY BEND', 'TDS LANDFILL', 'HORNSBY BEND', 'TDS LANDFILL', 'BALCONES RECYCLING', 'HORNSBY BEND']",
            "count": 1
           },
           {
            "name": "['TDS LANDFILL', 'TDS LANDFILL', 'TDS - MRF', 'TDS LANDFILL', 'TDS LANDFILL', 'TDS LANDFILL', 'TDS LANDFILL', 'BALCONES RECYCLING', 'BALCONES RECYCLING', 'HORNSBY BEND', 'TDS LANDFILL', 'BALCONES RECYCLING', 'TDS LANDFILL', 'BALCONES RECYCLING', 'TDS LANDFILL', 'BALCONES RECYCLING', 'HORNSBY BEND', 'HORNSBY BEND', 'TDS LANDFILL', 'TDS LANDFILL', 'TDS LANDFILL', 'TDS - MRF', 'TDS LANDFILL', 'TDS LANDFILL', 'TDS LANDFILL', 'TDS - MRF', 'HORNSBY BEND', 'TDS LANDFILL', 'TDS LANDFILL', 'BALCONES RECYCLING', 'TDS LANDFILL', 'BALCONES RECYCLING', 'HORNSBY BEND', 'TDS - MRF', 'TDS LANDFILL', 'MRF', 'BALCONES RECYCLING', 'TDS LANDFILL', 'HORNSBY BEND', 'HORNSBY BEND', 'TDS LANDFILL', 'HORNSBY BEND', 'BALCONES RECYCLING', 'TDS LANDFILL', 'HORNSBY BEND', 'TDS LANDFILL', 'BALCONES RECYCLING', 'ORGANICS BY GOSH', 'TDS LANDFILL', 'HORNSBY BEND', 'TDS LANDFILL', 'TDS LANDFILL', 'TDS LANDFILL', 'TDS - MRF', 'BALCONES RECYCLING', 'TDS LANDFILL', 'TDS LANDFILL', 'BALCONES RECYCLING', 'TDS LANDFILL', 'TDS - MRF', 'TDS LANDFILL', 'HORNSBY BEND', 'TDS LANDFILL', 'TDS LANDFILL', 'BALCONES RECYCLING', 'TDS LANDFILL', 'TDS LANDFILL', 'TDS LANDFILL', 'TDS LANDFILL', 'TDS LANDFILL', 'TDS LANDFILL', 'TDS - MRF', 'BALCONES RECYCLING', 'TDS LANDFILL', 'TDS LANDFILL', 'HORNSBY BEND', 'TDS LANDFILL', 'TDS - MRF', 'TDS LANDFILL', 'HORNSBY BEND', 'TDS LANDFILL', 'TDS LANDFILL', 'TDS LANDFILL', 'TDS - MRF', 'TDS - MRF', 'BALCONES RECYCLING', 'HORNSBY BEND', 'TDS LANDFILL', 'TDS - MRF', 'TDS LANDFILL', 'BALCONES RECYCLING', 'TDS LANDFILL', 'TDS LANDFILL', 'TDS LANDFILL', 'BALCONES RECYCLING', 'BALCONES RECYCLING', 'BALCONES RECYCLING', 'HORNSBY BEND', 'TDS LANDFILL', 'TDS LANDFILL', 'BALCONES RECYCLING', 'TDS LANDFILL', 'TDS LANDFILL', 'TDS LANDFILL', 'TDS - MRF', 'TDS - MRF', 'TDS LANDFILL', 'TDS - MRF', 'TDS - MRF', 'HORNSBY BEND', 'TDS LANDFILL', 'TDS LANDFILL', 'TDS - MRF', 'TDS LANDFILL', 'TDS LANDFILL', 'BALCONES RECYCLING', 'TDS - MRF', 'HORNSBY BEND', 'TDS - MRF', 'TDS - MRF', 'HORNSBY BEND', 'TDS LANDFILL', 'TDS LANDFILL', 'TDS LANDFILL', 'TDS LANDFILL', 'TDS LANDFILL', 'BALCONES RECYCLING', 'BALCONES RECYCLING', 'TDS - MRF', 'HORNSBY BEND', 'BALCONES RECYCLING', 'BALCONES RECYCLING', 'TDS LANDFILL', 'TDS - MRF', 'TDS LANDFILL', 'TDS LANDFILL', 'TDS LANDFILL', 'HORNSBY BEND', 'TDS LANDFILL', 'HORNSBY BEND', 'TDS LANDFILL', 'HORNSBY BEND', 'BALCONES RECYCLING', 'TDS LANDFILL', 'TDS LANDFILL', 'BALCONES RECYCLING', 'TDS LANDFILL', 'TDS LANDFILL', 'TDS LANDFILL', 'BALCONES RECYCLING', 'TDS - MRF', 'TDS LANDFILL', 'TDS LANDFILL', 'TDS LANDFILL', 'TDS - MRF', 'TDS LANDFILL', 'BALCONES RECYCLING', 'TDS LANDFILL', 'BALCONES RECYCLING', 'TDS LANDFILL', 'BALCONES RECYCLING', 'TDS - MRF', 'TDS LANDFILL', 'BALCONES RECYCLING', 'TDS LANDFILL', 'TDS LANDFILL', 'TDS - MRF', 'TDS LANDFILL', 'BALCONES RECYCLING', 'TDS LANDFILL', 'TDS - MRF', 'TDS LANDFILL', 'HORNSBY BEND', 'BALCONES RECYCLING', 'TDS LANDFILL', 'TDS LANDFILL', 'BALCONES RECYCLING', 'TDS - MRF', 'BALCONES RECYCLING', 'TDS - MRF', 'TDS LANDFILL', 'TDS - MRF', 'TDS LANDFILL', 'TDS LANDFILL', 'HORNSBY BEND', 'BALCONES RECYCLING', 'TDS LANDFILL', 'TDS LANDFILL', 'TDS LANDFILL', 'TDS LANDFILL', 'HORNSBY BEND', 'TDS LANDFILL', 'TDS LANDFILL', 'TDS - MRF', 'TDS - MRF', 'TDS LANDFILL', 'TDS LANDFILL', 'HORNSBY BEND', 'BALCONES RECYCLING', 'TDS LANDFILL', 'TDS LANDFILL', 'BALCONES RECYCLING', 'HORNSBY BEND', 'MRF', 'TDS LANDFILL', 'BALCONES RECYCLING', 'TDS LANDFILL', 'TDS LANDFILL', 'HORNSBY BEND', 'HORNSBY BEND', 'TDS LANDFILL', 'TDS LANDFILL', 'TDS LANDFILL', 'TDS LANDFILL', 'TDS LANDFILL', 'TDS LANDFILL', 'TDS LANDFILL', 'HORNSBY BEND', 'TDS LANDFILL', 'TDS LANDFILL', 'TDS LANDFILL', 'TDS - MRF', 'HORNSBY BEND', 'TDS LANDFILL', 'TDS LANDFILL', 'TDS LANDFILL', 'ORGANICS BY GOSH', 'TDS LANDFILL', 'BALCONES RECYCLING', 'TDS LANDFILL', 'TDS LANDFILL', 'TDS - MRF', 'BALCONES RECYCLING', 'TDS LANDFILL', 'BALCONES RECYCLING', 'BALCONES RECYCLING', 'BALCONES RECYCLING', 'TDS LANDFILL', 'TDS LANDFILL', 'BALCONES RECYCLING', 'TDS LANDFILL', 'TDS LANDFILL', 'TDS LANDFILL', 'TDS - MRF', 'BALCONES RECYCLING', 'TDS - MRF', 'TDS LANDFILL', 'TDS LANDFILL', 'TDS - MRF', 'BALCONES RECYCLING', 'BALCONES RECYCLING', 'BALCONES RECYCLING', 'TDS LANDFILL', 'TDS - MRF', 'TDS LANDFILL', 'TDS LANDFILL', 'TDS - MRF', 'BALCONES RECYCLING', 'TDS LANDFILL', 'TDS LANDFILL', 'TDS LANDFILL', 'TDS - MRF', 'TDS LANDFILL', 'HORNSBY BEND', 'TDS LANDFILL', 'HORNSBY BEND', 'TDS LANDFILL', 'HORNSBY BEND', 'HORNSBY BEND', 'TDS LANDFILL', 'TDS LANDFILL', 'TDS - MRF', 'TDS LANDFILL', 'HORNSBY BEND', 'TDS LANDFILL', 'TDS - MRF', 'HORNSBY BEND', 'TDS LANDFILL', 'TDS LANDFILL', 'HORNSBY BEND', 'ORGANICS BY GOSH', 'BALCONES RECYCLING', 'TDS LANDFILL', 'TDS - MRF', 'ORGANICS BY GOSH', 'TDS LANDFILL', 'TDS LANDFILL', 'BALCONES RECYCLING', 'TDS LANDFILL', 'TDS LANDFILL', 'HORNSBY BEND', 'TDS LANDFILL', 'GREAT NORTHERN', 'TDS LANDFILL', 'TDS LANDFILL', 'TDS LANDFILL', 'TDS LANDFILL', 'TDS LANDFILL', 'TDS LANDFILL', 'BALCONES RECYCLING', 'TDS LANDFILL', 'TDS LANDFILL', 'TDS LANDFILL', 'HORNSBY BEND', 'TDS LANDFILL', 'BALCONES RECYCLING', 'TDS LANDFILL', 'TDS - MRF', 'TDS LANDFILL', 'TDS - MRF', 'TDS LANDFILL', 'TDS LANDFILL', 'TDS LANDFILL', 'TDS - MRF', 'TDS LANDFILL', 'HORNSBY BEND', 'TDS LANDFILL', 'TDS LANDFILL', 'BALCONES RECYCLING', 'TDS LANDFILL', 'TDS LANDFILL', 'HORNSBY BEND', 'TDS LANDFILL', 'TDS LANDFILL', 'TDS LANDFILL', 'HORNSBY BEND', 'TDS - MRF', 'HORNSBY BEND', 'TDS LANDFILL', 'TDS LANDFILL', 'TDS - MRF', 'TDS - MRF', 'ORGANICS BY GOSH', 'TDS - MRF', 'TDS LANDFILL', 'TDS LANDFILL', 'HORNSBY BEND', 'HORNSBY BEND', 'TDS LANDFILL', 'TDS LANDFILL', 'TDS LANDFILL', 'TDS LANDFILL', 'TDS LANDFILL', 'TDS LANDFILL', 'TDS LANDFILL', 'TDS - MRF', 'HORNSBY BEND', 'TDS LANDFILL', 'BALCONES RECYCLING', 'TDS LANDFILL', 'TDS LANDFILL', 'BALCONES RECYCLING', 'TDS LANDFILL', 'HORNSBY BEND', 'TDS LANDFILL', 'TDS LANDFILL', 'TDS - MRF', 'TDS LANDFILL', 'TDS - MRF', 'TDS LANDFILL', 'HORNSBY BEND', 'TDS LANDFILL', 'TDS - MRF', 'BALCONES RECYCLING', 'HORNSBY BEND', 'TDS LANDFILL', 'BALCONES RECYCLING', 'TDS LANDFILL', 'TDS LANDFILL', 'BALCONES RECYCLING', 'TDS LANDFILL', 'TDS - MRF', 'HORNSBY BEND', 'TDS - MRF', 'TDS LANDFILL', 'HORNSBY BEND', 'BALCONES RECYCLING', 'TDS - MRF', 'TDS LANDFILL', 'TDS LANDFILL', 'TDS LANDFILL', 'HORNSBY BEND', 'TDS LANDFILL', 'TDS LANDFILL', 'TDS LANDFILL', 'TDS LANDFILL', 'TDS LANDFILL', 'TDS LANDFILL', 'HORNSBY BEND', 'TDS LANDFILL', 'TDS - MRF', 'TDS - MRF', 'TDS LANDFILL', 'TDS LANDFILL', 'TDS LANDFILL', 'TDS LANDFILL', 'TDS LANDFILL', 'TDS LANDFILL', 'TDS LANDFILL', 'TDS LANDFILL', 'TDS - MRF', 'BALCONES RECYCLING', 'TDS LANDFILL', 'TDS LANDFILL', 'TDS LANDFILL', 'BALCONES RECYCLING', 'BALCONES RECYCLING', 'TDS LANDFILL', 'BALCONES RECYCLING', 'HORNSBY BEND', 'TDS - MRF', 'HORNSBY BEND', 'HORNSBY BEND', 'TDS LANDFILL', 'HORNSBY BEND', 'TDS - MRF', 'BALCONES RECYCLING', 'BALCONES RECYCLING', 'BALCONES RECYCLING', 'TDS LANDFILL', 'HORNSBY BEND', 'TDS LANDFILL', 'TDS LANDFILL', 'HORNSBY BEND', 'HORNSBY BEND', 'HORNSBY BEND', 'BALCONES RECYCLING', 'TDS LANDFILL', 'HORNSBY BEND', 'BALCONES RECYCLING', 'TDS LANDFILL', 'TDS LANDFILL', 'BALCONES RECYCLING', 'TDS LANDFILL', 'BALCONES RECYCLING', 'TDS LANDFILL', 'TDS LANDFILL', 'TDS LANDFILL', 'TDS - MRF', 'TDS LANDFILL', 'BALCONES RECYCLING', 'TDS LANDFILL', 'BALCONES RECYCLING', 'TDS LANDFILL', 'HORNSBY BEND', 'TDS LANDFILL', 'BALCONES RECYCLING', 'HORNSBY BEND', 'BALCONES RECYCLING', 'TDS LANDFILL', 'HORNSBY BEND', 'TDS LANDFILL', 'TDS LANDFILL', 'TDS - MRF', 'TDS LANDFILL', 'HORNSBY BEND', 'BALCONES RECYCLING', 'TDS LANDFILL', 'TDS LANDFILL', 'TDS LANDFILL', 'TDS LANDFILL', 'HORNSBY BEND', 'TDS LANDFILL', 'TDS LANDFILL', 'TDS LANDFILL', 'BALCONES RECYCLING', 'HORNSBY BEND', 'TDS LANDFILL', 'TDS LANDFILL', 'BALCONES RECYCLING', 'TDS LANDFILL', 'TDS LANDFILL', 'TDS LANDFILL', 'BALCONES RECYCLING', 'BALCONES RECYCLING', 'TDS LANDFILL', 'TDS LANDFILL', 'TDS - MRF', 'BALCONES RECYCLING', 'TDS LANDFILL', 'TDS LANDFILL', 'BALCONES RECYCLING', 'HORNSBY BEND', 'TDS LANDFILL', 'TDS - MRF', 'BALCONES RECYCLING', 'TDS LANDFILL', 'TDS LANDFILL', 'HORNSBY BEND', 'TDS LANDFILL', 'TDS LANDFILL', 'TDS - MRF', 'TDS LANDFILL', 'TDS LANDFILL', 'HORNSBY BEND', 'TDS LANDFILL', 'HORNSBY BEND', 'TDS LANDFILL', 'HORNSBY BEND', 'TDS LANDFILL', 'BALCONES RECYCLING', 'BALCONES RECYCLING', 'TDS LANDFILL', 'HORNSBY BEND', 'BALCONES RECYCLING', 'TDS - MRF', 'BALCONES RECYCLING', 'TDS LANDFILL', 'BALCONES RECYCLING', 'TDS LANDFILL', 'HORNSBY BEND', 'HORNSBY BEND', 'TDS LANDFILL', 'TDS - MRF', 'TDS LANDFILL', 'TDS LANDFILL', 'BALCONES RECYCLING', 'TDS LANDFILL', 'HORNSBY BEND', 'TDS LANDFILL', 'MRF', 'TDS LANDFILL', 'HORNSBY BEND', 'HORNSBY BEND', 'TDS - MRF', 'TDS LANDFILL', 'TDS LANDFILL', 'TDS LANDFILL', 'TDS LANDFILL', 'TDS LANDFILL', 'MRF', 'TDS LANDFILL', 'HORNSBY BEND', 'TDS LANDFILL', 'TDS LANDFILL', 'HORNSBY BEND', 'BALCONES RECYCLING', 'HORNSBY BEND', 'TDS LANDFILL', 'TDS LANDFILL', 'TDS LANDFILL', 'TDS LANDFILL', 'TDS LANDFILL', 'TDS - MRF', 'BALCONES RECYCLING', 'BALCONES RECYCLING', 'TDS LANDFILL', 'TDS - MRF', 'TDS LANDFILL', 'BALCONES RECYCLING', 'TDS LANDFILL', 'TDS - MRF', 'TDS LANDFILL', 'TDS LANDFILL', 'BALCONES RECYCLING', 'HORNSBY BEND', 'TDS LANDFILL', 'TDS LANDFILL', 'TDS LANDFILL', 'TDS - MRF', 'TDS LANDFILL', 'TDS LANDFILL', 'TDS LANDFILL', 'TDS LANDFILL', 'TDS LANDFILL', 'TDS - MRF', 'BALCONES RECYCLING', 'TDS LANDFILL', 'HORNSBY BEND', 'TDS LANDFILL', 'TDS LANDFILL', 'TDS LANDFILL', 'TDS - MRF', 'TDS LANDFILL', 'TDS LANDFILL', 'BALCONES RECYCLING', 'HORNSBY BEND', 'TDS LANDFILL', 'TDS LANDFILL', 'BALCONES RECYCLING', 'TDS LANDFILL', 'BALCONES RECYCLING', 'BALCONES RECYCLING', 'TDS LANDFILL', 'TDS LANDFILL', 'TDS LANDFILL', 'HORNSBY BEND', 'TDS LANDFILL', 'TDS LANDFILL', 'HORNSBY BEND', 'TDS LANDFILL', 'TDS LANDFILL', 'TDS LANDFILL', 'HORNSBY BEND', 'TDS LANDFILL', 'TDS LANDFILL', 'TDS LANDFILL', 'TDS LANDFILL', 'HORNSBY BEND', 'TDS LANDFILL', 'TDS LANDFILL', 'TDS LANDFILL', 'HORNSBY BEND', 'BALCONES RECYCLING', 'TDS LANDFILL', 'TDS LANDFILL', 'TDS LANDFILL', 'HORNSBY BEND', 'TDS LANDFILL', 'BALCONES RECYCLING', 'HORNSBY BEND', 'ORGANICS BY GOSH', 'TDS - MRF', 'HORNSBY BEND', 'TDS LANDFILL', 'TDS LANDFILL', 'TDS LANDFILL', 'BALCONES RECYCLING', 'TDS - MRF', 'TDS LANDFILL', 'BALCONES RECYCLING', 'HORNSBY BEND', 'TDS LANDFILL', 'TDS - MRF', 'TDS LANDFILL', 'TDS LANDFILL', 'ORGANICS BY GOSH', 'TDS LANDFILL', 'TDS LANDFILL', 'TDS LANDFILL', 'TDS - MRF', 'BALCONES RECYCLING', 'BALCONES RECYCLING', 'TDS LANDFILL', 'HORNSBY BEND', 'TDS LANDFILL', 'HORNSBY BEND', 'TDS LANDFILL', 'TDS LANDFILL', 'BALCONES RECYCLING', 'HORNSBY BEND', 'BALCONES RECYCLING', 'TDS LANDFILL', 'TDS LANDFILL', 'TDS - MRF', 'TDS - MRF', 'BALCONES RECYCLING', 'TDS - MRF', 'TDS - MRF', 'BALCONES RECYCLING', 'TDS - MRF', 'HORNSBY BEND', 'HORNSBY BEND', 'HORNSBY BEND', 'BALCONES RECYCLING', 'BALCONES RECYCLING', 'TDS - MRF', 'TDS LANDFILL', 'TDS LANDFILL', 'BALCONES RECYCLING', 'TDS LANDFILL', 'TDS LANDFILL', 'BALCONES RECYCLING', 'TDS LANDFILL', 'BALCONES RECYCLING', 'TDS LANDFILL', 'TDS LANDFILL', 'TDS LANDFILL', 'BALCONES RECYCLING', 'TDS LANDFILL', 'HORNSBY BEND', 'BALCONES RECYCLING', 'HORNSBY BEND', 'BALCONES RECYCLING', 'TDS LANDFILL', 'HORNSBY BEND', 'TDS LANDFILL', 'TDS - MRF', 'TDS LANDFILL', 'TDS LANDFILL', 'TDS LANDFILL', 'TDS LANDFILL', 'TDS LANDFILL', 'TDS LANDFILL', 'HORNSBY BEND', 'HORNSBY BEND', 'TDS LANDFILL', 'BALCONES RECYCLING', 'TDS LANDFILL', 'TDS LANDFILL', 'TDS LANDFILL', 'TDS LANDFILL', 'TDS LANDFILL', 'TDS LANDFILL', 'TDS LANDFILL', 'TDS LANDFILL', 'TDS LANDFILL', 'HORNSBY BEND', 'TDS LANDFILL', 'HORNSBY BEND', 'TDS LANDFILL', 'TDS LANDFILL', 'TDS LANDFILL', 'HORNSBY BEND', 'TDS - MRF', 'HORNSBY BEND', 'BALCONES RECYCLING', 'TDS LANDFILL', 'TDS LANDFILL', 'HORNSBY BEND', 'TDS LANDFILL', 'TDS LANDFILL', 'TDS LANDFILL', 'TDS LANDFILL', 'BALCONES RECYCLING', 'TDS LANDFILL', 'TDS LANDFILL', 'TDS LANDFILL', 'HORNSBY BEND', 'HORNSBY BEND', 'TDS LANDFILL', 'TDS - MRF', 'HORNSBY BEND', 'BALCONES RECYCLING', 'TDS LANDFILL', 'TDS LANDFILL', 'BALCONES RECYCLING', 'TDS LANDFILL', 'BALCONES RECYCLING', 'TDS LANDFILL', 'BALCONES RECYCLING', 'TDS LANDFILL', 'TDS LANDFILL', 'TDS LANDFILL', 'TDS LANDFILL', 'BALCONES RECYCLING', 'TDS - MRF', 'BALCONES RECYCLING', 'TDS LANDFILL', 'TDS - MRF', 'TDS LANDFILL', 'BALCONES RECYCLING', 'TDS LANDFILL', 'BALCONES RECYCLING', 'TDS LANDFILL', 'TDS LANDFILL', 'TDS LANDFILL', 'TDS LANDFILL', 'TDS LANDFILL', 'TDS LANDFILL', 'HORNSBY BEND', 'TDS LANDFILL', 'HORNSBY BEND']",
            "count": 1
           },
           {
            "name": "311 others",
            "count": 311
           }
          ]
         }
        },
        {
         "name": "Route Type",
         "dtype": "object",
         "stats": {
          "unique_count": 313,
          "nan_count": 0,
          "categories": [
           {
            "name": "['GARBAGE COLLECTION', 'GARBAGE COLLECTION', 'GARBAGE COLLECTION', 'BULK', 'RECYCLING - SINGLE STREAM', 'GARBAGE COLLECTION', 'GARBAGE COLLECTION', 'RECYCLING - SINGLE STREAM', 'GARBAGE COLLECTION', 'RECYCLING - SINGLE STREAM', 'GARBAGE COLLECTION', 'BULK', 'GARBAGE COLLECTION', 'GARBAGE COLLECTION', 'RECYCLING - SINGLE STREAM', 'KAB', 'RECYCLING - SINGLE STREAM', 'RECYCLING - SINGLE STREAM', 'RECYCLING - SINGLE STREAM', 'BULK', 'GARBAGE COLLECTION', 'BULK', 'YARD TRIMMINGS', 'YARD TRIMMINGS', 'RECYCLING - SINGLE STREAM', 'YARD TRIMMINGS', 'RECYCLING - SINGLE STREAM', 'YARD TRIMMINGS', 'RECYCLING - SINGLE STREAM', 'RECYCLING - SINGLE STREAM', 'BRUSH', 'YARD TRIMMINGS', 'BULK', 'GARBAGE COLLECTION', 'GARBAGE COLLECTION', 'RECYCLING - SINGLE STREAM', 'RECYCLING - SINGLE STREAM', 'GARBAGE COLLECTION', 'YARD TRIMMINGS', 'GARBAGE COLLECTION', 'GARBAGE COLLECTION', 'BULK', 'GARBAGE COLLECTION', 'YARD TRIMMINGS', 'GARBAGE COLLECTION', 'GARBAGE COLLECTION', 'GARBAGE COLLECTION', 'RECYCLING - SINGLE STREAM', 'GARBAGE COLLECTION', 'BULK', 'RECYCLING - SINGLE STREAM', 'STORM', 'BRUSH', 'GARBAGE COLLECTION', 'GARBAGE COLLECTION', 'GARBAGE COLLECTION', 'GARBAGE COLLECTION', 'YARD TRIMMINGS', 'BRUSH', 'YARD TRIMMINGS', 'RECYCLING - SINGLE STREAM', 'YARD TRIMMINGS', 'GARBAGE COLLECTION', 'GARBAGE COLLECTION', 'GARBAGE COLLECTION', 'GARBAGE COLLECTION', 'GARBAGE COLLECTION', 'STORM', 'RECYCLING - SINGLE STREAM', 'GARBAGE COLLECTION', 'GARBAGE COLLECTION', 'RECYCLING - SINGLE STREAM', 'RECYCLING - SINGLE STREAM', 'GARBAGE COLLECTION', 'GARBAGE COLLECTION', 'GARBAGE COLLECTION', 'GARBAGE COLLECTION', 'GARBAGE COLLECTION', 'BRUSH', 'RECYCLING - SINGLE STREAM', 'GARBAGE COLLECTION', 'GARBAGE COLLECTION', 'GARBAGE COLLECTION', 'BULK', 'GARBAGE COLLECTION', 'GARBAGE COLLECTION', 'YARD TRIMMINGS', 'RECYCLING - SINGLE STREAM', 'RECYCLING - SINGLE STREAM', 'RECYCLING - SINGLE STREAM', 'GARBAGE COLLECTION', 'RECYCLING - SINGLE STREAM', 'RECYCLING - SINGLE STREAM', 'STORM', 'RECYCLING - SINGLE STREAM', 'GARBAGE COLLECTION', 'GARBAGE COLLECTION', 'RECYCLING - SINGLE STREAM', 'SWEEPER DUMPSITES', 'RECYCLING - SINGLE STREAM', 'GARBAGE COLLECTION', 'GARBAGE COLLECTION', 'BRUSH', 'GARBAGE COLLECTION', 'YARD TRIMMINGS', 'DEAD ANIMAL', 'GARBAGE COLLECTION', 'RECYCLING - SINGLE STREAM', 'YARD TRIMMINGS', 'GARBAGE COLLECTION', 'GARBAGE COLLECTION', 'RECYCLING - SINGLE STREAM', 'SWEEPER DUMPSITES', 'RECYCLING - SINGLE STREAM', 'RECYCLING - SINGLE STREAM', 'YARD TRIMMINGS', 'RECYCLING - SINGLE STREAM', 'RECYCLING - SINGLE STREAM', 'RECYCLING - SINGLE STREAM', 'RECYCLING - SINGLE STREAM', 'GARBAGE COLLECTION', 'GARBAGE COLLECTION', 'GARBAGE COLLECTION', 'GARBAGE COLLECTION', 'GARBAGE COLLECTION', 'GARBAGE COLLECTION', 'GARBAGE COLLECTION', 'GARBAGE COLLECTION', 'GARBAGE COLLECTION', 'GARBAGE COLLECTION', 'INHOUSE - RECYCLING', 'GARBAGE COLLECTION', 'YARD TRIMMINGS', 'GARBAGE COLLECTION', 'DEAD ANIMAL', 'GARBAGE COLLECTION', 'SWEEPER DUMPSITES', 'BULK', 'GARBAGE COLLECTION', 'GARBAGE COLLECTION', 'GARBAGE COLLECTION', 'RECYCLING - SINGLE STREAM', 'GARBAGE COLLECTION', 'BRUSH', 'RECYCLING - SINGLE STREAM', 'GARBAGE COLLECTION', 'GARBAGE COLLECTION', 'SWEEPER DUMPSITES', 'SWEEPER DUMPSITES', 'RECYCLING - SINGLE STREAM', 'YARD TRIMMINGS', 'GARBAGE COLLECTION', 'RECYCLING - SINGLE STREAM', 'GARBAGE COLLECTION', 'GARBAGE COLLECTION', 'RECYCLING - SINGLE STREAM', 'GARBAGE COLLECTION', 'GARBAGE COLLECTION', 'RECYCLING - SINGLE STREAM', 'YARD TRIMMINGS-ORGANICS', 'YARD TRIMMINGS', 'GARBAGE COLLECTION', 'GARBAGE COLLECTION', 'GARBAGE COLLECTION', 'SWEEPER DUMPSITES', 'GARBAGE COLLECTION', 'GARBAGE COLLECTION', 'RECYCLING - SINGLE STREAM', 'GARBAGE COLLECTION', 'YARD TRIMMINGS-ORGANICS', 'RECYCLING - SINGLE STREAM', 'RECYCLING - SINGLE STREAM', 'RECYCLING - SINGLE STREAM', 'YARD TRIMMINGS', 'GARBAGE COLLECTION', 'RECYCLING - SINGLE STREAM', 'GARBAGE COLLECTION', 'GARBAGE COLLECTION', 'RECYCLING - SINGLE STREAM', 'GARBAGE COLLECTION', 'RECYCLING - SINGLE STREAM', 'GARBAGE COLLECTION', 'RECYCLING - SINGLE STREAM', 'YARD TRIMMINGS', 'YARD TRIMMINGS', 'RECYCLING - SINGLE STREAM', 'YARD TRIMMINGS', 'GARBAGE COLLECTION', 'RECYCLING - SINGLE STREAM', 'RECYCLING - SINGLE STREAM', 'YARD TRIMMINGS', 'GARBAGE COLLECTION', 'RECYCLING - SINGLE STREAM', 'SWEEPER DUMPSITES', 'GARBAGE COLLECTION', 'GARBAGE COLLECTION', 'GARBAGE COLLECTION', 'SWEEPER DUMPSITES', 'RECYCLING - SINGLE STREAM', 'SWEEPER DUMPSITES', 'YARD TRIMMINGS', 'SWEEPER DUMPSITES', 'GARBAGE COLLECTION', 'RECYCLING - SINGLE STREAM', 'GARBAGE COLLECTION', 'GARBAGE COLLECTION', 'GARBAGE COLLECTION', 'RECYCLING - SINGLE STREAM', 'SWEEPER DUMPSITES', 'GARBAGE COLLECTION', 'GARBAGE COLLECTION', 'RECYCLING - SINGLE STREAM', 'RECYCLING - SINGLE STREAM', 'YARD TRIMMINGS', 'YARD TRIMMINGS', 'GARBAGE COLLECTION', 'YARD TRIMMINGS', 'RECYCLING - SINGLE STREAM', 'GARBAGE COLLECTION', 'RECYCLING - SINGLE STREAM', 'RECYCLING - SINGLE STREAM', 'GARBAGE COLLECTION', 'RECYCLING - SINGLE STREAM', 'RECYCLING - SINGLE STREAM', 'RECYCLING - SINGLE STREAM', 'GARBAGE COLLECTION', 'RECYCLING - SINGLE STREAM', 'GARBAGE COLLECTION', 'GARBAGE COLLECTION', 'YARD TRIMMINGS', 'STORM', 'GARBAGE COLLECTION', 'GARBAGE COLLECTION', 'GARBAGE COLLECTION', 'GARBAGE COLLECTION', 'GARBAGE COLLECTION', 'STORM', 'SWEEPER DUMPSITES', 'GARBAGE COLLECTION', 'RECYCLING - SINGLE STREAM', 'YARD TRIMMINGS', 'YARD TRIMMINGS', 'RECYCLING - SINGLE STREAM', 'RECYCLING - SINGLE STREAM', 'BRUSH', 'RECYCLING - SINGLE STREAM', 'SWEEPER DUMPSITES', 'RECYCLING - SINGLE STREAM', 'GARBAGE COLLECTION', 'RECYCLING - SINGLE STREAM', 'RECYCLING - SINGLE STREAM', 'RECYCLING - SINGLE STREAM', 'GARBAGE COLLECTION', 'GARBAGE COLLECTION', 'RECYCLING - SINGLE STREAM', 'RECYCLING - SINGLE STREAM', 'GARBAGE COLLECTION', 'GARBAGE COLLECTION', 'YARD TRIMMINGS', 'GARBAGE COLLECTION', 'RECYCLING - SINGLE STREAM', 'GARBAGE COLLECTION', 'GARBAGE COLLECTION', 'YARD TRIMMINGS', 'RECYCLING - SINGLE STREAM', 'STORM', 'RECYCLING - SINGLE STREAM', 'RECYCLING - SINGLE STREAM', 'RECYCLING - SINGLE STREAM', 'GARBAGE COLLECTION', 'BRUSH', 'GARBAGE COLLECTION', 'RECYCLING - SINGLE STREAM', 'GARBAGE COLLECTION', 'RECYCLING - SINGLE STREAM', 'STORM', 'GARBAGE COLLECTION', 'GARBAGE COLLECTION', 'GARBAGE COLLECTION', 'GARBAGE COLLECTION', 'GARBAGE COLLECTION', 'GARBAGE COLLECTION', 'GARBAGE COLLECTION', 'GARBAGE COLLECTION', 'RECYCLING - SINGLE STREAM', 'BULK', 'GARBAGE COLLECTION', 'RECYCLING - SINGLE STREAM', 'GARBAGE COLLECTION', 'YARD TRIMMINGS', 'INHOUSE - RECYCLING', 'RECYCLING - SINGLE STREAM', 'RECYCLING - SINGLE STREAM', 'GARBAGE COLLECTION', 'GARBAGE COLLECTION', 'RECYCLING - SINGLE STREAM', 'GARBAGE COLLECTION', 'RECYCLING - SINGLE STREAM', 'GARBAGE COLLECTION', 'YARD TRIMMINGS', 'RECYCLING - SINGLE STREAM', 'SWEEPER DUMPSITES', 'GARBAGE COLLECTION', 'BULK', 'RECYCLING - SINGLE STREAM', 'GARBAGE COLLECTION', 'RECYCLING - SINGLE STREAM', 'GARBAGE COLLECTION', 'STORM', 'RECYCLING - SINGLE STREAM', 'GARBAGE COLLECTION', 'GARBAGE COLLECTION', 'YARD TRIMMINGS', 'GARBAGE COLLECTION', 'YARD TRIMMINGS', 'SWEEPER DUMPSITES', 'RECYCLING - SINGLE STREAM', 'GARBAGE COLLECTION', 'RECYCLING - SINGLE STREAM', 'RECYCLING - SINGLE STREAM', 'GARBAGE COLLECTION', 'GARBAGE COLLECTION', 'YARD TRIMMINGS', 'GARBAGE COLLECTION', 'GARBAGE COLLECTION', 'GARBAGE COLLECTION', 'GARBAGE COLLECTION', 'YARD TRIMMINGS', 'YARD TRIMMINGS', 'YARD TRIMMINGS', 'RECYCLING - SINGLE STREAM', 'GARBAGE COLLECTION', 'YARD TRIMMINGS', 'RECYCLING - SINGLE STREAM', 'RECYCLING - SINGLE STREAM', 'YARD TRIMMINGS', 'STORM', 'STORM', 'GARBAGE COLLECTION', 'GARBAGE COLLECTION', 'RECYCLING - SINGLE STREAM', 'SWEEPER DUMPSITES', 'RECYCLING - SINGLE STREAM', 'RECYCLING - SINGLE STREAM', 'GARBAGE COLLECTION', 'RECYCLING - SINGLE STREAM', 'YARD TRIMMINGS', 'RECYCLING - SINGLE STREAM', 'GARBAGE COLLECTION', 'RECYCLING - SINGLE STREAM', 'GARBAGE COLLECTION', 'GARBAGE COLLECTION', 'INHOUSE - RECYCLING', 'SWEEPER DUMPSITES', 'RECYCLING - SINGLE STREAM', 'RECYCLING - SINGLE STREAM', 'RECYCLING - SINGLE STREAM', 'GARBAGE COLLECTION', 'RECYCLING - SINGLE STREAM', 'BRUSH', 'RECYCLING - SINGLE STREAM', 'YARD TRIMMINGS', 'BULK', 'GARBAGE COLLECTION', 'GARBAGE COLLECTION', 'BRUSH', 'RECYCLING - SINGLE STREAM', 'BRUSH', 'GARBAGE COLLECTION', 'RECYCLING - SINGLE STREAM', 'YARD TRIMMINGS', 'RECYCLING - SINGLE STREAM', 'RECYCLING - SINGLE STREAM', 'SWEEPER DUMPSITES', 'BRUSH', 'GARBAGE COLLECTION', 'GARBAGE COLLECTION', 'GARBAGE COLLECTION', 'RECYCLING - SINGLE STREAM', 'BRUSH', 'RECYCLING - SINGLE STREAM', 'RECYCLING - SINGLE STREAM', 'GARBAGE COLLECTION', 'GARBAGE COLLECTION', 'GARBAGE COLLECTION', 'YARD TRIMMINGS', 'GARBAGE COLLECTION', 'BULK', 'RECYCLING - SINGLE STREAM', 'RECYCLING - SINGLE STREAM', 'GARBAGE COLLECTION', 'RECYCLING - SINGLE STREAM', 'RECYCLING - SINGLE STREAM', 'RECYCLING - SINGLE STREAM', 'GARBAGE COLLECTION', 'YARD TRIMMINGS', 'RECYCLING - SINGLE STREAM', 'STORM', 'GARBAGE COLLECTION', 'RECYCLING - SINGLE STREAM', 'RECYCLING - SINGLE STREAM', 'RECYCLING - SINGLE STREAM', 'BULK', 'GARBAGE COLLECTION', 'BRUSH', 'BRUSH', 'RECYCLING - SINGLE STREAM', 'RECYCLING - SINGLE STREAM', 'YARD TRIMMINGS-ORGANICS', 'GARBAGE COLLECTION', 'GARBAGE COLLECTION', 'STORM', 'GARBAGE COLLECTION', 'GARBAGE COLLECTION', 'RECYCLING - SINGLE STREAM', 'GARBAGE COLLECTION', 'RECYCLING - SINGLE STREAM', 'GARBAGE COLLECTION', 'GARBAGE COLLECTION', 'GARBAGE COLLECTION', 'GARBAGE COLLECTION', 'STORM', 'RECYCLING - SINGLE STREAM', 'BULK', 'GARBAGE COLLECTION', 'SWEEPER DUMPSITES', 'BULK', 'RECYCLING - SINGLE STREAM', 'GARBAGE COLLECTION', 'RECYCLING - SINGLE STREAM', 'GARBAGE COLLECTION', 'GARBAGE COLLECTION', 'GARBAGE COLLECTION', 'YARD TRIMMINGS', 'GARBAGE COLLECTION', 'GARBAGE COLLECTION', 'GARBAGE COLLECTION', 'GARBAGE COLLECTION', 'RECYCLING - SINGLE STREAM', 'BULK', 'GARBAGE COLLECTION', 'RECYCLING - SINGLE STREAM', 'SWEEPER DUMPSITES', 'RECYCLING - SINGLE STREAM', 'GARBAGE COLLECTION', 'RECYCLING - SINGLE STREAM', 'RECYCLING - SINGLE STREAM', 'YARD TRIMMINGS', 'GARBAGE COLLECTION', 'RECYCLING - SINGLE STREAM', 'RECYCLING - SINGLE STREAM', 'GARBAGE COLLECTION', 'RECYCLING - SINGLE STREAM', 'GARBAGE COLLECTION', 'GARBAGE COLLECTION', 'YARD TRIMMINGS', 'SWEEPER DUMPSITES', 'BULK', 'YARD TRIMMINGS', 'GARBAGE COLLECTION', 'GARBAGE COLLECTION', 'GARBAGE COLLECTION', 'RECYCLING - SINGLE STREAM', 'DEAD ANIMAL', 'GARBAGE COLLECTION', 'GARBAGE COLLECTION', 'RECYCLING - SINGLE STREAM', 'RECYCLING - SINGLE STREAM', 'SWEEPER DUMPSITES', 'GARBAGE COLLECTION', 'GARBAGE COLLECTION', 'LITTER CONTROL', 'RECYCLING - SINGLE STREAM', 'GARBAGE COLLECTION', 'RECYCLING - SINGLE STREAM', 'DEAD ANIMAL', 'SWEEPER DUMPSITES', 'RECYCLING - SINGLE STREAM', 'BULK', 'INHOUSE - RECYCLING', 'RECYCLING - SINGLE STREAM', 'GARBAGE COLLECTION', 'GARBAGE COLLECTION', 'GARBAGE COLLECTION', 'YARD TRIMMINGS', 'YARD TRIMMINGS', 'YARD TRIMMINGS', 'GARBAGE COLLECTION', 'GARBAGE COLLECTION', 'GARBAGE COLLECTION', 'GARBAGE COLLECTION', 'RECYCLING - SINGLE STREAM', 'GARBAGE COLLECTION', 'STORM', 'RECYCLING - SINGLE STREAM', 'GARBAGE COLLECTION', 'BULK', 'BRUSH', 'YARD TRIMMINGS', 'RECYCLING - SINGLE STREAM', 'SWEEPER DUMPSITES', 'YARD TRIMMINGS-ORGANICS', 'GARBAGE COLLECTION', 'BULK', 'RECYCLING - SINGLE STREAM', 'RECYCLING - SINGLE STREAM', 'RECYCLING - SINGLE STREAM', 'GARBAGE COLLECTION', 'GARBAGE COLLECTION', 'BRUSH', 'RECYCLING - SINGLE STREAM', 'YARD TRIMMINGS', 'BULK', 'RECYCLING - SINGLE STREAM', 'GARBAGE COLLECTION', 'RECYCLING - SINGLE STREAM', 'GARBAGE COLLECTION', 'GARBAGE COLLECTION', 'BULK', 'RECYCLING - SINGLE STREAM', 'STORM', 'BULK', 'YARD TRIMMINGS', 'YARD TRIMMINGS', 'STORM', 'SWEEPER DUMPSITES', 'SWEEPER DUMPSITES', 'GARBAGE COLLECTION', 'BULK', 'YARD TRIMMINGS', 'GARBAGE COLLECTION', 'GARBAGE COLLECTION', 'RECYCLING - SINGLE STREAM', 'BRUSH', 'GARBAGE COLLECTION', 'INHOUSE - RECYCLING', 'SWEEPER DUMPSITES', 'BULK', 'GARBAGE COLLECTION', 'GARBAGE COLLECTION', 'SWEEPER DUMPSITES', 'GARBAGE COLLECTION', 'GARBAGE COLLECTION', 'GARBAGE COLLECTION', 'GARBAGE COLLECTION', 'RECYCLING - SINGLE STREAM', 'GARBAGE COLLECTION', 'GARBAGE COLLECTION', 'RECYCLING - SINGLE STREAM', 'GARBAGE COLLECTION', 'YARD TRIMMINGS', 'YARD TRIMMINGS', 'GARBAGE COLLECTION', 'RECYCLING - SINGLE STREAM', 'RECYCLING - SINGLE STREAM', 'RECYCLING - SINGLE STREAM', 'RECYCLING - SINGLE STREAM', 'RECYCLING - SINGLE STREAM', 'RECYCLING - SINGLE STREAM', 'RECYCLING - SINGLE STREAM', 'YARD TRIMMINGS', 'RECYCLING - SINGLE STREAM', 'RECYCLING - SINGLE STREAM', 'GARBAGE COLLECTION', 'RECYCLING - SINGLE STREAM', 'GARBAGE COLLECTION', 'GARBAGE COLLECTION', 'RECYCLING - SINGLE STREAM', 'RECYCLING - SINGLE STREAM', 'GARBAGE COLLECTION', 'BULK', 'YARD TRIMMINGS', 'RECYCLING - SINGLE STREAM', 'YARD TRIMMINGS', 'SWEEPER DUMPSITES', 'GARBAGE COLLECTION', 'SWEEPER DUMPSITES', 'RECYCLING - SINGLE STREAM', 'RECYCLING - SINGLE STREAM', 'BULK', 'GARBAGE COLLECTION', 'GARBAGE COLLECTION', 'RECYCLING - SINGLE STREAM', 'BRUSH', 'BULK', 'GARBAGE COLLECTION', 'DEAD ANIMAL', 'GARBAGE COLLECTION', 'RECYCLING - SINGLE STREAM', 'RECYCLING - SINGLE STREAM', 'GARBAGE COLLECTION', 'STORM', 'DEAD ANIMAL', 'SWEEPER DUMPSITES', 'RECYCLING - SINGLE STREAM', 'RECYCLING - SINGLE STREAM', 'SWEEPER DUMPSITES', 'RECYCLING - SINGLE STREAM', 'RECYCLING - SINGLE STREAM', 'RECYCLING - SINGLE STREAM', 'GARBAGE COLLECTION', 'SWEEPER DUMPSITES', 'GARBAGE COLLECTION', 'GARBAGE COLLECTION', 'GARBAGE COLLECTION', 'RECYCLING - SINGLE STREAM', 'RECYCLING - SINGLE STREAM', 'GARBAGE COLLECTION', 'GARBAGE COLLECTION', 'RECYCLING - SINGLE STREAM', 'RECYCLING - SINGLE STREAM', 'BULK', 'RECYCLING - SINGLE STREAM', 'GARBAGE COLLECTION', 'RECYCLING - SINGLE STREAM', 'GARBAGE COLLECTION', 'RECYCLING - SINGLE STREAM', 'YARD TRIMMINGS', 'GARBAGE COLLECTION', 'SWEEPER DUMPSITES', 'RECYCLING - SINGLE STREAM', 'RECYCLING - SINGLE STREAM', 'GARBAGE COLLECTION', 'YARD TRIMMINGS', 'RECYCLING - SINGLE STREAM', 'RECYCLING - SINGLE STREAM', 'RECYCLING - SINGLE STREAM', 'GARBAGE COLLECTION', 'INHOUSE - RECYCLING', 'GARBAGE COLLECTION', 'RECYCLING - SINGLE STREAM', 'GARBAGE COLLECTION', 'RECYCLING - SINGLE STREAM', 'GARBAGE COLLECTION', 'GARBAGE COLLECTION', 'GARBAGE COLLECTION', 'GARBAGE COLLECTION', 'GARBAGE COLLECTION', 'YARD TRIMMINGS', 'DEAD ANIMAL', 'YARD TRIMMINGS', 'YARD TRIMMINGS', 'GARBAGE COLLECTION', 'RECYCLING - SINGLE STREAM', 'RECYCLING - SINGLE STREAM', 'RECYCLING - SINGLE STREAM', 'RECYCLING - SINGLE STREAM', 'BULK', 'GARBAGE COLLECTION', 'RECYCLING - SINGLE STREAM', 'RECYCLING - SINGLE STREAM', 'YARD TRIMMINGS', 'GARBAGE COLLECTION', 'GARBAGE COLLECTION', 'GARBAGE COLLECTION', 'GARBAGE COLLECTION', 'GARBAGE COLLECTION', 'GARBAGE COLLECTION', 'GARBAGE COLLECTION', 'SWEEPER DUMPSITES', 'SWEEPER DUMPSITES', 'SWEEPER DUMPSITES', 'GARBAGE COLLECTION', 'YARD TRIMMINGS', 'RECYCLING - SINGLE STREAM', 'BRUSH', 'GARBAGE COLLECTION', 'BRUSH', 'RECYCLING - SINGLE STREAM', 'GARBAGE COLLECTION', 'GARBAGE COLLECTION', 'BRUSH', 'BULK', 'RECYCLING - SINGLE STREAM', 'GARBAGE COLLECTION', 'GARBAGE COLLECTION', 'RECYCLING - SINGLE STREAM', 'BULK', 'BRUSH', 'GARBAGE COLLECTION', 'GARBAGE COLLECTION', 'GARBAGE COLLECTION', 'GARBAGE COLLECTION', 'GARBAGE COLLECTION', 'YARD TRIMMINGS-ORGANICS', 'SWEEPER DUMPSITES', 'RECYCLING - SINGLE STREAM', 'RECYCLING - SINGLE STREAM', 'GARBAGE COLLECTION', 'STORM', 'GARBAGE COLLECTION', 'GARBAGE COLLECTION', 'BULK', 'GARBAGE COLLECTION', 'BRUSH', 'GARBAGE COLLECTION', 'GARBAGE COLLECTION', 'GARBAGE COLLECTION', 'GARBAGE COLLECTION', 'GARBAGE COLLECTION', 'KAB', 'BULK', 'GARBAGE COLLECTION', 'GARBAGE COLLECTION', 'GARBAGE COLLECTION', 'STORM', 'GARBAGE COLLECTION', 'SWEEPER DUMPSITES', 'GARBAGE COLLECTION', 'GARBAGE COLLECTION', 'RECYCLING - SINGLE STREAM', 'YARD TRIMMINGS', 'BRUSH', 'RECYCLING - SINGLE STREAM', 'RECYCLING - SINGLE STREAM', 'RECYCLING - SINGLE STREAM', 'YARD TRIMMINGS', 'GARBAGE COLLECTION', 'GARBAGE COLLECTION', 'GARBAGE COLLECTION', 'GARBAGE COLLECTION', 'GARBAGE COLLECTION', 'BRUSH', 'SWEEPER DUMPSITES', 'SWEEPER DUMPSITES', 'YARD TRIMMINGS-ORGANICS', 'BRUSH', 'SWEEPER DUMPSITES', 'GARBAGE COLLECTION', 'BULK', 'GARBAGE COLLECTION', 'RECYCLING - SINGLE STREAM', 'GARBAGE COLLECTION', 'BULK', 'YARD TRIMMINGS', 'BULK', 'RECYCLING - SINGLE STREAM', 'RECYCLING - SINGLE STREAM', 'YARD TRIMMINGS', 'GARBAGE COLLECTION', 'RECYCLING - SINGLE STREAM', 'STORM', 'RECYCLING - SINGLE STREAM', 'YARD TRIMMINGS', 'BULK', 'YARD TRIMMINGS', 'SWEEPER DUMPSITES', 'BRUSH', 'GARBAGE COLLECTION', 'RECYCLING - SINGLE STREAM', 'GARBAGE COLLECTION', 'RECYCLING - SINGLE STREAM', 'RECYCLING - SINGLE STREAM', 'RECYCLING - SINGLE STREAM', 'BRUSH', 'DEAD ANIMAL', 'GARBAGE COLLECTION', 'GARBAGE COLLECTION', 'RECYCLING - SINGLE STREAM', 'BULK', 'GARBAGE COLLECTION', 'RECYCLING - SINGLE STREAM', 'GARBAGE COLLECTION', 'GARBAGE COLLECTION', 'YARD TRIMMINGS', 'RECYCLING - SINGLE STREAM', 'GARBAGE COLLECTION', 'GARBAGE COLLECTION', 'GARBAGE COLLECTION', 'RECYCLING - SINGLE STREAM', 'GARBAGE COLLECTION', 'BULK', 'GARBAGE COLLECTION', 'RECYCLING - SINGLE STREAM', 'GARBAGE COLLECTION', 'GARBAGE COLLECTION', 'RECYCLING - SINGLE STREAM', 'GARBAGE COLLECTION', 'YARD TRIMMINGS', 'GARBAGE COLLECTION', 'GARBAGE COLLECTION', 'GARBAGE COLLECTION', 'RECYCLING - SINGLE STREAM', 'GARBAGE COLLECTION', 'YARD TRIMMINGS', 'GARBAGE COLLECTION', 'YARD TRIMMINGS', 'GARBAGE COLLECTION', 'RECYCLING - SINGLE STREAM', 'YARD TRIMMINGS']",
            "count": 1
           },
           {
            "name": "['GARBAGE COLLECTION', 'GARBAGE COLLECTION', 'RECYCLING - SINGLE STREAM', 'DEAD ANIMAL', 'GARBAGE COLLECTION', 'GARBAGE COLLECTION', 'GARBAGE COLLECTION', 'RECYCLING - SINGLE STREAM', 'RECYCLING - SINGLE STREAM', 'BRUSH', 'GARBAGE COLLECTION', 'RECYCLING - SINGLE STREAM', 'GARBAGE COLLECTION', 'RECYCLING - SINGLE STREAM', 'GARBAGE COLLECTION', 'RECYCLING - SINGLE STREAM', 'BRUSH', 'BRUSH', 'GARBAGE COLLECTION', 'SWEEPER DUMPSITES', 'BULK', 'RECYCLING - SINGLE STREAM', 'GARBAGE COLLECTION', 'STORM', 'GARBAGE COLLECTION', 'RECYCLING - SINGLE STREAM', 'YARD TRIMMINGS', 'GARBAGE COLLECTION', 'GARBAGE COLLECTION', 'RECYCLING - SINGLE STREAM', 'BULK', 'RECYCLING - SINGLE STREAM', 'YARD TRIMMINGS', 'RECYCLING - SINGLE STREAM', 'GARBAGE COLLECTION', 'BULK', 'RECYCLING - SINGLE STREAM', 'GARBAGE COLLECTION', 'YARD TRIMMINGS', 'BRUSH', 'GARBAGE COLLECTION', 'STORM', 'RECYCLING - SINGLE STREAM', 'SWEEPER DUMPSITES', 'BRUSH', 'SWEEPER DUMPSITES', 'RECYCLING - SINGLE STREAM', 'YARD TRIMMINGS-ORGANICS', 'GARBAGE COLLECTION', 'YARD TRIMMINGS', 'GARBAGE COLLECTION', 'GARBAGE COLLECTION', 'GARBAGE COLLECTION', 'RECYCLING - SINGLE STREAM', 'RECYCLING - SINGLE STREAM', 'GARBAGE COLLECTION', 'BULK', 'INHOUSE - RECYCLING', 'STORM', 'INHOUSE - RECYCLING', 'GARBAGE COLLECTION', 'BRUSH', 'GARBAGE COLLECTION', 'BULK', 'RECYCLING - SINGLE STREAM', 'BULK', 'GARBAGE COLLECTION', 'GARBAGE COLLECTION', 'GARBAGE COLLECTION', 'GARBAGE COLLECTION', 'GARBAGE COLLECTION', 'RECYCLING - SINGLE STREAM', 'RECYCLING - SINGLE STREAM', 'SWEEPER DUMPSITES', 'GARBAGE COLLECTION', 'YARD TRIMMINGS', 'GARBAGE COLLECTION', 'RECYCLING - SINGLE STREAM', 'SWEEPER DUMPSITES', 'YARD TRIMMINGS', 'SWEEPER DUMPSITES', 'GARBAGE COLLECTION', 'GARBAGE COLLECTION', 'RECYCLING - SINGLE STREAM', 'RECYCLING - SINGLE STREAM', 'RECYCLING - SINGLE STREAM', 'BRUSH', 'GARBAGE COLLECTION', 'RECYCLING - SINGLE STREAM', 'GARBAGE COLLECTION', 'RECYCLING - SINGLE STREAM', 'GARBAGE COLLECTION', 'GARBAGE COLLECTION', 'GARBAGE COLLECTION', 'RECYCLING - SINGLE STREAM', 'RECYCLING - SINGLE STREAM', 'RECYCLING - SINGLE STREAM', 'YARD TRIMMINGS', 'GARBAGE COLLECTION', 'GARBAGE COLLECTION', 'RECYCLING - SINGLE STREAM', 'GARBAGE COLLECTION', 'GARBAGE COLLECTION', 'SWEEPER DUMPSITES', 'RECYCLING - SINGLE STREAM', 'RECYCLING - SINGLE STREAM', 'BULK', 'RECYCLING - SINGLE STREAM', 'RECYCLING - SINGLE STREAM', 'YARD TRIMMINGS', 'GARBAGE COLLECTION', 'BULK', 'RECYCLING - SINGLE STREAM', 'GARBAGE COLLECTION', 'GARBAGE COLLECTION', 'RECYCLING - SINGLE STREAM', 'RECYCLING - SINGLE STREAM', 'YARD TRIMMINGS', 'RECYCLING - SINGLE STREAM', 'RECYCLING - SINGLE STREAM', 'BRUSH', 'BULK', 'GARBAGE COLLECTION', 'GARBAGE COLLECTION', 'GARBAGE COLLECTION', 'GARBAGE COLLECTION', 'RECYCLING - SINGLE STREAM', 'RECYCLING - SINGLE STREAM', 'RECYCLING - SINGLE STREAM', 'BRUSH', 'RECYCLING - SINGLE STREAM', 'RECYCLING - SINGLE STREAM', 'GARBAGE COLLECTION', 'RECYCLING - SINGLE STREAM', 'GARBAGE COLLECTION', 'GARBAGE COLLECTION', 'GARBAGE COLLECTION', 'YARD TRIMMINGS', 'STORM', 'BRUSH', 'STORM', 'YARD TRIMMINGS', 'RECYCLING - SINGLE STREAM', 'GARBAGE COLLECTION', 'GARBAGE COLLECTION', 'RECYCLING - SINGLE STREAM', 'GARBAGE COLLECTION', 'BULK', 'GARBAGE COLLECTION', 'RECYCLING - SINGLE STREAM', 'RECYCLING - SINGLE STREAM', 'GARBAGE COLLECTION', 'GARBAGE COLLECTION', 'GARBAGE COLLECTION', 'RECYCLING - SINGLE STREAM', 'SWEEPER DUMPSITES', 'RECYCLING - SINGLE STREAM', 'BULK', 'RECYCLING - SINGLE STREAM', 'GARBAGE COLLECTION', 'RECYCLING - SINGLE STREAM', 'RECYCLING - SINGLE STREAM', 'GARBAGE COLLECTION', 'RECYCLING - SINGLE STREAM', 'GARBAGE COLLECTION', 'GARBAGE COLLECTION', 'RECYCLING - SINGLE STREAM', 'GARBAGE COLLECTION', 'RECYCLING - SINGLE STREAM', 'GARBAGE COLLECTION', 'RECYCLING - SINGLE STREAM', 'GARBAGE COLLECTION', 'BRUSH', 'RECYCLING - SINGLE STREAM', 'GARBAGE COLLECTION', 'SWEEPER DUMPSITES', 'RECYCLING - SINGLE STREAM', 'RECYCLING - SINGLE STREAM', 'RECYCLING - SINGLE STREAM', 'RECYCLING - SINGLE STREAM', 'SWEEPER DUMPSITES', 'RECYCLING - SINGLE STREAM', 'GARBAGE COLLECTION', 'GARBAGE COLLECTION', 'YARD TRIMMINGS', 'RECYCLING - SINGLE STREAM', 'GARBAGE COLLECTION', 'GARBAGE COLLECTION', 'GARBAGE COLLECTION', 'BULK', 'YARD TRIMMINGS', 'GARBAGE COLLECTION', 'GARBAGE COLLECTION', 'RECYCLING - SINGLE STREAM', 'RECYCLING - SINGLE STREAM', 'GARBAGE COLLECTION', 'GARBAGE COLLECTION', 'BRUSH', 'RECYCLING - SINGLE STREAM', 'GARBAGE COLLECTION', 'GARBAGE COLLECTION', 'RECYCLING - SINGLE STREAM', 'BRUSH', 'BULK', 'DEAD ANIMAL', 'RECYCLING - SINGLE STREAM', 'GARBAGE COLLECTION', 'GARBAGE COLLECTION', 'YARD TRIMMINGS', 'YARD TRIMMINGS', 'GARBAGE COLLECTION', 'GARBAGE COLLECTION', 'BULK', 'SWEEPER DUMPSITES', 'DEAD ANIMAL', 'GARBAGE COLLECTION', 'GARBAGE COLLECTION', 'YARD TRIMMINGS', 'STORM', 'GARBAGE COLLECTION', 'GARBAGE COLLECTION', 'RECYCLING - SINGLE STREAM', 'YARD TRIMMINGS', 'GARBAGE COLLECTION', 'GARBAGE COLLECTION', 'DEAD ANIMAL', 'YARD TRIMMINGS-ORGANICS', 'GARBAGE COLLECTION', 'RECYCLING - SINGLE STREAM', 'GARBAGE COLLECTION', 'GARBAGE COLLECTION', 'RECYCLING - SINGLE STREAM', 'RECYCLING - SINGLE STREAM', 'GARBAGE COLLECTION', 'RECYCLING - SINGLE STREAM', 'RECYCLING - SINGLE STREAM', 'RECYCLING - SINGLE STREAM', 'GARBAGE COLLECTION', 'GARBAGE COLLECTION', 'RECYCLING - SINGLE STREAM', 'GARBAGE COLLECTION', 'GARBAGE COLLECTION', 'GARBAGE COLLECTION', 'RECYCLING - SINGLE STREAM', 'RECYCLING - SINGLE STREAM', 'RECYCLING - SINGLE STREAM', 'GARBAGE COLLECTION', 'GARBAGE COLLECTION', 'RECYCLING - SINGLE STREAM', 'RECYCLING - SINGLE STREAM', 'RECYCLING - SINGLE STREAM', 'RECYCLING - SINGLE STREAM', 'GARBAGE COLLECTION', 'RECYCLING - SINGLE STREAM', 'GARBAGE COLLECTION', 'GARBAGE COLLECTION', 'RECYCLING - SINGLE STREAM', 'RECYCLING - SINGLE STREAM', 'GARBAGE COLLECTION', 'GARBAGE COLLECTION', 'GARBAGE COLLECTION', 'RECYCLING - SINGLE STREAM', 'GARBAGE COLLECTION', 'BRUSH', 'GARBAGE COLLECTION', 'YARD TRIMMINGS', 'GARBAGE COLLECTION', 'YARD TRIMMINGS', 'YARD TRIMMINGS', 'BULK', 'DEAD ANIMAL', 'RECYCLING - SINGLE STREAM', 'GARBAGE COLLECTION', 'YARD TRIMMINGS', 'GARBAGE COLLECTION', 'RECYCLING - SINGLE STREAM', 'YARD TRIMMINGS', 'BULK', 'GARBAGE COLLECTION', 'YARD TRIMMINGS', 'YARD TRIMMINGS-ORGANICS', 'RECYCLING - SINGLE STREAM', 'GARBAGE COLLECTION', 'RECYCLING - SINGLE STREAM', 'YARD TRIMMINGS-ORGANICS', 'GARBAGE COLLECTION', 'GARBAGE COLLECTION', 'RECYCLING - SINGLE STREAM', 'GARBAGE COLLECTION', 'DEAD ANIMAL', 'YARD TRIMMINGS', 'GARBAGE COLLECTION', 'YARD TRIMMINGS', 'GARBAGE COLLECTION', 'GARBAGE COLLECTION', 'GARBAGE COLLECTION', 'GARBAGE COLLECTION', 'GARBAGE COLLECTION', 'GARBAGE COLLECTION', 'RECYCLING - SINGLE STREAM', 'GARBAGE COLLECTION', 'GARBAGE COLLECTION', 'GARBAGE COLLECTION', 'YARD TRIMMINGS', 'SWEEPER DUMPSITES', 'RECYCLING - SINGLE STREAM', 'GARBAGE COLLECTION', 'RECYCLING - SINGLE STREAM', 'GARBAGE COLLECTION', 'RECYCLING - SINGLE STREAM', 'GARBAGE COLLECTION', 'GARBAGE COLLECTION', 'GARBAGE COLLECTION', 'RECYCLING - SINGLE STREAM', 'GARBAGE COLLECTION', 'YARD TRIMMINGS', 'GARBAGE COLLECTION', 'GARBAGE COLLECTION', 'RECYCLING - SINGLE STREAM', 'GARBAGE COLLECTION', 'GARBAGE COLLECTION', 'YARD TRIMMINGS', 'SWEEPER DUMPSITES', 'GARBAGE COLLECTION', 'GARBAGE COLLECTION', 'YARD TRIMMINGS', 'RECYCLING - SINGLE STREAM', 'YARD TRIMMINGS', 'GARBAGE COLLECTION', 'BULK', 'RECYCLING - SINGLE STREAM', 'RECYCLING - SINGLE STREAM', 'YARD TRIMMINGS-ORGANICS', 'RECYCLING - SINGLE STREAM', 'BULK', 'GARBAGE COLLECTION', 'YARD TRIMMINGS', 'YARD TRIMMINGS', 'GARBAGE COLLECTION', 'GARBAGE COLLECTION', 'GARBAGE COLLECTION', 'GARBAGE COLLECTION', 'BULK', 'GARBAGE COLLECTION', 'BULK', 'RECYCLING - SINGLE STREAM', 'YARD TRIMMINGS', 'LITTER P/U', 'RECYCLING - SINGLE STREAM', 'GARBAGE COLLECTION', 'GARBAGE COLLECTION', 'RECYCLING - SINGLE STREAM', 'GARBAGE COLLECTION', 'YARD TRIMMINGS', 'GARBAGE COLLECTION', 'GARBAGE COLLECTION', 'RECYCLING - SINGLE STREAM', 'GARBAGE COLLECTION', 'RECYCLING - SINGLE STREAM', 'GARBAGE COLLECTION', 'YARD TRIMMINGS', 'GARBAGE COLLECTION', 'RECYCLING - SINGLE STREAM', 'RECYCLING - SINGLE STREAM', 'BRUSH', 'GARBAGE COLLECTION', 'RECYCLING - SINGLE STREAM', 'GARBAGE COLLECTION', 'GARBAGE COLLECTION', 'RECYCLING - SINGLE STREAM', 'SWEEPER DUMPSITES', 'RECYCLING - SINGLE STREAM', 'YARD TRIMMINGS', 'RECYCLING - SINGLE STREAM', 'GARBAGE COLLECTION', 'BRUSH', 'RECYCLING - SINGLE STREAM', 'RECYCLING - SINGLE STREAM', 'BULK', 'GARBAGE COLLECTION', 'GARBAGE COLLECTION', 'BRUSH', 'GARBAGE COLLECTION', 'SWEEPER DUMPSITES', 'DEAD ANIMAL', 'STORM', 'SWEEPER DUMPSITES', 'GARBAGE COLLECTION', 'BRUSH', 'DEAD ANIMAL', 'RECYCLING - SINGLE STREAM', 'RECYCLING - SINGLE STREAM', 'GARBAGE COLLECTION', 'STORM', 'GARBAGE COLLECTION', 'SWEEPER DUMPSITES', 'SWEEPER DUMPSITES', 'SWEEPER DUMPSITES', 'GARBAGE COLLECTION', 'GARBAGE COLLECTION', 'RECYCLING - SINGLE STREAM', 'INHOUSE - RECYCLING', 'GARBAGE COLLECTION', 'GARBAGE COLLECTION', 'GARBAGE COLLECTION', 'RECYCLING - SINGLE STREAM', 'RECYCLING - SINGLE STREAM', 'BULK', 'RECYCLING - SINGLE STREAM', 'YARD TRIMMINGS', 'RECYCLING - SINGLE STREAM', 'YARD TRIMMINGS', 'YARD TRIMMINGS', 'GARBAGE COLLECTION', 'YARD TRIMMINGS', 'RECYCLING - SINGLE STREAM', 'RECYCLING - SINGLE STREAM', 'RECYCLING - SINGLE STREAM', 'RECYCLING - SINGLE STREAM', 'GARBAGE COLLECTION', 'YARD TRIMMINGS', 'GARBAGE COLLECTION', 'GARBAGE COLLECTION', 'YARD TRIMMINGS', 'YARD TRIMMINGS', 'BRUSH', 'RECYCLING - SINGLE STREAM', 'BULK', 'YARD TRIMMINGS', 'RECYCLING - SINGLE STREAM', 'BULK', 'SWEEPER DUMPSITES', 'RECYCLING - SINGLE STREAM', 'GARBAGE COLLECTION', 'RECYCLING - SINGLE STREAM', 'GARBAGE COLLECTION', 'BULK', 'GARBAGE COLLECTION', 'RECYCLING - SINGLE STREAM', 'BULK', 'RECYCLING - SINGLE STREAM', 'STORM', 'RECYCLING - SINGLE STREAM', 'STORM', 'YARD TRIMMINGS', 'GARBAGE COLLECTION', 'RECYCLING - SINGLE STREAM', 'YARD TRIMMINGS', 'RECYCLING - SINGLE STREAM', 'GARBAGE COLLECTION', 'BRUSH', 'GARBAGE COLLECTION', 'GARBAGE COLLECTION', 'RECYCLING - SINGLE STREAM', 'GARBAGE COLLECTION', 'YARD TRIMMINGS', 'RECYCLING - SINGLE STREAM', 'GARBAGE COLLECTION', 'GARBAGE COLLECTION', 'SWEEPER DUMPSITES', 'GARBAGE COLLECTION', 'YARD TRIMMINGS', 'GARBAGE COLLECTION', 'BULK', 'GARBAGE COLLECTION', 'RECYCLING - SINGLE STREAM', 'STORM', 'GARBAGE COLLECTION', 'STORM', 'RECYCLING - SINGLE STREAM', 'GARBAGE COLLECTION', 'SWEEPER DUMPSITES', 'GARBAGE COLLECTION', 'RECYCLING - SINGLE STREAM', 'INHOUSE - RECYCLING', 'GARBAGE COLLECTION', 'BULK', 'RECYCLING - SINGLE STREAM', 'RECYCLING - SINGLE STREAM', 'GARBAGE COLLECTION', 'GARBAGE COLLECTION', 'RECYCLING - SINGLE STREAM', 'STORM', 'SWEEPER DUMPSITES', 'RECYCLING - SINGLE STREAM', 'RECYCLING - SINGLE STREAM', 'SWEEPER DUMPSITES', 'GARBAGE COLLECTION', 'BRUSH', 'GARBAGE COLLECTION', 'SWEEPER DUMPSITES', 'RECYCLING - SINGLE STREAM', 'GARBAGE COLLECTION', 'GARBAGE COLLECTION', 'YARD TRIMMINGS', 'BULK', 'STORM', 'GARBAGE COLLECTION', 'YARD TRIMMINGS', 'GARBAGE COLLECTION', 'RECYCLING - SINGLE STREAM', 'RECYCLING - SINGLE STREAM', 'SWEEPER DUMPSITES', 'YARD TRIMMINGS', 'RECYCLING - SINGLE STREAM', 'RECYCLING - SINGLE STREAM', 'RECYCLING - SINGLE STREAM', 'GARBAGE COLLECTION', 'RECYCLING - SINGLE STREAM', 'GARBAGE COLLECTION', 'BRUSH', 'YARD TRIMMINGS', 'GARBAGE COLLECTION', 'RECYCLING - SINGLE STREAM', 'GARBAGE COLLECTION', 'GARBAGE COLLECTION', 'RECYCLING - SINGLE STREAM', 'GARBAGE COLLECTION', 'YARD TRIMMINGS', 'GARBAGE COLLECTION', 'BULK', 'SWEEPER DUMPSITES', 'YARD TRIMMINGS', 'YARD TRIMMINGS', 'RECYCLING - SINGLE STREAM', 'GARBAGE COLLECTION', 'GARBAGE COLLECTION', 'GARBAGE COLLECTION', 'GARBAGE COLLECTION', 'GARBAGE COLLECTION', 'BULK', 'GARBAGE COLLECTION', 'YARD TRIMMINGS', 'GARBAGE COLLECTION', 'GARBAGE COLLECTION', 'YARD TRIMMINGS', 'RECYCLING - SINGLE STREAM', 'YARD TRIMMINGS', 'GARBAGE COLLECTION', 'SWEEPER DUMPSITES', 'BULK', 'BULK', 'GARBAGE COLLECTION', 'RECYCLING - SINGLE STREAM', 'RECYCLING - SINGLE STREAM', 'RECYCLING - SINGLE STREAM', 'STORM', 'RECYCLING - SINGLE STREAM', 'SWEEPER DUMPSITES', 'RECYCLING - SINGLE STREAM', 'GARBAGE COLLECTION', 'RECYCLING - SINGLE STREAM', 'GARBAGE COLLECTION', 'BULK', 'RECYCLING - SINGLE STREAM', 'YARD TRIMMINGS', 'BULK', 'GARBAGE COLLECTION', 'BULK', 'RECYCLING - SINGLE STREAM', 'BULK', 'GARBAGE COLLECTION', 'GARBAGE COLLECTION', 'GARBAGE COLLECTION', 'GARBAGE COLLECTION', 'RECYCLING - SINGLE STREAM', 'RECYCLING - SINGLE STREAM', 'STORM', 'YARD TRIMMINGS', 'BULK', 'GARBAGE COLLECTION', 'GARBAGE COLLECTION', 'RECYCLING - SINGLE STREAM', 'GARBAGE COLLECTION', 'SWEEPER DUMPSITES', 'RECYCLING - SINGLE STREAM', 'YARD TRIMMINGS', 'GARBAGE COLLECTION', 'GARBAGE COLLECTION', 'RECYCLING - SINGLE STREAM', 'GARBAGE COLLECTION', 'RECYCLING - SINGLE STREAM', 'RECYCLING - SINGLE STREAM', 'GARBAGE COLLECTION', 'GARBAGE COLLECTION', 'GARBAGE COLLECTION', 'YARD TRIMMINGS', 'GARBAGE COLLECTION', 'BULK', 'YARD TRIMMINGS', 'GARBAGE COLLECTION', 'BULK', 'GARBAGE COLLECTION', 'YARD TRIMMINGS', 'GARBAGE COLLECTION', 'SWEEPER DUMPSITES', 'GARBAGE COLLECTION', 'GARBAGE COLLECTION', 'YARD TRIMMINGS', 'GARBAGE COLLECTION', 'GARBAGE COLLECTION', 'GARBAGE COLLECTION', 'YARD TRIMMINGS', 'RECYCLING - SINGLE STREAM', 'GARBAGE COLLECTION', 'STORM', 'GARBAGE COLLECTION', 'YARD TRIMMINGS', 'SWEEPER DUMPSITES', 'RECYCLING - SINGLE STREAM', 'YARD TRIMMINGS', 'YARD TRIMMINGS-ORGANICS', 'RECYCLING - SINGLE STREAM', 'YARD TRIMMINGS', 'GARBAGE COLLECTION', 'GARBAGE COLLECTION', 'GARBAGE COLLECTION', 'RECYCLING - SINGLE STREAM', 'RECYCLING - SINGLE STREAM', 'GARBAGE COLLECTION', 'RECYCLING - SINGLE STREAM', 'YARD TRIMMINGS', 'GARBAGE COLLECTION', 'RECYCLING - SINGLE STREAM', 'GARBAGE COLLECTION', 'GARBAGE COLLECTION', 'YARD TRIMMINGS-ORGANICS', 'GARBAGE COLLECTION', 'GARBAGE COLLECTION', 'GARBAGE COLLECTION', 'RECYCLING - SINGLE STREAM', 'RECYCLING - SINGLE STREAM', 'RECYCLING - SINGLE STREAM', 'STORM', 'YARD TRIMMINGS', 'GARBAGE COLLECTION', 'YARD TRIMMINGS', 'GARBAGE COLLECTION', 'SWEEPER DUMPSITES', 'RECYCLING - SINGLE STREAM', 'YARD TRIMMINGS', 'RECYCLING - SINGLE STREAM', 'GARBAGE COLLECTION', 'BULK', 'RECYCLING - SINGLE STREAM', 'RECYCLING - SINGLE STREAM', 'RECYCLING - SINGLE STREAM', 'RECYCLING - SINGLE STREAM', 'INHOUSE - RECYCLING', 'RECYCLING - SINGLE STREAM', 'RECYCLING - SINGLE STREAM', 'YARD TRIMMINGS', 'YARD TRIMMINGS', 'BRUSH', 'RECYCLING - SINGLE STREAM', 'RECYCLING - SINGLE STREAM', 'RECYCLING - SINGLE STREAM', 'GARBAGE COLLECTION', 'GARBAGE COLLECTION', 'RECYCLING - SINGLE STREAM', 'GARBAGE COLLECTION', 'GARBAGE COLLECTION', 'RECYCLING - SINGLE STREAM', 'GARBAGE COLLECTION', 'RECYCLING - SINGLE STREAM', 'GARBAGE COLLECTION', 'SWEEPER DUMPSITES', 'SWEEPER DUMPSITES', 'RECYCLING - SINGLE STREAM', 'SWEEPER DUMPSITES', 'BRUSH', 'RECYCLING - SINGLE STREAM', 'YARD TRIMMINGS', 'RECYCLING - SINGLE STREAM', 'GARBAGE COLLECTION', 'YARD TRIMMINGS', 'GARBAGE COLLECTION', 'RECYCLING - SINGLE STREAM', 'GARBAGE COLLECTION', 'SWEEPER DUMPSITES', 'GARBAGE COLLECTION', 'STORM', 'BULK', 'GARBAGE COLLECTION', 'YARD TRIMMINGS', 'YARD TRIMMINGS', 'GARBAGE COLLECTION', 'RECYCLING - SINGLE STREAM', 'GARBAGE COLLECTION', 'BULK', 'GARBAGE COLLECTION', 'GARBAGE COLLECTION', 'SPECIAL PROJECT LC', 'GARBAGE COLLECTION', 'GARBAGE COLLECTION', 'GARBAGE COLLECTION', 'GARBAGE COLLECTION', 'YARD TRIMMINGS', 'GARBAGE COLLECTION', 'YARD TRIMMINGS', 'SWEEPER DUMPSITES', 'GARBAGE COLLECTION', 'GARBAGE COLLECTION', 'YARD TRIMMINGS', 'RECYCLING - SINGLE STREAM', 'YARD TRIMMINGS', 'RECYCLING - SINGLE STREAM', 'STORM', 'GARBAGE COLLECTION', 'YARD TRIMMINGS', 'GARBAGE COLLECTION', 'BULK', 'GARBAGE COLLECTION', 'GARBAGE COLLECTION', 'RECYCLING - SINGLE STREAM', 'GARBAGE COLLECTION', 'GARBAGE COLLECTION', 'SWEEPER DUMPSITES', 'YARD TRIMMINGS', 'YARD TRIMMINGS', 'GARBAGE COLLECTION', 'RECYCLING - SINGLE STREAM', 'YARD TRIMMINGS', 'RECYCLING - SINGLE STREAM', 'SWEEPER DUMPSITES', 'BULK', 'RECYCLING - SINGLE STREAM', 'GARBAGE COLLECTION', 'RECYCLING - SINGLE STREAM', 'GARBAGE COLLECTION', 'RECYCLING - SINGLE STREAM', 'DEAD ANIMAL', 'GARBAGE COLLECTION', 'GARBAGE COLLECTION', 'GARBAGE COLLECTION', 'RECYCLING - SINGLE STREAM', 'RECYCLING - SINGLE STREAM', 'RECYCLING - SINGLE STREAM', 'GARBAGE COLLECTION', 'RECYCLING - SINGLE STREAM', 'GARBAGE COLLECTION', 'RECYCLING - SINGLE STREAM', 'GARBAGE COLLECTION', 'RECYCLING - SINGLE STREAM', 'GARBAGE COLLECTION', 'GARBAGE COLLECTION', 'BULK', 'GARBAGE COLLECTION', 'GARBAGE COLLECTION', 'BULK', 'YARD TRIMMINGS', 'GARBAGE COLLECTION', 'YARD TRIMMINGS']",
            "count": 1
           },
           {
            "name": "311 others",
            "count": 311
           }
          ]
         }
        },
        {
         "name": "Route Number",
         "dtype": "object",
         "stats": {
          "unique_count": 313,
          "nan_count": 0,
          "categories": [
           {
            "name": "['PAW72', 'PAH71', 'PH34', 'BU06', 'RHBU13', 'PAF60', 'PW11', 'RWBU11', 'PAW05', 'RHBU25', 'PAT01', 'BU06', 'PAH81', 'PAT69', 'RHBU21', 'KAB07', 'RWBS34', 'RWBU11', 'RTBU21', 'BU06', 'PW33', 'BU06', 'YW13', 'YT06', 'RWBU13', 'YM05', 'RFBU22', 'YF04', 'RFBS41', 'RMBU14', 'BR19', 'YM05', 'BU06', 'PM10', 'PT31', 'RMBS42', 'RFBS42', 'PAW82', 'YM01', 'PAF73', 'PH23', 'BU06', 'PAW62', 'YW10', 'PAH65', 'PAH85', 'PM20', 'RHBU20', 'PAF04', 'BU06', 'RHBU11', 'STO13', 'BR19', 'PM30', 'PAT82', 'PAT63', 'PAW61', 'YH01', 'BR19', 'YF10', 'RFBU11', 'YW02', 'PAW01', 'PAM85', 'PAT81', 'PAF83', 'PAW83', 'STO13', 'RMBS34', 'PAM73', 'PM20', 'RWBS34', 'RWBU23', 'PAM80', 'PAT09', 'PAM81', 'PAW79', 'PM12', 'BR19', 'RFBU20', 'PAT87', 'PAW80', 'PH22', 'BU06', 'PH12', 'PAM73', 'YT08', 'RFBU24', 'RMBU26', 'RWBU16', 'PAH69', 'RFBU16', 'RHBS40', 'STO13', 'DH4', 'PAM73', 'PAH03', 'RMBU26', 'DSS01', 'RTBS40', 'PAF83', 'PAH82', 'BR19', 'PH23', 'YM02', 'DA01', 'PW30', 'RFBU20', 'YT02', 'PAT84', 'PAH06', 'RWBS43', 'DSS01', 'RMBS33', 'RTBS43', 'YM08', 'RWBS35', 'RTBU26', 'RHBU10', 'RHBU20', 'PAF73', 'PAT72', 'PW21', 'PAW81', 'PAM73', 'PW39', 'PAW63', 'PAM74', 'PAM87', 'PH11', 'IRF1', 'PAT03', 'YF02', 'PAW64', 'DA02', 'PH33', 'DSS04', 'BU06', 'PAW04', 'PAH76', 'PAT03', 'RHBS43', 'PH10', 'BR19', 'RHBS33', 'PH30', 'PF21', 'DSS04', 'DSS01', 'RMBU25', 'YBT99', 'PAM74', 'RMBU16', 'PAH85', 'PAF64', 'RTBU10', 'PAW09', 'PM13', 'RFAS33', 'OF1', 'YT03', 'PAF81', 'PAW05', 'PM23', 'DSS04', 'PF39', 'PAT84', 'RWBU20', 'PAM84', 'OM-1', 'RFBU15', 'RMBU20', 'RWBU10', 'YW05', 'PAM74', 'RWBS42', 'PAT74', 'PF12', 'RTBS43', 'PAM64', 'RHBS43', 'PH32', 'DF3', 'YT09', 'YW01', 'RFBU23', 'YW09', 'PT19', 'RMBU11', 'RHBU14', 'YH04', 'PAM83', 'RMBU22', 'DSS01', 'PAH76', 'PAF71', 'PAM01', 'DSS04', 'RWBU21', 'DSS04', 'YM11', 'DSS01', 'PAM69', 'RHBU16', 'PH39', 'PW31', 'PW19', 'RTBS40', 'DSS01', 'PAM71', 'PAW70', 'RHBU16', 'RMBU23', 'YF07', 'YH08', 'PF33', 'YT01', 'RMBU14', 'PAM70', 'DT3', 'RMBU24', 'PAW84', 'RWBU25', 'RWBS33', 'RWBU14', 'PM32', 'RHBU22', 'PT39', 'PAH70', 'YW13', 'STO13', 'PAM84', 'PAF72', 'PAM62', 'PAH01', 'PAT65', 'STO13', 'DSS01', 'PT22', 'RHBS40', 'YW06', 'YT10', 'RWBS35', 'RFBU13', 'BR19', 'RMBU21', 'DSS01', 'RMBS35', 'PAW02', 'RMBU23', 'RTBU10', 'RMBU11', 'PM20', 'PAH73', 'RTBU10', 'RTBS35', 'PAT71', 'PT21', 'YF09', 'PAF01', 'RMBS43', 'PAF63', 'PAM74', 'YF06', 'RTBU23', 'STO13', 'RHBU21', 'RWBU20', 'DT1', 'PAT61', 'BR19', 'PAH87', 'RMBU13', 'PH21', 'RTBU11', 'STO13', 'PAW60', 'PM23', 'PAT72', 'PM22', 'PAM72', 'PAH84', 'PAM04', 'PAM02', 'RWBU23', 'BU06', 'PAM84', 'RHBS42', 'PAM01', 'YT08', 'IRT1', 'RFBU23', 'DF1', 'PAM83', 'PAH63', 'RTBU22', 'PM31', 'RWBU24', 'PAW64', 'YF05', 'RMBU15', 'DSS04', 'PAF80', 'BU06', 'RHBU13', 'PAH81', 'DM4', 'PW32', 'STO13', 'RTBU21', 'PAF72', 'PAM75', 'YH02', 'PAF87', 'YHP', 'DSS01', 'RFBS41', 'PAF82', 'RHBU26', 'RWBU21', 'PAW75', 'PAW87', 'YM01', 'PAT02', 'PAM64', 'PAT81', 'PM11', 'YHP', 'YH07', 'YM11', 'RMBU10', 'PAW80', 'YM10', 'RMBU20', 'DF2', 'YM04', 'STO13', 'STO13', 'PT20', 'PAT83', 'DM1', 'DSS01', 'RWBS43', 'RFBU14', 'PW21', 'RMBS40', 'YH06', 'RMBS34', 'PAW83', 'RMBU25', 'PAH71', 'PAF69', 'IRM1', 'DSS01', 'RMBU21', 'RWBU12', 'RHBU24', 'PT12', 'RHBU10', 'BR19', 'RWBU12', 'YW03', 'BU06', 'PAW74', 'PAM84', 'BR19', 'RWBU12', 'BR19', 'PH19', 'RHBS34', 'YT07', 'DH1', 'RFBU10', 'DSS04', 'BR19', 'PS36', 'PAW72', 'PAM85', 'RTBU20', 'BR19', 'RMBU25', 'RHBU11', 'PAW03', 'PAW85', 'PAT80', 'YW12', 'PM39', 'BU06', 'DT2', 'DF3', 'PAM02', 'RWBS40', 'RFBU22', 'RWBS33', 'PAM03', 'YW08', 'RFBU21', 'STO13', 'PS36', 'RHBS35', 'RHBU10', 'RHBS35', 'BU06', 'PAF80', 'BR19', 'BR19', 'RTBU26', 'RMBS35', 'OH1', 'PF30', 'PT11', 'STO13', 'PAM75', 'PAW01', 'RMBU10', 'PAT72', 'RTBS33', 'PF10', 'PAF03', 'PAW71', 'PAH61', 'STO13', 'RHBU26', 'BU06', 'PT10', 'DSS01', 'BU06', 'RWBU25', 'PAM01', 'RWBS40', 'PH31', 'PM33', 'PAT01', 'YW04', 'PAM06', 'PAM60', 'PAF01', 'PAM62', 'DF2', 'BU06', 'PAF70', 'RFBU21', 'DSS01', 'RMBU21', 'PAT70', 'DW4', 'RHBU25', 'YF08', 'PAM61', 'RTBU13', 'RTBS34', 'PF32', 'RFBU15', 'PAW06', 'PW20', 'YT12', 'DSS01', 'BU08', 'YM08', 'PAH75', 'PAW82', 'PM33', 'RTBU26', 'DA02', 'PF22', 'PAF04', 'RTBU15', 'RWBS42', 'DSS01', 'PAW73', 'PAH79', 'NI15', 'RWBU16', 'PAT83', 'RWBU24', 'DA01', 'DSS04', 'RFBU13', 'BU06', 'IRW1', 'RWBU25', 'PM21', 'PAM05', 'PF20', 'YW03', 'YF02', 'YM07', 'PAM70', 'PH20', 'PW11', 'PAH75', 'RWBU16', 'PAW73', 'STO13', 'RHBU24', 'PAT72', 'BU06', 'BR19', 'YBF00', 'RMBU12', 'DSS01', 'OH1', 'PAM86', 'BU06', 'RFBS35', 'RWBS41', 'RMBU11', 'PAM65', 'PAF79', 'BR19', 'DT4', 'YM04', 'BU06', 'RHBU10', 'PAW70', 'RFBU10', 'PAW85', 'PAH02', 'BU06', 'RTBU13', 'STO13', 'BU06', 'YH09', 'YT07', 'STO13', 'DSS04', 'DSS01', 'PAF62', 'BU06', 'YM03', 'PM30', 'PAM74', 'RWBU12', 'BR19', 'PAW84', 'IRH1', 'DSS01', 'BU06', 'PAT71', 'PAH60', 'DSS04', 'PAM85', 'PAW83', 'PAF72', 'PAW75', 'RMBS43', 'PAM85', 'PAT03', 'RMBU22', 'PAH09', 'YT10', 'YM02', 'PAT83', 'RWBU23', 'RMBU23', 'RWBU22', 'RWBU21', 'RMBU11', 'RMBU11', 'RMBS41', 'YT09', 'RMBU16', 'DF4', 'PAM61', 'RFBS34', 'PAM06', 'PF11', 'RHBU12', 'RMBU20', 'PAT62', 'BU06', 'YT12', 'RHBS43', 'YH03', 'DSS01', 'PAM03', 'DSS01', 'DT1', 'RWBS40', 'BU06', 'PM10', 'PAF05', 'DF4', 'BR19', 'BU06', 'PAF61', 'DA01', 'PAW85', 'RWBU22', 'RMBU26', 'PF19', 'STO13', 'DA01', 'DSS01', 'RMBU14', 'RHBS34', 'DSS01', 'RMBU15', 'RMBS42', 'RWBU12', 'PAW02', 'DSS04', 'PAT70', 'PAT04', 'PAM72', 'DF1', 'RMBU16', 'PAT04', 'PAT61', 'RWBU13', 'RWBS35', 'BU06', 'RTBU20', 'PAM86', 'RWBU14', 'PAW74', 'RHBS33', 'YW01', 'PT32', 'DSS01', 'DW1', 'RMBU13', 'PM19', 'YT05', 'RTBU11', 'DW3', 'RTBU23', 'PAW85', 'IRW1', 'PAM04', 'RTBU22', 'PAH04', 'RTBU12', 'PT30', 'PAM79', 'PM21', 'PAH70', 'PAT70', 'YF03', 'DA02', 'YF03', 'YF01', 'PAT82', 'RFBS33', 'DT2', 'RHBU22', 'RFBU25', 'BU06', 'PAM74', 'RMBS33', 'RHBU14', 'YM09', 'PM12', 'PAF09', 'PW12', 'PF13', 'PAW69', 'PAW83', 'PAM05', 'DSS04', 'DSS04', 'DSS04', 'PAH72', 'YT03', 'RTBS42', 'BR19', 'PAW73', 'BR19', 'RHBU12', 'PAT73', 'PAF63', 'BR19', 'BU06', 'RTBS43', 'PAM65', 'PAM64', 'RMBU24', 'BU06', 'BR19', 'PAT60', 'PAF70', 'PAM82', 'PAH75', 'PAT83', 'OT1', 'DSS01', 'RFBU24', 'RTBU12', 'PAW85', 'STO13', 'PAM06', 'PF23', 'BU06', 'PT20', 'BR19', 'PAW64', 'PAH83', 'PH14', 'PM22', 'PAM09', 'KAB06', 'BU06', 'PAH80', 'PAT79', 'PAM63', 'STO13', 'PAW85', 'DSS01', 'PW10', 'PAM60', 'RMBU12', 'YH11', 'BR19', 'RFBS33', 'RMBU10', 'DH3', 'YW04', 'PW22', 'PAM63', 'PAT62', 'PAT73', 'PAM71', 'BR19', 'DSS01', 'DSS04', 'OW1', 'BR19', 'DSS01', 'PAT74', 'BU06', 'PAW74', 'RFBU16', 'PAT74', 'BU06', 'YM03', 'BU06', 'RTBU15', 'DM3', 'YBT00', 'PM11', 'RMBU13', 'STO13', 'RMBU12', 'YM06', 'BU06', 'YH10', 'DSS01', 'BR19', 'PAH05', 'RFBU14', 'PW13', 'RFBU25', 'RMBS40', 'DH2', 'BR19', 'DA01', 'PAH74', 'PAM03', 'RWBU13', 'BU06', 'PAW06', 'RFBS40', 'PAH62', 'PAF63', 'YH13', 'RTBU10', 'PAF03', 'PAF02', 'PAF60', 'RWBS41', 'PAW81', 'BU06', 'PAT86', 'RWBS35', 'PAT63', 'PAT80', 'RTBS35', 'PAH01', 'YM07', 'PAM70', 'PAW06', 'PAH64', 'RWBU22', 'PAH73', 'YM06', 'PAT86', 'YW07', 'PW33', 'RFBS42', 'YM09']",
            "count": 1
           },
           {
            "name": "['PAW64', 'PH21', 'RMAU21', 'DA02', 'PAH09', 'PAW60', 'PAT03', 'RWAS33', 'DF1', 'BR21', 'PAF73', 'DH4', 'PM20', 'RWAS40', 'PAF83', 'RHAU23', 'BR21', 'BR21', 'PAF81', 'DSS04', 'BU19', 'RTAU10', 'PM22', 'STO13', 'PAF82', 'RMAU14', 'YH04', 'PAH71', 'PAM64', 'RWAS43', 'BU19', 'RWAU24', 'YW06', 'RTAU23', 'PM13', 'BU19', 'RWAU16', 'PAM61', 'YBF00', 'BR21', 'PF32', 'STO13', 'RFAU24', 'DSS01', 'BR21', 'DSS04', 'RFAU12', 'OT1', 'PAM62', 'YH01', 'PAW82', 'PAH82', 'PF30', 'RTAS41', 'RWAS33', 'PAM06', 'BU19', 'IRW1', 'STO13', 'IRM1', 'PAM73', 'BR21', 'PAH69', 'BU19', 'RHAU12', 'BU19', 'PAT83', 'PM30', 'PM12', 'PW19', 'PAM75', 'RTAU21', 'DH1', 'DSS04', 'PAM05', 'YH10', 'PW10', 'RTAU21', 'DSS04', 'YBF00', 'DSS04', 'PAM72', 'PAM65', 'RMAU16', 'RMAS33', 'RWAU13', 'BR21', 'PAM02', 'DT3', 'PAW03', 'RHAS34', 'PH30', 'PAT80', 'PAH71', 'RWAU15', 'RWAU24', 'RHAU15', 'YH07', 'PAM09', 'PH33', 'RHAS43', 'PAH81', 'PAM73', 'DSS04', 'RMAU22', 'RTAU11', 'BU19', 'RMAS42', 'RMAU14', 'YH08', 'PAM65', 'BU19', 'RMAS41', 'PAM70', 'PAT72', 'RWAU22', 'RTAU21', 'YF02', 'DM1', 'DT1', 'BR21', 'BU19', 'PAM74', 'PT12', 'PAW06', 'PAT02', 'RHAU10', 'RFAU10', 'RMAS35', 'BR21', 'RWAU11', 'RWAS35', 'PAT84', 'RMAU20', 'PAT66', 'PAT70', 'PAH03', 'YM10', 'STO13', 'BR21', 'STO13', 'YH11', 'DW4', 'PAT71', 'PM11', 'RWAS42', 'PH20', 'BU19', 'PAF71', 'RHAU21', 'RMAS34', 'PAT87', 'PAM83', 'PAW84', 'RTAU23', 'DSS01', 'RHAS40', 'BU19', 'DW3', 'PH19', 'DF4', 'RTAS41', 'PH32', 'RFAU22', 'PF11', 'PAF02', 'RTAU26', 'PAF62', 'RFAU10', 'PAF80', 'RTAS35', 'PAM73', 'BR21', 'RHAU24', 'PAW73', 'DSS04', 'RHAU14', 'RTAU21', 'RWAS35', 'RTAS43', 'DSS04', 'RTAU13', 'PAF10', 'PAM85', 'YH03', 'RFAU26', 'PAF80', 'PAF60', 'PAM60', 'BU19', 'YW05', 'PAM01', 'PAT60', 'RTAS33', 'RTAU13', 'PF10', 'PT21', 'BR21', 'RWAU23', 'PAH81', 'PM32', 'RHAU22', 'BR21', 'BU19', 'DA02', 'RFAU13', 'PW39', 'PAM72', 'YT07', 'YH12', 'PW20', 'PAM71', 'BU19', 'DSS04', 'DA02', 'PAH04', 'PAF60', 'YH02', 'STO13', 'PAW82', 'PAF67', 'RMAU23', 'YF09', 'PAW83', 'PAM86', 'DA01', 'OM-1', 'PAW80', 'RWAU12', 'PAH76', 'PAH73', 'RTAS40', 'RFAU12', 'PAT81', 'RWAU22', 'RWAU15', 'RWAU21', 'PW33', 'PAW63', 'RHAU13', 'PAF79', 'PAM70', 'PAH01', 'RTAS34', 'RHAU26', 'RMAU11', 'PF12', 'PAF63', 'RTAS34', 'RFAU16', 'RFAS43', 'RFAS35', 'PAT80', 'RMAU24', 'PAF61', 'PH22', 'RMAU12', 'RWAU11', 'PAH70', 'PAW01', 'PAF03', 'RMAS41', 'PAF87', 'BR21', 'PAT69', 'YT09', 'PAM74', 'YW10', 'YBF00', 'BU19', 'DA01', 'RTAS42', 'PAW81', 'YF03', 'PAH06', 'RMAU10', 'YH02', 'BU19', 'PAM05', 'YF10', 'OW1', 'RHAU14', 'PAT83', 'RTAU24', 'OH1', 'PAT74', 'PAT71', 'RHAS42', 'PAM71', 'DA02', 'YT12', 'PAW80', 'YF08', 'PH23', 'PAT66', 'PAH05', 'PT14', 'PAF69', 'PAT79', 'RHAS41', 'PAM84', 'PAH85', 'PAM75', 'YW04', 'DSS04', 'RWAU20', 'PAH84', 'RMAU15', 'PW39', 'RTAU10', 'PAW83', 'PAM85', 'PH21', 'RMAU14', 'PAW04', 'YHP', 'PAH79', 'PAH01', 'RWAU26', 'PAH75', 'PAW69', 'YM04', 'DSS04', 'PF21', 'PAM06', 'YF09', 'RTAU24', 'YT03', 'PAW85', 'BU19', 'RMAU23', 'RMAU23', 'OT1', 'RTAS43', 'BU19', 'PM33', 'YBH99', 'YH06', 'PAW85', 'PAW73', 'PAT73', 'PAW71', 'BU19', 'PAW79', 'BU19', 'RMAU20', 'YM07', 'LC01', 'RHAU20', 'PW30', 'PS36', 'RWAU14', 'PAW72', 'YT06', 'PM19', 'PAF64', 'RTAU15', 'PAT65', 'RTAS42', 'PT14', 'YW08', 'PH23', 'RTAU22', 'RHAU26', 'BR21', 'PAW64', 'RWAS43', 'PT20', 'PW21', 'RFAU20', 'DSS01', 'RMAS35', 'YF04', 'RTAU13', 'PT22', 'BR21', 'DF2', 'RTAU22', 'BU19', 'PM13', 'PM30', 'BR21', 'PAH87', 'DSS01', 'DA02', 'STO13', 'DSS04', 'PAH60', 'BR21', 'DA02', 'RMBS41', 'RMAU12', 'PAH63', 'STO13', 'PAW84', 'DSS01', 'DSS01', 'DSS04', 'PAT61', 'PAW02', 'RTAU20', 'IRF1', 'PAF01', 'PF20', 'PW11', 'RWAS42', 'RWAU10', 'BU19', 'RHAU20', 'YH11', 'RMAS34', 'YM05', 'YHP', 'PAM04', 'YM09', 'RMAU25', 'RHAU13', 'RFAU20', 'RWAU21', 'PAM87', 'YH04', 'PAH61', 'PAM81', 'YF04', 'YBF00', 'BR21', 'RWAU10', 'BU19', 'YBM00', 'RWAU23', 'BU19', 'DSS04', 'RWAU14', 'PAM63', 'RHAU11', 'PAW73', 'BU19', 'PAM02', 'RTAS35', 'BU19', 'RHAS42', 'STO13', 'RWAU13', 'STO13', 'YBF00', 'PW12', 'RHAU23', 'YM03', 'RWAU20', 'PAM80', 'BR21', 'PAF70', 'PH20', 'DM4', 'PW21', 'YBW00', 'RFAU15', 'PAM79', 'PAW74', 'DSS04', 'PAW83', 'YH10', 'PAM80', 'BU19', 'PAT82', 'RHAU24', 'STO13', 'PAM03', 'STO13', 'DH1', 'PH10', 'DSS01', 'PM22', 'RFAU16', 'IRH1', 'PT19', 'BU19', 'RTAU20', 'DF1', 'PAF00', 'PF22', 'RWAU16', 'STO13', 'DSS01', 'RFAS33', 'RFAU25', 'DSS04', 'PM21', 'BR21', 'PAW71', 'DSS04', 'RMAS40', 'PAM84', 'PAH02', 'YW03', 'BU19', 'STO13', 'PAH75', 'YHP', 'PAM65', 'RHAS35', 'RHAS33', 'DSS01', 'YM01', 'RFAU20', 'RMAU11', 'RHAU15', 'PAM70', 'RHAU26', 'PAT04', 'BR21', 'YT08', 'PAM61', 'RTAU11', 'PF13', 'PAH03', 'RMAU11', 'PM39', 'YM06', 'PAH83', 'BU19', 'DSS04', 'YW02', 'YF08', 'RMAU25', 'PAW74', 'PH39', 'PAW62', 'PT30', 'PAW80', 'BU19', 'PAM85', 'YW07', 'PAT04', 'PAF70', 'YH09', 'DF3', 'YT02', 'PAH75', 'DSS01', 'BU19', 'BU19', 'PAT74', 'RTAU14', 'RFAU15', 'RWAS33', 'STO13', 'RTAS33', 'DSS04', 'DH2', 'PAH64', 'RTAU16', 'PAM74', 'BU19', 'RWAS40', 'YF07', 'BU19', 'PAM82', 'BU19', 'RMAU11', 'BU19', 'PAM60', 'PT10', 'PAM01', 'PAH85', 'RMAU21', 'RHAU21', 'STO13', 'YH06', 'BU19', 'PAW81', 'PM31', 'DM2', 'PAH73', 'DSS01', 'DH4', 'YM07', 'PAF63', 'PW22', 'RFAU13', 'PM21', 'RFAS42', 'RWAU26', 'PAW85', 'PAM69', 'PAM85', 'YT05', 'PT32', 'BU19', 'YW09', 'PAT84', 'BU19', 'PW32', 'YH03', 'PAM85', 'DSS04', 'PAT02', 'PAW61', 'YM08', 'PAT61', 'PAW05', 'PAM85', 'YT01', 'RFAS35', 'PAM86', 'STO13', 'PAF80', 'YW12', 'DSS01', 'RFAU25', 'YH08', 'OF1', 'RMAU22', 'YT05', 'PM23', 'PAW64', 'PAW73', 'RFAS35', 'RTAU26', 'PAW06', 'RHAU10', 'YT10', 'PH31', 'RMAU15', 'PT11', 'PAM61', 'OH1', 'PM33', 'PAH72', 'PAH70', 'RMAU16', 'DH3', 'RFAU21', 'STO13', 'YW02', 'PAF04', 'YM03', 'PAW09', 'DSS04', 'RWAS34', 'YM01', 'RFAU10', 'PAH80', 'BU19', 'RTAU13', 'RTAU16', 'RWAS41', 'DT4', 'IRT1', 'DW1', 'RMAU10', 'YW01', 'YW03', 'BR21', 'RFAU24', 'RWAS41', 'RMAU24', 'PAM03', 'PAT72', 'RWAS34', 'PT31', 'PAW62', 'RFAU26', 'PAW75', 'RFAS41', 'PAT86', 'DSS04', 'DSS01', 'RFAS41', 'DSS04', 'BR21', 'RHAU12', 'YF10', 'RFAU21', 'PAT01', 'YM04', 'PAT72', 'RMAU23', 'PAT63', 'DSS04', 'PAT01', 'STO13', 'BU19', 'PF19', 'YW01', 'YH01', 'PAT83', 'RHAS33', 'PF33', 'BU19', 'PAH01', 'PAW85', 'SPEC PROJCT', 'PAM01', 'PAH62', 'PH32', 'PAM84', 'YF01', 'PAW84', 'YH07', 'DSS04', 'PM10', 'PT39', 'YM02', 'DT1', 'YT10', 'RWAU12', 'STO13', 'PAT09', 'YBF00', 'PF12', 'BU19', 'PAH74', 'PW13', 'RHAS41', 'PF39', 'PW34', 'DSS01', 'YF02', 'YF03', 'PAF09', 'RMAS34', 'YBT00', 'RFAS43', 'DSS04', 'BU19', 'DF4', 'PH11', 'RHAU26', 'PAT72', 'RFAU22', 'DA01', 'PH12', 'PW31', 'PAM62', 'RHAU22', 'RMAU10', 'RHAU11', 'PAM04', 'RTAS34', 'PAM05', 'RWAU24', 'PAW75', 'RWBU10', 'PAH65', 'PAH60', 'BU19', 'PAW85', 'PAM64', 'BU19', 'YT12', 'PAT81', 'YF03']",
            "count": 1
           },
           {
            "name": "311 others",
            "count": 311
           }
          ]
         }
        },
        {
         "name": "Time",
         "dtype": "object",
         "stats": {
          "unique_count": 313,
          "nan_count": 0,
          "categories": [
           {
            "name": "[datetime.time(14, 12), datetime.time(12, 38), datetime.time(12, 15), datetime.time(12, 51), datetime.time(14, 40), datetime.time(15, 22), datetime.time(15, 15), datetime.time(11, 26), datetime.time(12, 33), datetime.time(13, 54), datetime.time(13, 47), datetime.time(16, 0), datetime.time(16, 37), datetime.time(12, 7), datetime.time(11, 18), datetime.time(9, 14), datetime.time(12, 34), datetime.time(15, 47), datetime.time(11, 15), datetime.time(14, 12), datetime.time(14, 45), datetime.time(14, 14), datetime.time(12, 5), datetime.time(17, 31), datetime.time(17, 19), datetime.time(13, 5), datetime.time(14, 2), datetime.time(15, 3), datetime.time(3, 27), datetime.time(10, 10), datetime.time(8, 32), datetime.time(16, 33), datetime.time(10, 53), datetime.time(14, 54), datetime.time(12, 45), datetime.time(3, 11), datetime.time(12, 27), datetime.time(17, 16), datetime.time(17, 23), datetime.time(11, 7), datetime.time(12, 59), datetime.time(15, 22), datetime.time(14, 50), datetime.time(15, 26), datetime.time(14, 12), datetime.time(17, 12), datetime.time(9, 54), datetime.time(13, 55), datetime.time(13, 44), datetime.time(15, 17), datetime.time(11, 5), datetime.time(11, 35), datetime.time(10, 50), datetime.time(13, 45), datetime.time(11, 4), datetime.time(13, 44), datetime.time(14, 1), datetime.time(14, 11), datetime.time(15, 0), datetime.time(14, 28), datetime.time(15, 16), datetime.time(17, 8), datetime.time(12, 53), datetime.time(16, 5), datetime.time(16, 29), datetime.time(11, 36), datetime.time(12, 20), datetime.time(11, 6), datetime.time(15, 32), datetime.time(17, 19), datetime.time(16, 22), datetime.time(17, 20), datetime.time(11, 47), datetime.time(16, 7), datetime.time(12, 26), datetime.time(11, 50), datetime.time(14, 20), datetime.time(10, 49), datetime.time(10, 45), datetime.time(14, 6), datetime.time(12, 28), datetime.time(11, 5), datetime.time(12, 35), datetime.time(12, 23), datetime.time(12, 41), datetime.time(11, 52), datetime.time(13, 39), datetime.time(7, 8), datetime.time(14, 20), datetime.time(10, 2), datetime.time(15, 45), datetime.time(14, 26), datetime.time(12, 39), datetime.time(9, 29), datetime.time(1, 14), datetime.time(16, 34), datetime.time(14, 23), datetime.time(10, 30), datetime.time(8, 43), datetime.time(4, 9), datetime.time(11, 31), datetime.time(14, 58), datetime.time(12, 15), datetime.time(13, 0), datetime.time(17, 11), datetime.time(15, 16), datetime.time(14, 45), datetime.time(11, 46), datetime.time(16, 56), datetime.time(15, 39), datetime.time(13, 51), datetime.time(5, 57), datetime.time(10, 12), datetime.time(15, 43), datetime.time(5, 23), datetime.time(17, 13), datetime.time(12, 24), datetime.time(16, 16), datetime.time(14, 59), datetime.time(10, 23), datetime.time(15, 19), datetime.time(16, 2), datetime.time(13, 30), datetime.time(16, 9), datetime.time(17, 36), datetime.time(12, 30), datetime.time(14, 26), datetime.time(10, 35), datetime.time(11, 46), datetime.time(13, 34), datetime.time(13, 12), datetime.time(10, 52), datetime.time(15, 4), datetime.time(19, 8), datetime.time(14, 15), datetime.time(12, 45), datetime.time(13, 11), datetime.time(15, 19), datetime.time(17, 8), datetime.time(14, 4), datetime.time(16, 34), datetime.time(1, 59), datetime.time(12, 58), datetime.time(14, 10), datetime.time(10, 27), datetime.time(12, 15), datetime.time(12, 54), datetime.time(13, 59), datetime.time(13, 24), datetime.time(19, 13), datetime.time(17, 19), datetime.time(15, 18), datetime.time(14, 48), datetime.time(12, 56), datetime.time(15, 27), datetime.time(12, 24), datetime.time(15, 8), datetime.time(7, 2), datetime.time(7, 16), datetime.time(12, 26), datetime.time(17, 18), datetime.time(12, 37), datetime.time(16, 42), datetime.time(10, 23), datetime.time(11, 32), datetime.time(12, 45), datetime.time(13, 42), datetime.time(15, 0), datetime.time(11, 17), datetime.time(15, 16), datetime.time(14, 12), datetime.time(14, 23), datetime.time(10, 9), datetime.time(15, 47), datetime.time(19, 26), datetime.time(11, 29), datetime.time(15, 13), datetime.time(14, 15), datetime.time(2, 21), datetime.time(17, 35), datetime.time(3, 10), datetime.time(12, 15), datetime.time(12, 13), datetime.time(13, 59), datetime.time(12, 32), datetime.time(10, 5), datetime.time(16, 59), datetime.time(13, 57), datetime.time(17, 54), datetime.time(13, 52), datetime.time(14, 23), datetime.time(16, 0), datetime.time(19, 13), datetime.time(13, 29), datetime.time(16, 43), datetime.time(13, 25), datetime.time(11, 54), datetime.time(7, 48), datetime.time(15, 2), datetime.time(10, 23), datetime.time(17, 7), datetime.time(9, 5), datetime.time(12, 45), datetime.time(9, 59), datetime.time(13, 15), datetime.time(15, 0), datetime.time(14, 45), datetime.time(11, 20), datetime.time(11, 54), datetime.time(16, 33), datetime.time(11, 40), datetime.time(13, 40), datetime.time(14, 41), datetime.time(14, 52), datetime.time(14, 49), datetime.time(15, 0), datetime.time(17, 40), datetime.time(13, 38), datetime.time(19, 41), datetime.time(13, 45), datetime.time(14, 40), datetime.time(11, 58), datetime.time(15, 35), datetime.time(15, 59), datetime.time(13, 57), datetime.time(14, 15), datetime.time(14, 27), datetime.time(11, 45), datetime.time(8, 44), datetime.time(17, 6), datetime.time(11, 31), datetime.time(12, 17), datetime.time(14, 56), datetime.time(14, 3), datetime.time(14, 21), datetime.time(16, 5), datetime.time(7, 44), datetime.time(13, 39), datetime.time(11, 52), datetime.time(3, 24), datetime.time(15, 31), datetime.time(14, 56), datetime.time(16, 20), datetime.time(10, 27), datetime.time(15, 0), datetime.time(16, 14), datetime.time(11, 27), datetime.time(11, 23), datetime.time(16, 59), datetime.time(10, 53), datetime.time(15, 37), datetime.time(15, 2), datetime.time(15, 1), datetime.time(16, 54), datetime.time(12, 13), datetime.time(12, 0), datetime.time(14, 8), datetime.time(11, 47), datetime.time(14, 58), datetime.time(13, 55), datetime.time(3, 30), datetime.time(17, 2), datetime.time(11, 49), datetime.time(14, 57), datetime.time(10, 45), datetime.time(13, 42), datetime.time(14, 31), datetime.time(19, 0), datetime.time(13, 36), datetime.time(14, 30), datetime.time(12, 0), datetime.time(12, 37), datetime.time(13, 54), datetime.time(12, 30), datetime.time(12, 35), datetime.time(9, 55), datetime.time(13, 34), datetime.time(14, 24), datetime.time(10, 16), datetime.time(10, 3), datetime.time(14, 28), datetime.time(12, 18), datetime.time(16, 15), datetime.time(10, 52), datetime.time(15, 18), datetime.time(10, 24), datetime.time(17, 1), datetime.time(1, 56), datetime.time(17, 52), datetime.time(17, 15), datetime.time(13, 48), datetime.time(13, 50), datetime.time(10, 35), datetime.time(16, 25), datetime.time(15, 29), datetime.time(11, 19), datetime.time(14, 0), datetime.time(12, 22), datetime.time(11, 21), datetime.time(15, 1), datetime.time(9, 59), datetime.time(9, 12), datetime.time(15, 20), datetime.time(15, 0), datetime.time(10, 40), datetime.time(17, 55), datetime.time(1, 28), datetime.time(14, 45), datetime.time(10, 4), datetime.time(16, 25), datetime.time(14, 39), datetime.time(19, 33), datetime.time(14, 1), datetime.time(12, 3), datetime.time(15, 13), datetime.time(13, 50), datetime.time(12, 27), datetime.time(12, 59), datetime.time(10, 10), datetime.time(18, 49), datetime.time(11, 29), datetime.time(13, 9), datetime.time(11, 53), datetime.time(14, 42), datetime.time(17, 36), datetime.time(10, 49), datetime.time(14, 47), datetime.time(10, 18), datetime.time(14, 39), datetime.time(13, 9), datetime.time(14, 10), datetime.time(14, 27), datetime.time(14, 12), datetime.time(10, 16), datetime.time(11, 16), datetime.time(11, 11), datetime.time(12, 15), datetime.time(13, 28), datetime.time(11, 43), datetime.time(15, 37), datetime.time(14, 4), datetime.time(12, 3), datetime.time(5, 57), datetime.time(13, 21), datetime.time(13, 45), datetime.time(9, 32), datetime.time(14, 34), datetime.time(12, 23), datetime.time(10, 35), datetime.time(11, 9), datetime.time(16, 41), datetime.time(14, 28), datetime.time(12, 40), datetime.time(8, 56), datetime.time(19, 46), datetime.time(6, 50), datetime.time(15, 21), datetime.time(13, 13), datetime.time(14, 0), datetime.time(15, 45), datetime.time(10, 15), datetime.time(12, 19), datetime.time(12, 29), datetime.time(11, 37), datetime.time(16, 18), datetime.time(15, 45), datetime.time(15, 43), datetime.time(15, 15), datetime.time(12, 34), datetime.time(14, 40), datetime.time(17, 4), datetime.time(11, 15), datetime.time(10, 2), datetime.time(8, 4), datetime.time(15, 0), datetime.time(11, 45), datetime.time(11, 3), datetime.time(11, 55), datetime.time(15, 22), datetime.time(11, 10), datetime.time(14, 43), datetime.time(15, 1), datetime.time(12, 32), datetime.time(20, 2), datetime.time(10, 27), datetime.time(17, 3), datetime.time(11, 45), datetime.time(13, 43), datetime.time(12, 32), datetime.time(11, 53), datetime.time(15, 17), datetime.time(6, 13), datetime.time(10, 40), datetime.time(11, 27), datetime.time(17, 31), datetime.time(15, 32), datetime.time(11, 29), datetime.time(14, 9), datetime.time(12, 15), datetime.time(14, 8), datetime.time(10, 39), datetime.time(14, 12), datetime.time(8, 34), datetime.time(12, 38), datetime.time(11, 30), datetime.time(15, 12), datetime.time(15, 41), datetime.time(15, 38), datetime.time(10, 56), datetime.time(15, 15), datetime.time(13, 16), datetime.time(14, 7), datetime.time(12, 50), datetime.time(17, 26), datetime.time(10, 10), datetime.time(10, 4), datetime.time(14, 45), datetime.time(13, 54), datetime.time(11, 49), datetime.time(15, 28), datetime.time(14, 24), datetime.time(13, 15), datetime.time(14, 30), datetime.time(16, 40), datetime.time(13, 14), datetime.time(14, 10), datetime.time(15, 10), datetime.time(12, 10), datetime.time(17, 44), datetime.time(3, 22), datetime.time(12, 15), datetime.time(13, 45), datetime.time(13, 51), datetime.time(13, 24), datetime.time(14, 43), datetime.time(14, 46), datetime.time(13, 43), datetime.time(17, 8), datetime.time(14, 16), datetime.time(13, 22), datetime.time(15, 59), datetime.time(14, 14), datetime.time(10, 25), datetime.time(11, 21), datetime.time(16, 7), datetime.time(11, 25), datetime.time(10, 21), datetime.time(14, 51), datetime.time(11, 54), datetime.time(15, 43), datetime.time(12, 47), datetime.time(15, 15), datetime.time(10, 31), datetime.time(12, 55), datetime.time(14, 15), datetime.time(16, 58), datetime.time(11, 45), datetime.time(14, 51), datetime.time(12, 32), datetime.time(16, 5), datetime.time(12, 56), datetime.time(10, 0), datetime.time(11, 21), datetime.time(13, 32), datetime.time(13, 23), datetime.time(14, 59), datetime.time(15, 17), datetime.time(5, 34), datetime.time(8, 25), datetime.time(18, 50), datetime.time(15, 26), datetime.time(0, 0), datetime.time(16, 49), datetime.time(10, 24), datetime.time(18, 3), datetime.time(13, 53), datetime.time(10, 25), datetime.time(15, 3), datetime.time(13, 15), datetime.time(15, 9), datetime.time(18, 15), datetime.time(15, 39), datetime.time(11, 16), datetime.time(13, 17), datetime.time(16, 58), datetime.time(10, 3), datetime.time(12, 35), datetime.time(8, 10), datetime.time(12, 20), datetime.time(11, 57), datetime.time(11, 2), datetime.time(15, 9), datetime.time(11, 57), datetime.time(10, 41), datetime.time(11, 34), datetime.time(13, 11), datetime.time(10, 23), datetime.time(13, 42), datetime.time(15, 3), datetime.time(9, 42), datetime.time(12, 12), datetime.time(10, 54), datetime.time(15, 57), datetime.time(13, 33), datetime.time(13, 23), datetime.time(4, 57), datetime.time(10, 52), datetime.time(15, 41), datetime.time(14, 25), datetime.time(15, 25), datetime.time(12, 51), datetime.time(17, 11), datetime.time(13, 38), datetime.time(11, 40), datetime.time(18, 3), datetime.time(14, 28), datetime.time(15, 58), datetime.time(14, 15), datetime.time(12, 41), datetime.time(11, 43), datetime.time(15, 3), datetime.time(11, 55), datetime.time(14, 21), datetime.time(13, 13), datetime.time(9, 24), datetime.time(11, 59), datetime.time(7, 53), datetime.time(16, 48), datetime.time(11, 53), datetime.time(17, 10), datetime.time(12, 15), datetime.time(19, 43), datetime.time(11, 21), datetime.time(12, 35), datetime.time(20, 5), datetime.time(14, 0), datetime.time(12, 38), datetime.time(12, 51), datetime.time(10, 2), datetime.time(17, 0), datetime.time(12, 27), datetime.time(16, 24), datetime.time(16, 45), datetime.time(13, 31), datetime.time(19, 3), datetime.time(12, 6), datetime.time(14, 8), datetime.time(13, 56), datetime.time(10, 11), datetime.time(14, 8), datetime.time(11, 21), datetime.time(12, 9), datetime.time(11, 23), datetime.time(18, 54), datetime.time(19, 11), datetime.time(10, 55), datetime.time(11, 33), datetime.time(10, 54), datetime.time(19, 14), datetime.time(10, 44), datetime.time(16, 49), datetime.time(17, 31), datetime.time(10, 2), datetime.time(16, 41), datetime.time(12, 25), datetime.time(17, 15), datetime.time(14, 18), datetime.time(14, 53), datetime.time(19, 0), datetime.time(14, 45), datetime.time(0, 0), datetime.time(13, 27), datetime.time(1, 28), datetime.time(14, 0), datetime.time(8, 29), datetime.time(15, 59), datetime.time(12, 54), datetime.time(12, 2), datetime.time(10, 32), datetime.time(14, 43), datetime.time(11, 59), datetime.time(14, 21), datetime.time(2, 15), datetime.time(10, 2), datetime.time(15, 4), datetime.time(14, 15), datetime.time(13, 37), datetime.time(11, 40), datetime.time(15, 6), datetime.time(16, 55), datetime.time(14, 38), datetime.time(13, 44), datetime.time(14, 14), datetime.time(10, 6), datetime.time(18, 0), datetime.time(13, 3), datetime.time(10, 29), datetime.time(16, 56), datetime.time(12, 1), datetime.time(18, 2), datetime.time(11, 27), datetime.time(8, 49), datetime.time(16, 4), datetime.time(14, 40), datetime.time(10, 41), datetime.time(13, 42), datetime.time(9, 44), datetime.time(13, 30), datetime.time(12, 31), datetime.time(18, 52), datetime.time(16, 23), datetime.time(12, 22), datetime.time(0, 0), datetime.time(16, 9), datetime.time(10, 17), datetime.time(17, 24), datetime.time(14, 11), datetime.time(17, 42), datetime.time(12, 45), datetime.time(11, 34), datetime.time(13, 9), datetime.time(10, 25), datetime.time(14, 33), datetime.time(16, 51), datetime.time(15, 10), datetime.time(12, 21), datetime.time(16, 15), datetime.time(16, 15), datetime.time(10, 49), datetime.time(11, 51), datetime.time(15, 30), datetime.time(14, 33), datetime.time(11, 45), datetime.time(13, 0), datetime.time(14, 18), datetime.time(10, 45), datetime.time(16, 34), datetime.time(11, 15), datetime.time(12, 34), datetime.time(13, 58), datetime.time(15, 12), datetime.time(14, 47), datetime.time(16, 17), datetime.time(10, 30), datetime.time(14, 34), datetime.time(10, 55), datetime.time(10, 55), datetime.time(14, 50), datetime.time(19, 42), datetime.time(15, 36), datetime.time(10, 7), datetime.time(17, 8), datetime.time(14, 56), datetime.time(13, 10), datetime.time(15, 7), datetime.time(14, 7), datetime.time(13, 34), datetime.time(16, 39), datetime.time(16, 4), datetime.time(12, 8), datetime.time(13, 26), datetime.time(10, 57), datetime.time(12, 24), datetime.time(11, 17), datetime.time(2, 43), datetime.time(15, 28), datetime.time(16, 38), datetime.time(15, 0), datetime.time(10, 58), datetime.time(13, 49), datetime.time(8, 47), datetime.time(15, 35), datetime.time(15, 37), datetime.time(12, 9), datetime.time(13, 19), datetime.time(14, 37), datetime.time(10, 20), datetime.time(11, 28), datetime.time(15, 50), datetime.time(14, 25), datetime.time(15, 17), datetime.time(12, 20), datetime.time(15, 55), datetime.time(15, 38), datetime.time(14, 43), datetime.time(12, 22), datetime.time(14, 35), datetime.time(15, 18), datetime.time(19, 24), datetime.time(8, 45), datetime.time(10, 27), datetime.time(13, 37), datetime.time(15, 25), datetime.time(12, 29), datetime.time(14, 20), datetime.time(14, 57), datetime.time(14, 3), datetime.time(13, 33), datetime.time(15, 50), datetime.time(13, 43), datetime.time(8, 40), datetime.time(16, 0), datetime.time(15, 39), datetime.time(12, 49), datetime.time(15, 15), datetime.time(13, 28), datetime.time(11, 46), datetime.time(13, 29), datetime.time(14, 49), datetime.time(10, 51), datetime.time(13, 18), datetime.time(14, 22), datetime.time(10, 55), datetime.time(15, 3), datetime.time(16, 31), datetime.time(14, 58), datetime.time(17, 4), datetime.time(15, 15), datetime.time(12, 39), datetime.time(7, 22), datetime.time(11, 36), datetime.time(11, 1), datetime.time(15, 15), datetime.time(8, 10), datetime.time(13, 21), datetime.time(15, 43), datetime.time(8, 37), datetime.time(10, 10), datetime.time(10, 46), datetime.time(15, 18), datetime.time(17, 23), datetime.time(10, 5), datetime.time(15, 1), datetime.time(12, 2), datetime.time(10, 12), datetime.time(14, 39), datetime.time(11, 28), datetime.time(12, 29), datetime.time(14, 55), datetime.time(11, 44), datetime.time(18, 45), datetime.time(13, 30), datetime.time(14, 42), datetime.time(17, 2), datetime.time(13, 14), datetime.time(12, 29), datetime.time(12, 17), datetime.time(13, 18), datetime.time(14, 22), datetime.time(9, 43), datetime.time(15, 22), datetime.time(14, 28), datetime.time(2, 25), datetime.time(12, 25), datetime.time(16, 0), datetime.time(13, 49), datetime.time(14, 52), datetime.time(10, 34), datetime.time(10, 46), datetime.time(9, 11), datetime.time(17, 17), datetime.time(3, 19), datetime.time(14, 22), datetime.time(16, 41), datetime.time(14, 29), datetime.time(15, 56), datetime.time(11, 34), datetime.time(13, 46), datetime.time(10, 41), datetime.time(10, 26), datetime.time(11, 43), datetime.time(13, 23), datetime.time(15, 43), datetime.time(12, 29), datetime.time(14, 15), datetime.time(15, 48), datetime.time(14, 52), datetime.time(14, 9), datetime.time(17, 20), datetime.time(19, 27), datetime.time(17, 40), datetime.time(15, 36), datetime.time(18, 30), datetime.time(15, 54), datetime.time(12, 32), datetime.time(10, 7), datetime.time(16, 56), datetime.time(14, 45), datetime.time(3, 28), datetime.time(14, 53)]",
            "count": 1
           },
           {
            "name": "[datetime.time(18, 35), datetime.time(13, 42), datetime.time(11, 21), datetime.time(11, 48), datetime.time(13, 11), datetime.time(14, 45), datetime.time(11, 54), datetime.time(12, 5), datetime.time(14, 17), datetime.time(15, 15), datetime.time(12, 34), datetime.time(11, 44), datetime.time(18, 0), datetime.time(1, 56), datetime.time(14, 31), datetime.time(10, 49), datetime.time(15, 0), datetime.time(13, 25), datetime.time(14, 42), datetime.time(13, 31), datetime.time(13, 26), datetime.time(14, 27), datetime.time(18, 0), datetime.time(10, 42), datetime.time(12, 26), datetime.time(13, 38), datetime.time(16, 5), datetime.time(13, 49), datetime.time(17, 51), datetime.time(3, 45), datetime.time(15, 32), datetime.time(10, 30), datetime.time(15, 53), datetime.time(11, 23), datetime.time(16, 17), datetime.time(0, 0), datetime.time(13, 41), datetime.time(17, 42), datetime.time(18, 15), datetime.time(14, 2), datetime.time(14, 15), datetime.time(9, 21), datetime.time(11, 55), datetime.time(13, 23), datetime.time(10, 40), datetime.time(13, 2), datetime.time(11, 2), datetime.time(12, 36), datetime.time(15, 38), datetime.time(12, 9), datetime.time(16, 3), datetime.time(14, 14), datetime.time(14, 15), datetime.time(10, 25), datetime.time(13, 55), datetime.time(12, 15), datetime.time(14, 5), datetime.time(13, 57), datetime.time(14, 7), datetime.time(13, 36), datetime.time(17, 43), datetime.time(13, 15), datetime.time(13, 35), datetime.time(12, 34), datetime.time(11, 3), datetime.time(10, 50), datetime.time(10, 54), datetime.time(16, 30), datetime.time(15, 33), datetime.time(14, 20), datetime.time(11, 46), datetime.time(11, 14), datetime.time(8, 53), datetime.time(9, 21), datetime.time(17, 30), datetime.time(16, 18), datetime.time(13, 53), datetime.time(11, 53), datetime.time(11, 1), datetime.time(9, 25), datetime.time(8, 51), datetime.time(16, 25), datetime.time(15, 33), datetime.time(14, 59), datetime.time(13, 56), datetime.time(15, 15), datetime.time(15, 0), datetime.time(12, 3), datetime.time(13, 0), datetime.time(14, 6), datetime.time(13, 39), datetime.time(14, 30), datetime.time(15, 59), datetime.time(13, 45), datetime.time(10, 10), datetime.time(10, 29), datetime.time(14, 25), datetime.time(12, 34), datetime.time(15, 47), datetime.time(14, 30), datetime.time(1, 46), datetime.time(15, 36), datetime.time(16, 20), datetime.time(8, 11), datetime.time(10, 43), datetime.time(10, 13), datetime.time(13, 37), datetime.time(11, 45), datetime.time(16, 0), datetime.time(12, 29), datetime.time(17, 46), datetime.time(13, 59), datetime.time(2, 3), datetime.time(11, 53), datetime.time(15, 13), datetime.time(15, 18), datetime.time(14, 25), datetime.time(15, 13), datetime.time(10, 15), datetime.time(10, 40), datetime.time(11, 35), datetime.time(15, 35), datetime.time(17, 35), datetime.time(12, 53), datetime.time(13, 35), datetime.time(13, 11), datetime.time(9, 48), datetime.time(10, 57), datetime.time(10, 49), datetime.time(14, 56), datetime.time(10, 42), datetime.time(12, 6), datetime.time(15, 37), datetime.time(14, 52), datetime.time(11, 35), datetime.time(16, 2), datetime.time(13, 48), datetime.time(15, 10), datetime.time(9, 45), datetime.time(15, 45), datetime.time(14, 28), datetime.time(16, 57), datetime.time(12, 46), datetime.time(9, 9), datetime.time(14, 17), datetime.time(12, 53), datetime.time(9, 1), datetime.time(10, 0), datetime.time(7, 24), datetime.time(14, 45), datetime.time(14, 26), datetime.time(12, 35), datetime.time(13, 52), datetime.time(14, 0), datetime.time(15, 6), datetime.time(0, 0), datetime.time(2, 4), datetime.time(9, 37), datetime.time(13, 23), datetime.time(12, 50), datetime.time(2, 37), datetime.time(2, 25), datetime.time(10, 30), datetime.time(10, 27), datetime.time(13, 52), datetime.time(13, 57), datetime.time(10, 24), datetime.time(14, 51), datetime.time(10, 47), datetime.time(16, 49), datetime.time(15, 12), datetime.time(12, 45), datetime.time(9, 37), datetime.time(15, 12), datetime.time(12, 53), datetime.time(11, 11), datetime.time(15, 4), datetime.time(15, 44), datetime.time(0, 0), datetime.time(2, 53), datetime.time(8, 3), datetime.time(14, 40), datetime.time(14, 5), datetime.time(15, 58), datetime.time(10, 49), datetime.time(14, 5), datetime.time(14, 58), datetime.time(14, 54), datetime.time(11, 49), datetime.time(13, 58), datetime.time(16, 6), datetime.time(11, 59), datetime.time(13, 3), datetime.time(12, 9), datetime.time(10, 13), datetime.time(13, 47), datetime.time(13, 30), datetime.time(14, 59), datetime.time(10, 25), datetime.time(16, 13), datetime.time(16, 30), datetime.time(15, 26), datetime.time(11, 35), datetime.time(16, 0), datetime.time(14, 16), datetime.time(14, 24), datetime.time(13, 30), datetime.time(11, 18), datetime.time(12, 51), datetime.time(15, 10), datetime.time(13, 34), datetime.time(15, 54), datetime.time(11, 9), datetime.time(10, 56), datetime.time(14, 4), datetime.time(14, 32), datetime.time(10, 42), datetime.time(16, 21), datetime.time(13, 12), datetime.time(12, 6), datetime.time(7, 22), datetime.time(15, 10), datetime.time(19, 17), datetime.time(13, 15), datetime.time(13, 16), datetime.time(14, 3), datetime.time(12, 53), datetime.time(11, 29), datetime.time(10, 48), datetime.time(14, 0), datetime.time(14, 58), datetime.time(2, 0), datetime.time(14, 56), datetime.time(11, 47), datetime.time(10, 37), datetime.time(15, 11), datetime.time(15, 20), datetime.time(13, 45), datetime.time(15, 8), datetime.time(10, 27), datetime.time(13, 53), datetime.time(18, 19), datetime.time(11, 43), datetime.time(15, 38), datetime.time(10, 24), datetime.time(15, 45), datetime.time(14, 1), datetime.time(9, 59), datetime.time(13, 2), datetime.time(10, 5), datetime.time(12, 23), datetime.time(11, 26), datetime.time(11, 48), datetime.time(14, 36), datetime.time(14, 50), datetime.time(13, 53), datetime.time(14, 0), datetime.time(15, 47), datetime.time(14, 28), datetime.time(13, 55), datetime.time(14, 7), datetime.time(12, 4), datetime.time(14, 39), datetime.time(14, 50), datetime.time(15, 0), datetime.time(15, 18), datetime.time(17, 47), datetime.time(15, 7), datetime.time(9, 25), datetime.time(10, 16), datetime.time(15, 6), datetime.time(9, 54), datetime.time(16, 2), datetime.time(17, 55), datetime.time(14, 12), datetime.time(10, 2), datetime.time(14, 24), datetime.time(15, 10), datetime.time(15, 24), datetime.time(10, 32), datetime.time(14, 37), datetime.time(11, 8), datetime.time(15, 1), datetime.time(14, 32), datetime.time(14, 7), datetime.time(10, 38), datetime.time(15, 11), datetime.time(10, 44), datetime.time(13, 1), datetime.time(11, 59), datetime.time(11, 57), datetime.time(16, 56), datetime.time(12, 26), datetime.time(14, 39), datetime.time(16, 47), datetime.time(14, 13), datetime.time(8, 20), datetime.time(14, 37), datetime.time(13, 51), datetime.time(1, 46), datetime.time(14, 23), datetime.time(12, 37), datetime.time(16, 26), datetime.time(16, 12), datetime.time(12, 35), datetime.time(15, 40), datetime.time(15, 3), datetime.time(9, 50), datetime.time(13, 0), datetime.time(10, 25), datetime.time(12, 55), datetime.time(16, 32), datetime.time(15, 5), datetime.time(10, 3), datetime.time(14, 6), datetime.time(17, 53), datetime.time(13, 48), datetime.time(16, 20), datetime.time(9, 13), datetime.time(16, 17), datetime.time(14, 33), datetime.time(15, 8), datetime.time(13, 6), datetime.time(14, 9), datetime.time(15, 53), datetime.time(12, 30), datetime.time(10, 15), datetime.time(12, 41), datetime.time(15, 57), datetime.time(15, 5), datetime.time(14, 36), datetime.time(11, 53), datetime.time(16, 13), datetime.time(10, 31), datetime.time(15, 12), datetime.time(11, 30), datetime.time(16, 15), datetime.time(12, 26), datetime.time(18, 21), datetime.time(16, 54), datetime.time(16, 12), datetime.time(15, 3), datetime.time(11, 32), datetime.time(14, 4), datetime.time(13, 39), datetime.time(10, 55), datetime.time(12, 32), datetime.time(0, 0), datetime.time(14, 52), datetime.time(14, 30), datetime.time(16, 45), datetime.time(14, 50), datetime.time(18, 13), datetime.time(14, 20), datetime.time(13, 45), datetime.time(16, 55), datetime.time(11, 10), datetime.time(16, 24), datetime.time(2, 26), datetime.time(13, 16), datetime.time(16, 9), datetime.time(14, 45), datetime.time(14, 22), datetime.time(14, 36), datetime.time(14, 18), datetime.time(11, 31), datetime.time(11, 39), datetime.time(13, 0), datetime.time(14, 14), datetime.time(14, 23), datetime.time(13, 57), datetime.time(15, 39), datetime.time(18, 24), datetime.time(15, 0), datetime.time(12, 45), datetime.time(14, 3), datetime.time(12, 44), datetime.time(11, 38), datetime.time(14, 46), datetime.time(13, 35), datetime.time(11, 15), datetime.time(13, 30), datetime.time(12, 47), datetime.time(13, 50), datetime.time(13, 40), datetime.time(11, 53), datetime.time(7, 52), datetime.time(10, 34), datetime.time(16, 0), datetime.time(14, 2), datetime.time(1, 51), datetime.time(10, 20), datetime.time(14, 49), datetime.time(14, 39), datetime.time(11, 33), datetime.time(11, 2), datetime.time(12, 27), datetime.time(0, 0), datetime.time(12, 2), datetime.time(13, 32), datetime.time(11, 20), datetime.time(12, 47), datetime.time(13, 26), datetime.time(14, 8), datetime.time(15, 3), datetime.time(4, 4), datetime.time(15, 51), datetime.time(15, 51), datetime.time(11, 11), datetime.time(12, 44), datetime.time(11, 45), datetime.time(14, 55), datetime.time(13, 23), datetime.time(16, 0), datetime.time(15, 34), datetime.time(14, 51), datetime.time(14, 36), datetime.time(13, 29), datetime.time(11, 7), datetime.time(12, 10), datetime.time(10, 26), datetime.time(12, 58), datetime.time(14, 53), datetime.time(18, 20), datetime.time(9, 32), datetime.time(12, 20), datetime.time(9, 48), datetime.time(15, 1), datetime.time(15, 5), datetime.time(14, 58), datetime.time(14, 21), datetime.time(11, 40), datetime.time(9, 55), datetime.time(14, 29), datetime.time(15, 5), datetime.time(16, 41), datetime.time(13, 56), datetime.time(15, 17), datetime.time(12, 35), datetime.time(10, 55), datetime.time(2, 42), datetime.time(10, 57), datetime.time(10, 50), datetime.time(13, 31), datetime.time(9, 26), datetime.time(13, 59), datetime.time(14, 53), datetime.time(11, 21), datetime.time(11, 29), datetime.time(15, 38), datetime.time(10, 15), datetime.time(15, 30), datetime.time(14, 29), datetime.time(12, 49), datetime.time(14, 28), datetime.time(15, 8), datetime.time(11, 13), datetime.time(14, 17), datetime.time(18, 2), datetime.time(11, 44), datetime.time(18, 20), datetime.time(12, 27), datetime.time(15, 55), datetime.time(12, 46), datetime.time(13, 4), datetime.time(11, 56), datetime.time(13, 41), datetime.time(16, 10), datetime.time(10, 7), datetime.time(13, 17), datetime.time(13, 56), datetime.time(10, 4), datetime.time(12, 55), datetime.time(15, 5), datetime.time(15, 2), datetime.time(12, 57), datetime.time(11, 5), datetime.time(14, 42), datetime.time(11, 5), datetime.time(14, 29), datetime.time(14, 13), datetime.time(0, 0), datetime.time(12, 35), datetime.time(11, 1), datetime.time(13, 16), datetime.time(10, 45), datetime.time(13, 47), datetime.time(12, 0), datetime.time(11, 39), datetime.time(11, 39), datetime.time(12, 29), datetime.time(2, 2), datetime.time(17, 37), datetime.time(13, 14), datetime.time(12, 7), datetime.time(14, 14), datetime.time(11, 36), datetime.time(11, 34), datetime.time(9, 1), datetime.time(10, 46), datetime.time(13, 30), datetime.time(11, 6), datetime.time(11, 15), datetime.time(11, 11), datetime.time(11, 42), datetime.time(16, 4), datetime.time(10, 9), datetime.time(17, 5), datetime.time(14, 35), datetime.time(13, 11), datetime.time(9, 50), datetime.time(13, 43), datetime.time(17, 42), datetime.time(14, 45), datetime.time(14, 1), datetime.time(15, 39), datetime.time(11, 6), datetime.time(11, 30), datetime.time(15, 3), datetime.time(15, 4), datetime.time(0, 0), datetime.time(9, 36), datetime.time(16, 17), datetime.time(18, 0), datetime.time(10, 53), datetime.time(10, 51), datetime.time(13, 45), datetime.time(13, 16), datetime.time(12, 45), datetime.time(16, 42), datetime.time(0, 0), datetime.time(11, 55), datetime.time(15, 9), datetime.time(12, 15), datetime.time(16, 19), datetime.time(16, 27), datetime.time(11, 0), datetime.time(12, 21), datetime.time(15, 17), datetime.time(8, 9), datetime.time(15, 52), datetime.time(10, 16), datetime.time(15, 50), datetime.time(10, 17), datetime.time(15, 15), datetime.time(15, 19), datetime.time(13, 35), datetime.time(15, 54), datetime.time(9, 59), datetime.time(12, 19), datetime.time(12, 8), datetime.time(14, 23), datetime.time(12, 26), datetime.time(14, 15), datetime.time(3, 13), datetime.time(15, 48), datetime.time(11, 4), datetime.time(13, 25), datetime.time(15, 19), datetime.time(10, 43), datetime.time(9, 37), datetime.time(16, 6), datetime.time(13, 15), datetime.time(16, 27), datetime.time(16, 13), datetime.time(15, 11), datetime.time(11, 3), datetime.time(13, 28), datetime.time(16, 18), datetime.time(15, 21), datetime.time(12, 31), datetime.time(14, 15), datetime.time(13, 13), datetime.time(11, 14), datetime.time(13, 28), datetime.time(2, 3), datetime.time(15, 8), datetime.time(15, 23), datetime.time(14, 25), datetime.time(10, 58), datetime.time(18, 0), datetime.time(2, 25), datetime.time(15, 45), datetime.time(0, 0), datetime.time(12, 44), datetime.time(10, 33), datetime.time(14, 43), datetime.time(11, 35), datetime.time(13, 59), datetime.time(16, 8), datetime.time(10, 53), datetime.time(16, 0), datetime.time(14, 0), datetime.time(16, 39), datetime.time(17, 36), datetime.time(10, 44), datetime.time(12, 3), datetime.time(13, 52), datetime.time(15, 3), datetime.time(13, 2), datetime.time(14, 2), datetime.time(15, 58), datetime.time(14, 23), datetime.time(14, 28), datetime.time(16, 28), datetime.time(14, 15), datetime.time(14, 37), datetime.time(13, 5), datetime.time(10, 37), datetime.time(14, 9), datetime.time(16, 49), datetime.time(13, 1), datetime.time(14, 47), datetime.time(12, 20), datetime.time(15, 15), datetime.time(15, 7), datetime.time(10, 28), datetime.time(15, 24), datetime.time(14, 27), datetime.time(13, 26), datetime.time(14, 33), datetime.time(15, 23), datetime.time(15, 0), datetime.time(14, 15), datetime.time(12, 53), datetime.time(17, 51), datetime.time(17, 9), datetime.time(17, 15), datetime.time(12, 7), datetime.time(14, 18), datetime.time(10, 42), datetime.time(10, 48), datetime.time(14, 38), datetime.time(13, 13), datetime.time(13, 17), datetime.time(14, 30), datetime.time(15, 7), datetime.time(13, 8), datetime.time(10, 1), datetime.time(16, 6), datetime.time(15, 7), datetime.time(14, 53), datetime.time(16, 43), datetime.time(15, 20), datetime.time(11, 20), datetime.time(9, 45), datetime.time(3, 52), datetime.time(2, 5), datetime.time(12, 50), datetime.time(12, 51), datetime.time(15, 43), datetime.time(12, 44), datetime.time(16, 27), datetime.time(11, 30), datetime.time(14, 21), datetime.time(12, 1), datetime.time(10, 22), datetime.time(12, 29), datetime.time(10, 19), datetime.time(14, 16), datetime.time(12, 15), datetime.time(14, 29), datetime.time(10, 20), datetime.time(17, 56), datetime.time(1, 31), datetime.time(16, 52), datetime.time(8, 11), datetime.time(8, 13), datetime.time(10, 4), datetime.time(12, 48), datetime.time(13, 45), datetime.time(14, 44), datetime.time(16, 22), datetime.time(11, 18), datetime.time(12, 17), datetime.time(12, 19), datetime.time(12, 40), datetime.time(10, 30), datetime.time(14, 42), datetime.time(10, 54), datetime.time(12, 20), datetime.time(13, 45), datetime.time(12, 6), datetime.time(13, 43), datetime.time(16, 7), datetime.time(16, 24), datetime.time(16, 26), datetime.time(13, 44), datetime.time(14, 30), datetime.time(15, 34), datetime.time(16, 27), datetime.time(12, 24), datetime.time(11, 2), datetime.time(16, 26), datetime.time(13, 56), datetime.time(14, 45), datetime.time(16, 33), datetime.time(18, 25), datetime.time(18, 28), datetime.time(16, 25), datetime.time(13, 23), datetime.time(14, 55), datetime.time(12, 0), datetime.time(15, 4), datetime.time(14, 15), datetime.time(14, 51), datetime.time(15, 17), datetime.time(14, 11), datetime.time(14, 2), datetime.time(18, 10), datetime.time(13, 37), datetime.time(8, 8), datetime.time(15, 10), datetime.time(14, 41), datetime.time(10, 52), datetime.time(12, 45), datetime.time(14, 0), datetime.time(12, 53), datetime.time(18, 18), datetime.time(17, 54), datetime.time(14, 3), datetime.time(13, 29), datetime.time(16, 49), datetime.time(3, 14), datetime.time(14, 5), datetime.time(10, 5), datetime.time(10, 29), datetime.time(13, 57), datetime.time(10, 25), datetime.time(16, 44), datetime.time(14, 25), datetime.time(14, 53), datetime.time(13, 36), datetime.time(14, 15), datetime.time(11, 10), datetime.time(11, 31), datetime.time(13, 42), datetime.time(10, 31), datetime.time(11, 40), datetime.time(15, 53), datetime.time(12, 28), datetime.time(15, 43), datetime.time(12, 10), datetime.time(8, 58), datetime.time(14, 24), datetime.time(15, 1), datetime.time(15, 6), datetime.time(0, 0), datetime.time(11, 43), datetime.time(10, 21), datetime.time(15, 41), datetime.time(16, 55), datetime.time(12, 45)]",
            "count": 1
           },
           {
            "name": "311 others",
            "count": 311
           }
          ]
         }
        },
        {
         "name": "_deepnote_index_column",
         "dtype": "int64"
        }
       ],
       "rows": [
        {
         "Date": "2014-01-05",
         "Load Type": "['GARBAGE COLLECTIONS', 'GARBAGE COLLECTIONS', 'GARBAGE COLLECTIONS', 'BULK', 'RECYCLING - SINGLE S…",
         "Load Weight": 9650424,
         "Dropoff Site": "['TDS LANDFILL', 'TDS LANDFILL', 'TDS LANDFILL', 'TDS LANDFILL', 'BALCONES RECYCLING', 'TDS LANDFIL…",
         "Route Type": "['GARBAGE COLLECTION', 'GARBAGE COLLECTION', 'GARBAGE COLLECTION', 'BULK', 'RECYCLING - SINGLE STRE…",
         "Route Number": "['PAW72', 'PAH71', 'PH34', 'BU06', 'RHBU13', 'PAF60', 'PW11', 'RWBU11', 'PAW05', 'RHBU25', 'PAT01',…",
         "Time": "[datetime.time(14, 12), datetime.time(12, 38), datetime.time(12, 15), datetime.time(12, 51), dateti…",
         "_deepnote_index_column": 1
        },
        {
         "Date": "2014-01-12",
         "Load Type": "['GARBAGE COLLECTIONS', 'GARBAGE COLLECTIONS', 'RECYCLING - SINGLE STREAM', 'DEAD ANIMAL', 'GARBAGE…",
         "Load Weight": 9311385,
         "Dropoff Site": "['TDS LANDFILL', 'TDS LANDFILL', 'TDS - MRF', 'TDS LANDFILL', 'TDS LANDFILL', 'TDS LANDFILL', 'TDS …",
         "Route Type": "['GARBAGE COLLECTION', 'GARBAGE COLLECTION', 'RECYCLING - SINGLE STREAM', 'DEAD ANIMAL', 'GARBAGE C…",
         "Route Number": "['PAW64', 'PH21', 'RMAU21', 'DA02', 'PAH09', 'PAW60', 'PAT03', 'RWAS33', 'DF1', 'BR21', 'PAF73', 'D…",
         "Time": "[datetime.time(18, 35), datetime.time(13, 42), datetime.time(11, 21), datetime.time(11, 48), dateti…",
         "_deepnote_index_column": 2
        },
        {
         "Date": "2014-01-19",
         "Load Type": "['BULK', 'BULK', 'GARBAGE COLLECTIONS', 'GARBAGE COLLECTIONS', 'RECYCLING - SINGLE STREAM', 'GARBAG…",
         "Load Weight": 8808898,
         "Dropoff Site": "['TDS LANDFILL', 'TDS LANDFILL', 'TDS LANDFILL', 'TDS LANDFILL', 'BALCONES RECYCLING', 'TDS LANDFIL…",
         "Route Type": "['BULK', 'BULK', 'GARBAGE COLLECTION', 'GARBAGE COLLECTION', 'RECYCLING - SINGLE STREAM', 'GARBAGE …",
         "Route Number": "['BU22', 'BU22', 'PT10', 'PAM85', 'DF1', 'PH32', 'PAF76', 'PW32', 'BR02', 'PAF10', 'RWBS43', 'PF23'…",
         "Time": "[datetime.time(15, 46), datetime.time(14, 1), datetime.time(14, 5), datetime.time(13, 44), datetime…",
         "_deepnote_index_column": 3
        },
        {
         "Date": "2014-01-26",
         "Load Type": "['TIRES', 'YARD TRIMMING', 'GARBAGE COLLECTIONS', 'GARBAGE COLLECTIONS', 'GARBAGE COLLECTIONS', 'GA…",
         "Load Weight": 8335148,
         "Dropoff Site": "['MRF', 'HORNSBY BEND', 'TDS LANDFILL', 'TDS - MRF', 'TDS LANDFILL', 'TDS LANDFILL', 'TDS LANDFILL'…",
         "Route Type": "['BULK', 'YARD TRIMMINGS', 'GARBAGE COLLECTION', 'GARBAGE COLLECTION', 'GARBAGE COLLECTION', 'GARBA…",
         "Route Number": "['BU30', 'YW12', 'PAM70', 'PW22', 'PAH81', 'PM22', 'PW12', 'DSS04', 'YT08', 'PAM69', 'IRM1', 'RHAU2…",
         "Time": "[datetime.time(0, 0), datetime.time(12, 50), datetime.time(15, 14), datetime.time(13, 42), datetime…",
         "_deepnote_index_column": 4
        },
        {
         "Date": "2014-02-02",
         "Load Type": "['BULK', 'YARD TRIMMING', 'YARD TRIMMING', 'GARBAGE COLLECTIONS', 'YARD TRIMMING', 'RECYCLING - SIN…",
         "Load Weight": 7795669,
         "Dropoff Site": "['TDS LANDFILL', 'HORNSBY BEND', 'ORGANICS BY GOSH', 'TDS LANDFILL', 'HORNSBY BEND', 'TDS - MRF', '…",
         "Route Type": "['STORM', 'YARD TRIMMINGS', 'YARD TRIMMINGS-ORGANICS', 'GARBAGE COLLECTION', 'YARD TRIMMINGS', 'REC…",
         "Route Number": "['STO13', 'YH11', 'OF1', 'PAM73', 'YM05', 'RMBU10', 'RWBU21', 'RFBU14', 'RWBU24', 'YM01', 'YT12', '…",
         "Time": "[datetime.time(12, 48), datetime.time(16, 15), datetime.time(11, 19), datetime.time(10, 46), dateti…",
         "_deepnote_index_column": 5
        },
        {
         "Date": "2014-02-09",
         "Load Type": "['YARD TRIMMING', 'GARBAGE COLLECTIONS', 'RECYCLING - SINGLE STREAM', 'GARBAGE COLLECTIONS', 'BULK'…",
         "Load Weight": 8021752,
         "Dropoff Site": "['HORNSBY BEND', 'TDS LANDFILL', 'TDS - MRF', 'TDS LANDFILL', 'TDS LANDFILL', 'TDS - MRF', 'TDS LAN…",
         "Route Type": "['YARD TRIMMINGS', 'GARBAGE COLLECTION', 'INHOUSE - RECYCLING', 'GARBAGE COLLECTION', 'STORM', 'REC…",
         "Route Number": "['YM04', 'PH23', 'IRM1', 'PAH84', 'STO13', 'RMAU15', 'DSE02', 'OF1', 'RWAS33', 'DM3', 'PAF80', 'RMA…",
         "Time": "[datetime.time(14, 16), datetime.time(14, 8), datetime.time(14, 47), datetime.time(14, 11), datetim…",
         "_deepnote_index_column": 6
        },
        {
         "Date": "2014-02-16",
         "Load Type": "['BRUSH', 'BULK', 'RECYCLING - SINGLE STREAM', 'RECYCLING - SINGLE STREAM', 'GARBAGE COLLECTIONS', …",
         "Load Weight": 9555278,
         "Dropoff Site": "['HORNSBY BEND', 'TDS LANDFILL', 'BALCONES RECYCLING', 'BALCONES RECYCLING', 'TDS LANDFILL', 'TDS L…",
         "Route Type": "['BRUSH', 'BULK', 'RECYCLING - SINGLE STREAM', 'RECYCLING - SINGLE STREAM', 'GARBAGE COLLECTION', '…",
         "Route Number": "['BR10', 'BU13', 'RHBS42', 'RWBU14', 'PAH06', 'PT39', 'BU13', 'PAW71', 'BR05', 'BU13', 'YH03', 'YM0…",
         "Time": "[datetime.time(9, 31), datetime.time(12, 45), datetime.time(1, 30), datetime.time(14, 57), datetime…",
         "_deepnote_index_column": 7
        },
        {
         "Date": "2014-02-23",
         "Load Type": "['DEAD ANIMAL', 'GARBAGE COLLECTIONS', 'GARBAGE COLLECTIONS', 'YARD TRIMMING', 'GARBAGE COLLECTIONS…",
         "Load Weight": 9161320,
         "Dropoff Site": "['TDS LANDFILL', 'TDS LANDFILL', 'TDS LANDFILL', 'ORGANICS BY GOSH', 'TDS LANDFILL', 'BALCONES RECY…",
         "Route Type": "['DEAD ANIMAL', 'GARBAGE COLLECTION', 'GARBAGE COLLECTION', 'YARD TRIMMINGS-ORGANICS', 'GARBAGE COL…",
         "Route Number": "['DA02', 'PT12', 'PAM62', 'OW1', 'PAT61', 'RWAS33', 'RMAU25', 'DSN03', 'PAF80', 'DA02', 'RFAU12', '…",
         "Time": "[datetime.time(14, 24), datetime.time(13, 48), datetime.time(14, 13), datetime.time(14, 8), datetim…",
         "_deepnote_index_column": 8
        },
        {
         "Date": "2014-03-02",
         "Load Type": "['BULK', 'RECYCLING - SINGLE STREAM', 'YARD TRIMMING', 'RECYCLING - SINGLE STREAM', 'RECYCLING - SI…",
         "Load Weight": 8067289,
         "Dropoff Site": "['TDS LANDFILL', 'BALCONES RECYCLING', 'ORGANICS BY GOSH', 'BALCONES RECYCLING', 'BALCONES RECYCLIN…",
         "Route Type": "['BULK', 'RECYCLING - SINGLE STREAM', 'YARD TRIMMINGS-ORGANICS', 'RECYCLING - SINGLE STREAM', 'RECY…",
         "Route Number": "['BU28', 'DF3', 'OW2', 'RFBU22', 'RHBU11', 'PAW83', 'RMBS33', 'RFBU10', 'YM07', 'RFBS42', 'PW30', '…",
         "Time": "[datetime.time(15, 48), datetime.time(12, 35), datetime.time(13, 2), datetime.time(10, 43), datetim…",
         "_deepnote_index_column": 9
        },
        {
         "Date": "2014-03-09",
         "Load Type": "['BAGGED LITTER', 'GARBAGE COLLECTIONS', 'RECYCLING - SINGLE STREAM', 'YARD TRIMMING', 'RECYCLING -…",
         "Load Weight": 8216226,
         "Dropoff Site": "['TDS LANDFILL', 'TDS LANDFILL', 'TDS - MRF', 'HORNSBY BEND', 'BALCONES RECYCLING', 'TDS LANDFILL',…",
         "Route Type": "['SPECIAL EVENTS', 'GARBAGE COLLECTION', 'RECYCLING - SINGLE STREAM', 'YARD TRIMMINGS', 'RECYCLING …",
         "Route Number": "['SXSW2014', 'PAF82', 'RMAU14', 'YBF00', 'RWAU21', 'PAH62', 'DF3', 'SXSW2014', 'PAM70', 'YM07', 'PA…",
         "Time": "[datetime.time(6, 43), datetime.time(14, 43), datetime.time(15, 44), datetime.time(16, 45), datetim…",
         "_deepnote_index_column": 10
        }
       ]
      },
      "text/plain": "           Date                                          Load Type  \\\n1    2014-01-05  ['GARBAGE COLLECTIONS', 'GARBAGE COLLECTIONS',...   \n2    2014-01-12  ['GARBAGE COLLECTIONS', 'GARBAGE COLLECTIONS',...   \n3    2014-01-19  ['BULK', 'BULK', 'GARBAGE COLLECTIONS', 'GARBA...   \n4    2014-01-26  ['TIRES', 'YARD TRIMMING', 'GARBAGE COLLECTION...   \n5    2014-02-02  ['BULK', 'YARD TRIMMING', 'YARD TRIMMING', 'GA...   \n..          ...                                                ...   \n309  2019-12-01  ['BRUSH', 'ORGANICS', 'RECYCLING - SINGLE STRE...   \n310  2019-12-08  ['RECYCLING - SINGLE STREAM', 'GARBAGE COLLECT...   \n311  2019-12-15  ['GARBAGE COLLECTIONS', 'BULK', 'YARD TRIMMING...   \n312  2019-12-22  ['ORGANICS', 'ORGANICS', 'RECYCLING - SINGLE S...   \n313  2019-12-29  ['RECYCLING - SINGLE STREAM', 'GARBAGE COLLECT...   \n\n     Load Weight                                       Dropoff Site  \\\n1      9650424.0  ['TDS LANDFILL', 'TDS LANDFILL', 'TDS LANDFILL...   \n2      9311385.0  ['TDS LANDFILL', 'TDS LANDFILL', 'TDS - MRF', ...   \n3      8808898.0  ['TDS LANDFILL', 'TDS LANDFILL', 'TDS LANDFILL...   \n4      8335148.0  ['MRF', 'HORNSBY BEND', 'TDS LANDFILL', 'TDS -...   \n5      7795669.0  ['TDS LANDFILL', 'HORNSBY BEND', 'ORGANICS BY ...   \n..           ...                                                ...   \n309   11409691.0  ['HORNSBY BEND', 'ORGANICS BY GOSH', 'BALCONES...   \n310   11062481.0  ['TDS - MRF', 'TDS LANDFILL', 'ORGANICS BY GOS...   \n311    9499161.0  ['TDS LANDFILL', 'TDS LANDFILL', 'ORGANICS BY ...   \n312    8846157.0  ['ORGANICS BY GOSH', 'ORGANICS BY GOSH', 'BALC...   \n313   10308714.0  ['BALCONES RECYCLING', 'TDS LANDFILL', 'TDS LA...   \n\n                                            Route Type  \\\n1    ['GARBAGE COLLECTION', 'GARBAGE COLLECTION', '...   \n2    ['GARBAGE COLLECTION', 'GARBAGE COLLECTION', '...   \n3    ['BULK', 'BULK', 'GARBAGE COLLECTION', 'GARBAG...   \n4    ['BULK', 'YARD TRIMMINGS', 'GARBAGE COLLECTION...   \n5    ['STORM', 'YARD TRIMMINGS', 'YARD TRIMMINGS-OR...   \n..                                                 ...   \n309  ['BRUSH', 'YARD TRIMMINGS-ORGANICS', 'RECYCLIN...   \n310  ['RECYCLING - SINGLE STREAM', 'GARBAGE COLLECT...   \n311  ['GARBAGE COLLECTION', 'BULK', 'YARD TRIMMINGS...   \n312  ['YARD TRIMMINGS-ORGANICS', 'YARD TRIMMINGS-OR...   \n313  ['RECYCLING - SINGLE STREAM', 'GARBAGE COLLECT...   \n\n                                          Route Number  \\\n1    ['PAW72', 'PAH71', 'PH34', 'BU06', 'RHBU13', '...   \n2    ['PAW64', 'PH21', 'RMAU21', 'DA02', 'PAH09', '...   \n3    ['BU22', 'BU22', 'PT10', 'PAM85', 'DF1', 'PH32...   \n4    ['BU30', 'YW12', 'PAM70', 'PW22', 'PAH81', 'PM...   \n5    ['STO13', 'YH11', 'OF1', 'PAM73', 'YM05', 'RMB...   \n..                                                 ...   \n309  ['BR23', 'OF21', 'RWBU22', 'PAM79', 'OH-10', '...   \n310  ['RTAU53', 'PAF09', 'OBT00', 'BR24', 'BU13', '...   \n311  ['PAW65', 'BU08', 'OW3', 'RTBS33', 'DH1', 'PT4...   \n312  ['OF16', 'OM21', 'RHBU50', 'RWAU22', 'DF1', 'P...   \n313  ['RWBU12', 'PAF79', 'BU06', 'PAM85', 'IRT1', '...   \n\n                                                  Time  \n1    [datetime.time(14, 12), datetime.time(12, 38),...  \n2    [datetime.time(18, 35), datetime.time(13, 42),...  \n3    [datetime.time(15, 46), datetime.time(14, 1), ...  \n4    [datetime.time(0, 0), datetime.time(12, 50), d...  \n5    [datetime.time(12, 48), datetime.time(16, 15),...  \n..                                                 ...  \n309  [datetime.time(12, 48), datetime.time(17, 37),...  \n310  [datetime.time(14, 0), datetime.time(13, 58), ...  \n311  [datetime.time(10, 57), datetime.time(12, 26),...  \n312  [datetime.time(10, 51), datetime.time(13, 15),...  \n313  [datetime.time(15, 46), datetime.time(13, 0), ...  \n\n[313 rows x 7 columns]",
      "text/html": "<div>\n<style scoped>\n    .dataframe tbody tr th:only-of-type {\n        vertical-align: middle;\n    }\n\n    .dataframe tbody tr th {\n        vertical-align: top;\n    }\n\n    .dataframe thead th {\n        text-align: right;\n    }\n</style>\n<table border=\"1\" class=\"dataframe\">\n  <thead>\n    <tr style=\"text-align: right;\">\n      <th></th>\n      <th>Date</th>\n      <th>Load Type</th>\n      <th>Load Weight</th>\n      <th>Dropoff Site</th>\n      <th>Route Type</th>\n      <th>Route Number</th>\n      <th>Time</th>\n    </tr>\n  </thead>\n  <tbody>\n    <tr>\n      <th>1</th>\n      <td>2014-01-05</td>\n      <td>['GARBAGE COLLECTIONS', 'GARBAGE COLLECTIONS',...</td>\n      <td>9650424.0</td>\n      <td>['TDS LANDFILL', 'TDS LANDFILL', 'TDS LANDFILL...</td>\n      <td>['GARBAGE COLLECTION', 'GARBAGE COLLECTION', '...</td>\n      <td>['PAW72', 'PAH71', 'PH34', 'BU06', 'RHBU13', '...</td>\n      <td>[datetime.time(14, 12), datetime.time(12, 38),...</td>\n    </tr>\n    <tr>\n      <th>2</th>\n      <td>2014-01-12</td>\n      <td>['GARBAGE COLLECTIONS', 'GARBAGE COLLECTIONS',...</td>\n      <td>9311385.0</td>\n      <td>['TDS LANDFILL', 'TDS LANDFILL', 'TDS - MRF', ...</td>\n      <td>['GARBAGE COLLECTION', 'GARBAGE COLLECTION', '...</td>\n      <td>['PAW64', 'PH21', 'RMAU21', 'DA02', 'PAH09', '...</td>\n      <td>[datetime.time(18, 35), datetime.time(13, 42),...</td>\n    </tr>\n    <tr>\n      <th>3</th>\n      <td>2014-01-19</td>\n      <td>['BULK', 'BULK', 'GARBAGE COLLECTIONS', 'GARBA...</td>\n      <td>8808898.0</td>\n      <td>['TDS LANDFILL', 'TDS LANDFILL', 'TDS LANDFILL...</td>\n      <td>['BULK', 'BULK', 'GARBAGE COLLECTION', 'GARBAG...</td>\n      <td>['BU22', 'BU22', 'PT10', 'PAM85', 'DF1', 'PH32...</td>\n      <td>[datetime.time(15, 46), datetime.time(14, 1), ...</td>\n    </tr>\n    <tr>\n      <th>4</th>\n      <td>2014-01-26</td>\n      <td>['TIRES', 'YARD TRIMMING', 'GARBAGE COLLECTION...</td>\n      <td>8335148.0</td>\n      <td>['MRF', 'HORNSBY BEND', 'TDS LANDFILL', 'TDS -...</td>\n      <td>['BULK', 'YARD TRIMMINGS', 'GARBAGE COLLECTION...</td>\n      <td>['BU30', 'YW12', 'PAM70', 'PW22', 'PAH81', 'PM...</td>\n      <td>[datetime.time(0, 0), datetime.time(12, 50), d...</td>\n    </tr>\n    <tr>\n      <th>5</th>\n      <td>2014-02-02</td>\n      <td>['BULK', 'YARD TRIMMING', 'YARD TRIMMING', 'GA...</td>\n      <td>7795669.0</td>\n      <td>['TDS LANDFILL', 'HORNSBY BEND', 'ORGANICS BY ...</td>\n      <td>['STORM', 'YARD TRIMMINGS', 'YARD TRIMMINGS-OR...</td>\n      <td>['STO13', 'YH11', 'OF1', 'PAM73', 'YM05', 'RMB...</td>\n      <td>[datetime.time(12, 48), datetime.time(16, 15),...</td>\n    </tr>\n    <tr>\n      <th>...</th>\n      <td>...</td>\n      <td>...</td>\n      <td>...</td>\n      <td>...</td>\n      <td>...</td>\n      <td>...</td>\n      <td>...</td>\n    </tr>\n    <tr>\n      <th>309</th>\n      <td>2019-12-01</td>\n      <td>['BRUSH', 'ORGANICS', 'RECYCLING - SINGLE STRE...</td>\n      <td>11409691.0</td>\n      <td>['HORNSBY BEND', 'ORGANICS BY GOSH', 'BALCONES...</td>\n      <td>['BRUSH', 'YARD TRIMMINGS-ORGANICS', 'RECYCLIN...</td>\n      <td>['BR23', 'OF21', 'RWBU22', 'PAM79', 'OH-10', '...</td>\n      <td>[datetime.time(12, 48), datetime.time(17, 37),...</td>\n    </tr>\n    <tr>\n      <th>310</th>\n      <td>2019-12-08</td>\n      <td>['RECYCLING - SINGLE STREAM', 'GARBAGE COLLECT...</td>\n      <td>11062481.0</td>\n      <td>['TDS - MRF', 'TDS LANDFILL', 'ORGANICS BY GOS...</td>\n      <td>['RECYCLING - SINGLE STREAM', 'GARBAGE COLLECT...</td>\n      <td>['RTAU53', 'PAF09', 'OBT00', 'BR24', 'BU13', '...</td>\n      <td>[datetime.time(14, 0), datetime.time(13, 58), ...</td>\n    </tr>\n    <tr>\n      <th>311</th>\n      <td>2019-12-15</td>\n      <td>['GARBAGE COLLECTIONS', 'BULK', 'YARD TRIMMING...</td>\n      <td>9499161.0</td>\n      <td>['TDS LANDFILL', 'TDS LANDFILL', 'ORGANICS BY ...</td>\n      <td>['GARBAGE COLLECTION', 'BULK', 'YARD TRIMMINGS...</td>\n      <td>['PAW65', 'BU08', 'OW3', 'RTBS33', 'DH1', 'PT4...</td>\n      <td>[datetime.time(10, 57), datetime.time(12, 26),...</td>\n    </tr>\n    <tr>\n      <th>312</th>\n      <td>2019-12-22</td>\n      <td>['ORGANICS', 'ORGANICS', 'RECYCLING - SINGLE S...</td>\n      <td>8846157.0</td>\n      <td>['ORGANICS BY GOSH', 'ORGANICS BY GOSH', 'BALC...</td>\n      <td>['YARD TRIMMINGS-ORGANICS', 'YARD TRIMMINGS-OR...</td>\n      <td>['OF16', 'OM21', 'RHBU50', 'RWAU22', 'DF1', 'P...</td>\n      <td>[datetime.time(10, 51), datetime.time(13, 15),...</td>\n    </tr>\n    <tr>\n      <th>313</th>\n      <td>2019-12-29</td>\n      <td>['RECYCLING - SINGLE STREAM', 'GARBAGE COLLECT...</td>\n      <td>10308714.0</td>\n      <td>['BALCONES RECYCLING', 'TDS LANDFILL', 'TDS LA...</td>\n      <td>['RECYCLING - SINGLE STREAM', 'GARBAGE COLLECT...</td>\n      <td>['RWBU12', 'PAF79', 'BU06', 'PAM85', 'IRT1', '...</td>\n      <td>[datetime.time(15, 46), datetime.time(13, 0), ...</td>\n    </tr>\n  </tbody>\n</table>\n<p>313 rows × 7 columns</p>\n</div>"
     },
     "metadata": {}
    }
   ]
  },
  {
   "cell_type": "code",
   "metadata": {
    "cell_id": "83fc2a54-9554-4baf-893f-f6740905b553",
    "tags": [],
    "deepnote_to_be_reexecuted": false,
    "source_hash": "ace86942",
    "execution_start": 1647860207591,
    "execution_millis": 413,
    "deepnote_cell_type": "code",
    "deepnote_cell_height": 329.25,
    "deepnote_output_heights": [
     232.25
    ]
   },
   "source": "weather_df_1.isna().sum()/weather_df_1.shape[0]",
   "execution_count": null,
   "outputs": [
    {
     "output_type": "execute_result",
     "execution_count": 73,
     "data": {
      "text/plain": "time    0.000000\ntavg    0.000000\ntmin    0.000000\ntmax    0.000000\nprcp    0.000000\nsnow    0.000000\nwdir    0.699681\nwspd    0.000000\nwpgt    1.000000\npres    0.000000\ntsun    0.000000\ndtype: float64"
     },
     "metadata": {}
    }
   ]
  },
  {
   "cell_type": "code",
   "metadata": {
    "cell_id": "1ebc6317-cc7a-486b-81dd-325d61a55589",
    "tags": [],
    "deepnote_to_be_reexecuted": false,
    "source_hash": "acbe9208",
    "execution_start": 1647860251511,
    "execution_millis": 2,
    "deepnote_cell_type": "code",
    "deepnote_cell_height": 117
   },
   "source": "weather_df_2 = weather_df_1.drop(columns=['wdir', 'wpgt'])\n#weather_df_2['pm25'] = weather_df_2[' pm25'].fillna(np.nanmean(weather_df_2[' pm25']))\n#weather_df_2 = weather_df_2.drop(columns=[' pm25'])",
   "execution_count": null,
   "outputs": []
  },
  {
   "cell_type": "code",
   "metadata": {
    "cell_id": "5ce8d3a1-3ba0-4d63-bbef-55e024c430d3",
    "tags": [],
    "deepnote_to_be_reexecuted": false,
    "source_hash": "19aefac7",
    "execution_start": 1647860287869,
    "execution_millis": 9,
    "deepnote_cell_type": "code",
    "deepnote_cell_height": 81
   },
   "source": "merged_df = pd.merge(garbage_df_1, weather_df_2, how = \"inner\", left_on = \"Date\", right_on=\"time\"  )",
   "execution_count": null,
   "outputs": []
  },
  {
   "cell_type": "code",
   "metadata": {
    "cell_id": "c6a2617e-de18-4398-8df2-4ebaaaaa0243",
    "tags": [],
    "deepnote_to_be_reexecuted": false,
    "source_hash": "d5b7a20d",
    "execution_start": 1647860291002,
    "execution_millis": 11,
    "deepnote_cell_type": "code",
    "deepnote_cell_height": 154.1875,
    "deepnote_output_heights": [
     21.1875
    ]
   },
   "source": "all_weeks_2014_2019 = pd.date_range(\n  start=\"2014-01-01\", end=\"2019-12-31\", freq = \"W-SUN\")\nall_weeks_2014_2019.difference(pd.to_datetime(merged_df['Date']))",
   "execution_count": null,
   "outputs": [
    {
     "output_type": "execute_result",
     "execution_count": 79,
     "data": {
      "text/plain": "DatetimeIndex([], dtype='datetime64[ns]', freq='W-SUN')"
     },
     "metadata": {}
    }
   ]
  },
  {
   "cell_type": "code",
   "metadata": {
    "cell_id": "d6b89220-deac-4126-b999-60dc4b3f5652",
    "tags": [],
    "deepnote_to_be_reexecuted": false,
    "source_hash": "be0aaf1",
    "execution_start": 1647860305497,
    "execution_millis": 158,
    "deepnote_cell_type": "code",
    "deepnote_cell_height": 615
   },
   "source": "merged_df",
   "execution_count": null,
   "outputs": [
    {
     "output_type": "execute_result",
     "execution_count": 80,
     "data": {
      "application/vnd.deepnote.dataframe.v3+json": {
       "column_count": 16,
       "row_count": 313,
       "columns": [
        {
         "name": "Date",
         "dtype": "object",
         "stats": {
          "unique_count": 313,
          "nan_count": 0,
          "categories": [
           {
            "name": "2014-01-05",
            "count": 1
           },
           {
            "name": "2014-01-12",
            "count": 1
           },
           {
            "name": "311 others",
            "count": 311
           }
          ]
         }
        },
        {
         "name": "Load Type",
         "dtype": "object",
         "stats": {
          "unique_count": 313,
          "nan_count": 0,
          "categories": [
           {
            "name": "['GARBAGE COLLECTIONS', 'GARBAGE COLLECTIONS', 'GARBAGE COLLECTIONS', 'BULK', 'RECYCLING - SINGLE STREAM', 'GARBAGE COLLECTIONS', 'GARBAGE COLLECTIONS', 'RECYCLING - SINGLE STREAM', 'GARBAGE COLLECTIONS', 'RECYCLING - SINGLE STREAM', 'GARBAGE COLLECTIONS', 'TIRES', 'GARBAGE COLLECTIONS', 'GARBAGE COLLECTIONS', 'RECYCLING - SINGLE STREAM', 'LITTER', 'RECYCLING - SINGLE STREAM', 'RECYCLING - SINGLE STREAM', 'RECYCLING - SINGLE STREAM', 'BULK', 'GARBAGE COLLECTIONS', 'BULK', 'YARD TRIMMING', 'YARD TRIMMING', 'RECYCLING - SINGLE STREAM', 'YARD TRIMMING', 'RECYCLING - SINGLE STREAM', 'YARD TRIMMING', 'RECYCLING - SINGLE STREAM', 'RECYCLING - SINGLE STREAM', 'BRUSH', 'YARD TRIMMING', 'BULK', 'GARBAGE COLLECTIONS', 'GARBAGE COLLECTIONS', 'RECYCLING - SINGLE STREAM', 'RECYCLING - SINGLE STREAM', 'GARBAGE COLLECTIONS', 'YARD TRIMMING', 'GARBAGE COLLECTIONS', 'GARBAGE COLLECTIONS', 'BULK', 'GARBAGE COLLECTIONS', 'YARD TRIMMING', 'GARBAGE COLLECTIONS', 'GARBAGE COLLECTIONS', 'GARBAGE COLLECTIONS', 'RECYCLING - SINGLE STREAM', 'GARBAGE COLLECTIONS', 'BULK', 'RECYCLING - SINGLE STREAM', 'BULK', 'BRUSH', 'GARBAGE COLLECTIONS', 'GARBAGE COLLECTIONS', 'GARBAGE COLLECTIONS', 'GARBAGE COLLECTIONS', 'YARD TRIMMING', 'BRUSH', 'YARD TRIMMING', 'RECYCLING - SINGLE STREAM', 'YARD TRIMMING', 'GARBAGE COLLECTIONS', 'GARBAGE COLLECTIONS', 'GARBAGE COLLECTIONS', 'GARBAGE COLLECTIONS', 'GARBAGE COLLECTIONS', 'BULK', 'RECYCLING - SINGLE STREAM', 'GARBAGE COLLECTIONS', 'GARBAGE COLLECTIONS', 'RECYCLING - SINGLE STREAM', 'RECYCLING - SINGLE STREAM', 'GARBAGE COLLECTIONS', 'GARBAGE COLLECTIONS', 'GARBAGE COLLECTIONS', 'GARBAGE COLLECTIONS', 'GARBAGE COLLECTIONS', 'BRUSH', 'RECYCLING - SINGLE STREAM', 'GARBAGE COLLECTIONS', 'GARBAGE COLLECTIONS', 'GARBAGE COLLECTIONS', 'BULK', 'GARBAGE COLLECTIONS', 'GARBAGE COLLECTIONS', 'YARD TRIMMING', 'RECYCLING - SINGLE STREAM', 'RECYCLING - SINGLE STREAM', 'RECYCLING - SINGLE STREAM', 'GARBAGE COLLECTIONS', 'RECYCLING - SINGLE STREAM', 'RECYCLING - SINGLE STREAM', 'BRUSH', 'RECYCLING - SINGLE STREAM', 'GARBAGE COLLECTIONS', 'GARBAGE COLLECTIONS', 'RECYCLING - SINGLE STREAM', 'SWEEPING', 'RECYCLING - SINGLE STREAM', 'GARBAGE COLLECTIONS', 'GARBAGE COLLECTIONS', 'BRUSH', 'GARBAGE COLLECTIONS', 'YARD TRIMMING', 'DEAD ANIMAL', 'GARBAGE COLLECTIONS', 'RECYCLING - SINGLE STREAM', 'YARD TRIMMING', 'GARBAGE COLLECTIONS', 'GARBAGE COLLECTIONS', 'RECYCLING - SINGLE STREAM', 'SWEEPING', 'RECYCLING - SINGLE STREAM', 'RECYCLING - SINGLE STREAM', 'YARD TRIMMING', 'RECYCLING - SINGLE STREAM', 'RECYCLING - SINGLE STREAM', 'RECYCLING - SINGLE STREAM', 'RECYCLING - SINGLE STREAM', 'GARBAGE COLLECTIONS', 'GARBAGE COLLECTIONS', 'GARBAGE COLLECTIONS', 'GARBAGE COLLECTIONS', 'GARBAGE COLLECTIONS', 'GARBAGE COLLECTIONS', 'GARBAGE COLLECTIONS', 'GARBAGE COLLECTIONS', 'GARBAGE COLLECTIONS', 'GARBAGE COLLECTIONS', 'RECYCLING - SINGLE STREAM', 'GARBAGE COLLECTIONS', 'YARD TRIMMING', 'GARBAGE COLLECTIONS', 'DEAD ANIMAL', 'GARBAGE COLLECTIONS', 'SWEEPING', 'BULK', 'GARBAGE COLLECTIONS', 'GARBAGE COLLECTIONS', 'GARBAGE COLLECTIONS', 'RECYCLING - SINGLE STREAM', 'GARBAGE COLLECTIONS', 'BRUSH', 'RECYCLING - SINGLE STREAM', 'GARBAGE COLLECTIONS', 'GARBAGE COLLECTIONS', 'SWEEPING', 'SWEEPING', 'RECYCLING - SINGLE STREAM', 'YARD TRIMMING', 'GARBAGE COLLECTIONS', 'RECYCLING - SINGLE STREAM', 'GARBAGE COLLECTIONS', 'GARBAGE COLLECTIONS', 'RECYCLING - SINGLE STREAM', 'GARBAGE COLLECTIONS', 'GARBAGE COLLECTIONS', 'RECYCLING - SINGLE STREAM', 'YARD TRIMMING', 'YARD TRIMMING', 'GARBAGE COLLECTIONS', 'GARBAGE COLLECTIONS', 'GARBAGE COLLECTIONS', 'SWEEPING', 'GARBAGE COLLECTIONS', 'GARBAGE COLLECTIONS', 'RECYCLING - SINGLE STREAM', 'GARBAGE COLLECTIONS', 'YARD TRIMMING', 'RECYCLING - SINGLE STREAM', 'RECYCLING - SINGLE STREAM', 'RECYCLING - SINGLE STREAM', 'YARD TRIMMING', 'GARBAGE COLLECTIONS', 'RECYCLING - SINGLE STREAM', 'GARBAGE COLLECTIONS', 'GARBAGE COLLECTIONS', 'RECYCLING - SINGLE STREAM', 'GARBAGE COLLECTIONS', 'RECYCLING - SINGLE STREAM', 'GARBAGE COLLECTIONS', 'RECYCLING - SINGLE STREAM', 'YARD TRIMMING', 'YARD TRIMMING', 'RECYCLING - SINGLE STREAM', 'YARD TRIMMING', 'GARBAGE COLLECTIONS', 'RECYCLING - SINGLE STREAM', 'RECYCLING - SINGLE STREAM', 'YARD TRIMMING', 'GARBAGE COLLECTIONS', 'RECYCLING - SINGLE STREAM', 'SWEEPING', 'GARBAGE COLLECTIONS', 'GARBAGE COLLECTIONS', 'GARBAGE COLLECTIONS', 'SWEEPING', 'RECYCLING - SINGLE STREAM', 'SWEEPING', 'YARD TRIMMING', 'SWEEPING', 'GARBAGE COLLECTIONS', 'RECYCLING - SINGLE STREAM', 'GARBAGE COLLECTIONS', 'GARBAGE COLLECTIONS', 'GARBAGE COLLECTIONS', 'RECYCLING - SINGLE STREAM', 'SWEEPING', 'GARBAGE COLLECTIONS', 'GARBAGE COLLECTIONS', 'RECYCLING - SINGLE STREAM', 'RECYCLING - SINGLE STREAM', 'YARD TRIMMING', 'YARD TRIMMING', 'GARBAGE COLLECTIONS', 'YARD TRIMMING', 'RECYCLING - SINGLE STREAM', 'GARBAGE COLLECTIONS', 'RECYCLING - SINGLE STREAM', 'RECYCLING - SINGLE STREAM', 'GARBAGE COLLECTIONS', 'RECYCLING - SINGLE STREAM', 'RECYCLING - SINGLE STREAM', 'RECYCLING - SINGLE STREAM', 'GARBAGE COLLECTIONS', 'RECYCLING - SINGLE STREAM', 'GARBAGE COLLECTIONS', 'GARBAGE COLLECTIONS', 'YARD TRIMMING', 'BULK', 'GARBAGE COLLECTIONS', 'GARBAGE COLLECTIONS', 'GARBAGE COLLECTIONS', 'GARBAGE COLLECTIONS', 'GARBAGE COLLECTIONS', 'BULK', 'SWEEPING', 'GARBAGE COLLECTIONS', 'RECYCLING - SINGLE STREAM', 'YARD TRIMMING', 'YARD TRIMMING', 'RECYCLING - SINGLE STREAM', 'RECYCLING - SINGLE STREAM', 'BRUSH', 'RECYCLING - SINGLE STREAM', 'SWEEPING', 'RECYCLING - SINGLE STREAM', 'GARBAGE COLLECTIONS', 'RECYCLING - SINGLE STREAM', 'RECYCLING - SINGLE STREAM', 'RECYCLING - SINGLE STREAM', 'GARBAGE COLLECTIONS', 'GARBAGE COLLECTIONS', 'RECYCLING - SINGLE STREAM', 'RECYCLING - SINGLE STREAM', 'GARBAGE COLLECTIONS', 'GARBAGE COLLECTIONS', 'YARD TRIMMING', 'GARBAGE COLLECTIONS', 'RECYCLING - SINGLE STREAM', 'GARBAGE COLLECTIONS', 'GARBAGE COLLECTIONS', 'YARD TRIMMING', 'RECYCLING - SINGLE STREAM', 'BULK', 'RECYCLING - SINGLE STREAM', 'RECYCLING - SINGLE STREAM', 'RECYCLING - SINGLE STREAM', 'GARBAGE COLLECTIONS', 'BRUSH', 'GARBAGE COLLECTIONS', 'RECYCLING - SINGLE STREAM', 'GARBAGE COLLECTIONS', 'RECYCLING - SINGLE STREAM', 'BULK', 'GARBAGE COLLECTIONS', 'GARBAGE COLLECTIONS', 'GARBAGE COLLECTIONS', 'GARBAGE COLLECTIONS', 'GARBAGE COLLECTIONS', 'GARBAGE COLLECTIONS', 'GARBAGE COLLECTIONS', 'GARBAGE COLLECTIONS', 'RECYCLING - SINGLE STREAM', 'BULK', 'GARBAGE COLLECTIONS', 'RECYCLING - SINGLE STREAM', 'GARBAGE COLLECTIONS', 'YARD TRIMMING', 'RECYCLING - SINGLE STREAM', 'RECYCLING - SINGLE STREAM', 'RECYCLING - SINGLE STREAM', 'GARBAGE COLLECTIONS', 'GARBAGE COLLECTIONS', 'RECYCLING - SINGLE STREAM', 'GARBAGE COLLECTIONS', 'RECYCLING - SINGLE STREAM', 'GARBAGE COLLECTIONS', 'YARD TRIMMING', 'RECYCLING - SINGLE STREAM', 'SWEEPING', 'GARBAGE COLLECTIONS', 'BULK', 'RECYCLING - SINGLE STREAM', 'GARBAGE COLLECTIONS', 'RECYCLING - SINGLE STREAM', 'GARBAGE COLLECTIONS', 'BULK', 'RECYCLING - SINGLE STREAM', 'GARBAGE COLLECTIONS', 'GARBAGE COLLECTIONS', 'YARD TRIMMING', 'GARBAGE COLLECTIONS', 'YARD TRIMMING', 'SWEEPING', 'RECYCLING - SINGLE STREAM', 'GARBAGE COLLECTIONS', 'RECYCLING - SINGLE STREAM', 'RECYCLING - SINGLE STREAM', 'GARBAGE COLLECTIONS', 'GARBAGE COLLECTIONS', 'YARD TRIMMING', 'GARBAGE COLLECTIONS', 'GARBAGE COLLECTIONS', 'GARBAGE COLLECTIONS', 'GARBAGE COLLECTIONS', 'YARD TRIMMING', 'YARD TRIMMING', 'YARD TRIMMING', 'RECYCLING - SINGLE STREAM', 'GARBAGE COLLECTIONS', 'YARD TRIMMING', 'RECYCLING - SINGLE STREAM', 'RECYCLING - SINGLE STREAM', 'YARD TRIMMING', 'BULK', 'BULK', 'GARBAGE COLLECTIONS', 'GARBAGE COLLECTIONS', 'RECYCLING - SINGLE STREAM', 'SWEEPING', 'RECYCLING - SINGLE STREAM', 'RECYCLING - SINGLE STREAM', 'GARBAGE COLLECTIONS', 'RECYCLING - SINGLE STREAM', 'YARD TRIMMING', 'RECYCLING - SINGLE STREAM', 'GARBAGE COLLECTIONS', 'RECYCLING - SINGLE STREAM', 'GARBAGE COLLECTIONS', 'GARBAGE COLLECTIONS', 'RECYCLING - SINGLE STREAM', 'SWEEPING', 'RECYCLING - SINGLE STREAM', 'RECYCLING - SINGLE STREAM', 'RECYCLING - SINGLE STREAM', 'GARBAGE COLLECTIONS', 'RECYCLING - SINGLE STREAM', 'BRUSH', 'RECYCLING - SINGLE STREAM', 'YARD TRIMMING', 'BULK', 'GARBAGE COLLECTIONS', 'GARBAGE COLLECTIONS', 'BRUSH', 'RECYCLING - SINGLE STREAM', 'BRUSH', 'GARBAGE COLLECTIONS', 'RECYCLING - SINGLE STREAM', 'YARD TRIMMING', 'RECYCLING - SINGLE STREAM', 'RECYCLING - SINGLE STREAM', 'SWEEPING', 'BRUSH', 'GARBAGE COLLECTIONS', 'GARBAGE COLLECTIONS', 'GARBAGE COLLECTIONS', 'RECYCLING - SINGLE STREAM', 'BRUSH', 'RECYCLING - SINGLE STREAM', 'RECYCLING - SINGLE STREAM', 'GARBAGE COLLECTIONS', 'GARBAGE COLLECTIONS', 'GARBAGE COLLECTIONS', 'YARD TRIMMING', 'GARBAGE COLLECTIONS', 'BULK', 'RECYCLING - SINGLE STREAM', 'RECYCLING - SINGLE STREAM', 'GARBAGE COLLECTIONS', 'RECYCLING - SINGLE STREAM', 'RECYCLING - SINGLE STREAM', 'RECYCLING - SINGLE STREAM', 'GARBAGE COLLECTIONS', 'YARD TRIMMING', 'RECYCLING - SINGLE STREAM', 'BULK', 'GARBAGE COLLECTIONS', 'RECYCLING - SINGLE STREAM', 'RECYCLING - SINGLE STREAM', 'RECYCLING - SINGLE STREAM', 'BULK', 'GARBAGE COLLECTIONS', 'BRUSH', 'BRUSH', 'RECYCLING - SINGLE STREAM', 'RECYCLING - SINGLE STREAM', 'YARD TRIMMING', 'GARBAGE COLLECTIONS', 'GARBAGE COLLECTIONS', 'BULK', 'GARBAGE COLLECTIONS', 'GARBAGE COLLECTIONS', 'RECYCLING - SINGLE STREAM', 'GARBAGE COLLECTIONS', 'RECYCLING - SINGLE STREAM', 'GARBAGE COLLECTIONS', 'GARBAGE COLLECTIONS', 'GARBAGE COLLECTIONS', 'GARBAGE COLLECTIONS', 'BULK', 'RECYCLING - SINGLE STREAM', 'BULK', 'GARBAGE COLLECTIONS', 'SWEEPING', 'BULK', 'RECYCLING - SINGLE STREAM', 'GARBAGE COLLECTIONS', 'RECYCLING - SINGLE STREAM', 'GARBAGE COLLECTIONS', 'GARBAGE COLLECTIONS', 'GARBAGE COLLECTIONS', 'YARD TRIMMING', 'GARBAGE COLLECTIONS', 'GARBAGE COLLECTIONS', 'GARBAGE COLLECTIONS', 'GARBAGE COLLECTIONS', 'RECYCLING - SINGLE STREAM', 'BULK', 'GARBAGE COLLECTIONS', 'RECYCLING - SINGLE STREAM', 'SWEEPING', 'RECYCLING - SINGLE STREAM', 'GARBAGE COLLECTIONS', 'RECYCLING - SINGLE STREAM', 'RECYCLING - SINGLE STREAM', 'YARD TRIMMING', 'GARBAGE COLLECTIONS', 'RECYCLING - SINGLE STREAM', 'RECYCLING - SINGLE STREAM', 'GARBAGE COLLECTIONS', 'RECYCLING - SINGLE STREAM', 'GARBAGE COLLECTIONS', 'GARBAGE COLLECTIONS', 'YARD TRIMMING', 'SWEEPING', 'BULK', 'YARD TRIMMING', 'GARBAGE COLLECTIONS', 'GARBAGE COLLECTIONS', 'GARBAGE COLLECTIONS', 'RECYCLING - SINGLE STREAM', 'DEAD ANIMAL', 'GARBAGE COLLECTIONS', 'GARBAGE COLLECTIONS', 'RECYCLING - SINGLE STREAM', 'RECYCLING - SINGLE STREAM', 'SWEEPING', 'GARBAGE COLLECTIONS', 'GARBAGE COLLECTIONS', 'LITTER', 'RECYCLING - SINGLE STREAM', 'GARBAGE COLLECTIONS', 'RECYCLING - SINGLE STREAM', 'DEAD ANIMAL', 'SWEEPING', 'RECYCLING - SINGLE STREAM', 'BULK', 'RECYCLING - SINGLE STREAM', 'RECYCLING - SINGLE STREAM', 'GARBAGE COLLECTIONS', 'GARBAGE COLLECTIONS', 'GARBAGE COLLECTIONS', 'YARD TRIMMING', 'YARD TRIMMING', 'YARD TRIMMING', 'GARBAGE COLLECTIONS', 'GARBAGE COLLECTIONS', 'GARBAGE COLLECTIONS', 'GARBAGE COLLECTIONS', 'RECYCLING - SINGLE STREAM', 'GARBAGE COLLECTIONS', 'BULK', 'RECYCLING - SINGLE STREAM', 'GARBAGE COLLECTIONS', 'BULK', 'BRUSH', 'YARD TRIMMING', 'RECYCLING - SINGLE STREAM', 'SWEEPING', 'YARD TRIMMING', 'GARBAGE COLLECTIONS', 'BULK', 'RECYCLING - SINGLE STREAM', 'RECYCLING - SINGLE STREAM', 'RECYCLING - SINGLE STREAM', 'GARBAGE COLLECTIONS', 'GARBAGE COLLECTIONS', 'BRUSH', 'RECYCLING - SINGLE STREAM', 'YARD TRIMMING', 'BULK', 'RECYCLING - SINGLE STREAM', 'GARBAGE COLLECTIONS', 'RECYCLING - SINGLE STREAM', 'GARBAGE COLLECTIONS', 'GARBAGE COLLECTIONS', 'BULK', 'RECYCLING - SINGLE STREAM', 'BULK', 'BULK', 'YARD TRIMMING', 'YARD TRIMMING', 'BULK', 'SWEEPING', 'SWEEPING', 'GARBAGE COLLECTIONS', 'BULK', 'YARD TRIMMING', 'GARBAGE COLLECTIONS', 'GARBAGE COLLECTIONS', 'RECYCLING - SINGLE STREAM', 'BRUSH', 'GARBAGE COLLECTIONS', 'RECYCLING - SINGLE STREAM', 'SWEEPING', 'BULK', 'GARBAGE COLLECTIONS', 'GARBAGE COLLECTIONS', 'SWEEPING', 'GARBAGE COLLECTIONS', 'GARBAGE COLLECTIONS', 'GARBAGE COLLECTIONS', 'GARBAGE COLLECTIONS', 'RECYCLING - SINGLE STREAM', 'GARBAGE COLLECTIONS', 'GARBAGE COLLECTIONS', 'RECYCLING - SINGLE STREAM', 'GARBAGE COLLECTIONS', 'YARD TRIMMING', 'YARD TRIMMING', 'GARBAGE COLLECTIONS', 'RECYCLING - SINGLE STREAM', 'RECYCLING - SINGLE STREAM', 'RECYCLING - SINGLE STREAM', 'RECYCLING - SINGLE STREAM', 'RECYCLING - SINGLE STREAM', 'RECYCLING - SINGLE STREAM', 'RECYCLING - SINGLE STREAM', 'YARD TRIMMING', 'RECYCLING - SINGLE STREAM', 'RECYCLING - SINGLE STREAM', 'GARBAGE COLLECTIONS', 'RECYCLING - SINGLE STREAM', 'GARBAGE COLLECTIONS', 'GARBAGE COLLECTIONS', 'RECYCLING - SINGLE STREAM', 'RECYCLING - SINGLE STREAM', 'GARBAGE COLLECTIONS', 'TIRES', 'YARD TRIMMING', 'RECYCLING - SINGLE STREAM', 'YARD TRIMMING', 'SWEEPING', 'GARBAGE COLLECTIONS', 'SWEEPING', 'RECYCLING - SINGLE STREAM', 'RECYCLING - SINGLE STREAM', 'BULK', 'GARBAGE COLLECTIONS', 'GARBAGE COLLECTIONS', 'RECYCLING - SINGLE STREAM', 'BRUSH', 'BULK', 'GARBAGE COLLECTIONS', 'DEAD ANIMAL', 'GARBAGE COLLECTIONS', 'RECYCLING - SINGLE STREAM', 'RECYCLING - SINGLE STREAM', 'GARBAGE COLLECTIONS', 'BULK', 'DEAD ANIMAL', 'SWEEPING', 'RECYCLING - SINGLE STREAM', 'RECYCLING - SINGLE STREAM', 'SWEEPING', 'RECYCLING - SINGLE STREAM', 'RECYCLING - SINGLE STREAM', 'RECYCLING - SINGLE STREAM', 'GARBAGE COLLECTIONS', 'SWEEPING', 'GARBAGE COLLECTIONS', 'GARBAGE COLLECTIONS', 'GARBAGE COLLECTIONS', 'RECYCLING - SINGLE STREAM', 'RECYCLING - SINGLE STREAM', 'GARBAGE COLLECTIONS', 'GARBAGE COLLECTIONS', 'RECYCLING - SINGLE STREAM', 'RECYCLING - SINGLE STREAM', 'BULK', 'RECYCLING - SINGLE STREAM', 'GARBAGE COLLECTIONS', 'RECYCLING - SINGLE STREAM', 'GARBAGE COLLECTIONS', 'RECYCLING - SINGLE STREAM', 'YARD TRIMMING', 'GARBAGE COLLECTIONS', 'SWEEPING', 'RECYCLING - SINGLE STREAM', 'RECYCLING - SINGLE STREAM', 'GARBAGE COLLECTIONS', 'YARD TRIMMING', 'RECYCLING - SINGLE STREAM', 'RECYCLING - SINGLE STREAM', 'RECYCLING - SINGLE STREAM', 'GARBAGE COLLECTIONS', 'RECYCLING - SINGLE STREAM', 'GARBAGE COLLECTIONS', 'RECYCLING - SINGLE STREAM', 'GARBAGE COLLECTIONS', 'RECYCLING - SINGLE STREAM', 'GARBAGE COLLECTIONS', 'GARBAGE COLLECTIONS', 'GARBAGE COLLECTIONS', 'GARBAGE COLLECTIONS', 'GARBAGE COLLECTIONS', 'YARD TRIMMING', 'DEAD ANIMAL', 'YARD TRIMMING', 'YARD TRIMMING', 'GARBAGE COLLECTIONS', 'RECYCLING - SINGLE STREAM', 'RECYCLING - SINGLE STREAM', 'RECYCLING - SINGLE STREAM', 'RECYCLING - SINGLE STREAM', 'BULK', 'GARBAGE COLLECTIONS', 'RECYCLING - SINGLE STREAM', 'RECYCLING - SINGLE STREAM', 'YARD TRIMMING', 'GARBAGE COLLECTIONS', 'GARBAGE COLLECTIONS', 'GARBAGE COLLECTIONS', 'GARBAGE COLLECTIONS', 'GARBAGE COLLECTIONS', 'GARBAGE COLLECTIONS', 'GARBAGE COLLECTIONS', 'SWEEPING', 'SWEEPING', 'SWEEPING', 'GARBAGE COLLECTIONS', 'YARD TRIMMING', 'RECYCLING - SINGLE STREAM', 'BRUSH', 'GARBAGE COLLECTIONS', 'BRUSH', 'RECYCLING - SINGLE STREAM', 'GARBAGE COLLECTIONS', 'GARBAGE COLLECTIONS', 'BRUSH', 'BULK', 'RECYCLING - SINGLE STREAM', 'GARBAGE COLLECTIONS', 'GARBAGE COLLECTIONS', 'RECYCLING - SINGLE STREAM', 'BULK', 'BRUSH', 'GARBAGE COLLECTIONS', 'GARBAGE COLLECTIONS', 'GARBAGE COLLECTIONS', 'GARBAGE COLLECTIONS', 'GARBAGE COLLECTIONS', 'YARD TRIMMING', 'SWEEPING', 'RECYCLING - SINGLE STREAM', 'RECYCLING - SINGLE STREAM', 'GARBAGE COLLECTIONS', 'BRUSH', 'GARBAGE COLLECTIONS', 'GARBAGE COLLECTIONS', 'BULK', 'GARBAGE COLLECTIONS', 'BRUSH', 'GARBAGE COLLECTIONS', 'GARBAGE COLLECTIONS', 'GARBAGE COLLECTIONS', 'GARBAGE COLLECTIONS', 'GARBAGE COLLECTIONS', 'LITTER', 'TIRES', 'GARBAGE COLLECTIONS', 'GARBAGE COLLECTIONS', 'GARBAGE COLLECTIONS', 'BULK', 'GARBAGE COLLECTIONS', 'SWEEPING', 'GARBAGE COLLECTIONS', 'GARBAGE COLLECTIONS', 'RECYCLING - SINGLE STREAM', 'YARD TRIMMING', 'BRUSH', 'RECYCLING - SINGLE STREAM', 'RECYCLING - SINGLE STREAM', 'RECYCLING - SINGLE STREAM', 'YARD TRIMMING', 'GARBAGE COLLECTIONS', 'GARBAGE COLLECTIONS', 'GARBAGE COLLECTIONS', 'GARBAGE COLLECTIONS', 'GARBAGE COLLECTIONS', 'BRUSH', 'SWEEPING', 'SWEEPING', 'YARD TRIMMING', 'BRUSH', 'SWEEPING', 'GARBAGE COLLECTIONS', 'BULK', 'GARBAGE COLLECTIONS', 'RECYCLING - SINGLE STREAM', 'GARBAGE COLLECTIONS', 'BULK', 'YARD TRIMMING', 'BULK', 'RECYCLING - SINGLE STREAM', 'RECYCLING - SINGLE STREAM', 'YARD TRIMMING', 'GARBAGE COLLECTIONS', 'RECYCLING - SINGLE STREAM', 'BULK', 'RECYCLING - SINGLE STREAM', 'YARD TRIMMING', 'BULK', 'YARD TRIMMING', 'SWEEPING', 'BRUSH', 'GARBAGE COLLECTIONS', 'RECYCLING - SINGLE STREAM', 'GARBAGE COLLECTIONS', 'RECYCLING - SINGLE STREAM', 'RECYCLING - SINGLE STREAM', 'RECYCLING - SINGLE STREAM', 'BRUSH', 'DEAD ANIMAL', 'GARBAGE COLLECTIONS', 'GARBAGE COLLECTIONS', 'RECYCLING - SINGLE STREAM', 'BULK', 'GARBAGE COLLECTIONS', 'RECYCLING - SINGLE STREAM', 'GARBAGE COLLECTIONS', 'GARBAGE COLLECTIONS', 'YARD TRIMMING', 'RECYCLING - SINGLE STREAM', 'GARBAGE COLLECTIONS', 'GARBAGE COLLECTIONS', 'GARBAGE COLLECTIONS', 'RECYCLING - SINGLE STREAM', 'GARBAGE COLLECTIONS', 'BULK', 'GARBAGE COLLECTIONS', 'RECYCLING - SINGLE STREAM', 'GARBAGE COLLECTIONS', 'GARBAGE COLLECTIONS', 'RECYCLING - SINGLE STREAM', 'GARBAGE COLLECTIONS', 'YARD TRIMMING', 'GARBAGE COLLECTIONS', 'GARBAGE COLLECTIONS', 'GARBAGE COLLECTIONS', 'RECYCLING - SINGLE STREAM', 'GARBAGE COLLECTIONS', 'YARD TRIMMING', 'GARBAGE COLLECTIONS', 'YARD TRIMMING', 'GARBAGE COLLECTIONS', 'RECYCLING - SINGLE STREAM', 'YARD TRIMMING']",
            "count": 1
           },
           {
            "name": "['GARBAGE COLLECTIONS', 'GARBAGE COLLECTIONS', 'RECYCLING - SINGLE STREAM', 'DEAD ANIMAL', 'GARBAGE COLLECTIONS', 'GARBAGE COLLECTIONS', 'GARBAGE COLLECTIONS', 'RECYCLING - SINGLE STREAM', 'RECYCLING - SINGLE STREAM', 'BRUSH', 'GARBAGE COLLECTIONS', 'RECYCLING - SINGLE STREAM', 'GARBAGE COLLECTIONS', 'RECYCLING - SINGLE STREAM', 'GARBAGE COLLECTIONS', 'RECYCLING - SINGLE STREAM', 'BRUSH', 'BRUSH', 'GARBAGE COLLECTIONS', 'SWEEPING', 'BULK', 'RECYCLING - SINGLE STREAM', 'GARBAGE COLLECTIONS', 'BULK', 'GARBAGE COLLECTIONS', 'RECYCLING - SINGLE STREAM', 'YARD TRIMMING', 'GARBAGE COLLECTIONS', 'GARBAGE COLLECTIONS', 'RECYCLING - SINGLE STREAM', 'BULK', 'RECYCLING - SINGLE STREAM', 'YARD TRIMMING', 'RECYCLING - SINGLE STREAM', 'GARBAGE COLLECTIONS', 'TIRES', 'RECYCLING - SINGLE STREAM', 'GARBAGE COLLECTIONS', 'YARD TRIMMING', 'BRUSH', 'GARBAGE COLLECTIONS', 'BRUSH', 'RECYCLING - SINGLE STREAM', 'SWEEPING', 'BRUSH', 'SWEEPING', 'RECYCLING - SINGLE STREAM', 'YARD TRIMMING', 'GARBAGE COLLECTIONS', 'YARD TRIMMING', 'GARBAGE COLLECTIONS', 'GARBAGE COLLECTIONS', 'GARBAGE COLLECTIONS', 'RECYCLING - SINGLE STREAM', 'RECYCLING - SINGLE STREAM', 'GARBAGE COLLECTIONS', 'BULK', 'RECYCLING - SINGLE STREAM', 'BULK', 'RECYCLING - SINGLE STREAM', 'GARBAGE COLLECTIONS', 'BRUSH', 'GARBAGE COLLECTIONS', 'BULK', 'RECYCLING - SINGLE STREAM', 'BULK', 'GARBAGE COLLECTIONS', 'GARBAGE COLLECTIONS', 'GARBAGE COLLECTIONS', 'GARBAGE COLLECTIONS', 'GARBAGE COLLECTIONS', 'RECYCLING - SINGLE STREAM', 'RECYCLING - SINGLE STREAM', 'SWEEPING', 'GARBAGE COLLECTIONS', 'YARD TRIMMING', 'GARBAGE COLLECTIONS', 'RECYCLING - SINGLE STREAM', 'SWEEPING', 'YARD TRIMMING', 'SWEEPING', 'GARBAGE COLLECTIONS', 'GARBAGE COLLECTIONS', 'RECYCLING - SINGLE STREAM', 'RECYCLING - SINGLE STREAM', 'RECYCLING - SINGLE STREAM', 'BRUSH', 'GARBAGE COLLECTIONS', 'RECYCLING - SINGLE STREAM', 'GARBAGE COLLECTIONS', 'RECYCLING - SINGLE STREAM', 'GARBAGE COLLECTIONS', 'GARBAGE COLLECTIONS', 'GARBAGE COLLECTIONS', 'RECYCLING - SINGLE STREAM', 'RECYCLING - SINGLE STREAM', 'RECYCLING - SINGLE STREAM', 'YARD TRIMMING', 'GARBAGE COLLECTIONS', 'GARBAGE COLLECTIONS', 'RECYCLING - SINGLE STREAM', 'GARBAGE COLLECTIONS', 'GARBAGE COLLECTIONS', 'SWEEPING', 'RECYCLING - SINGLE STREAM', 'RECYCLING - SINGLE STREAM', 'BULK', 'RECYCLING - SINGLE STREAM', 'RECYCLING - SINGLE STREAM', 'YARD TRIMMING', 'GARBAGE COLLECTIONS', 'BULK', 'RECYCLING - SINGLE STREAM', 'GARBAGE COLLECTIONS', 'GARBAGE COLLECTIONS', 'RECYCLING - SINGLE STREAM', 'RECYCLING - SINGLE STREAM', 'YARD TRIMMING', 'RECYCLING - SINGLE STREAM', 'RECYCLING - SINGLE STREAM', 'BRUSH', 'BULK', 'GARBAGE COLLECTIONS', 'GARBAGE COLLECTIONS', 'GARBAGE COLLECTIONS', 'GARBAGE COLLECTIONS', 'RECYCLING - SINGLE STREAM', 'RECYCLING - SINGLE STREAM', 'RECYCLING - SINGLE STREAM', 'BRUSH', 'RECYCLING - SINGLE STREAM', 'RECYCLING - SINGLE STREAM', 'GARBAGE COLLECTIONS', 'RECYCLING - SINGLE STREAM', 'GARBAGE COLLECTIONS', 'GARBAGE COLLECTIONS', 'GARBAGE COLLECTIONS', 'YARD TRIMMING', 'BULK', 'BRUSH', 'BULK', 'YARD TRIMMING', 'RECYCLING - SINGLE STREAM', 'GARBAGE COLLECTIONS', 'GARBAGE COLLECTIONS', 'RECYCLING - SINGLE STREAM', 'GARBAGE COLLECTIONS', 'BULK', 'GARBAGE COLLECTIONS', 'RECYCLING - SINGLE STREAM', 'RECYCLING - SINGLE STREAM', 'GARBAGE COLLECTIONS', 'GARBAGE COLLECTIONS', 'GARBAGE COLLECTIONS', 'RECYCLING - SINGLE STREAM', 'SWEEPING', 'RECYCLING - SINGLE STREAM', 'BULK', 'RECYCLING - SINGLE STREAM', 'GARBAGE COLLECTIONS', 'RECYCLING - SINGLE STREAM', 'RECYCLING - SINGLE STREAM', 'GARBAGE COLLECTIONS', 'RECYCLING - SINGLE STREAM', 'GARBAGE COLLECTIONS', 'GARBAGE COLLECTIONS', 'RECYCLING - SINGLE STREAM', 'GARBAGE COLLECTIONS', 'RECYCLING - SINGLE STREAM', 'GARBAGE COLLECTIONS', 'RECYCLING - SINGLE STREAM', 'GARBAGE COLLECTIONS', 'BRUSH', 'RECYCLING - SINGLE STREAM', 'GARBAGE COLLECTIONS', 'SWEEPING', 'RECYCLING - SINGLE STREAM', 'RECYCLING - SINGLE STREAM', 'RECYCLING - SINGLE STREAM', 'RECYCLING - SINGLE STREAM', 'SWEEPING', 'RECYCLING - SINGLE STREAM', 'GARBAGE COLLECTIONS', 'GARBAGE COLLECTIONS', 'YARD TRIMMING', 'RECYCLING - SINGLE STREAM', 'GARBAGE COLLECTIONS', 'GARBAGE COLLECTIONS', 'GARBAGE COLLECTIONS', 'BULK', 'YARD TRIMMING', 'GARBAGE COLLECTIONS', 'GARBAGE COLLECTIONS', 'RECYCLING - SINGLE STREAM', 'RECYCLING - SINGLE STREAM', 'GARBAGE COLLECTIONS', 'GARBAGE COLLECTIONS', 'BRUSH', 'RECYCLING - SINGLE STREAM', 'GARBAGE COLLECTIONS', 'GARBAGE COLLECTIONS', 'RECYCLING - SINGLE STREAM', 'BRUSH', 'TIRES', 'DEAD ANIMAL', 'RECYCLING - SINGLE STREAM', 'GARBAGE COLLECTIONS', 'GARBAGE COLLECTIONS', 'YARD TRIMMING', 'YARD TRIMMING', 'GARBAGE COLLECTIONS', 'GARBAGE COLLECTIONS', 'BULK', 'SWEEPING', 'DEAD ANIMAL', 'GARBAGE COLLECTIONS', 'GARBAGE COLLECTIONS', 'YARD TRIMMING', 'BULK', 'GARBAGE COLLECTIONS', 'GARBAGE COLLECTIONS', 'RECYCLING - SINGLE STREAM', 'YARD TRIMMING', 'GARBAGE COLLECTIONS', 'GARBAGE COLLECTIONS', 'DEAD ANIMAL', 'YARD TRIMMING', 'GARBAGE COLLECTIONS', 'RECYCLING - SINGLE STREAM', 'GARBAGE COLLECTIONS', 'GARBAGE COLLECTIONS', 'RECYCLING - SINGLE STREAM', 'RECYCLING - SINGLE STREAM', 'GARBAGE COLLECTIONS', 'RECYCLING - SINGLE STREAM', 'RECYCLING - SINGLE STREAM', 'RECYCLING - SINGLE STREAM', 'GARBAGE COLLECTIONS', 'GARBAGE COLLECTIONS', 'RECYCLING - SINGLE STREAM', 'GARBAGE COLLECTIONS', 'GARBAGE COLLECTIONS', 'GARBAGE COLLECTIONS', 'RECYCLING - SINGLE STREAM', 'RECYCLING - SINGLE STREAM', 'RECYCLING - SINGLE STREAM', 'GARBAGE COLLECTIONS', 'GARBAGE COLLECTIONS', 'RECYCLING - SINGLE STREAM', 'RECYCLING - SINGLE STREAM', 'RECYCLING - SINGLE STREAM', 'RECYCLING - SINGLE STREAM', 'GARBAGE COLLECTIONS', 'RECYCLING - SINGLE STREAM', 'GARBAGE COLLECTIONS', 'GARBAGE COLLECTIONS', 'RECYCLING - SINGLE STREAM', 'RECYCLING - SINGLE STREAM', 'GARBAGE COLLECTIONS', 'GARBAGE COLLECTIONS', 'GARBAGE COLLECTIONS', 'RECYCLING - SINGLE STREAM', 'GARBAGE COLLECTIONS', 'BRUSH', 'GARBAGE COLLECTIONS', 'YARD TRIMMING', 'GARBAGE COLLECTIONS', 'YARD TRIMMING', 'YARD TRIMMING', 'BULK', 'DEAD ANIMAL', 'RECYCLING - SINGLE STREAM', 'GARBAGE COLLECTIONS', 'YARD TRIMMING', 'GARBAGE COLLECTIONS', 'RECYCLING - SINGLE STREAM', 'YARD TRIMMING', 'BULK', 'GARBAGE COLLECTIONS', 'YARD TRIMMING', 'YARD TRIMMING', 'RECYCLING - SINGLE STREAM', 'GARBAGE COLLECTIONS', 'RECYCLING - SINGLE STREAM', 'YARD TRIMMING', 'GARBAGE COLLECTIONS', 'GARBAGE COLLECTIONS', 'RECYCLING - SINGLE STREAM', 'GARBAGE COLLECTIONS', 'DEAD ANIMAL', 'YARD TRIMMING', 'GARBAGE COLLECTIONS', 'YARD TRIMMING', 'GARBAGE COLLECTIONS', 'GARBAGE COLLECTIONS', 'GARBAGE COLLECTIONS', 'GARBAGE COLLECTIONS', 'GARBAGE COLLECTIONS', 'GARBAGE COLLECTIONS', 'RECYCLING - SINGLE STREAM', 'GARBAGE COLLECTIONS', 'GARBAGE COLLECTIONS', 'GARBAGE COLLECTIONS', 'YARD TRIMMING', 'SWEEPING', 'RECYCLING - SINGLE STREAM', 'GARBAGE COLLECTIONS', 'RECYCLING - SINGLE STREAM', 'GARBAGE COLLECTIONS', 'RECYCLING - SINGLE STREAM', 'GARBAGE COLLECTIONS', 'GARBAGE COLLECTIONS', 'GARBAGE COLLECTIONS', 'RECYCLING - SINGLE STREAM', 'GARBAGE COLLECTIONS', 'YARD TRIMMING', 'GARBAGE COLLECTIONS', 'GARBAGE COLLECTIONS', 'RECYCLING - SINGLE STREAM', 'GARBAGE COLLECTIONS', 'GARBAGE COLLECTIONS', 'YARD TRIMMING', 'SWEEPING', 'GARBAGE COLLECTIONS', 'GARBAGE COLLECTIONS', 'YARD TRIMMING', 'RECYCLING - SINGLE STREAM', 'YARD TRIMMING', 'GARBAGE COLLECTIONS', 'BULK', 'RECYCLING - SINGLE STREAM', 'RECYCLING - SINGLE STREAM', 'YARD TRIMMING', 'RECYCLING - SINGLE STREAM', 'BULK', 'GARBAGE COLLECTIONS', 'YARD TRIMMING', 'YARD TRIMMING', 'GARBAGE COLLECTIONS', 'GARBAGE COLLECTIONS', 'GARBAGE COLLECTIONS', 'GARBAGE COLLECTIONS', 'BULK', 'GARBAGE COLLECTIONS', 'BULK', 'RECYCLING - SINGLE STREAM', 'YARD TRIMMING', 'LITTER', 'RECYCLING - SINGLE STREAM', 'GARBAGE COLLECTIONS', 'GARBAGE COLLECTIONS', 'RECYCLING - SINGLE STREAM', 'GARBAGE COLLECTIONS', 'YARD TRIMMING', 'GARBAGE COLLECTIONS', 'GARBAGE COLLECTIONS', 'RECYCLING - SINGLE STREAM', 'GARBAGE COLLECTIONS', 'RECYCLING - SINGLE STREAM', 'GARBAGE COLLECTIONS', 'YARD TRIMMING', 'GARBAGE COLLECTIONS', 'RECYCLING - SINGLE STREAM', 'RECYCLING - SINGLE STREAM', 'BRUSH', 'GARBAGE COLLECTIONS', 'RECYCLING - SINGLE STREAM', 'GARBAGE COLLECTIONS', 'GARBAGE COLLECTIONS', 'RECYCLING - SINGLE STREAM', 'SWEEPING', 'RECYCLING - SINGLE STREAM', 'YARD TRIMMING', 'RECYCLING - SINGLE STREAM', 'GARBAGE COLLECTIONS', 'BRUSH', 'RECYCLING - SINGLE STREAM', 'RECYCLING - SINGLE STREAM', 'BULK', 'GARBAGE COLLECTIONS', 'GARBAGE COLLECTIONS', 'BRUSH', 'GARBAGE COLLECTIONS', 'SWEEPING', 'DEAD ANIMAL', 'BULK', 'SWEEPING', 'GARBAGE COLLECTIONS', 'BRUSH', 'DEAD ANIMAL', 'RECYCLING - SINGLE STREAM', 'RECYCLING - SINGLE STREAM', 'GARBAGE COLLECTIONS', 'BULK', 'GARBAGE COLLECTIONS', 'SWEEPING', 'SWEEPING', 'SWEEPING', 'GARBAGE COLLECTIONS', 'GARBAGE COLLECTIONS', 'RECYCLING - SINGLE STREAM', 'RECYCLING - SINGLE STREAM', 'GARBAGE COLLECTIONS', 'GARBAGE COLLECTIONS', 'GARBAGE COLLECTIONS', 'RECYCLING - SINGLE STREAM', 'RECYCLING - SINGLE STREAM', 'BULK', 'RECYCLING - SINGLE STREAM', 'YARD TRIMMING', 'RECYCLING - SINGLE STREAM', 'YARD TRIMMING', 'YARD TRIMMING', 'GARBAGE COLLECTIONS', 'YARD TRIMMING', 'RECYCLING - SINGLE STREAM', 'RECYCLING - SINGLE STREAM', 'RECYCLING - SINGLE STREAM', 'RECYCLING - SINGLE STREAM', 'GARBAGE COLLECTIONS', 'YARD TRIMMING', 'GARBAGE COLLECTIONS', 'GARBAGE COLLECTIONS', 'YARD TRIMMING', 'YARD TRIMMING', 'BRUSH', 'RECYCLING - SINGLE STREAM', 'BULK', 'YARD TRIMMING', 'RECYCLING - SINGLE STREAM', 'BULK', 'SWEEPING', 'RECYCLING - SINGLE STREAM', 'GARBAGE COLLECTIONS', 'RECYCLING - SINGLE STREAM', 'GARBAGE COLLECTIONS', 'BULK', 'GARBAGE COLLECTIONS', 'RECYCLING - SINGLE STREAM', 'BULK', 'RECYCLING - SINGLE STREAM', 'BULK', 'RECYCLING - SINGLE STREAM', 'BULK', 'YARD TRIMMING', 'GARBAGE COLLECTIONS', 'RECYCLING - SINGLE STREAM', 'YARD TRIMMING', 'RECYCLING - SINGLE STREAM', 'GARBAGE COLLECTIONS', 'BRUSH', 'GARBAGE COLLECTIONS', 'GARBAGE COLLECTIONS', 'RECYCLING - SINGLE STREAM', 'GARBAGE COLLECTIONS', 'YARD TRIMMING', 'RECYCLING - SINGLE STREAM', 'GARBAGE COLLECTIONS', 'GARBAGE COLLECTIONS', 'SWEEPING', 'GARBAGE COLLECTIONS', 'YARD TRIMMING', 'GARBAGE COLLECTIONS', 'BULK', 'GARBAGE COLLECTIONS', 'RECYCLING - SINGLE STREAM', 'BRUSH', 'GARBAGE COLLECTIONS', 'BULK', 'RECYCLING - SINGLE STREAM', 'GARBAGE COLLECTIONS', 'SWEEPING', 'GARBAGE COLLECTIONS', 'RECYCLING - SINGLE STREAM', 'RECYCLING - SINGLE STREAM', 'GARBAGE COLLECTIONS', 'BULK', 'RECYCLING - SINGLE STREAM', 'RECYCLING - SINGLE STREAM', 'GARBAGE COLLECTIONS', 'GARBAGE COLLECTIONS', 'RECYCLING - SINGLE STREAM', 'BRUSH', 'SWEEPING', 'RECYCLING - SINGLE STREAM', 'RECYCLING - SINGLE STREAM', 'SWEEPING', 'GARBAGE COLLECTIONS', 'BRUSH', 'GARBAGE COLLECTIONS', 'SWEEPING', 'RECYCLING - SINGLE STREAM', 'GARBAGE COLLECTIONS', 'GARBAGE COLLECTIONS', 'YARD TRIMMING', 'BULK', 'BRUSH', 'GARBAGE COLLECTIONS', 'YARD TRIMMING', 'GARBAGE COLLECTIONS', 'RECYCLING - SINGLE STREAM', 'RECYCLING - SINGLE STREAM', 'SWEEPING', 'YARD TRIMMING', 'RECYCLING - SINGLE STREAM', 'RECYCLING - SINGLE STREAM', 'RECYCLING - SINGLE STREAM', 'GARBAGE COLLECTIONS', 'RECYCLING - SINGLE STREAM', 'GARBAGE COLLECTIONS', 'BRUSH', 'YARD TRIMMING', 'GARBAGE COLLECTIONS', 'RECYCLING - SINGLE STREAM', 'GARBAGE COLLECTIONS', 'GARBAGE COLLECTIONS', 'RECYCLING - SINGLE STREAM', 'GARBAGE COLLECTIONS', 'YARD TRIMMING', 'GARBAGE COLLECTIONS', 'TIRES', 'SWEEPING', 'YARD TRIMMING', 'YARD TRIMMING', 'RECYCLING - SINGLE STREAM', 'GARBAGE COLLECTIONS', 'GARBAGE COLLECTIONS', 'GARBAGE COLLECTIONS', 'GARBAGE COLLECTIONS', 'GARBAGE COLLECTIONS', 'TIRES', 'GARBAGE COLLECTIONS', 'YARD TRIMMING', 'GARBAGE COLLECTIONS', 'GARBAGE COLLECTIONS', 'YARD TRIMMING', 'RECYCLING - SINGLE STREAM', 'YARD TRIMMING', 'GARBAGE COLLECTIONS', 'SWEEPING', 'BULK', 'BULK', 'GARBAGE COLLECTIONS', 'RECYCLING - SINGLE STREAM', 'RECYCLING - SINGLE STREAM', 'RECYCLING - SINGLE STREAM', 'BULK', 'RECYCLING - SINGLE STREAM', 'SWEEPING', 'RECYCLING - SINGLE STREAM', 'GARBAGE COLLECTIONS', 'RECYCLING - SINGLE STREAM', 'GARBAGE COLLECTIONS', 'BULK', 'RECYCLING - SINGLE STREAM', 'YARD TRIMMING', 'BULK', 'GARBAGE COLLECTIONS', 'BULK', 'RECYCLING - SINGLE STREAM', 'BULK', 'GARBAGE COLLECTIONS', 'GARBAGE COLLECTIONS', 'GARBAGE COLLECTIONS', 'GARBAGE COLLECTIONS', 'RECYCLING - SINGLE STREAM', 'RECYCLING - SINGLE STREAM', 'BULK', 'YARD TRIMMING', 'BULK', 'GARBAGE COLLECTIONS', 'GARBAGE COLLECTIONS', 'RECYCLING - SINGLE STREAM', 'GARBAGE COLLECTIONS', 'SWEEPING', 'RECYCLING - SINGLE STREAM', 'YARD TRIMMING', 'GARBAGE COLLECTIONS', 'GARBAGE COLLECTIONS', 'RECYCLING - SINGLE STREAM', 'GARBAGE COLLECTIONS', 'RECYCLING - SINGLE STREAM', 'RECYCLING - SINGLE STREAM', 'GARBAGE COLLECTIONS', 'GARBAGE COLLECTIONS', 'GARBAGE COLLECTIONS', 'YARD TRIMMING', 'GARBAGE COLLECTIONS', 'BULK', 'YARD TRIMMING', 'GARBAGE COLLECTIONS', 'BULK', 'GARBAGE COLLECTIONS', 'YARD TRIMMING', 'GARBAGE COLLECTIONS', 'SWEEPING', 'GARBAGE COLLECTIONS', 'GARBAGE COLLECTIONS', 'YARD TRIMMING', 'GARBAGE COLLECTIONS', 'GARBAGE COLLECTIONS', 'GARBAGE COLLECTIONS', 'YARD TRIMMING', 'RECYCLING - SINGLE STREAM', 'GARBAGE COLLECTIONS', 'BULK', 'GARBAGE COLLECTIONS', 'YARD TRIMMING', 'SWEEPING', 'RECYCLING - SINGLE STREAM', 'YARD TRIMMING', 'YARD TRIMMING', 'RECYCLING - SINGLE STREAM', 'YARD TRIMMING', 'GARBAGE COLLECTIONS', 'GARBAGE COLLECTIONS', 'GARBAGE COLLECTIONS', 'RECYCLING - SINGLE STREAM', 'RECYCLING - SINGLE STREAM', 'GARBAGE COLLECTIONS', 'RECYCLING - SINGLE STREAM', 'YARD TRIMMING', 'GARBAGE COLLECTIONS', 'RECYCLING - SINGLE STREAM', 'GARBAGE COLLECTIONS', 'GARBAGE COLLECTIONS', 'YARD TRIMMING', 'GARBAGE COLLECTIONS', 'GARBAGE COLLECTIONS', 'GARBAGE COLLECTIONS', 'RECYCLING - SINGLE STREAM', 'RECYCLING - SINGLE STREAM', 'RECYCLING - SINGLE STREAM', 'BULK', 'YARD TRIMMING', 'GARBAGE COLLECTIONS', 'YARD TRIMMING', 'GARBAGE COLLECTIONS', 'SWEEPING', 'RECYCLING - SINGLE STREAM', 'YARD TRIMMING', 'RECYCLING - SINGLE STREAM', 'GARBAGE COLLECTIONS', 'BULK', 'RECYCLING - SINGLE STREAM', 'RECYCLING - SINGLE STREAM', 'RECYCLING - SINGLE STREAM', 'RECYCLING - SINGLE STREAM', 'RECYCLING - SINGLE STREAM', 'RECYCLING - SINGLE STREAM', 'RECYCLING - SINGLE STREAM', 'YARD TRIMMING', 'YARD TRIMMING', 'BRUSH', 'RECYCLING - SINGLE STREAM', 'RECYCLING - SINGLE STREAM', 'RECYCLING - SINGLE STREAM', 'GARBAGE COLLECTIONS', 'GARBAGE COLLECTIONS', 'RECYCLING - SINGLE STREAM', 'GARBAGE COLLECTIONS', 'GARBAGE COLLECTIONS', 'RECYCLING - SINGLE STREAM', 'GARBAGE COLLECTIONS', 'RECYCLING - SINGLE STREAM', 'GARBAGE COLLECTIONS', 'SWEEPING', 'SWEEPING', 'RECYCLING - SINGLE STREAM', 'SWEEPING', 'BRUSH', 'RECYCLING - SINGLE STREAM', 'YARD TRIMMING', 'RECYCLING - SINGLE STREAM', 'GARBAGE COLLECTIONS', 'YARD TRIMMING', 'GARBAGE COLLECTIONS', 'RECYCLING - SINGLE STREAM', 'GARBAGE COLLECTIONS', 'SWEEPING', 'GARBAGE COLLECTIONS', 'BULK', 'BULK', 'GARBAGE COLLECTIONS', 'YARD TRIMMING', 'YARD TRIMMING', 'GARBAGE COLLECTIONS', 'RECYCLING - SINGLE STREAM', 'GARBAGE COLLECTIONS', 'BULK', 'GARBAGE COLLECTIONS', 'GARBAGE COLLECTIONS', 'LITTER', 'GARBAGE COLLECTIONS', 'GARBAGE COLLECTIONS', 'GARBAGE COLLECTIONS', 'GARBAGE COLLECTIONS', 'YARD TRIMMING', 'GARBAGE COLLECTIONS', 'YARD TRIMMING', 'SWEEPING', 'GARBAGE COLLECTIONS', 'GARBAGE COLLECTIONS', 'YARD TRIMMING', 'RECYCLING - SINGLE STREAM', 'YARD TRIMMING', 'RECYCLING - SINGLE STREAM', 'BULK', 'GARBAGE COLLECTIONS', 'YARD TRIMMING', 'GARBAGE COLLECTIONS', 'BULK', 'GARBAGE COLLECTIONS', 'GARBAGE COLLECTIONS', 'RECYCLING - SINGLE STREAM', 'GARBAGE COLLECTIONS', 'GARBAGE COLLECTIONS', 'SWEEPING', 'YARD TRIMMING', 'YARD TRIMMING', 'GARBAGE COLLECTIONS', 'RECYCLING - SINGLE STREAM', 'YARD TRIMMING', 'RECYCLING - SINGLE STREAM', 'SWEEPING', 'BULK', 'RECYCLING - SINGLE STREAM', 'GARBAGE COLLECTIONS', 'RECYCLING - SINGLE STREAM', 'GARBAGE COLLECTIONS', 'RECYCLING - SINGLE STREAM', 'DEAD ANIMAL', 'GARBAGE COLLECTIONS', 'GARBAGE COLLECTIONS', 'GARBAGE COLLECTIONS', 'RECYCLING - SINGLE STREAM', 'RECYCLING - SINGLE STREAM', 'RECYCLING - SINGLE STREAM', 'GARBAGE COLLECTIONS', 'RECYCLING - SINGLE STREAM', 'GARBAGE COLLECTIONS', 'RECYCLING - SINGLE STREAM', 'GARBAGE COLLECTIONS', 'RECYCLING - SINGLE STREAM', 'GARBAGE COLLECTIONS', 'GARBAGE COLLECTIONS', 'BULK', 'GARBAGE COLLECTIONS', 'GARBAGE COLLECTIONS', 'BULK', 'YARD TRIMMING', 'GARBAGE COLLECTIONS', 'YARD TRIMMING']",
            "count": 1
           },
           {
            "name": "311 others",
            "count": 311
           }
          ]
         }
        },
        {
         "name": "Load Weight",
         "dtype": "float64",
         "stats": {
          "unique_count": 313,
          "nan_count": 0,
          "min": "7715144.0",
          "max": "12595938.0",
          "histogram": [
           {
            "bin_start": 7715144,
            "bin_end": 8203223.4,
            "count": 11
           },
           {
            "bin_start": 8203223.4,
            "bin_end": 8691302.8,
            "count": 57
           },
           {
            "bin_start": 8691302.8,
            "bin_end": 9179382.2,
            "count": 74
           },
           {
            "bin_start": 9179382.2,
            "bin_end": 9667461.6,
            "count": 62
           },
           {
            "bin_start": 9667461.6,
            "bin_end": 10155541,
            "count": 47
           },
           {
            "bin_start": 10155541,
            "bin_end": 10643620.4,
            "count": 34
           },
           {
            "bin_start": 10643620.4,
            "bin_end": 11131699.8,
            "count": 17
           },
           {
            "bin_start": 11131699.8,
            "bin_end": 11619779.2,
            "count": 6
           },
           {
            "bin_start": 11619779.2,
            "bin_end": 12107858.600000001,
            "count": 4
           },
           {
            "bin_start": 12107858.600000001,
            "bin_end": 12595938,
            "count": 1
           }
          ]
         }
        },
        {
         "name": "Dropoff Site",
         "dtype": "object",
         "stats": {
          "unique_count": 313,
          "nan_count": 0,
          "categories": [
           {
            "name": "['TDS LANDFILL', 'TDS LANDFILL', 'TDS LANDFILL', 'TDS LANDFILL', 'BALCONES RECYCLING', 'TDS LANDFILL', 'TDS LANDFILL', 'BALCONES RECYCLING', 'TDS LANDFILL', 'BALCONES RECYCLING', 'TDS LANDFILL', 'MRF', 'TDS LANDFILL', 'TDS LANDFILL', 'BALCONES RECYCLING', 'TDS LANDFILL', 'BALCONES RECYCLING', 'BALCONES RECYCLING', 'TDS - MRF', 'TDS LANDFILL', 'TDS LANDFILL', 'TDS LANDFILL', 'HORNSBY BEND', 'HORNSBY BEND', 'BALCONES RECYCLING', 'ORGANICS BY GOSH', 'BALCONES RECYCLING', 'HORNSBY BEND', 'BALCONES RECYCLING', 'TDS - MRF', 'HORNSBY BEND', 'ORGANICS BY GOSH', 'TDS LANDFILL', 'TDS LANDFILL', 'TDS LANDFILL', 'TDS - MRF', 'BALCONES RECYCLING', 'TDS LANDFILL', 'HORNSBY BEND', 'TDS LANDFILL', 'TDS LANDFILL', 'TDS LANDFILL', 'TDS LANDFILL', 'HORNSBY BEND', 'TDS LANDFILL', 'TDS LANDFILL', 'TDS LANDFILL', 'BALCONES RECYCLING', 'TDS LANDFILL', 'TDS LANDFILL', 'BALCONES RECYCLING', 'TDS LANDFILL', 'HORNSBY BEND', 'TDS LANDFILL', 'TDS LANDFILL', 'TDS LANDFILL', 'TDS LANDFILL', 'HORNSBY BEND', 'HORNSBY BEND', 'HORNSBY BEND', 'BALCONES RECYCLING', 'HORNSBY BEND', 'TDS LANDFILL', 'TDS LANDFILL', 'TDS LANDFILL', 'TDS LANDFILL', 'TDS LANDFILL', 'TDS LANDFILL', 'TDS - MRF', 'TDS LANDFILL', 'TDS LANDFILL', 'BALCONES RECYCLING', 'BALCONES RECYCLING', 'TDS LANDFILL', 'TDS LANDFILL', 'TDS LANDFILL', 'TDS LANDFILL', 'TDS LANDFILL', 'HORNSBY BEND', 'BALCONES RECYCLING', 'TDS LANDFILL', 'TDS LANDFILL', 'TDS LANDFILL', 'TDS LANDFILL', 'TDS LANDFILL', 'TDS LANDFILL', 'HORNSBY BEND', 'BALCONES RECYCLING', 'TDS - MRF', 'BALCONES RECYCLING', 'TDS LANDFILL', 'BALCONES RECYCLING', 'BALCONES RECYCLING', 'HORNSBY BEND', 'BALCONES RECYCLING', 'TDS LANDFILL', 'TDS LANDFILL', 'TDS - MRF', 'TDS LANDFILL', 'TDS - MRF', 'TDS LANDFILL', 'TDS LANDFILL', 'HORNSBY BEND', 'TDS LANDFILL', 'HORNSBY BEND', 'TDS LANDFILL', 'TDS LANDFILL', 'BALCONES RECYCLING', 'HORNSBY BEND', 'TDS LANDFILL', 'TDS LANDFILL', 'BALCONES RECYCLING', 'TDS LANDFILL', 'TDS - MRF', 'TDS - MRF', 'HORNSBY BEND', 'BALCONES RECYCLING', 'TDS - MRF', 'BALCONES RECYCLING', 'BALCONES RECYCLING', 'TDS LANDFILL', 'TDS LANDFILL', 'TDS LANDFILL', 'TDS LANDFILL', 'TDS LANDFILL', 'TDS LANDFILL', 'TDS LANDFILL', 'TDS LANDFILL', 'TDS LANDFILL', 'TDS LANDFILL', 'BALCONES RECYCLING', 'TDS LANDFILL', 'HORNSBY BEND', 'TDS LANDFILL', 'TDS LANDFILL', 'TDS LANDFILL', 'TDS LANDFILL', 'TDS LANDFILL', 'TDS LANDFILL', 'TDS LANDFILL', 'TDS LANDFILL', 'BALCONES RECYCLING', 'TDS LANDFILL', 'HORNSBY BEND', 'BALCONES RECYCLING', 'TDS LANDFILL', 'TDS LANDFILL', 'TDS LANDFILL', 'TDS LANDFILL', 'TDS - MRF', 'HORNSBY BEND', 'TDS LANDFILL', 'TDS - MRF', 'TDS LANDFILL', 'TDS LANDFILL', 'TDS - MRF', 'TDS LANDFILL', 'TDS LANDFILL', 'BALCONES RECYCLING', 'HORNSBY BEND', 'HORNSBY BEND', 'TDS LANDFILL', 'TDS LANDFILL', 'TDS LANDFILL', 'TDS LANDFILL', 'TDS LANDFILL', 'TDS LANDFILL', 'BALCONES RECYCLING', 'TDS LANDFILL', 'ORGANICS BY GOSH', 'BALCONES RECYCLING', 'TDS - MRF', 'BALCONES RECYCLING', 'HORNSBY BEND', 'TDS LANDFILL', 'BALCONES RECYCLING', 'TDS LANDFILL', 'TDS LANDFILL', 'TDS - MRF', 'TDS LANDFILL', 'BALCONES RECYCLING', 'TDS LANDFILL', 'BALCONES RECYCLING', 'HORNSBY BEND', 'HORNSBY BEND', 'BALCONES RECYCLING', 'HORNSBY BEND', 'TDS LANDFILL', 'TDS - MRF', 'BALCONES RECYCLING', 'HORNSBY BEND', 'TDS LANDFILL', 'TDS - MRF', 'TDS LANDFILL', 'TDS LANDFILL', 'TDS LANDFILL', 'TDS LANDFILL', 'TDS LANDFILL', 'BALCONES RECYCLING', 'TDS LANDFILL', 'HORNSBY BEND', 'TDS LANDFILL', 'TDS LANDFILL', 'BALCONES RECYCLING', 'TDS LANDFILL', 'TDS LANDFILL', 'TDS LANDFILL', 'TDS - MRF', 'TDS LANDFILL', 'TDS LANDFILL', 'TDS LANDFILL', 'BALCONES RECYCLING', 'TDS - MRF', 'HORNSBY BEND', 'HORNSBY BEND', 'TDS LANDFILL', 'HORNSBY BEND', 'TDS - MRF', 'TDS LANDFILL', 'TDS - MRF', 'TDS - MRF', 'TDS LANDFILL', 'BALCONES RECYCLING', 'BALCONES RECYCLING', 'BALCONES RECYCLING', 'TDS LANDFILL', 'BALCONES RECYCLING', 'TDS LANDFILL', 'TDS LANDFILL', 'HORNSBY BEND', 'TDS LANDFILL', 'TDS LANDFILL', 'TDS LANDFILL', 'TDS LANDFILL', 'TDS LANDFILL', 'TDS LANDFILL', 'TDS LANDFILL', 'TDS LANDFILL', 'TDS LANDFILL', 'BALCONES RECYCLING', 'HORNSBY BEND', 'HORNSBY BEND', 'BALCONES RECYCLING', 'BALCONES RECYCLING', 'HORNSBY BEND', 'TDS - MRF', 'TDS LANDFILL', 'TDS - MRF', 'TDS LANDFILL', 'TDS - MRF', 'TDS - MRF', 'TDS - MRF', 'TDS LANDFILL', 'TDS LANDFILL', 'TDS - MRF', 'TDS - MRF', 'TDS LANDFILL', 'TDS LANDFILL', 'HORNSBY BEND', 'TDS LANDFILL', 'TDS - MRF', 'TDS LANDFILL', 'TDS LANDFILL', 'HORNSBY BEND', 'TDS - MRF', 'TDS LANDFILL', 'BALCONES RECYCLING', 'BALCONES RECYCLING', 'TDS - MRF', 'TDS LANDFILL', 'HORNSBY BEND', 'TDS LANDFILL', 'TDS - MRF', 'TDS LANDFILL', 'TDS - MRF', 'TDS LANDFILL', 'TDS LANDFILL', 'TDS LANDFILL', 'TDS LANDFILL', 'TDS LANDFILL', 'TDS LANDFILL', 'TDS LANDFILL', 'TDS LANDFILL', 'TDS LANDFILL', 'BALCONES RECYCLING', 'TDS LANDFILL', 'TDS LANDFILL', 'BALCONES RECYCLING', 'TDS LANDFILL', 'HORNSBY BEND', 'TDS - MRF', 'BALCONES RECYCLING', 'BALCONES RECYCLING', 'TDS LANDFILL', 'TDS LANDFILL', 'TDS - MRF', 'TDS LANDFILL', 'BALCONES RECYCLING', 'TDS LANDFILL', 'HORNSBY BEND', 'TDS - MRF', 'TDS LANDFILL', 'TDS LANDFILL', 'TDS LANDFILL', 'BALCONES RECYCLING', 'TDS LANDFILL', 'TDS - MRF', 'TDS LANDFILL', 'TDS LANDFILL', 'TDS - MRF', 'TDS LANDFILL', 'TDS LANDFILL', 'HORNSBY BEND', 'TDS LANDFILL', 'HORNSBY BEND', 'TDS LANDFILL', 'BALCONES RECYCLING', 'TDS LANDFILL', 'BALCONES RECYCLING', 'BALCONES RECYCLING', 'TDS LANDFILL', 'TDS LANDFILL', 'HORNSBY BEND', 'TDS LANDFILL', 'TDS LANDFILL', 'TDS LANDFILL', 'TDS LANDFILL', 'HORNSBY BEND', 'HORNSBY BEND', 'HORNSBY BEND', 'TDS - MRF', 'TDS LANDFILL', 'HORNSBY BEND', 'TDS - MRF', 'BALCONES RECYCLING', 'HORNSBY BEND', 'TDS LANDFILL', 'TDS LANDFILL', 'TDS LANDFILL', 'TDS LANDFILL', 'TDS - MRF', 'TDS LANDFILL', 'BALCONES RECYCLING', 'BALCONES RECYCLING', 'TDS LANDFILL', 'TDS - MRF', 'HORNSBY BEND', 'TDS - MRF', 'TDS LANDFILL', 'TDS - MRF', 'TDS LANDFILL', 'TDS LANDFILL', 'TDS - MRF', 'TDS LANDFILL', 'TDS - MRF', 'BALCONES RECYCLING', 'BALCONES RECYCLING', 'TDS LANDFILL', 'BALCONES RECYCLING', 'HORNSBY BEND', 'BALCONES RECYCLING', 'HORNSBY BEND', 'TDS LANDFILL', 'TDS LANDFILL', 'TDS LANDFILL', 'HORNSBY BEND', 'BALCONES RECYCLING', 'HORNSBY BEND', 'TDS LANDFILL', 'BALCONES RECYCLING', 'HORNSBY BEND', 'BALCONES RECYCLING', 'BALCONES RECYCLING', 'TDS LANDFILL', 'HORNSBY BEND', 'TDS LANDFILL', 'TDS LANDFILL', 'TDS LANDFILL', 'TDS - MRF', 'HORNSBY BEND', 'TDS - MRF', 'BALCONES RECYCLING', 'TDS LANDFILL', 'TDS LANDFILL', 'TDS LANDFILL', 'HORNSBY BEND', 'TDS LANDFILL', 'TDS LANDFILL', 'TDS - MRF', 'BALCONES RECYCLING', 'TDS LANDFILL', 'BALCONES RECYCLING', 'BALCONES RECYCLING', 'BALCONES RECYCLING', 'TDS LANDFILL', 'HORNSBY BEND', 'BALCONES RECYCLING', 'TDS LANDFILL', 'TDS LANDFILL', 'BALCONES RECYCLING', 'BALCONES RECYCLING', 'BALCONES RECYCLING', 'TDS LANDFILL', 'TDS LANDFILL', 'HORNSBY BEND', 'HORNSBY BEND', 'TDS - MRF', 'TDS - MRF', 'ORGANICS BY GOSH', 'TDS LANDFILL', 'TDS LANDFILL', 'TDS LANDFILL', 'TDS LANDFILL', 'TDS LANDFILL', 'TDS - MRF', 'TDS LANDFILL', 'TDS - MRF', 'TDS LANDFILL', 'TDS LANDFILL', 'TDS LANDFILL', 'TDS LANDFILL', 'TDS LANDFILL', 'BALCONES RECYCLING', 'TDS LANDFILL', 'TDS LANDFILL', 'TDS LANDFILL', 'TDS LANDFILL', 'BALCONES RECYCLING', 'TDS LANDFILL', 'BALCONES RECYCLING', 'TDS LANDFILL', 'TDS LANDFILL', 'TDS LANDFILL', 'HORNSBY BEND', 'TDS LANDFILL', 'TDS LANDFILL', 'TDS LANDFILL', 'TDS LANDFILL', 'BALCONES RECYCLING', 'TDS LANDFILL', 'TDS LANDFILL', 'BALCONES RECYCLING', 'TDS LANDFILL', 'TDS - MRF', 'TDS LANDFILL', 'BALCONES WOODS', 'BALCONES RECYCLING', 'HORNSBY BEND', 'TDS LANDFILL', 'TDS - MRF', 'TDS - MRF', 'TDS LANDFILL', 'BALCONES RECYCLING', 'TDS LANDFILL', 'TDS LANDFILL', 'HORNSBY BEND', 'TDS LANDFILL', 'TDS LANDFILL', 'HORNSBY BEND', 'TDS LANDFILL', 'TDS LANDFILL', 'TDS LANDFILL', 'TDS - MRF', 'TDS LANDFILL', 'TDS LANDFILL', 'TDS LANDFILL', 'TDS - MRF', 'BALCONES RECYCLING', 'TDS LANDFILL', 'TDS LANDFILL', 'TDS LANDFILL', 'TDS LANDFILL', 'BALCONES RECYCLING', 'TDS LANDFILL', 'BALCONES RECYCLING', 'TDS LANDFILL', 'TDS LANDFILL', 'BALCONES RECYCLING', 'TDS LANDFILL', 'BALCONES RECYCLING', 'BALCONES RECYCLING', 'TDS LANDFILL', 'TDS LANDFILL', 'TDS LANDFILL', 'HORNSBY BEND', 'HORNSBY BEND', 'HORNSBY BEND', 'TDS LANDFILL', 'TDS LANDFILL', 'TDS LANDFILL', 'TDS LANDFILL', 'BALCONES RECYCLING', 'TDS LANDFILL', 'TDS LANDFILL', 'BALCONES RECYCLING', 'TDS LANDFILL', 'TDS LANDFILL', 'HORNSBY BEND', 'HORNSBY BEND', 'TDS - MRF', 'TDS LANDFILL', 'ORGANICS BY GOSH', 'TDS LANDFILL', 'TDS LANDFILL', 'BALCONES RECYCLING', 'BALCONES RECYCLING', 'TDS - MRF', 'TDS LANDFILL', 'TDS LANDFILL', 'HORNSBY BEND', 'TDS - MRF', 'HORNSBY BEND', 'TDS LANDFILL', 'BALCONES RECYCLING', 'TDS LANDFILL', 'BALCONES RECYCLING', 'TDS LANDFILL', 'TDS LANDFILL', 'TDS LANDFILL', 'TDS - MRF', 'TDS LANDFILL', 'TDS LANDFILL', 'HORNSBY BEND', 'HORNSBY BEND', 'TDS LANDFILL', 'TDS LANDFILL', 'TDS LANDFILL', 'TDS LANDFILL', 'TDS LANDFILL', 'HORNSBY BEND', 'TDS LANDFILL', 'TDS LANDFILL', 'BALCONES RECYCLING', 'HORNSBY BEND', 'TDS LANDFILL', 'BALCONES RECYCLING', 'TDS LANDFILL', 'TDS LANDFILL', 'TDS LANDFILL', 'TDS LANDFILL', 'TDS LANDFILL', 'TDS LANDFILL', 'TDS LANDFILL', 'TDS LANDFILL', 'TDS LANDFILL', 'TDS - MRF', 'TDS LANDFILL', 'TDS LANDFILL', 'TDS - MRF', 'TDS LANDFILL', 'HORNSBY BEND', 'HORNSBY BEND', 'TDS LANDFILL', 'BALCONES RECYCLING', 'TDS - MRF', 'BALCONES RECYCLING', 'BALCONES RECYCLING', 'TDS - MRF', 'TDS - MRF', 'TDS - MRF', 'HORNSBY BEND', 'TDS - MRF', 'BALCONES RECYCLING', 'TDS LANDFILL', 'BALCONES RECYCLING', 'TDS LANDFILL', 'TDS LANDFILL', 'BALCONES RECYCLING', 'TDS - MRF', 'TDS LANDFILL', 'MRF', 'HORNSBY BEND', 'BALCONES RECYCLING', 'HORNSBY BEND', 'TDS LANDFILL', 'TDS LANDFILL', 'TDS LANDFILL', 'TDS - MRF', 'BALCONES RECYCLING', 'TDS LANDFILL', 'TDS LANDFILL', 'TDS LANDFILL', 'BALCONES RECYCLING', 'HORNSBY BEND', 'TDS LANDFILL', 'TDS LANDFILL', 'TDS LANDFILL', 'TDS LANDFILL', 'BALCONES RECYCLING', 'TDS - MRF', 'TDS LANDFILL', 'TDS LANDFILL', 'TDS LANDFILL', 'TDS LANDFILL', 'TDS - MRF', 'BALCONES RECYCLING', 'TDS LANDFILL', 'TDS - MRF', 'TDS - MRF', 'BALCONES RECYCLING', 'TDS LANDFILL', 'TDS LANDFILL', 'TDS LANDFILL', 'TDS LANDFILL', 'TDS LANDFILL', 'BALCONES RECYCLING', 'TDS - MRF', 'TDS LANDFILL', 'TDS LANDFILL', 'BALCONES RECYCLING', 'BALCONES RECYCLING', 'TDS LANDFILL', 'TDS - MRF', 'TDS LANDFILL', 'BALCONES RECYCLING', 'TDS LANDFILL', 'BALCONES RECYCLING', 'HORNSBY BEND', 'TDS LANDFILL', 'TDS LANDFILL', 'BALCONES RECYCLING', 'TDS - MRF', 'TDS LANDFILL', 'HORNSBY BEND', 'TDS - MRF', 'BALCONES RECYCLING', 'TDS - MRF', 'TDS LANDFILL', 'BALCONES RECYCLING', 'TDS LANDFILL', 'TDS - MRF', 'TDS LANDFILL', 'TDS - MRF', 'TDS LANDFILL', 'TDS LANDFILL', 'TDS LANDFILL', 'TDS LANDFILL', 'TDS LANDFILL', 'HORNSBY BEND', 'TDS LANDFILL', 'HORNSBY BEND', 'HORNSBY BEND', 'TDS LANDFILL', 'BALCONES RECYCLING', 'TDS - MRF', 'BALCONES RECYCLING', 'BALCONES RECYCLING', 'TDS LANDFILL', 'TDS LANDFILL', 'TDS - MRF', 'BALCONES RECYCLING', 'HORNSBY BEND', 'TDS LANDFILL', 'TDS LANDFILL', 'TDS LANDFILL', 'TDS LANDFILL', 'TDS LANDFILL', 'TDS LANDFILL', 'TDS LANDFILL', 'TDS LANDFILL', 'TDS LANDFILL', 'TDS LANDFILL', 'TDS LANDFILL', 'HORNSBY BEND', 'TDS - MRF', 'HORNSBY BEND', 'TDS LANDFILL', 'HORNSBY BEND', 'BALCONES RECYCLING', 'TDS LANDFILL', 'TDS LANDFILL', 'HORNSBY BEND', 'TDS LANDFILL', 'TDS - MRF', 'TDS LANDFILL', 'TDS LANDFILL', 'TDS - MRF', 'TDS LANDFILL', 'HORNSBY BEND', 'TDS LANDFILL', 'TDS LANDFILL', 'TDS LANDFILL', 'TDS LANDFILL', 'TDS LANDFILL', 'ORGANICS BY GOSH', 'TDS LANDFILL', 'BALCONES RECYCLING', 'TDS - MRF', 'TDS LANDFILL', 'HORNSBY BEND', 'TDS LANDFILL', 'TDS LANDFILL', 'TDS LANDFILL', 'TDS LANDFILL', 'HORNSBY BEND', 'TDS LANDFILL', 'TDS - MRF', 'TDS LANDFILL', 'TDS LANDFILL', 'TDS LANDFILL', 'TDS LANDFILL', 'MRF', 'TDS LANDFILL', 'TDS LANDFILL', 'TDS LANDFILL', 'TDS LANDFILL', 'TDS LANDFILL', 'TDS LANDFILL', 'TDS LANDFILL', 'TDS LANDFILL', 'TDS - MRF', 'HORNSBY BEND', 'HORNSBY BEND', 'BALCONES RECYCLING', 'TDS - MRF', 'BALCONES RECYCLING', 'HORNSBY BEND', 'TDS LANDFILL', 'TDS LANDFILL', 'TDS LANDFILL', 'TDS LANDFILL', 'TDS LANDFILL', 'HORNSBY BEND', 'TDS LANDFILL', 'TDS LANDFILL', 'ORGANICS BY GOSH', 'HORNSBY BEND', 'TDS LANDFILL', 'TDS LANDFILL', 'TDS LANDFILL', 'TDS LANDFILL', 'BALCONES RECYCLING', 'TDS LANDFILL', 'TDS LANDFILL', 'HORNSBY BEND', 'TDS LANDFILL', 'TDS - MRF', 'TDS - MRF', 'HORNSBY BEND', 'TDS LANDFILL', 'TDS - MRF', 'TDS LANDFILL', 'TDS - MRF', 'HORNSBY BEND', 'TDS LANDFILL', 'HORNSBY BEND', 'TDS LANDFILL', 'HORNSBY BEND', 'TDS LANDFILL', 'BALCONES RECYCLING', 'TDS LANDFILL', 'BALCONES RECYCLING', 'TDS - MRF', 'BALCONES RECYCLING', 'HORNSBY BEND', 'TDS LANDFILL', 'TDS LANDFILL', 'TDS LANDFILL', 'BALCONES RECYCLING', 'TDS LANDFILL', 'TDS LANDFILL', 'BALCONES RECYCLING', 'TDS LANDFILL', 'TDS LANDFILL', 'HORNSBY BEND', 'TDS - MRF', 'TDS LANDFILL', 'TDS LANDFILL', 'TDS LANDFILL', 'BALCONES RECYCLING', 'TDS LANDFILL', 'TDS LANDFILL', 'TDS LANDFILL', 'BALCONES RECYCLING', 'TDS LANDFILL', 'TDS LANDFILL', 'TDS - MRF', 'TDS LANDFILL', 'HORNSBY BEND', 'TDS LANDFILL', 'TDS LANDFILL', 'TDS LANDFILL', 'BALCONES RECYCLING', 'TDS LANDFILL', 'HORNSBY BEND', 'TDS LANDFILL', 'HORNSBY BEND', 'TDS LANDFILL', 'BALCONES RECYCLING', 'HORNSBY BEND']",
            "count": 1
           },
           {
            "name": "['TDS LANDFILL', 'TDS LANDFILL', 'TDS - MRF', 'TDS LANDFILL', 'TDS LANDFILL', 'TDS LANDFILL', 'TDS LANDFILL', 'BALCONES RECYCLING', 'BALCONES RECYCLING', 'HORNSBY BEND', 'TDS LANDFILL', 'BALCONES RECYCLING', 'TDS LANDFILL', 'BALCONES RECYCLING', 'TDS LANDFILL', 'BALCONES RECYCLING', 'HORNSBY BEND', 'HORNSBY BEND', 'TDS LANDFILL', 'TDS LANDFILL', 'TDS LANDFILL', 'TDS - MRF', 'TDS LANDFILL', 'TDS LANDFILL', 'TDS LANDFILL', 'TDS - MRF', 'HORNSBY BEND', 'TDS LANDFILL', 'TDS LANDFILL', 'BALCONES RECYCLING', 'TDS LANDFILL', 'BALCONES RECYCLING', 'HORNSBY BEND', 'TDS - MRF', 'TDS LANDFILL', 'MRF', 'BALCONES RECYCLING', 'TDS LANDFILL', 'HORNSBY BEND', 'HORNSBY BEND', 'TDS LANDFILL', 'HORNSBY BEND', 'BALCONES RECYCLING', 'TDS LANDFILL', 'HORNSBY BEND', 'TDS LANDFILL', 'BALCONES RECYCLING', 'ORGANICS BY GOSH', 'TDS LANDFILL', 'HORNSBY BEND', 'TDS LANDFILL', 'TDS LANDFILL', 'TDS LANDFILL', 'TDS - MRF', 'BALCONES RECYCLING', 'TDS LANDFILL', 'TDS LANDFILL', 'BALCONES RECYCLING', 'TDS LANDFILL', 'TDS - MRF', 'TDS LANDFILL', 'HORNSBY BEND', 'TDS LANDFILL', 'TDS LANDFILL', 'BALCONES RECYCLING', 'TDS LANDFILL', 'TDS LANDFILL', 'TDS LANDFILL', 'TDS LANDFILL', 'TDS LANDFILL', 'TDS LANDFILL', 'TDS - MRF', 'BALCONES RECYCLING', 'TDS LANDFILL', 'TDS LANDFILL', 'HORNSBY BEND', 'TDS LANDFILL', 'TDS - MRF', 'TDS LANDFILL', 'HORNSBY BEND', 'TDS LANDFILL', 'TDS LANDFILL', 'TDS LANDFILL', 'TDS - MRF', 'TDS - MRF', 'BALCONES RECYCLING', 'HORNSBY BEND', 'TDS LANDFILL', 'TDS - MRF', 'TDS LANDFILL', 'BALCONES RECYCLING', 'TDS LANDFILL', 'TDS LANDFILL', 'TDS LANDFILL', 'BALCONES RECYCLING', 'BALCONES RECYCLING', 'BALCONES RECYCLING', 'HORNSBY BEND', 'TDS LANDFILL', 'TDS LANDFILL', 'BALCONES RECYCLING', 'TDS LANDFILL', 'TDS LANDFILL', 'TDS LANDFILL', 'TDS - MRF', 'TDS - MRF', 'TDS LANDFILL', 'TDS - MRF', 'TDS - MRF', 'HORNSBY BEND', 'TDS LANDFILL', 'TDS LANDFILL', 'TDS - MRF', 'TDS LANDFILL', 'TDS LANDFILL', 'BALCONES RECYCLING', 'TDS - MRF', 'HORNSBY BEND', 'TDS - MRF', 'TDS - MRF', 'HORNSBY BEND', 'TDS LANDFILL', 'TDS LANDFILL', 'TDS LANDFILL', 'TDS LANDFILL', 'TDS LANDFILL', 'BALCONES RECYCLING', 'BALCONES RECYCLING', 'TDS - MRF', 'HORNSBY BEND', 'BALCONES RECYCLING', 'BALCONES RECYCLING', 'TDS LANDFILL', 'TDS - MRF', 'TDS LANDFILL', 'TDS LANDFILL', 'TDS LANDFILL', 'HORNSBY BEND', 'TDS LANDFILL', 'HORNSBY BEND', 'TDS LANDFILL', 'HORNSBY BEND', 'BALCONES RECYCLING', 'TDS LANDFILL', 'TDS LANDFILL', 'BALCONES RECYCLING', 'TDS LANDFILL', 'TDS LANDFILL', 'TDS LANDFILL', 'BALCONES RECYCLING', 'TDS - MRF', 'TDS LANDFILL', 'TDS LANDFILL', 'TDS LANDFILL', 'TDS - MRF', 'TDS LANDFILL', 'BALCONES RECYCLING', 'TDS LANDFILL', 'BALCONES RECYCLING', 'TDS LANDFILL', 'BALCONES RECYCLING', 'TDS - MRF', 'TDS LANDFILL', 'BALCONES RECYCLING', 'TDS LANDFILL', 'TDS LANDFILL', 'TDS - MRF', 'TDS LANDFILL', 'BALCONES RECYCLING', 'TDS LANDFILL', 'TDS - MRF', 'TDS LANDFILL', 'HORNSBY BEND', 'BALCONES RECYCLING', 'TDS LANDFILL', 'TDS LANDFILL', 'BALCONES RECYCLING', 'TDS - MRF', 'BALCONES RECYCLING', 'TDS - MRF', 'TDS LANDFILL', 'TDS - MRF', 'TDS LANDFILL', 'TDS LANDFILL', 'HORNSBY BEND', 'BALCONES RECYCLING', 'TDS LANDFILL', 'TDS LANDFILL', 'TDS LANDFILL', 'TDS LANDFILL', 'HORNSBY BEND', 'TDS LANDFILL', 'TDS LANDFILL', 'TDS - MRF', 'TDS - MRF', 'TDS LANDFILL', 'TDS LANDFILL', 'HORNSBY BEND', 'BALCONES RECYCLING', 'TDS LANDFILL', 'TDS LANDFILL', 'BALCONES RECYCLING', 'HORNSBY BEND', 'MRF', 'TDS LANDFILL', 'BALCONES RECYCLING', 'TDS LANDFILL', 'TDS LANDFILL', 'HORNSBY BEND', 'HORNSBY BEND', 'TDS LANDFILL', 'TDS LANDFILL', 'TDS LANDFILL', 'TDS LANDFILL', 'TDS LANDFILL', 'TDS LANDFILL', 'TDS LANDFILL', 'HORNSBY BEND', 'TDS LANDFILL', 'TDS LANDFILL', 'TDS LANDFILL', 'TDS - MRF', 'HORNSBY BEND', 'TDS LANDFILL', 'TDS LANDFILL', 'TDS LANDFILL', 'ORGANICS BY GOSH', 'TDS LANDFILL', 'BALCONES RECYCLING', 'TDS LANDFILL', 'TDS LANDFILL', 'TDS - MRF', 'BALCONES RECYCLING', 'TDS LANDFILL', 'BALCONES RECYCLING', 'BALCONES RECYCLING', 'BALCONES RECYCLING', 'TDS LANDFILL', 'TDS LANDFILL', 'BALCONES RECYCLING', 'TDS LANDFILL', 'TDS LANDFILL', 'TDS LANDFILL', 'TDS - MRF', 'BALCONES RECYCLING', 'TDS - MRF', 'TDS LANDFILL', 'TDS LANDFILL', 'TDS - MRF', 'BALCONES RECYCLING', 'BALCONES RECYCLING', 'BALCONES RECYCLING', 'TDS LANDFILL', 'TDS - MRF', 'TDS LANDFILL', 'TDS LANDFILL', 'TDS - MRF', 'BALCONES RECYCLING', 'TDS LANDFILL', 'TDS LANDFILL', 'TDS LANDFILL', 'TDS - MRF', 'TDS LANDFILL', 'HORNSBY BEND', 'TDS LANDFILL', 'HORNSBY BEND', 'TDS LANDFILL', 'HORNSBY BEND', 'HORNSBY BEND', 'TDS LANDFILL', 'TDS LANDFILL', 'TDS - MRF', 'TDS LANDFILL', 'HORNSBY BEND', 'TDS LANDFILL', 'TDS - MRF', 'HORNSBY BEND', 'TDS LANDFILL', 'TDS LANDFILL', 'HORNSBY BEND', 'ORGANICS BY GOSH', 'BALCONES RECYCLING', 'TDS LANDFILL', 'TDS - MRF', 'ORGANICS BY GOSH', 'TDS LANDFILL', 'TDS LANDFILL', 'BALCONES RECYCLING', 'TDS LANDFILL', 'TDS LANDFILL', 'HORNSBY BEND', 'TDS LANDFILL', 'GREAT NORTHERN', 'TDS LANDFILL', 'TDS LANDFILL', 'TDS LANDFILL', 'TDS LANDFILL', 'TDS LANDFILL', 'TDS LANDFILL', 'BALCONES RECYCLING', 'TDS LANDFILL', 'TDS LANDFILL', 'TDS LANDFILL', 'HORNSBY BEND', 'TDS LANDFILL', 'BALCONES RECYCLING', 'TDS LANDFILL', 'TDS - MRF', 'TDS LANDFILL', 'TDS - MRF', 'TDS LANDFILL', 'TDS LANDFILL', 'TDS LANDFILL', 'TDS - MRF', 'TDS LANDFILL', 'HORNSBY BEND', 'TDS LANDFILL', 'TDS LANDFILL', 'BALCONES RECYCLING', 'TDS LANDFILL', 'TDS LANDFILL', 'HORNSBY BEND', 'TDS LANDFILL', 'TDS LANDFILL', 'TDS LANDFILL', 'HORNSBY BEND', 'TDS - MRF', 'HORNSBY BEND', 'TDS LANDFILL', 'TDS LANDFILL', 'TDS - MRF', 'TDS - MRF', 'ORGANICS BY GOSH', 'TDS - MRF', 'TDS LANDFILL', 'TDS LANDFILL', 'HORNSBY BEND', 'HORNSBY BEND', 'TDS LANDFILL', 'TDS LANDFILL', 'TDS LANDFILL', 'TDS LANDFILL', 'TDS LANDFILL', 'TDS LANDFILL', 'TDS LANDFILL', 'TDS - MRF', 'HORNSBY BEND', 'TDS LANDFILL', 'BALCONES RECYCLING', 'TDS LANDFILL', 'TDS LANDFILL', 'BALCONES RECYCLING', 'TDS LANDFILL', 'HORNSBY BEND', 'TDS LANDFILL', 'TDS LANDFILL', 'TDS - MRF', 'TDS LANDFILL', 'TDS - MRF', 'TDS LANDFILL', 'HORNSBY BEND', 'TDS LANDFILL', 'TDS - MRF', 'BALCONES RECYCLING', 'HORNSBY BEND', 'TDS LANDFILL', 'BALCONES RECYCLING', 'TDS LANDFILL', 'TDS LANDFILL', 'BALCONES RECYCLING', 'TDS LANDFILL', 'TDS - MRF', 'HORNSBY BEND', 'TDS - MRF', 'TDS LANDFILL', 'HORNSBY BEND', 'BALCONES RECYCLING', 'TDS - MRF', 'TDS LANDFILL', 'TDS LANDFILL', 'TDS LANDFILL', 'HORNSBY BEND', 'TDS LANDFILL', 'TDS LANDFILL', 'TDS LANDFILL', 'TDS LANDFILL', 'TDS LANDFILL', 'TDS LANDFILL', 'HORNSBY BEND', 'TDS LANDFILL', 'TDS - MRF', 'TDS - MRF', 'TDS LANDFILL', 'TDS LANDFILL', 'TDS LANDFILL', 'TDS LANDFILL', 'TDS LANDFILL', 'TDS LANDFILL', 'TDS LANDFILL', 'TDS LANDFILL', 'TDS - MRF', 'BALCONES RECYCLING', 'TDS LANDFILL', 'TDS LANDFILL', 'TDS LANDFILL', 'BALCONES RECYCLING', 'BALCONES RECYCLING', 'TDS LANDFILL', 'BALCONES RECYCLING', 'HORNSBY BEND', 'TDS - MRF', 'HORNSBY BEND', 'HORNSBY BEND', 'TDS LANDFILL', 'HORNSBY BEND', 'TDS - MRF', 'BALCONES RECYCLING', 'BALCONES RECYCLING', 'BALCONES RECYCLING', 'TDS LANDFILL', 'HORNSBY BEND', 'TDS LANDFILL', 'TDS LANDFILL', 'HORNSBY BEND', 'HORNSBY BEND', 'HORNSBY BEND', 'BALCONES RECYCLING', 'TDS LANDFILL', 'HORNSBY BEND', 'BALCONES RECYCLING', 'TDS LANDFILL', 'TDS LANDFILL', 'BALCONES RECYCLING', 'TDS LANDFILL', 'BALCONES RECYCLING', 'TDS LANDFILL', 'TDS LANDFILL', 'TDS LANDFILL', 'TDS - MRF', 'TDS LANDFILL', 'BALCONES RECYCLING', 'TDS LANDFILL', 'BALCONES RECYCLING', 'TDS LANDFILL', 'HORNSBY BEND', 'TDS LANDFILL', 'BALCONES RECYCLING', 'HORNSBY BEND', 'BALCONES RECYCLING', 'TDS LANDFILL', 'HORNSBY BEND', 'TDS LANDFILL', 'TDS LANDFILL', 'TDS - MRF', 'TDS LANDFILL', 'HORNSBY BEND', 'BALCONES RECYCLING', 'TDS LANDFILL', 'TDS LANDFILL', 'TDS LANDFILL', 'TDS LANDFILL', 'HORNSBY BEND', 'TDS LANDFILL', 'TDS LANDFILL', 'TDS LANDFILL', 'BALCONES RECYCLING', 'HORNSBY BEND', 'TDS LANDFILL', 'TDS LANDFILL', 'BALCONES RECYCLING', 'TDS LANDFILL', 'TDS LANDFILL', 'TDS LANDFILL', 'BALCONES RECYCLING', 'BALCONES RECYCLING', 'TDS LANDFILL', 'TDS LANDFILL', 'TDS - MRF', 'BALCONES RECYCLING', 'TDS LANDFILL', 'TDS LANDFILL', 'BALCONES RECYCLING', 'HORNSBY BEND', 'TDS LANDFILL', 'TDS - MRF', 'BALCONES RECYCLING', 'TDS LANDFILL', 'TDS LANDFILL', 'HORNSBY BEND', 'TDS LANDFILL', 'TDS LANDFILL', 'TDS - MRF', 'TDS LANDFILL', 'TDS LANDFILL', 'HORNSBY BEND', 'TDS LANDFILL', 'HORNSBY BEND', 'TDS LANDFILL', 'HORNSBY BEND', 'TDS LANDFILL', 'BALCONES RECYCLING', 'BALCONES RECYCLING', 'TDS LANDFILL', 'HORNSBY BEND', 'BALCONES RECYCLING', 'TDS - MRF', 'BALCONES RECYCLING', 'TDS LANDFILL', 'BALCONES RECYCLING', 'TDS LANDFILL', 'HORNSBY BEND', 'HORNSBY BEND', 'TDS LANDFILL', 'TDS - MRF', 'TDS LANDFILL', 'TDS LANDFILL', 'BALCONES RECYCLING', 'TDS LANDFILL', 'HORNSBY BEND', 'TDS LANDFILL', 'MRF', 'TDS LANDFILL', 'HORNSBY BEND', 'HORNSBY BEND', 'TDS - MRF', 'TDS LANDFILL', 'TDS LANDFILL', 'TDS LANDFILL', 'TDS LANDFILL', 'TDS LANDFILL', 'MRF', 'TDS LANDFILL', 'HORNSBY BEND', 'TDS LANDFILL', 'TDS LANDFILL', 'HORNSBY BEND', 'BALCONES RECYCLING', 'HORNSBY BEND', 'TDS LANDFILL', 'TDS LANDFILL', 'TDS LANDFILL', 'TDS LANDFILL', 'TDS LANDFILL', 'TDS - MRF', 'BALCONES RECYCLING', 'BALCONES RECYCLING', 'TDS LANDFILL', 'TDS - MRF', 'TDS LANDFILL', 'BALCONES RECYCLING', 'TDS LANDFILL', 'TDS - MRF', 'TDS LANDFILL', 'TDS LANDFILL', 'BALCONES RECYCLING', 'HORNSBY BEND', 'TDS LANDFILL', 'TDS LANDFILL', 'TDS LANDFILL', 'TDS - MRF', 'TDS LANDFILL', 'TDS LANDFILL', 'TDS LANDFILL', 'TDS LANDFILL', 'TDS LANDFILL', 'TDS - MRF', 'BALCONES RECYCLING', 'TDS LANDFILL', 'HORNSBY BEND', 'TDS LANDFILL', 'TDS LANDFILL', 'TDS LANDFILL', 'TDS - MRF', 'TDS LANDFILL', 'TDS LANDFILL', 'BALCONES RECYCLING', 'HORNSBY BEND', 'TDS LANDFILL', 'TDS LANDFILL', 'BALCONES RECYCLING', 'TDS LANDFILL', 'BALCONES RECYCLING', 'BALCONES RECYCLING', 'TDS LANDFILL', 'TDS LANDFILL', 'TDS LANDFILL', 'HORNSBY BEND', 'TDS LANDFILL', 'TDS LANDFILL', 'HORNSBY BEND', 'TDS LANDFILL', 'TDS LANDFILL', 'TDS LANDFILL', 'HORNSBY BEND', 'TDS LANDFILL', 'TDS LANDFILL', 'TDS LANDFILL', 'TDS LANDFILL', 'HORNSBY BEND', 'TDS LANDFILL', 'TDS LANDFILL', 'TDS LANDFILL', 'HORNSBY BEND', 'BALCONES RECYCLING', 'TDS LANDFILL', 'TDS LANDFILL', 'TDS LANDFILL', 'HORNSBY BEND', 'TDS LANDFILL', 'BALCONES RECYCLING', 'HORNSBY BEND', 'ORGANICS BY GOSH', 'TDS - MRF', 'HORNSBY BEND', 'TDS LANDFILL', 'TDS LANDFILL', 'TDS LANDFILL', 'BALCONES RECYCLING', 'TDS - MRF', 'TDS LANDFILL', 'BALCONES RECYCLING', 'HORNSBY BEND', 'TDS LANDFILL', 'TDS - MRF', 'TDS LANDFILL', 'TDS LANDFILL', 'ORGANICS BY GOSH', 'TDS LANDFILL', 'TDS LANDFILL', 'TDS LANDFILL', 'TDS - MRF', 'BALCONES RECYCLING', 'BALCONES RECYCLING', 'TDS LANDFILL', 'HORNSBY BEND', 'TDS LANDFILL', 'HORNSBY BEND', 'TDS LANDFILL', 'TDS LANDFILL', 'BALCONES RECYCLING', 'HORNSBY BEND', 'BALCONES RECYCLING', 'TDS LANDFILL', 'TDS LANDFILL', 'TDS - MRF', 'TDS - MRF', 'BALCONES RECYCLING', 'TDS - MRF', 'TDS - MRF', 'BALCONES RECYCLING', 'TDS - MRF', 'HORNSBY BEND', 'HORNSBY BEND', 'HORNSBY BEND', 'BALCONES RECYCLING', 'BALCONES RECYCLING', 'TDS - MRF', 'TDS LANDFILL', 'TDS LANDFILL', 'BALCONES RECYCLING', 'TDS LANDFILL', 'TDS LANDFILL', 'BALCONES RECYCLING', 'TDS LANDFILL', 'BALCONES RECYCLING', 'TDS LANDFILL', 'TDS LANDFILL', 'TDS LANDFILL', 'BALCONES RECYCLING', 'TDS LANDFILL', 'HORNSBY BEND', 'BALCONES RECYCLING', 'HORNSBY BEND', 'BALCONES RECYCLING', 'TDS LANDFILL', 'HORNSBY BEND', 'TDS LANDFILL', 'TDS - MRF', 'TDS LANDFILL', 'TDS LANDFILL', 'TDS LANDFILL', 'TDS LANDFILL', 'TDS LANDFILL', 'TDS LANDFILL', 'HORNSBY BEND', 'HORNSBY BEND', 'TDS LANDFILL', 'BALCONES RECYCLING', 'TDS LANDFILL', 'TDS LANDFILL', 'TDS LANDFILL', 'TDS LANDFILL', 'TDS LANDFILL', 'TDS LANDFILL', 'TDS LANDFILL', 'TDS LANDFILL', 'TDS LANDFILL', 'HORNSBY BEND', 'TDS LANDFILL', 'HORNSBY BEND', 'TDS LANDFILL', 'TDS LANDFILL', 'TDS LANDFILL', 'HORNSBY BEND', 'TDS - MRF', 'HORNSBY BEND', 'BALCONES RECYCLING', 'TDS LANDFILL', 'TDS LANDFILL', 'HORNSBY BEND', 'TDS LANDFILL', 'TDS LANDFILL', 'TDS LANDFILL', 'TDS LANDFILL', 'BALCONES RECYCLING', 'TDS LANDFILL', 'TDS LANDFILL', 'TDS LANDFILL', 'HORNSBY BEND', 'HORNSBY BEND', 'TDS LANDFILL', 'TDS - MRF', 'HORNSBY BEND', 'BALCONES RECYCLING', 'TDS LANDFILL', 'TDS LANDFILL', 'BALCONES RECYCLING', 'TDS LANDFILL', 'BALCONES RECYCLING', 'TDS LANDFILL', 'BALCONES RECYCLING', 'TDS LANDFILL', 'TDS LANDFILL', 'TDS LANDFILL', 'TDS LANDFILL', 'BALCONES RECYCLING', 'TDS - MRF', 'BALCONES RECYCLING', 'TDS LANDFILL', 'TDS - MRF', 'TDS LANDFILL', 'BALCONES RECYCLING', 'TDS LANDFILL', 'BALCONES RECYCLING', 'TDS LANDFILL', 'TDS LANDFILL', 'TDS LANDFILL', 'TDS LANDFILL', 'TDS LANDFILL', 'TDS LANDFILL', 'HORNSBY BEND', 'TDS LANDFILL', 'HORNSBY BEND']",
            "count": 1
           },
           {
            "name": "311 others",
            "count": 311
           }
          ]
         }
        },
        {
         "name": "Route Type",
         "dtype": "object",
         "stats": {
          "unique_count": 313,
          "nan_count": 0,
          "categories": [
           {
            "name": "['GARBAGE COLLECTION', 'GARBAGE COLLECTION', 'GARBAGE COLLECTION', 'BULK', 'RECYCLING - SINGLE STREAM', 'GARBAGE COLLECTION', 'GARBAGE COLLECTION', 'RECYCLING - SINGLE STREAM', 'GARBAGE COLLECTION', 'RECYCLING - SINGLE STREAM', 'GARBAGE COLLECTION', 'BULK', 'GARBAGE COLLECTION', 'GARBAGE COLLECTION', 'RECYCLING - SINGLE STREAM', 'KAB', 'RECYCLING - SINGLE STREAM', 'RECYCLING - SINGLE STREAM', 'RECYCLING - SINGLE STREAM', 'BULK', 'GARBAGE COLLECTION', 'BULK', 'YARD TRIMMINGS', 'YARD TRIMMINGS', 'RECYCLING - SINGLE STREAM', 'YARD TRIMMINGS', 'RECYCLING - SINGLE STREAM', 'YARD TRIMMINGS', 'RECYCLING - SINGLE STREAM', 'RECYCLING - SINGLE STREAM', 'BRUSH', 'YARD TRIMMINGS', 'BULK', 'GARBAGE COLLECTION', 'GARBAGE COLLECTION', 'RECYCLING - SINGLE STREAM', 'RECYCLING - SINGLE STREAM', 'GARBAGE COLLECTION', 'YARD TRIMMINGS', 'GARBAGE COLLECTION', 'GARBAGE COLLECTION', 'BULK', 'GARBAGE COLLECTION', 'YARD TRIMMINGS', 'GARBAGE COLLECTION', 'GARBAGE COLLECTION', 'GARBAGE COLLECTION', 'RECYCLING - SINGLE STREAM', 'GARBAGE COLLECTION', 'BULK', 'RECYCLING - SINGLE STREAM', 'STORM', 'BRUSH', 'GARBAGE COLLECTION', 'GARBAGE COLLECTION', 'GARBAGE COLLECTION', 'GARBAGE COLLECTION', 'YARD TRIMMINGS', 'BRUSH', 'YARD TRIMMINGS', 'RECYCLING - SINGLE STREAM', 'YARD TRIMMINGS', 'GARBAGE COLLECTION', 'GARBAGE COLLECTION', 'GARBAGE COLLECTION', 'GARBAGE COLLECTION', 'GARBAGE COLLECTION', 'STORM', 'RECYCLING - SINGLE STREAM', 'GARBAGE COLLECTION', 'GARBAGE COLLECTION', 'RECYCLING - SINGLE STREAM', 'RECYCLING - SINGLE STREAM', 'GARBAGE COLLECTION', 'GARBAGE COLLECTION', 'GARBAGE COLLECTION', 'GARBAGE COLLECTION', 'GARBAGE COLLECTION', 'BRUSH', 'RECYCLING - SINGLE STREAM', 'GARBAGE COLLECTION', 'GARBAGE COLLECTION', 'GARBAGE COLLECTION', 'BULK', 'GARBAGE COLLECTION', 'GARBAGE COLLECTION', 'YARD TRIMMINGS', 'RECYCLING - SINGLE STREAM', 'RECYCLING - SINGLE STREAM', 'RECYCLING - SINGLE STREAM', 'GARBAGE COLLECTION', 'RECYCLING - SINGLE STREAM', 'RECYCLING - SINGLE STREAM', 'STORM', 'RECYCLING - SINGLE STREAM', 'GARBAGE COLLECTION', 'GARBAGE COLLECTION', 'RECYCLING - SINGLE STREAM', 'SWEEPER DUMPSITES', 'RECYCLING - SINGLE STREAM', 'GARBAGE COLLECTION', 'GARBAGE COLLECTION', 'BRUSH', 'GARBAGE COLLECTION', 'YARD TRIMMINGS', 'DEAD ANIMAL', 'GARBAGE COLLECTION', 'RECYCLING - SINGLE STREAM', 'YARD TRIMMINGS', 'GARBAGE COLLECTION', 'GARBAGE COLLECTION', 'RECYCLING - SINGLE STREAM', 'SWEEPER DUMPSITES', 'RECYCLING - SINGLE STREAM', 'RECYCLING - SINGLE STREAM', 'YARD TRIMMINGS', 'RECYCLING - SINGLE STREAM', 'RECYCLING - SINGLE STREAM', 'RECYCLING - SINGLE STREAM', 'RECYCLING - SINGLE STREAM', 'GARBAGE COLLECTION', 'GARBAGE COLLECTION', 'GARBAGE COLLECTION', 'GARBAGE COLLECTION', 'GARBAGE COLLECTION', 'GARBAGE COLLECTION', 'GARBAGE COLLECTION', 'GARBAGE COLLECTION', 'GARBAGE COLLECTION', 'GARBAGE COLLECTION', 'INHOUSE - RECYCLING', 'GARBAGE COLLECTION', 'YARD TRIMMINGS', 'GARBAGE COLLECTION', 'DEAD ANIMAL', 'GARBAGE COLLECTION', 'SWEEPER DUMPSITES', 'BULK', 'GARBAGE COLLECTION', 'GARBAGE COLLECTION', 'GARBAGE COLLECTION', 'RECYCLING - SINGLE STREAM', 'GARBAGE COLLECTION', 'BRUSH', 'RECYCLING - SINGLE STREAM', 'GARBAGE COLLECTION', 'GARBAGE COLLECTION', 'SWEEPER DUMPSITES', 'SWEEPER DUMPSITES', 'RECYCLING - SINGLE STREAM', 'YARD TRIMMINGS', 'GARBAGE COLLECTION', 'RECYCLING - SINGLE STREAM', 'GARBAGE COLLECTION', 'GARBAGE COLLECTION', 'RECYCLING - SINGLE STREAM', 'GARBAGE COLLECTION', 'GARBAGE COLLECTION', 'RECYCLING - SINGLE STREAM', 'YARD TRIMMINGS-ORGANICS', 'YARD TRIMMINGS', 'GARBAGE COLLECTION', 'GARBAGE COLLECTION', 'GARBAGE COLLECTION', 'SWEEPER DUMPSITES', 'GARBAGE COLLECTION', 'GARBAGE COLLECTION', 'RECYCLING - SINGLE STREAM', 'GARBAGE COLLECTION', 'YARD TRIMMINGS-ORGANICS', 'RECYCLING - SINGLE STREAM', 'RECYCLING - SINGLE STREAM', 'RECYCLING - SINGLE STREAM', 'YARD TRIMMINGS', 'GARBAGE COLLECTION', 'RECYCLING - SINGLE STREAM', 'GARBAGE COLLECTION', 'GARBAGE COLLECTION', 'RECYCLING - SINGLE STREAM', 'GARBAGE COLLECTION', 'RECYCLING - SINGLE STREAM', 'GARBAGE COLLECTION', 'RECYCLING - SINGLE STREAM', 'YARD TRIMMINGS', 'YARD TRIMMINGS', 'RECYCLING - SINGLE STREAM', 'YARD TRIMMINGS', 'GARBAGE COLLECTION', 'RECYCLING - SINGLE STREAM', 'RECYCLING - SINGLE STREAM', 'YARD TRIMMINGS', 'GARBAGE COLLECTION', 'RECYCLING - SINGLE STREAM', 'SWEEPER DUMPSITES', 'GARBAGE COLLECTION', 'GARBAGE COLLECTION', 'GARBAGE COLLECTION', 'SWEEPER DUMPSITES', 'RECYCLING - SINGLE STREAM', 'SWEEPER DUMPSITES', 'YARD TRIMMINGS', 'SWEEPER DUMPSITES', 'GARBAGE COLLECTION', 'RECYCLING - SINGLE STREAM', 'GARBAGE COLLECTION', 'GARBAGE COLLECTION', 'GARBAGE COLLECTION', 'RECYCLING - SINGLE STREAM', 'SWEEPER DUMPSITES', 'GARBAGE COLLECTION', 'GARBAGE COLLECTION', 'RECYCLING - SINGLE STREAM', 'RECYCLING - SINGLE STREAM', 'YARD TRIMMINGS', 'YARD TRIMMINGS', 'GARBAGE COLLECTION', 'YARD TRIMMINGS', 'RECYCLING - SINGLE STREAM', 'GARBAGE COLLECTION', 'RECYCLING - SINGLE STREAM', 'RECYCLING - SINGLE STREAM', 'GARBAGE COLLECTION', 'RECYCLING - SINGLE STREAM', 'RECYCLING - SINGLE STREAM', 'RECYCLING - SINGLE STREAM', 'GARBAGE COLLECTION', 'RECYCLING - SINGLE STREAM', 'GARBAGE COLLECTION', 'GARBAGE COLLECTION', 'YARD TRIMMINGS', 'STORM', 'GARBAGE COLLECTION', 'GARBAGE COLLECTION', 'GARBAGE COLLECTION', 'GARBAGE COLLECTION', 'GARBAGE COLLECTION', 'STORM', 'SWEEPER DUMPSITES', 'GARBAGE COLLECTION', 'RECYCLING - SINGLE STREAM', 'YARD TRIMMINGS', 'YARD TRIMMINGS', 'RECYCLING - SINGLE STREAM', 'RECYCLING - SINGLE STREAM', 'BRUSH', 'RECYCLING - SINGLE STREAM', 'SWEEPER DUMPSITES', 'RECYCLING - SINGLE STREAM', 'GARBAGE COLLECTION', 'RECYCLING - SINGLE STREAM', 'RECYCLING - SINGLE STREAM', 'RECYCLING - SINGLE STREAM', 'GARBAGE COLLECTION', 'GARBAGE COLLECTION', 'RECYCLING - SINGLE STREAM', 'RECYCLING - SINGLE STREAM', 'GARBAGE COLLECTION', 'GARBAGE COLLECTION', 'YARD TRIMMINGS', 'GARBAGE COLLECTION', 'RECYCLING - SINGLE STREAM', 'GARBAGE COLLECTION', 'GARBAGE COLLECTION', 'YARD TRIMMINGS', 'RECYCLING - SINGLE STREAM', 'STORM', 'RECYCLING - SINGLE STREAM', 'RECYCLING - SINGLE STREAM', 'RECYCLING - SINGLE STREAM', 'GARBAGE COLLECTION', 'BRUSH', 'GARBAGE COLLECTION', 'RECYCLING - SINGLE STREAM', 'GARBAGE COLLECTION', 'RECYCLING - SINGLE STREAM', 'STORM', 'GARBAGE COLLECTION', 'GARBAGE COLLECTION', 'GARBAGE COLLECTION', 'GARBAGE COLLECTION', 'GARBAGE COLLECTION', 'GARBAGE COLLECTION', 'GARBAGE COLLECTION', 'GARBAGE COLLECTION', 'RECYCLING - SINGLE STREAM', 'BULK', 'GARBAGE COLLECTION', 'RECYCLING - SINGLE STREAM', 'GARBAGE COLLECTION', 'YARD TRIMMINGS', 'INHOUSE - RECYCLING', 'RECYCLING - SINGLE STREAM', 'RECYCLING - SINGLE STREAM', 'GARBAGE COLLECTION', 'GARBAGE COLLECTION', 'RECYCLING - SINGLE STREAM', 'GARBAGE COLLECTION', 'RECYCLING - SINGLE STREAM', 'GARBAGE COLLECTION', 'YARD TRIMMINGS', 'RECYCLING - SINGLE STREAM', 'SWEEPER DUMPSITES', 'GARBAGE COLLECTION', 'BULK', 'RECYCLING - SINGLE STREAM', 'GARBAGE COLLECTION', 'RECYCLING - SINGLE STREAM', 'GARBAGE COLLECTION', 'STORM', 'RECYCLING - SINGLE STREAM', 'GARBAGE COLLECTION', 'GARBAGE COLLECTION', 'YARD TRIMMINGS', 'GARBAGE COLLECTION', 'YARD TRIMMINGS', 'SWEEPER DUMPSITES', 'RECYCLING - SINGLE STREAM', 'GARBAGE COLLECTION', 'RECYCLING - SINGLE STREAM', 'RECYCLING - SINGLE STREAM', 'GARBAGE COLLECTION', 'GARBAGE COLLECTION', 'YARD TRIMMINGS', 'GARBAGE COLLECTION', 'GARBAGE COLLECTION', 'GARBAGE COLLECTION', 'GARBAGE COLLECTION', 'YARD TRIMMINGS', 'YARD TRIMMINGS', 'YARD TRIMMINGS', 'RECYCLING - SINGLE STREAM', 'GARBAGE COLLECTION', 'YARD TRIMMINGS', 'RECYCLING - SINGLE STREAM', 'RECYCLING - SINGLE STREAM', 'YARD TRIMMINGS', 'STORM', 'STORM', 'GARBAGE COLLECTION', 'GARBAGE COLLECTION', 'RECYCLING - SINGLE STREAM', 'SWEEPER DUMPSITES', 'RECYCLING - SINGLE STREAM', 'RECYCLING - SINGLE STREAM', 'GARBAGE COLLECTION', 'RECYCLING - SINGLE STREAM', 'YARD TRIMMINGS', 'RECYCLING - SINGLE STREAM', 'GARBAGE COLLECTION', 'RECYCLING - SINGLE STREAM', 'GARBAGE COLLECTION', 'GARBAGE COLLECTION', 'INHOUSE - RECYCLING', 'SWEEPER DUMPSITES', 'RECYCLING - SINGLE STREAM', 'RECYCLING - SINGLE STREAM', 'RECYCLING - SINGLE STREAM', 'GARBAGE COLLECTION', 'RECYCLING - SINGLE STREAM', 'BRUSH', 'RECYCLING - SINGLE STREAM', 'YARD TRIMMINGS', 'BULK', 'GARBAGE COLLECTION', 'GARBAGE COLLECTION', 'BRUSH', 'RECYCLING - SINGLE STREAM', 'BRUSH', 'GARBAGE COLLECTION', 'RECYCLING - SINGLE STREAM', 'YARD TRIMMINGS', 'RECYCLING - SINGLE STREAM', 'RECYCLING - SINGLE STREAM', 'SWEEPER DUMPSITES', 'BRUSH', 'GARBAGE COLLECTION', 'GARBAGE COLLECTION', 'GARBAGE COLLECTION', 'RECYCLING - SINGLE STREAM', 'BRUSH', 'RECYCLING - SINGLE STREAM', 'RECYCLING - SINGLE STREAM', 'GARBAGE COLLECTION', 'GARBAGE COLLECTION', 'GARBAGE COLLECTION', 'YARD TRIMMINGS', 'GARBAGE COLLECTION', 'BULK', 'RECYCLING - SINGLE STREAM', 'RECYCLING - SINGLE STREAM', 'GARBAGE COLLECTION', 'RECYCLING - SINGLE STREAM', 'RECYCLING - SINGLE STREAM', 'RECYCLING - SINGLE STREAM', 'GARBAGE COLLECTION', 'YARD TRIMMINGS', 'RECYCLING - SINGLE STREAM', 'STORM', 'GARBAGE COLLECTION', 'RECYCLING - SINGLE STREAM', 'RECYCLING - SINGLE STREAM', 'RECYCLING - SINGLE STREAM', 'BULK', 'GARBAGE COLLECTION', 'BRUSH', 'BRUSH', 'RECYCLING - SINGLE STREAM', 'RECYCLING - SINGLE STREAM', 'YARD TRIMMINGS-ORGANICS', 'GARBAGE COLLECTION', 'GARBAGE COLLECTION', 'STORM', 'GARBAGE COLLECTION', 'GARBAGE COLLECTION', 'RECYCLING - SINGLE STREAM', 'GARBAGE COLLECTION', 'RECYCLING - SINGLE STREAM', 'GARBAGE COLLECTION', 'GARBAGE COLLECTION', 'GARBAGE COLLECTION', 'GARBAGE COLLECTION', 'STORM', 'RECYCLING - SINGLE STREAM', 'BULK', 'GARBAGE COLLECTION', 'SWEEPER DUMPSITES', 'BULK', 'RECYCLING - SINGLE STREAM', 'GARBAGE COLLECTION', 'RECYCLING - SINGLE STREAM', 'GARBAGE COLLECTION', 'GARBAGE COLLECTION', 'GARBAGE COLLECTION', 'YARD TRIMMINGS', 'GARBAGE COLLECTION', 'GARBAGE COLLECTION', 'GARBAGE COLLECTION', 'GARBAGE COLLECTION', 'RECYCLING - SINGLE STREAM', 'BULK', 'GARBAGE COLLECTION', 'RECYCLING - SINGLE STREAM', 'SWEEPER DUMPSITES', 'RECYCLING - SINGLE STREAM', 'GARBAGE COLLECTION', 'RECYCLING - SINGLE STREAM', 'RECYCLING - SINGLE STREAM', 'YARD TRIMMINGS', 'GARBAGE COLLECTION', 'RECYCLING - SINGLE STREAM', 'RECYCLING - SINGLE STREAM', 'GARBAGE COLLECTION', 'RECYCLING - SINGLE STREAM', 'GARBAGE COLLECTION', 'GARBAGE COLLECTION', 'YARD TRIMMINGS', 'SWEEPER DUMPSITES', 'BULK', 'YARD TRIMMINGS', 'GARBAGE COLLECTION', 'GARBAGE COLLECTION', 'GARBAGE COLLECTION', 'RECYCLING - SINGLE STREAM', 'DEAD ANIMAL', 'GARBAGE COLLECTION', 'GARBAGE COLLECTION', 'RECYCLING - SINGLE STREAM', 'RECYCLING - SINGLE STREAM', 'SWEEPER DUMPSITES', 'GARBAGE COLLECTION', 'GARBAGE COLLECTION', 'LITTER CONTROL', 'RECYCLING - SINGLE STREAM', 'GARBAGE COLLECTION', 'RECYCLING - SINGLE STREAM', 'DEAD ANIMAL', 'SWEEPER DUMPSITES', 'RECYCLING - SINGLE STREAM', 'BULK', 'INHOUSE - RECYCLING', 'RECYCLING - SINGLE STREAM', 'GARBAGE COLLECTION', 'GARBAGE COLLECTION', 'GARBAGE COLLECTION', 'YARD TRIMMINGS', 'YARD TRIMMINGS', 'YARD TRIMMINGS', 'GARBAGE COLLECTION', 'GARBAGE COLLECTION', 'GARBAGE COLLECTION', 'GARBAGE COLLECTION', 'RECYCLING - SINGLE STREAM', 'GARBAGE COLLECTION', 'STORM', 'RECYCLING - SINGLE STREAM', 'GARBAGE COLLECTION', 'BULK', 'BRUSH', 'YARD TRIMMINGS', 'RECYCLING - SINGLE STREAM', 'SWEEPER DUMPSITES', 'YARD TRIMMINGS-ORGANICS', 'GARBAGE COLLECTION', 'BULK', 'RECYCLING - SINGLE STREAM', 'RECYCLING - SINGLE STREAM', 'RECYCLING - SINGLE STREAM', 'GARBAGE COLLECTION', 'GARBAGE COLLECTION', 'BRUSH', 'RECYCLING - SINGLE STREAM', 'YARD TRIMMINGS', 'BULK', 'RECYCLING - SINGLE STREAM', 'GARBAGE COLLECTION', 'RECYCLING - SINGLE STREAM', 'GARBAGE COLLECTION', 'GARBAGE COLLECTION', 'BULK', 'RECYCLING - SINGLE STREAM', 'STORM', 'BULK', 'YARD TRIMMINGS', 'YARD TRIMMINGS', 'STORM', 'SWEEPER DUMPSITES', 'SWEEPER DUMPSITES', 'GARBAGE COLLECTION', 'BULK', 'YARD TRIMMINGS', 'GARBAGE COLLECTION', 'GARBAGE COLLECTION', 'RECYCLING - SINGLE STREAM', 'BRUSH', 'GARBAGE COLLECTION', 'INHOUSE - RECYCLING', 'SWEEPER DUMPSITES', 'BULK', 'GARBAGE COLLECTION', 'GARBAGE COLLECTION', 'SWEEPER DUMPSITES', 'GARBAGE COLLECTION', 'GARBAGE COLLECTION', 'GARBAGE COLLECTION', 'GARBAGE COLLECTION', 'RECYCLING - SINGLE STREAM', 'GARBAGE COLLECTION', 'GARBAGE COLLECTION', 'RECYCLING - SINGLE STREAM', 'GARBAGE COLLECTION', 'YARD TRIMMINGS', 'YARD TRIMMINGS', 'GARBAGE COLLECTION', 'RECYCLING - SINGLE STREAM', 'RECYCLING - SINGLE STREAM', 'RECYCLING - SINGLE STREAM', 'RECYCLING - SINGLE STREAM', 'RECYCLING - SINGLE STREAM', 'RECYCLING - SINGLE STREAM', 'RECYCLING - SINGLE STREAM', 'YARD TRIMMINGS', 'RECYCLING - SINGLE STREAM', 'RECYCLING - SINGLE STREAM', 'GARBAGE COLLECTION', 'RECYCLING - SINGLE STREAM', 'GARBAGE COLLECTION', 'GARBAGE COLLECTION', 'RECYCLING - SINGLE STREAM', 'RECYCLING - SINGLE STREAM', 'GARBAGE COLLECTION', 'BULK', 'YARD TRIMMINGS', 'RECYCLING - SINGLE STREAM', 'YARD TRIMMINGS', 'SWEEPER DUMPSITES', 'GARBAGE COLLECTION', 'SWEEPER DUMPSITES', 'RECYCLING - SINGLE STREAM', 'RECYCLING - SINGLE STREAM', 'BULK', 'GARBAGE COLLECTION', 'GARBAGE COLLECTION', 'RECYCLING - SINGLE STREAM', 'BRUSH', 'BULK', 'GARBAGE COLLECTION', 'DEAD ANIMAL', 'GARBAGE COLLECTION', 'RECYCLING - SINGLE STREAM', 'RECYCLING - SINGLE STREAM', 'GARBAGE COLLECTION', 'STORM', 'DEAD ANIMAL', 'SWEEPER DUMPSITES', 'RECYCLING - SINGLE STREAM', 'RECYCLING - SINGLE STREAM', 'SWEEPER DUMPSITES', 'RECYCLING - SINGLE STREAM', 'RECYCLING - SINGLE STREAM', 'RECYCLING - SINGLE STREAM', 'GARBAGE COLLECTION', 'SWEEPER DUMPSITES', 'GARBAGE COLLECTION', 'GARBAGE COLLECTION', 'GARBAGE COLLECTION', 'RECYCLING - SINGLE STREAM', 'RECYCLING - SINGLE STREAM', 'GARBAGE COLLECTION', 'GARBAGE COLLECTION', 'RECYCLING - SINGLE STREAM', 'RECYCLING - SINGLE STREAM', 'BULK', 'RECYCLING - SINGLE STREAM', 'GARBAGE COLLECTION', 'RECYCLING - SINGLE STREAM', 'GARBAGE COLLECTION', 'RECYCLING - SINGLE STREAM', 'YARD TRIMMINGS', 'GARBAGE COLLECTION', 'SWEEPER DUMPSITES', 'RECYCLING - SINGLE STREAM', 'RECYCLING - SINGLE STREAM', 'GARBAGE COLLECTION', 'YARD TRIMMINGS', 'RECYCLING - SINGLE STREAM', 'RECYCLING - SINGLE STREAM', 'RECYCLING - SINGLE STREAM', 'GARBAGE COLLECTION', 'INHOUSE - RECYCLING', 'GARBAGE COLLECTION', 'RECYCLING - SINGLE STREAM', 'GARBAGE COLLECTION', 'RECYCLING - SINGLE STREAM', 'GARBAGE COLLECTION', 'GARBAGE COLLECTION', 'GARBAGE COLLECTION', 'GARBAGE COLLECTION', 'GARBAGE COLLECTION', 'YARD TRIMMINGS', 'DEAD ANIMAL', 'YARD TRIMMINGS', 'YARD TRIMMINGS', 'GARBAGE COLLECTION', 'RECYCLING - SINGLE STREAM', 'RECYCLING - SINGLE STREAM', 'RECYCLING - SINGLE STREAM', 'RECYCLING - SINGLE STREAM', 'BULK', 'GARBAGE COLLECTION', 'RECYCLING - SINGLE STREAM', 'RECYCLING - SINGLE STREAM', 'YARD TRIMMINGS', 'GARBAGE COLLECTION', 'GARBAGE COLLECTION', 'GARBAGE COLLECTION', 'GARBAGE COLLECTION', 'GARBAGE COLLECTION', 'GARBAGE COLLECTION', 'GARBAGE COLLECTION', 'SWEEPER DUMPSITES', 'SWEEPER DUMPSITES', 'SWEEPER DUMPSITES', 'GARBAGE COLLECTION', 'YARD TRIMMINGS', 'RECYCLING - SINGLE STREAM', 'BRUSH', 'GARBAGE COLLECTION', 'BRUSH', 'RECYCLING - SINGLE STREAM', 'GARBAGE COLLECTION', 'GARBAGE COLLECTION', 'BRUSH', 'BULK', 'RECYCLING - SINGLE STREAM', 'GARBAGE COLLECTION', 'GARBAGE COLLECTION', 'RECYCLING - SINGLE STREAM', 'BULK', 'BRUSH', 'GARBAGE COLLECTION', 'GARBAGE COLLECTION', 'GARBAGE COLLECTION', 'GARBAGE COLLECTION', 'GARBAGE COLLECTION', 'YARD TRIMMINGS-ORGANICS', 'SWEEPER DUMPSITES', 'RECYCLING - SINGLE STREAM', 'RECYCLING - SINGLE STREAM', 'GARBAGE COLLECTION', 'STORM', 'GARBAGE COLLECTION', 'GARBAGE COLLECTION', 'BULK', 'GARBAGE COLLECTION', 'BRUSH', 'GARBAGE COLLECTION', 'GARBAGE COLLECTION', 'GARBAGE COLLECTION', 'GARBAGE COLLECTION', 'GARBAGE COLLECTION', 'KAB', 'BULK', 'GARBAGE COLLECTION', 'GARBAGE COLLECTION', 'GARBAGE COLLECTION', 'STORM', 'GARBAGE COLLECTION', 'SWEEPER DUMPSITES', 'GARBAGE COLLECTION', 'GARBAGE COLLECTION', 'RECYCLING - SINGLE STREAM', 'YARD TRIMMINGS', 'BRUSH', 'RECYCLING - SINGLE STREAM', 'RECYCLING - SINGLE STREAM', 'RECYCLING - SINGLE STREAM', 'YARD TRIMMINGS', 'GARBAGE COLLECTION', 'GARBAGE COLLECTION', 'GARBAGE COLLECTION', 'GARBAGE COLLECTION', 'GARBAGE COLLECTION', 'BRUSH', 'SWEEPER DUMPSITES', 'SWEEPER DUMPSITES', 'YARD TRIMMINGS-ORGANICS', 'BRUSH', 'SWEEPER DUMPSITES', 'GARBAGE COLLECTION', 'BULK', 'GARBAGE COLLECTION', 'RECYCLING - SINGLE STREAM', 'GARBAGE COLLECTION', 'BULK', 'YARD TRIMMINGS', 'BULK', 'RECYCLING - SINGLE STREAM', 'RECYCLING - SINGLE STREAM', 'YARD TRIMMINGS', 'GARBAGE COLLECTION', 'RECYCLING - SINGLE STREAM', 'STORM', 'RECYCLING - SINGLE STREAM', 'YARD TRIMMINGS', 'BULK', 'YARD TRIMMINGS', 'SWEEPER DUMPSITES', 'BRUSH', 'GARBAGE COLLECTION', 'RECYCLING - SINGLE STREAM', 'GARBAGE COLLECTION', 'RECYCLING - SINGLE STREAM', 'RECYCLING - SINGLE STREAM', 'RECYCLING - SINGLE STREAM', 'BRUSH', 'DEAD ANIMAL', 'GARBAGE COLLECTION', 'GARBAGE COLLECTION', 'RECYCLING - SINGLE STREAM', 'BULK', 'GARBAGE COLLECTION', 'RECYCLING - SINGLE STREAM', 'GARBAGE COLLECTION', 'GARBAGE COLLECTION', 'YARD TRIMMINGS', 'RECYCLING - SINGLE STREAM', 'GARBAGE COLLECTION', 'GARBAGE COLLECTION', 'GARBAGE COLLECTION', 'RECYCLING - SINGLE STREAM', 'GARBAGE COLLECTION', 'BULK', 'GARBAGE COLLECTION', 'RECYCLING - SINGLE STREAM', 'GARBAGE COLLECTION', 'GARBAGE COLLECTION', 'RECYCLING - SINGLE STREAM', 'GARBAGE COLLECTION', 'YARD TRIMMINGS', 'GARBAGE COLLECTION', 'GARBAGE COLLECTION', 'GARBAGE COLLECTION', 'RECYCLING - SINGLE STREAM', 'GARBAGE COLLECTION', 'YARD TRIMMINGS', 'GARBAGE COLLECTION', 'YARD TRIMMINGS', 'GARBAGE COLLECTION', 'RECYCLING - SINGLE STREAM', 'YARD TRIMMINGS']",
            "count": 1
           },
           {
            "name": "['GARBAGE COLLECTION', 'GARBAGE COLLECTION', 'RECYCLING - SINGLE STREAM', 'DEAD ANIMAL', 'GARBAGE COLLECTION', 'GARBAGE COLLECTION', 'GARBAGE COLLECTION', 'RECYCLING - SINGLE STREAM', 'RECYCLING - SINGLE STREAM', 'BRUSH', 'GARBAGE COLLECTION', 'RECYCLING - SINGLE STREAM', 'GARBAGE COLLECTION', 'RECYCLING - SINGLE STREAM', 'GARBAGE COLLECTION', 'RECYCLING - SINGLE STREAM', 'BRUSH', 'BRUSH', 'GARBAGE COLLECTION', 'SWEEPER DUMPSITES', 'BULK', 'RECYCLING - SINGLE STREAM', 'GARBAGE COLLECTION', 'STORM', 'GARBAGE COLLECTION', 'RECYCLING - SINGLE STREAM', 'YARD TRIMMINGS', 'GARBAGE COLLECTION', 'GARBAGE COLLECTION', 'RECYCLING - SINGLE STREAM', 'BULK', 'RECYCLING - SINGLE STREAM', 'YARD TRIMMINGS', 'RECYCLING - SINGLE STREAM', 'GARBAGE COLLECTION', 'BULK', 'RECYCLING - SINGLE STREAM', 'GARBAGE COLLECTION', 'YARD TRIMMINGS', 'BRUSH', 'GARBAGE COLLECTION', 'STORM', 'RECYCLING - SINGLE STREAM', 'SWEEPER DUMPSITES', 'BRUSH', 'SWEEPER DUMPSITES', 'RECYCLING - SINGLE STREAM', 'YARD TRIMMINGS-ORGANICS', 'GARBAGE COLLECTION', 'YARD TRIMMINGS', 'GARBAGE COLLECTION', 'GARBAGE COLLECTION', 'GARBAGE COLLECTION', 'RECYCLING - SINGLE STREAM', 'RECYCLING - SINGLE STREAM', 'GARBAGE COLLECTION', 'BULK', 'INHOUSE - RECYCLING', 'STORM', 'INHOUSE - RECYCLING', 'GARBAGE COLLECTION', 'BRUSH', 'GARBAGE COLLECTION', 'BULK', 'RECYCLING - SINGLE STREAM', 'BULK', 'GARBAGE COLLECTION', 'GARBAGE COLLECTION', 'GARBAGE COLLECTION', 'GARBAGE COLLECTION', 'GARBAGE COLLECTION', 'RECYCLING - SINGLE STREAM', 'RECYCLING - SINGLE STREAM', 'SWEEPER DUMPSITES', 'GARBAGE COLLECTION', 'YARD TRIMMINGS', 'GARBAGE COLLECTION', 'RECYCLING - SINGLE STREAM', 'SWEEPER DUMPSITES', 'YARD TRIMMINGS', 'SWEEPER DUMPSITES', 'GARBAGE COLLECTION', 'GARBAGE COLLECTION', 'RECYCLING - SINGLE STREAM', 'RECYCLING - SINGLE STREAM', 'RECYCLING - SINGLE STREAM', 'BRUSH', 'GARBAGE COLLECTION', 'RECYCLING - SINGLE STREAM', 'GARBAGE COLLECTION', 'RECYCLING - SINGLE STREAM', 'GARBAGE COLLECTION', 'GARBAGE COLLECTION', 'GARBAGE COLLECTION', 'RECYCLING - SINGLE STREAM', 'RECYCLING - SINGLE STREAM', 'RECYCLING - SINGLE STREAM', 'YARD TRIMMINGS', 'GARBAGE COLLECTION', 'GARBAGE COLLECTION', 'RECYCLING - SINGLE STREAM', 'GARBAGE COLLECTION', 'GARBAGE COLLECTION', 'SWEEPER DUMPSITES', 'RECYCLING - SINGLE STREAM', 'RECYCLING - SINGLE STREAM', 'BULK', 'RECYCLING - SINGLE STREAM', 'RECYCLING - SINGLE STREAM', 'YARD TRIMMINGS', 'GARBAGE COLLECTION', 'BULK', 'RECYCLING - SINGLE STREAM', 'GARBAGE COLLECTION', 'GARBAGE COLLECTION', 'RECYCLING - SINGLE STREAM', 'RECYCLING - SINGLE STREAM', 'YARD TRIMMINGS', 'RECYCLING - SINGLE STREAM', 'RECYCLING - SINGLE STREAM', 'BRUSH', 'BULK', 'GARBAGE COLLECTION', 'GARBAGE COLLECTION', 'GARBAGE COLLECTION', 'GARBAGE COLLECTION', 'RECYCLING - SINGLE STREAM', 'RECYCLING - SINGLE STREAM', 'RECYCLING - SINGLE STREAM', 'BRUSH', 'RECYCLING - SINGLE STREAM', 'RECYCLING - SINGLE STREAM', 'GARBAGE COLLECTION', 'RECYCLING - SINGLE STREAM', 'GARBAGE COLLECTION', 'GARBAGE COLLECTION', 'GARBAGE COLLECTION', 'YARD TRIMMINGS', 'STORM', 'BRUSH', 'STORM', 'YARD TRIMMINGS', 'RECYCLING - SINGLE STREAM', 'GARBAGE COLLECTION', 'GARBAGE COLLECTION', 'RECYCLING - SINGLE STREAM', 'GARBAGE COLLECTION', 'BULK', 'GARBAGE COLLECTION', 'RECYCLING - SINGLE STREAM', 'RECYCLING - SINGLE STREAM', 'GARBAGE COLLECTION', 'GARBAGE COLLECTION', 'GARBAGE COLLECTION', 'RECYCLING - SINGLE STREAM', 'SWEEPER DUMPSITES', 'RECYCLING - SINGLE STREAM', 'BULK', 'RECYCLING - SINGLE STREAM', 'GARBAGE COLLECTION', 'RECYCLING - SINGLE STREAM', 'RECYCLING - SINGLE STREAM', 'GARBAGE COLLECTION', 'RECYCLING - SINGLE STREAM', 'GARBAGE COLLECTION', 'GARBAGE COLLECTION', 'RECYCLING - SINGLE STREAM', 'GARBAGE COLLECTION', 'RECYCLING - SINGLE STREAM', 'GARBAGE COLLECTION', 'RECYCLING - SINGLE STREAM', 'GARBAGE COLLECTION', 'BRUSH', 'RECYCLING - SINGLE STREAM', 'GARBAGE COLLECTION', 'SWEEPER DUMPSITES', 'RECYCLING - SINGLE STREAM', 'RECYCLING - SINGLE STREAM', 'RECYCLING - SINGLE STREAM', 'RECYCLING - SINGLE STREAM', 'SWEEPER DUMPSITES', 'RECYCLING - SINGLE STREAM', 'GARBAGE COLLECTION', 'GARBAGE COLLECTION', 'YARD TRIMMINGS', 'RECYCLING - SINGLE STREAM', 'GARBAGE COLLECTION', 'GARBAGE COLLECTION', 'GARBAGE COLLECTION', 'BULK', 'YARD TRIMMINGS', 'GARBAGE COLLECTION', 'GARBAGE COLLECTION', 'RECYCLING - SINGLE STREAM', 'RECYCLING - SINGLE STREAM', 'GARBAGE COLLECTION', 'GARBAGE COLLECTION', 'BRUSH', 'RECYCLING - SINGLE STREAM', 'GARBAGE COLLECTION', 'GARBAGE COLLECTION', 'RECYCLING - SINGLE STREAM', 'BRUSH', 'BULK', 'DEAD ANIMAL', 'RECYCLING - SINGLE STREAM', 'GARBAGE COLLECTION', 'GARBAGE COLLECTION', 'YARD TRIMMINGS', 'YARD TRIMMINGS', 'GARBAGE COLLECTION', 'GARBAGE COLLECTION', 'BULK', 'SWEEPER DUMPSITES', 'DEAD ANIMAL', 'GARBAGE COLLECTION', 'GARBAGE COLLECTION', 'YARD TRIMMINGS', 'STORM', 'GARBAGE COLLECTION', 'GARBAGE COLLECTION', 'RECYCLING - SINGLE STREAM', 'YARD TRIMMINGS', 'GARBAGE COLLECTION', 'GARBAGE COLLECTION', 'DEAD ANIMAL', 'YARD TRIMMINGS-ORGANICS', 'GARBAGE COLLECTION', 'RECYCLING - SINGLE STREAM', 'GARBAGE COLLECTION', 'GARBAGE COLLECTION', 'RECYCLING - SINGLE STREAM', 'RECYCLING - SINGLE STREAM', 'GARBAGE COLLECTION', 'RECYCLING - SINGLE STREAM', 'RECYCLING - SINGLE STREAM', 'RECYCLING - SINGLE STREAM', 'GARBAGE COLLECTION', 'GARBAGE COLLECTION', 'RECYCLING - SINGLE STREAM', 'GARBAGE COLLECTION', 'GARBAGE COLLECTION', 'GARBAGE COLLECTION', 'RECYCLING - SINGLE STREAM', 'RECYCLING - SINGLE STREAM', 'RECYCLING - SINGLE STREAM', 'GARBAGE COLLECTION', 'GARBAGE COLLECTION', 'RECYCLING - SINGLE STREAM', 'RECYCLING - SINGLE STREAM', 'RECYCLING - SINGLE STREAM', 'RECYCLING - SINGLE STREAM', 'GARBAGE COLLECTION', 'RECYCLING - SINGLE STREAM', 'GARBAGE COLLECTION', 'GARBAGE COLLECTION', 'RECYCLING - SINGLE STREAM', 'RECYCLING - SINGLE STREAM', 'GARBAGE COLLECTION', 'GARBAGE COLLECTION', 'GARBAGE COLLECTION', 'RECYCLING - SINGLE STREAM', 'GARBAGE COLLECTION', 'BRUSH', 'GARBAGE COLLECTION', 'YARD TRIMMINGS', 'GARBAGE COLLECTION', 'YARD TRIMMINGS', 'YARD TRIMMINGS', 'BULK', 'DEAD ANIMAL', 'RECYCLING - SINGLE STREAM', 'GARBAGE COLLECTION', 'YARD TRIMMINGS', 'GARBAGE COLLECTION', 'RECYCLING - SINGLE STREAM', 'YARD TRIMMINGS', 'BULK', 'GARBAGE COLLECTION', 'YARD TRIMMINGS', 'YARD TRIMMINGS-ORGANICS', 'RECYCLING - SINGLE STREAM', 'GARBAGE COLLECTION', 'RECYCLING - SINGLE STREAM', 'YARD TRIMMINGS-ORGANICS', 'GARBAGE COLLECTION', 'GARBAGE COLLECTION', 'RECYCLING - SINGLE STREAM', 'GARBAGE COLLECTION', 'DEAD ANIMAL', 'YARD TRIMMINGS', 'GARBAGE COLLECTION', 'YARD TRIMMINGS', 'GARBAGE COLLECTION', 'GARBAGE COLLECTION', 'GARBAGE COLLECTION', 'GARBAGE COLLECTION', 'GARBAGE COLLECTION', 'GARBAGE COLLECTION', 'RECYCLING - SINGLE STREAM', 'GARBAGE COLLECTION', 'GARBAGE COLLECTION', 'GARBAGE COLLECTION', 'YARD TRIMMINGS', 'SWEEPER DUMPSITES', 'RECYCLING - SINGLE STREAM', 'GARBAGE COLLECTION', 'RECYCLING - SINGLE STREAM', 'GARBAGE COLLECTION', 'RECYCLING - SINGLE STREAM', 'GARBAGE COLLECTION', 'GARBAGE COLLECTION', 'GARBAGE COLLECTION', 'RECYCLING - SINGLE STREAM', 'GARBAGE COLLECTION', 'YARD TRIMMINGS', 'GARBAGE COLLECTION', 'GARBAGE COLLECTION', 'RECYCLING - SINGLE STREAM', 'GARBAGE COLLECTION', 'GARBAGE COLLECTION', 'YARD TRIMMINGS', 'SWEEPER DUMPSITES', 'GARBAGE COLLECTION', 'GARBAGE COLLECTION', 'YARD TRIMMINGS', 'RECYCLING - SINGLE STREAM', 'YARD TRIMMINGS', 'GARBAGE COLLECTION', 'BULK', 'RECYCLING - SINGLE STREAM', 'RECYCLING - SINGLE STREAM', 'YARD TRIMMINGS-ORGANICS', 'RECYCLING - SINGLE STREAM', 'BULK', 'GARBAGE COLLECTION', 'YARD TRIMMINGS', 'YARD TRIMMINGS', 'GARBAGE COLLECTION', 'GARBAGE COLLECTION', 'GARBAGE COLLECTION', 'GARBAGE COLLECTION', 'BULK', 'GARBAGE COLLECTION', 'BULK', 'RECYCLING - SINGLE STREAM', 'YARD TRIMMINGS', 'LITTER P/U', 'RECYCLING - SINGLE STREAM', 'GARBAGE COLLECTION', 'GARBAGE COLLECTION', 'RECYCLING - SINGLE STREAM', 'GARBAGE COLLECTION', 'YARD TRIMMINGS', 'GARBAGE COLLECTION', 'GARBAGE COLLECTION', 'RECYCLING - SINGLE STREAM', 'GARBAGE COLLECTION', 'RECYCLING - SINGLE STREAM', 'GARBAGE COLLECTION', 'YARD TRIMMINGS', 'GARBAGE COLLECTION', 'RECYCLING - SINGLE STREAM', 'RECYCLING - SINGLE STREAM', 'BRUSH', 'GARBAGE COLLECTION', 'RECYCLING - SINGLE STREAM', 'GARBAGE COLLECTION', 'GARBAGE COLLECTION', 'RECYCLING - SINGLE STREAM', 'SWEEPER DUMPSITES', 'RECYCLING - SINGLE STREAM', 'YARD TRIMMINGS', 'RECYCLING - SINGLE STREAM', 'GARBAGE COLLECTION', 'BRUSH', 'RECYCLING - SINGLE STREAM', 'RECYCLING - SINGLE STREAM', 'BULK', 'GARBAGE COLLECTION', 'GARBAGE COLLECTION', 'BRUSH', 'GARBAGE COLLECTION', 'SWEEPER DUMPSITES', 'DEAD ANIMAL', 'STORM', 'SWEEPER DUMPSITES', 'GARBAGE COLLECTION', 'BRUSH', 'DEAD ANIMAL', 'RECYCLING - SINGLE STREAM', 'RECYCLING - SINGLE STREAM', 'GARBAGE COLLECTION', 'STORM', 'GARBAGE COLLECTION', 'SWEEPER DUMPSITES', 'SWEEPER DUMPSITES', 'SWEEPER DUMPSITES', 'GARBAGE COLLECTION', 'GARBAGE COLLECTION', 'RECYCLING - SINGLE STREAM', 'INHOUSE - RECYCLING', 'GARBAGE COLLECTION', 'GARBAGE COLLECTION', 'GARBAGE COLLECTION', 'RECYCLING - SINGLE STREAM', 'RECYCLING - SINGLE STREAM', 'BULK', 'RECYCLING - SINGLE STREAM', 'YARD TRIMMINGS', 'RECYCLING - SINGLE STREAM', 'YARD TRIMMINGS', 'YARD TRIMMINGS', 'GARBAGE COLLECTION', 'YARD TRIMMINGS', 'RECYCLING - SINGLE STREAM', 'RECYCLING - SINGLE STREAM', 'RECYCLING - SINGLE STREAM', 'RECYCLING - SINGLE STREAM', 'GARBAGE COLLECTION', 'YARD TRIMMINGS', 'GARBAGE COLLECTION', 'GARBAGE COLLECTION', 'YARD TRIMMINGS', 'YARD TRIMMINGS', 'BRUSH', 'RECYCLING - SINGLE STREAM', 'BULK', 'YARD TRIMMINGS', 'RECYCLING - SINGLE STREAM', 'BULK', 'SWEEPER DUMPSITES', 'RECYCLING - SINGLE STREAM', 'GARBAGE COLLECTION', 'RECYCLING - SINGLE STREAM', 'GARBAGE COLLECTION', 'BULK', 'GARBAGE COLLECTION', 'RECYCLING - SINGLE STREAM', 'BULK', 'RECYCLING - SINGLE STREAM', 'STORM', 'RECYCLING - SINGLE STREAM', 'STORM', 'YARD TRIMMINGS', 'GARBAGE COLLECTION', 'RECYCLING - SINGLE STREAM', 'YARD TRIMMINGS', 'RECYCLING - SINGLE STREAM', 'GARBAGE COLLECTION', 'BRUSH', 'GARBAGE COLLECTION', 'GARBAGE COLLECTION', 'RECYCLING - SINGLE STREAM', 'GARBAGE COLLECTION', 'YARD TRIMMINGS', 'RECYCLING - SINGLE STREAM', 'GARBAGE COLLECTION', 'GARBAGE COLLECTION', 'SWEEPER DUMPSITES', 'GARBAGE COLLECTION', 'YARD TRIMMINGS', 'GARBAGE COLLECTION', 'BULK', 'GARBAGE COLLECTION', 'RECYCLING - SINGLE STREAM', 'STORM', 'GARBAGE COLLECTION', 'STORM', 'RECYCLING - SINGLE STREAM', 'GARBAGE COLLECTION', 'SWEEPER DUMPSITES', 'GARBAGE COLLECTION', 'RECYCLING - SINGLE STREAM', 'INHOUSE - RECYCLING', 'GARBAGE COLLECTION', 'BULK', 'RECYCLING - SINGLE STREAM', 'RECYCLING - SINGLE STREAM', 'GARBAGE COLLECTION', 'GARBAGE COLLECTION', 'RECYCLING - SINGLE STREAM', 'STORM', 'SWEEPER DUMPSITES', 'RECYCLING - SINGLE STREAM', 'RECYCLING - SINGLE STREAM', 'SWEEPER DUMPSITES', 'GARBAGE COLLECTION', 'BRUSH', 'GARBAGE COLLECTION', 'SWEEPER DUMPSITES', 'RECYCLING - SINGLE STREAM', 'GARBAGE COLLECTION', 'GARBAGE COLLECTION', 'YARD TRIMMINGS', 'BULK', 'STORM', 'GARBAGE COLLECTION', 'YARD TRIMMINGS', 'GARBAGE COLLECTION', 'RECYCLING - SINGLE STREAM', 'RECYCLING - SINGLE STREAM', 'SWEEPER DUMPSITES', 'YARD TRIMMINGS', 'RECYCLING - SINGLE STREAM', 'RECYCLING - SINGLE STREAM', 'RECYCLING - SINGLE STREAM', 'GARBAGE COLLECTION', 'RECYCLING - SINGLE STREAM', 'GARBAGE COLLECTION', 'BRUSH', 'YARD TRIMMINGS', 'GARBAGE COLLECTION', 'RECYCLING - SINGLE STREAM', 'GARBAGE COLLECTION', 'GARBAGE COLLECTION', 'RECYCLING - SINGLE STREAM', 'GARBAGE COLLECTION', 'YARD TRIMMINGS', 'GARBAGE COLLECTION', 'BULK', 'SWEEPER DUMPSITES', 'YARD TRIMMINGS', 'YARD TRIMMINGS', 'RECYCLING - SINGLE STREAM', 'GARBAGE COLLECTION', 'GARBAGE COLLECTION', 'GARBAGE COLLECTION', 'GARBAGE COLLECTION', 'GARBAGE COLLECTION', 'BULK', 'GARBAGE COLLECTION', 'YARD TRIMMINGS', 'GARBAGE COLLECTION', 'GARBAGE COLLECTION', 'YARD TRIMMINGS', 'RECYCLING - SINGLE STREAM', 'YARD TRIMMINGS', 'GARBAGE COLLECTION', 'SWEEPER DUMPSITES', 'BULK', 'BULK', 'GARBAGE COLLECTION', 'RECYCLING - SINGLE STREAM', 'RECYCLING - SINGLE STREAM', 'RECYCLING - SINGLE STREAM', 'STORM', 'RECYCLING - SINGLE STREAM', 'SWEEPER DUMPSITES', 'RECYCLING - SINGLE STREAM', 'GARBAGE COLLECTION', 'RECYCLING - SINGLE STREAM', 'GARBAGE COLLECTION', 'BULK', 'RECYCLING - SINGLE STREAM', 'YARD TRIMMINGS', 'BULK', 'GARBAGE COLLECTION', 'BULK', 'RECYCLING - SINGLE STREAM', 'BULK', 'GARBAGE COLLECTION', 'GARBAGE COLLECTION', 'GARBAGE COLLECTION', 'GARBAGE COLLECTION', 'RECYCLING - SINGLE STREAM', 'RECYCLING - SINGLE STREAM', 'STORM', 'YARD TRIMMINGS', 'BULK', 'GARBAGE COLLECTION', 'GARBAGE COLLECTION', 'RECYCLING - SINGLE STREAM', 'GARBAGE COLLECTION', 'SWEEPER DUMPSITES', 'RECYCLING - SINGLE STREAM', 'YARD TRIMMINGS', 'GARBAGE COLLECTION', 'GARBAGE COLLECTION', 'RECYCLING - SINGLE STREAM', 'GARBAGE COLLECTION', 'RECYCLING - SINGLE STREAM', 'RECYCLING - SINGLE STREAM', 'GARBAGE COLLECTION', 'GARBAGE COLLECTION', 'GARBAGE COLLECTION', 'YARD TRIMMINGS', 'GARBAGE COLLECTION', 'BULK', 'YARD TRIMMINGS', 'GARBAGE COLLECTION', 'BULK', 'GARBAGE COLLECTION', 'YARD TRIMMINGS', 'GARBAGE COLLECTION', 'SWEEPER DUMPSITES', 'GARBAGE COLLECTION', 'GARBAGE COLLECTION', 'YARD TRIMMINGS', 'GARBAGE COLLECTION', 'GARBAGE COLLECTION', 'GARBAGE COLLECTION', 'YARD TRIMMINGS', 'RECYCLING - SINGLE STREAM', 'GARBAGE COLLECTION', 'STORM', 'GARBAGE COLLECTION', 'YARD TRIMMINGS', 'SWEEPER DUMPSITES', 'RECYCLING - SINGLE STREAM', 'YARD TRIMMINGS', 'YARD TRIMMINGS-ORGANICS', 'RECYCLING - SINGLE STREAM', 'YARD TRIMMINGS', 'GARBAGE COLLECTION', 'GARBAGE COLLECTION', 'GARBAGE COLLECTION', 'RECYCLING - SINGLE STREAM', 'RECYCLING - SINGLE STREAM', 'GARBAGE COLLECTION', 'RECYCLING - SINGLE STREAM', 'YARD TRIMMINGS', 'GARBAGE COLLECTION', 'RECYCLING - SINGLE STREAM', 'GARBAGE COLLECTION', 'GARBAGE COLLECTION', 'YARD TRIMMINGS-ORGANICS', 'GARBAGE COLLECTION', 'GARBAGE COLLECTION', 'GARBAGE COLLECTION', 'RECYCLING - SINGLE STREAM', 'RECYCLING - SINGLE STREAM', 'RECYCLING - SINGLE STREAM', 'STORM', 'YARD TRIMMINGS', 'GARBAGE COLLECTION', 'YARD TRIMMINGS', 'GARBAGE COLLECTION', 'SWEEPER DUMPSITES', 'RECYCLING - SINGLE STREAM', 'YARD TRIMMINGS', 'RECYCLING - SINGLE STREAM', 'GARBAGE COLLECTION', 'BULK', 'RECYCLING - SINGLE STREAM', 'RECYCLING - SINGLE STREAM', 'RECYCLING - SINGLE STREAM', 'RECYCLING - SINGLE STREAM', 'INHOUSE - RECYCLING', 'RECYCLING - SINGLE STREAM', 'RECYCLING - SINGLE STREAM', 'YARD TRIMMINGS', 'YARD TRIMMINGS', 'BRUSH', 'RECYCLING - SINGLE STREAM', 'RECYCLING - SINGLE STREAM', 'RECYCLING - SINGLE STREAM', 'GARBAGE COLLECTION', 'GARBAGE COLLECTION', 'RECYCLING - SINGLE STREAM', 'GARBAGE COLLECTION', 'GARBAGE COLLECTION', 'RECYCLING - SINGLE STREAM', 'GARBAGE COLLECTION', 'RECYCLING - SINGLE STREAM', 'GARBAGE COLLECTION', 'SWEEPER DUMPSITES', 'SWEEPER DUMPSITES', 'RECYCLING - SINGLE STREAM', 'SWEEPER DUMPSITES', 'BRUSH', 'RECYCLING - SINGLE STREAM', 'YARD TRIMMINGS', 'RECYCLING - SINGLE STREAM', 'GARBAGE COLLECTION', 'YARD TRIMMINGS', 'GARBAGE COLLECTION', 'RECYCLING - SINGLE STREAM', 'GARBAGE COLLECTION', 'SWEEPER DUMPSITES', 'GARBAGE COLLECTION', 'STORM', 'BULK', 'GARBAGE COLLECTION', 'YARD TRIMMINGS', 'YARD TRIMMINGS', 'GARBAGE COLLECTION', 'RECYCLING - SINGLE STREAM', 'GARBAGE COLLECTION', 'BULK', 'GARBAGE COLLECTION', 'GARBAGE COLLECTION', 'SPECIAL PROJECT LC', 'GARBAGE COLLECTION', 'GARBAGE COLLECTION', 'GARBAGE COLLECTION', 'GARBAGE COLLECTION', 'YARD TRIMMINGS', 'GARBAGE COLLECTION', 'YARD TRIMMINGS', 'SWEEPER DUMPSITES', 'GARBAGE COLLECTION', 'GARBAGE COLLECTION', 'YARD TRIMMINGS', 'RECYCLING - SINGLE STREAM', 'YARD TRIMMINGS', 'RECYCLING - SINGLE STREAM', 'STORM', 'GARBAGE COLLECTION', 'YARD TRIMMINGS', 'GARBAGE COLLECTION', 'BULK', 'GARBAGE COLLECTION', 'GARBAGE COLLECTION', 'RECYCLING - SINGLE STREAM', 'GARBAGE COLLECTION', 'GARBAGE COLLECTION', 'SWEEPER DUMPSITES', 'YARD TRIMMINGS', 'YARD TRIMMINGS', 'GARBAGE COLLECTION', 'RECYCLING - SINGLE STREAM', 'YARD TRIMMINGS', 'RECYCLING - SINGLE STREAM', 'SWEEPER DUMPSITES', 'BULK', 'RECYCLING - SINGLE STREAM', 'GARBAGE COLLECTION', 'RECYCLING - SINGLE STREAM', 'GARBAGE COLLECTION', 'RECYCLING - SINGLE STREAM', 'DEAD ANIMAL', 'GARBAGE COLLECTION', 'GARBAGE COLLECTION', 'GARBAGE COLLECTION', 'RECYCLING - SINGLE STREAM', 'RECYCLING - SINGLE STREAM', 'RECYCLING - SINGLE STREAM', 'GARBAGE COLLECTION', 'RECYCLING - SINGLE STREAM', 'GARBAGE COLLECTION', 'RECYCLING - SINGLE STREAM', 'GARBAGE COLLECTION', 'RECYCLING - SINGLE STREAM', 'GARBAGE COLLECTION', 'GARBAGE COLLECTION', 'BULK', 'GARBAGE COLLECTION', 'GARBAGE COLLECTION', 'BULK', 'YARD TRIMMINGS', 'GARBAGE COLLECTION', 'YARD TRIMMINGS']",
            "count": 1
           },
           {
            "name": "311 others",
            "count": 311
           }
          ]
         }
        },
        {
         "name": "Route Number",
         "dtype": "object",
         "stats": {
          "unique_count": 313,
          "nan_count": 0,
          "categories": [
           {
            "name": "['PAW72', 'PAH71', 'PH34', 'BU06', 'RHBU13', 'PAF60', 'PW11', 'RWBU11', 'PAW05', 'RHBU25', 'PAT01', 'BU06', 'PAH81', 'PAT69', 'RHBU21', 'KAB07', 'RWBS34', 'RWBU11', 'RTBU21', 'BU06', 'PW33', 'BU06', 'YW13', 'YT06', 'RWBU13', 'YM05', 'RFBU22', 'YF04', 'RFBS41', 'RMBU14', 'BR19', 'YM05', 'BU06', 'PM10', 'PT31', 'RMBS42', 'RFBS42', 'PAW82', 'YM01', 'PAF73', 'PH23', 'BU06', 'PAW62', 'YW10', 'PAH65', 'PAH85', 'PM20', 'RHBU20', 'PAF04', 'BU06', 'RHBU11', 'STO13', 'BR19', 'PM30', 'PAT82', 'PAT63', 'PAW61', 'YH01', 'BR19', 'YF10', 'RFBU11', 'YW02', 'PAW01', 'PAM85', 'PAT81', 'PAF83', 'PAW83', 'STO13', 'RMBS34', 'PAM73', 'PM20', 'RWBS34', 'RWBU23', 'PAM80', 'PAT09', 'PAM81', 'PAW79', 'PM12', 'BR19', 'RFBU20', 'PAT87', 'PAW80', 'PH22', 'BU06', 'PH12', 'PAM73', 'YT08', 'RFBU24', 'RMBU26', 'RWBU16', 'PAH69', 'RFBU16', 'RHBS40', 'STO13', 'DH4', 'PAM73', 'PAH03', 'RMBU26', 'DSS01', 'RTBS40', 'PAF83', 'PAH82', 'BR19', 'PH23', 'YM02', 'DA01', 'PW30', 'RFBU20', 'YT02', 'PAT84', 'PAH06', 'RWBS43', 'DSS01', 'RMBS33', 'RTBS43', 'YM08', 'RWBS35', 'RTBU26', 'RHBU10', 'RHBU20', 'PAF73', 'PAT72', 'PW21', 'PAW81', 'PAM73', 'PW39', 'PAW63', 'PAM74', 'PAM87', 'PH11', 'IRF1', 'PAT03', 'YF02', 'PAW64', 'DA02', 'PH33', 'DSS04', 'BU06', 'PAW04', 'PAH76', 'PAT03', 'RHBS43', 'PH10', 'BR19', 'RHBS33', 'PH30', 'PF21', 'DSS04', 'DSS01', 'RMBU25', 'YBT99', 'PAM74', 'RMBU16', 'PAH85', 'PAF64', 'RTBU10', 'PAW09', 'PM13', 'RFAS33', 'OF1', 'YT03', 'PAF81', 'PAW05', 'PM23', 'DSS04', 'PF39', 'PAT84', 'RWBU20', 'PAM84', 'OM-1', 'RFBU15', 'RMBU20', 'RWBU10', 'YW05', 'PAM74', 'RWBS42', 'PAT74', 'PF12', 'RTBS43', 'PAM64', 'RHBS43', 'PH32', 'DF3', 'YT09', 'YW01', 'RFBU23', 'YW09', 'PT19', 'RMBU11', 'RHBU14', 'YH04', 'PAM83', 'RMBU22', 'DSS01', 'PAH76', 'PAF71', 'PAM01', 'DSS04', 'RWBU21', 'DSS04', 'YM11', 'DSS01', 'PAM69', 'RHBU16', 'PH39', 'PW31', 'PW19', 'RTBS40', 'DSS01', 'PAM71', 'PAW70', 'RHBU16', 'RMBU23', 'YF07', 'YH08', 'PF33', 'YT01', 'RMBU14', 'PAM70', 'DT3', 'RMBU24', 'PAW84', 'RWBU25', 'RWBS33', 'RWBU14', 'PM32', 'RHBU22', 'PT39', 'PAH70', 'YW13', 'STO13', 'PAM84', 'PAF72', 'PAM62', 'PAH01', 'PAT65', 'STO13', 'DSS01', 'PT22', 'RHBS40', 'YW06', 'YT10', 'RWBS35', 'RFBU13', 'BR19', 'RMBU21', 'DSS01', 'RMBS35', 'PAW02', 'RMBU23', 'RTBU10', 'RMBU11', 'PM20', 'PAH73', 'RTBU10', 'RTBS35', 'PAT71', 'PT21', 'YF09', 'PAF01', 'RMBS43', 'PAF63', 'PAM74', 'YF06', 'RTBU23', 'STO13', 'RHBU21', 'RWBU20', 'DT1', 'PAT61', 'BR19', 'PAH87', 'RMBU13', 'PH21', 'RTBU11', 'STO13', 'PAW60', 'PM23', 'PAT72', 'PM22', 'PAM72', 'PAH84', 'PAM04', 'PAM02', 'RWBU23', 'BU06', 'PAM84', 'RHBS42', 'PAM01', 'YT08', 'IRT1', 'RFBU23', 'DF1', 'PAM83', 'PAH63', 'RTBU22', 'PM31', 'RWBU24', 'PAW64', 'YF05', 'RMBU15', 'DSS04', 'PAF80', 'BU06', 'RHBU13', 'PAH81', 'DM4', 'PW32', 'STO13', 'RTBU21', 'PAF72', 'PAM75', 'YH02', 'PAF87', 'YHP', 'DSS01', 'RFBS41', 'PAF82', 'RHBU26', 'RWBU21', 'PAW75', 'PAW87', 'YM01', 'PAT02', 'PAM64', 'PAT81', 'PM11', 'YHP', 'YH07', 'YM11', 'RMBU10', 'PAW80', 'YM10', 'RMBU20', 'DF2', 'YM04', 'STO13', 'STO13', 'PT20', 'PAT83', 'DM1', 'DSS01', 'RWBS43', 'RFBU14', 'PW21', 'RMBS40', 'YH06', 'RMBS34', 'PAW83', 'RMBU25', 'PAH71', 'PAF69', 'IRM1', 'DSS01', 'RMBU21', 'RWBU12', 'RHBU24', 'PT12', 'RHBU10', 'BR19', 'RWBU12', 'YW03', 'BU06', 'PAW74', 'PAM84', 'BR19', 'RWBU12', 'BR19', 'PH19', 'RHBS34', 'YT07', 'DH1', 'RFBU10', 'DSS04', 'BR19', 'PS36', 'PAW72', 'PAM85', 'RTBU20', 'BR19', 'RMBU25', 'RHBU11', 'PAW03', 'PAW85', 'PAT80', 'YW12', 'PM39', 'BU06', 'DT2', 'DF3', 'PAM02', 'RWBS40', 'RFBU22', 'RWBS33', 'PAM03', 'YW08', 'RFBU21', 'STO13', 'PS36', 'RHBS35', 'RHBU10', 'RHBS35', 'BU06', 'PAF80', 'BR19', 'BR19', 'RTBU26', 'RMBS35', 'OH1', 'PF30', 'PT11', 'STO13', 'PAM75', 'PAW01', 'RMBU10', 'PAT72', 'RTBS33', 'PF10', 'PAF03', 'PAW71', 'PAH61', 'STO13', 'RHBU26', 'BU06', 'PT10', 'DSS01', 'BU06', 'RWBU25', 'PAM01', 'RWBS40', 'PH31', 'PM33', 'PAT01', 'YW04', 'PAM06', 'PAM60', 'PAF01', 'PAM62', 'DF2', 'BU06', 'PAF70', 'RFBU21', 'DSS01', 'RMBU21', 'PAT70', 'DW4', 'RHBU25', 'YF08', 'PAM61', 'RTBU13', 'RTBS34', 'PF32', 'RFBU15', 'PAW06', 'PW20', 'YT12', 'DSS01', 'BU08', 'YM08', 'PAH75', 'PAW82', 'PM33', 'RTBU26', 'DA02', 'PF22', 'PAF04', 'RTBU15', 'RWBS42', 'DSS01', 'PAW73', 'PAH79', 'NI15', 'RWBU16', 'PAT83', 'RWBU24', 'DA01', 'DSS04', 'RFBU13', 'BU06', 'IRW1', 'RWBU25', 'PM21', 'PAM05', 'PF20', 'YW03', 'YF02', 'YM07', 'PAM70', 'PH20', 'PW11', 'PAH75', 'RWBU16', 'PAW73', 'STO13', 'RHBU24', 'PAT72', 'BU06', 'BR19', 'YBF00', 'RMBU12', 'DSS01', 'OH1', 'PAM86', 'BU06', 'RFBS35', 'RWBS41', 'RMBU11', 'PAM65', 'PAF79', 'BR19', 'DT4', 'YM04', 'BU06', 'RHBU10', 'PAW70', 'RFBU10', 'PAW85', 'PAH02', 'BU06', 'RTBU13', 'STO13', 'BU06', 'YH09', 'YT07', 'STO13', 'DSS04', 'DSS01', 'PAF62', 'BU06', 'YM03', 'PM30', 'PAM74', 'RWBU12', 'BR19', 'PAW84', 'IRH1', 'DSS01', 'BU06', 'PAT71', 'PAH60', 'DSS04', 'PAM85', 'PAW83', 'PAF72', 'PAW75', 'RMBS43', 'PAM85', 'PAT03', 'RMBU22', 'PAH09', 'YT10', 'YM02', 'PAT83', 'RWBU23', 'RMBU23', 'RWBU22', 'RWBU21', 'RMBU11', 'RMBU11', 'RMBS41', 'YT09', 'RMBU16', 'DF4', 'PAM61', 'RFBS34', 'PAM06', 'PF11', 'RHBU12', 'RMBU20', 'PAT62', 'BU06', 'YT12', 'RHBS43', 'YH03', 'DSS01', 'PAM03', 'DSS01', 'DT1', 'RWBS40', 'BU06', 'PM10', 'PAF05', 'DF4', 'BR19', 'BU06', 'PAF61', 'DA01', 'PAW85', 'RWBU22', 'RMBU26', 'PF19', 'STO13', 'DA01', 'DSS01', 'RMBU14', 'RHBS34', 'DSS01', 'RMBU15', 'RMBS42', 'RWBU12', 'PAW02', 'DSS04', 'PAT70', 'PAT04', 'PAM72', 'DF1', 'RMBU16', 'PAT04', 'PAT61', 'RWBU13', 'RWBS35', 'BU06', 'RTBU20', 'PAM86', 'RWBU14', 'PAW74', 'RHBS33', 'YW01', 'PT32', 'DSS01', 'DW1', 'RMBU13', 'PM19', 'YT05', 'RTBU11', 'DW3', 'RTBU23', 'PAW85', 'IRW1', 'PAM04', 'RTBU22', 'PAH04', 'RTBU12', 'PT30', 'PAM79', 'PM21', 'PAH70', 'PAT70', 'YF03', 'DA02', 'YF03', 'YF01', 'PAT82', 'RFBS33', 'DT2', 'RHBU22', 'RFBU25', 'BU06', 'PAM74', 'RMBS33', 'RHBU14', 'YM09', 'PM12', 'PAF09', 'PW12', 'PF13', 'PAW69', 'PAW83', 'PAM05', 'DSS04', 'DSS04', 'DSS04', 'PAH72', 'YT03', 'RTBS42', 'BR19', 'PAW73', 'BR19', 'RHBU12', 'PAT73', 'PAF63', 'BR19', 'BU06', 'RTBS43', 'PAM65', 'PAM64', 'RMBU24', 'BU06', 'BR19', 'PAT60', 'PAF70', 'PAM82', 'PAH75', 'PAT83', 'OT1', 'DSS01', 'RFBU24', 'RTBU12', 'PAW85', 'STO13', 'PAM06', 'PF23', 'BU06', 'PT20', 'BR19', 'PAW64', 'PAH83', 'PH14', 'PM22', 'PAM09', 'KAB06', 'BU06', 'PAH80', 'PAT79', 'PAM63', 'STO13', 'PAW85', 'DSS01', 'PW10', 'PAM60', 'RMBU12', 'YH11', 'BR19', 'RFBS33', 'RMBU10', 'DH3', 'YW04', 'PW22', 'PAM63', 'PAT62', 'PAT73', 'PAM71', 'BR19', 'DSS01', 'DSS04', 'OW1', 'BR19', 'DSS01', 'PAT74', 'BU06', 'PAW74', 'RFBU16', 'PAT74', 'BU06', 'YM03', 'BU06', 'RTBU15', 'DM3', 'YBT00', 'PM11', 'RMBU13', 'STO13', 'RMBU12', 'YM06', 'BU06', 'YH10', 'DSS01', 'BR19', 'PAH05', 'RFBU14', 'PW13', 'RFBU25', 'RMBS40', 'DH2', 'BR19', 'DA01', 'PAH74', 'PAM03', 'RWBU13', 'BU06', 'PAW06', 'RFBS40', 'PAH62', 'PAF63', 'YH13', 'RTBU10', 'PAF03', 'PAF02', 'PAF60', 'RWBS41', 'PAW81', 'BU06', 'PAT86', 'RWBS35', 'PAT63', 'PAT80', 'RTBS35', 'PAH01', 'YM07', 'PAM70', 'PAW06', 'PAH64', 'RWBU22', 'PAH73', 'YM06', 'PAT86', 'YW07', 'PW33', 'RFBS42', 'YM09']",
            "count": 1
           },
           {
            "name": "['PAW64', 'PH21', 'RMAU21', 'DA02', 'PAH09', 'PAW60', 'PAT03', 'RWAS33', 'DF1', 'BR21', 'PAF73', 'DH4', 'PM20', 'RWAS40', 'PAF83', 'RHAU23', 'BR21', 'BR21', 'PAF81', 'DSS04', 'BU19', 'RTAU10', 'PM22', 'STO13', 'PAF82', 'RMAU14', 'YH04', 'PAH71', 'PAM64', 'RWAS43', 'BU19', 'RWAU24', 'YW06', 'RTAU23', 'PM13', 'BU19', 'RWAU16', 'PAM61', 'YBF00', 'BR21', 'PF32', 'STO13', 'RFAU24', 'DSS01', 'BR21', 'DSS04', 'RFAU12', 'OT1', 'PAM62', 'YH01', 'PAW82', 'PAH82', 'PF30', 'RTAS41', 'RWAS33', 'PAM06', 'BU19', 'IRW1', 'STO13', 'IRM1', 'PAM73', 'BR21', 'PAH69', 'BU19', 'RHAU12', 'BU19', 'PAT83', 'PM30', 'PM12', 'PW19', 'PAM75', 'RTAU21', 'DH1', 'DSS04', 'PAM05', 'YH10', 'PW10', 'RTAU21', 'DSS04', 'YBF00', 'DSS04', 'PAM72', 'PAM65', 'RMAU16', 'RMAS33', 'RWAU13', 'BR21', 'PAM02', 'DT3', 'PAW03', 'RHAS34', 'PH30', 'PAT80', 'PAH71', 'RWAU15', 'RWAU24', 'RHAU15', 'YH07', 'PAM09', 'PH33', 'RHAS43', 'PAH81', 'PAM73', 'DSS04', 'RMAU22', 'RTAU11', 'BU19', 'RMAS42', 'RMAU14', 'YH08', 'PAM65', 'BU19', 'RMAS41', 'PAM70', 'PAT72', 'RWAU22', 'RTAU21', 'YF02', 'DM1', 'DT1', 'BR21', 'BU19', 'PAM74', 'PT12', 'PAW06', 'PAT02', 'RHAU10', 'RFAU10', 'RMAS35', 'BR21', 'RWAU11', 'RWAS35', 'PAT84', 'RMAU20', 'PAT66', 'PAT70', 'PAH03', 'YM10', 'STO13', 'BR21', 'STO13', 'YH11', 'DW4', 'PAT71', 'PM11', 'RWAS42', 'PH20', 'BU19', 'PAF71', 'RHAU21', 'RMAS34', 'PAT87', 'PAM83', 'PAW84', 'RTAU23', 'DSS01', 'RHAS40', 'BU19', 'DW3', 'PH19', 'DF4', 'RTAS41', 'PH32', 'RFAU22', 'PF11', 'PAF02', 'RTAU26', 'PAF62', 'RFAU10', 'PAF80', 'RTAS35', 'PAM73', 'BR21', 'RHAU24', 'PAW73', 'DSS04', 'RHAU14', 'RTAU21', 'RWAS35', 'RTAS43', 'DSS04', 'RTAU13', 'PAF10', 'PAM85', 'YH03', 'RFAU26', 'PAF80', 'PAF60', 'PAM60', 'BU19', 'YW05', 'PAM01', 'PAT60', 'RTAS33', 'RTAU13', 'PF10', 'PT21', 'BR21', 'RWAU23', 'PAH81', 'PM32', 'RHAU22', 'BR21', 'BU19', 'DA02', 'RFAU13', 'PW39', 'PAM72', 'YT07', 'YH12', 'PW20', 'PAM71', 'BU19', 'DSS04', 'DA02', 'PAH04', 'PAF60', 'YH02', 'STO13', 'PAW82', 'PAF67', 'RMAU23', 'YF09', 'PAW83', 'PAM86', 'DA01', 'OM-1', 'PAW80', 'RWAU12', 'PAH76', 'PAH73', 'RTAS40', 'RFAU12', 'PAT81', 'RWAU22', 'RWAU15', 'RWAU21', 'PW33', 'PAW63', 'RHAU13', 'PAF79', 'PAM70', 'PAH01', 'RTAS34', 'RHAU26', 'RMAU11', 'PF12', 'PAF63', 'RTAS34', 'RFAU16', 'RFAS43', 'RFAS35', 'PAT80', 'RMAU24', 'PAF61', 'PH22', 'RMAU12', 'RWAU11', 'PAH70', 'PAW01', 'PAF03', 'RMAS41', 'PAF87', 'BR21', 'PAT69', 'YT09', 'PAM74', 'YW10', 'YBF00', 'BU19', 'DA01', 'RTAS42', 'PAW81', 'YF03', 'PAH06', 'RMAU10', 'YH02', 'BU19', 'PAM05', 'YF10', 'OW1', 'RHAU14', 'PAT83', 'RTAU24', 'OH1', 'PAT74', 'PAT71', 'RHAS42', 'PAM71', 'DA02', 'YT12', 'PAW80', 'YF08', 'PH23', 'PAT66', 'PAH05', 'PT14', 'PAF69', 'PAT79', 'RHAS41', 'PAM84', 'PAH85', 'PAM75', 'YW04', 'DSS04', 'RWAU20', 'PAH84', 'RMAU15', 'PW39', 'RTAU10', 'PAW83', 'PAM85', 'PH21', 'RMAU14', 'PAW04', 'YHP', 'PAH79', 'PAH01', 'RWAU26', 'PAH75', 'PAW69', 'YM04', 'DSS04', 'PF21', 'PAM06', 'YF09', 'RTAU24', 'YT03', 'PAW85', 'BU19', 'RMAU23', 'RMAU23', 'OT1', 'RTAS43', 'BU19', 'PM33', 'YBH99', 'YH06', 'PAW85', 'PAW73', 'PAT73', 'PAW71', 'BU19', 'PAW79', 'BU19', 'RMAU20', 'YM07', 'LC01', 'RHAU20', 'PW30', 'PS36', 'RWAU14', 'PAW72', 'YT06', 'PM19', 'PAF64', 'RTAU15', 'PAT65', 'RTAS42', 'PT14', 'YW08', 'PH23', 'RTAU22', 'RHAU26', 'BR21', 'PAW64', 'RWAS43', 'PT20', 'PW21', 'RFAU20', 'DSS01', 'RMAS35', 'YF04', 'RTAU13', 'PT22', 'BR21', 'DF2', 'RTAU22', 'BU19', 'PM13', 'PM30', 'BR21', 'PAH87', 'DSS01', 'DA02', 'STO13', 'DSS04', 'PAH60', 'BR21', 'DA02', 'RMBS41', 'RMAU12', 'PAH63', 'STO13', 'PAW84', 'DSS01', 'DSS01', 'DSS04', 'PAT61', 'PAW02', 'RTAU20', 'IRF1', 'PAF01', 'PF20', 'PW11', 'RWAS42', 'RWAU10', 'BU19', 'RHAU20', 'YH11', 'RMAS34', 'YM05', 'YHP', 'PAM04', 'YM09', 'RMAU25', 'RHAU13', 'RFAU20', 'RWAU21', 'PAM87', 'YH04', 'PAH61', 'PAM81', 'YF04', 'YBF00', 'BR21', 'RWAU10', 'BU19', 'YBM00', 'RWAU23', 'BU19', 'DSS04', 'RWAU14', 'PAM63', 'RHAU11', 'PAW73', 'BU19', 'PAM02', 'RTAS35', 'BU19', 'RHAS42', 'STO13', 'RWAU13', 'STO13', 'YBF00', 'PW12', 'RHAU23', 'YM03', 'RWAU20', 'PAM80', 'BR21', 'PAF70', 'PH20', 'DM4', 'PW21', 'YBW00', 'RFAU15', 'PAM79', 'PAW74', 'DSS04', 'PAW83', 'YH10', 'PAM80', 'BU19', 'PAT82', 'RHAU24', 'STO13', 'PAM03', 'STO13', 'DH1', 'PH10', 'DSS01', 'PM22', 'RFAU16', 'IRH1', 'PT19', 'BU19', 'RTAU20', 'DF1', 'PAF00', 'PF22', 'RWAU16', 'STO13', 'DSS01', 'RFAS33', 'RFAU25', 'DSS04', 'PM21', 'BR21', 'PAW71', 'DSS04', 'RMAS40', 'PAM84', 'PAH02', 'YW03', 'BU19', 'STO13', 'PAH75', 'YHP', 'PAM65', 'RHAS35', 'RHAS33', 'DSS01', 'YM01', 'RFAU20', 'RMAU11', 'RHAU15', 'PAM70', 'RHAU26', 'PAT04', 'BR21', 'YT08', 'PAM61', 'RTAU11', 'PF13', 'PAH03', 'RMAU11', 'PM39', 'YM06', 'PAH83', 'BU19', 'DSS04', 'YW02', 'YF08', 'RMAU25', 'PAW74', 'PH39', 'PAW62', 'PT30', 'PAW80', 'BU19', 'PAM85', 'YW07', 'PAT04', 'PAF70', 'YH09', 'DF3', 'YT02', 'PAH75', 'DSS01', 'BU19', 'BU19', 'PAT74', 'RTAU14', 'RFAU15', 'RWAS33', 'STO13', 'RTAS33', 'DSS04', 'DH2', 'PAH64', 'RTAU16', 'PAM74', 'BU19', 'RWAS40', 'YF07', 'BU19', 'PAM82', 'BU19', 'RMAU11', 'BU19', 'PAM60', 'PT10', 'PAM01', 'PAH85', 'RMAU21', 'RHAU21', 'STO13', 'YH06', 'BU19', 'PAW81', 'PM31', 'DM2', 'PAH73', 'DSS01', 'DH4', 'YM07', 'PAF63', 'PW22', 'RFAU13', 'PM21', 'RFAS42', 'RWAU26', 'PAW85', 'PAM69', 'PAM85', 'YT05', 'PT32', 'BU19', 'YW09', 'PAT84', 'BU19', 'PW32', 'YH03', 'PAM85', 'DSS04', 'PAT02', 'PAW61', 'YM08', 'PAT61', 'PAW05', 'PAM85', 'YT01', 'RFAS35', 'PAM86', 'STO13', 'PAF80', 'YW12', 'DSS01', 'RFAU25', 'YH08', 'OF1', 'RMAU22', 'YT05', 'PM23', 'PAW64', 'PAW73', 'RFAS35', 'RTAU26', 'PAW06', 'RHAU10', 'YT10', 'PH31', 'RMAU15', 'PT11', 'PAM61', 'OH1', 'PM33', 'PAH72', 'PAH70', 'RMAU16', 'DH3', 'RFAU21', 'STO13', 'YW02', 'PAF04', 'YM03', 'PAW09', 'DSS04', 'RWAS34', 'YM01', 'RFAU10', 'PAH80', 'BU19', 'RTAU13', 'RTAU16', 'RWAS41', 'DT4', 'IRT1', 'DW1', 'RMAU10', 'YW01', 'YW03', 'BR21', 'RFAU24', 'RWAS41', 'RMAU24', 'PAM03', 'PAT72', 'RWAS34', 'PT31', 'PAW62', 'RFAU26', 'PAW75', 'RFAS41', 'PAT86', 'DSS04', 'DSS01', 'RFAS41', 'DSS04', 'BR21', 'RHAU12', 'YF10', 'RFAU21', 'PAT01', 'YM04', 'PAT72', 'RMAU23', 'PAT63', 'DSS04', 'PAT01', 'STO13', 'BU19', 'PF19', 'YW01', 'YH01', 'PAT83', 'RHAS33', 'PF33', 'BU19', 'PAH01', 'PAW85', 'SPEC PROJCT', 'PAM01', 'PAH62', 'PH32', 'PAM84', 'YF01', 'PAW84', 'YH07', 'DSS04', 'PM10', 'PT39', 'YM02', 'DT1', 'YT10', 'RWAU12', 'STO13', 'PAT09', 'YBF00', 'PF12', 'BU19', 'PAH74', 'PW13', 'RHAS41', 'PF39', 'PW34', 'DSS01', 'YF02', 'YF03', 'PAF09', 'RMAS34', 'YBT00', 'RFAS43', 'DSS04', 'BU19', 'DF4', 'PH11', 'RHAU26', 'PAT72', 'RFAU22', 'DA01', 'PH12', 'PW31', 'PAM62', 'RHAU22', 'RMAU10', 'RHAU11', 'PAM04', 'RTAS34', 'PAM05', 'RWAU24', 'PAW75', 'RWBU10', 'PAH65', 'PAH60', 'BU19', 'PAW85', 'PAM64', 'BU19', 'YT12', 'PAT81', 'YF03']",
            "count": 1
           },
           {
            "name": "311 others",
            "count": 311
           }
          ]
         }
        },
        {
         "name": "Time",
         "dtype": "object",
         "stats": {
          "unique_count": 313,
          "nan_count": 0,
          "categories": [
           {
            "name": "[datetime.time(14, 12), datetime.time(12, 38), datetime.time(12, 15), datetime.time(12, 51), datetime.time(14, 40), datetime.time(15, 22), datetime.time(15, 15), datetime.time(11, 26), datetime.time(12, 33), datetime.time(13, 54), datetime.time(13, 47), datetime.time(16, 0), datetime.time(16, 37), datetime.time(12, 7), datetime.time(11, 18), datetime.time(9, 14), datetime.time(12, 34), datetime.time(15, 47), datetime.time(11, 15), datetime.time(14, 12), datetime.time(14, 45), datetime.time(14, 14), datetime.time(12, 5), datetime.time(17, 31), datetime.time(17, 19), datetime.time(13, 5), datetime.time(14, 2), datetime.time(15, 3), datetime.time(3, 27), datetime.time(10, 10), datetime.time(8, 32), datetime.time(16, 33), datetime.time(10, 53), datetime.time(14, 54), datetime.time(12, 45), datetime.time(3, 11), datetime.time(12, 27), datetime.time(17, 16), datetime.time(17, 23), datetime.time(11, 7), datetime.time(12, 59), datetime.time(15, 22), datetime.time(14, 50), datetime.time(15, 26), datetime.time(14, 12), datetime.time(17, 12), datetime.time(9, 54), datetime.time(13, 55), datetime.time(13, 44), datetime.time(15, 17), datetime.time(11, 5), datetime.time(11, 35), datetime.time(10, 50), datetime.time(13, 45), datetime.time(11, 4), datetime.time(13, 44), datetime.time(14, 1), datetime.time(14, 11), datetime.time(15, 0), datetime.time(14, 28), datetime.time(15, 16), datetime.time(17, 8), datetime.time(12, 53), datetime.time(16, 5), datetime.time(16, 29), datetime.time(11, 36), datetime.time(12, 20), datetime.time(11, 6), datetime.time(15, 32), datetime.time(17, 19), datetime.time(16, 22), datetime.time(17, 20), datetime.time(11, 47), datetime.time(16, 7), datetime.time(12, 26), datetime.time(11, 50), datetime.time(14, 20), datetime.time(10, 49), datetime.time(10, 45), datetime.time(14, 6), datetime.time(12, 28), datetime.time(11, 5), datetime.time(12, 35), datetime.time(12, 23), datetime.time(12, 41), datetime.time(11, 52), datetime.time(13, 39), datetime.time(7, 8), datetime.time(14, 20), datetime.time(10, 2), datetime.time(15, 45), datetime.time(14, 26), datetime.time(12, 39), datetime.time(9, 29), datetime.time(1, 14), datetime.time(16, 34), datetime.time(14, 23), datetime.time(10, 30), datetime.time(8, 43), datetime.time(4, 9), datetime.time(11, 31), datetime.time(14, 58), datetime.time(12, 15), datetime.time(13, 0), datetime.time(17, 11), datetime.time(15, 16), datetime.time(14, 45), datetime.time(11, 46), datetime.time(16, 56), datetime.time(15, 39), datetime.time(13, 51), datetime.time(5, 57), datetime.time(10, 12), datetime.time(15, 43), datetime.time(5, 23), datetime.time(17, 13), datetime.time(12, 24), datetime.time(16, 16), datetime.time(14, 59), datetime.time(10, 23), datetime.time(15, 19), datetime.time(16, 2), datetime.time(13, 30), datetime.time(16, 9), datetime.time(17, 36), datetime.time(12, 30), datetime.time(14, 26), datetime.time(10, 35), datetime.time(11, 46), datetime.time(13, 34), datetime.time(13, 12), datetime.time(10, 52), datetime.time(15, 4), datetime.time(19, 8), datetime.time(14, 15), datetime.time(12, 45), datetime.time(13, 11), datetime.time(15, 19), datetime.time(17, 8), datetime.time(14, 4), datetime.time(16, 34), datetime.time(1, 59), datetime.time(12, 58), datetime.time(14, 10), datetime.time(10, 27), datetime.time(12, 15), datetime.time(12, 54), datetime.time(13, 59), datetime.time(13, 24), datetime.time(19, 13), datetime.time(17, 19), datetime.time(15, 18), datetime.time(14, 48), datetime.time(12, 56), datetime.time(15, 27), datetime.time(12, 24), datetime.time(15, 8), datetime.time(7, 2), datetime.time(7, 16), datetime.time(12, 26), datetime.time(17, 18), datetime.time(12, 37), datetime.time(16, 42), datetime.time(10, 23), datetime.time(11, 32), datetime.time(12, 45), datetime.time(13, 42), datetime.time(15, 0), datetime.time(11, 17), datetime.time(15, 16), datetime.time(14, 12), datetime.time(14, 23), datetime.time(10, 9), datetime.time(15, 47), datetime.time(19, 26), datetime.time(11, 29), datetime.time(15, 13), datetime.time(14, 15), datetime.time(2, 21), datetime.time(17, 35), datetime.time(3, 10), datetime.time(12, 15), datetime.time(12, 13), datetime.time(13, 59), datetime.time(12, 32), datetime.time(10, 5), datetime.time(16, 59), datetime.time(13, 57), datetime.time(17, 54), datetime.time(13, 52), datetime.time(14, 23), datetime.time(16, 0), datetime.time(19, 13), datetime.time(13, 29), datetime.time(16, 43), datetime.time(13, 25), datetime.time(11, 54), datetime.time(7, 48), datetime.time(15, 2), datetime.time(10, 23), datetime.time(17, 7), datetime.time(9, 5), datetime.time(12, 45), datetime.time(9, 59), datetime.time(13, 15), datetime.time(15, 0), datetime.time(14, 45), datetime.time(11, 20), datetime.time(11, 54), datetime.time(16, 33), datetime.time(11, 40), datetime.time(13, 40), datetime.time(14, 41), datetime.time(14, 52), datetime.time(14, 49), datetime.time(15, 0), datetime.time(17, 40), datetime.time(13, 38), datetime.time(19, 41), datetime.time(13, 45), datetime.time(14, 40), datetime.time(11, 58), datetime.time(15, 35), datetime.time(15, 59), datetime.time(13, 57), datetime.time(14, 15), datetime.time(14, 27), datetime.time(11, 45), datetime.time(8, 44), datetime.time(17, 6), datetime.time(11, 31), datetime.time(12, 17), datetime.time(14, 56), datetime.time(14, 3), datetime.time(14, 21), datetime.time(16, 5), datetime.time(7, 44), datetime.time(13, 39), datetime.time(11, 52), datetime.time(3, 24), datetime.time(15, 31), datetime.time(14, 56), datetime.time(16, 20), datetime.time(10, 27), datetime.time(15, 0), datetime.time(16, 14), datetime.time(11, 27), datetime.time(11, 23), datetime.time(16, 59), datetime.time(10, 53), datetime.time(15, 37), datetime.time(15, 2), datetime.time(15, 1), datetime.time(16, 54), datetime.time(12, 13), datetime.time(12, 0), datetime.time(14, 8), datetime.time(11, 47), datetime.time(14, 58), datetime.time(13, 55), datetime.time(3, 30), datetime.time(17, 2), datetime.time(11, 49), datetime.time(14, 57), datetime.time(10, 45), datetime.time(13, 42), datetime.time(14, 31), datetime.time(19, 0), datetime.time(13, 36), datetime.time(14, 30), datetime.time(12, 0), datetime.time(12, 37), datetime.time(13, 54), datetime.time(12, 30), datetime.time(12, 35), datetime.time(9, 55), datetime.time(13, 34), datetime.time(14, 24), datetime.time(10, 16), datetime.time(10, 3), datetime.time(14, 28), datetime.time(12, 18), datetime.time(16, 15), datetime.time(10, 52), datetime.time(15, 18), datetime.time(10, 24), datetime.time(17, 1), datetime.time(1, 56), datetime.time(17, 52), datetime.time(17, 15), datetime.time(13, 48), datetime.time(13, 50), datetime.time(10, 35), datetime.time(16, 25), datetime.time(15, 29), datetime.time(11, 19), datetime.time(14, 0), datetime.time(12, 22), datetime.time(11, 21), datetime.time(15, 1), datetime.time(9, 59), datetime.time(9, 12), datetime.time(15, 20), datetime.time(15, 0), datetime.time(10, 40), datetime.time(17, 55), datetime.time(1, 28), datetime.time(14, 45), datetime.time(10, 4), datetime.time(16, 25), datetime.time(14, 39), datetime.time(19, 33), datetime.time(14, 1), datetime.time(12, 3), datetime.time(15, 13), datetime.time(13, 50), datetime.time(12, 27), datetime.time(12, 59), datetime.time(10, 10), datetime.time(18, 49), datetime.time(11, 29), datetime.time(13, 9), datetime.time(11, 53), datetime.time(14, 42), datetime.time(17, 36), datetime.time(10, 49), datetime.time(14, 47), datetime.time(10, 18), datetime.time(14, 39), datetime.time(13, 9), datetime.time(14, 10), datetime.time(14, 27), datetime.time(14, 12), datetime.time(10, 16), datetime.time(11, 16), datetime.time(11, 11), datetime.time(12, 15), datetime.time(13, 28), datetime.time(11, 43), datetime.time(15, 37), datetime.time(14, 4), datetime.time(12, 3), datetime.time(5, 57), datetime.time(13, 21), datetime.time(13, 45), datetime.time(9, 32), datetime.time(14, 34), datetime.time(12, 23), datetime.time(10, 35), datetime.time(11, 9), datetime.time(16, 41), datetime.time(14, 28), datetime.time(12, 40), datetime.time(8, 56), datetime.time(19, 46), datetime.time(6, 50), datetime.time(15, 21), datetime.time(13, 13), datetime.time(14, 0), datetime.time(15, 45), datetime.time(10, 15), datetime.time(12, 19), datetime.time(12, 29), datetime.time(11, 37), datetime.time(16, 18), datetime.time(15, 45), datetime.time(15, 43), datetime.time(15, 15), datetime.time(12, 34), datetime.time(14, 40), datetime.time(17, 4), datetime.time(11, 15), datetime.time(10, 2), datetime.time(8, 4), datetime.time(15, 0), datetime.time(11, 45), datetime.time(11, 3), datetime.time(11, 55), datetime.time(15, 22), datetime.time(11, 10), datetime.time(14, 43), datetime.time(15, 1), datetime.time(12, 32), datetime.time(20, 2), datetime.time(10, 27), datetime.time(17, 3), datetime.time(11, 45), datetime.time(13, 43), datetime.time(12, 32), datetime.time(11, 53), datetime.time(15, 17), datetime.time(6, 13), datetime.time(10, 40), datetime.time(11, 27), datetime.time(17, 31), datetime.time(15, 32), datetime.time(11, 29), datetime.time(14, 9), datetime.time(12, 15), datetime.time(14, 8), datetime.time(10, 39), datetime.time(14, 12), datetime.time(8, 34), datetime.time(12, 38), datetime.time(11, 30), datetime.time(15, 12), datetime.time(15, 41), datetime.time(15, 38), datetime.time(10, 56), datetime.time(15, 15), datetime.time(13, 16), datetime.time(14, 7), datetime.time(12, 50), datetime.time(17, 26), datetime.time(10, 10), datetime.time(10, 4), datetime.time(14, 45), datetime.time(13, 54), datetime.time(11, 49), datetime.time(15, 28), datetime.time(14, 24), datetime.time(13, 15), datetime.time(14, 30), datetime.time(16, 40), datetime.time(13, 14), datetime.time(14, 10), datetime.time(15, 10), datetime.time(12, 10), datetime.time(17, 44), datetime.time(3, 22), datetime.time(12, 15), datetime.time(13, 45), datetime.time(13, 51), datetime.time(13, 24), datetime.time(14, 43), datetime.time(14, 46), datetime.time(13, 43), datetime.time(17, 8), datetime.time(14, 16), datetime.time(13, 22), datetime.time(15, 59), datetime.time(14, 14), datetime.time(10, 25), datetime.time(11, 21), datetime.time(16, 7), datetime.time(11, 25), datetime.time(10, 21), datetime.time(14, 51), datetime.time(11, 54), datetime.time(15, 43), datetime.time(12, 47), datetime.time(15, 15), datetime.time(10, 31), datetime.time(12, 55), datetime.time(14, 15), datetime.time(16, 58), datetime.time(11, 45), datetime.time(14, 51), datetime.time(12, 32), datetime.time(16, 5), datetime.time(12, 56), datetime.time(10, 0), datetime.time(11, 21), datetime.time(13, 32), datetime.time(13, 23), datetime.time(14, 59), datetime.time(15, 17), datetime.time(5, 34), datetime.time(8, 25), datetime.time(18, 50), datetime.time(15, 26), datetime.time(0, 0), datetime.time(16, 49), datetime.time(10, 24), datetime.time(18, 3), datetime.time(13, 53), datetime.time(10, 25), datetime.time(15, 3), datetime.time(13, 15), datetime.time(15, 9), datetime.time(18, 15), datetime.time(15, 39), datetime.time(11, 16), datetime.time(13, 17), datetime.time(16, 58), datetime.time(10, 3), datetime.time(12, 35), datetime.time(8, 10), datetime.time(12, 20), datetime.time(11, 57), datetime.time(11, 2), datetime.time(15, 9), datetime.time(11, 57), datetime.time(10, 41), datetime.time(11, 34), datetime.time(13, 11), datetime.time(10, 23), datetime.time(13, 42), datetime.time(15, 3), datetime.time(9, 42), datetime.time(12, 12), datetime.time(10, 54), datetime.time(15, 57), datetime.time(13, 33), datetime.time(13, 23), datetime.time(4, 57), datetime.time(10, 52), datetime.time(15, 41), datetime.time(14, 25), datetime.time(15, 25), datetime.time(12, 51), datetime.time(17, 11), datetime.time(13, 38), datetime.time(11, 40), datetime.time(18, 3), datetime.time(14, 28), datetime.time(15, 58), datetime.time(14, 15), datetime.time(12, 41), datetime.time(11, 43), datetime.time(15, 3), datetime.time(11, 55), datetime.time(14, 21), datetime.time(13, 13), datetime.time(9, 24), datetime.time(11, 59), datetime.time(7, 53), datetime.time(16, 48), datetime.time(11, 53), datetime.time(17, 10), datetime.time(12, 15), datetime.time(19, 43), datetime.time(11, 21), datetime.time(12, 35), datetime.time(20, 5), datetime.time(14, 0), datetime.time(12, 38), datetime.time(12, 51), datetime.time(10, 2), datetime.time(17, 0), datetime.time(12, 27), datetime.time(16, 24), datetime.time(16, 45), datetime.time(13, 31), datetime.time(19, 3), datetime.time(12, 6), datetime.time(14, 8), datetime.time(13, 56), datetime.time(10, 11), datetime.time(14, 8), datetime.time(11, 21), datetime.time(12, 9), datetime.time(11, 23), datetime.time(18, 54), datetime.time(19, 11), datetime.time(10, 55), datetime.time(11, 33), datetime.time(10, 54), datetime.time(19, 14), datetime.time(10, 44), datetime.time(16, 49), datetime.time(17, 31), datetime.time(10, 2), datetime.time(16, 41), datetime.time(12, 25), datetime.time(17, 15), datetime.time(14, 18), datetime.time(14, 53), datetime.time(19, 0), datetime.time(14, 45), datetime.time(0, 0), datetime.time(13, 27), datetime.time(1, 28), datetime.time(14, 0), datetime.time(8, 29), datetime.time(15, 59), datetime.time(12, 54), datetime.time(12, 2), datetime.time(10, 32), datetime.time(14, 43), datetime.time(11, 59), datetime.time(14, 21), datetime.time(2, 15), datetime.time(10, 2), datetime.time(15, 4), datetime.time(14, 15), datetime.time(13, 37), datetime.time(11, 40), datetime.time(15, 6), datetime.time(16, 55), datetime.time(14, 38), datetime.time(13, 44), datetime.time(14, 14), datetime.time(10, 6), datetime.time(18, 0), datetime.time(13, 3), datetime.time(10, 29), datetime.time(16, 56), datetime.time(12, 1), datetime.time(18, 2), datetime.time(11, 27), datetime.time(8, 49), datetime.time(16, 4), datetime.time(14, 40), datetime.time(10, 41), datetime.time(13, 42), datetime.time(9, 44), datetime.time(13, 30), datetime.time(12, 31), datetime.time(18, 52), datetime.time(16, 23), datetime.time(12, 22), datetime.time(0, 0), datetime.time(16, 9), datetime.time(10, 17), datetime.time(17, 24), datetime.time(14, 11), datetime.time(17, 42), datetime.time(12, 45), datetime.time(11, 34), datetime.time(13, 9), datetime.time(10, 25), datetime.time(14, 33), datetime.time(16, 51), datetime.time(15, 10), datetime.time(12, 21), datetime.time(16, 15), datetime.time(16, 15), datetime.time(10, 49), datetime.time(11, 51), datetime.time(15, 30), datetime.time(14, 33), datetime.time(11, 45), datetime.time(13, 0), datetime.time(14, 18), datetime.time(10, 45), datetime.time(16, 34), datetime.time(11, 15), datetime.time(12, 34), datetime.time(13, 58), datetime.time(15, 12), datetime.time(14, 47), datetime.time(16, 17), datetime.time(10, 30), datetime.time(14, 34), datetime.time(10, 55), datetime.time(10, 55), datetime.time(14, 50), datetime.time(19, 42), datetime.time(15, 36), datetime.time(10, 7), datetime.time(17, 8), datetime.time(14, 56), datetime.time(13, 10), datetime.time(15, 7), datetime.time(14, 7), datetime.time(13, 34), datetime.time(16, 39), datetime.time(16, 4), datetime.time(12, 8), datetime.time(13, 26), datetime.time(10, 57), datetime.time(12, 24), datetime.time(11, 17), datetime.time(2, 43), datetime.time(15, 28), datetime.time(16, 38), datetime.time(15, 0), datetime.time(10, 58), datetime.time(13, 49), datetime.time(8, 47), datetime.time(15, 35), datetime.time(15, 37), datetime.time(12, 9), datetime.time(13, 19), datetime.time(14, 37), datetime.time(10, 20), datetime.time(11, 28), datetime.time(15, 50), datetime.time(14, 25), datetime.time(15, 17), datetime.time(12, 20), datetime.time(15, 55), datetime.time(15, 38), datetime.time(14, 43), datetime.time(12, 22), datetime.time(14, 35), datetime.time(15, 18), datetime.time(19, 24), datetime.time(8, 45), datetime.time(10, 27), datetime.time(13, 37), datetime.time(15, 25), datetime.time(12, 29), datetime.time(14, 20), datetime.time(14, 57), datetime.time(14, 3), datetime.time(13, 33), datetime.time(15, 50), datetime.time(13, 43), datetime.time(8, 40), datetime.time(16, 0), datetime.time(15, 39), datetime.time(12, 49), datetime.time(15, 15), datetime.time(13, 28), datetime.time(11, 46), datetime.time(13, 29), datetime.time(14, 49), datetime.time(10, 51), datetime.time(13, 18), datetime.time(14, 22), datetime.time(10, 55), datetime.time(15, 3), datetime.time(16, 31), datetime.time(14, 58), datetime.time(17, 4), datetime.time(15, 15), datetime.time(12, 39), datetime.time(7, 22), datetime.time(11, 36), datetime.time(11, 1), datetime.time(15, 15), datetime.time(8, 10), datetime.time(13, 21), datetime.time(15, 43), datetime.time(8, 37), datetime.time(10, 10), datetime.time(10, 46), datetime.time(15, 18), datetime.time(17, 23), datetime.time(10, 5), datetime.time(15, 1), datetime.time(12, 2), datetime.time(10, 12), datetime.time(14, 39), datetime.time(11, 28), datetime.time(12, 29), datetime.time(14, 55), datetime.time(11, 44), datetime.time(18, 45), datetime.time(13, 30), datetime.time(14, 42), datetime.time(17, 2), datetime.time(13, 14), datetime.time(12, 29), datetime.time(12, 17), datetime.time(13, 18), datetime.time(14, 22), datetime.time(9, 43), datetime.time(15, 22), datetime.time(14, 28), datetime.time(2, 25), datetime.time(12, 25), datetime.time(16, 0), datetime.time(13, 49), datetime.time(14, 52), datetime.time(10, 34), datetime.time(10, 46), datetime.time(9, 11), datetime.time(17, 17), datetime.time(3, 19), datetime.time(14, 22), datetime.time(16, 41), datetime.time(14, 29), datetime.time(15, 56), datetime.time(11, 34), datetime.time(13, 46), datetime.time(10, 41), datetime.time(10, 26), datetime.time(11, 43), datetime.time(13, 23), datetime.time(15, 43), datetime.time(12, 29), datetime.time(14, 15), datetime.time(15, 48), datetime.time(14, 52), datetime.time(14, 9), datetime.time(17, 20), datetime.time(19, 27), datetime.time(17, 40), datetime.time(15, 36), datetime.time(18, 30), datetime.time(15, 54), datetime.time(12, 32), datetime.time(10, 7), datetime.time(16, 56), datetime.time(14, 45), datetime.time(3, 28), datetime.time(14, 53)]",
            "count": 1
           },
           {
            "name": "[datetime.time(18, 35), datetime.time(13, 42), datetime.time(11, 21), datetime.time(11, 48), datetime.time(13, 11), datetime.time(14, 45), datetime.time(11, 54), datetime.time(12, 5), datetime.time(14, 17), datetime.time(15, 15), datetime.time(12, 34), datetime.time(11, 44), datetime.time(18, 0), datetime.time(1, 56), datetime.time(14, 31), datetime.time(10, 49), datetime.time(15, 0), datetime.time(13, 25), datetime.time(14, 42), datetime.time(13, 31), datetime.time(13, 26), datetime.time(14, 27), datetime.time(18, 0), datetime.time(10, 42), datetime.time(12, 26), datetime.time(13, 38), datetime.time(16, 5), datetime.time(13, 49), datetime.time(17, 51), datetime.time(3, 45), datetime.time(15, 32), datetime.time(10, 30), datetime.time(15, 53), datetime.time(11, 23), datetime.time(16, 17), datetime.time(0, 0), datetime.time(13, 41), datetime.time(17, 42), datetime.time(18, 15), datetime.time(14, 2), datetime.time(14, 15), datetime.time(9, 21), datetime.time(11, 55), datetime.time(13, 23), datetime.time(10, 40), datetime.time(13, 2), datetime.time(11, 2), datetime.time(12, 36), datetime.time(15, 38), datetime.time(12, 9), datetime.time(16, 3), datetime.time(14, 14), datetime.time(14, 15), datetime.time(10, 25), datetime.time(13, 55), datetime.time(12, 15), datetime.time(14, 5), datetime.time(13, 57), datetime.time(14, 7), datetime.time(13, 36), datetime.time(17, 43), datetime.time(13, 15), datetime.time(13, 35), datetime.time(12, 34), datetime.time(11, 3), datetime.time(10, 50), datetime.time(10, 54), datetime.time(16, 30), datetime.time(15, 33), datetime.time(14, 20), datetime.time(11, 46), datetime.time(11, 14), datetime.time(8, 53), datetime.time(9, 21), datetime.time(17, 30), datetime.time(16, 18), datetime.time(13, 53), datetime.time(11, 53), datetime.time(11, 1), datetime.time(9, 25), datetime.time(8, 51), datetime.time(16, 25), datetime.time(15, 33), datetime.time(14, 59), datetime.time(13, 56), datetime.time(15, 15), datetime.time(15, 0), datetime.time(12, 3), datetime.time(13, 0), datetime.time(14, 6), datetime.time(13, 39), datetime.time(14, 30), datetime.time(15, 59), datetime.time(13, 45), datetime.time(10, 10), datetime.time(10, 29), datetime.time(14, 25), datetime.time(12, 34), datetime.time(15, 47), datetime.time(14, 30), datetime.time(1, 46), datetime.time(15, 36), datetime.time(16, 20), datetime.time(8, 11), datetime.time(10, 43), datetime.time(10, 13), datetime.time(13, 37), datetime.time(11, 45), datetime.time(16, 0), datetime.time(12, 29), datetime.time(17, 46), datetime.time(13, 59), datetime.time(2, 3), datetime.time(11, 53), datetime.time(15, 13), datetime.time(15, 18), datetime.time(14, 25), datetime.time(15, 13), datetime.time(10, 15), datetime.time(10, 40), datetime.time(11, 35), datetime.time(15, 35), datetime.time(17, 35), datetime.time(12, 53), datetime.time(13, 35), datetime.time(13, 11), datetime.time(9, 48), datetime.time(10, 57), datetime.time(10, 49), datetime.time(14, 56), datetime.time(10, 42), datetime.time(12, 6), datetime.time(15, 37), datetime.time(14, 52), datetime.time(11, 35), datetime.time(16, 2), datetime.time(13, 48), datetime.time(15, 10), datetime.time(9, 45), datetime.time(15, 45), datetime.time(14, 28), datetime.time(16, 57), datetime.time(12, 46), datetime.time(9, 9), datetime.time(14, 17), datetime.time(12, 53), datetime.time(9, 1), datetime.time(10, 0), datetime.time(7, 24), datetime.time(14, 45), datetime.time(14, 26), datetime.time(12, 35), datetime.time(13, 52), datetime.time(14, 0), datetime.time(15, 6), datetime.time(0, 0), datetime.time(2, 4), datetime.time(9, 37), datetime.time(13, 23), datetime.time(12, 50), datetime.time(2, 37), datetime.time(2, 25), datetime.time(10, 30), datetime.time(10, 27), datetime.time(13, 52), datetime.time(13, 57), datetime.time(10, 24), datetime.time(14, 51), datetime.time(10, 47), datetime.time(16, 49), datetime.time(15, 12), datetime.time(12, 45), datetime.time(9, 37), datetime.time(15, 12), datetime.time(12, 53), datetime.time(11, 11), datetime.time(15, 4), datetime.time(15, 44), datetime.time(0, 0), datetime.time(2, 53), datetime.time(8, 3), datetime.time(14, 40), datetime.time(14, 5), datetime.time(15, 58), datetime.time(10, 49), datetime.time(14, 5), datetime.time(14, 58), datetime.time(14, 54), datetime.time(11, 49), datetime.time(13, 58), datetime.time(16, 6), datetime.time(11, 59), datetime.time(13, 3), datetime.time(12, 9), datetime.time(10, 13), datetime.time(13, 47), datetime.time(13, 30), datetime.time(14, 59), datetime.time(10, 25), datetime.time(16, 13), datetime.time(16, 30), datetime.time(15, 26), datetime.time(11, 35), datetime.time(16, 0), datetime.time(14, 16), datetime.time(14, 24), datetime.time(13, 30), datetime.time(11, 18), datetime.time(12, 51), datetime.time(15, 10), datetime.time(13, 34), datetime.time(15, 54), datetime.time(11, 9), datetime.time(10, 56), datetime.time(14, 4), datetime.time(14, 32), datetime.time(10, 42), datetime.time(16, 21), datetime.time(13, 12), datetime.time(12, 6), datetime.time(7, 22), datetime.time(15, 10), datetime.time(19, 17), datetime.time(13, 15), datetime.time(13, 16), datetime.time(14, 3), datetime.time(12, 53), datetime.time(11, 29), datetime.time(10, 48), datetime.time(14, 0), datetime.time(14, 58), datetime.time(2, 0), datetime.time(14, 56), datetime.time(11, 47), datetime.time(10, 37), datetime.time(15, 11), datetime.time(15, 20), datetime.time(13, 45), datetime.time(15, 8), datetime.time(10, 27), datetime.time(13, 53), datetime.time(18, 19), datetime.time(11, 43), datetime.time(15, 38), datetime.time(10, 24), datetime.time(15, 45), datetime.time(14, 1), datetime.time(9, 59), datetime.time(13, 2), datetime.time(10, 5), datetime.time(12, 23), datetime.time(11, 26), datetime.time(11, 48), datetime.time(14, 36), datetime.time(14, 50), datetime.time(13, 53), datetime.time(14, 0), datetime.time(15, 47), datetime.time(14, 28), datetime.time(13, 55), datetime.time(14, 7), datetime.time(12, 4), datetime.time(14, 39), datetime.time(14, 50), datetime.time(15, 0), datetime.time(15, 18), datetime.time(17, 47), datetime.time(15, 7), datetime.time(9, 25), datetime.time(10, 16), datetime.time(15, 6), datetime.time(9, 54), datetime.time(16, 2), datetime.time(17, 55), datetime.time(14, 12), datetime.time(10, 2), datetime.time(14, 24), datetime.time(15, 10), datetime.time(15, 24), datetime.time(10, 32), datetime.time(14, 37), datetime.time(11, 8), datetime.time(15, 1), datetime.time(14, 32), datetime.time(14, 7), datetime.time(10, 38), datetime.time(15, 11), datetime.time(10, 44), datetime.time(13, 1), datetime.time(11, 59), datetime.time(11, 57), datetime.time(16, 56), datetime.time(12, 26), datetime.time(14, 39), datetime.time(16, 47), datetime.time(14, 13), datetime.time(8, 20), datetime.time(14, 37), datetime.time(13, 51), datetime.time(1, 46), datetime.time(14, 23), datetime.time(12, 37), datetime.time(16, 26), datetime.time(16, 12), datetime.time(12, 35), datetime.time(15, 40), datetime.time(15, 3), datetime.time(9, 50), datetime.time(13, 0), datetime.time(10, 25), datetime.time(12, 55), datetime.time(16, 32), datetime.time(15, 5), datetime.time(10, 3), datetime.time(14, 6), datetime.time(17, 53), datetime.time(13, 48), datetime.time(16, 20), datetime.time(9, 13), datetime.time(16, 17), datetime.time(14, 33), datetime.time(15, 8), datetime.time(13, 6), datetime.time(14, 9), datetime.time(15, 53), datetime.time(12, 30), datetime.time(10, 15), datetime.time(12, 41), datetime.time(15, 57), datetime.time(15, 5), datetime.time(14, 36), datetime.time(11, 53), datetime.time(16, 13), datetime.time(10, 31), datetime.time(15, 12), datetime.time(11, 30), datetime.time(16, 15), datetime.time(12, 26), datetime.time(18, 21), datetime.time(16, 54), datetime.time(16, 12), datetime.time(15, 3), datetime.time(11, 32), datetime.time(14, 4), datetime.time(13, 39), datetime.time(10, 55), datetime.time(12, 32), datetime.time(0, 0), datetime.time(14, 52), datetime.time(14, 30), datetime.time(16, 45), datetime.time(14, 50), datetime.time(18, 13), datetime.time(14, 20), datetime.time(13, 45), datetime.time(16, 55), datetime.time(11, 10), datetime.time(16, 24), datetime.time(2, 26), datetime.time(13, 16), datetime.time(16, 9), datetime.time(14, 45), datetime.time(14, 22), datetime.time(14, 36), datetime.time(14, 18), datetime.time(11, 31), datetime.time(11, 39), datetime.time(13, 0), datetime.time(14, 14), datetime.time(14, 23), datetime.time(13, 57), datetime.time(15, 39), datetime.time(18, 24), datetime.time(15, 0), datetime.time(12, 45), datetime.time(14, 3), datetime.time(12, 44), datetime.time(11, 38), datetime.time(14, 46), datetime.time(13, 35), datetime.time(11, 15), datetime.time(13, 30), datetime.time(12, 47), datetime.time(13, 50), datetime.time(13, 40), datetime.time(11, 53), datetime.time(7, 52), datetime.time(10, 34), datetime.time(16, 0), datetime.time(14, 2), datetime.time(1, 51), datetime.time(10, 20), datetime.time(14, 49), datetime.time(14, 39), datetime.time(11, 33), datetime.time(11, 2), datetime.time(12, 27), datetime.time(0, 0), datetime.time(12, 2), datetime.time(13, 32), datetime.time(11, 20), datetime.time(12, 47), datetime.time(13, 26), datetime.time(14, 8), datetime.time(15, 3), datetime.time(4, 4), datetime.time(15, 51), datetime.time(15, 51), datetime.time(11, 11), datetime.time(12, 44), datetime.time(11, 45), datetime.time(14, 55), datetime.time(13, 23), datetime.time(16, 0), datetime.time(15, 34), datetime.time(14, 51), datetime.time(14, 36), datetime.time(13, 29), datetime.time(11, 7), datetime.time(12, 10), datetime.time(10, 26), datetime.time(12, 58), datetime.time(14, 53), datetime.time(18, 20), datetime.time(9, 32), datetime.time(12, 20), datetime.time(9, 48), datetime.time(15, 1), datetime.time(15, 5), datetime.time(14, 58), datetime.time(14, 21), datetime.time(11, 40), datetime.time(9, 55), datetime.time(14, 29), datetime.time(15, 5), datetime.time(16, 41), datetime.time(13, 56), datetime.time(15, 17), datetime.time(12, 35), datetime.time(10, 55), datetime.time(2, 42), datetime.time(10, 57), datetime.time(10, 50), datetime.time(13, 31), datetime.time(9, 26), datetime.time(13, 59), datetime.time(14, 53), datetime.time(11, 21), datetime.time(11, 29), datetime.time(15, 38), datetime.time(10, 15), datetime.time(15, 30), datetime.time(14, 29), datetime.time(12, 49), datetime.time(14, 28), datetime.time(15, 8), datetime.time(11, 13), datetime.time(14, 17), datetime.time(18, 2), datetime.time(11, 44), datetime.time(18, 20), datetime.time(12, 27), datetime.time(15, 55), datetime.time(12, 46), datetime.time(13, 4), datetime.time(11, 56), datetime.time(13, 41), datetime.time(16, 10), datetime.time(10, 7), datetime.time(13, 17), datetime.time(13, 56), datetime.time(10, 4), datetime.time(12, 55), datetime.time(15, 5), datetime.time(15, 2), datetime.time(12, 57), datetime.time(11, 5), datetime.time(14, 42), datetime.time(11, 5), datetime.time(14, 29), datetime.time(14, 13), datetime.time(0, 0), datetime.time(12, 35), datetime.time(11, 1), datetime.time(13, 16), datetime.time(10, 45), datetime.time(13, 47), datetime.time(12, 0), datetime.time(11, 39), datetime.time(11, 39), datetime.time(12, 29), datetime.time(2, 2), datetime.time(17, 37), datetime.time(13, 14), datetime.time(12, 7), datetime.time(14, 14), datetime.time(11, 36), datetime.time(11, 34), datetime.time(9, 1), datetime.time(10, 46), datetime.time(13, 30), datetime.time(11, 6), datetime.time(11, 15), datetime.time(11, 11), datetime.time(11, 42), datetime.time(16, 4), datetime.time(10, 9), datetime.time(17, 5), datetime.time(14, 35), datetime.time(13, 11), datetime.time(9, 50), datetime.time(13, 43), datetime.time(17, 42), datetime.time(14, 45), datetime.time(14, 1), datetime.time(15, 39), datetime.time(11, 6), datetime.time(11, 30), datetime.time(15, 3), datetime.time(15, 4), datetime.time(0, 0), datetime.time(9, 36), datetime.time(16, 17), datetime.time(18, 0), datetime.time(10, 53), datetime.time(10, 51), datetime.time(13, 45), datetime.time(13, 16), datetime.time(12, 45), datetime.time(16, 42), datetime.time(0, 0), datetime.time(11, 55), datetime.time(15, 9), datetime.time(12, 15), datetime.time(16, 19), datetime.time(16, 27), datetime.time(11, 0), datetime.time(12, 21), datetime.time(15, 17), datetime.time(8, 9), datetime.time(15, 52), datetime.time(10, 16), datetime.time(15, 50), datetime.time(10, 17), datetime.time(15, 15), datetime.time(15, 19), datetime.time(13, 35), datetime.time(15, 54), datetime.time(9, 59), datetime.time(12, 19), datetime.time(12, 8), datetime.time(14, 23), datetime.time(12, 26), datetime.time(14, 15), datetime.time(3, 13), datetime.time(15, 48), datetime.time(11, 4), datetime.time(13, 25), datetime.time(15, 19), datetime.time(10, 43), datetime.time(9, 37), datetime.time(16, 6), datetime.time(13, 15), datetime.time(16, 27), datetime.time(16, 13), datetime.time(15, 11), datetime.time(11, 3), datetime.time(13, 28), datetime.time(16, 18), datetime.time(15, 21), datetime.time(12, 31), datetime.time(14, 15), datetime.time(13, 13), datetime.time(11, 14), datetime.time(13, 28), datetime.time(2, 3), datetime.time(15, 8), datetime.time(15, 23), datetime.time(14, 25), datetime.time(10, 58), datetime.time(18, 0), datetime.time(2, 25), datetime.time(15, 45), datetime.time(0, 0), datetime.time(12, 44), datetime.time(10, 33), datetime.time(14, 43), datetime.time(11, 35), datetime.time(13, 59), datetime.time(16, 8), datetime.time(10, 53), datetime.time(16, 0), datetime.time(14, 0), datetime.time(16, 39), datetime.time(17, 36), datetime.time(10, 44), datetime.time(12, 3), datetime.time(13, 52), datetime.time(15, 3), datetime.time(13, 2), datetime.time(14, 2), datetime.time(15, 58), datetime.time(14, 23), datetime.time(14, 28), datetime.time(16, 28), datetime.time(14, 15), datetime.time(14, 37), datetime.time(13, 5), datetime.time(10, 37), datetime.time(14, 9), datetime.time(16, 49), datetime.time(13, 1), datetime.time(14, 47), datetime.time(12, 20), datetime.time(15, 15), datetime.time(15, 7), datetime.time(10, 28), datetime.time(15, 24), datetime.time(14, 27), datetime.time(13, 26), datetime.time(14, 33), datetime.time(15, 23), datetime.time(15, 0), datetime.time(14, 15), datetime.time(12, 53), datetime.time(17, 51), datetime.time(17, 9), datetime.time(17, 15), datetime.time(12, 7), datetime.time(14, 18), datetime.time(10, 42), datetime.time(10, 48), datetime.time(14, 38), datetime.time(13, 13), datetime.time(13, 17), datetime.time(14, 30), datetime.time(15, 7), datetime.time(13, 8), datetime.time(10, 1), datetime.time(16, 6), datetime.time(15, 7), datetime.time(14, 53), datetime.time(16, 43), datetime.time(15, 20), datetime.time(11, 20), datetime.time(9, 45), datetime.time(3, 52), datetime.time(2, 5), datetime.time(12, 50), datetime.time(12, 51), datetime.time(15, 43), datetime.time(12, 44), datetime.time(16, 27), datetime.time(11, 30), datetime.time(14, 21), datetime.time(12, 1), datetime.time(10, 22), datetime.time(12, 29), datetime.time(10, 19), datetime.time(14, 16), datetime.time(12, 15), datetime.time(14, 29), datetime.time(10, 20), datetime.time(17, 56), datetime.time(1, 31), datetime.time(16, 52), datetime.time(8, 11), datetime.time(8, 13), datetime.time(10, 4), datetime.time(12, 48), datetime.time(13, 45), datetime.time(14, 44), datetime.time(16, 22), datetime.time(11, 18), datetime.time(12, 17), datetime.time(12, 19), datetime.time(12, 40), datetime.time(10, 30), datetime.time(14, 42), datetime.time(10, 54), datetime.time(12, 20), datetime.time(13, 45), datetime.time(12, 6), datetime.time(13, 43), datetime.time(16, 7), datetime.time(16, 24), datetime.time(16, 26), datetime.time(13, 44), datetime.time(14, 30), datetime.time(15, 34), datetime.time(16, 27), datetime.time(12, 24), datetime.time(11, 2), datetime.time(16, 26), datetime.time(13, 56), datetime.time(14, 45), datetime.time(16, 33), datetime.time(18, 25), datetime.time(18, 28), datetime.time(16, 25), datetime.time(13, 23), datetime.time(14, 55), datetime.time(12, 0), datetime.time(15, 4), datetime.time(14, 15), datetime.time(14, 51), datetime.time(15, 17), datetime.time(14, 11), datetime.time(14, 2), datetime.time(18, 10), datetime.time(13, 37), datetime.time(8, 8), datetime.time(15, 10), datetime.time(14, 41), datetime.time(10, 52), datetime.time(12, 45), datetime.time(14, 0), datetime.time(12, 53), datetime.time(18, 18), datetime.time(17, 54), datetime.time(14, 3), datetime.time(13, 29), datetime.time(16, 49), datetime.time(3, 14), datetime.time(14, 5), datetime.time(10, 5), datetime.time(10, 29), datetime.time(13, 57), datetime.time(10, 25), datetime.time(16, 44), datetime.time(14, 25), datetime.time(14, 53), datetime.time(13, 36), datetime.time(14, 15), datetime.time(11, 10), datetime.time(11, 31), datetime.time(13, 42), datetime.time(10, 31), datetime.time(11, 40), datetime.time(15, 53), datetime.time(12, 28), datetime.time(15, 43), datetime.time(12, 10), datetime.time(8, 58), datetime.time(14, 24), datetime.time(15, 1), datetime.time(15, 6), datetime.time(0, 0), datetime.time(11, 43), datetime.time(10, 21), datetime.time(15, 41), datetime.time(16, 55), datetime.time(12, 45)]",
            "count": 1
           },
           {
            "name": "311 others",
            "count": 311
           }
          ]
         }
        },
        {
         "name": "time",
         "dtype": "object",
         "stats": {
          "unique_count": 313,
          "nan_count": 0,
          "categories": [
           {
            "name": "2014-01-05",
            "count": 1
           },
           {
            "name": "2014-01-12",
            "count": 1
           },
           {
            "name": "311 others",
            "count": 311
           }
          ]
         }
        },
        {
         "name": "tavg",
         "dtype": "float64",
         "stats": {
          "unique_count": 186,
          "nan_count": 0,
          "min": "2.6",
          "max": "32.3",
          "histogram": [
           {
            "bin_start": 2.6,
            "bin_end": 5.57,
            "count": 4
           },
           {
            "bin_start": 5.57,
            "bin_end": 8.54,
            "count": 13
           },
           {
            "bin_start": 8.54,
            "bin_end": 11.51,
            "count": 26
           },
           {
            "bin_start": 11.51,
            "bin_end": 14.479999999999999,
            "count": 29
           },
           {
            "bin_start": 14.479999999999999,
            "bin_end": 17.45,
            "count": 30
           },
           {
            "bin_start": 17.45,
            "bin_end": 20.42,
            "count": 41
           },
           {
            "bin_start": 20.42,
            "bin_end": 23.39,
            "count": 35
           },
           {
            "bin_start": 23.39,
            "bin_end": 26.36,
            "count": 40
           },
           {
            "bin_start": 26.36,
            "bin_end": 29.33,
            "count": 49
           },
           {
            "bin_start": 29.33,
            "bin_end": 32.3,
            "count": 46
           }
          ]
         }
        },
        {
         "name": "tmin",
         "dtype": "float64",
         "stats": {
          "unique_count": 58,
          "nan_count": 0,
          "min": "-7.7",
          "max": "25.6",
          "histogram": [
           {
            "bin_start": -7.7,
            "bin_end": -4.369999999999999,
            "count": 6
           },
           {
            "bin_start": -4.369999999999999,
            "bin_end": -1.0399999999999991,
            "count": 12
           },
           {
            "bin_start": -1.0399999999999991,
            "bin_end": 2.290000000000002,
            "count": 44
           },
           {
            "bin_start": 2.290000000000002,
            "bin_end": 5.620000000000002,
            "count": 34
           },
           {
            "bin_start": 5.620000000000002,
            "bin_end": 8.950000000000003,
            "count": 41
           },
           {
            "bin_start": 8.950000000000003,
            "bin_end": 12.280000000000005,
            "count": 26
           },
           {
            "bin_start": 12.280000000000005,
            "bin_end": 15.610000000000003,
            "count": 27
           },
           {
            "bin_start": 15.610000000000003,
            "bin_end": 18.940000000000005,
            "count": 28
           },
           {
            "bin_start": 18.940000000000005,
            "bin_end": 22.270000000000007,
            "count": 45
           },
           {
            "bin_start": 22.270000000000007,
            "bin_end": 25.6,
            "count": 50
           }
          ]
         }
        },
        {
         "name": "tmax",
         "dtype": "float64",
         "stats": {
          "unique_count": 44,
          "nan_count": 0,
          "min": "16.7",
          "max": "43.3",
          "histogram": [
           {
            "bin_start": 16.7,
            "bin_end": 19.36,
            "count": 5
           },
           {
            "bin_start": 19.36,
            "bin_end": 22.02,
            "count": 14
           },
           {
            "bin_start": 22.02,
            "bin_end": 24.68,
            "count": 26
           },
           {
            "bin_start": 24.68,
            "bin_end": 27.339999999999996,
            "count": 33
           },
           {
            "bin_start": 27.339999999999996,
            "bin_end": 30,
            "count": 41
           },
           {
            "bin_start": 30,
            "bin_end": 32.66,
            "count": 55
           },
           {
            "bin_start": 32.66,
            "bin_end": 35.31999999999999,
            "count": 52
           },
           {
            "bin_start": 35.31999999999999,
            "bin_end": 37.98,
            "count": 41
           },
           {
            "bin_start": 37.98,
            "bin_end": 40.64,
            "count": 43
           },
           {
            "bin_start": 40.64,
            "bin_end": 43.3,
            "count": 3
           }
          ]
         }
        },
        {
         "name": "prcp",
         "dtype": "float64",
         "stats": {
          "unique_count": 152,
          "nan_count": 0,
          "min": "0.0",
          "max": "201.6",
          "histogram": [
           {
            "bin_start": 0,
            "bin_end": 20.16,
            "count": 225
           },
           {
            "bin_start": 20.16,
            "bin_end": 40.32,
            "count": 35
           },
           {
            "bin_start": 40.32,
            "bin_end": 60.480000000000004,
            "count": 20
           },
           {
            "bin_start": 60.480000000000004,
            "bin_end": 80.64,
            "count": 12
           },
           {
            "bin_start": 80.64,
            "bin_end": 100.8,
            "count": 10
           },
           {
            "bin_start": 100.8,
            "bin_end": 120.96000000000001,
            "count": 2
           },
           {
            "bin_start": 120.96000000000001,
            "bin_end": 141.12,
            "count": 4
           },
           {
            "bin_start": 141.12,
            "bin_end": 161.28,
            "count": 3
           },
           {
            "bin_start": 161.28,
            "bin_end": 181.44,
            "count": 1
           },
           {
            "bin_start": 181.44,
            "bin_end": 201.6,
            "count": 1
           }
          ]
         }
        },
        {
         "name": "snow",
         "dtype": "float64",
         "stats": {
          "unique_count": 1,
          "nan_count": 0,
          "min": "0.0",
          "max": "0.0",
          "histogram": [
           {
            "bin_start": -0.5,
            "bin_end": -0.4,
            "count": 0
           },
           {
            "bin_start": -0.4,
            "bin_end": -0.3,
            "count": 0
           },
           {
            "bin_start": -0.3,
            "bin_end": -0.19999999999999996,
            "count": 0
           },
           {
            "bin_start": -0.19999999999999996,
            "bin_end": -0.09999999999999998,
            "count": 0
           },
           {
            "bin_start": -0.09999999999999998,
            "bin_end": 0,
            "count": 0
           },
           {
            "bin_start": 0,
            "bin_end": 0.10000000000000009,
            "count": 313
           },
           {
            "bin_start": 0.10000000000000009,
            "bin_end": 0.20000000000000007,
            "count": 0
           },
           {
            "bin_start": 0.20000000000000007,
            "bin_end": 0.30000000000000004,
            "count": 0
           },
           {
            "bin_start": 0.30000000000000004,
            "bin_end": 0.4,
            "count": 0
           },
           {
            "bin_start": 0.4,
            "bin_end": 0.5,
            "count": 0
           }
          ]
         }
        },
        {
         "name": "wspd",
         "dtype": "float64",
         "stats": {
          "unique_count": 83,
          "nan_count": 0,
          "min": "3.3",
          "max": "14.2",
          "histogram": [
           {
            "bin_start": 3.3,
            "bin_end": 4.39,
            "count": 8
           },
           {
            "bin_start": 4.39,
            "bin_end": 5.4799999999999995,
            "count": 23
           },
           {
            "bin_start": 5.4799999999999995,
            "bin_end": 6.569999999999999,
            "count": 48
           },
           {
            "bin_start": 6.569999999999999,
            "bin_end": 7.659999999999999,
            "count": 76
           },
           {
            "bin_start": 7.659999999999999,
            "bin_end": 8.75,
            "count": 65
           },
           {
            "bin_start": 8.75,
            "bin_end": 9.84,
            "count": 45
           },
           {
            "bin_start": 9.84,
            "bin_end": 10.93,
            "count": 29
           },
           {
            "bin_start": 10.93,
            "bin_end": 12.02,
            "count": 13
           },
           {
            "bin_start": 12.02,
            "bin_end": 13.11,
            "count": 5
           },
           {
            "bin_start": 13.11,
            "bin_end": 14.2,
            "count": 1
           }
          ]
         }
        },
        {
         "name": "pres",
         "dtype": "float64",
         "stats": {
          "unique_count": 139,
          "nan_count": 0,
          "min": "1005.7",
          "max": "1033.7",
          "histogram": [
           {
            "bin_start": 1005.7,
            "bin_end": 1008.5,
            "count": 2
           },
           {
            "bin_start": 1008.5,
            "bin_end": 1011.3000000000001,
            "count": 27
           },
           {
            "bin_start": 1011.3000000000001,
            "bin_end": 1014.1,
            "count": 71
           },
           {
            "bin_start": 1014.1,
            "bin_end": 1016.9000000000001,
            "count": 83
           },
           {
            "bin_start": 1016.9000000000001,
            "bin_end": 1019.7,
            "count": 54
           },
           {
            "bin_start": 1019.7,
            "bin_end": 1022.5,
            "count": 36
           },
           {
            "bin_start": 1022.5,
            "bin_end": 1025.3,
            "count": 29
           },
           {
            "bin_start": 1025.3,
            "bin_end": 1028.1000000000001,
            "count": 6
           },
           {
            "bin_start": 1028.1000000000001,
            "bin_end": 1030.9,
            "count": 3
           },
           {
            "bin_start": 1030.9,
            "bin_end": 1033.7,
            "count": 2
           }
          ]
         }
        },
        {
         "name": "tsun",
         "dtype": "float64",
         "stats": {
          "unique_count": 1,
          "nan_count": 0,
          "min": "0.0",
          "max": "0.0",
          "histogram": [
           {
            "bin_start": -0.5,
            "bin_end": -0.4,
            "count": 0
           },
           {
            "bin_start": -0.4,
            "bin_end": -0.3,
            "count": 0
           },
           {
            "bin_start": -0.3,
            "bin_end": -0.19999999999999996,
            "count": 0
           },
           {
            "bin_start": -0.19999999999999996,
            "bin_end": -0.09999999999999998,
            "count": 0
           },
           {
            "bin_start": -0.09999999999999998,
            "bin_end": 0,
            "count": 0
           },
           {
            "bin_start": 0,
            "bin_end": 0.10000000000000009,
            "count": 313
           },
           {
            "bin_start": 0.10000000000000009,
            "bin_end": 0.20000000000000007,
            "count": 0
           },
           {
            "bin_start": 0.20000000000000007,
            "bin_end": 0.30000000000000004,
            "count": 0
           },
           {
            "bin_start": 0.30000000000000004,
            "bin_end": 0.4,
            "count": 0
           },
           {
            "bin_start": 0.4,
            "bin_end": 0.5,
            "count": 0
           }
          ]
         }
        },
        {
         "name": "_deepnote_index_column",
         "dtype": "int64"
        }
       ],
       "rows": [
        {
         "Date": "2014-01-05",
         "Load Type": "['GARBAGE COLLECTIONS', 'GARBAGE COLLECTIONS', 'GARBAGE COLLECTIONS', 'BULK', 'RECYCLING - SINGLE S…",
         "Load Weight": 9650424,
         "Dropoff Site": "['TDS LANDFILL', 'TDS LANDFILL', 'TDS LANDFILL', 'TDS LANDFILL', 'BALCONES RECYCLING', 'TDS LANDFIL…",
         "Route Type": "['GARBAGE COLLECTION', 'GARBAGE COLLECTION', 'GARBAGE COLLECTION', 'BULK', 'RECYCLING - SINGLE STRE…",
         "Route Number": "['PAW72', 'PAH71', 'PH34', 'BU06', 'RHBU13', 'PAF60', 'PW11', 'RWBU11', 'PAW05', 'RHBU25', 'PAT01',…",
         "Time": "[datetime.time(14, 12), datetime.time(12, 38), datetime.time(12, 15), datetime.time(12, 51), dateti…",
         "time": "2014-01-05",
         "tavg": 8,
         "tmin": -2.1,
         "tmax": 21.7,
         "prcp": 0,
         "snow": 0,
         "wspd": 8.7,
         "pres": 1023.5,
         "tsun": 0,
         "_deepnote_index_column": 0
        },
        {
         "Date": "2014-01-12",
         "Load Type": "['GARBAGE COLLECTIONS', 'GARBAGE COLLECTIONS', 'RECYCLING - SINGLE STREAM', 'DEAD ANIMAL', 'GARBAGE…",
         "Load Weight": 9311385,
         "Dropoff Site": "['TDS LANDFILL', 'TDS LANDFILL', 'TDS - MRF', 'TDS LANDFILL', 'TDS LANDFILL', 'TDS LANDFILL', 'TDS …",
         "Route Type": "['GARBAGE COLLECTION', 'GARBAGE COLLECTION', 'RECYCLING - SINGLE STREAM', 'DEAD ANIMAL', 'GARBAGE C…",
         "Route Number": "['PAW64', 'PH21', 'RMAU21', 'DA02', 'PAH09', 'PAW60', 'PAT03', 'RWAS33', 'DF1', 'BR21', 'PAF73', 'D…",
         "Time": "[datetime.time(18, 35), datetime.time(13, 42), datetime.time(11, 21), datetime.time(11, 48), dateti…",
         "time": "2014-01-12",
         "tavg": 10.5,
         "tmin": -5.5,
         "tmax": 23.9,
         "prcp": 6.9,
         "snow": 0,
         "wspd": 6.6,
         "pres": 1027.3,
         "tsun": 0,
         "_deepnote_index_column": 1
        },
        {
         "Date": "2014-01-19",
         "Load Type": "['BULK', 'BULK', 'GARBAGE COLLECTIONS', 'GARBAGE COLLECTIONS', 'RECYCLING - SINGLE STREAM', 'GARBAG…",
         "Load Weight": 8808898,
         "Dropoff Site": "['TDS LANDFILL', 'TDS LANDFILL', 'TDS LANDFILL', 'TDS LANDFILL', 'BALCONES RECYCLING', 'TDS LANDFIL…",
         "Route Type": "['BULK', 'BULK', 'GARBAGE COLLECTION', 'GARBAGE COLLECTION', 'RECYCLING - SINGLE STREAM', 'GARBAGE …",
         "Route Number": "['BU22', 'BU22', 'PT10', 'PAM85', 'DF1', 'PH32', 'PAF76', 'PW32', 'BR02', 'PAF10', 'RWBS43', 'PF23'…",
         "Time": "[datetime.time(15, 46), datetime.time(14, 1), datetime.time(14, 5), datetime.time(13, 44), datetime…",
         "time": "2014-01-19",
         "tavg": 13,
         "tmin": 2.8,
         "tmax": 24.4,
         "prcp": 0,
         "snow": 0,
         "wspd": 7,
         "pres": 1022.2,
         "tsun": 0,
         "_deepnote_index_column": 2
        },
        {
         "Date": "2014-01-26",
         "Load Type": "['TIRES', 'YARD TRIMMING', 'GARBAGE COLLECTIONS', 'GARBAGE COLLECTIONS', 'GARBAGE COLLECTIONS', 'GA…",
         "Load Weight": 8335148,
         "Dropoff Site": "['MRF', 'HORNSBY BEND', 'TDS LANDFILL', 'TDS - MRF', 'TDS LANDFILL', 'TDS LANDFILL', 'TDS LANDFILL'…",
         "Route Type": "['BULK', 'YARD TRIMMINGS', 'GARBAGE COLLECTION', 'GARBAGE COLLECTION', 'GARBAGE COLLECTION', 'GARBA…",
         "Route Number": "['BU30', 'YW12', 'PAM70', 'PW22', 'PAH81', 'PM22', 'PW12', 'DSS04', 'YT08', 'PAM69', 'IRM1', 'RHAU2…",
         "Time": "[datetime.time(0, 0), datetime.time(12, 50), datetime.time(15, 14), datetime.time(13, 42), datetime…",
         "time": "2014-01-26",
         "tavg": 9.9,
         "tmin": -3.2,
         "tmax": 27.8,
         "prcp": 2.8,
         "snow": 0,
         "wspd": 7.7,
         "pres": 1023.2,
         "tsun": 0,
         "_deepnote_index_column": 3
        },
        {
         "Date": "2014-02-02",
         "Load Type": "['BULK', 'YARD TRIMMING', 'YARD TRIMMING', 'GARBAGE COLLECTIONS', 'YARD TRIMMING', 'RECYCLING - SIN…",
         "Load Weight": 7795669,
         "Dropoff Site": "['TDS LANDFILL', 'HORNSBY BEND', 'ORGANICS BY GOSH', 'TDS LANDFILL', 'HORNSBY BEND', 'TDS - MRF', '…",
         "Route Type": "['STORM', 'YARD TRIMMINGS', 'YARD TRIMMINGS-ORGANICS', 'GARBAGE COLLECTION', 'YARD TRIMMINGS', 'REC…",
         "Route Number": "['STO13', 'YH11', 'OF1', 'PAM73', 'YM05', 'RMBU10', 'RWBU21', 'RFBU14', 'RWBU24', 'YM01', 'YT12', '…",
         "Time": "[datetime.time(12, 48), datetime.time(16, 15), datetime.time(11, 19), datetime.time(10, 46), dateti…",
         "time": "2014-02-02",
         "tavg": 9.5,
         "tmin": -2.7,
         "tmax": 26.7,
         "prcp": 2.3,
         "snow": 0,
         "wspd": 12.3,
         "pres": 1020.1,
         "tsun": 0,
         "_deepnote_index_column": 4
        },
        {
         "Date": "2014-02-09",
         "Load Type": "['YARD TRIMMING', 'GARBAGE COLLECTIONS', 'RECYCLING - SINGLE STREAM', 'GARBAGE COLLECTIONS', 'BULK'…",
         "Load Weight": 8021752,
         "Dropoff Site": "['HORNSBY BEND', 'TDS LANDFILL', 'TDS - MRF', 'TDS LANDFILL', 'TDS LANDFILL', 'TDS - MRF', 'TDS LAN…",
         "Route Type": "['YARD TRIMMINGS', 'GARBAGE COLLECTION', 'INHOUSE - RECYCLING', 'GARBAGE COLLECTION', 'STORM', 'REC…",
         "Route Number": "['YM04', 'PH23', 'IRM1', 'PAH84', 'STO13', 'RMAU15', 'DSE02', 'OF1', 'RWAS33', 'DM3', 'PAF80', 'RMA…",
         "Time": "[datetime.time(14, 16), datetime.time(14, 8), datetime.time(14, 47), datetime.time(14, 11), datetim…",
         "time": "2014-02-09",
         "tavg": 4.8,
         "tmin": -3.2,
         "tmax": 24.4,
         "prcp": 3.8,
         "snow": 0,
         "wspd": 8.8,
         "pres": 1023.8,
         "tsun": 0,
         "_deepnote_index_column": 5
        },
        {
         "Date": "2014-02-16",
         "Load Type": "['BRUSH', 'BULK', 'RECYCLING - SINGLE STREAM', 'RECYCLING - SINGLE STREAM', 'GARBAGE COLLECTIONS', …",
         "Load Weight": 9555278,
         "Dropoff Site": "['HORNSBY BEND', 'TDS LANDFILL', 'BALCONES RECYCLING', 'BALCONES RECYCLING', 'TDS LANDFILL', 'TDS L…",
         "Route Type": "['BRUSH', 'BULK', 'RECYCLING - SINGLE STREAM', 'RECYCLING - SINGLE STREAM', 'GARBAGE COLLECTION', '…",
         "Route Number": "['BR10', 'BU13', 'RHBS42', 'RWBU14', 'PAH06', 'PT39', 'BU13', 'PAW71', 'BR05', 'BU13', 'YH03', 'YM0…",
         "Time": "[datetime.time(9, 31), datetime.time(12, 45), datetime.time(1, 30), datetime.time(14, 57), datetime…",
         "time": "2014-02-16",
         "tavg": 10.7,
         "tmin": 0,
         "tmax": 30,
         "prcp": 2.5,
         "snow": 0,
         "wspd": 9.8,
         "pres": 1018.9,
         "tsun": 0,
         "_deepnote_index_column": 6
        },
        {
         "Date": "2014-02-23",
         "Load Type": "['DEAD ANIMAL', 'GARBAGE COLLECTIONS', 'GARBAGE COLLECTIONS', 'YARD TRIMMING', 'GARBAGE COLLECTIONS…",
         "Load Weight": 9161320,
         "Dropoff Site": "['TDS LANDFILL', 'TDS LANDFILL', 'TDS LANDFILL', 'ORGANICS BY GOSH', 'TDS LANDFILL', 'BALCONES RECY…",
         "Route Type": "['DEAD ANIMAL', 'GARBAGE COLLECTION', 'GARBAGE COLLECTION', 'YARD TRIMMINGS-ORGANICS', 'GARBAGE COL…",
         "Route Number": "['DA02', 'PT12', 'PAM62', 'OW1', 'PAT61', 'RWAS33', 'RMAU25', 'DSN03', 'PAF80', 'DA02', 'RFAU12', '…",
         "Time": "[datetime.time(14, 24), datetime.time(13, 48), datetime.time(14, 13), datetime.time(14, 8), datetim…",
         "time": "2014-02-23",
         "tavg": 19.4,
         "tmin": 5,
         "tmax": 30,
         "prcp": 0,
         "snow": 0,
         "wspd": 9,
         "pres": 1015.1,
         "tsun": 0,
         "_deepnote_index_column": 7
        },
        {
         "Date": "2014-03-02",
         "Load Type": "['BULK', 'RECYCLING - SINGLE STREAM', 'YARD TRIMMING', 'RECYCLING - SINGLE STREAM', 'RECYCLING - SI…",
         "Load Weight": 8067289,
         "Dropoff Site": "['TDS LANDFILL', 'BALCONES RECYCLING', 'ORGANICS BY GOSH', 'BALCONES RECYCLING', 'BALCONES RECYCLIN…",
         "Route Type": "['BULK', 'RECYCLING - SINGLE STREAM', 'YARD TRIMMINGS-ORGANICS', 'RECYCLING - SINGLE STREAM', 'RECY…",
         "Route Number": "['BU28', 'DF3', 'OW2', 'RFBU22', 'RHBU11', 'PAW83', 'RMBS33', 'RFBU10', 'YM07', 'RFBS42', 'PW30', '…",
         "Time": "[datetime.time(15, 48), datetime.time(12, 35), datetime.time(13, 2), datetime.time(10, 43), datetim…",
         "time": "2014-03-02",
         "tavg": 12.3,
         "tmin": -2.1,
         "tmax": 27.8,
         "prcp": 4.8,
         "snow": 0,
         "wspd": 9.5,
         "pres": 1020.6,
         "tsun": 0,
         "_deepnote_index_column": 8
        },
        {
         "Date": "2014-03-09",
         "Load Type": "['BAGGED LITTER', 'GARBAGE COLLECTIONS', 'RECYCLING - SINGLE STREAM', 'YARD TRIMMING', 'RECYCLING -…",
         "Load Weight": 8216226,
         "Dropoff Site": "['TDS LANDFILL', 'TDS LANDFILL', 'TDS - MRF', 'HORNSBY BEND', 'BALCONES RECYCLING', 'TDS LANDFILL',…",
         "Route Type": "['SPECIAL EVENTS', 'GARBAGE COLLECTION', 'RECYCLING - SINGLE STREAM', 'YARD TRIMMINGS', 'RECYCLING …",
         "Route Number": "['SXSW2014', 'PAF82', 'RMAU14', 'YBF00', 'RWAU21', 'PAH62', 'DF3', 'SXSW2014', 'PAM70', 'YM07', 'PA…",
         "Time": "[datetime.time(6, 43), datetime.time(14, 43), datetime.time(15, 44), datetime.time(16, 45), datetim…",
         "time": "2014-03-09",
         "tavg": 8.4,
         "tmin": -4.3,
         "tmax": 19.4,
         "prcp": 27.9,
         "snow": 0,
         "wspd": 8.3,
         "pres": 1019.9,
         "tsun": 0,
         "_deepnote_index_column": 9
        }
       ]
      },
      "text/plain": "           Date                                          Load Type  \\\n0    2014-01-05  ['GARBAGE COLLECTIONS', 'GARBAGE COLLECTIONS',...   \n1    2014-01-12  ['GARBAGE COLLECTIONS', 'GARBAGE COLLECTIONS',...   \n2    2014-01-19  ['BULK', 'BULK', 'GARBAGE COLLECTIONS', 'GARBA...   \n3    2014-01-26  ['TIRES', 'YARD TRIMMING', 'GARBAGE COLLECTION...   \n4    2014-02-02  ['BULK', 'YARD TRIMMING', 'YARD TRIMMING', 'GA...   \n..          ...                                                ...   \n308  2019-12-01  ['BRUSH', 'ORGANICS', 'RECYCLING - SINGLE STRE...   \n309  2019-12-08  ['RECYCLING - SINGLE STREAM', 'GARBAGE COLLECT...   \n310  2019-12-15  ['GARBAGE COLLECTIONS', 'BULK', 'YARD TRIMMING...   \n311  2019-12-22  ['ORGANICS', 'ORGANICS', 'RECYCLING - SINGLE S...   \n312  2019-12-29  ['RECYCLING - SINGLE STREAM', 'GARBAGE COLLECT...   \n\n     Load Weight                                       Dropoff Site  \\\n0      9650424.0  ['TDS LANDFILL', 'TDS LANDFILL', 'TDS LANDFILL...   \n1      9311385.0  ['TDS LANDFILL', 'TDS LANDFILL', 'TDS - MRF', ...   \n2      8808898.0  ['TDS LANDFILL', 'TDS LANDFILL', 'TDS LANDFILL...   \n3      8335148.0  ['MRF', 'HORNSBY BEND', 'TDS LANDFILL', 'TDS -...   \n4      7795669.0  ['TDS LANDFILL', 'HORNSBY BEND', 'ORGANICS BY ...   \n..           ...                                                ...   \n308   11409691.0  ['HORNSBY BEND', 'ORGANICS BY GOSH', 'BALCONES...   \n309   11062481.0  ['TDS - MRF', 'TDS LANDFILL', 'ORGANICS BY GOS...   \n310    9499161.0  ['TDS LANDFILL', 'TDS LANDFILL', 'ORGANICS BY ...   \n311    8846157.0  ['ORGANICS BY GOSH', 'ORGANICS BY GOSH', 'BALC...   \n312   10308714.0  ['BALCONES RECYCLING', 'TDS LANDFILL', 'TDS LA...   \n\n                                            Route Type  \\\n0    ['GARBAGE COLLECTION', 'GARBAGE COLLECTION', '...   \n1    ['GARBAGE COLLECTION', 'GARBAGE COLLECTION', '...   \n2    ['BULK', 'BULK', 'GARBAGE COLLECTION', 'GARBAG...   \n3    ['BULK', 'YARD TRIMMINGS', 'GARBAGE COLLECTION...   \n4    ['STORM', 'YARD TRIMMINGS', 'YARD TRIMMINGS-OR...   \n..                                                 ...   \n308  ['BRUSH', 'YARD TRIMMINGS-ORGANICS', 'RECYCLIN...   \n309  ['RECYCLING - SINGLE STREAM', 'GARBAGE COLLECT...   \n310  ['GARBAGE COLLECTION', 'BULK', 'YARD TRIMMINGS...   \n311  ['YARD TRIMMINGS-ORGANICS', 'YARD TRIMMINGS-OR...   \n312  ['RECYCLING - SINGLE STREAM', 'GARBAGE COLLECT...   \n\n                                          Route Number  \\\n0    ['PAW72', 'PAH71', 'PH34', 'BU06', 'RHBU13', '...   \n1    ['PAW64', 'PH21', 'RMAU21', 'DA02', 'PAH09', '...   \n2    ['BU22', 'BU22', 'PT10', 'PAM85', 'DF1', 'PH32...   \n3    ['BU30', 'YW12', 'PAM70', 'PW22', 'PAH81', 'PM...   \n4    ['STO13', 'YH11', 'OF1', 'PAM73', 'YM05', 'RMB...   \n..                                                 ...   \n308  ['BR23', 'OF21', 'RWBU22', 'PAM79', 'OH-10', '...   \n309  ['RTAU53', 'PAF09', 'OBT00', 'BR24', 'BU13', '...   \n310  ['PAW65', 'BU08', 'OW3', 'RTBS33', 'DH1', 'PT4...   \n311  ['OF16', 'OM21', 'RHBU50', 'RWAU22', 'DF1', 'P...   \n312  ['RWBU12', 'PAF79', 'BU06', 'PAM85', 'IRT1', '...   \n\n                                                  Time        time  tavg  \\\n0    [datetime.time(14, 12), datetime.time(12, 38),...  2014-01-05   8.0   \n1    [datetime.time(18, 35), datetime.time(13, 42),...  2014-01-12  10.5   \n2    [datetime.time(15, 46), datetime.time(14, 1), ...  2014-01-19  13.0   \n3    [datetime.time(0, 0), datetime.time(12, 50), d...  2014-01-26   9.9   \n4    [datetime.time(12, 48), datetime.time(16, 15),...  2014-02-02   9.5   \n..                                                 ...         ...   ...   \n308  [datetime.time(12, 48), datetime.time(17, 37),...  2019-12-01  17.1   \n309  [datetime.time(14, 0), datetime.time(13, 58), ...  2019-12-08  15.1   \n310  [datetime.time(10, 57), datetime.time(12, 26),...  2019-12-15  13.2   \n311  [datetime.time(10, 51), datetime.time(13, 15),...  2019-12-22   8.9   \n312  [datetime.time(15, 46), datetime.time(13, 0), ...  2019-12-29  14.4   \n\n     tmin  tmax  prcp  snow  wspd    pres  tsun  \n0    -2.1  21.7   0.0   0.0   8.7  1023.5   0.0  \n1    -5.5  23.9   6.9   0.0   6.6  1027.3   0.0  \n2     2.8  24.4   0.0   0.0   7.0  1022.2   0.0  \n3    -3.2  27.8   2.8   0.0   7.7  1023.2   0.0  \n4    -2.7  26.7   2.3   0.0  12.3  1020.1   0.0  \n..    ...   ...   ...   ...   ...     ...   ...  \n308   8.9  31.1   5.1   0.0   7.7  1014.3   0.0  \n309   3.9  23.9   0.0   0.0   5.8  1019.5   0.0  \n310   1.7  28.3   9.4   0.0   5.5  1017.3   0.0  \n311  -1.0  21.1   9.9   0.0   6.0  1026.0   0.0  \n312   2.2  22.2   1.8   0.0   4.3  1015.2   0.0  \n\n[313 rows x 16 columns]",
      "text/html": "<div>\n<style scoped>\n    .dataframe tbody tr th:only-of-type {\n        vertical-align: middle;\n    }\n\n    .dataframe tbody tr th {\n        vertical-align: top;\n    }\n\n    .dataframe thead th {\n        text-align: right;\n    }\n</style>\n<table border=\"1\" class=\"dataframe\">\n  <thead>\n    <tr style=\"text-align: right;\">\n      <th></th>\n      <th>Date</th>\n      <th>Load Type</th>\n      <th>Load Weight</th>\n      <th>Dropoff Site</th>\n      <th>Route Type</th>\n      <th>Route Number</th>\n      <th>Time</th>\n      <th>time</th>\n      <th>tavg</th>\n      <th>tmin</th>\n      <th>tmax</th>\n      <th>prcp</th>\n      <th>snow</th>\n      <th>wspd</th>\n      <th>pres</th>\n      <th>tsun</th>\n    </tr>\n  </thead>\n  <tbody>\n    <tr>\n      <th>0</th>\n      <td>2014-01-05</td>\n      <td>['GARBAGE COLLECTIONS', 'GARBAGE COLLECTIONS',...</td>\n      <td>9650424.0</td>\n      <td>['TDS LANDFILL', 'TDS LANDFILL', 'TDS LANDFILL...</td>\n      <td>['GARBAGE COLLECTION', 'GARBAGE COLLECTION', '...</td>\n      <td>['PAW72', 'PAH71', 'PH34', 'BU06', 'RHBU13', '...</td>\n      <td>[datetime.time(14, 12), datetime.time(12, 38),...</td>\n      <td>2014-01-05</td>\n      <td>8.0</td>\n      <td>-2.1</td>\n      <td>21.7</td>\n      <td>0.0</td>\n      <td>0.0</td>\n      <td>8.7</td>\n      <td>1023.5</td>\n      <td>0.0</td>\n    </tr>\n    <tr>\n      <th>1</th>\n      <td>2014-01-12</td>\n      <td>['GARBAGE COLLECTIONS', 'GARBAGE COLLECTIONS',...</td>\n      <td>9311385.0</td>\n      <td>['TDS LANDFILL', 'TDS LANDFILL', 'TDS - MRF', ...</td>\n      <td>['GARBAGE COLLECTION', 'GARBAGE COLLECTION', '...</td>\n      <td>['PAW64', 'PH21', 'RMAU21', 'DA02', 'PAH09', '...</td>\n      <td>[datetime.time(18, 35), datetime.time(13, 42),...</td>\n      <td>2014-01-12</td>\n      <td>10.5</td>\n      <td>-5.5</td>\n      <td>23.9</td>\n      <td>6.9</td>\n      <td>0.0</td>\n      <td>6.6</td>\n      <td>1027.3</td>\n      <td>0.0</td>\n    </tr>\n    <tr>\n      <th>2</th>\n      <td>2014-01-19</td>\n      <td>['BULK', 'BULK', 'GARBAGE COLLECTIONS', 'GARBA...</td>\n      <td>8808898.0</td>\n      <td>['TDS LANDFILL', 'TDS LANDFILL', 'TDS LANDFILL...</td>\n      <td>['BULK', 'BULK', 'GARBAGE COLLECTION', 'GARBAG...</td>\n      <td>['BU22', 'BU22', 'PT10', 'PAM85', 'DF1', 'PH32...</td>\n      <td>[datetime.time(15, 46), datetime.time(14, 1), ...</td>\n      <td>2014-01-19</td>\n      <td>13.0</td>\n      <td>2.8</td>\n      <td>24.4</td>\n      <td>0.0</td>\n      <td>0.0</td>\n      <td>7.0</td>\n      <td>1022.2</td>\n      <td>0.0</td>\n    </tr>\n    <tr>\n      <th>3</th>\n      <td>2014-01-26</td>\n      <td>['TIRES', 'YARD TRIMMING', 'GARBAGE COLLECTION...</td>\n      <td>8335148.0</td>\n      <td>['MRF', 'HORNSBY BEND', 'TDS LANDFILL', 'TDS -...</td>\n      <td>['BULK', 'YARD TRIMMINGS', 'GARBAGE COLLECTION...</td>\n      <td>['BU30', 'YW12', 'PAM70', 'PW22', 'PAH81', 'PM...</td>\n      <td>[datetime.time(0, 0), datetime.time(12, 50), d...</td>\n      <td>2014-01-26</td>\n      <td>9.9</td>\n      <td>-3.2</td>\n      <td>27.8</td>\n      <td>2.8</td>\n      <td>0.0</td>\n      <td>7.7</td>\n      <td>1023.2</td>\n      <td>0.0</td>\n    </tr>\n    <tr>\n      <th>4</th>\n      <td>2014-02-02</td>\n      <td>['BULK', 'YARD TRIMMING', 'YARD TRIMMING', 'GA...</td>\n      <td>7795669.0</td>\n      <td>['TDS LANDFILL', 'HORNSBY BEND', 'ORGANICS BY ...</td>\n      <td>['STORM', 'YARD TRIMMINGS', 'YARD TRIMMINGS-OR...</td>\n      <td>['STO13', 'YH11', 'OF1', 'PAM73', 'YM05', 'RMB...</td>\n      <td>[datetime.time(12, 48), datetime.time(16, 15),...</td>\n      <td>2014-02-02</td>\n      <td>9.5</td>\n      <td>-2.7</td>\n      <td>26.7</td>\n      <td>2.3</td>\n      <td>0.0</td>\n      <td>12.3</td>\n      <td>1020.1</td>\n      <td>0.0</td>\n    </tr>\n    <tr>\n      <th>...</th>\n      <td>...</td>\n      <td>...</td>\n      <td>...</td>\n      <td>...</td>\n      <td>...</td>\n      <td>...</td>\n      <td>...</td>\n      <td>...</td>\n      <td>...</td>\n      <td>...</td>\n      <td>...</td>\n      <td>...</td>\n      <td>...</td>\n      <td>...</td>\n      <td>...</td>\n      <td>...</td>\n    </tr>\n    <tr>\n      <th>308</th>\n      <td>2019-12-01</td>\n      <td>['BRUSH', 'ORGANICS', 'RECYCLING - SINGLE STRE...</td>\n      <td>11409691.0</td>\n      <td>['HORNSBY BEND', 'ORGANICS BY GOSH', 'BALCONES...</td>\n      <td>['BRUSH', 'YARD TRIMMINGS-ORGANICS', 'RECYCLIN...</td>\n      <td>['BR23', 'OF21', 'RWBU22', 'PAM79', 'OH-10', '...</td>\n      <td>[datetime.time(12, 48), datetime.time(17, 37),...</td>\n      <td>2019-12-01</td>\n      <td>17.1</td>\n      <td>8.9</td>\n      <td>31.1</td>\n      <td>5.1</td>\n      <td>0.0</td>\n      <td>7.7</td>\n      <td>1014.3</td>\n      <td>0.0</td>\n    </tr>\n    <tr>\n      <th>309</th>\n      <td>2019-12-08</td>\n      <td>['RECYCLING - SINGLE STREAM', 'GARBAGE COLLECT...</td>\n      <td>11062481.0</td>\n      <td>['TDS - MRF', 'TDS LANDFILL', 'ORGANICS BY GOS...</td>\n      <td>['RECYCLING - SINGLE STREAM', 'GARBAGE COLLECT...</td>\n      <td>['RTAU53', 'PAF09', 'OBT00', 'BR24', 'BU13', '...</td>\n      <td>[datetime.time(14, 0), datetime.time(13, 58), ...</td>\n      <td>2019-12-08</td>\n      <td>15.1</td>\n      <td>3.9</td>\n      <td>23.9</td>\n      <td>0.0</td>\n      <td>0.0</td>\n      <td>5.8</td>\n      <td>1019.5</td>\n      <td>0.0</td>\n    </tr>\n    <tr>\n      <th>310</th>\n      <td>2019-12-15</td>\n      <td>['GARBAGE COLLECTIONS', 'BULK', 'YARD TRIMMING...</td>\n      <td>9499161.0</td>\n      <td>['TDS LANDFILL', 'TDS LANDFILL', 'ORGANICS BY ...</td>\n      <td>['GARBAGE COLLECTION', 'BULK', 'YARD TRIMMINGS...</td>\n      <td>['PAW65', 'BU08', 'OW3', 'RTBS33', 'DH1', 'PT4...</td>\n      <td>[datetime.time(10, 57), datetime.time(12, 26),...</td>\n      <td>2019-12-15</td>\n      <td>13.2</td>\n      <td>1.7</td>\n      <td>28.3</td>\n      <td>9.4</td>\n      <td>0.0</td>\n      <td>5.5</td>\n      <td>1017.3</td>\n      <td>0.0</td>\n    </tr>\n    <tr>\n      <th>311</th>\n      <td>2019-12-22</td>\n      <td>['ORGANICS', 'ORGANICS', 'RECYCLING - SINGLE S...</td>\n      <td>8846157.0</td>\n      <td>['ORGANICS BY GOSH', 'ORGANICS BY GOSH', 'BALC...</td>\n      <td>['YARD TRIMMINGS-ORGANICS', 'YARD TRIMMINGS-OR...</td>\n      <td>['OF16', 'OM21', 'RHBU50', 'RWAU22', 'DF1', 'P...</td>\n      <td>[datetime.time(10, 51), datetime.time(13, 15),...</td>\n      <td>2019-12-22</td>\n      <td>8.9</td>\n      <td>-1.0</td>\n      <td>21.1</td>\n      <td>9.9</td>\n      <td>0.0</td>\n      <td>6.0</td>\n      <td>1026.0</td>\n      <td>0.0</td>\n    </tr>\n    <tr>\n      <th>312</th>\n      <td>2019-12-29</td>\n      <td>['RECYCLING - SINGLE STREAM', 'GARBAGE COLLECT...</td>\n      <td>10308714.0</td>\n      <td>['BALCONES RECYCLING', 'TDS LANDFILL', 'TDS LA...</td>\n      <td>['RECYCLING - SINGLE STREAM', 'GARBAGE COLLECT...</td>\n      <td>['RWBU12', 'PAF79', 'BU06', 'PAM85', 'IRT1', '...</td>\n      <td>[datetime.time(15, 46), datetime.time(13, 0), ...</td>\n      <td>2019-12-29</td>\n      <td>14.4</td>\n      <td>2.2</td>\n      <td>22.2</td>\n      <td>1.8</td>\n      <td>0.0</td>\n      <td>4.3</td>\n      <td>1015.2</td>\n      <td>0.0</td>\n    </tr>\n  </tbody>\n</table>\n<p>313 rows × 16 columns</p>\n</div>"
     },
     "metadata": {}
    }
   ]
  },
  {
   "cell_type": "code",
   "metadata": {
    "cell_id": "6540955b-b660-48cd-85dd-0e0677878823",
    "tags": [],
    "deepnote_to_be_reexecuted": false,
    "source_hash": "4f2bab02",
    "execution_start": 1647860367510,
    "execution_millis": 396,
    "deepnote_cell_type": "code",
    "deepnote_cell_height": 81
   },
   "source": "merged_df.to_csv(\"Weather_garbage_data_2014-2019.csv\")",
   "execution_count": null,
   "outputs": []
  },
  {
   "cell_type": "code",
   "metadata": {
    "cell_id": "d46ce9fc-4678-4ba2-b5c1-3c890cd55554",
    "tags": [],
    "deepnote_cell_type": "code",
    "deepnote_cell_height": 66
   },
   "source": "",
   "execution_count": null,
   "outputs": []
  },
  {
   "cell_type": "markdown",
   "source": "<a style='text-decoration:none;line-height:16px;display:flex;color:#5B5B62;padding:10px;justify-content:end;' href='https://deepnote.com?utm_source=created-in-deepnote-cell&projectId=1a1cabe9-69f7-4a67-be18-e232e1feb2b6' target=\"_blank\">\n<img alt='Created in deepnote.com' style='display:inline;max-height:16px;margin:0px;margin-right:7.5px;' src='data:image/svg+xml;base64,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' > </img>\nCreated in <span style='font-weight:600;margin-left:4px;'>Deepnote</span></a>",
   "metadata": {
    "tags": [],
    "created_in_deepnote_cell": true,
    "deepnote_cell_type": "markdown"
   }
  }
 ],
 "nbformat": 4,
 "nbformat_minor": 2,
 "metadata": {
  "orig_nbformat": 2,
  "deepnote": {
   "is_reactive": false
  },
  "deepnote_notebook_id": "337d31c9-4b96-4444-a7a9-a8d4defcdb7b",
  "deepnote_execution_queue": []
 }
}