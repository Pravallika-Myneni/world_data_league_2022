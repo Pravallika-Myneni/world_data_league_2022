{
 "cells": [
  {
   "cell_type": "code",
   "metadata": {
    "tags": [],
    "cell_id": "484d8caf-58c6-401a-8580-52a96390c813",
    "deepnote_to_be_reexecuted": false,
    "source_hash": "97d250",
    "execution_start": 1647969475400,
    "execution_millis": 19644,
    "deepnote_cell_type": "code",
    "deepnote_cell_height": 190
   },
   "source": "! pip install geopandas --quiet\n! pip install contextily --quiet",
   "execution_count": 1,
   "outputs": [
    {
     "name": "stdout",
     "text": "\u001b[33mWARNING: You are using pip version 20.1.1; however, version 22.0.4 is available.\nYou should consider upgrading via the '/root/venv/bin/python -m pip install --upgrade pip' command.\u001b[0m\n\u001b[33mWARNING: You are using pip version 20.1.1; however, version 22.0.4 is available.\nYou should consider upgrading via the '/root/venv/bin/python -m pip install --upgrade pip' command.\u001b[0m\n",
     "output_type": "stream"
    }
   ]
  },
  {
   "cell_type": "code",
   "metadata": {
    "cell_id": "35701111de1748ada606813236dea081",
    "tags": [],
    "deepnote_to_be_reexecuted": false,
    "source_hash": "f0f5c5e6",
    "execution_start": 1647970721539,
    "execution_millis": 3725,
    "deepnote_cell_type": "code",
    "deepnote_cell_height": 261
   },
   "source": "import geopandas as gpd\nimport pandas as pd\nimport fiona\nimport os\nimport matplotlib.pyplot as plt\nimport folium\n\nfrom folium.plugins import MarkerCluster, HeatMap, BeautifyIcon\nfrom folium.map import LayerControl, Layer, FeatureGroup\nimport seaborn as sns\nfrom shapely.geometry import Point, LineString, MultiPoint",
   "execution_count": 9,
   "outputs": []
  },
  {
   "cell_type": "code",
   "metadata": {
    "cell_id": "c25013fa57384283a9009b15669973fd",
    "tags": [],
    "deepnote_to_be_reexecuted": false,
    "source_hash": "a95dc9c2",
    "execution_start": 1647970027180,
    "execution_millis": 436,
    "deepnote_cell_type": "code",
    "deepnote_cell_height": 632.796875
   },
   "source": "garbage_routes = gpd.read_file(\"/work/world_data_league_2022/stage_one/data_1/Garbage Routes/geo_export_9c44eebc-b8fe-4506-8d25-5a46162bfb64.shp\")\ngarbage_routes ",
   "execution_count": 3,
   "outputs": [
    {
     "output_type": "execute_result",
     "execution_count": 3,
     "data": {
      "application/vnd.deepnote.dataframe.v3+json": {
       "column_count": 8,
       "row_count": 184,
       "columns": [
        {
         "name": "garb_day",
         "dtype": "object",
         "stats": {
          "unique_count": 5,
          "nan_count": 0,
          "categories": [
           {
            "name": "Monday",
            "count": 41
           },
           {
            "name": "Wednesday",
            "count": 40
           },
           {
            "name": "3 others",
            "count": 103
           }
          ]
         }
        },
        {
         "name": "garb_rt",
         "dtype": "object",
         "stats": {
          "unique_count": 184,
          "nan_count": 0,
          "categories": [
           {
            "name": "PAH83",
            "count": 1
           },
           {
            "name": "PAM54",
            "count": 1
           },
           {
            "name": "182 others",
            "count": 182
           }
          ]
         }
        },
        {
         "name": "garb_sup",
         "dtype": "object",
         "stats": {
          "unique_count": 9,
          "nan_count": 0,
          "categories": [
           {
            "name": "Gilbert",
            "count": 26
           },
           {
            "name": "Castillo",
            "count": 26
           },
           {
            "name": "7 others",
            "count": 132
           }
          ]
         }
        },
        {
         "name": "landfill",
         "dtype": "object",
         "stats": {
          "unique_count": 1,
          "nan_count": 0,
          "categories": [
           {
            "name": "TDS",
            "count": 184
           }
          ]
         }
        },
        {
         "name": "op_type",
         "dtype": "object",
         "stats": {
          "unique_count": 2,
          "nan_count": 0,
          "categories": [
           {
            "name": "Auto",
            "count": 130
           },
           {
            "name": "Semi",
            "count": 54
           }
          ]
         }
        },
        {
         "name": "rt_old",
         "dtype": "object",
         "stats": {
          "unique_count": 91,
          "nan_count": 93,
          "categories": [
           {
            "name": "PAM84",
            "count": 1
           },
           {
            "name": "90 others",
            "count": 90
           },
           {
            "name": "Missing",
            "count": 93
           }
          ]
         }
        },
        {
         "name": "super_num",
         "dtype": "object",
         "stats": {
          "unique_count": 6,
          "nan_count": 53,
          "categories": [
           {
            "name": "697",
            "count": 26
           },
           {
            "name": "5 others",
            "count": 105
           },
           {
            "name": "Missing",
            "count": 53
           }
          ]
         }
        },
        {
         "name": "geometry",
         "dtype": "geometry",
         "stats": {
          "unique_count": 184,
          "nan_count": 0,
          "categories": [
           {
            "name": "POLYGON ((-97.70618263474258 30.367416007124167, -97.70723083139684 30.36791375533362, -97.7074246564424 30.367997074594044, -97.70815762240655 30.368204787817838, -97.70839779544698 30.368266382471287, -97.71039240914466 30.369191383015206, -97.71232918810323 30.370081162482627, -97.71306363435583 30.37047591878818, -97.71326961218773 30.370593484800523, -97.71354406818907 30.370837143366728, -97.71378286638812 30.370949710940792, -97.71601216360705 30.371902086255187, -97.7180073170934 30.372829417673135, -97.71867838635576 30.373154865229072, -97.71926997878393 30.37351836893648, -97.71966525177994 30.3738892067379, -97.71991570687187 30.374296772221204, -97.72000527176897 30.3746103636661, -97.7200504136327 30.375115778521177, -97.72050156511733 30.37511363196709, -97.72086185479377 30.37508695938972, -97.72131883723051 30.37486952634214, -97.72157188430286 30.374698955891965, -97.72179394841456 30.374465400861467, -97.72193245120303 30.374179127987535, -97.7220176081403 30.373931448374424, -97.72202457404266 30.37343276372123, -97.7218157578266 30.372821490433356, -97.72169764027387 30.37246374586679, -97.72164111087017 30.372324405755407, -97.72152603067697 30.37212038112025, -97.72149167521472 30.371798485206075, -97.72151303987238 30.37164579173797, -97.72163 30.371439999999378, -97.72186598324491 30.37110628654831, -97.72489955308586 30.37250747587866, -97.72638496835684 30.373223707697832, -97.72637979948486 30.37324524533051, -97.72915578291565 30.374553386388918, -97.73130250286692 30.375588225992534, -97.73267916254233 30.376299361128208, -97.73708392902597 30.37910193357757, -97.73783753720399 30.379585370953876, -97.73724582134686 30.380734046870035, -97.73571715457771 30.38409315715934, -97.73489484844684 30.38698435376577, -97.73369973302579 30.391849180455235, -97.73256228301149 30.395776021255312, -97.73249533654945 30.395743349732996, -97.73248360526276 30.395737624286873, -97.73011524589657 30.39458176188077, -97.72714839118586 30.39313335652236, -97.72431937677388 30.39178510070607, -97.72152330606579 30.391168068742225, -97.71845463179736 30.39037494195649, -97.7173356861194 30.390199918438345, -97.71606892827354 30.390295852028196, -97.71539995682208 30.3903613531582, -97.71414745694241 30.390759547773808, -97.71411796525493 30.390740583101234, -97.71409009174293 30.390777292668304, -97.71389696498848 30.39084703114026, -97.71361839295635 30.39093344492738, -97.71340152787836 30.391094799091356, -97.71309571491264 30.391401699967044, -97.7123941318284 30.39219786481913, -97.7121100484922 30.39248678639329, -97.71187194075848 30.39264770476382, -97.71157062327542 30.392788910012047, -97.71124906896286 30.39289286096954, -97.71075712004954 30.393011748306556, -97.71043706716766 30.393060466754445, -97.71024543558559 30.393074969247856, -97.70965431427526 30.392933939378604, -97.70929579605026 30.392834505237833, -97.70833043730886 30.392391088947512, -97.7082343122054 30.392351461224983, -97.70885196795781 30.391450316481883, -97.70952467228253 30.390383706652134, -97.71015677155573 30.389155844415473, -97.71054749843505 30.388547493890382, -97.71096734829563 30.38755703855765, -97.71124070950981 30.38705365346171, -97.71258750781223 30.38506169550167, -97.71252204419353 30.385031116091557, -97.70878343999334 30.383305484085, -97.70927766389191 30.382337989253863, -97.70923687542206 30.38170221110243, -97.70939981082195 30.38164679040664, -97.70914353249951 30.38109030481509, -97.70890589514659 30.38079955704307, -97.70799123898261 30.37996820052786, -97.70797480047614 30.37995325892925, -97.70780970338001 30.380079784779845, -97.7072599999844 30.379559999823755, -97.70673999982546 30.379090000232075, -97.7064232725508 30.37848109980301, -97.70641932816763 30.378482317669114, -97.70642206509505 30.37847877844986, -97.70641999963478 30.378480000212043, -97.7050799996828 30.376020000321446, -97.70465540385356 30.375288250009714, -97.70429768929789 30.374701380898962, -97.70403999985055 30.374020000307546, -97.70365999959128 30.372860000090295, -97.7033700000563 30.3723300003654, -97.70313999958199 30.372070000295725, -97.70189999994204 30.370619999937727, -97.70167999962386 30.370360000143016, -97.70145000002132 30.37016000014206, -97.70103000022837 30.36990000001172, -97.7003300000196 30.369550000258993, -97.69995000002686 30.369320000265223, -97.69976999965851 30.369140000174554, -97.69970999985428 30.369030000079857, -97.69969000024426 30.368790000387385, -97.70020000023507 30.367770000190202, -97.70044999991867 30.36706999997935, -97.70055999976027 30.36691000024581, -97.70151999975883 30.365360000399317, -97.70154883622737 30.365311939384245, -97.70447949494034 30.366697785125087, -97.7050853919498 30.36690395356496, -97.70618263474258 30.367416007124167))",
            "count": 1
           },
           {
            "name": "POLYGON ((-97.83236579358113 30.16212865825874, -97.8323663998064 30.16212783720374, -97.83287226018228 30.16085152247968, -97.83315230777417 30.160441403261544, -97.83328620513758 30.159952335007755, -97.83337327694555 30.15945064497015, -97.83330746898666 30.1588698753274, -97.83329396798675 30.15861059952478, -97.83330600531541 30.157168708709747, -97.83328605919478 30.15574265615888, -97.83328521768011 30.154717259011264, -97.83334748882822 30.15477791722532, -97.83425956248726 30.15548230291013, -97.83593391670242 30.15551498568956, -97.83756322273874 30.15550670063828, -97.83925500612784 30.15545954492694, -97.83926974367711 30.156675210993292, -97.83969937780894 30.157053137229532, -97.83981263339987 30.15708162464317, -97.83982312507474 30.15790731658511, -97.84078503498269 30.15789370764784, -97.84171263371252 30.157887509629802, -97.84267454344675 30.157873886499907, -97.8436254547926 30.157871574008542, -97.84375297036695 30.157970642845743, -97.84408221195774 30.158350482271448, -97.84398489917396 30.162806256808235, -97.84727377787127 30.16564082460967, -97.84947210373906 30.165683502567443, -97.85024244734997 30.164776955440303, -97.85027349021506 30.167588846365167, -97.85035577376651 30.173025605757562, -97.85035598517105 30.173039582229578, -97.85035770663505 30.17315333055074, -97.85035770916443 30.173153485821565, -97.84973764244825 30.17275930337676, -97.8422306920739 30.173032620873073, -97.84168139819386 30.17357411675945, -97.84129041569985 30.17392227317702, -97.8408167391459 30.173506692825775, -97.83902824425712 30.173469775585353, -97.8379348419428 30.1735275255019, -97.83652534351735 30.17357020701952, -97.83627168664536 30.173799984112588, -97.83620999841338 30.173931048146628, -97.8360746776879 30.173800655339303, -97.83571444482365 30.173529561849048, -97.83556673981077 30.170165001530098, -97.83556608217756 30.170016787090614, -97.83558800066224 30.170015992105206, -97.8355336081982 30.16745631451827, -97.83543472844559 30.16745554673682, -97.83448120404844 30.167460355101884, -97.83447181445109 30.165987557071762, -97.83449523621846 30.16583552747104, -97.83423079053179 30.16578911616388, -97.8340245947518 30.165719171224307, -97.83413901820913 30.164261263885912, -97.83425382495773 30.162745622232087, -97.83426371405842 30.16258107837927, -97.83426485908984 30.16258056760318, -97.8341003030181 30.162576384338877, -97.83319278687688 30.162700437131157, -97.83238376511429 30.16217129477507, -97.83236579358113 30.16212865825874))",
            "count": 1
           },
           {
            "name": "182 others",
            "count": 182
           }
          ]
         }
        },
        {
         "name": "_deepnote_index_column",
         "dtype": "int64"
        }
       ],
       "rows": [
        {
         "garb_day": "Thursday",
         "garb_rt": "PAH83",
         "garb_sup": "Gilbert",
         "landfill": "TDS",
         "op_type": "Auto",
         "rt_old": "None",
         "super_num": "697",
         "geometry": "POLYGON ((-97.70618263474258 30.367416007124167, -97.70723083139684 30.36791375533362, -97.70742465…",
         "_deepnote_index_column": 0
        },
        {
         "garb_day": "Monday",
         "garb_rt": "PAM54",
         "garb_sup": "Castillo",
         "landfill": "TDS",
         "op_type": "Auto",
         "rt_old": "PAM84",
         "super_num": "500",
         "geometry": "POLYGON ((-97.83236579358113 30.16212865825874, -97.8323663998064 30.16212783720374, -97.8328722601…",
         "_deepnote_index_column": 1
        },
        {
         "garb_day": "Monday",
         "garb_rt": "PAM71",
         "garb_sup": "Carnline",
         "landfill": "TDS",
         "op_type": "Auto",
         "rt_old": "None",
         "super_num": "596",
         "geometry": "POLYGON ((-97.72977104057442 30.190092657768098, -97.72103063015923 30.18662560792858, -97.71774392…",
         "_deepnote_index_column": 2
        },
        {
         "garb_day": "Thursday",
         "garb_rt": "PAH54",
         "garb_sup": "Castillo",
         "landfill": "TDS",
         "op_type": "Auto",
         "rt_old": "PAH75",
         "super_num": "500",
         "geometry": "POLYGON ((-97.65374103416144 30.262692100284323, -97.65322240771025 30.28277582087454, -97.65053868…",
         "_deepnote_index_column": 3
        },
        {
         "garb_day": "Wednesday",
         "garb_rt": "PAW71",
         "garb_sup": "Carnline",
         "landfill": "TDS",
         "op_type": "Auto",
         "rt_old": "None",
         "super_num": "596",
         "geometry": "POLYGON ((-97.64683377149026 30.386401320770236, -97.64724240185681 30.386634818262706, -97.6482318…",
         "_deepnote_index_column": 4
        },
        {
         "garb_day": "Thursday",
         "garb_rt": "PH21",
         "garb_sup": "Clark",
         "landfill": "TDS",
         "op_type": "Semi",
         "rt_old": "PH23",
         "super_num": "None",
         "geometry": "POLYGON ((-97.58269065014487 30.304671946831924, -97.5722878843611 30.29954025053518, -97.578828925…",
         "_deepnote_index_column": 5
        },
        {
         "garb_day": "Monday",
         "garb_rt": "PAM80",
         "garb_sup": "Gilbert",
         "landfill": "TDS",
         "op_type": "Auto",
         "rt_old": "PAM64",
         "super_num": "697",
         "geometry": "POLYGON ((-97.83872999961898 30.207780000397573, -97.83851254606822 30.207772545096297, -97.8380757…",
         "_deepnote_index_column": 6
        },
        {
         "garb_day": "Tuesday",
         "garb_rt": "PAT71",
         "garb_sup": "Carnline",
         "landfill": "TDS",
         "op_type": "Auto",
         "rt_old": "PAT84",
         "super_num": "596",
         "geometry": "POLYGON ((-97.79101425960737 30.205218013438632, -97.7909986763222 30.20503943541522, -97.791833037…",
         "_deepnote_index_column": 7
        },
        {
         "garb_day": "Monday",
         "garb_rt": "PAM01",
         "garb_sup": "Herrera",
         "landfill": "TDS",
         "op_type": "Auto",
         "rt_old": "None",
         "super_num": "None",
         "geometry": "POLYGON ((-97.9027223820462 30.197738151680035, -97.9026747358963 30.197718076802623, -97.902673719…",
         "_deepnote_index_column": 8
        },
        {
         "garb_day": "Monday",
         "garb_rt": "PAM02",
         "garb_sup": "Herrera",
         "landfill": "TDS",
         "op_type": "Auto",
         "rt_old": "None",
         "super_num": "None",
         "geometry": "POLYGON ((-97.88210345010879 30.206191827552, -97.87939861528592 30.205432214593444, -97.8786714739…",
         "_deepnote_index_column": 9
        }
       ]
      },
      "text/plain": "      garb_day garb_rt  garb_sup landfill op_type    rt_old super_num  \\\n0     Thursday   PAH83   Gilbert      TDS    Auto      None       697   \n1       Monday   PAM54  Castillo      TDS    Auto     PAM84       500   \n2       Monday   PAM71  Carnline      TDS    Auto      None       596   \n3     Thursday   PAH54  Castillo      TDS    Auto     PAH75       500   \n4    Wednesday   PAW71  Carnline      TDS    Auto      None       596   \n..         ...     ...       ...      ...     ...       ...       ...   \n179  Wednesday   PAW63    Litson      TDS    Auto      None       170   \n180     Monday   PAM72  Carnline      TDS    Auto      None       596   \n181     Monday   PAM73  Carnline      TDS    Auto  NO ROUTE       596   \n182    Tuesday   PAT84   Gilbert      TDS    Auto     PAT71       697   \n183  Wednesday   PAW70  Carnline      TDS    Auto      None       596   \n\n                                              geometry  \n0    POLYGON ((-97.70618 30.36742, -97.70723 30.367...  \n1    POLYGON ((-97.83237 30.16213, -97.83237 30.162...  \n2    POLYGON ((-97.72977 30.19009, -97.72103 30.186...  \n3    POLYGON ((-97.65374 30.26269, -97.65322 30.282...  \n4    POLYGON ((-97.64683 30.38640, -97.64724 30.386...  \n..                                                 ...  \n179  POLYGON ((-97.77238 30.42130, -97.77238 30.421...  \n180  MULTIPOLYGON (((-97.77343 30.14455, -97.77252 ...  \n181  POLYGON ((-97.77932 30.15112, -97.77839 30.151...  \n182  POLYGON ((-97.79986 30.24749, -97.79170 30.237...  \n183  POLYGON ((-97.60620 30.38152, -97.60622 30.381...  \n\n[184 rows x 8 columns]",
      "text/html": "<div>\n<style scoped>\n    .dataframe tbody tr th:only-of-type {\n        vertical-align: middle;\n    }\n\n    .dataframe tbody tr th {\n        vertical-align: top;\n    }\n\n    .dataframe thead th {\n        text-align: right;\n    }\n</style>\n<table border=\"1\" class=\"dataframe\">\n  <thead>\n    <tr style=\"text-align: right;\">\n      <th></th>\n      <th>garb_day</th>\n      <th>garb_rt</th>\n      <th>garb_sup</th>\n      <th>landfill</th>\n      <th>op_type</th>\n      <th>rt_old</th>\n      <th>super_num</th>\n      <th>geometry</th>\n    </tr>\n  </thead>\n  <tbody>\n    <tr>\n      <th>0</th>\n      <td>Thursday</td>\n      <td>PAH83</td>\n      <td>Gilbert</td>\n      <td>TDS</td>\n      <td>Auto</td>\n      <td>None</td>\n      <td>697</td>\n      <td>POLYGON ((-97.70618 30.36742, -97.70723 30.367...</td>\n    </tr>\n    <tr>\n      <th>1</th>\n      <td>Monday</td>\n      <td>PAM54</td>\n      <td>Castillo</td>\n      <td>TDS</td>\n      <td>Auto</td>\n      <td>PAM84</td>\n      <td>500</td>\n      <td>POLYGON ((-97.83237 30.16213, -97.83237 30.162...</td>\n    </tr>\n    <tr>\n      <th>2</th>\n      <td>Monday</td>\n      <td>PAM71</td>\n      <td>Carnline</td>\n      <td>TDS</td>\n      <td>Auto</td>\n      <td>None</td>\n      <td>596</td>\n      <td>POLYGON ((-97.72977 30.19009, -97.72103 30.186...</td>\n    </tr>\n    <tr>\n      <th>3</th>\n      <td>Thursday</td>\n      <td>PAH54</td>\n      <td>Castillo</td>\n      <td>TDS</td>\n      <td>Auto</td>\n      <td>PAH75</td>\n      <td>500</td>\n      <td>POLYGON ((-97.65374 30.26269, -97.65322 30.282...</td>\n    </tr>\n    <tr>\n      <th>4</th>\n      <td>Wednesday</td>\n      <td>PAW71</td>\n      <td>Carnline</td>\n      <td>TDS</td>\n      <td>Auto</td>\n      <td>None</td>\n      <td>596</td>\n      <td>POLYGON ((-97.64683 30.38640, -97.64724 30.386...</td>\n    </tr>\n    <tr>\n      <th>...</th>\n      <td>...</td>\n      <td>...</td>\n      <td>...</td>\n      <td>...</td>\n      <td>...</td>\n      <td>...</td>\n      <td>...</td>\n      <td>...</td>\n    </tr>\n    <tr>\n      <th>179</th>\n      <td>Wednesday</td>\n      <td>PAW63</td>\n      <td>Litson</td>\n      <td>TDS</td>\n      <td>Auto</td>\n      <td>None</td>\n      <td>170</td>\n      <td>POLYGON ((-97.77238 30.42130, -97.77238 30.421...</td>\n    </tr>\n    <tr>\n      <th>180</th>\n      <td>Monday</td>\n      <td>PAM72</td>\n      <td>Carnline</td>\n      <td>TDS</td>\n      <td>Auto</td>\n      <td>None</td>\n      <td>596</td>\n      <td>MULTIPOLYGON (((-97.77343 30.14455, -97.77252 ...</td>\n    </tr>\n    <tr>\n      <th>181</th>\n      <td>Monday</td>\n      <td>PAM73</td>\n      <td>Carnline</td>\n      <td>TDS</td>\n      <td>Auto</td>\n      <td>NO ROUTE</td>\n      <td>596</td>\n      <td>POLYGON ((-97.77932 30.15112, -97.77839 30.151...</td>\n    </tr>\n    <tr>\n      <th>182</th>\n      <td>Tuesday</td>\n      <td>PAT84</td>\n      <td>Gilbert</td>\n      <td>TDS</td>\n      <td>Auto</td>\n      <td>PAT71</td>\n      <td>697</td>\n      <td>POLYGON ((-97.79986 30.24749, -97.79170 30.237...</td>\n    </tr>\n    <tr>\n      <th>183</th>\n      <td>Wednesday</td>\n      <td>PAW70</td>\n      <td>Carnline</td>\n      <td>TDS</td>\n      <td>Auto</td>\n      <td>None</td>\n      <td>596</td>\n      <td>POLYGON ((-97.60620 30.38152, -97.60622 30.381...</td>\n    </tr>\n  </tbody>\n</table>\n<p>184 rows × 8 columns</p>\n</div>"
     },
     "metadata": {}
    }
   ]
  },
  {
   "cell_type": "code",
   "metadata": {
    "cell_id": "5c8806fe9837491fad445fad95f9d013",
    "tags": [],
    "deepnote_to_be_reexecuted": false,
    "source_hash": "a003777a",
    "execution_start": 1647970085289,
    "execution_millis": 8,
    "deepnote_cell_type": "code",
    "deepnote_cell_height": 291,
    "deepnote_output_heights": [
     194
    ]
   },
   "source": "garbage_routes.shape, garbage_routes.dtypes",
   "execution_count": 5,
   "outputs": [
    {
     "output_type": "execute_result",
     "execution_count": 5,
     "data": {
      "text/plain": "((184, 8),\n garb_day       object\n garb_rt        object\n garb_sup       object\n landfill       object\n op_type        object\n rt_old         object\n super_num      object\n geometry     geometry\n dtype: object)"
     },
     "metadata": {}
    }
   ]
  },
  {
   "cell_type": "code",
   "source": "for col in garbage_routes.columns:\n    print(col, garbage_routes[col].nunique() ,garbage_routes[col].unique())\n    print(\"-------------------\")",
   "metadata": {
    "cell_id": "a9bbdcf2c8b74bf2aed18837922de4e1",
    "tags": [],
    "deepnote_to_be_reexecuted": false,
    "source_hash": "d8cb78ac",
    "execution_start": 1647970410377,
    "execution_millis": 357,
    "deepnote_cell_type": "code",
    "deepnote_cell_height": 737
   },
   "outputs": [
    {
     "name": "stdout",
     "text": "garb_day 5 ['Thursday' 'Monday' 'Wednesday' 'Tuesday' 'Friday']\n-------------------\ngarb_rt 184 ['PAH83' 'PAM54' 'PAM71' 'PAH54' 'PAW71' 'PH21' 'PAM80' 'PAT71' 'PAM01'\n 'PAM02' 'PM41' 'PAM03' 'PAM63' 'PAM05' 'PAM64' 'PAM65' 'PAT82' 'PAM60'\n 'PAM04' 'PAM61' 'PAM62' 'PAM81' 'PAM85' 'PAM84' 'PAM82' 'PAM83' 'PAM52'\n 'PM10' 'PAM51' 'PAM53' 'PM11' 'PM42' 'PM30' 'PAT52' 'PAM74' 'PM40' 'PM31'\n 'PM32' 'PM22' 'PM12' 'PM21' 'PAT01' 'PAT02' 'PAT03' 'PAT04' 'PAT80'\n 'PAT60' 'PAT61' 'PAT62' 'PAT63' 'PAT83' 'PAT51' 'PAT50' 'PAT53' 'PAT73'\n 'PAT74' 'PAT72' 'PAM70' 'PT11' 'PT30' 'PAW73' 'PH41' 'PT10' 'PH10' 'PT20'\n 'PT21' 'PF33' 'PF13' 'PAF72' 'PF32' 'PAF83' 'PAF80' 'PAF54' 'PF22'\n 'PAF81' 'PAF71' 'PAH53' 'PF40' 'PAF73' 'PAF82' 'PAF02' 'PAF03' 'PAF50'\n 'PAF70' 'PAH50' 'PF20' 'PF10' 'PAF63' 'PAF52' 'PAF53' 'PF11' 'PF21'\n 'PAF62' 'PAH51' 'PF41' 'PAF61' 'PF30' 'PH30' 'PH32' 'PAH72' 'PH20'\n 'PAH74' 'PAH71' 'PAH70' 'PAH01' 'PAH02' 'PAH64' 'PAH03' 'PAH04' 'PAH81'\n 'PAH05' 'PAH06' 'PAH63' 'PAH80' 'PAH62' 'PAH75' 'PAH82' 'PAH60' 'PAH61'\n 'PAH84' 'PH11' 'PH12' 'PAW02' 'PAW03' 'PAW04' 'PAW82' 'PAW84' 'PAW83'\n 'PAW81' 'PAW62' 'PAW53' 'PAW65' 'PAW52' 'PAW85' 'PAW60' 'PAW61' 'PAW64'\n 'PAW55' 'PW20' 'PW21' 'PW31' 'PAH52' 'PW32' 'PW12' 'PW11' 'PAT70' 'PAT54'\n 'PAF60' 'PAF51' 'PAW74' 'PAM50' 'PM20' 'PAM75' 'PAW80' 'PH42' 'PW40'\n 'PAF04' 'PAT81' 'PH31' 'PW41' 'PAW01' 'PW10' 'PAF01' 'PAM06' 'PT31'\n 'PAW72' 'PAW06' 'PAH65' 'PAW51' 'PAW05' 'PW30' 'PAH73' 'PH40' 'PW22'\n 'PT42' 'PT40' 'PT41' 'PAW50' 'PAW54' 'PAW63' 'PAM72' 'PAM73' 'PAT84'\n 'PAW70']\n-------------------\ngarb_sup 9 ['Gilbert' 'Castillo' 'Carnline' 'Clark' 'Herrera' 'Klair' 'Litson'\n 'L Joyner' 'Williams']\n-------------------\nlandfill 1 ['TDS']\n-------------------\nop_type 2 ['Auto' 'Semi']\n-------------------\nrt_old 91 [None 'PAM84' 'PAH75' 'PH23' 'PAM64' 'PAT84' 'PM23' 'PAM04' 'PAM80'\n 'PAM07' 'PAT05' 'PAM81' 'PAM63' 'PAM65' 'PAM66' 'PAM85' 'PAM73' 'PAM74'\n 'PM30' 'PM33' 'PAT83' 'PAM76' 'PM22' 'PM13' 'PAT06' 'PAT66' 'PAT65'\n 'PAT72' 'PAT75' 'PT12' 'PT11' 'PAW76' 'PH32' 'PAF75' 'PAF84' 'PAF70'\n 'PAH85' 'PF23' 'PAF74' 'PAF73' 'PAF05' 'PAF82' 'PAH81' 'PAF72' 'PAF80'\n 'PAH71' 'PF12' 'PH33' 'PH22' 'PAH61' 'PAH05' 'PAH80' 'PAH07' 'PAH63'\n 'PAH60' 'PAH84' 'PAH82' 'PAH86' 'PAW05' 'PAW86' 'PAW06' 'PAW85' 'PAW50'\n 'PAW83' 'PAW60' 'PAW82' 'PAW66' 'PAW65' 'PAW73' 'PAH76' 'PW33' 'PW13'\n 'PAT85' 'PAT86' 'PAF64' 'PAM86' 'PH31' 'PW22' 'PH21' 'PW32' 'PAW61'\n 'PAW75' 'PAW07' 'PH20' 'PW11' 'PT30' 'PT22' 'PT32' 'PAW70' 'PAW84'\n 'NO ROUTE' 'PAT71']\n-------------------\nsuper_num 6 ['697' '500' '596' None '400' '170' '800']\n-------------------\ngeometry 184 <GeometryArray>\n[          <shapely.geometry.polygon.Polygon object at 0x7fef91127e50>,\n           <shapely.geometry.polygon.Polygon object at 0x7fef91127590>,\n           <shapely.geometry.polygon.Polygon object at 0x7fef91127e10>,\n           <shapely.geometry.polygon.Polygon object at 0x7fef911278d0>,\n           <shapely.geometry.polygon.Polygon object at 0x7fef911279d0>,\n           <shapely.geometry.polygon.Polygon object at 0x7fef911273d0>,\n           <shapely.geometry.polygon.Polygon object at 0x7fef91127410>,\n           <shapely.geometry.polygon.Polygon object at 0x7fef91127d90>,\n           <shapely.geometry.polygon.Polygon object at 0x7fef91127a50>,\n           <shapely.geometry.polygon.Polygon object at 0x7fef911271d0>,\n ...\n           <shapely.geometry.polygon.Polygon object at 0x7fef917ae910>,\n           <shapely.geometry.polygon.Polygon object at 0x7fef917aea50>,\n           <shapely.geometry.polygon.Polygon object at 0x7fef927b1810>,\n           <shapely.geometry.polygon.Polygon object at 0x7fef917ebe90>,\n           <shapely.geometry.polygon.Polygon object at 0x7fef927b1b50>,\n           <shapely.geometry.polygon.Polygon object at 0x7fef927b11d0>,\n <shapely.geometry.multipolygon.MultiPolygon object at 0x7fef917ae290>,\n           <shapely.geometry.polygon.Polygon object at 0x7fef9125b450>,\n           <shapely.geometry.polygon.Polygon object at 0x7fef9125b150>,\n           <shapely.geometry.polygon.Polygon object at 0x7fef9125b110>]\nLength: 184, dtype: geometry\n-------------------\n",
     "output_type": "stream"
    }
   ],
   "execution_count": 7
  },
  {
   "cell_type": "code",
   "source": "For now lets focus on the columns: garb_rt and geometry",
   "metadata": {
    "cell_id": "7a898503791f4c1ea6b340c84fd86d6c",
    "tags": [],
    "deepnote_cell_type": "code",
    "deepnote_cell_height": 66
   },
   "outputs": [],
   "execution_count": null
  },
  {
   "cell_type": "code",
   "source": "df_path = garbage_routes[['garb_rt', 'geometry', 'garb_day' ]]\nfig = plt.figure(figsize = (16,9))\nax = plt.subplot()\ndf_path.plot(ax = ax)\n",
   "metadata": {
    "cell_id": "90f585a0d6894abb9cb47d360b281bb1",
    "tags": [],
    "deepnote_to_be_reexecuted": false,
    "source_hash": "fe56c5a2",
    "execution_start": 1647972182872,
    "execution_millis": 557,
    "deepnote_cell_type": "code",
    "deepnote_cell_height": 743.1875,
    "deepnote_output_heights": [
     21.1875,
     522,
     250
    ]
   },
   "outputs": [
    {
     "output_type": "execute_result",
     "execution_count": 13,
     "data": {
      "text/plain": "<AxesSubplot:>"
     },
     "metadata": {}
    },
    {
     "data": {
      "text/plain": "<Figure size 1152x648 with 1 Axes>",
      "image/png": "[encoded data removed]"
     },
     "metadata": {
      "needs_background": "light",
      "image/png": {
       "width": 404,
       "height": 520
      }
     },
     "output_type": "display_data"
    }
   ],
   "execution_count": 13
  },
  {
   "cell_type": "code",
   "source": "df = pd.read_csv(\"/work/world_data_league_2022/stage_one/data/waste_data.csv\")\ndf.head(2)",
   "metadata": {
    "cell_id": "2dd16a04b0a148118f6ab3539f647341",
    "tags": [],
    "deepnote_to_be_reexecuted": false,
    "source_hash": "ffee8001",
    "execution_start": 1647972563269,
    "execution_millis": 2449,
    "deepnote_cell_type": "code",
    "deepnote_cell_height": 304.796875
   },
   "outputs": [
    {
     "output_type": "execute_result",
     "execution_count": 20,
     "data": {
      "application/vnd.deepnote.dataframe.v3+json": {
       "column_count": 8,
       "row_count": 2,
       "columns": [
        {
         "name": "Report Date",
         "dtype": "object",
         "stats": {
          "unique_count": 1,
          "nan_count": 0,
          "categories": [
           {
            "name": "12/08/2020",
            "count": 2
           }
          ]
         }
        },
        {
         "name": "Load Type",
         "dtype": "object",
         "stats": {
          "unique_count": 2,
          "nan_count": 0,
          "categories": [
           {
            "name": "BULK",
            "count": 1
           },
           {
            "name": "RECYCLING - SINGLE STREAM",
            "count": 1
           }
          ]
         }
        },
        {
         "name": "Load Time",
         "dtype": "object",
         "stats": {
          "unique_count": 2,
          "nan_count": 0,
          "categories": [
           {
            "name": "12/08/2020 03:02:00 PM",
            "count": 1
           },
           {
            "name": "12/08/2020 10:00:00 AM",
            "count": 1
           }
          ]
         }
        },
        {
         "name": "Load Weight",
         "dtype": "float64",
         "stats": {
          "unique_count": 2,
          "nan_count": 0,
          "min": "5220.0",
          "max": "11140.0",
          "histogram": [
           {
            "bin_start": 5220,
            "bin_end": 5812,
            "count": 1
           },
           {
            "bin_start": 5812,
            "bin_end": 6404,
            "count": 0
           },
           {
            "bin_start": 6404,
            "bin_end": 6996,
            "count": 0
           },
           {
            "bin_start": 6996,
            "bin_end": 7588,
            "count": 0
           },
           {
            "bin_start": 7588,
            "bin_end": 8180,
            "count": 0
           },
           {
            "bin_start": 8180,
            "bin_end": 8772,
            "count": 0
           },
           {
            "bin_start": 8772,
            "bin_end": 9364,
            "count": 0
           },
           {
            "bin_start": 9364,
            "bin_end": 9956,
            "count": 0
           },
           {
            "bin_start": 9956,
            "bin_end": 10548,
            "count": 0
           },
           {
            "bin_start": 10548,
            "bin_end": 11140,
            "count": 1
           }
          ]
         }
        },
        {
         "name": "Dropoff Site",
         "dtype": "object",
         "stats": {
          "unique_count": 2,
          "nan_count": 0,
          "categories": [
           {
            "name": "TDS LANDFILL",
            "count": 1
           },
           {
            "name": "TDS - MRF",
            "count": 1
           }
          ]
         }
        },
        {
         "name": "Route Type",
         "dtype": "object",
         "stats": {
          "unique_count": 2,
          "nan_count": 0,
          "categories": [
           {
            "name": "BULK",
            "count": 1
           },
           {
            "name": "RECYCLING - SINGLE STREAM",
            "count": 1
           }
          ]
         }
        },
        {
         "name": "Route Number",
         "dtype": "object",
         "stats": {
          "unique_count": 2,
          "nan_count": 0,
          "categories": [
           {
            "name": "BU13",
            "count": 1
           },
           {
            "name": "RTAU53",
            "count": 1
           }
          ]
         }
        },
        {
         "name": "Load ID",
         "dtype": "int64",
         "stats": {
          "unique_count": 2,
          "nan_count": 0,
          "min": "899078",
          "max": "899097",
          "histogram": [
           {
            "bin_start": 899078,
            "bin_end": 899079.9,
            "count": 1
           },
           {
            "bin_start": 899079.9,
            "bin_end": 899081.8,
            "count": 0
           },
           {
            "bin_start": 899081.8,
            "bin_end": 899083.7,
            "count": 0
           },
           {
            "bin_start": 899083.7,
            "bin_end": 899085.6,
            "count": 0
           },
           {
            "bin_start": 899085.6,
            "bin_end": 899087.5,
            "count": 0
           },
           {
            "bin_start": 899087.5,
            "bin_end": 899089.4,
            "count": 0
           },
           {
            "bin_start": 899089.4,
            "bin_end": 899091.3,
            "count": 0
           },
           {
            "bin_start": 899091.3,
            "bin_end": 899093.2,
            "count": 0
           },
           {
            "bin_start": 899093.2,
            "bin_end": 899095.1,
            "count": 0
           },
           {
            "bin_start": 899095.1,
            "bin_end": 899097,
            "count": 1
           }
          ]
         }
        },
        {
         "name": "_deepnote_index_column",
         "dtype": "int64"
        }
       ],
       "rows": [
        {
         "Report Date": "12/08/2020",
         "Load Type": "BULK",
         "Load Time": "12/08/2020 03:02:00 PM",
         "Load Weight": 5220,
         "Dropoff Site": "TDS LANDFILL",
         "Route Type": "BULK",
         "Route Number": "BU13",
         "Load ID": 899097,
         "_deepnote_index_column": 0
        },
        {
         "Report Date": "12/08/2020",
         "Load Type": "RECYCLING - SINGLE STREAM",
         "Load Time": "12/08/2020 10:00:00 AM",
         "Load Weight": 11140,
         "Dropoff Site": "TDS - MRF",
         "Route Type": "RECYCLING - SINGLE STREAM",
         "Route Number": "RTAU53",
         "Load ID": 899078,
         "_deepnote_index_column": 1
        }
       ]
      },
      "text/plain": "  Report Date                  Load Type               Load Time  Load Weight  \\\n0  12/08/2020                       BULK  12/08/2020 03:02:00 PM       5220.0   \n1  12/08/2020  RECYCLING - SINGLE STREAM  12/08/2020 10:00:00 AM      11140.0   \n\n   Dropoff Site                 Route Type Route Number  Load ID  \n0  TDS LANDFILL                       BULK         BU13   899097  \n1     TDS - MRF  RECYCLING - SINGLE STREAM       RTAU53   899078  ",
      "text/html": "<div>\n<style scoped>\n    .dataframe tbody tr th:only-of-type {\n        vertical-align: middle;\n    }\n\n    .dataframe tbody tr th {\n        vertical-align: top;\n    }\n\n    .dataframe thead th {\n        text-align: right;\n    }\n</style>\n<table border=\"1\" class=\"dataframe\">\n  <thead>\n    <tr style=\"text-align: right;\">\n      <th></th>\n      <th>Report Date</th>\n      <th>Load Type</th>\n      <th>Load Time</th>\n      <th>Load Weight</th>\n      <th>Dropoff Site</th>\n      <th>Route Type</th>\n      <th>Route Number</th>\n      <th>Load ID</th>\n    </tr>\n  </thead>\n  <tbody>\n    <tr>\n      <th>0</th>\n      <td>12/08/2020</td>\n      <td>BULK</td>\n      <td>12/08/2020 03:02:00 PM</td>\n      <td>5220.0</td>\n      <td>TDS LANDFILL</td>\n      <td>BULK</td>\n      <td>BU13</td>\n      <td>899097</td>\n    </tr>\n    <tr>\n      <th>1</th>\n      <td>12/08/2020</td>\n      <td>RECYCLING - SINGLE STREAM</td>\n      <td>12/08/2020 10:00:00 AM</td>\n      <td>11140.0</td>\n      <td>TDS - MRF</td>\n      <td>RECYCLING - SINGLE STREAM</td>\n      <td>RTAU53</td>\n      <td>899078</td>\n    </tr>\n  </tbody>\n</table>\n</div>"
     },
     "metadata": {}
    }
   ],
   "execution_count": 20
  },
  {
   "cell_type": "code",
   "source": "len(set(df['Route Number'].unique()).difference(garbage_routes['garb_rt'].unique()))",
   "metadata": {
    "cell_id": "5e52ef1efbb94005bf65b385b1230026",
    "tags": [],
    "deepnote_to_be_reexecuted": false,
    "source_hash": "b3de4b9a",
    "execution_start": 1647972585845,
    "execution_millis": 125,
    "deepnote_cell_type": "code",
    "deepnote_cell_height": 708,
    "deepnote_output_heights": [
     611
    ]
   },
   "outputs": [
    {
     "output_type": "execute_result",
     "execution_count": 22,
     "data": {
      "text/plain": "2037"
     },
     "metadata": {}
    }
   ],
   "execution_count": 22
  },
  {
   "cell_type": "code",
   "source": "",
   "metadata": {
    "cell_id": "acd8d4fd83504c9fbf49dd89031ca89d",
    "tags": [],
    "deepnote_cell_type": "code",
    "deepnote_cell_height": 66
   },
   "outputs": [],
   "execution_count": null
  },
  {
   "cell_type": "markdown",
   "source": "<a style='text-decoration:none;line-height:16px;display:flex;color:#5B5B62;padding:10px;justify-content:end;' href='https://deepnote.com?utm_source=created-in-deepnote-cell&projectId=1a1cabe9-69f7-4a67-be18-e232e1feb2b6' target=\"_blank\">\n<img alt='Created in deepnote.com' style='display:inline;max-height:16px;margin:0px;margin-right:7.5px;' src='data:image/svg+xml;base64,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' > </img>\nCreated in <span style='font-weight:600;margin-left:4px;'>Deepnote</span></a>",
   "metadata": {
    "tags": [],
    "created_in_deepnote_cell": true,
    "deepnote_cell_type": "markdown"
   }
  }
 ],
 "nbformat": 4,
 "nbformat_minor": 2,
 "metadata": {
  "orig_nbformat": 2,
  "deepnote": {
   "is_reactive": false
  },
  "deepnote_notebook_id": "51cfc589-cfa1-42ba-8659-8636c3bf2890",
  "deepnote_execution_queue": []
 }
}