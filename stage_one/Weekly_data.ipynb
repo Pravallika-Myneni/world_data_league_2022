{
 "cells": [
  {
   "cell_type": "markdown",
   "source": "<a href=\"https://colab.research.google.com/github/Pravallika-Myneni/world_data_league_2022/blob/main/Weekly_data.ipynb\" target=\"_parent\"><img src=\"https://colab.research.google.com/assets/colab-badge.svg\" alt=\"Open In Colab\"/></a>",
   "metadata": {
    "id": "view-in-github",
    "colab_type": "text",
    "cell_id": "b69d45ea-0daa-4d39-b520-456664482bca",
    "deepnote_cell_type": "markdown",
    "deepnote_cell_height": 90
   }
  },
  {
   "cell_type": "markdown",
   "source": "# **Predict Waste Production for its Reduction**\n\n## Context\nAccording to the World Bank, in 2016 cities generated 2.01 billion tons of solid waste. Per person, this is around 0.74 kg/day! With the rapid growth of cities, this number is only expected to increase. As cities are growing, it is urgent that optimization processes for waste processing and more targeted public education on waste management and separation. Finally, it is also important to note that waste collection also has an impact on air pollution.\n\n## Goal & Outcome\nThe goal of this challenge is to help identify trends in waste production and help to create insights into how to reduce waste and optimize its collection. The expected outcome to this challenge is to identify waste trends and to produce an explainable model for predicting future waste production. Finally, don’t forget to propose the application (product) for the model and study its impact.\n\n## Data\nAustin Resource Recovery daily report providing waste collection information based on the following categories:\n\n\n*   Report Date: The date collections information was recorded.\n*   Load Type: The specific type of load that is being collected on that day.\n*   Load Time: Date & Time of Loading\n*   Load Weight: The weight (in pounds) collected for each service on the day it was delivered to a diversion facility\n*   Drop off Site: The location where each type of waste is delivered for disposal, recycling or reuse: TDS Landfill indicates the Texas Disposal System landfill located at 12200 Carl Rd, Creedmoor, TX 78610; Balcones Recycling is a recycling facility located at 9301 Johnny Morris Road Austin, TX 78724; MRF is a Materials Recycling Facility (such as Texas Disposal Systems or Balcones Recycling); Hornsby Bend is located at 2210 FM 973, Austin, TX 78725 and accepts food scraps, yard trimmings, food-soiled paper and other materials collected by ARR, and combined with other waste to produce nutrient-rich dillo dirt, used for landscaping.\n*   Route Type: The general category of collection service provided by Austin Resource Recovery\n*   Route Number: Austin Resource Recovery route that the truck that collected this load was following. Each route has abbreviated letters indicating the service type (e.g. Bulk = \"BU\") and a number indicating the specific route.",
   "metadata": {
    "id": "GicbGc072Klw",
    "cell_id": "00001-604b1b25-1bd6-451f-b821-e8bf87e4a361",
    "deepnote_cell_type": "markdown",
    "deepnote_cell_height": 812
   }
  },
  {
   "cell_type": "markdown",
   "source": "### Development",
   "metadata": {
    "id": "5M_MQV_zAs3_",
    "cell_id": "00002-b7a708b7-aa57-4982-86fb-31b392947ed9",
    "deepnote_cell_type": "markdown",
    "deepnote_cell_height": 62
   }
  },
  {
   "cell_type": "code",
   "metadata": {
    "id": "42fVWBB7x1La",
    "cell_id": "00003-3091c5db-9c57-4f81-a925-e3e044918150",
    "deepnote_cell_type": "code",
    "deepnote_cell_height": 138
   },
   "source": "#Imports\nimport pandas as pd\nimport seaborn as sns\nimport pandas as pd, datetime as dt\nimport numpy as np",
   "execution_count": null,
   "outputs": []
  },
  {
   "cell_type": "code",
   "metadata": {
    "id": "prK55THcyN4c",
    "cell_id": "00004-3fb231ae-4016-404a-8a1b-1db7e2e2a56b",
    "deepnote_cell_type": "code",
    "deepnote_cell_height": 84
   },
   "source": "df = pd.read_csv('https://raw.githubusercontent.com/Pravallika-Myneni/world_data_league_2022/main/stage_one/data/waste_data.csv')\ndf_= df.copy()",
   "execution_count": null,
   "outputs": []
  },
  {
   "cell_type": "code",
   "metadata": {
    "colab": {
     "base_uri": "https://localhost:8080/",
     "height": 206
    },
    "id": "IirKrwmiyUBg",
    "outputId": "6650a136-c1d3-41b6-b5de-520589de092c",
    "cell_id": "00005-392f73a7-e748-4665-bff8-0b800f9eb538",
    "deepnote_cell_type": "code",
    "deepnote_cell_height": 274
   },
   "source": "df.head()",
   "execution_count": null,
   "outputs": [
    {
     "output_type": "execute_result",
     "data": {
      "text/plain": "  Report Date                  Load Type               Load Time  Load Weight  \\\n0  12/08/2020                       BULK  12/08/2020 03:02:00 PM       5220.0   \n1  12/08/2020  RECYCLING - SINGLE STREAM  12/08/2020 10:00:00 AM      11140.0   \n2  12/03/2020  RECYCLING - SINGLE STREAM  12/03/2020 10:34:00 AM      10060.0   \n3  12/07/2020                   SWEEPING  12/07/2020 10:15:00 AM       7100.0   \n4  12/07/2020  RECYCLING - SINGLE STREAM  12/07/2020 04:00:00 PM      12000.0   \n\n         Dropoff Site                 Route Type Route Number  Load ID  \n0        TDS LANDFILL                       BULK         BU13   899097  \n1           TDS - MRF  RECYCLING - SINGLE STREAM       RTAU53   899078  \n2  BALCONES RECYCLING  RECYCLING - SINGLE STREAM       RHBU10   899082  \n3        TDS LANDFILL          SWEEPER DUMPSITES        DSS04   899030  \n4           TDS - MRF  RECYCLING - SINGLE STREAM       RMAU53   899048  ",
      "text/html": "\n  <div id=\"df-1fff5a4f-bab8-4eeb-a43a-d3afd280f86c\">\n    <div class=\"colab-df-container\">\n      <div>\n<style scoped>\n    .dataframe tbody tr th:only-of-type {\n        vertical-align: middle;\n    }\n\n    .dataframe tbody tr th {\n        vertical-align: top;\n    }\n\n    .dataframe thead th {\n        text-align: right;\n    }\n</style>\n<table border=\"1\" class=\"dataframe\">\n  <thead>\n    <tr style=\"text-align: right;\">\n      <th></th>\n      <th>Report Date</th>\n      <th>Load Type</th>\n      <th>Load Time</th>\n      <th>Load Weight</th>\n      <th>Dropoff Site</th>\n      <th>Route Type</th>\n      <th>Route Number</th>\n      <th>Load ID</th>\n    </tr>\n  </thead>\n  <tbody>\n    <tr>\n      <th>0</th>\n      <td>12/08/2020</td>\n      <td>BULK</td>\n      <td>12/08/2020 03:02:00 PM</td>\n      <td>5220.0</td>\n      <td>TDS LANDFILL</td>\n      <td>BULK</td>\n      <td>BU13</td>\n      <td>899097</td>\n    </tr>\n    <tr>\n      <th>1</th>\n      <td>12/08/2020</td>\n      <td>RECYCLING - SINGLE STREAM</td>\n      <td>12/08/2020 10:00:00 AM</td>\n      <td>11140.0</td>\n      <td>TDS - MRF</td>\n      <td>RECYCLING - SINGLE STREAM</td>\n      <td>RTAU53</td>\n      <td>899078</td>\n    </tr>\n    <tr>\n      <th>2</th>\n      <td>12/03/2020</td>\n      <td>RECYCLING - SINGLE STREAM</td>\n      <td>12/03/2020 10:34:00 AM</td>\n      <td>10060.0</td>\n      <td>BALCONES RECYCLING</td>\n      <td>RECYCLING - SINGLE STREAM</td>\n      <td>RHBU10</td>\n      <td>899082</td>\n    </tr>\n    <tr>\n      <th>3</th>\n      <td>12/07/2020</td>\n      <td>SWEEPING</td>\n      <td>12/07/2020 10:15:00 AM</td>\n      <td>7100.0</td>\n      <td>TDS LANDFILL</td>\n      <td>SWEEPER DUMPSITES</td>\n      <td>DSS04</td>\n      <td>899030</td>\n    </tr>\n    <tr>\n      <th>4</th>\n      <td>12/07/2020</td>\n      <td>RECYCLING - SINGLE STREAM</td>\n      <td>12/07/2020 04:00:00 PM</td>\n      <td>12000.0</td>\n      <td>TDS - MRF</td>\n      <td>RECYCLING - SINGLE STREAM</td>\n      <td>RMAU53</td>\n      <td>899048</td>\n    </tr>\n  </tbody>\n</table>\n</div>\n      <button class=\"colab-df-convert\" onclick=\"convertToInteractive('df-1fff5a4f-bab8-4eeb-a43a-d3afd280f86c')\"\n              title=\"Convert this dataframe to an interactive table.\"\n              style=\"display:none;\">\n        \n  <svg xmlns=\"http://www.w3.org/2000/svg\" height=\"24px\"viewBox=\"0 0 24 24\"\n       width=\"24px\">\n    <path d=\"M0 0h24v24H0V0z\" fill=\"none\"/>\n    <path d=\"M18.56 5.44l.94 2.06.94-2.06 2.06-.94-2.06-.94-.94-2.06-.94 2.06-2.06.94zm-11 1L8.5 8.5l.94-2.06 2.06-.94-2.06-.94L8.5 2.5l-.94 2.06-2.06.94zm10 10l.94 2.06.94-2.06 2.06-.94-2.06-.94-.94-2.06-.94 2.06-2.06.94z\"/><path d=\"M17.41 7.96l-1.37-1.37c-.4-.4-.92-.59-1.43-.59-.52 0-1.04.2-1.43.59L10.3 9.45l-7.72 7.72c-.78.78-.78 2.05 0 2.83L4 21.41c.39.39.9.59 1.41.59.51 0 1.02-.2 1.41-.59l7.78-7.78 2.81-2.81c.8-.78.8-2.07 0-2.86zM5.41 20L4 18.59l7.72-7.72 1.47 1.35L5.41 20z\"/>\n  </svg>\n      </button>\n      \n  <style>\n    .colab-df-container {\n      display:flex;\n      flex-wrap:wrap;\n      gap: 12px;\n    }\n\n    .colab-df-convert {\n      background-color: #E8F0FE;\n      border: none;\n      border-radius: 50%;\n      cursor: pointer;\n      display: none;\n      fill: #1967D2;\n      height: 32px;\n      padding: 0 0 0 0;\n      width: 32px;\n    }\n\n    .colab-df-convert:hover {\n      background-color: #E2EBFA;\n      box-shadow: 0px 1px 2px rgba(60, 64, 67, 0.3), 0px 1px 3px 1px rgba(60, 64, 67, 0.15);\n      fill: #174EA6;\n    }\n\n    [theme=dark] .colab-df-convert {\n      background-color: #3B4455;\n      fill: #D2E3FC;\n    }\n\n    [theme=dark] .colab-df-convert:hover {\n      background-color: #434B5C;\n      box-shadow: 0px 1px 3px 1px rgba(0, 0, 0, 0.15);\n      filter: drop-shadow(0px 1px 2px rgba(0, 0, 0, 0.3));\n      fill: #FFFFFF;\n    }\n  </style>\n\n      <script>\n        const buttonEl =\n          document.querySelector('#df-1fff5a4f-bab8-4eeb-a43a-d3afd280f86c button.colab-df-convert');\n        buttonEl.style.display =\n          google.colab.kernel.accessAllowed ? 'block' : 'none';\n\n        async function convertToInteractive(key) {\n          const element = document.querySelector('#df-1fff5a4f-bab8-4eeb-a43a-d3afd280f86c');\n          const dataTable =\n            await google.colab.kernel.invokeFunction('convertToInteractive',\n                                                     [key], {});\n          if (!dataTable) return;\n\n          const docLinkHtml = 'Like what you see? Visit the ' +\n            '<a target=\"_blank\" href=https://colab.research.google.com/notebooks/data_table.ipynb>data table notebook</a>'\n            + ' to learn more about interactive tables.';\n          element.innerHTML = '';\n          dataTable['output_type'] = 'display_data';\n          await google.colab.output.renderOutput(dataTable, element);\n          const docLink = document.createElement('div');\n          docLink.innerHTML = docLinkHtml;\n          element.appendChild(docLink);\n        }\n      </script>\n    </div>\n  </div>\n  "
     },
     "metadata": {},
     "execution_count": 45
    }
   ]
  },
  {
   "cell_type": "code",
   "metadata": {
    "colab": {
     "base_uri": "https://localhost:8080/"
    },
    "id": "vKqOozKC1Oj3",
    "outputId": "022f4d60-80b2-4dae-86d0-607f2203b12a",
    "cell_id": "00006-e59a08a0-c5b7-4d0d-9041-b01217902b04",
    "deepnote_cell_type": "code",
    "deepnote_cell_height": 392
   },
   "source": "df.info()",
   "execution_count": null,
   "outputs": [
    {
     "output_type": "stream",
     "name": "stdout",
     "text": "<class 'pandas.core.frame.DataFrame'>\nRangeIndex: 740873 entries, 0 to 740872\nData columns (total 8 columns):\n #   Column        Non-Null Count   Dtype  \n---  ------        --------------   -----  \n 0   Report Date   740873 non-null  object \n 1   Load Type     740873 non-null  object \n 2   Load Time     740873 non-null  object \n 3   Load Weight   668538 non-null  float64\n 4   Dropoff Site  740873 non-null  object \n 5   Route Type    740873 non-null  object \n 6   Route Number  740873 non-null  object \n 7   Load ID       740873 non-null  int64  \ndtypes: float64(1), int64(1), object(6)\nmemory usage: 45.2+ MB\n"
    }
   ]
  },
  {
   "cell_type": "code",
   "metadata": {
    "id": "pFpJkTE2ycGA",
    "colab": {
     "base_uri": "https://localhost:8080/"
    },
    "outputId": "2a317821-102d-44ef-8321-12b15df84eda",
    "cell_id": "00007-4ee35e56-fd95-46fb-9142-3b7e29f29c7a",
    "deepnote_cell_type": "code",
    "deepnote_cell_height": 271.6875
   },
   "source": "df.isnull().sum()/df.shape[0]",
   "execution_count": null,
   "outputs": [
    {
     "output_type": "execute_result",
     "data": {
      "text/plain": "Report Date     0.000000\nLoad Type       0.000000\nLoad Time       0.000000\nLoad Weight     0.097635\nDropoff Site    0.000000\nRoute Type      0.000000\nRoute Number    0.000000\nLoad ID         0.000000\ndtype: float64"
     },
     "metadata": {},
     "execution_count": 47
    }
   ]
  },
  {
   "cell_type": "code",
   "metadata": {
    "colab": {
     "base_uri": "https://localhost:8080/"
    },
    "id": "ExEnfQ-F-1SJ",
    "outputId": "030d341b-77de-4520-fed7-de91e86bd8e8",
    "cell_id": "00008-e5527179-6d44-4285-9784-175ca79b5114",
    "deepnote_cell_type": "code",
    "deepnote_cell_height": 137.375
   },
   "source": "pd.to_datetime(df['Load Time']).dt.year.unique()",
   "execution_count": null,
   "outputs": [
    {
     "output_type": "execute_result",
     "data": {
      "text/plain": "array([2020, 2010, 2012, 2017, 2008, 2016, 2009, 2018, 2004, 2019, 2014,\n       2015, 2011, 2006, 2013, 2007, 2005, 2001, 2000, 2030, 2021])"
     },
     "metadata": {},
     "execution_count": 48
    }
   ]
  },
  {
   "cell_type": "code",
   "metadata": {
    "colab": {
     "base_uri": "https://localhost:8080/"
    },
    "id": "KLOBQpLw2GTL",
    "outputId": "42910896-2eff-4dc5-f843-cb9a8c251700",
    "cell_id": "00009-d76b34b4-0679-4c48-bffc-5f34a623a962",
    "deepnote_cell_type": "code",
    "deepnote_cell_height": 154.1875
   },
   "source": "df_1 = df.copy()\ndf = df.dropna()\ndf.shape",
   "execution_count": null,
   "outputs": [
    {
     "output_type": "execute_result",
     "data": {
      "text/plain": "(668538, 8)"
     },
     "metadata": {},
     "execution_count": 49
    }
   ]
  },
  {
   "cell_type": "markdown",
   "source": "**6% missing data in the given values**\nLets fill the missing values based on average of load type",
   "metadata": {
    "id": "cz0yUAIbdvH3",
    "cell_id": "00010-4403ea33-bdcd-43fe-a7ae-c27c78523c1b",
    "deepnote_cell_type": "markdown",
    "deepnote_cell_height": 52.390625
   }
  },
  {
   "cell_type": "code",
   "metadata": {
    "colab": {
     "base_uri": "https://localhost:8080/"
    },
    "id": "KdFBGR-XgvNO",
    "outputId": "42a6933a-7dca-4359-806d-ffe4463ab105",
    "cell_id": "00011-64dca87b-282f-4436-a305-fc5c5a2c0efb",
    "deepnote_cell_type": "code",
    "deepnote_cell_height": 540.3125
   },
   "source": "df[\"Load Type\"].value_counts()",
   "execution_count": null,
   "outputs": [
    {
     "output_type": "execute_result",
     "data": {
      "text/plain": "GARBAGE COLLECTIONS            258395\nRECYCLING - SINGLE STREAM      147612\nYARD TRIMMING                   69554\nBULK                            40117\nBRUSH                           39141\nRECYCLING - PAPER               32155\nRECYCLING - COMINGLE            31116\nORGANICS                        17705\nSWEEPING                        16522\nDEAD ANIMAL                      6856\nTIRES                            3205\nMIXED LITTER                     2110\nLITTER                           1539\nMULCH                            1344\nRECYCLED METAL                   1049\nBAGGED LITTER                      43\nRECYCLING - PLASTIC BAGS           40\nYARD TRIMMING - X-MAS TREES        16\nMATTRESS                            9\nCONTAMINATED RECYCLING              8\nCONTAMINATED YARD TRIMMINGS         1\nCONTAMINATED ORGANICS               1\nName: Load Type, dtype: int64"
     },
     "metadata": {},
     "execution_count": 50
    }
   ]
  },
  {
   "cell_type": "code",
   "metadata": {
    "id": "uwk1ritBw5xL",
    "cell_id": "00012-3a083d5d-9ca4-49c8-b397-345f2d4181bb",
    "deepnote_cell_type": "code",
    "deepnote_cell_height": 66
   },
   "source": "df[\"Load Time\"] = pd.to_datetime(df[\"Load Time\"])",
   "execution_count": null,
   "outputs": []
  },
  {
   "cell_type": "code",
   "metadata": {
    "colab": {
     "base_uri": "https://localhost:8080/",
     "height": 1000
    },
    "id": "Kd6PV0bOy35Y",
    "outputId": "ed83f675-9bb4-4d1b-bc96-773ca3204a5c",
    "cell_id": "00013-353d71fe-002e-405c-98b8-a45f4ca4c292",
    "deepnote_cell_type": "code",
    "deepnote_cell_height": 708
   },
   "source": "df.set_index('Load Time').groupby(pd.Grouper(freq='Y')).mean()",
   "execution_count": null,
   "outputs": [
    {
     "output_type": "execute_result",
     "data": {
      "text/plain": "             Load Weight        Load ID\nLoad Time                              \n2000-12-31   2940.000000  163262.000000\n2001-12-31   7830.000000  534165.500000\n2002-12-31           NaN            NaN\n2003-12-31           NaN            NaN\n2004-12-31  10181.449011  106949.560931\n2005-12-31   9744.876242  136314.313495\n2006-12-31   9522.289847  184115.513944\n2007-12-31   9930.658429  233758.767469\n2008-12-31   9917.235689  284481.993461\n2009-12-31  11956.786989  331373.578074\n2010-12-31  12462.954625  373319.872425\n2011-12-31  12246.860187  441116.230284\n2012-12-31  12662.529211  534178.189672\n2013-12-31  12534.920591  575606.548365\n2014-12-31  12854.426338  617359.819815\n2015-12-31  12988.968463  659444.595246\n2016-12-31  12932.726233  701746.040324\n2017-12-31  12660.544383  744629.734308\n2018-12-31  12439.832576  788230.357082\n2019-12-31  12235.125981  832757.659107\n2020-12-31  12352.780225  879554.780822\n2021-12-31  12187.795099  912705.159063\n2022-12-31           NaN            NaN\n2023-12-31           NaN            NaN\n2024-12-31           NaN            NaN\n2025-12-31           NaN            NaN\n2026-12-31           NaN            NaN\n2027-12-31           NaN            NaN\n2028-12-31           NaN            NaN\n2029-12-31           NaN            NaN\n2030-12-31    290.000000  890597.000000",
      "text/html": "\n  <div id=\"df-6d1bffd3-870a-4fe8-ab45-07f170215049\">\n    <div class=\"colab-df-container\">\n      <div>\n<style scoped>\n    .dataframe tbody tr th:only-of-type {\n        vertical-align: middle;\n    }\n\n    .dataframe tbody tr th {\n        vertical-align: top;\n    }\n\n    .dataframe thead th {\n        text-align: right;\n    }\n</style>\n<table border=\"1\" class=\"dataframe\">\n  <thead>\n    <tr style=\"text-align: right;\">\n      <th></th>\n      <th>Load Weight</th>\n      <th>Load ID</th>\n    </tr>\n    <tr>\n      <th>Load Time</th>\n      <th></th>\n      <th></th>\n    </tr>\n  </thead>\n  <tbody>\n    <tr>\n      <th>2000-12-31</th>\n      <td>2940.000000</td>\n      <td>163262.000000</td>\n    </tr>\n    <tr>\n      <th>2001-12-31</th>\n      <td>7830.000000</td>\n      <td>534165.500000</td>\n    </tr>\n    <tr>\n      <th>2002-12-31</th>\n      <td>NaN</td>\n      <td>NaN</td>\n    </tr>\n    <tr>\n      <th>2003-12-31</th>\n      <td>NaN</td>\n      <td>NaN</td>\n    </tr>\n    <tr>\n      <th>2004-12-31</th>\n      <td>10181.449011</td>\n      <td>106949.560931</td>\n    </tr>\n    <tr>\n      <th>2005-12-31</th>\n      <td>9744.876242</td>\n      <td>136314.313495</td>\n    </tr>\n    <tr>\n      <th>2006-12-31</th>\n      <td>9522.289847</td>\n      <td>184115.513944</td>\n    </tr>\n    <tr>\n      <th>2007-12-31</th>\n      <td>9930.658429</td>\n      <td>233758.767469</td>\n    </tr>\n    <tr>\n      <th>2008-12-31</th>\n      <td>9917.235689</td>\n      <td>284481.993461</td>\n    </tr>\n    <tr>\n      <th>2009-12-31</th>\n      <td>11956.786989</td>\n      <td>331373.578074</td>\n    </tr>\n    <tr>\n      <th>2010-12-31</th>\n      <td>12462.954625</td>\n      <td>373319.872425</td>\n    </tr>\n    <tr>\n      <th>2011-12-31</th>\n      <td>12246.860187</td>\n      <td>441116.230284</td>\n    </tr>\n    <tr>\n      <th>2012-12-31</th>\n      <td>12662.529211</td>\n      <td>534178.189672</td>\n    </tr>\n    <tr>\n      <th>2013-12-31</th>\n      <td>12534.920591</td>\n      <td>575606.548365</td>\n    </tr>\n    <tr>\n      <th>2014-12-31</th>\n      <td>12854.426338</td>\n      <td>617359.819815</td>\n    </tr>\n    <tr>\n      <th>2015-12-31</th>\n      <td>12988.968463</td>\n      <td>659444.595246</td>\n    </tr>\n    <tr>\n      <th>2016-12-31</th>\n      <td>12932.726233</td>\n      <td>701746.040324</td>\n    </tr>\n    <tr>\n      <th>2017-12-31</th>\n      <td>12660.544383</td>\n      <td>744629.734308</td>\n    </tr>\n    <tr>\n      <th>2018-12-31</th>\n      <td>12439.832576</td>\n      <td>788230.357082</td>\n    </tr>\n    <tr>\n      <th>2019-12-31</th>\n      <td>12235.125981</td>\n      <td>832757.659107</td>\n    </tr>\n    <tr>\n      <th>2020-12-31</th>\n      <td>12352.780225</td>\n      <td>879554.780822</td>\n    </tr>\n    <tr>\n      <th>2021-12-31</th>\n      <td>12187.795099</td>\n      <td>912705.159063</td>\n    </tr>\n    <tr>\n      <th>2022-12-31</th>\n      <td>NaN</td>\n      <td>NaN</td>\n    </tr>\n    <tr>\n      <th>2023-12-31</th>\n      <td>NaN</td>\n      <td>NaN</td>\n    </tr>\n    <tr>\n      <th>2024-12-31</th>\n      <td>NaN</td>\n      <td>NaN</td>\n    </tr>\n    <tr>\n      <th>2025-12-31</th>\n      <td>NaN</td>\n      <td>NaN</td>\n    </tr>\n    <tr>\n      <th>2026-12-31</th>\n      <td>NaN</td>\n      <td>NaN</td>\n    </tr>\n    <tr>\n      <th>2027-12-31</th>\n      <td>NaN</td>\n      <td>NaN</td>\n    </tr>\n    <tr>\n      <th>2028-12-31</th>\n      <td>NaN</td>\n      <td>NaN</td>\n    </tr>\n    <tr>\n      <th>2029-12-31</th>\n      <td>NaN</td>\n      <td>NaN</td>\n    </tr>\n    <tr>\n      <th>2030-12-31</th>\n      <td>290.000000</td>\n      <td>890597.000000</td>\n    </tr>\n  </tbody>\n</table>\n</div>\n      <button class=\"colab-df-convert\" onclick=\"convertToInteractive('df-6d1bffd3-870a-4fe8-ab45-07f170215049')\"\n              title=\"Convert this dataframe to an interactive table.\"\n              style=\"display:none;\">\n        \n  <svg xmlns=\"http://www.w3.org/2000/svg\" height=\"24px\"viewBox=\"0 0 24 24\"\n       width=\"24px\">\n    <path d=\"M0 0h24v24H0V0z\" fill=\"none\"/>\n    <path d=\"M18.56 5.44l.94 2.06.94-2.06 2.06-.94-2.06-.94-.94-2.06-.94 2.06-2.06.94zm-11 1L8.5 8.5l.94-2.06 2.06-.94-2.06-.94L8.5 2.5l-.94 2.06-2.06.94zm10 10l.94 2.06.94-2.06 2.06-.94-2.06-.94-.94-2.06-.94 2.06-2.06.94z\"/><path d=\"M17.41 7.96l-1.37-1.37c-.4-.4-.92-.59-1.43-.59-.52 0-1.04.2-1.43.59L10.3 9.45l-7.72 7.72c-.78.78-.78 2.05 0 2.83L4 21.41c.39.39.9.59 1.41.59.51 0 1.02-.2 1.41-.59l7.78-7.78 2.81-2.81c.8-.78.8-2.07 0-2.86zM5.41 20L4 18.59l7.72-7.72 1.47 1.35L5.41 20z\"/>\n  </svg>\n      </button>\n      \n  <style>\n    .colab-df-container {\n      display:flex;\n      flex-wrap:wrap;\n      gap: 12px;\n    }\n\n    .colab-df-convert {\n      background-color: #E8F0FE;\n      border: none;\n      border-radius: 50%;\n      cursor: pointer;\n      display: none;\n      fill: #1967D2;\n      height: 32px;\n      padding: 0 0 0 0;\n      width: 32px;\n    }\n\n    .colab-df-convert:hover {\n      background-color: #E2EBFA;\n      box-shadow: 0px 1px 2px rgba(60, 64, 67, 0.3), 0px 1px 3px 1px rgba(60, 64, 67, 0.15);\n      fill: #174EA6;\n    }\n\n    [theme=dark] .colab-df-convert {\n      background-color: #3B4455;\n      fill: #D2E3FC;\n    }\n\n    [theme=dark] .colab-df-convert:hover {\n      background-color: #434B5C;\n      box-shadow: 0px 1px 3px 1px rgba(0, 0, 0, 0.15);\n      filter: drop-shadow(0px 1px 2px rgba(0, 0, 0, 0.3));\n      fill: #FFFFFF;\n    }\n  </style>\n\n      <script>\n        const buttonEl =\n          document.querySelector('#df-6d1bffd3-870a-4fe8-ab45-07f170215049 button.colab-df-convert');\n        buttonEl.style.display =\n          google.colab.kernel.accessAllowed ? 'block' : 'none';\n\n        async function convertToInteractive(key) {\n          const element = document.querySelector('#df-6d1bffd3-870a-4fe8-ab45-07f170215049');\n          const dataTable =\n            await google.colab.kernel.invokeFunction('convertToInteractive',\n                                                     [key], {});\n          if (!dataTable) return;\n\n          const docLinkHtml = 'Like what you see? Visit the ' +\n            '<a target=\"_blank\" href=https://colab.research.google.com/notebooks/data_table.ipynb>data table notebook</a>'\n            + ' to learn more about interactive tables.';\n          element.innerHTML = '';\n          dataTable['output_type'] = 'display_data';\n          await google.colab.output.renderOutput(dataTable, element);\n          const docLink = document.createElement('div');\n          docLink.innerHTML = docLinkHtml;\n          element.appendChild(docLink);\n        }\n      </script>\n    </div>\n  </div>\n  "
     },
     "metadata": {},
     "execution_count": 52
    }
   ]
  },
  {
   "cell_type": "code",
   "metadata": {
    "colab": {
     "base_uri": "https://localhost:8080/",
     "height": 297
    },
    "id": "22JzgACk3V6J",
    "outputId": "a0444055-2417-463a-be2f-5a2f3589bf1a",
    "cell_id": "00014-f6d13778-f40d-46c4-a5be-7b95ed4ba691",
    "deepnote_cell_type": "code",
    "deepnote_cell_height": 413.1875,
    "deepnote_output_heights": [
     null,
     264
    ]
   },
   "source": "df.set_index('Load Time').groupby(pd.Grouper(freq='Y')).mean().plot()",
   "execution_count": null,
   "outputs": [
    {
     "output_type": "execute_result",
     "data": {
      "text/plain": "<matplotlib.axes._subplots.AxesSubplot at 0x7f2dfa9eb450>"
     },
     "metadata": {},
     "execution_count": 53
    },
    {
     "output_type": "display_data",
     "data": {
      "text/plain": "<Figure size 432x288 with 1 Axes>",
      "image/png": "[encoded data removed]"
     },
     "metadata": {
      "needs_background": "light",
      "image/png": {
       "width": 406,
       "height": 262
      }
     }
    }
   ]
  },
  {
   "cell_type": "code",
   "metadata": {
    "id": "hVhYUdWEqGXm",
    "cell_id": "00015-96bfdd4a-71b0-4104-8a4c-7a33599ca3d1",
    "deepnote_cell_type": "code",
    "deepnote_cell_height": 66
   },
   "source": "weekly_loadweight=df.groupby('Load Weight').resample('W-Mon', on='Load Time').mean().sort_values(by='Load Time')",
   "execution_count": null,
   "outputs": []
  },
  {
   "cell_type": "code",
   "metadata": {
    "colab": {
     "base_uri": "https://localhost:8080/",
     "height": 455
    },
    "id": "8zZHn-Kl6qfT",
    "outputId": "5a99de5f-9b5e-4d02-c255-7dd48de3fe12",
    "cell_id": "00016-997d7b20-4ba9-47af-8f35-4f5b7bea4acc",
    "deepnote_cell_type": "code",
    "deepnote_cell_height": 508.1875
   },
   "source": "weekly_loadweight",
   "execution_count": null,
   "outputs": [
    {
     "output_type": "execute_result",
     "data": {
      "text/plain": "                        Load Weight   Load ID\nLoad Weight Load Time                        \n2940.0      2000-01-31       2940.0  163262.0\n            2000-02-07          NaN       NaN\n            2000-02-14          NaN       NaN\n            2000-02-21          NaN       NaN\n            2000-02-28          NaN       NaN\n...                             ...       ...\n320.0       2030-10-28          NaN       NaN\n            2030-11-04          NaN       NaN\n            2030-11-11          NaN       NaN\n            2030-11-18          NaN       NaN\n            2030-11-25        320.0  897529.0\n\n[1860226 rows x 2 columns]",
      "text/html": "\n  <div id=\"df-b693bc10-d176-4b9c-b78b-0efd7b30cdea\">\n    <div class=\"colab-df-container\">\n      <div>\n<style scoped>\n    .dataframe tbody tr th:only-of-type {\n        vertical-align: middle;\n    }\n\n    .dataframe tbody tr th {\n        vertical-align: top;\n    }\n\n    .dataframe thead th {\n        text-align: right;\n    }\n</style>\n<table border=\"1\" class=\"dataframe\">\n  <thead>\n    <tr style=\"text-align: right;\">\n      <th></th>\n      <th></th>\n      <th>Load Weight</th>\n      <th>Load ID</th>\n    </tr>\n    <tr>\n      <th>Load Weight</th>\n      <th>Load Time</th>\n      <th></th>\n      <th></th>\n    </tr>\n  </thead>\n  <tbody>\n    <tr>\n      <th rowspan=\"5\" valign=\"top\">2940.0</th>\n      <th>2000-01-31</th>\n      <td>2940.0</td>\n      <td>163262.0</td>\n    </tr>\n    <tr>\n      <th>2000-02-07</th>\n      <td>NaN</td>\n      <td>NaN</td>\n    </tr>\n    <tr>\n      <th>2000-02-14</th>\n      <td>NaN</td>\n      <td>NaN</td>\n    </tr>\n    <tr>\n      <th>2000-02-21</th>\n      <td>NaN</td>\n      <td>NaN</td>\n    </tr>\n    <tr>\n      <th>2000-02-28</th>\n      <td>NaN</td>\n      <td>NaN</td>\n    </tr>\n    <tr>\n      <th>...</th>\n      <th>...</th>\n      <td>...</td>\n      <td>...</td>\n    </tr>\n    <tr>\n      <th rowspan=\"5\" valign=\"top\">320.0</th>\n      <th>2030-10-28</th>\n      <td>NaN</td>\n      <td>NaN</td>\n    </tr>\n    <tr>\n      <th>2030-11-04</th>\n      <td>NaN</td>\n      <td>NaN</td>\n    </tr>\n    <tr>\n      <th>2030-11-11</th>\n      <td>NaN</td>\n      <td>NaN</td>\n    </tr>\n    <tr>\n      <th>2030-11-18</th>\n      <td>NaN</td>\n      <td>NaN</td>\n    </tr>\n    <tr>\n      <th>2030-11-25</th>\n      <td>320.0</td>\n      <td>897529.0</td>\n    </tr>\n  </tbody>\n</table>\n<p>1860226 rows × 2 columns</p>\n</div>\n      <button class=\"colab-df-convert\" onclick=\"convertToInteractive('df-b693bc10-d176-4b9c-b78b-0efd7b30cdea')\"\n              title=\"Convert this dataframe to an interactive table.\"\n              style=\"display:none;\">\n        \n  <svg xmlns=\"http://www.w3.org/2000/svg\" height=\"24px\"viewBox=\"0 0 24 24\"\n       width=\"24px\">\n    <path d=\"M0 0h24v24H0V0z\" fill=\"none\"/>\n    <path d=\"M18.56 5.44l.94 2.06.94-2.06 2.06-.94-2.06-.94-.94-2.06-.94 2.06-2.06.94zm-11 1L8.5 8.5l.94-2.06 2.06-.94-2.06-.94L8.5 2.5l-.94 2.06-2.06.94zm10 10l.94 2.06.94-2.06 2.06-.94-2.06-.94-.94-2.06-.94 2.06-2.06.94z\"/><path d=\"M17.41 7.96l-1.37-1.37c-.4-.4-.92-.59-1.43-.59-.52 0-1.04.2-1.43.59L10.3 9.45l-7.72 7.72c-.78.78-.78 2.05 0 2.83L4 21.41c.39.39.9.59 1.41.59.51 0 1.02-.2 1.41-.59l7.78-7.78 2.81-2.81c.8-.78.8-2.07 0-2.86zM5.41 20L4 18.59l7.72-7.72 1.47 1.35L5.41 20z\"/>\n  </svg>\n      </button>\n      \n  <style>\n    .colab-df-container {\n      display:flex;\n      flex-wrap:wrap;\n      gap: 12px;\n    }\n\n    .colab-df-convert {\n      background-color: #E8F0FE;\n      border: none;\n      border-radius: 50%;\n      cursor: pointer;\n      display: none;\n      fill: #1967D2;\n      height: 32px;\n      padding: 0 0 0 0;\n      width: 32px;\n    }\n\n    .colab-df-convert:hover {\n      background-color: #E2EBFA;\n      box-shadow: 0px 1px 2px rgba(60, 64, 67, 0.3), 0px 1px 3px 1px rgba(60, 64, 67, 0.15);\n      fill: #174EA6;\n    }\n\n    [theme=dark] .colab-df-convert {\n      background-color: #3B4455;\n      fill: #D2E3FC;\n    }\n\n    [theme=dark] .colab-df-convert:hover {\n      background-color: #434B5C;\n      box-shadow: 0px 1px 3px 1px rgba(0, 0, 0, 0.15);\n      filter: drop-shadow(0px 1px 2px rgba(0, 0, 0, 0.3));\n      fill: #FFFFFF;\n    }\n  </style>\n\n      <script>\n        const buttonEl =\n          document.querySelector('#df-b693bc10-d176-4b9c-b78b-0efd7b30cdea button.colab-df-convert');\n        buttonEl.style.display =\n          google.colab.kernel.accessAllowed ? 'block' : 'none';\n\n        async function convertToInteractive(key) {\n          const element = document.querySelector('#df-b693bc10-d176-4b9c-b78b-0efd7b30cdea');\n          const dataTable =\n            await google.colab.kernel.invokeFunction('convertToInteractive',\n                                                     [key], {});\n          if (!dataTable) return;\n\n          const docLinkHtml = 'Like what you see? Visit the ' +\n            '<a target=\"_blank\" href=https://colab.research.google.com/notebooks/data_table.ipynb>data table notebook</a>'\n            + ' to learn more about interactive tables.';\n          element.innerHTML = '';\n          dataTable['output_type'] = 'display_data';\n          await google.colab.output.renderOutput(dataTable, element);\n          const docLink = document.createElement('div');\n          docLink.innerHTML = docLinkHtml;\n          element.appendChild(docLink);\n        }\n      </script>\n    </div>\n  </div>\n  "
     },
     "metadata": {},
     "execution_count": 55
    }
   ]
  },
  {
   "cell_type": "code",
   "metadata": {
    "colab": {
     "base_uri": "https://localhost:8080/",
     "height": 455
    },
    "id": "SI57tbFo7WXw",
    "outputId": "15e02235-2b26-429f-ea47-86147f2b04a8",
    "cell_id": "00017-523d6c94-fc49-43f6-8533-8d2b83689e57",
    "deepnote_cell_type": "code",
    "deepnote_cell_height": 508.1875
   },
   "source": "weekly_loadweight.dropna()",
   "execution_count": null,
   "outputs": [
    {
     "output_type": "execute_result",
     "data": {
      "text/plain": "                        Load Weight   Load ID\nLoad Weight Load Time                        \n2940.0      2000-01-31       2940.0  163262.0\n4740.0      2001-03-19       4740.0  522334.0\n4240.0      2001-03-19       4240.0  522335.0\n14080.0     2001-10-22      14080.0  545997.0\n8260.0      2001-10-22       8260.0  545996.0\n...                             ...       ...\n10080.0     2021-07-12      10080.0  928901.0\n1340.0      2021-12-13       1340.0  927983.0\n6940.0      2021-12-27       6940.0  906125.0\n260.0       2030-07-29        260.0  883665.0\n320.0       2030-11-25        320.0  897529.0\n\n[481841 rows x 2 columns]",
      "text/html": "\n  <div id=\"df-cc112b6d-ee94-44e8-b2c2-f32b366ab6e5\">\n    <div class=\"colab-df-container\">\n      <div>\n<style scoped>\n    .dataframe tbody tr th:only-of-type {\n        vertical-align: middle;\n    }\n\n    .dataframe tbody tr th {\n        vertical-align: top;\n    }\n\n    .dataframe thead th {\n        text-align: right;\n    }\n</style>\n<table border=\"1\" class=\"dataframe\">\n  <thead>\n    <tr style=\"text-align: right;\">\n      <th></th>\n      <th></th>\n      <th>Load Weight</th>\n      <th>Load ID</th>\n    </tr>\n    <tr>\n      <th>Load Weight</th>\n      <th>Load Time</th>\n      <th></th>\n      <th></th>\n    </tr>\n  </thead>\n  <tbody>\n    <tr>\n      <th>2940.0</th>\n      <th>2000-01-31</th>\n      <td>2940.0</td>\n      <td>163262.0</td>\n    </tr>\n    <tr>\n      <th>4740.0</th>\n      <th>2001-03-19</th>\n      <td>4740.0</td>\n      <td>522334.0</td>\n    </tr>\n    <tr>\n      <th>4240.0</th>\n      <th>2001-03-19</th>\n      <td>4240.0</td>\n      <td>522335.0</td>\n    </tr>\n    <tr>\n      <th>14080.0</th>\n      <th>2001-10-22</th>\n      <td>14080.0</td>\n      <td>545997.0</td>\n    </tr>\n    <tr>\n      <th>8260.0</th>\n      <th>2001-10-22</th>\n      <td>8260.0</td>\n      <td>545996.0</td>\n    </tr>\n    <tr>\n      <th>...</th>\n      <th>...</th>\n      <td>...</td>\n      <td>...</td>\n    </tr>\n    <tr>\n      <th>10080.0</th>\n      <th>2021-07-12</th>\n      <td>10080.0</td>\n      <td>928901.0</td>\n    </tr>\n    <tr>\n      <th>1340.0</th>\n      <th>2021-12-13</th>\n      <td>1340.0</td>\n      <td>927983.0</td>\n    </tr>\n    <tr>\n      <th>6940.0</th>\n      <th>2021-12-27</th>\n      <td>6940.0</td>\n      <td>906125.0</td>\n    </tr>\n    <tr>\n      <th>260.0</th>\n      <th>2030-07-29</th>\n      <td>260.0</td>\n      <td>883665.0</td>\n    </tr>\n    <tr>\n      <th>320.0</th>\n      <th>2030-11-25</th>\n      <td>320.0</td>\n      <td>897529.0</td>\n    </tr>\n  </tbody>\n</table>\n<p>481841 rows × 2 columns</p>\n</div>\n      <button class=\"colab-df-convert\" onclick=\"convertToInteractive('df-cc112b6d-ee94-44e8-b2c2-f32b366ab6e5')\"\n              title=\"Convert this dataframe to an interactive table.\"\n              style=\"display:none;\">\n        \n  <svg xmlns=\"http://www.w3.org/2000/svg\" height=\"24px\"viewBox=\"0 0 24 24\"\n       width=\"24px\">\n    <path d=\"M0 0h24v24H0V0z\" fill=\"none\"/>\n    <path d=\"M18.56 5.44l.94 2.06.94-2.06 2.06-.94-2.06-.94-.94-2.06-.94 2.06-2.06.94zm-11 1L8.5 8.5l.94-2.06 2.06-.94-2.06-.94L8.5 2.5l-.94 2.06-2.06.94zm10 10l.94 2.06.94-2.06 2.06-.94-2.06-.94-.94-2.06-.94 2.06-2.06.94z\"/><path d=\"M17.41 7.96l-1.37-1.37c-.4-.4-.92-.59-1.43-.59-.52 0-1.04.2-1.43.59L10.3 9.45l-7.72 7.72c-.78.78-.78 2.05 0 2.83L4 21.41c.39.39.9.59 1.41.59.51 0 1.02-.2 1.41-.59l7.78-7.78 2.81-2.81c.8-.78.8-2.07 0-2.86zM5.41 20L4 18.59l7.72-7.72 1.47 1.35L5.41 20z\"/>\n  </svg>\n      </button>\n      \n  <style>\n    .colab-df-container {\n      display:flex;\n      flex-wrap:wrap;\n      gap: 12px;\n    }\n\n    .colab-df-convert {\n      background-color: #E8F0FE;\n      border: none;\n      border-radius: 50%;\n      cursor: pointer;\n      display: none;\n      fill: #1967D2;\n      height: 32px;\n      padding: 0 0 0 0;\n      width: 32px;\n    }\n\n    .colab-df-convert:hover {\n      background-color: #E2EBFA;\n      box-shadow: 0px 1px 2px rgba(60, 64, 67, 0.3), 0px 1px 3px 1px rgba(60, 64, 67, 0.15);\n      fill: #174EA6;\n    }\n\n    [theme=dark] .colab-df-convert {\n      background-color: #3B4455;\n      fill: #D2E3FC;\n    }\n\n    [theme=dark] .colab-df-convert:hover {\n      background-color: #434B5C;\n      box-shadow: 0px 1px 3px 1px rgba(0, 0, 0, 0.15);\n      filter: drop-shadow(0px 1px 2px rgba(0, 0, 0, 0.3));\n      fill: #FFFFFF;\n    }\n  </style>\n\n      <script>\n        const buttonEl =\n          document.querySelector('#df-cc112b6d-ee94-44e8-b2c2-f32b366ab6e5 button.colab-df-convert');\n        buttonEl.style.display =\n          google.colab.kernel.accessAllowed ? 'block' : 'none';\n\n        async function convertToInteractive(key) {\n          const element = document.querySelector('#df-cc112b6d-ee94-44e8-b2c2-f32b366ab6e5');\n          const dataTable =\n            await google.colab.kernel.invokeFunction('convertToInteractive',\n                                                     [key], {});\n          if (!dataTable) return;\n\n          const docLinkHtml = 'Like what you see? Visit the ' +\n            '<a target=\"_blank\" href=https://colab.research.google.com/notebooks/data_table.ipynb>data table notebook</a>'\n            + ' to learn more about interactive tables.';\n          element.innerHTML = '';\n          dataTable['output_type'] = 'display_data';\n          await google.colab.output.renderOutput(dataTable, element);\n          const docLink = document.createElement('div');\n          docLink.innerHTML = docLinkHtml;\n          element.appendChild(docLink);\n        }\n      </script>\n    </div>\n  </div>\n  "
     },
     "metadata": {},
     "execution_count": 56
    }
   ]
  },
  {
   "cell_type": "code",
   "metadata": {
    "id": "stAII0WRyqha",
    "cell_id": "00018-681a4812-2948-4013-aa15-b986ca576fb5",
    "deepnote_cell_type": "code",
    "deepnote_cell_height": 66
   },
   "source": "sorted(df['Load Time'].dt.date.unique())",
   "execution_count": null,
   "outputs": []
  },
  {
   "cell_type": "code",
   "metadata": {
    "id": "1auNgDGb8dQM",
    "cell_id": "00019-dcfeeed9-bdfb-4de2-a056-7f3ac6d6461f",
    "deepnote_cell_type": "code",
    "deepnote_cell_height": 102
   },
   "source": "df['WeekDate'] = df.apply(lambda row: row['Load Time'] - dt.timedelta(days=row['Load Time'].weekday()), axis=1)\n\nperweek = df['WeekDate'].groupby(df['WeekDate']).count()",
   "execution_count": null,
   "outputs": []
  },
  {
   "cell_type": "code",
   "metadata": {
    "colab": {
     "base_uri": "https://localhost:8080/"
    },
    "id": "s4FfXRwAxII_",
    "outputId": "666a0ae6-98d7-430b-f8e4-de5ff956f855",
    "cell_id": "00020-d704490a-c818-4786-ab44-0ef20af518e2",
    "deepnote_cell_type": "code",
    "deepnote_cell_height": 708
   },
   "source": "sorted(df['WeekDate'].dt.date.unique())",
   "execution_count": null,
   "outputs": [
    {
     "output_type": "execute_result",
     "data": {
      "text/plain": "[datetime.date(2000, 1, 24),\n datetime.date(2001, 3, 12),\n datetime.date(2001, 10, 15),\n datetime.date(2004, 1, 5),\n datetime.date(2004, 2, 23),\n datetime.date(2004, 8, 23),\n datetime.date(2004, 8, 30),\n datetime.date(2004, 9, 27),\n datetime.date(2004, 10, 4),\n datetime.date(2004, 10, 11),\n datetime.date(2004, 10, 18),\n datetime.date(2004, 10, 25),\n datetime.date(2004, 11, 1),\n datetime.date(2004, 11, 8),\n datetime.date(2004, 11, 15),\n datetime.date(2004, 11, 22),\n datetime.date(2004, 11, 29),\n datetime.date(2004, 12, 6),\n datetime.date(2004, 12, 13),\n datetime.date(2004, 12, 20),\n datetime.date(2004, 12, 27),\n datetime.date(2005, 1, 3),\n datetime.date(2005, 1, 10),\n datetime.date(2005, 1, 17),\n datetime.date(2005, 1, 24),\n datetime.date(2005, 1, 31),\n datetime.date(2005, 2, 7),\n datetime.date(2005, 2, 14),\n datetime.date(2005, 2, 21),\n datetime.date(2005, 2, 28),\n datetime.date(2005, 3, 7),\n datetime.date(2005, 3, 14),\n datetime.date(2005, 3, 21),\n datetime.date(2005, 3, 28),\n datetime.date(2005, 4, 4),\n datetime.date(2005, 4, 11),\n datetime.date(2005, 4, 18),\n datetime.date(2005, 4, 25),\n datetime.date(2005, 5, 2),\n datetime.date(2005, 5, 9),\n datetime.date(2005, 5, 16),\n datetime.date(2005, 5, 23),\n datetime.date(2005, 5, 30),\n datetime.date(2005, 6, 6),\n datetime.date(2005, 6, 13),\n datetime.date(2005, 6, 20),\n datetime.date(2005, 6, 27),\n datetime.date(2005, 7, 4),\n datetime.date(2005, 7, 11),\n datetime.date(2005, 7, 18),\n datetime.date(2005, 7, 25),\n datetime.date(2005, 8, 1),\n datetime.date(2005, 8, 8),\n datetime.date(2005, 8, 15),\n datetime.date(2005, 8, 22),\n datetime.date(2005, 8, 29),\n datetime.date(2005, 9, 5),\n datetime.date(2005, 9, 12),\n datetime.date(2005, 9, 19),\n datetime.date(2005, 9, 26),\n datetime.date(2005, 10, 3),\n datetime.date(2005, 10, 10),\n datetime.date(2005, 10, 17),\n datetime.date(2005, 10, 24),\n datetime.date(2005, 10, 31),\n datetime.date(2005, 11, 7),\n datetime.date(2005, 11, 14),\n datetime.date(2005, 11, 21),\n datetime.date(2005, 11, 28),\n datetime.date(2005, 12, 5),\n datetime.date(2005, 12, 12),\n datetime.date(2005, 12, 19),\n datetime.date(2005, 12, 26),\n datetime.date(2006, 1, 2),\n datetime.date(2006, 1, 9),\n datetime.date(2006, 1, 16),\n datetime.date(2006, 1, 23),\n datetime.date(2006, 1, 30),\n datetime.date(2006, 2, 6),\n datetime.date(2006, 2, 13),\n datetime.date(2006, 2, 20),\n datetime.date(2006, 2, 27),\n datetime.date(2006, 3, 6),\n datetime.date(2006, 3, 13),\n datetime.date(2006, 3, 20),\n datetime.date(2006, 3, 27),\n datetime.date(2006, 4, 3),\n datetime.date(2006, 4, 10),\n datetime.date(2006, 4, 17),\n datetime.date(2006, 4, 24),\n datetime.date(2006, 5, 1),\n datetime.date(2006, 5, 8),\n datetime.date(2006, 5, 15),\n datetime.date(2006, 5, 22),\n datetime.date(2006, 5, 29),\n datetime.date(2006, 6, 5),\n datetime.date(2006, 6, 12),\n datetime.date(2006, 6, 19),\n datetime.date(2006, 6, 26),\n datetime.date(2006, 7, 3),\n datetime.date(2006, 7, 10),\n datetime.date(2006, 7, 17),\n datetime.date(2006, 7, 24),\n datetime.date(2006, 7, 31),\n datetime.date(2006, 8, 7),\n datetime.date(2006, 8, 14),\n datetime.date(2006, 8, 21),\n datetime.date(2006, 8, 28),\n datetime.date(2006, 9, 4),\n datetime.date(2006, 9, 11),\n datetime.date(2006, 9, 18),\n datetime.date(2006, 9, 25),\n datetime.date(2006, 10, 2),\n datetime.date(2006, 10, 9),\n datetime.date(2006, 10, 16),\n datetime.date(2006, 10, 23),\n datetime.date(2006, 10, 30),\n datetime.date(2006, 11, 6),\n datetime.date(2006, 11, 13),\n datetime.date(2006, 11, 20),\n datetime.date(2006, 11, 27),\n datetime.date(2006, 12, 4),\n datetime.date(2006, 12, 11),\n datetime.date(2006, 12, 18),\n datetime.date(2006, 12, 25),\n datetime.date(2007, 1, 1),\n datetime.date(2007, 1, 8),\n datetime.date(2007, 1, 15),\n datetime.date(2007, 1, 22),\n datetime.date(2007, 1, 29),\n datetime.date(2007, 2, 5),\n datetime.date(2007, 2, 12),\n datetime.date(2007, 2, 19),\n datetime.date(2007, 2, 26),\n datetime.date(2007, 3, 5),\n datetime.date(2007, 3, 12),\n datetime.date(2007, 3, 19),\n datetime.date(2007, 3, 26),\n datetime.date(2007, 4, 2),\n datetime.date(2007, 4, 9),\n datetime.date(2007, 4, 16),\n datetime.date(2007, 4, 23),\n datetime.date(2007, 4, 30),\n datetime.date(2007, 5, 7),\n datetime.date(2007, 5, 14),\n datetime.date(2007, 5, 21),\n datetime.date(2007, 5, 28),\n datetime.date(2007, 6, 4),\n datetime.date(2007, 6, 11),\n datetime.date(2007, 6, 18),\n datetime.date(2007, 6, 25),\n datetime.date(2007, 7, 2),\n datetime.date(2007, 7, 9),\n datetime.date(2007, 7, 16),\n datetime.date(2007, 7, 23),\n datetime.date(2007, 7, 30),\n datetime.date(2007, 8, 6),\n datetime.date(2007, 8, 13),\n datetime.date(2007, 8, 20),\n datetime.date(2007, 8, 27),\n datetime.date(2007, 9, 3),\n datetime.date(2007, 9, 10),\n datetime.date(2007, 9, 17),\n datetime.date(2007, 9, 24),\n datetime.date(2007, 10, 1),\n datetime.date(2007, 10, 8),\n datetime.date(2007, 10, 15),\n datetime.date(2007, 10, 22),\n datetime.date(2007, 10, 29),\n datetime.date(2007, 11, 5),\n datetime.date(2007, 11, 12),\n datetime.date(2007, 11, 19),\n datetime.date(2007, 11, 26),\n datetime.date(2007, 12, 3),\n datetime.date(2007, 12, 10),\n datetime.date(2007, 12, 17),\n datetime.date(2007, 12, 24),\n datetime.date(2007, 12, 31),\n datetime.date(2008, 1, 7),\n datetime.date(2008, 1, 14),\n datetime.date(2008, 1, 21),\n datetime.date(2008, 1, 28),\n datetime.date(2008, 2, 4),\n datetime.date(2008, 2, 11),\n datetime.date(2008, 2, 18),\n datetime.date(2008, 2, 25),\n datetime.date(2008, 3, 3),\n datetime.date(2008, 3, 10),\n datetime.date(2008, 3, 17),\n datetime.date(2008, 3, 24),\n datetime.date(2008, 3, 31),\n datetime.date(2008, 4, 7),\n datetime.date(2008, 4, 14),\n datetime.date(2008, 4, 21),\n datetime.date(2008, 4, 28),\n datetime.date(2008, 5, 5),\n datetime.date(2008, 5, 12),\n datetime.date(2008, 5, 19),\n datetime.date(2008, 5, 26),\n datetime.date(2008, 6, 2),\n datetime.date(2008, 6, 9),\n datetime.date(2008, 6, 16),\n datetime.date(2008, 6, 23),\n datetime.date(2008, 6, 30),\n datetime.date(2008, 7, 7),\n datetime.date(2008, 7, 14),\n datetime.date(2008, 7, 21),\n datetime.date(2008, 7, 28),\n datetime.date(2008, 8, 4),\n datetime.date(2008, 8, 11),\n datetime.date(2008, 8, 18),\n datetime.date(2008, 8, 25),\n datetime.date(2008, 9, 1),\n datetime.date(2008, 9, 8),\n datetime.date(2008, 9, 15),\n datetime.date(2008, 9, 22),\n datetime.date(2008, 9, 29),\n datetime.date(2008, 10, 6),\n datetime.date(2008, 10, 13),\n datetime.date(2008, 10, 20),\n datetime.date(2008, 10, 27),\n datetime.date(2008, 11, 3),\n datetime.date(2008, 11, 10),\n datetime.date(2008, 11, 17),\n datetime.date(2008, 11, 24),\n datetime.date(2008, 12, 1),\n datetime.date(2008, 12, 8),\n datetime.date(2008, 12, 15),\n datetime.date(2008, 12, 22),\n datetime.date(2008, 12, 29),\n datetime.date(2009, 1, 5),\n datetime.date(2009, 1, 12),\n datetime.date(2009, 1, 19),\n datetime.date(2009, 1, 26),\n datetime.date(2009, 2, 2),\n datetime.date(2009, 2, 9),\n datetime.date(2009, 2, 16),\n datetime.date(2009, 2, 23),\n datetime.date(2009, 3, 2),\n datetime.date(2009, 3, 9),\n datetime.date(2009, 3, 16),\n datetime.date(2009, 3, 23),\n datetime.date(2009, 3, 30),\n datetime.date(2009, 4, 6),\n datetime.date(2009, 4, 13),\n datetime.date(2009, 4, 20),\n datetime.date(2009, 4, 27),\n datetime.date(2009, 5, 4),\n datetime.date(2009, 5, 11),\n datetime.date(2009, 5, 18),\n datetime.date(2009, 5, 25),\n datetime.date(2009, 6, 1),\n datetime.date(2009, 6, 8),\n datetime.date(2009, 6, 15),\n datetime.date(2009, 6, 22),\n datetime.date(2009, 6, 29),\n datetime.date(2009, 7, 6),\n datetime.date(2009, 7, 13),\n datetime.date(2009, 7, 20),\n datetime.date(2009, 7, 27),\n datetime.date(2009, 8, 3),\n datetime.date(2009, 8, 10),\n datetime.date(2009, 8, 17),\n datetime.date(2009, 8, 24),\n datetime.date(2009, 8, 31),\n datetime.date(2009, 9, 7),\n datetime.date(2009, 9, 14),\n datetime.date(2009, 9, 21),\n datetime.date(2009, 9, 28),\n datetime.date(2009, 10, 5),\n datetime.date(2009, 10, 12),\n datetime.date(2009, 10, 19),\n datetime.date(2009, 10, 26),\n datetime.date(2009, 11, 2),\n datetime.date(2009, 11, 9),\n datetime.date(2009, 11, 16),\n datetime.date(2009, 11, 23),\n datetime.date(2009, 11, 30),\n datetime.date(2009, 12, 7),\n datetime.date(2009, 12, 14),\n datetime.date(2009, 12, 21),\n datetime.date(2009, 12, 28),\n datetime.date(2010, 1, 4),\n datetime.date(2010, 1, 11),\n datetime.date(2010, 1, 18),\n datetime.date(2010, 1, 25),\n datetime.date(2010, 2, 1),\n datetime.date(2010, 2, 8),\n datetime.date(2010, 2, 15),\n datetime.date(2010, 2, 22),\n datetime.date(2010, 3, 1),\n datetime.date(2010, 3, 8),\n datetime.date(2010, 3, 15),\n datetime.date(2010, 3, 22),\n datetime.date(2010, 3, 29),\n datetime.date(2010, 4, 5),\n datetime.date(2010, 4, 12),\n datetime.date(2010, 4, 19),\n datetime.date(2010, 4, 26),\n datetime.date(2010, 5, 3),\n datetime.date(2010, 5, 10),\n datetime.date(2010, 5, 17),\n datetime.date(2010, 5, 24),\n datetime.date(2010, 5, 31),\n datetime.date(2010, 6, 7),\n datetime.date(2010, 6, 14),\n datetime.date(2010, 6, 21),\n datetime.date(2010, 6, 28),\n datetime.date(2010, 7, 5),\n datetime.date(2010, 7, 12),\n datetime.date(2010, 7, 19),\n datetime.date(2010, 7, 26),\n datetime.date(2010, 8, 2),\n datetime.date(2010, 8, 9),\n datetime.date(2010, 8, 16),\n datetime.date(2010, 8, 23),\n datetime.date(2010, 8, 30),\n datetime.date(2010, 9, 6),\n datetime.date(2010, 9, 13),\n datetime.date(2010, 9, 20),\n datetime.date(2010, 9, 27),\n datetime.date(2010, 10, 4),\n datetime.date(2010, 10, 11),\n datetime.date(2010, 10, 18),\n datetime.date(2010, 10, 25),\n datetime.date(2010, 11, 1),\n datetime.date(2010, 11, 8),\n datetime.date(2010, 11, 15),\n datetime.date(2010, 11, 22),\n datetime.date(2010, 11, 29),\n datetime.date(2010, 12, 6),\n datetime.date(2010, 12, 13),\n datetime.date(2010, 12, 20),\n datetime.date(2010, 12, 27),\n datetime.date(2011, 1, 3),\n datetime.date(2011, 1, 10),\n datetime.date(2011, 1, 17),\n datetime.date(2011, 1, 24),\n datetime.date(2011, 1, 31),\n datetime.date(2011, 2, 7),\n datetime.date(2011, 2, 14),\n datetime.date(2011, 2, 21),\n datetime.date(2011, 2, 28),\n datetime.date(2011, 3, 7),\n datetime.date(2011, 3, 14),\n datetime.date(2011, 3, 21),\n datetime.date(2011, 3, 28),\n datetime.date(2011, 4, 4),\n datetime.date(2011, 4, 11),\n datetime.date(2011, 4, 18),\n datetime.date(2011, 4, 25),\n datetime.date(2011, 5, 2),\n datetime.date(2011, 5, 9),\n datetime.date(2011, 5, 16),\n datetime.date(2011, 5, 23),\n datetime.date(2011, 5, 30),\n datetime.date(2011, 6, 6),\n datetime.date(2011, 6, 13),\n datetime.date(2011, 6, 20),\n datetime.date(2011, 6, 27),\n datetime.date(2011, 7, 4),\n datetime.date(2011, 7, 11),\n datetime.date(2011, 7, 18),\n datetime.date(2011, 7, 25),\n datetime.date(2011, 8, 1),\n datetime.date(2011, 8, 8),\n datetime.date(2011, 8, 15),\n datetime.date(2011, 8, 22),\n datetime.date(2011, 8, 29),\n datetime.date(2011, 9, 5),\n datetime.date(2011, 9, 12),\n datetime.date(2011, 9, 19),\n datetime.date(2011, 9, 26),\n datetime.date(2011, 10, 3),\n datetime.date(2011, 10, 10),\n datetime.date(2011, 10, 17),\n datetime.date(2011, 10, 24),\n datetime.date(2011, 10, 31),\n datetime.date(2011, 11, 7),\n datetime.date(2011, 11, 14),\n datetime.date(2011, 11, 21),\n datetime.date(2011, 11, 28),\n datetime.date(2011, 12, 5),\n datetime.date(2011, 12, 12),\n datetime.date(2011, 12, 19),\n datetime.date(2011, 12, 26),\n datetime.date(2012, 1, 2),\n datetime.date(2012, 1, 9),\n datetime.date(2012, 1, 16),\n datetime.date(2012, 1, 23),\n datetime.date(2012, 1, 30),\n datetime.date(2012, 2, 6),\n datetime.date(2012, 2, 13),\n datetime.date(2012, 2, 20),\n datetime.date(2012, 2, 27),\n datetime.date(2012, 3, 5),\n datetime.date(2012, 3, 12),\n datetime.date(2012, 3, 19),\n datetime.date(2012, 3, 26),\n datetime.date(2012, 4, 2),\n datetime.date(2012, 4, 9),\n datetime.date(2012, 4, 16),\n datetime.date(2012, 4, 23),\n datetime.date(2012, 4, 30),\n datetime.date(2012, 5, 7),\n datetime.date(2012, 5, 14),\n datetime.date(2012, 5, 21),\n datetime.date(2012, 5, 28),\n datetime.date(2012, 6, 4),\n datetime.date(2012, 6, 11),\n datetime.date(2012, 6, 18),\n datetime.date(2012, 6, 25),\n datetime.date(2012, 7, 2),\n datetime.date(2012, 7, 9),\n datetime.date(2012, 7, 16),\n datetime.date(2012, 7, 23),\n datetime.date(2012, 7, 30),\n datetime.date(2012, 8, 6),\n datetime.date(2012, 8, 13),\n datetime.date(2012, 8, 20),\n datetime.date(2012, 8, 27),\n datetime.date(2012, 9, 3),\n datetime.date(2012, 9, 10),\n datetime.date(2012, 9, 17),\n datetime.date(2012, 9, 24),\n datetime.date(2012, 10, 1),\n datetime.date(2012, 10, 8),\n datetime.date(2012, 10, 15),\n datetime.date(2012, 10, 22),\n datetime.date(2012, 10, 29),\n datetime.date(2012, 11, 5),\n datetime.date(2012, 11, 12),\n datetime.date(2012, 11, 19),\n datetime.date(2012, 11, 26),\n datetime.date(2012, 12, 3),\n datetime.date(2012, 12, 10),\n datetime.date(2012, 12, 17),\n datetime.date(2012, 12, 24),\n datetime.date(2012, 12, 31),\n datetime.date(2013, 1, 7),\n datetime.date(2013, 1, 14),\n datetime.date(2013, 1, 21),\n datetime.date(2013, 1, 28),\n datetime.date(2013, 2, 4),\n datetime.date(2013, 2, 11),\n datetime.date(2013, 2, 18),\n datetime.date(2013, 2, 25),\n datetime.date(2013, 3, 4),\n datetime.date(2013, 3, 11),\n datetime.date(2013, 3, 18),\n datetime.date(2013, 3, 25),\n datetime.date(2013, 4, 1),\n datetime.date(2013, 4, 8),\n datetime.date(2013, 4, 15),\n datetime.date(2013, 4, 22),\n datetime.date(2013, 4, 29),\n datetime.date(2013, 5, 6),\n datetime.date(2013, 5, 13),\n datetime.date(2013, 5, 20),\n datetime.date(2013, 5, 27),\n datetime.date(2013, 6, 3),\n datetime.date(2013, 6, 10),\n datetime.date(2013, 6, 17),\n datetime.date(2013, 6, 24),\n datetime.date(2013, 7, 1),\n datetime.date(2013, 7, 8),\n datetime.date(2013, 7, 15),\n datetime.date(2013, 7, 22),\n datetime.date(2013, 7, 29),\n datetime.date(2013, 8, 5),\n datetime.date(2013, 8, 12),\n datetime.date(2013, 8, 19),\n datetime.date(2013, 8, 26),\n datetime.date(2013, 9, 2),\n datetime.date(2013, 9, 9),\n datetime.date(2013, 9, 16),\n datetime.date(2013, 9, 23),\n datetime.date(2013, 9, 30),\n datetime.date(2013, 10, 7),\n datetime.date(2013, 10, 14),\n datetime.date(2013, 10, 21),\n datetime.date(2013, 10, 28),\n datetime.date(2013, 11, 4),\n datetime.date(2013, 11, 11),\n datetime.date(2013, 11, 18),\n datetime.date(2013, 11, 25),\n datetime.date(2013, 12, 2),\n datetime.date(2013, 12, 9),\n datetime.date(2013, 12, 16),\n datetime.date(2013, 12, 23),\n datetime.date(2013, 12, 30),\n datetime.date(2014, 1, 6),\n datetime.date(2014, 1, 13),\n datetime.date(2014, 1, 20),\n datetime.date(2014, 1, 27),\n datetime.date(2014, 2, 3),\n datetime.date(2014, 2, 10),\n datetime.date(2014, 2, 17),\n datetime.date(2014, 2, 24),\n datetime.date(2014, 3, 3),\n datetime.date(2014, 3, 10),\n datetime.date(2014, 3, 17),\n datetime.date(2014, 3, 24),\n datetime.date(2014, 3, 31),\n datetime.date(2014, 4, 7),\n datetime.date(2014, 4, 14),\n datetime.date(2014, 4, 21),\n datetime.date(2014, 4, 28),\n datetime.date(2014, 5, 5),\n datetime.date(2014, 5, 12),\n datetime.date(2014, 5, 19),\n datetime.date(2014, 5, 26),\n datetime.date(2014, 6, 2),\n datetime.date(2014, 6, 9),\n datetime.date(2014, 6, 16),\n datetime.date(2014, 6, 23),\n datetime.date(2014, 6, 30),\n datetime.date(2014, 7, 7),\n datetime.date(2014, 7, 14),\n datetime.date(2014, 7, 21),\n datetime.date(2014, 7, 28),\n datetime.date(2014, 8, 4),\n datetime.date(2014, 8, 11),\n datetime.date(2014, 8, 18),\n datetime.date(2014, 8, 25),\n datetime.date(2014, 9, 1),\n datetime.date(2014, 9, 8),\n datetime.date(2014, 9, 15),\n datetime.date(2014, 9, 22),\n datetime.date(2014, 9, 29),\n datetime.date(2014, 10, 6),\n datetime.date(2014, 10, 13),\n datetime.date(2014, 10, 20),\n datetime.date(2014, 10, 27),\n datetime.date(2014, 11, 3),\n datetime.date(2014, 11, 10),\n datetime.date(2014, 11, 17),\n datetime.date(2014, 11, 24),\n datetime.date(2014, 12, 1),\n datetime.date(2014, 12, 8),\n datetime.date(2014, 12, 15),\n datetime.date(2014, 12, 22),\n datetime.date(2014, 12, 29),\n datetime.date(2015, 1, 5),\n datetime.date(2015, 1, 12),\n datetime.date(2015, 1, 19),\n datetime.date(2015, 1, 26),\n datetime.date(2015, 2, 2),\n datetime.date(2015, 2, 9),\n datetime.date(2015, 2, 16),\n datetime.date(2015, 2, 23),\n datetime.date(2015, 3, 2),\n datetime.date(2015, 3, 9),\n datetime.date(2015, 3, 16),\n datetime.date(2015, 3, 23),\n datetime.date(2015, 3, 30),\n datetime.date(2015, 4, 6),\n datetime.date(2015, 4, 13),\n datetime.date(2015, 4, 20),\n datetime.date(2015, 4, 27),\n datetime.date(2015, 5, 4),\n datetime.date(2015, 5, 11),\n datetime.date(2015, 5, 18),\n datetime.date(2015, 5, 25),\n datetime.date(2015, 6, 1),\n datetime.date(2015, 6, 8),\n datetime.date(2015, 6, 15),\n datetime.date(2015, 6, 22),\n datetime.date(2015, 6, 29),\n datetime.date(2015, 7, 6),\n datetime.date(2015, 7, 13),\n datetime.date(2015, 7, 20),\n datetime.date(2015, 7, 27),\n datetime.date(2015, 8, 3),\n datetime.date(2015, 8, 10),\n datetime.date(2015, 8, 17),\n datetime.date(2015, 8, 24),\n datetime.date(2015, 8, 31),\n datetime.date(2015, 9, 7),\n datetime.date(2015, 9, 14),\n datetime.date(2015, 9, 21),\n datetime.date(2015, 9, 28),\n datetime.date(2015, 10, 5),\n datetime.date(2015, 10, 12),\n datetime.date(2015, 10, 19),\n datetime.date(2015, 10, 26),\n datetime.date(2015, 11, 2),\n datetime.date(2015, 11, 9),\n datetime.date(2015, 11, 16),\n datetime.date(2015, 11, 23),\n datetime.date(2015, 11, 30),\n datetime.date(2015, 12, 7),\n datetime.date(2015, 12, 14),\n datetime.date(2015, 12, 21),\n datetime.date(2015, 12, 28),\n datetime.date(2016, 1, 4),\n datetime.date(2016, 1, 11),\n datetime.date(2016, 1, 18),\n datetime.date(2016, 1, 25),\n datetime.date(2016, 2, 1),\n datetime.date(2016, 2, 8),\n datetime.date(2016, 2, 15),\n datetime.date(2016, 2, 22),\n datetime.date(2016, 2, 29),\n datetime.date(2016, 3, 7),\n datetime.date(2016, 3, 14),\n datetime.date(2016, 3, 21),\n datetime.date(2016, 3, 28),\n datetime.date(2016, 4, 4),\n datetime.date(2016, 4, 11),\n datetime.date(2016, 4, 18),\n datetime.date(2016, 4, 25),\n datetime.date(2016, 5, 2),\n datetime.date(2016, 5, 9),\n datetime.date(2016, 5, 16),\n datetime.date(2016, 5, 23),\n datetime.date(2016, 5, 30),\n datetime.date(2016, 6, 6),\n datetime.date(2016, 6, 13),\n datetime.date(2016, 6, 20),\n datetime.date(2016, 6, 27),\n datetime.date(2016, 7, 4),\n datetime.date(2016, 7, 11),\n datetime.date(2016, 7, 18),\n datetime.date(2016, 7, 25),\n datetime.date(2016, 8, 1),\n datetime.date(2016, 8, 8),\n datetime.date(2016, 8, 15),\n datetime.date(2016, 8, 22),\n datetime.date(2016, 8, 29),\n datetime.date(2016, 9, 5),\n datetime.date(2016, 9, 12),\n datetime.date(2016, 9, 19),\n datetime.date(2016, 9, 26),\n datetime.date(2016, 10, 3),\n datetime.date(2016, 10, 10),\n datetime.date(2016, 10, 17),\n datetime.date(2016, 10, 24),\n datetime.date(2016, 10, 31),\n datetime.date(2016, 11, 7),\n datetime.date(2016, 11, 14),\n datetime.date(2016, 11, 21),\n datetime.date(2016, 11, 28),\n datetime.date(2016, 12, 5),\n datetime.date(2016, 12, 12),\n datetime.date(2016, 12, 19),\n datetime.date(2016, 12, 26),\n datetime.date(2017, 1, 2),\n datetime.date(2017, 1, 9),\n datetime.date(2017, 1, 16),\n datetime.date(2017, 1, 23),\n datetime.date(2017, 1, 30),\n datetime.date(2017, 2, 6),\n datetime.date(2017, 2, 13),\n datetime.date(2017, 2, 20),\n datetime.date(2017, 2, 27),\n datetime.date(2017, 3, 6),\n datetime.date(2017, 3, 13),\n datetime.date(2017, 3, 20),\n datetime.date(2017, 3, 27),\n datetime.date(2017, 4, 3),\n datetime.date(2017, 4, 10),\n datetime.date(2017, 4, 17),\n datetime.date(2017, 4, 24),\n datetime.date(2017, 5, 1),\n datetime.date(2017, 5, 8),\n datetime.date(2017, 5, 15),\n datetime.date(2017, 5, 22),\n datetime.date(2017, 5, 29),\n datetime.date(2017, 6, 5),\n datetime.date(2017, 6, 12),\n datetime.date(2017, 6, 19),\n datetime.date(2017, 6, 26),\n datetime.date(2017, 7, 3),\n datetime.date(2017, 7, 10),\n datetime.date(2017, 7, 17),\n datetime.date(2017, 7, 24),\n datetime.date(2017, 7, 31),\n datetime.date(2017, 8, 7),\n datetime.date(2017, 8, 14),\n datetime.date(2017, 8, 21),\n datetime.date(2017, 8, 28),\n datetime.date(2017, 9, 4),\n datetime.date(2017, 9, 11),\n datetime.date(2017, 9, 18),\n datetime.date(2017, 9, 25),\n datetime.date(2017, 10, 2),\n datetime.date(2017, 10, 9),\n datetime.date(2017, 10, 16),\n datetime.date(2017, 10, 23),\n datetime.date(2017, 10, 30),\n datetime.date(2017, 11, 6),\n datetime.date(2017, 11, 13),\n datetime.date(2017, 11, 20),\n datetime.date(2017, 11, 27),\n datetime.date(2017, 12, 4),\n datetime.date(2017, 12, 11),\n datetime.date(2017, 12, 18),\n datetime.date(2017, 12, 25),\n datetime.date(2018, 1, 1),\n datetime.date(2018, 1, 8),\n datetime.date(2018, 1, 15),\n datetime.date(2018, 1, 22),\n datetime.date(2018, 1, 29),\n datetime.date(2018, 2, 5),\n datetime.date(2018, 2, 12),\n datetime.date(2018, 2, 19),\n datetime.date(2018, 2, 26),\n datetime.date(2018, 3, 5),\n datetime.date(2018, 3, 12),\n datetime.date(2018, 3, 19),\n datetime.date(2018, 3, 26),\n datetime.date(2018, 4, 2),\n datetime.date(2018, 4, 9),\n datetime.date(2018, 4, 16),\n datetime.date(2018, 4, 23),\n datetime.date(2018, 4, 30),\n datetime.date(2018, 5, 7),\n datetime.date(2018, 5, 14),\n datetime.date(2018, 5, 21),\n datetime.date(2018, 5, 28),\n datetime.date(2018, 6, 4),\n datetime.date(2018, 6, 11),\n datetime.date(2018, 6, 18),\n datetime.date(2018, 6, 25),\n datetime.date(2018, 7, 2),\n datetime.date(2018, 7, 9),\n datetime.date(2018, 7, 16),\n datetime.date(2018, 7, 23),\n datetime.date(2018, 7, 30),\n datetime.date(2018, 8, 6),\n datetime.date(2018, 8, 13),\n datetime.date(2018, 8, 20),\n datetime.date(2018, 8, 27),\n datetime.date(2018, 9, 3),\n datetime.date(2018, 9, 10),\n datetime.date(2018, 9, 17),\n datetime.date(2018, 9, 24),\n datetime.date(2018, 10, 1),\n datetime.date(2018, 10, 8),\n datetime.date(2018, 10, 15),\n datetime.date(2018, 10, 22),\n datetime.date(2018, 10, 29),\n datetime.date(2018, 11, 5),\n datetime.date(2018, 11, 12),\n datetime.date(2018, 11, 19),\n datetime.date(2018, 11, 26),\n datetime.date(2018, 12, 3),\n datetime.date(2018, 12, 10),\n datetime.date(2018, 12, 17),\n datetime.date(2018, 12, 24),\n datetime.date(2018, 12, 31),\n datetime.date(2019, 1, 7),\n datetime.date(2019, 1, 14),\n datetime.date(2019, 1, 21),\n datetime.date(2019, 1, 28),\n datetime.date(2019, 2, 4),\n datetime.date(2019, 2, 11),\n datetime.date(2019, 2, 18),\n datetime.date(2019, 2, 25),\n datetime.date(2019, 3, 4),\n datetime.date(2019, 3, 11),\n datetime.date(2019, 3, 18),\n datetime.date(2019, 3, 25),\n datetime.date(2019, 4, 1),\n datetime.date(2019, 4, 8),\n datetime.date(2019, 4, 15),\n datetime.date(2019, 4, 22),\n datetime.date(2019, 4, 29),\n datetime.date(2019, 5, 6),\n datetime.date(2019, 5, 13),\n datetime.date(2019, 5, 20),\n datetime.date(2019, 5, 27),\n datetime.date(2019, 6, 3),\n datetime.date(2019, 6, 10),\n datetime.date(2019, 6, 17),\n datetime.date(2019, 6, 24),\n datetime.date(2019, 7, 1),\n datetime.date(2019, 7, 8),\n datetime.date(2019, 7, 15),\n datetime.date(2019, 7, 22),\n datetime.date(2019, 7, 29),\n datetime.date(2019, 8, 5),\n datetime.date(2019, 8, 12),\n datetime.date(2019, 8, 19),\n datetime.date(2019, 8, 26),\n datetime.date(2019, 9, 2),\n datetime.date(2019, 9, 9),\n datetime.date(2019, 9, 16),\n datetime.date(2019, 9, 23),\n datetime.date(2019, 9, 30),\n datetime.date(2019, 10, 7),\n datetime.date(2019, 10, 14),\n datetime.date(2019, 10, 21),\n datetime.date(2019, 10, 28),\n datetime.date(2019, 11, 4),\n datetime.date(2019, 11, 11),\n datetime.date(2019, 11, 18),\n datetime.date(2019, 11, 25),\n datetime.date(2019, 12, 2),\n datetime.date(2019, 12, 9),\n datetime.date(2019, 12, 16),\n datetime.date(2019, 12, 23),\n datetime.date(2019, 12, 30),\n datetime.date(2020, 1, 6),\n datetime.date(2020, 1, 13),\n datetime.date(2020, 1, 20),\n datetime.date(2020, 1, 27),\n datetime.date(2020, 2, 3),\n datetime.date(2020, 2, 10),\n datetime.date(2020, 2, 17),\n datetime.date(2020, 2, 24),\n datetime.date(2020, 3, 2),\n datetime.date(2020, 3, 9),\n datetime.date(2020, 3, 16),\n datetime.date(2020, 3, 23),\n datetime.date(2020, 3, 30),\n datetime.date(2020, 4, 6),\n datetime.date(2020, 4, 13),\n datetime.date(2020, 4, 20),\n datetime.date(2020, 4, 27),\n datetime.date(2020, 5, 4),\n datetime.date(2020, 5, 11),\n datetime.date(2020, 5, 18),\n datetime.date(2020, 5, 25),\n datetime.date(2020, 6, 1),\n datetime.date(2020, 6, 8),\n datetime.date(2020, 6, 15),\n datetime.date(2020, 6, 22),\n datetime.date(2020, 6, 29),\n datetime.date(2020, 7, 6),\n datetime.date(2020, 7, 13),\n datetime.date(2020, 7, 20),\n datetime.date(2020, 7, 27),\n datetime.date(2020, 8, 3),\n datetime.date(2020, 8, 10),\n datetime.date(2020, 8, 17),\n datetime.date(2020, 8, 24),\n datetime.date(2020, 8, 31),\n datetime.date(2020, 9, 7),\n datetime.date(2020, 9, 14),\n datetime.date(2020, 9, 21),\n datetime.date(2020, 9, 28),\n datetime.date(2020, 10, 5),\n datetime.date(2020, 10, 12),\n datetime.date(2020, 10, 19),\n datetime.date(2020, 10, 26),\n datetime.date(2020, 11, 2),\n datetime.date(2020, 11, 9),\n datetime.date(2020, 11, 16),\n datetime.date(2020, 11, 23),\n datetime.date(2020, 11, 30),\n datetime.date(2020, 12, 7),\n datetime.date(2020, 12, 14),\n datetime.date(2020, 12, 21),\n datetime.date(2020, 12, 28),\n datetime.date(2021, 1, 4),\n datetime.date(2021, 1, 11),\n datetime.date(2021, 1, 18),\n datetime.date(2021, 1, 25),\n datetime.date(2021, 2, 1),\n datetime.date(2021, 2, 8),\n datetime.date(2021, 2, 15),\n datetime.date(2021, 2, 22),\n datetime.date(2021, 3, 1),\n datetime.date(2021, 3, 8),\n datetime.date(2021, 3, 15),\n datetime.date(2021, 3, 22),\n datetime.date(2021, 3, 29),\n datetime.date(2021, 4, 5),\n datetime.date(2021, 4, 12),\n datetime.date(2021, 4, 19),\n datetime.date(2021, 4, 26),\n datetime.date(2021, 5, 3),\n datetime.date(2021, 5, 10),\n datetime.date(2021, 5, 17),\n datetime.date(2021, 5, 24),\n datetime.date(2021, 5, 31),\n datetime.date(2021, 6, 7),\n datetime.date(2021, 6, 14),\n datetime.date(2021, 6, 21),\n datetime.date(2021, 6, 28),\n datetime.date(2021, 7, 5),\n datetime.date(2021, 12, 6),\n datetime.date(2021, 12, 20),\n datetime.date(2030, 7, 29),\n datetime.date(2030, 11, 18)]"
     },
     "metadata": {},
     "execution_count": 63
    }
   ]
  },
  {
   "cell_type": "code",
   "metadata": {
    "colab": {
     "base_uri": "https://localhost:8080/"
    },
    "id": "8ia6LbP2fvuW",
    "outputId": "f36531f8-5c77-4c4f-f4d4-413e87f87706",
    "cell_id": "00021-c3af5f99-dba4-4b91-bf36-2c13ca0045db",
    "deepnote_cell_type": "code",
    "deepnote_cell_height": 329.25
   },
   "source": "perweek.value_counts()",
   "execution_count": null,
   "outputs": [
    {
     "output_type": "execute_result",
     "data": {
      "text/plain": "1      162150\n2       82817\n3       41862\n4       18942\n5        8318\n        ...  \n139         1\n138         1\n71          1\n226         1\n58          1\nName: WeekDate, Length: 118, dtype: int64"
     },
     "metadata": {},
     "execution_count": 64
    }
   ]
  },
  {
   "cell_type": "markdown",
   "source": "**Drop**",
   "metadata": {
    "id": "LzNGhrLOK8h-",
    "cell_id": "00022-dbcdcd3d-817c-4338-8182-2671b800b6ff",
    "deepnote_cell_type": "markdown",
    "deepnote_cell_height": 52.390625
   }
  },
  {
   "cell_type": "code",
   "metadata": {
    "colab": {
     "base_uri": "https://localhost:8080/"
    },
    "id": "-3XtUcYw9h1m",
    "outputId": "fcfaa370-cab3-4e71-d0d3-58cabcb8bb13",
    "cell_id": "00023-2f33a9a1-4ca6-4943-a45b-d102499c39cf",
    "deepnote_cell_type": "code",
    "deepnote_cell_height": 137.375
   },
   "source": "df['WeekDate'].dt.year.unique()",
   "execution_count": null,
   "outputs": [
    {
     "output_type": "execute_result",
     "data": {
      "text/plain": "array([2020, 2010, 2012, 2017, 2008, 2009, 2018, 2004, 2019, 2014, 2011,\n       2006, 2016, 2015, 2013, 2005, 2007, 2001, 2000, 2030, 2021])"
     },
     "metadata": {},
     "execution_count": 65
    }
   ]
  },
  {
   "cell_type": "code",
   "metadata": {
    "id": "06h7p7qcCR2n",
    "cell_id": "00024-e648029c-726f-4184-9874-393778e6b89f",
    "deepnote_cell_type": "code",
    "deepnote_cell_height": 84
   },
   "source": "df_2 = df.copy()\ndf = df.drop(columns = ['Report Date', 'Load Time', 'Load ID'])",
   "execution_count": null,
   "outputs": []
  },
  {
   "cell_type": "code",
   "metadata": {
    "id": "OZXjP4EOD-X_",
    "colab": {
     "base_uri": "https://localhost:8080/",
     "height": 423
    },
    "outputId": "58179098-a9f7-4c7b-91b4-6df82288a245",
    "cell_id": "00025-44130801-2615-40ea-8899-cc63c0bfed68",
    "deepnote_cell_type": "code",
    "deepnote_cell_height": 515.1875
   },
   "source": "df_complete = df.copy()\ndf_2019_21 = df[(df[\"WeekDate\"].dt.year >=2019) &  (df[\"WeekDate\"].dt.year <= 2021)]\ndf_2019_21",
   "execution_count": null,
   "outputs": [
    {
     "output_type": "execute_result",
     "data": {
      "text/plain": "                        Load Type  Load Weight        Dropoff Site  \\\n0                            BULK       5220.0        TDS LANDFILL   \n1       RECYCLING - SINGLE STREAM      11140.0           TDS - MRF   \n2       RECYCLING - SINGLE STREAM      10060.0  BALCONES RECYCLING   \n3                        SWEEPING       7100.0        TDS LANDFILL   \n4       RECYCLING - SINGLE STREAM      12000.0           TDS - MRF   \n...                           ...          ...                 ...   \n740867       RECYCLING - COMINGLE       2580.0                 MRF   \n740868          RECYCLING - PAPER       1080.0                 MRF   \n740869                       BULK       9360.0        TDS LANDFILL   \n740871       RECYCLING - COMINGLE       3960.0                 MRF   \n740872       RECYCLING - COMINGLE       5280.0                 MRF   \n\n                       Route Type Route Number            WeekDate  \n0                            BULK         BU13 2020-12-07 15:02:00  \n1       RECYCLING - SINGLE STREAM       RTAU53 2020-12-07 10:00:00  \n2       RECYCLING - SINGLE STREAM       RHBU10 2020-11-30 10:34:00  \n3               SWEEPER DUMPSITES        DSS04 2020-12-07 10:15:00  \n4       RECYCLING - SINGLE STREAM       RMAU53 2020-12-07 16:00:00  \n...                           ...          ...                 ...  \n740867                  RECYCLING         RM01 2021-07-05 07:00:38  \n740868                  RECYCLING         RW05 2021-07-05 07:00:39  \n740869                      STORM    HAFLDBU15 2021-07-05 07:05:29  \n740871                  RECYCLING         RW04 2021-07-05 07:00:39  \n740872                  RECYCLING         RT24 2021-07-05 07:00:39  \n\n[109065 rows x 6 columns]",
      "text/html": "\n  <div id=\"df-fd1b8d71-18d1-49a3-96e9-0768f9d78ef5\">\n    <div class=\"colab-df-container\">\n      <div>\n<style scoped>\n    .dataframe tbody tr th:only-of-type {\n        vertical-align: middle;\n    }\n\n    .dataframe tbody tr th {\n        vertical-align: top;\n    }\n\n    .dataframe thead th {\n        text-align: right;\n    }\n</style>\n<table border=\"1\" class=\"dataframe\">\n  <thead>\n    <tr style=\"text-align: right;\">\n      <th></th>\n      <th>Load Type</th>\n      <th>Load Weight</th>\n      <th>Dropoff Site</th>\n      <th>Route Type</th>\n      <th>Route Number</th>\n      <th>WeekDate</th>\n    </tr>\n  </thead>\n  <tbody>\n    <tr>\n      <th>0</th>\n      <td>BULK</td>\n      <td>5220.0</td>\n      <td>TDS LANDFILL</td>\n      <td>BULK</td>\n      <td>BU13</td>\n      <td>2020-12-07 15:02:00</td>\n    </tr>\n    <tr>\n      <th>1</th>\n      <td>RECYCLING - SINGLE STREAM</td>\n      <td>11140.0</td>\n      <td>TDS - MRF</td>\n      <td>RECYCLING - SINGLE STREAM</td>\n      <td>RTAU53</td>\n      <td>2020-12-07 10:00:00</td>\n    </tr>\n    <tr>\n      <th>2</th>\n      <td>RECYCLING - SINGLE STREAM</td>\n      <td>10060.0</td>\n      <td>BALCONES RECYCLING</td>\n      <td>RECYCLING - SINGLE STREAM</td>\n      <td>RHBU10</td>\n      <td>2020-11-30 10:34:00</td>\n    </tr>\n    <tr>\n      <th>3</th>\n      <td>SWEEPING</td>\n      <td>7100.0</td>\n      <td>TDS LANDFILL</td>\n      <td>SWEEPER DUMPSITES</td>\n      <td>DSS04</td>\n      <td>2020-12-07 10:15:00</td>\n    </tr>\n    <tr>\n      <th>4</th>\n      <td>RECYCLING - SINGLE STREAM</td>\n      <td>12000.0</td>\n      <td>TDS - MRF</td>\n      <td>RECYCLING - SINGLE STREAM</td>\n      <td>RMAU53</td>\n      <td>2020-12-07 16:00:00</td>\n    </tr>\n    <tr>\n      <th>...</th>\n      <td>...</td>\n      <td>...</td>\n      <td>...</td>\n      <td>...</td>\n      <td>...</td>\n      <td>...</td>\n    </tr>\n    <tr>\n      <th>740867</th>\n      <td>RECYCLING - COMINGLE</td>\n      <td>2580.0</td>\n      <td>MRF</td>\n      <td>RECYCLING</td>\n      <td>RM01</td>\n      <td>2021-07-05 07:00:38</td>\n    </tr>\n    <tr>\n      <th>740868</th>\n      <td>RECYCLING - PAPER</td>\n      <td>1080.0</td>\n      <td>MRF</td>\n      <td>RECYCLING</td>\n      <td>RW05</td>\n      <td>2021-07-05 07:00:39</td>\n    </tr>\n    <tr>\n      <th>740869</th>\n      <td>BULK</td>\n      <td>9360.0</td>\n      <td>TDS LANDFILL</td>\n      <td>STORM</td>\n      <td>HAFLDBU15</td>\n      <td>2021-07-05 07:05:29</td>\n    </tr>\n    <tr>\n      <th>740871</th>\n      <td>RECYCLING - COMINGLE</td>\n      <td>3960.0</td>\n      <td>MRF</td>\n      <td>RECYCLING</td>\n      <td>RW04</td>\n      <td>2021-07-05 07:00:39</td>\n    </tr>\n    <tr>\n      <th>740872</th>\n      <td>RECYCLING - COMINGLE</td>\n      <td>5280.0</td>\n      <td>MRF</td>\n      <td>RECYCLING</td>\n      <td>RT24</td>\n      <td>2021-07-05 07:00:39</td>\n    </tr>\n  </tbody>\n</table>\n<p>109065 rows × 6 columns</p>\n</div>\n      <button class=\"colab-df-convert\" onclick=\"convertToInteractive('df-fd1b8d71-18d1-49a3-96e9-0768f9d78ef5')\"\n              title=\"Convert this dataframe to an interactive table.\"\n              style=\"display:none;\">\n        \n  <svg xmlns=\"http://www.w3.org/2000/svg\" height=\"24px\"viewBox=\"0 0 24 24\"\n       width=\"24px\">\n    <path d=\"M0 0h24v24H0V0z\" fill=\"none\"/>\n    <path d=\"M18.56 5.44l.94 2.06.94-2.06 2.06-.94-2.06-.94-.94-2.06-.94 2.06-2.06.94zm-11 1L8.5 8.5l.94-2.06 2.06-.94-2.06-.94L8.5 2.5l-.94 2.06-2.06.94zm10 10l.94 2.06.94-2.06 2.06-.94-2.06-.94-.94-2.06-.94 2.06-2.06.94z\"/><path d=\"M17.41 7.96l-1.37-1.37c-.4-.4-.92-.59-1.43-.59-.52 0-1.04.2-1.43.59L10.3 9.45l-7.72 7.72c-.78.78-.78 2.05 0 2.83L4 21.41c.39.39.9.59 1.41.59.51 0 1.02-.2 1.41-.59l7.78-7.78 2.81-2.81c.8-.78.8-2.07 0-2.86zM5.41 20L4 18.59l7.72-7.72 1.47 1.35L5.41 20z\"/>\n  </svg>\n      </button>\n      \n  <style>\n    .colab-df-container {\n      display:flex;\n      flex-wrap:wrap;\n      gap: 12px;\n    }\n\n    .colab-df-convert {\n      background-color: #E8F0FE;\n      border: none;\n      border-radius: 50%;\n      cursor: pointer;\n      display: none;\n      fill: #1967D2;\n      height: 32px;\n      padding: 0 0 0 0;\n      width: 32px;\n    }\n\n    .colab-df-convert:hover {\n      background-color: #E2EBFA;\n      box-shadow: 0px 1px 2px rgba(60, 64, 67, 0.3), 0px 1px 3px 1px rgba(60, 64, 67, 0.15);\n      fill: #174EA6;\n    }\n\n    [theme=dark] .colab-df-convert {\n      background-color: #3B4455;\n      fill: #D2E3FC;\n    }\n\n    [theme=dark] .colab-df-convert:hover {\n      background-color: #434B5C;\n      box-shadow: 0px 1px 3px 1px rgba(0, 0, 0, 0.15);\n      filter: drop-shadow(0px 1px 2px rgba(0, 0, 0, 0.3));\n      fill: #FFFFFF;\n    }\n  </style>\n\n      <script>\n        const buttonEl =\n          document.querySelector('#df-fd1b8d71-18d1-49a3-96e9-0768f9d78ef5 button.colab-df-convert');\n        buttonEl.style.display =\n          google.colab.kernel.accessAllowed ? 'block' : 'none';\n\n        async function convertToInteractive(key) {\n          const element = document.querySelector('#df-fd1b8d71-18d1-49a3-96e9-0768f9d78ef5');\n          const dataTable =\n            await google.colab.kernel.invokeFunction('convertToInteractive',\n                                                     [key], {});\n          if (!dataTable) return;\n\n          const docLinkHtml = 'Like what you see? Visit the ' +\n            '<a target=\"_blank\" href=https://colab.research.google.com/notebooks/data_table.ipynb>data table notebook</a>'\n            + ' to learn more about interactive tables.';\n          element.innerHTML = '';\n          dataTable['output_type'] = 'display_data';\n          await google.colab.output.renderOutput(dataTable, element);\n          const docLink = document.createElement('div');\n          docLink.innerHTML = docLinkHtml;\n          element.appendChild(docLink);\n        }\n      </script>\n    </div>\n  </div>\n  "
     },
     "metadata": {},
     "execution_count": 67
    }
   ]
  },
  {
   "cell_type": "code",
   "metadata": {
    "colab": {
     "base_uri": "https://localhost:8080/",
     "height": 423
    },
    "id": "6yN9Xw0EKxaA",
    "outputId": "760001ab-1f14-4695-87e4-8171dcf960f1",
    "cell_id": "00026-451751ad-47ca-48a0-9a6c-ce9ba9a7b2b4",
    "deepnote_cell_type": "code",
    "deepnote_cell_height": 479.1875
   },
   "source": "df_2019_21.sort_values(by='WeekDate')",
   "execution_count": null,
   "outputs": [
    {
     "output_type": "execute_result",
     "data": {
      "text/plain": "                        Load Type  Load Weight      Dropoff Site  \\\n81312   RECYCLING - SINGLE STREAM        100.0         TDS - MRF   \n145620                       BULK       7640.0      TDS LANDFILL   \n561978              YARD TRIMMING      14320.0      HORNSBY BEND   \n105244               MIXED LITTER       4460.0      TDS LANDFILL   \n8928                       LITTER       5180.0       ONION CREEK   \n...                           ...          ...               ...   \n740374        GARBAGE COLLECTIONS       9140.0      TDS LANDFILL   \n740463        GARBAGE COLLECTIONS      23960.0      TDS LANDFILL   \n740445        GARBAGE COLLECTIONS      20480.0      TDS LANDFILL   \n739696                   ORGANICS       1340.0  ORGANICS BY GOSH   \n717844  RECYCLING - SINGLE STREAM       6940.0      TDS LANDFILL   \n\n                       Route Type Route Number            WeekDate  \n81312                         KAB        KAB04 2019-01-07 00:00:00  \n145620                       BULK         BU19 2019-01-07 00:00:00  \n561978             YARD TRIMMINGS         YW04 2019-01-07 00:00:00  \n105244                        KAB        KAB03 2019-01-07 00:00:00  \n8928                          KAB        KAB07 2019-01-07 00:00:00  \n...                           ...          ...                 ...  \n740374         GARBAGE COLLECTION        PAW56 2021-07-05 18:40:00  \n740463         GARBAGE COLLECTION        PAW54 2021-07-05 18:41:00  \n740445         GARBAGE COLLECTION        PAW50 2021-07-05 18:56:00  \n739696    YARD TRIMMINGS-ORGANICS        OBT99 2021-12-06 00:00:00  \n717844  RECYCLING - SINGLE STREAM       RMAU21 2021-12-20 12:41:00  \n\n[109065 rows x 6 columns]",
      "text/html": "\n  <div id=\"df-7e011451-8341-4ac2-b05b-598420c4b465\">\n    <div class=\"colab-df-container\">\n      <div>\n<style scoped>\n    .dataframe tbody tr th:only-of-type {\n        vertical-align: middle;\n    }\n\n    .dataframe tbody tr th {\n        vertical-align: top;\n    }\n\n    .dataframe thead th {\n        text-align: right;\n    }\n</style>\n<table border=\"1\" class=\"dataframe\">\n  <thead>\n    <tr style=\"text-align: right;\">\n      <th></th>\n      <th>Load Type</th>\n      <th>Load Weight</th>\n      <th>Dropoff Site</th>\n      <th>Route Type</th>\n      <th>Route Number</th>\n      <th>WeekDate</th>\n    </tr>\n  </thead>\n  <tbody>\n    <tr>\n      <th>81312</th>\n      <td>RECYCLING - SINGLE STREAM</td>\n      <td>100.0</td>\n      <td>TDS - MRF</td>\n      <td>KAB</td>\n      <td>KAB04</td>\n      <td>2019-01-07 00:00:00</td>\n    </tr>\n    <tr>\n      <th>145620</th>\n      <td>BULK</td>\n      <td>7640.0</td>\n      <td>TDS LANDFILL</td>\n      <td>BULK</td>\n      <td>BU19</td>\n      <td>2019-01-07 00:00:00</td>\n    </tr>\n    <tr>\n      <th>561978</th>\n      <td>YARD TRIMMING</td>\n      <td>14320.0</td>\n      <td>HORNSBY BEND</td>\n      <td>YARD TRIMMINGS</td>\n      <td>YW04</td>\n      <td>2019-01-07 00:00:00</td>\n    </tr>\n    <tr>\n      <th>105244</th>\n      <td>MIXED LITTER</td>\n      <td>4460.0</td>\n      <td>TDS LANDFILL</td>\n      <td>KAB</td>\n      <td>KAB03</td>\n      <td>2019-01-07 00:00:00</td>\n    </tr>\n    <tr>\n      <th>8928</th>\n      <td>LITTER</td>\n      <td>5180.0</td>\n      <td>ONION CREEK</td>\n      <td>KAB</td>\n      <td>KAB07</td>\n      <td>2019-01-07 00:00:00</td>\n    </tr>\n    <tr>\n      <th>...</th>\n      <td>...</td>\n      <td>...</td>\n      <td>...</td>\n      <td>...</td>\n      <td>...</td>\n      <td>...</td>\n    </tr>\n    <tr>\n      <th>740374</th>\n      <td>GARBAGE COLLECTIONS</td>\n      <td>9140.0</td>\n      <td>TDS LANDFILL</td>\n      <td>GARBAGE COLLECTION</td>\n      <td>PAW56</td>\n      <td>2021-07-05 18:40:00</td>\n    </tr>\n    <tr>\n      <th>740463</th>\n      <td>GARBAGE COLLECTIONS</td>\n      <td>23960.0</td>\n      <td>TDS LANDFILL</td>\n      <td>GARBAGE COLLECTION</td>\n      <td>PAW54</td>\n      <td>2021-07-05 18:41:00</td>\n    </tr>\n    <tr>\n      <th>740445</th>\n      <td>GARBAGE COLLECTIONS</td>\n      <td>20480.0</td>\n      <td>TDS LANDFILL</td>\n      <td>GARBAGE COLLECTION</td>\n      <td>PAW50</td>\n      <td>2021-07-05 18:56:00</td>\n    </tr>\n    <tr>\n      <th>739696</th>\n      <td>ORGANICS</td>\n      <td>1340.0</td>\n      <td>ORGANICS BY GOSH</td>\n      <td>YARD TRIMMINGS-ORGANICS</td>\n      <td>OBT99</td>\n      <td>2021-12-06 00:00:00</td>\n    </tr>\n    <tr>\n      <th>717844</th>\n      <td>RECYCLING - SINGLE STREAM</td>\n      <td>6940.0</td>\n      <td>TDS LANDFILL</td>\n      <td>RECYCLING - SINGLE STREAM</td>\n      <td>RMAU21</td>\n      <td>2021-12-20 12:41:00</td>\n    </tr>\n  </tbody>\n</table>\n<p>109065 rows × 6 columns</p>\n</div>\n      <button class=\"colab-df-convert\" onclick=\"convertToInteractive('df-7e011451-8341-4ac2-b05b-598420c4b465')\"\n              title=\"Convert this dataframe to an interactive table.\"\n              style=\"display:none;\">\n        \n  <svg xmlns=\"http://www.w3.org/2000/svg\" height=\"24px\"viewBox=\"0 0 24 24\"\n       width=\"24px\">\n    <path d=\"M0 0h24v24H0V0z\" fill=\"none\"/>\n    <path d=\"M18.56 5.44l.94 2.06.94-2.06 2.06-.94-2.06-.94-.94-2.06-.94 2.06-2.06.94zm-11 1L8.5 8.5l.94-2.06 2.06-.94-2.06-.94L8.5 2.5l-.94 2.06-2.06.94zm10 10l.94 2.06.94-2.06 2.06-.94-2.06-.94-.94-2.06-.94 2.06-2.06.94z\"/><path d=\"M17.41 7.96l-1.37-1.37c-.4-.4-.92-.59-1.43-.59-.52 0-1.04.2-1.43.59L10.3 9.45l-7.72 7.72c-.78.78-.78 2.05 0 2.83L4 21.41c.39.39.9.59 1.41.59.51 0 1.02-.2 1.41-.59l7.78-7.78 2.81-2.81c.8-.78.8-2.07 0-2.86zM5.41 20L4 18.59l7.72-7.72 1.47 1.35L5.41 20z\"/>\n  </svg>\n      </button>\n      \n  <style>\n    .colab-df-container {\n      display:flex;\n      flex-wrap:wrap;\n      gap: 12px;\n    }\n\n    .colab-df-convert {\n      background-color: #E8F0FE;\n      border: none;\n      border-radius: 50%;\n      cursor: pointer;\n      display: none;\n      fill: #1967D2;\n      height: 32px;\n      padding: 0 0 0 0;\n      width: 32px;\n    }\n\n    .colab-df-convert:hover {\n      background-color: #E2EBFA;\n      box-shadow: 0px 1px 2px rgba(60, 64, 67, 0.3), 0px 1px 3px 1px rgba(60, 64, 67, 0.15);\n      fill: #174EA6;\n    }\n\n    [theme=dark] .colab-df-convert {\n      background-color: #3B4455;\n      fill: #D2E3FC;\n    }\n\n    [theme=dark] .colab-df-convert:hover {\n      background-color: #434B5C;\n      box-shadow: 0px 1px 3px 1px rgba(0, 0, 0, 0.15);\n      filter: drop-shadow(0px 1px 2px rgba(0, 0, 0, 0.3));\n      fill: #FFFFFF;\n    }\n  </style>\n\n      <script>\n        const buttonEl =\n          document.querySelector('#df-7e011451-8341-4ac2-b05b-598420c4b465 button.colab-df-convert');\n        buttonEl.style.display =\n          google.colab.kernel.accessAllowed ? 'block' : 'none';\n\n        async function convertToInteractive(key) {\n          const element = document.querySelector('#df-7e011451-8341-4ac2-b05b-598420c4b465');\n          const dataTable =\n            await google.colab.kernel.invokeFunction('convertToInteractive',\n                                                     [key], {});\n          if (!dataTable) return;\n\n          const docLinkHtml = 'Like what you see? Visit the ' +\n            '<a target=\"_blank\" href=https://colab.research.google.com/notebooks/data_table.ipynb>data table notebook</a>'\n            + ' to learn more about interactive tables.';\n          element.innerHTML = '';\n          dataTable['output_type'] = 'display_data';\n          await google.colab.output.renderOutput(dataTable, element);\n          const docLink = document.createElement('div');\n          docLink.innerHTML = docLinkHtml;\n          element.appendChild(docLink);\n        }\n      </script>\n    </div>\n  </div>\n  "
     },
     "metadata": {},
     "execution_count": 68
    }
   ]
  },
  {
   "cell_type": "markdown",
   "source": "## Grouping by week \n- For Load Weight we can use sum()\n- for rest we can make a list",
   "metadata": {
    "id": "tX0KOzYkgEaF",
    "cell_id": "00027-fcb95d05-ec26-45b2-8d0e-5800cd8362c8",
    "deepnote_cell_type": "markdown",
    "deepnote_cell_height": 147.796875
   }
  },
  {
   "cell_type": "code",
   "metadata": {
    "id": "mFFwCUxPgX9V",
    "cell_id": "00028-f52fa8d5-fc74-45ee-a777-110aaa9d7be6",
    "deepnote_cell_type": "code",
    "deepnote_cell_height": 84
   },
   "source": "df_by_week = df.groupby('WeekDate').agg(list)\ndf_by_week['Load Weight'] = df_by_week['Load Weight'].apply(lambda x: np.nansum(x))",
   "execution_count": null,
   "outputs": []
  },
  {
   "cell_type": "markdown",
   "source": "## Next Steps\n- focus on particular types of route types/load types\n- using only 2021 data\n- but if we are focusing only on 2021 data, we might have only 52 weeks",
   "metadata": {
    "id": "LrwA8g4mgnqe",
    "cell_id": "00029-ae02545c-ccd6-4a9e-85ab-cb06278a3a21",
    "deepnote_cell_type": "markdown",
    "deepnote_cell_height": 173.1875
   }
  },
  {
   "cell_type": "markdown",
   "source": "#2021 Data -- Post - COVID",
   "metadata": {
    "id": "YTabaiuWnEAe",
    "cell_id": "00030-d4f54b5a-8bb5-49ac-87a7-75331892e842",
    "deepnote_cell_type": "markdown",
    "deepnote_cell_height": 52.390625
   }
  },
  {
   "cell_type": "code",
   "metadata": {
    "id": "HvZu8QSHgzNn",
    "colab": {
     "base_uri": "https://localhost:8080/",
     "height": 423
    },
    "outputId": "682aa334-93a9-4774-9c2e-0dec1d297649",
    "cell_id": "00031-04bb3260-9d52-415a-a951-a53fc2288349",
    "deepnote_cell_type": "code",
    "deepnote_cell_height": 497.1875
   },
   "source": "df2021 = df[pd.DatetimeIndex(df[\"WeekDate\"]).year == 2021] \ndf2021",
   "execution_count": null,
   "outputs": [
    {
     "output_type": "execute_result",
     "data": {
      "text/plain": "                   Load Type  Load Weight  Dropoff Site          Route Type  \\\n713884   GARBAGE COLLECTIONS       3640.0  TDS LANDFILL  GARBAGE COLLECTION   \n713887                 BRUSH       3700.0  HORNSBY BEND               BRUSH   \n713889         YARD TRIMMING      11060.0  HORNSBY BEND      YARD TRIMMINGS   \n713892         YARD TRIMMING      15980.0  HORNSBY BEND      YARD TRIMMINGS   \n713906         YARD TRIMMING      18080.0  HORNSBY BEND      YARD TRIMMINGS   \n...                      ...          ...           ...                 ...   \n740867  RECYCLING - COMINGLE       2580.0           MRF           RECYCLING   \n740868     RECYCLING - PAPER       1080.0           MRF           RECYCLING   \n740869                  BULK       9360.0  TDS LANDFILL               STORM   \n740871  RECYCLING - COMINGLE       3960.0           MRF           RECYCLING   \n740872  RECYCLING - COMINGLE       5280.0           MRF           RECYCLING   \n\n       Route Number            WeekDate  \n713884        PAM70 2021-01-04 19:15:00  \n713887         BR21 2021-01-04 15:13:00  \n713889         YM04 2021-01-04 13:12:00  \n713892         YM03 2021-01-04 16:55:00  \n713906         YM02 2021-01-04 17:39:00  \n...             ...                 ...  \n740867         RM01 2021-07-05 07:00:38  \n740868         RW05 2021-07-05 07:00:39  \n740869    HAFLDBU15 2021-07-05 07:05:29  \n740871         RW04 2021-07-05 07:00:39  \n740872         RT24 2021-07-05 07:00:39  \n\n[25108 rows x 6 columns]",
      "text/html": "\n  <div id=\"df-4f561fd0-094a-4c0c-85e2-8c9b5a01cd44\">\n    <div class=\"colab-df-container\">\n      <div>\n<style scoped>\n    .dataframe tbody tr th:only-of-type {\n        vertical-align: middle;\n    }\n\n    .dataframe tbody tr th {\n        vertical-align: top;\n    }\n\n    .dataframe thead th {\n        text-align: right;\n    }\n</style>\n<table border=\"1\" class=\"dataframe\">\n  <thead>\n    <tr style=\"text-align: right;\">\n      <th></th>\n      <th>Load Type</th>\n      <th>Load Weight</th>\n      <th>Dropoff Site</th>\n      <th>Route Type</th>\n      <th>Route Number</th>\n      <th>WeekDate</th>\n    </tr>\n  </thead>\n  <tbody>\n    <tr>\n      <th>713884</th>\n      <td>GARBAGE COLLECTIONS</td>\n      <td>3640.0</td>\n      <td>TDS LANDFILL</td>\n      <td>GARBAGE COLLECTION</td>\n      <td>PAM70</td>\n      <td>2021-01-04 19:15:00</td>\n    </tr>\n    <tr>\n      <th>713887</th>\n      <td>BRUSH</td>\n      <td>3700.0</td>\n      <td>HORNSBY BEND</td>\n      <td>BRUSH</td>\n      <td>BR21</td>\n      <td>2021-01-04 15:13:00</td>\n    </tr>\n    <tr>\n      <th>713889</th>\n      <td>YARD TRIMMING</td>\n      <td>11060.0</td>\n      <td>HORNSBY BEND</td>\n      <td>YARD TRIMMINGS</td>\n      <td>YM04</td>\n      <td>2021-01-04 13:12:00</td>\n    </tr>\n    <tr>\n      <th>713892</th>\n      <td>YARD TRIMMING</td>\n      <td>15980.0</td>\n      <td>HORNSBY BEND</td>\n      <td>YARD TRIMMINGS</td>\n      <td>YM03</td>\n      <td>2021-01-04 16:55:00</td>\n    </tr>\n    <tr>\n      <th>713906</th>\n      <td>YARD TRIMMING</td>\n      <td>18080.0</td>\n      <td>HORNSBY BEND</td>\n      <td>YARD TRIMMINGS</td>\n      <td>YM02</td>\n      <td>2021-01-04 17:39:00</td>\n    </tr>\n    <tr>\n      <th>...</th>\n      <td>...</td>\n      <td>...</td>\n      <td>...</td>\n      <td>...</td>\n      <td>...</td>\n      <td>...</td>\n    </tr>\n    <tr>\n      <th>740867</th>\n      <td>RECYCLING - COMINGLE</td>\n      <td>2580.0</td>\n      <td>MRF</td>\n      <td>RECYCLING</td>\n      <td>RM01</td>\n      <td>2021-07-05 07:00:38</td>\n    </tr>\n    <tr>\n      <th>740868</th>\n      <td>RECYCLING - PAPER</td>\n      <td>1080.0</td>\n      <td>MRF</td>\n      <td>RECYCLING</td>\n      <td>RW05</td>\n      <td>2021-07-05 07:00:39</td>\n    </tr>\n    <tr>\n      <th>740869</th>\n      <td>BULK</td>\n      <td>9360.0</td>\n      <td>TDS LANDFILL</td>\n      <td>STORM</td>\n      <td>HAFLDBU15</td>\n      <td>2021-07-05 07:05:29</td>\n    </tr>\n    <tr>\n      <th>740871</th>\n      <td>RECYCLING - COMINGLE</td>\n      <td>3960.0</td>\n      <td>MRF</td>\n      <td>RECYCLING</td>\n      <td>RW04</td>\n      <td>2021-07-05 07:00:39</td>\n    </tr>\n    <tr>\n      <th>740872</th>\n      <td>RECYCLING - COMINGLE</td>\n      <td>5280.0</td>\n      <td>MRF</td>\n      <td>RECYCLING</td>\n      <td>RT24</td>\n      <td>2021-07-05 07:00:39</td>\n    </tr>\n  </tbody>\n</table>\n<p>25108 rows × 6 columns</p>\n</div>\n      <button class=\"colab-df-convert\" onclick=\"convertToInteractive('df-4f561fd0-094a-4c0c-85e2-8c9b5a01cd44')\"\n              title=\"Convert this dataframe to an interactive table.\"\n              style=\"display:none;\">\n        \n  <svg xmlns=\"http://www.w3.org/2000/svg\" height=\"24px\"viewBox=\"0 0 24 24\"\n       width=\"24px\">\n    <path d=\"M0 0h24v24H0V0z\" fill=\"none\"/>\n    <path d=\"M18.56 5.44l.94 2.06.94-2.06 2.06-.94-2.06-.94-.94-2.06-.94 2.06-2.06.94zm-11 1L8.5 8.5l.94-2.06 2.06-.94-2.06-.94L8.5 2.5l-.94 2.06-2.06.94zm10 10l.94 2.06.94-2.06 2.06-.94-2.06-.94-.94-2.06-.94 2.06-2.06.94z\"/><path d=\"M17.41 7.96l-1.37-1.37c-.4-.4-.92-.59-1.43-.59-.52 0-1.04.2-1.43.59L10.3 9.45l-7.72 7.72c-.78.78-.78 2.05 0 2.83L4 21.41c.39.39.9.59 1.41.59.51 0 1.02-.2 1.41-.59l7.78-7.78 2.81-2.81c.8-.78.8-2.07 0-2.86zM5.41 20L4 18.59l7.72-7.72 1.47 1.35L5.41 20z\"/>\n  </svg>\n      </button>\n      \n  <style>\n    .colab-df-container {\n      display:flex;\n      flex-wrap:wrap;\n      gap: 12px;\n    }\n\n    .colab-df-convert {\n      background-color: #E8F0FE;\n      border: none;\n      border-radius: 50%;\n      cursor: pointer;\n      display: none;\n      fill: #1967D2;\n      height: 32px;\n      padding: 0 0 0 0;\n      width: 32px;\n    }\n\n    .colab-df-convert:hover {\n      background-color: #E2EBFA;\n      box-shadow: 0px 1px 2px rgba(60, 64, 67, 0.3), 0px 1px 3px 1px rgba(60, 64, 67, 0.15);\n      fill: #174EA6;\n    }\n\n    [theme=dark] .colab-df-convert {\n      background-color: #3B4455;\n      fill: #D2E3FC;\n    }\n\n    [theme=dark] .colab-df-convert:hover {\n      background-color: #434B5C;\n      box-shadow: 0px 1px 3px 1px rgba(0, 0, 0, 0.15);\n      filter: drop-shadow(0px 1px 2px rgba(0, 0, 0, 0.3));\n      fill: #FFFFFF;\n    }\n  </style>\n\n      <script>\n        const buttonEl =\n          document.querySelector('#df-4f561fd0-094a-4c0c-85e2-8c9b5a01cd44 button.colab-df-convert');\n        buttonEl.style.display =\n          google.colab.kernel.accessAllowed ? 'block' : 'none';\n\n        async function convertToInteractive(key) {\n          const element = document.querySelector('#df-4f561fd0-094a-4c0c-85e2-8c9b5a01cd44');\n          const dataTable =\n            await google.colab.kernel.invokeFunction('convertToInteractive',\n                                                     [key], {});\n          if (!dataTable) return;\n\n          const docLinkHtml = 'Like what you see? Visit the ' +\n            '<a target=\"_blank\" href=https://colab.research.google.com/notebooks/data_table.ipynb>data table notebook</a>'\n            + ' to learn more about interactive tables.';\n          element.innerHTML = '';\n          dataTable['output_type'] = 'display_data';\n          await google.colab.output.renderOutput(dataTable, element);\n          const docLink = document.createElement('div');\n          docLink.innerHTML = docLinkHtml;\n          element.appendChild(docLink);\n        }\n      </script>\n    </div>\n  </div>\n  "
     },
     "metadata": {},
     "execution_count": 70
    }
   ]
  },
  {
   "cell_type": "code",
   "metadata": {
    "colab": {
     "base_uri": "https://localhost:8080/"
    },
    "id": "_LIOkP9kD4Jw",
    "outputId": "28c16015-693c-41ea-d46b-8d7bf01367b7",
    "cell_id": "00032-678eef44-885d-4b4f-9124-f5aafd9bb1ad",
    "deepnote_cell_type": "code",
    "deepnote_cell_height": 233.3125
   },
   "source": "df2021.isnull().sum()/df2021.shape[0]",
   "execution_count": null,
   "outputs": [
    {
     "output_type": "execute_result",
     "data": {
      "text/plain": "Load Type       0.0\nLoad Weight     0.0\nDropoff Site    0.0\nRoute Type      0.0\nRoute Number    0.0\nWeekDate        0.0\ndtype: float64"
     },
     "metadata": {},
     "execution_count": 71
    }
   ]
  },
  {
   "cell_type": "code",
   "metadata": {
    "colab": {
     "base_uri": "https://localhost:8080/"
    },
    "id": "4hQHKbxQHWGb",
    "outputId": "29a4d19b-e029-4a07-a059-4700945deec1",
    "cell_id": "00033-8c5c6b2e-bae3-4236-a5bf-35baef59c653",
    "deepnote_cell_type": "code",
    "deepnote_cell_height": 350
   },
   "source": "df2021['Dates'] = pd.to_datetime(df2021[\"WeekDate\"]).dt.date\ndf2021['Time'] = pd.to_datetime(df2021['WeekDate']).dt.time",
   "execution_count": null,
   "outputs": [
    {
     "output_type": "stream",
     "name": "stderr",
     "text": "/usr/local/lib/python3.7/dist-packages/ipykernel_launcher.py:1: SettingWithCopyWarning: \nA value is trying to be set on a copy of a slice from a DataFrame.\nTry using .loc[row_indexer,col_indexer] = value instead\n\nSee the caveats in the documentation: https://pandas.pydata.org/pandas-docs/stable/user_guide/indexing.html#returning-a-view-versus-a-copy\n  \"\"\"Entry point for launching an IPython kernel.\n/usr/local/lib/python3.7/dist-packages/ipykernel_launcher.py:2: SettingWithCopyWarning: \nA value is trying to be set on a copy of a slice from a DataFrame.\nTry using .loc[row_indexer,col_indexer] = value instead\n\nSee the caveats in the documentation: https://pandas.pydata.org/pandas-docs/stable/user_guide/indexing.html#returning-a-view-versus-a-copy\n  \n"
    }
   ]
  },
  {
   "cell_type": "code",
   "metadata": {
    "id": "qOuJxG4ZNjAa",
    "cell_id": "00034-8ecf9481-b319-481d-a4c9-ae5104ef2e15",
    "deepnote_cell_type": "code",
    "deepnote_cell_height": 66
   },
   "source": "df2021 = df2021.drop('WeekDate',axis=1)",
   "execution_count": null,
   "outputs": []
  },
  {
   "cell_type": "code",
   "metadata": {
    "colab": {
     "base_uri": "https://localhost:8080/",
     "height": 423
    },
    "id": "pFf_EqqcN83c",
    "outputId": "c5ca8548-769e-4f20-d754-02bd6ebe92ec",
    "cell_id": "00035-b1df71fb-6ea8-4206-8100-3fc30e8504a4",
    "deepnote_cell_type": "code",
    "deepnote_cell_height": 479.1875
   },
   "source": "df2021",
   "execution_count": null,
   "outputs": [
    {
     "output_type": "execute_result",
     "data": {
      "text/plain": "                   Load Type  Load Weight  Dropoff Site          Route Type  \\\n713884   GARBAGE COLLECTIONS       3640.0  TDS LANDFILL  GARBAGE COLLECTION   \n713887                 BRUSH       3700.0  HORNSBY BEND               BRUSH   \n713889         YARD TRIMMING      11060.0  HORNSBY BEND      YARD TRIMMINGS   \n713892         YARD TRIMMING      15980.0  HORNSBY BEND      YARD TRIMMINGS   \n713906         YARD TRIMMING      18080.0  HORNSBY BEND      YARD TRIMMINGS   \n...                      ...          ...           ...                 ...   \n740867  RECYCLING - COMINGLE       2580.0           MRF           RECYCLING   \n740868     RECYCLING - PAPER       1080.0           MRF           RECYCLING   \n740869                  BULK       9360.0  TDS LANDFILL               STORM   \n740871  RECYCLING - COMINGLE       3960.0           MRF           RECYCLING   \n740872  RECYCLING - COMINGLE       5280.0           MRF           RECYCLING   \n\n       Route Number       Dates      Time  \n713884        PAM70  2021-01-04  19:15:00  \n713887         BR21  2021-01-04  15:13:00  \n713889         YM04  2021-01-04  13:12:00  \n713892         YM03  2021-01-04  16:55:00  \n713906         YM02  2021-01-04  17:39:00  \n...             ...         ...       ...  \n740867         RM01  2021-07-05  07:00:38  \n740868         RW05  2021-07-05  07:00:39  \n740869    HAFLDBU15  2021-07-05  07:05:29  \n740871         RW04  2021-07-05  07:00:39  \n740872         RT24  2021-07-05  07:00:39  \n\n[25108 rows x 7 columns]",
      "text/html": "\n  <div id=\"df-739fd98e-c651-48f4-9ad5-519a3352c59f\">\n    <div class=\"colab-df-container\">\n      <div>\n<style scoped>\n    .dataframe tbody tr th:only-of-type {\n        vertical-align: middle;\n    }\n\n    .dataframe tbody tr th {\n        vertical-align: top;\n    }\n\n    .dataframe thead th {\n        text-align: right;\n    }\n</style>\n<table border=\"1\" class=\"dataframe\">\n  <thead>\n    <tr style=\"text-align: right;\">\n      <th></th>\n      <th>Load Type</th>\n      <th>Load Weight</th>\n      <th>Dropoff Site</th>\n      <th>Route Type</th>\n      <th>Route Number</th>\n      <th>Dates</th>\n      <th>Time</th>\n    </tr>\n  </thead>\n  <tbody>\n    <tr>\n      <th>713884</th>\n      <td>GARBAGE COLLECTIONS</td>\n      <td>3640.0</td>\n      <td>TDS LANDFILL</td>\n      <td>GARBAGE COLLECTION</td>\n      <td>PAM70</td>\n      <td>2021-01-04</td>\n      <td>19:15:00</td>\n    </tr>\n    <tr>\n      <th>713887</th>\n      <td>BRUSH</td>\n      <td>3700.0</td>\n      <td>HORNSBY BEND</td>\n      <td>BRUSH</td>\n      <td>BR21</td>\n      <td>2021-01-04</td>\n      <td>15:13:00</td>\n    </tr>\n    <tr>\n      <th>713889</th>\n      <td>YARD TRIMMING</td>\n      <td>11060.0</td>\n      <td>HORNSBY BEND</td>\n      <td>YARD TRIMMINGS</td>\n      <td>YM04</td>\n      <td>2021-01-04</td>\n      <td>13:12:00</td>\n    </tr>\n    <tr>\n      <th>713892</th>\n      <td>YARD TRIMMING</td>\n      <td>15980.0</td>\n      <td>HORNSBY BEND</td>\n      <td>YARD TRIMMINGS</td>\n      <td>YM03</td>\n      <td>2021-01-04</td>\n      <td>16:55:00</td>\n    </tr>\n    <tr>\n      <th>713906</th>\n      <td>YARD TRIMMING</td>\n      <td>18080.0</td>\n      <td>HORNSBY BEND</td>\n      <td>YARD TRIMMINGS</td>\n      <td>YM02</td>\n      <td>2021-01-04</td>\n      <td>17:39:00</td>\n    </tr>\n    <tr>\n      <th>...</th>\n      <td>...</td>\n      <td>...</td>\n      <td>...</td>\n      <td>...</td>\n      <td>...</td>\n      <td>...</td>\n      <td>...</td>\n    </tr>\n    <tr>\n      <th>740867</th>\n      <td>RECYCLING - COMINGLE</td>\n      <td>2580.0</td>\n      <td>MRF</td>\n      <td>RECYCLING</td>\n      <td>RM01</td>\n      <td>2021-07-05</td>\n      <td>07:00:38</td>\n    </tr>\n    <tr>\n      <th>740868</th>\n      <td>RECYCLING - PAPER</td>\n      <td>1080.0</td>\n      <td>MRF</td>\n      <td>RECYCLING</td>\n      <td>RW05</td>\n      <td>2021-07-05</td>\n      <td>07:00:39</td>\n    </tr>\n    <tr>\n      <th>740869</th>\n      <td>BULK</td>\n      <td>9360.0</td>\n      <td>TDS LANDFILL</td>\n      <td>STORM</td>\n      <td>HAFLDBU15</td>\n      <td>2021-07-05</td>\n      <td>07:05:29</td>\n    </tr>\n    <tr>\n      <th>740871</th>\n      <td>RECYCLING - COMINGLE</td>\n      <td>3960.0</td>\n      <td>MRF</td>\n      <td>RECYCLING</td>\n      <td>RW04</td>\n      <td>2021-07-05</td>\n      <td>07:00:39</td>\n    </tr>\n    <tr>\n      <th>740872</th>\n      <td>RECYCLING - COMINGLE</td>\n      <td>5280.0</td>\n      <td>MRF</td>\n      <td>RECYCLING</td>\n      <td>RT24</td>\n      <td>2021-07-05</td>\n      <td>07:00:39</td>\n    </tr>\n  </tbody>\n</table>\n<p>25108 rows × 7 columns</p>\n</div>\n      <button class=\"colab-df-convert\" onclick=\"convertToInteractive('df-739fd98e-c651-48f4-9ad5-519a3352c59f')\"\n              title=\"Convert this dataframe to an interactive table.\"\n              style=\"display:none;\">\n        \n  <svg xmlns=\"http://www.w3.org/2000/svg\" height=\"24px\"viewBox=\"0 0 24 24\"\n       width=\"24px\">\n    <path d=\"M0 0h24v24H0V0z\" fill=\"none\"/>\n    <path d=\"M18.56 5.44l.94 2.06.94-2.06 2.06-.94-2.06-.94-.94-2.06-.94 2.06-2.06.94zm-11 1L8.5 8.5l.94-2.06 2.06-.94-2.06-.94L8.5 2.5l-.94 2.06-2.06.94zm10 10l.94 2.06.94-2.06 2.06-.94-2.06-.94-.94-2.06-.94 2.06-2.06.94z\"/><path d=\"M17.41 7.96l-1.37-1.37c-.4-.4-.92-.59-1.43-.59-.52 0-1.04.2-1.43.59L10.3 9.45l-7.72 7.72c-.78.78-.78 2.05 0 2.83L4 21.41c.39.39.9.59 1.41.59.51 0 1.02-.2 1.41-.59l7.78-7.78 2.81-2.81c.8-.78.8-2.07 0-2.86zM5.41 20L4 18.59l7.72-7.72 1.47 1.35L5.41 20z\"/>\n  </svg>\n      </button>\n      \n  <style>\n    .colab-df-container {\n      display:flex;\n      flex-wrap:wrap;\n      gap: 12px;\n    }\n\n    .colab-df-convert {\n      background-color: #E8F0FE;\n      border: none;\n      border-radius: 50%;\n      cursor: pointer;\n      display: none;\n      fill: #1967D2;\n      height: 32px;\n      padding: 0 0 0 0;\n      width: 32px;\n    }\n\n    .colab-df-convert:hover {\n      background-color: #E2EBFA;\n      box-shadow: 0px 1px 2px rgba(60, 64, 67, 0.3), 0px 1px 3px 1px rgba(60, 64, 67, 0.15);\n      fill: #174EA6;\n    }\n\n    [theme=dark] .colab-df-convert {\n      background-color: #3B4455;\n      fill: #D2E3FC;\n    }\n\n    [theme=dark] .colab-df-convert:hover {\n      background-color: #434B5C;\n      box-shadow: 0px 1px 3px 1px rgba(0, 0, 0, 0.15);\n      filter: drop-shadow(0px 1px 2px rgba(0, 0, 0, 0.3));\n      fill: #FFFFFF;\n    }\n  </style>\n\n      <script>\n        const buttonEl =\n          document.querySelector('#df-739fd98e-c651-48f4-9ad5-519a3352c59f button.colab-df-convert');\n        buttonEl.style.display =\n          google.colab.kernel.accessAllowed ? 'block' : 'none';\n\n        async function convertToInteractive(key) {\n          const element = document.querySelector('#df-739fd98e-c651-48f4-9ad5-519a3352c59f');\n          const dataTable =\n            await google.colab.kernel.invokeFunction('convertToInteractive',\n                                                     [key], {});\n          if (!dataTable) return;\n\n          const docLinkHtml = 'Like what you see? Visit the ' +\n            '<a target=\"_blank\" href=https://colab.research.google.com/notebooks/data_table.ipynb>data table notebook</a>'\n            + ' to learn more about interactive tables.';\n          element.innerHTML = '';\n          dataTable['output_type'] = 'display_data';\n          await google.colab.output.renderOutput(dataTable, element);\n          const docLink = document.createElement('div');\n          docLink.innerHTML = docLinkHtml;\n          element.appendChild(docLink);\n        }\n      </script>\n    </div>\n  </div>\n  "
     },
     "metadata": {},
     "execution_count": 74
    }
   ]
  },
  {
   "cell_type": "code",
   "metadata": {
    "colab": {
     "base_uri": "https://localhost:8080/"
    },
    "id": "gCa_o3u2R_g6",
    "outputId": "fb6c910e-1581-4564-a64f-c634e040a190",
    "cell_id": "00036-05fd2ed5-48fe-486f-b65c-057ef244f951",
    "deepnote_cell_type": "code",
    "deepnote_cell_height": 252.5
   },
   "source": "df2021.isnull().sum()/df.shape[0]",
   "execution_count": null,
   "outputs": [
    {
     "output_type": "execute_result",
     "data": {
      "text/plain": "Load Type       0.0\nLoad Weight     0.0\nDropoff Site    0.0\nRoute Type      0.0\nRoute Number    0.0\nDates           0.0\nTime            0.0\ndtype: float64"
     },
     "metadata": {},
     "execution_count": 75
    }
   ]
  },
  {
   "cell_type": "code",
   "metadata": {
    "colab": {
     "base_uri": "https://localhost:8080/",
     "height": 388
    },
    "id": "Xj-ioDY590yr",
    "outputId": "a50d2161-a925-4e45-e346-7d6d2d3862bb",
    "cell_id": "00037-9041b943-ab5e-4c42-bd27-f6ed4ffe8903",
    "deepnote_cell_type": "code",
    "deepnote_cell_height": 503.1875,
    "deepnote_output_heights": [
     null,
     354
    ]
   },
   "source": "sns.catplot(x=\"Load Weight\", y=\"Load Type\", data=df2021)",
   "execution_count": null,
   "outputs": [
    {
     "output_type": "execute_result",
     "data": {
      "text/plain": "<seaborn.axisgrid.FacetGrid at 0x7f2e075a8e10>"
     },
     "metadata": {},
     "execution_count": 76
    },
    {
     "output_type": "display_data",
     "data": {
      "text/plain": "<Figure size 360x360 with 1 Axes>",
      "image/png": "[encoded data removed]"
     },
     "metadata": {
      "needs_background": "light",
      "image/png": {
       "width": 342,
       "height": 352
      }
     }
    }
   ]
  },
  {
   "cell_type": "code",
   "metadata": {
    "colab": {
     "base_uri": "https://localhost:8080/",
     "height": 388
    },
    "id": "WvLcjy5FBc1v",
    "outputId": "778c4f08-e9fb-449a-be2f-a9e4ed1489ac",
    "cell_id": "00038-a2c17d39-17e9-4eb7-a4c9-7bd7f761d237",
    "deepnote_cell_type": "code",
    "deepnote_cell_height": 503.1875,
    "deepnote_output_heights": [
     null,
     354
    ]
   },
   "source": "sns.catplot(x=\"Load Weight\", y=\"Route Type\", data=df2021)",
   "execution_count": null,
   "outputs": [
    {
     "output_type": "execute_result",
     "data": {
      "text/plain": "<seaborn.axisgrid.FacetGrid at 0x7f2e1b76e890>"
     },
     "metadata": {},
     "execution_count": 77
    },
    {
     "output_type": "display_data",
     "data": {
      "text/plain": "<Figure size 360x360 with 1 Axes>",
      "image/png": "[encoded data removed]"
     },
     "metadata": {
      "needs_background": "light",
      "image/png": {
       "width": 342,
       "height": 352
      }
     }
    }
   ]
  },
  {
   "cell_type": "code",
   "metadata": {
    "id": "Qw2c20DFORe9",
    "colab": {
     "base_uri": "https://localhost:8080/"
    },
    "outputId": "19fe0352-af0b-4804-f944-5f55c556f229",
    "cell_id": "00039-96323b63-926d-40a8-9b8f-e13eade0cf28",
    "deepnote_cell_type": "code",
    "deepnote_cell_height": 118.1875
   },
   "source": "df2021['Dates'].nunique()",
   "execution_count": null,
   "outputs": [
    {
     "output_type": "execute_result",
     "data": {
      "text/plain": "29"
     },
     "metadata": {},
     "execution_count": 78
    }
   ]
  },
  {
   "cell_type": "code",
   "metadata": {
    "colab": {
     "base_uri": "https://localhost:8080/"
    },
    "id": "Ct9gLThqlAsI",
    "outputId": "4f29c39a-fdc2-47ff-ef80-cf41ba0ac0dc",
    "cell_id": "00040-f9ddf338-cf81-4df7-afe3-8c01a3de9aa9",
    "deepnote_cell_type": "code",
    "deepnote_cell_height": 386.8125
   },
   "source": "df2021['Dates'].unique()",
   "execution_count": null,
   "outputs": [
    {
     "output_type": "execute_result",
     "data": {
      "text/plain": "array([datetime.date(2021, 1, 4), datetime.date(2021, 1, 11),\n       datetime.date(2021, 1, 18), datetime.date(2021, 1, 25),\n       datetime.date(2021, 12, 20), datetime.date(2021, 2, 1),\n       datetime.date(2021, 2, 8), datetime.date(2021, 2, 15),\n       datetime.date(2021, 2, 22), datetime.date(2021, 3, 1),\n       datetime.date(2021, 3, 22), datetime.date(2021, 3, 8),\n       datetime.date(2021, 3, 15), datetime.date(2021, 3, 29),\n       datetime.date(2021, 4, 5), datetime.date(2021, 4, 12),\n       datetime.date(2021, 4, 19), datetime.date(2021, 4, 26),\n       datetime.date(2021, 5, 3), datetime.date(2021, 5, 10),\n       datetime.date(2021, 5, 17), datetime.date(2021, 5, 24),\n       datetime.date(2021, 5, 31), datetime.date(2021, 6, 7),\n       datetime.date(2021, 6, 21), datetime.date(2021, 6, 14),\n       datetime.date(2021, 6, 28), datetime.date(2021, 12, 6),\n       datetime.date(2021, 7, 5)], dtype=object)"
     },
     "metadata": {},
     "execution_count": 79
    }
   ]
  },
  {
   "cell_type": "code",
   "metadata": {
    "colab": {
     "base_uri": "https://localhost:8080/"
    },
    "id": "P00BJBZofsUe",
    "outputId": "773e3cd5-7588-43aa-8c66-821460f5b8f4",
    "cell_id": "00041-3ff63f57-d4e4-438c-9b8a-a7716adaca36",
    "deepnote_cell_type": "code",
    "deepnote_cell_height": 305.3125
   },
   "source": "## what are the missing weeks?\nall_dates_2021 = pd.date_range(\n  start=\"2021-01-01\", end=\"2021-12-31\", freq = \"W-MON\")\nall_dates_2021.difference(df2021['Dates'])\n",
   "execution_count": null,
   "outputs": [
    {
     "output_type": "execute_result",
     "data": {
      "text/plain": "DatetimeIndex(['2021-07-12', '2021-07-19', '2021-07-26', '2021-08-02',\n               '2021-08-09', '2021-08-16', '2021-08-23', '2021-08-30',\n               '2021-09-06', '2021-09-13', '2021-09-20', '2021-09-27',\n               '2021-10-04', '2021-10-11', '2021-10-18', '2021-10-25',\n               '2021-11-01', '2021-11-08', '2021-11-15', '2021-11-22',\n               '2021-11-29', '2021-12-13', '2021-12-27'],\n              dtype='datetime64[ns]', freq=None)"
     },
     "metadata": {},
     "execution_count": 80
    }
   ]
  },
  {
   "cell_type": "markdown",
   "source": "**Why are these weeks data missing? any particular reason**\n\n- What can be done - check for any holidays in this week? \n- any pattern? \n- are the same weeks missing in other years?\n",
   "metadata": {
    "id": "eZS77V1LnJjM",
    "cell_id": "00042-d005b014-c919-4ffb-ba6b-e5dc8512029a",
    "deepnote_cell_type": "markdown",
    "deepnote_cell_height": 153.59375
   }
  },
  {
   "cell_type": "markdown",
   "source": "## Creating three Data Frames - Precovid, Covid and Post Covid",
   "metadata": {
    "id": "-kl2-otL1Fvi",
    "cell_id": "00043-9b1de84b-9b75-480c-a3c1-06dfbb0d8981",
    "deepnote_cell_type": "markdown",
    "deepnote_cell_height": 70
   }
  },
  {
   "cell_type": "code",
   "metadata": {
    "id": "IA2r_r7dJGJj",
    "cell_id": "00044-4fdee11a-31bb-4cc5-9b9a-df398046daa9",
    "deepnote_cell_type": "code",
    "deepnote_cell_height": 174
   },
   "source": "df_complete_1 = df.copy()\ndf_complete_1['Dates'] = pd.to_datetime(df_complete_1[\"WeekDate\"]).dt.date\ndf_complete_1['Time'] = pd.to_datetime(df_complete_1['WeekDate']).dt.time\ndf_complete_1['year'] = pd.to_datetime(df_complete_1['WeekDate']).dt.year\ndf_complete_1 = df_complete_1[(df_complete_1['year']>2004) & (df_complete_1['year']<2022) ]\ndf_complete_1 = df_complete_1.drop(columns = ['WeekDate', 'year'])\n",
   "execution_count": null,
   "outputs": []
  },
  {
   "cell_type": "markdown",
   "source": "##Adding holiday data",
   "metadata": {
    "id": "Ez5Amgk3QQYl",
    "cell_id": "00045-43bac0a4-0c4b-4499-9cb3-38bfbbae3376",
    "deepnote_cell_type": "markdown",
    "deepnote_cell_height": 52.390625
   }
  },
  {
   "cell_type": "code",
   "metadata": {
    "id": "TDXEVJQGbR4n",
    "cell_id": "00046-ccfecf7f-0641-4aeb-b6f1-3a42379b2f00",
    "deepnote_cell_type": "code",
    "deepnote_cell_height": 120
   },
   "source": "from datetime import date\nimport holidays\n\nus_holidays = holidays.US()",
   "execution_count": null,
   "outputs": []
  },
  {
   "cell_type": "code",
   "metadata": {
    "id": "Awy00gQ_QQBm",
    "colab": {
     "base_uri": "https://localhost:8080/"
    },
    "outputId": "6fe58f12-3911-4a88-e937-509703946149",
    "cell_id": "00047-13372aff-eef3-46d4-ae1b-5129d878d051",
    "deepnote_cell_type": "code",
    "deepnote_cell_height": 172.1875
   },
   "source": "df_holiday = df_complete_1.copy()\n\ndf_holiday['holiday'] = df_holiday['Dates'].apply(lambda x: 1 if x in us_holidays else 0 )\ndf_holiday['holiday'].unique()",
   "execution_count": null,
   "outputs": [
    {
     "output_type": "execute_result",
     "data": {
      "text/plain": "array([0, 1])"
     },
     "metadata": {},
     "execution_count": 84
    }
   ]
  },
  {
   "cell_type": "code",
   "metadata": {
    "id": "ahxyikpEpXpt",
    "cell_id": "00048-70b2860b-8d19-441f-a1d2-bd182884e1f2",
    "deepnote_cell_type": "code",
    "deepnote_cell_height": 66
   },
   "source": "df_weekly_holiday = df_complete_1.copy()",
   "execution_count": null,
   "outputs": []
  },
  {
   "cell_type": "code",
   "metadata": {
    "id": "XatErZcJhSot",
    "cell_id": "00049-f0972e12-7d7a-42b0-aa0d-650a068a9d06",
    "deepnote_cell_type": "code",
    "deepnote_cell_height": 210
   },
   "source": "def number_of_holidays_in_week(date):\n  res = 0\n  end = date\n  start = date - dt.timedelta(days=7)\n  date_range = pd.date_range(start, end)\n  for day in date_range:\n    if day in us_holidays:\n      res+=1\n  return res",
   "execution_count": null,
   "outputs": []
  },
  {
   "cell_type": "code",
   "metadata": {
    "id": "wvTKea9pQZCy",
    "cell_id": "00050-fb41ef5e-e865-4b8e-9a69-af2d9ff3e044",
    "deepnote_cell_type": "code",
    "deepnote_cell_height": 66
   },
   "source": "df_weekly_holiday['holidays'] = df_weekly_holiday['Dates'].apply(lambda x: number_of_holidays_in_week(x))",
   "execution_count": null,
   "outputs": []
  },
  {
   "cell_type": "code",
   "metadata": {
    "colab": {
     "base_uri": "https://localhost:8080/"
    },
    "id": "0NHWf3j8sLML",
    "outputId": "850866b9-f679-4f82-b647-f7a2d266090e",
    "cell_id": "00051-56801431-39b9-4bd6-9500-5932755a8dd2",
    "deepnote_cell_type": "code",
    "deepnote_cell_height": 118.1875
   },
   "source": "df_weekly_holiday['holidays'].unique()",
   "execution_count": null,
   "outputs": [
    {
     "output_type": "execute_result",
     "data": {
      "text/plain": "array([0, 1, 2, 3])"
     },
     "metadata": {},
     "execution_count": 88
    }
   ]
  },
  {
   "cell_type": "markdown",
   "source": "### Grouping BY Week",
   "metadata": {
    "id": "Qd3crZI3GY-W",
    "cell_id": "00052-9f913526-2259-44ea-bcf5-a6bbf8aee432",
    "deepnote_cell_type": "markdown",
    "deepnote_cell_height": 62
   }
  },
  {
   "cell_type": "code",
   "metadata": {
    "id": "yG-ssYhoIPd0",
    "colab": {
     "base_uri": "https://localhost:8080/",
     "height": 828
    },
    "outputId": "0505b7a1-5c01-4857-8765-d80d52dc4735",
    "cell_id": "00053-a565c5ab-3814-4311-b364-f9f7044b65bf",
    "deepnote_cell_type": "code",
    "deepnote_cell_height": 580.1875
   },
   "source": "df_by_week = df_complete_1.copy()\ndf_by_week = df_by_week.groupby('Dates').agg(list)\ndf_by_week['Load Weight'] = df_by_week['Load Weight'].apply(lambda x: np.nansum(x))\n#df_by_week['holidays'] = df_by_week['holidays'].apply(lambda x: x[0])\ndf_by_week",
   "execution_count": null,
   "outputs": [
    {
     "output_type": "execute_result",
     "data": {
      "text/plain": "                                                    Load Type  Load Weight  \\\nDates                                                                        \n2005-01-03  [RECYCLING - PAPER, GARBAGE COLLECTIONS, RECYC...    8588110.0   \n2005-01-10  [RECYCLING - COMINGLE, SWEEPING, GARBAGE COLLE...    8589808.0   \n2005-01-17  [YARD TRIMMING, YARD TRIMMING, GARBAGE COLLECT...    7006387.0   \n2005-01-24  [GARBAGE COLLECTIONS, YARD TRIMMING, GARBAGE C...    7116256.0   \n2005-01-31  [GARBAGE COLLECTIONS, BRUSH, GARBAGE COLLECTIO...    6627016.0   \n...                                                       ...          ...   \n2021-06-21  [BULK, BRUSH, GARBAGE COLLECTIONS, ORGANICS, R...   10442680.0   \n2021-06-28  [RECYCLING - SINGLE STREAM, GARBAGE COLLECTION...   10174590.0   \n2021-07-05  [GARBAGE COLLECTIONS, GARBAGE COLLECTIONS, GAR...    7595100.0   \n2021-12-06                                         [ORGANICS]       1340.0   \n2021-12-20                        [RECYCLING - SINGLE STREAM]       6940.0   \n\n                                                 Dropoff Site  \\\nDates                                                           \n2005-01-03  [MRF, TDS LANDFILL, MRF, TDS LANDFILL, TDS LAN...   \n2005-01-10  [MRF, STEINER LANDFILL, TDS LANDFILL, TDS LAND...   \n2005-01-17  [HORNSBY BEND, HORNSBY BEND, TDS LANDFILL, STE...   \n2005-01-24  [TDS LANDFILL, HORNSBY BEND, TDS LANDFILL, TDS...   \n2005-01-31  [TDS LANDFILL, HORNSBY BEND, TDS LANDFILL, STE...   \n...                                                       ...   \n2021-06-21  [TDS LANDFILL, HORNSBY BEND, TDS LANDFILL, ORG...   \n2021-06-28  [TDS - MRF, TDS LANDFILL, TDS LANDFILL, TDS LA...   \n2021-07-05  [TDS LANDFILL, TDS LANDFILL, TDS LANDFILL, TDS...   \n2021-12-06                                 [ORGANICS BY GOSH]   \n2021-12-20                                     [TDS LANDFILL]   \n\n                                                   Route Type  \\\nDates                                                           \n2005-01-03  [INHOUSE - RECYCLING, GARBAGE COLLECTION, RECY...   \n2005-01-10  [RECYCLING, SWEEPER DUMPSITES, GARBAGE COLLECT...   \n2005-01-17  [YARD TRIMMINGS, YARD TRIMMINGS, GARBAGE COLLE...   \n2005-01-24  [GARBAGE COLLECTION, YARD TRIMMINGS, GARBAGE C...   \n2005-01-31  [GARBAGE COLLECTION, BRUSH, GARBAGE COLLECTION...   \n...                                                       ...   \n2021-06-21  [BULK, BRUSH, GARBAGE COLLECTION, YARD TRIMMIN...   \n2021-06-28  [RECYCLING - SINGLE STREAM, GARBAGE COLLECTION...   \n2021-07-05  [GARBAGE COLLECTION, GARBAGE COLLECTION, GARBA...   \n2021-12-06                          [YARD TRIMMINGS-ORGANICS]   \n2021-12-20                        [RECYCLING - SINGLE STREAM]   \n\n                                                 Route Number  \\\nDates                                                           \n2005-01-03  [IRM1, PF80, RH25, PAF71, PM10, PAW60, PT31, R...   \n2005-01-10  [RW20, DSS06, PAM77, BU31, PAT75, RT11, RM04, ...   \n2005-01-17  [YM03, YT06, PAF73, BU13, PM32, RF10, YF03, DF...   \n2005-01-24  [PAH02, YT06, PAF79, PAT60, BR18, PAW64, BR28,...   \n2005-01-31  [PAM74, BR09, PAT74, BU10, RW15, RW02, YW08, R...   \n...                                                       ...   \n2021-06-21  [BU16, BR06, PF41, OM30, RMAU52, RMAU51, PAM72...   \n2021-06-28  [RMBU52, PAM74, PAM75, PAM74, PAM73, OCPBU23, ...   \n2021-07-05  [PAF02, PAM06, PAM79, VB-01, OM17, OM31, PAM02...   \n2021-12-06                                            [OBT99]   \n2021-12-20                                           [RMAU21]   \n\n                                                         Time  \nDates                                                          \n2005-01-03  [13:40:00, 12:12:00, 14:21:00, 10:37:00, 13:13...  \n2005-01-10  [12:27:00, 08:04:00, 12:30:00, 10:06:00, 16:04...  \n2005-01-17  [12:00:00, 12:36:00, 15:46:00, 10:39:00, 12:19...  \n2005-01-24  [15:55:00, 16:15:00, 13:17:00, 10:48:00, 11:26...  \n2005-01-31  [13:51:00, 10:35:00, 10:31:00, 12:54:00, 13:25...  \n...                                                       ...  \n2021-06-21  [13:35:00, 15:16:00, 12:50:00, 17:30:00, 11:14...  \n2021-06-28  [10:00:00, 18:00:00, 18:00:00, 13:30:00, 13:45...  \n2021-07-05  [12:36:00, 03:57:00, 14:00:00, 13:09:00, 14:26...  \n2021-12-06                                         [00:00:00]  \n2021-12-20                                         [12:41:00]  \n\n[864 rows x 6 columns]",
      "text/html": "\n  <div id=\"df-b296aba5-cde8-40cd-849f-87d6ab4ba1dd\">\n    <div class=\"colab-df-container\">\n      <div>\n<style scoped>\n    .dataframe tbody tr th:only-of-type {\n        vertical-align: middle;\n    }\n\n    .dataframe tbody tr th {\n        vertical-align: top;\n    }\n\n    .dataframe thead th {\n        text-align: right;\n    }\n</style>\n<table border=\"1\" class=\"dataframe\">\n  <thead>\n    <tr style=\"text-align: right;\">\n      <th></th>\n      <th>Load Type</th>\n      <th>Load Weight</th>\n      <th>Dropoff Site</th>\n      <th>Route Type</th>\n      <th>Route Number</th>\n      <th>Time</th>\n    </tr>\n    <tr>\n      <th>Dates</th>\n      <th></th>\n      <th></th>\n      <th></th>\n      <th></th>\n      <th></th>\n      <th></th>\n    </tr>\n  </thead>\n  <tbody>\n    <tr>\n      <th>2005-01-03</th>\n      <td>[RECYCLING - PAPER, GARBAGE COLLECTIONS, RECYC...</td>\n      <td>8588110.0</td>\n      <td>[MRF, TDS LANDFILL, MRF, TDS LANDFILL, TDS LAN...</td>\n      <td>[INHOUSE - RECYCLING, GARBAGE COLLECTION, RECY...</td>\n      <td>[IRM1, PF80, RH25, PAF71, PM10, PAW60, PT31, R...</td>\n      <td>[13:40:00, 12:12:00, 14:21:00, 10:37:00, 13:13...</td>\n    </tr>\n    <tr>\n      <th>2005-01-10</th>\n      <td>[RECYCLING - COMINGLE, SWEEPING, GARBAGE COLLE...</td>\n      <td>8589808.0</td>\n      <td>[MRF, STEINER LANDFILL, TDS LANDFILL, TDS LAND...</td>\n      <td>[RECYCLING, SWEEPER DUMPSITES, GARBAGE COLLECT...</td>\n      <td>[RW20, DSS06, PAM77, BU31, PAT75, RT11, RM04, ...</td>\n      <td>[12:27:00, 08:04:00, 12:30:00, 10:06:00, 16:04...</td>\n    </tr>\n    <tr>\n      <th>2005-01-17</th>\n      <td>[YARD TRIMMING, YARD TRIMMING, GARBAGE COLLECT...</td>\n      <td>7006387.0</td>\n      <td>[HORNSBY BEND, HORNSBY BEND, TDS LANDFILL, STE...</td>\n      <td>[YARD TRIMMINGS, YARD TRIMMINGS, GARBAGE COLLE...</td>\n      <td>[YM03, YT06, PAF73, BU13, PM32, RF10, YF03, DF...</td>\n      <td>[12:00:00, 12:36:00, 15:46:00, 10:39:00, 12:19...</td>\n    </tr>\n    <tr>\n      <th>2005-01-24</th>\n      <td>[GARBAGE COLLECTIONS, YARD TRIMMING, GARBAGE C...</td>\n      <td>7116256.0</td>\n      <td>[TDS LANDFILL, HORNSBY BEND, TDS LANDFILL, TDS...</td>\n      <td>[GARBAGE COLLECTION, YARD TRIMMINGS, GARBAGE C...</td>\n      <td>[PAH02, YT06, PAF79, PAT60, BR18, PAW64, BR28,...</td>\n      <td>[15:55:00, 16:15:00, 13:17:00, 10:48:00, 11:26...</td>\n    </tr>\n    <tr>\n      <th>2005-01-31</th>\n      <td>[GARBAGE COLLECTIONS, BRUSH, GARBAGE COLLECTIO...</td>\n      <td>6627016.0</td>\n      <td>[TDS LANDFILL, HORNSBY BEND, TDS LANDFILL, STE...</td>\n      <td>[GARBAGE COLLECTION, BRUSH, GARBAGE COLLECTION...</td>\n      <td>[PAM74, BR09, PAT74, BU10, RW15, RW02, YW08, R...</td>\n      <td>[13:51:00, 10:35:00, 10:31:00, 12:54:00, 13:25...</td>\n    </tr>\n    <tr>\n      <th>...</th>\n      <td>...</td>\n      <td>...</td>\n      <td>...</td>\n      <td>...</td>\n      <td>...</td>\n      <td>...</td>\n    </tr>\n    <tr>\n      <th>2021-06-21</th>\n      <td>[BULK, BRUSH, GARBAGE COLLECTIONS, ORGANICS, R...</td>\n      <td>10442680.0</td>\n      <td>[TDS LANDFILL, HORNSBY BEND, TDS LANDFILL, ORG...</td>\n      <td>[BULK, BRUSH, GARBAGE COLLECTION, YARD TRIMMIN...</td>\n      <td>[BU16, BR06, PF41, OM30, RMAU52, RMAU51, PAM72...</td>\n      <td>[13:35:00, 15:16:00, 12:50:00, 17:30:00, 11:14...</td>\n    </tr>\n    <tr>\n      <th>2021-06-28</th>\n      <td>[RECYCLING - SINGLE STREAM, GARBAGE COLLECTION...</td>\n      <td>10174590.0</td>\n      <td>[TDS - MRF, TDS LANDFILL, TDS LANDFILL, TDS LA...</td>\n      <td>[RECYCLING - SINGLE STREAM, GARBAGE COLLECTION...</td>\n      <td>[RMBU52, PAM74, PAM75, PAM74, PAM73, OCPBU23, ...</td>\n      <td>[10:00:00, 18:00:00, 18:00:00, 13:30:00, 13:45...</td>\n    </tr>\n    <tr>\n      <th>2021-07-05</th>\n      <td>[GARBAGE COLLECTIONS, GARBAGE COLLECTIONS, GAR...</td>\n      <td>7595100.0</td>\n      <td>[TDS LANDFILL, TDS LANDFILL, TDS LANDFILL, TDS...</td>\n      <td>[GARBAGE COLLECTION, GARBAGE COLLECTION, GARBA...</td>\n      <td>[PAF02, PAM06, PAM79, VB-01, OM17, OM31, PAM02...</td>\n      <td>[12:36:00, 03:57:00, 14:00:00, 13:09:00, 14:26...</td>\n    </tr>\n    <tr>\n      <th>2021-12-06</th>\n      <td>[ORGANICS]</td>\n      <td>1340.0</td>\n      <td>[ORGANICS BY GOSH]</td>\n      <td>[YARD TRIMMINGS-ORGANICS]</td>\n      <td>[OBT99]</td>\n      <td>[00:00:00]</td>\n    </tr>\n    <tr>\n      <th>2021-12-20</th>\n      <td>[RECYCLING - SINGLE STREAM]</td>\n      <td>6940.0</td>\n      <td>[TDS LANDFILL]</td>\n      <td>[RECYCLING - SINGLE STREAM]</td>\n      <td>[RMAU21]</td>\n      <td>[12:41:00]</td>\n    </tr>\n  </tbody>\n</table>\n<p>864 rows × 6 columns</p>\n</div>\n      <button class=\"colab-df-convert\" onclick=\"convertToInteractive('df-b296aba5-cde8-40cd-849f-87d6ab4ba1dd')\"\n              title=\"Convert this dataframe to an interactive table.\"\n              style=\"display:none;\">\n        \n  <svg xmlns=\"http://www.w3.org/2000/svg\" height=\"24px\"viewBox=\"0 0 24 24\"\n       width=\"24px\">\n    <path d=\"M0 0h24v24H0V0z\" fill=\"none\"/>\n    <path d=\"M18.56 5.44l.94 2.06.94-2.06 2.06-.94-2.06-.94-.94-2.06-.94 2.06-2.06.94zm-11 1L8.5 8.5l.94-2.06 2.06-.94-2.06-.94L8.5 2.5l-.94 2.06-2.06.94zm10 10l.94 2.06.94-2.06 2.06-.94-2.06-.94-.94-2.06-.94 2.06-2.06.94z\"/><path d=\"M17.41 7.96l-1.37-1.37c-.4-.4-.92-.59-1.43-.59-.52 0-1.04.2-1.43.59L10.3 9.45l-7.72 7.72c-.78.78-.78 2.05 0 2.83L4 21.41c.39.39.9.59 1.41.59.51 0 1.02-.2 1.41-.59l7.78-7.78 2.81-2.81c.8-.78.8-2.07 0-2.86zM5.41 20L4 18.59l7.72-7.72 1.47 1.35L5.41 20z\"/>\n  </svg>\n      </button>\n      \n  <style>\n    .colab-df-container {\n      display:flex;\n      flex-wrap:wrap;\n      gap: 12px;\n    }\n\n    .colab-df-convert {\n      background-color: #E8F0FE;\n      border: none;\n      border-radius: 50%;\n      cursor: pointer;\n      display: none;\n      fill: #1967D2;\n      height: 32px;\n      padding: 0 0 0 0;\n      width: 32px;\n    }\n\n    .colab-df-convert:hover {\n      background-color: #E2EBFA;\n      box-shadow: 0px 1px 2px rgba(60, 64, 67, 0.3), 0px 1px 3px 1px rgba(60, 64, 67, 0.15);\n      fill: #174EA6;\n    }\n\n    [theme=dark] .colab-df-convert {\n      background-color: #3B4455;\n      fill: #D2E3FC;\n    }\n\n    [theme=dark] .colab-df-convert:hover {\n      background-color: #434B5C;\n      box-shadow: 0px 1px 3px 1px rgba(0, 0, 0, 0.15);\n      filter: drop-shadow(0px 1px 2px rgba(0, 0, 0, 0.3));\n      fill: #FFFFFF;\n    }\n  </style>\n\n      <script>\n        const buttonEl =\n          document.querySelector('#df-b296aba5-cde8-40cd-849f-87d6ab4ba1dd button.colab-df-convert');\n        buttonEl.style.display =\n          google.colab.kernel.accessAllowed ? 'block' : 'none';\n\n        async function convertToInteractive(key) {\n          const element = document.querySelector('#df-b296aba5-cde8-40cd-849f-87d6ab4ba1dd');\n          const dataTable =\n            await google.colab.kernel.invokeFunction('convertToInteractive',\n                                                     [key], {});\n          if (!dataTable) return;\n\n          const docLinkHtml = 'Like what you see? Visit the ' +\n            '<a target=\"_blank\" href=https://colab.research.google.com/notebooks/data_table.ipynb>data table notebook</a>'\n            + ' to learn more about interactive tables.';\n          element.innerHTML = '';\n          dataTable['output_type'] = 'display_data';\n          await google.colab.output.renderOutput(dataTable, element);\n          const docLink = document.createElement('div');\n          docLink.innerHTML = docLinkHtml;\n          element.appendChild(docLink);\n        }\n      </script>\n    </div>\n  </div>\n  "
     },
     "metadata": {},
     "execution_count": 109
    }
   ]
  },
  {
   "cell_type": "code",
   "metadata": {
    "id": "aQhyHATvIyJE",
    "colab": {
     "base_uri": "https://localhost:8080/",
     "height": 828
    },
    "outputId": "be03cd47-efa5-4fd0-9e92-777e364c7328",
    "cell_id": "00054-2c87f31b-0a1b-4f1c-a1ce-c765af33ec97",
    "deepnote_cell_type": "code",
    "deepnote_cell_height": 508.1875
   },
   "source": "df_by_week",
   "execution_count": null,
   "outputs": [
    {
     "output_type": "execute_result",
     "data": {
      "text/plain": "                                                    Load Type  Load Weight  \\\nDates                                                                        \n2005-01-03  [RECYCLING - PAPER, GARBAGE COLLECTIONS, RECYC...    8588110.0   \n2005-01-10  [RECYCLING - COMINGLE, SWEEPING, GARBAGE COLLE...    8589808.0   \n2005-01-17  [YARD TRIMMING, YARD TRIMMING, GARBAGE COLLECT...    7006387.0   \n2005-01-24  [GARBAGE COLLECTIONS, YARD TRIMMING, GARBAGE C...    7116256.0   \n2005-01-31  [GARBAGE COLLECTIONS, BRUSH, GARBAGE COLLECTIO...    6627016.0   \n...                                                       ...          ...   \n2021-06-21  [BULK, BRUSH, GARBAGE COLLECTIONS, ORGANICS, R...   10442680.0   \n2021-06-28  [RECYCLING - SINGLE STREAM, GARBAGE COLLECTION...   10174590.0   \n2021-07-05  [GARBAGE COLLECTIONS, GARBAGE COLLECTIONS, GAR...    7595100.0   \n2021-12-06                                         [ORGANICS]       1340.0   \n2021-12-20                        [RECYCLING - SINGLE STREAM]       6940.0   \n\n                                                 Dropoff Site  \\\nDates                                                           \n2005-01-03  [MRF, TDS LANDFILL, MRF, TDS LANDFILL, TDS LAN...   \n2005-01-10  [MRF, STEINER LANDFILL, TDS LANDFILL, TDS LAND...   \n2005-01-17  [HORNSBY BEND, HORNSBY BEND, TDS LANDFILL, STE...   \n2005-01-24  [TDS LANDFILL, HORNSBY BEND, TDS LANDFILL, TDS...   \n2005-01-31  [TDS LANDFILL, HORNSBY BEND, TDS LANDFILL, STE...   \n...                                                       ...   \n2021-06-21  [TDS LANDFILL, HORNSBY BEND, TDS LANDFILL, ORG...   \n2021-06-28  [TDS - MRF, TDS LANDFILL, TDS LANDFILL, TDS LA...   \n2021-07-05  [TDS LANDFILL, TDS LANDFILL, TDS LANDFILL, TDS...   \n2021-12-06                                 [ORGANICS BY GOSH]   \n2021-12-20                                     [TDS LANDFILL]   \n\n                                                   Route Type  \\\nDates                                                           \n2005-01-03  [INHOUSE - RECYCLING, GARBAGE COLLECTION, RECY...   \n2005-01-10  [RECYCLING, SWEEPER DUMPSITES, GARBAGE COLLECT...   \n2005-01-17  [YARD TRIMMINGS, YARD TRIMMINGS, GARBAGE COLLE...   \n2005-01-24  [GARBAGE COLLECTION, YARD TRIMMINGS, GARBAGE C...   \n2005-01-31  [GARBAGE COLLECTION, BRUSH, GARBAGE COLLECTION...   \n...                                                       ...   \n2021-06-21  [BULK, BRUSH, GARBAGE COLLECTION, YARD TRIMMIN...   \n2021-06-28  [RECYCLING - SINGLE STREAM, GARBAGE COLLECTION...   \n2021-07-05  [GARBAGE COLLECTION, GARBAGE COLLECTION, GARBA...   \n2021-12-06                          [YARD TRIMMINGS-ORGANICS]   \n2021-12-20                        [RECYCLING - SINGLE STREAM]   \n\n                                                 Route Number  \\\nDates                                                           \n2005-01-03  [IRM1, PF80, RH25, PAF71, PM10, PAW60, PT31, R...   \n2005-01-10  [RW20, DSS06, PAM77, BU31, PAT75, RT11, RM04, ...   \n2005-01-17  [YM03, YT06, PAF73, BU13, PM32, RF10, YF03, DF...   \n2005-01-24  [PAH02, YT06, PAF79, PAT60, BR18, PAW64, BR28,...   \n2005-01-31  [PAM74, BR09, PAT74, BU10, RW15, RW02, YW08, R...   \n...                                                       ...   \n2021-06-21  [BU16, BR06, PF41, OM30, RMAU52, RMAU51, PAM72...   \n2021-06-28  [RMBU52, PAM74, PAM75, PAM74, PAM73, OCPBU23, ...   \n2021-07-05  [PAF02, PAM06, PAM79, VB-01, OM17, OM31, PAM02...   \n2021-12-06                                            [OBT99]   \n2021-12-20                                           [RMAU21]   \n\n                                                         Time  \nDates                                                          \n2005-01-03  [13:40:00, 12:12:00, 14:21:00, 10:37:00, 13:13...  \n2005-01-10  [12:27:00, 08:04:00, 12:30:00, 10:06:00, 16:04...  \n2005-01-17  [12:00:00, 12:36:00, 15:46:00, 10:39:00, 12:19...  \n2005-01-24  [15:55:00, 16:15:00, 13:17:00, 10:48:00, 11:26...  \n2005-01-31  [13:51:00, 10:35:00, 10:31:00, 12:54:00, 13:25...  \n...                                                       ...  \n2021-06-21  [13:35:00, 15:16:00, 12:50:00, 17:30:00, 11:14...  \n2021-06-28  [10:00:00, 18:00:00, 18:00:00, 13:30:00, 13:45...  \n2021-07-05  [12:36:00, 03:57:00, 14:00:00, 13:09:00, 14:26...  \n2021-12-06                                         [00:00:00]  \n2021-12-20                                         [12:41:00]  \n\n[864 rows x 6 columns]",
      "text/html": "\n  <div id=\"df-19f21d97-7f71-4eaf-828b-5b5fed747157\">\n    <div class=\"colab-df-container\">\n      <div>\n<style scoped>\n    .dataframe tbody tr th:only-of-type {\n        vertical-align: middle;\n    }\n\n    .dataframe tbody tr th {\n        vertical-align: top;\n    }\n\n    .dataframe thead th {\n        text-align: right;\n    }\n</style>\n<table border=\"1\" class=\"dataframe\">\n  <thead>\n    <tr style=\"text-align: right;\">\n      <th></th>\n      <th>Load Type</th>\n      <th>Load Weight</th>\n      <th>Dropoff Site</th>\n      <th>Route Type</th>\n      <th>Route Number</th>\n      <th>Time</th>\n    </tr>\n    <tr>\n      <th>Dates</th>\n      <th></th>\n      <th></th>\n      <th></th>\n      <th></th>\n      <th></th>\n      <th></th>\n    </tr>\n  </thead>\n  <tbody>\n    <tr>\n      <th>2005-01-03</th>\n      <td>[RECYCLING - PAPER, GARBAGE COLLECTIONS, RECYC...</td>\n      <td>8588110.0</td>\n      <td>[MRF, TDS LANDFILL, MRF, TDS LANDFILL, TDS LAN...</td>\n      <td>[INHOUSE - RECYCLING, GARBAGE COLLECTION, RECY...</td>\n      <td>[IRM1, PF80, RH25, PAF71, PM10, PAW60, PT31, R...</td>\n      <td>[13:40:00, 12:12:00, 14:21:00, 10:37:00, 13:13...</td>\n    </tr>\n    <tr>\n      <th>2005-01-10</th>\n      <td>[RECYCLING - COMINGLE, SWEEPING, GARBAGE COLLE...</td>\n      <td>8589808.0</td>\n      <td>[MRF, STEINER LANDFILL, TDS LANDFILL, TDS LAND...</td>\n      <td>[RECYCLING, SWEEPER DUMPSITES, GARBAGE COLLECT...</td>\n      <td>[RW20, DSS06, PAM77, BU31, PAT75, RT11, RM04, ...</td>\n      <td>[12:27:00, 08:04:00, 12:30:00, 10:06:00, 16:04...</td>\n    </tr>\n    <tr>\n      <th>2005-01-17</th>\n      <td>[YARD TRIMMING, YARD TRIMMING, GARBAGE COLLECT...</td>\n      <td>7006387.0</td>\n      <td>[HORNSBY BEND, HORNSBY BEND, TDS LANDFILL, STE...</td>\n      <td>[YARD TRIMMINGS, YARD TRIMMINGS, GARBAGE COLLE...</td>\n      <td>[YM03, YT06, PAF73, BU13, PM32, RF10, YF03, DF...</td>\n      <td>[12:00:00, 12:36:00, 15:46:00, 10:39:00, 12:19...</td>\n    </tr>\n    <tr>\n      <th>2005-01-24</th>\n      <td>[GARBAGE COLLECTIONS, YARD TRIMMING, GARBAGE C...</td>\n      <td>7116256.0</td>\n      <td>[TDS LANDFILL, HORNSBY BEND, TDS LANDFILL, TDS...</td>\n      <td>[GARBAGE COLLECTION, YARD TRIMMINGS, GARBAGE C...</td>\n      <td>[PAH02, YT06, PAF79, PAT60, BR18, PAW64, BR28,...</td>\n      <td>[15:55:00, 16:15:00, 13:17:00, 10:48:00, 11:26...</td>\n    </tr>\n    <tr>\n      <th>2005-01-31</th>\n      <td>[GARBAGE COLLECTIONS, BRUSH, GARBAGE COLLECTIO...</td>\n      <td>6627016.0</td>\n      <td>[TDS LANDFILL, HORNSBY BEND, TDS LANDFILL, STE...</td>\n      <td>[GARBAGE COLLECTION, BRUSH, GARBAGE COLLECTION...</td>\n      <td>[PAM74, BR09, PAT74, BU10, RW15, RW02, YW08, R...</td>\n      <td>[13:51:00, 10:35:00, 10:31:00, 12:54:00, 13:25...</td>\n    </tr>\n    <tr>\n      <th>...</th>\n      <td>...</td>\n      <td>...</td>\n      <td>...</td>\n      <td>...</td>\n      <td>...</td>\n      <td>...</td>\n    </tr>\n    <tr>\n      <th>2021-06-21</th>\n      <td>[BULK, BRUSH, GARBAGE COLLECTIONS, ORGANICS, R...</td>\n      <td>10442680.0</td>\n      <td>[TDS LANDFILL, HORNSBY BEND, TDS LANDFILL, ORG...</td>\n      <td>[BULK, BRUSH, GARBAGE COLLECTION, YARD TRIMMIN...</td>\n      <td>[BU16, BR06, PF41, OM30, RMAU52, RMAU51, PAM72...</td>\n      <td>[13:35:00, 15:16:00, 12:50:00, 17:30:00, 11:14...</td>\n    </tr>\n    <tr>\n      <th>2021-06-28</th>\n      <td>[RECYCLING - SINGLE STREAM, GARBAGE COLLECTION...</td>\n      <td>10174590.0</td>\n      <td>[TDS - MRF, TDS LANDFILL, TDS LANDFILL, TDS LA...</td>\n      <td>[RECYCLING - SINGLE STREAM, GARBAGE COLLECTION...</td>\n      <td>[RMBU52, PAM74, PAM75, PAM74, PAM73, OCPBU23, ...</td>\n      <td>[10:00:00, 18:00:00, 18:00:00, 13:30:00, 13:45...</td>\n    </tr>\n    <tr>\n      <th>2021-07-05</th>\n      <td>[GARBAGE COLLECTIONS, GARBAGE COLLECTIONS, GAR...</td>\n      <td>7595100.0</td>\n      <td>[TDS LANDFILL, TDS LANDFILL, TDS LANDFILL, TDS...</td>\n      <td>[GARBAGE COLLECTION, GARBAGE COLLECTION, GARBA...</td>\n      <td>[PAF02, PAM06, PAM79, VB-01, OM17, OM31, PAM02...</td>\n      <td>[12:36:00, 03:57:00, 14:00:00, 13:09:00, 14:26...</td>\n    </tr>\n    <tr>\n      <th>2021-12-06</th>\n      <td>[ORGANICS]</td>\n      <td>1340.0</td>\n      <td>[ORGANICS BY GOSH]</td>\n      <td>[YARD TRIMMINGS-ORGANICS]</td>\n      <td>[OBT99]</td>\n      <td>[00:00:00]</td>\n    </tr>\n    <tr>\n      <th>2021-12-20</th>\n      <td>[RECYCLING - SINGLE STREAM]</td>\n      <td>6940.0</td>\n      <td>[TDS LANDFILL]</td>\n      <td>[RECYCLING - SINGLE STREAM]</td>\n      <td>[RMAU21]</td>\n      <td>[12:41:00]</td>\n    </tr>\n  </tbody>\n</table>\n<p>864 rows × 6 columns</p>\n</div>\n      <button class=\"colab-df-convert\" onclick=\"convertToInteractive('df-19f21d97-7f71-4eaf-828b-5b5fed747157')\"\n              title=\"Convert this dataframe to an interactive table.\"\n              style=\"display:none;\">\n        \n  <svg xmlns=\"http://www.w3.org/2000/svg\" height=\"24px\"viewBox=\"0 0 24 24\"\n       width=\"24px\">\n    <path d=\"M0 0h24v24H0V0z\" fill=\"none\"/>\n    <path d=\"M18.56 5.44l.94 2.06.94-2.06 2.06-.94-2.06-.94-.94-2.06-.94 2.06-2.06.94zm-11 1L8.5 8.5l.94-2.06 2.06-.94-2.06-.94L8.5 2.5l-.94 2.06-2.06.94zm10 10l.94 2.06.94-2.06 2.06-.94-2.06-.94-.94-2.06-.94 2.06-2.06.94z\"/><path d=\"M17.41 7.96l-1.37-1.37c-.4-.4-.92-.59-1.43-.59-.52 0-1.04.2-1.43.59L10.3 9.45l-7.72 7.72c-.78.78-.78 2.05 0 2.83L4 21.41c.39.39.9.59 1.41.59.51 0 1.02-.2 1.41-.59l7.78-7.78 2.81-2.81c.8-.78.8-2.07 0-2.86zM5.41 20L4 18.59l7.72-7.72 1.47 1.35L5.41 20z\"/>\n  </svg>\n      </button>\n      \n  <style>\n    .colab-df-container {\n      display:flex;\n      flex-wrap:wrap;\n      gap: 12px;\n    }\n\n    .colab-df-convert {\n      background-color: #E8F0FE;\n      border: none;\n      border-radius: 50%;\n      cursor: pointer;\n      display: none;\n      fill: #1967D2;\n      height: 32px;\n      padding: 0 0 0 0;\n      width: 32px;\n    }\n\n    .colab-df-convert:hover {\n      background-color: #E2EBFA;\n      box-shadow: 0px 1px 2px rgba(60, 64, 67, 0.3), 0px 1px 3px 1px rgba(60, 64, 67, 0.15);\n      fill: #174EA6;\n    }\n\n    [theme=dark] .colab-df-convert {\n      background-color: #3B4455;\n      fill: #D2E3FC;\n    }\n\n    [theme=dark] .colab-df-convert:hover {\n      background-color: #434B5C;\n      box-shadow: 0px 1px 3px 1px rgba(0, 0, 0, 0.15);\n      filter: drop-shadow(0px 1px 2px rgba(0, 0, 0, 0.3));\n      fill: #FFFFFF;\n    }\n  </style>\n\n      <script>\n        const buttonEl =\n          document.querySelector('#df-19f21d97-7f71-4eaf-828b-5b5fed747157 button.colab-df-convert');\n        buttonEl.style.display =\n          google.colab.kernel.accessAllowed ? 'block' : 'none';\n\n        async function convertToInteractive(key) {\n          const element = document.querySelector('#df-19f21d97-7f71-4eaf-828b-5b5fed747157');\n          const dataTable =\n            await google.colab.kernel.invokeFunction('convertToInteractive',\n                                                     [key], {});\n          if (!dataTable) return;\n\n          const docLinkHtml = 'Like what you see? Visit the ' +\n            '<a target=\"_blank\" href=https://colab.research.google.com/notebooks/data_table.ipynb>data table notebook</a>'\n            + ' to learn more about interactive tables.';\n          element.innerHTML = '';\n          dataTable['output_type'] = 'display_data';\n          await google.colab.output.renderOutput(dataTable, element);\n          const docLink = document.createElement('div');\n          docLink.innerHTML = docLinkHtml;\n          element.appendChild(docLink);\n        }\n      </script>\n    </div>\n  </div>\n  "
     },
     "metadata": {},
     "execution_count": 110
    }
   ]
  },
  {
   "cell_type": "code",
   "metadata": {
    "id": "uKuCXicCIOty",
    "cell_id": "00055-176a1315-46eb-4877-97dc-799785a3528c",
    "deepnote_cell_type": "code",
    "deepnote_cell_height": 102
   },
   "source": "df_years = df_by_week.reset_index()\ndf_years['Dates'] = pd.to_datetime(df_years['Dates'])\ndf_years['year'] = df_years['Dates'].dt.year",
   "execution_count": null,
   "outputs": []
  },
  {
   "cell_type": "code",
   "metadata": {
    "id": "Z2hm5mhtkBdS",
    "colab": {
     "base_uri": "https://localhost:8080/"
    },
    "outputId": "1bfdc3ba-8b0c-40a9-daf8-b54973f3ae71",
    "cell_id": "00056-039e9aed-aa62-42c9-8be5-5dd0c89a9118",
    "deepnote_cell_type": "code",
    "deepnote_cell_height": 444.375
   },
   "source": "df_years.year.value_counts()",
   "execution_count": null,
   "outputs": [
    {
     "output_type": "execute_result",
     "data": {
      "text/plain": "2007    53\n2018    53\n2012    53\n2005    52\n2015    52\n2020    52\n2019    52\n2017    52\n2016    52\n2013    52\n2014    52\n2006    52\n2011    52\n2010    52\n2009    52\n2008    52\n2021    29\nName: year, dtype: int64"
     },
     "metadata": {},
     "execution_count": 112
    }
   ]
  },
  {
   "cell_type": "markdown",
   "source": "### Pre-covid Data\n\n- 2005 to 2019",
   "metadata": {
    "id": "32ZxO651d9oL",
    "cell_id": "00057-428ad85d-778d-4d36-abee-e5e06a80f12a",
    "deepnote_cell_type": "markdown",
    "deepnote_cell_height": 114.390625
   }
  },
  {
   "cell_type": "code",
   "metadata": {
    "id": "_Rk7uHy_PPxL",
    "colab": {
     "base_uri": "https://localhost:8080/",
     "height": 375
    },
    "outputId": "e14392d4-522c-44ae-c074-b7dce4ed3988",
    "cell_id": "00058-cc5a8366-b9f7-4cf9-b135-d405571fed2b",
    "deepnote_cell_type": "code",
    "deepnote_cell_height": 281
   },
   "source": "df_pre_covid = df_years.copy()\ndf_pre_covid = df_pre_covid[ ( df_pre_covid['year'] >= 2005) & ( df_pre_covid['year'] <= 2019) ]\ndf_pre_covid.sample(4)",
   "execution_count": null,
   "outputs": [
    {
     "output_type": "execute_result",
     "data": {
      "text/plain": "         Dates                                          Load Type  \\\n412 2012-11-26  [GARBAGE COLLECTIONS, GARBAGE COLLECTIONS, REC...   \n355 2011-10-24  [RECYCLING - SINGLE STREAM, BRUSH, BULK, BRUSH...   \n20  2005-05-23  [SWEEPING, RECYCLING - COMINGLE, RECYCLING - C...   \n30  2005-08-01  [YARD TRIMMING, RECYCLING - COMINGLE, BULK, RE...   \n\n     Load Weight                                       Dropoff Site  \\\n412    9028827.0  [TDS LANDFILL, TDS LANDFILL, TDS - MRF, TDS LA...   \n355    8062807.0  [TDS - MRF, HORNSBY BEND, TDS LANDFILL, HORNSB...   \n20     7476438.0  [STEINER LANDFILL, MRF, MRF, HORNSBY BEND, TDS...   \n30     7622697.0  [HORNSBY BEND, MRF, TDS LANDFILL, MRF, MRF, HO...   \n\n                                            Route Type  \\\n412  [GARBAGE COLLECTION, GARBAGE COLLECTION, RECYC...   \n355  [RECYCLING - SINGLE STREAM, BRUSH, BULK, BRUSH...   \n20   [SWEEPER DUMPSITES, RECYCLING, RECYCLING, YARD...   \n30   [YARD TRIMMINGS, RECYCLING, BULK, RECYCLING, R...   \n\n                                          Route Number  \\\n412  [PF30, PAF01, RMBU21, BU20, PAW86, PAH10, BR15...   \n355  [RHAU14, BR08, BU09, BR08, PAM80, KAB07, RTAU1...   \n20   [DSN01, RM25, RM06, YF02, PH10, PAH63, BR23, R...   \n30   [YH06, RM32, BU31, RH05, RW25, YM02, PF12, RT2...   \n\n                                                  Time  year  \n412  [14:30:00, 13:30:00, 14:16:00, 11:37:00, 00:00...  2012  \n355  [15:18:00, 12:02:00, 13:22:00, 09:30:00, 13:23...  2011  \n20   [12:33:00, 16:01:00, 13:24:00, 14:30:00, 13:00...  2005  \n30   [13:13:00, 13:35:00, 11:21:00, 14:01:00, 12:32...  2005  ",
      "text/html": "\n  <div id=\"df-b5e370c9-591f-46a6-b315-9cc24a907868\">\n    <div class=\"colab-df-container\">\n      <div>\n<style scoped>\n    .dataframe tbody tr th:only-of-type {\n        vertical-align: middle;\n    }\n\n    .dataframe tbody tr th {\n        vertical-align: top;\n    }\n\n    .dataframe thead th {\n        text-align: right;\n    }\n</style>\n<table border=\"1\" class=\"dataframe\">\n  <thead>\n    <tr style=\"text-align: right;\">\n      <th></th>\n      <th>Dates</th>\n      <th>Load Type</th>\n      <th>Load Weight</th>\n      <th>Dropoff Site</th>\n      <th>Route Type</th>\n      <th>Route Number</th>\n      <th>Time</th>\n      <th>year</th>\n    </tr>\n  </thead>\n  <tbody>\n    <tr>\n      <th>412</th>\n      <td>2012-11-26</td>\n      <td>[GARBAGE COLLECTIONS, GARBAGE COLLECTIONS, REC...</td>\n      <td>9028827.0</td>\n      <td>[TDS LANDFILL, TDS LANDFILL, TDS - MRF, TDS LA...</td>\n      <td>[GARBAGE COLLECTION, GARBAGE COLLECTION, RECYC...</td>\n      <td>[PF30, PAF01, RMBU21, BU20, PAW86, PAH10, BR15...</td>\n      <td>[14:30:00, 13:30:00, 14:16:00, 11:37:00, 00:00...</td>\n      <td>2012</td>\n    </tr>\n    <tr>\n      <th>355</th>\n      <td>2011-10-24</td>\n      <td>[RECYCLING - SINGLE STREAM, BRUSH, BULK, BRUSH...</td>\n      <td>8062807.0</td>\n      <td>[TDS - MRF, HORNSBY BEND, TDS LANDFILL, HORNSB...</td>\n      <td>[RECYCLING - SINGLE STREAM, BRUSH, BULK, BRUSH...</td>\n      <td>[RHAU14, BR08, BU09, BR08, PAM80, KAB07, RTAU1...</td>\n      <td>[15:18:00, 12:02:00, 13:22:00, 09:30:00, 13:23...</td>\n      <td>2011</td>\n    </tr>\n    <tr>\n      <th>20</th>\n      <td>2005-05-23</td>\n      <td>[SWEEPING, RECYCLING - COMINGLE, RECYCLING - C...</td>\n      <td>7476438.0</td>\n      <td>[STEINER LANDFILL, MRF, MRF, HORNSBY BEND, TDS...</td>\n      <td>[SWEEPER DUMPSITES, RECYCLING, RECYCLING, YARD...</td>\n      <td>[DSN01, RM25, RM06, YF02, PH10, PAH63, BR23, R...</td>\n      <td>[12:33:00, 16:01:00, 13:24:00, 14:30:00, 13:00...</td>\n      <td>2005</td>\n    </tr>\n    <tr>\n      <th>30</th>\n      <td>2005-08-01</td>\n      <td>[YARD TRIMMING, RECYCLING - COMINGLE, BULK, RE...</td>\n      <td>7622697.0</td>\n      <td>[HORNSBY BEND, MRF, TDS LANDFILL, MRF, MRF, HO...</td>\n      <td>[YARD TRIMMINGS, RECYCLING, BULK, RECYCLING, R...</td>\n      <td>[YH06, RM32, BU31, RH05, RW25, YM02, PF12, RT2...</td>\n      <td>[13:13:00, 13:35:00, 11:21:00, 14:01:00, 12:32...</td>\n      <td>2005</td>\n    </tr>\n  </tbody>\n</table>\n</div>\n      <button class=\"colab-df-convert\" onclick=\"convertToInteractive('df-b5e370c9-591f-46a6-b315-9cc24a907868')\"\n              title=\"Convert this dataframe to an interactive table.\"\n              style=\"display:none;\">\n        \n  <svg xmlns=\"http://www.w3.org/2000/svg\" height=\"24px\"viewBox=\"0 0 24 24\"\n       width=\"24px\">\n    <path d=\"M0 0h24v24H0V0z\" fill=\"none\"/>\n    <path d=\"M18.56 5.44l.94 2.06.94-2.06 2.06-.94-2.06-.94-.94-2.06-.94 2.06-2.06.94zm-11 1L8.5 8.5l.94-2.06 2.06-.94-2.06-.94L8.5 2.5l-.94 2.06-2.06.94zm10 10l.94 2.06.94-2.06 2.06-.94-2.06-.94-.94-2.06-.94 2.06-2.06.94z\"/><path d=\"M17.41 7.96l-1.37-1.37c-.4-.4-.92-.59-1.43-.59-.52 0-1.04.2-1.43.59L10.3 9.45l-7.72 7.72c-.78.78-.78 2.05 0 2.83L4 21.41c.39.39.9.59 1.41.59.51 0 1.02-.2 1.41-.59l7.78-7.78 2.81-2.81c.8-.78.8-2.07 0-2.86zM5.41 20L4 18.59l7.72-7.72 1.47 1.35L5.41 20z\"/>\n  </svg>\n      </button>\n      \n  <style>\n    .colab-df-container {\n      display:flex;\n      flex-wrap:wrap;\n      gap: 12px;\n    }\n\n    .colab-df-convert {\n      background-color: #E8F0FE;\n      border: none;\n      border-radius: 50%;\n      cursor: pointer;\n      display: none;\n      fill: #1967D2;\n      height: 32px;\n      padding: 0 0 0 0;\n      width: 32px;\n    }\n\n    .colab-df-convert:hover {\n      background-color: #E2EBFA;\n      box-shadow: 0px 1px 2px rgba(60, 64, 67, 0.3), 0px 1px 3px 1px rgba(60, 64, 67, 0.15);\n      fill: #174EA6;\n    }\n\n    [theme=dark] .colab-df-convert {\n      background-color: #3B4455;\n      fill: #D2E3FC;\n    }\n\n    [theme=dark] .colab-df-convert:hover {\n      background-color: #434B5C;\n      box-shadow: 0px 1px 3px 1px rgba(0, 0, 0, 0.15);\n      filter: drop-shadow(0px 1px 2px rgba(0, 0, 0, 0.3));\n      fill: #FFFFFF;\n    }\n  </style>\n\n      <script>\n        const buttonEl =\n          document.querySelector('#df-b5e370c9-591f-46a6-b315-9cc24a907868 button.colab-df-convert');\n        buttonEl.style.display =\n          google.colab.kernel.accessAllowed ? 'block' : 'none';\n\n        async function convertToInteractive(key) {\n          const element = document.querySelector('#df-b5e370c9-591f-46a6-b315-9cc24a907868');\n          const dataTable =\n            await google.colab.kernel.invokeFunction('convertToInteractive',\n                                                     [key], {});\n          if (!dataTable) return;\n\n          const docLinkHtml = 'Like what you see? Visit the ' +\n            '<a target=\"_blank\" href=https://colab.research.google.com/notebooks/data_table.ipynb>data table notebook</a>'\n            + ' to learn more about interactive tables.';\n          element.innerHTML = '';\n          dataTable['output_type'] = 'display_data';\n          await google.colab.output.renderOutput(dataTable, element);\n          const docLink = document.createElement('div');\n          docLink.innerHTML = docLinkHtml;\n          element.appendChild(docLink);\n        }\n      </script>\n    </div>\n  </div>\n  "
     },
     "metadata": {},
     "execution_count": 113
    }
   ]
  },
  {
   "cell_type": "code",
   "metadata": {
    "colab": {
     "base_uri": "https://localhost:8080/"
    },
    "id": "8PoodiHBgVNt",
    "outputId": "9f7e603c-eef5-40ad-ae41-39d4bb99e170",
    "cell_id": "00059-46faa23d-97ed-4e33-a986-c34a512d4538",
    "deepnote_cell_type": "code",
    "deepnote_cell_height": 154.1875
   },
   "source": "all_dates_pre = pd.date_range(\n  start=\"2005-01-01\", end=\"2019-12-31\", freq = \"W-MON\")\nall_dates_pre.difference(df_pre_covid['Dates'])",
   "execution_count": null,
   "outputs": [
    {
     "output_type": "execute_result",
     "data": {
      "text/plain": "DatetimeIndex([], dtype='datetime64[ns]', freq='W-MON')"
     },
     "metadata": {},
     "execution_count": 114
    }
   ]
  },
  {
   "cell_type": "markdown",
   "source": "### Covid Data",
   "metadata": {
    "id": "A17HQ4GPfkIc",
    "cell_id": "00060-0cb2118d-b763-4591-837f-342c2a06ad66",
    "deepnote_cell_type": "markdown",
    "deepnote_cell_height": 62
   }
  },
  {
   "cell_type": "code",
   "metadata": {
    "colab": {
     "base_uri": "https://localhost:8080/",
     "height": 375
    },
    "id": "CO7yjwX0fLAO",
    "outputId": "5f62a788-05a2-424c-ea0a-953ed506ffe4",
    "cell_id": "00061-30331d6e-78a6-41d4-bd41-8e9bffe582d4",
    "deepnote_cell_type": "code",
    "deepnote_cell_height": 281
   },
   "source": "df_covid = df_years.copy()\ndf_covid = df_covid[( df_covid['year'] == 2020)]\ndf_covid.sample(4)",
   "execution_count": null,
   "outputs": [
    {
     "output_type": "execute_result",
     "data": {
      "text/plain": "         Dates                                          Load Type  \\\n788 2020-02-10  [SWEEPING, GARBAGE COLLECTIONS, GARBAGE COLLEC...   \n819 2020-09-14  [ORGANICS, GARBAGE COLLECTIONS, ORGANICS, RECY...   \n815 2020-08-17  [GARBAGE COLLECTIONS, GARBAGE COLLECTIONS, REC...   \n786 2020-01-27  [GARBAGE COLLECTIONS, RECYCLING - SINGLE STREA...   \n\n     Load Weight                                       Dropoff Site  \\\n788    8701132.0  [TDS LANDFILL, TDS LANDFILL, TDS LANDFILL, ORG...   \n819    9726130.0  [ORGANICS BY GOSH, TDS LANDFILL, ORGANICS BY G...   \n815    8734600.0  [TDS LANDFILL, TDS LANDFILL, BALCONES RECYCLIN...   \n786    9446000.0  [TDS LANDFILL, TDS - MRF, BALCONES RECYCLING, ...   \n\n                                            Route Type  \\\n788  [SWEEPER DUMPSITES, GARBAGE COLLECTION, GARBAG...   \n819  [YARD TRIMMINGS-ORGANICS, GARBAGE COLLECTION, ...   \n815  [GARBAGE COLLECTION, GARBAGE COLLECTION, RECYC...   \n786  [GARBAGE COLLECTION, RECYCLING - SINGLE STREAM...   \n\n                                          Route Number  \\\n788  [DSS04, PAF10, PAW53, OH-23, DA02, RMBS34, OF2...   \n819  [OT11, PH39, OW6, RTAU12, OT23, BR1000, PAM69,...   \n815  [PAM60, PAH03, RWAU52, RFAU12, PAF52, RMBU51, ...   \n786  [PM32, RMBU23, RHBU11, PM41, RMBS34, PF32, PAH...   \n\n                                                  Time  year  \n788  [12:57:00, 09:06:00, 09:20:00, 13:29:00, 14:18...  2020  \n819  [14:21:00, 13:15:00, 14:41:00, 10:46:00, 13:06...  2020  \n815  [10:34:00, 11:14:00, 10:00:00, 14:38:00, 15:03...  2020  \n786  [13:15:00, 16:33:00, 15:43:00, 12:53:00, 13:10...  2020  ",
      "text/html": "\n  <div id=\"df-957f9610-60ac-4a6d-ab77-3767c912c4c6\">\n    <div class=\"colab-df-container\">\n      <div>\n<style scoped>\n    .dataframe tbody tr th:only-of-type {\n        vertical-align: middle;\n    }\n\n    .dataframe tbody tr th {\n        vertical-align: top;\n    }\n\n    .dataframe thead th {\n        text-align: right;\n    }\n</style>\n<table border=\"1\" class=\"dataframe\">\n  <thead>\n    <tr style=\"text-align: right;\">\n      <th></th>\n      <th>Dates</th>\n      <th>Load Type</th>\n      <th>Load Weight</th>\n      <th>Dropoff Site</th>\n      <th>Route Type</th>\n      <th>Route Number</th>\n      <th>Time</th>\n      <th>year</th>\n    </tr>\n  </thead>\n  <tbody>\n    <tr>\n      <th>788</th>\n      <td>2020-02-10</td>\n      <td>[SWEEPING, GARBAGE COLLECTIONS, GARBAGE COLLEC...</td>\n      <td>8701132.0</td>\n      <td>[TDS LANDFILL, TDS LANDFILL, TDS LANDFILL, ORG...</td>\n      <td>[SWEEPER DUMPSITES, GARBAGE COLLECTION, GARBAG...</td>\n      <td>[DSS04, PAF10, PAW53, OH-23, DA02, RMBS34, OF2...</td>\n      <td>[12:57:00, 09:06:00, 09:20:00, 13:29:00, 14:18...</td>\n      <td>2020</td>\n    </tr>\n    <tr>\n      <th>819</th>\n      <td>2020-09-14</td>\n      <td>[ORGANICS, GARBAGE COLLECTIONS, ORGANICS, RECY...</td>\n      <td>9726130.0</td>\n      <td>[ORGANICS BY GOSH, TDS LANDFILL, ORGANICS BY G...</td>\n      <td>[YARD TRIMMINGS-ORGANICS, GARBAGE COLLECTION, ...</td>\n      <td>[OT11, PH39, OW6, RTAU12, OT23, BR1000, PAM69,...</td>\n      <td>[14:21:00, 13:15:00, 14:41:00, 10:46:00, 13:06...</td>\n      <td>2020</td>\n    </tr>\n    <tr>\n      <th>815</th>\n      <td>2020-08-17</td>\n      <td>[GARBAGE COLLECTIONS, GARBAGE COLLECTIONS, REC...</td>\n      <td>8734600.0</td>\n      <td>[TDS LANDFILL, TDS LANDFILL, BALCONES RECYCLIN...</td>\n      <td>[GARBAGE COLLECTION, GARBAGE COLLECTION, RECYC...</td>\n      <td>[PAM60, PAH03, RWAU52, RFAU12, PAF52, RMBU51, ...</td>\n      <td>[10:34:00, 11:14:00, 10:00:00, 14:38:00, 15:03...</td>\n      <td>2020</td>\n    </tr>\n    <tr>\n      <th>786</th>\n      <td>2020-01-27</td>\n      <td>[GARBAGE COLLECTIONS, RECYCLING - SINGLE STREA...</td>\n      <td>9446000.0</td>\n      <td>[TDS LANDFILL, TDS - MRF, BALCONES RECYCLING, ...</td>\n      <td>[GARBAGE COLLECTION, RECYCLING - SINGLE STREAM...</td>\n      <td>[PM32, RMBU23, RHBU11, PM41, RMBS34, PF32, PAH...</td>\n      <td>[13:15:00, 16:33:00, 15:43:00, 12:53:00, 13:10...</td>\n      <td>2020</td>\n    </tr>\n  </tbody>\n</table>\n</div>\n      <button class=\"colab-df-convert\" onclick=\"convertToInteractive('df-957f9610-60ac-4a6d-ab77-3767c912c4c6')\"\n              title=\"Convert this dataframe to an interactive table.\"\n              style=\"display:none;\">\n        \n  <svg xmlns=\"http://www.w3.org/2000/svg\" height=\"24px\"viewBox=\"0 0 24 24\"\n       width=\"24px\">\n    <path d=\"M0 0h24v24H0V0z\" fill=\"none\"/>\n    <path d=\"M18.56 5.44l.94 2.06.94-2.06 2.06-.94-2.06-.94-.94-2.06-.94 2.06-2.06.94zm-11 1L8.5 8.5l.94-2.06 2.06-.94-2.06-.94L8.5 2.5l-.94 2.06-2.06.94zm10 10l.94 2.06.94-2.06 2.06-.94-2.06-.94-.94-2.06-.94 2.06-2.06.94z\"/><path d=\"M17.41 7.96l-1.37-1.37c-.4-.4-.92-.59-1.43-.59-.52 0-1.04.2-1.43.59L10.3 9.45l-7.72 7.72c-.78.78-.78 2.05 0 2.83L4 21.41c.39.39.9.59 1.41.59.51 0 1.02-.2 1.41-.59l7.78-7.78 2.81-2.81c.8-.78.8-2.07 0-2.86zM5.41 20L4 18.59l7.72-7.72 1.47 1.35L5.41 20z\"/>\n  </svg>\n      </button>\n      \n  <style>\n    .colab-df-container {\n      display:flex;\n      flex-wrap:wrap;\n      gap: 12px;\n    }\n\n    .colab-df-convert {\n      background-color: #E8F0FE;\n      border: none;\n      border-radius: 50%;\n      cursor: pointer;\n      display: none;\n      fill: #1967D2;\n      height: 32px;\n      padding: 0 0 0 0;\n      width: 32px;\n    }\n\n    .colab-df-convert:hover {\n      background-color: #E2EBFA;\n      box-shadow: 0px 1px 2px rgba(60, 64, 67, 0.3), 0px 1px 3px 1px rgba(60, 64, 67, 0.15);\n      fill: #174EA6;\n    }\n\n    [theme=dark] .colab-df-convert {\n      background-color: #3B4455;\n      fill: #D2E3FC;\n    }\n\n    [theme=dark] .colab-df-convert:hover {\n      background-color: #434B5C;\n      box-shadow: 0px 1px 3px 1px rgba(0, 0, 0, 0.15);\n      filter: drop-shadow(0px 1px 2px rgba(0, 0, 0, 0.3));\n      fill: #FFFFFF;\n    }\n  </style>\n\n      <script>\n        const buttonEl =\n          document.querySelector('#df-957f9610-60ac-4a6d-ab77-3767c912c4c6 button.colab-df-convert');\n        buttonEl.style.display =\n          google.colab.kernel.accessAllowed ? 'block' : 'none';\n\n        async function convertToInteractive(key) {\n          const element = document.querySelector('#df-957f9610-60ac-4a6d-ab77-3767c912c4c6');\n          const dataTable =\n            await google.colab.kernel.invokeFunction('convertToInteractive',\n                                                     [key], {});\n          if (!dataTable) return;\n\n          const docLinkHtml = 'Like what you see? Visit the ' +\n            '<a target=\"_blank\" href=https://colab.research.google.com/notebooks/data_table.ipynb>data table notebook</a>'\n            + ' to learn more about interactive tables.';\n          element.innerHTML = '';\n          dataTable['output_type'] = 'display_data';\n          await google.colab.output.renderOutput(dataTable, element);\n          const docLink = document.createElement('div');\n          docLink.innerHTML = docLinkHtml;\n          element.appendChild(docLink);\n        }\n      </script>\n    </div>\n  </div>\n  "
     },
     "metadata": {},
     "execution_count": 115
    }
   ]
  },
  {
   "cell_type": "code",
   "metadata": {
    "colab": {
     "base_uri": "https://localhost:8080/"
    },
    "id": "u8bJBzV8gpwE",
    "outputId": "d297b345-1667-4b0d-cbfa-e20b31c10ae3",
    "cell_id": "00062-37bd97d7-c10e-4b6b-bcae-5af50db6e6db",
    "deepnote_cell_type": "code",
    "deepnote_cell_height": 154.1875
   },
   "source": "all_dates_covid = pd.date_range(\n  start=\"2020-01-01\", end=\"2020-12-31\", freq = \"W-MON\")\nall_dates_covid.difference(df_covid['Dates'])",
   "execution_count": null,
   "outputs": [
    {
     "output_type": "execute_result",
     "data": {
      "text/plain": "DatetimeIndex([], dtype='datetime64[ns]', freq='W-MON')"
     },
     "metadata": {},
     "execution_count": 116
    }
   ]
  },
  {
   "cell_type": "markdown",
   "source": "### Post Covid Data",
   "metadata": {
    "id": "fPNqZSHvgB8j",
    "cell_id": "00063-c975c1c5-27dc-4455-bfb1-16528cc82c51",
    "deepnote_cell_type": "markdown",
    "deepnote_cell_height": 62
   }
  },
  {
   "cell_type": "code",
   "metadata": {
    "colab": {
     "base_uri": "https://localhost:8080/",
     "height": 357
    },
    "id": "HUOJgwMBgBlq",
    "outputId": "06c1b7de-1f5d-4a81-f7d1-d3bdd8d89613",
    "cell_id": "00064-4e2618b3-d774-48c0-9f1a-c738c44c7a58",
    "deepnote_cell_type": "code",
    "deepnote_cell_height": 281
   },
   "source": "df_post_covid = df_years.copy()\ndf_post_covid = df_post_covid[( df_post_covid['year'] == 2021)]\ndf_post_covid.sample(4)",
   "execution_count": null,
   "outputs": [
    {
     "output_type": "execute_result",
     "data": {
      "text/plain": "         Dates                                          Load Type  \\\n860 2021-06-28  [RECYCLING - SINGLE STREAM, GARBAGE COLLECTION...   \n857 2021-06-07  [BULK, RECYCLED METAL, BRUSH, BRUSH, ORGANICS,...   \n858 2021-06-14  [BRUSH, GARBAGE COLLECTIONS, ORGANICS, GARBAGE...   \n848 2021-04-05  [BRUSH, BRUSH, GARBAGE COLLECTIONS, MIXED LITT...   \n\n      Load Weight                                       Dropoff Site  \\\n860  1.017459e+07  [TDS - MRF, TDS LANDFILL, TDS LANDFILL, TDS LA...   \n857  1.203228e+07  [TDS LANDFILL, AUSTIN IRON AND METAL, HORNSBY ...   \n858  1.095334e+07  [HORNSBY BEND, TDS LANDFILL, ORGANICS BY GOSH,...   \n848  1.096761e+07  [HORNSBY BEND, HORNSBY BEND, TDS LANDFILL, TDS...   \n\n                                            Route Type  \\\n860  [RECYCLING - SINGLE STREAM, GARBAGE COLLECTION...   \n857  [ON CALL BULK, ON CALL BULK, BRUSH, BRUSH, DEA...   \n858  [BRUSH, GARBAGE COLLECTION, YARD TRIMMINGS-ORG...   \n848  [BRUSH, BRUSH, GARBAGE COLLECTION, LITTER CONT...   \n\n                                          Route Number  \\\n860  [RMBU52, PAM74, PAM75, PAM74, PAM73, OCPBU23, ...   \n857  [OCPBU09, OCPBU23, BR24, BR24, DA02, RMAU52, R...   \n858  [BR14, PAM01, OT5, PAM01, OCPBU23, BR14, BR14,...   \n848  [BR03, BR03, PW41, VB-01, OCPBU09, BR03, PAF60...   \n\n                                                  Time  year  \n860  [10:00:00, 18:00:00, 18:00:00, 13:30:00, 13:45...  2021  \n857  [15:47:00, 11:09:00, 16:15:00, 16:07:00, 14:30...  2021  \n858  [15:23:00, 04:11:00, 08:44:00, 11:17:00, 11:36...  2021  \n848  [16:14:00, 09:44:00, 11:55:00, 07:23:00, 15:07...  2021  ",
      "text/html": "\n  <div id=\"df-63892600-321e-43a9-ac86-3799345a54a0\">\n    <div class=\"colab-df-container\">\n      <div>\n<style scoped>\n    .dataframe tbody tr th:only-of-type {\n        vertical-align: middle;\n    }\n\n    .dataframe tbody tr th {\n        vertical-align: top;\n    }\n\n    .dataframe thead th {\n        text-align: right;\n    }\n</style>\n<table border=\"1\" class=\"dataframe\">\n  <thead>\n    <tr style=\"text-align: right;\">\n      <th></th>\n      <th>Dates</th>\n      <th>Load Type</th>\n      <th>Load Weight</th>\n      <th>Dropoff Site</th>\n      <th>Route Type</th>\n      <th>Route Number</th>\n      <th>Time</th>\n      <th>year</th>\n    </tr>\n  </thead>\n  <tbody>\n    <tr>\n      <th>860</th>\n      <td>2021-06-28</td>\n      <td>[RECYCLING - SINGLE STREAM, GARBAGE COLLECTION...</td>\n      <td>1.017459e+07</td>\n      <td>[TDS - MRF, TDS LANDFILL, TDS LANDFILL, TDS LA...</td>\n      <td>[RECYCLING - SINGLE STREAM, GARBAGE COLLECTION...</td>\n      <td>[RMBU52, PAM74, PAM75, PAM74, PAM73, OCPBU23, ...</td>\n      <td>[10:00:00, 18:00:00, 18:00:00, 13:30:00, 13:45...</td>\n      <td>2021</td>\n    </tr>\n    <tr>\n      <th>857</th>\n      <td>2021-06-07</td>\n      <td>[BULK, RECYCLED METAL, BRUSH, BRUSH, ORGANICS,...</td>\n      <td>1.203228e+07</td>\n      <td>[TDS LANDFILL, AUSTIN IRON AND METAL, HORNSBY ...</td>\n      <td>[ON CALL BULK, ON CALL BULK, BRUSH, BRUSH, DEA...</td>\n      <td>[OCPBU09, OCPBU23, BR24, BR24, DA02, RMAU52, R...</td>\n      <td>[15:47:00, 11:09:00, 16:15:00, 16:07:00, 14:30...</td>\n      <td>2021</td>\n    </tr>\n    <tr>\n      <th>858</th>\n      <td>2021-06-14</td>\n      <td>[BRUSH, GARBAGE COLLECTIONS, ORGANICS, GARBAGE...</td>\n      <td>1.095334e+07</td>\n      <td>[HORNSBY BEND, TDS LANDFILL, ORGANICS BY GOSH,...</td>\n      <td>[BRUSH, GARBAGE COLLECTION, YARD TRIMMINGS-ORG...</td>\n      <td>[BR14, PAM01, OT5, PAM01, OCPBU23, BR14, BR14,...</td>\n      <td>[15:23:00, 04:11:00, 08:44:00, 11:17:00, 11:36...</td>\n      <td>2021</td>\n    </tr>\n    <tr>\n      <th>848</th>\n      <td>2021-04-05</td>\n      <td>[BRUSH, BRUSH, GARBAGE COLLECTIONS, MIXED LITT...</td>\n      <td>1.096761e+07</td>\n      <td>[HORNSBY BEND, HORNSBY BEND, TDS LANDFILL, TDS...</td>\n      <td>[BRUSH, BRUSH, GARBAGE COLLECTION, LITTER CONT...</td>\n      <td>[BR03, BR03, PW41, VB-01, OCPBU09, BR03, PAF60...</td>\n      <td>[16:14:00, 09:44:00, 11:55:00, 07:23:00, 15:07...</td>\n      <td>2021</td>\n    </tr>\n  </tbody>\n</table>\n</div>\n      <button class=\"colab-df-convert\" onclick=\"convertToInteractive('df-63892600-321e-43a9-ac86-3799345a54a0')\"\n              title=\"Convert this dataframe to an interactive table.\"\n              style=\"display:none;\">\n        \n  <svg xmlns=\"http://www.w3.org/2000/svg\" height=\"24px\"viewBox=\"0 0 24 24\"\n       width=\"24px\">\n    <path d=\"M0 0h24v24H0V0z\" fill=\"none\"/>\n    <path d=\"M18.56 5.44l.94 2.06.94-2.06 2.06-.94-2.06-.94-.94-2.06-.94 2.06-2.06.94zm-11 1L8.5 8.5l.94-2.06 2.06-.94-2.06-.94L8.5 2.5l-.94 2.06-2.06.94zm10 10l.94 2.06.94-2.06 2.06-.94-2.06-.94-.94-2.06-.94 2.06-2.06.94z\"/><path d=\"M17.41 7.96l-1.37-1.37c-.4-.4-.92-.59-1.43-.59-.52 0-1.04.2-1.43.59L10.3 9.45l-7.72 7.72c-.78.78-.78 2.05 0 2.83L4 21.41c.39.39.9.59 1.41.59.51 0 1.02-.2 1.41-.59l7.78-7.78 2.81-2.81c.8-.78.8-2.07 0-2.86zM5.41 20L4 18.59l7.72-7.72 1.47 1.35L5.41 20z\"/>\n  </svg>\n      </button>\n      \n  <style>\n    .colab-df-container {\n      display:flex;\n      flex-wrap:wrap;\n      gap: 12px;\n    }\n\n    .colab-df-convert {\n      background-color: #E8F0FE;\n      border: none;\n      border-radius: 50%;\n      cursor: pointer;\n      display: none;\n      fill: #1967D2;\n      height: 32px;\n      padding: 0 0 0 0;\n      width: 32px;\n    }\n\n    .colab-df-convert:hover {\n      background-color: #E2EBFA;\n      box-shadow: 0px 1px 2px rgba(60, 64, 67, 0.3), 0px 1px 3px 1px rgba(60, 64, 67, 0.15);\n      fill: #174EA6;\n    }\n\n    [theme=dark] .colab-df-convert {\n      background-color: #3B4455;\n      fill: #D2E3FC;\n    }\n\n    [theme=dark] .colab-df-convert:hover {\n      background-color: #434B5C;\n      box-shadow: 0px 1px 3px 1px rgba(0, 0, 0, 0.15);\n      filter: drop-shadow(0px 1px 2px rgba(0, 0, 0, 0.3));\n      fill: #FFFFFF;\n    }\n  </style>\n\n      <script>\n        const buttonEl =\n          document.querySelector('#df-63892600-321e-43a9-ac86-3799345a54a0 button.colab-df-convert');\n        buttonEl.style.display =\n          google.colab.kernel.accessAllowed ? 'block' : 'none';\n\n        async function convertToInteractive(key) {\n          const element = document.querySelector('#df-63892600-321e-43a9-ac86-3799345a54a0');\n          const dataTable =\n            await google.colab.kernel.invokeFunction('convertToInteractive',\n                                                     [key], {});\n          if (!dataTable) return;\n\n          const docLinkHtml = 'Like what you see? Visit the ' +\n            '<a target=\"_blank\" href=https://colab.research.google.com/notebooks/data_table.ipynb>data table notebook</a>'\n            + ' to learn more about interactive tables.';\n          element.innerHTML = '';\n          dataTable['output_type'] = 'display_data';\n          await google.colab.output.renderOutput(dataTable, element);\n          const docLink = document.createElement('div');\n          docLink.innerHTML = docLinkHtml;\n          element.appendChild(docLink);\n        }\n      </script>\n    </div>\n  </div>\n  "
     },
     "metadata": {},
     "execution_count": 117
    }
   ]
  },
  {
   "cell_type": "code",
   "metadata": {
    "colab": {
     "base_uri": "https://localhost:8080/"
    },
    "id": "wxxC6gRMfxhm",
    "outputId": "4942cac1-480a-4e2c-8ef6-b1a0ba5e40a8",
    "cell_id": "00065-235dc264-9aa1-44dc-9dfb-d3bffb93434c",
    "deepnote_cell_type": "code",
    "deepnote_cell_height": 269.3125
   },
   "source": "all_dates_post = pd.date_range(\n  start=\"2021-01-01\", end=\"2021-12-31\", freq = \"W-MON\")\nall_dates_post.difference(df_post_covid['Dates'])",
   "execution_count": null,
   "outputs": [
    {
     "output_type": "execute_result",
     "data": {
      "text/plain": "DatetimeIndex(['2021-07-12', '2021-07-19', '2021-07-26', '2021-08-02',\n               '2021-08-09', '2021-08-16', '2021-08-23', '2021-08-30',\n               '2021-09-06', '2021-09-13', '2021-09-20', '2021-09-27',\n               '2021-10-04', '2021-10-11', '2021-10-18', '2021-10-25',\n               '2021-11-01', '2021-11-08', '2021-11-15', '2021-11-22',\n               '2021-11-29', '2021-12-13', '2021-12-27'],\n              dtype='datetime64[ns]', freq=None)"
     },
     "metadata": {},
     "execution_count": 118
    }
   ]
  },
  {
   "cell_type": "code",
   "metadata": {
    "id": "MbiH7O7j0pYL",
    "cell_id": "00066-ce0cff2f-506f-4abe-be42-64fc09eb6860",
    "deepnote_cell_type": "code",
    "deepnote_cell_height": 66
   },
   "source": "",
   "execution_count": null,
   "outputs": []
  },
  {
   "cell_type": "code",
   "metadata": {
    "id": "1BTM94wi1dIZ",
    "cell_id": "00067-c29a4966-5f3e-4209-8135-3dbb375bf1ad",
    "deepnote_cell_type": "code",
    "deepnote_cell_height": 66
   },
   "source": "df_years.to_csv(\"Weekly_garbage_data.csv\")",
   "execution_count": null,
   "outputs": []
  },
  {
   "cell_type": "code",
   "metadata": {
    "id": "WlPlV1zy383K",
    "cell_id": "00068-b81a2009-1efc-4a13-8121-c605e01cae71",
    "deepnote_cell_type": "code",
    "deepnote_cell_height": 66
   },
   "source": "",
   "execution_count": null,
   "outputs": []
  },
  {
   "cell_type": "markdown",
   "source": "<a style='text-decoration:none;line-height:16px;display:flex;color:#5B5B62;padding:10px;justify-content:end;' href='https://deepnote.com?utm_source=created-in-deepnote-cell&projectId=1a1cabe9-69f7-4a67-be18-e232e1feb2b6' target=\"_blank\">\n<img alt='Created in deepnote.com' style='display:inline;max-height:16px;margin:0px;margin-right:7.5px;' src='data:image/svg+xml;base64,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' > </img>\nCreated in <span style='font-weight:600;margin-left:4px;'>Deepnote</span></a>",
   "metadata": {
    "tags": [],
    "created_in_deepnote_cell": true,
    "deepnote_cell_type": "markdown"
   }
  }
 ],
 "nbformat": 4,
 "nbformat_minor": 0,
 "metadata": {
  "colab": {
   "name": "Weekly_data.ipynb",
   "provenance": [],
   "collapsed_sections": [],
   "include_colab_link": true
  },
  "kernelspec": {
   "name": "python3",
   "display_name": "Python 3"
  },
  "language_info": {
   "name": "python"
  },
  "deepnote_notebook_id": "715bacaa-72d0-44fc-9dd5-b0d3ea31d44d",
  "deepnote": {},
  "deepnote_execution_queue": []
 }
}