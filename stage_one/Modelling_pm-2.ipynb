{
 "cells": [
  {
   "cell_type": "code",
   "metadata": {
    "tags": [],
    "deepnote_to_be_reexecuted": false,
    "source_hash": "2a665789",
    "execution_start": 1647996764268,
    "execution_millis": 87215811,
    "cell_id": "d315d273-b9bd-48fb-9668-cc2cce859c38",
    "deepnote_cell_type": "code",
    "deepnote_cell_height": 99
   },
   "source": "# Start writing code here...\n#test ",
   "execution_count": null,
   "outputs": []
  },
  {
   "cell_type": "code",
   "metadata": {
    "tags": [],
    "deepnote_to_be_reexecuted": false,
    "source_hash": "f901992b",
    "execution_start": 1648041810260,
    "execution_millis": 2383,
    "cell_id": "00001-23ab1317-03d3-4f06-b429-726486fcc641",
    "deepnote_cell_type": "code",
    "deepnote_cell_height": 153
   },
   "source": "import pandas as pd\nimport numpy as np\nimport seaborn as sns\nimport matplotlib.pyplot as plt\n",
   "execution_count": 1,
   "outputs": []
  },
  {
   "cell_type": "code",
   "metadata": {
    "tags": [],
    "deepnote_to_be_reexecuted": false,
    "source_hash": "c907a8a9",
    "execution_start": 1648042148405,
    "execution_millis": 3266,
    "cell_id": "00002-0b397bf6-9f08-49c9-a250-37b542b8ce0e",
    "deepnote_cell_type": "code",
    "deepnote_cell_height": 479.796875
   },
   "source": "df_1 = pd.read_csv(\"https://raw.githubusercontent.com/Pravallika-Myneni/world_data_league_2022/main/stage_one/data_1/weekly_holiday_weather_pollution_garbage_data_2014-2019.csv\", index_col =0)\ndf_1['Load Type'] = df_1['Load Type'].apply(lambda x: x.strip(\"[\").strip(\"]\").split(','))\ndf_1['Load Type'] = df_1['Load Type'].apply(lambda x: max(set(x), key = x.count))\n\ndf_1['Route Number'] = df_1['Route Number'].apply(lambda x: x.strip(\"[\").strip(\"]\").split(','))\ndf_1['Route Number'] = df_1['Route Number'].apply(lambda x: max(set(x), key = x.count))\n\n\ndf_1['Route Type'] = df_1['Route Type'].apply(lambda x: x.strip(\"[\").strip(\"]\").split(','))\ndf_1['Route Type'] = df_1['Route Type'].apply(lambda x: max(set(x), key = x.count))\n\ndf_1['Dropoff Site'] = df_1['Dropoff Site'].apply(lambda x: x.strip(\"[\").strip(\"]\").split(','))\ndf_1['Dropoff Site'] = df_1['Dropoff Site'].apply(lambda x: max(set(x), key = x.count))\ndf_1.head(1)",
   "execution_count": 3,
   "outputs": [
    {
     "output_type": "execute_result",
     "execution_count": 3,
     "data": {
      "application/vnd.deepnote.dataframe.v3+json": {
       "column_count": 16,
       "row_count": 1,
       "columns": [
        {
         "name": "Date",
         "dtype": "object",
         "stats": {
          "unique_count": 1,
          "nan_count": 0,
          "categories": [
           {
            "name": "2014-01-05",
            "count": 1
           }
          ]
         }
        },
        {
         "name": "Load Type",
         "dtype": "object",
         "stats": {
          "unique_count": 1,
          "nan_count": 0,
          "categories": [
           {
            "name": " 'GARBAGE COLLECTIONS'",
            "count": 1
           }
          ]
         }
        },
        {
         "name": "Load Weight",
         "dtype": "float64",
         "stats": {
          "unique_count": 1,
          "nan_count": 0,
          "min": "9621104.0",
          "max": "9621104.0",
          "histogram": [
           {
            "bin_start": 9621103.5,
            "bin_end": 9621103.6,
            "count": 0
           },
           {
            "bin_start": 9621103.6,
            "bin_end": 9621103.7,
            "count": 0
           },
           {
            "bin_start": 9621103.7,
            "bin_end": 9621103.8,
            "count": 0
           },
           {
            "bin_start": 9621103.8,
            "bin_end": 9621103.9,
            "count": 0
           },
           {
            "bin_start": 9621103.9,
            "bin_end": 9621104,
            "count": 0
           },
           {
            "bin_start": 9621104,
            "bin_end": 9621104.1,
            "count": 1
           },
           {
            "bin_start": 9621104.1,
            "bin_end": 9621104.2,
            "count": 0
           },
           {
            "bin_start": 9621104.2,
            "bin_end": 9621104.3,
            "count": 0
           },
           {
            "bin_start": 9621104.3,
            "bin_end": 9621104.4,
            "count": 0
           },
           {
            "bin_start": 9621104.4,
            "bin_end": 9621104.5,
            "count": 0
           }
          ]
         }
        },
        {
         "name": "Dropoff Site",
         "dtype": "object",
         "stats": {
          "unique_count": 1,
          "nan_count": 0,
          "categories": [
           {
            "name": " 'TDS LANDFILL'",
            "count": 1
           }
          ]
         }
        },
        {
         "name": "Route Type",
         "dtype": "object",
         "stats": {
          "unique_count": 1,
          "nan_count": 0,
          "categories": [
           {
            "name": " 'GARBAGE COLLECTION'",
            "count": 1
           }
          ]
         }
        },
        {
         "name": "Route Number",
         "dtype": "object",
         "stats": {
          "unique_count": 1,
          "nan_count": 0,
          "categories": [
           {
            "name": " 'BU06'",
            "count": 1
           }
          ]
         }
        },
        {
         "name": "Year",
         "dtype": "int64",
         "stats": {
          "unique_count": 1,
          "nan_count": 0,
          "min": "2014",
          "max": "2014",
          "histogram": [
           {
            "bin_start": 2013.5,
            "bin_end": 2013.6,
            "count": 0
           },
           {
            "bin_start": 2013.6,
            "bin_end": 2013.7,
            "count": 0
           },
           {
            "bin_start": 2013.7,
            "bin_end": 2013.8,
            "count": 0
           },
           {
            "bin_start": 2013.8,
            "bin_end": 2013.9,
            "count": 0
           },
           {
            "bin_start": 2013.9,
            "bin_end": 2014,
            "count": 0
           },
           {
            "bin_start": 2014,
            "bin_end": 2014.1,
            "count": 1
           },
           {
            "bin_start": 2014.1,
            "bin_end": 2014.2,
            "count": 0
           },
           {
            "bin_start": 2014.2,
            "bin_end": 2014.3,
            "count": 0
           },
           {
            "bin_start": 2014.3,
            "bin_end": 2014.4,
            "count": 0
           },
           {
            "bin_start": 2014.4,
            "bin_end": 2014.5,
            "count": 0
           }
          ]
         }
        },
        {
         "name": "holidays",
         "dtype": "int64",
         "stats": {
          "unique_count": 1,
          "nan_count": 0,
          "min": "1",
          "max": "1",
          "histogram": [
           {
            "bin_start": 0.5,
            "bin_end": 0.6,
            "count": 0
           },
           {
            "bin_start": 0.6,
            "bin_end": 0.7,
            "count": 0
           },
           {
            "bin_start": 0.7,
            "bin_end": 0.8,
            "count": 0
           },
           {
            "bin_start": 0.8,
            "bin_end": 0.9,
            "count": 0
           },
           {
            "bin_start": 0.9,
            "bin_end": 1,
            "count": 0
           },
           {
            "bin_start": 1,
            "bin_end": 1.1,
            "count": 1
           },
           {
            "bin_start": 1.1,
            "bin_end": 1.2000000000000002,
            "count": 0
           },
           {
            "bin_start": 1.2000000000000002,
            "bin_end": 1.3,
            "count": 0
           },
           {
            "bin_start": 1.3,
            "bin_end": 1.4,
            "count": 0
           },
           {
            "bin_start": 1.4,
            "bin_end": 1.5,
            "count": 0
           }
          ]
         }
        },
        {
         "name": "tavg",
         "dtype": "float64",
         "stats": {
          "unique_count": 1,
          "nan_count": 0,
          "min": "8.0",
          "max": "8.0",
          "histogram": [
           {
            "bin_start": 7.5,
            "bin_end": 7.6,
            "count": 0
           },
           {
            "bin_start": 7.6,
            "bin_end": 7.7,
            "count": 0
           },
           {
            "bin_start": 7.7,
            "bin_end": 7.8,
            "count": 0
           },
           {
            "bin_start": 7.8,
            "bin_end": 7.9,
            "count": 0
           },
           {
            "bin_start": 7.9,
            "bin_end": 8,
            "count": 0
           },
           {
            "bin_start": 8,
            "bin_end": 8.1,
            "count": 1
           },
           {
            "bin_start": 8.1,
            "bin_end": 8.2,
            "count": 0
           },
           {
            "bin_start": 8.2,
            "bin_end": 8.3,
            "count": 0
           },
           {
            "bin_start": 8.3,
            "bin_end": 8.4,
            "count": 0
           },
           {
            "bin_start": 8.4,
            "bin_end": 8.5,
            "count": 0
           }
          ]
         }
        },
        {
         "name": "tmin",
         "dtype": "float64",
         "stats": {
          "unique_count": 1,
          "nan_count": 0,
          "min": "-2.1",
          "max": "-2.1",
          "histogram": [
           {
            "bin_start": -2.6,
            "bin_end": -2.5,
            "count": 0
           },
           {
            "bin_start": -2.5,
            "bin_end": -2.4,
            "count": 0
           },
           {
            "bin_start": -2.4,
            "bin_end": -2.3,
            "count": 0
           },
           {
            "bin_start": -2.3,
            "bin_end": -2.2,
            "count": 0
           },
           {
            "bin_start": -2.2,
            "bin_end": -2.1,
            "count": 0
           },
           {
            "bin_start": -2.1,
            "bin_end": -2,
            "count": 1
           },
           {
            "bin_start": -2,
            "bin_end": -1.9,
            "count": 0
           },
           {
            "bin_start": -1.9,
            "bin_end": -1.8,
            "count": 0
           },
           {
            "bin_start": -1.8,
            "bin_end": -1.7000000000000002,
            "count": 0
           },
           {
            "bin_start": -1.7000000000000002,
            "bin_end": -1.6,
            "count": 0
           }
          ]
         }
        },
        {
         "name": "tmax",
         "dtype": "float64",
         "stats": {
          "unique_count": 1,
          "nan_count": 0,
          "min": "21.7",
          "max": "21.7",
          "histogram": [
           {
            "bin_start": 21.2,
            "bin_end": 21.3,
            "count": 0
           },
           {
            "bin_start": 21.3,
            "bin_end": 21.4,
            "count": 0
           },
           {
            "bin_start": 21.4,
            "bin_end": 21.5,
            "count": 0
           },
           {
            "bin_start": 21.5,
            "bin_end": 21.599999999999998,
            "count": 0
           },
           {
            "bin_start": 21.599999999999998,
            "bin_end": 21.7,
            "count": 0
           },
           {
            "bin_start": 21.7,
            "bin_end": 21.8,
            "count": 1
           },
           {
            "bin_start": 21.8,
            "bin_end": 21.9,
            "count": 0
           },
           {
            "bin_start": 21.9,
            "bin_end": 22,
            "count": 0
           },
           {
            "bin_start": 22,
            "bin_end": 22.099999999999998,
            "count": 0
           },
           {
            "bin_start": 22.099999999999998,
            "bin_end": 22.2,
            "count": 0
           }
          ]
         }
        },
        {
         "name": "prcp",
         "dtype": "float64",
         "stats": {
          "unique_count": 1,
          "nan_count": 0,
          "min": "0.0",
          "max": "0.0",
          "histogram": [
           {
            "bin_start": -0.5,
            "bin_end": -0.4,
            "count": 0
           },
           {
            "bin_start": -0.4,
            "bin_end": -0.3,
            "count": 0
           },
           {
            "bin_start": -0.3,
            "bin_end": -0.19999999999999996,
            "count": 0
           },
           {
            "bin_start": -0.19999999999999996,
            "bin_end": -0.09999999999999998,
            "count": 0
           },
           {
            "bin_start": -0.09999999999999998,
            "bin_end": 0,
            "count": 0
           },
           {
            "bin_start": 0,
            "bin_end": 0.10000000000000009,
            "count": 1
           },
           {
            "bin_start": 0.10000000000000009,
            "bin_end": 0.20000000000000007,
            "count": 0
           },
           {
            "bin_start": 0.20000000000000007,
            "bin_end": 0.30000000000000004,
            "count": 0
           },
           {
            "bin_start": 0.30000000000000004,
            "bin_end": 0.4,
            "count": 0
           },
           {
            "bin_start": 0.4,
            "bin_end": 0.5,
            "count": 0
           }
          ]
         }
        },
        {
         "name": "snow",
         "dtype": "float64",
         "stats": {
          "unique_count": 1,
          "nan_count": 0,
          "min": "0.0",
          "max": "0.0",
          "histogram": [
           {
            "bin_start": -0.5,
            "bin_end": -0.4,
            "count": 0
           },
           {
            "bin_start": -0.4,
            "bin_end": -0.3,
            "count": 0
           },
           {
            "bin_start": -0.3,
            "bin_end": -0.19999999999999996,
            "count": 0
           },
           {
            "bin_start": -0.19999999999999996,
            "bin_end": -0.09999999999999998,
            "count": 0
           },
           {
            "bin_start": -0.09999999999999998,
            "bin_end": 0,
            "count": 0
           },
           {
            "bin_start": 0,
            "bin_end": 0.10000000000000009,
            "count": 1
           },
           {
            "bin_start": 0.10000000000000009,
            "bin_end": 0.20000000000000007,
            "count": 0
           },
           {
            "bin_start": 0.20000000000000007,
            "bin_end": 0.30000000000000004,
            "count": 0
           },
           {
            "bin_start": 0.30000000000000004,
            "bin_end": 0.4,
            "count": 0
           },
           {
            "bin_start": 0.4,
            "bin_end": 0.5,
            "count": 0
           }
          ]
         }
        },
        {
         "name": "wspd",
         "dtype": "float64",
         "stats": {
          "unique_count": 1,
          "nan_count": 0,
          "min": "8.7",
          "max": "8.7",
          "histogram": [
           {
            "bin_start": 8.2,
            "bin_end": 8.299999999999999,
            "count": 0
           },
           {
            "bin_start": 8.299999999999999,
            "bin_end": 8.399999999999999,
            "count": 0
           },
           {
            "bin_start": 8.399999999999999,
            "bin_end": 8.5,
            "count": 0
           },
           {
            "bin_start": 8.5,
            "bin_end": 8.6,
            "count": 0
           },
           {
            "bin_start": 8.6,
            "bin_end": 8.7,
            "count": 0
           },
           {
            "bin_start": 8.7,
            "bin_end": 8.799999999999999,
            "count": 1
           },
           {
            "bin_start": 8.799999999999999,
            "bin_end": 8.899999999999999,
            "count": 0
           },
           {
            "bin_start": 8.899999999999999,
            "bin_end": 9,
            "count": 0
           },
           {
            "bin_start": 9,
            "bin_end": 9.1,
            "count": 0
           },
           {
            "bin_start": 9.1,
            "bin_end": 9.2,
            "count": 0
           }
          ]
         }
        },
        {
         "name": "pres",
         "dtype": "float64",
         "stats": {
          "unique_count": 1,
          "nan_count": 0,
          "min": "1023.5",
          "max": "1023.5",
          "histogram": [
           {
            "bin_start": 1023,
            "bin_end": 1023.1,
            "count": 0
           },
           {
            "bin_start": 1023.1,
            "bin_end": 1023.2,
            "count": 0
           },
           {
            "bin_start": 1023.2,
            "bin_end": 1023.3,
            "count": 0
           },
           {
            "bin_start": 1023.3,
            "bin_end": 1023.4,
            "count": 0
           },
           {
            "bin_start": 1023.4,
            "bin_end": 1023.5,
            "count": 0
           },
           {
            "bin_start": 1023.5,
            "bin_end": 1023.6,
            "count": 1
           },
           {
            "bin_start": 1023.6,
            "bin_end": 1023.7,
            "count": 0
           },
           {
            "bin_start": 1023.7,
            "bin_end": 1023.8,
            "count": 0
           },
           {
            "bin_start": 1023.8,
            "bin_end": 1023.9,
            "count": 0
           },
           {
            "bin_start": 1023.9,
            "bin_end": 1024,
            "count": 0
           }
          ]
         }
        },
        {
         "name": "tsun",
         "dtype": "float64",
         "stats": {
          "unique_count": 1,
          "nan_count": 0,
          "min": "0.0",
          "max": "0.0",
          "histogram": [
           {
            "bin_start": -0.5,
            "bin_end": -0.4,
            "count": 0
           },
           {
            "bin_start": -0.4,
            "bin_end": -0.3,
            "count": 0
           },
           {
            "bin_start": -0.3,
            "bin_end": -0.19999999999999996,
            "count": 0
           },
           {
            "bin_start": -0.19999999999999996,
            "bin_end": -0.09999999999999998,
            "count": 0
           },
           {
            "bin_start": -0.09999999999999998,
            "bin_end": 0,
            "count": 0
           },
           {
            "bin_start": 0,
            "bin_end": 0.10000000000000009,
            "count": 1
           },
           {
            "bin_start": 0.10000000000000009,
            "bin_end": 0.20000000000000007,
            "count": 0
           },
           {
            "bin_start": 0.20000000000000007,
            "bin_end": 0.30000000000000004,
            "count": 0
           },
           {
            "bin_start": 0.30000000000000004,
            "bin_end": 0.4,
            "count": 0
           },
           {
            "bin_start": 0.4,
            "bin_end": 0.5,
            "count": 0
           }
          ]
         }
        },
        {
         "name": "_deepnote_index_column",
         "dtype": "int64"
        }
       ],
       "rows": [
        {
         "Date": "2014-01-05",
         "Load Type": " 'GARBAGE COLLECTIONS'",
         "Load Weight": 9621104,
         "Dropoff Site": " 'TDS LANDFILL'",
         "Route Type": " 'GARBAGE COLLECTION'",
         "Route Number": " 'BU06'",
         "Year": 2014,
         "holidays": 1,
         "tavg": 8,
         "tmin": -2.1,
         "tmax": 21.7,
         "prcp": 0,
         "snow": 0,
         "wspd": 8.7,
         "pres": 1023.5,
         "tsun": 0,
         "_deepnote_index_column": 0
        }
       ]
      },
      "text/plain": "         Date               Load Type  Load Weight     Dropoff Site  \\\n0  2014-01-05   'GARBAGE COLLECTIONS'    9621104.0   'TDS LANDFILL'   \n\n              Route Type Route Number  Year  holidays  tavg  tmin  tmax  prcp  \\\n0   'GARBAGE COLLECTION'       'BU06'  2014         1   8.0  -2.1  21.7   0.0   \n\n   snow  wspd    pres  tsun  \n0   0.0   8.7  1023.5   0.0  ",
      "text/html": "<div>\n<style scoped>\n    .dataframe tbody tr th:only-of-type {\n        vertical-align: middle;\n    }\n\n    .dataframe tbody tr th {\n        vertical-align: top;\n    }\n\n    .dataframe thead th {\n        text-align: right;\n    }\n</style>\n<table border=\"1\" class=\"dataframe\">\n  <thead>\n    <tr style=\"text-align: right;\">\n      <th></th>\n      <th>Date</th>\n      <th>Load Type</th>\n      <th>Load Weight</th>\n      <th>Dropoff Site</th>\n      <th>Route Type</th>\n      <th>Route Number</th>\n      <th>Year</th>\n      <th>holidays</th>\n      <th>tavg</th>\n      <th>tmin</th>\n      <th>tmax</th>\n      <th>prcp</th>\n      <th>snow</th>\n      <th>wspd</th>\n      <th>pres</th>\n      <th>tsun</th>\n    </tr>\n  </thead>\n  <tbody>\n    <tr>\n      <th>0</th>\n      <td>2014-01-05</td>\n      <td>'GARBAGE COLLECTIONS'</td>\n      <td>9621104.0</td>\n      <td>'TDS LANDFILL'</td>\n      <td>'GARBAGE COLLECTION'</td>\n      <td>'BU06'</td>\n      <td>2014</td>\n      <td>1</td>\n      <td>8.0</td>\n      <td>-2.1</td>\n      <td>21.7</td>\n      <td>0.0</td>\n      <td>0.0</td>\n      <td>8.7</td>\n      <td>1023.5</td>\n      <td>0.0</td>\n    </tr>\n  </tbody>\n</table>\n</div>"
     },
     "metadata": {}
    }
   ]
  },
  {
   "cell_type": "markdown",
   "source": "For modelling, for the columns: Load Type, Dropoff Site, Route Type, Route Number, lets use the most common element",
   "metadata": {
    "tags": [],
    "is_collapsed": false,
    "cell_id": "00003-9321214a-ac87-4032-8a3a-baee6b69094c",
    "deepnote_cell_type": "text-cell-p"
   }
  },
  {
   "cell_type": "markdown",
   "source": "ALT: use set of list",
   "metadata": {
    "tags": [],
    "is_collapsed": false,
    "cell_id": "00004-d6dc1487-56d9-419f-8f19-ec073d4145f8",
    "deepnote_cell_type": "text-cell-p"
   }
  },
  {
   "cell_type": "code",
   "metadata": {
    "tags": [],
    "deepnote_to_be_reexecuted": false,
    "source_hash": "1fb7bdbb",
    "execution_start": 1648040693885,
    "execution_millis": 1300,
    "cell_id": "00020-e6575b60-b352-43dd-a721-fccd83ba78a0",
    "deepnote_cell_type": "code",
    "deepnote_cell_height": 391,
    "deepnote_output_heights": [
     276
    ]
   },
   "source": "results.plot_diagnostics(figsize=(30, 14))\nplt.show()",
   "execution_count": 17,
   "outputs": [
    {
     "data": {
      "text/plain": "<Figure size 2160x1008 with 4 Axes>",
      "image/png": "[encoded data removed]"
     },
     "metadata": {
      "needs_background": "light",
      "image/png": {
       "width": 1724,
       "height": 822
      }
     },
     "output_type": "display_data"
    }
   ]
  },
  {
   "cell_type": "code",
   "metadata": {
    "tags": [],
    "deepnote_to_be_reexecuted": false,
    "source_hash": "14929aab",
    "execution_start": 1648040695042,
    "execution_millis": 4,
    "cell_id": "00021-53ffc052-72c6-4d97-b2d7-0e20d7298216",
    "deepnote_cell_type": "code",
    "deepnote_cell_height": 99
   },
   "source": "pred0 = results.get_prediction(start='2018-12-23', dynamic=False)\npred0_ci = pred0.conf_int()",
   "execution_count": 18,
   "outputs": []
  },
  {
   "cell_type": "code",
   "metadata": {
    "tags": [],
    "deepnote_to_be_reexecuted": false,
    "source_hash": "f3d2d9a0",
    "execution_start": 1648040695050,
    "execution_millis": 136,
    "cell_id": "00022-41f590ba-2f1b-423c-98bf-5ff4b72c3c56",
    "deepnote_cell_type": "code",
    "deepnote_cell_height": 270
   },
   "source": "pred0_ci",
   "execution_count": 19,
   "outputs": [
    {
     "output_type": "execute_result",
     "execution_count": 19,
     "data": {
      "application/vnd.deepnote.dataframe.v3+json": {
       "column_count": 2,
       "row_count": 2,
       "columns": [
        {
         "name": "lower Load Weight",
         "dtype": "float64",
         "stats": {
          "unique_count": 2,
          "nan_count": 0,
          "min": "7545698.773946834",
          "max": "7736141.71984426",
          "histogram": [
           {
            "bin_start": 7545698.773946834,
            "bin_end": 7564743.068536577,
            "count": 1
           },
           {
            "bin_start": 7564743.068536577,
            "bin_end": 7583787.363126319,
            "count": 0
           },
           {
            "bin_start": 7583787.363126319,
            "bin_end": 7602831.657716062,
            "count": 0
           },
           {
            "bin_start": 7602831.657716062,
            "bin_end": 7621875.952305804,
            "count": 0
           },
           {
            "bin_start": 7621875.952305804,
            "bin_end": 7640920.246895547,
            "count": 0
           },
           {
            "bin_start": 7640920.246895547,
            "bin_end": 7659964.54148529,
            "count": 0
           },
           {
            "bin_start": 7659964.54148529,
            "bin_end": 7679008.836075032,
            "count": 0
           },
           {
            "bin_start": 7679008.836075032,
            "bin_end": 7698053.130664775,
            "count": 0
           },
           {
            "bin_start": 7698053.130664775,
            "bin_end": 7717097.425254517,
            "count": 0
           },
           {
            "bin_start": 7717097.425254517,
            "bin_end": 7736141.71984426,
            "count": 1
           }
          ]
         }
        },
        {
         "name": "upper Load Weight",
         "dtype": "float64",
         "stats": {
          "unique_count": 2,
          "nan_count": 0,
          "min": "11466458.189374357",
          "max": "11656901.135271784",
          "histogram": [
           {
            "bin_start": 11466458.189374357,
            "bin_end": 11485502.4839641,
            "count": 1
           },
           {
            "bin_start": 11485502.4839641,
            "bin_end": 11504546.778553843,
            "count": 0
           },
           {
            "bin_start": 11504546.778553843,
            "bin_end": 11523591.073143585,
            "count": 0
           },
           {
            "bin_start": 11523591.073143585,
            "bin_end": 11542635.367733328,
            "count": 0
           },
           {
            "bin_start": 11542635.367733328,
            "bin_end": 11561679.66232307,
            "count": 0
           },
           {
            "bin_start": 11561679.66232307,
            "bin_end": 11580723.956912814,
            "count": 0
           },
           {
            "bin_start": 11580723.956912814,
            "bin_end": 11599768.251502557,
            "count": 0
           },
           {
            "bin_start": 11599768.251502557,
            "bin_end": 11618812.546092298,
            "count": 0
           },
           {
            "bin_start": 11618812.546092298,
            "bin_end": 11637856.84068204,
            "count": 0
           },
           {
            "bin_start": 11637856.84068204,
            "bin_end": 11656901.135271784,
            "count": 1
           }
          ]
         }
        },
        {
         "name": "_deepnote_index_column",
         "dtype": "datetime64[ns]"
        }
       ],
       "rows": [
        {
         "lower Load Weight": 7736141.71984426,
         "upper Load Weight": 11656901.135271784,
         "_deepnote_index_column": "2018-12-23T00:00:00.000000"
        },
        {
         "lower Load Weight": 7545698.773946834,
         "upper Load Weight": 11466458.189374357,
         "_deepnote_index_column": "2018-12-30T00:00:00.000000"
        }
       ]
      },
      "text/plain": "            lower Load Weight  upper Load Weight\n2018-12-23       7.736142e+06       1.165690e+07\n2018-12-30       7.545699e+06       1.146646e+07",
      "text/html": "<div>\n<style scoped>\n    .dataframe tbody tr th:only-of-type {\n        vertical-align: middle;\n    }\n\n    .dataframe tbody tr th {\n        vertical-align: top;\n    }\n\n    .dataframe thead th {\n        text-align: right;\n    }\n</style>\n<table border=\"1\" class=\"dataframe\">\n  <thead>\n    <tr style=\"text-align: right;\">\n      <th></th>\n      <th>lower Load Weight</th>\n      <th>upper Load Weight</th>\n    </tr>\n  </thead>\n  <tbody>\n    <tr>\n      <th>2018-12-23</th>\n      <td>7.736142e+06</td>\n      <td>1.165690e+07</td>\n    </tr>\n    <tr>\n      <th>2018-12-30</th>\n      <td>7.545699e+06</td>\n      <td>1.146646e+07</td>\n    </tr>\n  </tbody>\n</table>\n</div>"
     },
     "metadata": {}
    }
   ]
  },
  {
   "cell_type": "code",
   "metadata": {
    "tags": [],
    "deepnote_to_be_reexecuted": false,
    "source_hash": "e1afd1f0",
    "execution_start": 1648040695086,
    "execution_millis": 4,
    "cell_id": "00023-a3d0e424-573e-4f20-813a-a8b7dc75673a",
    "deepnote_cell_type": "code",
    "deepnote_cell_height": 99
   },
   "source": "pred1 = results.get_prediction(start='2018-12-23', dynamic=True)\npred1_ci = pred0.conf_int()",
   "execution_count": 20,
   "outputs": []
  },
  {
   "cell_type": "code",
   "metadata": {
    "tags": [],
    "deepnote_to_be_reexecuted": false,
    "source_hash": "332729eb",
    "execution_start": 1648040695161,
    "execution_millis": 26,
    "cell_id": "00024-5f0cabdf-41e5-4d9f-9152-7cdf2ed648c2",
    "deepnote_cell_type": "code",
    "deepnote_cell_height": 270
   },
   "source": "pred1_ci",
   "execution_count": 21,
   "outputs": [
    {
     "output_type": "execute_result",
     "execution_count": 21,
     "data": {
      "application/vnd.deepnote.dataframe.v3+json": {
       "column_count": 2,
       "row_count": 2,
       "columns": [
        {
         "name": "lower Load Weight",
         "dtype": "float64",
         "stats": {
          "unique_count": 2,
          "nan_count": 0,
          "min": "7545698.773946834",
          "max": "7736141.71984426",
          "histogram": [
           {
            "bin_start": 7545698.773946834,
            "bin_end": 7564743.068536577,
            "count": 1
           },
           {
            "bin_start": 7564743.068536577,
            "bin_end": 7583787.363126319,
            "count": 0
           },
           {
            "bin_start": 7583787.363126319,
            "bin_end": 7602831.657716062,
            "count": 0
           },
           {
            "bin_start": 7602831.657716062,
            "bin_end": 7621875.952305804,
            "count": 0
           },
           {
            "bin_start": 7621875.952305804,
            "bin_end": 7640920.246895547,
            "count": 0
           },
           {
            "bin_start": 7640920.246895547,
            "bin_end": 7659964.54148529,
            "count": 0
           },
           {
            "bin_start": 7659964.54148529,
            "bin_end": 7679008.836075032,
            "count": 0
           },
           {
            "bin_start": 7679008.836075032,
            "bin_end": 7698053.130664775,
            "count": 0
           },
           {
            "bin_start": 7698053.130664775,
            "bin_end": 7717097.425254517,
            "count": 0
           },
           {
            "bin_start": 7717097.425254517,
            "bin_end": 7736141.71984426,
            "count": 1
           }
          ]
         }
        },
        {
         "name": "upper Load Weight",
         "dtype": "float64",
         "stats": {
          "unique_count": 2,
          "nan_count": 0,
          "min": "11466458.189374357",
          "max": "11656901.135271784",
          "histogram": [
           {
            "bin_start": 11466458.189374357,
            "bin_end": 11485502.4839641,
            "count": 1
           },
           {
            "bin_start": 11485502.4839641,
            "bin_end": 11504546.778553843,
            "count": 0
           },
           {
            "bin_start": 11504546.778553843,
            "bin_end": 11523591.073143585,
            "count": 0
           },
           {
            "bin_start": 11523591.073143585,
            "bin_end": 11542635.367733328,
            "count": 0
           },
           {
            "bin_start": 11542635.367733328,
            "bin_end": 11561679.66232307,
            "count": 0
           },
           {
            "bin_start": 11561679.66232307,
            "bin_end": 11580723.956912814,
            "count": 0
           },
           {
            "bin_start": 11580723.956912814,
            "bin_end": 11599768.251502557,
            "count": 0
           },
           {
            "bin_start": 11599768.251502557,
            "bin_end": 11618812.546092298,
            "count": 0
           },
           {
            "bin_start": 11618812.546092298,
            "bin_end": 11637856.84068204,
            "count": 0
           },
           {
            "bin_start": 11637856.84068204,
            "bin_end": 11656901.135271784,
            "count": 1
           }
          ]
         }
        },
        {
         "name": "_deepnote_index_column",
         "dtype": "datetime64[ns]"
        }
       ],
       "rows": [
        {
         "lower Load Weight": 7736141.71984426,
         "upper Load Weight": 11656901.135271784,
         "_deepnote_index_column": "2018-12-23T00:00:00.000000"
        },
        {
         "lower Load Weight": 7545698.773946834,
         "upper Load Weight": 11466458.189374357,
         "_deepnote_index_column": "2018-12-30T00:00:00.000000"
        }
       ]
      },
      "text/plain": "            lower Load Weight  upper Load Weight\n2018-12-23       7.736142e+06       1.165690e+07\n2018-12-30       7.545699e+06       1.146646e+07",
      "text/html": "<div>\n<style scoped>\n    .dataframe tbody tr th:only-of-type {\n        vertical-align: middle;\n    }\n\n    .dataframe tbody tr th {\n        vertical-align: top;\n    }\n\n    .dataframe thead th {\n        text-align: right;\n    }\n</style>\n<table border=\"1\" class=\"dataframe\">\n  <thead>\n    <tr style=\"text-align: right;\">\n      <th></th>\n      <th>lower Load Weight</th>\n      <th>upper Load Weight</th>\n    </tr>\n  </thead>\n  <tbody>\n    <tr>\n      <th>2018-12-23</th>\n      <td>7.736142e+06</td>\n      <td>1.165690e+07</td>\n    </tr>\n    <tr>\n      <th>2018-12-30</th>\n      <td>7.545699e+06</td>\n      <td>1.146646e+07</td>\n    </tr>\n  </tbody>\n</table>\n</div>"
     },
     "metadata": {}
    }
   ]
  },
  {
   "cell_type": "code",
   "metadata": {
    "tags": [],
    "deepnote_to_be_reexecuted": false,
    "source_hash": "2732d8b6",
    "execution_start": 1648040695162,
    "execution_millis": 26,
    "cell_id": "00025-e7040048-d4ce-4e7a-96a8-641353ad2e2f",
    "deepnote_cell_type": "code",
    "deepnote_cell_height": 737
   },
   "source": "pred2 = results.get_forecast('2019-12-29')\npred2_ci = pred2.conf_int()\nprint(pred2.predicted_mean['2019-01-06':'2019-12-29'])",
   "execution_count": 22,
   "outputs": [
    {
     "name": "stdout",
     "text": "2019-01-06    9.570463e+06\n2019-01-13    9.516055e+06\n2019-01-20    9.767899e+06\n2019-01-27    9.910821e+06\n2019-02-03    9.747406e+06\n2019-02-10    1.008296e+07\n2019-02-17    1.027717e+07\n2019-02-24    1.027026e+07\n2019-03-03    1.006349e+07\n2019-03-10    9.696927e+06\n2019-03-17    9.853319e+06\n2019-03-24    9.859574e+06\n2019-03-31    9.467763e+06\n2019-04-07    9.565331e+06\n2019-04-14    9.683380e+06\n2019-04-21    9.832201e+06\n2019-04-28    9.601612e+06\n2019-05-05    1.007112e+07\n2019-05-12    1.001952e+07\n2019-05-19    1.000412e+07\n2019-05-26    9.928930e+06\n2019-06-02    9.579340e+06\n2019-06-09    9.805232e+06\n2019-06-16    9.780044e+06\n2019-06-23    9.419058e+06\n2019-06-30    9.531944e+06\n2019-07-07    9.638185e+06\n2019-07-14    9.896064e+06\n2019-07-21    9.526565e+06\n2019-07-28    9.816367e+06\n2019-08-04    9.974813e+06\n2019-08-11    1.018755e+07\n2019-08-18    9.931267e+06\n2019-08-25    9.754849e+06\n2019-09-01    9.811627e+06\n2019-09-08    9.865708e+06\n2019-09-15    9.575538e+06\n2019-09-22    9.666217e+06\n2019-09-29    9.827475e+06\n2019-10-06    1.013507e+07\n2019-10-13    9.682014e+06\n2019-10-20    9.889198e+06\n2019-10-27    1.029856e+07\n2019-11-03    1.053288e+07\n2019-11-10    1.009248e+07\n2019-11-17    9.958564e+06\n2019-11-24    9.975204e+06\n2019-12-01    1.008845e+07\n2019-12-08    9.749474e+06\n2019-12-15    9.819206e+06\n2019-12-22    9.983656e+06\n2019-12-29    1.023213e+07\nFreq: W-SUN, Name: predicted_mean, dtype: float64\n",
     "output_type": "stream"
    }
   ]
  },
  {
   "cell_type": "code",
   "metadata": {
    "tags": [],
    "deepnote_to_be_reexecuted": false,
    "source_hash": "f9c647cb",
    "execution_start": 1648040695182,
    "execution_millis": 17,
    "cell_id": "00026-c60e6f73-d64b-4025-8f27-a56c043e380f",
    "deepnote_cell_type": "code",
    "deepnote_cell_height": 184
   },
   "source": "prediction = pred2.predicted_mean['2019-01-06':'2019-12-29'].values\n# Mean Absolute Percentage Error\nMAPE = np.mean(np.abs((test_data - prediction) / test_data)) * 100\n\nprint('The Mean Absolute Percentage Error for the forecast of year 2019 is {:.2f}%'.format(MAPE))",
   "execution_count": 23,
   "outputs": [
    {
     "name": "stdout",
     "text": "The Mean Absolute Percentage Error for the forecast of year 2019 is 8.84%\n",
     "output_type": "stream"
    }
   ]
  },
  {
   "cell_type": "markdown",
   "source": "## XGBoost",
   "metadata": {
    "tags": [],
    "is_collapsed": false,
    "cell_id": "00027-791160ba-af8f-4bef-810e-ff8d8b140c80",
    "deepnote_cell_type": "text-cell-h2"
   }
  },
  {
   "cell_type": "code",
   "metadata": {
    "tags": [],
    "deepnote_to_be_reexecuted": false,
    "source_hash": "4d27a39e",
    "execution_start": 1648040981065,
    "execution_millis": 19968,
    "cell_id": "00028-78cdc175-ee7d-4f3d-8041-cf081d5d7474",
    "deepnote_cell_type": "code",
    "deepnote_cell_height": 321.796875
   },
   "source": "!pip install xgboost",
   "execution_count": 26,
   "outputs": [
    {
     "name": "stdout",
     "text": "Collecting xgboost\n  Downloading xgboost-1.5.2-py3-none-manylinux2014_x86_64.whl (173.6 MB)\n\u001b[K     |████████████████████████████████| 173.6 MB 16 kB/s \n\u001b[?25hRequirement already satisfied: numpy in /shared-libs/python3.7/py-core/lib/python3.7/site-packages (from xgboost) (1.21.5)\nRequirement already satisfied: scipy in /shared-libs/python3.7/py/lib/python3.7/site-packages (from xgboost) (1.7.3)\nInstalling collected packages: xgboost\nSuccessfully installed xgboost-1.5.2\n\u001b[33mWARNING: You are using pip version 20.1.1; however, version 22.0.4 is available.\nYou should consider upgrading via the '/root/venv/bin/python -m pip install --upgrade pip' command.\u001b[0m\n",
     "output_type": "stream"
    }
   ]
  },
  {
   "cell_type": "code",
   "metadata": {
    "tags": [],
    "deepnote_to_be_reexecuted": false,
    "source_hash": "4af8e8cf",
    "execution_start": 1648041001041,
    "execution_millis": 1154,
    "cell_id": "00029-f9187e30-1220-49a4-86ac-72d54d660697",
    "deepnote_cell_type": "code",
    "deepnote_cell_height": 270.1875
   },
   "source": "import xgboost as xgb\nfrom sklearn.metrics import mean_squared_error, mean_absolute_error\nfrom xgboost import plot_importance, plot_tree\nreg = xgb.XGBRegressor(n_estimators=1000)\nreg.fit(X_train, y_train,\n        eval_set=[(X_train, y_train), (X_test, y_test)],\n        early_stopping_rounds = 50,\n        verbose = False)",
   "execution_count": 27,
   "outputs": [
    {
     "output_type": "error",
     "ename": "NameError",
     "evalue": "name 'X_train' is not defined",
     "traceback": [
      "\u001b[0;31m---------------------------------------------------------------------------\u001b[0m",
      "\u001b[0;31mNameError\u001b[0m                                 Traceback (most recent call last)",
      "\u001b[0;32m<ipython-input-27-a69074c693bc>\u001b[0m in \u001b[0;36m<module>\u001b[0;34m\u001b[0m\n\u001b[1;32m      3\u001b[0m \u001b[0;32mfrom\u001b[0m \u001b[0mxgboost\u001b[0m \u001b[0;32mimport\u001b[0m \u001b[0mplot_importance\u001b[0m\u001b[0;34m,\u001b[0m \u001b[0mplot_tree\u001b[0m\u001b[0;34m\u001b[0m\u001b[0;34m\u001b[0m\u001b[0m\n\u001b[1;32m      4\u001b[0m \u001b[0mreg\u001b[0m \u001b[0;34m=\u001b[0m \u001b[0mxgb\u001b[0m\u001b[0;34m.\u001b[0m\u001b[0mXGBRegressor\u001b[0m\u001b[0;34m(\u001b[0m\u001b[0mn_estimators\u001b[0m\u001b[0;34m=\u001b[0m\u001b[0;36m1000\u001b[0m\u001b[0;34m)\u001b[0m\u001b[0;34m\u001b[0m\u001b[0;34m\u001b[0m\u001b[0m\n\u001b[0;32m----> 5\u001b[0;31m reg.fit(X_train, y_train,\n\u001b[0m\u001b[1;32m      6\u001b[0m         \u001b[0meval_set\u001b[0m\u001b[0;34m=\u001b[0m\u001b[0;34m[\u001b[0m\u001b[0;34m(\u001b[0m\u001b[0mX_train\u001b[0m\u001b[0;34m,\u001b[0m \u001b[0my_train\u001b[0m\u001b[0;34m)\u001b[0m\u001b[0;34m,\u001b[0m \u001b[0;34m(\u001b[0m\u001b[0mX_test\u001b[0m\u001b[0;34m,\u001b[0m \u001b[0my_test\u001b[0m\u001b[0;34m)\u001b[0m\u001b[0;34m]\u001b[0m\u001b[0;34m,\u001b[0m\u001b[0;34m\u001b[0m\u001b[0;34m\u001b[0m\u001b[0m\n\u001b[1;32m      7\u001b[0m         \u001b[0mearly_stopping_rounds\u001b[0m \u001b[0;34m=\u001b[0m \u001b[0;36m50\u001b[0m\u001b[0;34m,\u001b[0m\u001b[0;34m\u001b[0m\u001b[0;34m\u001b[0m\u001b[0m\n",
      "\u001b[0;31mNameError\u001b[0m: name 'X_train' is not defined"
     ]
    }
   ]
  },
  {
   "cell_type": "markdown",
   "source": "##",
   "metadata": {
    "tags": [],
    "cell_id": "00030-3f10b15d-b5ed-405e-bf40-e050580e105e",
    "deepnote_cell_type": "markdown",
    "deepnote_cell_height": 46
   }
  },
  {
   "cell_type": "markdown",
   "source": "## Linear Regression",
   "metadata": {
    "tags": [],
    "cell_id": "00031-05476c59-70c2-453c-bce8-ce78651a4fd7",
    "deepnote_cell_type": "markdown",
    "deepnote_cell_height": 56.390625
   }
  },
  {
   "cell_type": "code",
   "metadata": {
    "tags": [],
    "deepnote_to_be_reexecuted": false,
    "source_hash": "71f19d0b",
    "execution_start": 1648040300386,
    "cell_id": "00032-7bab17d1-74d3-41c0-8ec8-e3bdebac7480",
    "deepnote_cell_type": "code",
    "deepnote_cell_height": 81
   },
   "source": "",
   "execution_count": 1,
   "outputs": []
  },
  {
   "cell_type": "code",
   "metadata": {
    "tags": [],
    "cell_id": "00033-f5217e5d-8f0e-4073-9b24-587adad8bc77",
    "deepnote_cell_type": "code",
    "deepnote_cell_height": 66
   },
   "source": "",
   "execution_count": null,
   "outputs": []
  },
  {
   "cell_type": "markdown",
   "source": "<a style='text-decoration:none;line-height:16px;display:flex;color:#5B5B62;padding:10px;justify-content:end;' href='https://deepnote.com?utm_source=created-in-deepnote-cell&projectId=1a1cabe9-69f7-4a67-be18-e232e1feb2b6' target=\"_blank\">\n<img alt='Created in deepnote.com' style='display:inline;max-height:16px;margin:0px;margin-right:7.5px;' src='data:image/svg+xml;base64,PD94bWwgdmVyc2lvbj0iMS4wIiBlbmNvZGluZz0iVVRGLTgiPz4KPHN2ZyB3aWR0aD0iODBweCIgaGVpZ2h0PSI4MHB4IiB2aWV3Qm94PSIwIDAgODAgODAiIHZlcnNpb249IjEuMSIgeG1sbnM9Imh0dHA6Ly93d3cudzMub3JnLzIwMDAvc3ZnIiB4bWxuczp4bGluaz0iaHR0cDovL3d3dy53My5vcmcvMTk5OS94bGluayI+CiAgICA8IS0tIEdlbmVyYXRvcjogU2tldGNoIDU0LjEgKDc2NDkwKSAtIGh0dHBzOi8vc2tldGNoYXBwLmNvbSAtLT4KICAgIDx0aXRsZT5Hcm91cCAzPC90aXRsZT4KICAgIDxkZXNjPkNyZWF0ZWQgd2l0aCBTa2V0Y2guPC9kZXNjPgogICAgPGcgaWQ9IkxhbmRpbmciIHN0cm9rZT0ibm9uZSIgc3Ryb2tlLXdpZHRoPSIxIiBmaWxsPSJub25lIiBmaWxsLXJ1bGU9ImV2ZW5vZGQiPgogICAgICAgIDxnIGlkPSJBcnRib2FyZCIgdHJhbnNmb3JtPSJ0cmFuc2xhdGUoLTEyMzUuMDAwMDAwLCAtNzkuMDAwMDAwKSI+CiAgICAgICAgICAgIDxnIGlkPSJHcm91cC0zIiB0cmFuc2Zvcm09InRyYW5zbGF0ZSgxMjM1LjAwMDAwMCwgNzkuMDAwMDAwKSI+CiAgICAgICAgICAgICAgICA8cG9seWdvbiBpZD0iUGF0aC0yMCIgZmlsbD0iIzAyNjVCNCIgcG9pbnRzPSIyLjM3NjIzNzYyIDgwIDM4LjA0NzY2NjcgODAgNTcuODIxNzgyMiA3My44MDU3NTkyIDU3LjgyMTc4MjIgMzIuNzU5MjczOSAzOS4xNDAyMjc4IDMxLjY4MzE2ODMiPjwvcG9seWdvbj4KICAgICAgICAgICAgICAgIDxwYXRoIGQ9Ik0zNS4wMDc3MTgsODAgQzQyLjkwNjIwMDcsNzYuNDU0OTM1OCA0Ny41NjQ5MTY3LDcxLjU0MjI2NzEgNDguOTgzODY2LDY1LjI2MTk5MzkgQzUxLjExMjI4OTksNTUuODQxNTg0MiA0MS42NzcxNzk1LDQ5LjIxMjIyODQgMjUuNjIzOTg0Niw0OS4yMTIyMjg0IEMyNS40ODQ5Mjg5LDQ5LjEyNjg0NDggMjkuODI2MTI5Niw0My4yODM4MjQ4IDM4LjY0NzU4NjksMzEuNjgzMTY4MyBMNzIuODcxMjg3MSwzMi41NTQ0MjUgTDY1LjI4MDk3Myw2Ny42NzYzNDIxIEw1MS4xMTIyODk5LDc3LjM3NjE0NCBMMzUuMDA3NzE4LDgwIFoiIGlkPSJQYXRoLTIyIiBmaWxsPSIjMDAyODY4Ij48L3BhdGg+CiAgICAgICAgICAgICAgICA8cGF0aCBkPSJNMCwzNy43MzA0NDA1IEwyNy4xMTQ1MzcsMC4yNTcxMTE0MzYgQzYyLjM3MTUxMjMsLTEuOTkwNzE3MDEgODAsMTAuNTAwMzkyNyA4MCwzNy43MzA0NDA1IEM4MCw2NC45NjA0ODgyIDY0Ljc3NjUwMzgsNzkuMDUwMzQxNCAzNC4zMjk1MTEzLDgwIEM0Ny4wNTUzNDg5LDc3LjU2NzA4MDggNTMuNDE4MjY3Nyw3MC4zMTM2MTAzIDUzLjQxODI2NzcsNTguMjM5NTg4NSBDNTMuNDE4MjY3Nyw0MC4xMjg1NTU3IDM2LjMwMzk1NDQsMzcuNzMwNDQwNSAyNS4yMjc0MTcsMzcuNzMwNDQwNSBDMTcuODQzMDU4NiwzNy43MzA0NDA1IDkuNDMzOTE5NjYsMzcuNzMwNDQwNSAwLDM3LjczMDQ0MDUgWiIgaWQ9IlBhdGgtMTkiIGZpbGw9IiMzNzkzRUYiPjwvcGF0aD4KICAgICAgICAgICAgPC9nPgogICAgICAgIDwvZz4KICAgIDwvZz4KPC9zdmc+' > </img>\nCreated in <span style='font-weight:600;margin-left:4px;'>Deepnote</span></a>",
   "metadata": {
    "tags": [],
    "created_in_deepnote_cell": true,
    "deepnote_cell_type": "markdown"
   }
  }
 ],
 "nbformat": 4,
 "nbformat_minor": 2,
 "metadata": {
  "orig_nbformat": 2,
  "deepnote": {
   "is_reactive": false
  },
  "deepnote_notebook_id": "e61c17d9-3b8a-4c11-8284-04215b5fff64",
  "deepnote_execution_queue": []
 }
}