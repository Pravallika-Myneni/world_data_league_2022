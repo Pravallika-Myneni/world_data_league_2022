{
 "cells": [
  {
   "cell_type": "code",
   "metadata": {
    "tags": [],
    "deepnote_to_be_reexecuted": false,
    "source_hash": "2a665789",
    "execution_start": 1647996764268,
    "execution_millis": 87215811,
    "cell_id": "d315d273-b9bd-48fb-9668-cc2cce859c38",
    "deepnote_cell_type": "code",
    "deepnote_cell_height": 99
   },
   "source": "# Start writing code here...\n#test ",
   "execution_count": null,
   "outputs": []
  },
  {
   "cell_type": "code",
   "metadata": {
    "tags": [],
    "deepnote_to_be_reexecuted": false,
    "source_hash": "f901992b",
    "execution_start": 1648041810260,
    "execution_millis": 2383,
    "cell_id": "00001-23ab1317-03d3-4f06-b429-726486fcc641",
    "deepnote_cell_type": "code",
    "deepnote_cell_height": 153
   },
   "source": "import pandas as pd\nimport numpy as np\nimport seaborn as sns\nimport matplotlib.pyplot as plt\n",
   "execution_count": null,
   "outputs": []
  },
  {
   "cell_type": "code",
   "metadata": {
    "tags": [],
    "deepnote_to_be_reexecuted": false,
    "source_hash": "c907a8a9",
    "execution_start": 1648042148405,
    "execution_millis": 3266,
    "cell_id": "00002-0b397bf6-9f08-49c9-a250-37b542b8ce0e",
    "deepnote_cell_type": "code",
    "deepnote_cell_height": 503.796875
   },
   "source": "df_1 = pd.read_csv(\"https://raw.githubusercontent.com/Pravallika-Myneni/world_data_league_2022/main/stage_one/data_1/weekly_holiday_weather_pollution_garbage_data_2014-2019.csv\", index_col =0)\ndf_1['Load Type'] = df_1['Load Type'].apply(lambda x: x.strip(\"[\").strip(\"]\").split(','))\ndf_1['Load Type'] = df_1['Load Type'].apply(lambda x: max(set(x), key = x.count))\n\ndf_1['Route Number'] = df_1['Route Number'].apply(lambda x: x.strip(\"[\").strip(\"]\").split(','))\ndf_1['Route Number'] = df_1['Route Number'].apply(lambda x: max(set(x), key = x.count))\n\n\ndf_1['Route Type'] = df_1['Route Type'].apply(lambda x: x.strip(\"[\").strip(\"]\").split(','))\ndf_1['Route Type'] = df_1['Route Type'].apply(lambda x: max(set(x), key = x.count))\n\ndf_1['Dropoff Site'] = df_1['Dropoff Site'].apply(lambda x: x.strip(\"[\").strip(\"]\").split(','))\ndf_1['Dropoff Site'] = df_1['Dropoff Site'].apply(lambda x: max(set(x), key = x.count))\ndf_1.head(1)",
   "execution_count": null,
   "outputs": [
    {
     "output_type": "execute_result",
     "execution_count": 3,
     "data": {
      "application/vnd.deepnote.dataframe.v3+json": {
       "column_count": 16,
       "row_count": 1,
       "columns": [
        {
         "name": "Date",
         "dtype": "object",
         "stats": {
          "unique_count": 1,
          "nan_count": 0,
          "categories": [
           {
            "name": "2014-01-05",
            "count": 1
           }
          ]
         }
        },
        {
         "name": "Load Type",
         "dtype": "object",
         "stats": {
          "unique_count": 1,
          "nan_count": 0,
          "categories": [
           {
            "name": " 'GARBAGE COLLECTIONS'",
            "count": 1
           }
          ]
         }
        },
        {
         "name": "Load Weight",
         "dtype": "float64",
         "stats": {
          "unique_count": 1,
          "nan_count": 0,
          "min": "9621104.0",
          "max": "9621104.0",
          "histogram": [
           {
            "bin_start": 9621103.5,
            "bin_end": 9621103.6,
            "count": 0
           },
           {
            "bin_start": 9621103.6,
            "bin_end": 9621103.7,
            "count": 0
           },
           {
            "bin_start": 9621103.7,
            "bin_end": 9621103.8,
            "count": 0
           },
           {
            "bin_start": 9621103.8,
            "bin_end": 9621103.9,
            "count": 0
           },
           {
            "bin_start": 9621103.9,
            "bin_end": 9621104,
            "count": 0
           },
           {
            "bin_start": 9621104,
            "bin_end": 9621104.1,
            "count": 1
           },
           {
            "bin_start": 9621104.1,
            "bin_end": 9621104.2,
            "count": 0
           },
           {
            "bin_start": 9621104.2,
            "bin_end": 9621104.3,
            "count": 0
           },
           {
            "bin_start": 9621104.3,
            "bin_end": 9621104.4,
            "count": 0
           },
           {
            "bin_start": 9621104.4,
            "bin_end": 9621104.5,
            "count": 0
           }
          ]
         }
        },
        {
         "name": "Dropoff Site",
         "dtype": "object",
         "stats": {
          "unique_count": 1,
          "nan_count": 0,
          "categories": [
           {
            "name": " 'TDS LANDFILL'",
            "count": 1
           }
          ]
         }
        },
        {
         "name": "Route Type",
         "dtype": "object",
         "stats": {
          "unique_count": 1,
          "nan_count": 0,
          "categories": [
           {
            "name": " 'GARBAGE COLLECTION'",
            "count": 1
           }
          ]
         }
        },
        {
         "name": "Route Number",
         "dtype": "object",
         "stats": {
          "unique_count": 1,
          "nan_count": 0,
          "categories": [
           {
            "name": " 'BU06'",
            "count": 1
           }
          ]
         }
        },
        {
         "name": "Year",
         "dtype": "int64",
         "stats": {
          "unique_count": 1,
          "nan_count": 0,
          "min": "2014",
          "max": "2014",
          "histogram": [
           {
            "bin_start": 2013.5,
            "bin_end": 2013.6,
            "count": 0
           },
           {
            "bin_start": 2013.6,
            "bin_end": 2013.7,
            "count": 0
           },
           {
            "bin_start": 2013.7,
            "bin_end": 2013.8,
            "count": 0
           },
           {
            "bin_start": 2013.8,
            "bin_end": 2013.9,
            "count": 0
           },
           {
            "bin_start": 2013.9,
            "bin_end": 2014,
            "count": 0
           },
           {
            "bin_start": 2014,
            "bin_end": 2014.1,
            "count": 1
           },
           {
            "bin_start": 2014.1,
            "bin_end": 2014.2,
            "count": 0
           },
           {
            "bin_start": 2014.2,
            "bin_end": 2014.3,
            "count": 0
           },
           {
            "bin_start": 2014.3,
            "bin_end": 2014.4,
            "count": 0
           },
           {
            "bin_start": 2014.4,
            "bin_end": 2014.5,
            "count": 0
           }
          ]
         }
        },
        {
         "name": "holidays",
         "dtype": "int64",
         "stats": {
          "unique_count": 1,
          "nan_count": 0,
          "min": "1",
          "max": "1",
          "histogram": [
           {
            "bin_start": 0.5,
            "bin_end": 0.6,
            "count": 0
           },
           {
            "bin_start": 0.6,
            "bin_end": 0.7,
            "count": 0
           },
           {
            "bin_start": 0.7,
            "bin_end": 0.8,
            "count": 0
           },
           {
            "bin_start": 0.8,
            "bin_end": 0.9,
            "count": 0
           },
           {
            "bin_start": 0.9,
            "bin_end": 1,
            "count": 0
           },
           {
            "bin_start": 1,
            "bin_end": 1.1,
            "count": 1
           },
           {
            "bin_start": 1.1,
            "bin_end": 1.2000000000000002,
            "count": 0
           },
           {
            "bin_start": 1.2000000000000002,
            "bin_end": 1.3,
            "count": 0
           },
           {
            "bin_start": 1.3,
            "bin_end": 1.4,
            "count": 0
           },
           {
            "bin_start": 1.4,
            "bin_end": 1.5,
            "count": 0
           }
          ]
         }
        },
        {
         "name": "tavg",
         "dtype": "float64",
         "stats": {
          "unique_count": 1,
          "nan_count": 0,
          "min": "8.0",
          "max": "8.0",
          "histogram": [
           {
            "bin_start": 7.5,
            "bin_end": 7.6,
            "count": 0
           },
           {
            "bin_start": 7.6,
            "bin_end": 7.7,
            "count": 0
           },
           {
            "bin_start": 7.7,
            "bin_end": 7.8,
            "count": 0
           },
           {
            "bin_start": 7.8,
            "bin_end": 7.9,
            "count": 0
           },
           {
            "bin_start": 7.9,
            "bin_end": 8,
            "count": 0
           },
           {
            "bin_start": 8,
            "bin_end": 8.1,
            "count": 1
           },
           {
            "bin_start": 8.1,
            "bin_end": 8.2,
            "count": 0
           },
           {
            "bin_start": 8.2,
            "bin_end": 8.3,
            "count": 0
           },
           {
            "bin_start": 8.3,
            "bin_end": 8.4,
            "count": 0
           },
           {
            "bin_start": 8.4,
            "bin_end": 8.5,
            "count": 0
           }
          ]
         }
        },
        {
         "name": "tmin",
         "dtype": "float64",
         "stats": {
          "unique_count": 1,
          "nan_count": 0,
          "min": "-2.1",
          "max": "-2.1",
          "histogram": [
           {
            "bin_start": -2.6,
            "bin_end": -2.5,
            "count": 0
           },
           {
            "bin_start": -2.5,
            "bin_end": -2.4,
            "count": 0
           },
           {
            "bin_start": -2.4,
            "bin_end": -2.3,
            "count": 0
           },
           {
            "bin_start": -2.3,
            "bin_end": -2.2,
            "count": 0
           },
           {
            "bin_start": -2.2,
            "bin_end": -2.1,
            "count": 0
           },
           {
            "bin_start": -2.1,
            "bin_end": -2,
            "count": 1
           },
           {
            "bin_start": -2,
            "bin_end": -1.9,
            "count": 0
           },
           {
            "bin_start": -1.9,
            "bin_end": -1.8,
            "count": 0
           },
           {
            "bin_start": -1.8,
            "bin_end": -1.7000000000000002,
            "count": 0
           },
           {
            "bin_start": -1.7000000000000002,
            "bin_end": -1.6,
            "count": 0
           }
          ]
         }
        },
        {
         "name": "tmax",
         "dtype": "float64",
         "stats": {
          "unique_count": 1,
          "nan_count": 0,
          "min": "21.7",
          "max": "21.7",
          "histogram": [
           {
            "bin_start": 21.2,
            "bin_end": 21.3,
            "count": 0
           },
           {
            "bin_start": 21.3,
            "bin_end": 21.4,
            "count": 0
           },
           {
            "bin_start": 21.4,
            "bin_end": 21.5,
            "count": 0
           },
           {
            "bin_start": 21.5,
            "bin_end": 21.599999999999998,
            "count": 0
           },
           {
            "bin_start": 21.599999999999998,
            "bin_end": 21.7,
            "count": 0
           },
           {
            "bin_start": 21.7,
            "bin_end": 21.8,
            "count": 1
           },
           {
            "bin_start": 21.8,
            "bin_end": 21.9,
            "count": 0
           },
           {
            "bin_start": 21.9,
            "bin_end": 22,
            "count": 0
           },
           {
            "bin_start": 22,
            "bin_end": 22.099999999999998,
            "count": 0
           },
           {
            "bin_start": 22.099999999999998,
            "bin_end": 22.2,
            "count": 0
           }
          ]
         }
        },
        {
         "name": "prcp",
         "dtype": "float64",
         "stats": {
          "unique_count": 1,
          "nan_count": 0,
          "min": "0.0",
          "max": "0.0",
          "histogram": [
           {
            "bin_start": -0.5,
            "bin_end": -0.4,
            "count": 0
           },
           {
            "bin_start": -0.4,
            "bin_end": -0.3,
            "count": 0
           },
           {
            "bin_start": -0.3,
            "bin_end": -0.19999999999999996,
            "count": 0
           },
           {
            "bin_start": -0.19999999999999996,
            "bin_end": -0.09999999999999998,
            "count": 0
           },
           {
            "bin_start": -0.09999999999999998,
            "bin_end": 0,
            "count": 0
           },
           {
            "bin_start": 0,
            "bin_end": 0.10000000000000009,
            "count": 1
           },
           {
            "bin_start": 0.10000000000000009,
            "bin_end": 0.20000000000000007,
            "count": 0
           },
           {
            "bin_start": 0.20000000000000007,
            "bin_end": 0.30000000000000004,
            "count": 0
           },
           {
            "bin_start": 0.30000000000000004,
            "bin_end": 0.4,
            "count": 0
           },
           {
            "bin_start": 0.4,
            "bin_end": 0.5,
            "count": 0
           }
          ]
         }
        },
        {
         "name": "snow",
         "dtype": "float64",
         "stats": {
          "unique_count": 1,
          "nan_count": 0,
          "min": "0.0",
          "max": "0.0",
          "histogram": [
           {
            "bin_start": -0.5,
            "bin_end": -0.4,
            "count": 0
           },
           {
            "bin_start": -0.4,
            "bin_end": -0.3,
            "count": 0
           },
           {
            "bin_start": -0.3,
            "bin_end": -0.19999999999999996,
            "count": 0
           },
           {
            "bin_start": -0.19999999999999996,
            "bin_end": -0.09999999999999998,
            "count": 0
           },
           {
            "bin_start": -0.09999999999999998,
            "bin_end": 0,
            "count": 0
           },
           {
            "bin_start": 0,
            "bin_end": 0.10000000000000009,
            "count": 1
           },
           {
            "bin_start": 0.10000000000000009,
            "bin_end": 0.20000000000000007,
            "count": 0
           },
           {
            "bin_start": 0.20000000000000007,
            "bin_end": 0.30000000000000004,
            "count": 0
           },
           {
            "bin_start": 0.30000000000000004,
            "bin_end": 0.4,
            "count": 0
           },
           {
            "bin_start": 0.4,
            "bin_end": 0.5,
            "count": 0
           }
          ]
         }
        },
        {
         "name": "wspd",
         "dtype": "float64",
         "stats": {
          "unique_count": 1,
          "nan_count": 0,
          "min": "8.7",
          "max": "8.7",
          "histogram": [
           {
            "bin_start": 8.2,
            "bin_end": 8.299999999999999,
            "count": 0
           },
           {
            "bin_start": 8.299999999999999,
            "bin_end": 8.399999999999999,
            "count": 0
           },
           {
            "bin_start": 8.399999999999999,
            "bin_end": 8.5,
            "count": 0
           },
           {
            "bin_start": 8.5,
            "bin_end": 8.6,
            "count": 0
           },
           {
            "bin_start": 8.6,
            "bin_end": 8.7,
            "count": 0
           },
           {
            "bin_start": 8.7,
            "bin_end": 8.799999999999999,
            "count": 1
           },
           {
            "bin_start": 8.799999999999999,
            "bin_end": 8.899999999999999,
            "count": 0
           },
           {
            "bin_start": 8.899999999999999,
            "bin_end": 9,
            "count": 0
           },
           {
            "bin_start": 9,
            "bin_end": 9.1,
            "count": 0
           },
           {
            "bin_start": 9.1,
            "bin_end": 9.2,
            "count": 0
           }
          ]
         }
        },
        {
         "name": "pres",
         "dtype": "float64",
         "stats": {
          "unique_count": 1,
          "nan_count": 0,
          "min": "1023.5",
          "max": "1023.5",
          "histogram": [
           {
            "bin_start": 1023,
            "bin_end": 1023.1,
            "count": 0
           },
           {
            "bin_start": 1023.1,
            "bin_end": 1023.2,
            "count": 0
           },
           {
            "bin_start": 1023.2,
            "bin_end": 1023.3,
            "count": 0
           },
           {
            "bin_start": 1023.3,
            "bin_end": 1023.4,
            "count": 0
           },
           {
            "bin_start": 1023.4,
            "bin_end": 1023.5,
            "count": 0
           },
           {
            "bin_start": 1023.5,
            "bin_end": 1023.6,
            "count": 1
           },
           {
            "bin_start": 1023.6,
            "bin_end": 1023.7,
            "count": 0
           },
           {
            "bin_start": 1023.7,
            "bin_end": 1023.8,
            "count": 0
           },
           {
            "bin_start": 1023.8,
            "bin_end": 1023.9,
            "count": 0
           },
           {
            "bin_start": 1023.9,
            "bin_end": 1024,
            "count": 0
           }
          ]
         }
        },
        {
         "name": "tsun",
         "dtype": "float64",
         "stats": {
          "unique_count": 1,
          "nan_count": 0,
          "min": "0.0",
          "max": "0.0",
          "histogram": [
           {
            "bin_start": -0.5,
            "bin_end": -0.4,
            "count": 0
           },
           {
            "bin_start": -0.4,
            "bin_end": -0.3,
            "count": 0
           },
           {
            "bin_start": -0.3,
            "bin_end": -0.19999999999999996,
            "count": 0
           },
           {
            "bin_start": -0.19999999999999996,
            "bin_end": -0.09999999999999998,
            "count": 0
           },
           {
            "bin_start": -0.09999999999999998,
            "bin_end": 0,
            "count": 0
           },
           {
            "bin_start": 0,
            "bin_end": 0.10000000000000009,
            "count": 1
           },
           {
            "bin_start": 0.10000000000000009,
            "bin_end": 0.20000000000000007,
            "count": 0
           },
           {
            "bin_start": 0.20000000000000007,
            "bin_end": 0.30000000000000004,
            "count": 0
           },
           {
            "bin_start": 0.30000000000000004,
            "bin_end": 0.4,
            "count": 0
           },
           {
            "bin_start": 0.4,
            "bin_end": 0.5,
            "count": 0
           }
          ]
         }
        },
        {
         "name": "_deepnote_index_column",
         "dtype": "int64"
        }
       ],
       "rows": [
        {
         "Date": "2014-01-05",
         "Load Type": " 'GARBAGE COLLECTIONS'",
         "Load Weight": 9621104,
         "Dropoff Site": " 'TDS LANDFILL'",
         "Route Type": " 'GARBAGE COLLECTION'",
         "Route Number": " 'BU06'",
         "Year": 2014,
         "holidays": 1,
         "tavg": 8,
         "tmin": -2.1,
         "tmax": 21.7,
         "prcp": 0,
         "snow": 0,
         "wspd": 8.7,
         "pres": 1023.5,
         "tsun": 0,
         "_deepnote_index_column": 0
        }
       ]
      },
      "text/plain": "         Date               Load Type  Load Weight     Dropoff Site  \\\n0  2014-01-05   'GARBAGE COLLECTIONS'    9621104.0   'TDS LANDFILL'   \n\n              Route Type Route Number  Year  holidays  tavg  tmin  tmax  prcp  \\\n0   'GARBAGE COLLECTION'       'BU06'  2014         1   8.0  -2.1  21.7   0.0   \n\n   snow  wspd    pres  tsun  \n0   0.0   8.7  1023.5   0.0  ",
      "text/html": "<div>\n<style scoped>\n    .dataframe tbody tr th:only-of-type {\n        vertical-align: middle;\n    }\n\n    .dataframe tbody tr th {\n        vertical-align: top;\n    }\n\n    .dataframe thead th {\n        text-align: right;\n    }\n</style>\n<table border=\"1\" class=\"dataframe\">\n  <thead>\n    <tr style=\"text-align: right;\">\n      <th></th>\n      <th>Date</th>\n      <th>Load Type</th>\n      <th>Load Weight</th>\n      <th>Dropoff Site</th>\n      <th>Route Type</th>\n      <th>Route Number</th>\n      <th>Year</th>\n      <th>holidays</th>\n      <th>tavg</th>\n      <th>tmin</th>\n      <th>tmax</th>\n      <th>prcp</th>\n      <th>snow</th>\n      <th>wspd</th>\n      <th>pres</th>\n      <th>tsun</th>\n    </tr>\n  </thead>\n  <tbody>\n    <tr>\n      <th>0</th>\n      <td>2014-01-05</td>\n      <td>'GARBAGE COLLECTIONS'</td>\n      <td>9621104.0</td>\n      <td>'TDS LANDFILL'</td>\n      <td>'GARBAGE COLLECTION'</td>\n      <td>'BU06'</td>\n      <td>2014</td>\n      <td>1</td>\n      <td>8.0</td>\n      <td>-2.1</td>\n      <td>21.7</td>\n      <td>0.0</td>\n      <td>0.0</td>\n      <td>8.7</td>\n      <td>1023.5</td>\n      <td>0.0</td>\n    </tr>\n  </tbody>\n</table>\n</div>"
     },
     "metadata": {}
    }
   ]
  },
  {
   "cell_type": "markdown",
   "source": "##",
   "metadata": {
    "tags": [],
    "cell_id": "00030-3f10b15d-b5ed-405e-bf40-e050580e105e",
    "deepnote_cell_type": "markdown",
    "deepnote_cell_height": 46
   }
  },
  {
   "cell_type": "code",
   "metadata": {
    "tags": [],
    "deepnote_to_be_reexecuted": false,
    "source_hash": "71f19d0b",
    "execution_start": 1648040300386,
    "cell_id": "00032-7bab17d1-74d3-41c0-8ec8-e3bdebac7480",
    "deepnote_cell_type": "code",
    "deepnote_cell_height": 81
   },
   "source": "",
   "execution_count": null,
   "outputs": []
  },
  {
   "cell_type": "code",
   "metadata": {
    "tags": [],
    "cell_id": "00033-f5217e5d-8f0e-4073-9b24-587adad8bc77",
    "deepnote_cell_type": "code",
    "deepnote_cell_height": 66
   },
   "source": "",
   "execution_count": null,
   "outputs": []
  },
  {
   "cell_type": "markdown",
   "source": "<a style='text-decoration:none;line-height:16px;display:flex;color:#5B5B62;padding:10px;justify-content:end;' href='https://deepnote.com?utm_source=created-in-deepnote-cell&projectId=1a1cabe9-69f7-4a67-be18-e232e1feb2b6' target=\"_blank\">\n<img alt='Created in deepnote.com' style='display:inline;max-height:16px;margin:0px;margin-right:7.5px;' src='data:image/svg+xml;base64,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' > </img>\nCreated in <span style='font-weight:600;margin-left:4px;'>Deepnote</span></a>",
   "metadata": {
    "tags": [],
    "created_in_deepnote_cell": true,
    "deepnote_cell_type": "markdown"
   }
  }
 ],
 "nbformat": 4,
 "nbformat_minor": 2,
 "metadata": {
  "orig_nbformat": 2,
  "deepnote": {
   "is_reactive": false
  },
  "deepnote_notebook_id": "e61c17d9-3b8a-4c11-8284-04215b5fff64",
  "deepnote_execution_queue": []
 }
}