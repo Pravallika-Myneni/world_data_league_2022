{
 "cells": [
  {
   "cell_type": "markdown",
   "id": "2716b608",
   "metadata": {},
   "source": [
    "# Predict Waste Production for its Reduction"
   ]
  },
  {
   "cell_type": "markdown",
   "id": "7fa2218f",
   "metadata": {},
   "source": [
    "## Context"
   ]
  },
  {
   "cell_type": "markdown",
   "id": "c3e4da3c",
   "metadata": {},
   "source": [
    "According to the World Bank, in 2016 cities generated 2.01 billion tons of solid waste. Per\n",
    "person, this is around 0.74 kg/day! With the rapid growth of cities, this number is only\n",
    "expected to increase. As cities are growing, it is urgent that optimization processes for\n",
    "waste processing and more targeted public education on waste management and\n",
    "separation. Finally, it is also important to note that waste collection also has an impact on air pollution."
   ]
  },
  {
   "cell_type": "markdown",
   "id": "ddb319ad",
   "metadata": {},
   "source": [
    "## Goal & Outcome"
   ]
  },
  {
   "cell_type": "markdown",
   "id": "650aa2d3",
   "metadata": {},
   "source": [
    "The goal of this challenge is to help identify trends in waste production and help to create\n",
    "insights into how to reduce waste and optimize its collection. The expected outcome to this challenge is to identify waste trends and to produce an\n",
    "explainable model for predicting future waste production.\n",
    "Finally, don’t forget to propose the application (product) for the model and study its\n",
    "impact."
   ]
  },
  {
   "cell_type": "markdown",
   "id": "280078f7",
   "metadata": {},
   "source": [
    "## Data"
   ]
  },
  {
   "cell_type": "markdown",
   "id": "848a5a1b",
   "metadata": {},
   "source": [
    "Austin Resource Recovery daily report providing waste collection information based on the following categories:\n",
    "- Report Date: The date collections information was recorded.\n",
    "- Load Type: The specific type of load that is being collected on that day.\n",
    "- Load Time: Date & Time of Loading\n",
    "- Load Weight: The weight (in pounds) collected for each service on the day it was delivered to a diversion facility\n",
    "- Drop off Site: The location where each type of waste is delivered for disposal, recycling or reuse: TDS Landfill indicates the Texas Disposal System landfill located at 12200 Carl Rd, Creedmoor, TX 78610; Balcones Recycling is a recycling facility located at 9301 Johnny Morris Road Austin, TX 78724; MRF is a Materials Recycling Facility (such as Texas Disposal Systems or Balcones Recycling); Hornsby Bend is located at 2210 FM 973, Austin, TX 78725 and accepts food scraps, yard trimmings, food-soiled paper and other materials collected by ARR, and combined with other waste to produce nutrient-rich dillo dirt, used for landscaping.\n",
    "- Route Type: The general category of collection service provided by Austin Resource Recovery\n",
    "- Route Number: Austin Resource Recovery route that the truck that collected this load was following. Each route has abbreviated letters indicating the service type (e.g. Bulk = \"BU\") and a number indicating the specific route.\n",
    "\n",
    "This information is used to help ARR reach its goals to transform waste into resources while keeping our community clean. For more information, visit www.austintexas.gov/department/austin-resource-recovery"
   ]
  },
  {
   "cell_type": "markdown",
   "id": "fe5be3dc",
   "metadata": {},
   "source": [
    "# Development"
   ]
  },
  {
   "cell_type": "code",
   "execution_count": 11,
   "id": "5420d27c",
   "metadata": {},
   "outputs": [],
   "source": [
    "import pandas as pd\n",
    "import math\n",
    "import plotly.express as px\n",
    "import json\n",
    "import fiona\n",
    "import geopandas as gpd\n",
    "import requests\n",
    "import numpy as np\n",
    "import matplotlib.pyplot as plt\n",
    "import osmnx as ox\n",
    "import osmium\n",
    "from shapely.geometry import shape \n",
    "from datetime import datetime"
   ]
  },
  {
   "cell_type": "markdown",
   "id": "f9cfb1c3",
   "metadata": {},
   "source": [
    "!apt install libspatialindex-dev\n",
    "!pip install osmnx\n",
    "!pip install osmium\n",
    "!pip install contextily\n",
    "!pip install osm-runner"
   ]
  },
  {
   "cell_type": "code",
   "execution_count": 12,
   "id": "dbcc9a68",
   "metadata": {},
   "outputs": [],
   "source": [
    "pd.set_option('float_format', '{:f}'.format)"
   ]
  },
  {
   "cell_type": "code",
   "execution_count": 14,
   "id": "e1258c6d",
   "metadata": {},
   "outputs": [],
   "source": [
    "pd.set_option('display.max_columns', None)  "
   ]
  },
  {
   "cell_type": "code",
   "execution_count": 27,
   "id": "d751316c",
   "metadata": {},
   "outputs": [],
   "source": [
    "data = pd.read_csv(\"data/waste_data.csv\")"
   ]
  },
  {
   "cell_type": "code",
   "execution_count": 16,
   "id": "4ee3e3d1",
   "metadata": {},
   "outputs": [
    {
     "data": {
      "text/html": [
       "<div>\n",
       "<style scoped>\n",
       "    .dataframe tbody tr th:only-of-type {\n",
       "        vertical-align: middle;\n",
       "    }\n",
       "\n",
       "    .dataframe tbody tr th {\n",
       "        vertical-align: top;\n",
       "    }\n",
       "\n",
       "    .dataframe thead th {\n",
       "        text-align: right;\n",
       "    }\n",
       "</style>\n",
       "<table border=\"1\" class=\"dataframe\">\n",
       "  <thead>\n",
       "    <tr style=\"text-align: right;\">\n",
       "      <th></th>\n",
       "      <th>Report Date</th>\n",
       "      <th>Load Type</th>\n",
       "      <th>Load Time</th>\n",
       "      <th>Load Weight</th>\n",
       "      <th>Dropoff Site</th>\n",
       "      <th>Route Type</th>\n",
       "      <th>Route Number</th>\n",
       "      <th>Load ID</th>\n",
       "    </tr>\n",
       "  </thead>\n",
       "  <tbody>\n",
       "    <tr>\n",
       "      <th>0</th>\n",
       "      <td>12/08/2020</td>\n",
       "      <td>BULK</td>\n",
       "      <td>12/08/2020 03:02:00 PM</td>\n",
       "      <td>5220.000000</td>\n",
       "      <td>TDS LANDFILL</td>\n",
       "      <td>BULK</td>\n",
       "      <td>BU13</td>\n",
       "      <td>899097</td>\n",
       "    </tr>\n",
       "    <tr>\n",
       "      <th>1</th>\n",
       "      <td>12/08/2020</td>\n",
       "      <td>RECYCLING - SINGLE STREAM</td>\n",
       "      <td>12/08/2020 10:00:00 AM</td>\n",
       "      <td>11140.000000</td>\n",
       "      <td>TDS - MRF</td>\n",
       "      <td>RECYCLING - SINGLE STREAM</td>\n",
       "      <td>RTAU53</td>\n",
       "      <td>899078</td>\n",
       "    </tr>\n",
       "    <tr>\n",
       "      <th>2</th>\n",
       "      <td>12/03/2020</td>\n",
       "      <td>RECYCLING - SINGLE STREAM</td>\n",
       "      <td>12/03/2020 10:34:00 AM</td>\n",
       "      <td>10060.000000</td>\n",
       "      <td>BALCONES RECYCLING</td>\n",
       "      <td>RECYCLING - SINGLE STREAM</td>\n",
       "      <td>RHBU10</td>\n",
       "      <td>899082</td>\n",
       "    </tr>\n",
       "    <tr>\n",
       "      <th>3</th>\n",
       "      <td>12/07/2020</td>\n",
       "      <td>SWEEPING</td>\n",
       "      <td>12/07/2020 10:15:00 AM</td>\n",
       "      <td>7100.000000</td>\n",
       "      <td>TDS LANDFILL</td>\n",
       "      <td>SWEEPER DUMPSITES</td>\n",
       "      <td>DSS04</td>\n",
       "      <td>899030</td>\n",
       "    </tr>\n",
       "    <tr>\n",
       "      <th>4</th>\n",
       "      <td>12/07/2020</td>\n",
       "      <td>RECYCLING - SINGLE STREAM</td>\n",
       "      <td>12/07/2020 04:00:00 PM</td>\n",
       "      <td>12000.000000</td>\n",
       "      <td>TDS - MRF</td>\n",
       "      <td>RECYCLING - SINGLE STREAM</td>\n",
       "      <td>RMAU53</td>\n",
       "      <td>899048</td>\n",
       "    </tr>\n",
       "  </tbody>\n",
       "</table>\n",
       "</div>"
      ],
      "text/plain": [
       "  Report Date                  Load Type               Load Time  Load Weight  \\\n",
       "0  12/08/2020                       BULK  12/08/2020 03:02:00 PM  5220.000000   \n",
       "1  12/08/2020  RECYCLING - SINGLE STREAM  12/08/2020 10:00:00 AM 11140.000000   \n",
       "2  12/03/2020  RECYCLING - SINGLE STREAM  12/03/2020 10:34:00 AM 10060.000000   \n",
       "3  12/07/2020                   SWEEPING  12/07/2020 10:15:00 AM  7100.000000   \n",
       "4  12/07/2020  RECYCLING - SINGLE STREAM  12/07/2020 04:00:00 PM 12000.000000   \n",
       "\n",
       "         Dropoff Site                 Route Type Route Number  Load ID  \n",
       "0        TDS LANDFILL                       BULK         BU13   899097  \n",
       "1           TDS - MRF  RECYCLING - SINGLE STREAM       RTAU53   899078  \n",
       "2  BALCONES RECYCLING  RECYCLING - SINGLE STREAM       RHBU10   899082  \n",
       "3        TDS LANDFILL          SWEEPER DUMPSITES        DSS04   899030  \n",
       "4           TDS - MRF  RECYCLING - SINGLE STREAM       RMAU53   899048  "
      ]
     },
     "execution_count": 16,
     "metadata": {},
     "output_type": "execute_result"
    }
   ],
   "source": [
    "data.head()"
   ]
  },
  {
   "cell_type": "code",
   "execution_count": 17,
   "id": "e77c6273",
   "metadata": {},
   "outputs": [
    {
     "data": {
      "text/html": [
       "<div>\n",
       "<style scoped>\n",
       "    .dataframe tbody tr th:only-of-type {\n",
       "        vertical-align: middle;\n",
       "    }\n",
       "\n",
       "    .dataframe tbody tr th {\n",
       "        vertical-align: top;\n",
       "    }\n",
       "\n",
       "    .dataframe thead th {\n",
       "        text-align: right;\n",
       "    }\n",
       "</style>\n",
       "<table border=\"1\" class=\"dataframe\">\n",
       "  <thead>\n",
       "    <tr style=\"text-align: right;\">\n",
       "      <th></th>\n",
       "      <th>Report Date</th>\n",
       "      <th>Load Type</th>\n",
       "      <th>Load Time</th>\n",
       "      <th>Load Weight</th>\n",
       "      <th>Dropoff Site</th>\n",
       "      <th>Route Type</th>\n",
       "      <th>Route Number</th>\n",
       "      <th>Load ID</th>\n",
       "    </tr>\n",
       "  </thead>\n",
       "  <tbody>\n",
       "    <tr>\n",
       "      <th>740868</th>\n",
       "      <td>04/09/2008</td>\n",
       "      <td>RECYCLING - PAPER</td>\n",
       "      <td>07/11/2021 07:00:39 AM</td>\n",
       "      <td>1080.000000</td>\n",
       "      <td>MRF</td>\n",
       "      <td>RECYCLING</td>\n",
       "      <td>RW05</td>\n",
       "      <td>273708</td>\n",
       "    </tr>\n",
       "    <tr>\n",
       "      <th>740869</th>\n",
       "      <td>12/01/2015</td>\n",
       "      <td>BULK</td>\n",
       "      <td>07/11/2021 07:05:29 AM</td>\n",
       "      <td>9360.000000</td>\n",
       "      <td>TDS LANDFILL</td>\n",
       "      <td>STORM</td>\n",
       "      <td>HAFLDBU15</td>\n",
       "      <td>676651</td>\n",
       "    </tr>\n",
       "    <tr>\n",
       "      <th>740870</th>\n",
       "      <td>04/25/2007</td>\n",
       "      <td>YARD TRIMMING</td>\n",
       "      <td>07/11/2021 07:01:56 AM</td>\n",
       "      <td>NaN</td>\n",
       "      <td>HORNSBY BEND</td>\n",
       "      <td>YARD TRIMMINGS</td>\n",
       "      <td>YW04</td>\n",
       "      <td>224646</td>\n",
       "    </tr>\n",
       "    <tr>\n",
       "      <th>740871</th>\n",
       "      <td>04/09/2008</td>\n",
       "      <td>RECYCLING - COMINGLE</td>\n",
       "      <td>07/11/2021 07:00:39 AM</td>\n",
       "      <td>3960.000000</td>\n",
       "      <td>MRF</td>\n",
       "      <td>RECYCLING</td>\n",
       "      <td>RW04</td>\n",
       "      <td>273706</td>\n",
       "    </tr>\n",
       "    <tr>\n",
       "      <th>740872</th>\n",
       "      <td>04/08/2008</td>\n",
       "      <td>RECYCLING - COMINGLE</td>\n",
       "      <td>07/11/2021 07:00:39 AM</td>\n",
       "      <td>5280.000000</td>\n",
       "      <td>MRF</td>\n",
       "      <td>RECYCLING</td>\n",
       "      <td>RT24</td>\n",
       "      <td>273694</td>\n",
       "    </tr>\n",
       "  </tbody>\n",
       "</table>\n",
       "</div>"
      ],
      "text/plain": [
       "       Report Date             Load Type               Load Time  Load Weight  \\\n",
       "740868  04/09/2008     RECYCLING - PAPER  07/11/2021 07:00:39 AM  1080.000000   \n",
       "740869  12/01/2015                  BULK  07/11/2021 07:05:29 AM  9360.000000   \n",
       "740870  04/25/2007         YARD TRIMMING  07/11/2021 07:01:56 AM          NaN   \n",
       "740871  04/09/2008  RECYCLING - COMINGLE  07/11/2021 07:00:39 AM  3960.000000   \n",
       "740872  04/08/2008  RECYCLING - COMINGLE  07/11/2021 07:00:39 AM  5280.000000   \n",
       "\n",
       "        Dropoff Site      Route Type Route Number  Load ID  \n",
       "740868           MRF       RECYCLING         RW05   273708  \n",
       "740869  TDS LANDFILL           STORM    HAFLDBU15   676651  \n",
       "740870  HORNSBY BEND  YARD TRIMMINGS         YW04   224646  \n",
       "740871           MRF       RECYCLING         RW04   273706  \n",
       "740872           MRF       RECYCLING         RT24   273694  "
      ]
     },
     "execution_count": 17,
     "metadata": {},
     "output_type": "execute_result"
    }
   ],
   "source": [
    "data.tail()"
   ]
  },
  {
   "cell_type": "code",
   "execution_count": 18,
   "id": "4a8af811",
   "metadata": {
    "scrolled": true
   },
   "outputs": [
    {
     "name": "stdout",
     "output_type": "stream",
     "text": [
      "<class 'pandas.core.frame.DataFrame'>\n",
      "RangeIndex: 740873 entries, 0 to 740872\n",
      "Data columns (total 8 columns):\n",
      " #   Column        Non-Null Count   Dtype  \n",
      "---  ------        --------------   -----  \n",
      " 0   Report Date   740873 non-null  object \n",
      " 1   Load Type     740873 non-null  object \n",
      " 2   Load Time     740873 non-null  object \n",
      " 3   Load Weight   668538 non-null  float64\n",
      " 4   Dropoff Site  740873 non-null  object \n",
      " 5   Route Type    740873 non-null  object \n",
      " 6   Route Number  740873 non-null  object \n",
      " 7   Load ID       740873 non-null  int64  \n",
      "dtypes: float64(1), int64(1), object(6)\n",
      "memory usage: 45.2+ MB\n"
     ]
    }
   ],
   "source": [
    "data.info()"
   ]
  },
  {
   "cell_type": "code",
   "execution_count": 19,
   "id": "a1de5b1a",
   "metadata": {
    "scrolled": false
   },
   "outputs": [
    {
     "data": {
      "text/html": [
       "<div>\n",
       "<style scoped>\n",
       "    .dataframe tbody tr th:only-of-type {\n",
       "        vertical-align: middle;\n",
       "    }\n",
       "\n",
       "    .dataframe tbody tr th {\n",
       "        vertical-align: top;\n",
       "    }\n",
       "\n",
       "    .dataframe thead th {\n",
       "        text-align: right;\n",
       "    }\n",
       "</style>\n",
       "<table border=\"1\" class=\"dataframe\">\n",
       "  <thead>\n",
       "    <tr style=\"text-align: right;\">\n",
       "      <th></th>\n",
       "      <th>Load Weight</th>\n",
       "      <th>Load ID</th>\n",
       "    </tr>\n",
       "  </thead>\n",
       "  <tbody>\n",
       "    <tr>\n",
       "      <th>count</th>\n",
       "      <td>668538.000000</td>\n",
       "      <td>740873.000000</td>\n",
       "    </tr>\n",
       "    <tr>\n",
       "      <th>mean</th>\n",
       "      <td>11763.477576</td>\n",
       "      <td>521353.123651</td>\n",
       "    </tr>\n",
       "    <tr>\n",
       "      <th>std</th>\n",
       "      <td>7554.855662</td>\n",
       "      <td>249972.621259</td>\n",
       "    </tr>\n",
       "    <tr>\n",
       "      <th>min</th>\n",
       "      <td>-4480.000000</td>\n",
       "      <td>101223.000000</td>\n",
       "    </tr>\n",
       "    <tr>\n",
       "      <th>25%</th>\n",
       "      <td>5740.000000</td>\n",
       "      <td>289609.000000</td>\n",
       "    </tr>\n",
       "    <tr>\n",
       "      <th>50%</th>\n",
       "      <td>11020.000000</td>\n",
       "      <td>554862.000000</td>\n",
       "    </tr>\n",
       "    <tr>\n",
       "      <th>75%</th>\n",
       "      <td>16520.000000</td>\n",
       "      <td>741648.000000</td>\n",
       "    </tr>\n",
       "    <tr>\n",
       "      <th>max</th>\n",
       "      <td>1562821.000000</td>\n",
       "      <td>929006.000000</td>\n",
       "    </tr>\n",
       "  </tbody>\n",
       "</table>\n",
       "</div>"
      ],
      "text/plain": [
       "         Load Weight       Load ID\n",
       "count  668538.000000 740873.000000\n",
       "mean    11763.477576 521353.123651\n",
       "std      7554.855662 249972.621259\n",
       "min     -4480.000000 101223.000000\n",
       "25%      5740.000000 289609.000000\n",
       "50%     11020.000000 554862.000000\n",
       "75%     16520.000000 741648.000000\n",
       "max   1562821.000000 929006.000000"
      ]
     },
     "execution_count": 19,
     "metadata": {},
     "output_type": "execute_result"
    }
   ],
   "source": [
    "data.describe()"
   ]
  },
  {
   "cell_type": "code",
   "execution_count": 28,
   "id": "92e53ecd",
   "metadata": {},
   "outputs": [
    {
     "data": {
      "text/plain": [
       "72335"
      ]
     },
     "execution_count": 28,
     "metadata": {},
     "output_type": "execute_result"
    }
   ],
   "source": [
    "len(data[np.isnan(data[\"Load Weight\"])])"
   ]
  },
  {
   "cell_type": "code",
   "execution_count": 30,
   "id": "95a6e7d5",
   "metadata": {},
   "outputs": [],
   "source": [
    "#removing NaN valued from Load Weight\n",
    "data = data[np.isnan(data[\"Load Weight\"]) == False]"
   ]
  },
  {
   "cell_type": "code",
   "execution_count": 31,
   "id": "cc7daef1",
   "metadata": {},
   "outputs": [],
   "source": [
    "data[\"Report Date\"] = pd.to_datetime(data[\"Report Date\"])\n",
    "data[\"Load Time\"] = pd.to_datetime(data[\"Load Time\"])"
   ]
  },
  {
   "cell_type": "code",
   "execution_count": 32,
   "id": "b3e59c90",
   "metadata": {
    "scrolled": true
   },
   "outputs": [
    {
     "data": {
      "text/html": [
       "<div>\n",
       "<style scoped>\n",
       "    .dataframe tbody tr th:only-of-type {\n",
       "        vertical-align: middle;\n",
       "    }\n",
       "\n",
       "    .dataframe tbody tr th {\n",
       "        vertical-align: top;\n",
       "    }\n",
       "\n",
       "    .dataframe thead th {\n",
       "        text-align: right;\n",
       "    }\n",
       "</style>\n",
       "<table border=\"1\" class=\"dataframe\">\n",
       "  <thead>\n",
       "    <tr style=\"text-align: right;\">\n",
       "      <th></th>\n",
       "      <th>Report Date</th>\n",
       "      <th>Load Type</th>\n",
       "      <th>Load Time</th>\n",
       "      <th>Load Weight</th>\n",
       "      <th>Dropoff Site</th>\n",
       "      <th>Route Type</th>\n",
       "      <th>Route Number</th>\n",
       "      <th>Load ID</th>\n",
       "    </tr>\n",
       "  </thead>\n",
       "  <tbody>\n",
       "    <tr>\n",
       "      <th>0</th>\n",
       "      <td>2020-12-08</td>\n",
       "      <td>BULK</td>\n",
       "      <td>2020-12-08 15:02:00</td>\n",
       "      <td>5220.000000</td>\n",
       "      <td>TDS LANDFILL</td>\n",
       "      <td>BULK</td>\n",
       "      <td>BU13</td>\n",
       "      <td>899097</td>\n",
       "    </tr>\n",
       "    <tr>\n",
       "      <th>1</th>\n",
       "      <td>2020-12-08</td>\n",
       "      <td>RECYCLING - SINGLE STREAM</td>\n",
       "      <td>2020-12-08 10:00:00</td>\n",
       "      <td>11140.000000</td>\n",
       "      <td>TDS - MRF</td>\n",
       "      <td>RECYCLING - SINGLE STREAM</td>\n",
       "      <td>RTAU53</td>\n",
       "      <td>899078</td>\n",
       "    </tr>\n",
       "    <tr>\n",
       "      <th>2</th>\n",
       "      <td>2020-12-03</td>\n",
       "      <td>RECYCLING - SINGLE STREAM</td>\n",
       "      <td>2020-12-03 10:34:00</td>\n",
       "      <td>10060.000000</td>\n",
       "      <td>BALCONES RECYCLING</td>\n",
       "      <td>RECYCLING - SINGLE STREAM</td>\n",
       "      <td>RHBU10</td>\n",
       "      <td>899082</td>\n",
       "    </tr>\n",
       "    <tr>\n",
       "      <th>3</th>\n",
       "      <td>2020-12-07</td>\n",
       "      <td>SWEEPING</td>\n",
       "      <td>2020-12-07 10:15:00</td>\n",
       "      <td>7100.000000</td>\n",
       "      <td>TDS LANDFILL</td>\n",
       "      <td>SWEEPER DUMPSITES</td>\n",
       "      <td>DSS04</td>\n",
       "      <td>899030</td>\n",
       "    </tr>\n",
       "    <tr>\n",
       "      <th>4</th>\n",
       "      <td>2020-12-07</td>\n",
       "      <td>RECYCLING - SINGLE STREAM</td>\n",
       "      <td>2020-12-07 16:00:00</td>\n",
       "      <td>12000.000000</td>\n",
       "      <td>TDS - MRF</td>\n",
       "      <td>RECYCLING - SINGLE STREAM</td>\n",
       "      <td>RMAU53</td>\n",
       "      <td>899048</td>\n",
       "    </tr>\n",
       "    <tr>\n",
       "      <th>...</th>\n",
       "      <td>...</td>\n",
       "      <td>...</td>\n",
       "      <td>...</td>\n",
       "      <td>...</td>\n",
       "      <td>...</td>\n",
       "      <td>...</td>\n",
       "      <td>...</td>\n",
       "      <td>...</td>\n",
       "    </tr>\n",
       "    <tr>\n",
       "      <th>96</th>\n",
       "      <td>2020-12-09</td>\n",
       "      <td>BRUSH</td>\n",
       "      <td>2020-12-09 11:27:00</td>\n",
       "      <td>8200.000000</td>\n",
       "      <td>HORNSBY BEND</td>\n",
       "      <td>BRUSH</td>\n",
       "      <td>BR24</td>\n",
       "      <td>899245</td>\n",
       "    </tr>\n",
       "    <tr>\n",
       "      <th>97</th>\n",
       "      <td>2020-12-08</td>\n",
       "      <td>ORGANICS</td>\n",
       "      <td>2020-12-08 13:53:00</td>\n",
       "      <td>11660.000000</td>\n",
       "      <td>ORGANICS BY GOSH</td>\n",
       "      <td>YARD TRIMMINGS-ORGANICS</td>\n",
       "      <td>OBT99</td>\n",
       "      <td>899223</td>\n",
       "    </tr>\n",
       "    <tr>\n",
       "      <th>98</th>\n",
       "      <td>2020-12-08</td>\n",
       "      <td>ORGANICS</td>\n",
       "      <td>2020-12-08 14:53:00</td>\n",
       "      <td>12840.000000</td>\n",
       "      <td>ORGANICS BY GOSH</td>\n",
       "      <td>YARD TRIMMINGS-ORGANICS</td>\n",
       "      <td>OT10</td>\n",
       "      <td>899254</td>\n",
       "    </tr>\n",
       "    <tr>\n",
       "      <th>99</th>\n",
       "      <td>2020-11-28</td>\n",
       "      <td>RECYCLING - SINGLE STREAM</td>\n",
       "      <td>2020-11-28 11:10:00</td>\n",
       "      <td>12210.000000</td>\n",
       "      <td>BALCONES RECYCLING</td>\n",
       "      <td>RECYCLING - SINGLE STREAM</td>\n",
       "      <td>RFAS41</td>\n",
       "      <td>899192</td>\n",
       "    </tr>\n",
       "    <tr>\n",
       "      <th>100</th>\n",
       "      <td>2020-12-08</td>\n",
       "      <td>GARBAGE COLLECTIONS</td>\n",
       "      <td>2020-12-08 16:45:00</td>\n",
       "      <td>14000.000000</td>\n",
       "      <td>TDS LANDFILL</td>\n",
       "      <td>GARBAGE COLLECTION</td>\n",
       "      <td>PAT74</td>\n",
       "      <td>899114</td>\n",
       "    </tr>\n",
       "  </tbody>\n",
       "</table>\n",
       "<p>100 rows × 8 columns</p>\n",
       "</div>"
      ],
      "text/plain": [
       "    Report Date                  Load Type           Load Time  Load Weight  \\\n",
       "0    2020-12-08                       BULK 2020-12-08 15:02:00  5220.000000   \n",
       "1    2020-12-08  RECYCLING - SINGLE STREAM 2020-12-08 10:00:00 11140.000000   \n",
       "2    2020-12-03  RECYCLING - SINGLE STREAM 2020-12-03 10:34:00 10060.000000   \n",
       "3    2020-12-07                   SWEEPING 2020-12-07 10:15:00  7100.000000   \n",
       "4    2020-12-07  RECYCLING - SINGLE STREAM 2020-12-07 16:00:00 12000.000000   \n",
       "..          ...                        ...                 ...          ...   \n",
       "96   2020-12-09                      BRUSH 2020-12-09 11:27:00  8200.000000   \n",
       "97   2020-12-08                   ORGANICS 2020-12-08 13:53:00 11660.000000   \n",
       "98   2020-12-08                   ORGANICS 2020-12-08 14:53:00 12840.000000   \n",
       "99   2020-11-28  RECYCLING - SINGLE STREAM 2020-11-28 11:10:00 12210.000000   \n",
       "100  2020-12-08        GARBAGE COLLECTIONS 2020-12-08 16:45:00 14000.000000   \n",
       "\n",
       "           Dropoff Site                 Route Type Route Number  Load ID  \n",
       "0          TDS LANDFILL                       BULK         BU13   899097  \n",
       "1             TDS - MRF  RECYCLING - SINGLE STREAM       RTAU53   899078  \n",
       "2    BALCONES RECYCLING  RECYCLING - SINGLE STREAM       RHBU10   899082  \n",
       "3          TDS LANDFILL          SWEEPER DUMPSITES        DSS04   899030  \n",
       "4             TDS - MRF  RECYCLING - SINGLE STREAM       RMAU53   899048  \n",
       "..                  ...                        ...          ...      ...  \n",
       "96         HORNSBY BEND                      BRUSH         BR24   899245  \n",
       "97     ORGANICS BY GOSH    YARD TRIMMINGS-ORGANICS        OBT99   899223  \n",
       "98     ORGANICS BY GOSH    YARD TRIMMINGS-ORGANICS         OT10   899254  \n",
       "99   BALCONES RECYCLING  RECYCLING - SINGLE STREAM       RFAS41   899192  \n",
       "100        TDS LANDFILL         GARBAGE COLLECTION        PAT74   899114  \n",
       "\n",
       "[100 rows x 8 columns]"
      ]
     },
     "execution_count": 32,
     "metadata": {},
     "output_type": "execute_result"
    }
   ],
   "source": [
    "data.head(100)"
   ]
  },
  {
   "cell_type": "code",
   "execution_count": 35,
   "id": "17bcf47a",
   "metadata": {
    "scrolled": false
   },
   "outputs": [],
   "source": [
    "# Here we can see two typos which we can correct for\n",
    "# The year was inputted wrong while the date and month were inputed right \n",
    "data = data[pd.DatetimeIndex(data[\"Load Time\"]).year <= 2021] "
   ]
  },
  {
   "cell_type": "code",
   "execution_count": null,
   "id": "29db8916",
   "metadata": {},
   "outputs": [],
   "source": [
    "# Correct two rows\n",
    "# data.iloc[[354250], 2] = data.iloc[[354250], 2].replace(year=2021)\n",
    "# data.iloc[[730958], 2] = data.iloc[[730958], 2].replace(year=2021)"
   ]
  },
  {
   "cell_type": "code",
   "execution_count": 36,
   "id": "86e70353",
   "metadata": {},
   "outputs": [
    {
     "data": {
      "text/html": [
       "<div>\n",
       "<style scoped>\n",
       "    .dataframe tbody tr th:only-of-type {\n",
       "        vertical-align: middle;\n",
       "    }\n",
       "\n",
       "    .dataframe tbody tr th {\n",
       "        vertical-align: top;\n",
       "    }\n",
       "\n",
       "    .dataframe thead th {\n",
       "        text-align: right;\n",
       "    }\n",
       "</style>\n",
       "<table border=\"1\" class=\"dataframe\">\n",
       "  <thead>\n",
       "    <tr style=\"text-align: right;\">\n",
       "      <th></th>\n",
       "      <th>Report Date</th>\n",
       "      <th>Load Type</th>\n",
       "      <th>Load Time</th>\n",
       "      <th>Load Weight</th>\n",
       "      <th>Dropoff Site</th>\n",
       "      <th>Route Type</th>\n",
       "      <th>Route Number</th>\n",
       "      <th>Load ID</th>\n",
       "    </tr>\n",
       "  </thead>\n",
       "  <tbody>\n",
       "  </tbody>\n",
       "</table>\n",
       "</div>"
      ],
      "text/plain": [
       "Empty DataFrame\n",
       "Columns: [Report Date, Load Type, Load Time, Load Weight, Dropoff Site, Route Type, Route Number, Load ID]\n",
       "Index: []"
      ]
     },
     "execution_count": 36,
     "metadata": {},
     "output_type": "execute_result"
    }
   ],
   "source": [
    "data[pd.DatetimeIndex(data[\"Load Time\"]).year > 2021] "
   ]
  },
  {
   "cell_type": "code",
   "execution_count": 37,
   "id": "ab76193d",
   "metadata": {},
   "outputs": [
    {
     "data": {
      "text/plain": [
       "Report Date     datetime64[ns]\n",
       "Load Type               object\n",
       "Load Time       datetime64[ns]\n",
       "Load Weight            float64\n",
       "Dropoff Site            object\n",
       "Route Type              object\n",
       "Route Number            object\n",
       "Load ID                  int64\n",
       "dtype: object"
      ]
     },
     "execution_count": 37,
     "metadata": {},
     "output_type": "execute_result"
    }
   ],
   "source": [
    "data.dtypes"
   ]
  },
  {
   "cell_type": "code",
   "execution_count": 38,
   "id": "997ccf05",
   "metadata": {
    "scrolled": false
   },
   "outputs": [
    {
     "data": {
      "text/html": [
       "<div>\n",
       "<style scoped>\n",
       "    .dataframe tbody tr th:only-of-type {\n",
       "        vertical-align: middle;\n",
       "    }\n",
       "\n",
       "    .dataframe tbody tr th {\n",
       "        vertical-align: top;\n",
       "    }\n",
       "\n",
       "    .dataframe thead th {\n",
       "        text-align: right;\n",
       "    }\n",
       "</style>\n",
       "<table border=\"1\" class=\"dataframe\">\n",
       "  <thead>\n",
       "    <tr style=\"text-align: right;\">\n",
       "      <th></th>\n",
       "      <th>Report Date</th>\n",
       "      <th>Load Type</th>\n",
       "      <th>Load Time</th>\n",
       "      <th>Load Weight</th>\n",
       "      <th>Dropoff Site</th>\n",
       "      <th>Route Type</th>\n",
       "      <th>Route Number</th>\n",
       "      <th>Load ID</th>\n",
       "    </tr>\n",
       "  </thead>\n",
       "  <tbody>\n",
       "    <tr>\n",
       "      <th>717844</th>\n",
       "      <td>2020-12-21</td>\n",
       "      <td>RECYCLING - SINGLE STREAM</td>\n",
       "      <td>2021-12-21 12:41:00</td>\n",
       "      <td>6940.000000</td>\n",
       "      <td>TDS LANDFILL</td>\n",
       "      <td>RECYCLING - SINGLE STREAM</td>\n",
       "      <td>RMAU21</td>\n",
       "      <td>906125</td>\n",
       "    </tr>\n",
       "    <tr>\n",
       "      <th>739696</th>\n",
       "      <td>2020-11-24</td>\n",
       "      <td>ORGANICS</td>\n",
       "      <td>2021-12-07 00:00:00</td>\n",
       "      <td>1340.000000</td>\n",
       "      <td>ORGANICS BY GOSH</td>\n",
       "      <td>YARD TRIMMINGS-ORGANICS</td>\n",
       "      <td>OBT99</td>\n",
       "      <td>927983</td>\n",
       "    </tr>\n",
       "    <tr>\n",
       "      <th>740735</th>\n",
       "      <td>2021-06-28</td>\n",
       "      <td>MIXED LITTER</td>\n",
       "      <td>2021-07-11 07:07:45</td>\n",
       "      <td>3140.000000</td>\n",
       "      <td>TDS LANDFILL</td>\n",
       "      <td>KAB</td>\n",
       "      <td>KAB02</td>\n",
       "      <td>927260</td>\n",
       "    </tr>\n",
       "    <tr>\n",
       "      <th>740751</th>\n",
       "      <td>2021-06-30</td>\n",
       "      <td>GARBAGE COLLECTIONS</td>\n",
       "      <td>2021-07-11 07:07:42</td>\n",
       "      <td>17200.000000</td>\n",
       "      <td>TDS LANDFILL</td>\n",
       "      <td>GARBAGE COLLECTION</td>\n",
       "      <td>PW30</td>\n",
       "      <td>928229</td>\n",
       "    </tr>\n",
       "    <tr>\n",
       "      <th>740721</th>\n",
       "      <td>2020-09-23</td>\n",
       "      <td>GARBAGE COLLECTIONS</td>\n",
       "      <td>2021-07-11 07:07:30</td>\n",
       "      <td>0.000000</td>\n",
       "      <td>TDS LANDFILL</td>\n",
       "      <td>GARBAGE COLLECTION</td>\n",
       "      <td>PAW70</td>\n",
       "      <td>889455</td>\n",
       "    </tr>\n",
       "    <tr>\n",
       "      <th>...</th>\n",
       "      <td>...</td>\n",
       "      <td>...</td>\n",
       "      <td>...</td>\n",
       "      <td>...</td>\n",
       "      <td>...</td>\n",
       "      <td>...</td>\n",
       "      <td>...</td>\n",
       "      <td>...</td>\n",
       "    </tr>\n",
       "    <tr>\n",
       "      <th>107125</th>\n",
       "      <td>2012-10-16</td>\n",
       "      <td>BULK</td>\n",
       "      <td>2001-10-16 15:28:00</td>\n",
       "      <td>8260.000000</td>\n",
       "      <td>TDS LANDFILL</td>\n",
       "      <td>BULK</td>\n",
       "      <td>BU16</td>\n",
       "      <td>545996</td>\n",
       "    </tr>\n",
       "    <tr>\n",
       "      <th>322083</th>\n",
       "      <td>2012-10-16</td>\n",
       "      <td>BULK</td>\n",
       "      <td>2001-10-16 11:51:00</td>\n",
       "      <td>14080.000000</td>\n",
       "      <td>TDS LANDFILL</td>\n",
       "      <td>BULK</td>\n",
       "      <td>BU16</td>\n",
       "      <td>545997</td>\n",
       "    </tr>\n",
       "    <tr>\n",
       "      <th>175739</th>\n",
       "      <td>2012-03-16</td>\n",
       "      <td>BULK</td>\n",
       "      <td>2001-03-16 13:33:00</td>\n",
       "      <td>4740.000000</td>\n",
       "      <td>TDS LANDFILL</td>\n",
       "      <td>BULK</td>\n",
       "      <td>BU05</td>\n",
       "      <td>522334</td>\n",
       "    </tr>\n",
       "    <tr>\n",
       "      <th>550853</th>\n",
       "      <td>2012-03-16</td>\n",
       "      <td>BULK</td>\n",
       "      <td>2001-03-16 09:38:00</td>\n",
       "      <td>4240.000000</td>\n",
       "      <td>TDS LANDFILL</td>\n",
       "      <td>BULK</td>\n",
       "      <td>BU05</td>\n",
       "      <td>522335</td>\n",
       "    </tr>\n",
       "    <tr>\n",
       "      <th>343252</th>\n",
       "      <td>2006-01-26</td>\n",
       "      <td>RECYCLING - PAPER</td>\n",
       "      <td>2000-01-26 12:39:00</td>\n",
       "      <td>2940.000000</td>\n",
       "      <td>MRF</td>\n",
       "      <td>RECYCLING</td>\n",
       "      <td>RH12</td>\n",
       "      <td>163262</td>\n",
       "    </tr>\n",
       "  </tbody>\n",
       "</table>\n",
       "<p>668536 rows × 8 columns</p>\n",
       "</div>"
      ],
      "text/plain": [
       "       Report Date                  Load Type           Load Time  \\\n",
       "717844  2020-12-21  RECYCLING - SINGLE STREAM 2021-12-21 12:41:00   \n",
       "739696  2020-11-24                   ORGANICS 2021-12-07 00:00:00   \n",
       "740735  2021-06-28               MIXED LITTER 2021-07-11 07:07:45   \n",
       "740751  2021-06-30        GARBAGE COLLECTIONS 2021-07-11 07:07:42   \n",
       "740721  2020-09-23        GARBAGE COLLECTIONS 2021-07-11 07:07:30   \n",
       "...            ...                        ...                 ...   \n",
       "107125  2012-10-16                       BULK 2001-10-16 15:28:00   \n",
       "322083  2012-10-16                       BULK 2001-10-16 11:51:00   \n",
       "175739  2012-03-16                       BULK 2001-03-16 13:33:00   \n",
       "550853  2012-03-16                       BULK 2001-03-16 09:38:00   \n",
       "343252  2006-01-26          RECYCLING - PAPER 2000-01-26 12:39:00   \n",
       "\n",
       "        Load Weight      Dropoff Site                 Route Type Route Number  \\\n",
       "717844  6940.000000      TDS LANDFILL  RECYCLING - SINGLE STREAM       RMAU21   \n",
       "739696  1340.000000  ORGANICS BY GOSH    YARD TRIMMINGS-ORGANICS        OBT99   \n",
       "740735  3140.000000      TDS LANDFILL                        KAB        KAB02   \n",
       "740751 17200.000000      TDS LANDFILL         GARBAGE COLLECTION         PW30   \n",
       "740721     0.000000      TDS LANDFILL         GARBAGE COLLECTION        PAW70   \n",
       "...             ...               ...                        ...          ...   \n",
       "107125  8260.000000      TDS LANDFILL                       BULK         BU16   \n",
       "322083 14080.000000      TDS LANDFILL                       BULK         BU16   \n",
       "175739  4740.000000      TDS LANDFILL                       BULK         BU05   \n",
       "550853  4240.000000      TDS LANDFILL                       BULK         BU05   \n",
       "343252  2940.000000               MRF                  RECYCLING         RH12   \n",
       "\n",
       "        Load ID  \n",
       "717844   906125  \n",
       "739696   927983  \n",
       "740735   927260  \n",
       "740751   928229  \n",
       "740721   889455  \n",
       "...         ...  \n",
       "107125   545996  \n",
       "322083   545997  \n",
       "175739   522334  \n",
       "550853   522335  \n",
       "343252   163262  \n",
       "\n",
       "[668536 rows x 8 columns]"
      ]
     },
     "execution_count": 38,
     "metadata": {},
     "output_type": "execute_result"
    }
   ],
   "source": [
    "data.sort_values(by = \"Load Time\", ascending = False)"
   ]
  },
  {
   "cell_type": "code",
   "execution_count": 39,
   "id": "bdd03e11",
   "metadata": {},
   "outputs": [
    {
     "data": {
      "text/plain": [
       "array(['BULK', 'RECYCLING - SINGLE STREAM', 'SWEEPING',\n",
       "       'GARBAGE COLLECTIONS', 'YARD TRIMMING', 'BRUSH', 'ORGANICS',\n",
       "       'MIXED LITTER', 'RECYCLED METAL', 'TIRES', 'DEAD ANIMAL', 'LITTER',\n",
       "       'RECYCLING - COMINGLE', 'RECYCLING - PAPER', 'BAGGED LITTER',\n",
       "       'MULCH', 'MATTRESS', 'RECYCLING - PLASTIC BAGS',\n",
       "       'CONTAMINATED RECYCLING', 'CONTAMINATED YARD TRIMMINGS',\n",
       "       'YARD TRIMMING - X-MAS TREES', 'CONTAMINATED ORGANICS'],\n",
       "      dtype=object)"
      ]
     },
     "execution_count": 39,
     "metadata": {},
     "output_type": "execute_result"
    }
   ],
   "source": [
    "data[\"Load Type\"].unique()"
   ]
  },
  {
   "cell_type": "code",
   "execution_count": 40,
   "id": "9716186e",
   "metadata": {
    "scrolled": false
   },
   "outputs": [
    {
     "data": {
      "text/plain": [
       "GARBAGE COLLECTIONS            258395\n",
       "RECYCLING - SINGLE STREAM      147612\n",
       "YARD TRIMMING                   69554\n",
       "BULK                            40117\n",
       "BRUSH                           39141\n",
       "RECYCLING - PAPER               32155\n",
       "RECYCLING - COMINGLE            31116\n",
       "ORGANICS                        17705\n",
       "SWEEPING                        16522\n",
       "DEAD ANIMAL                      6854\n",
       "TIRES                            3205\n",
       "MIXED LITTER                     2110\n",
       "LITTER                           1539\n",
       "MULCH                            1344\n",
       "RECYCLED METAL                   1049\n",
       "BAGGED LITTER                      43\n",
       "RECYCLING - PLASTIC BAGS           40\n",
       "YARD TRIMMING - X-MAS TREES        16\n",
       "MATTRESS                            9\n",
       "CONTAMINATED RECYCLING              8\n",
       "CONTAMINATED YARD TRIMMINGS         1\n",
       "CONTAMINATED ORGANICS               1\n",
       "Name: Load Type, dtype: int64"
      ]
     },
     "execution_count": 40,
     "metadata": {},
     "output_type": "execute_result"
    }
   ],
   "source": [
    "data[\"Load Type\"].value_counts()"
   ]
  },
  {
   "cell_type": "markdown",
   "id": "17fbc6b1",
   "metadata": {},
   "source": [
    "## By Load Type"
   ]
  },
  {
   "cell_type": "code",
   "execution_count": null,
   "id": "b04f8697",
   "metadata": {},
   "outputs": [],
   "source": [
    "weightsum_by_type = data[[\"Load Weight\", \"Load Type\"]].groupby(by = \"Load Type\").sum()\n",
    "weightmean_by_type = data[[\"Load Weight\", \"Load Type\"]].groupby(by = \"Load Type\").mean()"
   ]
  },
  {
   "cell_type": "code",
   "execution_count": null,
   "id": "d6db3df1",
   "metadata": {
    "scrolled": true
   },
   "outputs": [],
   "source": [
    "weightsum_by_type.sort_values(by= \"Load Weight\", ascending= False)"
   ]
  },
  {
   "cell_type": "code",
   "execution_count": null,
   "id": "4bf20568",
   "metadata": {
    "scrolled": true
   },
   "outputs": [],
   "source": [
    "weightmean_by_type.sort_values(by= \"Load Weight\", ascending= False)"
   ]
  },
  {
   "cell_type": "markdown",
   "id": "fcf0456a",
   "metadata": {},
   "source": [
    "https://routereadytrucks.com/blogs/know-4-major-types-garbage-trucks/\n",
    "\n",
    "Front Loader Garbage Trucks\n",
    "You will require massive containers to collect all the garbage from industrial and commercial properties. That is when front loader garbage trucks will help you with their size. Their containers, often called dumpsters, are spacious enough to collect industrial waste materials. From, slime and sludge to waste from factories, the design of these trucks make it possible to accommodate all types of garbage inside. They come with steel forks controlled hydraulically. An operator lift picks up the waste materials and dumps them into the container.\n",
    "\n",
    "Most front loaders available in the US can lift containers weighing approximately 8000 lbs. On the other hand, they can hold trash of up to 40 cubic yards.\n",
    "\n",
    "Side Loader Garbage Trucks\n",
    "If industrial waste is not your cup of tea, you can focus on removal of household waste. For this, a side loader garbage truck will be most suitable. You need to load the waste materials from the side. There are two variants available in this truck: one with automatic robotic arms that will collect the garbage and second, manually. The automated side loaders are slightly more expensive. They require only one operator. You can collect rubbish from almost 1500 homes every day.\n",
    "\n",
    "The size of the side loader garbage truck plays a crucial role in deciding the quantity of the waste materials it can carry. Most of the standard trucks can hold approximately 30,000 lbs of compacted garbage every day and hold up to 28 cubic yards of garbage. Some of these trucks are available at a budget-friendly price if you buy them second-hand. The manual side loaders will cost lesser compared to the automated side loaders.\n",
    "\n",
    "Rear Loader Garbage Trucks\n",
    "If you want to serve both commercial and residential clients, then get a rear loader garbage truck. These are the most versatile when it comes to trash collection. Their significant opening at the back allows you to collect massive quantities of waste in one go. Many residential clients keep their garbage inside bin bags. No matter what their size is, you can collect plenty of them inside the truck in one day. Like carrying, these trucks also help in dumping the contents too, thanks to their substantial rear opening.\n",
    "\n",
    "Most rear loader garbage trucks can accommodate trash from as many as 800 to 850 homes. Some of the bigger variants can haul up to 18 tons of garbage. Their weight capacity ranges from 6 to 35 cubic yards depending on their size. You can purchase one of these used beasts for a very affordable price. But make sure you check the condition of the truck before buying.\n",
    "\n",
    "Roll Off Trucks\n",
    "These are the most popular garbage trucks when it comes to mass-scale commercial trash removal services. You can see them in demolition and construction sites. Their sturdy construction makes them a perfect fit for handling heavier materials, such as cardboard and steel. These trucks have massive roll off containers that you can drop at specified locations and then pick them up after a period after the clients have loaded them with waste materials.\n",
    "\n",
    "These help to pick up the loaded container without much effort. A roll off truck can carry approximately 20,000 lbs, which is equal to 10 tons. Its sturdy construction makes sure the truck doesn’t get damaged during the pickup and drop off process.\n",
    "\n",
    "Most people don’t value the engineering genius of garbage trucks. If you want to flourish in your garbage removal business, make sure you choose one of these trucks for higher efficiency because of the quantity of the trash they can carry."
   ]
  },
  {
   "cell_type": "markdown",
   "id": "9bb6f218",
   "metadata": {},
   "source": [
    "## By Dropoff Sites"
   ]
  },
  {
   "cell_type": "code",
   "execution_count": null,
   "id": "398acbf3",
   "metadata": {},
   "outputs": [],
   "source": [
    "weightsum_by_dropoff = data[[\"Load Weight\", \"Dropoff Site\"]].groupby(by = \"Dropoff Site\").sum()\n",
    "weightmean_by_dropoff = data[[\"Load Weight\", \"Dropoff Site\"]].groupby(by = \"Dropoff Site\").mean()"
   ]
  },
  {
   "cell_type": "code",
   "execution_count": null,
   "id": "1680429c",
   "metadata": {
    "scrolled": true
   },
   "outputs": [],
   "source": [
    "weightmean_by_dropoff.sort_values(by= \"Load Weight\", ascending= False)"
   ]
  },
  {
   "cell_type": "code",
   "execution_count": null,
   "id": "9248fda5",
   "metadata": {
    "scrolled": true
   },
   "outputs": [],
   "source": [
    "weightsum_by_dropoff.sort_values(by= \"Load Weight\", ascending= False)"
   ]
  },
  {
   "cell_type": "markdown",
   "id": "6bda97b9",
   "metadata": {},
   "source": [
    "## By Route Number"
   ]
  },
  {
   "cell_type": "markdown",
   "id": "c80f7bb3",
   "metadata": {},
   "source": [
    "### Basic Explo"
   ]
  },
  {
   "cell_type": "code",
   "execution_count": 47,
   "id": "865e6742",
   "metadata": {
    "scrolled": false
   },
   "outputs": [
    {
     "data": {
      "text/html": [
       "<div>\n",
       "<style scoped>\n",
       "    .dataframe tbody tr th:only-of-type {\n",
       "        vertical-align: middle;\n",
       "    }\n",
       "\n",
       "    .dataframe tbody tr th {\n",
       "        vertical-align: top;\n",
       "    }\n",
       "\n",
       "    .dataframe thead th {\n",
       "        text-align: right;\n",
       "    }\n",
       "</style>\n",
       "<table border=\"1\" class=\"dataframe\">\n",
       "  <thead>\n",
       "    <tr style=\"text-align: right;\">\n",
       "      <th></th>\n",
       "      <th>Report Date</th>\n",
       "      <th>Load Type</th>\n",
       "      <th>Load Time</th>\n",
       "      <th>Load Weight</th>\n",
       "      <th>Dropoff Site</th>\n",
       "      <th>Route Type</th>\n",
       "      <th>Route Number</th>\n",
       "      <th>Load ID</th>\n",
       "    </tr>\n",
       "  </thead>\n",
       "  <tbody>\n",
       "    <tr>\n",
       "      <th>713883</th>\n",
       "      <td>2021-01-02</td>\n",
       "      <td>ORGANICS</td>\n",
       "      <td>2021-01-02 10:26:00</td>\n",
       "      <td>22120.000000</td>\n",
       "      <td>ORGANICS BY GOSH</td>\n",
       "      <td>YARD TRIMMINGS-ORGANICS</td>\n",
       "      <td>OF12</td>\n",
       "      <td>902139</td>\n",
       "    </tr>\n",
       "    <tr>\n",
       "      <th>713884</th>\n",
       "      <td>2021-01-04</td>\n",
       "      <td>GARBAGE COLLECTIONS</td>\n",
       "      <td>2021-01-04 19:15:00</td>\n",
       "      <td>3640.000000</td>\n",
       "      <td>TDS LANDFILL</td>\n",
       "      <td>GARBAGE COLLECTION</td>\n",
       "      <td>PAM70</td>\n",
       "      <td>902199</td>\n",
       "    </tr>\n",
       "    <tr>\n",
       "      <th>713887</th>\n",
       "      <td>2021-01-04</td>\n",
       "      <td>BRUSH</td>\n",
       "      <td>2021-01-04 15:13:00</td>\n",
       "      <td>3700.000000</td>\n",
       "      <td>HORNSBY BEND</td>\n",
       "      <td>BRUSH</td>\n",
       "      <td>BR21</td>\n",
       "      <td>902172</td>\n",
       "    </tr>\n",
       "    <tr>\n",
       "      <th>713889</th>\n",
       "      <td>2021-01-04</td>\n",
       "      <td>YARD TRIMMING</td>\n",
       "      <td>2021-01-04 13:12:00</td>\n",
       "      <td>11060.000000</td>\n",
       "      <td>HORNSBY BEND</td>\n",
       "      <td>YARD TRIMMINGS</td>\n",
       "      <td>YM04</td>\n",
       "      <td>902194</td>\n",
       "    </tr>\n",
       "    <tr>\n",
       "      <th>713892</th>\n",
       "      <td>2021-01-04</td>\n",
       "      <td>YARD TRIMMING</td>\n",
       "      <td>2021-01-04 16:55:00</td>\n",
       "      <td>15980.000000</td>\n",
       "      <td>HORNSBY BEND</td>\n",
       "      <td>YARD TRIMMINGS</td>\n",
       "      <td>YM03</td>\n",
       "      <td>902182</td>\n",
       "    </tr>\n",
       "  </tbody>\n",
       "</table>\n",
       "</div>"
      ],
      "text/plain": [
       "       Report Date            Load Type           Load Time  Load Weight  \\\n",
       "713883  2021-01-02             ORGANICS 2021-01-02 10:26:00 22120.000000   \n",
       "713884  2021-01-04  GARBAGE COLLECTIONS 2021-01-04 19:15:00  3640.000000   \n",
       "713887  2021-01-04                BRUSH 2021-01-04 15:13:00  3700.000000   \n",
       "713889  2021-01-04        YARD TRIMMING 2021-01-04 13:12:00 11060.000000   \n",
       "713892  2021-01-04        YARD TRIMMING 2021-01-04 16:55:00 15980.000000   \n",
       "\n",
       "            Dropoff Site               Route Type Route Number  Load ID  \n",
       "713883  ORGANICS BY GOSH  YARD TRIMMINGS-ORGANICS         OF12   902139  \n",
       "713884      TDS LANDFILL       GARBAGE COLLECTION        PAM70   902199  \n",
       "713887      HORNSBY BEND                    BRUSH         BR21   902172  \n",
       "713889      HORNSBY BEND           YARD TRIMMINGS         YM04   902194  \n",
       "713892      HORNSBY BEND           YARD TRIMMINGS         YM03   902182  "
      ]
     },
     "execution_count": 47,
     "metadata": {},
     "output_type": "execute_result"
    }
   ],
   "source": [
    "# Checking for 2021 in particular since route types likely to change over the years\n",
    "data2021 = data[pd.DatetimeIndex(data[\"Load Time\"]).year == 2021] \n",
    "data2021.head()"
   ]
  },
  {
   "cell_type": "code",
   "execution_count": 49,
   "id": "810ba80a",
   "metadata": {},
   "outputs": [
    {
     "data": {
      "text/html": [
       "<div>\n",
       "<style scoped>\n",
       "    .dataframe tbody tr th:only-of-type {\n",
       "        vertical-align: middle;\n",
       "    }\n",
       "\n",
       "    .dataframe tbody tr th {\n",
       "        vertical-align: top;\n",
       "    }\n",
       "\n",
       "    .dataframe thead th {\n",
       "        text-align: right;\n",
       "    }\n",
       "</style>\n",
       "<table border=\"1\" class=\"dataframe\">\n",
       "  <thead>\n",
       "    <tr style=\"text-align: right;\">\n",
       "      <th></th>\n",
       "      <th>Load Weight</th>\n",
       "      <th>Load ID</th>\n",
       "    </tr>\n",
       "    <tr>\n",
       "      <th>Route Number</th>\n",
       "      <th></th>\n",
       "      <th></th>\n",
       "    </tr>\n",
       "  </thead>\n",
       "  <tbody>\n",
       "    <tr>\n",
       "      <th>0BM00</th>\n",
       "      <td>45840.000000</td>\n",
       "      <td>12742458</td>\n",
       "    </tr>\n",
       "    <tr>\n",
       "      <th>0F16</th>\n",
       "      <td>24380.000000</td>\n",
       "      <td>2731198</td>\n",
       "    </tr>\n",
       "    <tr>\n",
       "      <th>AFD-FIREWISE</th>\n",
       "      <td>117300.000000</td>\n",
       "      <td>20007163</td>\n",
       "    </tr>\n",
       "    <tr>\n",
       "      <th>BR01</th>\n",
       "      <td>338320.000000</td>\n",
       "      <td>53819749</td>\n",
       "    </tr>\n",
       "    <tr>\n",
       "      <th>BR02</th>\n",
       "      <td>199160.000000</td>\n",
       "      <td>25301116</td>\n",
       "    </tr>\n",
       "    <tr>\n",
       "      <th>...</th>\n",
       "      <td>...</td>\n",
       "      <td>...</td>\n",
       "    </tr>\n",
       "    <tr>\n",
       "      <th>YW02</th>\n",
       "      <td>79380.000000</td>\n",
       "      <td>5430867</td>\n",
       "    </tr>\n",
       "    <tr>\n",
       "      <th>YW03</th>\n",
       "      <td>40600.000000</td>\n",
       "      <td>4527166</td>\n",
       "    </tr>\n",
       "    <tr>\n",
       "      <th>YW04</th>\n",
       "      <td>71740.000000</td>\n",
       "      <td>6336319</td>\n",
       "    </tr>\n",
       "    <tr>\n",
       "      <th>YW05</th>\n",
       "      <td>49640.000000</td>\n",
       "      <td>4526143</td>\n",
       "    </tr>\n",
       "    <tr>\n",
       "      <th>YW06</th>\n",
       "      <td>21160.000000</td>\n",
       "      <td>2712746</td>\n",
       "    </tr>\n",
       "  </tbody>\n",
       "</table>\n",
       "<p>841 rows × 2 columns</p>\n",
       "</div>"
      ],
      "text/plain": [
       "               Load Weight   Load ID\n",
       "Route Number                        \n",
       "0BM00         45840.000000  12742458\n",
       "0F16          24380.000000   2731198\n",
       "AFD-FIREWISE 117300.000000  20007163\n",
       "BR01         338320.000000  53819749\n",
       "BR02         199160.000000  25301116\n",
       "...                    ...       ...\n",
       "YW02          79380.000000   5430867\n",
       "YW03          40600.000000   4527166\n",
       "YW04          71740.000000   6336319\n",
       "YW05          49640.000000   4526143\n",
       "YW06          21160.000000   2712746\n",
       "\n",
       "[841 rows x 2 columns]"
      ]
     },
     "execution_count": 49,
     "metadata": {},
     "output_type": "execute_result"
    }
   ],
   "source": [
    "data2021.groupby([\"Route Number\"]).sum()"
   ]
  },
  {
   "cell_type": "code",
   "execution_count": 55,
   "id": "8e150f34",
   "metadata": {},
   "outputs": [
    {
     "data": {
      "text/html": [
       "<div>\n",
       "<style scoped>\n",
       "    .dataframe tbody tr th:only-of-type {\n",
       "        vertical-align: middle;\n",
       "    }\n",
       "\n",
       "    .dataframe tbody tr th {\n",
       "        vertical-align: top;\n",
       "    }\n",
       "\n",
       "    .dataframe thead th {\n",
       "        text-align: right;\n",
       "    }\n",
       "</style>\n",
       "<table border=\"1\" class=\"dataframe\">\n",
       "  <thead>\n",
       "    <tr style=\"text-align: right;\">\n",
       "      <th></th>\n",
       "      <th>Load Weight</th>\n",
       "      <th>Load ID</th>\n",
       "    </tr>\n",
       "    <tr>\n",
       "      <th>Route Number</th>\n",
       "      <th></th>\n",
       "      <th></th>\n",
       "    </tr>\n",
       "  </thead>\n",
       "  <tbody>\n",
       "    <tr>\n",
       "      <th>0BM00</th>\n",
       "      <td>3274.285714</td>\n",
       "      <td>910175.571429</td>\n",
       "    </tr>\n",
       "    <tr>\n",
       "      <th>0F16</th>\n",
       "      <td>8126.666667</td>\n",
       "      <td>910399.333333</td>\n",
       "    </tr>\n",
       "    <tr>\n",
       "      <th>AFD-FIREWISE</th>\n",
       "      <td>5331.818182</td>\n",
       "      <td>909416.500000</td>\n",
       "    </tr>\n",
       "    <tr>\n",
       "      <th>BR01</th>\n",
       "      <td>5734.237288</td>\n",
       "      <td>912199.135593</td>\n",
       "    </tr>\n",
       "    <tr>\n",
       "      <th>BR02</th>\n",
       "      <td>7112.857143</td>\n",
       "      <td>903611.285714</td>\n",
       "    </tr>\n",
       "    <tr>\n",
       "      <th>...</th>\n",
       "      <td>...</td>\n",
       "      <td>...</td>\n",
       "    </tr>\n",
       "    <tr>\n",
       "      <th>YW02</th>\n",
       "      <td>13230.000000</td>\n",
       "      <td>905144.500000</td>\n",
       "    </tr>\n",
       "    <tr>\n",
       "      <th>YW03</th>\n",
       "      <td>8120.000000</td>\n",
       "      <td>905433.200000</td>\n",
       "    </tr>\n",
       "    <tr>\n",
       "      <th>YW04</th>\n",
       "      <td>10248.571429</td>\n",
       "      <td>905188.428571</td>\n",
       "    </tr>\n",
       "    <tr>\n",
       "      <th>YW05</th>\n",
       "      <td>9928.000000</td>\n",
       "      <td>905228.600000</td>\n",
       "    </tr>\n",
       "    <tr>\n",
       "      <th>YW06</th>\n",
       "      <td>7053.333333</td>\n",
       "      <td>904248.666667</td>\n",
       "    </tr>\n",
       "  </tbody>\n",
       "</table>\n",
       "<p>841 rows × 2 columns</p>\n",
       "</div>"
      ],
      "text/plain": [
       "              Load Weight       Load ID\n",
       "Route Number                           \n",
       "0BM00         3274.285714 910175.571429\n",
       "0F16          8126.666667 910399.333333\n",
       "AFD-FIREWISE  5331.818182 909416.500000\n",
       "BR01          5734.237288 912199.135593\n",
       "BR02          7112.857143 903611.285714\n",
       "...                   ...           ...\n",
       "YW02         13230.000000 905144.500000\n",
       "YW03          8120.000000 905433.200000\n",
       "YW04         10248.571429 905188.428571\n",
       "YW05          9928.000000 905228.600000\n",
       "YW06          7053.333333 904248.666667\n",
       "\n",
       "[841 rows x 2 columns]"
      ]
     },
     "execution_count": 55,
     "metadata": {},
     "output_type": "execute_result"
    }
   ],
   "source": [
    "data2021.groupby([\"Route Number\"]).mean()"
   ]
  },
  {
   "cell_type": "code",
   "execution_count": 68,
   "id": "0fefa62e",
   "metadata": {},
   "outputs": [
    {
     "data": {
      "text/plain": [
       "DSS04      318\n",
       "VB-01      285\n",
       "WS21       154\n",
       "OCPBU23    145\n",
       "BU28       123\n",
       "          ... \n",
       "PAM67        1\n",
       "RH05         1\n",
       "RH02         1\n",
       "RF03         1\n",
       "NR04         1\n",
       "Name: Route Number, Length: 841, dtype: int64"
      ]
     },
     "execution_count": 68,
     "metadata": {},
     "output_type": "execute_result"
    }
   ],
   "source": [
    "data2021[\"Route Number\"].value_counts()"
   ]
  },
  {
   "cell_type": "code",
   "execution_count": 69,
   "id": "49acf8fb",
   "metadata": {},
   "outputs": [
    {
     "data": {
      "text/html": [
       "<div>\n",
       "<style scoped>\n",
       "    .dataframe tbody tr th:only-of-type {\n",
       "        vertical-align: middle;\n",
       "    }\n",
       "\n",
       "    .dataframe tbody tr th {\n",
       "        vertical-align: top;\n",
       "    }\n",
       "\n",
       "    .dataframe thead th {\n",
       "        text-align: right;\n",
       "    }\n",
       "</style>\n",
       "<table border=\"1\" class=\"dataframe\">\n",
       "  <thead>\n",
       "    <tr style=\"text-align: right;\">\n",
       "      <th></th>\n",
       "      <th>Report Date</th>\n",
       "      <th>Load Type</th>\n",
       "      <th>Load Time</th>\n",
       "      <th>Load Weight</th>\n",
       "      <th>Dropoff Site</th>\n",
       "      <th>Route Type</th>\n",
       "      <th>Route Number</th>\n",
       "      <th>Load ID</th>\n",
       "    </tr>\n",
       "  </thead>\n",
       "  <tbody>\n",
       "    <tr>\n",
       "      <th>157</th>\n",
       "      <td>2020-12-08</td>\n",
       "      <td>MIXED LITTER</td>\n",
       "      <td>2020-12-08 13:49:00</td>\n",
       "      <td>6820.000000</td>\n",
       "      <td>TDS LANDFILL</td>\n",
       "      <td>LITTER CONTROL</td>\n",
       "      <td>VB-01</td>\n",
       "      <td>899227</td>\n",
       "    </tr>\n",
       "    <tr>\n",
       "      <th>604</th>\n",
       "      <td>2020-12-11</td>\n",
       "      <td>MIXED LITTER</td>\n",
       "      <td>2020-12-11 13:44:00</td>\n",
       "      <td>4960.000000</td>\n",
       "      <td>TDS LANDFILL</td>\n",
       "      <td>LITTER CONTROL</td>\n",
       "      <td>VB-01</td>\n",
       "      <td>899626</td>\n",
       "    </tr>\n",
       "    <tr>\n",
       "      <th>617</th>\n",
       "      <td>2020-12-11</td>\n",
       "      <td>MIXED LITTER</td>\n",
       "      <td>2020-12-11 13:52:00</td>\n",
       "      <td>7000.000000</td>\n",
       "      <td>TDS LANDFILL</td>\n",
       "      <td>LITTER CONTROL</td>\n",
       "      <td>VB-01</td>\n",
       "      <td>899627</td>\n",
       "    </tr>\n",
       "    <tr>\n",
       "      <th>1550</th>\n",
       "      <td>2020-12-16</td>\n",
       "      <td>MIXED LITTER</td>\n",
       "      <td>2020-12-16 13:04:00</td>\n",
       "      <td>7160.000000</td>\n",
       "      <td>TDS LANDFILL</td>\n",
       "      <td>LITTER CONTROL</td>\n",
       "      <td>VB-01</td>\n",
       "      <td>900590</td>\n",
       "    </tr>\n",
       "    <tr>\n",
       "      <th>1551</th>\n",
       "      <td>2020-12-17</td>\n",
       "      <td>MIXED LITTER</td>\n",
       "      <td>2020-12-17 07:32:00</td>\n",
       "      <td>5980.000000</td>\n",
       "      <td>TDS LANDFILL</td>\n",
       "      <td>LITTER CONTROL</td>\n",
       "      <td>VB-01</td>\n",
       "      <td>900591</td>\n",
       "    </tr>\n",
       "  </tbody>\n",
       "</table>\n",
       "</div>"
      ],
      "text/plain": [
       "     Report Date     Load Type           Load Time  Load Weight  Dropoff Site  \\\n",
       "157   2020-12-08  MIXED LITTER 2020-12-08 13:49:00  6820.000000  TDS LANDFILL   \n",
       "604   2020-12-11  MIXED LITTER 2020-12-11 13:44:00  4960.000000  TDS LANDFILL   \n",
       "617   2020-12-11  MIXED LITTER 2020-12-11 13:52:00  7000.000000  TDS LANDFILL   \n",
       "1550  2020-12-16  MIXED LITTER 2020-12-16 13:04:00  7160.000000  TDS LANDFILL   \n",
       "1551  2020-12-17  MIXED LITTER 2020-12-17 07:32:00  5980.000000  TDS LANDFILL   \n",
       "\n",
       "          Route Type Route Number  Load ID  \n",
       "157   LITTER CONTROL        VB-01   899227  \n",
       "604   LITTER CONTROL        VB-01   899626  \n",
       "617   LITTER CONTROL        VB-01   899627  \n",
       "1550  LITTER CONTROL        VB-01   900590  \n",
       "1551  LITTER CONTROL        VB-01   900591  "
      ]
     },
     "execution_count": 69,
     "metadata": {},
     "output_type": "execute_result"
    }
   ],
   "source": [
    "data[data[\"Route Number\"] == \"VB-01\" ].head()"
   ]
  },
  {
   "cell_type": "code",
   "execution_count": 58,
   "id": "ab52b008",
   "metadata": {},
   "outputs": [
    {
     "name": "stderr",
     "output_type": "stream",
     "text": [
      "/tmp/ipykernel_644/576594266.py:1: SettingWithCopyWarning: \n",
      "A value is trying to be set on a copy of a slice from a DataFrame.\n",
      "Try using .loc[row_indexer,col_indexer] = value instead\n",
      "\n",
      "See the caveats in the documentation: https://pandas.pydata.org/pandas-docs/stable/user_guide/indexing.html#returning-a-view-versus-a-copy\n",
      "  data2021[\"Route Count\"] = data2021[[\"Route Type\",\"Route Number\"]].groupby([\"Route Number\"]).count()\n"
     ]
    }
   ],
   "source": [
    "data2021[\"Route Count\"] = data2021[[\"Route Type\",\"Route Number\"]].groupby([\"Route Number\"]).count()"
   ]
  },
  {
   "cell_type": "code",
   "execution_count": 59,
   "id": "b38d15c9",
   "metadata": {},
   "outputs": [
    {
     "data": {
      "text/html": [
       "<div>\n",
       "<style scoped>\n",
       "    .dataframe tbody tr th:only-of-type {\n",
       "        vertical-align: middle;\n",
       "    }\n",
       "\n",
       "    .dataframe tbody tr th {\n",
       "        vertical-align: top;\n",
       "    }\n",
       "\n",
       "    .dataframe thead th {\n",
       "        text-align: right;\n",
       "    }\n",
       "</style>\n",
       "<table border=\"1\" class=\"dataframe\">\n",
       "  <thead>\n",
       "    <tr style=\"text-align: right;\">\n",
       "      <th></th>\n",
       "      <th>Report Date</th>\n",
       "      <th>Load Type</th>\n",
       "      <th>Load Time</th>\n",
       "      <th>Load Weight</th>\n",
       "      <th>Dropoff Site</th>\n",
       "      <th>Route Type</th>\n",
       "      <th>Route Number</th>\n",
       "      <th>Load ID</th>\n",
       "      <th>Route Count</th>\n",
       "    </tr>\n",
       "  </thead>\n",
       "  <tbody>\n",
       "    <tr>\n",
       "      <th>713883</th>\n",
       "      <td>2021-01-02</td>\n",
       "      <td>ORGANICS</td>\n",
       "      <td>2021-01-02 10:26:00</td>\n",
       "      <td>22120.000000</td>\n",
       "      <td>ORGANICS BY GOSH</td>\n",
       "      <td>YARD TRIMMINGS-ORGANICS</td>\n",
       "      <td>OF12</td>\n",
       "      <td>902139</td>\n",
       "      <td>NaN</td>\n",
       "    </tr>\n",
       "    <tr>\n",
       "      <th>713884</th>\n",
       "      <td>2021-01-04</td>\n",
       "      <td>GARBAGE COLLECTIONS</td>\n",
       "      <td>2021-01-04 19:15:00</td>\n",
       "      <td>3640.000000</td>\n",
       "      <td>TDS LANDFILL</td>\n",
       "      <td>GARBAGE COLLECTION</td>\n",
       "      <td>PAM70</td>\n",
       "      <td>902199</td>\n",
       "      <td>NaN</td>\n",
       "    </tr>\n",
       "    <tr>\n",
       "      <th>713887</th>\n",
       "      <td>2021-01-04</td>\n",
       "      <td>BRUSH</td>\n",
       "      <td>2021-01-04 15:13:00</td>\n",
       "      <td>3700.000000</td>\n",
       "      <td>HORNSBY BEND</td>\n",
       "      <td>BRUSH</td>\n",
       "      <td>BR21</td>\n",
       "      <td>902172</td>\n",
       "      <td>NaN</td>\n",
       "    </tr>\n",
       "    <tr>\n",
       "      <th>713889</th>\n",
       "      <td>2021-01-04</td>\n",
       "      <td>YARD TRIMMING</td>\n",
       "      <td>2021-01-04 13:12:00</td>\n",
       "      <td>11060.000000</td>\n",
       "      <td>HORNSBY BEND</td>\n",
       "      <td>YARD TRIMMINGS</td>\n",
       "      <td>YM04</td>\n",
       "      <td>902194</td>\n",
       "      <td>NaN</td>\n",
       "    </tr>\n",
       "    <tr>\n",
       "      <th>713892</th>\n",
       "      <td>2021-01-04</td>\n",
       "      <td>YARD TRIMMING</td>\n",
       "      <td>2021-01-04 16:55:00</td>\n",
       "      <td>15980.000000</td>\n",
       "      <td>HORNSBY BEND</td>\n",
       "      <td>YARD TRIMMINGS</td>\n",
       "      <td>YM03</td>\n",
       "      <td>902182</td>\n",
       "      <td>NaN</td>\n",
       "    </tr>\n",
       "    <tr>\n",
       "      <th>...</th>\n",
       "      <td>...</td>\n",
       "      <td>...</td>\n",
       "      <td>...</td>\n",
       "      <td>...</td>\n",
       "      <td>...</td>\n",
       "      <td>...</td>\n",
       "      <td>...</td>\n",
       "      <td>...</td>\n",
       "      <td>...</td>\n",
       "    </tr>\n",
       "    <tr>\n",
       "      <th>740867</th>\n",
       "      <td>2008-03-31</td>\n",
       "      <td>RECYCLING - COMINGLE</td>\n",
       "      <td>2021-07-11 07:00:38</td>\n",
       "      <td>2580.000000</td>\n",
       "      <td>MRF</td>\n",
       "      <td>RECYCLING</td>\n",
       "      <td>RM01</td>\n",
       "      <td>273140</td>\n",
       "      <td>NaN</td>\n",
       "    </tr>\n",
       "    <tr>\n",
       "      <th>740868</th>\n",
       "      <td>2008-04-09</td>\n",
       "      <td>RECYCLING - PAPER</td>\n",
       "      <td>2021-07-11 07:00:39</td>\n",
       "      <td>1080.000000</td>\n",
       "      <td>MRF</td>\n",
       "      <td>RECYCLING</td>\n",
       "      <td>RW05</td>\n",
       "      <td>273708</td>\n",
       "      <td>NaN</td>\n",
       "    </tr>\n",
       "    <tr>\n",
       "      <th>740869</th>\n",
       "      <td>2015-12-01</td>\n",
       "      <td>BULK</td>\n",
       "      <td>2021-07-11 07:05:29</td>\n",
       "      <td>9360.000000</td>\n",
       "      <td>TDS LANDFILL</td>\n",
       "      <td>STORM</td>\n",
       "      <td>HAFLDBU15</td>\n",
       "      <td>676651</td>\n",
       "      <td>NaN</td>\n",
       "    </tr>\n",
       "    <tr>\n",
       "      <th>740871</th>\n",
       "      <td>2008-04-09</td>\n",
       "      <td>RECYCLING - COMINGLE</td>\n",
       "      <td>2021-07-11 07:00:39</td>\n",
       "      <td>3960.000000</td>\n",
       "      <td>MRF</td>\n",
       "      <td>RECYCLING</td>\n",
       "      <td>RW04</td>\n",
       "      <td>273706</td>\n",
       "      <td>NaN</td>\n",
       "    </tr>\n",
       "    <tr>\n",
       "      <th>740872</th>\n",
       "      <td>2008-04-08</td>\n",
       "      <td>RECYCLING - COMINGLE</td>\n",
       "      <td>2021-07-11 07:00:39</td>\n",
       "      <td>5280.000000</td>\n",
       "      <td>MRF</td>\n",
       "      <td>RECYCLING</td>\n",
       "      <td>RT24</td>\n",
       "      <td>273694</td>\n",
       "      <td>NaN</td>\n",
       "    </tr>\n",
       "  </tbody>\n",
       "</table>\n",
       "<p>25273 rows × 9 columns</p>\n",
       "</div>"
      ],
      "text/plain": [
       "       Report Date             Load Type           Load Time  Load Weight  \\\n",
       "713883  2021-01-02              ORGANICS 2021-01-02 10:26:00 22120.000000   \n",
       "713884  2021-01-04   GARBAGE COLLECTIONS 2021-01-04 19:15:00  3640.000000   \n",
       "713887  2021-01-04                 BRUSH 2021-01-04 15:13:00  3700.000000   \n",
       "713889  2021-01-04         YARD TRIMMING 2021-01-04 13:12:00 11060.000000   \n",
       "713892  2021-01-04         YARD TRIMMING 2021-01-04 16:55:00 15980.000000   \n",
       "...            ...                   ...                 ...          ...   \n",
       "740867  2008-03-31  RECYCLING - COMINGLE 2021-07-11 07:00:38  2580.000000   \n",
       "740868  2008-04-09     RECYCLING - PAPER 2021-07-11 07:00:39  1080.000000   \n",
       "740869  2015-12-01                  BULK 2021-07-11 07:05:29  9360.000000   \n",
       "740871  2008-04-09  RECYCLING - COMINGLE 2021-07-11 07:00:39  3960.000000   \n",
       "740872  2008-04-08  RECYCLING - COMINGLE 2021-07-11 07:00:39  5280.000000   \n",
       "\n",
       "            Dropoff Site               Route Type Route Number  Load ID  \\\n",
       "713883  ORGANICS BY GOSH  YARD TRIMMINGS-ORGANICS         OF12   902139   \n",
       "713884      TDS LANDFILL       GARBAGE COLLECTION        PAM70   902199   \n",
       "713887      HORNSBY BEND                    BRUSH         BR21   902172   \n",
       "713889      HORNSBY BEND           YARD TRIMMINGS         YM04   902194   \n",
       "713892      HORNSBY BEND           YARD TRIMMINGS         YM03   902182   \n",
       "...                  ...                      ...          ...      ...   \n",
       "740867               MRF                RECYCLING         RM01   273140   \n",
       "740868               MRF                RECYCLING         RW05   273708   \n",
       "740869      TDS LANDFILL                    STORM    HAFLDBU15   676651   \n",
       "740871               MRF                RECYCLING         RW04   273706   \n",
       "740872               MRF                RECYCLING         RT24   273694   \n",
       "\n",
       "        Route Count  \n",
       "713883          NaN  \n",
       "713884          NaN  \n",
       "713887          NaN  \n",
       "713889          NaN  \n",
       "713892          NaN  \n",
       "...             ...  \n",
       "740867          NaN  \n",
       "740868          NaN  \n",
       "740869          NaN  \n",
       "740871          NaN  \n",
       "740872          NaN  \n",
       "\n",
       "[25273 rows x 9 columns]"
      ]
     },
     "execution_count": 59,
     "metadata": {},
     "output_type": "execute_result"
    }
   ],
   "source": [
    "data2021"
   ]
  },
  {
   "cell_type": "markdown",
   "id": "7ee9a010",
   "metadata": {},
   "source": [
    "### Overall Sum & Mean Per Route"
   ]
  },
  {
   "cell_type": "code",
   "execution_count": null,
   "id": "4368a36c",
   "metadata": {},
   "outputs": [],
   "source": [
    "weightsum_by_rn = data[[\"Load Weight\", \"Route Number\"]].groupby(by = \"Route Number\").sum()\n",
    "weightmean_by_rn = data[[\"Load Weight\", \"Route Number\"]].groupby(by = \"Route Number\").mean()"
   ]
  },
  {
   "cell_type": "code",
   "execution_count": null,
   "id": "f2c0f39e",
   "metadata": {},
   "outputs": [],
   "source": [
    "weightmean_by_rn.sort_values(by= \"Route Number\", ascending= True)"
   ]
  },
  {
   "cell_type": "code",
   "execution_count": null,
   "id": "50be062e",
   "metadata": {},
   "outputs": [],
   "source": [
    "weightsum_by_rn.sort_values(by= \"Route Number\", ascending= True)"
   ]
  },
  {
   "cell_type": "markdown",
   "id": "be94fa38",
   "metadata": {},
   "source": [
    "## By Time"
   ]
  },
  {
   "cell_type": "code",
   "execution_count": null,
   "id": "103a2245",
   "metadata": {},
   "outputs": [],
   "source": [
    "list_datetime_objs = [\"Year\", \"Month\", \"Day\", \"Hour\"]"
   ]
  },
  {
   "cell_type": "code",
   "execution_count": null,
   "id": "d4e62209",
   "metadata": {},
   "outputs": [],
   "source": [
    "data[\"Year\"] = pd.DatetimeIndex(data[\"Load Time\"]).year\n",
    "data[\"Month\"] = pd.DatetimeIndex(data[\"Load Time\"]).month\n",
    "data[\"Day\"] = data[\"Load Time\"].dt.dayofweek\n",
    "data[\"Hour\"] = pd.DatetimeIndex(data[\"Load Time\"]).hour"
   ]
  },
  {
   "cell_type": "code",
   "execution_count": null,
   "id": "2212aac0",
   "metadata": {},
   "outputs": [],
   "source": [
    "data.dtypes"
   ]
  },
  {
   "cell_type": "markdown",
   "id": "937363c1",
   "metadata": {},
   "source": [
    "### Year"
   ]
  },
  {
   "cell_type": "code",
   "execution_count": null,
   "id": "ebfcb320",
   "metadata": {},
   "outputs": [],
   "source": [
    "weightsum_by_year = data[[\"Load Weight\", \"Year\"]].groupby(by = \"Year\").sum()\n",
    "weightmean_by_year = data[[\"Load Weight\", \"Year\"]].groupby(by = \"Year\").mean()"
   ]
  },
  {
   "cell_type": "code",
   "execution_count": null,
   "id": "12fe44eb",
   "metadata": {
    "scrolled": true
   },
   "outputs": [],
   "source": [
    "weightsum_by_year.sort_values(by= \"Year\", ascending= False)"
   ]
  },
  {
   "cell_type": "code",
   "execution_count": null,
   "id": "6ba7a70b",
   "metadata": {},
   "outputs": [],
   "source": [
    "fig = px.bar(weightsum_by_year, x= weightsum_by_year.index, y=\"Load Weight\", title='Load Weight by Year')\n",
    "fig.show()"
   ]
  },
  {
   "cell_type": "markdown",
   "id": "8fd01697",
   "metadata": {},
   "source": [
    "### Month"
   ]
  },
  {
   "cell_type": "code",
   "execution_count": null,
   "id": "650fe1e5",
   "metadata": {},
   "outputs": [],
   "source": [
    "weightsum_by_month = data[[\"Load Weight\", \"Month\"]].groupby(by = \"Month\").sum()\n",
    "weightmean_by_month = data[[\"Load Weight\", \"Month\"]].groupby(by = \"Month\").mean()"
   ]
  },
  {
   "cell_type": "code",
   "execution_count": null,
   "id": "29069d47",
   "metadata": {},
   "outputs": [],
   "source": [
    "weightsum_by_month.sort_values(by= \"Month\", ascending= False)"
   ]
  },
  {
   "cell_type": "code",
   "execution_count": null,
   "id": "85796cb2",
   "metadata": {
    "scrolled": true
   },
   "outputs": [],
   "source": [
    "fig = px.bar(weightsum_by_month, x= weightsum_by_month.index, y=\"Load Weight\", title='Load Weight by Month')\n",
    "fig.show()"
   ]
  },
  {
   "cell_type": "markdown",
   "id": "a6cc9da4",
   "metadata": {},
   "source": [
    "### Day"
   ]
  },
  {
   "cell_type": "code",
   "execution_count": null,
   "id": "99326272",
   "metadata": {},
   "outputs": [],
   "source": [
    "weightsum_by_day = data[[\"Load Weight\", \"Day\"]].groupby(by = \"Day\").sum()\n",
    "weightmean_by_day = data[[\"Load Weight\", \"Day\"]].groupby(by = \"Day\").mean()"
   ]
  },
  {
   "cell_type": "markdown",
   "id": "6d68b957",
   "metadata": {},
   "source": [
    "Monday being 0 and Sunday being 6"
   ]
  },
  {
   "cell_type": "code",
   "execution_count": null,
   "id": "dd90af21",
   "metadata": {
    "scrolled": true
   },
   "outputs": [],
   "source": [
    "weightsum_by_day.sort_values(by= \"Day\", ascending= False)"
   ]
  },
  {
   "cell_type": "code",
   "execution_count": null,
   "id": "b33c7aa2",
   "metadata": {
    "scrolled": true
   },
   "outputs": [],
   "source": [
    "fig = px.bar(weightsum_by_day, x= weightsum_by_day.index, y=\"Load Weight\", title='Load Weight by Day')\n",
    "fig.show()"
   ]
  },
  {
   "cell_type": "markdown",
   "id": "0ba1511c",
   "metadata": {},
   "source": [
    "### Hour"
   ]
  },
  {
   "cell_type": "code",
   "execution_count": null,
   "id": "0a45fa18",
   "metadata": {},
   "outputs": [],
   "source": [
    "weightsum_by_hour = data[[\"Load Weight\", \"Hour\"]].groupby(by = \"Hour\").sum()\n",
    "weightmean_by_hour = data[[\"Load Weight\", \"Hour\"]].groupby(by = \"Hour\").mean()"
   ]
  },
  {
   "cell_type": "code",
   "execution_count": null,
   "id": "3a20bde9",
   "metadata": {
    "scrolled": true
   },
   "outputs": [],
   "source": [
    "weightsum_by_hour.sort_values(by= \"Hour\", ascending= False)"
   ]
  },
  {
   "cell_type": "code",
   "execution_count": null,
   "id": "f9107fa9",
   "metadata": {
    "scrolled": true
   },
   "outputs": [],
   "source": [
    "fig = px.bar(weightsum_by_hour, x= weightsum_by_hour.index, y=\"Load Weight\", title='Load Weight by Hour')\n",
    "fig.show()"
   ]
  },
  {
   "cell_type": "markdown",
   "id": "f19eb864",
   "metadata": {},
   "source": [
    "## Open Street Maps"
   ]
  },
  {
   "cell_type": "markdown",
   "id": "2810b83d",
   "metadata": {},
   "source": [
    "OSM dataset contains waste management locations listed in OpenStreetMap (OSM). Specifically, it includes OSM features having the tags:\n",
    "- \"amenity:recycling\" \n",
    "- \"amenity:waste_basket \n",
    "- \"amenity:waste_transfer_station\"\n",
    "- \"amenity:sanitary_dump_station\"\n",
    "- \"amenity:waste_disposal\"\n",
    "- \"industrial:scrap_yard\"\n",
    "- \"landuse:landfill\"\n",
    "- \"man_made:wastewater_plant\"\n",
    "- \"water:wastewater\"\n",
    "\n",
    "It includes a poi_type, a poi_name, and all other OSM tags as associated with the point (see https://taginfo.openstreetmap.org/tags)."
   ]
  },
  {
   "cell_type": "markdown",
   "id": "5829a82a",
   "metadata": {},
   "source": [
    "Check taginfo https://taginfo.openstreetmap.org/"
   ]
  },
  {
   "cell_type": "markdown",
   "id": "237ec35b",
   "metadata": {},
   "source": [
    "### Tag Info "
   ]
  },
  {
   "cell_type": "code",
   "execution_count": null,
   "id": "fcafdfc0",
   "metadata": {},
   "outputs": [],
   "source": [
    "key = \"amenity\"\n",
    "url = \"https://taginfo.openstreetmap.org/api/4/key/values\"\n",
    "\n",
    "response = requests.get(url, params={\n",
    "                        'key' : key,\n",
    "                        'page' : 0, 'rp':100,\n",
    "                        'sortname':'count', 'sortorder':'desc'\n",
    "})\n",
    "\n",
    "data = response.json()['data']\n",
    "df = pd.DataFrame(data).set_index('value')\n",
    "df[['count','description']].head()"
   ]
  },
  {
   "cell_type": "code",
   "execution_count": null,
   "id": "3a946686",
   "metadata": {},
   "outputs": [],
   "source": [
    "%%bash\n",
    "wget    https://download.bbbike.org/osm/extract/planet_-98.323,29.94_-97.185,30.569.osm.pbf \\\n",
    "    --quiet -O data/Austin.osm.pbf"
   ]
  },
  {
   "cell_type": "code",
   "execution_count": null,
   "id": "15145940",
   "metadata": {
    "scrolled": true
   },
   "outputs": [],
   "source": [
    "!ogrinfo data/Austin.osm.pbf"
   ]
  },
  {
   "cell_type": "code",
   "execution_count": null,
   "id": "6083e2cf",
   "metadata": {},
   "outputs": [],
   "source": [
    "%%bash\n",
    "ogr2ogr \\\n",
    "  -f \"GPKG\" data/austin_points.gpkg \\\n",
    "      data/Austin.osm.pbf \\"
   ]
  },
  {
   "cell_type": "code",
   "execution_count": null,
   "id": "baa540c5",
   "metadata": {},
   "outputs": [],
   "source": [
    "gdf_points = gpd.read_file(\"data/austin_points.gpkg\", driver='GPKG')\n",
    "gdf_points.head(2)"
   ]
  },
  {
   "cell_type": "code",
   "execution_count": null,
   "id": "119039c3",
   "metadata": {},
   "outputs": [],
   "source": [
    "gdf_points.loc[0,\"other_tags\"]"
   ]
  },
  {
   "cell_type": "code",
   "execution_count": null,
   "id": "02113002",
   "metadata": {},
   "outputs": [],
   "source": [
    "gdf_points[\"geometry\"]"
   ]
  },
  {
   "cell_type": "code",
   "execution_count": null,
   "id": "8105d7f0",
   "metadata": {},
   "outputs": [],
   "source": [
    "%%bash\n",
    "ogr2ogr \\\n",
    "  -f \"GPKG\" data/austin_poly.gpkg \\\n",
    "      data/Austin.osm.pbf \\\n",
    "    -nlt POLYGONS \\\n",
    "    -nln polygons"
   ]
  },
  {
   "cell_type": "markdown",
   "id": "70d04196",
   "metadata": {},
   "source": [
    "https://gis.stackexchange.com/questions/277231/geopandas-valueerror-a-linearring-must-have-at-least-3-coordinate-tuples"
   ]
  },
  {
   "cell_type": "code",
   "execution_count": null,
   "id": "a70082e9",
   "metadata": {},
   "outputs": [],
   "source": [
    "#Read data\n",
    "layer_file = \"data/austin_poly.gpkg\"\n",
    "collection = list(fiona.open(layer_file,'r'))\n",
    "df1 = pd.DataFrame(collection)\n",
    "\n",
    "#Check Geometry\n",
    "def isvalid(geom):\n",
    "    try:\n",
    "        shape(geom)\n",
    "        return 1\n",
    "    except:\n",
    "        return 0\n",
    "df1['isvalid'] = df1['geometry'].apply(lambda x: isvalid(x))\n",
    "df1 = df1[df1['isvalid'] == 1]\n",
    "collection = json.loads(df1.to_json(orient='records'))\n",
    "\n",
    "#Convert to geodataframe\n",
    "gdf = gpd.GeoDataFrame.from_features(collection)"
   ]
  },
  {
   "cell_type": "code",
   "execution_count": null,
   "id": "81cca24a",
   "metadata": {},
   "outputs": [],
   "source": [
    "gdf"
   ]
  },
  {
   "cell_type": "code",
   "execution_count": null,
   "id": "82baf49c",
   "metadata": {},
   "outputs": [],
   "source": [
    "gdf.to_csv(\"data/austin_poly.csv\")"
   ]
  },
  {
   "cell_type": "code",
   "execution_count": null,
   "id": "84879a80",
   "metadata": {},
   "outputs": [],
   "source": [
    "gdf.columns.nunique()"
   ]
  },
  {
   "cell_type": "code",
   "execution_count": null,
   "id": "6954071f",
   "metadata": {
    "scrolled": true
   },
   "outputs": [],
   "source": [
    "gdf.columns.unique"
   ]
  },
  {
   "cell_type": "markdown",
   "id": "89afbc12",
   "metadata": {},
   "source": [
    "OSM dataset contains waste management locations listed in OpenStreetMap (OSM). Specifically, it includes OSM features having the tags \"amenity:recycling\", \"amenity:waste_transfer_station\", \"amenity:sanitary_dump_station\", \"amenity:waste_disposal\", or \"industrial:scrap_yard\""
   ]
  },
  {
   "cell_type": "code",
   "execution_count": null,
   "id": "272ee660",
   "metadata": {},
   "outputs": [],
   "source": [
    "gdf_poly = pd.read_csv(\"data/austin_poly.csv\")"
   ]
  },
  {
   "cell_type": "code",
   "execution_count": null,
   "id": "0e1238a9",
   "metadata": {},
   "outputs": [],
   "source": [
    "gdf_poly=gdf_poly.replace('NaN', np.nan)"
   ]
  },
  {
   "cell_type": "code",
   "execution_count": null,
   "id": "f7385414",
   "metadata": {
    "scrolled": false
   },
   "outputs": [],
   "source": [
    "gdf_poly[gdf_poly[\"amenity\"] != np.nan]"
   ]
  },
  {
   "cell_type": "code",
   "execution_count": null,
   "id": "723aff34",
   "metadata": {
    "scrolled": true
   },
   "outputs": [],
   "source": [
    "gdf_poly[(gdf_poly[\"amenity\"] != None)]"
   ]
  },
  {
   "cell_type": "code",
   "execution_count": null,
   "id": "7fbccb63",
   "metadata": {
    "scrolled": true
   },
   "outputs": [],
   "source": [
    "gdf_poly[(gdf_poly[\"amenity\"] == \"recycling\") | (gdf_poly[\"amenity\"] == \"recycling\") | (gdf_poly[\"amenity\"] == \"waste_transfer_station\") | (gdf_poly[\"amenity\"] == \"sanitary_dump_station\") ]"
   ]
  }
 ],
 "metadata": {
  "kernelspec": {
   "display_name": "Python 3 (ipykernel)",
   "language": "python",
   "name": "python3"
  },
  "language_info": {
   "codemirror_mode": {
    "name": "ipython",
    "version": 3
   },
   "file_extension": ".py",
   "mimetype": "text/x-python",
   "name": "python",
   "nbconvert_exporter": "python",
   "pygments_lexer": "ipython3",
   "version": "3.8.12"
  }
 },
 "nbformat": 4,
 "nbformat_minor": 5
}
