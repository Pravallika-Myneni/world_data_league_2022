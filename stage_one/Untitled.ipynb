{
 "cells": [
  {
   "cell_type": "code",
   "metadata": {
    "cell_id": "659ba0fc-0a4c-44c9-8ef0-baef06650133",
    "deepnote_cell_type": "code",
    "deepnote_cell_height": 66
   },
   "source": "TOKEN = \"FYzAuWAth16w6jWTYJe41Pa5h\"",
   "outputs": [],
   "execution_count": null
  },
  {
   "cell_type": "code",
   "metadata": {
    "cell_id": "00001-7955f843-e73e-4aee-b607-6a0529fd638e",
    "deepnote_cell_type": "code",
    "deepnote_cell_height": 544.1875
   },
   "source": "#!/usr/bin/env python\n\n# make sure to install these packages before running:\n# pip install pandas\n# pip install sodapy\n\nimport pandas as pd\nfrom sodapy import Socrata\n\n# Unauthenticated client only works with public data sets. Note 'None'\n# in place of application token, and no username or password:\nclient = Socrata(\"data.austintexas.gov\", None)\n\n# Example authenticated client (needed for non-public datasets):\n# client = Socrata(data.austintexas.gov,\n#                  MyAppToken,\n#                  userame=\"user@example.com\",\n#                  password=\"AFakePassword\")\n\n# First 2000 results, returned as JSON from API / converted to Python list of\n# dictionaries by sodapy.\nresults = client.get(\"rtqb-u5jq\", limit=4000)\n\n# Convert to pandas DataFrame\nresults_df = pd.DataFrame.from_records(results)",
   "outputs": [
    {
     "name": "stderr",
     "output_type": "stream",
     "text": "WARNING:root:Requests made without an app_token will be subject to strict throttling limits.\n"
    }
   ],
   "execution_count": null
  },
  {
   "cell_type": "code",
   "metadata": {
    "cell_id": "00002-54a49c5c-f865-450c-821a-5bd2b70e6988",
    "deepnote_cell_type": "code",
    "deepnote_cell_height": 479.1875,
    "deepnote_output_heights": [
     382.1875
    ]
   },
   "source": "results_df",
   "outputs": [
    {
     "data": {
      "text/html": "<div>\n<style scoped>\n    .dataframe tbody tr th:only-of-type {\n        vertical-align: middle;\n    }\n\n    .dataframe tbody tr th {\n        vertical-align: top;\n    }\n\n    .dataframe thead th {\n        text-align: right;\n    }\n</style>\n<table border=\"1\" class=\"dataframe\">\n  <thead>\n    <tr style=\"text-align: right;\">\n      <th></th>\n      <th>landfill</th>\n      <th>the_geom</th>\n      <th>garb_rt</th>\n      <th>garb_day</th>\n      <th>garb_sup</th>\n      <th>super_num</th>\n      <th>op_type</th>\n      <th>rt_old</th>\n    </tr>\n  </thead>\n  <tbody>\n    <tr>\n      <th>0</th>\n      <td>TDS</td>\n      <td>{'type': 'MultiPolygon', 'coordinates': [[[[-9...</td>\n      <td>PAH83</td>\n      <td>Thursday</td>\n      <td>Gilbert</td>\n      <td>697</td>\n      <td>Auto</td>\n      <td>NaN</td>\n    </tr>\n    <tr>\n      <th>1</th>\n      <td>TDS</td>\n      <td>{'type': 'MultiPolygon', 'coordinates': [[[[-9...</td>\n      <td>PAM54</td>\n      <td>Monday</td>\n      <td>Castillo</td>\n      <td>500</td>\n      <td>Auto</td>\n      <td>PAM84</td>\n    </tr>\n    <tr>\n      <th>2</th>\n      <td>TDS</td>\n      <td>{'type': 'MultiPolygon', 'coordinates': [[[[-9...</td>\n      <td>PAM71</td>\n      <td>Monday</td>\n      <td>Carnline</td>\n      <td>596</td>\n      <td>Auto</td>\n      <td>NaN</td>\n    </tr>\n    <tr>\n      <th>3</th>\n      <td>TDS</td>\n      <td>{'type': 'MultiPolygon', 'coordinates': [[[[-9...</td>\n      <td>PAH54</td>\n      <td>Thursday</td>\n      <td>Castillo</td>\n      <td>500</td>\n      <td>Auto</td>\n      <td>PAH75</td>\n    </tr>\n    <tr>\n      <th>4</th>\n      <td>TDS</td>\n      <td>{'type': 'MultiPolygon', 'coordinates': [[[[-9...</td>\n      <td>PAW71</td>\n      <td>Wednesday</td>\n      <td>Carnline</td>\n      <td>596</td>\n      <td>Auto</td>\n      <td>NaN</td>\n    </tr>\n    <tr>\n      <th>...</th>\n      <td>...</td>\n      <td>...</td>\n      <td>...</td>\n      <td>...</td>\n      <td>...</td>\n      <td>...</td>\n      <td>...</td>\n      <td>...</td>\n    </tr>\n    <tr>\n      <th>179</th>\n      <td>TDS</td>\n      <td>{'type': 'MultiPolygon', 'coordinates': [[[[-9...</td>\n      <td>PAW63</td>\n      <td>Wednesday</td>\n      <td>Litson</td>\n      <td>170</td>\n      <td>Auto</td>\n      <td>NaN</td>\n    </tr>\n    <tr>\n      <th>180</th>\n      <td>TDS</td>\n      <td>{'type': 'MultiPolygon', 'coordinates': [[[[-9...</td>\n      <td>PAM72</td>\n      <td>Monday</td>\n      <td>Carnline</td>\n      <td>596</td>\n      <td>Auto</td>\n      <td>NaN</td>\n    </tr>\n    <tr>\n      <th>181</th>\n      <td>TDS</td>\n      <td>{'type': 'MultiPolygon', 'coordinates': [[[[-9...</td>\n      <td>PAM73</td>\n      <td>Monday</td>\n      <td>Carnline</td>\n      <td>596</td>\n      <td>Auto</td>\n      <td>NO ROUTE</td>\n    </tr>\n    <tr>\n      <th>182</th>\n      <td>TDS</td>\n      <td>{'type': 'MultiPolygon', 'coordinates': [[[[-9...</td>\n      <td>PAT84</td>\n      <td>Tuesday</td>\n      <td>Gilbert</td>\n      <td>697</td>\n      <td>Auto</td>\n      <td>PAT71</td>\n    </tr>\n    <tr>\n      <th>183</th>\n      <td>TDS</td>\n      <td>{'type': 'MultiPolygon', 'coordinates': [[[[-9...</td>\n      <td>PAW70</td>\n      <td>Wednesday</td>\n      <td>Carnline</td>\n      <td>596</td>\n      <td>Auto</td>\n      <td>NaN</td>\n    </tr>\n  </tbody>\n</table>\n<p>184 rows × 8 columns</p>\n</div>",
      "text/plain": "    landfill                                           the_geom garb_rt  \\\n0        TDS  {'type': 'MultiPolygon', 'coordinates': [[[[-9...   PAH83   \n1        TDS  {'type': 'MultiPolygon', 'coordinates': [[[[-9...   PAM54   \n2        TDS  {'type': 'MultiPolygon', 'coordinates': [[[[-9...   PAM71   \n3        TDS  {'type': 'MultiPolygon', 'coordinates': [[[[-9...   PAH54   \n4        TDS  {'type': 'MultiPolygon', 'coordinates': [[[[-9...   PAW71   \n..       ...                                                ...     ...   \n179      TDS  {'type': 'MultiPolygon', 'coordinates': [[[[-9...   PAW63   \n180      TDS  {'type': 'MultiPolygon', 'coordinates': [[[[-9...   PAM72   \n181      TDS  {'type': 'MultiPolygon', 'coordinates': [[[[-9...   PAM73   \n182      TDS  {'type': 'MultiPolygon', 'coordinates': [[[[-9...   PAT84   \n183      TDS  {'type': 'MultiPolygon', 'coordinates': [[[[-9...   PAW70   \n\n      garb_day  garb_sup super_num op_type    rt_old  \n0     Thursday   Gilbert       697    Auto       NaN  \n1       Monday  Castillo       500    Auto     PAM84  \n2       Monday  Carnline       596    Auto       NaN  \n3     Thursday  Castillo       500    Auto     PAH75  \n4    Wednesday  Carnline       596    Auto       NaN  \n..         ...       ...       ...     ...       ...  \n179  Wednesday    Litson       170    Auto       NaN  \n180     Monday  Carnline       596    Auto       NaN  \n181     Monday  Carnline       596    Auto  NO ROUTE  \n182    Tuesday   Gilbert       697    Auto     PAT71  \n183  Wednesday  Carnline       596    Auto       NaN  \n\n[184 rows x 8 columns]"
     },
     "execution_count": 6,
     "metadata": {},
     "output_type": "execute_result"
    }
   ],
   "execution_count": null
  },
  {
   "cell_type": "markdown",
   "source": "<a style='text-decoration:none;line-height:16px;display:flex;color:#5B5B62;padding:10px;justify-content:end;' href='https://deepnote.com?utm_source=created-in-deepnote-cell&projectId=1a1cabe9-69f7-4a67-be18-e232e1feb2b6' target=\"_blank\">\n<img alt='Created in deepnote.com' style='display:inline;max-height:16px;margin:0px;margin-right:7.5px;' src='data:image/svg+xml;base64,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' > </img>\nCreated in <span style='font-weight:600;margin-left:4px;'>Deepnote</span></a>",
   "metadata": {
    "tags": [],
    "created_in_deepnote_cell": true,
    "deepnote_cell_type": "markdown"
   }
  }
 ],
 "nbformat": 4,
 "nbformat_minor": 5,
 "metadata": {
  "kernelspec": {
   "display_name": "Python 3 (ipykernel)",
   "language": "python",
   "name": "python3"
  },
  "language_info": {
   "codemirror_mode": {
    "name": "ipython",
    "version": 3
   },
   "file_extension": ".py",
   "mimetype": "text/x-python",
   "name": "python",
   "nbconvert_exporter": "python",
   "pygments_lexer": "ipython3",
   "version": "3.8.12"
  },
  "deepnote_notebook_id": "08f76559-a225-477a-b876-581fc4c37fd7",
  "deepnote": {},
  "deepnote_execution_queue": []
 }
}