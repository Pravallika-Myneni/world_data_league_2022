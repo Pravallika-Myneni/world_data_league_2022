{
 "cells": [
  {
   "cell_type": "markdown",
   "source": "# World Data League 2022",
   "metadata": {
    "id": "Is1th3sXsLqf",
    "cell_id": "316612ce-a4c9-47b4-a977-323969b45604",
    "deepnote_cell_type": "markdown",
    "deepnote_cell_height": 82
   }
  },
  {
   "cell_type": "markdown",
   "source": "## Notebook Submission Template\n\nThis notebook is one of the mandatory deliverables when you submit your solution. Its structure follows the WDL evaluation criteria and it has dedicated cells where you should add information. Make sure your code is readable as it will be the only technical support the jury will have to evaluate your work. Make sure to list all the datasets used besides the ones provided.\n\nInstructions:\n1. 🧱 Create a separate copy of this template and **do not change** the predefined structure\n2. 👥 Fill in the Authors section with the name of each team member\n3. 💻 Develop your code - make sure to add comments and save all the output you want the jury to see. Your code **must be** runnable!\n4. 📄 Fill in all the text sections\n5. 🗑️ Remove this section (‘Notebook Submission Template’) and any instructions inside other sections\n6. 📥 Export as HTML and make sure all the visualisations are visible.\n7. ⬆️ Upload the .ipynb file to the submission platform.\n",
   "metadata": {
    "id": "JeP6xkRIBJco",
    "cell_id": "00001-f64291da-9cb2-42f8-8c41-f2de32483872",
    "deepnote_cell_type": "markdown",
    "deepnote_cell_height": 392.390625
   }
  },
  {
   "cell_type": "markdown",
   "source": "## 🎯 Challenge\n### Predict Waste Production for its Reduction",
   "metadata": {
    "id": "94NlB4NxwLra",
    "cell_id": "00002-3a773cb1-8545-419d-b12e-254d2e26e228",
    "deepnote_cell_type": "markdown",
    "deepnote_cell_height": 118
   }
  },
  {
   "cell_type": "markdown",
   "source": "## 👥 Authors\n* Nicholas Sistovaris\n* Sai Pravallika Mynesi\n* Wiem Borchani\n* Shaah Neha",
   "metadata": {
    "id": "jVBl_rp5gAdK",
    "cell_id": "00003-baf9af46-29ad-491a-929f-a422962d7106",
    "deepnote_cell_type": "markdown",
    "deepnote_cell_height": 198.59375
   }
  },
  {
   "cell_type": "markdown",
   "source": "### Context ",
   "metadata": {
    "cell_id": "00004-84ab0e00-0f23-4255-b7fb-b221b9118512",
    "deepnote_cell_type": "markdown",
    "deepnote_cell_height": 62
   }
  },
  {
   "cell_type": "markdown",
   "source": "According to the World Bank, in 2016 cities generated 2.01 billion tons of solid waste. Per\nperson, this is around 0.74 kg/day! With the rapid growth of cities, this number is only\nexpected to increase. As cities are growing, it is urgent that optimization processes for\nwaste processing and more targeted public education on waste management and\nseparation. Finally, it is also important to note that waste collection also has an impact on air pollution.",
   "metadata": {
    "cell_id": "00005-655472d3-e619-445c-b42d-faafa1b7b3fa",
    "deepnote_cell_type": "markdown",
    "deepnote_cell_height": 119.59375
   }
  },
  {
   "cell_type": "markdown",
   "source": "### Goal & Outcome",
   "metadata": {
    "cell_id": "00006-ee37e41b-c642-426a-a804-dc4988cd5250",
    "deepnote_cell_type": "markdown",
    "deepnote_cell_height": 62
   }
  },
  {
   "cell_type": "markdown",
   "source": "The goal of this challenge is to help identify trends in waste production and help to create\ninsights into how to reduce waste and optimize its collection. The expected outcome to this challenge is to identify waste trends and to produce an\nexplainable model for predicting future waste production.\nFinally, don’t forget to propose the application (product) for the model and study its\nimpact.",
   "metadata": {
    "cell_id": "00007-35cbb234-c4f0-4574-b05c-e9d730946ce2",
    "deepnote_cell_type": "markdown",
    "deepnote_cell_height": 97.1875
   }
  },
  {
   "cell_type": "markdown",
   "source": "### Data",
   "metadata": {
    "cell_id": "00008-dc7b17f2-1ddb-4b3d-99de-6a784dad893d",
    "deepnote_cell_type": "markdown",
    "deepnote_cell_height": 62
   }
  },
  {
   "cell_type": "markdown",
   "source": "Austin Resource Recovery daily report providing waste collection information based on the following categories:\n- Report Date: The date collections information was recorded.\n- Load Type: The specific type of load that is being collected on that day.\n- Load Time: Date & Time of Loading\n- Load Weight: The weight (in pounds) collected for each service on the day it was delivered to a diversion facility\n- Drop off Site: The location where each type of waste is delivered for disposal, recycling or reuse: TDS Landfill indicates the Texas Disposal System landfill located at 12200 Carl Rd, Creedmoor, TX 78610; Balcones Recycling is a recycling facility located at 9301 Johnny Morris Road Austin, TX 78724; MRF is a Materials Recycling Facility (such as Texas Disposal Systems or Balcones Recycling); Hornsby Bend is located at 2210 FM 973, Austin, TX 78725 and accepts food scraps, yard trimmings, food-soiled paper and other materials collected by ARR, and combined with other waste to produce nutrient-rich dillo dirt, used for landscaping.\n- Route Type: The general category of collection service provided by Austin Resource Recovery\n- Route Number: Austin Resource Recovery route that the truck that collected this load was following. Each route has abbreviated letters indicating the service type (e.g. Bulk = \"BU\") and a number indicating the specific route.\n\nThis information is used to help ARR reach its goals to transform waste into resources while keeping our community clean. For more information, visit www.austintexas.gov/department/austin-resource-recovery",
   "metadata": {
    "cell_id": "00009-a469ae12-bcac-4191-9f67-ae109047117e",
    "deepnote_cell_type": "markdown",
    "deepnote_cell_height": 412
   }
  },
  {
   "cell_type": "markdown",
   "source": "## 💻 Development\nStart coding here! 🐱‍🏍\n\nCreate the necessary subsections (e.g. EDA, different experiments, etc..) and markdown cells to include descriptions of your work where you see fit. Comment your code. \n\nAll new subsections must start with three hash characters.\n\nPro-tip 1: Don't forget to make the jury's life easier. Remove any unnecessary prints before submitting the work. Hide any long output cells (from training a model for example). For each subsection, have a quick introduction (justifying what you are about to do) and conclusion (results you got from what you did). \n\nPro-tip 2: Have many similiar graphs which all tell the same story? Add them to the appendix and show only a couple of examples, with the mention that all the others are in the appendix.",
   "metadata": {
    "cell_id": "00010-4af455e2-5eb3-4185-8bf3-8392e87fdf8a",
    "deepnote_cell_type": "markdown",
    "deepnote_cell_height": 343.59375
   }
  },
  {
   "cell_type": "markdown",
   "source": "### Libraries & Settings",
   "metadata": {
    "cell_id": "00011-2c4adef9-e731-40f5-a0e6-dba7fe355ea1",
    "deepnote_cell_type": "markdown",
    "deepnote_cell_height": 62
   }
  },
  {
   "cell_type": "code",
   "metadata": {
    "cell_id": "b51632fcd438417db918c8c0f4ba8165",
    "tags": [],
    "deepnote_to_be_reexecuted": false,
    "source_hash": "c9f6c783",
    "execution_start": 1648029526749,
    "execution_millis": 17339,
    "deepnote_cell_type": "code",
    "deepnote_cell_height": 235
   },
   "source": "!pip install holidays -q\n!pip install meteostat -q",
   "execution_count": 2,
   "outputs": [
    {
     "name": "stdout",
     "text": "\u001b[33mWARNING: You are using pip version 20.1.1; however, version 22.0.4 is available.\nYou should consider upgrading via the '/root/venv/bin/python -m pip install --upgrade pip' command.\u001b[0m\n\u001b[33mWARNING: You are using pip version 20.1.1; however, version 22.0.4 is available.\nYou should consider upgrading via the '/root/venv/bin/python -m pip install --upgrade pip' command.\u001b[0m\n",
     "output_type": "stream"
    }
   ]
  },
  {
   "cell_type": "code",
   "metadata": {
    "id": "afB4W0KnutpV",
    "cell_id": "00012-445f40f1-e2bb-4c2a-8ca1-24c4c9e5e1ff",
    "deepnote_to_be_reexecuted": false,
    "source_hash": "8415bda9",
    "execution_start": 1648029544104,
    "execution_millis": 3400,
    "deepnote_cell_type": "code",
    "deepnote_cell_height": 639
   },
   "source": "# basic\nimport pandas as pd\nimport math\nimport requests\nimport numpy as np\nimport json\n\n\n# datetime\nfrom datetime import datetime\nfrom datetime import date\nimport holidays\nimport datetime as dt\n\n# meteostat\nfrom meteostat import Point, Daily, Stations, Hourly\n\n\n# visualization\nimport plotly.express as px\nimport matplotlib.pyplot as plt\n\n# geo\nimport fiona\nimport geopandas as gpd\n#import osmnx as ox\n#import osmium\nfrom shapely.geometry import shape \n\n# setting options for displaying\npd.set_option('float_format', '{:f}'.format)\npd.set_option('display.max_columns', None) ",
   "execution_count": 3,
   "outputs": []
  },
  {
   "cell_type": "markdown",
   "source": "### Importing Data & Basic Exploration",
   "metadata": {
    "cell_id": "00014-eb4d92a1-5590-4dd6-a88f-9875b0290428",
    "deepnote_cell_type": "markdown",
    "deepnote_cell_height": 62
   }
  },
  {
   "cell_type": "code",
   "metadata": {
    "cell_id": "00015-26f94109-efe6-413c-b729-c5e5a83465ca",
    "deepnote_to_be_reexecuted": false,
    "source_hash": "9433538d",
    "execution_start": 1648029547514,
    "execution_millis": 1845,
    "deepnote_cell_type": "code",
    "deepnote_cell_height": 322.796875
   },
   "source": "# importing data\ndata_raw = pd.read_csv(\"data/waste_data.csv\")\ndata_raw.head(2)",
   "execution_count": 4,
   "outputs": [
    {
     "output_type": "execute_result",
     "execution_count": 4,
     "data": {
      "application/vnd.deepnote.dataframe.v3+json": {
       "column_count": 8,
       "row_count": 2,
       "columns": [
        {
         "name": "Report Date",
         "dtype": "object",
         "stats": {
          "unique_count": 1,
          "nan_count": 0,
          "categories": [
           {
            "name": "12/08/2020",
            "count": 2
           }
          ]
         }
        },
        {
         "name": "Load Type",
         "dtype": "object",
         "stats": {
          "unique_count": 2,
          "nan_count": 0,
          "categories": [
           {
            "name": "BULK",
            "count": 1
           },
           {
            "name": "RECYCLING - SINGLE STREAM",
            "count": 1
           }
          ]
         }
        },
        {
         "name": "Load Time",
         "dtype": "object",
         "stats": {
          "unique_count": 2,
          "nan_count": 0,
          "categories": [
           {
            "name": "12/08/2020 03:02:00 PM",
            "count": 1
           },
           {
            "name": "12/08/2020 10:00:00 AM",
            "count": 1
           }
          ]
         }
        },
        {
         "name": "Load Weight",
         "dtype": "float64",
         "stats": {
          "unique_count": 2,
          "nan_count": 0,
          "min": "5220.0",
          "max": "11140.0",
          "histogram": [
           {
            "bin_start": 5220,
            "bin_end": 5812,
            "count": 1
           },
           {
            "bin_start": 5812,
            "bin_end": 6404,
            "count": 0
           },
           {
            "bin_start": 6404,
            "bin_end": 6996,
            "count": 0
           },
           {
            "bin_start": 6996,
            "bin_end": 7588,
            "count": 0
           },
           {
            "bin_start": 7588,
            "bin_end": 8180,
            "count": 0
           },
           {
            "bin_start": 8180,
            "bin_end": 8772,
            "count": 0
           },
           {
            "bin_start": 8772,
            "bin_end": 9364,
            "count": 0
           },
           {
            "bin_start": 9364,
            "bin_end": 9956,
            "count": 0
           },
           {
            "bin_start": 9956,
            "bin_end": 10548,
            "count": 0
           },
           {
            "bin_start": 10548,
            "bin_end": 11140,
            "count": 1
           }
          ]
         }
        },
        {
         "name": "Dropoff Site",
         "dtype": "object",
         "stats": {
          "unique_count": 2,
          "nan_count": 0,
          "categories": [
           {
            "name": "TDS LANDFILL",
            "count": 1
           },
           {
            "name": "TDS - MRF",
            "count": 1
           }
          ]
         }
        },
        {
         "name": "Route Type",
         "dtype": "object",
         "stats": {
          "unique_count": 2,
          "nan_count": 0,
          "categories": [
           {
            "name": "BULK",
            "count": 1
           },
           {
            "name": "RECYCLING - SINGLE STREAM",
            "count": 1
           }
          ]
         }
        },
        {
         "name": "Route Number",
         "dtype": "object",
         "stats": {
          "unique_count": 2,
          "nan_count": 0,
          "categories": [
           {
            "name": "BU13",
            "count": 1
           },
           {
            "name": "RTAU53",
            "count": 1
           }
          ]
         }
        },
        {
         "name": "Load ID",
         "dtype": "int64",
         "stats": {
          "unique_count": 2,
          "nan_count": 0,
          "min": "899078",
          "max": "899097",
          "histogram": [
           {
            "bin_start": 899078,
            "bin_end": 899079.9,
            "count": 1
           },
           {
            "bin_start": 899079.9,
            "bin_end": 899081.8,
            "count": 0
           },
           {
            "bin_start": 899081.8,
            "bin_end": 899083.7,
            "count": 0
           },
           {
            "bin_start": 899083.7,
            "bin_end": 899085.6,
            "count": 0
           },
           {
            "bin_start": 899085.6,
            "bin_end": 899087.5,
            "count": 0
           },
           {
            "bin_start": 899087.5,
            "bin_end": 899089.4,
            "count": 0
           },
           {
            "bin_start": 899089.4,
            "bin_end": 899091.3,
            "count": 0
           },
           {
            "bin_start": 899091.3,
            "bin_end": 899093.2,
            "count": 0
           },
           {
            "bin_start": 899093.2,
            "bin_end": 899095.1,
            "count": 0
           },
           {
            "bin_start": 899095.1,
            "bin_end": 899097,
            "count": 1
           }
          ]
         }
        },
        {
         "name": "_deepnote_index_column",
         "dtype": "int64"
        }
       ],
       "rows": [
        {
         "Report Date": "12/08/2020",
         "Load Type": "BULK",
         "Load Time": "12/08/2020 03:02:00 PM",
         "Load Weight": 5220,
         "Dropoff Site": "TDS LANDFILL",
         "Route Type": "BULK",
         "Route Number": "BU13",
         "Load ID": 899097,
         "_deepnote_index_column": 0
        },
        {
         "Report Date": "12/08/2020",
         "Load Type": "RECYCLING - SINGLE STREAM",
         "Load Time": "12/08/2020 10:00:00 AM",
         "Load Weight": 11140,
         "Dropoff Site": "TDS - MRF",
         "Route Type": "RECYCLING - SINGLE STREAM",
         "Route Number": "RTAU53",
         "Load ID": 899078,
         "_deepnote_index_column": 1
        }
       ]
      },
      "text/plain": "  Report Date                  Load Type               Load Time  Load Weight  \\\n0  12/08/2020                       BULK  12/08/2020 03:02:00 PM  5220.000000   \n1  12/08/2020  RECYCLING - SINGLE STREAM  12/08/2020 10:00:00 AM 11140.000000   \n\n   Dropoff Site                 Route Type Route Number  Load ID  \n0  TDS LANDFILL                       BULK         BU13   899097  \n1     TDS - MRF  RECYCLING - SINGLE STREAM       RTAU53   899078  ",
      "text/html": "<div>\n<style scoped>\n    .dataframe tbody tr th:only-of-type {\n        vertical-align: middle;\n    }\n\n    .dataframe tbody tr th {\n        vertical-align: top;\n    }\n\n    .dataframe thead th {\n        text-align: right;\n    }\n</style>\n<table border=\"1\" class=\"dataframe\">\n  <thead>\n    <tr style=\"text-align: right;\">\n      <th></th>\n      <th>Report Date</th>\n      <th>Load Type</th>\n      <th>Load Time</th>\n      <th>Load Weight</th>\n      <th>Dropoff Site</th>\n      <th>Route Type</th>\n      <th>Route Number</th>\n      <th>Load ID</th>\n    </tr>\n  </thead>\n  <tbody>\n    <tr>\n      <th>0</th>\n      <td>12/08/2020</td>\n      <td>BULK</td>\n      <td>12/08/2020 03:02:00 PM</td>\n      <td>5220.000000</td>\n      <td>TDS LANDFILL</td>\n      <td>BULK</td>\n      <td>BU13</td>\n      <td>899097</td>\n    </tr>\n    <tr>\n      <th>1</th>\n      <td>12/08/2020</td>\n      <td>RECYCLING - SINGLE STREAM</td>\n      <td>12/08/2020 10:00:00 AM</td>\n      <td>11140.000000</td>\n      <td>TDS - MRF</td>\n      <td>RECYCLING - SINGLE STREAM</td>\n      <td>RTAU53</td>\n      <td>899078</td>\n    </tr>\n  </tbody>\n</table>\n</div>"
     },
     "metadata": {}
    }
   ]
  },
  {
   "cell_type": "code",
   "metadata": {
    "id": "LQ90XveiBN6A",
    "scrolled": true,
    "cell_id": "00018-76bbc27c-82fb-4496-bd05-03a3e487a395",
    "deepnote_to_be_reexecuted": false,
    "source_hash": "9508b3d2",
    "execution_start": 1648029549366,
    "execution_millis": 269,
    "deepnote_cell_type": "code",
    "deepnote_cell_height": 392
   },
   "source": "data_raw.info()",
   "execution_count": 5,
   "outputs": [
    {
     "name": "stdout",
     "text": "<class 'pandas.core.frame.DataFrame'>\nRangeIndex: 740873 entries, 0 to 740872\nData columns (total 8 columns):\n #   Column        Non-Null Count   Dtype  \n---  ------        --------------   -----  \n 0   Report Date   740873 non-null  object \n 1   Load Type     740873 non-null  object \n 2   Load Time     740873 non-null  object \n 3   Load Weight   668538 non-null  float64\n 4   Dropoff Site  740873 non-null  object \n 5   Route Type    740873 non-null  object \n 6   Route Number  740873 non-null  object \n 7   Load ID       740873 non-null  int64  \ndtypes: float64(1), int64(1), object(6)\nmemory usage: 45.2+ MB\n",
     "output_type": "stream"
    }
   ]
  },
  {
   "cell_type": "markdown",
   "source": "So far we believe that the most interesting features for our time series will be :\n- Load Type\n- Load Time\n- Load Weight\n- Dropoff Site\n- Route Number\n\nWe believe that Report Date is not really useful as there are major discrepancies between the report date and the load time. ",
   "metadata": {
    "cell_id": "00019-5ce95544-0662-422a-b908-2ccf612a601e",
    "deepnote_cell_type": "markdown",
    "deepnote_cell_height": 226.796875
   }
  },
  {
   "cell_type": "code",
   "metadata": {
    "cell_id": "00020-d758661a-4284-46ab-8def-5c87472c40ab",
    "deepnote_to_be_reexecuted": false,
    "source_hash": "371e42ed",
    "execution_start": 1648029549665,
    "execution_millis": 106,
    "deepnote_cell_type": "code",
    "deepnote_cell_height": 516
   },
   "source": "data_raw.describe()",
   "execution_count": 6,
   "outputs": [
    {
     "output_type": "execute_result",
     "execution_count": 6,
     "data": {
      "application/vnd.deepnote.dataframe.v3+json": {
       "column_count": 2,
       "row_count": 8,
       "columns": [
        {
         "name": "Load Weight",
         "dtype": "float64",
         "stats": {
          "unique_count": 8,
          "nan_count": 0,
          "min": "-4480.0",
          "max": "1562821.0",
          "histogram": [
           {
            "bin_start": -4480,
            "bin_end": 152250.1,
            "count": 6
           },
           {
            "bin_start": 152250.1,
            "bin_end": 308980.2,
            "count": 0
           },
           {
            "bin_start": 308980.2,
            "bin_end": 465710.30000000005,
            "count": 0
           },
           {
            "bin_start": 465710.30000000005,
            "bin_end": 622440.4,
            "count": 0
           },
           {
            "bin_start": 622440.4,
            "bin_end": 779170.5,
            "count": 1
           },
           {
            "bin_start": 779170.5,
            "bin_end": 935900.6000000001,
            "count": 0
           },
           {
            "bin_start": 935900.6000000001,
            "bin_end": 1092630.7,
            "count": 0
           },
           {
            "bin_start": 1092630.7,
            "bin_end": 1249360.8,
            "count": 0
           },
           {
            "bin_start": 1249360.8,
            "bin_end": 1406090.9000000001,
            "count": 0
           },
           {
            "bin_start": 1406090.9000000001,
            "bin_end": 1562821,
            "count": 1
           }
          ]
         }
        },
        {
         "name": "Load ID",
         "dtype": "float64",
         "stats": {
          "unique_count": 8,
          "nan_count": 0,
          "min": "101223.0",
          "max": "929006.0",
          "histogram": [
           {
            "bin_start": 101223,
            "bin_end": 184001.3,
            "count": 1
           },
           {
            "bin_start": 184001.3,
            "bin_end": 266779.6,
            "count": 1
           },
           {
            "bin_start": 266779.6,
            "bin_end": 349557.9,
            "count": 1
           },
           {
            "bin_start": 349557.9,
            "bin_end": 432336.2,
            "count": 0
           },
           {
            "bin_start": 432336.2,
            "bin_end": 515114.5,
            "count": 0
           },
           {
            "bin_start": 515114.5,
            "bin_end": 597892.8,
            "count": 2
           },
           {
            "bin_start": 597892.8,
            "bin_end": 680671.1,
            "count": 0
           },
           {
            "bin_start": 680671.1,
            "bin_end": 763449.4,
            "count": 2
           },
           {
            "bin_start": 763449.4,
            "bin_end": 846227.7000000001,
            "count": 0
           },
           {
            "bin_start": 846227.7000000001,
            "bin_end": 929006,
            "count": 1
           }
          ]
         }
        },
        {
         "name": "_deepnote_index_column",
         "dtype": "object"
        }
       ],
       "rows": [
        {
         "Load Weight": 668538,
         "Load ID": 740873,
         "_deepnote_index_column": "count"
        },
        {
         "Load Weight": 11763.47757575396,
         "Load ID": 521353.12365142204,
         "_deepnote_index_column": "mean"
        },
        {
         "Load Weight": 7554.855661773093,
         "Load ID": 249972.6212591686,
         "_deepnote_index_column": "std"
        },
        {
         "Load Weight": -4480,
         "Load ID": 101223,
         "_deepnote_index_column": "min"
        },
        {
         "Load Weight": 5740,
         "Load ID": 289609,
         "_deepnote_index_column": "25%"
        },
        {
         "Load Weight": 11020,
         "Load ID": 554862,
         "_deepnote_index_column": "50%"
        },
        {
         "Load Weight": 16520,
         "Load ID": 741648,
         "_deepnote_index_column": "75%"
        },
        {
         "Load Weight": 1562821,
         "Load ID": 929006,
         "_deepnote_index_column": "max"
        }
       ]
      },
      "text/plain": "         Load Weight       Load ID\ncount  668538.000000 740873.000000\nmean    11763.477576 521353.123651\nstd      7554.855662 249972.621259\nmin     -4480.000000 101223.000000\n25%      5740.000000 289609.000000\n50%     11020.000000 554862.000000\n75%     16520.000000 741648.000000\nmax   1562821.000000 929006.000000",
      "text/html": "<div>\n<style scoped>\n    .dataframe tbody tr th:only-of-type {\n        vertical-align: middle;\n    }\n\n    .dataframe tbody tr th {\n        vertical-align: top;\n    }\n\n    .dataframe thead th {\n        text-align: right;\n    }\n</style>\n<table border=\"1\" class=\"dataframe\">\n  <thead>\n    <tr style=\"text-align: right;\">\n      <th></th>\n      <th>Load Weight</th>\n      <th>Load ID</th>\n    </tr>\n  </thead>\n  <tbody>\n    <tr>\n      <th>count</th>\n      <td>668538.000000</td>\n      <td>740873.000000</td>\n    </tr>\n    <tr>\n      <th>mean</th>\n      <td>11763.477576</td>\n      <td>521353.123651</td>\n    </tr>\n    <tr>\n      <th>std</th>\n      <td>7554.855662</td>\n      <td>249972.621259</td>\n    </tr>\n    <tr>\n      <th>min</th>\n      <td>-4480.000000</td>\n      <td>101223.000000</td>\n    </tr>\n    <tr>\n      <th>25%</th>\n      <td>5740.000000</td>\n      <td>289609.000000</td>\n    </tr>\n    <tr>\n      <th>50%</th>\n      <td>11020.000000</td>\n      <td>554862.000000</td>\n    </tr>\n    <tr>\n      <th>75%</th>\n      <td>16520.000000</td>\n      <td>741648.000000</td>\n    </tr>\n    <tr>\n      <th>max</th>\n      <td>1562821.000000</td>\n      <td>929006.000000</td>\n    </tr>\n  </tbody>\n</table>\n</div>"
     },
     "metadata": {}
    }
   ]
  },
  {
   "cell_type": "code",
   "metadata": {
    "cell_id": "00021-cf4df1c5-8d6c-4d38-8fe1-3cc3d7e36cea",
    "deepnote_to_be_reexecuted": false,
    "source_hash": "14b1a073",
    "execution_start": 1648029549774,
    "execution_millis": 45,
    "deepnote_cell_type": "code",
    "deepnote_cell_height": 136.1875,
    "deepnote_output_heights": [
     21.1875
    ]
   },
   "source": "# checking for missing value in Load Weight\nlen(data_raw[np.isnan(data_raw[\"Load Weight\"])])/data_raw.shape[0]",
   "execution_count": 7,
   "outputs": [
    {
     "output_type": "execute_result",
     "execution_count": 7,
     "data": {
      "text/plain": "0.09763481730337048"
     },
     "metadata": {}
    }
   ]
  },
  {
   "cell_type": "code",
   "metadata": {
    "cell_id": "00022-4de7438a-e5bb-46d6-94ac-7b1690e2ea7a",
    "deepnote_to_be_reexecuted": false,
    "source_hash": "cb69a552",
    "execution_start": 1648029549833,
    "execution_millis": 54,
    "deepnote_cell_type": "code",
    "deepnote_cell_height": 99
   },
   "source": "# removing NaN valued from Load Weight\ndata = data_raw[np.isnan(data_raw[\"Load Weight\"]) == False]",
   "execution_count": 8,
   "outputs": []
  },
  {
   "cell_type": "code",
   "metadata": {
    "cell_id": "00023-02c6a232-4721-44e0-9986-373ec29bb3fe",
    "deepnote_to_be_reexecuted": false,
    "source_hash": "2fa368aa",
    "execution_start": 1648029549963,
    "execution_millis": 150149,
    "deepnote_cell_type": "code",
    "deepnote_cell_height": 328
   },
   "source": "# turning both dates into datetime\ndata[\"Report Date\"] = pd.to_datetime(data[\"Report Date\"])\ndata[\"Load Time\"] = pd.to_datetime(data[\"Load Time\"])",
   "execution_count": 9,
   "outputs": [
    {
     "name": "stderr",
     "text": "SettingWithCopyWarning: \nA value is trying to be set on a copy of a slice from a DataFrame.\nTry using .loc[row_indexer,col_indexer] = value instead\n\nSee the caveats in the documentation: https://pandas.pydata.org/pandas-docs/stable/user_guide/indexing.html#returning-a-view-versus-a-copy\nSettingWithCopyWarning: \nA value is trying to be set on a copy of a slice from a DataFrame.\nTry using .loc[row_indexer,col_indexer] = value instead\n\nSee the caveats in the documentation: https://pandas.pydata.org/pandas-docs/stable/user_guide/indexing.html#returning-a-view-versus-a-copy\n",
     "output_type": "stream"
    }
   ]
  },
  {
   "cell_type": "code",
   "metadata": {
    "cell_id": "00024-d2374017-181c-427e-9612-fcca362c7803",
    "deepnote_to_be_reexecuted": false,
    "source_hash": "843d0625",
    "execution_start": 1648029700110,
    "execution_millis": 429,
    "deepnote_cell_type": "code",
    "deepnote_cell_height": 322.796875
   },
   "source": "# Here we can see two typos which we can correct for\n# The year was inputted wrong while the date and month were inputed right \ndata[pd.DatetimeIndex(data[\"Load Time\"]).year > 2021] ",
   "execution_count": 10,
   "outputs": [
    {
     "output_type": "execute_result",
     "execution_count": 10,
     "data": {
      "application/vnd.deepnote.dataframe.v3+json": {
       "column_count": 8,
       "row_count": 2,
       "columns": [
        {
         "name": "Report Date",
         "dtype": "datetime64[ns]",
         "stats": {
          "unique_count": 2,
          "nan_count": 0,
          "min": "2020-07-29 00:00:00",
          "max": "2020-11-24 00:00:00",
          "histogram": [
           {
            "bin_start": 1595980800000000000,
            "bin_end": 1597000320000000000,
            "count": 1
           },
           {
            "bin_start": 1597000320000000000,
            "bin_end": 1598019840000000000,
            "count": 0
           },
           {
            "bin_start": 1598019840000000000,
            "bin_end": 1599039360000000000,
            "count": 0
           },
           {
            "bin_start": 1599039360000000000,
            "bin_end": 1600058880000000000,
            "count": 0
           },
           {
            "bin_start": 1600058880000000000,
            "bin_end": 1601078400000000000,
            "count": 0
           },
           {
            "bin_start": 1601078400000000000,
            "bin_end": 1602097920000000000,
            "count": 0
           },
           {
            "bin_start": 1602097920000000000,
            "bin_end": 1603117440000000000,
            "count": 0
           },
           {
            "bin_start": 1603117440000000000,
            "bin_end": 1604136960000000000,
            "count": 0
           },
           {
            "bin_start": 1604136960000000000,
            "bin_end": 1605156480000000000,
            "count": 0
           },
           {
            "bin_start": 1605156480000000000,
            "bin_end": 1606176000000000000,
            "count": 1
           }
          ]
         }
        },
        {
         "name": "Load Type",
         "dtype": "object",
         "stats": {
          "unique_count": 1,
          "nan_count": 0,
          "categories": [
           {
            "name": "DEAD ANIMAL",
            "count": 2
           }
          ]
         }
        },
        {
         "name": "Load Time",
         "dtype": "datetime64[ns]",
         "stats": {
          "unique_count": 2,
          "nan_count": 0,
          "min": "2030-07-29 14:08:00",
          "max": "2030-11-24 13:49:00",
          "histogram": [
           {
            "bin_start": 1911564480000000000,
            "bin_end": 1912583886000000000,
            "count": 1
           },
           {
            "bin_start": 1912583886000000000,
            "bin_end": 1913603292000000000,
            "count": 0
           },
           {
            "bin_start": 1913603292000000000,
            "bin_end": 1914622698000000000,
            "count": 0
           },
           {
            "bin_start": 1914622698000000000,
            "bin_end": 1915642104000000000,
            "count": 0
           },
           {
            "bin_start": 1915642104000000000,
            "bin_end": 1916661510000000000,
            "count": 0
           },
           {
            "bin_start": 1916661510000000000,
            "bin_end": 1917680916000000000,
            "count": 0
           },
           {
            "bin_start": 1917680916000000000,
            "bin_end": 1918700322000000000,
            "count": 0
           },
           {
            "bin_start": 1918700322000000000,
            "bin_end": 1919719728000000000,
            "count": 0
           },
           {
            "bin_start": 1919719728000000000,
            "bin_end": 1920739134000000000,
            "count": 0
           },
           {
            "bin_start": 1920739134000000000,
            "bin_end": 1921758540000000000,
            "count": 1
           }
          ]
         }
        },
        {
         "name": "Load Weight",
         "dtype": "float64",
         "stats": {
          "unique_count": 2,
          "nan_count": 0,
          "min": "260.0",
          "max": "320.0",
          "histogram": [
           {
            "bin_start": 260,
            "bin_end": 266,
            "count": 1
           },
           {
            "bin_start": 266,
            "bin_end": 272,
            "count": 0
           },
           {
            "bin_start": 272,
            "bin_end": 278,
            "count": 0
           },
           {
            "bin_start": 278,
            "bin_end": 284,
            "count": 0
           },
           {
            "bin_start": 284,
            "bin_end": 290,
            "count": 0
           },
           {
            "bin_start": 290,
            "bin_end": 296,
            "count": 0
           },
           {
            "bin_start": 296,
            "bin_end": 302,
            "count": 0
           },
           {
            "bin_start": 302,
            "bin_end": 308,
            "count": 0
           },
           {
            "bin_start": 308,
            "bin_end": 314,
            "count": 0
           },
           {
            "bin_start": 314,
            "bin_end": 320,
            "count": 1
           }
          ]
         }
        },
        {
         "name": "Dropoff Site",
         "dtype": "object",
         "stats": {
          "unique_count": 1,
          "nan_count": 0,
          "categories": [
           {
            "name": "TDS LANDFILL",
            "count": 2
           }
          ]
         }
        },
        {
         "name": "Route Type",
         "dtype": "object",
         "stats": {
          "unique_count": 1,
          "nan_count": 0,
          "categories": [
           {
            "name": "DEAD ANIMAL",
            "count": 2
           }
          ]
         }
        },
        {
         "name": "Route Number",
         "dtype": "object",
         "stats": {
          "unique_count": 2,
          "nan_count": 0,
          "categories": [
           {
            "name": "DA02",
            "count": 1
           },
           {
            "name": "DA01",
            "count": 1
           }
          ]
         }
        },
        {
         "name": "Load ID",
         "dtype": "int64",
         "stats": {
          "unique_count": 2,
          "nan_count": 0,
          "min": "883665",
          "max": "897529",
          "histogram": [
           {
            "bin_start": 883665,
            "bin_end": 885051.4,
            "count": 1
           },
           {
            "bin_start": 885051.4,
            "bin_end": 886437.8,
            "count": 0
           },
           {
            "bin_start": 886437.8,
            "bin_end": 887824.2,
            "count": 0
           },
           {
            "bin_start": 887824.2,
            "bin_end": 889210.6,
            "count": 0
           },
           {
            "bin_start": 889210.6,
            "bin_end": 890597,
            "count": 0
           },
           {
            "bin_start": 890597,
            "bin_end": 891983.4,
            "count": 0
           },
           {
            "bin_start": 891983.4,
            "bin_end": 893369.8,
            "count": 0
           },
           {
            "bin_start": 893369.8,
            "bin_end": 894756.2,
            "count": 0
           },
           {
            "bin_start": 894756.2,
            "bin_end": 896142.6,
            "count": 0
           },
           {
            "bin_start": 896142.6,
            "bin_end": 897529,
            "count": 1
           }
          ]
         }
        },
        {
         "name": "_deepnote_index_column",
         "dtype": "int64"
        }
       ],
       "rows": [
        {
         "Report Date": "2020-11-24T00:00:00.000000",
         "Load Type": "DEAD ANIMAL",
         "Load Time": "2030-11-24T13:49:00.000000",
         "Load Weight": 320,
         "Dropoff Site": "TDS LANDFILL",
         "Route Type": "DEAD ANIMAL",
         "Route Number": "DA02",
         "Load ID": 897529,
         "_deepnote_index_column": 354250
        },
        {
         "Report Date": "2020-07-29T00:00:00.000000",
         "Load Type": "DEAD ANIMAL",
         "Load Time": "2030-07-29T14:08:00.000000",
         "Load Weight": 260,
         "Dropoff Site": "TDS LANDFILL",
         "Route Type": "DEAD ANIMAL",
         "Route Number": "DA01",
         "Load ID": 883665,
         "_deepnote_index_column": 730958
        }
       ]
      },
      "text/plain": "       Report Date    Load Type           Load Time  Load Weight  \\\n354250  2020-11-24  DEAD ANIMAL 2030-11-24 13:49:00   320.000000   \n730958  2020-07-29  DEAD ANIMAL 2030-07-29 14:08:00   260.000000   \n\n        Dropoff Site   Route Type Route Number  Load ID  \n354250  TDS LANDFILL  DEAD ANIMAL         DA02   897529  \n730958  TDS LANDFILL  DEAD ANIMAL         DA01   883665  ",
      "text/html": "<div>\n<style scoped>\n    .dataframe tbody tr th:only-of-type {\n        vertical-align: middle;\n    }\n\n    .dataframe tbody tr th {\n        vertical-align: top;\n    }\n\n    .dataframe thead th {\n        text-align: right;\n    }\n</style>\n<table border=\"1\" class=\"dataframe\">\n  <thead>\n    <tr style=\"text-align: right;\">\n      <th></th>\n      <th>Report Date</th>\n      <th>Load Type</th>\n      <th>Load Time</th>\n      <th>Load Weight</th>\n      <th>Dropoff Site</th>\n      <th>Route Type</th>\n      <th>Route Number</th>\n      <th>Load ID</th>\n    </tr>\n  </thead>\n  <tbody>\n    <tr>\n      <th>354250</th>\n      <td>2020-11-24</td>\n      <td>DEAD ANIMAL</td>\n      <td>2030-11-24 13:49:00</td>\n      <td>320.000000</td>\n      <td>TDS LANDFILL</td>\n      <td>DEAD ANIMAL</td>\n      <td>DA02</td>\n      <td>897529</td>\n    </tr>\n    <tr>\n      <th>730958</th>\n      <td>2020-07-29</td>\n      <td>DEAD ANIMAL</td>\n      <td>2030-07-29 14:08:00</td>\n      <td>260.000000</td>\n      <td>TDS LANDFILL</td>\n      <td>DEAD ANIMAL</td>\n      <td>DA01</td>\n      <td>883665</td>\n    </tr>\n  </tbody>\n</table>\n</div>"
     },
     "metadata": {}
    }
   ]
  },
  {
   "cell_type": "code",
   "metadata": {
    "scrolled": true,
    "cell_id": "00025-0b785c69-e675-4f05-8e22-3e67eb149082",
    "deepnote_to_be_reexecuted": false,
    "source_hash": "c7f78966",
    "execution_start": 1648029700547,
    "execution_millis": 148,
    "deepnote_cell_type": "code",
    "deepnote_cell_height": 409.796875
   },
   "source": "data[pd.DatetimeIndex(data[\"Load Time\"]).year < 2004] ",
   "execution_count": 11,
   "outputs": [
    {
     "output_type": "execute_result",
     "execution_count": 11,
     "data": {
      "application/vnd.deepnote.dataframe.v3+json": {
       "column_count": 8,
       "row_count": 5,
       "columns": [
        {
         "name": "Report Date",
         "dtype": "datetime64[ns]",
         "stats": {
          "unique_count": 3,
          "nan_count": 0,
          "min": "2006-01-26 00:00:00",
          "max": "2012-10-16 00:00:00",
          "histogram": [
           {
            "bin_start": 1138233600000000000,
            "bin_end": 1159444800000000000,
            "count": 1
           },
           {
            "bin_start": 1159444800000000000,
            "bin_end": 1180656000000000000,
            "count": 0
           },
           {
            "bin_start": 1180656000000000000,
            "bin_end": 1201867200000000000,
            "count": 0
           },
           {
            "bin_start": 1201867200000000000,
            "bin_end": 1223078400000000000,
            "count": 0
           },
           {
            "bin_start": 1223078400000000000,
            "bin_end": 1244289600000000000,
            "count": 0
           },
           {
            "bin_start": 1244289600000000000,
            "bin_end": 1265500800000000000,
            "count": 0
           },
           {
            "bin_start": 1265500800000000000,
            "bin_end": 1286712000000000000,
            "count": 0
           },
           {
            "bin_start": 1286712000000000000,
            "bin_end": 1307923200000000000,
            "count": 0
           },
           {
            "bin_start": 1307923200000000000,
            "bin_end": 1329134400000000000,
            "count": 0
           },
           {
            "bin_start": 1329134400000000000,
            "bin_end": 1350345600000000000,
            "count": 4
           }
          ]
         }
        },
        {
         "name": "Load Type",
         "dtype": "object",
         "stats": {
          "unique_count": 2,
          "nan_count": 0,
          "categories": [
           {
            "name": "BULK",
            "count": 4
           },
           {
            "name": "RECYCLING - PAPER",
            "count": 1
           }
          ]
         }
        },
        {
         "name": "Load Time",
         "dtype": "datetime64[ns]",
         "stats": {
          "unique_count": 5,
          "nan_count": 0,
          "min": "2000-01-26 12:39:00",
          "max": "2001-10-16 15:28:00",
          "histogram": [
           {
            "bin_start": 948890340000000000,
            "bin_end": 954325914000000000,
            "count": 1
           },
           {
            "bin_start": 954325914000000000,
            "bin_end": 959761488000000000,
            "count": 0
           },
           {
            "bin_start": 959761488000000000,
            "bin_end": 965197062000000000,
            "count": 0
           },
           {
            "bin_start": 965197062000000000,
            "bin_end": 970632636000000000,
            "count": 0
           },
           {
            "bin_start": 970632636000000000,
            "bin_end": 976068210000000000,
            "count": 0
           },
           {
            "bin_start": 976068210000000000,
            "bin_end": 981503784000000000,
            "count": 0
           },
           {
            "bin_start": 981503784000000000,
            "bin_end": 986939358000000000,
            "count": 2
           },
           {
            "bin_start": 986939358000000000,
            "bin_end": 992374932000000000,
            "count": 0
           },
           {
            "bin_start": 992374932000000000,
            "bin_end": 997810506000000000,
            "count": 0
           },
           {
            "bin_start": 997810506000000000,
            "bin_end": 1003246080000000000,
            "count": 2
           }
          ]
         }
        },
        {
         "name": "Load Weight",
         "dtype": "float64",
         "stats": {
          "unique_count": 5,
          "nan_count": 0,
          "min": "2940.0",
          "max": "14080.0",
          "histogram": [
           {
            "bin_start": 2940,
            "bin_end": 4054,
            "count": 1
           },
           {
            "bin_start": 4054,
            "bin_end": 5168,
            "count": 2
           },
           {
            "bin_start": 5168,
            "bin_end": 6282,
            "count": 0
           },
           {
            "bin_start": 6282,
            "bin_end": 7396,
            "count": 0
           },
           {
            "bin_start": 7396,
            "bin_end": 8510,
            "count": 1
           },
           {
            "bin_start": 8510,
            "bin_end": 9624,
            "count": 0
           },
           {
            "bin_start": 9624,
            "bin_end": 10738,
            "count": 0
           },
           {
            "bin_start": 10738,
            "bin_end": 11852,
            "count": 0
           },
           {
            "bin_start": 11852,
            "bin_end": 12966,
            "count": 0
           },
           {
            "bin_start": 12966,
            "bin_end": 14080,
            "count": 1
           }
          ]
         }
        },
        {
         "name": "Dropoff Site",
         "dtype": "object",
         "stats": {
          "unique_count": 2,
          "nan_count": 0,
          "categories": [
           {
            "name": "TDS LANDFILL",
            "count": 4
           },
           {
            "name": "MRF",
            "count": 1
           }
          ]
         }
        },
        {
         "name": "Route Type",
         "dtype": "object",
         "stats": {
          "unique_count": 2,
          "nan_count": 0,
          "categories": [
           {
            "name": "BULK",
            "count": 4
           },
           {
            "name": "RECYCLING",
            "count": 1
           }
          ]
         }
        },
        {
         "name": "Route Number",
         "dtype": "object",
         "stats": {
          "unique_count": 3,
          "nan_count": 0,
          "categories": [
           {
            "name": "BU16",
            "count": 2
           },
           {
            "name": "BU05",
            "count": 2
           },
           {
            "name": "RH12",
            "count": 1
           }
          ]
         }
        },
        {
         "name": "Load ID",
         "dtype": "int64",
         "stats": {
          "unique_count": 5,
          "nan_count": 0,
          "min": "163262",
          "max": "545997",
          "histogram": [
           {
            "bin_start": 163262,
            "bin_end": 201535.5,
            "count": 1
           },
           {
            "bin_start": 201535.5,
            "bin_end": 239809,
            "count": 0
           },
           {
            "bin_start": 239809,
            "bin_end": 278082.5,
            "count": 0
           },
           {
            "bin_start": 278082.5,
            "bin_end": 316356,
            "count": 0
           },
           {
            "bin_start": 316356,
            "bin_end": 354629.5,
            "count": 0
           },
           {
            "bin_start": 354629.5,
            "bin_end": 392903,
            "count": 0
           },
           {
            "bin_start": 392903,
            "bin_end": 431176.5,
            "count": 0
           },
           {
            "bin_start": 431176.5,
            "bin_end": 469450,
            "count": 0
           },
           {
            "bin_start": 469450,
            "bin_end": 507723.5,
            "count": 0
           },
           {
            "bin_start": 507723.5,
            "bin_end": 545997,
            "count": 4
           }
          ]
         }
        },
        {
         "name": "_deepnote_index_column",
         "dtype": "int64"
        }
       ],
       "rows": [
        {
         "Report Date": "2012-10-16T00:00:00.000000",
         "Load Type": "BULK",
         "Load Time": "2001-10-16T15:28:00.000000",
         "Load Weight": 8260,
         "Dropoff Site": "TDS LANDFILL",
         "Route Type": "BULK",
         "Route Number": "BU16",
         "Load ID": 545996,
         "_deepnote_index_column": 107125
        },
        {
         "Report Date": "2012-03-16T00:00:00.000000",
         "Load Type": "BULK",
         "Load Time": "2001-03-16T13:33:00.000000",
         "Load Weight": 4740,
         "Dropoff Site": "TDS LANDFILL",
         "Route Type": "BULK",
         "Route Number": "BU05",
         "Load ID": 522334,
         "_deepnote_index_column": 175739
        },
        {
         "Report Date": "2012-10-16T00:00:00.000000",
         "Load Type": "BULK",
         "Load Time": "2001-10-16T11:51:00.000000",
         "Load Weight": 14080,
         "Dropoff Site": "TDS LANDFILL",
         "Route Type": "BULK",
         "Route Number": "BU16",
         "Load ID": 545997,
         "_deepnote_index_column": 322083
        },
        {
         "Report Date": "2006-01-26T00:00:00.000000",
         "Load Type": "RECYCLING - PAPER",
         "Load Time": "2000-01-26T12:39:00.000000",
         "Load Weight": 2940,
         "Dropoff Site": "MRF",
         "Route Type": "RECYCLING",
         "Route Number": "RH12",
         "Load ID": 163262,
         "_deepnote_index_column": 343252
        },
        {
         "Report Date": "2012-03-16T00:00:00.000000",
         "Load Type": "BULK",
         "Load Time": "2001-03-16T09:38:00.000000",
         "Load Weight": 4240,
         "Dropoff Site": "TDS LANDFILL",
         "Route Type": "BULK",
         "Route Number": "BU05",
         "Load ID": 522335,
         "_deepnote_index_column": 550853
        }
       ]
      },
      "text/plain": "       Report Date          Load Type           Load Time  Load Weight  \\\n107125  2012-10-16               BULK 2001-10-16 15:28:00  8260.000000   \n175739  2012-03-16               BULK 2001-03-16 13:33:00  4740.000000   \n322083  2012-10-16               BULK 2001-10-16 11:51:00 14080.000000   \n343252  2006-01-26  RECYCLING - PAPER 2000-01-26 12:39:00  2940.000000   \n550853  2012-03-16               BULK 2001-03-16 09:38:00  4240.000000   \n\n        Dropoff Site Route Type Route Number  Load ID  \n107125  TDS LANDFILL       BULK         BU16   545996  \n175739  TDS LANDFILL       BULK         BU05   522334  \n322083  TDS LANDFILL       BULK         BU16   545997  \n343252           MRF  RECYCLING         RH12   163262  \n550853  TDS LANDFILL       BULK         BU05   522335  ",
      "text/html": "<div>\n<style scoped>\n    .dataframe tbody tr th:only-of-type {\n        vertical-align: middle;\n    }\n\n    .dataframe tbody tr th {\n        vertical-align: top;\n    }\n\n    .dataframe thead th {\n        text-align: right;\n    }\n</style>\n<table border=\"1\" class=\"dataframe\">\n  <thead>\n    <tr style=\"text-align: right;\">\n      <th></th>\n      <th>Report Date</th>\n      <th>Load Type</th>\n      <th>Load Time</th>\n      <th>Load Weight</th>\n      <th>Dropoff Site</th>\n      <th>Route Type</th>\n      <th>Route Number</th>\n      <th>Load ID</th>\n    </tr>\n  </thead>\n  <tbody>\n    <tr>\n      <th>107125</th>\n      <td>2012-10-16</td>\n      <td>BULK</td>\n      <td>2001-10-16 15:28:00</td>\n      <td>8260.000000</td>\n      <td>TDS LANDFILL</td>\n      <td>BULK</td>\n      <td>BU16</td>\n      <td>545996</td>\n    </tr>\n    <tr>\n      <th>175739</th>\n      <td>2012-03-16</td>\n      <td>BULK</td>\n      <td>2001-03-16 13:33:00</td>\n      <td>4740.000000</td>\n      <td>TDS LANDFILL</td>\n      <td>BULK</td>\n      <td>BU05</td>\n      <td>522334</td>\n    </tr>\n    <tr>\n      <th>322083</th>\n      <td>2012-10-16</td>\n      <td>BULK</td>\n      <td>2001-10-16 11:51:00</td>\n      <td>14080.000000</td>\n      <td>TDS LANDFILL</td>\n      <td>BULK</td>\n      <td>BU16</td>\n      <td>545997</td>\n    </tr>\n    <tr>\n      <th>343252</th>\n      <td>2006-01-26</td>\n      <td>RECYCLING - PAPER</td>\n      <td>2000-01-26 12:39:00</td>\n      <td>2940.000000</td>\n      <td>MRF</td>\n      <td>RECYCLING</td>\n      <td>RH12</td>\n      <td>163262</td>\n    </tr>\n    <tr>\n      <th>550853</th>\n      <td>2012-03-16</td>\n      <td>BULK</td>\n      <td>2001-03-16 09:38:00</td>\n      <td>4240.000000</td>\n      <td>TDS LANDFILL</td>\n      <td>BULK</td>\n      <td>BU05</td>\n      <td>522335</td>\n    </tr>\n  </tbody>\n</table>\n</div>"
     },
     "metadata": {}
    }
   ]
  },
  {
   "cell_type": "code",
   "metadata": {
    "scrolled": true,
    "cell_id": "00026-32c75637-8f53-4a7c-8358-5775a8c7c696",
    "deepnote_to_be_reexecuted": false,
    "source_hash": "f476e75c",
    "execution_start": 1648029700708,
    "execution_millis": 330,
    "deepnote_cell_type": "code",
    "deepnote_cell_height": 614.796875
   },
   "source": "data.sort_values(by = \"Load Time\", ascending = False)",
   "execution_count": 12,
   "outputs": [
    {
     "output_type": "execute_result",
     "execution_count": 12,
     "data": {
      "application/vnd.deepnote.dataframe.v3+json": {
       "column_count": 8,
       "row_count": 668538,
       "columns": [
        {
         "name": "Report Date",
         "dtype": "datetime64[ns]"
        },
        {
         "name": "Load Type",
         "dtype": "object"
        },
        {
         "name": "Load Time",
         "dtype": "datetime64[ns]"
        },
        {
         "name": "Load Weight",
         "dtype": "float64"
        },
        {
         "name": "Dropoff Site",
         "dtype": "object"
        },
        {
         "name": "Route Type",
         "dtype": "object"
        },
        {
         "name": "Route Number",
         "dtype": "object"
        },
        {
         "name": "Load ID",
         "dtype": "int64"
        },
        {
         "name": "_deepnote_index_column",
         "dtype": "int64"
        }
       ],
       "rows": [
        {
         "Report Date": "2020-11-24T00:00:00.000000",
         "Load Type": "DEAD ANIMAL",
         "Load Time": "2030-11-24T13:49:00.000000",
         "Load Weight": 320,
         "Dropoff Site": "TDS LANDFILL",
         "Route Type": "DEAD ANIMAL",
         "Route Number": "DA02",
         "Load ID": 897529,
         "_deepnote_index_column": 354250
        },
        {
         "Report Date": "2020-07-29T00:00:00.000000",
         "Load Type": "DEAD ANIMAL",
         "Load Time": "2030-07-29T14:08:00.000000",
         "Load Weight": 260,
         "Dropoff Site": "TDS LANDFILL",
         "Route Type": "DEAD ANIMAL",
         "Route Number": "DA01",
         "Load ID": 883665,
         "_deepnote_index_column": 730958
        },
        {
         "Report Date": "2020-12-21T00:00:00.000000",
         "Load Type": "RECYCLING - SINGLE STREAM",
         "Load Time": "2021-12-21T12:41:00.000000",
         "Load Weight": 6940,
         "Dropoff Site": "TDS LANDFILL",
         "Route Type": "RECYCLING - SINGLE STREAM",
         "Route Number": "RMAU21",
         "Load ID": 906125,
         "_deepnote_index_column": 717844
        },
        {
         "Report Date": "2020-11-24T00:00:00.000000",
         "Load Type": "ORGANICS",
         "Load Time": "2021-12-07T00:00:00.000000",
         "Load Weight": 1340,
         "Dropoff Site": "ORGANICS BY GOSH",
         "Route Type": "YARD TRIMMINGS-ORGANICS",
         "Route Number": "OBT99",
         "Load ID": 927983,
         "_deepnote_index_column": 739696
        },
        {
         "Report Date": "2021-06-28T00:00:00.000000",
         "Load Type": "MIXED LITTER",
         "Load Time": "2021-07-11T07:07:45.000000",
         "Load Weight": 3140,
         "Dropoff Site": "TDS LANDFILL",
         "Route Type": "KAB",
         "Route Number": "KAB02",
         "Load ID": 927260,
         "_deepnote_index_column": 740735
        },
        {
         "Report Date": "2021-06-30T00:00:00.000000",
         "Load Type": "GARBAGE COLLECTIONS",
         "Load Time": "2021-07-11T07:07:42.000000",
         "Load Weight": 17200,
         "Dropoff Site": "TDS LANDFILL",
         "Route Type": "GARBAGE COLLECTION",
         "Route Number": "PW30",
         "Load ID": 928229,
         "_deepnote_index_column": 740751
        },
        {
         "Report Date": "2020-09-23T00:00:00.000000",
         "Load Type": "GARBAGE COLLECTIONS",
         "Load Time": "2021-07-11T07:07:30.000000",
         "Load Weight": 0,
         "Dropoff Site": "TDS LANDFILL",
         "Route Type": "GARBAGE COLLECTION",
         "Route Number": "PAW70",
         "Load ID": 889455,
         "_deepnote_index_column": 740721
        },
        {
         "Report Date": "2019-11-08T00:00:00.000000",
         "Load Type": "TIRES",
         "Load Time": "2021-07-11T07:07:05.000000",
         "Load Weight": 1500,
         "Dropoff Site": "TDS LANDFILL",
         "Route Type": "BULK",
         "Route Number": "BU16",
         "Load ID": 848381,
         "_deepnote_index_column": 740730
        },
        {
         "Report Date": "2019-11-08T00:00:00.000000",
         "Load Type": "TIRES",
         "Load Time": "2021-07-11T07:07:05.000000",
         "Load Weight": 2120,
         "Dropoff Site": "MRF",
         "Route Type": "BULK",
         "Route Number": "BU16",
         "Load ID": 848380,
         "_deepnote_index_column": 740737
        },
        {
         "Report Date": "2019-09-20T00:00:00.000000",
         "Load Type": "BULK",
         "Load Time": "2021-07-11T07:07:01.000000",
         "Load Weight": 10100,
         "Dropoff Site": "TDS LANDFILL",
         "Route Type": "BULK",
         "Route Number": "BU27",
         "Load ID": 842414,
         "_deepnote_index_column": 740772
        }
       ]
      },
      "text/plain": "       Report Date                  Load Type           Load Time  \\\n354250  2020-11-24                DEAD ANIMAL 2030-11-24 13:49:00   \n730958  2020-07-29                DEAD ANIMAL 2030-07-29 14:08:00   \n717844  2020-12-21  RECYCLING - SINGLE STREAM 2021-12-21 12:41:00   \n739696  2020-11-24                   ORGANICS 2021-12-07 00:00:00   \n740735  2021-06-28               MIXED LITTER 2021-07-11 07:07:45   \n...            ...                        ...                 ...   \n107125  2012-10-16                       BULK 2001-10-16 15:28:00   \n322083  2012-10-16                       BULK 2001-10-16 11:51:00   \n175739  2012-03-16                       BULK 2001-03-16 13:33:00   \n550853  2012-03-16                       BULK 2001-03-16 09:38:00   \n343252  2006-01-26          RECYCLING - PAPER 2000-01-26 12:39:00   \n\n        Load Weight      Dropoff Site                 Route Type Route Number  \\\n354250   320.000000      TDS LANDFILL                DEAD ANIMAL         DA02   \n730958   260.000000      TDS LANDFILL                DEAD ANIMAL         DA01   \n717844  6940.000000      TDS LANDFILL  RECYCLING - SINGLE STREAM       RMAU21   \n739696  1340.000000  ORGANICS BY GOSH    YARD TRIMMINGS-ORGANICS        OBT99   \n740735  3140.000000      TDS LANDFILL                        KAB        KAB02   \n...             ...               ...                        ...          ...   \n107125  8260.000000      TDS LANDFILL                       BULK         BU16   \n322083 14080.000000      TDS LANDFILL                       BULK         BU16   \n175739  4740.000000      TDS LANDFILL                       BULK         BU05   \n550853  4240.000000      TDS LANDFILL                       BULK         BU05   \n343252  2940.000000               MRF                  RECYCLING         RH12   \n\n        Load ID  \n354250   897529  \n730958   883665  \n717844   906125  \n739696   927983  \n740735   927260  \n...         ...  \n107125   545996  \n322083   545997  \n175739   522334  \n550853   522335  \n343252   163262  \n\n[668538 rows x 8 columns]",
      "text/html": "<div>\n<style scoped>\n    .dataframe tbody tr th:only-of-type {\n        vertical-align: middle;\n    }\n\n    .dataframe tbody tr th {\n        vertical-align: top;\n    }\n\n    .dataframe thead th {\n        text-align: right;\n    }\n</style>\n<table border=\"1\" class=\"dataframe\">\n  <thead>\n    <tr style=\"text-align: right;\">\n      <th></th>\n      <th>Report Date</th>\n      <th>Load Type</th>\n      <th>Load Time</th>\n      <th>Load Weight</th>\n      <th>Dropoff Site</th>\n      <th>Route Type</th>\n      <th>Route Number</th>\n      <th>Load ID</th>\n    </tr>\n  </thead>\n  <tbody>\n    <tr>\n      <th>354250</th>\n      <td>2020-11-24</td>\n      <td>DEAD ANIMAL</td>\n      <td>2030-11-24 13:49:00</td>\n      <td>320.000000</td>\n      <td>TDS LANDFILL</td>\n      <td>DEAD ANIMAL</td>\n      <td>DA02</td>\n      <td>897529</td>\n    </tr>\n    <tr>\n      <th>730958</th>\n      <td>2020-07-29</td>\n      <td>DEAD ANIMAL</td>\n      <td>2030-07-29 14:08:00</td>\n      <td>260.000000</td>\n      <td>TDS LANDFILL</td>\n      <td>DEAD ANIMAL</td>\n      <td>DA01</td>\n      <td>883665</td>\n    </tr>\n    <tr>\n      <th>717844</th>\n      <td>2020-12-21</td>\n      <td>RECYCLING - SINGLE STREAM</td>\n      <td>2021-12-21 12:41:00</td>\n      <td>6940.000000</td>\n      <td>TDS LANDFILL</td>\n      <td>RECYCLING - SINGLE STREAM</td>\n      <td>RMAU21</td>\n      <td>906125</td>\n    </tr>\n    <tr>\n      <th>739696</th>\n      <td>2020-11-24</td>\n      <td>ORGANICS</td>\n      <td>2021-12-07 00:00:00</td>\n      <td>1340.000000</td>\n      <td>ORGANICS BY GOSH</td>\n      <td>YARD TRIMMINGS-ORGANICS</td>\n      <td>OBT99</td>\n      <td>927983</td>\n    </tr>\n    <tr>\n      <th>740735</th>\n      <td>2021-06-28</td>\n      <td>MIXED LITTER</td>\n      <td>2021-07-11 07:07:45</td>\n      <td>3140.000000</td>\n      <td>TDS LANDFILL</td>\n      <td>KAB</td>\n      <td>KAB02</td>\n      <td>927260</td>\n    </tr>\n    <tr>\n      <th>...</th>\n      <td>...</td>\n      <td>...</td>\n      <td>...</td>\n      <td>...</td>\n      <td>...</td>\n      <td>...</td>\n      <td>...</td>\n      <td>...</td>\n    </tr>\n    <tr>\n      <th>107125</th>\n      <td>2012-10-16</td>\n      <td>BULK</td>\n      <td>2001-10-16 15:28:00</td>\n      <td>8260.000000</td>\n      <td>TDS LANDFILL</td>\n      <td>BULK</td>\n      <td>BU16</td>\n      <td>545996</td>\n    </tr>\n    <tr>\n      <th>322083</th>\n      <td>2012-10-16</td>\n      <td>BULK</td>\n      <td>2001-10-16 11:51:00</td>\n      <td>14080.000000</td>\n      <td>TDS LANDFILL</td>\n      <td>BULK</td>\n      <td>BU16</td>\n      <td>545997</td>\n    </tr>\n    <tr>\n      <th>175739</th>\n      <td>2012-03-16</td>\n      <td>BULK</td>\n      <td>2001-03-16 13:33:00</td>\n      <td>4740.000000</td>\n      <td>TDS LANDFILL</td>\n      <td>BULK</td>\n      <td>BU05</td>\n      <td>522334</td>\n    </tr>\n    <tr>\n      <th>550853</th>\n      <td>2012-03-16</td>\n      <td>BULK</td>\n      <td>2001-03-16 09:38:00</td>\n      <td>4240.000000</td>\n      <td>TDS LANDFILL</td>\n      <td>BULK</td>\n      <td>BU05</td>\n      <td>522335</td>\n    </tr>\n    <tr>\n      <th>343252</th>\n      <td>2006-01-26</td>\n      <td>RECYCLING - PAPER</td>\n      <td>2000-01-26 12:39:00</td>\n      <td>2940.000000</td>\n      <td>MRF</td>\n      <td>RECYCLING</td>\n      <td>RH12</td>\n      <td>163262</td>\n    </tr>\n  </tbody>\n</table>\n<p>668538 rows × 8 columns</p>\n</div>"
     },
     "metadata": {}
    }
   ]
  },
  {
   "cell_type": "code",
   "metadata": {
    "cell_id": "00027-8c3794f4-78fd-4af1-b3ab-53642fd87663",
    "deepnote_to_be_reexecuted": false,
    "source_hash": "59657779",
    "execution_start": 1648029701123,
    "execution_millis": 115,
    "deepnote_cell_type": "code",
    "deepnote_cell_height": 614.796875
   },
   "source": "data[data[\"Route Number\"] == \"PF33\"]",
   "execution_count": 13,
   "outputs": [
    {
     "output_type": "execute_result",
     "execution_count": 13,
     "data": {
      "application/vnd.deepnote.dataframe.v3+json": {
       "column_count": 8,
       "row_count": 884,
       "columns": [
        {
         "name": "Report Date",
         "dtype": "datetime64[ns]",
         "stats": {
          "unique_count": 839,
          "nan_count": 0,
          "min": "2004-10-01 00:00:00",
          "max": "2021-07-02 00:00:00",
          "histogram": [
           {
            "bin_start": 1096588800000000000,
            "bin_end": 1149448320000000000,
            "count": 84
           },
           {
            "bin_start": 1149448320000000000,
            "bin_end": 1202307840000000000,
            "count": 86
           },
           {
            "bin_start": 1202307840000000000,
            "bin_end": 1255167360000000000,
            "count": 86
           },
           {
            "bin_start": 1255167360000000000,
            "bin_end": 1308026880000000000,
            "count": 88
           },
           {
            "bin_start": 1308026880000000000,
            "bin_end": 1360886400000000000,
            "count": 92
           },
           {
            "bin_start": 1360886400000000000,
            "bin_end": 1413745920000000000,
            "count": 82
           },
           {
            "bin_start": 1413745920000000000,
            "bin_end": 1466605440000000000,
            "count": 92
           },
           {
            "bin_start": 1466605440000000000,
            "bin_end": 1519464960000000000,
            "count": 89
           },
           {
            "bin_start": 1519464960000000000,
            "bin_end": 1572324480000000000,
            "count": 90
           },
           {
            "bin_start": 1572324480000000000,
            "bin_end": 1625184000000000000,
            "count": 95
           }
          ]
         }
        },
        {
         "name": "Load Type",
         "dtype": "object",
         "stats": {
          "unique_count": 2,
          "nan_count": 0,
          "categories": [
           {
            "name": "GARBAGE COLLECTIONS",
            "count": 883
           },
           {
            "name": "RECYCLING - SINGLE STREAM",
            "count": 1
           }
          ]
         }
        },
        {
         "name": "Load Time",
         "dtype": "datetime64[ns]",
         "stats": {
          "unique_count": 877,
          "nan_count": 0,
          "min": "2004-10-01 11:46:00",
          "max": "2021-07-02 14:17:00",
          "histogram": [
           {
            "bin_start": 1096631160000000000,
            "bin_end": 1149491586000000000,
            "count": 84
           },
           {
            "bin_start": 1149491586000000000,
            "bin_end": 1202352012000000000,
            "count": 86
           },
           {
            "bin_start": 1202352012000000000,
            "bin_end": 1255212438000000000,
            "count": 86
           },
           {
            "bin_start": 1255212438000000000,
            "bin_end": 1308072864000000000,
            "count": 88
           },
           {
            "bin_start": 1308072864000000000,
            "bin_end": 1360933290000000000,
            "count": 94
           },
           {
            "bin_start": 1360933290000000000,
            "bin_end": 1413793716000000000,
            "count": 80
           },
           {
            "bin_start": 1413793716000000000,
            "bin_end": 1466654142000000000,
            "count": 92
           },
           {
            "bin_start": 1466654142000000000,
            "bin_end": 1519514568000000000,
            "count": 89
           },
           {
            "bin_start": 1519514568000000000,
            "bin_end": 1572374994000000000,
            "count": 90
           },
           {
            "bin_start": 1572374994000000000,
            "bin_end": 1625235420000000000,
            "count": 95
           }
          ]
         }
        },
        {
         "name": "Load Weight",
         "dtype": "float64",
         "stats": {
          "unique_count": 502,
          "nan_count": 0,
          "min": "2540.0",
          "max": "30340.0",
          "histogram": [
           {
            "bin_start": 2540,
            "bin_end": 5320,
            "count": 6
           },
           {
            "bin_start": 5320,
            "bin_end": 8100,
            "count": 15
           },
           {
            "bin_start": 8100,
            "bin_end": 10880,
            "count": 28
           },
           {
            "bin_start": 10880,
            "bin_end": 13660,
            "count": 78
           },
           {
            "bin_start": 13660,
            "bin_end": 16440,
            "count": 207
           },
           {
            "bin_start": 16440,
            "bin_end": 19220,
            "count": 275
           },
           {
            "bin_start": 19220,
            "bin_end": 22000,
            "count": 189
           },
           {
            "bin_start": 22000,
            "bin_end": 24780,
            "count": 64
           },
           {
            "bin_start": 24780,
            "bin_end": 27560,
            "count": 17
           },
           {
            "bin_start": 27560,
            "bin_end": 30340,
            "count": 5
           }
          ]
         }
        },
        {
         "name": "Dropoff Site",
         "dtype": "object",
         "stats": {
          "unique_count": 2,
          "nan_count": 0,
          "categories": [
           {
            "name": "TDS LANDFILL",
            "count": 879
           },
           {
            "name": "TDS - MRF",
            "count": 5
           }
          ]
         }
        },
        {
         "name": "Route Type",
         "dtype": "object",
         "stats": {
          "unique_count": 1,
          "nan_count": 0,
          "categories": [
           {
            "name": "GARBAGE COLLECTION",
            "count": 884
           }
          ]
         }
        },
        {
         "name": "Route Number",
         "dtype": "object",
         "stats": {
          "unique_count": 1,
          "nan_count": 0,
          "categories": [
           {
            "name": "PF33",
            "count": 884
           }
          ]
         }
        },
        {
         "name": "Load ID",
         "dtype": "int64",
         "stats": {
          "unique_count": 884,
          "nan_count": 0,
          "min": "101657",
          "max": "928306",
          "histogram": [
           {
            "bin_start": 101657,
            "bin_end": 184321.9,
            "count": 87
           },
           {
            "bin_start": 184321.9,
            "bin_end": 266986.8,
            "count": 86
           },
           {
            "bin_start": 266986.8,
            "bin_end": 349651.69999999995,
            "count": 91
           },
           {
            "bin_start": 349651.69999999995,
            "bin_end": 432316.6,
            "count": 90
           },
           {
            "bin_start": 432316.6,
            "bin_end": 514981.5,
            "count": 20
           },
           {
            "bin_start": 514981.5,
            "bin_end": 597646.3999999999,
            "count": 112
           },
           {
            "bin_start": 597646.3999999999,
            "bin_end": 680311.2999999999,
            "count": 101
           },
           {
            "bin_start": 680311.2999999999,
            "bin_end": 762976.2,
            "count": 99
           },
           {
            "bin_start": 762976.2,
            "bin_end": 845641.1,
            "count": 100
           },
           {
            "bin_start": 845641.1,
            "bin_end": 928306,
            "count": 98
           }
          ]
         }
        },
        {
         "name": "_deepnote_index_column",
         "dtype": "int64"
        }
       ],
       "rows": [
        {
         "Report Date": "2020-12-11T00:00:00.000000",
         "Load Type": "GARBAGE COLLECTIONS",
         "Load Time": "2020-12-11T14:00:00.000000",
         "Load Weight": 11200,
         "Dropoff Site": "TDS LANDFILL",
         "Route Type": "GARBAGE COLLECTION",
         "Route Number": "PF33",
         "Load ID": 899738,
         "_deepnote_index_column": 690
        },
        {
         "Report Date": "2008-10-03T00:00:00.000000",
         "Load Type": "GARBAGE COLLECTIONS",
         "Load Time": "2008-10-03T14:30:00.000000",
         "Load Weight": 16720,
         "Dropoff Site": "TDS LANDFILL",
         "Route Type": "GARBAGE COLLECTION",
         "Route Number": "PF33",
         "Load ID": 298658,
         "_deepnote_index_column": 4141
        },
        {
         "Report Date": "2011-10-14T00:00:00.000000",
         "Load Type": "GARBAGE COLLECTIONS",
         "Load Time": "2011-10-14T13:00:00.000000",
         "Load Weight": 20280,
         "Dropoff Site": "TDS LANDFILL",
         "Route Type": "GARBAGE COLLECTION",
         "Route Number": "PF33",
         "Load ID": 505506,
         "_deepnote_index_column": 4324
        },
        {
         "Report Date": "2011-08-05T00:00:00.000000",
         "Load Type": "GARBAGE COLLECTIONS",
         "Load Time": "2011-08-05T13:19:00.000000",
         "Load Weight": 16140,
         "Dropoff Site": "TDS LANDFILL",
         "Route Type": "GARBAGE COLLECTION",
         "Route Number": "PF33",
         "Load ID": 419577,
         "_deepnote_index_column": 5820
        },
        {
         "Report Date": "2005-09-23T00:00:00.000000",
         "Load Type": "GARBAGE COLLECTIONS",
         "Load Time": "2005-09-23T13:03:00.000000",
         "Load Weight": 21040,
         "Dropoff Site": "TDS LANDFILL",
         "Route Type": "GARBAGE COLLECTION",
         "Route Number": "PF33",
         "Load ID": 146559,
         "_deepnote_index_column": 8596
        },
        {
         "Report Date": "2016-05-06T00:00:00.000000",
         "Load Type": "GARBAGE COLLECTIONS",
         "Load Time": "2016-05-06T13:56:00.000000",
         "Load Weight": 18120,
         "Dropoff Site": "TDS LANDFILL",
         "Route Type": "GARBAGE COLLECTION",
         "Route Number": "PF33",
         "Load ID": 695528,
         "_deepnote_index_column": 8642
        },
        {
         "Report Date": "2007-10-19T00:00:00.000000",
         "Load Type": "GARBAGE COLLECTIONS",
         "Load Time": "2007-10-19T12:24:00.000000",
         "Load Weight": 17420,
         "Dropoff Site": "TDS LANDFILL",
         "Route Type": "GARBAGE COLLECTION",
         "Route Number": "PF33",
         "Load ID": 248235,
         "_deepnote_index_column": 8674
        },
        {
         "Report Date": "2011-12-16T00:00:00.000000",
         "Load Type": "GARBAGE COLLECTIONS",
         "Load Time": "2011-12-16T12:30:00.000000",
         "Load Weight": 20760,
         "Dropoff Site": "TDS LANDFILL",
         "Route Type": "GARBAGE COLLECTION",
         "Route Number": "PF33",
         "Load ID": 512247,
         "_deepnote_index_column": 9448
        },
        {
         "Report Date": "2011-07-22T00:00:00.000000",
         "Load Type": "GARBAGE COLLECTIONS",
         "Load Time": "2011-07-22T12:45:00.000000",
         "Load Weight": 16060,
         "Dropoff Site": "TDS LANDFILL",
         "Route Type": "GARBAGE COLLECTION",
         "Route Number": "PF33",
         "Load ID": 418064,
         "_deepnote_index_column": 10752
        },
        {
         "Report Date": "2008-03-28T00:00:00.000000",
         "Load Type": "GARBAGE COLLECTIONS",
         "Load Time": "2008-03-28T11:30:00.000000",
         "Load Weight": 17800,
         "Dropoff Site": "TDS LANDFILL",
         "Route Type": "GARBAGE COLLECTION",
         "Route Number": "PF33",
         "Load ID": 271923,
         "_deepnote_index_column": 13748
        }
       ]
      },
      "text/plain": "       Report Date            Load Type           Load Time  Load Weight  \\\n690     2020-12-11  GARBAGE COLLECTIONS 2020-12-11 14:00:00 11200.000000   \n4141    2008-10-03  GARBAGE COLLECTIONS 2008-10-03 14:30:00 16720.000000   \n4324    2011-10-14  GARBAGE COLLECTIONS 2011-10-14 13:00:00 20280.000000   \n5820    2011-08-05  GARBAGE COLLECTIONS 2011-08-05 13:19:00 16140.000000   \n8596    2005-09-23  GARBAGE COLLECTIONS 2005-09-23 13:03:00 21040.000000   \n...            ...                  ...                 ...          ...   \n735999  2021-06-04  GARBAGE COLLECTIONS 2021-06-04 14:00:00 15300.000000   \n737155  2021-06-11  GARBAGE COLLECTIONS 2021-06-11 13:53:00 18800.000000   \n737853  2021-06-18  GARBAGE COLLECTIONS 2021-06-18 12:20:00 13160.000000   \n739478  2021-06-25  GARBAGE COLLECTIONS 2021-06-24 13:28:00 15100.000000   \n739930  2021-07-02  GARBAGE COLLECTIONS 2021-07-02 14:17:00 14740.000000   \n\n        Dropoff Site          Route Type Route Number  Load ID  \n690     TDS LANDFILL  GARBAGE COLLECTION         PF33   899738  \n4141    TDS LANDFILL  GARBAGE COLLECTION         PF33   298658  \n4324    TDS LANDFILL  GARBAGE COLLECTION         PF33   505506  \n5820    TDS LANDFILL  GARBAGE COLLECTION         PF33   419577  \n8596    TDS LANDFILL  GARBAGE COLLECTION         PF33   146559  \n...              ...                 ...          ...      ...  \n735999  TDS LANDFILL  GARBAGE COLLECTION         PF33   924171  \n737155  TDS LANDFILL  GARBAGE COLLECTION         PF33   925397  \n737853  TDS LANDFILL  GARBAGE COLLECTION         PF33   926073  \n739478  TDS LANDFILL  GARBAGE COLLECTION         PF33   927180  \n739930  TDS LANDFILL  GARBAGE COLLECTION         PF33   928306  \n\n[884 rows x 8 columns]",
      "text/html": "<div>\n<style scoped>\n    .dataframe tbody tr th:only-of-type {\n        vertical-align: middle;\n    }\n\n    .dataframe tbody tr th {\n        vertical-align: top;\n    }\n\n    .dataframe thead th {\n        text-align: right;\n    }\n</style>\n<table border=\"1\" class=\"dataframe\">\n  <thead>\n    <tr style=\"text-align: right;\">\n      <th></th>\n      <th>Report Date</th>\n      <th>Load Type</th>\n      <th>Load Time</th>\n      <th>Load Weight</th>\n      <th>Dropoff Site</th>\n      <th>Route Type</th>\n      <th>Route Number</th>\n      <th>Load ID</th>\n    </tr>\n  </thead>\n  <tbody>\n    <tr>\n      <th>690</th>\n      <td>2020-12-11</td>\n      <td>GARBAGE COLLECTIONS</td>\n      <td>2020-12-11 14:00:00</td>\n      <td>11200.000000</td>\n      <td>TDS LANDFILL</td>\n      <td>GARBAGE COLLECTION</td>\n      <td>PF33</td>\n      <td>899738</td>\n    </tr>\n    <tr>\n      <th>4141</th>\n      <td>2008-10-03</td>\n      <td>GARBAGE COLLECTIONS</td>\n      <td>2008-10-03 14:30:00</td>\n      <td>16720.000000</td>\n      <td>TDS LANDFILL</td>\n      <td>GARBAGE COLLECTION</td>\n      <td>PF33</td>\n      <td>298658</td>\n    </tr>\n    <tr>\n      <th>4324</th>\n      <td>2011-10-14</td>\n      <td>GARBAGE COLLECTIONS</td>\n      <td>2011-10-14 13:00:00</td>\n      <td>20280.000000</td>\n      <td>TDS LANDFILL</td>\n      <td>GARBAGE COLLECTION</td>\n      <td>PF33</td>\n      <td>505506</td>\n    </tr>\n    <tr>\n      <th>5820</th>\n      <td>2011-08-05</td>\n      <td>GARBAGE COLLECTIONS</td>\n      <td>2011-08-05 13:19:00</td>\n      <td>16140.000000</td>\n      <td>TDS LANDFILL</td>\n      <td>GARBAGE COLLECTION</td>\n      <td>PF33</td>\n      <td>419577</td>\n    </tr>\n    <tr>\n      <th>8596</th>\n      <td>2005-09-23</td>\n      <td>GARBAGE COLLECTIONS</td>\n      <td>2005-09-23 13:03:00</td>\n      <td>21040.000000</td>\n      <td>TDS LANDFILL</td>\n      <td>GARBAGE COLLECTION</td>\n      <td>PF33</td>\n      <td>146559</td>\n    </tr>\n    <tr>\n      <th>...</th>\n      <td>...</td>\n      <td>...</td>\n      <td>...</td>\n      <td>...</td>\n      <td>...</td>\n      <td>...</td>\n      <td>...</td>\n      <td>...</td>\n    </tr>\n    <tr>\n      <th>735999</th>\n      <td>2021-06-04</td>\n      <td>GARBAGE COLLECTIONS</td>\n      <td>2021-06-04 14:00:00</td>\n      <td>15300.000000</td>\n      <td>TDS LANDFILL</td>\n      <td>GARBAGE COLLECTION</td>\n      <td>PF33</td>\n      <td>924171</td>\n    </tr>\n    <tr>\n      <th>737155</th>\n      <td>2021-06-11</td>\n      <td>GARBAGE COLLECTIONS</td>\n      <td>2021-06-11 13:53:00</td>\n      <td>18800.000000</td>\n      <td>TDS LANDFILL</td>\n      <td>GARBAGE COLLECTION</td>\n      <td>PF33</td>\n      <td>925397</td>\n    </tr>\n    <tr>\n      <th>737853</th>\n      <td>2021-06-18</td>\n      <td>GARBAGE COLLECTIONS</td>\n      <td>2021-06-18 12:20:00</td>\n      <td>13160.000000</td>\n      <td>TDS LANDFILL</td>\n      <td>GARBAGE COLLECTION</td>\n      <td>PF33</td>\n      <td>926073</td>\n    </tr>\n    <tr>\n      <th>739478</th>\n      <td>2021-06-25</td>\n      <td>GARBAGE COLLECTIONS</td>\n      <td>2021-06-24 13:28:00</td>\n      <td>15100.000000</td>\n      <td>TDS LANDFILL</td>\n      <td>GARBAGE COLLECTION</td>\n      <td>PF33</td>\n      <td>927180</td>\n    </tr>\n    <tr>\n      <th>739930</th>\n      <td>2021-07-02</td>\n      <td>GARBAGE COLLECTIONS</td>\n      <td>2021-07-02 14:17:00</td>\n      <td>14740.000000</td>\n      <td>TDS LANDFILL</td>\n      <td>GARBAGE COLLECTION</td>\n      <td>PF33</td>\n      <td>928306</td>\n    </tr>\n  </tbody>\n</table>\n<p>884 rows × 8 columns</p>\n</div>"
     },
     "metadata": {}
    }
   ]
  },
  {
   "cell_type": "code",
   "metadata": {
    "scrolled": false,
    "cell_id": "00028-dd7bb64b-c5b5-4213-8e09-c7e1a2553b94",
    "deepnote_to_be_reexecuted": false,
    "source_hash": "a7204725",
    "execution_start": 1648029701246,
    "execution_millis": 79,
    "deepnote_cell_type": "code",
    "deepnote_cell_height": 540.578125,
    "deepnote_output_heights": [
     443.59375
    ]
   },
   "source": "data[\"Load Type\"].value_counts()",
   "execution_count": 14,
   "outputs": [
    {
     "output_type": "execute_result",
     "execution_count": 14,
     "data": {
      "text/plain": "GARBAGE COLLECTIONS            258395\nRECYCLING - SINGLE STREAM      147612\nYARD TRIMMING                   69554\nBULK                            40117\nBRUSH                           39141\nRECYCLING - PAPER               32155\nRECYCLING - COMINGLE            31116\nORGANICS                        17705\nSWEEPING                        16522\nDEAD ANIMAL                      6856\nTIRES                            3205\nMIXED LITTER                     2110\nLITTER                           1539\nMULCH                            1344\nRECYCLED METAL                   1049\nBAGGED LITTER                      43\nRECYCLING - PLASTIC BAGS           40\nYARD TRIMMING - X-MAS TREES        16\nMATTRESS                            9\nCONTAMINATED RECYCLING              8\nCONTAMINATED YARD TRIMMINGS         1\nCONTAMINATED ORGANICS               1\nName: Load Type, dtype: int64"
     },
     "metadata": {}
    }
   ]
  },
  {
   "cell_type": "code",
   "metadata": {
    "cell_id": "00029-4d2ce4ee-668d-4b0c-bbe3-1feb6f0628d0",
    "deepnote_to_be_reexecuted": false,
    "source_hash": "e8b22837",
    "execution_start": 1648029701418,
    "execution_millis": 70,
    "deepnote_cell_type": "code",
    "deepnote_cell_height": 153
   },
   "source": "# We decided to remove the categories of waste with low value count as seen on table above.\n# We believe they would not provide relevant information insofar as we have the other\ncounts = data['Load Type'].value_counts()\n\ndata = data.loc[data['Load Type'].isin(counts.index[counts > 1000])]",
   "execution_count": 15,
   "outputs": []
  },
  {
   "cell_type": "code",
   "metadata": {
    "scrolled": true,
    "cell_id": "00030-3f343a6f-2c6c-42f1-9d7c-d2671b73a2b1",
    "deepnote_to_be_reexecuted": false,
    "source_hash": "a7204725",
    "execution_start": 1648029701616,
    "execution_millis": 1,
    "deepnote_cell_type": "code",
    "deepnote_cell_height": 406.1875,
    "deepnote_output_heights": [
     309.1875
    ]
   },
   "source": "data[\"Load Type\"].value_counts()",
   "execution_count": 16,
   "outputs": [
    {
     "output_type": "execute_result",
     "execution_count": 16,
     "data": {
      "text/plain": "GARBAGE COLLECTIONS          258395\nRECYCLING - SINGLE STREAM    147612\nYARD TRIMMING                 69554\nBULK                          40117\nBRUSH                         39141\nRECYCLING - PAPER             32155\nRECYCLING - COMINGLE          31116\nORGANICS                      17705\nSWEEPING                      16522\nDEAD ANIMAL                    6856\nTIRES                          3205\nMIXED LITTER                   2110\nLITTER                         1539\nMULCH                          1344\nRECYCLED METAL                 1049\nName: Load Type, dtype: int64"
     },
     "metadata": {}
    }
   ]
  },
  {
   "cell_type": "code",
   "metadata": {
    "scrolled": true,
    "cell_id": "00031-b28a4ae0-3239-4c9c-9651-ba1d00b9694d",
    "deepnote_to_be_reexecuted": false,
    "source_hash": "e5448a2e",
    "execution_start": 1648029701661,
    "execution_millis": 1,
    "deepnote_cell_type": "code",
    "deepnote_cell_height": 708,
    "deepnote_output_heights": [
     611
    ]
   },
   "source": "data[\"Dropoff Site\"].value_counts()",
   "execution_count": 17,
   "outputs": [
    {
     "output_type": "execute_result",
     "execution_count": 17,
     "data": {
      "text/plain": "TDS LANDFILL             325728\nHORNSBY BEND              94636\nMRF                       89599\nBALCONES RECYCLING        60085\nTDS - MRF                 55987\nORGANICS BY GOSH          25450\nSTEINER LANDFILL          11732\nBRAKER SITE                2537\nZILKER                      908\nPARK BEND                   386\nAUSTIN IRON AND METAL       376\nCOMMERCIAL METALS           306\nBFI LANDFILL                289\nGREAT NORTHERN               86\nAUSTIN WOOD RECYCLING        53\nONION CREEK                  52\nWESTFIELD                    51\nBALCONES WOODS               42\nON ROUTE HIGH DUMP           24\nWINNEBAGO                    20\nST. EDWARDS                  18\nINSPIRATION/GUNNISAN         12\nPARK CENTER                  10\nWILCAB                        9\nBURGER CENTER                 7\nELMONT                        5\nPEASE PARK                    4\nKRAMER                        3\nBARTON SKYWAY                 2\nLITTER DROPOFF                1\nCLARKSON                      1\nDEEP EDDY PARK                1\nName: Dropoff Site, dtype: int64"
     },
     "metadata": {}
    }
   ]
  },
  {
   "cell_type": "code",
   "metadata": {
    "cell_id": "00032-322ab47d-02d6-4f19-a025-6bf67098d87f",
    "deepnote_to_be_reexecuted": false,
    "source_hash": "8a5c23d0",
    "execution_start": 1648029701795,
    "execution_millis": 61,
    "deepnote_cell_type": "code",
    "deepnote_cell_height": 153
   },
   "source": "# We decided to remove the dropoff sites with low value count as seen on table above.\n# We believe they would not provide relevant information insofar as we have the other\ncounts = data['Dropoff Site'].value_counts()\n\ndata = data.loc[data['Dropoff Site'].isin(counts.index[counts > 10])]",
   "execution_count": 18,
   "outputs": []
  },
  {
   "cell_type": "code",
   "metadata": {
    "cell_id": "00033-a307d687-2cad-4081-9af5-e53136c37193",
    "deepnote_to_be_reexecuted": false,
    "source_hash": "71655849",
    "execution_start": 1648029701976,
    "execution_millis": 234,
    "deepnote_cell_type": "code",
    "deepnote_cell_height": 329.375,
    "deepnote_output_heights": [
     232.390625
    ]
   },
   "source": "data[\"Route Number\"].value_counts()",
   "execution_count": 19,
   "outputs": [
    {
     "output_type": "execute_result",
     "execution_count": 19,
     "data": {
      "text/plain": "DSS04       6857\nDA01        4320\nBU13        2667\nDA02        2629\nBU10        2241\n            ... \nBLS-01         1\nSB63           1\nYTSTRH01       1\nRWNON38        1\nNR34           1\nName: Route Number, Length: 1518, dtype: int64"
     },
     "metadata": {}
    }
   ]
  },
  {
   "cell_type": "code",
   "metadata": {
    "cell_id": "00034-6c1aea21-7c8d-4864-a552-5d1e8d433afa",
    "deepnote_to_be_reexecuted": false,
    "source_hash": "86eedf3e",
    "execution_start": 1648029702108,
    "execution_millis": 57,
    "deepnote_cell_type": "code",
    "deepnote_cell_height": 153
   },
   "source": "# We decided to remove the route number with low value count as seen on table above.\n# We believe they would not provide relevant information insofar as we have the other\ncounts = data['Route Number'].value_counts()\n\ndata = data.loc[data['Route Number'].isin(counts.index[counts > 100])]",
   "execution_count": 20,
   "outputs": []
  },
  {
   "cell_type": "code",
   "metadata": {
    "cell_id": "00035-6e1cd380-48f4-4a6a-a909-eff219b06615",
    "deepnote_to_be_reexecuted": false,
    "source_hash": "71655849",
    "execution_start": 1648029702292,
    "execution_millis": 2,
    "deepnote_cell_type": "code",
    "deepnote_cell_height": 329.375,
    "deepnote_output_heights": [
     232.390625
    ]
   },
   "source": "data[\"Route Number\"].value_counts()",
   "execution_count": 21,
   "outputs": [
    {
     "output_type": "execute_result",
     "execution_count": 21,
     "data": {
      "text/plain": "DSS04       6857\nDA01        4320\nBU13        2667\nDA02        2629\nBU10        2241\n            ... \nPAM00        102\nOT14         102\nPAT68        101\nRHAS32       101\nPAW69-TF     101\nName: Route Number, Length: 1049, dtype: int64"
     },
     "metadata": {}
    }
   ]
  },
  {
   "cell_type": "markdown",
   "source": "### Exploration Per Segment",
   "metadata": {
    "cell_id": "00036-1aedafaa-8bf8-48fc-be76-950231512a01",
    "deepnote_cell_type": "markdown",
    "deepnote_cell_height": 62
   }
  },
  {
   "cell_type": "markdown",
   "source": "#### Load Type",
   "metadata": {
    "cell_id": "00037-e44dc6f8-124c-4b97-b401-08ec6b919671",
    "deepnote_cell_type": "markdown",
    "deepnote_cell_height": 54
   }
  },
  {
   "cell_type": "code",
   "metadata": {
    "cell_id": "00038-9b224985-2788-42a5-a5e8-66d969f6e706",
    "deepnote_to_be_reexecuted": false,
    "source_hash": "4183e400",
    "execution_start": 1648029702337,
    "execution_millis": 104,
    "deepnote_cell_type": "code",
    "deepnote_cell_height": 99
   },
   "source": "weightsum_by_type = data[[\"Load Weight\", \"Load Type\"]].groupby(by = \"Load Type\").sum()\nweightmean_by_type = data[[\"Load Weight\", \"Load Type\"]].groupby(by = \"Load Type\").mean()",
   "execution_count": 22,
   "outputs": []
  },
  {
   "cell_type": "code",
   "metadata": {
    "scrolled": true,
    "cell_id": "00039-3ca537a3-ea8b-4a00-a097-de0ce3b2df63",
    "deepnote_to_be_reexecuted": false,
    "source_hash": "9802f82",
    "execution_start": 1648029702445,
    "execution_millis": 130,
    "deepnote_cell_type": "code",
    "deepnote_cell_height": 634
   },
   "source": "# Checking Total Weight Collected per Category\n# We can see that normal garbage collection is the largest category by far, follwed by recycling, yard trimming, bulk...\nweightsum_by_type.sort_values(by= \"Load Weight\", ascending= False)",
   "execution_count": 23,
   "outputs": [
    {
     "output_type": "execute_result",
     "execution_count": 23,
     "data": {
      "application/vnd.deepnote.dataframe.v3+json": {
       "column_count": 1,
       "row_count": 15,
       "columns": [
        {
         "name": "Load Weight",
         "dtype": "float64",
         "stats": {
          "unique_count": 15,
          "nan_count": 0,
          "min": "2194688.0",
          "max": "4382757091.5394",
          "histogram": [
           {
            "bin_start": 2194688,
            "bin_end": 440250928.35394,
            "count": 12
           },
           {
            "bin_start": 440250928.35394,
            "bin_end": 878307168.70788,
            "count": 1
           },
           {
            "bin_start": 878307168.70788,
            "bin_end": 1316363409.06182,
            "count": 0
           },
           {
            "bin_start": 1316363409.06182,
            "bin_end": 1754419649.41576,
            "count": 1
           },
           {
            "bin_start": 1754419649.41576,
            "bin_end": 2192475889.7697,
            "count": 0
           },
           {
            "bin_start": 2192475889.7697,
            "bin_end": 2630532130.12364,
            "count": 0
           },
           {
            "bin_start": 2630532130.12364,
            "bin_end": 3068588370.47758,
            "count": 0
           },
           {
            "bin_start": 3068588370.47758,
            "bin_end": 3506644610.83152,
            "count": 0
           },
           {
            "bin_start": 3506644610.83152,
            "bin_end": 3944700851.18546,
            "count": 0
           },
           {
            "bin_start": 3944700851.18546,
            "bin_end": 4382757091.5394,
            "count": 1
           }
          ]
         }
        },
        {
         "name": "_deepnote_index_column",
         "dtype": "object"
        }
       ],
       "rows": [
        {
         "Load Weight": 4382757091.5394,
         "_deepnote_index_column": "GARBAGE COLLECTIONS"
        },
        {
         "Load Weight": 1445900832,
         "_deepnote_index_column": "RECYCLING - SINGLE STREAM"
        },
        {
         "Load Weight": 781828504,
         "_deepnote_index_column": "YARD TRIMMING"
        },
        {
         "Load Weight": 293898053,
         "_deepnote_index_column": "BULK"
        },
        {
         "Load Weight": 229958727,
         "_deepnote_index_column": "BRUSH"
        },
        {
         "Load Weight": 186833955,
         "_deepnote_index_column": "SWEEPING"
        },
        {
         "Load Weight": 148994258,
         "_deepnote_index_column": "ORGANICS"
        },
        {
         "Load Weight": 140877900,
         "_deepnote_index_column": "RECYCLING - PAPER"
        },
        {
         "Load Weight": 100845699,
         "_deepnote_index_column": "RECYCLING - COMINGLE"
        },
        {
         "Load Weight": 7999593,
         "_deepnote_index_column": "MULCH"
        }
       ]
      },
      "text/plain": "                                Load Weight\nLoad Type                                  \nGARBAGE COLLECTIONS       4382757091.539400\nRECYCLING - SINGLE STREAM 1445900832.000000\nYARD TRIMMING              781828504.000000\nBULK                       293898053.000000\nBRUSH                      229958727.000000\nSWEEPING                   186833955.000000\nORGANICS                   148994258.000000\nRECYCLING - PAPER          140877900.000000\nRECYCLING - COMINGLE       100845699.000000\nMULCH                        7999593.000000\nMIXED LITTER                 6686247.000000\nTIRES                        6548565.000000\nLITTER                       3613850.000000\nDEAD ANIMAL                  3076400.000000\nRECYCLED METAL               2194688.000000",
      "text/html": "<div>\n<style scoped>\n    .dataframe tbody tr th:only-of-type {\n        vertical-align: middle;\n    }\n\n    .dataframe tbody tr th {\n        vertical-align: top;\n    }\n\n    .dataframe thead th {\n        text-align: right;\n    }\n</style>\n<table border=\"1\" class=\"dataframe\">\n  <thead>\n    <tr style=\"text-align: right;\">\n      <th></th>\n      <th>Load Weight</th>\n    </tr>\n    <tr>\n      <th>Load Type</th>\n      <th></th>\n    </tr>\n  </thead>\n  <tbody>\n    <tr>\n      <th>GARBAGE COLLECTIONS</th>\n      <td>4382757091.539400</td>\n    </tr>\n    <tr>\n      <th>RECYCLING - SINGLE STREAM</th>\n      <td>1445900832.000000</td>\n    </tr>\n    <tr>\n      <th>YARD TRIMMING</th>\n      <td>781828504.000000</td>\n    </tr>\n    <tr>\n      <th>BULK</th>\n      <td>293898053.000000</td>\n    </tr>\n    <tr>\n      <th>BRUSH</th>\n      <td>229958727.000000</td>\n    </tr>\n    <tr>\n      <th>SWEEPING</th>\n      <td>186833955.000000</td>\n    </tr>\n    <tr>\n      <th>ORGANICS</th>\n      <td>148994258.000000</td>\n    </tr>\n    <tr>\n      <th>RECYCLING - PAPER</th>\n      <td>140877900.000000</td>\n    </tr>\n    <tr>\n      <th>RECYCLING - COMINGLE</th>\n      <td>100845699.000000</td>\n    </tr>\n    <tr>\n      <th>MULCH</th>\n      <td>7999593.000000</td>\n    </tr>\n    <tr>\n      <th>MIXED LITTER</th>\n      <td>6686247.000000</td>\n    </tr>\n    <tr>\n      <th>TIRES</th>\n      <td>6548565.000000</td>\n    </tr>\n    <tr>\n      <th>LITTER</th>\n      <td>3613850.000000</td>\n    </tr>\n    <tr>\n      <th>DEAD ANIMAL</th>\n      <td>3076400.000000</td>\n    </tr>\n    <tr>\n      <th>RECYCLED METAL</th>\n      <td>2194688.000000</td>\n    </tr>\n  </tbody>\n</table>\n</div>"
     },
     "metadata": {}
    }
   ]
  },
  {
   "cell_type": "code",
   "metadata": {
    "cell_id": "00040-0080bd0a-4d30-4e0d-9b2a-718e8e9f7f22",
    "deepnote_to_be_reexecuted": false,
    "source_hash": "ed7f04bb",
    "execution_start": 1648029702499,
    "execution_millis": 85,
    "deepnote_cell_type": "code",
    "deepnote_cell_height": 634
   },
   "source": "# Garbage Collections is still first, followed by sweeping, yard trimmings, organics ...\n# These are good averages over at least 1000 observations per category\nweightmean_by_type.sort_values(by= \"Load Weight\", ascending= False)",
   "execution_count": 24,
   "outputs": [
    {
     "output_type": "execute_result",
     "execution_count": 24,
     "data": {
      "application/vnd.deepnote.dataframe.v3+json": {
       "column_count": 1,
       "row_count": 15,
       "columns": [
        {
         "name": "Load Weight",
         "dtype": "float64",
         "stats": {
          "unique_count": 15,
          "nan_count": 0,
          "min": "449.2406542056075",
          "max": "17121.21496476108",
          "histogram": [
           {
            "bin_start": 449.2406542056075,
            "bin_end": 2116.4380852611544,
            "count": 1
           },
           {
            "bin_start": 2116.4380852611544,
            "bin_end": 3783.6355163167013,
            "count": 3
           },
           {
            "bin_start": 3783.6355163167013,
            "bin_end": 5450.832947372249,
            "count": 3
           },
           {
            "bin_start": 5450.832947372249,
            "bin_end": 7118.030378427796,
            "count": 2
           },
           {
            "bin_start": 7118.030378427796,
            "bin_end": 8785.227809483342,
            "count": 1
           },
           {
            "bin_start": 8785.227809483342,
            "bin_end": 10452.425240538889,
            "count": 1
           },
           {
            "bin_start": 10452.425240538889,
            "bin_end": 12119.622671594436,
            "count": 3
           },
           {
            "bin_start": 12119.622671594436,
            "bin_end": 13786.820102649983,
            "count": 0
           },
           {
            "bin_start": 13786.820102649983,
            "bin_end": 15454.01753370553,
            "count": 0
           },
           {
            "bin_start": 15454.01753370553,
            "bin_end": 17121.21496476108,
            "count": 1
           }
          ]
         }
        },
        {
         "name": "_deepnote_index_column",
         "dtype": "object"
        }
       ],
       "rows": [
        {
         "Load Weight": 17121.21496476108,
         "_deepnote_index_column": "GARBAGE COLLECTIONS"
        },
        {
         "Load Weight": 11552.928209250556,
         "_deepnote_index_column": "SWEEPING"
        },
        {
         "Load Weight": 11381.487254887688,
         "_deepnote_index_column": "YARD TRIMMING"
        },
        {
         "Load Weight": 10860.43137254902,
         "_deepnote_index_column": "ORGANICS"
        },
        {
         "Load Weight": 9921.915019762846,
         "_deepnote_index_column": "RECYCLING - SINGLE STREAM"
        },
        {
         "Load Weight": 7548.428226531399,
         "_deepnote_index_column": "BULK"
        },
        {
         "Load Weight": 7041.895246478874,
         "_deepnote_index_column": "MULCH"
        },
        {
         "Load Weight": 6018.759049388856,
         "_deepnote_index_column": "BRUSH"
        },
        {
         "Load Weight": 4417.2044022199225,
         "_deepnote_index_column": "RECYCLING - PAPER"
        },
        {
         "Load Weight": 4042.4709794437726,
         "_deepnote_index_column": "MIXED LITTER"
        }
       ]
      },
      "text/plain": "                           Load Weight\nLoad Type                             \nGARBAGE COLLECTIONS       17121.214965\nSWEEPING                  11552.928209\nYARD TRIMMING             11381.487255\nORGANICS                  10860.431373\nRECYCLING - SINGLE STREAM  9921.915020\nBULK                       7548.428227\nMULCH                      7041.895246\nBRUSH                      6018.759049\nRECYCLING - PAPER          4417.204402\nMIXED LITTER               4042.470979\nLITTER                     3894.234914\nRECYCLING - COMINGLE       3268.904344\nRECYCLED METAL             2139.072125\nTIRES                      2133.083062\nDEAD ANIMAL                 449.240654",
      "text/html": "<div>\n<style scoped>\n    .dataframe tbody tr th:only-of-type {\n        vertical-align: middle;\n    }\n\n    .dataframe tbody tr th {\n        vertical-align: top;\n    }\n\n    .dataframe thead th {\n        text-align: right;\n    }\n</style>\n<table border=\"1\" class=\"dataframe\">\n  <thead>\n    <tr style=\"text-align: right;\">\n      <th></th>\n      <th>Load Weight</th>\n    </tr>\n    <tr>\n      <th>Load Type</th>\n      <th></th>\n    </tr>\n  </thead>\n  <tbody>\n    <tr>\n      <th>GARBAGE COLLECTIONS</th>\n      <td>17121.214965</td>\n    </tr>\n    <tr>\n      <th>SWEEPING</th>\n      <td>11552.928209</td>\n    </tr>\n    <tr>\n      <th>YARD TRIMMING</th>\n      <td>11381.487255</td>\n    </tr>\n    <tr>\n      <th>ORGANICS</th>\n      <td>10860.431373</td>\n    </tr>\n    <tr>\n      <th>RECYCLING - SINGLE STREAM</th>\n      <td>9921.915020</td>\n    </tr>\n    <tr>\n      <th>BULK</th>\n      <td>7548.428227</td>\n    </tr>\n    <tr>\n      <th>MULCH</th>\n      <td>7041.895246</td>\n    </tr>\n    <tr>\n      <th>BRUSH</th>\n      <td>6018.759049</td>\n    </tr>\n    <tr>\n      <th>RECYCLING - PAPER</th>\n      <td>4417.204402</td>\n    </tr>\n    <tr>\n      <th>MIXED LITTER</th>\n      <td>4042.470979</td>\n    </tr>\n    <tr>\n      <th>LITTER</th>\n      <td>3894.234914</td>\n    </tr>\n    <tr>\n      <th>RECYCLING - COMINGLE</th>\n      <td>3268.904344</td>\n    </tr>\n    <tr>\n      <th>RECYCLED METAL</th>\n      <td>2139.072125</td>\n    </tr>\n    <tr>\n      <th>TIRES</th>\n      <td>2133.083062</td>\n    </tr>\n    <tr>\n      <th>DEAD ANIMAL</th>\n      <td>449.240654</td>\n    </tr>\n  </tbody>\n</table>\n</div>"
     },
     "metadata": {}
    }
   ]
  },
  {
   "cell_type": "markdown",
   "source": "**Front Loader Garbage Trucks**\n\nYou will require massive containers to collect all the garbage from industrial and commercial properties. That is when front loader garbage trucks will help you with their size. Their containers, often called dumpsters, are spacious enough to collect industrial waste materials. From, slime and sludge to waste from factories, the design of these trucks make it possible to accommodate all types of garbage inside. They come with steel forks controlled hydraulically. An operator lift picks up the waste materials and dumps them into the container.\n\nMost front loaders available in the US can lift containers weighing approximately 8000 lbs. On the other hand, they can hold trash of up to **40 cubic yards**.\n\n**Side Loader Garbage Trucks**\n\nIf industrial waste is not your cup of tea, you can focus on removal of household waste. For this, a side loader garbage truck will be most suitable. You need to load the waste materials from the side. There are two variants available in this truck: one with automatic robotic arms that will collect the garbage and second, manually. The automated side loaders are slightly more expensive. They require only one operator. You can collect rubbish from almost **1500 homes every day**.\n\nThe size of the side loader garbage truck plays a crucial role in deciding the quantity of the waste materials it can carry. Most of the standard trucks can hold approximately 30,000 lbs of compacted garbage every day and hold up to 28 cubic yards of garbage. Some of these trucks are available at a budget-friendly price if you buy them second-hand. The manual side loaders will cost lesser compared to the automated side loaders.\n\n**Rear Loader Garbage Trucks**\n\nIf you want to serve both commercial and residential clients, then get a rear loader garbage truck. These are the most versatile when it comes to trash collection. Their significant opening at the back allows you to collect massive quantities of waste in one go. Many residential clients keep their garbage inside bin bags. No matter what their size is, you can collect plenty of them inside the truck in one day. Like carrying, these trucks also help in dumping the contents too, thanks to their substantial rear opening.\n\nMost rear loader garbage trucks can accommodate trash from as many as 800 to 850 homes. Some of the bigger variants can haul up to 18 tons of garbage. Their weight capacity ranges from 6 to 35 cubic yards depending on their size. You can purchase one of these used beasts for a very affordable price. But make sure you check the condition of the truck before buying.\n\n**Roll Off Trucks**\n\nThese are the most popular garbage trucks when it comes to mass-scale commercial trash removal services. You can see them in demolition and construction sites. Their sturdy construction makes them a perfect fit for handling heavier materials, such as cardboard and steel. These trucks have massive roll off containers that you can drop at specified locations and then pick them up after a period after the clients have loaded them with waste materials.\n\nThese help to pick up the loaded container without much effort. A roll off truck can carry approximately 20,000 lbs, which is equal to 10 tons. Its sturdy construction makes sure the truck doesn’t get damaged during the pickup and drop off process.\n\nMost people don’t value the engineering genius of garbage trucks. If you want to flourish in your garbage removal business, make sure you choose one of these trucks for higher efficiency because of the quantity of the trash they can carry.",
   "metadata": {
    "cell_id": "00041-8cac7ea6-be5b-4349-afa9-d6c38388b2ea",
    "deepnote_cell_type": "markdown",
    "deepnote_cell_height": 937.1875
   }
  },
  {
   "cell_type": "markdown",
   "source": "#### Dropoff Sites",
   "metadata": {
    "cell_id": "00042-84e03658-4b6d-4271-aed8-0b849eddcdd6",
    "deepnote_cell_type": "markdown",
    "deepnote_cell_height": 54
   }
  },
  {
   "cell_type": "code",
   "metadata": {
    "cell_id": "00043-25f66d0b-dbff-45ec-9d1a-4cd970cba7a4",
    "deepnote_to_be_reexecuted": false,
    "source_hash": "52ef03f3",
    "execution_start": 1648029702500,
    "execution_millis": 149,
    "deepnote_cell_type": "code",
    "deepnote_cell_height": 99
   },
   "source": "weightsum_by_dropoff = data[[\"Load Weight\", \"Dropoff Site\"]].groupby(by = \"Dropoff Site\").sum()\nweightmean_by_dropoff = data[[\"Load Weight\", \"Dropoff Site\"]].groupby(by = \"Dropoff Site\").mean()",
   "execution_count": 25,
   "outputs": []
  },
  {
   "cell_type": "code",
   "metadata": {
    "scrolled": true,
    "cell_id": "00044-e2111adb-9d05-4f47-98dc-8794f7b8f0f4",
    "deepnote_to_be_reexecuted": false,
    "source_hash": "407b5635",
    "execution_start": 1648029702695,
    "execution_millis": 0,
    "deepnote_cell_type": "code",
    "deepnote_cell_height": 634
   },
   "source": "# Checking Total Weight Collected per Category\n# We can see that normal garbage collection is the largest category by far, follwed by recycling, yard trimming, bulk...\nweightsum_by_dropoff.sort_values(by= \"Load Weight\", ascending= False)",
   "execution_count": 26,
   "outputs": [
    {
     "output_type": "execute_result",
     "execution_count": 26,
     "data": {
      "application/vnd.deepnote.dataframe.v3+json": {
       "column_count": 1,
       "row_count": 22,
       "columns": [
        {
         "name": "Load Weight",
         "dtype": "float64",
         "stats": {
          "unique_count": 22,
          "nan_count": 0,
          "min": "100546.0",
          "max": "4874024621.5394",
          "histogram": [
           {
            "bin_start": 100546,
            "bin_end": 487492953.55394,
            "count": 18
           },
           {
            "bin_start": 487492953.55394,
            "bin_end": 974885361.10788,
            "count": 3
           },
           {
            "bin_start": 974885361.10788,
            "bin_end": 1462277768.66182,
            "count": 0
           },
           {
            "bin_start": 1462277768.66182,
            "bin_end": 1949670176.21576,
            "count": 0
           },
           {
            "bin_start": 1949670176.21576,
            "bin_end": 2437062583.7697,
            "count": 0
           },
           {
            "bin_start": 2437062583.7697,
            "bin_end": 2924454991.32364,
            "count": 0
           },
           {
            "bin_start": 2924454991.32364,
            "bin_end": 3411847398.87758,
            "count": 0
           },
           {
            "bin_start": 3411847398.87758,
            "bin_end": 3899239806.43152,
            "count": 0
           },
           {
            "bin_start": 3899239806.43152,
            "bin_end": 4386632213.98546,
            "count": 0
           },
           {
            "bin_start": 4386632213.98546,
            "bin_end": 4874024621.5394,
            "count": 1
           }
          ]
         }
        },
        {
         "name": "_deepnote_index_column",
         "dtype": "object"
        }
       ],
       "rows": [
        {
         "Load Weight": 4874024621.5394,
         "_deepnote_index_column": "TDS LANDFILL"
        },
        {
         "Load Weight": 865059822,
         "_deepnote_index_column": "HORNSBY BEND"
        },
        {
         "Load Weight": 602107144,
         "_deepnote_index_column": "BALCONES RECYCLING"
        },
        {
         "Load Weight": 563597334,
         "_deepnote_index_column": "TDS - MRF"
        },
        {
         "Load Weight": 462473191,
         "_deepnote_index_column": "MRF"
        },
        {
         "Load Weight": 230008025,
         "_deepnote_index_column": "ORGANICS BY GOSH"
        },
        {
         "Load Weight": 94123719,
         "_deepnote_index_column": "STEINER LANDFILL"
        },
        {
         "Load Weight": 31026110,
         "_deepnote_index_column": "BRAKER SITE"
        },
        {
         "Load Weight": 7938317,
         "_deepnote_index_column": "ZILKER"
        },
        {
         "Load Weight": 4094560,
         "_deepnote_index_column": "BFI LANDFILL"
        }
       ]
      },
      "text/plain": "                            Load Weight\nDropoff Site                           \nTDS LANDFILL          4874024621.539400\nHORNSBY BEND           865059822.000000\nBALCONES RECYCLING     602107144.000000\nTDS - MRF              563597334.000000\nMRF                    462473191.000000\nORGANICS BY GOSH       230008025.000000\nSTEINER LANDFILL        94123719.000000\nBRAKER SITE             31026110.000000\nZILKER                   7938317.000000\nBFI LANDFILL             4094560.000000\nPARK BEND                2864420.000000\nGREAT NORTHERN           1347880.000000\nCOMMERCIAL METALS         853004.000000\nWESTFIELD                 704040.000000\nBALCONES WOODS            400648.000000\nONION CREEK               359440.000000\nAUSTIN WOOD RECYCLING     316810.000000\nAUSTIN IRON AND METAL     200390.000000\nON ROUTE HIGH DUMP        153800.000000\nWINNEBAGO                 151321.000000\nINSPIRATION/GUNNISAN      109220.000000\nST. EDWARDS               100546.000000",
      "text/html": "<div>\n<style scoped>\n    .dataframe tbody tr th:only-of-type {\n        vertical-align: middle;\n    }\n\n    .dataframe tbody tr th {\n        vertical-align: top;\n    }\n\n    .dataframe thead th {\n        text-align: right;\n    }\n</style>\n<table border=\"1\" class=\"dataframe\">\n  <thead>\n    <tr style=\"text-align: right;\">\n      <th></th>\n      <th>Load Weight</th>\n    </tr>\n    <tr>\n      <th>Dropoff Site</th>\n      <th></th>\n    </tr>\n  </thead>\n  <tbody>\n    <tr>\n      <th>TDS LANDFILL</th>\n      <td>4874024621.539400</td>\n    </tr>\n    <tr>\n      <th>HORNSBY BEND</th>\n      <td>865059822.000000</td>\n    </tr>\n    <tr>\n      <th>BALCONES RECYCLING</th>\n      <td>602107144.000000</td>\n    </tr>\n    <tr>\n      <th>TDS - MRF</th>\n      <td>563597334.000000</td>\n    </tr>\n    <tr>\n      <th>MRF</th>\n      <td>462473191.000000</td>\n    </tr>\n    <tr>\n      <th>ORGANICS BY GOSH</th>\n      <td>230008025.000000</td>\n    </tr>\n    <tr>\n      <th>STEINER LANDFILL</th>\n      <td>94123719.000000</td>\n    </tr>\n    <tr>\n      <th>BRAKER SITE</th>\n      <td>31026110.000000</td>\n    </tr>\n    <tr>\n      <th>ZILKER</th>\n      <td>7938317.000000</td>\n    </tr>\n    <tr>\n      <th>BFI LANDFILL</th>\n      <td>4094560.000000</td>\n    </tr>\n    <tr>\n      <th>PARK BEND</th>\n      <td>2864420.000000</td>\n    </tr>\n    <tr>\n      <th>GREAT NORTHERN</th>\n      <td>1347880.000000</td>\n    </tr>\n    <tr>\n      <th>COMMERCIAL METALS</th>\n      <td>853004.000000</td>\n    </tr>\n    <tr>\n      <th>WESTFIELD</th>\n      <td>704040.000000</td>\n    </tr>\n    <tr>\n      <th>BALCONES WOODS</th>\n      <td>400648.000000</td>\n    </tr>\n    <tr>\n      <th>ONION CREEK</th>\n      <td>359440.000000</td>\n    </tr>\n    <tr>\n      <th>AUSTIN WOOD RECYCLING</th>\n      <td>316810.000000</td>\n    </tr>\n    <tr>\n      <th>AUSTIN IRON AND METAL</th>\n      <td>200390.000000</td>\n    </tr>\n    <tr>\n      <th>ON ROUTE HIGH DUMP</th>\n      <td>153800.000000</td>\n    </tr>\n    <tr>\n      <th>WINNEBAGO</th>\n      <td>151321.000000</td>\n    </tr>\n    <tr>\n      <th>INSPIRATION/GUNNISAN</th>\n      <td>109220.000000</td>\n    </tr>\n    <tr>\n      <th>ST. EDWARDS</th>\n      <td>100546.000000</td>\n    </tr>\n  </tbody>\n</table>\n</div>"
     },
     "metadata": {}
    }
   ]
  },
  {
   "cell_type": "markdown",
   "source": "We can observe that TDS Landfill known as the Texas Disposable System is by far the most used dropoff site in terms of volume of waste.",
   "metadata": {
    "cell_id": "00045-24f9c854-f2a5-4455-827e-602e863efe49",
    "deepnote_cell_type": "markdown",
    "deepnote_cell_height": 52.390625
   }
  },
  {
   "cell_type": "code",
   "metadata": {
    "scrolled": false,
    "cell_id": "00046-74f770e4-b3bf-4a2c-a572-7f3017d0b65e",
    "deepnote_to_be_reexecuted": false,
    "source_hash": "22c120f4",
    "execution_start": 1648029702696,
    "execution_millis": 15,
    "deepnote_cell_type": "code",
    "deepnote_cell_height": 411
   },
   "source": "\nweightmean_by_dropoff.sort_values(by= \"Load Weight\", ascending= False).head()",
   "execution_count": 27,
   "outputs": [
    {
     "output_type": "execute_result",
     "execution_count": 27,
     "data": {
      "application/vnd.deepnote.dataframe.v3+json": {
       "column_count": 1,
       "row_count": 5,
       "columns": [
        {
         "name": "Load Weight",
         "dtype": "float64",
         "stats": {
          "unique_count": 5,
          "nan_count": 0,
          "min": "12346.24353362515",
          "max": "15673.023255813954",
          "histogram": [
           {
            "bin_start": 12346.24353362515,
            "bin_end": 12678.92150584403,
            "count": 1
           },
           {
            "bin_start": 12678.92150584403,
            "bin_end": 13011.59947806291,
            "count": 0
           },
           {
            "bin_start": 13011.59947806291,
            "bin_end": 13344.27745028179,
            "count": 0
           },
           {
            "bin_start": 13344.27745028179,
            "bin_end": 13676.95542250067,
            "count": 0
           },
           {
            "bin_start": 13676.95542250067,
            "bin_end": 14009.633394719553,
            "count": 1
           },
           {
            "bin_start": 14009.633394719553,
            "bin_end": 14342.311366938433,
            "count": 1
           },
           {
            "bin_start": 14342.311366938433,
            "bin_end": 14674.989339157313,
            "count": 0
           },
           {
            "bin_start": 14674.989339157313,
            "bin_end": 15007.667311376194,
            "count": 0
           },
           {
            "bin_start": 15007.667311376194,
            "bin_end": 15340.345283595074,
            "count": 1
           },
           {
            "bin_start": 15340.345283595074,
            "bin_end": 15673.023255813954,
            "count": 1
           }
          ]
         }
        },
        {
         "name": "_deepnote_index_column",
         "dtype": "object"
        }
       ],
       "rows": [
        {
         "Load Weight": 15673.023255813954,
         "_deepnote_index_column": "GREAT NORTHERN"
        },
        {
         "Load Weight": 15186.621325782851,
         "_deepnote_index_column": "TDS LANDFILL"
        },
        {
         "Load Weight": 14168.0276816609,
         "_deepnote_index_column": "BFI LANDFILL"
        },
        {
         "Load Weight": 13804.70588235294,
         "_deepnote_index_column": "WESTFIELD"
        },
        {
         "Load Weight": 12346.24353362515,
         "_deepnote_index_column": "BRAKER SITE"
        }
       ]
      },
      "text/plain": "                Load Weight\nDropoff Site               \nGREAT NORTHERN 15673.023256\nTDS LANDFILL   15186.621326\nBFI LANDFILL   14168.027682\nWESTFIELD      13804.705882\nBRAKER SITE    12346.243534",
      "text/html": "<div>\n<style scoped>\n    .dataframe tbody tr th:only-of-type {\n        vertical-align: middle;\n    }\n\n    .dataframe tbody tr th {\n        vertical-align: top;\n    }\n\n    .dataframe thead th {\n        text-align: right;\n    }\n</style>\n<table border=\"1\" class=\"dataframe\">\n  <thead>\n    <tr style=\"text-align: right;\">\n      <th></th>\n      <th>Load Weight</th>\n    </tr>\n    <tr>\n      <th>Dropoff Site</th>\n      <th></th>\n    </tr>\n  </thead>\n  <tbody>\n    <tr>\n      <th>GREAT NORTHERN</th>\n      <td>15673.023256</td>\n    </tr>\n    <tr>\n      <th>TDS LANDFILL</th>\n      <td>15186.621326</td>\n    </tr>\n    <tr>\n      <th>BFI LANDFILL</th>\n      <td>14168.027682</td>\n    </tr>\n    <tr>\n      <th>WESTFIELD</th>\n      <td>13804.705882</td>\n    </tr>\n    <tr>\n      <th>BRAKER SITE</th>\n      <td>12346.243534</td>\n    </tr>\n  </tbody>\n</table>\n</div>"
     },
     "metadata": {}
    }
   ]
  },
  {
   "cell_type": "code",
   "metadata": {
    "cell_id": "00047-11ad6d17-963c-4de4-8dd8-5fc66a3d55dc",
    "deepnote_to_be_reexecuted": false,
    "source_hash": "ab6b3e8c",
    "execution_start": 1648029702714,
    "execution_millis": 17,
    "deepnote_cell_type": "code",
    "deepnote_cell_height": 393
   },
   "source": "weightsum_by_type.head()",
   "execution_count": 28,
   "outputs": [
    {
     "output_type": "execute_result",
     "execution_count": 28,
     "data": {
      "application/vnd.deepnote.dataframe.v3+json": {
       "column_count": 1,
       "row_count": 5,
       "columns": [
        {
         "name": "Load Weight",
         "dtype": "float64",
         "stats": {
          "unique_count": 5,
          "nan_count": 0,
          "min": "3076400.0",
          "max": "4382757091.5394",
          "histogram": [
           {
            "bin_start": 3076400,
            "bin_end": 441044469.15394,
            "count": 4
           },
           {
            "bin_start": 441044469.15394,
            "bin_end": 879012538.30788,
            "count": 0
           },
           {
            "bin_start": 879012538.30788,
            "bin_end": 1316980607.4618201,
            "count": 0
           },
           {
            "bin_start": 1316980607.4618201,
            "bin_end": 1754948676.61576,
            "count": 0
           },
           {
            "bin_start": 1754948676.61576,
            "bin_end": 2192916745.7697,
            "count": 0
           },
           {
            "bin_start": 2192916745.7697,
            "bin_end": 2630884814.9236403,
            "count": 0
           },
           {
            "bin_start": 2630884814.9236403,
            "bin_end": 3068852884.07758,
            "count": 0
           },
           {
            "bin_start": 3068852884.07758,
            "bin_end": 3506820953.23152,
            "count": 0
           },
           {
            "bin_start": 3506820953.23152,
            "bin_end": 3944789022.3854604,
            "count": 0
           },
           {
            "bin_start": 3944789022.3854604,
            "bin_end": 4382757091.5394,
            "count": 1
           }
          ]
         }
        },
        {
         "name": "_deepnote_index_column",
         "dtype": "object"
        }
       ],
       "rows": [
        {
         "Load Weight": 229958727,
         "_deepnote_index_column": "BRUSH"
        },
        {
         "Load Weight": 293898053,
         "_deepnote_index_column": "BULK"
        },
        {
         "Load Weight": 3076400,
         "_deepnote_index_column": "DEAD ANIMAL"
        },
        {
         "Load Weight": 4382757091.5394,
         "_deepnote_index_column": "GARBAGE COLLECTIONS"
        },
        {
         "Load Weight": 3613850,
         "_deepnote_index_column": "LITTER"
        }
       ]
      },
      "text/plain": "                          Load Weight\nLoad Type                            \nBRUSH                229958727.000000\nBULK                 293898053.000000\nDEAD ANIMAL            3076400.000000\nGARBAGE COLLECTIONS 4382757091.539400\nLITTER                 3613850.000000",
      "text/html": "<div>\n<style scoped>\n    .dataframe tbody tr th:only-of-type {\n        vertical-align: middle;\n    }\n\n    .dataframe tbody tr th {\n        vertical-align: top;\n    }\n\n    .dataframe thead th {\n        text-align: right;\n    }\n</style>\n<table border=\"1\" class=\"dataframe\">\n  <thead>\n    <tr style=\"text-align: right;\">\n      <th></th>\n      <th>Load Weight</th>\n    </tr>\n    <tr>\n      <th>Load Type</th>\n      <th></th>\n    </tr>\n  </thead>\n  <tbody>\n    <tr>\n      <th>BRUSH</th>\n      <td>229958727.000000</td>\n    </tr>\n    <tr>\n      <th>BULK</th>\n      <td>293898053.000000</td>\n    </tr>\n    <tr>\n      <th>DEAD ANIMAL</th>\n      <td>3076400.000000</td>\n    </tr>\n    <tr>\n      <th>GARBAGE COLLECTIONS</th>\n      <td>4382757091.539400</td>\n    </tr>\n    <tr>\n      <th>LITTER</th>\n      <td>3613850.000000</td>\n    </tr>\n  </tbody>\n</table>\n</div>"
     },
     "metadata": {}
    }
   ]
  },
  {
   "cell_type": "code",
   "metadata": {
    "scrolled": true,
    "cell_id": "00048-6b704bf7-c295-410e-8faf-72282393a745",
    "deepnote_to_be_reexecuted": false,
    "source_hash": "cdda0ab0",
    "execution_start": 1648029702788,
    "execution_millis": 101,
    "deepnote_cell_type": "code",
    "deepnote_cell_height": 117
   },
   "source": "#  We are looking into where most of the waste flows to \n#  Are there any monopolies ?\ndf_prop = data.groupby(['Load Type', 'Dropoff Site']).agg({'Load Weight': 'sum'})",
   "execution_count": 29,
   "outputs": []
  },
  {
   "cell_type": "code",
   "metadata": {
    "cell_id": "00049-c4431c34-ae37-4805-b08a-442199bd43af",
    "deepnote_to_be_reexecuted": false,
    "source_hash": "82635921",
    "execution_start": 1648029702932,
    "execution_millis": 0,
    "deepnote_cell_type": "code",
    "deepnote_cell_height": 81
   },
   "source": "df_dist = df_prop.groupby(level=0).apply(lambda x:100 * x / float(x.sum()))",
   "execution_count": 30,
   "outputs": []
  },
  {
   "cell_type": "code",
   "metadata": {
    "scrolled": true,
    "cell_id": "00050-005cce19-14e4-44e4-bf25-b2c2cdbb37a6",
    "deepnote_to_be_reexecuted": false,
    "source_hash": "f1008663",
    "execution_start": 1648029702971,
    "execution_millis": 9,
    "deepnote_cell_type": "code",
    "deepnote_cell_height": 448,
    "deepnote_output_heights": [
     351
    ]
   },
   "source": "df_dist.head(10)",
   "execution_count": 31,
   "outputs": [
    {
     "output_type": "execute_result",
     "execution_count": 31,
     "data": {
      "application/vnd.deepnote.dataframe.v3+json": {
       "error": "Traceback (most recent call last):\n  File \"/compute-helpers/code/variable_explorer.py\", line 209, in dataframe_formatter\n    result = describe_pd_dataframe(df, browse_spec)\n  File \"/compute-helpers/code/variable_explorer_helpers.py\", line 257, in describe_pd_dataframe\n    df_analyzed[\"_deepnote_index_column\"] = df_analyzed.index\n  File \"/shared-libs/python3.7/py/lib/python3.7/site-packages/pandas/core/frame.py\", line 3612, in __setitem__\n    self._set_item(key, value)\n  File \"/shared-libs/python3.7/py/lib/python3.7/site-packages/pandas/core/frame.py\", line 3784, in _set_item\n    value = self._sanitize_column(value)\n  File \"/shared-libs/python3.7/py/lib/python3.7/site-packages/pandas/core/frame.py\", line 4510, in _sanitize_column\n    return sanitize_array(value, self.index, copy=True, allow_2d=True)\n  File \"/shared-libs/python3.7/py/lib/python3.7/site-packages/pandas/core/construction.py\", line 500, in sanitize_array\n    data = extract_array(data, extract_numpy=True)\n  File \"/shared-libs/python3.7/py/lib/python3.7/site-packages/pandas/core/construction.py\", line 423, in extract_array\n    obj = obj.array\n  File \"/shared-libs/python3.7/py/lib/python3.7/site-packages/pandas/core/indexes/multi.py\", line 726, in array\n    \"MultiIndex has no single backing array. Use \"\nValueError: MultiIndex has no single backing array. Use 'MultiIndex.to_numpy()' to get a NumPy array of tuples.\n"
      },
      "text/plain": "                                 Load Weight\nLoad Type Dropoff Site                      \nBRUSH     AUSTIN WOOD RECYCLING     0.100453\n          BALCONES RECYCLING        0.002392\n          BRAKER SITE               3.220078\n          GREAT NORTHERN            0.005018\n          HORNSBY BEND             91.596930\n          INSPIRATION/GUNNISAN      0.001713\n          MRF                       0.002487\n          PARK BEND                 0.775465\n          ST. EDWARDS               0.005271\n          STEINER LANDFILL          3.498181",
      "text/html": "<div>\n<style scoped>\n    .dataframe tbody tr th:only-of-type {\n        vertical-align: middle;\n    }\n\n    .dataframe tbody tr th {\n        vertical-align: top;\n    }\n\n    .dataframe thead th {\n        text-align: right;\n    }\n</style>\n<table border=\"1\" class=\"dataframe\">\n  <thead>\n    <tr style=\"text-align: right;\">\n      <th></th>\n      <th></th>\n      <th>Load Weight</th>\n    </tr>\n    <tr>\n      <th>Load Type</th>\n      <th>Dropoff Site</th>\n      <th></th>\n    </tr>\n  </thead>\n  <tbody>\n    <tr>\n      <th rowspan=\"10\" valign=\"top\">BRUSH</th>\n      <th>AUSTIN WOOD RECYCLING</th>\n      <td>0.100453</td>\n    </tr>\n    <tr>\n      <th>BALCONES RECYCLING</th>\n      <td>0.002392</td>\n    </tr>\n    <tr>\n      <th>BRAKER SITE</th>\n      <td>3.220078</td>\n    </tr>\n    <tr>\n      <th>GREAT NORTHERN</th>\n      <td>0.005018</td>\n    </tr>\n    <tr>\n      <th>HORNSBY BEND</th>\n      <td>91.596930</td>\n    </tr>\n    <tr>\n      <th>INSPIRATION/GUNNISAN</th>\n      <td>0.001713</td>\n    </tr>\n    <tr>\n      <th>MRF</th>\n      <td>0.002487</td>\n    </tr>\n    <tr>\n      <th>PARK BEND</th>\n      <td>0.775465</td>\n    </tr>\n    <tr>\n      <th>ST. EDWARDS</th>\n      <td>0.005271</td>\n    </tr>\n    <tr>\n      <th>STEINER LANDFILL</th>\n      <td>3.498181</td>\n    </tr>\n  </tbody>\n</table>\n</div>"
     },
     "metadata": {}
    }
   ]
  },
  {
   "cell_type": "code",
   "metadata": {
    "cell_id": "00051-ac2c4ff7-0393-4d2e-8c92-a491df80adb2",
    "deepnote_to_be_reexecuted": false,
    "source_hash": "fb6321fe",
    "execution_start": 1648029702976,
    "execution_millis": 3,
    "deepnote_cell_type": "code",
    "deepnote_cell_height": 81
   },
   "source": "df_dist_swap = df_dist.swaplevel()",
   "execution_count": 32,
   "outputs": []
  },
  {
   "cell_type": "code",
   "metadata": {
    "cell_id": "00052-74b07aa4-a95e-463e-beb8-37d96f17ddd5",
    "deepnote_to_be_reexecuted": false,
    "source_hash": "92ac22a4",
    "execution_start": 1648029702983,
    "execution_millis": 1,
    "deepnote_cell_type": "code",
    "deepnote_cell_height": 81
   },
   "source": "df_dist_swap. rename(columns = {'Load Weight':'Percentage of Load Weight'}, inplace = True)",
   "execution_count": 33,
   "outputs": []
  },
  {
   "cell_type": "code",
   "metadata": {
    "scrolled": false,
    "cell_id": "00053-511d9d3b-0375-4e18-ba6f-fd96be2735f8",
    "deepnote_to_be_reexecuted": false,
    "source_hash": "1f02a080",
    "execution_start": 1648029702984,
    "execution_millis": 17,
    "deepnote_cell_type": "code",
    "deepnote_cell_height": 726,
    "deepnote_output_heights": [
     611
    ]
   },
   "source": "# looking at the specializations of the various dropoff site\ndf_dist_swap[df_dist_swap[\"Percentage of Load Weight\"] > 10]",
   "execution_count": 34,
   "outputs": [
    {
     "output_type": "execute_result",
     "execution_count": 34,
     "data": {
      "application/vnd.deepnote.dataframe.v3+json": {
       "error": "Traceback (most recent call last):\n  File \"/compute-helpers/code/variable_explorer.py\", line 209, in dataframe_formatter\n    result = describe_pd_dataframe(df, browse_spec)\n  File \"/compute-helpers/code/variable_explorer_helpers.py\", line 257, in describe_pd_dataframe\n    df_analyzed[\"_deepnote_index_column\"] = df_analyzed.index\n  File \"/shared-libs/python3.7/py/lib/python3.7/site-packages/pandas/core/frame.py\", line 3612, in __setitem__\n    self._set_item(key, value)\n  File \"/shared-libs/python3.7/py/lib/python3.7/site-packages/pandas/core/frame.py\", line 3784, in _set_item\n    value = self._sanitize_column(value)\n  File \"/shared-libs/python3.7/py/lib/python3.7/site-packages/pandas/core/frame.py\", line 4510, in _sanitize_column\n    return sanitize_array(value, self.index, copy=True, allow_2d=True)\n  File \"/shared-libs/python3.7/py/lib/python3.7/site-packages/pandas/core/construction.py\", line 500, in sanitize_array\n    data = extract_array(data, extract_numpy=True)\n  File \"/shared-libs/python3.7/py/lib/python3.7/site-packages/pandas/core/construction.py\", line 423, in extract_array\n    obj = obj.array\n  File \"/shared-libs/python3.7/py/lib/python3.7/site-packages/pandas/core/indexes/multi.py\", line 726, in array\n    \"MultiIndex has no single backing array. Use \"\nValueError: MultiIndex has no single backing array. Use 'MultiIndex.to_numpy()' to get a NumPy array of tuples.\n"
      },
      "text/plain": "                                              Percentage of Load Weight\nDropoff Site       Load Type                                           \nHORNSBY BEND       BRUSH                                      91.596930\nTDS LANDFILL       BULK                                       95.835177\n                   DEAD ANIMAL                                98.493369\n                   GARBAGE COLLECTIONS                        99.558943\n                   LITTER                                     97.925204\n                   MIXED LITTER                               98.360814\nHORNSBY BEND       MULCH                                      78.788171\nSTEINER LANDFILL   MULCH                                      20.426539\nORGANICS BY GOSH   ORGANICS                                   99.549513\nCOMMERCIAL METALS  RECYCLED METAL                             34.203495\nMRF                RECYCLED METAL                             13.991510\nSTEINER LANDFILL   RECYCLED METAL                             25.623961\nMRF                RECYCLING - COMINGLE                       99.538235\n                   RECYCLING - PAPER                          99.594869\nBALCONES RECYCLING RECYCLING - SINGLE STREAM                  41.564638\nMRF                RECYCLING - SINGLE STREAM                  15.094265\nTDS - MRF          RECYCLING - SINGLE STREAM                  37.964513\nSTEINER LANDFILL   SWEEPING                                   26.136243\nTDS LANDFILL       SWEEPING                                   73.365925\nMRF                TIRES                                      43.286308\nSTEINER LANDFILL   TIRES                                      42.473290\nTDS LANDFILL       TIRES                                      12.163825\nHORNSBY BEND       YARD TRIMMING                              82.832582\nORGANICS BY GOSH   YARD TRIMMING                              10.426533",
      "text/html": "<div>\n<style scoped>\n    .dataframe tbody tr th:only-of-type {\n        vertical-align: middle;\n    }\n\n    .dataframe tbody tr th {\n        vertical-align: top;\n    }\n\n    .dataframe thead th {\n        text-align: right;\n    }\n</style>\n<table border=\"1\" class=\"dataframe\">\n  <thead>\n    <tr style=\"text-align: right;\">\n      <th></th>\n      <th></th>\n      <th>Percentage of Load Weight</th>\n    </tr>\n    <tr>\n      <th>Dropoff Site</th>\n      <th>Load Type</th>\n      <th></th>\n    </tr>\n  </thead>\n  <tbody>\n    <tr>\n      <th>HORNSBY BEND</th>\n      <th>BRUSH</th>\n      <td>91.596930</td>\n    </tr>\n    <tr>\n      <th rowspan=\"5\" valign=\"top\">TDS LANDFILL</th>\n      <th>BULK</th>\n      <td>95.835177</td>\n    </tr>\n    <tr>\n      <th>DEAD ANIMAL</th>\n      <td>98.493369</td>\n    </tr>\n    <tr>\n      <th>GARBAGE COLLECTIONS</th>\n      <td>99.558943</td>\n    </tr>\n    <tr>\n      <th>LITTER</th>\n      <td>97.925204</td>\n    </tr>\n    <tr>\n      <th>MIXED LITTER</th>\n      <td>98.360814</td>\n    </tr>\n    <tr>\n      <th>HORNSBY BEND</th>\n      <th>MULCH</th>\n      <td>78.788171</td>\n    </tr>\n    <tr>\n      <th>STEINER LANDFILL</th>\n      <th>MULCH</th>\n      <td>20.426539</td>\n    </tr>\n    <tr>\n      <th>ORGANICS BY GOSH</th>\n      <th>ORGANICS</th>\n      <td>99.549513</td>\n    </tr>\n    <tr>\n      <th>COMMERCIAL METALS</th>\n      <th>RECYCLED METAL</th>\n      <td>34.203495</td>\n    </tr>\n    <tr>\n      <th>MRF</th>\n      <th>RECYCLED METAL</th>\n      <td>13.991510</td>\n    </tr>\n    <tr>\n      <th>STEINER LANDFILL</th>\n      <th>RECYCLED METAL</th>\n      <td>25.623961</td>\n    </tr>\n    <tr>\n      <th rowspan=\"2\" valign=\"top\">MRF</th>\n      <th>RECYCLING - COMINGLE</th>\n      <td>99.538235</td>\n    </tr>\n    <tr>\n      <th>RECYCLING - PAPER</th>\n      <td>99.594869</td>\n    </tr>\n    <tr>\n      <th>BALCONES RECYCLING</th>\n      <th>RECYCLING - SINGLE STREAM</th>\n      <td>41.564638</td>\n    </tr>\n    <tr>\n      <th>MRF</th>\n      <th>RECYCLING - SINGLE STREAM</th>\n      <td>15.094265</td>\n    </tr>\n    <tr>\n      <th>TDS - MRF</th>\n      <th>RECYCLING - SINGLE STREAM</th>\n      <td>37.964513</td>\n    </tr>\n    <tr>\n      <th>STEINER LANDFILL</th>\n      <th>SWEEPING</th>\n      <td>26.136243</td>\n    </tr>\n    <tr>\n      <th>TDS LANDFILL</th>\n      <th>SWEEPING</th>\n      <td>73.365925</td>\n    </tr>\n    <tr>\n      <th>MRF</th>\n      <th>TIRES</th>\n      <td>43.286308</td>\n    </tr>\n    <tr>\n      <th>STEINER LANDFILL</th>\n      <th>TIRES</th>\n      <td>42.473290</td>\n    </tr>\n    <tr>\n      <th>TDS LANDFILL</th>\n      <th>TIRES</th>\n      <td>12.163825</td>\n    </tr>\n    <tr>\n      <th>HORNSBY BEND</th>\n      <th>YARD TRIMMING</th>\n      <td>82.832582</td>\n    </tr>\n    <tr>\n      <th>ORGANICS BY GOSH</th>\n      <th>YARD TRIMMING</th>\n      <td>10.426533</td>\n    </tr>\n  </tbody>\n</table>\n</div>"
     },
     "metadata": {}
    }
   ]
  },
  {
   "cell_type": "markdown",
   "source": "#### Route Number",
   "metadata": {
    "cell_id": "00054-5c7a3fe4-a6b8-4f41-8408-e468b0e1931a",
    "deepnote_cell_type": "markdown",
    "deepnote_cell_height": 54
   }
  },
  {
   "cell_type": "code",
   "metadata": {
    "scrolled": true,
    "cell_id": "00055-fa44bc04-4d36-47bf-a02f-08560d640fcd",
    "deepnote_to_be_reexecuted": false,
    "source_hash": "381e8a5c",
    "execution_start": 1648029703049,
    "execution_millis": 105,
    "deepnote_cell_type": "code",
    "deepnote_cell_height": 598
   },
   "source": "data.groupby([\"Route Number\"]).sum().sort_values(by=\"Load Weight\", ascending = False).head(10)",
   "execution_count": 35,
   "outputs": [
    {
     "output_type": "execute_result",
     "execution_count": 35,
     "data": {
      "application/vnd.deepnote.dataframe.v3+json": {
       "column_count": 2,
       "row_count": 10,
       "columns": [
        {
         "name": "Load Weight",
         "dtype": "float64",
         "stats": {
          "unique_count": 10,
          "nan_count": 0,
          "min": "27653538.0",
          "max": "75487803.0",
          "histogram": [
           {
            "bin_start": 27653538,
            "bin_end": 32436964.5,
            "count": 9
           },
           {
            "bin_start": 32436964.5,
            "bin_end": 37220391,
            "count": 0
           },
           {
            "bin_start": 37220391,
            "bin_end": 42003817.5,
            "count": 0
           },
           {
            "bin_start": 42003817.5,
            "bin_end": 46787244,
            "count": 0
           },
           {
            "bin_start": 46787244,
            "bin_end": 51570670.5,
            "count": 0
           },
           {
            "bin_start": 51570670.5,
            "bin_end": 56354097,
            "count": 0
           },
           {
            "bin_start": 56354097,
            "bin_end": 61137523.5,
            "count": 0
           },
           {
            "bin_start": 61137523.5,
            "bin_end": 65920950,
            "count": 0
           },
           {
            "bin_start": 65920950,
            "bin_end": 70704376.5,
            "count": 0
           },
           {
            "bin_start": 70704376.5,
            "bin_end": 75487803,
            "count": 1
           }
          ]
         }
        },
        {
         "name": "Load ID",
         "dtype": "int64",
         "stats": {
          "unique_count": 10,
          "nan_count": 0,
          "min": "829708477",
          "max": "4376663725",
          "histogram": [
           {
            "bin_start": 829708477,
            "bin_end": 1184404001.8,
            "count": 9
           },
           {
            "bin_start": 1184404001.8,
            "bin_end": 1539099526.6,
            "count": 0
           },
           {
            "bin_start": 1539099526.6,
            "bin_end": 1893795051.4,
            "count": 0
           },
           {
            "bin_start": 1893795051.4,
            "bin_end": 2248490576.2,
            "count": 0
           },
           {
            "bin_start": 2248490576.2,
            "bin_end": 2603186101,
            "count": 0
           },
           {
            "bin_start": 2603186101,
            "bin_end": 2957881625.8,
            "count": 0
           },
           {
            "bin_start": 2957881625.8,
            "bin_end": 3312577150.6,
            "count": 0
           },
           {
            "bin_start": 3312577150.6,
            "bin_end": 3667272675.4,
            "count": 0
           },
           {
            "bin_start": 3667272675.4,
            "bin_end": 4021968200.2000003,
            "count": 0
           },
           {
            "bin_start": 4021968200.2000003,
            "bin_end": 4376663725,
            "count": 1
           }
          ]
         }
        },
        {
         "name": "_deepnote_index_column",
         "dtype": "object"
        }
       ],
       "rows": [
        {
         "Load Weight": 75487803,
         "Load ID": 4376663725,
         "_deepnote_index_column": "DSS04"
        },
        {
         "Load Weight": 29874653,
         "Load ID": 885019735,
         "_deepnote_index_column": "PAM70"
        },
        {
         "Load Weight": 29837700,
         "Load ID": 886202207,
         "_deepnote_index_column": "PAM01"
        },
        {
         "Load Weight": 29125420,
         "Load ID": 873452819,
         "_deepnote_index_column": "PAM03"
        },
        {
         "Load Weight": 28900250,
         "Load ID": 912724156,
         "_deepnote_index_column": "PAM72"
        },
        {
         "Load Weight": 28677480,
         "Load ID": 866400287,
         "_deepnote_index_column": "PAM73"
        },
        {
         "Load Weight": 28490180,
         "Load ID": 866469862,
         "_deepnote_index_column": "PAW72"
        },
        {
         "Load Weight": 28469680,
         "Load ID": 877013039,
         "_deepnote_index_column": "PAM71"
        },
        {
         "Load Weight": 28138336,
         "Load ID": 829708477,
         "_deepnote_index_column": "PAW73"
        },
        {
         "Load Weight": 27653538,
         "Load ID": 893613289,
         "_deepnote_index_column": "PAM74"
        }
       ]
      },
      "text/plain": "                 Load Weight     Load ID\nRoute Number                            \nDSS04        75487803.000000  4376663725\nPAM70        29874653.000000   885019735\nPAM01        29837700.000000   886202207\nPAM03        29125420.000000   873452819\nPAM72        28900250.000000   912724156\nPAM73        28677480.000000   866400287\nPAW72        28490180.000000   866469862\nPAM71        28469680.000000   877013039\nPAW73        28138336.000000   829708477\nPAM74        27653538.000000   893613289",
      "text/html": "<div>\n<style scoped>\n    .dataframe tbody tr th:only-of-type {\n        vertical-align: middle;\n    }\n\n    .dataframe tbody tr th {\n        vertical-align: top;\n    }\n\n    .dataframe thead th {\n        text-align: right;\n    }\n</style>\n<table border=\"1\" class=\"dataframe\">\n  <thead>\n    <tr style=\"text-align: right;\">\n      <th></th>\n      <th>Load Weight</th>\n      <th>Load ID</th>\n    </tr>\n    <tr>\n      <th>Route Number</th>\n      <th></th>\n      <th></th>\n    </tr>\n  </thead>\n  <tbody>\n    <tr>\n      <th>DSS04</th>\n      <td>75487803.000000</td>\n      <td>4376663725</td>\n    </tr>\n    <tr>\n      <th>PAM70</th>\n      <td>29874653.000000</td>\n      <td>885019735</td>\n    </tr>\n    <tr>\n      <th>PAM01</th>\n      <td>29837700.000000</td>\n      <td>886202207</td>\n    </tr>\n    <tr>\n      <th>PAM03</th>\n      <td>29125420.000000</td>\n      <td>873452819</td>\n    </tr>\n    <tr>\n      <th>PAM72</th>\n      <td>28900250.000000</td>\n      <td>912724156</td>\n    </tr>\n    <tr>\n      <th>PAM73</th>\n      <td>28677480.000000</td>\n      <td>866400287</td>\n    </tr>\n    <tr>\n      <th>PAW72</th>\n      <td>28490180.000000</td>\n      <td>866469862</td>\n    </tr>\n    <tr>\n      <th>PAM71</th>\n      <td>28469680.000000</td>\n      <td>877013039</td>\n    </tr>\n    <tr>\n      <th>PAW73</th>\n      <td>28138336.000000</td>\n      <td>829708477</td>\n    </tr>\n    <tr>\n      <th>PAM74</th>\n      <td>27653538.000000</td>\n      <td>893613289</td>\n    </tr>\n  </tbody>\n</table>\n</div>"
     },
     "metadata": {}
    }
   ]
  },
  {
   "cell_type": "code",
   "metadata": {
    "scrolled": false,
    "cell_id": "00056-d736c9fe-3dcb-48d0-809c-64278ac0389b",
    "deepnote_to_be_reexecuted": false,
    "source_hash": "44d5c36f",
    "execution_start": 1648029703238,
    "execution_millis": 133,
    "deepnote_cell_type": "code",
    "deepnote_cell_height": 286.796875
   },
   "source": "data[data[\"Route Number\"] == \"DSS04\"].head(2)",
   "execution_count": 36,
   "outputs": [
    {
     "output_type": "execute_result",
     "execution_count": 36,
     "data": {
      "application/vnd.deepnote.dataframe.v3+json": {
       "column_count": 8,
       "row_count": 2,
       "columns": [
        {
         "name": "Report Date",
         "dtype": "datetime64[ns]",
         "stats": {
          "unique_count": 1,
          "nan_count": 0,
          "min": "2020-12-07 00:00:00",
          "max": "2020-12-07 00:00:00",
          "histogram": null
         }
        },
        {
         "name": "Load Type",
         "dtype": "object",
         "stats": {
          "unique_count": 1,
          "nan_count": 0,
          "categories": [
           {
            "name": "SWEEPING",
            "count": 2
           }
          ]
         }
        },
        {
         "name": "Load Time",
         "dtype": "datetime64[ns]",
         "stats": {
          "unique_count": 2,
          "nan_count": 0,
          "min": "2020-12-07 08:57:00",
          "max": "2020-12-07 10:15:00",
          "histogram": [
           {
            "bin_start": 1607331420000000000,
            "bin_end": 1607331888000000000,
            "count": 1
           },
           {
            "bin_start": 1607331888000000000,
            "bin_end": 1607332356000000000,
            "count": 0
           },
           {
            "bin_start": 1607332356000000000,
            "bin_end": 1607332824000000000,
            "count": 0
           },
           {
            "bin_start": 1607332824000000000,
            "bin_end": 1607333292000000000,
            "count": 0
           },
           {
            "bin_start": 1607333292000000000,
            "bin_end": 1607333760000000000,
            "count": 0
           },
           {
            "bin_start": 1607333760000000000,
            "bin_end": 1607334228000000000,
            "count": 0
           },
           {
            "bin_start": 1607334228000000000,
            "bin_end": 1607334696000000000,
            "count": 0
           },
           {
            "bin_start": 1607334696000000000,
            "bin_end": 1607335164000000000,
            "count": 0
           },
           {
            "bin_start": 1607335164000000000,
            "bin_end": 1607335632000000000,
            "count": 0
           },
           {
            "bin_start": 1607335632000000000,
            "bin_end": 1607336100000000000,
            "count": 1
           }
          ]
         }
        },
        {
         "name": "Load Weight",
         "dtype": "float64",
         "stats": {
          "unique_count": 2,
          "nan_count": 0,
          "min": "5780.0",
          "max": "7100.0",
          "histogram": [
           {
            "bin_start": 5780,
            "bin_end": 5912,
            "count": 1
           },
           {
            "bin_start": 5912,
            "bin_end": 6044,
            "count": 0
           },
           {
            "bin_start": 6044,
            "bin_end": 6176,
            "count": 0
           },
           {
            "bin_start": 6176,
            "bin_end": 6308,
            "count": 0
           },
           {
            "bin_start": 6308,
            "bin_end": 6440,
            "count": 0
           },
           {
            "bin_start": 6440,
            "bin_end": 6572,
            "count": 0
           },
           {
            "bin_start": 6572,
            "bin_end": 6704,
            "count": 0
           },
           {
            "bin_start": 6704,
            "bin_end": 6836,
            "count": 0
           },
           {
            "bin_start": 6836,
            "bin_end": 6968,
            "count": 0
           },
           {
            "bin_start": 6968,
            "bin_end": 7100,
            "count": 1
           }
          ]
         }
        },
        {
         "name": "Dropoff Site",
         "dtype": "object",
         "stats": {
          "unique_count": 1,
          "nan_count": 0,
          "categories": [
           {
            "name": "TDS LANDFILL",
            "count": 2
           }
          ]
         }
        },
        {
         "name": "Route Type",
         "dtype": "object",
         "stats": {
          "unique_count": 1,
          "nan_count": 0,
          "categories": [
           {
            "name": "SWEEPER DUMPSITES",
            "count": 2
           }
          ]
         }
        },
        {
         "name": "Route Number",
         "dtype": "object",
         "stats": {
          "unique_count": 1,
          "nan_count": 0,
          "categories": [
           {
            "name": "DSS04",
            "count": 2
           }
          ]
         }
        },
        {
         "name": "Load ID",
         "dtype": "int64",
         "stats": {
          "unique_count": 2,
          "nan_count": 0,
          "min": "899029",
          "max": "899030",
          "histogram": [
           {
            "bin_start": 899029,
            "bin_end": 899029.1,
            "count": 1
           },
           {
            "bin_start": 899029.1,
            "bin_end": 899029.2,
            "count": 0
           },
           {
            "bin_start": 899029.2,
            "bin_end": 899029.3,
            "count": 0
           },
           {
            "bin_start": 899029.3,
            "bin_end": 899029.4,
            "count": 0
           },
           {
            "bin_start": 899029.4,
            "bin_end": 899029.5,
            "count": 0
           },
           {
            "bin_start": 899029.5,
            "bin_end": 899029.6,
            "count": 0
           },
           {
            "bin_start": 899029.6,
            "bin_end": 899029.7,
            "count": 0
           },
           {
            "bin_start": 899029.7,
            "bin_end": 899029.8,
            "count": 0
           },
           {
            "bin_start": 899029.8,
            "bin_end": 899029.9,
            "count": 0
           },
           {
            "bin_start": 899029.9,
            "bin_end": 899030,
            "count": 1
           }
          ]
         }
        },
        {
         "name": "_deepnote_index_column",
         "dtype": "int64"
        }
       ],
       "rows": [
        {
         "Report Date": "2020-12-07T00:00:00.000000",
         "Load Type": "SWEEPING",
         "Load Time": "2020-12-07T10:15:00.000000",
         "Load Weight": 7100,
         "Dropoff Site": "TDS LANDFILL",
         "Route Type": "SWEEPER DUMPSITES",
         "Route Number": "DSS04",
         "Load ID": 899030,
         "_deepnote_index_column": 3
        },
        {
         "Report Date": "2020-12-07T00:00:00.000000",
         "Load Type": "SWEEPING",
         "Load Time": "2020-12-07T08:57:00.000000",
         "Load Weight": 5780,
         "Dropoff Site": "TDS LANDFILL",
         "Route Type": "SWEEPER DUMPSITES",
         "Route Number": "DSS04",
         "Load ID": 899029,
         "_deepnote_index_column": 38
        }
       ]
      },
      "text/plain": "   Report Date Load Type           Load Time  Load Weight  Dropoff Site  \\\n3   2020-12-07  SWEEPING 2020-12-07 10:15:00  7100.000000  TDS LANDFILL   \n38  2020-12-07  SWEEPING 2020-12-07 08:57:00  5780.000000  TDS LANDFILL   \n\n           Route Type Route Number  Load ID  \n3   SWEEPER DUMPSITES        DSS04   899030  \n38  SWEEPER DUMPSITES        DSS04   899029  ",
      "text/html": "<div>\n<style scoped>\n    .dataframe tbody tr th:only-of-type {\n        vertical-align: middle;\n    }\n\n    .dataframe tbody tr th {\n        vertical-align: top;\n    }\n\n    .dataframe thead th {\n        text-align: right;\n    }\n</style>\n<table border=\"1\" class=\"dataframe\">\n  <thead>\n    <tr style=\"text-align: right;\">\n      <th></th>\n      <th>Report Date</th>\n      <th>Load Type</th>\n      <th>Load Time</th>\n      <th>Load Weight</th>\n      <th>Dropoff Site</th>\n      <th>Route Type</th>\n      <th>Route Number</th>\n      <th>Load ID</th>\n    </tr>\n  </thead>\n  <tbody>\n    <tr>\n      <th>3</th>\n      <td>2020-12-07</td>\n      <td>SWEEPING</td>\n      <td>2020-12-07 10:15:00</td>\n      <td>7100.000000</td>\n      <td>TDS LANDFILL</td>\n      <td>SWEEPER DUMPSITES</td>\n      <td>DSS04</td>\n      <td>899030</td>\n    </tr>\n    <tr>\n      <th>38</th>\n      <td>2020-12-07</td>\n      <td>SWEEPING</td>\n      <td>2020-12-07 08:57:00</td>\n      <td>5780.000000</td>\n      <td>TDS LANDFILL</td>\n      <td>SWEEPER DUMPSITES</td>\n      <td>DSS04</td>\n      <td>899029</td>\n    </tr>\n  </tbody>\n</table>\n</div>"
     },
     "metadata": {}
    }
   ]
  },
  {
   "cell_type": "code",
   "metadata": {
    "cell_id": "00057-ddfa725b-3524-4612-a077-43aeae445b7f",
    "deepnote_to_be_reexecuted": false,
    "source_hash": "6e1cc28c",
    "execution_start": 1648029703444,
    "execution_millis": 48,
    "deepnote_cell_type": "code",
    "deepnote_cell_height": 286.796875
   },
   "source": "data[data[\"Route Number\"] == \"PAM01\"].head(2)",
   "execution_count": 37,
   "outputs": [
    {
     "output_type": "execute_result",
     "execution_count": 37,
     "data": {
      "application/vnd.deepnote.dataframe.v3+json": {
       "column_count": 8,
       "row_count": 2,
       "columns": [
        {
         "name": "Report Date",
         "dtype": "datetime64[ns]",
         "stats": {
          "unique_count": 1,
          "nan_count": 0,
          "min": "2020-12-07 00:00:00",
          "max": "2020-12-07 00:00:00",
          "histogram": null
         }
        },
        {
         "name": "Load Type",
         "dtype": "object",
         "stats": {
          "unique_count": 1,
          "nan_count": 0,
          "categories": [
           {
            "name": "GARBAGE COLLECTIONS",
            "count": 2
           }
          ]
         }
        },
        {
         "name": "Load Time",
         "dtype": "datetime64[ns]",
         "stats": {
          "unique_count": 2,
          "nan_count": 0,
          "min": "2020-12-07 12:00:00",
          "max": "2020-12-07 17:53:00",
          "histogram": [
           {
            "bin_start": 1607342400000000000,
            "bin_end": 1607344518000000000,
            "count": 1
           },
           {
            "bin_start": 1607344518000000000,
            "bin_end": 1607346636000000000,
            "count": 0
           },
           {
            "bin_start": 1607346636000000000,
            "bin_end": 1607348754000000000,
            "count": 0
           },
           {
            "bin_start": 1607348754000000000,
            "bin_end": 1607350872000000000,
            "count": 0
           },
           {
            "bin_start": 1607350872000000000,
            "bin_end": 1607352990000000000,
            "count": 0
           },
           {
            "bin_start": 1607352990000000000,
            "bin_end": 1607355108000000000,
            "count": 0
           },
           {
            "bin_start": 1607355108000000000,
            "bin_end": 1607357226000000000,
            "count": 0
           },
           {
            "bin_start": 1607357226000000000,
            "bin_end": 1607359344000000000,
            "count": 0
           },
           {
            "bin_start": 1607359344000000000,
            "bin_end": 1607361462000000000,
            "count": 0
           },
           {
            "bin_start": 1607361462000000000,
            "bin_end": 1607363580000000000,
            "count": 1
           }
          ]
         }
        },
        {
         "name": "Load Weight",
         "dtype": "float64",
         "stats": {
          "unique_count": 2,
          "nan_count": 0,
          "min": "18940.0",
          "max": "23620.0",
          "histogram": [
           {
            "bin_start": 18940,
            "bin_end": 19408,
            "count": 1
           },
           {
            "bin_start": 19408,
            "bin_end": 19876,
            "count": 0
           },
           {
            "bin_start": 19876,
            "bin_end": 20344,
            "count": 0
           },
           {
            "bin_start": 20344,
            "bin_end": 20812,
            "count": 0
           },
           {
            "bin_start": 20812,
            "bin_end": 21280,
            "count": 0
           },
           {
            "bin_start": 21280,
            "bin_end": 21748,
            "count": 0
           },
           {
            "bin_start": 21748,
            "bin_end": 22216,
            "count": 0
           },
           {
            "bin_start": 22216,
            "bin_end": 22684,
            "count": 0
           },
           {
            "bin_start": 22684,
            "bin_end": 23152,
            "count": 0
           },
           {
            "bin_start": 23152,
            "bin_end": 23620,
            "count": 1
           }
          ]
         }
        },
        {
         "name": "Dropoff Site",
         "dtype": "object",
         "stats": {
          "unique_count": 1,
          "nan_count": 0,
          "categories": [
           {
            "name": "TDS LANDFILL",
            "count": 2
           }
          ]
         }
        },
        {
         "name": "Route Type",
         "dtype": "object",
         "stats": {
          "unique_count": 1,
          "nan_count": 0,
          "categories": [
           {
            "name": "GARBAGE COLLECTION",
            "count": 2
           }
          ]
         }
        },
        {
         "name": "Route Number",
         "dtype": "object",
         "stats": {
          "unique_count": 1,
          "nan_count": 0,
          "categories": [
           {
            "name": "PAM01",
            "count": 2
           }
          ]
         }
        },
        {
         "name": "Load ID",
         "dtype": "int64",
         "stats": {
          "unique_count": 2,
          "nan_count": 0,
          "min": "899016",
          "max": "899017",
          "histogram": [
           {
            "bin_start": 899016,
            "bin_end": 899016.1,
            "count": 1
           },
           {
            "bin_start": 899016.1,
            "bin_end": 899016.2,
            "count": 0
           },
           {
            "bin_start": 899016.2,
            "bin_end": 899016.3,
            "count": 0
           },
           {
            "bin_start": 899016.3,
            "bin_end": 899016.4,
            "count": 0
           },
           {
            "bin_start": 899016.4,
            "bin_end": 899016.5,
            "count": 0
           },
           {
            "bin_start": 899016.5,
            "bin_end": 899016.6,
            "count": 0
           },
           {
            "bin_start": 899016.6,
            "bin_end": 899016.7,
            "count": 0
           },
           {
            "bin_start": 899016.7,
            "bin_end": 899016.8,
            "count": 0
           },
           {
            "bin_start": 899016.8,
            "bin_end": 899016.9,
            "count": 0
           },
           {
            "bin_start": 899016.9,
            "bin_end": 899017,
            "count": 1
           }
          ]
         }
        },
        {
         "name": "_deepnote_index_column",
         "dtype": "int64"
        }
       ],
       "rows": [
        {
         "Report Date": "2020-12-07T00:00:00.000000",
         "Load Type": "GARBAGE COLLECTIONS",
         "Load Time": "2020-12-07T12:00:00.000000",
         "Load Weight": 23620,
         "Dropoff Site": "TDS LANDFILL",
         "Route Type": "GARBAGE COLLECTION",
         "Route Number": "PAM01",
         "Load ID": 899016,
         "_deepnote_index_column": 36
        },
        {
         "Report Date": "2020-12-07T00:00:00.000000",
         "Load Type": "GARBAGE COLLECTIONS",
         "Load Time": "2020-12-07T17:53:00.000000",
         "Load Weight": 18940,
         "Dropoff Site": "TDS LANDFILL",
         "Route Type": "GARBAGE COLLECTION",
         "Route Number": "PAM01",
         "Load ID": 899017,
         "_deepnote_index_column": 49
        }
       ]
      },
      "text/plain": "   Report Date            Load Type           Load Time  Load Weight  \\\n36  2020-12-07  GARBAGE COLLECTIONS 2020-12-07 12:00:00 23620.000000   \n49  2020-12-07  GARBAGE COLLECTIONS 2020-12-07 17:53:00 18940.000000   \n\n    Dropoff Site          Route Type Route Number  Load ID  \n36  TDS LANDFILL  GARBAGE COLLECTION        PAM01   899016  \n49  TDS LANDFILL  GARBAGE COLLECTION        PAM01   899017  ",
      "text/html": "<div>\n<style scoped>\n    .dataframe tbody tr th:only-of-type {\n        vertical-align: middle;\n    }\n\n    .dataframe tbody tr th {\n        vertical-align: top;\n    }\n\n    .dataframe thead th {\n        text-align: right;\n    }\n</style>\n<table border=\"1\" class=\"dataframe\">\n  <thead>\n    <tr style=\"text-align: right;\">\n      <th></th>\n      <th>Report Date</th>\n      <th>Load Type</th>\n      <th>Load Time</th>\n      <th>Load Weight</th>\n      <th>Dropoff Site</th>\n      <th>Route Type</th>\n      <th>Route Number</th>\n      <th>Load ID</th>\n    </tr>\n  </thead>\n  <tbody>\n    <tr>\n      <th>36</th>\n      <td>2020-12-07</td>\n      <td>GARBAGE COLLECTIONS</td>\n      <td>2020-12-07 12:00:00</td>\n      <td>23620.000000</td>\n      <td>TDS LANDFILL</td>\n      <td>GARBAGE COLLECTION</td>\n      <td>PAM01</td>\n      <td>899016</td>\n    </tr>\n    <tr>\n      <th>49</th>\n      <td>2020-12-07</td>\n      <td>GARBAGE COLLECTIONS</td>\n      <td>2020-12-07 17:53:00</td>\n      <td>18940.000000</td>\n      <td>TDS LANDFILL</td>\n      <td>GARBAGE COLLECTION</td>\n      <td>PAM01</td>\n      <td>899017</td>\n    </tr>\n  </tbody>\n</table>\n</div>"
     },
     "metadata": {}
    }
   ]
  },
  {
   "cell_type": "code",
   "metadata": {
    "scrolled": false,
    "cell_id": "00058-4c022968-561a-48ad-87f4-525d231fc01f",
    "deepnote_to_be_reexecuted": false,
    "source_hash": "1dc6c176",
    "execution_start": 1648029703490,
    "execution_millis": 101,
    "deepnote_cell_type": "code",
    "deepnote_cell_height": 598
   },
   "source": "data.groupby([\"Route Number\"]).mean().sort_values(by=\"Load Weight\", ascending = False).head(10)",
   "execution_count": 38,
   "outputs": [
    {
     "output_type": "execute_result",
     "execution_count": 38,
     "data": {
      "application/vnd.deepnote.dataframe.v3+json": {
       "column_count": 2,
       "row_count": 10,
       "columns": [
        {
         "name": "Load Weight",
         "dtype": "float64",
         "stats": {
          "unique_count": 10,
          "nan_count": 0,
          "min": "22616.708074534163",
          "max": "25071.224137931036",
          "histogram": [
           {
            "bin_start": 22616.708074534163,
            "bin_end": 22862.15968087385,
            "count": 5
           },
           {
            "bin_start": 22862.15968087385,
            "bin_end": 23107.611287213538,
            "count": 2
           },
           {
            "bin_start": 23107.611287213538,
            "bin_end": 23353.062893553226,
            "count": 1
           },
           {
            "bin_start": 23353.062893553226,
            "bin_end": 23598.514499892914,
            "count": 0
           },
           {
            "bin_start": 23598.514499892914,
            "bin_end": 23843.966106232598,
            "count": 1
           },
           {
            "bin_start": 23843.966106232598,
            "bin_end": 24089.417712572285,
            "count": 0
           },
           {
            "bin_start": 24089.417712572285,
            "bin_end": 24334.869318911973,
            "count": 0
           },
           {
            "bin_start": 24334.869318911973,
            "bin_end": 24580.32092525166,
            "count": 0
           },
           {
            "bin_start": 24580.32092525166,
            "bin_end": 24825.77253159135,
            "count": 0
           },
           {
            "bin_start": 24825.77253159135,
            "bin_end": 25071.224137931036,
            "count": 1
           }
          ]
         }
        },
        {
         "name": "Load ID",
         "dtype": "float64",
         "stats": {
          "unique_count": 10,
          "nan_count": 0,
          "min": "204170.8425531915",
          "max": "586494.7612456747",
          "histogram": [
           {
            "bin_start": 204170.8425531915,
            "bin_end": 242403.23442243983,
            "count": 4
           },
           {
            "bin_start": 242403.23442243983,
            "bin_end": 280635.6262916881,
            "count": 0
           },
           {
            "bin_start": 280635.6262916881,
            "bin_end": 318868.0181609364,
            "count": 0
           },
           {
            "bin_start": 318868.0181609364,
            "bin_end": 357100.4100301848,
            "count": 1
           },
           {
            "bin_start": 357100.4100301848,
            "bin_end": 395332.80189943314,
            "count": 0
           },
           {
            "bin_start": 395332.80189943314,
            "bin_end": 433565.1937686814,
            "count": 1
           },
           {
            "bin_start": 433565.1937686814,
            "bin_end": 471797.58563792973,
            "count": 0
           },
           {
            "bin_start": 471797.58563792973,
            "bin_end": 510029.9775071781,
            "count": 0
           },
           {
            "bin_start": 510029.9775071781,
            "bin_end": 548262.3693764263,
            "count": 2
           },
           {
            "bin_start": 548262.3693764263,
            "bin_end": 586494.7612456747,
            "count": 2
           }
          ]
         }
        },
        {
         "name": "_deepnote_index_column",
         "dtype": "object"
        }
       ],
       "rows": [
        {
         "Load Weight": 25071.224137931036,
         "Load ID": 336364.3620689655,
         "_deepnote_index_column": "PH13"
        },
        {
         "Load Weight": 23821.53846153846,
         "Load ID": 210347.92735042734,
         "_deepnote_index_column": "PH82"
        },
        {
         "Load Weight": 23169.203354297693,
         "Load ID": 523027.35115303984,
         "_deepnote_index_column": "PH31"
        },
        {
         "Load Weight": 22988.760330578512,
         "Load ID": 209898.1652892562,
         "_deepnote_index_column": "PW80"
        },
        {
         "Load Weight": 22947.151119402984,
         "Load ID": 564826.2742537314,
         "_deepnote_index_column": "PW32"
        },
        {
         "Load Weight": 22861.67701863354,
         "Load ID": 415927.9860248447,
         "_deepnote_index_column": "PW33"
        },
        {
         "Load Weight": 22735.432525951557,
         "Load ID": 586494.7612456747,
         "_deepnote_index_column": "PH22"
        },
        {
         "Load Weight": 22699.514170040486,
         "Load ID": 210556.29554655871,
         "_deepnote_index_column": "PW82"
        },
        {
         "Load Weight": 22684.68085106383,
         "Load ID": 204170.8425531915,
         "_deepnote_index_column": "PW84"
        },
        {
         "Load Weight": 22616.708074534163,
         "Load ID": 528009.0714285715,
         "_deepnote_index_column": "PH32"
        }
       ]
      },
      "text/plain": "              Load Weight       Load ID\nRoute Number                           \nPH13         25071.224138 336364.362069\nPH82         23821.538462 210347.927350\nPH31         23169.203354 523027.351153\nPW80         22988.760331 209898.165289\nPW32         22947.151119 564826.274254\nPW33         22861.677019 415927.986025\nPH22         22735.432526 586494.761246\nPW82         22699.514170 210556.295547\nPW84         22684.680851 204170.842553\nPH32         22616.708075 528009.071429",
      "text/html": "<div>\n<style scoped>\n    .dataframe tbody tr th:only-of-type {\n        vertical-align: middle;\n    }\n\n    .dataframe tbody tr th {\n        vertical-align: top;\n    }\n\n    .dataframe thead th {\n        text-align: right;\n    }\n</style>\n<table border=\"1\" class=\"dataframe\">\n  <thead>\n    <tr style=\"text-align: right;\">\n      <th></th>\n      <th>Load Weight</th>\n      <th>Load ID</th>\n    </tr>\n    <tr>\n      <th>Route Number</th>\n      <th></th>\n      <th></th>\n    </tr>\n  </thead>\n  <tbody>\n    <tr>\n      <th>PH13</th>\n      <td>25071.224138</td>\n      <td>336364.362069</td>\n    </tr>\n    <tr>\n      <th>PH82</th>\n      <td>23821.538462</td>\n      <td>210347.927350</td>\n    </tr>\n    <tr>\n      <th>PH31</th>\n      <td>23169.203354</td>\n      <td>523027.351153</td>\n    </tr>\n    <tr>\n      <th>PW80</th>\n      <td>22988.760331</td>\n      <td>209898.165289</td>\n    </tr>\n    <tr>\n      <th>PW32</th>\n      <td>22947.151119</td>\n      <td>564826.274254</td>\n    </tr>\n    <tr>\n      <th>PW33</th>\n      <td>22861.677019</td>\n      <td>415927.986025</td>\n    </tr>\n    <tr>\n      <th>PH22</th>\n      <td>22735.432526</td>\n      <td>586494.761246</td>\n    </tr>\n    <tr>\n      <th>PW82</th>\n      <td>22699.514170</td>\n      <td>210556.295547</td>\n    </tr>\n    <tr>\n      <th>PW84</th>\n      <td>22684.680851</td>\n      <td>204170.842553</td>\n    </tr>\n    <tr>\n      <th>PH32</th>\n      <td>22616.708075</td>\n      <td>528009.071429</td>\n    </tr>\n  </tbody>\n</table>\n</div>"
     },
     "metadata": {}
    }
   ]
  },
  {
   "cell_type": "code",
   "metadata": {
    "scrolled": true,
    "cell_id": "00059-81cc17fd-73af-409b-88bf-75d08938fe7b",
    "deepnote_to_be_reexecuted": false,
    "source_hash": "da974264",
    "execution_start": 1648029703592,
    "execution_millis": 11,
    "deepnote_cell_type": "code",
    "deepnote_cell_height": 144.1875
   },
   "source": "TDS[\"Route Number\"].value_counts()",
   "execution_count": 39,
   "outputs": [
    {
     "output_type": "error",
     "ename": "NameError",
     "evalue": "name 'TDS' is not defined",
     "traceback": [
      "\u001b[0;31m---------------------------------------------------------------------------\u001b[0m",
      "\u001b[0;31mNameError\u001b[0m                                 Traceback (most recent call last)",
      "\u001b[0;32m<ipython-input-39-5e7a0b1dc9d3>\u001b[0m in \u001b[0;36m<module>\u001b[0;34m\u001b[0m\n\u001b[0;32m----> 1\u001b[0;31m \u001b[0mTDS\u001b[0m\u001b[0;34m[\u001b[0m\u001b[0;34m\"Route Number\"\u001b[0m\u001b[0;34m]\u001b[0m\u001b[0;34m.\u001b[0m\u001b[0mvalue_counts\u001b[0m\u001b[0;34m(\u001b[0m\u001b[0;34m)\u001b[0m\u001b[0;34m\u001b[0m\u001b[0;34m\u001b[0m\u001b[0m\n\u001b[0m",
      "\u001b[0;31mNameError\u001b[0m: name 'TDS' is not defined"
     ]
    }
   ]
  },
  {
   "cell_type": "markdown",
   "source": "**PW and PH refer to Garbase Collection usually going towards TDS LANDFILL**",
   "metadata": {
    "cell_id": "00060-940eb00d-83e9-4c0a-aa41-db520a5595fb",
    "deepnote_cell_type": "markdown",
    "deepnote_cell_height": 52.390625
   }
  },
  {
   "cell_type": "code",
   "metadata": {
    "scrolled": true,
    "cell_id": "00061-9c630204-e4dd-4008-b567-ee03625976e0",
    "deepnote_to_be_reexecuted": false,
    "source_hash": "b79763ce",
    "execution_start": 1648029742096,
    "execution_millis": 58,
    "deepnote_cell_type": "code",
    "deepnote_cell_height": 286.796875
   },
   "source": "data[data[\"Route Number\"] == \"PW84\"].head(2)",
   "execution_count": 40,
   "outputs": [
    {
     "output_type": "execute_result",
     "execution_count": 40,
     "data": {
      "application/vnd.deepnote.dataframe.v3+json": {
       "column_count": 8,
       "row_count": 2,
       "columns": [
        {
         "name": "Report Date",
         "dtype": "datetime64[ns]",
         "stats": {
          "unique_count": 2,
          "nan_count": 0,
          "min": "2005-07-13 00:00:00",
          "max": "2007-06-27 00:00:00",
          "histogram": [
           {
            "bin_start": 1121212800000000000,
            "bin_end": 1127381760000000000,
            "count": 1
           },
           {
            "bin_start": 1127381760000000000,
            "bin_end": 1133550720000000000,
            "count": 0
           },
           {
            "bin_start": 1133550720000000000,
            "bin_end": 1139719680000000000,
            "count": 0
           },
           {
            "bin_start": 1139719680000000000,
            "bin_end": 1145888640000000000,
            "count": 0
           },
           {
            "bin_start": 1145888640000000000,
            "bin_end": 1152057600000000000,
            "count": 0
           },
           {
            "bin_start": 1152057600000000000,
            "bin_end": 1158226560000000000,
            "count": 0
           },
           {
            "bin_start": 1158226560000000000,
            "bin_end": 1164395520000000000,
            "count": 0
           },
           {
            "bin_start": 1164395520000000000,
            "bin_end": 1170564480000000000,
            "count": 0
           },
           {
            "bin_start": 1170564480000000000,
            "bin_end": 1176733440000000000,
            "count": 0
           },
           {
            "bin_start": 1176733440000000000,
            "bin_end": 1182902400000000000,
            "count": 1
           }
          ]
         }
        },
        {
         "name": "Load Type",
         "dtype": "object",
         "stats": {
          "unique_count": 1,
          "nan_count": 0,
          "categories": [
           {
            "name": "GARBAGE COLLECTIONS",
            "count": 2
           }
          ]
         }
        },
        {
         "name": "Load Time",
         "dtype": "datetime64[ns]",
         "stats": {
          "unique_count": 2,
          "nan_count": 0,
          "min": "2005-07-13 12:13:00",
          "max": "2007-06-27 12:55:00",
          "histogram": [
           {
            "bin_start": 1121256780000000000,
            "bin_end": 1127425992000000000,
            "count": 1
           },
           {
            "bin_start": 1127425992000000000,
            "bin_end": 1133595204000000000,
            "count": 0
           },
           {
            "bin_start": 1133595204000000000,
            "bin_end": 1139764416000000000,
            "count": 0
           },
           {
            "bin_start": 1139764416000000000,
            "bin_end": 1145933628000000000,
            "count": 0
           },
           {
            "bin_start": 1145933628000000000,
            "bin_end": 1152102840000000000,
            "count": 0
           },
           {
            "bin_start": 1152102840000000000,
            "bin_end": 1158272052000000000,
            "count": 0
           },
           {
            "bin_start": 1158272052000000000,
            "bin_end": 1164441264000000000,
            "count": 0
           },
           {
            "bin_start": 1164441264000000000,
            "bin_end": 1170610476000000000,
            "count": 0
           },
           {
            "bin_start": 1170610476000000000,
            "bin_end": 1176779688000000000,
            "count": 0
           },
           {
            "bin_start": 1176779688000000000,
            "bin_end": 1182948900000000000,
            "count": 1
           }
          ]
         }
        },
        {
         "name": "Load Weight",
         "dtype": "float64",
         "stats": {
          "unique_count": 2,
          "nan_count": 0,
          "min": "25660.0",
          "max": "29260.0",
          "histogram": [
           {
            "bin_start": 25660,
            "bin_end": 26020,
            "count": 1
           },
           {
            "bin_start": 26020,
            "bin_end": 26380,
            "count": 0
           },
           {
            "bin_start": 26380,
            "bin_end": 26740,
            "count": 0
           },
           {
            "bin_start": 26740,
            "bin_end": 27100,
            "count": 0
           },
           {
            "bin_start": 27100,
            "bin_end": 27460,
            "count": 0
           },
           {
            "bin_start": 27460,
            "bin_end": 27820,
            "count": 0
           },
           {
            "bin_start": 27820,
            "bin_end": 28180,
            "count": 0
           },
           {
            "bin_start": 28180,
            "bin_end": 28540,
            "count": 0
           },
           {
            "bin_start": 28540,
            "bin_end": 28900,
            "count": 0
           },
           {
            "bin_start": 28900,
            "bin_end": 29260,
            "count": 1
           }
          ]
         }
        },
        {
         "name": "Dropoff Site",
         "dtype": "object",
         "stats": {
          "unique_count": 1,
          "nan_count": 0,
          "categories": [
           {
            "name": "TDS LANDFILL",
            "count": 2
           }
          ]
         }
        },
        {
         "name": "Route Type",
         "dtype": "object",
         "stats": {
          "unique_count": 1,
          "nan_count": 0,
          "categories": [
           {
            "name": "GARBAGE COLLECTION",
            "count": 2
           }
          ]
         }
        },
        {
         "name": "Route Number",
         "dtype": "object",
         "stats": {
          "unique_count": 1,
          "nan_count": 0,
          "categories": [
           {
            "name": "PW84",
            "count": 2
           }
          ]
         }
        },
        {
         "name": "Load ID",
         "dtype": "int64",
         "stats": {
          "unique_count": 2,
          "nan_count": 0,
          "min": "137240",
          "max": "232501",
          "histogram": [
           {
            "bin_start": 137240,
            "bin_end": 146766.1,
            "count": 1
           },
           {
            "bin_start": 146766.1,
            "bin_end": 156292.2,
            "count": 0
           },
           {
            "bin_start": 156292.2,
            "bin_end": 165818.3,
            "count": 0
           },
           {
            "bin_start": 165818.3,
            "bin_end": 175344.4,
            "count": 0
           },
           {
            "bin_start": 175344.4,
            "bin_end": 184870.5,
            "count": 0
           },
           {
            "bin_start": 184870.5,
            "bin_end": 194396.6,
            "count": 0
           },
           {
            "bin_start": 194396.6,
            "bin_end": 203922.7,
            "count": 0
           },
           {
            "bin_start": 203922.7,
            "bin_end": 213448.8,
            "count": 0
           },
           {
            "bin_start": 213448.8,
            "bin_end": 222974.90000000002,
            "count": 0
           },
           {
            "bin_start": 222974.90000000002,
            "bin_end": 232501,
            "count": 1
           }
          ]
         }
        },
        {
         "name": "_deepnote_index_column",
         "dtype": "int64"
        }
       ],
       "rows": [
        {
         "Report Date": "2007-06-27T00:00:00.000000",
         "Load Type": "GARBAGE COLLECTIONS",
         "Load Time": "2007-06-27T12:55:00.000000",
         "Load Weight": 29260,
         "Dropoff Site": "TDS LANDFILL",
         "Route Type": "GARBAGE COLLECTION",
         "Route Number": "PW84",
         "Load ID": 232501,
         "_deepnote_index_column": 5334
        },
        {
         "Report Date": "2005-07-13T00:00:00.000000",
         "Load Type": "GARBAGE COLLECTIONS",
         "Load Time": "2005-07-13T12:13:00.000000",
         "Load Weight": 25660,
         "Dropoff Site": "TDS LANDFILL",
         "Route Type": "GARBAGE COLLECTION",
         "Route Number": "PW84",
         "Load ID": 137240,
         "_deepnote_index_column": 9950
        }
       ]
      },
      "text/plain": "     Report Date            Load Type           Load Time  Load Weight  \\\n5334  2007-06-27  GARBAGE COLLECTIONS 2007-06-27 12:55:00 29260.000000   \n9950  2005-07-13  GARBAGE COLLECTIONS 2005-07-13 12:13:00 25660.000000   \n\n      Dropoff Site          Route Type Route Number  Load ID  \n5334  TDS LANDFILL  GARBAGE COLLECTION         PW84   232501  \n9950  TDS LANDFILL  GARBAGE COLLECTION         PW84   137240  ",
      "text/html": "<div>\n<style scoped>\n    .dataframe tbody tr th:only-of-type {\n        vertical-align: middle;\n    }\n\n    .dataframe tbody tr th {\n        vertical-align: top;\n    }\n\n    .dataframe thead th {\n        text-align: right;\n    }\n</style>\n<table border=\"1\" class=\"dataframe\">\n  <thead>\n    <tr style=\"text-align: right;\">\n      <th></th>\n      <th>Report Date</th>\n      <th>Load Type</th>\n      <th>Load Time</th>\n      <th>Load Weight</th>\n      <th>Dropoff Site</th>\n      <th>Route Type</th>\n      <th>Route Number</th>\n      <th>Load ID</th>\n    </tr>\n  </thead>\n  <tbody>\n    <tr>\n      <th>5334</th>\n      <td>2007-06-27</td>\n      <td>GARBAGE COLLECTIONS</td>\n      <td>2007-06-27 12:55:00</td>\n      <td>29260.000000</td>\n      <td>TDS LANDFILL</td>\n      <td>GARBAGE COLLECTION</td>\n      <td>PW84</td>\n      <td>232501</td>\n    </tr>\n    <tr>\n      <th>9950</th>\n      <td>2005-07-13</td>\n      <td>GARBAGE COLLECTIONS</td>\n      <td>2005-07-13 12:13:00</td>\n      <td>25660.000000</td>\n      <td>TDS LANDFILL</td>\n      <td>GARBAGE COLLECTION</td>\n      <td>PW84</td>\n      <td>137240</td>\n    </tr>\n  </tbody>\n</table>\n</div>"
     },
     "metadata": {}
    }
   ]
  },
  {
   "cell_type": "code",
   "metadata": {
    "scrolled": true,
    "cell_id": "00062-b7472135-ac86-4eed-b0b1-55c1c8d4ad57",
    "deepnote_to_be_reexecuted": false,
    "source_hash": "f849c64e",
    "execution_start": 1648029744135,
    "execution_millis": 70,
    "deepnote_cell_type": "code",
    "deepnote_cell_height": 286.796875
   },
   "source": "data[data[\"Route Number\"] == \"PH13\"].head(2)",
   "execution_count": 41,
   "outputs": [
    {
     "output_type": "execute_result",
     "execution_count": 41,
     "data": {
      "application/vnd.deepnote.dataframe.v3+json": {
       "column_count": 8,
       "row_count": 2,
       "columns": [
        {
         "name": "Report Date",
         "dtype": "datetime64[ns]",
         "stats": {
          "unique_count": 2,
          "nan_count": 0,
          "min": "2008-01-10 00:00:00",
          "max": "2020-12-10 00:00:00",
          "histogram": [
           {
            "bin_start": 1199923200000000000,
            "bin_end": 1240686720000000000,
            "count": 1
           },
           {
            "bin_start": 1240686720000000000,
            "bin_end": 1281450240000000000,
            "count": 0
           },
           {
            "bin_start": 1281450240000000000,
            "bin_end": 1322213760000000000,
            "count": 0
           },
           {
            "bin_start": 1322213760000000000,
            "bin_end": 1362977280000000000,
            "count": 0
           },
           {
            "bin_start": 1362977280000000000,
            "bin_end": 1403740800000000000,
            "count": 0
           },
           {
            "bin_start": 1403740800000000000,
            "bin_end": 1444504320000000000,
            "count": 0
           },
           {
            "bin_start": 1444504320000000000,
            "bin_end": 1485267840000000000,
            "count": 0
           },
           {
            "bin_start": 1485267840000000000,
            "bin_end": 1526031360000000000,
            "count": 0
           },
           {
            "bin_start": 1526031360000000000,
            "bin_end": 1566794880000000000,
            "count": 0
           },
           {
            "bin_start": 1566794880000000000,
            "bin_end": 1607558400000000000,
            "count": 1
           }
          ]
         }
        },
        {
         "name": "Load Type",
         "dtype": "object",
         "stats": {
          "unique_count": 1,
          "nan_count": 0,
          "categories": [
           {
            "name": "GARBAGE COLLECTIONS",
            "count": 2
           }
          ]
         }
        },
        {
         "name": "Load Time",
         "dtype": "datetime64[ns]",
         "stats": {
          "unique_count": 2,
          "nan_count": 0,
          "min": "2008-01-10 12:15:00",
          "max": "2020-12-10 13:08:00",
          "histogram": [
           {
            "bin_start": 1199967300000000000,
            "bin_end": 1240731138000000000,
            "count": 1
           },
           {
            "bin_start": 1240731138000000000,
            "bin_end": 1281494976000000000,
            "count": 0
           },
           {
            "bin_start": 1281494976000000000,
            "bin_end": 1322258814000000000,
            "count": 0
           },
           {
            "bin_start": 1322258814000000000,
            "bin_end": 1363022652000000000,
            "count": 0
           },
           {
            "bin_start": 1363022652000000000,
            "bin_end": 1403786490000000000,
            "count": 0
           },
           {
            "bin_start": 1403786490000000000,
            "bin_end": 1444550328000000000,
            "count": 0
           },
           {
            "bin_start": 1444550328000000000,
            "bin_end": 1485314166000000000,
            "count": 0
           },
           {
            "bin_start": 1485314166000000000,
            "bin_end": 1526078004000000000,
            "count": 0
           },
           {
            "bin_start": 1526078004000000000,
            "bin_end": 1566841842000000000,
            "count": 0
           },
           {
            "bin_start": 1566841842000000000,
            "bin_end": 1607605680000000000,
            "count": 1
           }
          ]
         }
        },
        {
         "name": "Load Weight",
         "dtype": "float64",
         "stats": {
          "unique_count": 2,
          "nan_count": 0,
          "min": "7060.0",
          "max": "19380.0",
          "histogram": [
           {
            "bin_start": 7060,
            "bin_end": 8292,
            "count": 1
           },
           {
            "bin_start": 8292,
            "bin_end": 9524,
            "count": 0
           },
           {
            "bin_start": 9524,
            "bin_end": 10756,
            "count": 0
           },
           {
            "bin_start": 10756,
            "bin_end": 11988,
            "count": 0
           },
           {
            "bin_start": 11988,
            "bin_end": 13220,
            "count": 0
           },
           {
            "bin_start": 13220,
            "bin_end": 14452,
            "count": 0
           },
           {
            "bin_start": 14452,
            "bin_end": 15684,
            "count": 0
           },
           {
            "bin_start": 15684,
            "bin_end": 16916,
            "count": 0
           },
           {
            "bin_start": 16916,
            "bin_end": 18148,
            "count": 0
           },
           {
            "bin_start": 18148,
            "bin_end": 19380,
            "count": 1
           }
          ]
         }
        },
        {
         "name": "Dropoff Site",
         "dtype": "object",
         "stats": {
          "unique_count": 1,
          "nan_count": 0,
          "categories": [
           {
            "name": "TDS LANDFILL",
            "count": 2
           }
          ]
         }
        },
        {
         "name": "Route Type",
         "dtype": "object",
         "stats": {
          "unique_count": 1,
          "nan_count": 0,
          "categories": [
           {
            "name": "GARBAGE COLLECTION",
            "count": 2
           }
          ]
         }
        },
        {
         "name": "Route Number",
         "dtype": "object",
         "stats": {
          "unique_count": 1,
          "nan_count": 0,
          "categories": [
           {
            "name": "PH13",
            "count": 2
           }
          ]
         }
        },
        {
         "name": "Load ID",
         "dtype": "int64",
         "stats": {
          "unique_count": 2,
          "nan_count": 0,
          "min": "260202",
          "max": "899666",
          "histogram": [
           {
            "bin_start": 260202,
            "bin_end": 324148.4,
            "count": 1
           },
           {
            "bin_start": 324148.4,
            "bin_end": 388094.8,
            "count": 0
           },
           {
            "bin_start": 388094.8,
            "bin_end": 452041.2,
            "count": 0
           },
           {
            "bin_start": 452041.2,
            "bin_end": 515987.6,
            "count": 0
           },
           {
            "bin_start": 515987.6,
            "bin_end": 579934,
            "count": 0
           },
           {
            "bin_start": 579934,
            "bin_end": 643880.4,
            "count": 0
           },
           {
            "bin_start": 643880.4,
            "bin_end": 707826.8,
            "count": 0
           },
           {
            "bin_start": 707826.8,
            "bin_end": 771773.2,
            "count": 0
           },
           {
            "bin_start": 771773.2,
            "bin_end": 835719.6,
            "count": 0
           },
           {
            "bin_start": 835719.6,
            "bin_end": 899666,
            "count": 1
           }
          ]
         }
        },
        {
         "name": "_deepnote_index_column",
         "dtype": "int64"
        }
       ],
       "rows": [
        {
         "Report Date": "2020-12-10T00:00:00.000000",
         "Load Type": "GARBAGE COLLECTIONS",
         "Load Time": "2020-12-10T13:08:00.000000",
         "Load Weight": 19380,
         "Dropoff Site": "TDS LANDFILL",
         "Route Type": "GARBAGE COLLECTION",
         "Route Number": "PH13",
         "Load ID": 899666,
         "_deepnote_index_column": 794
        },
        {
         "Report Date": "2008-01-10T00:00:00.000000",
         "Load Type": "GARBAGE COLLECTIONS",
         "Load Time": "2008-01-10T12:15:00.000000",
         "Load Weight": 7060,
         "Dropoff Site": "TDS LANDFILL",
         "Route Type": "GARBAGE COLLECTION",
         "Route Number": "PH13",
         "Load ID": 260202,
         "_deepnote_index_column": 2918
        }
       ]
      },
      "text/plain": "     Report Date            Load Type           Load Time  Load Weight  \\\n794   2020-12-10  GARBAGE COLLECTIONS 2020-12-10 13:08:00 19380.000000   \n2918  2008-01-10  GARBAGE COLLECTIONS 2008-01-10 12:15:00  7060.000000   \n\n      Dropoff Site          Route Type Route Number  Load ID  \n794   TDS LANDFILL  GARBAGE COLLECTION         PH13   899666  \n2918  TDS LANDFILL  GARBAGE COLLECTION         PH13   260202  ",
      "text/html": "<div>\n<style scoped>\n    .dataframe tbody tr th:only-of-type {\n        vertical-align: middle;\n    }\n\n    .dataframe tbody tr th {\n        vertical-align: top;\n    }\n\n    .dataframe thead th {\n        text-align: right;\n    }\n</style>\n<table border=\"1\" class=\"dataframe\">\n  <thead>\n    <tr style=\"text-align: right;\">\n      <th></th>\n      <th>Report Date</th>\n      <th>Load Type</th>\n      <th>Load Time</th>\n      <th>Load Weight</th>\n      <th>Dropoff Site</th>\n      <th>Route Type</th>\n      <th>Route Number</th>\n      <th>Load ID</th>\n    </tr>\n  </thead>\n  <tbody>\n    <tr>\n      <th>794</th>\n      <td>2020-12-10</td>\n      <td>GARBAGE COLLECTIONS</td>\n      <td>2020-12-10 13:08:00</td>\n      <td>19380.000000</td>\n      <td>TDS LANDFILL</td>\n      <td>GARBAGE COLLECTION</td>\n      <td>PH13</td>\n      <td>899666</td>\n    </tr>\n    <tr>\n      <th>2918</th>\n      <td>2008-01-10</td>\n      <td>GARBAGE COLLECTIONS</td>\n      <td>2008-01-10 12:15:00</td>\n      <td>7060.000000</td>\n      <td>TDS LANDFILL</td>\n      <td>GARBAGE COLLECTION</td>\n      <td>PH13</td>\n      <td>260202</td>\n    </tr>\n  </tbody>\n</table>\n</div>"
     },
     "metadata": {}
    }
   ]
  },
  {
   "cell_type": "markdown",
   "source": "An alternative here would be to look into **only 2021 data for route numbers**. This is because routes are more likely to change on an annual basis. More so than Dropoff Site or Categories.",
   "metadata": {
    "cell_id": "00063-321cd4b1-0ad2-4d31-9360-7111d5a33969",
    "deepnote_cell_type": "markdown",
    "deepnote_cell_height": 74.796875
   }
  },
  {
   "cell_type": "code",
   "metadata": {
    "cell_id": "00064-65911756-dba8-4de2-90e8-95c9dd918f0f",
    "deepnote_to_be_reexecuted": false,
    "source_hash": "b6c25552",
    "execution_start": 1648029749437,
    "execution_millis": 143,
    "deepnote_cell_type": "code",
    "deepnote_cell_height": 445.796875
   },
   "source": "# Checking for 2021 in particular since route types likely to change over the years\ndata2021 = data[pd.DatetimeIndex(data[\"Load Time\"]).year == 2021] \ndata2021.head()",
   "execution_count": 42,
   "outputs": [
    {
     "output_type": "execute_result",
     "execution_count": 42,
     "data": {
      "application/vnd.deepnote.dataframe.v3+json": {
       "column_count": 8,
       "row_count": 5,
       "columns": [
        {
         "name": "Report Date",
         "dtype": "datetime64[ns]",
         "stats": {
          "unique_count": 2,
          "nan_count": 0,
          "min": "2021-01-02 00:00:00",
          "max": "2021-01-04 00:00:00",
          "histogram": [
           {
            "bin_start": 1609545600000000000,
            "bin_end": 1609562880000000000,
            "count": 1
           },
           {
            "bin_start": 1609562880000000000,
            "bin_end": 1609580160000000000,
            "count": 0
           },
           {
            "bin_start": 1609580160000000000,
            "bin_end": 1609597440000000000,
            "count": 0
           },
           {
            "bin_start": 1609597440000000000,
            "bin_end": 1609614720000000000,
            "count": 0
           },
           {
            "bin_start": 1609614720000000000,
            "bin_end": 1609632000000000000,
            "count": 0
           },
           {
            "bin_start": 1609632000000000000,
            "bin_end": 1609649280000000000,
            "count": 0
           },
           {
            "bin_start": 1609649280000000000,
            "bin_end": 1609666560000000000,
            "count": 0
           },
           {
            "bin_start": 1609666560000000000,
            "bin_end": 1609683840000000000,
            "count": 0
           },
           {
            "bin_start": 1609683840000000000,
            "bin_end": 1609701120000000000,
            "count": 0
           },
           {
            "bin_start": 1609701120000000000,
            "bin_end": 1609718400000000000,
            "count": 4
           }
          ]
         }
        },
        {
         "name": "Load Type",
         "dtype": "object",
         "stats": {
          "unique_count": 4,
          "nan_count": 0,
          "categories": [
           {
            "name": "YARD TRIMMING",
            "count": 2
           },
           {
            "name": "ORGANICS",
            "count": 1
           },
           {
            "name": "2 others",
            "count": 2
           }
          ]
         }
        },
        {
         "name": "Load Time",
         "dtype": "datetime64[ns]",
         "stats": {
          "unique_count": 5,
          "nan_count": 0,
          "min": "2021-01-02 10:26:00",
          "max": "2021-01-04 19:15:00",
          "histogram": [
           {
            "bin_start": 1609583160000000000,
            "bin_end": 1609603614000000000,
            "count": 1
           },
           {
            "bin_start": 1609603614000000000,
            "bin_end": 1609624068000000000,
            "count": 0
           },
           {
            "bin_start": 1609624068000000000,
            "bin_end": 1609644522000000000,
            "count": 0
           },
           {
            "bin_start": 1609644522000000000,
            "bin_end": 1609664976000000000,
            "count": 0
           },
           {
            "bin_start": 1609664976000000000,
            "bin_end": 1609685430000000000,
            "count": 0
           },
           {
            "bin_start": 1609685430000000000,
            "bin_end": 1609705884000000000,
            "count": 0
           },
           {
            "bin_start": 1609705884000000000,
            "bin_end": 1609726338000000000,
            "count": 0
           },
           {
            "bin_start": 1609726338000000000,
            "bin_end": 1609746792000000000,
            "count": 0
           },
           {
            "bin_start": 1609746792000000000,
            "bin_end": 1609767246000000000,
            "count": 1
           },
           {
            "bin_start": 1609767246000000000,
            "bin_end": 1609787700000000000,
            "count": 3
           }
          ]
         }
        },
        {
         "name": "Load Weight",
         "dtype": "float64",
         "stats": {
          "unique_count": 5,
          "nan_count": 0,
          "min": "3640.0",
          "max": "22120.0",
          "histogram": [
           {
            "bin_start": 3640,
            "bin_end": 5488,
            "count": 2
           },
           {
            "bin_start": 5488,
            "bin_end": 7336,
            "count": 0
           },
           {
            "bin_start": 7336,
            "bin_end": 9184,
            "count": 0
           },
           {
            "bin_start": 9184,
            "bin_end": 11032,
            "count": 0
           },
           {
            "bin_start": 11032,
            "bin_end": 12880,
            "count": 1
           },
           {
            "bin_start": 12880,
            "bin_end": 14728,
            "count": 0
           },
           {
            "bin_start": 14728,
            "bin_end": 16576,
            "count": 1
           },
           {
            "bin_start": 16576,
            "bin_end": 18424,
            "count": 0
           },
           {
            "bin_start": 18424,
            "bin_end": 20272,
            "count": 0
           },
           {
            "bin_start": 20272,
            "bin_end": 22120,
            "count": 1
           }
          ]
         }
        },
        {
         "name": "Dropoff Site",
         "dtype": "object",
         "stats": {
          "unique_count": 3,
          "nan_count": 0,
          "categories": [
           {
            "name": "HORNSBY BEND",
            "count": 3
           },
           {
            "name": "ORGANICS BY GOSH",
            "count": 1
           },
           {
            "name": "TDS LANDFILL",
            "count": 1
           }
          ]
         }
        },
        {
         "name": "Route Type",
         "dtype": "object",
         "stats": {
          "unique_count": 4,
          "nan_count": 0,
          "categories": [
           {
            "name": "YARD TRIMMINGS",
            "count": 2
           },
           {
            "name": "YARD TRIMMINGS-ORGANICS",
            "count": 1
           },
           {
            "name": "2 others",
            "count": 2
           }
          ]
         }
        },
        {
         "name": "Route Number",
         "dtype": "object",
         "stats": {
          "unique_count": 5,
          "nan_count": 0,
          "categories": [
           {
            "name": "OF12",
            "count": 1
           },
           {
            "name": "PAM70",
            "count": 1
           },
           {
            "name": "3 others",
            "count": 3
           }
          ]
         }
        },
        {
         "name": "Load ID",
         "dtype": "int64",
         "stats": {
          "unique_count": 5,
          "nan_count": 0,
          "min": "902139",
          "max": "902199",
          "histogram": [
           {
            "bin_start": 902139,
            "bin_end": 902145,
            "count": 1
           },
           {
            "bin_start": 902145,
            "bin_end": 902151,
            "count": 0
           },
           {
            "bin_start": 902151,
            "bin_end": 902157,
            "count": 0
           },
           {
            "bin_start": 902157,
            "bin_end": 902163,
            "count": 0
           },
           {
            "bin_start": 902163,
            "bin_end": 902169,
            "count": 0
           },
           {
            "bin_start": 902169,
            "bin_end": 902175,
            "count": 1
           },
           {
            "bin_start": 902175,
            "bin_end": 902181,
            "count": 0
           },
           {
            "bin_start": 902181,
            "bin_end": 902187,
            "count": 1
           },
           {
            "bin_start": 902187,
            "bin_end": 902193,
            "count": 0
           },
           {
            "bin_start": 902193,
            "bin_end": 902199,
            "count": 2
           }
          ]
         }
        },
        {
         "name": "_deepnote_index_column",
         "dtype": "int64"
        }
       ],
       "rows": [
        {
         "Report Date": "2021-01-02T00:00:00.000000",
         "Load Type": "ORGANICS",
         "Load Time": "2021-01-02T10:26:00.000000",
         "Load Weight": 22120,
         "Dropoff Site": "ORGANICS BY GOSH",
         "Route Type": "YARD TRIMMINGS-ORGANICS",
         "Route Number": "OF12",
         "Load ID": 902139,
         "_deepnote_index_column": 713883
        },
        {
         "Report Date": "2021-01-04T00:00:00.000000",
         "Load Type": "GARBAGE COLLECTIONS",
         "Load Time": "2021-01-04T19:15:00.000000",
         "Load Weight": 3640,
         "Dropoff Site": "TDS LANDFILL",
         "Route Type": "GARBAGE COLLECTION",
         "Route Number": "PAM70",
         "Load ID": 902199,
         "_deepnote_index_column": 713884
        },
        {
         "Report Date": "2021-01-04T00:00:00.000000",
         "Load Type": "BRUSH",
         "Load Time": "2021-01-04T15:13:00.000000",
         "Load Weight": 3700,
         "Dropoff Site": "HORNSBY BEND",
         "Route Type": "BRUSH",
         "Route Number": "BR21",
         "Load ID": 902172,
         "_deepnote_index_column": 713887
        },
        {
         "Report Date": "2021-01-04T00:00:00.000000",
         "Load Type": "YARD TRIMMING",
         "Load Time": "2021-01-04T13:12:00.000000",
         "Load Weight": 11060,
         "Dropoff Site": "HORNSBY BEND",
         "Route Type": "YARD TRIMMINGS",
         "Route Number": "YM04",
         "Load ID": 902194,
         "_deepnote_index_column": 713889
        },
        {
         "Report Date": "2021-01-04T00:00:00.000000",
         "Load Type": "YARD TRIMMING",
         "Load Time": "2021-01-04T16:55:00.000000",
         "Load Weight": 15980,
         "Dropoff Site": "HORNSBY BEND",
         "Route Type": "YARD TRIMMINGS",
         "Route Number": "YM03",
         "Load ID": 902182,
         "_deepnote_index_column": 713892
        }
       ]
      },
      "text/plain": "       Report Date            Load Type           Load Time  Load Weight  \\\n713883  2021-01-02             ORGANICS 2021-01-02 10:26:00 22120.000000   \n713884  2021-01-04  GARBAGE COLLECTIONS 2021-01-04 19:15:00  3640.000000   \n713887  2021-01-04                BRUSH 2021-01-04 15:13:00  3700.000000   \n713889  2021-01-04        YARD TRIMMING 2021-01-04 13:12:00 11060.000000   \n713892  2021-01-04        YARD TRIMMING 2021-01-04 16:55:00 15980.000000   \n\n            Dropoff Site               Route Type Route Number  Load ID  \n713883  ORGANICS BY GOSH  YARD TRIMMINGS-ORGANICS         OF12   902139  \n713884      TDS LANDFILL       GARBAGE COLLECTION        PAM70   902199  \n713887      HORNSBY BEND                    BRUSH         BR21   902172  \n713889      HORNSBY BEND           YARD TRIMMINGS         YM04   902194  \n713892      HORNSBY BEND           YARD TRIMMINGS         YM03   902182  ",
      "text/html": "<div>\n<style scoped>\n    .dataframe tbody tr th:only-of-type {\n        vertical-align: middle;\n    }\n\n    .dataframe tbody tr th {\n        vertical-align: top;\n    }\n\n    .dataframe thead th {\n        text-align: right;\n    }\n</style>\n<table border=\"1\" class=\"dataframe\">\n  <thead>\n    <tr style=\"text-align: right;\">\n      <th></th>\n      <th>Report Date</th>\n      <th>Load Type</th>\n      <th>Load Time</th>\n      <th>Load Weight</th>\n      <th>Dropoff Site</th>\n      <th>Route Type</th>\n      <th>Route Number</th>\n      <th>Load ID</th>\n    </tr>\n  </thead>\n  <tbody>\n    <tr>\n      <th>713883</th>\n      <td>2021-01-02</td>\n      <td>ORGANICS</td>\n      <td>2021-01-02 10:26:00</td>\n      <td>22120.000000</td>\n      <td>ORGANICS BY GOSH</td>\n      <td>YARD TRIMMINGS-ORGANICS</td>\n      <td>OF12</td>\n      <td>902139</td>\n    </tr>\n    <tr>\n      <th>713884</th>\n      <td>2021-01-04</td>\n      <td>GARBAGE COLLECTIONS</td>\n      <td>2021-01-04 19:15:00</td>\n      <td>3640.000000</td>\n      <td>TDS LANDFILL</td>\n      <td>GARBAGE COLLECTION</td>\n      <td>PAM70</td>\n      <td>902199</td>\n    </tr>\n    <tr>\n      <th>713887</th>\n      <td>2021-01-04</td>\n      <td>BRUSH</td>\n      <td>2021-01-04 15:13:00</td>\n      <td>3700.000000</td>\n      <td>HORNSBY BEND</td>\n      <td>BRUSH</td>\n      <td>BR21</td>\n      <td>902172</td>\n    </tr>\n    <tr>\n      <th>713889</th>\n      <td>2021-01-04</td>\n      <td>YARD TRIMMING</td>\n      <td>2021-01-04 13:12:00</td>\n      <td>11060.000000</td>\n      <td>HORNSBY BEND</td>\n      <td>YARD TRIMMINGS</td>\n      <td>YM04</td>\n      <td>902194</td>\n    </tr>\n    <tr>\n      <th>713892</th>\n      <td>2021-01-04</td>\n      <td>YARD TRIMMING</td>\n      <td>2021-01-04 16:55:00</td>\n      <td>15980.000000</td>\n      <td>HORNSBY BEND</td>\n      <td>YARD TRIMMINGS</td>\n      <td>YM03</td>\n      <td>902182</td>\n    </tr>\n  </tbody>\n</table>\n</div>"
     },
     "metadata": {}
    }
   ]
  },
  {
   "cell_type": "code",
   "metadata": {
    "cell_id": "00065-cd29defc-c745-4556-b731-54706827a774",
    "deepnote_to_be_reexecuted": false,
    "source_hash": "f66b3965",
    "execution_start": 1648029753555,
    "execution_millis": 4,
    "deepnote_cell_type": "code",
    "deepnote_cell_height": 411
   },
   "source": "# top routes in terms of load weight \ndata2021.groupby([\"Route Number\"]).sum().sort_values(by=\"Load Weight\", ascending=False).head()",
   "execution_count": 43,
   "outputs": [
    {
     "output_type": "execute_result",
     "execution_count": 43,
     "data": {
      "application/vnd.deepnote.dataframe.v3+json": {
       "column_count": 2,
       "row_count": 5,
       "columns": [
        {
         "name": "Load Weight",
         "dtype": "float64",
         "stats": {
          "unique_count": 5,
          "nan_count": 0,
          "min": "1160720.0",
          "max": "3286420.0",
          "histogram": [
           {
            "bin_start": 1160720,
            "bin_end": 1373290,
            "count": 4
           },
           {
            "bin_start": 1373290,
            "bin_end": 1585860,
            "count": 0
           },
           {
            "bin_start": 1585860,
            "bin_end": 1798430,
            "count": 0
           },
           {
            "bin_start": 1798430,
            "bin_end": 2011000,
            "count": 0
           },
           {
            "bin_start": 2011000,
            "bin_end": 2223570,
            "count": 0
           },
           {
            "bin_start": 2223570,
            "bin_end": 2436140,
            "count": 0
           },
           {
            "bin_start": 2436140,
            "bin_end": 2648710,
            "count": 0
           },
           {
            "bin_start": 2648710,
            "bin_end": 2861280,
            "count": 0
           },
           {
            "bin_start": 2861280,
            "bin_end": 3073850,
            "count": 0
           },
           {
            "bin_start": 3073850,
            "bin_end": 3286420,
            "count": 1
           }
          ]
         }
        },
        {
         "name": "Load ID",
         "dtype": "int64",
         "stats": {
          "unique_count": 5,
          "nan_count": 0,
          "min": "48503637",
          "max": "291250978",
          "histogram": [
           {
            "bin_start": 48503637,
            "bin_end": 72778371.1,
            "count": 4
           },
           {
            "bin_start": 72778371.1,
            "bin_end": 97053105.2,
            "count": 0
           },
           {
            "bin_start": 97053105.2,
            "bin_end": 121327839.30000001,
            "count": 0
           },
           {
            "bin_start": 121327839.30000001,
            "bin_end": 145602573.4,
            "count": 0
           },
           {
            "bin_start": 145602573.4,
            "bin_end": 169877307.5,
            "count": 0
           },
           {
            "bin_start": 169877307.5,
            "bin_end": 194152041.60000002,
            "count": 0
           },
           {
            "bin_start": 194152041.60000002,
            "bin_end": 218426775.70000002,
            "count": 0
           },
           {
            "bin_start": 218426775.70000002,
            "bin_end": 242701509.8,
            "count": 0
           },
           {
            "bin_start": 242701509.8,
            "bin_end": 266976243.9,
            "count": 0
           },
           {
            "bin_start": 266976243.9,
            "bin_end": 291250978,
            "count": 1
           }
          ]
         }
        },
        {
         "name": "_deepnote_index_column",
         "dtype": "object"
        }
       ],
       "rows": [
        {
         "Load Weight": 3286420,
         "Load ID": 291250978,
         "_deepnote_index_column": "DSS04"
        },
        {
         "Load Weight": 1283457,
         "Load ID": 59535696,
         "_deepnote_index_column": "PW41"
        },
        {
         "Load Weight": 1174520,
         "Load ID": 49415523,
         "_deepnote_index_column": "PAM72"
        },
        {
         "Load Weight": 1164080,
         "Load ID": 49411055,
         "_deepnote_index_column": "PAM70"
        },
        {
         "Load Weight": 1160720,
         "Load ID": 48503637,
         "_deepnote_index_column": "PAM03"
        }
       ]
      },
      "text/plain": "                Load Weight    Load ID\nRoute Number                          \nDSS04        3286420.000000  291250978\nPW41         1283457.000000   59535696\nPAM72        1174520.000000   49415523\nPAM70        1164080.000000   49411055\nPAM03        1160720.000000   48503637",
      "text/html": "<div>\n<style scoped>\n    .dataframe tbody tr th:only-of-type {\n        vertical-align: middle;\n    }\n\n    .dataframe tbody tr th {\n        vertical-align: top;\n    }\n\n    .dataframe thead th {\n        text-align: right;\n    }\n</style>\n<table border=\"1\" class=\"dataframe\">\n  <thead>\n    <tr style=\"text-align: right;\">\n      <th></th>\n      <th>Load Weight</th>\n      <th>Load ID</th>\n    </tr>\n    <tr>\n      <th>Route Number</th>\n      <th></th>\n      <th></th>\n    </tr>\n  </thead>\n  <tbody>\n    <tr>\n      <th>DSS04</th>\n      <td>3286420.000000</td>\n      <td>291250978</td>\n    </tr>\n    <tr>\n      <th>PW41</th>\n      <td>1283457.000000</td>\n      <td>59535696</td>\n    </tr>\n    <tr>\n      <th>PAM72</th>\n      <td>1174520.000000</td>\n      <td>49415523</td>\n    </tr>\n    <tr>\n      <th>PAM70</th>\n      <td>1164080.000000</td>\n      <td>49411055</td>\n    </tr>\n    <tr>\n      <th>PAM03</th>\n      <td>1160720.000000</td>\n      <td>48503637</td>\n    </tr>\n  </tbody>\n</table>\n</div>"
     },
     "metadata": {}
    }
   ]
  },
  {
   "cell_type": "code",
   "metadata": {
    "cell_id": "00066-4dec7f7b-3c45-4622-be7a-29e13c92ddab",
    "deepnote_to_be_reexecuted": false,
    "source_hash": "da1b9105",
    "execution_start": 1648029753663,
    "execution_millis": 35,
    "deepnote_cell_type": "code",
    "deepnote_cell_height": 411
   },
   "source": "# top routes in terms of average load weight \ndata2021.groupby([\"Route Number\"]).mean().sort_values(by=\"Load Weight\", ascending=False).head()",
   "execution_count": 44,
   "outputs": [
    {
     "output_type": "execute_result",
     "execution_count": 44,
     "data": {
      "application/vnd.deepnote.dataframe.v3+json": {
       "column_count": 2,
       "row_count": 5,
       "columns": [
        {
         "name": "Load Weight",
         "dtype": "float64",
         "stats": {
          "unique_count": 5,
          "nan_count": 0,
          "min": "24348.275862068964",
          "max": "31302.962962962964",
          "histogram": [
           {
            "bin_start": 24348.275862068964,
            "bin_end": 25043.744572158364,
            "count": 3
           },
           {
            "bin_start": 25043.744572158364,
            "bin_end": 25739.213282247765,
            "count": 1
           },
           {
            "bin_start": 25739.213282247765,
            "bin_end": 26434.681992337166,
            "count": 0
           },
           {
            "bin_start": 26434.681992337166,
            "bin_end": 27130.150702426563,
            "count": 0
           },
           {
            "bin_start": 27130.150702426563,
            "bin_end": 27825.619412515964,
            "count": 0
           },
           {
            "bin_start": 27825.619412515964,
            "bin_end": 28521.088122605364,
            "count": 0
           },
           {
            "bin_start": 28521.088122605364,
            "bin_end": 29216.556832694765,
            "count": 0
           },
           {
            "bin_start": 29216.556832694765,
            "bin_end": 29912.025542784162,
            "count": 0
           },
           {
            "bin_start": 29912.025542784162,
            "bin_end": 30607.494252873563,
            "count": 0
           },
           {
            "bin_start": 30607.494252873563,
            "bin_end": 31302.962962962964,
            "count": 1
           }
          ]
         }
        },
        {
         "name": "Load ID",
         "dtype": "float64",
         "stats": {
          "unique_count": 5,
          "nan_count": 0,
          "min": "905629.0",
          "max": "916469.3783783783",
          "histogram": [
           {
            "bin_start": 905629,
            "bin_end": 906713.0378378378,
            "count": 1
           },
           {
            "bin_start": 906713.0378378378,
            "bin_end": 907797.0756756756,
            "count": 0
           },
           {
            "bin_start": 907797.0756756756,
            "bin_end": 908881.1135135135,
            "count": 0
           },
           {
            "bin_start": 908881.1135135135,
            "bin_end": 909965.1513513513,
            "count": 0
           },
           {
            "bin_start": 909965.1513513513,
            "bin_end": 911049.1891891891,
            "count": 0
           },
           {
            "bin_start": 911049.1891891891,
            "bin_end": 912133.227027027,
            "count": 0
           },
           {
            "bin_start": 912133.227027027,
            "bin_end": 913217.2648648649,
            "count": 0
           },
           {
            "bin_start": 913217.2648648649,
            "bin_end": 914301.3027027027,
            "count": 0
           },
           {
            "bin_start": 914301.3027027027,
            "bin_end": 915385.3405405405,
            "count": 1
           },
           {
            "bin_start": 915385.3405405405,
            "bin_end": 916469.3783783783,
            "count": 3
           }
          ]
         }
        },
        {
         "name": "_deepnote_index_column",
         "dtype": "object"
        }
       ],
       "rows": [
        {
         "Load Weight": 31302.962962962964,
         "Load ID": 915957.5185185185,
         "_deepnote_index_column": "PH10"
        },
        {
         "Load Weight": 25547.727272727272,
         "Load ID": 915710.9772727273,
         "_deepnote_index_column": "PM40"
        },
        {
         "Load Weight": 24909.18918918919,
         "Load ID": 916469.3783783783,
         "_deepnote_index_column": "PT41"
        },
        {
         "Load Weight": 24900,
         "Load ID": 905629,
         "_deepnote_index_column": "PAW75"
        },
        {
         "Load Weight": 24348.275862068964,
         "Load ID": 915365.7931034482,
         "_deepnote_index_column": "PT11"
        }
       ]
      },
      "text/plain": "              Load Weight       Load ID\nRoute Number                           \nPH10         31302.962963 915957.518519\nPM40         25547.727273 915710.977273\nPT41         24909.189189 916469.378378\nPAW75        24900.000000 905629.000000\nPT11         24348.275862 915365.793103",
      "text/html": "<div>\n<style scoped>\n    .dataframe tbody tr th:only-of-type {\n        vertical-align: middle;\n    }\n\n    .dataframe tbody tr th {\n        vertical-align: top;\n    }\n\n    .dataframe thead th {\n        text-align: right;\n    }\n</style>\n<table border=\"1\" class=\"dataframe\">\n  <thead>\n    <tr style=\"text-align: right;\">\n      <th></th>\n      <th>Load Weight</th>\n      <th>Load ID</th>\n    </tr>\n    <tr>\n      <th>Route Number</th>\n      <th></th>\n      <th></th>\n    </tr>\n  </thead>\n  <tbody>\n    <tr>\n      <th>PH10</th>\n      <td>31302.962963</td>\n      <td>915957.518519</td>\n    </tr>\n    <tr>\n      <th>PM40</th>\n      <td>25547.727273</td>\n      <td>915710.977273</td>\n    </tr>\n    <tr>\n      <th>PT41</th>\n      <td>24909.189189</td>\n      <td>916469.378378</td>\n    </tr>\n    <tr>\n      <th>PAW75</th>\n      <td>24900.000000</td>\n      <td>905629.000000</td>\n    </tr>\n    <tr>\n      <th>PT11</th>\n      <td>24348.275862</td>\n      <td>915365.793103</td>\n    </tr>\n  </tbody>\n</table>\n</div>"
     },
     "metadata": {}
    }
   ]
  },
  {
   "cell_type": "code",
   "metadata": {
    "scrolled": true,
    "cell_id": "00067-3478ddc6-ce90-4139-b6f0-909349c5511e",
    "deepnote_to_be_reexecuted": false,
    "source_hash": "fea283f2",
    "execution_start": 1648029754121,
    "execution_millis": 15,
    "deepnote_cell_type": "code",
    "deepnote_cell_height": 329.375,
    "deepnote_output_heights": [
     232.390625
    ]
   },
   "source": "data2021[\"Route Number\"].value_counts()",
   "execution_count": 45,
   "outputs": [
    {
     "output_type": "execute_result",
     "execution_count": 45,
     "data": {
      "text/plain": "DSS04      318\nVB-01      285\nWS21       154\nOCPBU23    145\nBU28       123\n          ... \nRT02         1\nRFAS40       1\nRHBS43       1\nYBF00        1\nRT15         1\nName: Route Number, Length: 725, dtype: int64"
     },
     "metadata": {}
    }
   ]
  },
  {
   "cell_type": "code",
   "metadata": {
    "cell_id": "00068-a7f782b8-95cc-45d1-8358-62c24cfc50a2",
    "deepnote_to_be_reexecuted": false,
    "source_hash": "589225f2",
    "execution_start": 1648029761565,
    "execution_millis": 93,
    "deepnote_cell_type": "code",
    "deepnote_cell_height": 409.796875
   },
   "source": "data[data[\"Route Number\"] == \"VB-01\" ].head()",
   "execution_count": 46,
   "outputs": [
    {
     "output_type": "execute_result",
     "execution_count": 46,
     "data": {
      "application/vnd.deepnote.dataframe.v3+json": {
       "column_count": 8,
       "row_count": 5,
       "columns": [
        {
         "name": "Report Date",
         "dtype": "datetime64[ns]",
         "stats": {
          "unique_count": 4,
          "nan_count": 0,
          "min": "2020-12-08 00:00:00",
          "max": "2020-12-17 00:00:00",
          "histogram": [
           {
            "bin_start": 1607385600000000000,
            "bin_end": 1607463360000000000,
            "count": 1
           },
           {
            "bin_start": 1607463360000000000,
            "bin_end": 1607541120000000000,
            "count": 0
           },
           {
            "bin_start": 1607541120000000000,
            "bin_end": 1607618880000000000,
            "count": 0
           },
           {
            "bin_start": 1607618880000000000,
            "bin_end": 1607696640000000000,
            "count": 2
           },
           {
            "bin_start": 1607696640000000000,
            "bin_end": 1607774400000000000,
            "count": 0
           },
           {
            "bin_start": 1607774400000000000,
            "bin_end": 1607852160000000000,
            "count": 0
           },
           {
            "bin_start": 1607852160000000000,
            "bin_end": 1607929920000000000,
            "count": 0
           },
           {
            "bin_start": 1607929920000000000,
            "bin_end": 1608007680000000000,
            "count": 0
           },
           {
            "bin_start": 1608007680000000000,
            "bin_end": 1608085440000000000,
            "count": 1
           },
           {
            "bin_start": 1608085440000000000,
            "bin_end": 1608163200000000000,
            "count": 1
           }
          ]
         }
        },
        {
         "name": "Load Type",
         "dtype": "object",
         "stats": {
          "unique_count": 1,
          "nan_count": 0,
          "categories": [
           {
            "name": "MIXED LITTER",
            "count": 5
           }
          ]
         }
        },
        {
         "name": "Load Time",
         "dtype": "datetime64[ns]",
         "stats": {
          "unique_count": 5,
          "nan_count": 0,
          "min": "2020-12-08 13:49:00",
          "max": "2020-12-17 07:32:00",
          "histogram": [
           {
            "bin_start": 1607435340000000000,
            "bin_end": 1607510838000000000,
            "count": 1
           },
           {
            "bin_start": 1607510838000000000,
            "bin_end": 1607586336000000000,
            "count": 0
           },
           {
            "bin_start": 1607586336000000000,
            "bin_end": 1607661834000000000,
            "count": 0
           },
           {
            "bin_start": 1607661834000000000,
            "bin_end": 1607737332000000000,
            "count": 2
           },
           {
            "bin_start": 1607737332000000000,
            "bin_end": 1607812830000000000,
            "count": 0
           },
           {
            "bin_start": 1607812830000000000,
            "bin_end": 1607888328000000000,
            "count": 0
           },
           {
            "bin_start": 1607888328000000000,
            "bin_end": 1607963826000000000,
            "count": 0
           },
           {
            "bin_start": 1607963826000000000,
            "bin_end": 1608039324000000000,
            "count": 0
           },
           {
            "bin_start": 1608039324000000000,
            "bin_end": 1608114822000000000,
            "count": 0
           },
           {
            "bin_start": 1608114822000000000,
            "bin_end": 1608190320000000000,
            "count": 2
           }
          ]
         }
        },
        {
         "name": "Load Weight",
         "dtype": "float64",
         "stats": {
          "unique_count": 5,
          "nan_count": 0,
          "min": "4960.0",
          "max": "7160.0",
          "histogram": [
           {
            "bin_start": 4960,
            "bin_end": 5180,
            "count": 1
           },
           {
            "bin_start": 5180,
            "bin_end": 5400,
            "count": 0
           },
           {
            "bin_start": 5400,
            "bin_end": 5620,
            "count": 0
           },
           {
            "bin_start": 5620,
            "bin_end": 5840,
            "count": 0
           },
           {
            "bin_start": 5840,
            "bin_end": 6060,
            "count": 1
           },
           {
            "bin_start": 6060,
            "bin_end": 6280,
            "count": 0
           },
           {
            "bin_start": 6280,
            "bin_end": 6500,
            "count": 0
           },
           {
            "bin_start": 6500,
            "bin_end": 6720,
            "count": 0
           },
           {
            "bin_start": 6720,
            "bin_end": 6940,
            "count": 1
           },
           {
            "bin_start": 6940,
            "bin_end": 7160,
            "count": 2
           }
          ]
         }
        },
        {
         "name": "Dropoff Site",
         "dtype": "object",
         "stats": {
          "unique_count": 1,
          "nan_count": 0,
          "categories": [
           {
            "name": "TDS LANDFILL",
            "count": 5
           }
          ]
         }
        },
        {
         "name": "Route Type",
         "dtype": "object",
         "stats": {
          "unique_count": 1,
          "nan_count": 0,
          "categories": [
           {
            "name": "LITTER CONTROL",
            "count": 5
           }
          ]
         }
        },
        {
         "name": "Route Number",
         "dtype": "object",
         "stats": {
          "unique_count": 1,
          "nan_count": 0,
          "categories": [
           {
            "name": "VB-01",
            "count": 5
           }
          ]
         }
        },
        {
         "name": "Load ID",
         "dtype": "int64",
         "stats": {
          "unique_count": 5,
          "nan_count": 0,
          "min": "899227",
          "max": "900591",
          "histogram": [
           {
            "bin_start": 899227,
            "bin_end": 899363.4,
            "count": 1
           },
           {
            "bin_start": 899363.4,
            "bin_end": 899499.8,
            "count": 0
           },
           {
            "bin_start": 899499.8,
            "bin_end": 899636.2,
            "count": 2
           },
           {
            "bin_start": 899636.2,
            "bin_end": 899772.6,
            "count": 0
           },
           {
            "bin_start": 899772.6,
            "bin_end": 899909,
            "count": 0
           },
           {
            "bin_start": 899909,
            "bin_end": 900045.4,
            "count": 0
           },
           {
            "bin_start": 900045.4,
            "bin_end": 900181.8,
            "count": 0
           },
           {
            "bin_start": 900181.8,
            "bin_end": 900318.2,
            "count": 0
           },
           {
            "bin_start": 900318.2,
            "bin_end": 900454.6,
            "count": 0
           },
           {
            "bin_start": 900454.6,
            "bin_end": 900591,
            "count": 2
           }
          ]
         }
        },
        {
         "name": "_deepnote_index_column",
         "dtype": "int64"
        }
       ],
       "rows": [
        {
         "Report Date": "2020-12-08T00:00:00.000000",
         "Load Type": "MIXED LITTER",
         "Load Time": "2020-12-08T13:49:00.000000",
         "Load Weight": 6820,
         "Dropoff Site": "TDS LANDFILL",
         "Route Type": "LITTER CONTROL",
         "Route Number": "VB-01",
         "Load ID": 899227,
         "_deepnote_index_column": 157
        },
        {
         "Report Date": "2020-12-11T00:00:00.000000",
         "Load Type": "MIXED LITTER",
         "Load Time": "2020-12-11T13:44:00.000000",
         "Load Weight": 4960,
         "Dropoff Site": "TDS LANDFILL",
         "Route Type": "LITTER CONTROL",
         "Route Number": "VB-01",
         "Load ID": 899626,
         "_deepnote_index_column": 604
        },
        {
         "Report Date": "2020-12-11T00:00:00.000000",
         "Load Type": "MIXED LITTER",
         "Load Time": "2020-12-11T13:52:00.000000",
         "Load Weight": 7000,
         "Dropoff Site": "TDS LANDFILL",
         "Route Type": "LITTER CONTROL",
         "Route Number": "VB-01",
         "Load ID": 899627,
         "_deepnote_index_column": 617
        },
        {
         "Report Date": "2020-12-16T00:00:00.000000",
         "Load Type": "MIXED LITTER",
         "Load Time": "2020-12-16T13:04:00.000000",
         "Load Weight": 7160,
         "Dropoff Site": "TDS LANDFILL",
         "Route Type": "LITTER CONTROL",
         "Route Number": "VB-01",
         "Load ID": 900590,
         "_deepnote_index_column": 1550
        },
        {
         "Report Date": "2020-12-17T00:00:00.000000",
         "Load Type": "MIXED LITTER",
         "Load Time": "2020-12-17T07:32:00.000000",
         "Load Weight": 5980,
         "Dropoff Site": "TDS LANDFILL",
         "Route Type": "LITTER CONTROL",
         "Route Number": "VB-01",
         "Load ID": 900591,
         "_deepnote_index_column": 1551
        }
       ]
      },
      "text/plain": "     Report Date     Load Type           Load Time  Load Weight  Dropoff Site  \\\n157   2020-12-08  MIXED LITTER 2020-12-08 13:49:00  6820.000000  TDS LANDFILL   \n604   2020-12-11  MIXED LITTER 2020-12-11 13:44:00  4960.000000  TDS LANDFILL   \n617   2020-12-11  MIXED LITTER 2020-12-11 13:52:00  7000.000000  TDS LANDFILL   \n1550  2020-12-16  MIXED LITTER 2020-12-16 13:04:00  7160.000000  TDS LANDFILL   \n1551  2020-12-17  MIXED LITTER 2020-12-17 07:32:00  5980.000000  TDS LANDFILL   \n\n          Route Type Route Number  Load ID  \n157   LITTER CONTROL        VB-01   899227  \n604   LITTER CONTROL        VB-01   899626  \n617   LITTER CONTROL        VB-01   899627  \n1550  LITTER CONTROL        VB-01   900590  \n1551  LITTER CONTROL        VB-01   900591  ",
      "text/html": "<div>\n<style scoped>\n    .dataframe tbody tr th:only-of-type {\n        vertical-align: middle;\n    }\n\n    .dataframe tbody tr th {\n        vertical-align: top;\n    }\n\n    .dataframe thead th {\n        text-align: right;\n    }\n</style>\n<table border=\"1\" class=\"dataframe\">\n  <thead>\n    <tr style=\"text-align: right;\">\n      <th></th>\n      <th>Report Date</th>\n      <th>Load Type</th>\n      <th>Load Time</th>\n      <th>Load Weight</th>\n      <th>Dropoff Site</th>\n      <th>Route Type</th>\n      <th>Route Number</th>\n      <th>Load ID</th>\n    </tr>\n  </thead>\n  <tbody>\n    <tr>\n      <th>157</th>\n      <td>2020-12-08</td>\n      <td>MIXED LITTER</td>\n      <td>2020-12-08 13:49:00</td>\n      <td>6820.000000</td>\n      <td>TDS LANDFILL</td>\n      <td>LITTER CONTROL</td>\n      <td>VB-01</td>\n      <td>899227</td>\n    </tr>\n    <tr>\n      <th>604</th>\n      <td>2020-12-11</td>\n      <td>MIXED LITTER</td>\n      <td>2020-12-11 13:44:00</td>\n      <td>4960.000000</td>\n      <td>TDS LANDFILL</td>\n      <td>LITTER CONTROL</td>\n      <td>VB-01</td>\n      <td>899626</td>\n    </tr>\n    <tr>\n      <th>617</th>\n      <td>2020-12-11</td>\n      <td>MIXED LITTER</td>\n      <td>2020-12-11 13:52:00</td>\n      <td>7000.000000</td>\n      <td>TDS LANDFILL</td>\n      <td>LITTER CONTROL</td>\n      <td>VB-01</td>\n      <td>899627</td>\n    </tr>\n    <tr>\n      <th>1550</th>\n      <td>2020-12-16</td>\n      <td>MIXED LITTER</td>\n      <td>2020-12-16 13:04:00</td>\n      <td>7160.000000</td>\n      <td>TDS LANDFILL</td>\n      <td>LITTER CONTROL</td>\n      <td>VB-01</td>\n      <td>900590</td>\n    </tr>\n    <tr>\n      <th>1551</th>\n      <td>2020-12-17</td>\n      <td>MIXED LITTER</td>\n      <td>2020-12-17 07:32:00</td>\n      <td>5980.000000</td>\n      <td>TDS LANDFILL</td>\n      <td>LITTER CONTROL</td>\n      <td>VB-01</td>\n      <td>900591</td>\n    </tr>\n  </tbody>\n</table>\n</div>"
     },
     "metadata": {}
    }
   ]
  },
  {
   "cell_type": "code",
   "metadata": {
    "cell_id": "00069-dcff42e6-1644-4f78-90ca-e7433918b011",
    "deepnote_to_be_reexecuted": false,
    "source_hash": "29da5f0",
    "execution_start": 1648029761720,
    "execution_millis": 0,
    "deepnote_cell_type": "code",
    "deepnote_cell_height": 99
   },
   "source": "# I would like what were the most used routes in 2021\ncounts = data2021['Route Number'].value_counts()",
   "execution_count": 47,
   "outputs": []
  },
  {
   "cell_type": "code",
   "metadata": {
    "cell_id": "00070-4e7314ff-bac6-4ad0-93a7-df85c2c17776",
    "deepnote_to_be_reexecuted": false,
    "source_hash": "669ce9af",
    "execution_start": 1648029761720,
    "execution_millis": 82,
    "deepnote_cell_type": "code",
    "deepnote_cell_height": 81
   },
   "source": "data2021_top100 = data2021.loc[data['Route Number'].isin(counts.index[counts > 100])]",
   "execution_count": 48,
   "outputs": []
  },
  {
   "cell_type": "code",
   "metadata": {
    "cell_id": "00071-daeaac42-bb7b-40c7-a2a0-876dcd266209",
    "deepnote_to_be_reexecuted": false,
    "source_hash": "f01e9f63",
    "execution_start": 1648029762084,
    "execution_millis": 17,
    "deepnote_cell_type": "code",
    "deepnote_cell_height": 598
   },
   "source": "data2021_top100.groupby(\"Load Type\").agg({'Load Weight': 'mean'}).sort_values(by=\"Load Weight\", ascending = False)",
   "execution_count": 49,
   "outputs": [
    {
     "output_type": "execute_result",
     "execution_count": 49,
     "data": {
      "application/vnd.deepnote.dataframe.v3+json": {
       "column_count": 1,
       "row_count": 10,
       "columns": [
        {
         "name": "Load Weight",
         "dtype": "float64",
         "stats": {
          "unique_count": 10,
          "nan_count": 0,
          "min": "146.8421052631579",
          "max": "16700.0",
          "histogram": [
           {
            "bin_start": 146.8421052631579,
            "bin_end": 1802.1578947368423,
            "count": 3
           },
           {
            "bin_start": 1802.1578947368423,
            "bin_end": 3457.4736842105267,
            "count": 1
           },
           {
            "bin_start": 3457.4736842105267,
            "bin_end": 5112.789473684211,
            "count": 1
           },
           {
            "bin_start": 5112.789473684211,
            "bin_end": 6768.105263157895,
            "count": 1
           },
           {
            "bin_start": 6768.105263157895,
            "bin_end": 8423.42105263158,
            "count": 1
           },
           {
            "bin_start": 8423.42105263158,
            "bin_end": 10078.736842105265,
            "count": 2
           },
           {
            "bin_start": 10078.736842105265,
            "bin_end": 11734.052631578948,
            "count": 0
           },
           {
            "bin_start": 11734.052631578948,
            "bin_end": 13389.368421052633,
            "count": 0
           },
           {
            "bin_start": 13389.368421052633,
            "bin_end": 15044.684210526319,
            "count": 0
           },
           {
            "bin_start": 15044.684210526319,
            "bin_end": 16700,
            "count": 1
           }
          ]
         }
        },
        {
         "name": "_deepnote_index_column",
         "dtype": "object"
        }
       ],
       "rows": [
        {
         "Load Weight": 16700,
         "_deepnote_index_column": "LITTER"
        },
        {
         "Load Weight": 9610.81690140845,
         "_deepnote_index_column": "SWEEPING"
        },
        {
         "Load Weight": 9378.32618025751,
         "_deepnote_index_column": "ORGANICS"
        },
        {
         "Load Weight": 7727.170731707317,
         "_deepnote_index_column": "RECYCLING - SINGLE STREAM"
        },
        {
         "Load Weight": 5509.220779220779,
         "_deepnote_index_column": "BRUSH"
        },
        {
         "Load Weight": 4878.653846153846,
         "_deepnote_index_column": "BULK"
        },
        {
         "Load Weight": 3125.967741935484,
         "_deepnote_index_column": "MIXED LITTER"
        },
        {
         "Load Weight": 959,
         "_deepnote_index_column": "TIRES"
        },
        {
         "Load Weight": 442.5,
         "_deepnote_index_column": "RECYCLED METAL"
        },
        {
         "Load Weight": 146.8421052631579,
         "_deepnote_index_column": "DEAD ANIMAL"
        }
       ]
      },
      "text/plain": "                           Load Weight\nLoad Type                             \nLITTER                    16700.000000\nSWEEPING                   9610.816901\nORGANICS                   9378.326180\nRECYCLING - SINGLE STREAM  7727.170732\nBRUSH                      5509.220779\nBULK                       4878.653846\nMIXED LITTER               3125.967742\nTIRES                       959.000000\nRECYCLED METAL              442.500000\nDEAD ANIMAL                 146.842105",
      "text/html": "<div>\n<style scoped>\n    .dataframe tbody tr th:only-of-type {\n        vertical-align: middle;\n    }\n\n    .dataframe tbody tr th {\n        vertical-align: top;\n    }\n\n    .dataframe thead th {\n        text-align: right;\n    }\n</style>\n<table border=\"1\" class=\"dataframe\">\n  <thead>\n    <tr style=\"text-align: right;\">\n      <th></th>\n      <th>Load Weight</th>\n    </tr>\n    <tr>\n      <th>Load Type</th>\n      <th></th>\n    </tr>\n  </thead>\n  <tbody>\n    <tr>\n      <th>LITTER</th>\n      <td>16700.000000</td>\n    </tr>\n    <tr>\n      <th>SWEEPING</th>\n      <td>9610.816901</td>\n    </tr>\n    <tr>\n      <th>ORGANICS</th>\n      <td>9378.326180</td>\n    </tr>\n    <tr>\n      <th>RECYCLING - SINGLE STREAM</th>\n      <td>7727.170732</td>\n    </tr>\n    <tr>\n      <th>BRUSH</th>\n      <td>5509.220779</td>\n    </tr>\n    <tr>\n      <th>BULK</th>\n      <td>4878.653846</td>\n    </tr>\n    <tr>\n      <th>MIXED LITTER</th>\n      <td>3125.967742</td>\n    </tr>\n    <tr>\n      <th>TIRES</th>\n      <td>959.000000</td>\n    </tr>\n    <tr>\n      <th>RECYCLED METAL</th>\n      <td>442.500000</td>\n    </tr>\n    <tr>\n      <th>DEAD ANIMAL</th>\n      <td>146.842105</td>\n    </tr>\n  </tbody>\n</table>\n</div>"
     },
     "metadata": {}
    }
   ]
  },
  {
   "cell_type": "code",
   "metadata": {
    "scrolled": true,
    "cell_id": "00072-53c8b4b4-2846-4fc1-911b-233dc32e0d33",
    "deepnote_to_be_reexecuted": false,
    "source_hash": "723da388",
    "execution_start": 1648029769921,
    "execution_millis": 3,
    "deepnote_cell_type": "code",
    "deepnote_cell_height": 598
   },
   "source": "data2021_top100.groupby(\"Load Type\").agg({'Load Weight': 'sum'}).sort_values(by=\"Load Weight\", ascending = False)",
   "execution_count": 50,
   "outputs": [
    {
     "output_type": "execute_result",
     "execution_count": 50,
     "data": {
      "application/vnd.deepnote.dataframe.v3+json": {
       "column_count": 1,
       "row_count": 10,
       "columns": [
        {
         "name": "Load Weight",
         "dtype": "float64",
         "stats": {
          "unique_count": 10,
          "nan_count": 0,
          "min": "13950.0",
          "max": "3411840.0",
          "histogram": [
           {
            "bin_start": 13950,
            "bin_end": 353739,
            "count": 4
           },
           {
            "bin_start": 353739,
            "bin_end": 693528,
            "count": 0
           },
           {
            "bin_start": 693528,
            "bin_end": 1033317,
            "count": 2
           },
           {
            "bin_start": 1033317,
            "bin_end": 1373106,
            "count": 0
           },
           {
            "bin_start": 1373106,
            "bin_end": 1712895,
            "count": 2
           },
           {
            "bin_start": 1712895,
            "bin_end": 2052684,
            "count": 0
           },
           {
            "bin_start": 2052684,
            "bin_end": 2392473,
            "count": 1
           },
           {
            "bin_start": 2392473,
            "bin_end": 2732262,
            "count": 0
           },
           {
            "bin_start": 2732262,
            "bin_end": 3072051,
            "count": 0
           },
           {
            "bin_start": 3072051,
            "bin_end": 3411840,
            "count": 1
           }
          ]
         }
        },
        {
         "name": "_deepnote_index_column",
         "dtype": "object"
        }
       ],
       "rows": [
        {
         "Load Weight": 3411840,
         "_deepnote_index_column": "SWEEPING"
        },
        {
         "Load Weight": 2185150,
         "_deepnote_index_column": "ORGANICS"
        },
        {
         "Load Weight": 1584070,
         "_deepnote_index_column": "RECYCLING - SINGLE STREAM"
        },
        {
         "Load Weight": 1522140,
         "_deepnote_index_column": "BULK"
        },
        {
         "Load Weight": 848420,
         "_deepnote_index_column": "BRUSH"
        },
        {
         "Load Weight": 775240,
         "_deepnote_index_column": "MIXED LITTER"
        },
        {
         "Load Weight": 23010,
         "_deepnote_index_column": "RECYCLED METAL"
        },
        {
         "Load Weight": 19180,
         "_deepnote_index_column": "TIRES"
        },
        {
         "Load Weight": 16700,
         "_deepnote_index_column": "LITTER"
        },
        {
         "Load Weight": 13950,
         "_deepnote_index_column": "DEAD ANIMAL"
        }
       ]
      },
      "text/plain": "                             Load Weight\nLoad Type                               \nSWEEPING                  3411840.000000\nORGANICS                  2185150.000000\nRECYCLING - SINGLE STREAM 1584070.000000\nBULK                      1522140.000000\nBRUSH                      848420.000000\nMIXED LITTER               775240.000000\nRECYCLED METAL              23010.000000\nTIRES                       19180.000000\nLITTER                      16700.000000\nDEAD ANIMAL                 13950.000000",
      "text/html": "<div>\n<style scoped>\n    .dataframe tbody tr th:only-of-type {\n        vertical-align: middle;\n    }\n\n    .dataframe tbody tr th {\n        vertical-align: top;\n    }\n\n    .dataframe thead th {\n        text-align: right;\n    }\n</style>\n<table border=\"1\" class=\"dataframe\">\n  <thead>\n    <tr style=\"text-align: right;\">\n      <th></th>\n      <th>Load Weight</th>\n    </tr>\n    <tr>\n      <th>Load Type</th>\n      <th></th>\n    </tr>\n  </thead>\n  <tbody>\n    <tr>\n      <th>SWEEPING</th>\n      <td>3411840.000000</td>\n    </tr>\n    <tr>\n      <th>ORGANICS</th>\n      <td>2185150.000000</td>\n    </tr>\n    <tr>\n      <th>RECYCLING - SINGLE STREAM</th>\n      <td>1584070.000000</td>\n    </tr>\n    <tr>\n      <th>BULK</th>\n      <td>1522140.000000</td>\n    </tr>\n    <tr>\n      <th>BRUSH</th>\n      <td>848420.000000</td>\n    </tr>\n    <tr>\n      <th>MIXED LITTER</th>\n      <td>775240.000000</td>\n    </tr>\n    <tr>\n      <th>RECYCLED METAL</th>\n      <td>23010.000000</td>\n    </tr>\n    <tr>\n      <th>TIRES</th>\n      <td>19180.000000</td>\n    </tr>\n    <tr>\n      <th>LITTER</th>\n      <td>16700.000000</td>\n    </tr>\n    <tr>\n      <th>DEAD ANIMAL</th>\n      <td>13950.000000</td>\n    </tr>\n  </tbody>\n</table>\n</div>"
     },
     "metadata": {}
    }
   ]
  },
  {
   "cell_type": "markdown",
   "source": "#### By Time",
   "metadata": {
    "cell_id": "00073-720e90c7-1c2d-400c-8851-bc9ee2f142b1",
    "deepnote_cell_type": "markdown",
    "deepnote_cell_height": 54
   }
  },
  {
   "cell_type": "markdown",
   "source": "##### Year",
   "metadata": {
    "cell_id": "00074-19dd3585-5577-4d6f-a553-e815d887b8af",
    "deepnote_cell_type": "markdown",
    "deepnote_cell_height": 54
   }
  },
  {
   "cell_type": "code",
   "metadata": {
    "cell_id": "00075-2af21eb0-424f-47d0-b582-31f701498347",
    "deepnote_to_be_reexecuted": false,
    "source_hash": "a46c8d56",
    "execution_start": 1648029769922,
    "execution_millis": 225,
    "deepnote_cell_type": "code",
    "deepnote_cell_height": 135
   },
   "source": "data[\"Year\"] = pd.DatetimeIndex(data[\"Load Time\"]).year\ndata[\"Month\"] = pd.DatetimeIndex(data[\"Load Time\"]).month\ndata[\"Day\"] = data[\"Load Time\"].dt.dayofweek\ndata[\"Hour\"] = pd.DatetimeIndex(data[\"Load Time\"]).hour",
   "execution_count": 51,
   "outputs": []
  },
  {
   "cell_type": "code",
   "metadata": {
    "cell_id": "00076-9edaf210-7e57-44af-9ff1-d932f0841574",
    "deepnote_to_be_reexecuted": false,
    "source_hash": "938ea5e5",
    "execution_start": 1648029770171,
    "execution_millis": 48,
    "deepnote_cell_type": "code",
    "deepnote_cell_height": 99
   },
   "source": "weightsum_by_year = data[[\"Load Weight\", \"Year\"]].groupby(by = \"Year\").sum()\nweightmean_by_year = data[[\"Load Weight\", \"Year\"]].groupby(by = \"Year\").mean()",
   "execution_count": 52,
   "outputs": []
  },
  {
   "cell_type": "code",
   "metadata": {
    "cell_id": "00077-42d670d6-8a01-4ad1-9eb8-252e8b69dfce",
    "deepnote_to_be_reexecuted": false,
    "source_hash": "cb8d75be",
    "execution_start": 1648029770542,
    "execution_millis": 22,
    "deepnote_cell_type": "code",
    "deepnote_cell_height": 393
   },
   "source": "weightsum_by_year.sort_values(by= \"Year\", ascending= False).head()",
   "execution_count": 53,
   "outputs": [
    {
     "output_type": "execute_result",
     "execution_count": 53,
     "data": {
      "application/vnd.deepnote.dataframe.v3+json": {
       "column_count": 1,
       "row_count": 5,
       "columns": [
        {
         "name": "Load Weight",
         "dtype": "float64",
         "stats": {
          "unique_count": 5,
          "nan_count": 0,
          "min": "580.0",
          "max": "522371495.0",
          "histogram": [
           {
            "bin_start": 580,
            "bin_end": 52237671.5,
            "count": 1
           },
           {
            "bin_start": 52237671.5,
            "bin_end": 104474763,
            "count": 0
           },
           {
            "bin_start": 104474763,
            "bin_end": 156711854.5,
            "count": 0
           },
           {
            "bin_start": 156711854.5,
            "bin_end": 208948946,
            "count": 0
           },
           {
            "bin_start": 208948946,
            "bin_end": 261186037.5,
            "count": 0
           },
           {
            "bin_start": 261186037.5,
            "bin_end": 313423129,
            "count": 1
           },
           {
            "bin_start": 313423129,
            "bin_end": 365660220.5,
            "count": 0
           },
           {
            "bin_start": 365660220.5,
            "bin_end": 417897312,
            "count": 0
           },
           {
            "bin_start": 417897312,
            "bin_end": 470134403.5,
            "count": 0
           },
           {
            "bin_start": 470134403.5,
            "bin_end": 522371495,
            "count": 3
           }
          ]
         }
        },
        {
         "name": "_deepnote_index_column",
         "dtype": "int64"
        }
       ],
       "rows": [
        {
         "Load Weight": 580,
         "_deepnote_index_column": 2030
        },
        {
         "Load Weight": 279310827.5394,
         "_deepnote_index_column": 2021
        },
        {
         "Load Weight": 522371495,
         "_deepnote_index_column": 2020
        },
        {
         "Load Weight": 491988619,
         "_deepnote_index_column": 2019
        },
        {
         "Load Weight": 489718566,
         "_deepnote_index_column": 2018
        }
       ]
      },
      "text/plain": "          Load Weight\nYear                 \n2030       580.000000\n2021 279310827.539400\n2020 522371495.000000\n2019 491988619.000000\n2018 489718566.000000",
      "text/html": "<div>\n<style scoped>\n    .dataframe tbody tr th:only-of-type {\n        vertical-align: middle;\n    }\n\n    .dataframe tbody tr th {\n        vertical-align: top;\n    }\n\n    .dataframe thead th {\n        text-align: right;\n    }\n</style>\n<table border=\"1\" class=\"dataframe\">\n  <thead>\n    <tr style=\"text-align: right;\">\n      <th></th>\n      <th>Load Weight</th>\n    </tr>\n    <tr>\n      <th>Year</th>\n      <th></th>\n    </tr>\n  </thead>\n  <tbody>\n    <tr>\n      <th>2030</th>\n      <td>580.000000</td>\n    </tr>\n    <tr>\n      <th>2021</th>\n      <td>279310827.539400</td>\n    </tr>\n    <tr>\n      <th>2020</th>\n      <td>522371495.000000</td>\n    </tr>\n    <tr>\n      <th>2019</th>\n      <td>491988619.000000</td>\n    </tr>\n    <tr>\n      <th>2018</th>\n      <td>489718566.000000</td>\n    </tr>\n  </tbody>\n</table>\n</div>"
     },
     "metadata": {}
    }
   ]
  },
  {
   "cell_type": "code",
   "metadata": {
    "scrolled": true,
    "cell_id": "00078-862cd1ae-8714-41c8-8d9c-ce5ade6353ec",
    "deepnote_to_be_reexecuted": false,
    "source_hash": "857d54d0",
    "execution_start": 1648029778358,
    "execution_millis": 2973,
    "deepnote_cell_type": "code",
    "deepnote_cell_height": 642,
    "deepnote_output_heights": [
     527
    ]
   },
   "source": "fig = px.bar(weightsum_by_year, x= weightsum_by_year.index, y=\"Load Weight\", title='Load Weight by Year')\nfig.show()",
   "execution_count": 54,
   "outputs": [
    {
     "data": {
      "text/html": "<html>\n<head><meta charset=\"utf-8\" /></head>\n<body>\n    <div>            <script src=\"https://cdnjs.cloudflare.com/ajax/libs/mathjax/2.7.5/MathJax.js?config=TeX-AMS-MML_SVG\"></script><script type=\"text/javascript\">if (window.MathJax) {MathJax.Hub.Config({SVG: {font: \"STIX-Web\"}});}</script>                <script type=\"text/javascript\">window.PlotlyConfig = {MathJaxConfig: 'local'};</script>\n        <script src=\"https://cdn.plot.ly/plotly-2.9.0.min.js\"></script>                <div id=\"5e104e08-5526-4a01-98ac-90e40ed31a4e\" class=\"plotly-graph-div\" style=\"height:525px; width:100%;\"></div>            <script type=\"text/javascript\">                                    window.PLOTLYENV=window.PLOTLYENV || {};                                    if (document.getElementById(\"5e104e08-5526-4a01-98ac-90e40ed31a4e\")) {                    Plotly.newPlot(                        \"5e104e08-5526-4a01-98ac-90e40ed31a4e\",                        [{\"alignmentgroup\":\"True\",\"hovertemplate\":\"Year=%{x}<br>Load Weight=%{y}<extra></extra>\",\"legendgroup\":\"\",\"marker\":{\"color\":\"#636efa\",\"pattern\":{\"shape\":\"\"}},\"name\":\"\",\"offsetgroup\":\"\",\"orientation\":\"v\",\"showlegend\":false,\"textposition\":\"auto\",\"x\":[2000,2001,2004,2005,2006,2007,2008,2009,2010,2011,2012,2013,2014,2015,2016,2017,2018,2019,2020,2021,2030],\"xaxis\":\"x\",\"y\":[2940.0,31320.0,98226990.0,392578837.0,408833158.0,437113262.0,441499990.0,431160994.0,446730612.0,442667051.0,451562631.0,461677316.0,471895709.0,488119600.0,491431122.0,495092743.0,489718566.0,491988619.0,522371495.0,279310827.5394,580.0],\"yaxis\":\"y\",\"type\":\"bar\"}],                        {\"template\":{\"data\":{\"bar\":[{\"error_x\":{\"color\":\"#2a3f5f\"},\"error_y\":{\"color\":\"#2a3f5f\"},\"marker\":{\"line\":{\"color\":\"#E5ECF6\",\"width\":0.5},\"pattern\":{\"fillmode\":\"overlay\",\"size\":10,\"solidity\":0.2}},\"type\":\"bar\"}],\"barpolar\":[{\"marker\":{\"line\":{\"color\":\"#E5ECF6\",\"width\":0.5},\"pattern\":{\"fillmode\":\"overlay\",\"size\":10,\"solidity\":0.2}},\"type\":\"barpolar\"}],\"carpet\":[{\"aaxis\":{\"endlinecolor\":\"#2a3f5f\",\"gridcolor\":\"white\",\"linecolor\":\"white\",\"minorgridcolor\":\"white\",\"startlinecolor\":\"#2a3f5f\"},\"baxis\":{\"endlinecolor\":\"#2a3f5f\",\"gridcolor\":\"white\",\"linecolor\":\"white\",\"minorgridcolor\":\"white\",\"startlinecolor\":\"#2a3f5f\"},\"type\":\"carpet\"}],\"choropleth\":[{\"colorbar\":{\"outlinewidth\":0,\"ticks\":\"\"},\"type\":\"choropleth\"}],\"contour\":[{\"colorbar\":{\"outlinewidth\":0,\"ticks\":\"\"},\"colorscale\":[[0.0,\"#0d0887\"],[0.1111111111111111,\"#46039f\"],[0.2222222222222222,\"#7201a8\"],[0.3333333333333333,\"#9c179e\"],[0.4444444444444444,\"#bd3786\"],[0.5555555555555556,\"#d8576b\"],[0.6666666666666666,\"#ed7953\"],[0.7777777777777778,\"#fb9f3a\"],[0.8888888888888888,\"#fdca26\"],[1.0,\"#f0f921\"]],\"type\":\"contour\"}],\"contourcarpet\":[{\"colorbar\":{\"outlinewidth\":0,\"ticks\":\"\"},\"type\":\"contourcarpet\"}],\"heatmap\":[{\"colorbar\":{\"outlinewidth\":0,\"ticks\":\"\"},\"colorscale\":[[0.0,\"#0d0887\"],[0.1111111111111111,\"#46039f\"],[0.2222222222222222,\"#7201a8\"],[0.3333333333333333,\"#9c179e\"],[0.4444444444444444,\"#bd3786\"],[0.5555555555555556,\"#d8576b\"],[0.6666666666666666,\"#ed7953\"],[0.7777777777777778,\"#fb9f3a\"],[0.8888888888888888,\"#fdca26\"],[1.0,\"#f0f921\"]],\"type\":\"heatmap\"}],\"heatmapgl\":[{\"colorbar\":{\"outlinewidth\":0,\"ticks\":\"\"},\"colorscale\":[[0.0,\"#0d0887\"],[0.1111111111111111,\"#46039f\"],[0.2222222222222222,\"#7201a8\"],[0.3333333333333333,\"#9c179e\"],[0.4444444444444444,\"#bd3786\"],[0.5555555555555556,\"#d8576b\"],[0.6666666666666666,\"#ed7953\"],[0.7777777777777778,\"#fb9f3a\"],[0.8888888888888888,\"#fdca26\"],[1.0,\"#f0f921\"]],\"type\":\"heatmapgl\"}],\"histogram\":[{\"marker\":{\"pattern\":{\"fillmode\":\"overlay\",\"size\":10,\"solidity\":0.2}},\"type\":\"histogram\"}],\"histogram2d\":[{\"colorbar\":{\"outlinewidth\":0,\"ticks\":\"\"},\"colorscale\":[[0.0,\"#0d0887\"],[0.1111111111111111,\"#46039f\"],[0.2222222222222222,\"#7201a8\"],[0.3333333333333333,\"#9c179e\"],[0.4444444444444444,\"#bd3786\"],[0.5555555555555556,\"#d8576b\"],[0.6666666666666666,\"#ed7953\"],[0.7777777777777778,\"#fb9f3a\"],[0.8888888888888888,\"#fdca26\"],[1.0,\"#f0f921\"]],\"type\":\"histogram2d\"}],\"histogram2dcontour\":[{\"colorbar\":{\"outlinewidth\":0,\"ticks\":\"\"},\"colorscale\":[[0.0,\"#0d0887\"],[0.1111111111111111,\"#46039f\"],[0.2222222222222222,\"#7201a8\"],[0.3333333333333333,\"#9c179e\"],[0.4444444444444444,\"#bd3786\"],[0.5555555555555556,\"#d8576b\"],[0.6666666666666666,\"#ed7953\"],[0.7777777777777778,\"#fb9f3a\"],[0.8888888888888888,\"#fdca26\"],[1.0,\"#f0f921\"]],\"type\":\"histogram2dcontour\"}],\"mesh3d\":[{\"colorbar\":{\"outlinewidth\":0,\"ticks\":\"\"},\"type\":\"mesh3d\"}],\"parcoords\":[{\"line\":{\"colorbar\":{\"outlinewidth\":0,\"ticks\":\"\"}},\"type\":\"parcoords\"}],\"pie\":[{\"automargin\":true,\"type\":\"pie\"}],\"scatter\":[{\"marker\":{\"colorbar\":{\"outlinewidth\":0,\"ticks\":\"\"}},\"type\":\"scatter\"}],\"scatter3d\":[{\"line\":{\"colorbar\":{\"outlinewidth\":0,\"ticks\":\"\"}},\"marker\":{\"colorbar\":{\"outlinewidth\":0,\"ticks\":\"\"}},\"type\":\"scatter3d\"}],\"scattercarpet\":[{\"marker\":{\"colorbar\":{\"outlinewidth\":0,\"ticks\":\"\"}},\"type\":\"scattercarpet\"}],\"scattergeo\":[{\"marker\":{\"colorbar\":{\"outlinewidth\":0,\"ticks\":\"\"}},\"type\":\"scattergeo\"}],\"scattergl\":[{\"marker\":{\"colorbar\":{\"outlinewidth\":0,\"ticks\":\"\"}},\"type\":\"scattergl\"}],\"scattermapbox\":[{\"marker\":{\"colorbar\":{\"outlinewidth\":0,\"ticks\":\"\"}},\"type\":\"scattermapbox\"}],\"scatterpolar\":[{\"marker\":{\"colorbar\":{\"outlinewidth\":0,\"ticks\":\"\"}},\"type\":\"scatterpolar\"}],\"scatterpolargl\":[{\"marker\":{\"colorbar\":{\"outlinewidth\":0,\"ticks\":\"\"}},\"type\":\"scatterpolargl\"}],\"scatterternary\":[{\"marker\":{\"colorbar\":{\"outlinewidth\":0,\"ticks\":\"\"}},\"type\":\"scatterternary\"}],\"surface\":[{\"colorbar\":{\"outlinewidth\":0,\"ticks\":\"\"},\"colorscale\":[[0.0,\"#0d0887\"],[0.1111111111111111,\"#46039f\"],[0.2222222222222222,\"#7201a8\"],[0.3333333333333333,\"#9c179e\"],[0.4444444444444444,\"#bd3786\"],[0.5555555555555556,\"#d8576b\"],[0.6666666666666666,\"#ed7953\"],[0.7777777777777778,\"#fb9f3a\"],[0.8888888888888888,\"#fdca26\"],[1.0,\"#f0f921\"]],\"type\":\"surface\"}],\"table\":[{\"cells\":{\"fill\":{\"color\":\"#EBF0F8\"},\"line\":{\"color\":\"white\"}},\"header\":{\"fill\":{\"color\":\"#C8D4E3\"},\"line\":{\"color\":\"white\"}},\"type\":\"table\"}]},\"layout\":{\"annotationdefaults\":{\"arrowcolor\":\"#2a3f5f\",\"arrowhead\":0,\"arrowwidth\":1},\"autotypenumbers\":\"strict\",\"coloraxis\":{\"colorbar\":{\"outlinewidth\":0,\"ticks\":\"\"}},\"colorscale\":{\"diverging\":[[0,\"#8e0152\"],[0.1,\"#c51b7d\"],[0.2,\"#de77ae\"],[0.3,\"#f1b6da\"],[0.4,\"#fde0ef\"],[0.5,\"#f7f7f7\"],[0.6,\"#e6f5d0\"],[0.7,\"#b8e186\"],[0.8,\"#7fbc41\"],[0.9,\"#4d9221\"],[1,\"#276419\"]],\"sequential\":[[0.0,\"#0d0887\"],[0.1111111111111111,\"#46039f\"],[0.2222222222222222,\"#7201a8\"],[0.3333333333333333,\"#9c179e\"],[0.4444444444444444,\"#bd3786\"],[0.5555555555555556,\"#d8576b\"],[0.6666666666666666,\"#ed7953\"],[0.7777777777777778,\"#fb9f3a\"],[0.8888888888888888,\"#fdca26\"],[1.0,\"#f0f921\"]],\"sequentialminus\":[[0.0,\"#0d0887\"],[0.1111111111111111,\"#46039f\"],[0.2222222222222222,\"#7201a8\"],[0.3333333333333333,\"#9c179e\"],[0.4444444444444444,\"#bd3786\"],[0.5555555555555556,\"#d8576b\"],[0.6666666666666666,\"#ed7953\"],[0.7777777777777778,\"#fb9f3a\"],[0.8888888888888888,\"#fdca26\"],[1.0,\"#f0f921\"]]},\"colorway\":[\"#636efa\",\"#EF553B\",\"#00cc96\",\"#ab63fa\",\"#FFA15A\",\"#19d3f3\",\"#FF6692\",\"#B6E880\",\"#FF97FF\",\"#FECB52\"],\"font\":{\"color\":\"#2a3f5f\"},\"geo\":{\"bgcolor\":\"white\",\"lakecolor\":\"white\",\"landcolor\":\"#E5ECF6\",\"showlakes\":true,\"showland\":true,\"subunitcolor\":\"white\"},\"hoverlabel\":{\"align\":\"left\"},\"hovermode\":\"closest\",\"mapbox\":{\"style\":\"light\"},\"paper_bgcolor\":\"white\",\"plot_bgcolor\":\"#E5ECF6\",\"polar\":{\"angularaxis\":{\"gridcolor\":\"white\",\"linecolor\":\"white\",\"ticks\":\"\"},\"bgcolor\":\"#E5ECF6\",\"radialaxis\":{\"gridcolor\":\"white\",\"linecolor\":\"white\",\"ticks\":\"\"}},\"scene\":{\"xaxis\":{\"backgroundcolor\":\"#E5ECF6\",\"gridcolor\":\"white\",\"gridwidth\":2,\"linecolor\":\"white\",\"showbackground\":true,\"ticks\":\"\",\"zerolinecolor\":\"white\"},\"yaxis\":{\"backgroundcolor\":\"#E5ECF6\",\"gridcolor\":\"white\",\"gridwidth\":2,\"linecolor\":\"white\",\"showbackground\":true,\"ticks\":\"\",\"zerolinecolor\":\"white\"},\"zaxis\":{\"backgroundcolor\":\"#E5ECF6\",\"gridcolor\":\"white\",\"gridwidth\":2,\"linecolor\":\"white\",\"showbackground\":true,\"ticks\":\"\",\"zerolinecolor\":\"white\"}},\"shapedefaults\":{\"line\":{\"color\":\"#2a3f5f\"}},\"ternary\":{\"aaxis\":{\"gridcolor\":\"white\",\"linecolor\":\"white\",\"ticks\":\"\"},\"baxis\":{\"gridcolor\":\"white\",\"linecolor\":\"white\",\"ticks\":\"\"},\"bgcolor\":\"#E5ECF6\",\"caxis\":{\"gridcolor\":\"white\",\"linecolor\":\"white\",\"ticks\":\"\"}},\"title\":{\"x\":0.05},\"xaxis\":{\"automargin\":true,\"gridcolor\":\"white\",\"linecolor\":\"white\",\"ticks\":\"\",\"title\":{\"standoff\":15},\"zerolinecolor\":\"white\",\"zerolinewidth\":2},\"yaxis\":{\"automargin\":true,\"gridcolor\":\"white\",\"linecolor\":\"white\",\"ticks\":\"\",\"title\":{\"standoff\":15},\"zerolinecolor\":\"white\",\"zerolinewidth\":2}}},\"xaxis\":{\"anchor\":\"y\",\"domain\":[0.0,1.0],\"title\":{\"text\":\"Year\"}},\"yaxis\":{\"anchor\":\"x\",\"domain\":[0.0,1.0],\"title\":{\"text\":\"Load Weight\"}},\"legend\":{\"tracegroupgap\":0},\"title\":{\"text\":\"Load Weight by Year\"},\"barmode\":\"relative\"},                        {\"responsive\": true}                    ).then(function(){\n                            \nvar gd = document.getElementById('5e104e08-5526-4a01-98ac-90e40ed31a4e');\nvar x = new MutationObserver(function (mutations, observer) {{\n        var display = window.getComputedStyle(gd).display;\n        if (!display || display === 'none') {{\n            console.log([gd, 'removed!']);\n            Plotly.purge(gd);\n            observer.disconnect();\n        }}\n}});\n\n// Listen for the removal of the full notebook cells\nvar notebookContainer = gd.closest('#notebook-container');\nif (notebookContainer) {{\n    x.observe(notebookContainer, {childList: true});\n}}\n\n// Listen for the clearing of the current output cell\nvar outputEl = gd.closest('.output');\nif (outputEl) {{\n    x.observe(outputEl, {childList: true});\n}}\n\n                        })                };                            </script>        </div>\n</body>\n</html>"
     },
     "metadata": {},
     "output_type": "display_data"
    }
   ]
  },
  {
   "cell_type": "markdown",
   "source": "##### Month",
   "metadata": {
    "cell_id": "00079-036a0a44-0bd9-4a55-a585-ec141563a9ea",
    "deepnote_cell_type": "markdown",
    "deepnote_cell_height": 54
   }
  },
  {
   "cell_type": "code",
   "metadata": {
    "cell_id": "00080-0b3fe4fe-0662-4ea9-9905-dc5c069ca181",
    "deepnote_to_be_reexecuted": false,
    "source_hash": "7a6ac444",
    "execution_start": 1648029781396,
    "execution_millis": 44,
    "deepnote_cell_type": "code",
    "deepnote_cell_height": 99
   },
   "source": "weightsum_by_month = data[[\"Load Weight\", \"Month\"]].groupby(by = \"Month\").sum()\nweightmean_by_month = data[[\"Load Weight\", \"Month\"]].groupby(by = \"Month\").mean()",
   "execution_count": 55,
   "outputs": []
  },
  {
   "cell_type": "code",
   "metadata": {
    "scrolled": true,
    "cell_id": "00081-4b9616a1-2002-4d41-a6e6-ba07389adb80",
    "deepnote_to_be_reexecuted": false,
    "source_hash": "5c0dbd2d",
    "execution_start": 1648029781440,
    "execution_millis": 2,
    "deepnote_cell_type": "code",
    "deepnote_cell_height": 393
   },
   "source": "weightsum_by_month.sort_values(by= \"Month\", ascending= False).head()",
   "execution_count": 56,
   "outputs": [
    {
     "output_type": "execute_result",
     "execution_count": 56,
     "data": {
      "application/vnd.deepnote.dataframe.v3+json": {
       "column_count": 1,
       "row_count": 5,
       "columns": [
        {
         "name": "Load Weight",
         "dtype": "float64",
         "stats": {
          "unique_count": 5,
          "nan_count": 0,
          "min": "570295230.0",
          "max": "673137871.0",
          "histogram": [
           {
            "bin_start": 570295230,
            "bin_end": 580579494.1,
            "count": 1
           },
           {
            "bin_start": 580579494.1,
            "bin_end": 590863758.2,
            "count": 1
           },
           {
            "bin_start": 590863758.2,
            "bin_end": 601148022.3,
            "count": 0
           },
           {
            "bin_start": 601148022.3,
            "bin_end": 611432286.4,
            "count": 0
           },
           {
            "bin_start": 611432286.4,
            "bin_end": 621716550.5,
            "count": 1
           },
           {
            "bin_start": 621716550.5,
            "bin_end": 632000814.6,
            "count": 1
           },
           {
            "bin_start": 632000814.6,
            "bin_end": 642285078.7,
            "count": 0
           },
           {
            "bin_start": 642285078.7,
            "bin_end": 652569342.8,
            "count": 0
           },
           {
            "bin_start": 652569342.8,
            "bin_end": 662853606.9,
            "count": 0
           },
           {
            "bin_start": 662853606.9,
            "bin_end": 673137871,
            "count": 1
           }
          ]
         }
        },
        {
         "name": "_deepnote_index_column",
         "dtype": "int64"
        }
       ],
       "rows": [
        {
         "Load Weight": 673137871,
         "_deepnote_index_column": 12
        },
        {
         "Load Weight": 630001994,
         "_deepnote_index_column": 11
        },
        {
         "Load Weight": 613861981,
         "_deepnote_index_column": 10
        },
        {
         "Load Weight": 570295230,
         "_deepnote_index_column": 9
        },
        {
         "Load Weight": 581882035,
         "_deepnote_index_column": 8
        }
       ]
      },
      "text/plain": "           Load Weight\nMonth                 \n12    673137871.000000\n11    630001994.000000\n10    613861981.000000\n9     570295230.000000\n8     581882035.000000",
      "text/html": "<div>\n<style scoped>\n    .dataframe tbody tr th:only-of-type {\n        vertical-align: middle;\n    }\n\n    .dataframe tbody tr th {\n        vertical-align: top;\n    }\n\n    .dataframe thead th {\n        text-align: right;\n    }\n</style>\n<table border=\"1\" class=\"dataframe\">\n  <thead>\n    <tr style=\"text-align: right;\">\n      <th></th>\n      <th>Load Weight</th>\n    </tr>\n    <tr>\n      <th>Month</th>\n      <th></th>\n    </tr>\n  </thead>\n  <tbody>\n    <tr>\n      <th>12</th>\n      <td>673137871.000000</td>\n    </tr>\n    <tr>\n      <th>11</th>\n      <td>630001994.000000</td>\n    </tr>\n    <tr>\n      <th>10</th>\n      <td>613861981.000000</td>\n    </tr>\n    <tr>\n      <th>9</th>\n      <td>570295230.000000</td>\n    </tr>\n    <tr>\n      <th>8</th>\n      <td>581882035.000000</td>\n    </tr>\n  </tbody>\n</table>\n</div>"
     },
     "metadata": {}
    }
   ]
  },
  {
   "cell_type": "code",
   "metadata": {
    "scrolled": true,
    "cell_id": "00082-96f224e9-3bf6-48d0-8940-78e52b3e5612",
    "deepnote_to_be_reexecuted": false,
    "source_hash": "461e5c3d",
    "execution_start": 1648029781487,
    "execution_millis": 63,
    "deepnote_cell_type": "code",
    "deepnote_cell_height": 642,
    "deepnote_output_heights": [
     527
    ]
   },
   "source": "fig = px.bar(weightsum_by_month, x= weightsum_by_month.index, y=\"Load Weight\", title='Load Weight by Month')\nfig.show()",
   "execution_count": 57,
   "outputs": [
    {
     "data": {
      "text/html": "<html>\n<head><meta charset=\"utf-8\" /></head>\n<body>\n    <div>            <script src=\"https://cdnjs.cloudflare.com/ajax/libs/mathjax/2.7.5/MathJax.js?config=TeX-AMS-MML_SVG\"></script><script type=\"text/javascript\">if (window.MathJax) {MathJax.Hub.Config({SVG: {font: \"STIX-Web\"}});}</script>                <script type=\"text/javascript\">window.PlotlyConfig = {MathJaxConfig: 'local'};</script>\n        <script src=\"https://cdn.plot.ly/plotly-2.9.0.min.js\"></script>                <div id=\"e0f6373d-cf6d-4eab-9a9d-05bcba7e531f\" class=\"plotly-graph-div\" style=\"height:525px; width:100%;\"></div>            <script type=\"text/javascript\">                                    window.PLOTLYENV=window.PLOTLYENV || {};                                    if (document.getElementById(\"e0f6373d-cf6d-4eab-9a9d-05bcba7e531f\")) {                    Plotly.newPlot(                        \"e0f6373d-cf6d-4eab-9a9d-05bcba7e531f\",                        [{\"alignmentgroup\":\"True\",\"hovertemplate\":\"Month=%{x}<br>Load Weight=%{y}<extra></extra>\",\"legendgroup\":\"\",\"marker\":{\"color\":\"#636efa\",\"pattern\":{\"shape\":\"\"}},\"name\":\"\",\"offsetgroup\":\"\",\"orientation\":\"v\",\"showlegend\":false,\"textposition\":\"auto\",\"x\":[1,2,3,4,5,6,7,8,9,10,11,12],\"xaxis\":\"x\",\"y\":[676779821.0,576922468.0,738191073.2414,717959418.0,698164106.0,657830837.298,606987528.0,581882035.0,570295230.0,613861981.0,630001994.0,673137871.0],\"yaxis\":\"y\",\"type\":\"bar\"}],                        {\"template\":{\"data\":{\"bar\":[{\"error_x\":{\"color\":\"#2a3f5f\"},\"error_y\":{\"color\":\"#2a3f5f\"},\"marker\":{\"line\":{\"color\":\"#E5ECF6\",\"width\":0.5},\"pattern\":{\"fillmode\":\"overlay\",\"size\":10,\"solidity\":0.2}},\"type\":\"bar\"}],\"barpolar\":[{\"marker\":{\"line\":{\"color\":\"#E5ECF6\",\"width\":0.5},\"pattern\":{\"fillmode\":\"overlay\",\"size\":10,\"solidity\":0.2}},\"type\":\"barpolar\"}],\"carpet\":[{\"aaxis\":{\"endlinecolor\":\"#2a3f5f\",\"gridcolor\":\"white\",\"linecolor\":\"white\",\"minorgridcolor\":\"white\",\"startlinecolor\":\"#2a3f5f\"},\"baxis\":{\"endlinecolor\":\"#2a3f5f\",\"gridcolor\":\"white\",\"linecolor\":\"white\",\"minorgridcolor\":\"white\",\"startlinecolor\":\"#2a3f5f\"},\"type\":\"carpet\"}],\"choropleth\":[{\"colorbar\":{\"outlinewidth\":0,\"ticks\":\"\"},\"type\":\"choropleth\"}],\"contour\":[{\"colorbar\":{\"outlinewidth\":0,\"ticks\":\"\"},\"colorscale\":[[0.0,\"#0d0887\"],[0.1111111111111111,\"#46039f\"],[0.2222222222222222,\"#7201a8\"],[0.3333333333333333,\"#9c179e\"],[0.4444444444444444,\"#bd3786\"],[0.5555555555555556,\"#d8576b\"],[0.6666666666666666,\"#ed7953\"],[0.7777777777777778,\"#fb9f3a\"],[0.8888888888888888,\"#fdca26\"],[1.0,\"#f0f921\"]],\"type\":\"contour\"}],\"contourcarpet\":[{\"colorbar\":{\"outlinewidth\":0,\"ticks\":\"\"},\"type\":\"contourcarpet\"}],\"heatmap\":[{\"colorbar\":{\"outlinewidth\":0,\"ticks\":\"\"},\"colorscale\":[[0.0,\"#0d0887\"],[0.1111111111111111,\"#46039f\"],[0.2222222222222222,\"#7201a8\"],[0.3333333333333333,\"#9c179e\"],[0.4444444444444444,\"#bd3786\"],[0.5555555555555556,\"#d8576b\"],[0.6666666666666666,\"#ed7953\"],[0.7777777777777778,\"#fb9f3a\"],[0.8888888888888888,\"#fdca26\"],[1.0,\"#f0f921\"]],\"type\":\"heatmap\"}],\"heatmapgl\":[{\"colorbar\":{\"outlinewidth\":0,\"ticks\":\"\"},\"colorscale\":[[0.0,\"#0d0887\"],[0.1111111111111111,\"#46039f\"],[0.2222222222222222,\"#7201a8\"],[0.3333333333333333,\"#9c179e\"],[0.4444444444444444,\"#bd3786\"],[0.5555555555555556,\"#d8576b\"],[0.6666666666666666,\"#ed7953\"],[0.7777777777777778,\"#fb9f3a\"],[0.8888888888888888,\"#fdca26\"],[1.0,\"#f0f921\"]],\"type\":\"heatmapgl\"}],\"histogram\":[{\"marker\":{\"pattern\":{\"fillmode\":\"overlay\",\"size\":10,\"solidity\":0.2}},\"type\":\"histogram\"}],\"histogram2d\":[{\"colorbar\":{\"outlinewidth\":0,\"ticks\":\"\"},\"colorscale\":[[0.0,\"#0d0887\"],[0.1111111111111111,\"#46039f\"],[0.2222222222222222,\"#7201a8\"],[0.3333333333333333,\"#9c179e\"],[0.4444444444444444,\"#bd3786\"],[0.5555555555555556,\"#d8576b\"],[0.6666666666666666,\"#ed7953\"],[0.7777777777777778,\"#fb9f3a\"],[0.8888888888888888,\"#fdca26\"],[1.0,\"#f0f921\"]],\"type\":\"histogram2d\"}],\"histogram2dcontour\":[{\"colorbar\":{\"outlinewidth\":0,\"ticks\":\"\"},\"colorscale\":[[0.0,\"#0d0887\"],[0.1111111111111111,\"#46039f\"],[0.2222222222222222,\"#7201a8\"],[0.3333333333333333,\"#9c179e\"],[0.4444444444444444,\"#bd3786\"],[0.5555555555555556,\"#d8576b\"],[0.6666666666666666,\"#ed7953\"],[0.7777777777777778,\"#fb9f3a\"],[0.8888888888888888,\"#fdca26\"],[1.0,\"#f0f921\"]],\"type\":\"histogram2dcontour\"}],\"mesh3d\":[{\"colorbar\":{\"outlinewidth\":0,\"ticks\":\"\"},\"type\":\"mesh3d\"}],\"parcoords\":[{\"line\":{\"colorbar\":{\"outlinewidth\":0,\"ticks\":\"\"}},\"type\":\"parcoords\"}],\"pie\":[{\"automargin\":true,\"type\":\"pie\"}],\"scatter\":[{\"marker\":{\"colorbar\":{\"outlinewidth\":0,\"ticks\":\"\"}},\"type\":\"scatter\"}],\"scatter3d\":[{\"line\":{\"colorbar\":{\"outlinewidth\":0,\"ticks\":\"\"}},\"marker\":{\"colorbar\":{\"outlinewidth\":0,\"ticks\":\"\"}},\"type\":\"scatter3d\"}],\"scattercarpet\":[{\"marker\":{\"colorbar\":{\"outlinewidth\":0,\"ticks\":\"\"}},\"type\":\"scattercarpet\"}],\"scattergeo\":[{\"marker\":{\"colorbar\":{\"outlinewidth\":0,\"ticks\":\"\"}},\"type\":\"scattergeo\"}],\"scattergl\":[{\"marker\":{\"colorbar\":{\"outlinewidth\":0,\"ticks\":\"\"}},\"type\":\"scattergl\"}],\"scattermapbox\":[{\"marker\":{\"colorbar\":{\"outlinewidth\":0,\"ticks\":\"\"}},\"type\":\"scattermapbox\"}],\"scatterpolar\":[{\"marker\":{\"colorbar\":{\"outlinewidth\":0,\"ticks\":\"\"}},\"type\":\"scatterpolar\"}],\"scatterpolargl\":[{\"marker\":{\"colorbar\":{\"outlinewidth\":0,\"ticks\":\"\"}},\"type\":\"scatterpolargl\"}],\"scatterternary\":[{\"marker\":{\"colorbar\":{\"outlinewidth\":0,\"ticks\":\"\"}},\"type\":\"scatterternary\"}],\"surface\":[{\"colorbar\":{\"outlinewidth\":0,\"ticks\":\"\"},\"colorscale\":[[0.0,\"#0d0887\"],[0.1111111111111111,\"#46039f\"],[0.2222222222222222,\"#7201a8\"],[0.3333333333333333,\"#9c179e\"],[0.4444444444444444,\"#bd3786\"],[0.5555555555555556,\"#d8576b\"],[0.6666666666666666,\"#ed7953\"],[0.7777777777777778,\"#fb9f3a\"],[0.8888888888888888,\"#fdca26\"],[1.0,\"#f0f921\"]],\"type\":\"surface\"}],\"table\":[{\"cells\":{\"fill\":{\"color\":\"#EBF0F8\"},\"line\":{\"color\":\"white\"}},\"header\":{\"fill\":{\"color\":\"#C8D4E3\"},\"line\":{\"color\":\"white\"}},\"type\":\"table\"}]},\"layout\":{\"annotationdefaults\":{\"arrowcolor\":\"#2a3f5f\",\"arrowhead\":0,\"arrowwidth\":1},\"autotypenumbers\":\"strict\",\"coloraxis\":{\"colorbar\":{\"outlinewidth\":0,\"ticks\":\"\"}},\"colorscale\":{\"diverging\":[[0,\"#8e0152\"],[0.1,\"#c51b7d\"],[0.2,\"#de77ae\"],[0.3,\"#f1b6da\"],[0.4,\"#fde0ef\"],[0.5,\"#f7f7f7\"],[0.6,\"#e6f5d0\"],[0.7,\"#b8e186\"],[0.8,\"#7fbc41\"],[0.9,\"#4d9221\"],[1,\"#276419\"]],\"sequential\":[[0.0,\"#0d0887\"],[0.1111111111111111,\"#46039f\"],[0.2222222222222222,\"#7201a8\"],[0.3333333333333333,\"#9c179e\"],[0.4444444444444444,\"#bd3786\"],[0.5555555555555556,\"#d8576b\"],[0.6666666666666666,\"#ed7953\"],[0.7777777777777778,\"#fb9f3a\"],[0.8888888888888888,\"#fdca26\"],[1.0,\"#f0f921\"]],\"sequentialminus\":[[0.0,\"#0d0887\"],[0.1111111111111111,\"#46039f\"],[0.2222222222222222,\"#7201a8\"],[0.3333333333333333,\"#9c179e\"],[0.4444444444444444,\"#bd3786\"],[0.5555555555555556,\"#d8576b\"],[0.6666666666666666,\"#ed7953\"],[0.7777777777777778,\"#fb9f3a\"],[0.8888888888888888,\"#fdca26\"],[1.0,\"#f0f921\"]]},\"colorway\":[\"#636efa\",\"#EF553B\",\"#00cc96\",\"#ab63fa\",\"#FFA15A\",\"#19d3f3\",\"#FF6692\",\"#B6E880\",\"#FF97FF\",\"#FECB52\"],\"font\":{\"color\":\"#2a3f5f\"},\"geo\":{\"bgcolor\":\"white\",\"lakecolor\":\"white\",\"landcolor\":\"#E5ECF6\",\"showlakes\":true,\"showland\":true,\"subunitcolor\":\"white\"},\"hoverlabel\":{\"align\":\"left\"},\"hovermode\":\"closest\",\"mapbox\":{\"style\":\"light\"},\"paper_bgcolor\":\"white\",\"plot_bgcolor\":\"#E5ECF6\",\"polar\":{\"angularaxis\":{\"gridcolor\":\"white\",\"linecolor\":\"white\",\"ticks\":\"\"},\"bgcolor\":\"#E5ECF6\",\"radialaxis\":{\"gridcolor\":\"white\",\"linecolor\":\"white\",\"ticks\":\"\"}},\"scene\":{\"xaxis\":{\"backgroundcolor\":\"#E5ECF6\",\"gridcolor\":\"white\",\"gridwidth\":2,\"linecolor\":\"white\",\"showbackground\":true,\"ticks\":\"\",\"zerolinecolor\":\"white\"},\"yaxis\":{\"backgroundcolor\":\"#E5ECF6\",\"gridcolor\":\"white\",\"gridwidth\":2,\"linecolor\":\"white\",\"showbackground\":true,\"ticks\":\"\",\"zerolinecolor\":\"white\"},\"zaxis\":{\"backgroundcolor\":\"#E5ECF6\",\"gridcolor\":\"white\",\"gridwidth\":2,\"linecolor\":\"white\",\"showbackground\":true,\"ticks\":\"\",\"zerolinecolor\":\"white\"}},\"shapedefaults\":{\"line\":{\"color\":\"#2a3f5f\"}},\"ternary\":{\"aaxis\":{\"gridcolor\":\"white\",\"linecolor\":\"white\",\"ticks\":\"\"},\"baxis\":{\"gridcolor\":\"white\",\"linecolor\":\"white\",\"ticks\":\"\"},\"bgcolor\":\"#E5ECF6\",\"caxis\":{\"gridcolor\":\"white\",\"linecolor\":\"white\",\"ticks\":\"\"}},\"title\":{\"x\":0.05},\"xaxis\":{\"automargin\":true,\"gridcolor\":\"white\",\"linecolor\":\"white\",\"ticks\":\"\",\"title\":{\"standoff\":15},\"zerolinecolor\":\"white\",\"zerolinewidth\":2},\"yaxis\":{\"automargin\":true,\"gridcolor\":\"white\",\"linecolor\":\"white\",\"ticks\":\"\",\"title\":{\"standoff\":15},\"zerolinecolor\":\"white\",\"zerolinewidth\":2}}},\"xaxis\":{\"anchor\":\"y\",\"domain\":[0.0,1.0],\"title\":{\"text\":\"Month\"}},\"yaxis\":{\"anchor\":\"x\",\"domain\":[0.0,1.0],\"title\":{\"text\":\"Load Weight\"}},\"legend\":{\"tracegroupgap\":0},\"title\":{\"text\":\"Load Weight by Month\"},\"barmode\":\"relative\"},                        {\"responsive\": true}                    ).then(function(){\n                            \nvar gd = document.getElementById('e0f6373d-cf6d-4eab-9a9d-05bcba7e531f');\nvar x = new MutationObserver(function (mutations, observer) {{\n        var display = window.getComputedStyle(gd).display;\n        if (!display || display === 'none') {{\n            console.log([gd, 'removed!']);\n            Plotly.purge(gd);\n            observer.disconnect();\n        }}\n}});\n\n// Listen for the removal of the full notebook cells\nvar notebookContainer = gd.closest('#notebook-container');\nif (notebookContainer) {{\n    x.observe(notebookContainer, {childList: true});\n}}\n\n// Listen for the clearing of the current output cell\nvar outputEl = gd.closest('.output');\nif (outputEl) {{\n    x.observe(outputEl, {childList: true});\n}}\n\n                        })                };                            </script>        </div>\n</body>\n</html>"
     },
     "metadata": {},
     "output_type": "display_data"
    }
   ]
  },
  {
   "cell_type": "markdown",
   "source": "##### Day",
   "metadata": {
    "cell_id": "00083-c6a64da3-3cc6-4bc8-ba1d-f2e8029dd765",
    "deepnote_cell_type": "markdown",
    "deepnote_cell_height": 54
   }
  },
  {
   "cell_type": "code",
   "metadata": {
    "cell_id": "00084-da8ae3fb-b3d6-4dae-9d7f-8bf4b49cf512",
    "deepnote_to_be_reexecuted": false,
    "source_hash": "86b776ac",
    "execution_start": 1648029781985,
    "execution_millis": 50,
    "deepnote_cell_type": "code",
    "deepnote_cell_height": 99
   },
   "source": "weightsum_by_day = data[[\"Load Weight\", \"Day\"]].groupby(by = \"Day\").sum()\nweightmean_by_day = data[[\"Load Weight\", \"Day\"]].groupby(by = \"Day\").mean()",
   "execution_count": 58,
   "outputs": []
  },
  {
   "cell_type": "code",
   "metadata": {
    "scrolled": true,
    "cell_id": "00085-6d8394ab-6d82-47da-beeb-439df77791a0",
    "deepnote_to_be_reexecuted": false,
    "source_hash": "557d8cda",
    "execution_start": 1648029787084,
    "execution_millis": 62,
    "deepnote_cell_type": "code",
    "deepnote_cell_height": 475
   },
   "source": "weightsum_by_day.sort_values(by= \"Day\", ascending= False)",
   "execution_count": 59,
   "outputs": [
    {
     "output_type": "execute_result",
     "execution_count": 59,
     "data": {
      "application/vnd.deepnote.dataframe.v3+json": {
       "column_count": 1,
       "row_count": 7,
       "columns": [
        {
         "name": "Load Weight",
         "dtype": "float64",
         "stats": {
          "unique_count": 7,
          "nan_count": 0,
          "min": "6246113.0",
          "max": "1731439641.125",
          "histogram": [
           {
            "bin_start": 6246113,
            "bin_end": 178765465.8125,
            "count": 2
           },
           {
            "bin_start": 178765465.8125,
            "bin_end": 351284818.625,
            "count": 0
           },
           {
            "bin_start": 351284818.625,
            "bin_end": 523804171.4375,
            "count": 0
           },
           {
            "bin_start": 523804171.4375,
            "bin_end": 696323524.25,
            "count": 0
           },
           {
            "bin_start": 696323524.25,
            "bin_end": 868842877.0625,
            "count": 0
           },
           {
            "bin_start": 868842877.0625,
            "bin_end": 1041362229.875,
            "count": 0
           },
           {
            "bin_start": 1041362229.875,
            "bin_end": 1213881582.6875,
            "count": 0
           },
           {
            "bin_start": 1213881582.6875,
            "bin_end": 1386400935.5,
            "count": 1
           },
           {
            "bin_start": 1386400935.5,
            "bin_end": 1558920288.3125,
            "count": 2
           },
           {
            "bin_start": 1558920288.3125,
            "bin_end": 1731439641.125,
            "count": 2
           }
          ]
         }
        },
        {
         "name": "_deepnote_index_column",
         "dtype": "int64"
        }
       ],
       "rows": [
        {
         "Load Weight": 6246113,
         "_deepnote_index_column": 6
        },
        {
         "Load Weight": 105411499,
         "_deepnote_index_column": 5
        },
        {
         "Load Weight": 1329832095,
         "_deepnote_index_column": 4
        },
        {
         "Load Weight": 1487577497,
         "_deepnote_index_column": 3
        },
        {
         "Load Weight": 1615468918.298,
         "_deepnote_index_column": 2
        },
        {
         "Load Weight": 1466038599.1164,
         "_deepnote_index_column": 1
        },
        {
         "Load Weight": 1731439641.125,
         "_deepnote_index_column": 0
        }
       ]
      },
      "text/plain": "          Load Weight\nDay                  \n6      6246113.000000\n5    105411499.000000\n4   1329832095.000000\n3   1487577497.000000\n2   1615468918.298000\n1   1466038599.116400\n0   1731439641.125000",
      "text/html": "<div>\n<style scoped>\n    .dataframe tbody tr th:only-of-type {\n        vertical-align: middle;\n    }\n\n    .dataframe tbody tr th {\n        vertical-align: top;\n    }\n\n    .dataframe thead th {\n        text-align: right;\n    }\n</style>\n<table border=\"1\" class=\"dataframe\">\n  <thead>\n    <tr style=\"text-align: right;\">\n      <th></th>\n      <th>Load Weight</th>\n    </tr>\n    <tr>\n      <th>Day</th>\n      <th></th>\n    </tr>\n  </thead>\n  <tbody>\n    <tr>\n      <th>6</th>\n      <td>6246113.000000</td>\n    </tr>\n    <tr>\n      <th>5</th>\n      <td>105411499.000000</td>\n    </tr>\n    <tr>\n      <th>4</th>\n      <td>1329832095.000000</td>\n    </tr>\n    <tr>\n      <th>3</th>\n      <td>1487577497.000000</td>\n    </tr>\n    <tr>\n      <th>2</th>\n      <td>1615468918.298000</td>\n    </tr>\n    <tr>\n      <th>1</th>\n      <td>1466038599.116400</td>\n    </tr>\n    <tr>\n      <th>0</th>\n      <td>1731439641.125000</td>\n    </tr>\n  </tbody>\n</table>\n</div>"
     },
     "metadata": {}
    }
   ]
  },
  {
   "cell_type": "code",
   "metadata": {
    "scrolled": true,
    "cell_id": "00086-b5f8697e-7c09-4be0-8150-e17b5b04d7b9",
    "deepnote_to_be_reexecuted": false,
    "source_hash": "2b9623cb",
    "execution_start": 1648029787132,
    "execution_millis": 498,
    "deepnote_cell_type": "code",
    "deepnote_cell_height": 660,
    "deepnote_output_heights": [
     527
    ]
   },
   "source": "# We can see that on the weekends (5 & 6), waste collected is tiny in comparison to weekdays\nfig = px.bar(weightsum_by_day, x= weightsum_by_day.index, y=\"Load Weight\", title='Load Weight by Day')\nfig.show()",
   "execution_count": 60,
   "outputs": [
    {
     "data": {
      "text/html": "<html>\n<head><meta charset=\"utf-8\" /></head>\n<body>\n    <div>            <script src=\"https://cdnjs.cloudflare.com/ajax/libs/mathjax/2.7.5/MathJax.js?config=TeX-AMS-MML_SVG\"></script><script type=\"text/javascript\">if (window.MathJax) {MathJax.Hub.Config({SVG: {font: \"STIX-Web\"}});}</script>                <script type=\"text/javascript\">window.PlotlyConfig = {MathJaxConfig: 'local'};</script>\n        <script src=\"https://cdn.plot.ly/plotly-2.9.0.min.js\"></script>                <div id=\"4931af98-a46d-4d9e-b380-d300029669f9\" class=\"plotly-graph-div\" style=\"height:525px; width:100%;\"></div>            <script type=\"text/javascript\">                                    window.PLOTLYENV=window.PLOTLYENV || {};                                    if (document.getElementById(\"4931af98-a46d-4d9e-b380-d300029669f9\")) {                    Plotly.newPlot(                        \"4931af98-a46d-4d9e-b380-d300029669f9\",                        [{\"alignmentgroup\":\"True\",\"hovertemplate\":\"Day=%{x}<br>Load Weight=%{y}<extra></extra>\",\"legendgroup\":\"\",\"marker\":{\"color\":\"#636efa\",\"pattern\":{\"shape\":\"\"}},\"name\":\"\",\"offsetgroup\":\"\",\"orientation\":\"v\",\"showlegend\":false,\"textposition\":\"auto\",\"x\":[0,1,2,3,4,5,6],\"xaxis\":\"x\",\"y\":[1731439641.125,1466038599.1164,1615468918.298,1487577497.0,1329832095.0,105411499.0,6246113.0],\"yaxis\":\"y\",\"type\":\"bar\"}],                        {\"template\":{\"data\":{\"bar\":[{\"error_x\":{\"color\":\"#2a3f5f\"},\"error_y\":{\"color\":\"#2a3f5f\"},\"marker\":{\"line\":{\"color\":\"#E5ECF6\",\"width\":0.5},\"pattern\":{\"fillmode\":\"overlay\",\"size\":10,\"solidity\":0.2}},\"type\":\"bar\"}],\"barpolar\":[{\"marker\":{\"line\":{\"color\":\"#E5ECF6\",\"width\":0.5},\"pattern\":{\"fillmode\":\"overlay\",\"size\":10,\"solidity\":0.2}},\"type\":\"barpolar\"}],\"carpet\":[{\"aaxis\":{\"endlinecolor\":\"#2a3f5f\",\"gridcolor\":\"white\",\"linecolor\":\"white\",\"minorgridcolor\":\"white\",\"startlinecolor\":\"#2a3f5f\"},\"baxis\":{\"endlinecolor\":\"#2a3f5f\",\"gridcolor\":\"white\",\"linecolor\":\"white\",\"minorgridcolor\":\"white\",\"startlinecolor\":\"#2a3f5f\"},\"type\":\"carpet\"}],\"choropleth\":[{\"colorbar\":{\"outlinewidth\":0,\"ticks\":\"\"},\"type\":\"choropleth\"}],\"contour\":[{\"colorbar\":{\"outlinewidth\":0,\"ticks\":\"\"},\"colorscale\":[[0.0,\"#0d0887\"],[0.1111111111111111,\"#46039f\"],[0.2222222222222222,\"#7201a8\"],[0.3333333333333333,\"#9c179e\"],[0.4444444444444444,\"#bd3786\"],[0.5555555555555556,\"#d8576b\"],[0.6666666666666666,\"#ed7953\"],[0.7777777777777778,\"#fb9f3a\"],[0.8888888888888888,\"#fdca26\"],[1.0,\"#f0f921\"]],\"type\":\"contour\"}],\"contourcarpet\":[{\"colorbar\":{\"outlinewidth\":0,\"ticks\":\"\"},\"type\":\"contourcarpet\"}],\"heatmap\":[{\"colorbar\":{\"outlinewidth\":0,\"ticks\":\"\"},\"colorscale\":[[0.0,\"#0d0887\"],[0.1111111111111111,\"#46039f\"],[0.2222222222222222,\"#7201a8\"],[0.3333333333333333,\"#9c179e\"],[0.4444444444444444,\"#bd3786\"],[0.5555555555555556,\"#d8576b\"],[0.6666666666666666,\"#ed7953\"],[0.7777777777777778,\"#fb9f3a\"],[0.8888888888888888,\"#fdca26\"],[1.0,\"#f0f921\"]],\"type\":\"heatmap\"}],\"heatmapgl\":[{\"colorbar\":{\"outlinewidth\":0,\"ticks\":\"\"},\"colorscale\":[[0.0,\"#0d0887\"],[0.1111111111111111,\"#46039f\"],[0.2222222222222222,\"#7201a8\"],[0.3333333333333333,\"#9c179e\"],[0.4444444444444444,\"#bd3786\"],[0.5555555555555556,\"#d8576b\"],[0.6666666666666666,\"#ed7953\"],[0.7777777777777778,\"#fb9f3a\"],[0.8888888888888888,\"#fdca26\"],[1.0,\"#f0f921\"]],\"type\":\"heatmapgl\"}],\"histogram\":[{\"marker\":{\"pattern\":{\"fillmode\":\"overlay\",\"size\":10,\"solidity\":0.2}},\"type\":\"histogram\"}],\"histogram2d\":[{\"colorbar\":{\"outlinewidth\":0,\"ticks\":\"\"},\"colorscale\":[[0.0,\"#0d0887\"],[0.1111111111111111,\"#46039f\"],[0.2222222222222222,\"#7201a8\"],[0.3333333333333333,\"#9c179e\"],[0.4444444444444444,\"#bd3786\"],[0.5555555555555556,\"#d8576b\"],[0.6666666666666666,\"#ed7953\"],[0.7777777777777778,\"#fb9f3a\"],[0.8888888888888888,\"#fdca26\"],[1.0,\"#f0f921\"]],\"type\":\"histogram2d\"}],\"histogram2dcontour\":[{\"colorbar\":{\"outlinewidth\":0,\"ticks\":\"\"},\"colorscale\":[[0.0,\"#0d0887\"],[0.1111111111111111,\"#46039f\"],[0.2222222222222222,\"#7201a8\"],[0.3333333333333333,\"#9c179e\"],[0.4444444444444444,\"#bd3786\"],[0.5555555555555556,\"#d8576b\"],[0.6666666666666666,\"#ed7953\"],[0.7777777777777778,\"#fb9f3a\"],[0.8888888888888888,\"#fdca26\"],[1.0,\"#f0f921\"]],\"type\":\"histogram2dcontour\"}],\"mesh3d\":[{\"colorbar\":{\"outlinewidth\":0,\"ticks\":\"\"},\"type\":\"mesh3d\"}],\"parcoords\":[{\"line\":{\"colorbar\":{\"outlinewidth\":0,\"ticks\":\"\"}},\"type\":\"parcoords\"}],\"pie\":[{\"automargin\":true,\"type\":\"pie\"}],\"scatter\":[{\"marker\":{\"colorbar\":{\"outlinewidth\":0,\"ticks\":\"\"}},\"type\":\"scatter\"}],\"scatter3d\":[{\"line\":{\"colorbar\":{\"outlinewidth\":0,\"ticks\":\"\"}},\"marker\":{\"colorbar\":{\"outlinewidth\":0,\"ticks\":\"\"}},\"type\":\"scatter3d\"}],\"scattercarpet\":[{\"marker\":{\"colorbar\":{\"outlinewidth\":0,\"ticks\":\"\"}},\"type\":\"scattercarpet\"}],\"scattergeo\":[{\"marker\":{\"colorbar\":{\"outlinewidth\":0,\"ticks\":\"\"}},\"type\":\"scattergeo\"}],\"scattergl\":[{\"marker\":{\"colorbar\":{\"outlinewidth\":0,\"ticks\":\"\"}},\"type\":\"scattergl\"}],\"scattermapbox\":[{\"marker\":{\"colorbar\":{\"outlinewidth\":0,\"ticks\":\"\"}},\"type\":\"scattermapbox\"}],\"scatterpolar\":[{\"marker\":{\"colorbar\":{\"outlinewidth\":0,\"ticks\":\"\"}},\"type\":\"scatterpolar\"}],\"scatterpolargl\":[{\"marker\":{\"colorbar\":{\"outlinewidth\":0,\"ticks\":\"\"}},\"type\":\"scatterpolargl\"}],\"scatterternary\":[{\"marker\":{\"colorbar\":{\"outlinewidth\":0,\"ticks\":\"\"}},\"type\":\"scatterternary\"}],\"surface\":[{\"colorbar\":{\"outlinewidth\":0,\"ticks\":\"\"},\"colorscale\":[[0.0,\"#0d0887\"],[0.1111111111111111,\"#46039f\"],[0.2222222222222222,\"#7201a8\"],[0.3333333333333333,\"#9c179e\"],[0.4444444444444444,\"#bd3786\"],[0.5555555555555556,\"#d8576b\"],[0.6666666666666666,\"#ed7953\"],[0.7777777777777778,\"#fb9f3a\"],[0.8888888888888888,\"#fdca26\"],[1.0,\"#f0f921\"]],\"type\":\"surface\"}],\"table\":[{\"cells\":{\"fill\":{\"color\":\"#EBF0F8\"},\"line\":{\"color\":\"white\"}},\"header\":{\"fill\":{\"color\":\"#C8D4E3\"},\"line\":{\"color\":\"white\"}},\"type\":\"table\"}]},\"layout\":{\"annotationdefaults\":{\"arrowcolor\":\"#2a3f5f\",\"arrowhead\":0,\"arrowwidth\":1},\"autotypenumbers\":\"strict\",\"coloraxis\":{\"colorbar\":{\"outlinewidth\":0,\"ticks\":\"\"}},\"colorscale\":{\"diverging\":[[0,\"#8e0152\"],[0.1,\"#c51b7d\"],[0.2,\"#de77ae\"],[0.3,\"#f1b6da\"],[0.4,\"#fde0ef\"],[0.5,\"#f7f7f7\"],[0.6,\"#e6f5d0\"],[0.7,\"#b8e186\"],[0.8,\"#7fbc41\"],[0.9,\"#4d9221\"],[1,\"#276419\"]],\"sequential\":[[0.0,\"#0d0887\"],[0.1111111111111111,\"#46039f\"],[0.2222222222222222,\"#7201a8\"],[0.3333333333333333,\"#9c179e\"],[0.4444444444444444,\"#bd3786\"],[0.5555555555555556,\"#d8576b\"],[0.6666666666666666,\"#ed7953\"],[0.7777777777777778,\"#fb9f3a\"],[0.8888888888888888,\"#fdca26\"],[1.0,\"#f0f921\"]],\"sequentialminus\":[[0.0,\"#0d0887\"],[0.1111111111111111,\"#46039f\"],[0.2222222222222222,\"#7201a8\"],[0.3333333333333333,\"#9c179e\"],[0.4444444444444444,\"#bd3786\"],[0.5555555555555556,\"#d8576b\"],[0.6666666666666666,\"#ed7953\"],[0.7777777777777778,\"#fb9f3a\"],[0.8888888888888888,\"#fdca26\"],[1.0,\"#f0f921\"]]},\"colorway\":[\"#636efa\",\"#EF553B\",\"#00cc96\",\"#ab63fa\",\"#FFA15A\",\"#19d3f3\",\"#FF6692\",\"#B6E880\",\"#FF97FF\",\"#FECB52\"],\"font\":{\"color\":\"#2a3f5f\"},\"geo\":{\"bgcolor\":\"white\",\"lakecolor\":\"white\",\"landcolor\":\"#E5ECF6\",\"showlakes\":true,\"showland\":true,\"subunitcolor\":\"white\"},\"hoverlabel\":{\"align\":\"left\"},\"hovermode\":\"closest\",\"mapbox\":{\"style\":\"light\"},\"paper_bgcolor\":\"white\",\"plot_bgcolor\":\"#E5ECF6\",\"polar\":{\"angularaxis\":{\"gridcolor\":\"white\",\"linecolor\":\"white\",\"ticks\":\"\"},\"bgcolor\":\"#E5ECF6\",\"radialaxis\":{\"gridcolor\":\"white\",\"linecolor\":\"white\",\"ticks\":\"\"}},\"scene\":{\"xaxis\":{\"backgroundcolor\":\"#E5ECF6\",\"gridcolor\":\"white\",\"gridwidth\":2,\"linecolor\":\"white\",\"showbackground\":true,\"ticks\":\"\",\"zerolinecolor\":\"white\"},\"yaxis\":{\"backgroundcolor\":\"#E5ECF6\",\"gridcolor\":\"white\",\"gridwidth\":2,\"linecolor\":\"white\",\"showbackground\":true,\"ticks\":\"\",\"zerolinecolor\":\"white\"},\"zaxis\":{\"backgroundcolor\":\"#E5ECF6\",\"gridcolor\":\"white\",\"gridwidth\":2,\"linecolor\":\"white\",\"showbackground\":true,\"ticks\":\"\",\"zerolinecolor\":\"white\"}},\"shapedefaults\":{\"line\":{\"color\":\"#2a3f5f\"}},\"ternary\":{\"aaxis\":{\"gridcolor\":\"white\",\"linecolor\":\"white\",\"ticks\":\"\"},\"baxis\":{\"gridcolor\":\"white\",\"linecolor\":\"white\",\"ticks\":\"\"},\"bgcolor\":\"#E5ECF6\",\"caxis\":{\"gridcolor\":\"white\",\"linecolor\":\"white\",\"ticks\":\"\"}},\"title\":{\"x\":0.05},\"xaxis\":{\"automargin\":true,\"gridcolor\":\"white\",\"linecolor\":\"white\",\"ticks\":\"\",\"title\":{\"standoff\":15},\"zerolinecolor\":\"white\",\"zerolinewidth\":2},\"yaxis\":{\"automargin\":true,\"gridcolor\":\"white\",\"linecolor\":\"white\",\"ticks\":\"\",\"title\":{\"standoff\":15},\"zerolinecolor\":\"white\",\"zerolinewidth\":2}}},\"xaxis\":{\"anchor\":\"y\",\"domain\":[0.0,1.0],\"title\":{\"text\":\"Day\"}},\"yaxis\":{\"anchor\":\"x\",\"domain\":[0.0,1.0],\"title\":{\"text\":\"Load Weight\"}},\"legend\":{\"tracegroupgap\":0},\"title\":{\"text\":\"Load Weight by Day\"},\"barmode\":\"relative\"},                        {\"responsive\": true}                    ).then(function(){\n                            \nvar gd = document.getElementById('4931af98-a46d-4d9e-b380-d300029669f9');\nvar x = new MutationObserver(function (mutations, observer) {{\n        var display = window.getComputedStyle(gd).display;\n        if (!display || display === 'none') {{\n            console.log([gd, 'removed!']);\n            Plotly.purge(gd);\n            observer.disconnect();\n        }}\n}});\n\n// Listen for the removal of the full notebook cells\nvar notebookContainer = gd.closest('#notebook-container');\nif (notebookContainer) {{\n    x.observe(notebookContainer, {childList: true});\n}}\n\n// Listen for the clearing of the current output cell\nvar outputEl = gd.closest('.output');\nif (outputEl) {{\n    x.observe(outputEl, {childList: true});\n}}\n\n                        })                };                            </script>        </div>\n</body>\n</html>"
     },
     "metadata": {},
     "output_type": "display_data"
    }
   ]
  },
  {
   "cell_type": "markdown",
   "source": "##### Hour",
   "metadata": {
    "cell_id": "00087-63e4200d-36d0-4a67-8e80-02ddea9105e2",
    "deepnote_cell_type": "markdown",
    "deepnote_cell_height": 54
   }
  },
  {
   "cell_type": "code",
   "metadata": {
    "cell_id": "00088-3d938366-0085-41df-9564-cf0ae161fe23",
    "deepnote_to_be_reexecuted": false,
    "source_hash": "2cd247be",
    "execution_start": 1648029789075,
    "execution_millis": 72,
    "deepnote_cell_type": "code",
    "deepnote_cell_height": 99
   },
   "source": "weightsum_by_hour = data[[\"Load Weight\", \"Hour\"]].groupby(by = \"Hour\").sum()\nweightmean_by_hour = data[[\"Load Weight\", \"Hour\"]].groupby(by = \"Hour\").mean()",
   "execution_count": 61,
   "outputs": []
  },
  {
   "cell_type": "code",
   "metadata": {
    "scrolled": true,
    "cell_id": "00089-7eee3343-af52-4d8f-863b-67be67b5b9b3",
    "deepnote_to_be_reexecuted": false,
    "source_hash": "baeabe6a",
    "execution_start": 1648029792136,
    "execution_millis": 27,
    "deepnote_cell_type": "code",
    "deepnote_cell_height": 598
   },
   "source": "weightsum_by_hour.sort_values(by= \"Hour\", ascending= False)",
   "execution_count": 62,
   "outputs": [
    {
     "output_type": "execute_result",
     "execution_count": 62,
     "data": {
      "application/vnd.deepnote.dataframe.v3+json": {
       "column_count": 1,
       "row_count": 24,
       "columns": [
        {
         "name": "Load Weight",
         "dtype": "float64",
         "stats": {
          "unique_count": 24,
          "nan_count": 0,
          "min": "97040.0",
          "max": "1508844547.0",
          "histogram": [
           {
            "bin_start": 97040,
            "bin_end": 150971790.7,
            "count": 15
           },
           {
            "bin_start": 150971790.7,
            "bin_end": 301846541.4,
            "count": 2
           },
           {
            "bin_start": 301846541.4,
            "bin_end": 452721292.09999996,
            "count": 1
           },
           {
            "bin_start": 452721292.09999996,
            "bin_end": 603596042.8,
            "count": 0
           },
           {
            "bin_start": 603596042.8,
            "bin_end": 754470793.5,
            "count": 1
           },
           {
            "bin_start": 754470793.5,
            "bin_end": 905345544.1999999,
            "count": 2
           },
           {
            "bin_start": 905345544.1999999,
            "bin_end": 1056220294.8999999,
            "count": 0
           },
           {
            "bin_start": 1056220294.8999999,
            "bin_end": 1207095045.6,
            "count": 1
           },
           {
            "bin_start": 1207095045.6,
            "bin_end": 1357969796.3,
            "count": 1
           },
           {
            "bin_start": 1357969796.3,
            "bin_end": 1508844547,
            "count": 1
           }
          ]
         }
        },
        {
         "name": "_deepnote_index_column",
         "dtype": "int64"
        }
       ],
       "rows": [
        {
         "Load Weight": 97040,
         "_deepnote_index_column": 23
        },
        {
         "Load Weight": 116140,
         "_deepnote_index_column": 22
        },
        {
         "Load Weight": 553380,
         "_deepnote_index_column": 21
        },
        {
         "Load Weight": 3947260,
         "_deepnote_index_column": 20
        },
        {
         "Load Weight": 23096285,
         "_deepnote_index_column": 19
        },
        {
         "Load Weight": 78874397,
         "_deepnote_index_column": 18
        },
        {
         "Load Weight": 196565683,
         "_deepnote_index_column": 17
        },
        {
         "Load Weight": 398974060,
         "_deepnote_index_column": 16
        },
        {
         "Load Weight": 846808904.298,
         "_deepnote_index_column": 15
        },
        {
         "Load Weight": 1308059776.1164,
         "_deepnote_index_column": 14
        }
       ]
      },
      "text/plain": "           Load Weight\nHour                  \n23        97040.000000\n22       116140.000000\n21       553380.000000\n20      3947260.000000\n19     23096285.000000\n18     78874397.000000\n17    196565683.000000\n16    398974060.000000\n15    846808904.298000\n14   1308059776.116400\n13   1508844547.000000\n12   1135653282.000000\n11    885680966.000000\n10    708005550.125000\n9     200559146.000000\n8      79529161.000000\n7      65437530.000000\n6      19155450.000000\n5       7611714.000000\n4      14209737.000000\n3      25305665.000000\n2      40205923.000000\n1      54956485.000000\n0     139766281.000000",
      "text/html": "<div>\n<style scoped>\n    .dataframe tbody tr th:only-of-type {\n        vertical-align: middle;\n    }\n\n    .dataframe tbody tr th {\n        vertical-align: top;\n    }\n\n    .dataframe thead th {\n        text-align: right;\n    }\n</style>\n<table border=\"1\" class=\"dataframe\">\n  <thead>\n    <tr style=\"text-align: right;\">\n      <th></th>\n      <th>Load Weight</th>\n    </tr>\n    <tr>\n      <th>Hour</th>\n      <th></th>\n    </tr>\n  </thead>\n  <tbody>\n    <tr>\n      <th>23</th>\n      <td>97040.000000</td>\n    </tr>\n    <tr>\n      <th>22</th>\n      <td>116140.000000</td>\n    </tr>\n    <tr>\n      <th>21</th>\n      <td>553380.000000</td>\n    </tr>\n    <tr>\n      <th>20</th>\n      <td>3947260.000000</td>\n    </tr>\n    <tr>\n      <th>19</th>\n      <td>23096285.000000</td>\n    </tr>\n    <tr>\n      <th>18</th>\n      <td>78874397.000000</td>\n    </tr>\n    <tr>\n      <th>17</th>\n      <td>196565683.000000</td>\n    </tr>\n    <tr>\n      <th>16</th>\n      <td>398974060.000000</td>\n    </tr>\n    <tr>\n      <th>15</th>\n      <td>846808904.298000</td>\n    </tr>\n    <tr>\n      <th>14</th>\n      <td>1308059776.116400</td>\n    </tr>\n    <tr>\n      <th>13</th>\n      <td>1508844547.000000</td>\n    </tr>\n    <tr>\n      <th>12</th>\n      <td>1135653282.000000</td>\n    </tr>\n    <tr>\n      <th>11</th>\n      <td>885680966.000000</td>\n    </tr>\n    <tr>\n      <th>10</th>\n      <td>708005550.125000</td>\n    </tr>\n    <tr>\n      <th>9</th>\n      <td>200559146.000000</td>\n    </tr>\n    <tr>\n      <th>8</th>\n      <td>79529161.000000</td>\n    </tr>\n    <tr>\n      <th>7</th>\n      <td>65437530.000000</td>\n    </tr>\n    <tr>\n      <th>6</th>\n      <td>19155450.000000</td>\n    </tr>\n    <tr>\n      <th>5</th>\n      <td>7611714.000000</td>\n    </tr>\n    <tr>\n      <th>4</th>\n      <td>14209737.000000</td>\n    </tr>\n    <tr>\n      <th>3</th>\n      <td>25305665.000000</td>\n    </tr>\n    <tr>\n      <th>2</th>\n      <td>40205923.000000</td>\n    </tr>\n    <tr>\n      <th>1</th>\n      <td>54956485.000000</td>\n    </tr>\n    <tr>\n      <th>0</th>\n      <td>139766281.000000</td>\n    </tr>\n  </tbody>\n</table>\n</div>"
     },
     "metadata": {}
    }
   ]
  },
  {
   "cell_type": "code",
   "metadata": {
    "scrolled": true,
    "cell_id": "00090-414aa765-faa8-4f4c-a787-42304429926b",
    "deepnote_to_be_reexecuted": false,
    "source_hash": "1a9e00e4",
    "execution_start": 1648029795154,
    "execution_millis": 119,
    "deepnote_cell_type": "code",
    "deepnote_cell_height": 660,
    "deepnote_output_heights": [
     527
    ]
   },
   "source": "# we can see the distribution of waste picked up\nfig = px.bar(weightsum_by_hour, x= weightsum_by_hour.index, y=\"Load Weight\", title='Load Weight by Hour')\nfig.show()",
   "execution_count": 63,
   "outputs": [
    {
     "data": {
      "text/html": "<html>\n<head><meta charset=\"utf-8\" /></head>\n<body>\n    <div>            <script src=\"https://cdnjs.cloudflare.com/ajax/libs/mathjax/2.7.5/MathJax.js?config=TeX-AMS-MML_SVG\"></script><script type=\"text/javascript\">if (window.MathJax) {MathJax.Hub.Config({SVG: {font: \"STIX-Web\"}});}</script>                <script type=\"text/javascript\">window.PlotlyConfig = {MathJaxConfig: 'local'};</script>\n        <script src=\"https://cdn.plot.ly/plotly-2.9.0.min.js\"></script>                <div id=\"8d48df97-a77e-41bd-8184-f5d9475b3b0f\" class=\"plotly-graph-div\" style=\"height:525px; width:100%;\"></div>            <script type=\"text/javascript\">                                    window.PLOTLYENV=window.PLOTLYENV || {};                                    if (document.getElementById(\"8d48df97-a77e-41bd-8184-f5d9475b3b0f\")) {                    Plotly.newPlot(                        \"8d48df97-a77e-41bd-8184-f5d9475b3b0f\",                        [{\"alignmentgroup\":\"True\",\"hovertemplate\":\"Hour=%{x}<br>Load Weight=%{y}<extra></extra>\",\"legendgroup\":\"\",\"marker\":{\"color\":\"#636efa\",\"pattern\":{\"shape\":\"\"}},\"name\":\"\",\"offsetgroup\":\"\",\"orientation\":\"v\",\"showlegend\":false,\"textposition\":\"auto\",\"x\":[0,1,2,3,4,5,6,7,8,9,10,11,12,13,14,15,16,17,18,19,20,21,22,23],\"xaxis\":\"x\",\"y\":[139766281.0,54956485.0,40205923.0,25305665.0,14209737.0,7611714.0,19155450.0,65437530.0,79529161.0,200559146.0,708005550.125,885680966.0,1135653282.0,1508844547.0,1308059776.1164,846808904.298,398974060.0,196565683.0,78874397.0,23096285.0,3947260.0,553380.0,116140.0,97040.0],\"yaxis\":\"y\",\"type\":\"bar\"}],                        {\"template\":{\"data\":{\"bar\":[{\"error_x\":{\"color\":\"#2a3f5f\"},\"error_y\":{\"color\":\"#2a3f5f\"},\"marker\":{\"line\":{\"color\":\"#E5ECF6\",\"width\":0.5},\"pattern\":{\"fillmode\":\"overlay\",\"size\":10,\"solidity\":0.2}},\"type\":\"bar\"}],\"barpolar\":[{\"marker\":{\"line\":{\"color\":\"#E5ECF6\",\"width\":0.5},\"pattern\":{\"fillmode\":\"overlay\",\"size\":10,\"solidity\":0.2}},\"type\":\"barpolar\"}],\"carpet\":[{\"aaxis\":{\"endlinecolor\":\"#2a3f5f\",\"gridcolor\":\"white\",\"linecolor\":\"white\",\"minorgridcolor\":\"white\",\"startlinecolor\":\"#2a3f5f\"},\"baxis\":{\"endlinecolor\":\"#2a3f5f\",\"gridcolor\":\"white\",\"linecolor\":\"white\",\"minorgridcolor\":\"white\",\"startlinecolor\":\"#2a3f5f\"},\"type\":\"carpet\"}],\"choropleth\":[{\"colorbar\":{\"outlinewidth\":0,\"ticks\":\"\"},\"type\":\"choropleth\"}],\"contour\":[{\"colorbar\":{\"outlinewidth\":0,\"ticks\":\"\"},\"colorscale\":[[0.0,\"#0d0887\"],[0.1111111111111111,\"#46039f\"],[0.2222222222222222,\"#7201a8\"],[0.3333333333333333,\"#9c179e\"],[0.4444444444444444,\"#bd3786\"],[0.5555555555555556,\"#d8576b\"],[0.6666666666666666,\"#ed7953\"],[0.7777777777777778,\"#fb9f3a\"],[0.8888888888888888,\"#fdca26\"],[1.0,\"#f0f921\"]],\"type\":\"contour\"}],\"contourcarpet\":[{\"colorbar\":{\"outlinewidth\":0,\"ticks\":\"\"},\"type\":\"contourcarpet\"}],\"heatmap\":[{\"colorbar\":{\"outlinewidth\":0,\"ticks\":\"\"},\"colorscale\":[[0.0,\"#0d0887\"],[0.1111111111111111,\"#46039f\"],[0.2222222222222222,\"#7201a8\"],[0.3333333333333333,\"#9c179e\"],[0.4444444444444444,\"#bd3786\"],[0.5555555555555556,\"#d8576b\"],[0.6666666666666666,\"#ed7953\"],[0.7777777777777778,\"#fb9f3a\"],[0.8888888888888888,\"#fdca26\"],[1.0,\"#f0f921\"]],\"type\":\"heatmap\"}],\"heatmapgl\":[{\"colorbar\":{\"outlinewidth\":0,\"ticks\":\"\"},\"colorscale\":[[0.0,\"#0d0887\"],[0.1111111111111111,\"#46039f\"],[0.2222222222222222,\"#7201a8\"],[0.3333333333333333,\"#9c179e\"],[0.4444444444444444,\"#bd3786\"],[0.5555555555555556,\"#d8576b\"],[0.6666666666666666,\"#ed7953\"],[0.7777777777777778,\"#fb9f3a\"],[0.8888888888888888,\"#fdca26\"],[1.0,\"#f0f921\"]],\"type\":\"heatmapgl\"}],\"histogram\":[{\"marker\":{\"pattern\":{\"fillmode\":\"overlay\",\"size\":10,\"solidity\":0.2}},\"type\":\"histogram\"}],\"histogram2d\":[{\"colorbar\":{\"outlinewidth\":0,\"ticks\":\"\"},\"colorscale\":[[0.0,\"#0d0887\"],[0.1111111111111111,\"#46039f\"],[0.2222222222222222,\"#7201a8\"],[0.3333333333333333,\"#9c179e\"],[0.4444444444444444,\"#bd3786\"],[0.5555555555555556,\"#d8576b\"],[0.6666666666666666,\"#ed7953\"],[0.7777777777777778,\"#fb9f3a\"],[0.8888888888888888,\"#fdca26\"],[1.0,\"#f0f921\"]],\"type\":\"histogram2d\"}],\"histogram2dcontour\":[{\"colorbar\":{\"outlinewidth\":0,\"ticks\":\"\"},\"colorscale\":[[0.0,\"#0d0887\"],[0.1111111111111111,\"#46039f\"],[0.2222222222222222,\"#7201a8\"],[0.3333333333333333,\"#9c179e\"],[0.4444444444444444,\"#bd3786\"],[0.5555555555555556,\"#d8576b\"],[0.6666666666666666,\"#ed7953\"],[0.7777777777777778,\"#fb9f3a\"],[0.8888888888888888,\"#fdca26\"],[1.0,\"#f0f921\"]],\"type\":\"histogram2dcontour\"}],\"mesh3d\":[{\"colorbar\":{\"outlinewidth\":0,\"ticks\":\"\"},\"type\":\"mesh3d\"}],\"parcoords\":[{\"line\":{\"colorbar\":{\"outlinewidth\":0,\"ticks\":\"\"}},\"type\":\"parcoords\"}],\"pie\":[{\"automargin\":true,\"type\":\"pie\"}],\"scatter\":[{\"marker\":{\"colorbar\":{\"outlinewidth\":0,\"ticks\":\"\"}},\"type\":\"scatter\"}],\"scatter3d\":[{\"line\":{\"colorbar\":{\"outlinewidth\":0,\"ticks\":\"\"}},\"marker\":{\"colorbar\":{\"outlinewidth\":0,\"ticks\":\"\"}},\"type\":\"scatter3d\"}],\"scattercarpet\":[{\"marker\":{\"colorbar\":{\"outlinewidth\":0,\"ticks\":\"\"}},\"type\":\"scattercarpet\"}],\"scattergeo\":[{\"marker\":{\"colorbar\":{\"outlinewidth\":0,\"ticks\":\"\"}},\"type\":\"scattergeo\"}],\"scattergl\":[{\"marker\":{\"colorbar\":{\"outlinewidth\":0,\"ticks\":\"\"}},\"type\":\"scattergl\"}],\"scattermapbox\":[{\"marker\":{\"colorbar\":{\"outlinewidth\":0,\"ticks\":\"\"}},\"type\":\"scattermapbox\"}],\"scatterpolar\":[{\"marker\":{\"colorbar\":{\"outlinewidth\":0,\"ticks\":\"\"}},\"type\":\"scatterpolar\"}],\"scatterpolargl\":[{\"marker\":{\"colorbar\":{\"outlinewidth\":0,\"ticks\":\"\"}},\"type\":\"scatterpolargl\"}],\"scatterternary\":[{\"marker\":{\"colorbar\":{\"outlinewidth\":0,\"ticks\":\"\"}},\"type\":\"scatterternary\"}],\"surface\":[{\"colorbar\":{\"outlinewidth\":0,\"ticks\":\"\"},\"colorscale\":[[0.0,\"#0d0887\"],[0.1111111111111111,\"#46039f\"],[0.2222222222222222,\"#7201a8\"],[0.3333333333333333,\"#9c179e\"],[0.4444444444444444,\"#bd3786\"],[0.5555555555555556,\"#d8576b\"],[0.6666666666666666,\"#ed7953\"],[0.7777777777777778,\"#fb9f3a\"],[0.8888888888888888,\"#fdca26\"],[1.0,\"#f0f921\"]],\"type\":\"surface\"}],\"table\":[{\"cells\":{\"fill\":{\"color\":\"#EBF0F8\"},\"line\":{\"color\":\"white\"}},\"header\":{\"fill\":{\"color\":\"#C8D4E3\"},\"line\":{\"color\":\"white\"}},\"type\":\"table\"}]},\"layout\":{\"annotationdefaults\":{\"arrowcolor\":\"#2a3f5f\",\"arrowhead\":0,\"arrowwidth\":1},\"autotypenumbers\":\"strict\",\"coloraxis\":{\"colorbar\":{\"outlinewidth\":0,\"ticks\":\"\"}},\"colorscale\":{\"diverging\":[[0,\"#8e0152\"],[0.1,\"#c51b7d\"],[0.2,\"#de77ae\"],[0.3,\"#f1b6da\"],[0.4,\"#fde0ef\"],[0.5,\"#f7f7f7\"],[0.6,\"#e6f5d0\"],[0.7,\"#b8e186\"],[0.8,\"#7fbc41\"],[0.9,\"#4d9221\"],[1,\"#276419\"]],\"sequential\":[[0.0,\"#0d0887\"],[0.1111111111111111,\"#46039f\"],[0.2222222222222222,\"#7201a8\"],[0.3333333333333333,\"#9c179e\"],[0.4444444444444444,\"#bd3786\"],[0.5555555555555556,\"#d8576b\"],[0.6666666666666666,\"#ed7953\"],[0.7777777777777778,\"#fb9f3a\"],[0.8888888888888888,\"#fdca26\"],[1.0,\"#f0f921\"]],\"sequentialminus\":[[0.0,\"#0d0887\"],[0.1111111111111111,\"#46039f\"],[0.2222222222222222,\"#7201a8\"],[0.3333333333333333,\"#9c179e\"],[0.4444444444444444,\"#bd3786\"],[0.5555555555555556,\"#d8576b\"],[0.6666666666666666,\"#ed7953\"],[0.7777777777777778,\"#fb9f3a\"],[0.8888888888888888,\"#fdca26\"],[1.0,\"#f0f921\"]]},\"colorway\":[\"#636efa\",\"#EF553B\",\"#00cc96\",\"#ab63fa\",\"#FFA15A\",\"#19d3f3\",\"#FF6692\",\"#B6E880\",\"#FF97FF\",\"#FECB52\"],\"font\":{\"color\":\"#2a3f5f\"},\"geo\":{\"bgcolor\":\"white\",\"lakecolor\":\"white\",\"landcolor\":\"#E5ECF6\",\"showlakes\":true,\"showland\":true,\"subunitcolor\":\"white\"},\"hoverlabel\":{\"align\":\"left\"},\"hovermode\":\"closest\",\"mapbox\":{\"style\":\"light\"},\"paper_bgcolor\":\"white\",\"plot_bgcolor\":\"#E5ECF6\",\"polar\":{\"angularaxis\":{\"gridcolor\":\"white\",\"linecolor\":\"white\",\"ticks\":\"\"},\"bgcolor\":\"#E5ECF6\",\"radialaxis\":{\"gridcolor\":\"white\",\"linecolor\":\"white\",\"ticks\":\"\"}},\"scene\":{\"xaxis\":{\"backgroundcolor\":\"#E5ECF6\",\"gridcolor\":\"white\",\"gridwidth\":2,\"linecolor\":\"white\",\"showbackground\":true,\"ticks\":\"\",\"zerolinecolor\":\"white\"},\"yaxis\":{\"backgroundcolor\":\"#E5ECF6\",\"gridcolor\":\"white\",\"gridwidth\":2,\"linecolor\":\"white\",\"showbackground\":true,\"ticks\":\"\",\"zerolinecolor\":\"white\"},\"zaxis\":{\"backgroundcolor\":\"#E5ECF6\",\"gridcolor\":\"white\",\"gridwidth\":2,\"linecolor\":\"white\",\"showbackground\":true,\"ticks\":\"\",\"zerolinecolor\":\"white\"}},\"shapedefaults\":{\"line\":{\"color\":\"#2a3f5f\"}},\"ternary\":{\"aaxis\":{\"gridcolor\":\"white\",\"linecolor\":\"white\",\"ticks\":\"\"},\"baxis\":{\"gridcolor\":\"white\",\"linecolor\":\"white\",\"ticks\":\"\"},\"bgcolor\":\"#E5ECF6\",\"caxis\":{\"gridcolor\":\"white\",\"linecolor\":\"white\",\"ticks\":\"\"}},\"title\":{\"x\":0.05},\"xaxis\":{\"automargin\":true,\"gridcolor\":\"white\",\"linecolor\":\"white\",\"ticks\":\"\",\"title\":{\"standoff\":15},\"zerolinecolor\":\"white\",\"zerolinewidth\":2},\"yaxis\":{\"automargin\":true,\"gridcolor\":\"white\",\"linecolor\":\"white\",\"ticks\":\"\",\"title\":{\"standoff\":15},\"zerolinecolor\":\"white\",\"zerolinewidth\":2}}},\"xaxis\":{\"anchor\":\"y\",\"domain\":[0.0,1.0],\"title\":{\"text\":\"Hour\"}},\"yaxis\":{\"anchor\":\"x\",\"domain\":[0.0,1.0],\"title\":{\"text\":\"Load Weight\"}},\"legend\":{\"tracegroupgap\":0},\"title\":{\"text\":\"Load Weight by Hour\"},\"barmode\":\"relative\"},                        {\"responsive\": true}                    ).then(function(){\n                            \nvar gd = document.getElementById('8d48df97-a77e-41bd-8184-f5d9475b3b0f');\nvar x = new MutationObserver(function (mutations, observer) {{\n        var display = window.getComputedStyle(gd).display;\n        if (!display || display === 'none') {{\n            console.log([gd, 'removed!']);\n            Plotly.purge(gd);\n            observer.disconnect();\n        }}\n}});\n\n// Listen for the removal of the full notebook cells\nvar notebookContainer = gd.closest('#notebook-container');\nif (notebookContainer) {{\n    x.observe(notebookContainer, {childList: true});\n}}\n\n// Listen for the clearing of the current output cell\nvar outputEl = gd.closest('.output');\nif (outputEl) {{\n    x.observe(outputEl, {childList: true});\n}}\n\n                        })                };                            </script>        </div>\n</body>\n</html>"
     },
     "metadata": {},
     "output_type": "display_data"
    }
   ]
  },
  {
   "cell_type": "markdown",
   "source": "### Collecting Other Data (APPENDIX)",
   "metadata": {
    "cell_id": "00091-d5b30c4e-1d6c-433a-b9f7-cc2144dd064b",
    "deepnote_cell_type": "markdown",
    "deepnote_cell_height": 62
   }
  },
  {
   "cell_type": "markdown",
   "source": "### Weekly Data",
   "metadata": {
    "cell_id": "00092-3d978eb7-194f-4bde-874c-9ef6b6569b69",
    "deepnote_cell_type": "markdown",
    "deepnote_cell_height": 62
   }
  },
  {
   "cell_type": "code",
   "metadata": {
    "scrolled": true,
    "cell_id": "00094-2513e3e3-2b74-410a-85a9-f9525a9e825f",
    "deepnote_to_be_reexecuted": false,
    "source_hash": "65c7d57c",
    "execution_start": 1648029801618,
    "execution_millis": 72392,
    "deepnote_cell_type": "code",
    "deepnote_cell_height": 526.1875,
    "deepnote_output_heights": [
     411.1875
    ]
   },
   "source": "weekly_loadweight= data.groupby('Load Weight').resample('W-Mon', on='Load Time').mean().sort_values(by='Load Time')\nweekly_loadweight.dropna()",
   "execution_count": 64,
   "outputs": [
    {
     "output_type": "execute_result",
     "execution_count": 64,
     "data": {
      "application/vnd.deepnote.dataframe.v3+json": {
       "error": "Traceback (most recent call last):\n  File \"/compute-helpers/code/variable_explorer.py\", line 209, in dataframe_formatter\n    result = describe_pd_dataframe(df, browse_spec)\n  File \"/compute-helpers/code/variable_explorer_helpers.py\", line 257, in describe_pd_dataframe\n    df_analyzed[\"_deepnote_index_column\"] = df_analyzed.index\n  File \"/shared-libs/python3.7/py/lib/python3.7/site-packages/pandas/core/frame.py\", line 3612, in __setitem__\n    self._set_item(key, value)\n  File \"/shared-libs/python3.7/py/lib/python3.7/site-packages/pandas/core/frame.py\", line 3784, in _set_item\n    value = self._sanitize_column(value)\n  File \"/shared-libs/python3.7/py/lib/python3.7/site-packages/pandas/core/frame.py\", line 4510, in _sanitize_column\n    return sanitize_array(value, self.index, copy=True, allow_2d=True)\n  File \"/shared-libs/python3.7/py/lib/python3.7/site-packages/pandas/core/construction.py\", line 500, in sanitize_array\n    data = extract_array(data, extract_numpy=True)\n  File \"/shared-libs/python3.7/py/lib/python3.7/site-packages/pandas/core/construction.py\", line 423, in extract_array\n    obj = obj.array\n  File \"/shared-libs/python3.7/py/lib/python3.7/site-packages/pandas/core/indexes/multi.py\", line 726, in array\n    \"MultiIndex has no single backing array. Use \"\nValueError: MultiIndex has no single backing array. Use 'MultiIndex.to_numpy()' to get a NumPy array of tuples.\n"
      },
      "text/plain": "                         Load Weight       Load ID        Year     Month  \\\nLoad Weight  Load Time                                                     \n2940.000000  2000-01-31  2940.000000 163262.000000 2000.000000  1.000000   \n4740.000000  2001-03-19  4740.000000 522334.000000 2001.000000  3.000000   \n4240.000000  2001-03-19  4240.000000 522335.000000 2001.000000  3.000000   \n8260.000000  2001-10-22  8260.000000 545996.000000 2001.000000 10.000000   \n14080.000000 2001-10-22 14080.000000 545997.000000 2001.000000 10.000000   \n...                              ...           ...         ...       ...   \n7000.000000  2021-07-12  7000.000000 928985.000000 2021.000000  7.000000   \n1340.000000  2021-12-13  1340.000000 927983.000000 2021.000000 12.000000   \n6940.000000  2021-12-27  6940.000000 906125.000000 2021.000000 12.000000   \n260.000000   2030-07-29   260.000000 883665.000000 2030.000000  7.000000   \n320.000000   2030-11-25   320.000000 897529.000000 2030.000000 11.000000   \n\n                             Day      Hour  \nLoad Weight  Load Time                      \n2940.000000  2000-01-31 2.000000 12.000000  \n4740.000000  2001-03-19 4.000000 13.000000  \n4240.000000  2001-03-19 4.000000  9.000000  \n8260.000000  2001-10-22 1.000000 15.000000  \n14080.000000 2001-10-22 1.000000 11.000000  \n...                          ...       ...  \n7000.000000  2021-07-12 4.000000 13.000000  \n1340.000000  2021-12-13 1.000000  0.000000  \n6940.000000  2021-12-27 1.000000 12.000000  \n260.000000   2030-07-29 0.000000 14.000000  \n320.000000   2030-11-25 6.000000 13.000000  \n\n[475171 rows x 6 columns]",
      "text/html": "<div>\n<style scoped>\n    .dataframe tbody tr th:only-of-type {\n        vertical-align: middle;\n    }\n\n    .dataframe tbody tr th {\n        vertical-align: top;\n    }\n\n    .dataframe thead th {\n        text-align: right;\n    }\n</style>\n<table border=\"1\" class=\"dataframe\">\n  <thead>\n    <tr style=\"text-align: right;\">\n      <th></th>\n      <th></th>\n      <th>Load Weight</th>\n      <th>Load ID</th>\n      <th>Year</th>\n      <th>Month</th>\n      <th>Day</th>\n      <th>Hour</th>\n    </tr>\n    <tr>\n      <th>Load Weight</th>\n      <th>Load Time</th>\n      <th></th>\n      <th></th>\n      <th></th>\n      <th></th>\n      <th></th>\n      <th></th>\n    </tr>\n  </thead>\n  <tbody>\n    <tr>\n      <th>2940.000000</th>\n      <th>2000-01-31</th>\n      <td>2940.000000</td>\n      <td>163262.000000</td>\n      <td>2000.000000</td>\n      <td>1.000000</td>\n      <td>2.000000</td>\n      <td>12.000000</td>\n    </tr>\n    <tr>\n      <th>4740.000000</th>\n      <th>2001-03-19</th>\n      <td>4740.000000</td>\n      <td>522334.000000</td>\n      <td>2001.000000</td>\n      <td>3.000000</td>\n      <td>4.000000</td>\n      <td>13.000000</td>\n    </tr>\n    <tr>\n      <th>4240.000000</th>\n      <th>2001-03-19</th>\n      <td>4240.000000</td>\n      <td>522335.000000</td>\n      <td>2001.000000</td>\n      <td>3.000000</td>\n      <td>4.000000</td>\n      <td>9.000000</td>\n    </tr>\n    <tr>\n      <th>8260.000000</th>\n      <th>2001-10-22</th>\n      <td>8260.000000</td>\n      <td>545996.000000</td>\n      <td>2001.000000</td>\n      <td>10.000000</td>\n      <td>1.000000</td>\n      <td>15.000000</td>\n    </tr>\n    <tr>\n      <th>14080.000000</th>\n      <th>2001-10-22</th>\n      <td>14080.000000</td>\n      <td>545997.000000</td>\n      <td>2001.000000</td>\n      <td>10.000000</td>\n      <td>1.000000</td>\n      <td>11.000000</td>\n    </tr>\n    <tr>\n      <th>...</th>\n      <th>...</th>\n      <td>...</td>\n      <td>...</td>\n      <td>...</td>\n      <td>...</td>\n      <td>...</td>\n      <td>...</td>\n    </tr>\n    <tr>\n      <th>7000.000000</th>\n      <th>2021-07-12</th>\n      <td>7000.000000</td>\n      <td>928985.000000</td>\n      <td>2021.000000</td>\n      <td>7.000000</td>\n      <td>4.000000</td>\n      <td>13.000000</td>\n    </tr>\n    <tr>\n      <th>1340.000000</th>\n      <th>2021-12-13</th>\n      <td>1340.000000</td>\n      <td>927983.000000</td>\n      <td>2021.000000</td>\n      <td>12.000000</td>\n      <td>1.000000</td>\n      <td>0.000000</td>\n    </tr>\n    <tr>\n      <th>6940.000000</th>\n      <th>2021-12-27</th>\n      <td>6940.000000</td>\n      <td>906125.000000</td>\n      <td>2021.000000</td>\n      <td>12.000000</td>\n      <td>1.000000</td>\n      <td>12.000000</td>\n    </tr>\n    <tr>\n      <th>260.000000</th>\n      <th>2030-07-29</th>\n      <td>260.000000</td>\n      <td>883665.000000</td>\n      <td>2030.000000</td>\n      <td>7.000000</td>\n      <td>0.000000</td>\n      <td>14.000000</td>\n    </tr>\n    <tr>\n      <th>320.000000</th>\n      <th>2030-11-25</th>\n      <td>320.000000</td>\n      <td>897529.000000</td>\n      <td>2030.000000</td>\n      <td>11.000000</td>\n      <td>6.000000</td>\n      <td>13.000000</td>\n    </tr>\n  </tbody>\n</table>\n<p>475171 rows × 6 columns</p>\n</div>"
     },
     "metadata": {}
    }
   ]
  },
  {
   "cell_type": "code",
   "metadata": {
    "cell_id": "00098-59e74b83-fd5a-47c3-a170-6e51882946b4",
    "deepnote_to_be_reexecuted": false,
    "source_hash": "c47cdd6a",
    "execution_start": 1648029874009,
    "execution_millis": 40214,
    "deepnote_cell_type": "code",
    "deepnote_cell_height": 437.375,
    "deepnote_output_heights": [
     232.390625
    ]
   },
   "source": "df = data.copy()\ndf['Load Time'] = pd.to_datetime(df['Load Time'])\ndf['WeekDate'] = df.apply(lambda row: row['Load Time'] - dt.timedelta(days=row['Load Time'].weekday()), axis=1)\n\nperweek = df['WeekDate'].groupby(df['WeekDate']).count()\nperweek.value_counts()\n",
   "execution_count": 65,
   "outputs": [
    {
     "output_type": "execute_result",
     "execution_count": 65,
     "data": {
      "text/plain": "1      162231\n2       81909\n3       40828\n4       18279\n5        7999\n        ...  \n72          1\n71          1\n121         1\n97          1\n56          1\nName: WeekDate, Length: 114, dtype: int64"
     },
     "metadata": {}
    }
   ]
  },
  {
   "cell_type": "markdown",
   "source": "#### Grouping by week \n- For Load Weight we can use sum()\n- for rest we can make a list",
   "metadata": {
    "cell_id": "00105-64f5aff2-c5ac-40f4-aa78-6fe2f2bad090",
    "deepnote_cell_type": "markdown",
    "deepnote_cell_height": 127.796875
   }
  },
  {
   "cell_type": "code",
   "metadata": {
    "cell_id": "00118-d8c8cca1-e8f5-4820-aead-ee7796aca614",
    "deepnote_to_be_reexecuted": false,
    "source_hash": "3d9709a7",
    "execution_start": 1648029961124,
    "execution_millis": 1744,
    "deepnote_cell_type": "code",
    "deepnote_cell_height": 502.796875
   },
   "source": "df_weekly = df.copy().drop(columns = ['Report Date', 'Load ID', 'Month', 'Day', 'Hour', 'WeekDate'])\ndf_weekly['Date'] = df_weekly['Load Time'].dt.date\ndf_weekly = df_weekly[(df_weekly['Year']>2013) & (df_weekly['Year']<2022)].drop(columns = [ \"Load Time\"])\ndf_weekly['Date'] = pd.to_datetime(df_weekly['Date'])\n\ndf_by_week = df_weekly.groupby(df_weekly['Date'].dt.to_period('W-SAT')).agg(list)\ndf_by_week['Load Weight'] = df_by_week['Load Weight'].apply(lambda x: np.nansum(x))\ndf_by_week['Year'] = df_by_week['Year'].apply(lambda x: x[0])\ndf_by_week = df_by_week.drop(columns = [\"Date\"])\n\ndf_by_week_1 = df_by_week.reset_index()\ndf_by_week_1['Date'] =df_by_week_1['Date'].apply(lambda x: x.to_timestamp().date)\ndf_by_week_1.head(2)",
   "execution_count": 66,
   "outputs": [
    {
     "output_type": "execute_result",
     "execution_count": 66,
     "data": {
      "application/vnd.deepnote.dataframe.v3+json": {
       "column_count": 7,
       "row_count": 2,
       "columns": [
        {
         "name": "Date",
         "dtype": "object",
         "stats": {
          "unique_count": 2,
          "nan_count": 0,
          "categories": [
           {
            "name": "2013-12-29",
            "count": 1
           },
           {
            "name": "2014-01-05",
            "count": 1
           }
          ]
         }
        },
        {
         "name": "Load Type",
         "dtype": "object",
         "stats": {
          "unique_count": 2,
          "nan_count": 0,
          "categories": [
           {
            "name": "['YARD TRIMMING', 'YARD TRIMMING', 'RECYCLING - SINGLE STREAM', 'YARD TRIMMING', 'RECYCLING - SINGLE STREAM', 'RECYCLING - SINGLE STREAM', 'RECYCLING - SINGLE STREAM', 'GARBAGE COLLECTIONS', 'GARBAGE COLLECTIONS', 'YARD TRIMMING', 'GARBAGE COLLECTIONS', 'RECYCLING - SINGLE STREAM', 'LITTER', 'BULK', 'GARBAGE COLLECTIONS', 'RECYCLING - SINGLE STREAM', 'RECYCLING - SINGLE STREAM', 'GARBAGE COLLECTIONS', 'YARD TRIMMING', 'GARBAGE COLLECTIONS', 'YARD TRIMMING', 'RECYCLING - SINGLE STREAM', 'GARBAGE COLLECTIONS', 'GARBAGE COLLECTIONS', 'GARBAGE COLLECTIONS', 'SWEEPING', 'RECYCLING - SINGLE STREAM', 'BULK', 'GARBAGE COLLECTIONS', 'GARBAGE COLLECTIONS', 'BULK', 'GARBAGE COLLECTIONS', 'RECYCLING - SINGLE STREAM', 'GARBAGE COLLECTIONS', 'RECYCLING - SINGLE STREAM', 'GARBAGE COLLECTIONS', 'RECYCLING - SINGLE STREAM', 'YARD TRIMMING', 'BULK', 'RECYCLING - SINGLE STREAM', 'RECYCLING - SINGLE STREAM', 'LITTER', 'GARBAGE COLLECTIONS', 'GARBAGE COLLECTIONS', 'GARBAGE COLLECTIONS', 'RECYCLING - SINGLE STREAM', 'RECYCLING - SINGLE STREAM', 'RECYCLING - SINGLE STREAM', 'GARBAGE COLLECTIONS', 'DEAD ANIMAL', 'GARBAGE COLLECTIONS', 'GARBAGE COLLECTIONS', 'RECYCLING - SINGLE STREAM', 'RECYCLING - SINGLE STREAM', 'GARBAGE COLLECTIONS', 'RECYCLING - SINGLE STREAM', 'GARBAGE COLLECTIONS', 'YARD TRIMMING', 'RECYCLING - SINGLE STREAM', 'GARBAGE COLLECTIONS', 'GARBAGE COLLECTIONS', 'RECYCLING - SINGLE STREAM', 'SWEEPING', 'RECYCLING - SINGLE STREAM', 'YARD TRIMMING', 'YARD TRIMMING', 'GARBAGE COLLECTIONS', 'SWEEPING', 'RECYCLING - SINGLE STREAM', 'RECYCLING - SINGLE STREAM', 'GARBAGE COLLECTIONS', 'GARBAGE COLLECTIONS', 'RECYCLING - SINGLE STREAM', 'SWEEPING', 'SWEEPING', 'YARD TRIMMING', 'RECYCLING - SINGLE STREAM', 'GARBAGE COLLECTIONS', 'GARBAGE COLLECTIONS', 'GARBAGE COLLECTIONS', 'GARBAGE COLLECTIONS', 'BRUSH', 'GARBAGE COLLECTIONS', 'SWEEPING', 'RECYCLING - SINGLE STREAM', 'GARBAGE COLLECTIONS', 'GARBAGE COLLECTIONS', 'YARD TRIMMING', 'RECYCLING - SINGLE STREAM', 'GARBAGE COLLECTIONS', 'RECYCLING - SINGLE STREAM', 'GARBAGE COLLECTIONS', 'YARD TRIMMING', 'GARBAGE COLLECTIONS', 'GARBAGE COLLECTIONS', 'GARBAGE COLLECTIONS', 'YARD TRIMMING', 'GARBAGE COLLECTIONS', 'YARD TRIMMING', 'GARBAGE COLLECTIONS', 'RECYCLING - SINGLE STREAM', 'RECYCLING - SINGLE STREAM', 'RECYCLING - SINGLE STREAM', 'RECYCLING - SINGLE STREAM', 'YARD TRIMMING', 'YARD TRIMMING', 'YARD TRIMMING', 'GARBAGE COLLECTIONS', 'RECYCLING - SINGLE STREAM', 'GARBAGE COLLECTIONS', 'GARBAGE COLLECTIONS', 'SWEEPING', 'GARBAGE COLLECTIONS', 'RECYCLING - SINGLE STREAM', 'DEAD ANIMAL', 'YARD TRIMMING', 'GARBAGE COLLECTIONS', 'YARD TRIMMING', 'YARD TRIMMING', 'BULK', 'RECYCLING - SINGLE STREAM', 'GARBAGE COLLECTIONS', 'YARD TRIMMING', 'GARBAGE COLLECTIONS', 'BRUSH', 'SWEEPING', 'GARBAGE COLLECTIONS', 'RECYCLING - SINGLE STREAM', 'GARBAGE COLLECTIONS', 'GARBAGE COLLECTIONS', 'GARBAGE COLLECTIONS', 'GARBAGE COLLECTIONS', 'SWEEPING', 'YARD TRIMMING', 'SWEEPING', 'GARBAGE COLLECTIONS', 'GARBAGE COLLECTIONS', 'GARBAGE COLLECTIONS', 'GARBAGE COLLECTIONS', 'YARD TRIMMING', 'RECYCLING - SINGLE STREAM', 'GARBAGE COLLECTIONS', 'YARD TRIMMING', 'GARBAGE COLLECTIONS', 'YARD TRIMMING', 'RECYCLING - SINGLE STREAM', 'GARBAGE COLLECTIONS', 'RECYCLING - SINGLE STREAM', 'GARBAGE COLLECTIONS', 'GARBAGE COLLECTIONS', 'GARBAGE COLLECTIONS', 'RECYCLING - SINGLE STREAM', 'YARD TRIMMING', 'RECYCLING - SINGLE STREAM', 'GARBAGE COLLECTIONS', 'RECYCLING - SINGLE STREAM', 'RECYCLING - SINGLE STREAM', 'GARBAGE COLLECTIONS', 'RECYCLING - SINGLE STREAM', 'GARBAGE COLLECTIONS', 'YARD TRIMMING', 'GARBAGE COLLECTIONS', 'GARBAGE COLLECTIONS', 'YARD TRIMMING', 'YARD TRIMMING', 'RECYCLING - SINGLE STREAM', 'RECYCLING - SINGLE STREAM', 'YARD TRIMMING', 'GARBAGE COLLECTIONS', 'RECYCLING - SINGLE STREAM', 'YARD TRIMMING', 'RECYCLING - SINGLE STREAM', 'YARD TRIMMING', 'SWEEPING', 'GARBAGE COLLECTIONS', 'YARD TRIMMING', 'GARBAGE COLLECTIONS', 'GARBAGE COLLECTIONS', 'GARBAGE COLLECTIONS', 'RECYCLING - SINGLE STREAM', 'YARD TRIMMING', 'GARBAGE COLLECTIONS', 'RECYCLING - SINGLE STREAM', 'GARBAGE COLLECTIONS', 'RECYCLING - SINGLE STREAM', 'GARBAGE COLLECTIONS', 'GARBAGE COLLECTIONS', 'BULK', 'RECYCLING - SINGLE STREAM', 'GARBAGE COLLECTIONS', 'YARD TRIMMING', 'RECYCLING - SINGLE STREAM', 'RECYCLING - SINGLE STREAM', 'YARD TRIMMING', 'RECYCLING - SINGLE STREAM', 'YARD TRIMMING', 'RECYCLING - SINGLE STREAM', 'GARBAGE COLLECTIONS', 'RECYCLING - SINGLE STREAM', 'GARBAGE COLLECTIONS', 'RECYCLING - SINGLE STREAM', 'YARD TRIMMING', 'RECYCLING - SINGLE STREAM', 'YARD TRIMMING', 'GARBAGE COLLECTIONS', 'GARBAGE COLLECTIONS', 'GARBAGE COLLECTIONS', 'RECYCLING - SINGLE STREAM', 'RECYCLING - SINGLE STREAM', 'RECYCLING - SINGLE STREAM', 'YARD TRIMMING', 'GARBAGE COLLECTIONS', 'RECYCLING - SINGLE STREAM', 'GARBAGE COLLECTIONS', 'YARD TRIMMING', 'RECYCLING - SINGLE STREAM', 'RECYCLING - SINGLE STREAM', 'RECYCLING - SINGLE STREAM', 'GARBAGE COLLECTIONS', 'GARBAGE COLLECTIONS', 'GARBAGE COLLECTIONS', 'GARBAGE COLLECTIONS', 'RECYCLING - SINGLE STREAM', 'GARBAGE COLLECTIONS', 'GARBAGE COLLECTIONS', 'RECYCLING - SINGLE STREAM', 'YARD TRIMMING', 'GARBAGE COLLECTIONS', 'RECYCLING - SINGLE STREAM', 'GARBAGE COLLECTIONS', 'BULK', 'GARBAGE COLLECTIONS', 'GARBAGE COLLECTIONS', 'RECYCLING - SINGLE STREAM', 'YARD TRIMMING', 'GARBAGE COLLECTIONS', 'DEAD ANIMAL', 'YARD TRIMMING', 'RECYCLING - SINGLE STREAM', 'RECYCLING - SINGLE STREAM', 'GARBAGE COLLECTIONS', 'RECYCLING - SINGLE STREAM', 'RECYCLING - SINGLE STREAM', 'GARBAGE COLLECTIONS', 'GARBAGE COLLECTIONS', 'GARBAGE COLLECTIONS', 'YARD TRIMMING', 'GARBAGE COLLECTIONS', 'GARBAGE COLLECTIONS', 'GARBAGE COLLECTIONS', 'RECYCLING - SINGLE STREAM', 'GARBAGE COLLECTIONS', 'GARBAGE COLLECTIONS', 'GARBAGE COLLECTIONS', 'GARBAGE COLLECTIONS', 'RECYCLING - SINGLE STREAM', 'GARBAGE COLLECTIONS', 'SWEEPING', 'RECYCLING - SINGLE STREAM', 'RECYCLING - SINGLE STREAM', 'YARD TRIMMING', 'GARBAGE COLLECTIONS', 'DEAD ANIMAL', 'BRUSH', 'SWEEPING', 'GARBAGE COLLECTIONS', 'GARBAGE COLLECTIONS', 'GARBAGE COLLECTIONS', 'GARBAGE COLLECTIONS', 'RECYCLING - SINGLE STREAM', 'RECYCLING - SINGLE STREAM', 'GARBAGE COLLECTIONS', 'RECYCLING - SINGLE STREAM', 'YARD TRIMMING', 'GARBAGE COLLECTIONS', 'GARBAGE COLLECTIONS', 'RECYCLING - SINGLE STREAM', 'RECYCLING - SINGLE STREAM', 'GARBAGE COLLECTIONS', 'YARD TRIMMING', 'YARD TRIMMING', 'GARBAGE COLLECTIONS', 'GARBAGE COLLECTIONS', 'RECYCLING - SINGLE STREAM', 'YARD TRIMMING', 'GARBAGE COLLECTIONS', 'GARBAGE COLLECTIONS', 'RECYCLING - SINGLE STREAM', 'GARBAGE COLLECTIONS', 'GARBAGE COLLECTIONS', 'GARBAGE COLLECTIONS', 'RECYCLING - SINGLE STREAM', 'YARD TRIMMING', 'GARBAGE COLLECTIONS', 'BULK', 'YARD TRIMMING', 'YARD TRIMMING', 'RECYCLING - SINGLE STREAM', 'RECYCLING - SINGLE STREAM', 'RECYCLING - SINGLE STREAM', 'YARD TRIMMING', 'GARBAGE COLLECTIONS', 'GARBAGE COLLECTIONS', 'RECYCLING - SINGLE STREAM', 'GARBAGE COLLECTIONS', 'GARBAGE COLLECTIONS', 'GARBAGE COLLECTIONS', 'GARBAGE COLLECTIONS', 'GARBAGE COLLECTIONS', 'GARBAGE COLLECTIONS', 'YARD TRIMMING', 'RECYCLING - SINGLE STREAM', 'GARBAGE COLLECTIONS', 'YARD TRIMMING', 'RECYCLING - SINGLE STREAM', 'RECYCLING - SINGLE STREAM', 'YARD TRIMMING', 'RECYCLING - SINGLE STREAM', 'GARBAGE COLLECTIONS', 'YARD TRIMMING', 'YARD TRIMMING', 'RECYCLING - SINGLE STREAM', 'RECYCLING - SINGLE STREAM', 'YARD TRIMMING', 'DEAD ANIMAL', 'GARBAGE COLLECTIONS', 'RECYCLING - SINGLE STREAM', 'RECYCLING - SINGLE STREAM', 'GARBAGE COLLECTIONS', 'GARBAGE COLLECTIONS', 'RECYCLING - SINGLE STREAM', 'GARBAGE COLLECTIONS', 'GARBAGE COLLECTIONS', 'RECYCLING - SINGLE STREAM', 'GARBAGE COLLECTIONS', 'RECYCLING - SINGLE STREAM', 'YARD TRIMMING', 'RECYCLING - SINGLE STREAM', 'RECYCLING - SINGLE STREAM', 'YARD TRIMMING', 'RECYCLING - SINGLE STREAM', 'RECYCLING - SINGLE STREAM', 'RECYCLING - SINGLE STREAM', 'RECYCLING - SINGLE STREAM', 'GARBAGE COLLECTIONS', 'BRUSH', 'GARBAGE COLLECTIONS', 'RECYCLING - SINGLE STREAM', 'GARBAGE COLLECTIONS', 'SWEEPING', 'YARD TRIMMING', 'TIRES', 'GARBAGE COLLECTIONS', 'GARBAGE COLLECTIONS', 'GARBAGE COLLECTIONS', 'GARBAGE COLLECTIONS', 'GARBAGE COLLECTIONS', 'RECYCLING - SINGLE STREAM', 'GARBAGE COLLECTIONS', 'RECYCLING - SINGLE STREAM', 'RECYCLING - SINGLE STREAM', 'RECYCLING - SINGLE STREAM', 'GARBAGE COLLECTIONS', 'GARBAGE COLLECTIONS', 'YARD TRIMMING', 'YARD TRIMMING', 'RECYCLING - SINGLE STREAM', 'RECYCLING - SINGLE STREAM', 'RECYCLING - SINGLE STREAM', 'RECYCLING - SINGLE STREAM', 'GARBAGE COLLECTIONS', 'GARBAGE COLLECTIONS', 'RECYCLING - SINGLE STREAM', 'RECYCLING - SINGLE STREAM', 'GARBAGE COLLECTIONS', 'BULK', 'YARD TRIMMING', 'YARD TRIMMING', 'RECYCLING - SINGLE STREAM', 'RECYCLING - SINGLE STREAM', 'RECYCLING - SINGLE STREAM', 'RECYCLING - SINGLE STREAM', 'GARBAGE COLLECTIONS', 'RECYCLING - SINGLE STREAM', 'YARD TRIMMING', 'YARD TRIMMING', 'GARBAGE COLLECTIONS', 'RECYCLING - SINGLE STREAM', 'RECYCLING - SINGLE STREAM', 'RECYCLING - SINGLE STREAM', 'GARBAGE COLLECTIONS', 'RECYCLING - SINGLE STREAM', 'RECYCLING - SINGLE STREAM', 'YARD TRIMMING', 'GARBAGE COLLECTIONS', 'RECYCLING - SINGLE STREAM', 'GARBAGE COLLECTIONS', 'RECYCLING - SINGLE STREAM', 'GARBAGE COLLECTIONS', 'GARBAGE COLLECTIONS', 'YARD TRIMMING', 'BULK', 'RECYCLING - SINGLE STREAM', 'YARD TRIMMING', 'RECYCLING - SINGLE STREAM', 'GARBAGE COLLECTIONS', 'YARD TRIMMING', 'RECYCLING - SINGLE STREAM', 'GARBAGE COLLECTIONS', 'GARBAGE COLLECTIONS', 'SWEEPING', 'GARBAGE COLLECTIONS', 'SWEEPING', 'GARBAGE COLLECTIONS', 'GARBAGE COLLECTIONS', 'GARBAGE COLLECTIONS', 'RECYCLING - SINGLE STREAM', 'GARBAGE COLLECTIONS', 'YARD TRIMMING', 'RECYCLING - SINGLE STREAM', 'GARBAGE COLLECTIONS', 'RECYCLING - SINGLE STREAM', 'GARBAGE COLLECTIONS', 'GARBAGE COLLECTIONS', 'DEAD ANIMAL', 'GARBAGE COLLECTIONS', 'YARD TRIMMING', 'YARD TRIMMING', 'GARBAGE COLLECTIONS', 'GARBAGE COLLECTIONS']",
            "count": 1
           },
           {
            "name": "['GARBAGE COLLECTIONS', 'GARBAGE COLLECTIONS', 'GARBAGE COLLECTIONS', 'BULK', 'RECYCLING - SINGLE STREAM', 'GARBAGE COLLECTIONS', 'GARBAGE COLLECTIONS', 'RECYCLING - SINGLE STREAM', 'GARBAGE COLLECTIONS', 'RECYCLING - SINGLE STREAM', 'GARBAGE COLLECTIONS', 'TIRES', 'GARBAGE COLLECTIONS', 'GARBAGE COLLECTIONS', 'RECYCLING - SINGLE STREAM', 'LITTER', 'RECYCLING - SINGLE STREAM', 'RECYCLING - SINGLE STREAM', 'RECYCLING - SINGLE STREAM', 'BULK', 'GARBAGE COLLECTIONS', 'BULK', 'YARD TRIMMING', 'RECYCLING - SINGLE STREAM', 'YARD TRIMMING', 'RECYCLING - SINGLE STREAM', 'YARD TRIMMING', 'RECYCLING - SINGLE STREAM', 'RECYCLING - SINGLE STREAM', 'BRUSH', 'YARD TRIMMING', 'BULK', 'GARBAGE COLLECTIONS', 'GARBAGE COLLECTIONS', 'RECYCLING - SINGLE STREAM', 'RECYCLING - SINGLE STREAM', 'GARBAGE COLLECTIONS', 'YARD TRIMMING', 'GARBAGE COLLECTIONS', 'GARBAGE COLLECTIONS', 'BULK', 'GARBAGE COLLECTIONS', 'YARD TRIMMING', 'GARBAGE COLLECTIONS', 'GARBAGE COLLECTIONS', 'GARBAGE COLLECTIONS', 'RECYCLING - SINGLE STREAM', 'GARBAGE COLLECTIONS', 'BULK', 'RECYCLING - SINGLE STREAM', 'BULK', 'BRUSH', 'GARBAGE COLLECTIONS', 'GARBAGE COLLECTIONS', 'GARBAGE COLLECTIONS', 'GARBAGE COLLECTIONS', 'YARD TRIMMING', 'BRUSH', 'YARD TRIMMING', 'RECYCLING - SINGLE STREAM', 'YARD TRIMMING', 'GARBAGE COLLECTIONS', 'GARBAGE COLLECTIONS', 'GARBAGE COLLECTIONS', 'GARBAGE COLLECTIONS', 'GARBAGE COLLECTIONS', 'BULK', 'RECYCLING - SINGLE STREAM', 'GARBAGE COLLECTIONS', 'GARBAGE COLLECTIONS', 'RECYCLING - SINGLE STREAM', 'RECYCLING - SINGLE STREAM', 'GARBAGE COLLECTIONS', 'GARBAGE COLLECTIONS', 'GARBAGE COLLECTIONS', 'GARBAGE COLLECTIONS', 'GARBAGE COLLECTIONS', 'BRUSH', 'RECYCLING - SINGLE STREAM', 'GARBAGE COLLECTIONS', 'GARBAGE COLLECTIONS', 'GARBAGE COLLECTIONS', 'BULK', 'GARBAGE COLLECTIONS', 'GARBAGE COLLECTIONS', 'YARD TRIMMING', 'RECYCLING - SINGLE STREAM', 'RECYCLING - SINGLE STREAM', 'RECYCLING - SINGLE STREAM', 'GARBAGE COLLECTIONS', 'RECYCLING - SINGLE STREAM', 'RECYCLING - SINGLE STREAM', 'BRUSH', 'RECYCLING - SINGLE STREAM', 'GARBAGE COLLECTIONS', 'GARBAGE COLLECTIONS', 'RECYCLING - SINGLE STREAM', 'SWEEPING', 'RECYCLING - SINGLE STREAM', 'GARBAGE COLLECTIONS', 'GARBAGE COLLECTIONS', 'BRUSH', 'GARBAGE COLLECTIONS', 'YARD TRIMMING', 'DEAD ANIMAL', 'GARBAGE COLLECTIONS', 'RECYCLING - SINGLE STREAM', 'YARD TRIMMING', 'GARBAGE COLLECTIONS', 'GARBAGE COLLECTIONS', 'RECYCLING - SINGLE STREAM', 'SWEEPING', 'RECYCLING - SINGLE STREAM', 'RECYCLING - SINGLE STREAM', 'YARD TRIMMING', 'RECYCLING - SINGLE STREAM', 'RECYCLING - SINGLE STREAM', 'RECYCLING - SINGLE STREAM', 'RECYCLING - SINGLE STREAM', 'GARBAGE COLLECTIONS', 'GARBAGE COLLECTIONS', 'GARBAGE COLLECTIONS', 'GARBAGE COLLECTIONS', 'GARBAGE COLLECTIONS', 'GARBAGE COLLECTIONS', 'GARBAGE COLLECTIONS', 'GARBAGE COLLECTIONS', 'GARBAGE COLLECTIONS', 'GARBAGE COLLECTIONS', 'RECYCLING - SINGLE STREAM', 'GARBAGE COLLECTIONS', 'YARD TRIMMING', 'GARBAGE COLLECTIONS', 'DEAD ANIMAL', 'GARBAGE COLLECTIONS', 'SWEEPING', 'BULK', 'GARBAGE COLLECTIONS', 'GARBAGE COLLECTIONS', 'GARBAGE COLLECTIONS', 'RECYCLING - SINGLE STREAM', 'GARBAGE COLLECTIONS', 'BRUSH', 'RECYCLING - SINGLE STREAM', 'GARBAGE COLLECTIONS', 'GARBAGE COLLECTIONS', 'SWEEPING', 'SWEEPING', 'RECYCLING - SINGLE STREAM', 'YARD TRIMMING', 'GARBAGE COLLECTIONS', 'RECYCLING - SINGLE STREAM', 'GARBAGE COLLECTIONS', 'GARBAGE COLLECTIONS', 'RECYCLING - SINGLE STREAM', 'GARBAGE COLLECTIONS', 'GARBAGE COLLECTIONS', 'RECYCLING - SINGLE STREAM', 'YARD TRIMMING', 'YARD TRIMMING', 'GARBAGE COLLECTIONS', 'GARBAGE COLLECTIONS', 'GARBAGE COLLECTIONS', 'SWEEPING', 'GARBAGE COLLECTIONS', 'GARBAGE COLLECTIONS', 'RECYCLING - SINGLE STREAM', 'GARBAGE COLLECTIONS', 'YARD TRIMMING', 'RECYCLING - SINGLE STREAM', 'RECYCLING - SINGLE STREAM', 'RECYCLING - SINGLE STREAM', 'YARD TRIMMING', 'GARBAGE COLLECTIONS', 'RECYCLING - SINGLE STREAM', 'GARBAGE COLLECTIONS', 'GARBAGE COLLECTIONS', 'RECYCLING - SINGLE STREAM', 'GARBAGE COLLECTIONS', 'RECYCLING - SINGLE STREAM', 'GARBAGE COLLECTIONS', 'RECYCLING - SINGLE STREAM', 'YARD TRIMMING', 'YARD TRIMMING', 'RECYCLING - SINGLE STREAM', 'YARD TRIMMING', 'GARBAGE COLLECTIONS', 'RECYCLING - SINGLE STREAM', 'RECYCLING - SINGLE STREAM', 'YARD TRIMMING', 'GARBAGE COLLECTIONS', 'RECYCLING - SINGLE STREAM', 'SWEEPING', 'GARBAGE COLLECTIONS', 'GARBAGE COLLECTIONS', 'GARBAGE COLLECTIONS', 'SWEEPING', 'RECYCLING - SINGLE STREAM', 'SWEEPING', 'YARD TRIMMING', 'SWEEPING', 'GARBAGE COLLECTIONS', 'RECYCLING - SINGLE STREAM', 'GARBAGE COLLECTIONS', 'GARBAGE COLLECTIONS', 'GARBAGE COLLECTIONS', 'RECYCLING - SINGLE STREAM', 'SWEEPING', 'GARBAGE COLLECTIONS', 'GARBAGE COLLECTIONS', 'RECYCLING - SINGLE STREAM', 'RECYCLING - SINGLE STREAM', 'YARD TRIMMING', 'YARD TRIMMING', 'GARBAGE COLLECTIONS', 'YARD TRIMMING', 'RECYCLING - SINGLE STREAM', 'GARBAGE COLLECTIONS', 'RECYCLING - SINGLE STREAM', 'RECYCLING - SINGLE STREAM', 'GARBAGE COLLECTIONS', 'RECYCLING - SINGLE STREAM', 'RECYCLING - SINGLE STREAM', 'RECYCLING - SINGLE STREAM', 'GARBAGE COLLECTIONS', 'RECYCLING - SINGLE STREAM', 'GARBAGE COLLECTIONS', 'GARBAGE COLLECTIONS', 'BULK', 'GARBAGE COLLECTIONS', 'GARBAGE COLLECTIONS', 'GARBAGE COLLECTIONS', 'GARBAGE COLLECTIONS', 'GARBAGE COLLECTIONS', 'BULK', 'SWEEPING', 'GARBAGE COLLECTIONS', 'RECYCLING - SINGLE STREAM', 'YARD TRIMMING', 'YARD TRIMMING', 'RECYCLING - SINGLE STREAM', 'RECYCLING - SINGLE STREAM', 'BRUSH', 'RECYCLING - SINGLE STREAM', 'SWEEPING', 'RECYCLING - SINGLE STREAM', 'GARBAGE COLLECTIONS', 'RECYCLING - SINGLE STREAM', 'RECYCLING - SINGLE STREAM', 'RECYCLING - SINGLE STREAM', 'GARBAGE COLLECTIONS', 'GARBAGE COLLECTIONS', 'RECYCLING - SINGLE STREAM', 'RECYCLING - SINGLE STREAM', 'GARBAGE COLLECTIONS', 'GARBAGE COLLECTIONS', 'YARD TRIMMING', 'GARBAGE COLLECTIONS', 'RECYCLING - SINGLE STREAM', 'GARBAGE COLLECTIONS', 'GARBAGE COLLECTIONS', 'YARD TRIMMING', 'RECYCLING - SINGLE STREAM', 'BULK', 'RECYCLING - SINGLE STREAM', 'RECYCLING - SINGLE STREAM', 'RECYCLING - SINGLE STREAM', 'GARBAGE COLLECTIONS', 'BRUSH', 'GARBAGE COLLECTIONS', 'RECYCLING - SINGLE STREAM', 'GARBAGE COLLECTIONS', 'RECYCLING - SINGLE STREAM', 'BULK', 'GARBAGE COLLECTIONS', 'GARBAGE COLLECTIONS', 'GARBAGE COLLECTIONS', 'GARBAGE COLLECTIONS', 'GARBAGE COLLECTIONS', 'GARBAGE COLLECTIONS', 'GARBAGE COLLECTIONS', 'GARBAGE COLLECTIONS', 'RECYCLING - SINGLE STREAM', 'BULK', 'GARBAGE COLLECTIONS', 'RECYCLING - SINGLE STREAM', 'GARBAGE COLLECTIONS', 'YARD TRIMMING', 'RECYCLING - SINGLE STREAM', 'RECYCLING - SINGLE STREAM', 'RECYCLING - SINGLE STREAM', 'GARBAGE COLLECTIONS', 'GARBAGE COLLECTIONS', 'RECYCLING - SINGLE STREAM', 'GARBAGE COLLECTIONS', 'RECYCLING - SINGLE STREAM', 'GARBAGE COLLECTIONS', 'YARD TRIMMING', 'RECYCLING - SINGLE STREAM', 'SWEEPING', 'GARBAGE COLLECTIONS', 'BULK', 'RECYCLING - SINGLE STREAM', 'GARBAGE COLLECTIONS', 'RECYCLING - SINGLE STREAM', 'GARBAGE COLLECTIONS', 'BULK', 'RECYCLING - SINGLE STREAM', 'GARBAGE COLLECTIONS', 'GARBAGE COLLECTIONS', 'YARD TRIMMING', 'GARBAGE COLLECTIONS', 'YARD TRIMMING', 'SWEEPING', 'RECYCLING - SINGLE STREAM', 'GARBAGE COLLECTIONS', 'RECYCLING - SINGLE STREAM', 'RECYCLING - SINGLE STREAM', 'GARBAGE COLLECTIONS', 'GARBAGE COLLECTIONS', 'YARD TRIMMING', 'GARBAGE COLLECTIONS', 'GARBAGE COLLECTIONS', 'GARBAGE COLLECTIONS', 'GARBAGE COLLECTIONS', 'YARD TRIMMING', 'YARD TRIMMING', 'YARD TRIMMING', 'RECYCLING - SINGLE STREAM', 'GARBAGE COLLECTIONS', 'YARD TRIMMING', 'RECYCLING - SINGLE STREAM', 'RECYCLING - SINGLE STREAM', 'YARD TRIMMING', 'BULK', 'BULK', 'GARBAGE COLLECTIONS', 'GARBAGE COLLECTIONS', 'RECYCLING - SINGLE STREAM', 'SWEEPING', 'RECYCLING - SINGLE STREAM', 'RECYCLING - SINGLE STREAM', 'GARBAGE COLLECTIONS', 'RECYCLING - SINGLE STREAM', 'YARD TRIMMING', 'RECYCLING - SINGLE STREAM', 'GARBAGE COLLECTIONS', 'RECYCLING - SINGLE STREAM', 'GARBAGE COLLECTIONS', 'GARBAGE COLLECTIONS', 'RECYCLING - SINGLE STREAM', 'SWEEPING', 'RECYCLING - SINGLE STREAM', 'RECYCLING - SINGLE STREAM', 'RECYCLING - SINGLE STREAM', 'GARBAGE COLLECTIONS', 'RECYCLING - SINGLE STREAM', 'BRUSH', 'RECYCLING - SINGLE STREAM', 'YARD TRIMMING', 'BULK', 'GARBAGE COLLECTIONS', 'GARBAGE COLLECTIONS', 'BRUSH', 'RECYCLING - SINGLE STREAM', 'BRUSH', 'GARBAGE COLLECTIONS', 'RECYCLING - SINGLE STREAM', 'YARD TRIMMING', 'RECYCLING - SINGLE STREAM', 'RECYCLING - SINGLE STREAM', 'SWEEPING', 'BRUSH', 'GARBAGE COLLECTIONS', 'GARBAGE COLLECTIONS', 'GARBAGE COLLECTIONS', 'RECYCLING - SINGLE STREAM', 'BRUSH', 'RECYCLING - SINGLE STREAM', 'RECYCLING - SINGLE STREAM', 'GARBAGE COLLECTIONS', 'GARBAGE COLLECTIONS', 'GARBAGE COLLECTIONS', 'YARD TRIMMING', 'GARBAGE COLLECTIONS', 'BULK', 'RECYCLING - SINGLE STREAM', 'RECYCLING - SINGLE STREAM', 'GARBAGE COLLECTIONS', 'RECYCLING - SINGLE STREAM', 'RECYCLING - SINGLE STREAM', 'RECYCLING - SINGLE STREAM', 'GARBAGE COLLECTIONS', 'YARD TRIMMING', 'RECYCLING - SINGLE STREAM', 'BULK', 'GARBAGE COLLECTIONS', 'RECYCLING - SINGLE STREAM', 'RECYCLING - SINGLE STREAM', 'RECYCLING - SINGLE STREAM', 'BULK', 'GARBAGE COLLECTIONS', 'BRUSH', 'BRUSH', 'RECYCLING - SINGLE STREAM', 'RECYCLING - SINGLE STREAM', 'YARD TRIMMING', 'GARBAGE COLLECTIONS', 'GARBAGE COLLECTIONS', 'BULK', 'GARBAGE COLLECTIONS', 'GARBAGE COLLECTIONS', 'RECYCLING - SINGLE STREAM', 'GARBAGE COLLECTIONS', 'RECYCLING - SINGLE STREAM', 'GARBAGE COLLECTIONS', 'GARBAGE COLLECTIONS', 'GARBAGE COLLECTIONS', 'GARBAGE COLLECTIONS', 'BULK', 'RECYCLING - SINGLE STREAM', 'BULK', 'GARBAGE COLLECTIONS', 'SWEEPING', 'BULK', 'RECYCLING - SINGLE STREAM', 'GARBAGE COLLECTIONS', 'RECYCLING - SINGLE STREAM', 'GARBAGE COLLECTIONS', 'GARBAGE COLLECTIONS', 'GARBAGE COLLECTIONS', 'YARD TRIMMING', 'GARBAGE COLLECTIONS', 'GARBAGE COLLECTIONS', 'GARBAGE COLLECTIONS', 'GARBAGE COLLECTIONS', 'RECYCLING - SINGLE STREAM', 'BULK', 'GARBAGE COLLECTIONS', 'RECYCLING - SINGLE STREAM', 'SWEEPING', 'RECYCLING - SINGLE STREAM', 'GARBAGE COLLECTIONS', 'RECYCLING - SINGLE STREAM', 'RECYCLING - SINGLE STREAM', 'YARD TRIMMING', 'GARBAGE COLLECTIONS', 'RECYCLING - SINGLE STREAM', 'RECYCLING - SINGLE STREAM', 'GARBAGE COLLECTIONS', 'RECYCLING - SINGLE STREAM', 'GARBAGE COLLECTIONS', 'GARBAGE COLLECTIONS', 'YARD TRIMMING', 'SWEEPING', 'BULK', 'YARD TRIMMING', 'GARBAGE COLLECTIONS', 'GARBAGE COLLECTIONS', 'GARBAGE COLLECTIONS', 'RECYCLING - SINGLE STREAM', 'DEAD ANIMAL', 'GARBAGE COLLECTIONS', 'GARBAGE COLLECTIONS', 'RECYCLING - SINGLE STREAM', 'RECYCLING - SINGLE STREAM', 'SWEEPING', 'GARBAGE COLLECTIONS', 'GARBAGE COLLECTIONS', 'RECYCLING - SINGLE STREAM', 'GARBAGE COLLECTIONS', 'RECYCLING - SINGLE STREAM', 'DEAD ANIMAL', 'SWEEPING', 'RECYCLING - SINGLE STREAM', 'BULK', 'RECYCLING - SINGLE STREAM', 'RECYCLING - SINGLE STREAM', 'GARBAGE COLLECTIONS', 'GARBAGE COLLECTIONS', 'GARBAGE COLLECTIONS', 'YARD TRIMMING', 'YARD TRIMMING', 'YARD TRIMMING', 'GARBAGE COLLECTIONS', 'GARBAGE COLLECTIONS', 'GARBAGE COLLECTIONS', 'GARBAGE COLLECTIONS', 'RECYCLING - SINGLE STREAM', 'GARBAGE COLLECTIONS', 'BULK', 'RECYCLING - SINGLE STREAM', 'GARBAGE COLLECTIONS', 'BULK', 'BRUSH', 'YARD TRIMMING', 'RECYCLING - SINGLE STREAM', 'SWEEPING', 'YARD TRIMMING', 'GARBAGE COLLECTIONS', 'BULK', 'RECYCLING - SINGLE STREAM', 'RECYCLING - SINGLE STREAM', 'RECYCLING - SINGLE STREAM', 'GARBAGE COLLECTIONS', 'GARBAGE COLLECTIONS', 'BRUSH', 'RECYCLING - SINGLE STREAM', 'YARD TRIMMING', 'BULK', 'RECYCLING - SINGLE STREAM', 'GARBAGE COLLECTIONS', 'RECYCLING - SINGLE STREAM', 'GARBAGE COLLECTIONS', 'GARBAGE COLLECTIONS', 'BULK', 'RECYCLING - SINGLE STREAM', 'BULK', 'BULK', 'YARD TRIMMING', 'YARD TRIMMING', 'BULK', 'SWEEPING', 'SWEEPING', 'GARBAGE COLLECTIONS', 'BULK', 'YARD TRIMMING', 'GARBAGE COLLECTIONS', 'GARBAGE COLLECTIONS', 'RECYCLING - SINGLE STREAM', 'BRUSH', 'GARBAGE COLLECTIONS', 'RECYCLING - SINGLE STREAM', 'SWEEPING', 'BULK', 'GARBAGE COLLECTIONS', 'GARBAGE COLLECTIONS', 'SWEEPING', 'GARBAGE COLLECTIONS', 'GARBAGE COLLECTIONS', 'GARBAGE COLLECTIONS', 'GARBAGE COLLECTIONS', 'RECYCLING - SINGLE STREAM', 'GARBAGE COLLECTIONS', 'GARBAGE COLLECTIONS', 'RECYCLING - SINGLE STREAM', 'GARBAGE COLLECTIONS', 'YARD TRIMMING', 'YARD TRIMMING', 'GARBAGE COLLECTIONS', 'RECYCLING - SINGLE STREAM', 'RECYCLING - SINGLE STREAM', 'RECYCLING - SINGLE STREAM', 'RECYCLING - SINGLE STREAM', 'RECYCLING - SINGLE STREAM', 'RECYCLING - SINGLE STREAM', 'RECYCLING - SINGLE STREAM', 'YARD TRIMMING', 'RECYCLING - SINGLE STREAM', 'RECYCLING - SINGLE STREAM', 'GARBAGE COLLECTIONS', 'RECYCLING - SINGLE STREAM', 'GARBAGE COLLECTIONS', 'GARBAGE COLLECTIONS', 'RECYCLING - SINGLE STREAM', 'RECYCLING - SINGLE STREAM', 'GARBAGE COLLECTIONS', 'TIRES', 'YARD TRIMMING', 'RECYCLING - SINGLE STREAM', 'YARD TRIMMING', 'SWEEPING', 'GARBAGE COLLECTIONS', 'SWEEPING', 'RECYCLING - SINGLE STREAM', 'RECYCLING - SINGLE STREAM', 'BULK', 'GARBAGE COLLECTIONS', 'GARBAGE COLLECTIONS', 'RECYCLING - SINGLE STREAM', 'BRUSH', 'BULK', 'GARBAGE COLLECTIONS', 'DEAD ANIMAL', 'GARBAGE COLLECTIONS', 'RECYCLING - SINGLE STREAM', 'RECYCLING - SINGLE STREAM', 'GARBAGE COLLECTIONS', 'BULK', 'DEAD ANIMAL', 'SWEEPING', 'RECYCLING - SINGLE STREAM', 'RECYCLING - SINGLE STREAM', 'SWEEPING', 'RECYCLING - SINGLE STREAM', 'RECYCLING - SINGLE STREAM', 'RECYCLING - SINGLE STREAM', 'GARBAGE COLLECTIONS', 'SWEEPING', 'GARBAGE COLLECTIONS', 'GARBAGE COLLECTIONS', 'GARBAGE COLLECTIONS', 'RECYCLING - SINGLE STREAM', 'RECYCLING - SINGLE STREAM', 'GARBAGE COLLECTIONS', 'GARBAGE COLLECTIONS', 'RECYCLING - SINGLE STREAM', 'RECYCLING - SINGLE STREAM', 'BULK', 'RECYCLING - SINGLE STREAM', 'GARBAGE COLLECTIONS', 'RECYCLING - SINGLE STREAM', 'GARBAGE COLLECTIONS', 'RECYCLING - SINGLE STREAM', 'YARD TRIMMING', 'GARBAGE COLLECTIONS', 'SWEEPING', 'RECYCLING - SINGLE STREAM', 'RECYCLING - SINGLE STREAM', 'GARBAGE COLLECTIONS', 'YARD TRIMMING', 'RECYCLING - SINGLE STREAM', 'RECYCLING - SINGLE STREAM', 'RECYCLING - SINGLE STREAM', 'GARBAGE COLLECTIONS', 'RECYCLING - SINGLE STREAM', 'GARBAGE COLLECTIONS', 'RECYCLING - SINGLE STREAM', 'GARBAGE COLLECTIONS', 'RECYCLING - SINGLE STREAM', 'GARBAGE COLLECTIONS', 'GARBAGE COLLECTIONS', 'GARBAGE COLLECTIONS', 'GARBAGE COLLECTIONS', 'GARBAGE COLLECTIONS', 'YARD TRIMMING', 'DEAD ANIMAL', 'YARD TRIMMING', 'YARD TRIMMING', 'GARBAGE COLLECTIONS', 'RECYCLING - SINGLE STREAM', 'RECYCLING - SINGLE STREAM', 'RECYCLING - SINGLE STREAM', 'RECYCLING - SINGLE STREAM', 'BULK', 'GARBAGE COLLECTIONS', 'RECYCLING - SINGLE STREAM', 'RECYCLING - SINGLE STREAM', 'YARD TRIMMING', 'GARBAGE COLLECTIONS', 'GARBAGE COLLECTIONS', 'GARBAGE COLLECTIONS', 'GARBAGE COLLECTIONS', 'GARBAGE COLLECTIONS', 'GARBAGE COLLECTIONS', 'GARBAGE COLLECTIONS', 'SWEEPING', 'SWEEPING', 'SWEEPING', 'GARBAGE COLLECTIONS', 'YARD TRIMMING', 'RECYCLING - SINGLE STREAM', 'BRUSH', 'GARBAGE COLLECTIONS', 'BRUSH', 'RECYCLING - SINGLE STREAM', 'GARBAGE COLLECTIONS', 'GARBAGE COLLECTIONS', 'BRUSH', 'BULK', 'RECYCLING - SINGLE STREAM', 'GARBAGE COLLECTIONS', 'GARBAGE COLLECTIONS', 'RECYCLING - SINGLE STREAM', 'BULK', 'BRUSH', 'GARBAGE COLLECTIONS', 'GARBAGE COLLECTIONS', 'GARBAGE COLLECTIONS', 'GARBAGE COLLECTIONS', 'GARBAGE COLLECTIONS', 'YARD TRIMMING', 'SWEEPING', 'RECYCLING - SINGLE STREAM', 'RECYCLING - SINGLE STREAM', 'GARBAGE COLLECTIONS', 'BRUSH', 'GARBAGE COLLECTIONS', 'GARBAGE COLLECTIONS', 'BULK', 'GARBAGE COLLECTIONS', 'BRUSH', 'GARBAGE COLLECTIONS', 'GARBAGE COLLECTIONS', 'GARBAGE COLLECTIONS', 'GARBAGE COLLECTIONS', 'GARBAGE COLLECTIONS', 'LITTER', 'TIRES', 'GARBAGE COLLECTIONS', 'GARBAGE COLLECTIONS', 'GARBAGE COLLECTIONS', 'BULK', 'GARBAGE COLLECTIONS', 'SWEEPING', 'GARBAGE COLLECTIONS', 'GARBAGE COLLECTIONS', 'RECYCLING - SINGLE STREAM', 'YARD TRIMMING', 'BRUSH', 'RECYCLING - SINGLE STREAM', 'RECYCLING - SINGLE STREAM', 'RECYCLING - SINGLE STREAM', 'YARD TRIMMING', 'GARBAGE COLLECTIONS', 'GARBAGE COLLECTIONS', 'GARBAGE COLLECTIONS', 'GARBAGE COLLECTIONS', 'GARBAGE COLLECTIONS', 'BRUSH', 'SWEEPING', 'SWEEPING', 'YARD TRIMMING', 'BRUSH', 'SWEEPING', 'GARBAGE COLLECTIONS', 'BULK', 'GARBAGE COLLECTIONS', 'RECYCLING - SINGLE STREAM', 'GARBAGE COLLECTIONS', 'BULK', 'YARD TRIMMING', 'BULK', 'RECYCLING - SINGLE STREAM', 'RECYCLING - SINGLE STREAM', 'YARD TRIMMING', 'GARBAGE COLLECTIONS', 'RECYCLING - SINGLE STREAM', 'BULK', 'RECYCLING - SINGLE STREAM', 'YARD TRIMMING', 'BULK', 'YARD TRIMMING', 'SWEEPING', 'BRUSH', 'GARBAGE COLLECTIONS', 'RECYCLING - SINGLE STREAM', 'GARBAGE COLLECTIONS', 'RECYCLING - SINGLE STREAM', 'RECYCLING - SINGLE STREAM', 'RECYCLING - SINGLE STREAM', 'BRUSH', 'DEAD ANIMAL', 'GARBAGE COLLECTIONS', 'GARBAGE COLLECTIONS', 'RECYCLING - SINGLE STREAM', 'BULK', 'GARBAGE COLLECTIONS', 'RECYCLING - SINGLE STREAM', 'GARBAGE COLLECTIONS', 'GARBAGE COLLECTIONS', 'YARD TRIMMING', 'RECYCLING - SINGLE STREAM', 'GARBAGE COLLECTIONS', 'GARBAGE COLLECTIONS', 'GARBAGE COLLECTIONS', 'RECYCLING - SINGLE STREAM', 'GARBAGE COLLECTIONS', 'BULK', 'GARBAGE COLLECTIONS', 'RECYCLING - SINGLE STREAM', 'GARBAGE COLLECTIONS', 'GARBAGE COLLECTIONS', 'RECYCLING - SINGLE STREAM', 'GARBAGE COLLECTIONS', 'YARD TRIMMING', 'GARBAGE COLLECTIONS', 'GARBAGE COLLECTIONS', 'GARBAGE COLLECTIONS', 'RECYCLING - SINGLE STREAM', 'GARBAGE COLLECTIONS', 'YARD TRIMMING', 'GARBAGE COLLECTIONS', 'YARD TRIMMING', 'GARBAGE COLLECTIONS', 'RECYCLING - SINGLE STREAM', 'YARD TRIMMING']",
            "count": 1
           }
          ]
         }
        },
        {
         "name": "Load Weight",
         "dtype": "float64",
         "stats": {
          "unique_count": 2,
          "nan_count": 0,
          "min": "5821632.0",
          "max": "9621104.0",
          "histogram": [
           {
            "bin_start": 5821632,
            "bin_end": 6201579.2,
            "count": 1
           },
           {
            "bin_start": 6201579.2,
            "bin_end": 6581526.4,
            "count": 0
           },
           {
            "bin_start": 6581526.4,
            "bin_end": 6961473.6,
            "count": 0
           },
           {
            "bin_start": 6961473.6,
            "bin_end": 7341420.8,
            "count": 0
           },
           {
            "bin_start": 7341420.8,
            "bin_end": 7721368,
            "count": 0
           },
           {
            "bin_start": 7721368,
            "bin_end": 8101315.2,
            "count": 0
           },
           {
            "bin_start": 8101315.2,
            "bin_end": 8481262.4,
            "count": 0
           },
           {
            "bin_start": 8481262.4,
            "bin_end": 8861209.6,
            "count": 0
           },
           {
            "bin_start": 8861209.6,
            "bin_end": 9241156.8,
            "count": 0
           },
           {
            "bin_start": 9241156.8,
            "bin_end": 9621104,
            "count": 1
           }
          ]
         }
        },
        {
         "name": "Dropoff Site",
         "dtype": "object",
         "stats": {
          "unique_count": 2,
          "nan_count": 0,
          "categories": [
           {
            "name": "['HORNSBY BEND', 'HORNSBY BEND', 'BALCONES RECYCLING', 'HORNSBY BEND', 'BALCONES RECYCLING', 'BALCONES RECYCLING', 'BALCONES RECYCLING', 'TDS LANDFILL', 'TDS LANDFILL', 'HORNSBY BEND', 'TDS LANDFILL', 'BALCONES RECYCLING', 'TDS LANDFILL', 'TDS LANDFILL', 'TDS LANDFILL', 'BALCONES RECYCLING', 'BALCONES RECYCLING', 'TDS LANDFILL', 'HORNSBY BEND', 'TDS LANDFILL', 'HORNSBY BEND', 'BALCONES RECYCLING', 'TDS LANDFILL', 'TDS LANDFILL', 'TDS LANDFILL', 'TDS LANDFILL', 'BALCONES RECYCLING', 'TDS LANDFILL', 'TDS LANDFILL', 'TDS LANDFILL', 'TDS LANDFILL', 'TDS LANDFILL', 'BALCONES RECYCLING', 'TDS LANDFILL', 'BALCONES RECYCLING', 'TDS LANDFILL', 'BALCONES RECYCLING', 'HORNSBY BEND', 'TDS LANDFILL', 'BALCONES RECYCLING', 'BALCONES RECYCLING', 'TDS LANDFILL', 'TDS LANDFILL', 'TDS LANDFILL', 'TDS LANDFILL', 'BALCONES RECYCLING', 'BALCONES RECYCLING', 'BALCONES RECYCLING', 'TDS LANDFILL', 'TDS LANDFILL', 'TDS LANDFILL', 'TDS LANDFILL', 'BALCONES RECYCLING', 'BALCONES RECYCLING', 'TDS LANDFILL', 'BALCONES RECYCLING', 'TDS LANDFILL', 'HORNSBY BEND', 'BALCONES RECYCLING', 'TDS LANDFILL', 'TDS LANDFILL', 'BALCONES RECYCLING', 'TDS LANDFILL', 'BALCONES RECYCLING', 'HORNSBY BEND', 'HORNSBY BEND', 'TDS LANDFILL', 'TDS LANDFILL', 'BALCONES RECYCLING', 'BALCONES RECYCLING', 'TDS LANDFILL', 'TDS LANDFILL', 'BALCONES RECYCLING', 'TDS LANDFILL', 'TDS LANDFILL', 'HORNSBY BEND', 'BALCONES RECYCLING', 'TDS LANDFILL', 'TDS LANDFILL', 'TDS LANDFILL', 'TDS LANDFILL', 'HORNSBY BEND', 'TDS LANDFILL', 'TDS LANDFILL', 'BALCONES RECYCLING', 'TDS LANDFILL', 'TDS LANDFILL', 'HORNSBY BEND', 'BALCONES RECYCLING', 'TDS LANDFILL', 'BALCONES RECYCLING', 'TDS LANDFILL', 'HORNSBY BEND', 'TDS LANDFILL', 'TDS LANDFILL', 'TDS LANDFILL', 'HORNSBY BEND', 'TDS LANDFILL', 'HORNSBY BEND', 'TDS LANDFILL', 'BALCONES RECYCLING', 'BALCONES RECYCLING', 'BALCONES RECYCLING', 'BALCONES RECYCLING', 'HORNSBY BEND', 'HORNSBY BEND', 'HORNSBY BEND', 'TDS LANDFILL', 'BALCONES RECYCLING', 'TDS LANDFILL', 'TDS LANDFILL', 'TDS LANDFILL', 'TDS LANDFILL', 'BALCONES RECYCLING', 'TDS LANDFILL', 'HORNSBY BEND', 'TDS LANDFILL', 'ORGANICS BY GOSH', 'HORNSBY BEND', 'TDS LANDFILL', 'BALCONES RECYCLING', 'TDS LANDFILL', 'HORNSBY BEND', 'TDS LANDFILL', 'HORNSBY BEND', 'TDS LANDFILL', 'TDS LANDFILL', 'BALCONES RECYCLING', 'TDS LANDFILL', 'TDS LANDFILL', 'TDS LANDFILL', 'TDS LANDFILL', 'TDS LANDFILL', 'HORNSBY BEND', 'TDS LANDFILL', 'TDS LANDFILL', 'TDS LANDFILL', 'TDS LANDFILL', 'TDS LANDFILL', 'HORNSBY BEND', 'BALCONES RECYCLING', 'TDS LANDFILL', 'HORNSBY BEND', 'TDS LANDFILL', 'HORNSBY BEND', 'BALCONES RECYCLING', 'TDS LANDFILL', 'BALCONES RECYCLING', 'TDS LANDFILL', 'TDS LANDFILL', 'TDS LANDFILL', 'BALCONES RECYCLING', 'HORNSBY BEND', 'BALCONES RECYCLING', 'TDS LANDFILL', 'BALCONES RECYCLING', 'BALCONES RECYCLING', 'TDS LANDFILL', 'BALCONES RECYCLING', 'TDS LANDFILL', 'HORNSBY BEND', 'TDS LANDFILL', 'TDS LANDFILL', 'HORNSBY BEND', 'HORNSBY BEND', 'BALCONES RECYCLING', 'BALCONES RECYCLING', 'HORNSBY BEND', 'TDS LANDFILL', 'BALCONES RECYCLING', 'HORNSBY BEND', 'BALCONES RECYCLING', 'HORNSBY BEND', 'TDS LANDFILL', 'TDS LANDFILL', 'HORNSBY BEND', 'TDS LANDFILL', 'TDS LANDFILL', 'TDS LANDFILL', 'BALCONES RECYCLING', 'HORNSBY BEND', 'TDS LANDFILL', 'BALCONES RECYCLING', 'TDS LANDFILL', 'BALCONES RECYCLING', 'TDS LANDFILL', 'TDS LANDFILL', 'TDS LANDFILL', 'BALCONES RECYCLING', 'TDS LANDFILL', 'HORNSBY BEND', 'BALCONES RECYCLING', 'BALCONES RECYCLING', 'HORNSBY BEND', 'BALCONES RECYCLING', 'HORNSBY BEND', 'BALCONES RECYCLING', 'TDS LANDFILL', 'BALCONES RECYCLING', 'TDS LANDFILL', 'BALCONES RECYCLING', 'HORNSBY BEND', 'BALCONES RECYCLING', 'HORNSBY BEND', 'TDS LANDFILL', 'TDS LANDFILL', 'TDS LANDFILL', 'BALCONES RECYCLING', 'BALCONES RECYCLING', 'BALCONES RECYCLING', 'HORNSBY BEND', 'TDS LANDFILL', 'BALCONES RECYCLING', 'TDS LANDFILL', 'HORNSBY BEND', 'BALCONES RECYCLING', 'BALCONES RECYCLING', 'BALCONES RECYCLING', 'TDS LANDFILL', 'TDS LANDFILL', 'TDS LANDFILL', 'TDS LANDFILL', 'BALCONES RECYCLING', 'TDS LANDFILL', 'TDS LANDFILL', 'BALCONES RECYCLING', 'ORGANICS BY GOSH', 'TDS LANDFILL', 'BALCONES RECYCLING', 'TDS LANDFILL', 'TDS LANDFILL', 'TDS LANDFILL', 'TDS LANDFILL', 'BALCONES RECYCLING', 'HORNSBY BEND', 'TDS LANDFILL', 'TDS - MRF', 'HORNSBY BEND', 'BALCONES RECYCLING', 'BALCONES RECYCLING', 'TDS LANDFILL', 'BALCONES RECYCLING', 'BALCONES RECYCLING', 'TDS LANDFILL', 'TDS LANDFILL', 'TDS LANDFILL', 'HORNSBY BEND', 'TDS LANDFILL', 'TDS LANDFILL', 'TDS LANDFILL', 'BALCONES RECYCLING', 'TDS LANDFILL', 'TDS LANDFILL', 'TDS LANDFILL', 'TDS LANDFILL', 'BALCONES RECYCLING', 'TDS LANDFILL', 'TDS LANDFILL', 'BALCONES RECYCLING', 'BALCONES RECYCLING', 'HORNSBY BEND', 'TDS LANDFILL', 'TDS LANDFILL', 'HORNSBY BEND', 'TDS LANDFILL', 'TDS LANDFILL', 'TDS LANDFILL', 'TDS LANDFILL', 'TDS LANDFILL', 'BALCONES RECYCLING', 'BALCONES RECYCLING', 'TDS LANDFILL', 'BALCONES RECYCLING', 'HORNSBY BEND', 'TDS LANDFILL', 'TDS LANDFILL', 'BALCONES RECYCLING', 'BALCONES RECYCLING', 'TDS LANDFILL', 'HORNSBY BEND', 'HORNSBY BEND', 'TDS LANDFILL', 'TDS LANDFILL', 'BALCONES RECYCLING', 'HORNSBY BEND', 'TDS LANDFILL', 'TDS LANDFILL', 'BALCONES RECYCLING', 'TDS LANDFILL', 'TDS LANDFILL', 'TDS LANDFILL', 'BALCONES RECYCLING', 'HORNSBY BEND', 'TDS LANDFILL', 'TDS LANDFILL', 'HORNSBY BEND', 'HORNSBY BEND', 'BALCONES RECYCLING', 'BALCONES RECYCLING', 'BALCONES RECYCLING', 'HORNSBY BEND', 'TDS LANDFILL', 'TDS LANDFILL', 'BALCONES RECYCLING', 'TDS LANDFILL', 'TDS LANDFILL', 'TDS LANDFILL', 'TDS LANDFILL', 'TDS LANDFILL', 'TDS LANDFILL', 'ORGANICS BY GOSH', 'BALCONES RECYCLING', 'TDS LANDFILL', 'HORNSBY BEND', 'BALCONES RECYCLING', 'BALCONES RECYCLING', 'HORNSBY BEND', 'BALCONES RECYCLING', 'TDS LANDFILL', 'HORNSBY BEND', 'ORGANICS BY GOSH', 'BALCONES RECYCLING', 'BALCONES RECYCLING', 'HORNSBY BEND', 'TDS LANDFILL', 'TDS LANDFILL', 'BALCONES RECYCLING', 'BALCONES RECYCLING', 'TDS LANDFILL', 'TDS LANDFILL', 'BALCONES RECYCLING', 'TDS LANDFILL', 'TDS LANDFILL', 'BALCONES RECYCLING', 'TDS LANDFILL', 'BALCONES RECYCLING', 'HORNSBY BEND', 'BALCONES RECYCLING', 'BALCONES RECYCLING', 'HORNSBY BEND', 'BALCONES RECYCLING', 'BALCONES RECYCLING', 'BALCONES RECYCLING', 'BALCONES RECYCLING', 'TDS LANDFILL', 'HORNSBY BEND', 'TDS LANDFILL', 'BALCONES RECYCLING', 'TDS LANDFILL', 'TDS LANDFILL', 'HORNSBY BEND', 'MRF', 'TDS LANDFILL', 'TDS LANDFILL', 'TDS LANDFILL', 'TDS LANDFILL', 'TDS LANDFILL', 'BALCONES RECYCLING', 'TDS LANDFILL', 'BALCONES RECYCLING', 'BALCONES RECYCLING', 'BALCONES RECYCLING', 'TDS LANDFILL', 'TDS LANDFILL', 'HORNSBY BEND', 'HORNSBY BEND', 'BALCONES RECYCLING', 'BALCONES RECYCLING', 'BALCONES RECYCLING', 'BALCONES RECYCLING', 'TDS LANDFILL', 'TDS LANDFILL', 'BALCONES RECYCLING', 'BALCONES RECYCLING', 'TDS LANDFILL', 'TDS LANDFILL', 'HORNSBY BEND', 'HORNSBY BEND', 'BALCONES RECYCLING', 'BALCONES RECYCLING', 'BALCONES RECYCLING', 'BALCONES RECYCLING', 'TDS LANDFILL', 'BALCONES RECYCLING', 'ORGANICS BY GOSH', 'HORNSBY BEND', 'TDS LANDFILL', 'BALCONES RECYCLING', 'BALCONES RECYCLING', 'BALCONES RECYCLING', 'TDS LANDFILL', 'BALCONES RECYCLING', 'BALCONES RECYCLING', 'HORNSBY BEND', 'TDS LANDFILL', 'BALCONES RECYCLING', 'TDS LANDFILL', 'BALCONES RECYCLING', 'TDS LANDFILL', 'TDS LANDFILL', 'HORNSBY BEND', 'TDS LANDFILL', 'BALCONES RECYCLING', 'HORNSBY BEND', 'BALCONES RECYCLING', 'TDS LANDFILL', 'HORNSBY BEND', 'BALCONES RECYCLING', 'TDS LANDFILL', 'TDS LANDFILL', 'TDS LANDFILL', 'TDS LANDFILL', 'TDS LANDFILL', 'TDS LANDFILL', 'TDS LANDFILL', 'TDS LANDFILL', 'BALCONES RECYCLING', 'TDS LANDFILL', 'HORNSBY BEND', 'BALCONES RECYCLING', 'TDS LANDFILL', 'BALCONES RECYCLING', 'TDS LANDFILL', 'TDS LANDFILL', 'TDS LANDFILL', 'TDS LANDFILL', 'HORNSBY BEND', 'HORNSBY BEND', 'TDS LANDFILL', 'TDS LANDFILL']",
            "count": 1
           },
           {
            "name": "['TDS LANDFILL', 'TDS LANDFILL', 'TDS LANDFILL', 'TDS LANDFILL', 'BALCONES RECYCLING', 'TDS LANDFILL', 'TDS LANDFILL', 'BALCONES RECYCLING', 'TDS LANDFILL', 'BALCONES RECYCLING', 'TDS LANDFILL', 'MRF', 'TDS LANDFILL', 'TDS LANDFILL', 'BALCONES RECYCLING', 'TDS LANDFILL', 'BALCONES RECYCLING', 'BALCONES RECYCLING', 'TDS - MRF', 'TDS LANDFILL', 'TDS LANDFILL', 'TDS LANDFILL', 'HORNSBY BEND', 'BALCONES RECYCLING', 'ORGANICS BY GOSH', 'BALCONES RECYCLING', 'HORNSBY BEND', 'BALCONES RECYCLING', 'TDS - MRF', 'HORNSBY BEND', 'ORGANICS BY GOSH', 'TDS LANDFILL', 'TDS LANDFILL', 'TDS LANDFILL', 'TDS - MRF', 'BALCONES RECYCLING', 'TDS LANDFILL', 'HORNSBY BEND', 'TDS LANDFILL', 'TDS LANDFILL', 'TDS LANDFILL', 'TDS LANDFILL', 'HORNSBY BEND', 'TDS LANDFILL', 'TDS LANDFILL', 'TDS LANDFILL', 'BALCONES RECYCLING', 'TDS LANDFILL', 'TDS LANDFILL', 'BALCONES RECYCLING', 'TDS LANDFILL', 'HORNSBY BEND', 'TDS LANDFILL', 'TDS LANDFILL', 'TDS LANDFILL', 'TDS LANDFILL', 'HORNSBY BEND', 'HORNSBY BEND', 'HORNSBY BEND', 'BALCONES RECYCLING', 'HORNSBY BEND', 'TDS LANDFILL', 'TDS LANDFILL', 'TDS LANDFILL', 'TDS LANDFILL', 'TDS LANDFILL', 'TDS LANDFILL', 'TDS - MRF', 'TDS LANDFILL', 'TDS LANDFILL', 'BALCONES RECYCLING', 'BALCONES RECYCLING', 'TDS LANDFILL', 'TDS LANDFILL', 'TDS LANDFILL', 'TDS LANDFILL', 'TDS LANDFILL', 'HORNSBY BEND', 'BALCONES RECYCLING', 'TDS LANDFILL', 'TDS LANDFILL', 'TDS LANDFILL', 'TDS LANDFILL', 'TDS LANDFILL', 'TDS LANDFILL', 'HORNSBY BEND', 'BALCONES RECYCLING', 'TDS - MRF', 'BALCONES RECYCLING', 'TDS LANDFILL', 'BALCONES RECYCLING', 'BALCONES RECYCLING', 'HORNSBY BEND', 'BALCONES RECYCLING', 'TDS LANDFILL', 'TDS LANDFILL', 'TDS - MRF', 'TDS LANDFILL', 'TDS - MRF', 'TDS LANDFILL', 'TDS LANDFILL', 'HORNSBY BEND', 'TDS LANDFILL', 'HORNSBY BEND', 'TDS LANDFILL', 'TDS LANDFILL', 'BALCONES RECYCLING', 'HORNSBY BEND', 'TDS LANDFILL', 'TDS LANDFILL', 'BALCONES RECYCLING', 'TDS LANDFILL', 'TDS - MRF', 'TDS - MRF', 'HORNSBY BEND', 'BALCONES RECYCLING', 'TDS - MRF', 'BALCONES RECYCLING', 'BALCONES RECYCLING', 'TDS LANDFILL', 'TDS LANDFILL', 'TDS LANDFILL', 'TDS LANDFILL', 'TDS LANDFILL', 'TDS LANDFILL', 'TDS LANDFILL', 'TDS LANDFILL', 'TDS LANDFILL', 'TDS LANDFILL', 'BALCONES RECYCLING', 'TDS LANDFILL', 'HORNSBY BEND', 'TDS LANDFILL', 'TDS LANDFILL', 'TDS LANDFILL', 'TDS LANDFILL', 'TDS LANDFILL', 'TDS LANDFILL', 'TDS LANDFILL', 'TDS LANDFILL', 'BALCONES RECYCLING', 'TDS LANDFILL', 'HORNSBY BEND', 'BALCONES RECYCLING', 'TDS LANDFILL', 'TDS LANDFILL', 'TDS LANDFILL', 'TDS LANDFILL', 'TDS - MRF', 'HORNSBY BEND', 'TDS LANDFILL', 'TDS - MRF', 'TDS LANDFILL', 'TDS LANDFILL', 'TDS - MRF', 'TDS LANDFILL', 'TDS LANDFILL', 'BALCONES RECYCLING', 'HORNSBY BEND', 'HORNSBY BEND', 'TDS LANDFILL', 'TDS LANDFILL', 'TDS LANDFILL', 'TDS LANDFILL', 'TDS LANDFILL', 'TDS LANDFILL', 'BALCONES RECYCLING', 'TDS LANDFILL', 'ORGANICS BY GOSH', 'BALCONES RECYCLING', 'TDS - MRF', 'BALCONES RECYCLING', 'HORNSBY BEND', 'TDS LANDFILL', 'BALCONES RECYCLING', 'TDS LANDFILL', 'TDS LANDFILL', 'TDS - MRF', 'TDS LANDFILL', 'BALCONES RECYCLING', 'TDS LANDFILL', 'BALCONES RECYCLING', 'HORNSBY BEND', 'HORNSBY BEND', 'BALCONES RECYCLING', 'HORNSBY BEND', 'TDS LANDFILL', 'TDS - MRF', 'BALCONES RECYCLING', 'HORNSBY BEND', 'TDS LANDFILL', 'TDS - MRF', 'TDS LANDFILL', 'TDS LANDFILL', 'TDS LANDFILL', 'TDS LANDFILL', 'TDS LANDFILL', 'BALCONES RECYCLING', 'TDS LANDFILL', 'HORNSBY BEND', 'TDS LANDFILL', 'TDS LANDFILL', 'BALCONES RECYCLING', 'TDS LANDFILL', 'TDS LANDFILL', 'TDS LANDFILL', 'TDS - MRF', 'TDS LANDFILL', 'TDS LANDFILL', 'TDS LANDFILL', 'BALCONES RECYCLING', 'TDS - MRF', 'HORNSBY BEND', 'HORNSBY BEND', 'TDS LANDFILL', 'HORNSBY BEND', 'TDS - MRF', 'TDS LANDFILL', 'TDS - MRF', 'TDS - MRF', 'TDS LANDFILL', 'BALCONES RECYCLING', 'BALCONES RECYCLING', 'BALCONES RECYCLING', 'TDS LANDFILL', 'BALCONES RECYCLING', 'TDS LANDFILL', 'TDS LANDFILL', 'TDS LANDFILL', 'TDS LANDFILL', 'TDS LANDFILL', 'TDS LANDFILL', 'TDS LANDFILL', 'TDS LANDFILL', 'TDS LANDFILL', 'TDS LANDFILL', 'TDS LANDFILL', 'BALCONES RECYCLING', 'HORNSBY BEND', 'HORNSBY BEND', 'BALCONES RECYCLING', 'BALCONES RECYCLING', 'HORNSBY BEND', 'TDS - MRF', 'TDS LANDFILL', 'TDS - MRF', 'TDS LANDFILL', 'TDS - MRF', 'TDS - MRF', 'TDS - MRF', 'TDS LANDFILL', 'TDS LANDFILL', 'TDS - MRF', 'TDS - MRF', 'TDS LANDFILL', 'TDS LANDFILL', 'HORNSBY BEND', 'TDS LANDFILL', 'TDS - MRF', 'TDS LANDFILL', 'TDS LANDFILL', 'HORNSBY BEND', 'TDS - MRF', 'TDS LANDFILL', 'BALCONES RECYCLING', 'BALCONES RECYCLING', 'TDS - MRF', 'TDS LANDFILL', 'HORNSBY BEND', 'TDS LANDFILL', 'TDS - MRF', 'TDS LANDFILL', 'TDS - MRF', 'TDS LANDFILL', 'TDS LANDFILL', 'TDS LANDFILL', 'TDS LANDFILL', 'TDS LANDFILL', 'TDS LANDFILL', 'TDS LANDFILL', 'TDS LANDFILL', 'TDS LANDFILL', 'BALCONES RECYCLING', 'TDS LANDFILL', 'TDS LANDFILL', 'BALCONES RECYCLING', 'TDS LANDFILL', 'HORNSBY BEND', 'TDS - MRF', 'BALCONES RECYCLING', 'BALCONES RECYCLING', 'TDS LANDFILL', 'TDS LANDFILL', 'TDS - MRF', 'TDS LANDFILL', 'BALCONES RECYCLING', 'TDS LANDFILL', 'HORNSBY BEND', 'TDS - MRF', 'TDS LANDFILL', 'TDS LANDFILL', 'TDS LANDFILL', 'BALCONES RECYCLING', 'TDS LANDFILL', 'TDS - MRF', 'TDS LANDFILL', 'TDS LANDFILL', 'TDS - MRF', 'TDS LANDFILL', 'TDS LANDFILL', 'HORNSBY BEND', 'TDS LANDFILL', 'HORNSBY BEND', 'TDS LANDFILL', 'BALCONES RECYCLING', 'TDS LANDFILL', 'BALCONES RECYCLING', 'BALCONES RECYCLING', 'TDS LANDFILL', 'TDS LANDFILL', 'HORNSBY BEND', 'TDS LANDFILL', 'TDS LANDFILL', 'TDS LANDFILL', 'TDS LANDFILL', 'HORNSBY BEND', 'HORNSBY BEND', 'HORNSBY BEND', 'TDS - MRF', 'TDS LANDFILL', 'HORNSBY BEND', 'TDS - MRF', 'BALCONES RECYCLING', 'HORNSBY BEND', 'TDS LANDFILL', 'TDS LANDFILL', 'TDS LANDFILL', 'TDS LANDFILL', 'TDS - MRF', 'TDS LANDFILL', 'BALCONES RECYCLING', 'BALCONES RECYCLING', 'TDS LANDFILL', 'TDS - MRF', 'HORNSBY BEND', 'TDS - MRF', 'TDS LANDFILL', 'TDS - MRF', 'TDS LANDFILL', 'TDS LANDFILL', 'TDS - MRF', 'TDS LANDFILL', 'TDS - MRF', 'BALCONES RECYCLING', 'BALCONES RECYCLING', 'TDS LANDFILL', 'BALCONES RECYCLING', 'HORNSBY BEND', 'BALCONES RECYCLING', 'HORNSBY BEND', 'TDS LANDFILL', 'TDS LANDFILL', 'TDS LANDFILL', 'HORNSBY BEND', 'BALCONES RECYCLING', 'HORNSBY BEND', 'TDS LANDFILL', 'BALCONES RECYCLING', 'HORNSBY BEND', 'BALCONES RECYCLING', 'BALCONES RECYCLING', 'TDS LANDFILL', 'HORNSBY BEND', 'TDS LANDFILL', 'TDS LANDFILL', 'TDS LANDFILL', 'TDS - MRF', 'HORNSBY BEND', 'TDS - MRF', 'BALCONES RECYCLING', 'TDS LANDFILL', 'TDS LANDFILL', 'TDS LANDFILL', 'HORNSBY BEND', 'TDS LANDFILL', 'TDS LANDFILL', 'TDS - MRF', 'BALCONES RECYCLING', 'TDS LANDFILL', 'BALCONES RECYCLING', 'BALCONES RECYCLING', 'BALCONES RECYCLING', 'TDS LANDFILL', 'HORNSBY BEND', 'BALCONES RECYCLING', 'TDS LANDFILL', 'TDS LANDFILL', 'BALCONES RECYCLING', 'BALCONES RECYCLING', 'BALCONES RECYCLING', 'TDS LANDFILL', 'TDS LANDFILL', 'HORNSBY BEND', 'HORNSBY BEND', 'TDS - MRF', 'TDS - MRF', 'ORGANICS BY GOSH', 'TDS LANDFILL', 'TDS LANDFILL', 'TDS LANDFILL', 'TDS LANDFILL', 'TDS LANDFILL', 'TDS - MRF', 'TDS LANDFILL', 'TDS - MRF', 'TDS LANDFILL', 'TDS LANDFILL', 'TDS LANDFILL', 'TDS LANDFILL', 'TDS LANDFILL', 'BALCONES RECYCLING', 'TDS LANDFILL', 'TDS LANDFILL', 'TDS LANDFILL', 'TDS LANDFILL', 'BALCONES RECYCLING', 'TDS LANDFILL', 'BALCONES RECYCLING', 'TDS LANDFILL', 'TDS LANDFILL', 'TDS LANDFILL', 'HORNSBY BEND', 'TDS LANDFILL', 'TDS LANDFILL', 'TDS LANDFILL', 'TDS LANDFILL', 'BALCONES RECYCLING', 'TDS LANDFILL', 'TDS LANDFILL', 'BALCONES RECYCLING', 'TDS LANDFILL', 'TDS - MRF', 'TDS LANDFILL', 'BALCONES WOODS', 'BALCONES RECYCLING', 'HORNSBY BEND', 'TDS LANDFILL', 'TDS - MRF', 'TDS - MRF', 'TDS LANDFILL', 'BALCONES RECYCLING', 'TDS LANDFILL', 'TDS LANDFILL', 'HORNSBY BEND', 'TDS LANDFILL', 'TDS LANDFILL', 'HORNSBY BEND', 'TDS LANDFILL', 'TDS LANDFILL', 'TDS LANDFILL', 'TDS - MRF', 'TDS LANDFILL', 'TDS LANDFILL', 'TDS LANDFILL', 'TDS - MRF', 'BALCONES RECYCLING', 'TDS LANDFILL', 'TDS LANDFILL', 'TDS LANDFILL', 'BALCONES RECYCLING', 'TDS LANDFILL', 'BALCONES RECYCLING', 'TDS LANDFILL', 'TDS LANDFILL', 'BALCONES RECYCLING', 'TDS LANDFILL', 'BALCONES RECYCLING', 'BALCONES RECYCLING', 'TDS LANDFILL', 'TDS LANDFILL', 'TDS LANDFILL', 'HORNSBY BEND', 'HORNSBY BEND', 'HORNSBY BEND', 'TDS LANDFILL', 'TDS LANDFILL', 'TDS LANDFILL', 'TDS LANDFILL', 'BALCONES RECYCLING', 'TDS LANDFILL', 'TDS LANDFILL', 'BALCONES RECYCLING', 'TDS LANDFILL', 'TDS LANDFILL', 'HORNSBY BEND', 'HORNSBY BEND', 'TDS - MRF', 'TDS LANDFILL', 'ORGANICS BY GOSH', 'TDS LANDFILL', 'TDS LANDFILL', 'BALCONES RECYCLING', 'BALCONES RECYCLING', 'TDS - MRF', 'TDS LANDFILL', 'TDS LANDFILL', 'HORNSBY BEND', 'TDS - MRF', 'HORNSBY BEND', 'TDS LANDFILL', 'BALCONES RECYCLING', 'TDS LANDFILL', 'BALCONES RECYCLING', 'TDS LANDFILL', 'TDS LANDFILL', 'TDS LANDFILL', 'TDS - MRF', 'TDS LANDFILL', 'TDS LANDFILL', 'HORNSBY BEND', 'HORNSBY BEND', 'TDS LANDFILL', 'TDS LANDFILL', 'TDS LANDFILL', 'TDS LANDFILL', 'TDS LANDFILL', 'HORNSBY BEND', 'TDS LANDFILL', 'TDS LANDFILL', 'BALCONES RECYCLING', 'HORNSBY BEND', 'TDS LANDFILL', 'BALCONES RECYCLING', 'TDS LANDFILL', 'TDS LANDFILL', 'TDS LANDFILL', 'TDS LANDFILL', 'TDS LANDFILL', 'TDS LANDFILL', 'TDS LANDFILL', 'TDS LANDFILL', 'TDS LANDFILL', 'TDS - MRF', 'TDS LANDFILL', 'TDS LANDFILL', 'TDS - MRF', 'TDS LANDFILL', 'HORNSBY BEND', 'HORNSBY BEND', 'TDS LANDFILL', 'BALCONES RECYCLING', 'TDS - MRF', 'BALCONES RECYCLING', 'BALCONES RECYCLING', 'TDS - MRF', 'TDS - MRF', 'TDS - MRF', 'HORNSBY BEND', 'TDS - MRF', 'BALCONES RECYCLING', 'TDS LANDFILL', 'BALCONES RECYCLING', 'TDS LANDFILL', 'TDS LANDFILL', 'BALCONES RECYCLING', 'TDS - MRF', 'TDS LANDFILL', 'MRF', 'HORNSBY BEND', 'BALCONES RECYCLING', 'HORNSBY BEND', 'TDS LANDFILL', 'TDS LANDFILL', 'TDS LANDFILL', 'TDS - MRF', 'BALCONES RECYCLING', 'TDS LANDFILL', 'TDS LANDFILL', 'TDS LANDFILL', 'BALCONES RECYCLING', 'HORNSBY BEND', 'TDS LANDFILL', 'TDS LANDFILL', 'TDS LANDFILL', 'TDS LANDFILL', 'BALCONES RECYCLING', 'TDS - MRF', 'TDS LANDFILL', 'TDS LANDFILL', 'TDS LANDFILL', 'TDS LANDFILL', 'TDS - MRF', 'BALCONES RECYCLING', 'TDS LANDFILL', 'TDS - MRF', 'TDS - MRF', 'BALCONES RECYCLING', 'TDS LANDFILL', 'TDS LANDFILL', 'TDS LANDFILL', 'TDS LANDFILL', 'TDS LANDFILL', 'BALCONES RECYCLING', 'TDS - MRF', 'TDS LANDFILL', 'TDS LANDFILL', 'BALCONES RECYCLING', 'BALCONES RECYCLING', 'TDS LANDFILL', 'TDS - MRF', 'TDS LANDFILL', 'BALCONES RECYCLING', 'TDS LANDFILL', 'BALCONES RECYCLING', 'HORNSBY BEND', 'TDS LANDFILL', 'TDS LANDFILL', 'BALCONES RECYCLING', 'TDS - MRF', 'TDS LANDFILL', 'HORNSBY BEND', 'TDS - MRF', 'BALCONES RECYCLING', 'TDS - MRF', 'TDS LANDFILL', 'BALCONES RECYCLING', 'TDS LANDFILL', 'TDS - MRF', 'TDS LANDFILL', 'TDS - MRF', 'TDS LANDFILL', 'TDS LANDFILL', 'TDS LANDFILL', 'TDS LANDFILL', 'TDS LANDFILL', 'HORNSBY BEND', 'TDS LANDFILL', 'HORNSBY BEND', 'HORNSBY BEND', 'TDS LANDFILL', 'BALCONES RECYCLING', 'TDS - MRF', 'BALCONES RECYCLING', 'BALCONES RECYCLING', 'TDS LANDFILL', 'TDS LANDFILL', 'TDS - MRF', 'BALCONES RECYCLING', 'HORNSBY BEND', 'TDS LANDFILL', 'TDS LANDFILL', 'TDS LANDFILL', 'TDS LANDFILL', 'TDS LANDFILL', 'TDS LANDFILL', 'TDS LANDFILL', 'TDS LANDFILL', 'TDS LANDFILL', 'TDS LANDFILL', 'TDS LANDFILL', 'HORNSBY BEND', 'TDS - MRF', 'HORNSBY BEND', 'TDS LANDFILL', 'HORNSBY BEND', 'BALCONES RECYCLING', 'TDS LANDFILL', 'TDS LANDFILL', 'HORNSBY BEND', 'TDS LANDFILL', 'TDS - MRF', 'TDS LANDFILL', 'TDS LANDFILL', 'TDS - MRF', 'TDS LANDFILL', 'HORNSBY BEND', 'TDS LANDFILL', 'TDS LANDFILL', 'TDS LANDFILL', 'TDS LANDFILL', 'TDS LANDFILL', 'ORGANICS BY GOSH', 'TDS LANDFILL', 'BALCONES RECYCLING', 'TDS - MRF', 'TDS LANDFILL', 'HORNSBY BEND', 'TDS LANDFILL', 'TDS LANDFILL', 'TDS LANDFILL', 'TDS LANDFILL', 'HORNSBY BEND', 'TDS LANDFILL', 'TDS - MRF', 'TDS LANDFILL', 'TDS LANDFILL', 'TDS LANDFILL', 'TDS LANDFILL', 'MRF', 'TDS LANDFILL', 'TDS LANDFILL', 'TDS LANDFILL', 'TDS LANDFILL', 'TDS LANDFILL', 'TDS LANDFILL', 'TDS LANDFILL', 'TDS LANDFILL', 'TDS - MRF', 'HORNSBY BEND', 'HORNSBY BEND', 'BALCONES RECYCLING', 'TDS - MRF', 'BALCONES RECYCLING', 'HORNSBY BEND', 'TDS LANDFILL', 'TDS LANDFILL', 'TDS LANDFILL', 'TDS LANDFILL', 'TDS LANDFILL', 'HORNSBY BEND', 'TDS LANDFILL', 'TDS LANDFILL', 'ORGANICS BY GOSH', 'HORNSBY BEND', 'TDS LANDFILL', 'TDS LANDFILL', 'TDS LANDFILL', 'TDS LANDFILL', 'BALCONES RECYCLING', 'TDS LANDFILL', 'TDS LANDFILL', 'HORNSBY BEND', 'TDS LANDFILL', 'TDS - MRF', 'TDS - MRF', 'HORNSBY BEND', 'TDS LANDFILL', 'TDS - MRF', 'TDS LANDFILL', 'TDS - MRF', 'HORNSBY BEND', 'TDS LANDFILL', 'HORNSBY BEND', 'TDS LANDFILL', 'HORNSBY BEND', 'TDS LANDFILL', 'BALCONES RECYCLING', 'TDS LANDFILL', 'BALCONES RECYCLING', 'TDS - MRF', 'BALCONES RECYCLING', 'HORNSBY BEND', 'TDS LANDFILL', 'TDS LANDFILL', 'TDS LANDFILL', 'BALCONES RECYCLING', 'TDS LANDFILL', 'TDS LANDFILL', 'BALCONES RECYCLING', 'TDS LANDFILL', 'TDS LANDFILL', 'HORNSBY BEND', 'TDS - MRF', 'TDS LANDFILL', 'TDS LANDFILL', 'TDS LANDFILL', 'BALCONES RECYCLING', 'TDS LANDFILL', 'TDS LANDFILL', 'TDS LANDFILL', 'BALCONES RECYCLING', 'TDS LANDFILL', 'TDS LANDFILL', 'TDS - MRF', 'TDS LANDFILL', 'HORNSBY BEND', 'TDS LANDFILL', 'TDS LANDFILL', 'TDS LANDFILL', 'BALCONES RECYCLING', 'TDS LANDFILL', 'HORNSBY BEND', 'TDS LANDFILL', 'HORNSBY BEND', 'TDS LANDFILL', 'BALCONES RECYCLING', 'HORNSBY BEND']",
            "count": 1
           }
          ]
         }
        },
        {
         "name": "Route Type",
         "dtype": "object",
         "stats": {
          "unique_count": 2,
          "nan_count": 0,
          "categories": [
           {
            "name": "['YARD TRIMMINGS', 'YARD TRIMMINGS', 'RECYCLING - SINGLE STREAM', 'YARD TRIMMINGS', 'RECYCLING - SINGLE STREAM', 'RECYCLING - SINGLE STREAM', 'RECYCLING - SINGLE STREAM', 'GARBAGE COLLECTION', 'GARBAGE COLLECTION', 'YARD TRIMMINGS', 'GARBAGE COLLECTION', 'RECYCLING - SINGLE STREAM', 'KAB', 'STORM', 'GARBAGE COLLECTION', 'RECYCLING - SINGLE STREAM', 'RECYCLING - SINGLE STREAM', 'GARBAGE COLLECTION', 'YARD TRIMMINGS', 'GARBAGE COLLECTION', 'YARD TRIMMINGS', 'RECYCLING - SINGLE STREAM', 'GARBAGE COLLECTION', 'GARBAGE COLLECTION', 'GARBAGE COLLECTION', 'SWEEPER DUMPSITES', 'RECYCLING - SINGLE STREAM', 'BULK', 'GARBAGE COLLECTION', 'GARBAGE COLLECTION', 'STORM', 'GARBAGE COLLECTION', 'RECYCLING - SINGLE STREAM', 'GARBAGE COLLECTION', 'RECYCLING - SINGLE STREAM', 'GARBAGE COLLECTION', 'RECYCLING - SINGLE STREAM', 'YARD TRIMMINGS', 'BULK', 'RECYCLING - SINGLE STREAM', 'RECYCLING - SINGLE STREAM', 'LITTER P/U', 'GARBAGE COLLECTION', 'GARBAGE COLLECTION', 'GARBAGE COLLECTION', 'RECYCLING - SINGLE STREAM', 'RECYCLING - SINGLE STREAM', 'RECYCLING - SINGLE STREAM', 'GARBAGE COLLECTION', 'DEAD ANIMAL', 'GARBAGE COLLECTION', 'GARBAGE COLLECTION', 'RECYCLING - SINGLE STREAM', 'RECYCLING - SINGLE STREAM', 'GARBAGE COLLECTION', 'RECYCLING - SINGLE STREAM', 'GARBAGE COLLECTION', 'YARD TRIMMINGS', 'RECYCLING - SINGLE STREAM', 'GARBAGE COLLECTION', 'GARBAGE COLLECTION', 'RECYCLING - SINGLE STREAM', 'SWEEPER DUMPSITES', 'RECYCLING - SINGLE STREAM', 'YARD TRIMMINGS', 'YARD TRIMMINGS', 'GARBAGE COLLECTION', 'SWEEPER DUMPSITES', 'RECYCLING - SINGLE STREAM', 'RECYCLING - SINGLE STREAM', 'GARBAGE COLLECTION', 'GARBAGE COLLECTION', 'RECYCLING - SINGLE STREAM', 'SWEEPER DUMPSITES', 'SWEEPER DUMPSITES', 'YARD TRIMMINGS', 'RECYCLING - SINGLE STREAM', 'GARBAGE COLLECTION', 'GARBAGE COLLECTION', 'GARBAGE COLLECTION', 'GARBAGE COLLECTION', 'BRUSH', 'GARBAGE COLLECTION', 'SWEEPER DUMPSITES', 'RECYCLING - SINGLE STREAM', 'GARBAGE COLLECTION', 'GARBAGE COLLECTION', 'YARD TRIMMINGS', 'RECYCLING - SINGLE STREAM', 'GARBAGE COLLECTION', 'RECYCLING - SINGLE STREAM', 'GARBAGE COLLECTION', 'YARD TRIMMINGS', 'GARBAGE COLLECTION', 'GARBAGE COLLECTION', 'GARBAGE COLLECTION', 'YARD TRIMMINGS', 'GARBAGE COLLECTION', 'YARD TRIMMINGS', 'GARBAGE COLLECTION', 'RECYCLING - SINGLE STREAM', 'RECYCLING - SINGLE STREAM', 'RECYCLING - SINGLE STREAM', 'RECYCLING - SINGLE STREAM', 'YARD TRIMMINGS', 'YARD TRIMMINGS', 'YARD TRIMMINGS', 'GARBAGE COLLECTION', 'RECYCLING - SINGLE STREAM', 'GARBAGE COLLECTION', 'GARBAGE COLLECTION', 'SWEEPER DUMPSITES', 'GARBAGE COLLECTION', 'RECYCLING - SINGLE STREAM', 'DEAD ANIMAL', 'YARD TRIMMINGS', 'GARBAGE COLLECTION', 'YARD TRIMMINGS-ORGANICS', 'YARD TRIMMINGS', 'BULK', 'RECYCLING - SINGLE STREAM', 'GARBAGE COLLECTION', 'YARD TRIMMINGS', 'GARBAGE COLLECTION', 'BRUSH', 'SWEEPER DUMPSITES', 'GARBAGE COLLECTION', 'RECYCLING - SINGLE STREAM', 'GARBAGE COLLECTION', 'GARBAGE COLLECTION', 'GARBAGE COLLECTION', 'GARBAGE COLLECTION', 'SWEEPER DUMPSITES', 'YARD TRIMMINGS', 'SWEEPER DUMPSITES', 'GARBAGE COLLECTION', 'GARBAGE COLLECTION', 'GARBAGE COLLECTION', 'GARBAGE COLLECTION', 'YARD TRIMMINGS', 'RECYCLING - SINGLE STREAM', 'GARBAGE COLLECTION', 'YARD TRIMMINGS', 'GARBAGE COLLECTION', 'YARD TRIMMINGS', 'RECYCLING - SINGLE STREAM', 'GARBAGE COLLECTION', 'RECYCLING - SINGLE STREAM', 'GARBAGE COLLECTION', 'GARBAGE COLLECTION', 'GARBAGE COLLECTION', 'RECYCLING - SINGLE STREAM', 'YARD TRIMMINGS', 'RECYCLING - SINGLE STREAM', 'GARBAGE COLLECTION', 'RECYCLING - SINGLE STREAM', 'RECYCLING - SINGLE STREAM', 'GARBAGE COLLECTION', 'RECYCLING - SINGLE STREAM', 'GARBAGE COLLECTION', 'YARD TRIMMINGS', 'GARBAGE COLLECTION', 'GARBAGE COLLECTION', 'YARD TRIMMINGS', 'YARD TRIMMINGS', 'RECYCLING - SINGLE STREAM', 'RECYCLING - SINGLE STREAM', 'YARD TRIMMINGS', 'GARBAGE COLLECTION', 'RECYCLING - SINGLE STREAM', 'YARD TRIMMINGS', 'RECYCLING - SINGLE STREAM', 'YARD TRIMMINGS', 'SWEEPER DUMPSITES', 'GARBAGE COLLECTION', 'YARD TRIMMINGS', 'GARBAGE COLLECTION', 'GARBAGE COLLECTION', 'GARBAGE COLLECTION', 'RECYCLING - SINGLE STREAM', 'YARD TRIMMINGS', 'GARBAGE COLLECTION', 'RECYCLING - SINGLE STREAM', 'GARBAGE COLLECTION', 'RECYCLING - SINGLE STREAM', 'GARBAGE COLLECTION', 'GARBAGE COLLECTION', 'BULK', 'RECYCLING - SINGLE STREAM', 'GARBAGE COLLECTION', 'YARD TRIMMINGS', 'RECYCLING - SINGLE STREAM', 'RECYCLING - SINGLE STREAM', 'YARD TRIMMINGS', 'RECYCLING - SINGLE STREAM', 'YARD TRIMMINGS', 'RECYCLING - SINGLE STREAM', 'GARBAGE COLLECTION', 'RECYCLING - SINGLE STREAM', 'GARBAGE COLLECTION', 'RECYCLING - SINGLE STREAM', 'YARD TRIMMINGS', 'RECYCLING - SINGLE STREAM', 'YARD TRIMMINGS', 'GARBAGE COLLECTION', 'GARBAGE COLLECTION', 'GARBAGE COLLECTION', 'RECYCLING - SINGLE STREAM', 'RECYCLING - SINGLE STREAM', 'RECYCLING - SINGLE STREAM', 'YARD TRIMMINGS', 'GARBAGE COLLECTION', 'RECYCLING - SINGLE STREAM', 'GARBAGE COLLECTION', 'YARD TRIMMINGS', 'RECYCLING - SINGLE STREAM', 'RECYCLING - SINGLE STREAM', 'RECYCLING - SINGLE STREAM', 'GARBAGE COLLECTION', 'GARBAGE COLLECTION', 'GARBAGE COLLECTION', 'GARBAGE COLLECTION', 'RECYCLING - SINGLE STREAM', 'GARBAGE COLLECTION', 'GARBAGE COLLECTION', 'RECYCLING - SINGLE STREAM', 'YARD TRIMMINGS-ORGANICS', 'GARBAGE COLLECTION', 'RECYCLING - SINGLE STREAM', 'GARBAGE COLLECTION', 'STORM', 'GARBAGE COLLECTION', 'GARBAGE COLLECTION', 'RECYCLING - SINGLE STREAM', 'YARD TRIMMINGS', 'GARBAGE COLLECTION', 'DEAD ANIMAL', 'YARD TRIMMINGS', 'RECYCLING - SINGLE STREAM', 'RECYCLING - SINGLE STREAM', 'GARBAGE COLLECTION', 'RECYCLING - SINGLE STREAM', 'RECYCLING - SINGLE STREAM', 'GARBAGE COLLECTION', 'GARBAGE COLLECTION', 'GARBAGE COLLECTION', 'YARD TRIMMINGS', 'GARBAGE COLLECTION', 'GARBAGE COLLECTION', 'GARBAGE COLLECTION', 'RECYCLING - SINGLE STREAM', 'GARBAGE COLLECTION', 'GARBAGE COLLECTION', 'GARBAGE COLLECTION', 'GARBAGE COLLECTION', 'RECYCLING - SINGLE STREAM', 'GARBAGE COLLECTION', 'SWEEPER DUMPSITES', 'RECYCLING - SINGLE STREAM', 'RECYCLING - SINGLE STREAM', 'YARD TRIMMINGS', 'GARBAGE COLLECTION', 'DEAD ANIMAL', 'BRUSH', 'SWEEPER DUMPSITES', 'GARBAGE COLLECTION', 'GARBAGE COLLECTION', 'GARBAGE COLLECTION', 'GARBAGE COLLECTION', 'INHOUSE - RECYCLING', 'RECYCLING - SINGLE STREAM', 'GARBAGE COLLECTION', 'RECYCLING - SINGLE STREAM', 'YARD TRIMMINGS', 'GARBAGE COLLECTION', 'GARBAGE COLLECTION', 'RECYCLING - SINGLE STREAM', 'RECYCLING - SINGLE STREAM', 'GARBAGE COLLECTION', 'YARD TRIMMINGS', 'YARD TRIMMINGS', 'GARBAGE COLLECTION', 'GARBAGE COLLECTION', 'RECYCLING - SINGLE STREAM', 'YARD TRIMMINGS', 'GARBAGE COLLECTION', 'GARBAGE COLLECTION', 'RECYCLING - SINGLE STREAM', 'GARBAGE COLLECTION', 'GARBAGE COLLECTION', 'GARBAGE COLLECTION', 'RECYCLING - SINGLE STREAM', 'YARD TRIMMINGS', 'GARBAGE COLLECTION', 'BULK', 'YARD TRIMMINGS', 'YARD TRIMMINGS', 'RECYCLING - SINGLE STREAM', 'RECYCLING - SINGLE STREAM', 'RECYCLING - SINGLE STREAM', 'YARD TRIMMINGS', 'GARBAGE COLLECTION', 'GARBAGE COLLECTION', 'RECYCLING - SINGLE STREAM', 'GARBAGE COLLECTION', 'GARBAGE COLLECTION', 'GARBAGE COLLECTION', 'GARBAGE COLLECTION', 'GARBAGE COLLECTION', 'GARBAGE COLLECTION', 'YARD TRIMMINGS-ORGANICS', 'RECYCLING - SINGLE STREAM', 'GARBAGE COLLECTION', 'YARD TRIMMINGS', 'RECYCLING - SINGLE STREAM', 'RECYCLING - SINGLE STREAM', 'YARD TRIMMINGS', 'RECYCLING - SINGLE STREAM', 'GARBAGE COLLECTION', 'YARD TRIMMINGS', 'YARD TRIMMINGS-ORGANICS', 'RECYCLING - SINGLE STREAM', 'RECYCLING - SINGLE STREAM', 'YARD TRIMMINGS', 'DEAD ANIMAL', 'GARBAGE COLLECTION', 'RECYCLING - SINGLE STREAM', 'RECYCLING - SINGLE STREAM', 'GARBAGE COLLECTION', 'GARBAGE COLLECTION', 'RECYCLING - SINGLE STREAM', 'GARBAGE COLLECTION', 'GARBAGE COLLECTION', 'RECYCLING - SINGLE STREAM', 'GARBAGE COLLECTION', 'RECYCLING - SINGLE STREAM', 'YARD TRIMMINGS', 'RECYCLING - SINGLE STREAM', 'RECYCLING - SINGLE STREAM', 'YARD TRIMMINGS', 'RECYCLING - SINGLE STREAM', 'RECYCLING - SINGLE STREAM', 'RECYCLING - SINGLE STREAM', 'RECYCLING - SINGLE STREAM', 'GARBAGE COLLECTION', 'BRUSH', 'GARBAGE COLLECTION', 'RECYCLING - SINGLE STREAM', 'GARBAGE COLLECTION', 'SWEEPER DUMPSITES', 'YARD TRIMMINGS', 'BULK', 'GARBAGE COLLECTION', 'GARBAGE COLLECTION', 'GARBAGE COLLECTION', 'GARBAGE COLLECTION', 'GARBAGE COLLECTION', 'RECYCLING - SINGLE STREAM', 'GARBAGE COLLECTION', 'RECYCLING - SINGLE STREAM', 'RECYCLING - SINGLE STREAM', 'RECYCLING - SINGLE STREAM', 'GARBAGE COLLECTION', 'GARBAGE COLLECTION', 'YARD TRIMMINGS', 'YARD TRIMMINGS', 'RECYCLING - SINGLE STREAM', 'RECYCLING - SINGLE STREAM', 'RECYCLING - SINGLE STREAM', 'RECYCLING - SINGLE STREAM', 'GARBAGE COLLECTION', 'GARBAGE COLLECTION', 'RECYCLING - SINGLE STREAM', 'RECYCLING - SINGLE STREAM', 'GARBAGE COLLECTION', 'STORM', 'YARD TRIMMINGS', 'YARD TRIMMINGS', 'RECYCLING - SINGLE STREAM', 'RECYCLING - SINGLE STREAM', 'RECYCLING - SINGLE STREAM', 'RECYCLING - SINGLE STREAM', 'GARBAGE COLLECTION', 'RECYCLING - SINGLE STREAM', 'YARD TRIMMINGS-ORGANICS', 'YARD TRIMMINGS', 'GARBAGE COLLECTION', 'RECYCLING - SINGLE STREAM', 'RECYCLING - SINGLE STREAM', 'RECYCLING - SINGLE STREAM', 'GARBAGE COLLECTION', 'RECYCLING - SINGLE STREAM', 'RECYCLING - SINGLE STREAM', 'YARD TRIMMINGS', 'GARBAGE COLLECTION', 'RECYCLING - SINGLE STREAM', 'GARBAGE COLLECTION', 'RECYCLING - SINGLE STREAM', 'GARBAGE COLLECTION', 'GARBAGE COLLECTION', 'YARD TRIMMINGS', 'BULK', 'RECYCLING - SINGLE STREAM', 'YARD TRIMMINGS', 'RECYCLING - SINGLE STREAM', 'GARBAGE COLLECTION', 'YARD TRIMMINGS', 'RECYCLING - SINGLE STREAM', 'GARBAGE COLLECTION', 'GARBAGE COLLECTION', 'SWEEPER DUMPSITES', 'GARBAGE COLLECTION', 'SWEEPER DUMPSITES', 'GARBAGE COLLECTION', 'GARBAGE COLLECTION', 'GARBAGE COLLECTION', 'RECYCLING - SINGLE STREAM', 'GARBAGE COLLECTION', 'YARD TRIMMINGS', 'RECYCLING - SINGLE STREAM', 'GARBAGE COLLECTION', 'INHOUSE - RECYCLING', 'GARBAGE COLLECTION', 'GARBAGE COLLECTION', 'DEAD ANIMAL', 'GARBAGE COLLECTION', 'YARD TRIMMINGS', 'YARD TRIMMINGS', 'GARBAGE COLLECTION', 'GARBAGE COLLECTION']",
            "count": 1
           },
           {
            "name": "['GARBAGE COLLECTION', 'GARBAGE COLLECTION', 'GARBAGE COLLECTION', 'BULK', 'RECYCLING - SINGLE STREAM', 'GARBAGE COLLECTION', 'GARBAGE COLLECTION', 'RECYCLING - SINGLE STREAM', 'GARBAGE COLLECTION', 'RECYCLING - SINGLE STREAM', 'GARBAGE COLLECTION', 'BULK', 'GARBAGE COLLECTION', 'GARBAGE COLLECTION', 'RECYCLING - SINGLE STREAM', 'KAB', 'RECYCLING - SINGLE STREAM', 'RECYCLING - SINGLE STREAM', 'RECYCLING - SINGLE STREAM', 'BULK', 'GARBAGE COLLECTION', 'BULK', 'YARD TRIMMINGS', 'RECYCLING - SINGLE STREAM', 'YARD TRIMMINGS', 'RECYCLING - SINGLE STREAM', 'YARD TRIMMINGS', 'RECYCLING - SINGLE STREAM', 'RECYCLING - SINGLE STREAM', 'BRUSH', 'YARD TRIMMINGS', 'BULK', 'GARBAGE COLLECTION', 'GARBAGE COLLECTION', 'RECYCLING - SINGLE STREAM', 'RECYCLING - SINGLE STREAM', 'GARBAGE COLLECTION', 'YARD TRIMMINGS', 'GARBAGE COLLECTION', 'GARBAGE COLLECTION', 'BULK', 'GARBAGE COLLECTION', 'YARD TRIMMINGS', 'GARBAGE COLLECTION', 'GARBAGE COLLECTION', 'GARBAGE COLLECTION', 'RECYCLING - SINGLE STREAM', 'GARBAGE COLLECTION', 'BULK', 'RECYCLING - SINGLE STREAM', 'STORM', 'BRUSH', 'GARBAGE COLLECTION', 'GARBAGE COLLECTION', 'GARBAGE COLLECTION', 'GARBAGE COLLECTION', 'YARD TRIMMINGS', 'BRUSH', 'YARD TRIMMINGS', 'RECYCLING - SINGLE STREAM', 'YARD TRIMMINGS', 'GARBAGE COLLECTION', 'GARBAGE COLLECTION', 'GARBAGE COLLECTION', 'GARBAGE COLLECTION', 'GARBAGE COLLECTION', 'STORM', 'RECYCLING - SINGLE STREAM', 'GARBAGE COLLECTION', 'GARBAGE COLLECTION', 'RECYCLING - SINGLE STREAM', 'RECYCLING - SINGLE STREAM', 'GARBAGE COLLECTION', 'GARBAGE COLLECTION', 'GARBAGE COLLECTION', 'GARBAGE COLLECTION', 'GARBAGE COLLECTION', 'BRUSH', 'RECYCLING - SINGLE STREAM', 'GARBAGE COLLECTION', 'GARBAGE COLLECTION', 'GARBAGE COLLECTION', 'BULK', 'GARBAGE COLLECTION', 'GARBAGE COLLECTION', 'YARD TRIMMINGS', 'RECYCLING - SINGLE STREAM', 'RECYCLING - SINGLE STREAM', 'RECYCLING - SINGLE STREAM', 'GARBAGE COLLECTION', 'RECYCLING - SINGLE STREAM', 'RECYCLING - SINGLE STREAM', 'STORM', 'RECYCLING - SINGLE STREAM', 'GARBAGE COLLECTION', 'GARBAGE COLLECTION', 'RECYCLING - SINGLE STREAM', 'SWEEPER DUMPSITES', 'RECYCLING - SINGLE STREAM', 'GARBAGE COLLECTION', 'GARBAGE COLLECTION', 'BRUSH', 'GARBAGE COLLECTION', 'YARD TRIMMINGS', 'DEAD ANIMAL', 'GARBAGE COLLECTION', 'RECYCLING - SINGLE STREAM', 'YARD TRIMMINGS', 'GARBAGE COLLECTION', 'GARBAGE COLLECTION', 'RECYCLING - SINGLE STREAM', 'SWEEPER DUMPSITES', 'RECYCLING - SINGLE STREAM', 'RECYCLING - SINGLE STREAM', 'YARD TRIMMINGS', 'RECYCLING - SINGLE STREAM', 'RECYCLING - SINGLE STREAM', 'RECYCLING - SINGLE STREAM', 'RECYCLING - SINGLE STREAM', 'GARBAGE COLLECTION', 'GARBAGE COLLECTION', 'GARBAGE COLLECTION', 'GARBAGE COLLECTION', 'GARBAGE COLLECTION', 'GARBAGE COLLECTION', 'GARBAGE COLLECTION', 'GARBAGE COLLECTION', 'GARBAGE COLLECTION', 'GARBAGE COLLECTION', 'INHOUSE - RECYCLING', 'GARBAGE COLLECTION', 'YARD TRIMMINGS', 'GARBAGE COLLECTION', 'DEAD ANIMAL', 'GARBAGE COLLECTION', 'SWEEPER DUMPSITES', 'BULK', 'GARBAGE COLLECTION', 'GARBAGE COLLECTION', 'GARBAGE COLLECTION', 'RECYCLING - SINGLE STREAM', 'GARBAGE COLLECTION', 'BRUSH', 'RECYCLING - SINGLE STREAM', 'GARBAGE COLLECTION', 'GARBAGE COLLECTION', 'SWEEPER DUMPSITES', 'SWEEPER DUMPSITES', 'RECYCLING - SINGLE STREAM', 'YARD TRIMMINGS', 'GARBAGE COLLECTION', 'RECYCLING - SINGLE STREAM', 'GARBAGE COLLECTION', 'GARBAGE COLLECTION', 'RECYCLING - SINGLE STREAM', 'GARBAGE COLLECTION', 'GARBAGE COLLECTION', 'RECYCLING - SINGLE STREAM', 'YARD TRIMMINGS-ORGANICS', 'YARD TRIMMINGS', 'GARBAGE COLLECTION', 'GARBAGE COLLECTION', 'GARBAGE COLLECTION', 'SWEEPER DUMPSITES', 'GARBAGE COLLECTION', 'GARBAGE COLLECTION', 'RECYCLING - SINGLE STREAM', 'GARBAGE COLLECTION', 'YARD TRIMMINGS-ORGANICS', 'RECYCLING - SINGLE STREAM', 'RECYCLING - SINGLE STREAM', 'RECYCLING - SINGLE STREAM', 'YARD TRIMMINGS', 'GARBAGE COLLECTION', 'RECYCLING - SINGLE STREAM', 'GARBAGE COLLECTION', 'GARBAGE COLLECTION', 'RECYCLING - SINGLE STREAM', 'GARBAGE COLLECTION', 'RECYCLING - SINGLE STREAM', 'GARBAGE COLLECTION', 'RECYCLING - SINGLE STREAM', 'YARD TRIMMINGS', 'YARD TRIMMINGS', 'RECYCLING - SINGLE STREAM', 'YARD TRIMMINGS', 'GARBAGE COLLECTION', 'RECYCLING - SINGLE STREAM', 'RECYCLING - SINGLE STREAM', 'YARD TRIMMINGS', 'GARBAGE COLLECTION', 'RECYCLING - SINGLE STREAM', 'SWEEPER DUMPSITES', 'GARBAGE COLLECTION', 'GARBAGE COLLECTION', 'GARBAGE COLLECTION', 'SWEEPER DUMPSITES', 'RECYCLING - SINGLE STREAM', 'SWEEPER DUMPSITES', 'YARD TRIMMINGS', 'SWEEPER DUMPSITES', 'GARBAGE COLLECTION', 'RECYCLING - SINGLE STREAM', 'GARBAGE COLLECTION', 'GARBAGE COLLECTION', 'GARBAGE COLLECTION', 'RECYCLING - SINGLE STREAM', 'SWEEPER DUMPSITES', 'GARBAGE COLLECTION', 'GARBAGE COLLECTION', 'RECYCLING - SINGLE STREAM', 'RECYCLING - SINGLE STREAM', 'YARD TRIMMINGS', 'YARD TRIMMINGS', 'GARBAGE COLLECTION', 'YARD TRIMMINGS', 'RECYCLING - SINGLE STREAM', 'GARBAGE COLLECTION', 'RECYCLING - SINGLE STREAM', 'RECYCLING - SINGLE STREAM', 'GARBAGE COLLECTION', 'RECYCLING - SINGLE STREAM', 'RECYCLING - SINGLE STREAM', 'RECYCLING - SINGLE STREAM', 'GARBAGE COLLECTION', 'RECYCLING - SINGLE STREAM', 'GARBAGE COLLECTION', 'GARBAGE COLLECTION', 'STORM', 'GARBAGE COLLECTION', 'GARBAGE COLLECTION', 'GARBAGE COLLECTION', 'GARBAGE COLLECTION', 'GARBAGE COLLECTION', 'STORM', 'SWEEPER DUMPSITES', 'GARBAGE COLLECTION', 'RECYCLING - SINGLE STREAM', 'YARD TRIMMINGS', 'YARD TRIMMINGS', 'RECYCLING - SINGLE STREAM', 'RECYCLING - SINGLE STREAM', 'BRUSH', 'RECYCLING - SINGLE STREAM', 'SWEEPER DUMPSITES', 'RECYCLING - SINGLE STREAM', 'GARBAGE COLLECTION', 'RECYCLING - SINGLE STREAM', 'RECYCLING - SINGLE STREAM', 'RECYCLING - SINGLE STREAM', 'GARBAGE COLLECTION', 'GARBAGE COLLECTION', 'RECYCLING - SINGLE STREAM', 'RECYCLING - SINGLE STREAM', 'GARBAGE COLLECTION', 'GARBAGE COLLECTION', 'YARD TRIMMINGS', 'GARBAGE COLLECTION', 'RECYCLING - SINGLE STREAM', 'GARBAGE COLLECTION', 'GARBAGE COLLECTION', 'YARD TRIMMINGS', 'RECYCLING - SINGLE STREAM', 'STORM', 'RECYCLING - SINGLE STREAM', 'RECYCLING - SINGLE STREAM', 'RECYCLING - SINGLE STREAM', 'GARBAGE COLLECTION', 'BRUSH', 'GARBAGE COLLECTION', 'RECYCLING - SINGLE STREAM', 'GARBAGE COLLECTION', 'RECYCLING - SINGLE STREAM', 'STORM', 'GARBAGE COLLECTION', 'GARBAGE COLLECTION', 'GARBAGE COLLECTION', 'GARBAGE COLLECTION', 'GARBAGE COLLECTION', 'GARBAGE COLLECTION', 'GARBAGE COLLECTION', 'GARBAGE COLLECTION', 'RECYCLING - SINGLE STREAM', 'BULK', 'GARBAGE COLLECTION', 'RECYCLING - SINGLE STREAM', 'GARBAGE COLLECTION', 'YARD TRIMMINGS', 'INHOUSE - RECYCLING', 'RECYCLING - SINGLE STREAM', 'RECYCLING - SINGLE STREAM', 'GARBAGE COLLECTION', 'GARBAGE COLLECTION', 'RECYCLING - SINGLE STREAM', 'GARBAGE COLLECTION', 'RECYCLING - SINGLE STREAM', 'GARBAGE COLLECTION', 'YARD TRIMMINGS', 'RECYCLING - SINGLE STREAM', 'SWEEPER DUMPSITES', 'GARBAGE COLLECTION', 'BULK', 'RECYCLING - SINGLE STREAM', 'GARBAGE COLLECTION', 'RECYCLING - SINGLE STREAM', 'GARBAGE COLLECTION', 'STORM', 'RECYCLING - SINGLE STREAM', 'GARBAGE COLLECTION', 'GARBAGE COLLECTION', 'YARD TRIMMINGS', 'GARBAGE COLLECTION', 'YARD TRIMMINGS', 'SWEEPER DUMPSITES', 'RECYCLING - SINGLE STREAM', 'GARBAGE COLLECTION', 'RECYCLING - SINGLE STREAM', 'RECYCLING - SINGLE STREAM', 'GARBAGE COLLECTION', 'GARBAGE COLLECTION', 'YARD TRIMMINGS', 'GARBAGE COLLECTION', 'GARBAGE COLLECTION', 'GARBAGE COLLECTION', 'GARBAGE COLLECTION', 'YARD TRIMMINGS', 'YARD TRIMMINGS', 'YARD TRIMMINGS', 'RECYCLING - SINGLE STREAM', 'GARBAGE COLLECTION', 'YARD TRIMMINGS', 'RECYCLING - SINGLE STREAM', 'RECYCLING - SINGLE STREAM', 'YARD TRIMMINGS', 'STORM', 'STORM', 'GARBAGE COLLECTION', 'GARBAGE COLLECTION', 'RECYCLING - SINGLE STREAM', 'SWEEPER DUMPSITES', 'RECYCLING - SINGLE STREAM', 'RECYCLING - SINGLE STREAM', 'GARBAGE COLLECTION', 'RECYCLING - SINGLE STREAM', 'YARD TRIMMINGS', 'RECYCLING - SINGLE STREAM', 'GARBAGE COLLECTION', 'RECYCLING - SINGLE STREAM', 'GARBAGE COLLECTION', 'GARBAGE COLLECTION', 'INHOUSE - RECYCLING', 'SWEEPER DUMPSITES', 'RECYCLING - SINGLE STREAM', 'RECYCLING - SINGLE STREAM', 'RECYCLING - SINGLE STREAM', 'GARBAGE COLLECTION', 'RECYCLING - SINGLE STREAM', 'BRUSH', 'RECYCLING - SINGLE STREAM', 'YARD TRIMMINGS', 'BULK', 'GARBAGE COLLECTION', 'GARBAGE COLLECTION', 'BRUSH', 'RECYCLING - SINGLE STREAM', 'BRUSH', 'GARBAGE COLLECTION', 'RECYCLING - SINGLE STREAM', 'YARD TRIMMINGS', 'RECYCLING - SINGLE STREAM', 'RECYCLING - SINGLE STREAM', 'SWEEPER DUMPSITES', 'BRUSH', 'GARBAGE COLLECTION', 'GARBAGE COLLECTION', 'GARBAGE COLLECTION', 'RECYCLING - SINGLE STREAM', 'BRUSH', 'RECYCLING - SINGLE STREAM', 'RECYCLING - SINGLE STREAM', 'GARBAGE COLLECTION', 'GARBAGE COLLECTION', 'GARBAGE COLLECTION', 'YARD TRIMMINGS', 'GARBAGE COLLECTION', 'BULK', 'RECYCLING - SINGLE STREAM', 'RECYCLING - SINGLE STREAM', 'GARBAGE COLLECTION', 'RECYCLING - SINGLE STREAM', 'RECYCLING - SINGLE STREAM', 'RECYCLING - SINGLE STREAM', 'GARBAGE COLLECTION', 'YARD TRIMMINGS', 'RECYCLING - SINGLE STREAM', 'STORM', 'GARBAGE COLLECTION', 'RECYCLING - SINGLE STREAM', 'RECYCLING - SINGLE STREAM', 'RECYCLING - SINGLE STREAM', 'BULK', 'GARBAGE COLLECTION', 'BRUSH', 'BRUSH', 'RECYCLING - SINGLE STREAM', 'RECYCLING - SINGLE STREAM', 'YARD TRIMMINGS-ORGANICS', 'GARBAGE COLLECTION', 'GARBAGE COLLECTION', 'STORM', 'GARBAGE COLLECTION', 'GARBAGE COLLECTION', 'RECYCLING - SINGLE STREAM', 'GARBAGE COLLECTION', 'RECYCLING - SINGLE STREAM', 'GARBAGE COLLECTION', 'GARBAGE COLLECTION', 'GARBAGE COLLECTION', 'GARBAGE COLLECTION', 'STORM', 'RECYCLING - SINGLE STREAM', 'BULK', 'GARBAGE COLLECTION', 'SWEEPER DUMPSITES', 'BULK', 'RECYCLING - SINGLE STREAM', 'GARBAGE COLLECTION', 'RECYCLING - SINGLE STREAM', 'GARBAGE COLLECTION', 'GARBAGE COLLECTION', 'GARBAGE COLLECTION', 'YARD TRIMMINGS', 'GARBAGE COLLECTION', 'GARBAGE COLLECTION', 'GARBAGE COLLECTION', 'GARBAGE COLLECTION', 'RECYCLING - SINGLE STREAM', 'BULK', 'GARBAGE COLLECTION', 'RECYCLING - SINGLE STREAM', 'SWEEPER DUMPSITES', 'RECYCLING - SINGLE STREAM', 'GARBAGE COLLECTION', 'RECYCLING - SINGLE STREAM', 'RECYCLING - SINGLE STREAM', 'YARD TRIMMINGS', 'GARBAGE COLLECTION', 'RECYCLING - SINGLE STREAM', 'RECYCLING - SINGLE STREAM', 'GARBAGE COLLECTION', 'RECYCLING - SINGLE STREAM', 'GARBAGE COLLECTION', 'GARBAGE COLLECTION', 'YARD TRIMMINGS', 'SWEEPER DUMPSITES', 'BULK', 'YARD TRIMMINGS', 'GARBAGE COLLECTION', 'GARBAGE COLLECTION', 'GARBAGE COLLECTION', 'RECYCLING - SINGLE STREAM', 'DEAD ANIMAL', 'GARBAGE COLLECTION', 'GARBAGE COLLECTION', 'RECYCLING - SINGLE STREAM', 'RECYCLING - SINGLE STREAM', 'SWEEPER DUMPSITES', 'GARBAGE COLLECTION', 'GARBAGE COLLECTION', 'RECYCLING - SINGLE STREAM', 'GARBAGE COLLECTION', 'RECYCLING - SINGLE STREAM', 'DEAD ANIMAL', 'SWEEPER DUMPSITES', 'RECYCLING - SINGLE STREAM', 'BULK', 'INHOUSE - RECYCLING', 'RECYCLING - SINGLE STREAM', 'GARBAGE COLLECTION', 'GARBAGE COLLECTION', 'GARBAGE COLLECTION', 'YARD TRIMMINGS', 'YARD TRIMMINGS', 'YARD TRIMMINGS', 'GARBAGE COLLECTION', 'GARBAGE COLLECTION', 'GARBAGE COLLECTION', 'GARBAGE COLLECTION', 'RECYCLING - SINGLE STREAM', 'GARBAGE COLLECTION', 'STORM', 'RECYCLING - SINGLE STREAM', 'GARBAGE COLLECTION', 'BULK', 'BRUSH', 'YARD TRIMMINGS', 'RECYCLING - SINGLE STREAM', 'SWEEPER DUMPSITES', 'YARD TRIMMINGS-ORGANICS', 'GARBAGE COLLECTION', 'BULK', 'RECYCLING - SINGLE STREAM', 'RECYCLING - SINGLE STREAM', 'RECYCLING - SINGLE STREAM', 'GARBAGE COLLECTION', 'GARBAGE COLLECTION', 'BRUSH', 'RECYCLING - SINGLE STREAM', 'YARD TRIMMINGS', 'BULK', 'RECYCLING - SINGLE STREAM', 'GARBAGE COLLECTION', 'RECYCLING - SINGLE STREAM', 'GARBAGE COLLECTION', 'GARBAGE COLLECTION', 'BULK', 'RECYCLING - SINGLE STREAM', 'STORM', 'BULK', 'YARD TRIMMINGS', 'YARD TRIMMINGS', 'STORM', 'SWEEPER DUMPSITES', 'SWEEPER DUMPSITES', 'GARBAGE COLLECTION', 'BULK', 'YARD TRIMMINGS', 'GARBAGE COLLECTION', 'GARBAGE COLLECTION', 'RECYCLING - SINGLE STREAM', 'BRUSH', 'GARBAGE COLLECTION', 'INHOUSE - RECYCLING', 'SWEEPER DUMPSITES', 'BULK', 'GARBAGE COLLECTION', 'GARBAGE COLLECTION', 'SWEEPER DUMPSITES', 'GARBAGE COLLECTION', 'GARBAGE COLLECTION', 'GARBAGE COLLECTION', 'GARBAGE COLLECTION', 'RECYCLING - SINGLE STREAM', 'GARBAGE COLLECTION', 'GARBAGE COLLECTION', 'RECYCLING - SINGLE STREAM', 'GARBAGE COLLECTION', 'YARD TRIMMINGS', 'YARD TRIMMINGS', 'GARBAGE COLLECTION', 'RECYCLING - SINGLE STREAM', 'RECYCLING - SINGLE STREAM', 'RECYCLING - SINGLE STREAM', 'RECYCLING - SINGLE STREAM', 'RECYCLING - SINGLE STREAM', 'RECYCLING - SINGLE STREAM', 'RECYCLING - SINGLE STREAM', 'YARD TRIMMINGS', 'RECYCLING - SINGLE STREAM', 'RECYCLING - SINGLE STREAM', 'GARBAGE COLLECTION', 'RECYCLING - SINGLE STREAM', 'GARBAGE COLLECTION', 'GARBAGE COLLECTION', 'RECYCLING - SINGLE STREAM', 'RECYCLING - SINGLE STREAM', 'GARBAGE COLLECTION', 'BULK', 'YARD TRIMMINGS', 'RECYCLING - SINGLE STREAM', 'YARD TRIMMINGS', 'SWEEPER DUMPSITES', 'GARBAGE COLLECTION', 'SWEEPER DUMPSITES', 'RECYCLING - SINGLE STREAM', 'RECYCLING - SINGLE STREAM', 'BULK', 'GARBAGE COLLECTION', 'GARBAGE COLLECTION', 'RECYCLING - SINGLE STREAM', 'BRUSH', 'BULK', 'GARBAGE COLLECTION', 'DEAD ANIMAL', 'GARBAGE COLLECTION', 'RECYCLING - SINGLE STREAM', 'RECYCLING - SINGLE STREAM', 'GARBAGE COLLECTION', 'STORM', 'DEAD ANIMAL', 'SWEEPER DUMPSITES', 'RECYCLING - SINGLE STREAM', 'RECYCLING - SINGLE STREAM', 'SWEEPER DUMPSITES', 'RECYCLING - SINGLE STREAM', 'RECYCLING - SINGLE STREAM', 'RECYCLING - SINGLE STREAM', 'GARBAGE COLLECTION', 'SWEEPER DUMPSITES', 'GARBAGE COLLECTION', 'GARBAGE COLLECTION', 'GARBAGE COLLECTION', 'RECYCLING - SINGLE STREAM', 'RECYCLING - SINGLE STREAM', 'GARBAGE COLLECTION', 'GARBAGE COLLECTION', 'RECYCLING - SINGLE STREAM', 'RECYCLING - SINGLE STREAM', 'BULK', 'RECYCLING - SINGLE STREAM', 'GARBAGE COLLECTION', 'RECYCLING - SINGLE STREAM', 'GARBAGE COLLECTION', 'RECYCLING - SINGLE STREAM', 'YARD TRIMMINGS', 'GARBAGE COLLECTION', 'SWEEPER DUMPSITES', 'RECYCLING - SINGLE STREAM', 'RECYCLING - SINGLE STREAM', 'GARBAGE COLLECTION', 'YARD TRIMMINGS', 'RECYCLING - SINGLE STREAM', 'RECYCLING - SINGLE STREAM', 'RECYCLING - SINGLE STREAM', 'GARBAGE COLLECTION', 'INHOUSE - RECYCLING', 'GARBAGE COLLECTION', 'RECYCLING - SINGLE STREAM', 'GARBAGE COLLECTION', 'RECYCLING - SINGLE STREAM', 'GARBAGE COLLECTION', 'GARBAGE COLLECTION', 'GARBAGE COLLECTION', 'GARBAGE COLLECTION', 'GARBAGE COLLECTION', 'YARD TRIMMINGS', 'DEAD ANIMAL', 'YARD TRIMMINGS', 'YARD TRIMMINGS', 'GARBAGE COLLECTION', 'RECYCLING - SINGLE STREAM', 'RECYCLING - SINGLE STREAM', 'RECYCLING - SINGLE STREAM', 'RECYCLING - SINGLE STREAM', 'BULK', 'GARBAGE COLLECTION', 'RECYCLING - SINGLE STREAM', 'RECYCLING - SINGLE STREAM', 'YARD TRIMMINGS', 'GARBAGE COLLECTION', 'GARBAGE COLLECTION', 'GARBAGE COLLECTION', 'GARBAGE COLLECTION', 'GARBAGE COLLECTION', 'GARBAGE COLLECTION', 'GARBAGE COLLECTION', 'SWEEPER DUMPSITES', 'SWEEPER DUMPSITES', 'SWEEPER DUMPSITES', 'GARBAGE COLLECTION', 'YARD TRIMMINGS', 'RECYCLING - SINGLE STREAM', 'BRUSH', 'GARBAGE COLLECTION', 'BRUSH', 'RECYCLING - SINGLE STREAM', 'GARBAGE COLLECTION', 'GARBAGE COLLECTION', 'BRUSH', 'BULK', 'RECYCLING - SINGLE STREAM', 'GARBAGE COLLECTION', 'GARBAGE COLLECTION', 'RECYCLING - SINGLE STREAM', 'BULK', 'BRUSH', 'GARBAGE COLLECTION', 'GARBAGE COLLECTION', 'GARBAGE COLLECTION', 'GARBAGE COLLECTION', 'GARBAGE COLLECTION', 'YARD TRIMMINGS-ORGANICS', 'SWEEPER DUMPSITES', 'RECYCLING - SINGLE STREAM', 'RECYCLING - SINGLE STREAM', 'GARBAGE COLLECTION', 'STORM', 'GARBAGE COLLECTION', 'GARBAGE COLLECTION', 'BULK', 'GARBAGE COLLECTION', 'BRUSH', 'GARBAGE COLLECTION', 'GARBAGE COLLECTION', 'GARBAGE COLLECTION', 'GARBAGE COLLECTION', 'GARBAGE COLLECTION', 'KAB', 'BULK', 'GARBAGE COLLECTION', 'GARBAGE COLLECTION', 'GARBAGE COLLECTION', 'STORM', 'GARBAGE COLLECTION', 'SWEEPER DUMPSITES', 'GARBAGE COLLECTION', 'GARBAGE COLLECTION', 'RECYCLING - SINGLE STREAM', 'YARD TRIMMINGS', 'BRUSH', 'RECYCLING - SINGLE STREAM', 'RECYCLING - SINGLE STREAM', 'RECYCLING - SINGLE STREAM', 'YARD TRIMMINGS', 'GARBAGE COLLECTION', 'GARBAGE COLLECTION', 'GARBAGE COLLECTION', 'GARBAGE COLLECTION', 'GARBAGE COLLECTION', 'BRUSH', 'SWEEPER DUMPSITES', 'SWEEPER DUMPSITES', 'YARD TRIMMINGS-ORGANICS', 'BRUSH', 'SWEEPER DUMPSITES', 'GARBAGE COLLECTION', 'BULK', 'GARBAGE COLLECTION', 'RECYCLING - SINGLE STREAM', 'GARBAGE COLLECTION', 'BULK', 'YARD TRIMMINGS', 'BULK', 'RECYCLING - SINGLE STREAM', 'RECYCLING - SINGLE STREAM', 'YARD TRIMMINGS', 'GARBAGE COLLECTION', 'RECYCLING - SINGLE STREAM', 'STORM', 'RECYCLING - SINGLE STREAM', 'YARD TRIMMINGS', 'BULK', 'YARD TRIMMINGS', 'SWEEPER DUMPSITES', 'BRUSH', 'GARBAGE COLLECTION', 'RECYCLING - SINGLE STREAM', 'GARBAGE COLLECTION', 'RECYCLING - SINGLE STREAM', 'RECYCLING - SINGLE STREAM', 'RECYCLING - SINGLE STREAM', 'BRUSH', 'DEAD ANIMAL', 'GARBAGE COLLECTION', 'GARBAGE COLLECTION', 'RECYCLING - SINGLE STREAM', 'BULK', 'GARBAGE COLLECTION', 'RECYCLING - SINGLE STREAM', 'GARBAGE COLLECTION', 'GARBAGE COLLECTION', 'YARD TRIMMINGS', 'RECYCLING - SINGLE STREAM', 'GARBAGE COLLECTION', 'GARBAGE COLLECTION', 'GARBAGE COLLECTION', 'RECYCLING - SINGLE STREAM', 'GARBAGE COLLECTION', 'BULK', 'GARBAGE COLLECTION', 'RECYCLING - SINGLE STREAM', 'GARBAGE COLLECTION', 'GARBAGE COLLECTION', 'RECYCLING - SINGLE STREAM', 'GARBAGE COLLECTION', 'YARD TRIMMINGS', 'GARBAGE COLLECTION', 'GARBAGE COLLECTION', 'GARBAGE COLLECTION', 'RECYCLING - SINGLE STREAM', 'GARBAGE COLLECTION', 'YARD TRIMMINGS', 'GARBAGE COLLECTION', 'YARD TRIMMINGS', 'GARBAGE COLLECTION', 'RECYCLING - SINGLE STREAM', 'YARD TRIMMINGS']",
            "count": 1
           }
          ]
         }
        },
        {
         "name": "Route Number",
         "dtype": "object",
         "stats": {
          "unique_count": 2,
          "nan_count": 0,
          "categories": [
           {
            "name": "['YF01', 'YH01', 'DH1', 'YH06', 'RFAU21', 'RHAS35', 'RWAU12', 'PAW81', 'PAF01', 'YBF00', 'PAH60', 'RHAU10', 'KAB07', 'STO13', 'PAH86', 'RFAU21', 'RWAU20', 'PW33', 'YH08', 'PF20', 'YH10', 'RHAU13', 'PF13', 'PAW03', 'PAH69', 'DSS01', 'RFAU13', 'BU08', 'PAW84', 'PAW70', 'STO13', 'PH34', 'RFAU25', 'PW12', 'DW4', 'PAF05', 'RHAU15', 'YH06', 'BU08', 'RFAS41', 'RWAU10', 'LC01', 'PF21', 'PAW70', 'PAH01', 'RFAU10', 'RFAU16', 'RFAU22', 'PAW82', 'DA02', 'PW22', 'PAW85', 'RHAU15', 'RWAU14', 'PAH86', 'RHAU15', 'PAW83', 'YW07', 'RHAS41', 'PW21', 'PW39', 'RFAU25', 'DSS01', 'RWAU22', 'YH09', 'YF09', 'PAW02', 'DSS01', 'RWAU11', 'RWAU22', 'PW21', 'PAH63', 'RHAU23', 'DSS01', 'DSS04', 'YF05', 'RFAU15', 'PW10', 'PAH74', 'PAH76', 'PAF74', 'BR13', 'PAW61', 'DSS01', 'RHAS42', 'PAF02', 'PAW62', 'YBF00', 'RHAU12', 'PAF80', 'RWAS33', 'PAF79', 'YBF00', 'PAH02', 'PAH82', 'PW30', 'YW12', 'PW11', 'YH03', 'PAW72', 'RHAU13', 'RFAU12', 'RFAU16', 'RFAU22', 'YH03', 'YW02', 'YW04', 'PAW73', 'DH1', 'PAH03', 'PAH80', 'DSS01', 'PAW80', 'DF3', 'DA02', 'YH08', 'PAF03', 'OF1', 'YH10', 'BU08', 'RHAU23', 'PAW67', 'YF03', 'PAW84', 'BR13', 'DSS01', 'PW12', 'RWAS43', 'PAH07', 'PAW10', 'PAF73', 'PAF61', 'DSS04', 'YW03', 'DSS01', 'PAW79', 'PAF10', 'PAH64', 'PAW72', 'YF01', 'RWAU24', 'PAH10', 'YF04', 'PAH83', 'YF10', 'RWAS35', 'PH10', 'RHAU10', 'PAH62', 'PAH76', 'PAT66', 'RWAS41', 'YH04', 'RWAU16', 'PAF70', 'RHAS34', 'RHAU26', 'PAF75', 'RHAU15', 'PAW85', 'YHP', 'PAW86', 'PH12', 'YF10', 'YW10', 'DF4', 'RFAU15', 'YW10', 'PAW10', 'DF2', 'YW08', 'RHAU24', 'YBF00', 'DSS04', 'PAH75', 'YW01', 'PH39', 'PAF69', 'PAH06', 'RWAS34', 'YH02', 'PAF60', 'RWAS40', 'PAF72', 'RWAU26', 'PF22', 'PAH83', 'BU08', 'DF3', 'PAW75', 'YF09', 'RHAS42', 'RWAU12', 'YF06', 'RFAU20', 'YF08', 'RHAS33', 'PAW82', 'RWAS41', 'PAF09', 'RFAS43', 'YF05', 'RHAS41', 'YW05', 'PAH81', 'PAW66', 'PAH73', 'RHAU20', 'RHAU22', 'RFAS35', 'YT09', 'PAF81', 'RWAU11', 'PW31', 'YH07', 'RWAU16', 'RWAS40', 'RFAU26', 'PAW81', 'PF34', 'PAW86', 'PAW80', 'DW3', 'PAW63', 'PAW83', 'RFAU20', 'OH1', 'PAF04', 'RWAU23', 'PW11', 'STO13', 'PAH79', 'PF23', 'RHAU26', 'YHP', 'PAW75', 'DA01', 'YBH00', 'RHAU20', 'DF1', 'PAH05', 'DW1', 'RWAU20', 'PAW87', 'PW20', 'PAF64', 'YW03', 'PAH84', 'PH33', 'PAW71', 'RWAU15', 'PH11', 'PH20', 'PAW78', 'PAF67', 'RHAU14', 'PF34', 'DSS01', 'RFAU12', 'RWAU26', 'YF02', 'PW32', 'DA02', 'BR13', 'DSS01', 'PH31', 'PAF82', 'PAF10', 'PAF71', 'IRW1', 'RWAS43', 'PAH82', 'RHAS34', 'YH02', 'PW19', 'PF23', 'RHAU21', 'RFAS43', 'PH22', 'YF02', 'YW03', 'PAW69', 'PH21', 'RHAU24', 'YF08', 'PF33', 'PAF78', 'RWAU24', 'PAW74', 'PF10', 'PF32', 'RHAU21', 'YW12', 'PW19', 'BU08', 'YH07', 'YW04', 'RHAU20', 'DF1', 'RHAU26', 'YBH00', 'PH20', 'PAH61', 'DW2', 'PW22', 'PAH04', 'PW33', 'PAW65', 'PF34', 'PAH67', 'OW1', 'DF1', 'PAW06', 'YBW00', 'DF2', 'RFAU13', 'YW08', 'RWAS42', 'PAH84', 'YH10', 'OW1', 'RWAS35', 'RFAU25', 'YF02', 'DA01', 'PAW74', 'RHAU22', 'RHAS43', 'PH19', 'PAW04', 'RFAS35', 'PAH85', 'PAH81', 'RHAU11', 'PH23', 'DH2', 'YHP', 'RWAU23', 'RFAU10', 'YBF00', 'RFAU20', 'RHAU12', 'RWAU15', 'RHAS40', 'PAH65', 'BR13', 'PAF87', 'RWAU21', 'PAW67', 'DSS01', 'YBW00', 'BU08', 'PAW60', 'PAH61', 'PF12', 'PAH76', 'PF30', 'DH4', 'PAW05', 'DH3', 'RWAU24', 'RFAS33', 'PH32', 'PAF63', 'YT09', 'YW06', 'RWAU14', 'RWAU20', 'RWAU13', 'RHAU14', 'PAW01', 'PAH85', 'RFAS41', 'RFAU22', 'PAH80', 'STO13', 'YH09', 'YW06', 'RFAU10', 'RWAU21', 'RWAU24', 'RFAU20', 'PAF84', 'RHAS40', 'OH1', 'YF06', 'PAH73', 'DH4', 'RHAU20', 'RWAS34', 'PF11', 'RFAS35', 'RFAS42', 'YF07', 'PH22', 'RFAU22', 'PAH09', 'RHAU11', 'PH30', 'PAH72', 'YH11', 'BU08', 'RWAU10', 'YF02', 'RFAU10', 'PAW71', 'YF03', 'RWAU13', 'PAW07', 'PH23', 'DSS01', 'PAH75', 'DSS01', 'PF19', 'PW10', 'PAH70', 'RFAU25', 'PAW09', 'YH04', 'RWAU20', 'PAH87', 'IRF1', 'PAF88', 'PH13', 'DA02', 'PAW64', 'YH01', 'YW05', 'PAF62', 'PAF62']",
            "count": 1
           },
           {
            "name": "['PAW72', 'PAH71', 'PH34', 'BU06', 'RHBU13', 'PAF60', 'PW11', 'RWBU11', 'PAW05', 'RHBU25', 'PAT01', 'BU06', 'PAH81', 'PAT69', 'RHBU21', 'KAB07', 'RWBS34', 'RWBU11', 'RTBU21', 'BU06', 'PW33', 'BU06', 'YT06', 'RWBU13', 'YM05', 'RFBU22', 'YF04', 'RFBS41', 'RMBU14', 'BR19', 'YM05', 'BU06', 'PM10', 'PT31', 'RMBS42', 'RFBS42', 'PAW82', 'YM01', 'PAF73', 'PH23', 'BU06', 'PAW62', 'YW10', 'PAH65', 'PAH85', 'PM20', 'RHBU20', 'PAF04', 'BU06', 'RHBU11', 'STO13', 'BR19', 'PM30', 'PAT82', 'PAT63', 'PAW61', 'YH01', 'BR19', 'YF10', 'RFBU11', 'YW02', 'PAW01', 'PAM85', 'PAT81', 'PAF83', 'PAW83', 'STO13', 'RMBS34', 'PAM73', 'PM20', 'RWBS34', 'RWBU23', 'PAM80', 'PAT09', 'PAM81', 'PAW79', 'PM12', 'BR19', 'RFBU20', 'PAT87', 'PAW80', 'PH22', 'BU06', 'PH12', 'PAM73', 'YT08', 'RFBU24', 'RMBU26', 'RWBU16', 'PAH69', 'RFBU16', 'RHBS40', 'STO13', 'DH4', 'PAM73', 'PAH03', 'RMBU26', 'DSS01', 'RTBS40', 'PAF83', 'PAH82', 'BR19', 'PH23', 'YM02', 'DA01', 'PW30', 'RFBU20', 'YT02', 'PAT84', 'PAH06', 'RWBS43', 'DSS01', 'RMBS33', 'RTBS43', 'YM08', 'RWBS35', 'RTBU26', 'RHBU10', 'RHBU20', 'PAF73', 'PAT72', 'PW21', 'PAW81', 'PAM73', 'PW39', 'PAW63', 'PAM74', 'PAM87', 'PH11', 'IRF1', 'PAT03', 'YF02', 'PAW64', 'DA02', 'PH33', 'DSS04', 'BU06', 'PAW04', 'PAH76', 'PAT03', 'RHBS43', 'PH10', 'BR19', 'RHBS33', 'PH30', 'PF21', 'DSS04', 'DSS01', 'RMBU25', 'YBT99', 'PAM74', 'RMBU16', 'PAH85', 'PAF64', 'RTBU10', 'PAW09', 'PM13', 'RFAS33', 'OF1', 'YT03', 'PAF81', 'PAW05', 'PM23', 'DSS04', 'PF39', 'PAT84', 'RWBU20', 'PAM84', 'OM-1', 'RFBU15', 'RMBU20', 'RWBU10', 'YW05', 'PAM74', 'RWBS42', 'PAT74', 'PF12', 'RTBS43', 'PAM64', 'RHBS43', 'PH32', 'DF3', 'YT09', 'YW01', 'RFBU23', 'YW09', 'PT19', 'RMBU11', 'RHBU14', 'YH04', 'PAM83', 'RMBU22', 'DSS01', 'PAH76', 'PAF71', 'PAM01', 'DSS04', 'RWBU21', 'DSS04', 'YM11', 'DSS01', 'PAM69', 'RHBU16', 'PH39', 'PW31', 'PW19', 'RTBS40', 'DSS01', 'PAM71', 'PAW70', 'RHBU16', 'RMBU23', 'YF07', 'YH08', 'PF33', 'YT01', 'RMBU14', 'PAM70', 'DT3', 'RMBU24', 'PAW84', 'RWBU25', 'RWBS33', 'RWBU14', 'PM32', 'RHBU22', 'PT39', 'PAH70', 'STO13', 'PAM84', 'PAF72', 'PAM62', 'PAH01', 'PAT65', 'STO13', 'DSS01', 'PT22', 'RHBS40', 'YW06', 'YT10', 'RWBS35', 'RFBU13', 'BR19', 'RMBU21', 'DSS01', 'RMBS35', 'PAW02', 'RMBU23', 'RTBU10', 'RMBU11', 'PM20', 'PAH73', 'RTBU10', 'RTBS35', 'PAT71', 'PT21', 'YF09', 'PAF01', 'RMBS43', 'PAF63', 'PAM74', 'YF06', 'RTBU23', 'STO13', 'RHBU21', 'RWBU20', 'DT1', 'PAT61', 'BR19', 'PAH87', 'RMBU13', 'PH21', 'RTBU11', 'STO13', 'PAW60', 'PM23', 'PAT72', 'PM22', 'PAM72', 'PAH84', 'PAM04', 'PAM02', 'RWBU23', 'BU06', 'PAM84', 'RHBS42', 'PAM01', 'YT08', 'IRT1', 'RFBU23', 'DF1', 'PAM83', 'PAH63', 'RTBU22', 'PM31', 'RWBU24', 'PAW64', 'YF05', 'RMBU15', 'DSS04', 'PAF80', 'BU06', 'RHBU13', 'PAH81', 'DM4', 'PW32', 'STO13', 'RTBU21', 'PAF72', 'PAM75', 'YH02', 'PAF87', 'YHP', 'DSS01', 'RFBS41', 'PAF82', 'RHBU26', 'RWBU21', 'PAW75', 'PAW87', 'YM01', 'PAT02', 'PAM64', 'PAT81', 'PM11', 'YHP', 'YH07', 'YM11', 'RMBU10', 'PAW80', 'YM10', 'RMBU20', 'DF2', 'YM04', 'STO13', 'STO13', 'PT20', 'PAT83', 'DM1', 'DSS01', 'RWBS43', 'RFBU14', 'PW21', 'RMBS40', 'YH06', 'RMBS34', 'PAW83', 'RMBU25', 'PAH71', 'PAF69', 'IRM1', 'DSS01', 'RMBU21', 'RWBU12', 'RHBU24', 'PT12', 'RHBU10', 'BR19', 'RWBU12', 'YW03', 'BU06', 'PAW74', 'PAM84', 'BR19', 'RWBU12', 'BR19', 'PH19', 'RHBS34', 'YT07', 'DH1', 'RFBU10', 'DSS04', 'BR19', 'PS36', 'PAW72', 'PAM85', 'RTBU20', 'BR19', 'RMBU25', 'RHBU11', 'PAW03', 'PAW85', 'PAT80', 'YW12', 'PM39', 'BU06', 'DT2', 'DF3', 'PAM02', 'RWBS40', 'RFBU22', 'RWBS33', 'PAM03', 'YW08', 'RFBU21', 'STO13', 'PS36', 'RHBS35', 'RHBU10', 'RHBS35', 'BU06', 'PAF80', 'BR19', 'BR19', 'RTBU26', 'RMBS35', 'OH1', 'PF30', 'PT11', 'STO13', 'PAM75', 'PAW01', 'RMBU10', 'PAT72', 'RTBS33', 'PF10', 'PAF03', 'PAW71', 'PAH61', 'STO13', 'RHBU26', 'BU06', 'PT10', 'DSS01', 'BU06', 'RWBU25', 'PAM01', 'RWBS40', 'PH31', 'PM33', 'PAT01', 'YW04', 'PAM06', 'PAM60', 'PAF01', 'PAM62', 'DF2', 'BU06', 'PAF70', 'RFBU21', 'DSS01', 'RMBU21', 'PAT70', 'DW4', 'RHBU25', 'YF08', 'PAM61', 'RTBU13', 'RTBS34', 'PF32', 'RFBU15', 'PAW06', 'PW20', 'YT12', 'DSS01', 'BU08', 'YM08', 'PAH75', 'PAW82', 'PM33', 'RTBU26', 'DA02', 'PF22', 'PAF04', 'RTBU15', 'RWBS42', 'DSS01', 'PAW73', 'PAH79', 'RWBU16', 'PAT83', 'RWBU24', 'DA01', 'DSS04', 'RFBU13', 'BU06', 'IRW1', 'RWBU25', 'PM21', 'PAM05', 'PF20', 'YW03', 'YF02', 'YM07', 'PAM70', 'PH20', 'PW11', 'PAH75', 'RWBU16', 'PAW73', 'STO13', 'RHBU24', 'PAT72', 'BU06', 'BR19', 'YBF00', 'RMBU12', 'DSS01', 'OH1', 'PAM86', 'BU06', 'RFBS35', 'RWBS41', 'RMBU11', 'PAM65', 'PAF79', 'BR19', 'DT4', 'YM04', 'BU06', 'RHBU10', 'PAW70', 'RFBU10', 'PAW85', 'PAH02', 'BU06', 'RTBU13', 'STO13', 'BU06', 'YH09', 'YT07', 'STO13', 'DSS04', 'DSS01', 'PAF62', 'BU06', 'YM03', 'PM30', 'PAM74', 'RWBU12', 'BR19', 'PAW84', 'IRH1', 'DSS01', 'BU06', 'PAT71', 'PAH60', 'DSS04', 'PAM85', 'PAW83', 'PAF72', 'PAW75', 'RMBS43', 'PAM85', 'PAT03', 'RMBU22', 'PAH09', 'YT10', 'YM02', 'PAT83', 'RWBU23', 'RMBU23', 'RWBU22', 'RWBU21', 'RMBU11', 'RMBU11', 'RMBS41', 'YT09', 'RMBU16', 'DF4', 'PAM61', 'RFBS34', 'PAM06', 'PF11', 'RHBU12', 'RMBU20', 'PAT62', 'BU06', 'YT12', 'RHBS43', 'YH03', 'DSS01', 'PAM03', 'DSS01', 'DT1', 'RWBS40', 'BU06', 'PM10', 'PAF05', 'DF4', 'BR19', 'BU06', 'PAF61', 'DA01', 'PAW85', 'RWBU22', 'RMBU26', 'PF19', 'STO13', 'DA01', 'DSS01', 'RMBU14', 'RHBS34', 'DSS01', 'RMBU15', 'RMBS42', 'RWBU12', 'PAW02', 'DSS04', 'PAT70', 'PAT04', 'PAM72', 'DF1', 'RMBU16', 'PAT04', 'PAT61', 'RWBU13', 'RWBS35', 'BU06', 'RTBU20', 'PAM86', 'RWBU14', 'PAW74', 'RHBS33', 'YW01', 'PT32', 'DSS01', 'DW1', 'RMBU13', 'PM19', 'YT05', 'RTBU11', 'DW3', 'RTBU23', 'PAW85', 'IRW1', 'PAM04', 'RTBU22', 'PAH04', 'RTBU12', 'PT30', 'PAM79', 'PM21', 'PAH70', 'PAT70', 'YF03', 'DA02', 'YF03', 'YF01', 'PAT82', 'RFBS33', 'DT2', 'RHBU22', 'RFBU25', 'BU06', 'PAM74', 'RMBS33', 'RHBU14', 'YM09', 'PM12', 'PAF09', 'PW12', 'PF13', 'PAW69', 'PAW83', 'PAM05', 'DSS04', 'DSS04', 'DSS04', 'PAH72', 'YT03', 'RTBS42', 'BR19', 'PAW73', 'BR19', 'RHBU12', 'PAT73', 'PAF63', 'BR19', 'BU06', 'RTBS43', 'PAM65', 'PAM64', 'RMBU24', 'BU06', 'BR19', 'PAT60', 'PAF70', 'PAM82', 'PAH75', 'PAT83', 'OT1', 'DSS01', 'RFBU24', 'RTBU12', 'PAW85', 'STO13', 'PAM06', 'PF23', 'BU06', 'PT20', 'BR19', 'PAW64', 'PAH83', 'PH14', 'PM22', 'PAM09', 'KAB06', 'BU06', 'PAH80', 'PAT79', 'PAM63', 'STO13', 'PAW85', 'DSS01', 'PW10', 'PAM60', 'RMBU12', 'YH11', 'BR19', 'RFBS33', 'RMBU10', 'DH3', 'YW04', 'PW22', 'PAM63', 'PAT62', 'PAT73', 'PAM71', 'BR19', 'DSS01', 'DSS04', 'OW1', 'BR19', 'DSS01', 'PAT74', 'BU06', 'PAW74', 'RFBU16', 'PAT74', 'BU06', 'YM03', 'BU06', 'RTBU15', 'DM3', 'YBT00', 'PM11', 'RMBU13', 'STO13', 'RMBU12', 'YM06', 'BU06', 'YH10', 'DSS01', 'BR19', 'PAH05', 'RFBU14', 'PW13', 'RFBU25', 'RMBS40', 'DH2', 'BR19', 'DA01', 'PAH74', 'PAM03', 'RWBU13', 'BU06', 'PAW06', 'RFBS40', 'PAH62', 'PAF63', 'YH13', 'RTBU10', 'PAF03', 'PAF02', 'PAF60', 'RWBS41', 'PAW81', 'BU06', 'PAT86', 'RWBS35', 'PAT63', 'PAT80', 'RTBS35', 'PAH01', 'YM07', 'PAM70', 'PAW06', 'PAH64', 'RWBU22', 'PAH73', 'YM06', 'PAT86', 'YW07', 'PW33', 'RFBS42', 'YM09']",
            "count": 1
           }
          ]
         }
        },
        {
         "name": "Year",
         "dtype": "int64",
         "stats": {
          "unique_count": 1,
          "nan_count": 0,
          "min": "2014",
          "max": "2014",
          "histogram": [
           {
            "bin_start": 2013.5,
            "bin_end": 2013.6,
            "count": 0
           },
           {
            "bin_start": 2013.6,
            "bin_end": 2013.7,
            "count": 0
           },
           {
            "bin_start": 2013.7,
            "bin_end": 2013.8,
            "count": 0
           },
           {
            "bin_start": 2013.8,
            "bin_end": 2013.9,
            "count": 0
           },
           {
            "bin_start": 2013.9,
            "bin_end": 2014,
            "count": 0
           },
           {
            "bin_start": 2014,
            "bin_end": 2014.1,
            "count": 2
           },
           {
            "bin_start": 2014.1,
            "bin_end": 2014.2,
            "count": 0
           },
           {
            "bin_start": 2014.2,
            "bin_end": 2014.3,
            "count": 0
           },
           {
            "bin_start": 2014.3,
            "bin_end": 2014.4,
            "count": 0
           },
           {
            "bin_start": 2014.4,
            "bin_end": 2014.5,
            "count": 0
           }
          ]
         }
        },
        {
         "name": "_deepnote_index_column",
         "dtype": "int64"
        }
       ],
       "rows": [
        {
         "Date": "2013-12-29",
         "Load Type": "['YARD TRIMMING', 'YARD TRIMMING', 'RECYCLING - SINGLE STREAM', 'YARD TRIMMING', 'RECYCLING - SINGL…",
         "Load Weight": 5821632,
         "Dropoff Site": "['HORNSBY BEND', 'HORNSBY BEND', 'BALCONES RECYCLING', 'HORNSBY BEND', 'BALCONES RECYCLING', 'BALCO…",
         "Route Type": "['YARD TRIMMINGS', 'YARD TRIMMINGS', 'RECYCLING - SINGLE STREAM', 'YARD TRIMMINGS', 'RECYCLING - SI…",
         "Route Number": "['YF01', 'YH01', 'DH1', 'YH06', 'RFAU21', 'RHAS35', 'RWAU12', 'PAW81', 'PAF01', 'YBF00', 'PAH60', '…",
         "Year": 2014,
         "_deepnote_index_column": 0
        },
        {
         "Date": "2014-01-05",
         "Load Type": "['GARBAGE COLLECTIONS', 'GARBAGE COLLECTIONS', 'GARBAGE COLLECTIONS', 'BULK', 'RECYCLING - SINGLE S…",
         "Load Weight": 9621104,
         "Dropoff Site": "['TDS LANDFILL', 'TDS LANDFILL', 'TDS LANDFILL', 'TDS LANDFILL', 'BALCONES RECYCLING', 'TDS LANDFIL…",
         "Route Type": "['GARBAGE COLLECTION', 'GARBAGE COLLECTION', 'GARBAGE COLLECTION', 'BULK', 'RECYCLING - SINGLE STRE…",
         "Route Number": "['PAW72', 'PAH71', 'PH34', 'BU06', 'RHBU13', 'PAF60', 'PW11', 'RWBU11', 'PAW05', 'RHBU25', 'PAT01',…",
         "Year": 2014,
         "_deepnote_index_column": 1
        }
       ]
      },
      "text/plain": "         Date                                          Load Type  \\\n0  2013-12-29  [YARD TRIMMING, YARD TRIMMING, RECYCLING - SIN...   \n1  2014-01-05  [GARBAGE COLLECTIONS, GARBAGE COLLECTIONS, GAR...   \n\n     Load Weight                                       Dropoff Site  \\\n0 5821632.000000  [HORNSBY BEND, HORNSBY BEND, BALCONES RECYCLIN...   \n1 9621104.000000  [TDS LANDFILL, TDS LANDFILL, TDS LANDFILL, TDS...   \n\n                                          Route Type  \\\n0  [YARD TRIMMINGS, YARD TRIMMINGS, RECYCLING - S...   \n1  [GARBAGE COLLECTION, GARBAGE COLLECTION, GARBA...   \n\n                                        Route Number  Year  \n0  [YF01, YH01, DH1, YH06, RFAU21, RHAS35, RWAU12...  2014  \n1  [PAW72, PAH71, PH34, BU06, RHBU13, PAF60, PW11...  2014  ",
      "text/html": "<div>\n<style scoped>\n    .dataframe tbody tr th:only-of-type {\n        vertical-align: middle;\n    }\n\n    .dataframe tbody tr th {\n        vertical-align: top;\n    }\n\n    .dataframe thead th {\n        text-align: right;\n    }\n</style>\n<table border=\"1\" class=\"dataframe\">\n  <thead>\n    <tr style=\"text-align: right;\">\n      <th></th>\n      <th>Date</th>\n      <th>Load Type</th>\n      <th>Load Weight</th>\n      <th>Dropoff Site</th>\n      <th>Route Type</th>\n      <th>Route Number</th>\n      <th>Year</th>\n    </tr>\n  </thead>\n  <tbody>\n    <tr>\n      <th>0</th>\n      <td>2013-12-29</td>\n      <td>[YARD TRIMMING, YARD TRIMMING, RECYCLING - SIN...</td>\n      <td>5821632.000000</td>\n      <td>[HORNSBY BEND, HORNSBY BEND, BALCONES RECYCLIN...</td>\n      <td>[YARD TRIMMINGS, YARD TRIMMINGS, RECYCLING - S...</td>\n      <td>[YF01, YH01, DH1, YH06, RFAU21, RHAS35, RWAU12...</td>\n      <td>2014</td>\n    </tr>\n    <tr>\n      <th>1</th>\n      <td>2014-01-05</td>\n      <td>[GARBAGE COLLECTIONS, GARBAGE COLLECTIONS, GAR...</td>\n      <td>9621104.000000</td>\n      <td>[TDS LANDFILL, TDS LANDFILL, TDS LANDFILL, TDS...</td>\n      <td>[GARBAGE COLLECTION, GARBAGE COLLECTION, GARBA...</td>\n      <td>[PAW72, PAH71, PH34, BU06, RHBU13, PAF60, PW11...</td>\n      <td>2014</td>\n    </tr>\n  </tbody>\n</table>\n</div>"
     },
     "metadata": {}
    }
   ]
  },
  {
   "cell_type": "markdown",
   "source": "#### Creating three Dataframes with Pre-Covid, Covid and Post-Covid Periods",
   "metadata": {
    "cell_id": "00120-97c59625-5d23-4ddd-ab20-ddbc8f946a93",
    "deepnote_cell_type": "markdown",
    "deepnote_cell_height": 54
   }
  },
  {
   "cell_type": "code",
   "metadata": {
    "cell_id": "dc578c32d9ec435497567d682d474221",
    "tags": [],
    "deepnote_to_be_reexecuted": false,
    "source_hash": "1486f14f",
    "execution_start": 1648029966692,
    "execution_millis": 3,
    "deepnote_cell_type": "code",
    "deepnote_cell_height": 271.78125,
    "deepnote_output_heights": [
     174.796875
    ]
   },
   "source": "df_by_week_1.Year.value_counts()",
   "execution_count": 67,
   "outputs": [
    {
     "output_type": "execute_result",
     "execution_count": 67,
     "data": {
      "text/plain": "2014    53\n2020    53\n2015    52\n2016    52\n2017    52\n2018    52\n2019    52\n2021    30\nName: Year, dtype: int64"
     },
     "metadata": {}
    }
   ]
  },
  {
   "cell_type": "markdown",
   "source": "### Pre-covid Data",
   "metadata": {
    "cell_id": "f42a5c2f41a04d0c9c2fc16f2d91ee57",
    "tags": [],
    "is_collapsed": false,
    "deepnote_cell_type": "text-cell-h3"
   }
  },
  {
   "cell_type": "markdown",
   "source": " 2014 to 2019 : We are  focusing on pre-covid year with 2014 as start as in most of the data sources, we have data from 2014 available",
   "metadata": {
    "cell_id": "99b12b19b91c4d9499046c6f8e5ca048",
    "tags": [],
    "is_collapsed": false,
    "deepnote_cell_type": "text-cell-p"
   }
  },
  {
   "cell_type": "code",
   "metadata": {
    "cell_id": "e2320720ecee40ee91559993b6be72f4",
    "tags": [],
    "deepnote_to_be_reexecuted": false,
    "source_hash": "5438811c",
    "execution_start": 1648029972802,
    "execution_millis": 437,
    "deepnote_cell_type": "code",
    "deepnote_cell_height": 376.796875
   },
   "source": "df_pre_covid = df_by_week_1.copy()\ndf_pre_covid = df_pre_covid[ ( df_pre_covid['Year'] >= 2014) & ( df_pre_covid['Year'] <= 2019) ]\n\n# df_pre_covid.to_csv(\"garbage-data_2005-2019.csv\")\n\ndf_pre_covid.sample(2)",
   "execution_count": 68,
   "outputs": [
    {
     "output_type": "execute_result",
     "execution_count": 68,
     "data": {
      "application/vnd.deepnote.dataframe.v3+json": {
       "column_count": 7,
       "row_count": 2,
       "columns": [
        {
         "name": "Date",
         "dtype": "object",
         "stats": {
          "unique_count": 2,
          "nan_count": 0,
          "categories": [
           {
            "name": "2016-12-18",
            "count": 1
           },
           {
            "name": "2019-06-09",
            "count": 1
           }
          ]
         }
        },
        {
         "name": "Load Type",
         "dtype": "object",
         "stats": {
          "unique_count": 2,
          "nan_count": 0,
          "categories": [
           {
            "name": "['BRUSH', 'GARBAGE COLLECTIONS', 'GARBAGE COLLECTIONS', 'YARD TRIMMING', 'RECYCLING - SINGLE STREAM', 'RECYCLING - SINGLE STREAM', 'DEAD ANIMAL', 'GARBAGE COLLECTIONS', 'RECYCLING - SINGLE STREAM', 'GARBAGE COLLECTIONS', 'YARD TRIMMING', 'GARBAGE COLLECTIONS', 'YARD TRIMMING', 'GARBAGE COLLECTIONS', 'GARBAGE COLLECTIONS', 'GARBAGE COLLECTIONS', 'BULK', 'GARBAGE COLLECTIONS', 'RECYCLING - SINGLE STREAM', 'YARD TRIMMING', 'MIXED LITTER', 'GARBAGE COLLECTIONS', 'GARBAGE COLLECTIONS', 'BULK', 'GARBAGE COLLECTIONS', 'GARBAGE COLLECTIONS', 'RECYCLING - SINGLE STREAM', 'RECYCLING - SINGLE STREAM', 'GARBAGE COLLECTIONS', 'GARBAGE COLLECTIONS', 'SWEEPING', 'GARBAGE COLLECTIONS', 'RECYCLING - SINGLE STREAM', 'GARBAGE COLLECTIONS', 'YARD TRIMMING', 'DEAD ANIMAL', 'YARD TRIMMING', 'GARBAGE COLLECTIONS', 'RECYCLING - SINGLE STREAM', 'GARBAGE COLLECTIONS', 'GARBAGE COLLECTIONS', 'YARD TRIMMING', 'GARBAGE COLLECTIONS', 'YARD TRIMMING', 'RECYCLING - SINGLE STREAM', 'GARBAGE COLLECTIONS', 'RECYCLING - SINGLE STREAM', 'RECYCLING - SINGLE STREAM', 'RECYCLING - SINGLE STREAM', 'YARD TRIMMING', 'GARBAGE COLLECTIONS', 'GARBAGE COLLECTIONS', 'RECYCLING - SINGLE STREAM', 'RECYCLING - SINGLE STREAM', 'GARBAGE COLLECTIONS', 'MIXED LITTER', 'RECYCLING - SINGLE STREAM', 'RECYCLING - SINGLE STREAM', 'RECYCLING - SINGLE STREAM', 'RECYCLING - SINGLE STREAM', 'RECYCLING - SINGLE STREAM', 'GARBAGE COLLECTIONS', 'GARBAGE COLLECTIONS', 'GARBAGE COLLECTIONS', 'GARBAGE COLLECTIONS', 'RECYCLING - SINGLE STREAM', 'BULK', 'RECYCLING - SINGLE STREAM', 'GARBAGE COLLECTIONS', 'YARD TRIMMING', 'RECYCLING - SINGLE STREAM', 'BULK', 'GARBAGE COLLECTIONS', 'GARBAGE COLLECTIONS', 'YARD TRIMMING', 'GARBAGE COLLECTIONS', 'GARBAGE COLLECTIONS', 'GARBAGE COLLECTIONS', 'YARD TRIMMING', 'RECYCLING - SINGLE STREAM', 'RECYCLING - SINGLE STREAM', 'GARBAGE COLLECTIONS', 'RECYCLING - SINGLE STREAM', 'RECYCLING - SINGLE STREAM', 'YARD TRIMMING', 'GARBAGE COLLECTIONS', 'GARBAGE COLLECTIONS', 'GARBAGE COLLECTIONS', 'MULCH', 'GARBAGE COLLECTIONS', 'RECYCLING - SINGLE STREAM', 'YARD TRIMMING', 'RECYCLING - SINGLE STREAM', 'GARBAGE COLLECTIONS', 'BULK', 'GARBAGE COLLECTIONS', 'BRUSH', 'RECYCLING - SINGLE STREAM', 'GARBAGE COLLECTIONS', 'RECYCLING - SINGLE STREAM', 'GARBAGE COLLECTIONS', 'GARBAGE COLLECTIONS', 'RECYCLING - SINGLE STREAM', 'GARBAGE COLLECTIONS', 'SWEEPING', 'YARD TRIMMING', 'GARBAGE COLLECTIONS', 'RECYCLING - SINGLE STREAM', 'GARBAGE COLLECTIONS', 'GARBAGE COLLECTIONS', 'YARD TRIMMING', 'BULK', 'RECYCLING - SINGLE STREAM', 'GARBAGE COLLECTIONS', 'GARBAGE COLLECTIONS', 'RECYCLING - SINGLE STREAM', 'RECYCLING - SINGLE STREAM', 'GARBAGE COLLECTIONS', 'RECYCLING - SINGLE STREAM', 'GARBAGE COLLECTIONS', 'RECYCLING - SINGLE STREAM', 'GARBAGE COLLECTIONS', 'RECYCLING - SINGLE STREAM', 'YARD TRIMMING', 'RECYCLING - SINGLE STREAM', 'RECYCLING - SINGLE STREAM', 'GARBAGE COLLECTIONS', 'RECYCLING - SINGLE STREAM', 'RECYCLING - SINGLE STREAM', 'YARD TRIMMING', 'RECYCLING - SINGLE STREAM', 'YARD TRIMMING', 'GARBAGE COLLECTIONS', 'RECYCLING - SINGLE STREAM', 'GARBAGE COLLECTIONS', 'GARBAGE COLLECTIONS', 'GARBAGE COLLECTIONS', 'BULK', 'YARD TRIMMING', 'GARBAGE COLLECTIONS', 'GARBAGE COLLECTIONS', 'GARBAGE COLLECTIONS', 'GARBAGE COLLECTIONS', 'GARBAGE COLLECTIONS', 'RECYCLING - SINGLE STREAM', 'YARD TRIMMING', 'GARBAGE COLLECTIONS', 'RECYCLING - SINGLE STREAM', 'GARBAGE COLLECTIONS', 'GARBAGE COLLECTIONS', 'RECYCLING - SINGLE STREAM', 'BULK', 'RECYCLING - SINGLE STREAM', 'YARD TRIMMING', 'GARBAGE COLLECTIONS', 'YARD TRIMMING', 'GARBAGE COLLECTIONS', 'RECYCLING - SINGLE STREAM', 'BULK', 'GARBAGE COLLECTIONS', 'RECYCLING - SINGLE STREAM', 'GARBAGE COLLECTIONS', 'GARBAGE COLLECTIONS', 'DEAD ANIMAL', 'GARBAGE COLLECTIONS', 'RECYCLING - SINGLE STREAM', 'GARBAGE COLLECTIONS', 'YARD TRIMMING', 'GARBAGE COLLECTIONS', 'RECYCLING - SINGLE STREAM', 'GARBAGE COLLECTIONS', 'GARBAGE COLLECTIONS', 'BULK', 'BULK', 'GARBAGE COLLECTIONS', 'BULK', 'GARBAGE COLLECTIONS', 'YARD TRIMMING', 'YARD TRIMMING', 'GARBAGE COLLECTIONS', 'RECYCLING - SINGLE STREAM', 'RECYCLING - SINGLE STREAM', 'GARBAGE COLLECTIONS', 'BRUSH', 'GARBAGE COLLECTIONS', 'YARD TRIMMING', 'GARBAGE COLLECTIONS', 'GARBAGE COLLECTIONS', 'RECYCLING - SINGLE STREAM', 'RECYCLING - SINGLE STREAM', 'RECYCLING - SINGLE STREAM', 'GARBAGE COLLECTIONS', 'GARBAGE COLLECTIONS', 'GARBAGE COLLECTIONS', 'GARBAGE COLLECTIONS', 'GARBAGE COLLECTIONS', 'GARBAGE COLLECTIONS', 'GARBAGE COLLECTIONS', 'GARBAGE COLLECTIONS', 'SWEEPING', 'RECYCLING - SINGLE STREAM', 'DEAD ANIMAL', 'GARBAGE COLLECTIONS', 'RECYCLING - SINGLE STREAM', 'GARBAGE COLLECTIONS', 'GARBAGE COLLECTIONS', 'GARBAGE COLLECTIONS', 'RECYCLING - SINGLE STREAM', 'GARBAGE COLLECTIONS', 'GARBAGE COLLECTIONS', 'SWEEPING', 'GARBAGE COLLECTIONS', 'GARBAGE COLLECTIONS', 'GARBAGE COLLECTIONS', 'GARBAGE COLLECTIONS', 'BULK', 'GARBAGE COLLECTIONS', 'GARBAGE COLLECTIONS', 'YARD TRIMMING', 'RECYCLING - SINGLE STREAM', 'RECYCLING - SINGLE STREAM', 'RECYCLING - SINGLE STREAM', 'SWEEPING', 'YARD TRIMMING', 'GARBAGE COLLECTIONS', 'RECYCLING - SINGLE STREAM', 'GARBAGE COLLECTIONS', 'GARBAGE COLLECTIONS', 'RECYCLING - SINGLE STREAM', 'GARBAGE COLLECTIONS', 'RECYCLING - SINGLE STREAM', 'YARD TRIMMING', 'GARBAGE COLLECTIONS', 'RECYCLING - SINGLE STREAM', 'GARBAGE COLLECTIONS', 'RECYCLING - SINGLE STREAM', 'RECYCLING - SINGLE STREAM', 'GARBAGE COLLECTIONS', 'GARBAGE COLLECTIONS', 'RECYCLING - SINGLE STREAM', 'YARD TRIMMING', 'RECYCLING - SINGLE STREAM', 'GARBAGE COLLECTIONS', 'GARBAGE COLLECTIONS', 'BRUSH', 'GARBAGE COLLECTIONS', 'GARBAGE COLLECTIONS', 'RECYCLING - SINGLE STREAM', 'GARBAGE COLLECTIONS', 'RECYCLING - SINGLE STREAM', 'RECYCLING - SINGLE STREAM', 'GARBAGE COLLECTIONS', 'GARBAGE COLLECTIONS', 'RECYCLING - SINGLE STREAM', 'TIRES', 'GARBAGE COLLECTIONS', 'GARBAGE COLLECTIONS', 'YARD TRIMMING', 'GARBAGE COLLECTIONS', 'RECYCLING - SINGLE STREAM', 'BULK', 'GARBAGE COLLECTIONS', 'YARD TRIMMING', 'GARBAGE COLLECTIONS', 'RECYCLING - SINGLE STREAM', 'RECYCLING - SINGLE STREAM', 'GARBAGE COLLECTIONS', 'RECYCLING - SINGLE STREAM', 'GARBAGE COLLECTIONS', 'RECYCLING - SINGLE STREAM', 'GARBAGE COLLECTIONS', 'RECYCLING - SINGLE STREAM', 'GARBAGE COLLECTIONS', 'BULK', 'RECYCLING - SINGLE STREAM', 'RECYCLING - SINGLE STREAM', 'GARBAGE COLLECTIONS', 'GARBAGE COLLECTIONS', 'DEAD ANIMAL', 'YARD TRIMMING', 'GARBAGE COLLECTIONS', 'RECYCLING - SINGLE STREAM', 'GARBAGE COLLECTIONS', 'RECYCLING - SINGLE STREAM', 'RECYCLING - SINGLE STREAM', 'GARBAGE COLLECTIONS', 'GARBAGE COLLECTIONS', 'RECYCLING - SINGLE STREAM', 'GARBAGE COLLECTIONS', 'GARBAGE COLLECTIONS', 'RECYCLING - SINGLE STREAM', 'RECYCLING - SINGLE STREAM', 'GARBAGE COLLECTIONS', 'GARBAGE COLLECTIONS', 'GARBAGE COLLECTIONS', 'RECYCLING - SINGLE STREAM', 'YARD TRIMMING', 'YARD TRIMMING', 'RECYCLING - SINGLE STREAM', 'GARBAGE COLLECTIONS', 'RECYCLING - SINGLE STREAM', 'YARD TRIMMING', 'RECYCLING - SINGLE STREAM', 'RECYCLING - SINGLE STREAM', 'YARD TRIMMING', 'GARBAGE COLLECTIONS', 'RECYCLING - SINGLE STREAM', 'GARBAGE COLLECTIONS', 'GARBAGE COLLECTIONS', 'RECYCLING - SINGLE STREAM', 'RECYCLING - SINGLE STREAM', 'GARBAGE COLLECTIONS', 'RECYCLING - SINGLE STREAM', 'GARBAGE COLLECTIONS', 'BULK', 'GARBAGE COLLECTIONS', 'RECYCLING - SINGLE STREAM', 'YARD TRIMMING', 'RECYCLING - SINGLE STREAM', 'GARBAGE COLLECTIONS', 'YARD TRIMMING', 'GARBAGE COLLECTIONS', 'BULK', 'GARBAGE COLLECTIONS', 'RECYCLING - SINGLE STREAM', 'GARBAGE COLLECTIONS', 'RECYCLING - SINGLE STREAM', 'GARBAGE COLLECTIONS', 'RECYCLING - SINGLE STREAM', 'GARBAGE COLLECTIONS', 'RECYCLING - SINGLE STREAM', 'YARD TRIMMING', 'DEAD ANIMAL', 'RECYCLING - SINGLE STREAM', 'RECYCLING - SINGLE STREAM', 'BULK', 'RECYCLING - SINGLE STREAM', 'RECYCLING - SINGLE STREAM', 'GARBAGE COLLECTIONS', 'GARBAGE COLLECTIONS', 'RECYCLING - SINGLE STREAM', 'GARBAGE COLLECTIONS', 'RECYCLING - SINGLE STREAM', 'YARD TRIMMING', 'GARBAGE COLLECTIONS', 'RECYCLING - SINGLE STREAM', 'GARBAGE COLLECTIONS', 'GARBAGE COLLECTIONS', 'GARBAGE COLLECTIONS', 'YARD TRIMMING', 'GARBAGE COLLECTIONS', 'RECYCLING - SINGLE STREAM', 'GARBAGE COLLECTIONS', 'YARD TRIMMING', 'YARD TRIMMING', 'GARBAGE COLLECTIONS', 'YARD TRIMMING', 'YARD TRIMMING', 'BRUSH', 'RECYCLING - SINGLE STREAM', 'GARBAGE COLLECTIONS', 'GARBAGE COLLECTIONS', 'YARD TRIMMING', 'RECYCLING - SINGLE STREAM', 'RECYCLING - SINGLE STREAM', 'RECYCLING - SINGLE STREAM', 'GARBAGE COLLECTIONS', 'RECYCLING - SINGLE STREAM', 'GARBAGE COLLECTIONS', 'RECYCLING - SINGLE STREAM', 'YARD TRIMMING', 'GARBAGE COLLECTIONS', 'GARBAGE COLLECTIONS', 'GARBAGE COLLECTIONS', 'YARD TRIMMING', 'RECYCLING - SINGLE STREAM', 'YARD TRIMMING', 'BULK', 'GARBAGE COLLECTIONS', 'RECYCLING - SINGLE STREAM', 'GARBAGE COLLECTIONS', 'RECYCLING - SINGLE STREAM', 'RECYCLING - SINGLE STREAM', 'GARBAGE COLLECTIONS', 'RECYCLING - SINGLE STREAM', 'GARBAGE COLLECTIONS', 'YARD TRIMMING', 'RECYCLING - SINGLE STREAM', 'GARBAGE COLLECTIONS', 'GARBAGE COLLECTIONS', 'BULK', 'RECYCLING - SINGLE STREAM', 'RECYCLING - SINGLE STREAM', 'SWEEPING', 'RECYCLING - SINGLE STREAM', 'GARBAGE COLLECTIONS', 'RECYCLING - SINGLE STREAM', 'YARD TRIMMING', 'GARBAGE COLLECTIONS', 'GARBAGE COLLECTIONS', 'RECYCLING - SINGLE STREAM', 'GARBAGE COLLECTIONS', 'RECYCLING - SINGLE STREAM', 'YARD TRIMMING', 'RECYCLING - SINGLE STREAM', 'RECYCLING - SINGLE STREAM', 'GARBAGE COLLECTIONS', 'RECYCLING - SINGLE STREAM', 'GARBAGE COLLECTIONS', 'YARD TRIMMING', 'YARD TRIMMING', 'YARD TRIMMING', 'RECYCLING - SINGLE STREAM', 'GARBAGE COLLECTIONS', 'BULK', 'GARBAGE COLLECTIONS', 'YARD TRIMMING', 'RECYCLING - SINGLE STREAM', 'RECYCLING - SINGLE STREAM', 'BRUSH', 'RECYCLING - SINGLE STREAM', 'GARBAGE COLLECTIONS', 'RECYCLING - SINGLE STREAM', 'GARBAGE COLLECTIONS', 'GARBAGE COLLECTIONS', 'MIXED LITTER', 'BULK', 'RECYCLING - SINGLE STREAM', 'GARBAGE COLLECTIONS', 'TIRES', 'GARBAGE COLLECTIONS', 'SWEEPING', 'GARBAGE COLLECTIONS', 'RECYCLING - SINGLE STREAM', 'GARBAGE COLLECTIONS', 'BRUSH', 'GARBAGE COLLECTIONS', 'BRUSH', 'GARBAGE COLLECTIONS', 'GARBAGE COLLECTIONS', 'GARBAGE COLLECTIONS', 'YARD TRIMMING', 'RECYCLING - SINGLE STREAM', 'GARBAGE COLLECTIONS', 'RECYCLING - SINGLE STREAM', 'BRUSH', 'GARBAGE COLLECTIONS', 'GARBAGE COLLECTIONS', 'RECYCLING - SINGLE STREAM', 'YARD TRIMMING', 'RECYCLING - SINGLE STREAM', 'GARBAGE COLLECTIONS', 'BULK', 'GARBAGE COLLECTIONS', 'GARBAGE COLLECTIONS', 'YARD TRIMMING', 'RECYCLING - SINGLE STREAM', 'YARD TRIMMING', 'GARBAGE COLLECTIONS', 'BULK', 'RECYCLING - SINGLE STREAM', 'RECYCLING - SINGLE STREAM', 'RECYCLING - SINGLE STREAM', 'GARBAGE COLLECTIONS', 'GARBAGE COLLECTIONS', 'RECYCLING - SINGLE STREAM', 'RECYCLING - SINGLE STREAM', 'YARD TRIMMING', 'YARD TRIMMING', 'GARBAGE COLLECTIONS', 'GARBAGE COLLECTIONS', 'GARBAGE COLLECTIONS', 'RECYCLING - SINGLE STREAM', 'GARBAGE COLLECTIONS', 'GARBAGE COLLECTIONS', 'RECYCLING - SINGLE STREAM', 'GARBAGE COLLECTIONS', 'RECYCLING - SINGLE STREAM', 'BULK', 'TIRES', 'RECYCLING - SINGLE STREAM', 'YARD TRIMMING', 'GARBAGE COLLECTIONS', 'RECYCLING - SINGLE STREAM', 'YARD TRIMMING', 'RECYCLING - SINGLE STREAM', 'RECYCLING - SINGLE STREAM', 'GARBAGE COLLECTIONS', 'GARBAGE COLLECTIONS', 'RECYCLING - SINGLE STREAM', 'RECYCLING - SINGLE STREAM', 'RECYCLING - SINGLE STREAM', 'GARBAGE COLLECTIONS', 'RECYCLING - SINGLE STREAM', 'GARBAGE COLLECTIONS', 'RECYCLING - SINGLE STREAM', 'RECYCLING - SINGLE STREAM', 'RECYCLING - SINGLE STREAM', 'RECYCLING - SINGLE STREAM', 'YARD TRIMMING', 'RECYCLING - SINGLE STREAM', 'RECYCLING - SINGLE STREAM', 'GARBAGE COLLECTIONS', 'GARBAGE COLLECTIONS', 'RECYCLING - SINGLE STREAM', 'GARBAGE COLLECTIONS', 'RECYCLING - SINGLE STREAM', 'RECYCLING - SINGLE STREAM', 'RECYCLING - SINGLE STREAM', 'RECYCLING - SINGLE STREAM', 'YARD TRIMMING', 'RECYCLING - SINGLE STREAM', 'RECYCLING - SINGLE STREAM', 'RECYCLING - SINGLE STREAM', 'GARBAGE COLLECTIONS', 'GARBAGE COLLECTIONS', 'RECYCLING - SINGLE STREAM', 'GARBAGE COLLECTIONS', 'YARD TRIMMING', 'YARD TRIMMING', 'RECYCLING - SINGLE STREAM', 'MULCH', 'GARBAGE COLLECTIONS', 'BULK', 'YARD TRIMMING', 'GARBAGE COLLECTIONS', 'RECYCLING - SINGLE STREAM', 'GARBAGE COLLECTIONS', 'GARBAGE COLLECTIONS', 'GARBAGE COLLECTIONS', 'GARBAGE COLLECTIONS', 'GARBAGE COLLECTIONS', 'GARBAGE COLLECTIONS', 'GARBAGE COLLECTIONS', 'RECYCLING - SINGLE STREAM', 'RECYCLING - SINGLE STREAM', 'BULK', 'MULCH', 'YARD TRIMMING', 'YARD TRIMMING', 'GARBAGE COLLECTIONS', 'YARD TRIMMING', 'YARD TRIMMING', 'RECYCLING - SINGLE STREAM', 'YARD TRIMMING', 'BULK', 'BRUSH', 'BULK', 'GARBAGE COLLECTIONS', 'RECYCLING - SINGLE STREAM', 'GARBAGE COLLECTIONS', 'SWEEPING', 'GARBAGE COLLECTIONS', 'YARD TRIMMING', 'GARBAGE COLLECTIONS', 'GARBAGE COLLECTIONS', 'GARBAGE COLLECTIONS', 'YARD TRIMMING', 'GARBAGE COLLECTIONS', 'YARD TRIMMING', 'RECYCLING - SINGLE STREAM', 'RECYCLING - SINGLE STREAM', 'GARBAGE COLLECTIONS', 'RECYCLING - SINGLE STREAM', 'GARBAGE COLLECTIONS', 'RECYCLING - SINGLE STREAM', 'RECYCLING - SINGLE STREAM', 'GARBAGE COLLECTIONS', 'RECYCLING - SINGLE STREAM', 'YARD TRIMMING', 'GARBAGE COLLECTIONS', 'GARBAGE COLLECTIONS', 'GARBAGE COLLECTIONS', 'GARBAGE COLLECTIONS', 'RECYCLING - SINGLE STREAM', 'YARD TRIMMING', 'YARD TRIMMING', 'RECYCLING - SINGLE STREAM', 'SWEEPING', 'RECYCLING - SINGLE STREAM', 'RECYCLING - SINGLE STREAM', 'GARBAGE COLLECTIONS', 'BRUSH', 'RECYCLING - SINGLE STREAM', 'GARBAGE COLLECTIONS', 'YARD TRIMMING', 'GARBAGE COLLECTIONS', 'BULK', 'GARBAGE COLLECTIONS', 'RECYCLING - SINGLE STREAM', 'GARBAGE COLLECTIONS', 'GARBAGE COLLECTIONS', 'SWEEPING', 'BULK', 'BULK', 'RECYCLING - SINGLE STREAM', 'YARD TRIMMING', 'GARBAGE COLLECTIONS', 'YARD TRIMMING', 'GARBAGE COLLECTIONS', 'GARBAGE COLLECTIONS', 'RECYCLING - SINGLE STREAM', 'GARBAGE COLLECTIONS', 'SWEEPING', 'RECYCLING - SINGLE STREAM', 'GARBAGE COLLECTIONS', 'GARBAGE COLLECTIONS', 'GARBAGE COLLECTIONS', 'RECYCLING - SINGLE STREAM', 'GARBAGE COLLECTIONS', 'YARD TRIMMING', 'YARD TRIMMING', 'GARBAGE COLLECTIONS', 'GARBAGE COLLECTIONS', 'RECYCLING - SINGLE STREAM', 'GARBAGE COLLECTIONS', 'RECYCLING - SINGLE STREAM', 'GARBAGE COLLECTIONS', 'RECYCLING - SINGLE STREAM', 'GARBAGE COLLECTIONS', 'RECYCLING - SINGLE STREAM', 'GARBAGE COLLECTIONS', 'GARBAGE COLLECTIONS', 'RECYCLING - SINGLE STREAM', 'YARD TRIMMING', 'GARBAGE COLLECTIONS', 'SWEEPING', 'GARBAGE COLLECTIONS', 'YARD TRIMMING', 'RECYCLING - SINGLE STREAM', 'RECYCLING - SINGLE STREAM', 'YARD TRIMMING', 'SWEEPING', 'RECYCLING - SINGLE STREAM', 'DEAD ANIMAL', 'RECYCLING - SINGLE STREAM', 'GARBAGE COLLECTIONS', 'RECYCLING - SINGLE STREAM', 'MIXED LITTER', 'BULK', 'BULK', 'SWEEPING', 'GARBAGE COLLECTIONS', 'RECYCLING - SINGLE STREAM', 'YARD TRIMMING', 'GARBAGE COLLECTIONS', 'RECYCLING - SINGLE STREAM', 'GARBAGE COLLECTIONS', 'RECYCLING - SINGLE STREAM', 'RECYCLING - SINGLE STREAM', 'RECYCLING - SINGLE STREAM', 'GARBAGE COLLECTIONS', 'GARBAGE COLLECTIONS', 'GARBAGE COLLECTIONS', 'BRUSH', 'YARD TRIMMING', 'GARBAGE COLLECTIONS', 'RECYCLING - SINGLE STREAM', 'GARBAGE COLLECTIONS', 'GARBAGE COLLECTIONS', 'RECYCLING - SINGLE STREAM', 'RECYCLING - SINGLE STREAM', 'RECYCLING - SINGLE STREAM', 'GARBAGE COLLECTIONS', 'RECYCLING - SINGLE STREAM', 'GARBAGE COLLECTIONS', 'GARBAGE COLLECTIONS', 'BULK', 'BULK', 'GARBAGE COLLECTIONS', 'GARBAGE COLLECTIONS', 'RECYCLING - SINGLE STREAM', 'GARBAGE COLLECTIONS', 'GARBAGE COLLECTIONS', 'RECYCLING - SINGLE STREAM', 'GARBAGE COLLECTIONS', 'YARD TRIMMING', 'GARBAGE COLLECTIONS', 'GARBAGE COLLECTIONS', 'GARBAGE COLLECTIONS', 'RECYCLING - SINGLE STREAM', 'GARBAGE COLLECTIONS', 'GARBAGE COLLECTIONS', 'GARBAGE COLLECTIONS', 'YARD TRIMMING', 'SWEEPING', 'GARBAGE COLLECTIONS', 'BULK', 'RECYCLING - SINGLE STREAM', 'YARD TRIMMING', 'GARBAGE COLLECTIONS', 'YARD TRIMMING', 'BULK', 'RECYCLING - SINGLE STREAM', 'RECYCLING - SINGLE STREAM', 'YARD TRIMMING', 'GARBAGE COLLECTIONS']",
            "count": 1
           },
           {
            "name": "['GARBAGE COLLECTIONS', 'RECYCLING - SINGLE STREAM', 'YARD TRIMMING', 'GARBAGE COLLECTIONS', 'GARBAGE COLLECTIONS', 'BULK', 'RECYCLING - SINGLE STREAM', 'GARBAGE COLLECTIONS', 'RECYCLING - SINGLE STREAM', 'YARD TRIMMING', 'RECYCLING - SINGLE STREAM', 'GARBAGE COLLECTIONS', 'GARBAGE COLLECTIONS', 'GARBAGE COLLECTIONS', 'BULK', 'RECYCLING - SINGLE STREAM', 'BULK', 'RECYCLING - SINGLE STREAM', 'YARD TRIMMING', 'YARD TRIMMING', 'RECYCLING - SINGLE STREAM', 'GARBAGE COLLECTIONS', 'BRUSH', 'YARD TRIMMING', 'BULK', 'GARBAGE COLLECTIONS', 'GARBAGE COLLECTIONS', 'GARBAGE COLLECTIONS', 'RECYCLING - SINGLE STREAM', 'GARBAGE COLLECTIONS', 'GARBAGE COLLECTIONS', 'GARBAGE COLLECTIONS', 'BULK', 'GARBAGE COLLECTIONS', 'ORGANICS', 'BRUSH', 'GARBAGE COLLECTIONS', 'RECYCLING - SINGLE STREAM', 'BULK', 'GARBAGE COLLECTIONS', 'RECYCLING - SINGLE STREAM', 'RECYCLING - SINGLE STREAM', 'GARBAGE COLLECTIONS', 'BRUSH', 'RECYCLING - SINGLE STREAM', 'GARBAGE COLLECTIONS', 'BULK', 'GARBAGE COLLECTIONS', 'YARD TRIMMING', 'BRUSH', 'GARBAGE COLLECTIONS', 'RECYCLING - SINGLE STREAM', 'ORGANICS', 'GARBAGE COLLECTIONS', 'GARBAGE COLLECTIONS', 'RECYCLING - SINGLE STREAM', 'RECYCLING - SINGLE STREAM', 'ORGANICS', 'GARBAGE COLLECTIONS', 'GARBAGE COLLECTIONS', 'GARBAGE COLLECTIONS', 'RECYCLING - SINGLE STREAM', 'TIRES', 'GARBAGE COLLECTIONS', 'BULK', 'RECYCLING - SINGLE STREAM', 'RECYCLING - SINGLE STREAM', 'DEAD ANIMAL', 'RECYCLING - SINGLE STREAM', 'DEAD ANIMAL', 'YARD TRIMMING', 'YARD TRIMMING', 'RECYCLING - SINGLE STREAM', 'GARBAGE COLLECTIONS', 'SWEEPING', 'GARBAGE COLLECTIONS', 'RECYCLING - SINGLE STREAM', 'GARBAGE COLLECTIONS', 'YARD TRIMMING', 'GARBAGE COLLECTIONS', 'RECYCLING - SINGLE STREAM', 'GARBAGE COLLECTIONS', 'RECYCLING - SINGLE STREAM', 'GARBAGE COLLECTIONS', 'GARBAGE COLLECTIONS', 'RECYCLING - SINGLE STREAM', 'GARBAGE COLLECTIONS', 'ORGANICS', 'RECYCLING - SINGLE STREAM', 'YARD TRIMMING', 'GARBAGE COLLECTIONS', 'RECYCLING - SINGLE STREAM', 'SWEEPING', 'GARBAGE COLLECTIONS', 'RECYCLING - SINGLE STREAM', 'GARBAGE COLLECTIONS', 'RECYCLING - SINGLE STREAM', 'RECYCLING - SINGLE STREAM', 'YARD TRIMMING', 'GARBAGE COLLECTIONS', 'RECYCLING - SINGLE STREAM', 'ORGANICS', 'RECYCLING - SINGLE STREAM', 'GARBAGE COLLECTIONS', 'GARBAGE COLLECTIONS', 'GARBAGE COLLECTIONS', 'BRUSH', 'RECYCLING - SINGLE STREAM', 'GARBAGE COLLECTIONS', 'GARBAGE COLLECTIONS', 'RECYCLING - SINGLE STREAM', 'GARBAGE COLLECTIONS', 'BULK', 'RECYCLING - SINGLE STREAM', 'MIXED LITTER', 'TIRES', 'GARBAGE COLLECTIONS', 'RECYCLING - SINGLE STREAM', 'BRUSH', 'BRUSH', 'RECYCLING - SINGLE STREAM', 'RECYCLING - SINGLE STREAM', 'RECYCLING - SINGLE STREAM', 'GARBAGE COLLECTIONS', 'BULK', 'YARD TRIMMING', 'RECYCLING - SINGLE STREAM', 'YARD TRIMMING', 'ORGANICS', 'GARBAGE COLLECTIONS', 'BRUSH', 'RECYCLING - SINGLE STREAM', 'YARD TRIMMING', 'BULK', 'RECYCLING - SINGLE STREAM', 'BULK', 'RECYCLING - SINGLE STREAM', 'RECYCLED METAL', 'RECYCLING - SINGLE STREAM', 'GARBAGE COLLECTIONS', 'GARBAGE COLLECTIONS', 'GARBAGE COLLECTIONS', 'GARBAGE COLLECTIONS', 'GARBAGE COLLECTIONS', 'RECYCLING - SINGLE STREAM', 'LITTER', 'BULK', 'RECYCLING - SINGLE STREAM', 'GARBAGE COLLECTIONS', 'GARBAGE COLLECTIONS', 'GARBAGE COLLECTIONS', 'ORGANICS', 'BRUSH', 'GARBAGE COLLECTIONS', 'BULK', 'GARBAGE COLLECTIONS', 'RECYCLING - SINGLE STREAM', 'BULK', 'RECYCLING - SINGLE STREAM', 'RECYCLING - SINGLE STREAM', 'RECYCLING - SINGLE STREAM', 'GARBAGE COLLECTIONS', 'GARBAGE COLLECTIONS', 'RECYCLING - SINGLE STREAM', 'BULK', 'RECYCLING - SINGLE STREAM', 'GARBAGE COLLECTIONS', 'GARBAGE COLLECTIONS', 'GARBAGE COLLECTIONS', 'RECYCLING - SINGLE STREAM', 'RECYCLING - SINGLE STREAM', 'GARBAGE COLLECTIONS', 'GARBAGE COLLECTIONS', 'BRUSH', 'GARBAGE COLLECTIONS', 'RECYCLING - SINGLE STREAM', 'BULK', 'RECYCLING - SINGLE STREAM', 'BRUSH', 'GARBAGE COLLECTIONS', 'RECYCLING - SINGLE STREAM', 'GARBAGE COLLECTIONS', 'GARBAGE COLLECTIONS', 'GARBAGE COLLECTIONS', 'ORGANICS', 'RECYCLED METAL', 'RECYCLING - SINGLE STREAM', 'GARBAGE COLLECTIONS', 'SWEEPING', 'TIRES', 'RECYCLING - SINGLE STREAM', 'GARBAGE COLLECTIONS', 'GARBAGE COLLECTIONS', 'GARBAGE COLLECTIONS', 'GARBAGE COLLECTIONS', 'RECYCLING - SINGLE STREAM', 'GARBAGE COLLECTIONS', 'SWEEPING', 'YARD TRIMMING', 'YARD TRIMMING', 'RECYCLING - SINGLE STREAM', 'RECYCLING - SINGLE STREAM', 'RECYCLING - SINGLE STREAM', 'GARBAGE COLLECTIONS', 'RECYCLING - SINGLE STREAM', 'BRUSH', 'GARBAGE COLLECTIONS', 'YARD TRIMMING', 'BULK', 'ORGANICS', 'BULK', 'RECYCLING - SINGLE STREAM', 'RECYCLING - SINGLE STREAM', 'GARBAGE COLLECTIONS', 'BULK', 'RECYCLING - SINGLE STREAM', 'RECYCLING - SINGLE STREAM', 'RECYCLING - SINGLE STREAM', 'BRUSH', 'RECYCLING - SINGLE STREAM', 'BULK', 'ORGANICS', 'GARBAGE COLLECTIONS', 'GARBAGE COLLECTIONS', 'RECYCLING - SINGLE STREAM', 'BRUSH', 'GARBAGE COLLECTIONS', 'RECYCLING - SINGLE STREAM', 'GARBAGE COLLECTIONS', 'BULK', 'GARBAGE COLLECTIONS', 'RECYCLING - SINGLE STREAM', 'RECYCLING - SINGLE STREAM', 'GARBAGE COLLECTIONS', 'RECYCLING - SINGLE STREAM', 'YARD TRIMMING', 'RECYCLING - SINGLE STREAM', 'GARBAGE COLLECTIONS', 'RECYCLING - SINGLE STREAM', 'RECYCLING - SINGLE STREAM', 'ORGANICS', 'ORGANICS', 'YARD TRIMMING', 'ORGANICS', 'BULK', 'GARBAGE COLLECTIONS', 'GARBAGE COLLECTIONS', 'YARD TRIMMING', 'GARBAGE COLLECTIONS', 'RECYCLING - SINGLE STREAM', 'GARBAGE COLLECTIONS', 'RECYCLING - SINGLE STREAM', 'BULK', 'RECYCLING - SINGLE STREAM', 'ORGANICS', 'YARD TRIMMING', 'RECYCLING - SINGLE STREAM', 'GARBAGE COLLECTIONS', 'GARBAGE COLLECTIONS', 'GARBAGE COLLECTIONS', 'RECYCLING - SINGLE STREAM', 'RECYCLING - SINGLE STREAM', 'GARBAGE COLLECTIONS', 'GARBAGE COLLECTIONS', 'RECYCLING - SINGLE STREAM', 'RECYCLING - SINGLE STREAM', 'GARBAGE COLLECTIONS', 'GARBAGE COLLECTIONS', 'GARBAGE COLLECTIONS', 'GARBAGE COLLECTIONS', 'RECYCLING - SINGLE STREAM', 'BRUSH', 'GARBAGE COLLECTIONS', 'BRUSH', 'ORGANICS', 'BULK', 'BULK', 'BULK', 'RECYCLING - SINGLE STREAM', 'SWEEPING', 'RECYCLING - SINGLE STREAM', 'GARBAGE COLLECTIONS', 'RECYCLING - SINGLE STREAM', 'RECYCLING - SINGLE STREAM', 'YARD TRIMMING', 'GARBAGE COLLECTIONS', 'GARBAGE COLLECTIONS', 'BULK', 'MIXED LITTER', 'RECYCLING - SINGLE STREAM', 'GARBAGE COLLECTIONS', 'YARD TRIMMING', 'RECYCLING - SINGLE STREAM', 'BRUSH', 'ORGANICS', 'RECYCLING - SINGLE STREAM', 'RECYCLING - SINGLE STREAM', 'RECYCLING - SINGLE STREAM', 'YARD TRIMMING', 'GARBAGE COLLECTIONS', 'RECYCLING - SINGLE STREAM', 'BRUSH', 'GARBAGE COLLECTIONS', 'GARBAGE COLLECTIONS', 'GARBAGE COLLECTIONS', 'GARBAGE COLLECTIONS', 'BULK', 'ORGANICS', 'GARBAGE COLLECTIONS', 'GARBAGE COLLECTIONS', 'YARD TRIMMING', 'RECYCLING - SINGLE STREAM', 'GARBAGE COLLECTIONS', 'BRUSH', 'BRUSH', 'ORGANICS', 'GARBAGE COLLECTIONS', 'RECYCLING - SINGLE STREAM', 'RECYCLING - SINGLE STREAM', 'GARBAGE COLLECTIONS', 'GARBAGE COLLECTIONS', 'YARD TRIMMING', 'BULK', 'GARBAGE COLLECTIONS', 'RECYCLING - SINGLE STREAM', 'ORGANICS', 'GARBAGE COLLECTIONS', 'BULK', 'BULK', 'GARBAGE COLLECTIONS', 'DEAD ANIMAL', 'GARBAGE COLLECTIONS', 'BULK', 'RECYCLING - SINGLE STREAM', 'RECYCLING - SINGLE STREAM', 'GARBAGE COLLECTIONS', 'GARBAGE COLLECTIONS', 'RECYCLING - SINGLE STREAM', 'GARBAGE COLLECTIONS', 'BRUSH', 'GARBAGE COLLECTIONS', 'BULK', 'GARBAGE COLLECTIONS', 'RECYCLING - SINGLE STREAM', 'YARD TRIMMING', 'GARBAGE COLLECTIONS', 'RECYCLING - SINGLE STREAM', 'DEAD ANIMAL', 'GARBAGE COLLECTIONS', 'RECYCLING - SINGLE STREAM', 'YARD TRIMMING', 'BULK', 'RECYCLING - SINGLE STREAM', 'YARD TRIMMING', 'ORGANICS', 'GARBAGE COLLECTIONS', 'BULK', 'GARBAGE COLLECTIONS', 'RECYCLING - SINGLE STREAM', 'SWEEPING', 'ORGANICS', 'GARBAGE COLLECTIONS', 'BULK', 'ORGANICS', 'GARBAGE COLLECTIONS', 'RECYCLING - SINGLE STREAM', 'RECYCLING - SINGLE STREAM', 'RECYCLING - SINGLE STREAM', 'RECYCLING - SINGLE STREAM', 'ORGANICS', 'BULK', 'RECYCLING - SINGLE STREAM', 'GARBAGE COLLECTIONS', 'GARBAGE COLLECTIONS', 'GARBAGE COLLECTIONS', 'GARBAGE COLLECTIONS', 'RECYCLING - SINGLE STREAM', 'GARBAGE COLLECTIONS', 'RECYCLING - SINGLE STREAM', 'RECYCLING - SINGLE STREAM', 'RECYCLING - SINGLE STREAM', 'YARD TRIMMING', 'GARBAGE COLLECTIONS', 'BULK', 'RECYCLING - SINGLE STREAM', 'RECYCLING - SINGLE STREAM', 'GARBAGE COLLECTIONS', 'YARD TRIMMING', 'RECYCLING - SINGLE STREAM', 'SWEEPING', 'GARBAGE COLLECTIONS', 'BRUSH', 'BULK', 'YARD TRIMMING', 'GARBAGE COLLECTIONS', 'RECYCLING - SINGLE STREAM', 'RECYCLING - SINGLE STREAM', 'GARBAGE COLLECTIONS', 'RECYCLING - SINGLE STREAM', 'GARBAGE COLLECTIONS', 'RECYCLING - SINGLE STREAM', 'RECYCLING - SINGLE STREAM', 'LITTER', 'BULK', 'YARD TRIMMING', 'RECYCLING - SINGLE STREAM', 'GARBAGE COLLECTIONS', 'BRUSH', 'YARD TRIMMING', 'GARBAGE COLLECTIONS', 'GARBAGE COLLECTIONS', 'YARD TRIMMING', 'RECYCLING - SINGLE STREAM', 'RECYCLING - SINGLE STREAM', 'GARBAGE COLLECTIONS', 'BULK', 'GARBAGE COLLECTIONS', 'BULK', 'GARBAGE COLLECTIONS', 'RECYCLING - SINGLE STREAM', 'RECYCLING - SINGLE STREAM', 'GARBAGE COLLECTIONS', 'BRUSH', 'GARBAGE COLLECTIONS', 'RECYCLING - SINGLE STREAM', 'RECYCLING - SINGLE STREAM', 'GARBAGE COLLECTIONS', 'RECYCLING - SINGLE STREAM', 'RECYCLING - SINGLE STREAM', 'GARBAGE COLLECTIONS', 'YARD TRIMMING', 'GARBAGE COLLECTIONS', 'RECYCLING - SINGLE STREAM', 'YARD TRIMMING', 'RECYCLING - SINGLE STREAM', 'RECYCLING - SINGLE STREAM', 'GARBAGE COLLECTIONS', 'GARBAGE COLLECTIONS', 'RECYCLING - SINGLE STREAM', 'BRUSH', 'YARD TRIMMING', 'BRUSH', 'GARBAGE COLLECTIONS', 'YARD TRIMMING', 'GARBAGE COLLECTIONS', 'RECYCLING - SINGLE STREAM', 'GARBAGE COLLECTIONS', 'RECYCLING - SINGLE STREAM', 'GARBAGE COLLECTIONS', 'BULK', 'RECYCLING - SINGLE STREAM', 'GARBAGE COLLECTIONS', 'YARD TRIMMING', 'RECYCLING - SINGLE STREAM', 'BRUSH', 'YARD TRIMMING', 'GARBAGE COLLECTIONS', 'BRUSH', 'ORGANICS', 'GARBAGE COLLECTIONS', 'RECYCLING - SINGLE STREAM', 'RECYCLING - SINGLE STREAM', 'RECYCLING - SINGLE STREAM', 'GARBAGE COLLECTIONS', 'SWEEPING', 'TIRES', 'RECYCLING - SINGLE STREAM', 'RECYCLING - SINGLE STREAM', 'GARBAGE COLLECTIONS', 'GARBAGE COLLECTIONS', 'GARBAGE COLLECTIONS', 'YARD TRIMMING', 'RECYCLED METAL', 'DEAD ANIMAL', 'RECYCLING - SINGLE STREAM', 'RECYCLING - SINGLE STREAM', 'GARBAGE COLLECTIONS', 'GARBAGE COLLECTIONS', 'BULK', 'RECYCLING - SINGLE STREAM', 'RECYCLING - SINGLE STREAM', 'ORGANICS', 'SWEEPING', 'YARD TRIMMING', 'GARBAGE COLLECTIONS', 'RECYCLING - SINGLE STREAM', 'RECYCLING - SINGLE STREAM', 'BRUSH', 'BULK', 'GARBAGE COLLECTIONS', 'GARBAGE COLLECTIONS', 'YARD TRIMMING', 'GARBAGE COLLECTIONS', 'GARBAGE COLLECTIONS', 'GARBAGE COLLECTIONS', 'BRUSH', 'BRUSH', 'RECYCLING - SINGLE STREAM', 'GARBAGE COLLECTIONS', 'GARBAGE COLLECTIONS', 'YARD TRIMMING', 'GARBAGE COLLECTIONS', 'RECYCLING - SINGLE STREAM', 'RECYCLING - SINGLE STREAM', 'YARD TRIMMING', 'RECYCLING - SINGLE STREAM', 'RECYCLING - SINGLE STREAM', 'DEAD ANIMAL', 'GARBAGE COLLECTIONS', 'RECYCLING - SINGLE STREAM', 'RECYCLING - SINGLE STREAM', 'BULK', 'BULK', 'RECYCLING - SINGLE STREAM', 'GARBAGE COLLECTIONS', 'DEAD ANIMAL', 'GARBAGE COLLECTIONS', 'GARBAGE COLLECTIONS', 'YARD TRIMMING', 'BRUSH', 'RECYCLING - SINGLE STREAM', 'RECYCLING - SINGLE STREAM', 'ORGANICS', 'BULK', 'YARD TRIMMING', 'RECYCLING - SINGLE STREAM', 'GARBAGE COLLECTIONS', 'DEAD ANIMAL', 'BULK', 'RECYCLING - SINGLE STREAM', 'GARBAGE COLLECTIONS', 'ORGANICS', 'RECYCLING - SINGLE STREAM', 'YARD TRIMMING', 'GARBAGE COLLECTIONS', 'GARBAGE COLLECTIONS', 'GARBAGE COLLECTIONS', 'RECYCLING - SINGLE STREAM', 'GARBAGE COLLECTIONS', 'YARD TRIMMING', 'RECYCLING - SINGLE STREAM', 'BRUSH', 'YARD TRIMMING', 'GARBAGE COLLECTIONS', 'YARD TRIMMING', 'RECYCLING - SINGLE STREAM', 'GARBAGE COLLECTIONS', 'RECYCLING - SINGLE STREAM', 'GARBAGE COLLECTIONS', 'GARBAGE COLLECTIONS', 'YARD TRIMMING', 'BULK', 'YARD TRIMMING', 'ORGANICS', 'RECYCLING - SINGLE STREAM', 'RECYCLING - SINGLE STREAM', 'GARBAGE COLLECTIONS', 'ORGANICS', 'GARBAGE COLLECTIONS', 'ORGANICS', 'GARBAGE COLLECTIONS', 'GARBAGE COLLECTIONS', 'GARBAGE COLLECTIONS', 'BRUSH', 'BULK', 'ORGANICS', 'RECYCLING - SINGLE STREAM', 'BULK', 'YARD TRIMMING', 'GARBAGE COLLECTIONS', 'RECYCLING - SINGLE STREAM', 'YARD TRIMMING', 'RECYCLING - SINGLE STREAM', 'YARD TRIMMING', 'RECYCLING - SINGLE STREAM', 'DEAD ANIMAL', 'YARD TRIMMING', 'RECYCLING - SINGLE STREAM', 'BRUSH', 'SWEEPING', 'GARBAGE COLLECTIONS', 'BRUSH', 'BULK', 'RECYCLING - SINGLE STREAM', 'GARBAGE COLLECTIONS', 'YARD TRIMMING', 'GARBAGE COLLECTIONS', 'ORGANICS', 'GARBAGE COLLECTIONS', 'GARBAGE COLLECTIONS', 'GARBAGE COLLECTIONS', 'YARD TRIMMING', 'RECYCLING - SINGLE STREAM', 'GARBAGE COLLECTIONS', 'TIRES', 'RECYCLING - SINGLE STREAM', 'SWEEPING', 'RECYCLING - SINGLE STREAM', 'GARBAGE COLLECTIONS', 'RECYCLING - SINGLE STREAM', 'ORGANICS', 'RECYCLING - SINGLE STREAM', 'RECYCLING - SINGLE STREAM', 'SWEEPING', 'GARBAGE COLLECTIONS', 'RECYCLING - SINGLE STREAM', 'RECYCLING - SINGLE STREAM', 'RECYCLING - SINGLE STREAM', 'YARD TRIMMING', 'BULK', 'GARBAGE COLLECTIONS', 'GARBAGE COLLECTIONS', 'GARBAGE COLLECTIONS', 'GARBAGE COLLECTIONS', 'GARBAGE COLLECTIONS', 'YARD TRIMMING', 'YARD TRIMMING', 'GARBAGE COLLECTIONS', 'GARBAGE COLLECTIONS', 'RECYCLING - SINGLE STREAM', 'BULK', 'GARBAGE COLLECTIONS', 'RECYCLING - SINGLE STREAM', 'RECYCLING - SINGLE STREAM', 'BULK', 'RECYCLING - SINGLE STREAM', 'RECYCLING - SINGLE STREAM', 'GARBAGE COLLECTIONS', 'GARBAGE COLLECTIONS', 'YARD TRIMMING', 'BRUSH', 'YARD TRIMMING', 'GARBAGE COLLECTIONS', 'RECYCLING - SINGLE STREAM', 'ORGANICS', 'GARBAGE COLLECTIONS', 'GARBAGE COLLECTIONS', 'RECYCLING - SINGLE STREAM', 'GARBAGE COLLECTIONS', 'GARBAGE COLLECTIONS', 'SWEEPING', 'ORGANICS', 'YARD TRIMMING', 'GARBAGE COLLECTIONS', 'YARD TRIMMING', 'RECYCLING - SINGLE STREAM', 'BULK', 'RECYCLING - SINGLE STREAM', 'TIRES', 'RECYCLING - SINGLE STREAM', 'GARBAGE COLLECTIONS', 'GARBAGE COLLECTIONS', 'GARBAGE COLLECTIONS', 'RECYCLING - SINGLE STREAM', 'BRUSH', 'RECYCLING - SINGLE STREAM', 'GARBAGE COLLECTIONS', 'RECYCLING - SINGLE STREAM', 'GARBAGE COLLECTIONS', 'RECYCLING - SINGLE STREAM', 'BRUSH', 'GARBAGE COLLECTIONS', 'RECYCLING - SINGLE STREAM', 'GARBAGE COLLECTIONS', 'GARBAGE COLLECTIONS', 'YARD TRIMMING', 'BRUSH', 'RECYCLING - SINGLE STREAM', 'GARBAGE COLLECTIONS', 'BULK', 'GARBAGE COLLECTIONS', 'GARBAGE COLLECTIONS', 'GARBAGE COLLECTIONS', 'YARD TRIMMING', 'GARBAGE COLLECTIONS', 'BULK', 'ORGANICS', 'RECYCLING - SINGLE STREAM', 'RECYCLING - SINGLE STREAM', 'RECYCLING - SINGLE STREAM', 'TIRES', 'RECYCLING - SINGLE STREAM', 'RECYCLING - SINGLE STREAM', 'RECYCLING - SINGLE STREAM', 'GARBAGE COLLECTIONS', 'LITTER', 'BRUSH', 'GARBAGE COLLECTIONS', 'GARBAGE COLLECTIONS', 'BRUSH', 'YARD TRIMMING', 'ORGANICS', 'RECYCLING - SINGLE STREAM', 'RECYCLING - SINGLE STREAM', 'RECYCLING - SINGLE STREAM', 'GARBAGE COLLECTIONS', 'RECYCLING - SINGLE STREAM', 'GARBAGE COLLECTIONS', 'RECYCLING - SINGLE STREAM', 'GARBAGE COLLECTIONS', 'RECYCLING - SINGLE STREAM', 'GARBAGE COLLECTIONS', 'YARD TRIMMING', 'RECYCLING - SINGLE STREAM', 'GARBAGE COLLECTIONS', 'GARBAGE COLLECTIONS', 'BULK', 'GARBAGE COLLECTIONS', 'GARBAGE COLLECTIONS', 'BRUSH', 'BULK', 'GARBAGE COLLECTIONS', 'GARBAGE COLLECTIONS', 'RECYCLING - SINGLE STREAM', 'BRUSH', 'BULK', 'RECYCLING - SINGLE STREAM', 'BRUSH', 'RECYCLING - SINGLE STREAM', 'RECYCLING - SINGLE STREAM', 'GARBAGE COLLECTIONS', 'GARBAGE COLLECTIONS', 'GARBAGE COLLECTIONS', 'BULK', 'GARBAGE COLLECTIONS', 'GARBAGE COLLECTIONS', 'RECYCLING - SINGLE STREAM', 'BRUSH', 'GARBAGE COLLECTIONS', 'GARBAGE COLLECTIONS', 'GARBAGE COLLECTIONS', 'RECYCLING - SINGLE STREAM', 'YARD TRIMMING', 'BRUSH', 'RECYCLING - SINGLE STREAM', 'GARBAGE COLLECTIONS', 'GARBAGE COLLECTIONS', 'GARBAGE COLLECTIONS', 'BULK', 'RECYCLING - SINGLE STREAM', 'ORGANICS', 'RECYCLING - SINGLE STREAM', 'YARD TRIMMING', 'GARBAGE COLLECTIONS', 'GARBAGE COLLECTIONS', 'BRUSH', 'ORGANICS', 'YARD TRIMMING', 'BULK', 'YARD TRIMMING', 'RECYCLING - SINGLE STREAM', 'RECYCLING - SINGLE STREAM', 'GARBAGE COLLECTIONS', 'BRUSH', 'RECYCLING - SINGLE STREAM']",
            "count": 1
           }
          ]
         }
        },
        {
         "name": "Load Weight",
         "dtype": "float64",
         "stats": {
          "unique_count": 2,
          "nan_count": 0,
          "min": "8728842.0",
          "max": "10328549.0",
          "histogram": [
           {
            "bin_start": 8728842,
            "bin_end": 8888812.7,
            "count": 1
           },
           {
            "bin_start": 8888812.7,
            "bin_end": 9048783.4,
            "count": 0
           },
           {
            "bin_start": 9048783.4,
            "bin_end": 9208754.1,
            "count": 0
           },
           {
            "bin_start": 9208754.1,
            "bin_end": 9368724.8,
            "count": 0
           },
           {
            "bin_start": 9368724.8,
            "bin_end": 9528695.5,
            "count": 0
           },
           {
            "bin_start": 9528695.5,
            "bin_end": 9688666.2,
            "count": 0
           },
           {
            "bin_start": 9688666.2,
            "bin_end": 9848636.9,
            "count": 0
           },
           {
            "bin_start": 9848636.9,
            "bin_end": 10008607.6,
            "count": 0
           },
           {
            "bin_start": 10008607.6,
            "bin_end": 10168578.3,
            "count": 0
           },
           {
            "bin_start": 10168578.3,
            "bin_end": 10328549,
            "count": 1
           }
          ]
         }
        },
        {
         "name": "Dropoff Site",
         "dtype": "object",
         "stats": {
          "unique_count": 2,
          "nan_count": 0,
          "categories": [
           {
            "name": "['HORNSBY BEND', 'TDS LANDFILL', 'TDS LANDFILL', 'HORNSBY BEND', 'BALCONES RECYCLING', 'BALCONES RECYCLING', 'TDS LANDFILL', 'TDS LANDFILL', 'TDS - MRF', 'TDS LANDFILL', 'HORNSBY BEND', 'TDS LANDFILL', 'BRAKER SITE', 'TDS LANDFILL', 'TDS LANDFILL', 'TDS LANDFILL', 'TDS LANDFILL', 'TDS LANDFILL', 'TDS LANDFILL', 'BRAKER SITE', 'TDS LANDFILL', 'TDS LANDFILL', 'TDS LANDFILL', 'TDS LANDFILL', 'TDS LANDFILL', 'TDS LANDFILL', 'TDS - MRF', 'TDS - MRF', 'TDS LANDFILL', 'TDS LANDFILL', 'TDS LANDFILL', 'TDS LANDFILL', 'BALCONES RECYCLING', 'TDS LANDFILL', 'HORNSBY BEND', 'TDS LANDFILL', 'HORNSBY BEND', 'TDS LANDFILL', 'TDS - MRF', 'TDS LANDFILL', 'TDS LANDFILL', 'HORNSBY BEND', 'TDS LANDFILL', 'HORNSBY BEND', 'BALCONES RECYCLING', 'TDS LANDFILL', 'BALCONES RECYCLING', 'BALCONES RECYCLING', 'TDS - MRF', 'HORNSBY BEND', 'TDS LANDFILL', 'TDS LANDFILL', 'TDS - MRF', 'BALCONES RECYCLING', 'TDS LANDFILL', 'TDS LANDFILL', 'BALCONES RECYCLING', 'BALCONES RECYCLING', 'BALCONES RECYCLING', 'TDS - MRF', 'TDS - MRF', 'TDS LANDFILL', 'TDS LANDFILL', 'TDS LANDFILL', 'TDS LANDFILL', 'BALCONES RECYCLING', 'TDS LANDFILL', 'BALCONES RECYCLING', 'TDS LANDFILL', 'HORNSBY BEND', 'BALCONES RECYCLING', 'TDS LANDFILL', 'TDS LANDFILL', 'TDS LANDFILL', 'HORNSBY BEND', 'TDS LANDFILL', 'TDS LANDFILL', 'TDS LANDFILL', 'ORGANICS BY GOSH', 'TDS - MRF', 'BALCONES RECYCLING', 'TDS LANDFILL', 'BALCONES RECYCLING', 'TDS - MRF', 'HORNSBY BEND', 'TDS LANDFILL', 'TDS LANDFILL', 'TDS LANDFILL', 'HORNSBY BEND', 'TDS LANDFILL', 'BALCONES RECYCLING', 'HORNSBY BEND', 'BALCONES RECYCLING', 'TDS LANDFILL', 'TDS LANDFILL', 'TDS LANDFILL', 'HORNSBY BEND', 'BALCONES RECYCLING', 'TDS LANDFILL', 'TDS - MRF', 'TDS LANDFILL', 'TDS LANDFILL', 'BALCONES RECYCLING', 'TDS LANDFILL', 'TDS LANDFILL', 'HORNSBY BEND', 'TDS LANDFILL', 'BALCONES RECYCLING', 'TDS LANDFILL', 'TDS LANDFILL', 'HORNSBY BEND', 'TDS LANDFILL', 'TDS - MRF', 'TDS LANDFILL', 'TDS LANDFILL', 'TDS - MRF', 'BALCONES RECYCLING', 'TDS LANDFILL', 'BALCONES RECYCLING', 'TDS LANDFILL', 'TDS - MRF', 'TDS LANDFILL', 'BALCONES RECYCLING', 'HORNSBY BEND', 'BALCONES RECYCLING', 'BALCONES RECYCLING', 'TDS LANDFILL', 'BALCONES RECYCLING', 'BALCONES RECYCLING', 'ORGANICS BY GOSH', 'BALCONES RECYCLING', 'HORNSBY BEND', 'TDS LANDFILL', 'TDS - MRF', 'TDS LANDFILL', 'TDS LANDFILL', 'TDS LANDFILL', 'TDS LANDFILL', 'HORNSBY BEND', 'TDS LANDFILL', 'TDS LANDFILL', 'TDS LANDFILL', 'TDS LANDFILL', 'TDS LANDFILL', 'TDS - MRF', 'ORGANICS BY GOSH', 'TDS LANDFILL', 'BALCONES RECYCLING', 'TDS LANDFILL', 'TDS LANDFILL', 'BALCONES RECYCLING', 'TDS LANDFILL', 'BALCONES RECYCLING', 'HORNSBY BEND', 'TDS LANDFILL', 'HORNSBY BEND', 'TDS LANDFILL', 'BALCONES RECYCLING', 'TDS LANDFILL', 'TDS LANDFILL', 'BALCONES RECYCLING', 'TDS LANDFILL', 'TDS LANDFILL', 'TDS LANDFILL', 'TDS LANDFILL', 'TDS - MRF', 'TDS LANDFILL', 'ORGANICS BY GOSH', 'TDS LANDFILL', 'TDS - MRF', 'TDS LANDFILL', 'TDS LANDFILL', 'TDS LANDFILL', 'TDS LANDFILL', 'TDS LANDFILL', 'TDS LANDFILL', 'TDS LANDFILL', 'ORGANICS BY GOSH', 'HORNSBY BEND', 'TDS LANDFILL', 'BALCONES RECYCLING', 'BALCONES RECYCLING', 'TDS LANDFILL', 'HORNSBY BEND', 'TDS LANDFILL', 'BRAKER SITE', 'TDS LANDFILL', 'TDS LANDFILL', 'BALCONES RECYCLING', 'TDS - MRF', 'TDS - MRF', 'TDS LANDFILL', 'TDS LANDFILL', 'TDS LANDFILL', 'TDS LANDFILL', 'TDS LANDFILL', 'TDS LANDFILL', 'TDS LANDFILL', 'TDS LANDFILL', 'TDS LANDFILL', 'TDS - MRF', 'TDS LANDFILL', 'TDS LANDFILL', 'TDS - MRF', 'TDS LANDFILL', 'TDS LANDFILL', 'TDS LANDFILL', 'BALCONES RECYCLING', 'TDS LANDFILL', 'TDS LANDFILL', 'TDS LANDFILL', 'TDS LANDFILL', 'TDS LANDFILL', 'TDS LANDFILL', 'TDS LANDFILL', 'TDS LANDFILL', 'TDS LANDFILL', 'TDS LANDFILL', 'ORGANICS BY GOSH', 'BALCONES RECYCLING', 'TDS - MRF', 'BALCONES RECYCLING', 'TDS LANDFILL', 'HORNSBY BEND', 'TDS LANDFILL', 'BALCONES RECYCLING', 'TDS LANDFILL', 'TDS LANDFILL', 'BALCONES RECYCLING', 'TDS LANDFILL', 'TDS - MRF', 'HORNSBY BEND', 'TDS LANDFILL', 'BALCONES RECYCLING', 'TDS LANDFILL', 'BALCONES RECYCLING', 'TDS - MRF', 'TDS LANDFILL', 'TDS LANDFILL', 'BALCONES RECYCLING', 'ORGANICS BY GOSH', 'TDS - MRF', 'TDS LANDFILL', 'TDS LANDFILL', 'HORNSBY BEND', 'TDS LANDFILL', 'TDS LANDFILL', 'BALCONES RECYCLING', 'TDS LANDFILL', 'TDS - MRF', 'BALCONES RECYCLING', 'TDS LANDFILL', 'TDS LANDFILL', 'TDS - MRF', 'MRF', 'TDS LANDFILL', 'TDS LANDFILL', 'HORNSBY BEND', 'TDS LANDFILL', 'TDS - MRF', 'TDS LANDFILL', 'TDS LANDFILL', 'HORNSBY BEND', 'TDS LANDFILL', 'TDS - MRF', 'BALCONES RECYCLING', 'TDS LANDFILL', 'TDS - MRF', 'TDS LANDFILL', 'TDS - MRF', 'TDS LANDFILL', 'BALCONES RECYCLING', 'TDS LANDFILL', 'TDS LANDFILL', 'BALCONES RECYCLING', 'TDS - MRF', 'TDS LANDFILL', 'TDS LANDFILL', 'TDS LANDFILL', 'HORNSBY BEND', 'TDS LANDFILL', 'TDS - MRF', 'TDS LANDFILL', 'BALCONES RECYCLING', 'BALCONES RECYCLING', 'TDS LANDFILL', 'TDS LANDFILL', 'TDS - MRF', 'TDS LANDFILL', 'TDS LANDFILL', 'TDS - MRF', 'BALCONES RECYCLING', 'TDS LANDFILL', 'TDS LANDFILL', 'TDS LANDFILL', 'TDS - MRF', 'ORGANICS BY GOSH', 'HORNSBY BEND', 'BALCONES RECYCLING', 'TDS LANDFILL', 'TDS - MRF', 'ORGANICS BY GOSH', 'BALCONES RECYCLING', 'TDS - MRF', 'HORNSBY BEND', 'TDS LANDFILL', 'TDS - MRF', 'TDS LANDFILL', 'TDS LANDFILL', 'BALCONES RECYCLING', 'BALCONES RECYCLING', 'TDS LANDFILL', 'BALCONES RECYCLING', 'TDS LANDFILL', 'TDS LANDFILL', 'TDS LANDFILL', 'TDS - MRF', 'HORNSBY BEND', 'TDS - MRF', 'TDS LANDFILL', 'ORGANICS BY GOSH', 'TDS LANDFILL', 'TDS LANDFILL', 'TDS LANDFILL', 'TDS - MRF', 'TDS LANDFILL', 'BALCONES RECYCLING', 'TDS LANDFILL', 'BALCONES RECYCLING', 'TDS LANDFILL', 'TDS - MRF', 'ORGANICS BY GOSH', 'TDS LANDFILL', 'BALCONES RECYCLING', 'TDS - MRF', 'TDS LANDFILL', 'TDS - MRF', 'BALCONES RECYCLING', 'TDS LANDFILL', 'TDS LANDFILL', 'BALCONES RECYCLING', 'TDS LANDFILL', 'TDS - MRF', 'HORNSBY BEND', 'TDS LANDFILL', 'BALCONES RECYCLING', 'TDS LANDFILL', 'TDS LANDFILL', 'TDS LANDFILL', 'HORNSBY BEND', 'TDS LANDFILL', 'BALCONES RECYCLING', 'TDS LANDFILL', 'HORNSBY BEND', 'HORNSBY BEND', 'TDS LANDFILL', 'ORGANICS BY GOSH', 'HORNSBY BEND', 'HORNSBY BEND', 'TDS - MRF', 'TDS LANDFILL', 'TDS LANDFILL', 'HORNSBY BEND', 'BALCONES RECYCLING', 'TDS - MRF', 'BALCONES RECYCLING', 'TDS LANDFILL', 'BALCONES RECYCLING', 'TDS LANDFILL', 'TDS - MRF', 'HORNSBY BEND', 'TDS LANDFILL', 'TDS LANDFILL', 'TDS LANDFILL', 'BRAKER SITE', 'BALCONES RECYCLING', 'BRAKER SITE', 'TDS LANDFILL', 'TDS LANDFILL', 'BALCONES RECYCLING', 'TDS LANDFILL', 'TDS - MRF', 'BALCONES RECYCLING', 'TDS LANDFILL', 'BALCONES RECYCLING', 'TDS LANDFILL', 'ORGANICS BY GOSH', 'TDS - MRF', 'TDS LANDFILL', 'TDS LANDFILL', 'TDS LANDFILL', 'BALCONES RECYCLING', 'TDS - MRF', 'TDS LANDFILL', 'BALCONES RECYCLING', 'TDS LANDFILL', 'BALCONES RECYCLING', 'BRAKER SITE', 'TDS LANDFILL', 'TDS LANDFILL', 'TDS - MRF', 'TDS LANDFILL', 'BALCONES RECYCLING', 'HORNSBY BEND', 'TDS - MRF', 'BALCONES RECYCLING', 'TDS LANDFILL', 'BALCONES RECYCLING', 'TDS LANDFILL', 'HORNSBY BEND', 'HORNSBY BEND', 'HORNSBY BEND', 'BALCONES RECYCLING', 'TDS LANDFILL', 'TDS LANDFILL', 'TDS LANDFILL', 'HORNSBY BEND', 'BALCONES RECYCLING', 'TDS - MRF', 'HORNSBY BEND', 'BALCONES RECYCLING', 'TDS LANDFILL', 'BALCONES RECYCLING', 'TDS LANDFILL', 'TDS LANDFILL', 'TDS LANDFILL', 'TDS LANDFILL', 'BALCONES RECYCLING', 'TDS LANDFILL', 'MRF', 'TDS LANDFILL', 'TDS LANDFILL', 'TDS LANDFILL', 'BALCONES RECYCLING', 'TDS LANDFILL', 'HORNSBY BEND', 'TDS LANDFILL', 'HORNSBY BEND', 'TDS LANDFILL', 'TDS LANDFILL', 'TDS LANDFILL', 'BRAKER SITE', 'BALCONES RECYCLING', 'TDS LANDFILL', 'TDS - MRF', 'HORNSBY BEND', 'TDS LANDFILL', 'TDS LANDFILL', 'TDS - MRF', 'HORNSBY BEND', 'BALCONES RECYCLING', 'TDS LANDFILL', 'TDS LANDFILL', 'TDS LANDFILL', 'TDS LANDFILL', 'BRAKER SITE', 'BALCONES RECYCLING', 'HORNSBY BEND', 'TDS LANDFILL', 'TDS LANDFILL', 'TDS LANDFILL', 'BALCONES RECYCLING', 'BALCONES RECYCLING', 'TDS LANDFILL', 'TDS LANDFILL', 'BALCONES RECYCLING', 'TDS - MRF', 'HORNSBY BEND', 'HORNSBY BEND', 'TDS LANDFILL', 'TDS LANDFILL', 'TDS LANDFILL', 'BALCONES RECYCLING', 'TDS LANDFILL', 'TDS LANDFILL', 'TDS - MRF', 'TDS LANDFILL', 'BALCONES RECYCLING', 'TDS LANDFILL', 'MRF', 'BALCONES RECYCLING', 'HORNSBY BEND', 'TDS LANDFILL', 'BALCONES RECYCLING', 'HORNSBY BEND', 'TDS - MRF', 'TDS LANDFILL', 'TDS LANDFILL', 'TDS LANDFILL', 'TDS - MRF', 'BALCONES RECYCLING', 'BALCONES RECYCLING', 'TDS LANDFILL', 'TDS - MRF', 'TDS LANDFILL', 'TDS LANDFILL', 'BALCONES RECYCLING', 'BALCONES RECYCLING', 'BALCONES RECYCLING', 'HORNSBY BEND', 'BALCONES RECYCLING', 'TDS - MRF', 'TDS LANDFILL', 'TDS LANDFILL', 'BALCONES RECYCLING', 'TDS LANDFILL', 'BALCONES RECYCLING', 'BALCONES RECYCLING', 'TDS - MRF', 'BALCONES RECYCLING', 'HORNSBY BEND', 'BALCONES RECYCLING', 'BALCONES RECYCLING', 'TDS - MRF', 'TDS LANDFILL', 'TDS LANDFILL', 'TDS - MRF', 'TDS LANDFILL', 'HORNSBY BEND', 'HORNSBY BEND', 'TDS - MRF', 'HORNSBY BEND', 'TDS LANDFILL', 'TDS LANDFILL', 'HORNSBY BEND', 'TDS LANDFILL', 'BALCONES RECYCLING', 'TDS LANDFILL', 'TDS LANDFILL', 'TDS LANDFILL', 'TDS LANDFILL', 'TDS LANDFILL', 'TDS LANDFILL', 'TDS LANDFILL', 'BALCONES RECYCLING', 'BALCONES RECYCLING', 'TDS LANDFILL', 'HORNSBY BEND', 'HORNSBY BEND', 'HORNSBY BEND', 'TDS LANDFILL', 'HORNSBY BEND', 'HORNSBY BEND', 'BALCONES RECYCLING', 'HORNSBY BEND', 'TDS LANDFILL', 'HORNSBY BEND', 'TDS LANDFILL', 'TDS LANDFILL', 'BALCONES RECYCLING', 'TDS LANDFILL', 'TDS LANDFILL', 'TDS LANDFILL', 'HORNSBY BEND', 'TDS LANDFILL', 'TDS LANDFILL', 'TDS LANDFILL', 'ORGANICS BY GOSH', 'TDS LANDFILL', 'HORNSBY BEND', 'TDS - MRF', 'BALCONES RECYCLING', 'TDS LANDFILL', 'BALCONES RECYCLING', 'TDS LANDFILL', 'TDS - MRF', 'BALCONES RECYCLING', 'TDS LANDFILL', 'TDS - MRF', 'BRAKER SITE', 'TDS LANDFILL', 'TDS LANDFILL', 'TDS LANDFILL', 'TDS LANDFILL', 'BALCONES RECYCLING', 'HORNSBY BEND', 'HORNSBY BEND', 'BALCONES RECYCLING', 'TDS LANDFILL', 'BALCONES RECYCLING', 'BALCONES RECYCLING', 'TDS LANDFILL', 'HORNSBY BEND', 'TDS - MRF', 'TDS LANDFILL', 'HORNSBY BEND', 'TDS LANDFILL', 'TDS LANDFILL', 'TDS LANDFILL', 'BALCONES RECYCLING', 'TDS LANDFILL', 'TDS LANDFILL', 'TDS LANDFILL', 'TDS LANDFILL', 'TDS LANDFILL', 'BALCONES RECYCLING', 'HORNSBY BEND', 'TDS LANDFILL', 'ORGANICS BY GOSH', 'TDS LANDFILL', 'TDS LANDFILL', 'TDS - MRF', 'TDS LANDFILL', 'TDS LANDFILL', 'BALCONES RECYCLING', 'TDS LANDFILL', 'TDS LANDFILL', 'TDS LANDFILL', 'BALCONES RECYCLING', 'TDS LANDFILL', 'HORNSBY BEND', 'HORNSBY BEND', 'TDS LANDFILL', 'TDS LANDFILL', 'BALCONES RECYCLING', 'TDS LANDFILL', 'BALCONES RECYCLING', 'TDS LANDFILL', 'BALCONES RECYCLING', 'TDS LANDFILL', 'TDS - MRF', 'TDS LANDFILL', 'TDS LANDFILL', 'BALCONES RECYCLING', 'HORNSBY BEND', 'TDS LANDFILL', 'TDS LANDFILL', 'TDS LANDFILL', 'BRAKER SITE', 'BALCONES RECYCLING', 'TDS - MRF', 'HORNSBY BEND', 'TDS LANDFILL', 'BALCONES RECYCLING', 'TDS LANDFILL', 'TDS - MRF', 'TDS LANDFILL', 'BALCONES RECYCLING', 'TDS LANDFILL', 'TDS LANDFILL', 'TDS LANDFILL', 'TDS LANDFILL', 'TDS LANDFILL', 'BALCONES RECYCLING', 'ORGANICS BY GOSH', 'TDS LANDFILL', 'TDS - MRF', 'TDS LANDFILL', 'BALCONES RECYCLING', 'TDS - MRF', 'TDS - MRF', 'TDS LANDFILL', 'TDS LANDFILL', 'TDS LANDFILL', 'HORNSBY BEND', 'HORNSBY BEND', 'TDS LANDFILL', 'TDS - MRF', 'TDS LANDFILL', 'TDS LANDFILL', 'BALCONES RECYCLING', 'TDS - MRF', 'BALCONES RECYCLING', 'TDS LANDFILL', 'TDS - MRF', 'TDS LANDFILL', 'TDS LANDFILL', 'TDS LANDFILL', 'TDS LANDFILL', 'TDS LANDFILL', 'TDS LANDFILL', 'TDS - MRF', 'TDS LANDFILL', 'TDS LANDFILL', 'BALCONES RECYCLING', 'TDS LANDFILL', 'HORNSBY BEND', 'TDS LANDFILL', 'TDS LANDFILL', 'TDS LANDFILL', 'TDS - MRF', 'TDS LANDFILL', 'TDS LANDFILL', 'TDS LANDFILL', 'HORNSBY BEND', 'TDS LANDFILL', 'TDS LANDFILL', 'TDS LANDFILL', 'BALCONES RECYCLING', 'ORGANICS BY GOSH', 'TDS LANDFILL', 'HORNSBY BEND', 'TDS LANDFILL', 'BALCONES RECYCLING', 'BALCONES RECYCLING', 'HORNSBY BEND', 'TDS LANDFILL']",
            "count": 1
           },
           {
            "name": "['TDS LANDFILL', 'TDS - MRF', 'HORNSBY BEND', 'TDS LANDFILL', 'TDS LANDFILL', 'TDS LANDFILL', 'TDS - MRF', 'TDS LANDFILL', 'BALCONES RECYCLING', 'HORNSBY BEND', 'BALCONES RECYCLING', 'TDS LANDFILL', 'TDS LANDFILL', 'TDS LANDFILL', 'TDS LANDFILL', 'BALCONES RECYCLING', 'TDS LANDFILL', 'TDS - MRF', 'HORNSBY BEND', 'ORGANICS BY GOSH', 'BALCONES RECYCLING', 'TDS LANDFILL', 'HORNSBY BEND', 'ORGANICS BY GOSH', 'TDS LANDFILL', 'TDS LANDFILL', 'TDS LANDFILL', 'TDS LANDFILL', 'TDS - MRF', 'TDS LANDFILL', 'TDS LANDFILL', 'TDS LANDFILL', 'TDS LANDFILL', 'TDS LANDFILL', 'ORGANICS BY GOSH', 'HORNSBY BEND', 'TDS LANDFILL', 'BALCONES RECYCLING', 'TDS LANDFILL', 'TDS LANDFILL', 'BALCONES RECYCLING', 'BALCONES RECYCLING', 'TDS LANDFILL', 'HORNSBY BEND', 'BALCONES RECYCLING', 'TDS LANDFILL', 'TDS LANDFILL', 'TDS LANDFILL', 'ORGANICS BY GOSH', 'HORNSBY BEND', 'TDS LANDFILL', 'TDS - MRF', 'ORGANICS BY GOSH', 'TDS LANDFILL', 'TDS LANDFILL', 'TDS - MRF', 'TDS - MRF', 'ORGANICS BY GOSH', 'TDS LANDFILL', 'TDS LANDFILL', 'TDS LANDFILL', 'TDS - MRF', 'MRF', 'TDS LANDFILL', 'TDS LANDFILL', 'BALCONES RECYCLING', 'TDS - MRF', 'TDS LANDFILL', 'BALCONES RECYCLING', 'TDS LANDFILL', 'HORNSBY BEND', 'ORGANICS BY GOSH', 'BALCONES RECYCLING', 'TDS LANDFILL', 'TDS LANDFILL', 'TDS LANDFILL', 'BALCONES RECYCLING', 'TDS LANDFILL', 'ORGANICS BY GOSH', 'TDS LANDFILL', 'BALCONES RECYCLING', 'TDS LANDFILL', 'BALCONES RECYCLING', 'TDS LANDFILL', 'TDS LANDFILL', 'BALCONES RECYCLING', 'TDS LANDFILL', 'ORGANICS BY GOSH', 'TDS LANDFILL', 'HORNSBY BEND', 'TDS LANDFILL', 'BALCONES RECYCLING', 'TDS LANDFILL', 'TDS LANDFILL', 'BALCONES RECYCLING', 'TDS LANDFILL', 'TDS - MRF', 'BALCONES RECYCLING', 'HORNSBY BEND', 'TDS LANDFILL', 'BALCONES RECYCLING', 'ORGANICS BY GOSH', 'TDS - MRF', 'TDS LANDFILL', 'TDS LANDFILL', 'TDS LANDFILL', 'HORNSBY BEND', 'BALCONES RECYCLING', 'TDS LANDFILL', 'TDS LANDFILL', 'TDS - MRF', 'TDS LANDFILL', 'TDS LANDFILL', 'BALCONES RECYCLING', 'TDS LANDFILL', 'MRF', 'TDS LANDFILL', 'TDS - MRF', 'HORNSBY BEND', 'HORNSBY BEND', 'TDS - MRF', 'BALCONES RECYCLING', 'BALCONES RECYCLING', 'TDS LANDFILL', 'TDS LANDFILL', 'HORNSBY BEND', 'BALCONES RECYCLING', 'ORGANICS BY GOSH', 'ORGANICS BY GOSH', 'TDS LANDFILL', 'HORNSBY BEND', 'BALCONES RECYCLING', 'HORNSBY BEND', 'TDS LANDFILL', 'BALCONES RECYCLING', 'TDS LANDFILL', 'TDS - MRF', 'AUSTIN IRON AND METAL', 'TDS - MRF', 'TDS LANDFILL', 'TDS LANDFILL', 'TDS LANDFILL', 'TDS LANDFILL', 'TDS LANDFILL', 'BALCONES RECYCLING', 'TDS LANDFILL', 'TDS LANDFILL', 'TDS - MRF', 'TDS LANDFILL', 'TDS LANDFILL', 'TDS LANDFILL', 'ORGANICS BY GOSH', 'HORNSBY BEND', 'TDS LANDFILL', 'TDS LANDFILL', 'TDS LANDFILL', 'BALCONES RECYCLING', 'TDS LANDFILL', 'BALCONES RECYCLING', 'TDS - MRF', 'BALCONES RECYCLING', 'TDS LANDFILL', 'TDS LANDFILL', 'TDS - MRF', 'TDS LANDFILL', 'BALCONES RECYCLING', 'TDS LANDFILL', 'TDS LANDFILL', 'TDS LANDFILL', 'BALCONES RECYCLING', 'TDS - MRF', 'TDS LANDFILL', 'TDS LANDFILL', 'HORNSBY BEND', 'TDS LANDFILL', 'BALCONES RECYCLING', 'TDS LANDFILL', 'TDS - MRF', 'HORNSBY BEND', 'TDS LANDFILL', 'TDS - MRF', 'TDS LANDFILL', 'TDS LANDFILL', 'TDS LANDFILL', 'ORGANICS BY GOSH', 'AUSTIN IRON AND METAL', 'BALCONES RECYCLING', 'TDS LANDFILL', 'TDS LANDFILL', 'MRF', 'TDS - MRF', 'TDS LANDFILL', 'TDS LANDFILL', 'TDS LANDFILL', 'TDS LANDFILL', 'BALCONES RECYCLING', 'TDS LANDFILL', 'TDS LANDFILL', 'ORGANICS BY GOSH', 'ORGANICS BY GOSH', 'TDS - MRF', 'TDS - MRF', 'TDS - MRF', 'TDS LANDFILL', 'BALCONES RECYCLING', 'HORNSBY BEND', 'TDS LANDFILL', 'HORNSBY BEND', 'TDS LANDFILL', 'ORGANICS BY GOSH', 'TDS LANDFILL', 'BALCONES RECYCLING', 'BALCONES RECYCLING', 'TDS LANDFILL', 'TDS LANDFILL', 'BALCONES RECYCLING', 'BALCONES RECYCLING', 'BALCONES RECYCLING', 'HORNSBY BEND', 'BALCONES RECYCLING', 'TDS LANDFILL', 'ORGANICS BY GOSH', 'TDS LANDFILL', 'TDS LANDFILL', 'TDS - MRF', 'HORNSBY BEND', 'TDS LANDFILL', 'BALCONES RECYCLING', 'TDS LANDFILL', 'TDS LANDFILL', 'TDS LANDFILL', 'BALCONES RECYCLING', 'TDS - MRF', 'TDS LANDFILL', 'TDS - MRF', 'HORNSBY BEND', 'BALCONES RECYCLING', 'TDS LANDFILL', 'BALCONES RECYCLING', 'TDS - MRF', 'ORGANICS BY GOSH', 'ORGANICS BY GOSH', 'HORNSBY BEND', 'ORGANICS BY GOSH', 'TDS LANDFILL', 'TDS LANDFILL', 'TDS LANDFILL', 'HORNSBY BEND', 'TDS LANDFILL', 'TDS - MRF', 'TDS LANDFILL', 'TDS - MRF', 'TDS LANDFILL', 'BALCONES RECYCLING', 'ORGANICS BY GOSH', 'HORNSBY BEND', 'BALCONES RECYCLING', 'TDS LANDFILL', 'TDS LANDFILL', 'TDS LANDFILL', 'TDS - MRF', 'BALCONES RECYCLING', 'TDS LANDFILL', 'TDS LANDFILL', 'BALCONES RECYCLING', 'TDS - MRF', 'TDS LANDFILL', 'TDS LANDFILL', 'TDS LANDFILL', 'TDS LANDFILL', 'BALCONES RECYCLING', 'HORNSBY BEND', 'TDS LANDFILL', 'HORNSBY BEND', 'ORGANICS BY GOSH', 'TDS LANDFILL', 'TDS LANDFILL', 'TDS LANDFILL', 'TDS - MRF', 'TDS LANDFILL', 'TDS - MRF', 'TDS LANDFILL', 'BALCONES RECYCLING', 'TDS - MRF', 'HORNSBY BEND', 'TDS LANDFILL', 'TDS LANDFILL', 'TDS LANDFILL', 'TDS LANDFILL', 'BALCONES RECYCLING', 'TDS LANDFILL', 'HORNSBY BEND', 'BALCONES RECYCLING', 'HORNSBY BEND', 'ORGANICS BY GOSH', 'BALCONES RECYCLING', 'BALCONES RECYCLING', 'TDS - MRF', 'HORNSBY BEND', 'TDS LANDFILL', 'BALCONES RECYCLING', 'HORNSBY BEND', 'TDS LANDFILL', 'TDS LANDFILL', 'TDS LANDFILL', 'TDS LANDFILL', 'TDS LANDFILL', 'ORGANICS BY GOSH', 'TDS LANDFILL', 'TDS LANDFILL', 'HORNSBY BEND', 'BALCONES RECYCLING', 'TDS LANDFILL', 'HORNSBY BEND', 'HORNSBY BEND', 'ORGANICS BY GOSH', 'TDS LANDFILL', 'BALCONES RECYCLING', 'BALCONES RECYCLING', 'TDS LANDFILL', 'TDS LANDFILL', 'ORGANICS BY GOSH', 'TDS LANDFILL', 'TDS LANDFILL', 'BALCONES RECYCLING', 'ORGANICS BY GOSH', 'TDS LANDFILL', 'TDS LANDFILL', 'TDS LANDFILL', 'TDS LANDFILL', 'TDS LANDFILL', 'TDS LANDFILL', 'TDS LANDFILL', 'BALCONES RECYCLING', 'TDS - MRF', 'TDS LANDFILL', 'TDS LANDFILL', 'BALCONES RECYCLING', 'TDS LANDFILL', 'HORNSBY BEND', 'TDS LANDFILL', 'TDS LANDFILL', 'TDS LANDFILL', 'BALCONES RECYCLING', 'HORNSBY BEND', 'TDS LANDFILL', 'BALCONES RECYCLING', 'TDS LANDFILL', 'TDS LANDFILL', 'BALCONES RECYCLING', 'HORNSBY BEND', 'TDS LANDFILL', 'TDS - MRF', 'HORNSBY BEND', 'ORGANICS BY GOSH', 'TDS LANDFILL', 'TDS LANDFILL', 'TDS LANDFILL', 'TDS - MRF', 'TDS LANDFILL', 'ORGANICS BY GOSH', 'TDS LANDFILL', 'TDS LANDFILL', 'ORGANICS BY GOSH', 'TDS LANDFILL', 'BALCONES RECYCLING', 'BALCONES RECYCLING', 'BALCONES RECYCLING', 'TDS - MRF', 'ORGANICS BY GOSH', 'TDS LANDFILL', 'BALCONES RECYCLING', 'TDS LANDFILL', 'TDS LANDFILL', 'TDS LANDFILL', 'TDS LANDFILL', 'TDS - MRF', 'TDS LANDFILL', 'BALCONES RECYCLING', 'BALCONES RECYCLING', 'BALCONES RECYCLING', 'HORNSBY BEND', 'TDS LANDFILL', 'TDS LANDFILL', 'TDS - MRF', 'TDS - MRF', 'TDS LANDFILL', 'ORGANICS BY GOSH', 'TDS - MRF', 'TDS LANDFILL', 'TDS LANDFILL', 'HORNSBY BEND', 'TDS LANDFILL', 'ORGANICS BY GOSH', 'TDS LANDFILL', 'TDS - MRF', 'TDS - MRF', 'TDS LANDFILL', 'BALCONES RECYCLING', 'TDS LANDFILL', 'BALCONES RECYCLING', 'BALCONES RECYCLING', 'TDS LANDFILL', 'TDS LANDFILL', 'HORNSBY BEND', 'BALCONES RECYCLING', 'TDS LANDFILL', 'HORNSBY BEND', 'HORNSBY BEND', 'TDS LANDFILL', 'TDS LANDFILL', 'HORNSBY BEND', 'BALCONES RECYCLING', 'BALCONES RECYCLING', 'TDS LANDFILL', 'TDS LANDFILL', 'TDS LANDFILL', 'TDS LANDFILL', 'TDS LANDFILL', 'TDS - MRF', 'TDS - MRF', 'TDS LANDFILL', 'HORNSBY BEND', 'TDS LANDFILL', 'BALCONES RECYCLING', 'BALCONES RECYCLING', 'TDS LANDFILL', 'BALCONES RECYCLING', 'BALCONES RECYCLING', 'TDS LANDFILL', 'HORNSBY BEND', 'TDS LANDFILL', 'TDS - MRF', 'HORNSBY BEND', 'BALCONES RECYCLING', 'BALCONES RECYCLING', 'TDS LANDFILL', 'TDS LANDFILL', 'TDS - MRF', 'HORNSBY BEND', 'ORGANICS BY GOSH', 'HORNSBY BEND', 'TDS LANDFILL', 'ORGANICS BY GOSH', 'TDS LANDFILL', 'TDS - MRF', 'TDS LANDFILL', 'BALCONES RECYCLING', 'TDS LANDFILL', 'TDS LANDFILL', 'TDS - MRF', 'TDS LANDFILL', 'ORGANICS BY GOSH', 'BALCONES RECYCLING', 'HORNSBY BEND', 'HORNSBY BEND', 'TDS LANDFILL', 'HORNSBY BEND', 'ORGANICS BY GOSH', 'TDS LANDFILL', 'TDS - MRF', 'TDS - MRF', 'TDS - MRF', 'TDS LANDFILL', 'TDS LANDFILL', 'MRF', 'TDS - MRF', 'TDS - MRF', 'TDS LANDFILL', 'TDS LANDFILL', 'TDS LANDFILL', 'ORGANICS BY GOSH', 'AUSTIN IRON AND METAL', 'TDS LANDFILL', 'TDS - MRF', 'BALCONES RECYCLING', 'TDS LANDFILL', 'TDS LANDFILL', 'TDS LANDFILL', 'TDS - MRF', 'BALCONES RECYCLING', 'ORGANICS BY GOSH', 'TDS LANDFILL', 'ORGANICS BY GOSH', 'TDS LANDFILL', 'BALCONES RECYCLING', 'BALCONES RECYCLING', 'HORNSBY BEND', 'TDS LANDFILL', 'TDS LANDFILL', 'TDS LANDFILL', 'HORNSBY BEND', 'TDS LANDFILL', 'TDS LANDFILL', 'TDS LANDFILL', 'HORNSBY BEND', 'HORNSBY BEND', 'BALCONES RECYCLING', 'TDS LANDFILL', 'TDS LANDFILL', 'HORNSBY BEND', 'TDS LANDFILL', 'BALCONES RECYCLING', 'BALCONES RECYCLING', 'HORNSBY BEND', 'TDS - MRF', 'BALCONES RECYCLING', 'TDS LANDFILL', 'TDS LANDFILL', 'TDS - MRF', 'TDS - MRF', 'TDS LANDFILL', 'TDS LANDFILL', 'TDS - MRF', 'TDS LANDFILL', 'TDS LANDFILL', 'TDS LANDFILL', 'TDS LANDFILL', 'HORNSBY BEND', 'HORNSBY BEND', 'BALCONES RECYCLING', 'BALCONES RECYCLING', 'ORGANICS BY GOSH', 'TDS LANDFILL', 'HORNSBY BEND', 'BALCONES RECYCLING', 'TDS LANDFILL', 'TDS LANDFILL', 'TDS LANDFILL', 'TDS - MRF', 'TDS LANDFILL', 'ORGANICS BY GOSH', 'TDS - MRF', 'ORGANICS BY GOSH', 'TDS LANDFILL', 'TDS LANDFILL', 'TDS LANDFILL', 'BALCONES RECYCLING', 'TDS LANDFILL', 'HORNSBY BEND', 'BALCONES RECYCLING', 'HORNSBY BEND', 'HORNSBY BEND', 'TDS LANDFILL', 'ORGANICS BY GOSH', 'TDS - MRF', 'TDS LANDFILL', 'BALCONES RECYCLING', 'TDS LANDFILL', 'TDS LANDFILL', 'ORGANICS BY GOSH', 'TDS LANDFILL', 'HORNSBY BEND', 'ORGANICS BY GOSH', 'BALCONES RECYCLING', 'TDS - MRF', 'TDS LANDFILL', 'ORGANICS BY GOSH', 'TDS LANDFILL', 'ORGANICS BY GOSH', 'TDS LANDFILL', 'TDS LANDFILL', 'TDS LANDFILL', 'HORNSBY BEND', 'TDS LANDFILL', 'ORGANICS BY GOSH', 'BALCONES RECYCLING', 'TDS LANDFILL', 'HORNSBY BEND', 'TDS LANDFILL', 'BALCONES RECYCLING', 'HORNSBY BEND', 'TDS - MRF', 'HORNSBY BEND', 'BALCONES RECYCLING', 'TDS LANDFILL', 'ORGANICS BY GOSH', 'BALCONES RECYCLING', 'HORNSBY BEND', 'TDS LANDFILL', 'TDS LANDFILL', 'HORNSBY BEND', 'TDS LANDFILL', 'BALCONES RECYCLING', 'TDS LANDFILL', 'HORNSBY BEND', 'TDS LANDFILL', 'ORGANICS BY GOSH', 'TDS LANDFILL', 'TDS LANDFILL', 'TDS LANDFILL', 'ORGANICS BY GOSH', 'BALCONES RECYCLING', 'TDS LANDFILL', 'TDS LANDFILL', 'BALCONES RECYCLING', 'TDS LANDFILL', 'BALCONES RECYCLING', 'TDS LANDFILL', 'BALCONES RECYCLING', 'ORGANICS BY GOSH', 'BALCONES RECYCLING', 'BALCONES RECYCLING', 'TDS LANDFILL', 'TDS LANDFILL', 'BALCONES RECYCLING', 'BALCONES RECYCLING', 'BALCONES RECYCLING', 'HORNSBY BEND', 'TDS LANDFILL', 'TDS LANDFILL', 'TDS LANDFILL', 'TDS LANDFILL', 'TDS LANDFILL', 'TDS LANDFILL', 'HORNSBY BEND', 'HORNSBY BEND', 'TDS LANDFILL', 'TDS LANDFILL', 'BALCONES RECYCLING', 'TDS LANDFILL', 'TDS LANDFILL', 'TDS - MRF', 'BALCONES RECYCLING', 'TDS LANDFILL', 'BALCONES RECYCLING', 'BALCONES RECYCLING', 'TDS LANDFILL', 'TDS LANDFILL', 'ORGANICS BY GOSH', 'HORNSBY BEND', 'ORGANICS BY GOSH', 'TDS LANDFILL', 'BALCONES RECYCLING', 'ORGANICS BY GOSH', 'TDS LANDFILL', 'TDS LANDFILL', 'TDS - MRF', 'TDS LANDFILL', 'TDS LANDFILL', 'TDS LANDFILL', 'ORGANICS BY GOSH', 'HORNSBY BEND', 'TDS LANDFILL', 'ORGANICS BY GOSH', 'BALCONES RECYCLING', 'TDS LANDFILL', 'BALCONES RECYCLING', 'MRF', 'TDS - MRF', 'TDS LANDFILL', 'TDS LANDFILL', 'TDS LANDFILL', 'TDS - MRF', 'HORNSBY BEND', 'TDS - MRF', 'TDS LANDFILL', 'TDS - MRF', 'TDS LANDFILL', 'BALCONES RECYCLING', 'HORNSBY BEND', 'TDS LANDFILL', 'TDS - MRF', 'TDS LANDFILL', 'TDS LANDFILL', 'HORNSBY BEND', 'HORNSBY BEND', 'TDS - MRF', 'TDS LANDFILL', 'TDS LANDFILL', 'TDS LANDFILL', 'TDS LANDFILL', 'TDS LANDFILL', 'ORGANICS BY GOSH', 'TDS LANDFILL', 'TDS LANDFILL', 'ORGANICS BY GOSH', 'BALCONES RECYCLING', 'BALCONES RECYCLING', 'TDS - MRF', 'MRF', 'BALCONES RECYCLING', 'TDS - MRF', 'BALCONES RECYCLING', 'TDS LANDFILL', 'TDS LANDFILL', 'HORNSBY BEND', 'TDS LANDFILL', 'TDS LANDFILL', 'HORNSBY BEND', 'HORNSBY BEND', 'ORGANICS BY GOSH', 'TDS - MRF', 'BALCONES RECYCLING', 'BALCONES RECYCLING', 'TDS LANDFILL', 'BALCONES RECYCLING', 'TDS LANDFILL', 'BALCONES RECYCLING', 'TDS LANDFILL', 'TDS - MRF', 'TDS LANDFILL', 'HORNSBY BEND', 'BALCONES RECYCLING', 'TDS LANDFILL', 'TDS LANDFILL', 'TDS LANDFILL', 'TDS LANDFILL', 'TDS LANDFILL', 'HORNSBY BEND', 'TDS LANDFILL', 'TDS LANDFILL', 'TDS LANDFILL', 'TDS - MRF', 'HORNSBY BEND', 'TDS LANDFILL', 'TDS - MRF', 'HORNSBY BEND', 'TDS - MRF', 'BALCONES RECYCLING', 'TDS LANDFILL', 'TDS LANDFILL', 'TDS LANDFILL', 'TDS LANDFILL', 'TDS LANDFILL', 'TDS LANDFILL', 'TDS - MRF', 'HORNSBY BEND', 'TDS LANDFILL', 'TDS LANDFILL', 'TDS LANDFILL', 'BALCONES RECYCLING', 'ORGANICS BY GOSH', 'HORNSBY BEND', 'BALCONES RECYCLING', 'TDS LANDFILL', 'TDS LANDFILL', 'TDS LANDFILL', 'TDS LANDFILL', 'TDS - MRF', 'ORGANICS BY GOSH', 'BALCONES RECYCLING', 'ORGANICS BY GOSH', 'TDS LANDFILL', 'TDS LANDFILL', 'HORNSBY BEND', 'ORGANICS BY GOSH', 'ORGANICS BY GOSH', 'TDS LANDFILL', 'HORNSBY BEND', 'BALCONES RECYCLING', 'TDS - MRF', 'TDS LANDFILL', 'HORNSBY BEND', 'BALCONES RECYCLING']",
            "count": 1
           }
          ]
         }
        },
        {
         "name": "Route Type",
         "dtype": "object",
         "stats": {
          "unique_count": 2,
          "nan_count": 0,
          "categories": [
           {
            "name": "['BRUSH', 'GARBAGE COLLECTION', 'GARBAGE COLLECTION', 'YARD TRIMMINGS', 'RECYCLING - SINGLE STREAM', 'RECYCLING - SINGLE STREAM', 'DEAD ANIMAL', 'GARBAGE COLLECTION', 'RECYCLING - SINGLE STREAM', 'GARBAGE COLLECTION', 'YARD TRIMMINGS', 'GARBAGE COLLECTION', 'YARD TRIMMINGS', 'GARBAGE COLLECTION', 'GARBAGE COLLECTION', 'GARBAGE COLLECTION', 'BULK', 'GARBAGE COLLECTION', 'RECYCLING - SINGLE STREAM', 'YARD TRIMMINGS', 'SWEEPER DUMPSITES', 'GARBAGE COLLECTION', 'GARBAGE COLLECTION', 'BULK', 'GARBAGE COLLECTION', 'GARBAGE COLLECTION', 'RECYCLING - SINGLE STREAM', 'RECYCLING - SINGLE STREAM', 'GARBAGE COLLECTION', 'GARBAGE COLLECTION', 'SWEEPER DUMPSITES', 'GARBAGE COLLECTION', 'RECYCLING - SINGLE STREAM', 'GARBAGE COLLECTION', 'YARD TRIMMINGS', 'DEAD ANIMAL', 'YARD TRIMMINGS', 'GARBAGE COLLECTION', 'RECYCLING - SINGLE STREAM', 'GARBAGE COLLECTION', 'GARBAGE COLLECTION', 'YARD TRIMMINGS', 'GARBAGE COLLECTION', 'YARD TRIMMINGS', 'RECYCLING - SINGLE STREAM', 'GARBAGE COLLECTION', 'RECYCLING - SINGLE STREAM', 'RECYCLING - SINGLE STREAM', 'RECYCLING - SINGLE STREAM', 'YARD TRIMMINGS', 'GARBAGE COLLECTION', 'GARBAGE COLLECTION', 'RECYCLING - SINGLE STREAM', 'RECYCLING - SINGLE STREAM', 'GARBAGE COLLECTION', 'KAB', 'INHOUSE - RECYCLING', 'RECYCLING - SINGLE STREAM', 'RECYCLING - SINGLE STREAM', 'RECYCLING - SINGLE STREAM', 'RECYCLING - SINGLE STREAM', 'GARBAGE COLLECTION', 'GARBAGE COLLECTION', 'GARBAGE COLLECTION', 'GARBAGE COLLECTION', 'RECYCLING - SINGLE STREAM', 'BULK', 'RECYCLING - SINGLE STREAM', 'GARBAGE COLLECTION', 'YARD TRIMMINGS', 'RECYCLING - SINGLE STREAM', 'BULK', 'GARBAGE COLLECTION', 'GARBAGE COLLECTION', 'YARD TRIMMINGS', 'GARBAGE COLLECTION', 'GARBAGE COLLECTION', 'GARBAGE COLLECTION', 'YARD TRIMMINGS-ORGANICS', 'RECYCLING - SINGLE STREAM', 'RECYCLING - SINGLE STREAM', 'GARBAGE COLLECTION', 'RECYCLING - SINGLE STREAM', 'RECYCLING - SINGLE STREAM', 'YARD TRIMMINGS', 'GARBAGE COLLECTION', 'GARBAGE COLLECTION', 'GARBAGE COLLECTION', 'HAULING', 'GARBAGE COLLECTION', 'RECYCLING - SINGLE STREAM', 'YARD TRIMMINGS', 'RECYCLING - SINGLE STREAM', 'GARBAGE COLLECTION', 'BULK', 'GARBAGE COLLECTION', 'BRUSH', 'RECYCLING - SINGLE STREAM', 'GARBAGE COLLECTION', 'RECYCLING - SINGLE STREAM', 'GARBAGE COLLECTION', 'GARBAGE COLLECTION', 'RECYCLING - SINGLE STREAM', 'GARBAGE COLLECTION', 'SWEEPER DUMPSITES', 'YARD TRIMMINGS', 'GARBAGE COLLECTION', 'RECYCLING - SINGLE STREAM', 'GARBAGE COLLECTION', 'GARBAGE COLLECTION', 'YARD TRIMMINGS', 'CAP BULK', 'RECYCLING - SINGLE STREAM', 'GARBAGE COLLECTION', 'GARBAGE COLLECTION', 'RECYCLING - SINGLE STREAM', 'RECYCLING - SINGLE STREAM', 'GARBAGE COLLECTION', 'RECYCLING - SINGLE STREAM', 'GARBAGE COLLECTION', 'RECYCLING - SINGLE STREAM', 'GARBAGE COLLECTION', 'RECYCLING - SINGLE STREAM', 'YARD TRIMMINGS', 'RECYCLING - SINGLE STREAM', 'RECYCLING - SINGLE STREAM', 'GARBAGE COLLECTION', 'RECYCLING - SINGLE STREAM', 'RECYCLING - SINGLE STREAM', 'YARD TRIMMINGS-ORGANICS', 'RECYCLING - SINGLE STREAM', 'YARD TRIMMINGS', 'GARBAGE COLLECTION', 'RECYCLING - SINGLE STREAM', 'GARBAGE COLLECTION', 'GARBAGE COLLECTION', 'GARBAGE COLLECTION', 'BULK', 'YARD TRIMMINGS', 'GARBAGE COLLECTION', 'GARBAGE COLLECTION', 'GARBAGE COLLECTION', 'GARBAGE COLLECTION', 'GARBAGE COLLECTION', 'RECYCLING - SINGLE STREAM', 'YARD TRIMMINGS-ORGANICS', 'GARBAGE COLLECTION', 'RECYCLING - SINGLE STREAM', 'GARBAGE COLLECTION', 'GARBAGE COLLECTION', 'INHOUSE - RECYCLING', 'BULK', 'RECYCLING - SINGLE STREAM', 'YARD TRIMMINGS', 'GARBAGE COLLECTION', 'YARD TRIMMINGS', 'GARBAGE COLLECTION', 'RECYCLING - SINGLE STREAM', 'CAP BULK', 'GARBAGE COLLECTION', 'RECYCLING - SINGLE STREAM', 'GARBAGE COLLECTION', 'GARBAGE COLLECTION', 'DEAD ANIMAL', 'GARBAGE COLLECTION', 'RECYCLING - SINGLE STREAM', 'GARBAGE COLLECTION', 'YARD TRIMMINGS-ORGANICS', 'GARBAGE COLLECTION', 'RECYCLING - SINGLE STREAM', 'GARBAGE COLLECTION', 'GARBAGE COLLECTION', 'BULK', 'BULK', 'GARBAGE COLLECTION', 'BULK', 'GARBAGE COLLECTION', 'YARD TRIMMINGS', 'YARD TRIMMINGS', 'GARBAGE COLLECTION', 'RECYCLING - SINGLE STREAM', 'RECYCLING - SINGLE STREAM', 'GARBAGE COLLECTION', 'BRUSH', 'GARBAGE COLLECTION', 'YARD TRIMMINGS', 'GARBAGE COLLECTION', 'GARBAGE COLLECTION', 'RECYCLING - SINGLE STREAM', 'RECYCLING - SINGLE STREAM', 'RECYCLING - SINGLE STREAM', 'GARBAGE COLLECTION', 'GARBAGE COLLECTION', 'GARBAGE COLLECTION', 'GARBAGE COLLECTION', 'GARBAGE COLLECTION', 'GARBAGE COLLECTION', 'GARBAGE COLLECTION', 'GARBAGE COLLECTION', 'SWEEPER DUMPSITES', 'RECYCLING - SINGLE STREAM', 'DEAD ANIMAL', 'GARBAGE COLLECTION', 'RECYCLING - SINGLE STREAM', 'GARBAGE COLLECTION', 'GARBAGE COLLECTION', 'GARBAGE COLLECTION', 'RECYCLING - SINGLE STREAM', 'GARBAGE COLLECTION', 'GARBAGE COLLECTION', 'SWEEPER DUMPSITES', 'GARBAGE COLLECTION', 'GARBAGE COLLECTION', 'GARBAGE COLLECTION', 'GARBAGE COLLECTION', 'BULK', 'GARBAGE COLLECTION', 'GARBAGE COLLECTION', 'YARD TRIMMINGS', 'RECYCLING - SINGLE STREAM', 'RECYCLING - SINGLE STREAM', 'RECYCLING - SINGLE STREAM', 'SWEEPER DUMPSITES', 'YARD TRIMMINGS', 'GARBAGE COLLECTION', 'RECYCLING - SINGLE STREAM', 'GARBAGE COLLECTION', 'GARBAGE COLLECTION', 'RECYCLING - SINGLE STREAM', 'GARBAGE COLLECTION', 'RECYCLING - SINGLE STREAM', 'YARD TRIMMINGS', 'GARBAGE COLLECTION', 'RECYCLING - SINGLE STREAM', 'GARBAGE COLLECTION', 'RECYCLING - SINGLE STREAM', 'RECYCLING - SINGLE STREAM', 'GARBAGE COLLECTION', 'GARBAGE COLLECTION', 'RECYCLING - SINGLE STREAM', 'YARD TRIMMINGS-ORGANICS', 'RECYCLING - SINGLE STREAM', 'GARBAGE COLLECTION', 'GARBAGE COLLECTION', 'BRUSH', 'GARBAGE COLLECTION', 'GARBAGE COLLECTION', 'INHOUSE - RECYCLING', 'GARBAGE COLLECTION', 'RECYCLING - SINGLE STREAM', 'RECYCLING - SINGLE STREAM', 'GARBAGE COLLECTION', 'GARBAGE COLLECTION', 'RECYCLING - SINGLE STREAM', 'BULK', 'GARBAGE COLLECTION', 'GARBAGE COLLECTION', 'YARD TRIMMINGS', 'GARBAGE COLLECTION', 'RECYCLING - SINGLE STREAM', 'BULK', 'GARBAGE COLLECTION', 'YARD TRIMMINGS', 'GARBAGE COLLECTION', 'RECYCLING - SINGLE STREAM', 'RECYCLING - SINGLE STREAM', 'GARBAGE COLLECTION', 'RECYCLING - SINGLE STREAM', 'GARBAGE COLLECTION', 'RECYCLING - SINGLE STREAM', 'GARBAGE COLLECTION', 'RECYCLING - SINGLE STREAM', 'GARBAGE COLLECTION', 'BULK', 'RECYCLING - SINGLE STREAM', 'RECYCLING - SINGLE STREAM', 'GARBAGE COLLECTION', 'GARBAGE COLLECTION', 'DEAD ANIMAL', 'YARD TRIMMINGS', 'GARBAGE COLLECTION', 'RECYCLING - SINGLE STREAM', 'GARBAGE COLLECTION', 'RECYCLING - SINGLE STREAM', 'RECYCLING - SINGLE STREAM', 'GARBAGE COLLECTION', 'GARBAGE COLLECTION', 'RECYCLING - SINGLE STREAM', 'GARBAGE COLLECTION', 'GARBAGE COLLECTION', 'RECYCLING - SINGLE STREAM', 'RECYCLING - SINGLE STREAM', 'GARBAGE COLLECTION', 'GARBAGE COLLECTION', 'GARBAGE COLLECTION', 'RECYCLING - SINGLE STREAM', 'YARD TRIMMINGS', 'YARD TRIMMINGS', 'RECYCLING - SINGLE STREAM', 'GARBAGE COLLECTION', 'RECYCLING - SINGLE STREAM', 'YARD TRIMMINGS-ORGANICS', 'RECYCLING - SINGLE STREAM', 'RECYCLING - SINGLE STREAM', 'YARD TRIMMINGS', 'GARBAGE COLLECTION', 'RECYCLING - SINGLE STREAM', 'GARBAGE COLLECTION', 'GARBAGE COLLECTION', 'RECYCLING - SINGLE STREAM', 'RECYCLING - SINGLE STREAM', 'GARBAGE COLLECTION', 'RECYCLING - SINGLE STREAM', 'GARBAGE COLLECTION', 'BULK', 'GARBAGE COLLECTION', 'RECYCLING - SINGLE STREAM', 'YARD TRIMMINGS', 'RECYCLING - SINGLE STREAM', 'GARBAGE COLLECTION', 'YARD TRIMMINGS-ORGANICS', 'GARBAGE COLLECTION', 'BULK', 'GARBAGE COLLECTION', 'RECYCLING - SINGLE STREAM', 'GARBAGE COLLECTION', 'RECYCLING - SINGLE STREAM', 'GARBAGE COLLECTION', 'RECYCLING - SINGLE STREAM', 'GARBAGE COLLECTION', 'RECYCLING - SINGLE STREAM', 'YARD TRIMMINGS-ORGANICS', 'DEAD ANIMAL', 'RECYCLING - SINGLE STREAM', 'RECYCLING - SINGLE STREAM', 'BULK', 'RECYCLING - SINGLE STREAM', 'RECYCLING - SINGLE STREAM', 'GARBAGE COLLECTION', 'GARBAGE COLLECTION', 'RECYCLING - SINGLE STREAM', 'GARBAGE COLLECTION', 'KAB', 'YARD TRIMMINGS', 'GARBAGE COLLECTION', 'RECYCLING - SINGLE STREAM', 'GARBAGE COLLECTION', 'GARBAGE COLLECTION', 'GARBAGE COLLECTION', 'YARD TRIMMINGS', 'GARBAGE COLLECTION', 'RECYCLING - SINGLE STREAM', 'GARBAGE COLLECTION', 'YARD TRIMMINGS', 'YARD TRIMMINGS', 'GARBAGE COLLECTION', 'YARD TRIMMINGS', 'YARD TRIMMINGS', 'BRUSH', 'RECYCLING - SINGLE STREAM', 'GARBAGE COLLECTION', 'GARBAGE COLLECTION', 'YARD TRIMMINGS', 'RECYCLING - SINGLE STREAM', 'RECYCLING - SINGLE STREAM', 'RECYCLING - SINGLE STREAM', 'GARBAGE COLLECTION', 'RECYCLING - SINGLE STREAM', 'GARBAGE COLLECTION', 'RECYCLING - SINGLE STREAM', 'YARD TRIMMINGS', 'GARBAGE COLLECTION', 'GARBAGE COLLECTION', 'GARBAGE COLLECTION', 'YARD TRIMMINGS', 'RECYCLING - SINGLE STREAM', 'YARD TRIMMINGS', 'BULK', 'GARBAGE COLLECTION', 'RECYCLING - SINGLE STREAM', 'GARBAGE COLLECTION', 'RECYCLING - SINGLE STREAM', 'RECYCLING - SINGLE STREAM', 'GARBAGE COLLECTION', 'RECYCLING - SINGLE STREAM', 'GARBAGE COLLECTION', 'YARD TRIMMINGS-ORGANICS', 'RECYCLING - SINGLE STREAM', 'GARBAGE COLLECTION', 'GARBAGE COLLECTION', 'BULK', 'RECYCLING - SINGLE STREAM', 'RECYCLING - SINGLE STREAM', 'SWEEPER DUMPSITES', 'RECYCLING - SINGLE STREAM', 'GARBAGE COLLECTION', 'RECYCLING - SINGLE STREAM', 'YARD TRIMMINGS', 'GARBAGE COLLECTION', 'GARBAGE COLLECTION', 'RECYCLING - SINGLE STREAM', 'GARBAGE COLLECTION', 'RECYCLING - SINGLE STREAM', 'YARD TRIMMINGS', 'RECYCLING - SINGLE STREAM', 'RECYCLING - SINGLE STREAM', 'GARBAGE COLLECTION', 'RECYCLING - SINGLE STREAM', 'GARBAGE COLLECTION', 'YARD TRIMMINGS', 'YARD TRIMMINGS', 'YARD TRIMMINGS', 'RECYCLING - SINGLE STREAM', 'GARBAGE COLLECTION', 'CAP BULK', 'GARBAGE COLLECTION', 'YARD TRIMMINGS', 'RECYCLING - SINGLE STREAM', 'RECYCLING - SINGLE STREAM', 'BRUSH', 'RECYCLING - SINGLE STREAM', 'GARBAGE COLLECTION', 'RECYCLING - SINGLE STREAM', 'GARBAGE COLLECTION', 'GARBAGE COLLECTION', 'KAB', 'BULK', 'RECYCLING - SINGLE STREAM', 'GARBAGE COLLECTION', 'BULK', 'GARBAGE COLLECTION', 'SWEEPER DUMPSITES', 'GARBAGE COLLECTION', 'RECYCLING - SINGLE STREAM', 'GARBAGE COLLECTION', 'BRUSH', 'GARBAGE COLLECTION', 'BRUSH', 'GARBAGE COLLECTION', 'GARBAGE COLLECTION', 'GARBAGE COLLECTION', 'YARD TRIMMINGS', 'RECYCLING - SINGLE STREAM', 'GARBAGE COLLECTION', 'RECYCLING - SINGLE STREAM', 'BRUSH', 'GARBAGE COLLECTION', 'GARBAGE COLLECTION', 'RECYCLING - SINGLE STREAM', 'YARD TRIMMINGS', 'RECYCLING - SINGLE STREAM', 'GARBAGE COLLECTION', 'BULK', 'GARBAGE COLLECTION', 'GARBAGE COLLECTION', 'YARD TRIMMINGS', 'RECYCLING - SINGLE STREAM', 'YARD TRIMMINGS', 'GARBAGE COLLECTION', 'BULK', 'RECYCLING - SINGLE STREAM', 'RECYCLING - SINGLE STREAM', 'RECYCLING - SINGLE STREAM', 'GARBAGE COLLECTION', 'GARBAGE COLLECTION', 'RECYCLING - SINGLE STREAM', 'RECYCLING - SINGLE STREAM', 'YARD TRIMMINGS', 'YARD TRIMMINGS', 'GARBAGE COLLECTION', 'GARBAGE COLLECTION', 'GARBAGE COLLECTION', 'RECYCLING - SINGLE STREAM', 'GARBAGE COLLECTION', 'GARBAGE COLLECTION', 'RECYCLING - SINGLE STREAM', 'GARBAGE COLLECTION', 'RECYCLING - SINGLE STREAM', 'BULK', 'BULK', 'RECYCLING - SINGLE STREAM', 'YARD TRIMMINGS', 'GARBAGE COLLECTION', 'RECYCLING - SINGLE STREAM', 'YARD TRIMMINGS', 'RECYCLING - SINGLE STREAM', 'RECYCLING - SINGLE STREAM', 'GARBAGE COLLECTION', 'GARBAGE COLLECTION', 'RECYCLING - SINGLE STREAM', 'RECYCLING - SINGLE STREAM', 'RECYCLING - SINGLE STREAM', 'GARBAGE COLLECTION', 'RECYCLING - SINGLE STREAM', 'GARBAGE COLLECTION', 'RECYCLING - SINGLE STREAM', 'RECYCLING - SINGLE STREAM', 'RECYCLING - SINGLE STREAM', 'RECYCLING - SINGLE STREAM', 'YARD TRIMMINGS', 'RECYCLING - SINGLE STREAM', 'RECYCLING - SINGLE STREAM', 'GARBAGE COLLECTION', 'GARBAGE COLLECTION', 'INHOUSE - RECYCLING', 'GARBAGE COLLECTION', 'RECYCLING - SINGLE STREAM', 'RECYCLING - SINGLE STREAM', 'RECYCLING - SINGLE STREAM', 'RECYCLING - SINGLE STREAM', 'YARD TRIMMINGS', 'RECYCLING - SINGLE STREAM', 'RECYCLING - SINGLE STREAM', 'RECYCLING - SINGLE STREAM', 'GARBAGE COLLECTION', 'GARBAGE COLLECTION', 'RECYCLING - SINGLE STREAM', 'GARBAGE COLLECTION', 'YARD TRIMMINGS', 'YARD TRIMMINGS', 'RECYCLING - SINGLE STREAM', 'HAULING', 'GARBAGE COLLECTION', 'BULK', 'YARD TRIMMINGS', 'GARBAGE COLLECTION', 'RECYCLING - SINGLE STREAM', 'GARBAGE COLLECTION', 'GARBAGE COLLECTION', 'GARBAGE COLLECTION', 'GARBAGE COLLECTION', 'GARBAGE COLLECTION', 'GARBAGE COLLECTION', 'GARBAGE COLLECTION', 'RECYCLING - SINGLE STREAM', 'RECYCLING - SINGLE STREAM', 'BULK', 'HAULING', 'YARD TRIMMINGS', 'YARD TRIMMINGS', 'GARBAGE COLLECTION', 'YARD TRIMMINGS', 'YARD TRIMMINGS', 'RECYCLING - SINGLE STREAM', 'YARD TRIMMINGS', 'BULK', 'BRUSH', 'BULK', 'GARBAGE COLLECTION', 'RECYCLING - SINGLE STREAM', 'GARBAGE COLLECTION', 'SWEEPER DUMPSITES', 'GARBAGE COLLECTION', 'YARD TRIMMINGS', 'GARBAGE COLLECTION', 'GARBAGE COLLECTION', 'GARBAGE COLLECTION', 'YARD TRIMMINGS', 'GARBAGE COLLECTION', 'YARD TRIMMINGS', 'RECYCLING - SINGLE STREAM', 'RECYCLING - SINGLE STREAM', 'GARBAGE COLLECTION', 'RECYCLING - SINGLE STREAM', 'GARBAGE COLLECTION', 'RECYCLING - SINGLE STREAM', 'RECYCLING - SINGLE STREAM', 'GARBAGE COLLECTION', 'RECYCLING - SINGLE STREAM', 'YARD TRIMMINGS', 'GARBAGE COLLECTION', 'GARBAGE COLLECTION', 'GARBAGE COLLECTION', 'GARBAGE COLLECTION', 'RECYCLING - SINGLE STREAM', 'YARD TRIMMINGS', 'YARD TRIMMINGS', 'RECYCLING - SINGLE STREAM', 'SWEEPER DUMPSITES', 'RECYCLING - SINGLE STREAM', 'RECYCLING - SINGLE STREAM', 'GARBAGE COLLECTION', 'BRUSH', 'RECYCLING - SINGLE STREAM', 'GARBAGE COLLECTION', 'YARD TRIMMINGS', 'GARBAGE COLLECTION', 'BULK', 'GARBAGE COLLECTION', 'RECYCLING - SINGLE STREAM', 'GARBAGE COLLECTION', 'GARBAGE COLLECTION', 'SWEEPER DUMPSITES', 'BULK', 'BULK', 'RECYCLING - SINGLE STREAM', 'YARD TRIMMINGS', 'GARBAGE COLLECTION', 'YARD TRIMMINGS-ORGANICS', 'GARBAGE COLLECTION', 'GARBAGE COLLECTION', 'RECYCLING - SINGLE STREAM', 'GARBAGE COLLECTION', 'SWEEPER DUMPSITES', 'RECYCLING - SINGLE STREAM', 'GARBAGE COLLECTION', 'GARBAGE COLLECTION', 'GARBAGE COLLECTION', 'RECYCLING - SINGLE STREAM', 'GARBAGE COLLECTION', 'YARD TRIMMINGS', 'YARD TRIMMINGS', 'GARBAGE COLLECTION', 'GARBAGE COLLECTION', 'RECYCLING - SINGLE STREAM', 'GARBAGE COLLECTION', 'RECYCLING - SINGLE STREAM', 'GARBAGE COLLECTION', 'RECYCLING - SINGLE STREAM', 'GARBAGE COLLECTION', 'RECYCLING - SINGLE STREAM', 'GARBAGE COLLECTION', 'GARBAGE COLLECTION', 'RECYCLING - SINGLE STREAM', 'YARD TRIMMINGS', 'GARBAGE COLLECTION', 'SWEEPER DUMPSITES', 'GARBAGE COLLECTION', 'YARD TRIMMINGS', 'RECYCLING - SINGLE STREAM', 'RECYCLING - SINGLE STREAM', 'YARD TRIMMINGS', 'SWEEPER DUMPSITES', 'RECYCLING - SINGLE STREAM', 'DEAD ANIMAL', 'RECYCLING - SINGLE STREAM', 'GARBAGE COLLECTION', 'RECYCLING - SINGLE STREAM', 'KAB', 'BULK', 'BULK', 'SWEEPER DUMPSITES', 'GARBAGE COLLECTION', 'RECYCLING - SINGLE STREAM', 'YARD TRIMMINGS', 'GARBAGE COLLECTION', 'RECYCLING - SINGLE STREAM', 'GARBAGE COLLECTION', 'RECYCLING - SINGLE STREAM', 'RECYCLING - SINGLE STREAM', 'RECYCLING - SINGLE STREAM', 'GARBAGE COLLECTION', 'GARBAGE COLLECTION', 'GARBAGE COLLECTION', 'BRUSH', 'YARD TRIMMINGS', 'GARBAGE COLLECTION', 'RECYCLING - SINGLE STREAM', 'GARBAGE COLLECTION', 'GARBAGE COLLECTION', 'RECYCLING - SINGLE STREAM', 'RECYCLING - SINGLE STREAM', 'RECYCLING - SINGLE STREAM', 'GARBAGE COLLECTION', 'RECYCLING - SINGLE STREAM', 'GARBAGE COLLECTION', 'GARBAGE COLLECTION', 'BULK', 'BULK', 'GARBAGE COLLECTION', 'GARBAGE COLLECTION', 'RECYCLING - SINGLE STREAM', 'GARBAGE COLLECTION', 'GARBAGE COLLECTION', 'RECYCLING - SINGLE STREAM', 'GARBAGE COLLECTION', 'YARD TRIMMINGS', 'GARBAGE COLLECTION', 'GARBAGE COLLECTION', 'GARBAGE COLLECTION', 'RECYCLING - SINGLE STREAM', 'GARBAGE COLLECTION', 'GARBAGE COLLECTION', 'GARBAGE COLLECTION', 'YARD TRIMMINGS', 'SWEEPER DUMPSITES', 'GARBAGE COLLECTION', 'BULK', 'RECYCLING - SINGLE STREAM', 'YARD TRIMMINGS', 'GARBAGE COLLECTION', 'YARD TRIMMINGS', 'BULK', 'RECYCLING - SINGLE STREAM', 'RECYCLING - SINGLE STREAM', 'YARD TRIMMINGS', 'GARBAGE COLLECTION']",
            "count": 1
           },
           {
            "name": "['GARBAGE COLLECTION', 'RECYCLING - SINGLE STREAM', 'YARD TRIMMINGS', 'GARBAGE COLLECTION', 'GARBAGE COLLECTION', 'BULK', 'RECYCLING - SINGLE STREAM', 'GARBAGE COLLECTION', 'RECYCLING - SINGLE STREAM', 'YARD TRIMMINGS', 'RECYCLING - SINGLE STREAM', 'GARBAGE COLLECTION', 'GARBAGE COLLECTION', 'GARBAGE COLLECTION', 'BULK', 'RECYCLING - SINGLE STREAM', 'BULK', 'RECYCLING DEAD END', 'YARD TRIMMINGS', 'YARD TRIMMINGS-ORGANICS', 'RECYCLING - SINGLE STREAM', 'GARBAGE COLLECTION', 'BRUSH', 'YARD TRIMMINGS-ORGANICS', 'BULK', 'GARBAGE COLLECTION', 'GARBAGE COLLECTION', 'GARBAGE COLLECTION', 'RECYCLING - SINGLE STREAM', 'GARBAGE COLLECTION', 'GARBAGE COLLECTION', 'GARBAGE COLLECTION', 'ON CALL BULK', 'GARBAGE COLLECTION', 'YARD TRIMMINGS-ORGANICS', 'BRUSH', 'GARBAGE COLLECTION', 'RECYCLING - SINGLE STREAM', 'BULK', 'GARBAGE COLLECTION', 'RECYCLING - SINGLE STREAM', 'RECYCLING - SINGLE STREAM', 'GARBAGE COLLECTION', 'BRUSH', 'RECYCLING - SINGLE STREAM', 'GARBAGE COLLECTION', 'BULK', 'GARBAGE COLLECTION', 'YARD TRIMMINGS-ORGANICS', 'BRUSH', 'GARBAGE COLLECTION', 'RECYCLING - SINGLE STREAM', 'YARD TRIMMINGS-ORGANICS', 'GARBAGE COLLECTION', 'GARBAGE COLLECTION', 'RECYCLING - SINGLE STREAM', 'RECYCLING - SINGLE STREAM', 'YARD TRIMMINGS-ORGANICS', 'GARBAGE COLLECTION', 'GARBAGE COLLECTION', 'GARBAGE COLLECTION', 'RECYCLING - SINGLE STREAM', 'BULK', 'GARBAGE COLLECTION', 'BULK', 'RECYCLING - SINGLE STREAM', 'RECYCLING - SINGLE STREAM', 'DEAD ANIMAL', 'RECYCLING - SINGLE STREAM', 'DEAD ANIMAL', 'YARD TRIMMINGS', 'YARD TRIMMINGS-ORGANICS', 'RECYCLING - SINGLE STREAM', 'GARBAGE COLLECTION', 'SWEEPER DUMPSITES', 'GARBAGE COLLECTION', 'RECYCLING - SINGLE STREAM', 'GARBAGE COLLECTION', 'YARD TRIMMINGS-ORGANICS', 'GARBAGE COLLECTION', 'RECYCLING - SINGLE STREAM', 'GARBAGE COLLECTION', 'RECYCLING - SINGLE STREAM', 'GARBAGE COLLECTION', 'GARBAGE COLLECTION', 'RECYCLING - SINGLE STREAM', 'GARBAGE COLLECTION', 'YARD TRIMMINGS-ORGANICS', 'RECYCLING - SINGLE STREAM', 'YARD TRIMMINGS', 'GARBAGE COLLECTION', 'RECYCLING - SINGLE STREAM', 'SWEEPER DUMPSITES', 'GARBAGE COLLECTION', 'RECYCLING - SINGLE STREAM', 'GARBAGE COLLECTION', 'RECYCLING - SINGLE STREAM', 'INHOUSE - RECYCLING', 'YARD TRIMMINGS', 'GARBAGE COLLECTION', 'RECYCLING - SINGLE STREAM', 'YARD TRIMMINGS-ORGANICS', 'RECYCLING - SINGLE STREAM', 'GARBAGE COLLECTION', 'GARBAGE COLLECTION', 'GARBAGE COLLECTION', 'BRUSH', 'RECYCLING - SINGLE STREAM', 'GARBAGE COLLECTION', 'GARBAGE COLLECTION', 'RECYCLING - SINGLE STREAM', 'GARBAGE COLLECTION', 'BULK', 'RECYCLING - SINGLE STREAM', 'KAB', 'BULK', 'GARBAGE COLLECTION', 'RECYCLING - SINGLE STREAM', 'BRUSH', 'BRUSH', 'RECYCLING - SINGLE STREAM', 'RECYCLING - SINGLE STREAM', 'RECYCLING DEAD END', 'GARBAGE COLLECTION', 'ON CALL BULK', 'YARD TRIMMINGS', 'RECYCLING - SINGLE STREAM', 'YARD TRIMMINGS-ORGANICS', 'YARD TRIMMINGS-ORGANICS', 'GARBAGE COLLECTION', 'BRUSH', 'RECYCLING - SINGLE STREAM', 'YARD TRIMMINGS', 'BULK', 'RECYCLING - SINGLE STREAM', 'BULK', 'RECYCLING - SINGLE STREAM', 'ON CALL BULK', 'RECYCLING - SINGLE STREAM', 'GARBAGE COLLECTION', 'GARBAGE COLLECTION', 'GARBAGE COLLECTION', 'GARBAGE COLLECTION', 'GARBAGE COLLECTION', 'RECYCLING - SINGLE STREAM', 'LITTER P/U', 'BULK', 'RECYCLING - SINGLE STREAM', 'GARBAGE COLLECTION', 'GARBAGE COLLECTION', 'GARBAGE COLLECTION', 'YARD TRIMMINGS-ORGANICS', 'BRUSH', 'GARBAGE COLLECTION', 'BULK', 'GARBAGE COLLECTION', 'RECYCLING - SINGLE STREAM', 'BULK', 'RECYCLING - SINGLE STREAM', 'RECYCLING - SINGLE STREAM', 'RECYCLING - SINGLE STREAM', 'GARBAGE COLLECTION', 'GARBAGE COLLECTION', 'RECYCLING - SINGLE STREAM', 'BULK', 'RECYCLING - SINGLE STREAM', 'GARBAGE COLLECTION', 'GARBAGE COLLECTION', 'GARBAGE COLLECTION', 'RECYCLING - SINGLE STREAM', 'RECYCLING - SINGLE STREAM', 'GARBAGE COLLECTION', 'GARBAGE COLLECTION', 'BRUSH', 'GARBAGE COLLECTION', 'RECYCLING - SINGLE STREAM', 'ON CALL BULK', 'RECYCLING - SINGLE STREAM', 'BRUSH', 'GARBAGE COLLECTION', 'RECYCLING - SINGLE STREAM', 'GARBAGE COLLECTION', 'GARBAGE COLLECTION', 'GARBAGE COLLECTION', 'YARD TRIMMINGS-ORGANICS', 'ON CALL BULK', 'RECYCLING - SINGLE STREAM', 'GARBAGE COLLECTION', 'SWEEPER DUMPSITES', 'BULK', 'RECYCLING - SINGLE STREAM', 'GARBAGE COLLECTION', 'GARBAGE COLLECTION', 'GARBAGE COLLECTION', 'GARBAGE COLLECTION', 'RECYCLING - SINGLE STREAM', 'GARBAGE COLLECTION', 'SWEEPER DUMPSITES', 'YARD TRIMMINGS-ORGANICS', 'YARD TRIMMINGS-ORGANICS', 'RECYCLING - SINGLE STREAM', 'RECYCLING - SINGLE STREAM', 'RECYCLING - SINGLE STREAM', 'GARBAGE COLLECTION', 'RECYCLING - SINGLE STREAM', 'BRUSH', 'GARBAGE COLLECTION', 'YARD TRIMMINGS', 'BULK', 'YARD TRIMMINGS-ORGANICS', 'BULK', 'RECYCLING - SINGLE STREAM', 'RECYCLING - SINGLE STREAM', 'GARBAGE COLLECTION', 'BULK', 'RECYCLING - SINGLE STREAM', 'RECYCLING - SINGLE STREAM', 'RECYCLING - SINGLE STREAM', 'BRUSH', 'RECYCLING - SINGLE STREAM', 'BULK', 'YARD TRIMMINGS-ORGANICS', 'GARBAGE COLLECTION', 'GARBAGE COLLECTION', 'RECYCLING - SINGLE STREAM', 'BRUSH', 'GARBAGE COLLECTION', 'RECYCLING - SINGLE STREAM', 'GARBAGE COLLECTION', 'BULK', 'GARBAGE COLLECTION', 'RECYCLING - SINGLE STREAM', 'RECYCLING - SINGLE STREAM', 'GARBAGE COLLECTION', 'RECYCLING - SINGLE STREAM', 'YARD TRIMMINGS', 'RECYCLING - SINGLE STREAM', 'GARBAGE COLLECTION', 'RECYCLING - SINGLE STREAM', 'RECYCLING - SINGLE STREAM', 'YARD TRIMMINGS-ORGANICS', 'YARD TRIMMINGS-ORGANICS', 'YARD TRIMMINGS', 'YARD TRIMMINGS-ORGANICS', 'BULK', 'GARBAGE COLLECTION', 'GARBAGE COLLECTION', 'YARD TRIMMINGS', 'GARBAGE COLLECTION', 'RECYCLING - SINGLE STREAM', 'GARBAGE COLLECTION', 'KAB', 'BULK', 'RECYCLING - SINGLE STREAM', 'YARD TRIMMINGS-ORGANICS', 'YARD TRIMMINGS', 'RECYCLING - SINGLE STREAM', 'GARBAGE COLLECTION', 'GARBAGE COLLECTION', 'GARBAGE COLLECTION', 'RECYCLING - SINGLE STREAM', 'RECYCLING - SINGLE STREAM', 'GARBAGE COLLECTION', 'GARBAGE COLLECTION', 'RECYCLING - SINGLE STREAM', 'RECYCLING - SINGLE STREAM', 'GARBAGE COLLECTION', 'GARBAGE COLLECTION', 'GARBAGE COLLECTION', 'GARBAGE COLLECTION', 'RECYCLING - SINGLE STREAM', 'BRUSH', 'GARBAGE COLLECTION', 'BRUSH', 'YARD TRIMMINGS-ORGANICS', 'ON CALL BULK', 'BULK', 'BULK', 'RECYCLING - SINGLE STREAM', 'SWEEPER DUMPSITES', 'RECYCLING - SINGLE STREAM', 'GARBAGE COLLECTION', 'RECYCLING - SINGLE STREAM', 'RECYCLING - SINGLE STREAM', 'YARD TRIMMINGS', 'GARBAGE COLLECTION', 'GARBAGE COLLECTION', 'BULK', 'KAB', 'RECYCLING - SINGLE STREAM', 'GARBAGE COLLECTION', 'YARD TRIMMINGS', 'RECYCLING - SINGLE STREAM', 'BRUSH', 'YARD TRIMMINGS-ORGANICS', 'RECYCLING - SINGLE STREAM', 'RECYCLING - SINGLE STREAM', 'RECYCLING - SINGLE STREAM', 'YARD TRIMMINGS', 'GARBAGE COLLECTION', 'RECYCLING - SINGLE STREAM', 'BRUSH', 'GARBAGE COLLECTION', 'GARBAGE COLLECTION', 'GARBAGE COLLECTION', 'GARBAGE COLLECTION', 'BULK', 'YARD TRIMMINGS-ORGANICS', 'GARBAGE COLLECTION', 'GARBAGE COLLECTION', 'YARD TRIMMINGS', 'RECYCLING - SINGLE STREAM', 'GARBAGE COLLECTION', 'BRUSH', 'BRUSH', 'YARD TRIMMINGS-ORGANICS', 'GARBAGE COLLECTION', 'RECYCLING - SINGLE STREAM', 'RECYCLING - SINGLE STREAM', 'GARBAGE COLLECTION', 'GARBAGE COLLECTION', 'YARD TRIMMINGS-ORGANICS', 'BULK', 'GARBAGE COLLECTION', 'RECYCLING - SINGLE STREAM', 'YARD TRIMMINGS-ORGANICS', 'GARBAGE COLLECTION', 'ON CALL BULK', 'BULK', 'GARBAGE COLLECTION', 'DEAD ANIMAL', 'GARBAGE COLLECTION', 'BULK', 'RECYCLING - SINGLE STREAM', 'RECYCLING - SINGLE STREAM', 'GARBAGE COLLECTION', 'GARBAGE COLLECTION', 'RECYCLING - SINGLE STREAM', 'GARBAGE COLLECTION', 'BRUSH', 'GARBAGE COLLECTION', 'ON CALL BULK', 'GARBAGE COLLECTION', 'RECYCLING - SINGLE STREAM', 'YARD TRIMMINGS', 'GARBAGE COLLECTION', 'RECYCLING - SINGLE STREAM', 'DEAD ANIMAL', 'GARBAGE COLLECTION', 'RECYCLING - SINGLE STREAM', 'YARD TRIMMINGS', 'BULK', 'RECYCLING - SINGLE STREAM', 'YARD TRIMMINGS', 'YARD TRIMMINGS-ORGANICS', 'GARBAGE COLLECTION', 'ON CALL BULK', 'GARBAGE COLLECTION', 'RECYCLING - SINGLE STREAM', 'SWEEPER DUMPSITES', 'YARD TRIMMINGS-ORGANICS', 'GARBAGE COLLECTION', 'BULK', 'YARD TRIMMINGS-ORGANICS', 'GARBAGE COLLECTION', 'RECYCLING - SINGLE STREAM', 'RECYCLING - SINGLE STREAM', 'RECYCLING - SINGLE STREAM', 'RECYCLING - SINGLE STREAM', 'YARD TRIMMINGS-ORGANICS', 'BULK', 'RECYCLING - SINGLE STREAM', 'GARBAGE COLLECTION', 'GARBAGE COLLECTION', 'GARBAGE COLLECTION', 'GARBAGE COLLECTION', 'RECYCLING - SINGLE STREAM', 'GARBAGE COLLECTION', 'RECYCLING - SINGLE STREAM', 'RECYCLING - SINGLE STREAM', 'RECYCLING - SINGLE STREAM', 'YARD TRIMMINGS', 'GARBAGE COLLECTION', 'BULK', 'RECYCLING - SINGLE STREAM', 'RECYCLING - SINGLE STREAM', 'GARBAGE COLLECTION', 'YARD TRIMMINGS-ORGANICS', 'RECYCLING - SINGLE STREAM', 'SWEEPER DUMPSITES', 'GARBAGE COLLECTION', 'BRUSH', 'BULK', 'YARD TRIMMINGS-ORGANICS', 'GARBAGE COLLECTION', 'RECYCLING DEAD END', 'RECYCLING - SINGLE STREAM', 'GARBAGE COLLECTION', 'RECYCLING - SINGLE STREAM', 'GARBAGE COLLECTION', 'RECYCLING - SINGLE STREAM', 'RECYCLING - SINGLE STREAM', 'LITTER P/U', 'BULK', 'YARD TRIMMINGS', 'RECYCLING - SINGLE STREAM', 'GARBAGE COLLECTION', 'BRUSH', 'YARD TRIMMINGS', 'GARBAGE COLLECTION', 'GARBAGE COLLECTION', 'YARD TRIMMINGS', 'RECYCLING - SINGLE STREAM', 'RECYCLING - SINGLE STREAM', 'GARBAGE COLLECTION', 'BULK', 'GARBAGE COLLECTION', 'BULK', 'GARBAGE COLLECTION', 'RECYCLING - SINGLE STREAM', 'RECYCLING - SINGLE STREAM', 'GARBAGE COLLECTION', 'BRUSH', 'GARBAGE COLLECTION', 'RECYCLING - SINGLE STREAM', 'RECYCLING - SINGLE STREAM', 'GARBAGE COLLECTION', 'RECYCLING - SINGLE STREAM', 'RECYCLING - SINGLE STREAM', 'GARBAGE COLLECTION', 'YARD TRIMMINGS', 'GARBAGE COLLECTION', 'RECYCLING - SINGLE STREAM', 'YARD TRIMMINGS', 'RECYCLING - SINGLE STREAM', 'RECYCLING - SINGLE STREAM', 'GARBAGE COLLECTION', 'GARBAGE COLLECTION', 'RECYCLING - SINGLE STREAM', 'BRUSH', 'YARD TRIMMINGS-ORGANICS', 'BRUSH', 'GARBAGE COLLECTION', 'YARD TRIMMINGS-ORGANICS', 'GARBAGE COLLECTION', 'RECYCLING - SINGLE STREAM', 'GARBAGE COLLECTION', 'RECYCLING - SINGLE STREAM', 'GARBAGE COLLECTION', 'ON CALL BULK', 'RECYCLING - SINGLE STREAM', 'GARBAGE COLLECTION', 'YARD TRIMMINGS-ORGANICS', 'RECYCLING - SINGLE STREAM', 'BRUSH', 'YARD TRIMMINGS', 'GARBAGE COLLECTION', 'BRUSH', 'YARD TRIMMINGS-ORGANICS', 'GARBAGE COLLECTION', 'RECYCLING - SINGLE STREAM', 'RECYCLING - SINGLE STREAM', 'RECYCLING - SINGLE STREAM', 'GARBAGE COLLECTION', 'SWEEPER DUMPSITES', 'BULK', 'RECYCLING - SINGLE STREAM', 'RECYCLING - SINGLE STREAM', 'GARBAGE COLLECTION', 'GARBAGE COLLECTION', 'GARBAGE COLLECTION', 'YARD TRIMMINGS-ORGANICS', 'ON CALL BULK', 'DEAD ANIMAL', 'RECYCLING - SINGLE STREAM', 'RECYCLING - SINGLE STREAM', 'GARBAGE COLLECTION', 'GARBAGE COLLECTION', 'BULK', 'RECYCLING - SINGLE STREAM', 'RECYCLING - SINGLE STREAM', 'YARD TRIMMINGS-ORGANICS', 'SWEEPER DUMPSITES', 'YARD TRIMMINGS-ORGANICS', 'GARBAGE COLLECTION', 'RECYCLING - SINGLE STREAM', 'RECYCLING DEAD END', 'BRUSH', 'BULK', 'GARBAGE COLLECTION', 'GARBAGE COLLECTION', 'YARD TRIMMINGS', 'GARBAGE COLLECTION', 'GARBAGE COLLECTION', 'GARBAGE COLLECTION', 'BRUSH', 'BRUSH', 'RECYCLING - SINGLE STREAM', 'GARBAGE COLLECTION', 'GARBAGE COLLECTION', 'YARD TRIMMINGS', 'GARBAGE COLLECTION', 'RECYCLING - SINGLE STREAM', 'RECYCLING - SINGLE STREAM', 'YARD TRIMMINGS', 'RECYCLING - SINGLE STREAM', 'RECYCLING - SINGLE STREAM', 'DEAD ANIMAL', 'GARBAGE COLLECTION', 'RECYCLING - SINGLE STREAM', 'RECYCLING - SINGLE STREAM', 'BULK', 'BULK', 'RECYCLING - SINGLE STREAM', 'GARBAGE COLLECTION', 'DEAD ANIMAL', 'GARBAGE COLLECTION', 'GARBAGE COLLECTION', 'YARD TRIMMINGS', 'BRUSH', 'RECYCLING - SINGLE STREAM', 'RECYCLING - SINGLE STREAM', 'YARD TRIMMINGS-ORGANICS', 'BULK', 'YARD TRIMMINGS', 'RECYCLING - SINGLE STREAM', 'GARBAGE COLLECTION', 'DEAD ANIMAL', 'BULK', 'RECYCLING - SINGLE STREAM', 'GARBAGE COLLECTION', 'YARD TRIMMINGS-ORGANICS', 'RECYCLING - SINGLE STREAM', 'YARD TRIMMINGS-ORGANICS', 'GARBAGE COLLECTION', 'GARBAGE COLLECTION', 'GARBAGE COLLECTION', 'RECYCLING DEAD END', 'GARBAGE COLLECTION', 'YARD TRIMMINGS', 'RECYCLING - SINGLE STREAM', 'BRUSH', 'YARD TRIMMINGS', 'GARBAGE COLLECTION', 'YARD TRIMMINGS-ORGANICS', 'RECYCLING - SINGLE STREAM', 'GARBAGE COLLECTION', 'RECYCLING - SINGLE STREAM', 'GARBAGE COLLECTION', 'GARBAGE COLLECTION', 'YARD TRIMMINGS-ORGANICS', 'BULK', 'YARD TRIMMINGS', 'YARD TRIMMINGS-ORGANICS', 'RECYCLING - SINGLE STREAM', 'KAB', 'GARBAGE COLLECTION', 'YARD TRIMMINGS-ORGANICS', 'GARBAGE COLLECTION', 'YARD TRIMMINGS-ORGANICS', 'GARBAGE COLLECTION', 'GARBAGE COLLECTION', 'GARBAGE COLLECTION', 'BRUSH', 'BULK', 'YARD TRIMMINGS-ORGANICS', 'RECYCLING - SINGLE STREAM', 'BULK', 'YARD TRIMMINGS', 'GARBAGE COLLECTION', 'RECYCLING - SINGLE STREAM', 'YARD TRIMMINGS', 'RECYCLING - SINGLE STREAM', 'YARD TRIMMINGS', 'RECYCLING - SINGLE STREAM', 'DEAD ANIMAL', 'YARD TRIMMINGS-ORGANICS', 'RECYCLING - SINGLE STREAM', 'BRUSH', 'SWEEPER DUMPSITES', 'GARBAGE COLLECTION', 'BRUSH', 'BULK', 'RECYCLING - SINGLE STREAM', 'GARBAGE COLLECTION', 'YARD TRIMMINGS', 'GARBAGE COLLECTION', 'YARD TRIMMINGS-ORGANICS', 'GARBAGE COLLECTION', 'GARBAGE COLLECTION', 'GARBAGE COLLECTION', 'YARD TRIMMINGS-ORGANICS', 'RECYCLING - SINGLE STREAM', 'GARBAGE COLLECTION', 'BULK', 'RECYCLING - SINGLE STREAM', 'SWEEPER DUMPSITES', 'RECYCLING - SINGLE STREAM', 'GARBAGE COLLECTION', 'RECYCLING - SINGLE STREAM', 'YARD TRIMMINGS-ORGANICS', 'RECYCLING - SINGLE STREAM', 'RECYCLING - SINGLE STREAM', 'SWEEPER DUMPSITES', 'GARBAGE COLLECTION', 'RECYCLING - SINGLE STREAM', 'RECYCLING - SINGLE STREAM', 'RECYCLING - SINGLE STREAM', 'YARD TRIMMINGS', 'BULK', 'GARBAGE COLLECTION', 'GARBAGE COLLECTION', 'GARBAGE COLLECTION', 'GARBAGE COLLECTION', 'GARBAGE COLLECTION', 'YARD TRIMMINGS', 'YARD TRIMMINGS', 'GARBAGE COLLECTION', 'GARBAGE COLLECTION', 'RECYCLING - SINGLE STREAM', 'BULK', 'GARBAGE COLLECTION', 'RECYCLING - SINGLE STREAM', 'RECYCLING - SINGLE STREAM', 'BULK', 'RECYCLING - SINGLE STREAM', 'RECYCLING - SINGLE STREAM', 'GARBAGE COLLECTION', 'GARBAGE COLLECTION', 'YARD TRIMMINGS-ORGANICS', 'BRUSH', 'YARD TRIMMINGS-ORGANICS', 'GARBAGE COLLECTION', 'RECYCLING - SINGLE STREAM', 'YARD TRIMMINGS-ORGANICS', 'GARBAGE COLLECTION', 'GARBAGE COLLECTION', 'RECYCLING - SINGLE STREAM', 'GARBAGE COLLECTION', 'GARBAGE COLLECTION', 'SWEEPER DUMPSITES', 'YARD TRIMMINGS-ORGANICS', 'YARD TRIMMINGS', 'GARBAGE COLLECTION', 'YARD TRIMMINGS-ORGANICS', 'RECYCLING - SINGLE STREAM', 'BULK', 'RECYCLING - SINGLE STREAM', 'BULK', 'RECYCLING - SINGLE STREAM', 'GARBAGE COLLECTION', 'GARBAGE COLLECTION', 'GARBAGE COLLECTION', 'RECYCLING - SINGLE STREAM', 'BRUSH', 'RECYCLING - SINGLE STREAM', 'GARBAGE COLLECTION', 'KAB', 'GARBAGE COLLECTION', 'RECYCLING - SINGLE STREAM', 'BRUSH', 'GARBAGE COLLECTION', 'RECYCLING - SINGLE STREAM', 'GARBAGE COLLECTION', 'GARBAGE COLLECTION', 'YARD TRIMMINGS', 'BRUSH', 'RECYCLING - SINGLE STREAM', 'GARBAGE COLLECTION', 'BULK', 'GARBAGE COLLECTION', 'GARBAGE COLLECTION', 'GARBAGE COLLECTION', 'YARD TRIMMINGS-ORGANICS', 'GARBAGE COLLECTION', 'BULK', 'YARD TRIMMINGS-ORGANICS', 'RECYCLING - SINGLE STREAM', 'RECYCLING - SINGLE STREAM', 'RECYCLING - SINGLE STREAM', 'BULK', 'RECYCLING - SINGLE STREAM', 'RECYCLING - SINGLE STREAM', 'RECYCLING - SINGLE STREAM', 'GARBAGE COLLECTION', 'KAB', 'BRUSH', 'GARBAGE COLLECTION', 'GARBAGE COLLECTION', 'BRUSH', 'YARD TRIMMINGS', 'YARD TRIMMINGS-ORGANICS', 'RECYCLING - SINGLE STREAM', 'RECYCLING DEAD END', 'RECYCLING - SINGLE STREAM', 'GARBAGE COLLECTION', 'RECYCLING - SINGLE STREAM', 'GARBAGE COLLECTION', 'RECYCLING - SINGLE STREAM', 'GARBAGE COLLECTION', 'RECYCLING - SINGLE STREAM', 'GARBAGE COLLECTION', 'YARD TRIMMINGS', 'RECYCLING - SINGLE STREAM', 'GARBAGE COLLECTION', 'GARBAGE COLLECTION', 'BULK', 'GARBAGE COLLECTION', 'GARBAGE COLLECTION', 'BRUSH', 'BULK', 'GARBAGE COLLECTION', 'GARBAGE COLLECTION', 'RECYCLING - SINGLE STREAM', 'BRUSH', 'BULK', 'RECYCLING - SINGLE STREAM', 'BRUSH', 'RECYCLING - SINGLE STREAM', 'RECYCLING - SINGLE STREAM', 'GARBAGE COLLECTION', 'GARBAGE COLLECTION', 'GARBAGE COLLECTION', 'BULK', 'GARBAGE COLLECTION', 'GARBAGE COLLECTION', 'RECYCLING - SINGLE STREAM', 'BRUSH', 'GARBAGE COLLECTION', 'GARBAGE COLLECTION', 'GARBAGE COLLECTION', 'RECYCLING - SINGLE STREAM', 'YARD TRIMMINGS-ORGANICS', 'BRUSH', 'RECYCLING - SINGLE STREAM', 'GARBAGE COLLECTION', 'GARBAGE COLLECTION', 'GARBAGE COLLECTION', 'BULK', 'RECYCLING - SINGLE STREAM', 'YARD TRIMMINGS-ORGANICS', 'RECYCLING - SINGLE STREAM', 'YARD TRIMMINGS-ORGANICS', 'GARBAGE COLLECTION', 'GARBAGE COLLECTION', 'BRUSH', 'YARD TRIMMINGS-ORGANICS', 'YARD TRIMMINGS-ORGANICS', 'BULK', 'YARD TRIMMINGS', 'RECYCLING - SINGLE STREAM', 'RECYCLING - SINGLE STREAM', 'GARBAGE COLLECTION', 'BRUSH', 'RECYCLING - SINGLE STREAM']",
            "count": 1
           }
          ]
         }
        },
        {
         "name": "Route Number",
         "dtype": "object",
         "stats": {
          "unique_count": 2,
          "nan_count": 0,
          "categories": [
           {
            "name": "['BR14', 'PAT88', 'PAW65', 'YT03', 'RWBS43', 'RWBU10', 'DA01', 'PH19', 'RMBS40', 'PF41', 'YF09', 'PW23', 'YF01', 'PAW50', 'PAT84', 'PH12', 'BU06', 'PAM61', 'RMBS33', 'YF05', 'DSS04', 'PAH80', 'PW39', 'BU06', 'PH24', 'PAM85', 'RTBS35', 'RTBU15', 'PAF67', 'PAW04', 'DSS04', 'PF22', 'RWBU25', 'PT40', 'YF06', 'DA02', 'YT02', 'PAT67', 'RMBU10', 'PAT50', 'PAH06', 'YM04', 'PAW53', 'YH09', 'RFBU20', 'PAM81', 'RFBS34', 'RWBU23', 'DT2', 'YW10', 'PAH60', 'PH40', 'RMBU11', 'RWBU11', 'PAH59', 'KAB07', 'IRM1', 'DH4', 'RWBU24', 'DM3', 'RMBU22', 'PH10', 'PAW52', 'PF14', 'PAW10', 'RHBU16', 'BU06', 'RFBU15', 'PAF70', 'YF02', 'RWBU22', 'BU06', 'PF32', 'PAT70', 'YH01', 'PAT69', 'PM12', 'PAW73', 'OM-1', 'DM2', 'RWBU10', 'PAT82', 'RFBU16', 'RTBU22', 'YH08', 'PAW09', 'PAW70', 'PW21', 'BRAKER SITE', 'PAW62', 'RHBU13', 'YW12', 'RHBS43', 'PAM73', 'BU06', 'PW41', 'BR14', 'DF1', 'PAF59', 'DT3', 'PW31', 'PAW06', 'RHBU26', 'PAF54', 'DSS04', 'YHP', 'PAH73', 'RWBU24', 'PAT79', 'PAW63', 'YT12', 'CAPBU-01', 'RMBU21', 'PT10', 'PAH84', 'RMBU15', 'DF2', 'PAH50', 'RHBU11', 'PAM52', 'RTBU16', 'PM23', 'RWBU21', 'YT03', 'RHBU21', 'RHBU10', 'PAF04', 'RWBU23', 'RFBS35', 'OF2', 'RWAS42', 'YT09', 'PM32', 'RTBU12', 'PAM78', 'PAT83', 'PF21', 'BU06', 'YF08', 'PW39', 'PM41', 'PT39', 'PAW85', 'PT24', 'RTBU26', 'OT1', 'PAF56', 'RWBU13', 'PAH01', 'PW20', 'IRW1', 'BU06', 'RWBU20', 'YH04', 'PM19', 'YM01', 'PAM05', 'RWBU15', 'CAPBU-01', 'PAW55', 'RHBU22', 'PAM62', 'PAM84', 'DA01', 'PAF72', 'RTBS34', 'PAH79', 'OW2', 'PAM75', 'RMBU26', 'PAM02', 'PAM70', 'BU06', 'BU06', 'PAM03', 'BU06', 'PAM65', 'YBH00', 'YW02', 'PF32', 'RHBS33', 'RFBU23', 'PAM60', 'BR14', 'PH41', 'YF04', 'PAT81', 'PAF03', 'RFBU22', 'RMBU10', 'RMBU10', 'PAH69', 'PAW84', 'PAH02', 'PAF60', 'PAM03', 'PAW72', 'PAF10', 'PAM74', 'DSS04', 'RTBU12', 'DA02', 'PAM61', 'RMBU24', 'PAM72', 'PF21', 'PH22', 'RFBS40', 'PF19', 'PW23', 'DSE02', 'PAF71', 'PAF52', 'PF24', 'PAM04', 'BU06', 'PF23', 'PAF09', 'YBF00', 'RHBU11', 'RMBU26', 'RWAS41', 'DSS04', 'YF06', 'PF30', 'RWBU13', 'PAF62', 'PH30', 'RFBU10', 'PAT74', 'RMBU14', 'YBT00', 'PM22', 'RWBS33', 'PAM06', 'DH3', 'RMBU14', 'PAM73', 'PAM83', 'RWBU22', 'OM2', 'RMBU24', 'PW10', 'PAM79', 'BR14', 'PAW88', 'PF33', 'IRT1', 'PH32', 'RTBU26', 'RWBU12', 'PAM87', 'PF23', 'RMBU15', 'BU06', 'PAF51', 'PAM06', 'YT01', 'PAH10', 'DT4', 'BU06', 'PAH70', 'YBW00', 'PAF56', 'RTBS40', 'DF4', 'PAF81', 'RMBS43', 'PF39', 'DT1', 'PM21', 'RWBU14', 'PAT72', 'BU06', 'RHBU16', 'RTBU22', 'PAF78', 'PT30', 'DA01', 'YH02', 'PAM51', 'RTBS41', 'PAW02', 'RFBS41', 'RHBU24', 'PAF63', 'PAH51', 'RMBU23', 'PAH87', 'PAM51', 'RMBU14', 'RFBU21', 'PAH81', 'PAH75', 'PW32', 'RTBU15', 'YBW00', 'YT10', 'RHBS43', 'PW12', 'RMBU16', 'OH1', 'RHBU25', 'RMBU16', 'YM02', 'PAH83', 'RTBU13', 'PH30', 'PAM01', 'RWBU15', 'RWBS33', 'PAH72', 'RWBU11', 'PAT51', 'BU06', 'PT10', 'RMBS42', 'YF04', 'RMBU11', 'PT21', 'OT2', 'PAS59', 'BU06', 'PF20', 'RMBS41', 'PM30', 'RFBU24', 'PH40', 'RHBS35', 'PH21', 'DT4', 'OH-2', 'DA01', 'RHBS40', 'RMBU12', 'BU06', 'RTBU11', 'RWBU15', 'PT30', 'PAW72', 'RFBU22', 'PAM02', 'KAB06', 'YH03', 'PF14', 'RHBU24', 'PW41', 'PAH82', 'PAT63', 'YW08', 'PAM74', 'DW2', 'PAT78', 'YH07', 'YM03', 'PAW71', 'YBT00', 'YF05', 'BR14', 'RMBU23', 'PAW67', 'PAT04', 'YT04', 'RHBU13', 'RMBU26', 'RWBU26', 'PAW73', 'RHBU24', 'PAM80', 'RTBU10', 'YBT00', 'PAW54', 'PAH64', 'PAF56', 'YW03', 'RFBU25', 'YH07', 'BU06', 'PAH78', 'RFBS33', 'PAF79', 'RMBU25', 'RHBU21', 'PAH62', 'RFBU11', 'PAF53', 'OW1', 'RMBU22', 'PAF61', 'PAH52', 'BU06', 'RWBS34', 'RMBU20', 'DSS04', 'RWBU14', 'PH39', 'RWAS42', 'YW09', 'PAH53', 'PAH67', 'RMBU26', 'PAF50', 'DH1', 'YW07', 'RTBU10', 'RFBU11', 'PM30', 'DF3', 'PAT67', 'YT05', 'YF10', 'YBF00', 'RFBU21', 'PAT53', 'CAPBU-01', 'PT24', 'YT08', 'RHBU13', 'RMBU14', 'BR14', 'RWBU16', 'PAF78', 'RFBU13', 'PAW81', 'PM10', 'KAB06', 'BU06', 'RFBS41', 'PAM69', 'BU06', 'PT22', 'DSE02', 'PAT59', 'RWBS43', 'PAT03', 'BR14', 'PAT71', 'BR14', 'PAM72', 'PAH54', 'PAF87', 'YH03', 'RHBU15', 'PAW01', 'DT1', 'BR14', 'PAT52', 'PAT62', 'RMBU16', 'YBT00', 'RWAS40', 'PAT02', 'BU06', 'PAT60', 'PW22', 'YH06', 'DF2', 'YF02', 'PAT61', 'BU06', 'RMBS35', 'RWBU16', 'RHBU13', 'PAM50', 'PW11', 'RFBU20', 'RMBU20', 'YF07', 'YH02', 'PF41', 'PAF69', 'PAM71', 'RFBU22', 'PAF67', 'PF40', 'RMBS43', 'PAH09', 'RFBU24', 'BU06', 'BU06', 'RHBU22', 'YH11', 'PAT73', 'RHBU12', 'YF09', 'RTBS43', 'RMBS34', 'PAT80', 'PAM10', 'RMBU26', 'RFBS42', 'RHBS33', 'PAM54', 'RTBS43', 'PM32', 'RMBS33', 'RWBU23', 'RFBU22', 'RHBU20', 'YW09', 'DF1', 'RMBU26', 'PAT01', 'PW19', 'IRH1', 'PT23', 'RWBS35', 'RFBS42', 'RTBU21', 'DF2', 'YH10', 'RHBU20', 'RFBU16', 'RTBU23', 'PAW87', 'PM42', 'RMBU12', 'PAM04', 'YH13', 'YF03', 'RMBU14', 'BRAKER SITE', 'PH42', 'BU06', 'YW01', 'PAT88', 'RFBU20', 'PAM64', 'PH14', 'PAW79', 'PAM53', 'PF20', 'PAW03', 'PAW10', 'RHBU10', 'RFBU14', 'BU06', 'BRAKER SITE', 'YW03', 'YBT00', 'PAM78', 'YH12', 'YHP', 'RHBS34', 'YW05', 'BU06', 'BR14', 'BU06', 'PAM70', 'RFBU11', 'PH20', 'DSS04', 'PT41', 'YBF00', 'PAT09', 'PF10', 'PAH88', 'YBF00', 'PAF88', 'YW04', 'DM1', 'DW3', 'PAW05', 'RHBU14', 'PM31', 'RTBU20', 'RFBU11', 'PW40', 'RTBU20', 'YH10', 'PW30', 'PAW83', 'PAM54', 'PH11', 'RWBS35', 'YT10', 'YH06', 'RFBU14', 'DSE02', 'RWBU21', 'RFAS35', 'PAH05', 'BR14', 'RMBU21', 'PAW61', 'YBW00', 'PAT87', 'BU06', 'PAW74', 'RHBU14', 'PAH74', 'PAM01', 'DSS04', 'BU06', 'BU06', 'RWBS41', 'YH04', 'PAF80', 'OF1', 'PAH04', 'PAF01', 'RTBU26', 'PAH61', 'DSS04', 'RHBU23', 'PAM09', 'PAM63', 'PAH03', 'RWBU25', 'PAT10', 'YT07', 'YM04', 'PM11', 'PAW51', 'RFBU10', 'PT19', 'RWBU21', 'PT42', 'RHBS42', 'PAW78', 'RTBU21', 'PH42', 'PAW59', 'RFBU13', 'YW06', 'PAW69', 'DSS04', 'PAM53', 'YBH00', 'DH2', 'RTBS33', 'YF08', 'DSS04', 'RFBS33', 'DA01', 'RMBU25', 'PH31', 'RWBS40', 'KAB04', 'BU06', 'BU06', 'DSS04', 'PAW82', 'RWBU15', 'YBW00', 'PW14', 'DT3', 'PAH65', 'RWBU12', 'RMBU25', 'RMBU23', 'PAW60', 'PM23', 'PAF83', 'BR14', 'YF01', 'PAM50', 'RMBU11', 'PAW80', 'PF22', 'DW1', 'RTBU11', 'RHBU26', 'PAH63', 'RMBU24', 'PT31', 'PF11', 'BU06', 'BU06', 'PAM82', 'PAM71', 'RTBU13', 'PT11', 'PF13', 'RFBU23', 'PAF73', 'YF10', 'PAF02', 'PAT56', 'PAW64', 'RTBS33', 'PAH71', 'PM20', 'PM40', 'YHP', 'DSS04', 'PF30', 'BU06', 'RHBU12', 'YBH00', 'PW24', 'YT06', 'BU06', 'RWBU26', 'RWBU20', 'YH01', 'PAT54']",
            "count": 1
           },
           {
            "name": "['PAM53', 'RTAU22', 'YBM00', 'PAW63', 'PAM85', 'BU16', 'RMAU52', 'PAW51', 'RHAU22', 'YM04', 'RFBU51', 'PAT62', 'PT31', 'PAH53', 'BU16', 'RHAS34', 'BU16', 'DT5', 'YW03', 'OH-11', 'RWAS40', 'PAF70', 'BR24', 'OW8', 'BU16', 'PAM72', 'PAT51', 'PM40', 'RMAS41', 'PAM71', 'PAW83', 'PAF79', 'OCPBU23', 'PAT78', 'OH-3', 'BR24', 'PAT54', 'DF3', 'BU16', 'PAT04', 'RFAU11', 'RWAU53', 'PAH02', 'BR24', 'RWAU11', 'PAH84', 'BU16', 'PAH83', 'OW7', 'BR24', 'PH12', 'RFAU23', 'OT2', 'PF24', 'PW41', 'RMAU20', 'RTAS34', 'OBT00', 'PAT82', 'PAH80', 'PAW52', 'RMAU12', 'BU16', 'PT14', 'BU16', 'DH1', 'RTAU11', 'DA01', 'RHAU23', 'DA01', 'YF09', 'OW12', 'RHAU20', 'PAW71', 'DSS04', 'PT11', 'RFAU52', 'PAW54', 'OH-6', 'PAT71', 'RWAU12', 'PM12', 'RHAU12', 'PW41', 'PT30', 'RHAS41', 'PAW02', 'OM4', 'RTAU51', 'YW06', 'PAT01', 'RHAU10', 'DSS04', 'PAT87', 'RFAU10', 'PAT52', 'RMAU22', 'IRM1', 'YT01', 'PF22', 'RWAU14', 'OT11', 'RTAU13', 'PAF10', 'PAM63', 'PAM52', 'BR24', 'RWAS35', 'PAM54', 'PW11', 'RFAU24', 'PAT84', 'BU16', 'RFAU20', 'KAB04', 'BU16', 'PAF51', 'RMAU21', 'BR24', 'BR24', 'RTAS34', 'RWAS34', 'DW5', 'PAW70', 'OCPBU23', 'YW10', 'RWAU23', 'OW10', 'OF3', 'PAM82', 'BR24', 'RWAU50', 'YH02', 'BU16', 'RFAS34', 'BU16', 'RMAU13', 'OCPBU23', 'RMAU21', 'PAF53', 'PAW02', 'PH40', 'PAH74', 'PAM02', 'RHAU21', 'LC01', 'BU16', 'RTAU11', 'PAF82', 'PF30', 'PAW83', 'OH-5', 'BR24', 'PAT63', 'BU16', 'PH24', 'RWAS42', 'BU16', 'RWAU53', 'RHAU52', 'RWAU21', 'PAH75', 'PAT61', 'RTAU22', 'BU16', 'RWAS33', 'PT10', 'PAM72', 'PAW54', 'RWAU52', 'RMAU11', 'PF39', 'PW12', 'BR24', 'PAF87', 'RWAU12', 'OCPBU23', 'RMAS34', 'BR24', 'PAH09', 'RMAU50', 'PW19', 'PAW62', 'PAM65', 'OF1', 'OCPBU23', 'DH3', 'PAW04', 'DSS04', 'BU16', 'RFAU23', 'PF19', 'PAM61', 'PAF09', 'PH39', 'RFAU13', 'PM23', 'DSS04', 'OBW00', 'OM10', 'RTAU50', 'RTAU12', 'RTAU51', 'PAW79', 'RHAU52', 'BR24', 'PAF78', 'YT09', 'BU16', 'OT13', 'BU16', 'RHAU53', 'RHAU51', 'PAH06', 'BU16', 'RHAS40', 'RWAU14', 'RHAU11', 'BR24', 'RWAU13', 'BU16', 'OT3', 'PAW60', 'PAF71', 'RTAU52', 'BR24', 'PAH61', 'RHAU11', 'PAH69', 'BU16', 'PW33', 'DW1', 'RMAU53', 'PAW09', 'RFAU24', 'YW01', 'RFAS33', 'PAF73', 'RFAU12', 'RMAS35', 'OBT00', 'OT10', 'YT07', 'OT7', 'BU16', 'PAW84', 'PAW50', 'YH01', 'PAW71', 'DT1', 'PAW74', 'KAB04', 'BU16', 'RWAU53', 'OF5', 'YF07', 'RFAU10', 'PAS59', 'PF20', 'PAW72', 'RTAS41', 'RFAU52', 'PF21', 'PAM01', 'RWAU52', 'RTAS42', 'PAW73', 'PAT80', 'PAM71', 'PAT50', 'RWAU20', 'BR24', 'PAW87', 'BR24', 'OT5', 'OCPBU09', 'BU16', 'BU16', 'RTAU12', 'DSS01', 'DT4', 'PAF04', 'RHAU13', 'RTAU53', 'YM05', 'PAH70', 'PAM01', 'BU16', 'KAB03', 'RHAU50', 'PAM09', 'YF01', 'RFAU51', 'BR24', 'OT1', 'DF4', 'RWAU10', 'RTAU20', 'YW07', 'PT40', 'RFBU50', 'BR24', 'PH42', 'PAT79', 'PAM87', 'PAT09', 'BU16', 'OF15', 'PAH52', 'PH19', 'YT02', 'RFAS33', 'PH42', 'BR24', 'BR24', 'OT8', 'PAF52', 'RFAU13', 'RFAU21', 'PAT83', 'PAM69', 'OF14', 'BU16', 'PT39', 'RHAU23', 'OT1', 'PAW59', 'OCPBU09', 'BU16', 'PAH51', 'DA01', 'PAW78', 'BU16', 'RFAS43', 'RMAS34', 'PAF80', 'PAT74', 'RWAU52', 'PH30', 'BR24', 'PAF81', 'OCPBU09', 'PAH54', 'RMAU51', 'YH04', 'PH32', 'RHAS33', 'DA01', 'PAF59', 'RWAU12', 'YF02', 'BU16', 'RMAU10', 'YH11', 'OM5', 'PAH83', 'OCPBU23', 'PM30', 'RTAU21', 'DSS04', 'OH-5', 'PAW05', 'BU16', 'OM-1', 'PAM05', 'RWAU13', 'RWAU25', 'RWAS41', 'RMAU52', 'OW3', 'BU16', 'RFAU20', 'PAH81', 'PAM75', 'PM11', 'PF10', 'RMAS40', 'PAT03', 'RFAU52', 'RHAU20', 'RFAU50', 'YT03', 'PW31', 'BU16', 'RMAU23', 'RMAU23', 'PH41', 'OH-7', 'RTAS35', 'DSS04', 'PW10', 'BR24', 'BU16', 'OM8', 'PAH03', 'DT5', 'RMAS41', 'PW32', 'RFAS35', 'PT41', 'RFAU52', 'RHAU53', 'LC01', 'BU16', 'YW11', 'RHAU52', 'PT21', 'BR24', 'YH03', 'PAM70', 'PT19', 'YF04', 'RFAS41', 'RHAU23', 'PAM62', 'BU16', 'PAM74', 'BU16', 'PH31', 'RMAU20', 'RTAS41', 'PAH64', 'BR24', 'PAF50', 'DM1', 'RFAU21', 'PW20', 'RFAU12', 'RWAU51', 'PAH10', 'YM06', 'PAH01', 'RTAS35', 'YW02', 'RFBU50', 'RHAU22', 'PAT73', 'PAW06', 'RMAU23', 'BR24', 'OW6', 'BR24', 'PM10', 'OH-12', 'PAM03', 'RTAU23', 'PAF01', 'RHAS40', 'PAM04', 'OCPBU09', 'RMAU53', 'PAT53', 'OF7', 'DF2', 'BR24', 'YM10', 'PF32', 'BR24', 'OW1', 'PAF67', 'RMAU11', 'RMAU22', 'RTAU21', 'PW22', 'DSS04', 'BU16', 'RTAS34', 'RMAS42', 'PAH87', 'PAM64', 'PF40', 'OF12', 'OCPBU09', 'DA02', 'RMAU50', 'DW3', 'PAT60', 'PAF02', 'BU16', 'RTAU14', 'RHAU11', 'OT4', 'DSS04', 'OH-13', 'PF33', 'RHAU24', 'DH5', 'BR24', 'BU16', 'PAW55', 'PAF54', 'YT10', 'PH21', 'PF39', 'PAW80', 'BR24', 'BR24', 'RHAS34', 'PH11', 'PAM70', 'YH07', 'PAM51', 'RWAU12', 'RWAU25', 'YBH00', 'DT1', 'RHAU21', 'DA02', 'PW41', 'RMAU23', 'RMAS35', 'BU16', 'BU16', 'RTAU50', 'PM41', 'DA01', 'PAT69', 'PAT64', 'YT06', 'BR24', 'RWAS34', 'RWAS35', 'OF2', 'BU16', 'YT09', 'RWAU21', 'PF11', 'DA02', 'BU16', 'RTAS33', 'PH20', 'OM2', 'RMAU12', 'OM7', 'PAH82', 'PM19', 'PAM60', 'DF5', 'PAW72', 'YW05', 'RFAU11', 'BR24', 'YH10', 'PAT03', 'OF13', 'RTAU10', 'PAM79', 'RHAU10', 'PAF63', 'PM22', 'OW12', 'BU16', 'YM02', 'OBW99', 'DF1', 'KAB03', 'PAW01', 'OBH99', 'PAW74', 'OW4', 'PAH63', 'PAW06', 'PM21', 'BR24', 'BU16', 'OH-4', 'RHAU24', 'BU16', 'YW11', 'PAF03', 'RHAU50', 'YF03', 'RMAU10', 'YM01', 'RFAS35', 'DA02', 'OBM00', 'RWAU11', 'BR24', 'DSS04', 'PAW85', 'BR24', 'BU16', 'RHAU51', 'PAH73', 'YH05', 'PAW81', 'OBT00', 'PAH62', 'PAF10', 'PAT59', 'OF8', 'RWAU25', 'PAM80', 'BU16', 'DH4', 'DSS04', 'RFAU51', 'PAM74', 'RHAU51', 'OT6', 'RFAS41', 'RWAU22', 'DSS04', 'PAH04', 'RWAU20', 'RWAU10', 'RWAU24', 'YW06', 'BU16', 'PAW01', 'PAF83', 'PM20', 'PAF69', 'PAT70', 'YM07', 'YW04', 'PAM73', 'PAW04', 'RHAU11', 'BU16', 'PH12', 'RTAU53', 'DM4', 'BU16', 'RHAU13', 'RFAU53', 'PAM50', 'PAT10', 'OM11', 'BR24', 'OF6', 'PT20', 'RHAS35', 'OF4', 'PAM05', 'PAT02', 'RTAU21', 'PAM73', 'PM31', 'DSS04', 'OW1', 'YM09', 'PAW65', 'OM13', 'RFAU22', 'BU16', 'RHAS35', 'BU16', 'RMAS35', 'PAW69', 'PT39', 'PAM06', 'RMAU13', 'BR24', 'RTAU52', 'PAM06', 'KAB07', 'PW21', 'RWAU23', 'BR24', 'PAF60', 'RMAU52', 'PAH65', 'PAH59', 'YM01', 'BR24', 'RTAU10', 'PH10', 'BU16', 'PAM84', 'PAH50', 'PAW64', 'OH-8', 'PAW53', 'BU16', 'OT12', 'RHAU25', 'RWAU50', 'RTAU23', 'BU16', 'RWAS35', 'RHAU52', 'RHAU12', 'PAT67', 'KAB07', 'BR24', 'PAW73', 'PAH71', 'BR24', 'YBH00', 'OBF00', 'RTAU53', 'DM5', 'DH1', 'PAM04', 'RWAU51', 'PAH60', 'RWAU51', 'PAF62', 'RFAU53', 'PAW61', 'YF06', 'RWAS33', 'PW30', 'PAF72', 'BU16', 'PAT72', 'PAW03', 'BR24', 'BU16', 'PAM02', 'PAF61', 'RTAU13', 'BR24', 'BU16', 'RTAS40', 'BR24', 'RTAU14', 'RFAS42', 'PAM75', 'PAH79', 'PW40', 'BU16', 'PM32', 'PM42', 'RTAU21', 'BR24', 'PF41', 'PAH72', 'PAT81', 'RHAU23', 'OW11', 'BR24', 'RHAS43', 'PT42', 'PAW82', 'PW23', 'BU16', 'RMAS33', 'OH-2', 'RWAU22', 'OM12', 'PH23', 'PAM81', 'BR24', 'OW5', 'OM6', 'BU16', 'YH06', 'RFAU22', 'RMAU52', 'PAM03', 'BR24', 'RFAS34']",
            "count": 1
           }
          ]
         }
        },
        {
         "name": "Year",
         "dtype": "int64",
         "stats": {
          "unique_count": 2,
          "nan_count": 0,
          "min": "2016",
          "max": "2019",
          "histogram": [
           {
            "bin_start": 2016,
            "bin_end": 2016.3,
            "count": 1
           },
           {
            "bin_start": 2016.3,
            "bin_end": 2016.6,
            "count": 0
           },
           {
            "bin_start": 2016.6,
            "bin_end": 2016.9,
            "count": 0
           },
           {
            "bin_start": 2016.9,
            "bin_end": 2017.2,
            "count": 0
           },
           {
            "bin_start": 2017.2,
            "bin_end": 2017.5,
            "count": 0
           },
           {
            "bin_start": 2017.5,
            "bin_end": 2017.8,
            "count": 0
           },
           {
            "bin_start": 2017.8,
            "bin_end": 2018.1,
            "count": 0
           },
           {
            "bin_start": 2018.1,
            "bin_end": 2018.4,
            "count": 0
           },
           {
            "bin_start": 2018.4,
            "bin_end": 2018.7,
            "count": 0
           },
           {
            "bin_start": 2018.7,
            "bin_end": 2019,
            "count": 1
           }
          ]
         }
        },
        {
         "name": "_deepnote_index_column",
         "dtype": "int64"
        }
       ],
       "rows": [
        {
         "Date": "2016-12-18",
         "Load Type": "['BRUSH', 'GARBAGE COLLECTIONS', 'GARBAGE COLLECTIONS', 'YARD TRIMMING', 'RECYCLING - SINGLE STREAM…",
         "Load Weight": 8728842,
         "Dropoff Site": "['HORNSBY BEND', 'TDS LANDFILL', 'TDS LANDFILL', 'HORNSBY BEND', 'BALCONES RECYCLING', 'BALCONES RE…",
         "Route Type": "['BRUSH', 'GARBAGE COLLECTION', 'GARBAGE COLLECTION', 'YARD TRIMMINGS', 'RECYCLING - SINGLE STREAM'…",
         "Route Number": "['BR14', 'PAT88', 'PAW65', 'YT03', 'RWBS43', 'RWBU10', 'DA01', 'PH19', 'RMBS40', 'PF41', 'YF09', 'P…",
         "Year": 2016,
         "_deepnote_index_column": 155
        },
        {
         "Date": "2019-06-09",
         "Load Type": "['GARBAGE COLLECTIONS', 'RECYCLING - SINGLE STREAM', 'YARD TRIMMING', 'GARBAGE COLLECTIONS', 'GARBA…",
         "Load Weight": 10328549,
         "Dropoff Site": "['TDS LANDFILL', 'TDS - MRF', 'HORNSBY BEND', 'TDS LANDFILL', 'TDS LANDFILL', 'TDS LANDFILL', 'TDS …",
         "Route Type": "['GARBAGE COLLECTION', 'RECYCLING - SINGLE STREAM', 'YARD TRIMMINGS', 'GARBAGE COLLECTION', 'GARBAG…",
         "Route Number": "['PAM53', 'RTAU22', 'YBM00', 'PAW63', 'PAM85', 'BU16', 'RMAU52', 'PAW51', 'RHAU22', 'YM04', 'RFBU51…",
         "Year": 2019,
         "_deepnote_index_column": 284
        }
       ]
      },
      "text/plain": "           Date                                          Load Type  \\\n155  2016-12-18  [BRUSH, GARBAGE COLLECTIONS, GARBAGE COLLECTIO...   \n284  2019-06-09  [GARBAGE COLLECTIONS, RECYCLING - SINGLE STREA...   \n\n        Load Weight                                       Dropoff Site  \\\n155  8728842.000000  [HORNSBY BEND, TDS LANDFILL, TDS LANDFILL, HOR...   \n284 10328549.000000  [TDS LANDFILL, TDS - MRF, HORNSBY BEND, TDS LA...   \n\n                                            Route Type  \\\n155  [BRUSH, GARBAGE COLLECTION, GARBAGE COLLECTION...   \n284  [GARBAGE COLLECTION, RECYCLING - SINGLE STREAM...   \n\n                                          Route Number  Year  \n155  [BR14, PAT88, PAW65, YT03, RWBS43, RWBU10, DA0...  2016  \n284  [PAM53, RTAU22, YBM00, PAW63, PAM85, BU16, RMA...  2019  ",
      "text/html": "<div>\n<style scoped>\n    .dataframe tbody tr th:only-of-type {\n        vertical-align: middle;\n    }\n\n    .dataframe tbody tr th {\n        vertical-align: top;\n    }\n\n    .dataframe thead th {\n        text-align: right;\n    }\n</style>\n<table border=\"1\" class=\"dataframe\">\n  <thead>\n    <tr style=\"text-align: right;\">\n      <th></th>\n      <th>Date</th>\n      <th>Load Type</th>\n      <th>Load Weight</th>\n      <th>Dropoff Site</th>\n      <th>Route Type</th>\n      <th>Route Number</th>\n      <th>Year</th>\n    </tr>\n  </thead>\n  <tbody>\n    <tr>\n      <th>155</th>\n      <td>2016-12-18</td>\n      <td>[BRUSH, GARBAGE COLLECTIONS, GARBAGE COLLECTIO...</td>\n      <td>8728842.000000</td>\n      <td>[HORNSBY BEND, TDS LANDFILL, TDS LANDFILL, HOR...</td>\n      <td>[BRUSH, GARBAGE COLLECTION, GARBAGE COLLECTION...</td>\n      <td>[BR14, PAT88, PAW65, YT03, RWBS43, RWBU10, DA0...</td>\n      <td>2016</td>\n    </tr>\n    <tr>\n      <th>284</th>\n      <td>2019-06-09</td>\n      <td>[GARBAGE COLLECTIONS, RECYCLING - SINGLE STREA...</td>\n      <td>10328549.000000</td>\n      <td>[TDS LANDFILL, TDS - MRF, HORNSBY BEND, TDS LA...</td>\n      <td>[GARBAGE COLLECTION, RECYCLING - SINGLE STREAM...</td>\n      <td>[PAM53, RTAU22, YBM00, PAW63, PAM85, BU16, RMA...</td>\n      <td>2019</td>\n    </tr>\n  </tbody>\n</table>\n</div>"
     },
     "metadata": {}
    }
   ]
  },
  {
   "cell_type": "code",
   "metadata": {
    "cell_id": "b6d4e586396f41748a9b38d41fb5ad53",
    "tags": [],
    "deepnote_to_be_reexecuted": false,
    "source_hash": "68bc63c0",
    "execution_start": 1648029976144,
    "execution_millis": 12,
    "deepnote_cell_type": "code",
    "deepnote_cell_height": 154.1875,
    "deepnote_output_heights": [
     21.1875
    ]
   },
   "source": "all_dates_pre = pd.date_range(\n  start=\"2014-01-01\", end=\"2019-12-28\", freq = \"W\")\nall_dates_pre.difference(df_pre_covid['Date'])",
   "execution_count": 69,
   "outputs": [
    {
     "output_type": "execute_result",
     "execution_count": 69,
     "data": {
      "text/plain": "DatetimeIndex([], dtype='datetime64[ns]', freq=None)"
     },
     "metadata": {}
    }
   ]
  },
  {
   "cell_type": "markdown",
   "source": "#### Covid (2020) and Post Covid (2021) Data\nAs there will be only 52 weeks of data in each of these two time divisions, for better analysis: lets group on daily basis",
   "metadata": {
    "cell_id": "06b4b62b11b34df6a7347a6f22ec5406",
    "tags": [],
    "deepnote_cell_type": "markdown",
    "deepnote_cell_height": 88.390625
   }
  },
  {
   "cell_type": "code",
   "metadata": {
    "cell_id": "aff5334b75884fa0817db5131dc17fd1",
    "tags": [],
    "deepnote_to_be_reexecuted": false,
    "source_hash": "c22a7170",
    "execution_start": 1648029980841,
    "execution_millis": 630,
    "deepnote_cell_type": "code",
    "deepnote_cell_height": 373
   },
   "source": "df_daily = df.copy().drop(columns = ['Report Date', 'Load ID', 'Month', 'Day', 'Hour', 'WeekDate'])\ndf_daily['Date'] = df_daily['Load Time'].dt.date\ndf_daily = df_daily[(df_daily['Year']>2019) & (df_daily['Year']<2022)]\n\ndf_daily_grouped = df_daily.copy().drop(columns = [\"Load Time\"])\ndf_daily_grouped = df_daily_grouped.groupby('Date').agg(list)\ndf_daily_grouped['Load Weight'] = df_daily_grouped['Load Weight'].apply(lambda x: np.nansum(x))\ndf_daily_grouped['Year'] = df_daily_grouped['Year'].apply(lambda x: x[0])\ndf_daily_grouped.sample()",
   "execution_count": 70,
   "outputs": [
    {
     "output_type": "execute_result",
     "execution_count": 70,
     "data": {
      "application/vnd.deepnote.dataframe.v3+json": {
       "column_count": 6,
       "row_count": 1,
       "columns": [
        {
         "name": "Load Type",
         "dtype": "object",
         "stats": {
          "unique_count": 1,
          "nan_count": 0,
          "categories": [
           {
            "name": "['GARBAGE COLLECTIONS', 'GARBAGE COLLECTIONS', 'RECYCLING - SINGLE STREAM', 'SWEEPING', 'ORGANICS', 'RECYCLING - SINGLE STREAM', 'GARBAGE COLLECTIONS', 'YARD TRIMMING', 'ORGANICS', 'GARBAGE COLLECTIONS', 'RECYCLING - SINGLE STREAM', 'RECYCLING - SINGLE STREAM', 'ORGANICS', 'YARD TRIMMING', 'GARBAGE COLLECTIONS', 'YARD TRIMMING', 'ORGANICS', 'RECYCLING - SINGLE STREAM', 'RECYCLING - SINGLE STREAM', 'ORGANICS', 'RECYCLING - SINGLE STREAM', 'GARBAGE COLLECTIONS', 'RECYCLING - SINGLE STREAM', 'SWEEPING', 'ORGANICS', 'YARD TRIMMING', 'GARBAGE COLLECTIONS', 'ORGANICS', 'RECYCLING - SINGLE STREAM', 'RECYCLING - SINGLE STREAM', 'ORGANICS', 'RECYCLING - SINGLE STREAM', 'RECYCLING - SINGLE STREAM', 'GARBAGE COLLECTIONS', 'ORGANICS', 'ORGANICS', 'RECYCLING - SINGLE STREAM', 'GARBAGE COLLECTIONS', 'GARBAGE COLLECTIONS', 'RECYCLING - SINGLE STREAM', 'SWEEPING', 'GARBAGE COLLECTIONS', 'RECYCLING - SINGLE STREAM', 'ORGANICS', 'ORGANICS', 'GARBAGE COLLECTIONS', 'ORGANICS', 'ORGANICS', 'ORGANICS', 'RECYCLING - SINGLE STREAM', 'GARBAGE COLLECTIONS', 'ORGANICS', 'YARD TRIMMING', 'GARBAGE COLLECTIONS', 'ORGANICS', 'SWEEPING', 'RECYCLING - SINGLE STREAM', 'YARD TRIMMING', 'GARBAGE COLLECTIONS', 'YARD TRIMMING', 'GARBAGE COLLECTIONS', 'GARBAGE COLLECTIONS', 'RECYCLING - SINGLE STREAM', 'GARBAGE COLLECTIONS', 'RECYCLING - SINGLE STREAM', 'RECYCLING - SINGLE STREAM', 'RECYCLING - SINGLE STREAM', 'ORGANICS', 'GARBAGE COLLECTIONS', 'GARBAGE COLLECTIONS', 'ORGANICS', 'RECYCLING - SINGLE STREAM', 'ORGANICS', 'GARBAGE COLLECTIONS', 'SWEEPING', 'YARD TRIMMING', 'GARBAGE COLLECTIONS', 'GARBAGE COLLECTIONS', 'RECYCLING - SINGLE STREAM', 'RECYCLING - SINGLE STREAM', 'DEAD ANIMAL', 'RECYCLING - SINGLE STREAM', 'BULK', 'GARBAGE COLLECTIONS', 'GARBAGE COLLECTIONS', 'GARBAGE COLLECTIONS', 'ORGANICS', 'GARBAGE COLLECTIONS', 'ORGANICS', 'ORGANICS', 'ORGANICS', 'GARBAGE COLLECTIONS', 'GARBAGE COLLECTIONS', 'GARBAGE COLLECTIONS', 'GARBAGE COLLECTIONS', 'GARBAGE COLLECTIONS', 'RECYCLING - SINGLE STREAM', 'RECYCLING - SINGLE STREAM', 'RECYCLING - SINGLE STREAM', 'RECYCLING - SINGLE STREAM', 'RECYCLING - SINGLE STREAM', 'RECYCLING - SINGLE STREAM', 'GARBAGE COLLECTIONS', 'ORGANICS', 'GARBAGE COLLECTIONS', 'ORGANICS', 'ORGANICS', 'GARBAGE COLLECTIONS', 'RECYCLING - SINGLE STREAM', 'SWEEPING', 'ORGANICS', 'GARBAGE COLLECTIONS', 'GARBAGE COLLECTIONS', 'GARBAGE COLLECTIONS', 'ORGANICS', 'RECYCLING - SINGLE STREAM', 'GARBAGE COLLECTIONS', 'YARD TRIMMING', 'RECYCLING - SINGLE STREAM', 'ORGANICS', 'RECYCLING - SINGLE STREAM', 'ORGANICS', 'SWEEPING', 'ORGANICS', 'ORGANICS', 'RECYCLING - SINGLE STREAM', 'GARBAGE COLLECTIONS', 'RECYCLING - SINGLE STREAM', 'RECYCLING - SINGLE STREAM', 'GARBAGE COLLECTIONS', 'GARBAGE COLLECTIONS', 'RECYCLING - SINGLE STREAM', 'GARBAGE COLLECTIONS', 'RECYCLING - SINGLE STREAM']",
            "count": 1
           }
          ]
         }
        },
        {
         "name": "Load Weight",
         "dtype": "float64",
         "stats": {
          "unique_count": 1,
          "nan_count": 0,
          "min": "1726250.0",
          "max": "1726250.0",
          "histogram": [
           {
            "bin_start": 1726249.5,
            "bin_end": 1726249.6,
            "count": 0
           },
           {
            "bin_start": 1726249.6,
            "bin_end": 1726249.7,
            "count": 0
           },
           {
            "bin_start": 1726249.7,
            "bin_end": 1726249.8,
            "count": 0
           },
           {
            "bin_start": 1726249.8,
            "bin_end": 1726249.9,
            "count": 0
           },
           {
            "bin_start": 1726249.9,
            "bin_end": 1726250,
            "count": 0
           },
           {
            "bin_start": 1726250,
            "bin_end": 1726250.1,
            "count": 1
           },
           {
            "bin_start": 1726250.1,
            "bin_end": 1726250.2,
            "count": 0
           },
           {
            "bin_start": 1726250.2,
            "bin_end": 1726250.3,
            "count": 0
           },
           {
            "bin_start": 1726250.3,
            "bin_end": 1726250.4,
            "count": 0
           },
           {
            "bin_start": 1726250.4,
            "bin_end": 1726250.5,
            "count": 0
           }
          ]
         }
        },
        {
         "name": "Dropoff Site",
         "dtype": "object",
         "stats": {
          "unique_count": 1,
          "nan_count": 0,
          "categories": [
           {
            "name": "['TDS LANDFILL', 'TDS LANDFILL', 'BALCONES RECYCLING', 'TDS LANDFILL', 'ORGANICS BY GOSH', 'BALCONES RECYCLING', 'TDS LANDFILL', 'HORNSBY BEND', 'ORGANICS BY GOSH', 'TDS LANDFILL', 'BALCONES RECYCLING', 'BALCONES RECYCLING', 'ORGANICS BY GOSH', 'HORNSBY BEND', 'TDS LANDFILL', 'HORNSBY BEND', 'ORGANICS BY GOSH', 'BALCONES RECYCLING', 'BALCONES RECYCLING', 'ORGANICS BY GOSH', 'BALCONES RECYCLING', 'TDS LANDFILL', 'BALCONES RECYCLING', 'TDS LANDFILL', 'ORGANICS BY GOSH', 'HORNSBY BEND', 'TDS LANDFILL', 'ORGANICS BY GOSH', 'BALCONES RECYCLING', 'BALCONES RECYCLING', 'ORGANICS BY GOSH', 'BALCONES RECYCLING', 'BALCONES RECYCLING', 'TDS LANDFILL', 'ORGANICS BY GOSH', 'ORGANICS BY GOSH', 'BALCONES RECYCLING', 'TDS LANDFILL', 'TDS LANDFILL', 'BALCONES RECYCLING', 'TDS LANDFILL', 'TDS LANDFILL', 'BALCONES RECYCLING', 'ORGANICS BY GOSH', 'ORGANICS BY GOSH', 'TDS LANDFILL', 'ORGANICS BY GOSH', 'ORGANICS BY GOSH', 'ORGANICS BY GOSH', 'BALCONES RECYCLING', 'TDS LANDFILL', 'ORGANICS BY GOSH', 'HORNSBY BEND', 'TDS LANDFILL', 'ORGANICS BY GOSH', 'TDS LANDFILL', 'BALCONES RECYCLING', 'HORNSBY BEND', 'TDS LANDFILL', 'HORNSBY BEND', 'TDS LANDFILL', 'TDS LANDFILL', 'BALCONES RECYCLING', 'TDS LANDFILL', 'BALCONES RECYCLING', 'BALCONES RECYCLING', 'BALCONES RECYCLING', 'ORGANICS BY GOSH', 'TDS LANDFILL', 'TDS LANDFILL', 'ORGANICS BY GOSH', 'BALCONES RECYCLING', 'ORGANICS BY GOSH', 'TDS LANDFILL', 'TDS LANDFILL', 'HORNSBY BEND', 'TDS LANDFILL', 'TDS LANDFILL', 'BALCONES RECYCLING', 'BALCONES RECYCLING', 'TDS LANDFILL', 'BALCONES RECYCLING', 'TDS LANDFILL', 'TDS LANDFILL', 'TDS LANDFILL', 'TDS LANDFILL', 'ORGANICS BY GOSH', 'TDS LANDFILL', 'ORGANICS BY GOSH', 'ORGANICS BY GOSH', 'ORGANICS BY GOSH', 'TDS LANDFILL', 'TDS LANDFILL', 'TDS LANDFILL', 'TDS LANDFILL', 'TDS LANDFILL', 'BALCONES RECYCLING', 'BALCONES RECYCLING', 'BALCONES RECYCLING', 'BALCONES RECYCLING', 'BALCONES RECYCLING', 'BALCONES RECYCLING', 'TDS LANDFILL', 'ORGANICS BY GOSH', 'TDS LANDFILL', 'ORGANICS BY GOSH', 'ORGANICS BY GOSH', 'TDS LANDFILL', 'BALCONES RECYCLING', 'TDS LANDFILL', 'ORGANICS BY GOSH', 'TDS LANDFILL', 'TDS LANDFILL', 'TDS LANDFILL', 'ORGANICS BY GOSH', 'BALCONES RECYCLING', 'TDS LANDFILL', 'HORNSBY BEND', 'BALCONES RECYCLING', 'ORGANICS BY GOSH', 'BALCONES RECYCLING', 'ORGANICS BY GOSH', 'TDS LANDFILL', 'ORGANICS BY GOSH', 'ORGANICS BY GOSH', 'BALCONES RECYCLING', 'TDS LANDFILL', 'BALCONES RECYCLING', 'BALCONES RECYCLING', 'TDS LANDFILL', 'TDS LANDFILL', 'BALCONES RECYCLING', 'TDS LANDFILL', 'BALCONES RECYCLING']",
            "count": 1
           }
          ]
         }
        },
        {
         "name": "Route Type",
         "dtype": "object",
         "stats": {
          "unique_count": 1,
          "nan_count": 0,
          "categories": [
           {
            "name": "['GARBAGE COLLECTION', 'GARBAGE COLLECTION', 'RECYCLING - SINGLE STREAM', 'SWEEPER DUMPSITES', 'YARD TRIMMINGS-ORGANICS', 'RECYCLING - SINGLE STREAM', 'GARBAGE COLLECTION', 'YARD TRIMMINGS', 'YARD TRIMMINGS-ORGANICS', 'GARBAGE COLLECTION', 'RECYCLING - SINGLE STREAM', 'RECYCLING - SINGLE STREAM', 'YARD TRIMMINGS-ORGANICS', 'YARD TRIMMINGS', 'GARBAGE COLLECTION', 'YARD TRIMMINGS', 'YARD TRIMMINGS-ORGANICS', 'RECYCLING - SINGLE STREAM', 'RECYCLING - SINGLE STREAM', 'YARD TRIMMINGS-ORGANICS', 'RECYCLING - SINGLE STREAM', 'GARBAGE COLLECTION', 'RECYCLING - SINGLE STREAM', 'SWEEPER DUMPSITES', 'YARD TRIMMINGS-ORGANICS', 'YARD TRIMMINGS', 'GARBAGE COLLECTION', 'YARD TRIMMINGS-ORGANICS', 'RECYCLING - SINGLE STREAM', 'RECYCLING - SINGLE STREAM', 'YARD TRIMMINGS-ORGANICS', 'RECYCLING - SINGLE STREAM', 'RECYCLING - SINGLE STREAM', 'GARBAGE COLLECTION', 'YARD TRIMMINGS-ORGANICS', 'YARD TRIMMINGS-ORGANICS', 'RECYCLING - SINGLE STREAM', 'GARBAGE COLLECTION', 'GARBAGE COLLECTION', 'RECYCLING - SINGLE STREAM', 'SWEEPER DUMPSITES', 'GARBAGE COLLECTION', 'RECYCLING - SINGLE STREAM', 'YARD TRIMMINGS-ORGANICS', 'YARD TRIMMINGS-ORGANICS', 'GARBAGE COLLECTION', 'YARD TRIMMINGS-ORGANICS', 'YARD TRIMMINGS-ORGANICS', 'YARD TRIMMINGS-ORGANICS', 'RECYCLING - SINGLE STREAM', 'GARBAGE COLLECTION', 'YARD TRIMMINGS-ORGANICS', 'YARD TRIMMINGS', 'GARBAGE COLLECTION', 'YARD TRIMMINGS-ORGANICS', 'SWEEPER DUMPSITES', 'RECYCLING - SINGLE STREAM', 'YARD TRIMMINGS', 'GARBAGE COLLECTION', 'YARD TRIMMINGS', 'GARBAGE COLLECTION', 'GARBAGE COLLECTION', 'RECYCLING - SINGLE STREAM', 'GARBAGE COLLECTION', 'RECYCLING - SINGLE STREAM', 'RECYCLING - SINGLE STREAM', 'RECYCLING - SINGLE STREAM', 'YARD TRIMMINGS-ORGANICS', 'GARBAGE COLLECTION', 'GARBAGE COLLECTION', 'YARD TRIMMINGS-ORGANICS', 'RECYCLING - SINGLE STREAM', 'YARD TRIMMINGS-ORGANICS', 'GARBAGE COLLECTION', 'SWEEPER DUMPSITES', 'YARD TRIMMINGS', 'GARBAGE COLLECTION', 'GARBAGE COLLECTION', 'RECYCLING - SINGLE STREAM', 'RECYCLING - SINGLE STREAM', 'DEAD ANIMAL', 'RECYCLING - SINGLE STREAM', 'SPECIAL PROJECT BU', 'GARBAGE COLLECTION', 'GARBAGE COLLECTION', 'GARBAGE COLLECTION', 'YARD TRIMMINGS-ORGANICS', 'GARBAGE COLLECTION', 'YARD TRIMMINGS-ORGANICS', 'YARD TRIMMINGS-ORGANICS', 'YARD TRIMMINGS-ORGANICS', 'GARBAGE COLLECTION', 'GARBAGE COLLECTION', 'GARBAGE COLLECTION', 'GARBAGE COLLECTION', 'GARBAGE COLLECTION', 'RECYCLING - SINGLE STREAM', 'RECYCLING - SINGLE STREAM', 'RECYCLING - SINGLE STREAM', 'RECYCLING - SINGLE STREAM', 'RECYCLING - SINGLE STREAM', 'RECYCLING DEAD END', 'GARBAGE COLLECTION', 'YARD TRIMMINGS-ORGANICS', 'GARBAGE COLLECTION', 'YARD TRIMMINGS-ORGANICS', 'YARD TRIMMINGS-ORGANICS', 'GARBAGE COLLECTION', 'RECYCLING - SINGLE STREAM', 'SWEEPER DUMPSITES', 'YARD TRIMMINGS-ORGANICS', 'GARBAGE COLLECTION', 'GARBAGE COLLECTION', 'GARBAGE COLLECTION', 'YARD TRIMMINGS-ORGANICS', 'RECYCLING - SINGLE STREAM', 'GARBAGE COLLECTION', 'YARD TRIMMINGS', 'RECYCLING - SINGLE STREAM', 'YARD TRIMMINGS-ORGANICS', 'RECYCLING - SINGLE STREAM', 'YARD TRIMMINGS-ORGANICS', 'SWEEPER DUMPSITES', 'YARD TRIMMINGS-ORGANICS', 'YARD TRIMMINGS-ORGANICS', 'RECYCLING - SINGLE STREAM', 'GARBAGE COLLECTION', 'RECYCLING - SINGLE STREAM', 'RECYCLING - SINGLE STREAM', 'GARBAGE COLLECTION', 'GARBAGE COLLECTION', 'RECYCLING - SINGLE STREAM', 'GARBAGE COLLECTION', 'RECYCLING - SINGLE STREAM']",
            "count": 1
           }
          ]
         }
        },
        {
         "name": "Route Number",
         "dtype": "object",
         "stats": {
          "unique_count": 1,
          "nan_count": 0,
          "categories": [
           {
            "name": "['PAF78', 'PAF82', 'RFAU20', 'DSS04', 'OF12', 'DF4', 'PAF50', 'YF02', 'OF22', 'PAF63', 'RFAU23', 'RFAS34', 'OF12', 'YF03', 'PAF69', 'YF01', 'OF24', 'RFAU22', 'RFAS42', 'OF7', 'RFAU52', 'PF13', 'RFAU10', 'DSS04', 'OBF00', 'YF03', 'PAF71', 'OF14', 'RFAU51', 'RFAS41', 'OF18', 'RFAU21', 'RFAU50', 'PAF81', 'OBF99', 'OF20', 'DF2', 'PF24', 'PF11', 'RFAS43', 'DSS04', 'PAF70', 'RFAS33', 'OF5', 'OBF00', 'PAF59', 'OF22', 'OF10', 'OF11', 'RFAU51', 'PF10', 'OF25', 'YF01', 'PAF61', 'OF2', 'DSS04', 'RFAU24', 'YBF00', 'PAF01', 'YF01', 'PAF88', 'PAF54', 'RFAS41', 'PF33', 'RFAU53', 'RFAU52', 'RFAU23', 'OF3', 'PAF83', 'PF33', 'OF15', 'RFAU12', 'OBF00', 'PAF67', 'DSS04', 'YF01', 'PF20', 'PAF51', 'RFAS35', 'RFAU10', 'DA01', 'RFAS33', 'CAP-05', 'PAF60', 'PF41', 'PAF56', 'OF6', 'PF24', 'OF10', 'OF16', 'OF8', 'PF39', 'PF21', 'PAF79', 'PAF80', 'PAF87', 'DF1', 'RFAU13', 'RFAU53', 'RFAU13', 'RFAS35', 'DF5', 'PAF02', 'OF15', 'PF41', 'OF4', 'OF10', 'PF30', 'RFAU11', 'DSS04', 'OF13', 'PAF52', 'PF14', 'PAF53', 'OF1', 'DF3', 'PAF73', 'YF02', 'RFAU22', 'OBF00', 'DF1', 'OF14', 'DSS04', 'OBF00', 'OF16', 'RFAU21', 'PF40', 'RFAS43', 'RFAU24', 'PAF72', 'PAF10', 'RFAU12', 'PAF04', 'RFAU50']",
            "count": 1
           }
          ]
         }
        },
        {
         "name": "Year",
         "dtype": "int64",
         "stats": {
          "unique_count": 1,
          "nan_count": 0,
          "min": "2020",
          "max": "2020",
          "histogram": [
           {
            "bin_start": 2019.5,
            "bin_end": 2019.6,
            "count": 0
           },
           {
            "bin_start": 2019.6,
            "bin_end": 2019.7,
            "count": 0
           },
           {
            "bin_start": 2019.7,
            "bin_end": 2019.8,
            "count": 0
           },
           {
            "bin_start": 2019.8,
            "bin_end": 2019.9,
            "count": 0
           },
           {
            "bin_start": 2019.9,
            "bin_end": 2020,
            "count": 0
           },
           {
            "bin_start": 2020,
            "bin_end": 2020.1,
            "count": 1
           },
           {
            "bin_start": 2020.1,
            "bin_end": 2020.2,
            "count": 0
           },
           {
            "bin_start": 2020.2,
            "bin_end": 2020.3,
            "count": 0
           },
           {
            "bin_start": 2020.3,
            "bin_end": 2020.4,
            "count": 0
           },
           {
            "bin_start": 2020.4,
            "bin_end": 2020.5,
            "count": 0
           }
          ]
         }
        },
        {
         "name": "_deepnote_index_column",
         "dtype": "object"
        }
       ],
       "rows": [
        {
         "Load Type": "['GARBAGE COLLECTIONS', 'GARBAGE COLLECTIONS', 'RECYCLING - SINGLE STREAM', 'SWEEPING', 'ORGANICS',…",
         "Load Weight": 1726250,
         "Dropoff Site": "['TDS LANDFILL', 'TDS LANDFILL', 'BALCONES RECYCLING', 'TDS LANDFILL', 'ORGANICS BY GOSH', 'BALCONE…",
         "Route Type": "['GARBAGE COLLECTION', 'GARBAGE COLLECTION', 'RECYCLING - SINGLE STREAM', 'SWEEPER DUMPSITES', 'YAR…",
         "Route Number": "['PAF78', 'PAF82', 'RFAU20', 'DSS04', 'OF12', 'DF4', 'PAF50', 'YF02', 'OF22', 'PAF63', 'RFAU23', 'R…",
         "Year": 2020,
         "_deepnote_index_column": "2020-03-20"
        }
       ]
      },
      "text/plain": "                                                    Load Type    Load Weight  \\\nDate                                                                           \n2020-03-20  [GARBAGE COLLECTIONS, GARBAGE COLLECTIONS, REC... 1726250.000000   \n\n                                                 Dropoff Site  \\\nDate                                                            \n2020-03-20  [TDS LANDFILL, TDS LANDFILL, BALCONES RECYCLIN...   \n\n                                                   Route Type  \\\nDate                                                            \n2020-03-20  [GARBAGE COLLECTION, GARBAGE COLLECTION, RECYC...   \n\n                                                 Route Number  Year  \nDate                                                                 \n2020-03-20  [PAF78, PAF82, RFAU20, DSS04, OF12, DF4, PAF50...  2020  ",
      "text/html": "<div>\n<style scoped>\n    .dataframe tbody tr th:only-of-type {\n        vertical-align: middle;\n    }\n\n    .dataframe tbody tr th {\n        vertical-align: top;\n    }\n\n    .dataframe thead th {\n        text-align: right;\n    }\n</style>\n<table border=\"1\" class=\"dataframe\">\n  <thead>\n    <tr style=\"text-align: right;\">\n      <th></th>\n      <th>Load Type</th>\n      <th>Load Weight</th>\n      <th>Dropoff Site</th>\n      <th>Route Type</th>\n      <th>Route Number</th>\n      <th>Year</th>\n    </tr>\n    <tr>\n      <th>Date</th>\n      <th></th>\n      <th></th>\n      <th></th>\n      <th></th>\n      <th></th>\n      <th></th>\n    </tr>\n  </thead>\n  <tbody>\n    <tr>\n      <th>2020-03-20</th>\n      <td>[GARBAGE COLLECTIONS, GARBAGE COLLECTIONS, REC...</td>\n      <td>1726250.000000</td>\n      <td>[TDS LANDFILL, TDS LANDFILL, BALCONES RECYCLIN...</td>\n      <td>[GARBAGE COLLECTION, GARBAGE COLLECTION, RECYC...</td>\n      <td>[PAF78, PAF82, RFAU20, DSS04, OF12, DF4, PAF50...</td>\n      <td>2020</td>\n    </tr>\n  </tbody>\n</table>\n</div>"
     },
     "metadata": {}
    }
   ]
  },
  {
   "cell_type": "code",
   "metadata": {
    "cell_id": "25611971e6094d0ebdfbf4500ff3023b",
    "tags": [],
    "deepnote_to_be_reexecuted": false,
    "source_hash": "5b7d403f",
    "execution_start": 1648029982617,
    "execution_millis": 8,
    "deepnote_cell_type": "code",
    "deepnote_cell_height": 457.78125,
    "deepnote_output_heights": [
     270.796875
    ]
   },
   "source": "df_2020 = df_daily_grouped[df_daily_grouped['Year']==2020]\n#df_2020.to_csv(\"garbage_data_daily_2020.csv\")\nall_dates_covid = pd.date_range(\n  start=\"2020-01-01\", end=\"2020-12-31\")\nmissing = all_dates_covid.difference(df_2020.index)\nmissing, len(missing)",
   "execution_count": 71,
   "outputs": [
    {
     "output_type": "execute_result",
     "execution_count": 71,
     "data": {
      "text/plain": "(DatetimeIndex(['2020-01-05', '2020-01-12', '2020-01-19', '2020-01-26',\n                '2020-02-02', '2020-02-09', '2020-02-16', '2020-02-23',\n                '2020-03-01', '2020-03-08', '2020-04-12', '2020-05-03',\n                '2020-05-10', '2020-05-17', '2020-05-24', '2020-05-31',\n                '2020-06-07', '2020-06-14', '2020-06-21', '2020-06-28',\n                '2020-07-05', '2020-07-12', '2020-07-19', '2020-07-26',\n                '2020-08-02', '2020-08-09', '2020-08-16', '2020-08-23',\n                '2020-08-30', '2020-09-06', '2020-09-13', '2020-09-20',\n                '2020-09-27', '2020-10-04', '2020-10-18', '2020-10-25',\n                '2020-11-01', '2020-11-08', '2020-11-15', '2020-11-22',\n                '2020-11-29', '2020-12-06', '2020-12-20', '2020-12-25',\n                '2020-12-27'],\n               dtype='datetime64[ns]', freq=None),\n 45)"
     },
     "metadata": {}
    }
   ]
  },
  {
   "cell_type": "code",
   "metadata": {
    "cell_id": "c728e366edb449478180953a2e832dec",
    "tags": [],
    "deepnote_to_be_reexecuted": false,
    "source_hash": "1808297",
    "execution_start": 1648029985635,
    "execution_millis": 5,
    "deepnote_cell_type": "code",
    "deepnote_cell_height": 379.78125,
    "deepnote_output_heights": [
     174.796875
    ]
   },
   "source": "df_2021 = df_daily_grouped[df_daily_grouped['Year']==2021]\n#df_2021.to_csv(\"garbage_data_daily_2021.csv\")\n\nall_dates_post_covid = pd.date_range(\n  start=\"2021-01-01\", end=\"2021-12-31\")\nmissing = all_dates_post_covid.difference(df_2021.index)\nmissing, len(missing)",
   "execution_count": 72,
   "outputs": [
    {
     "output_type": "execute_result",
     "execution_count": 72,
     "data": {
      "text/plain": "(DatetimeIndex(['2021-01-03', '2021-01-10', '2021-01-17', '2021-01-24',\n                '2021-01-30', '2021-01-31', '2021-02-07', '2021-02-13',\n                '2021-02-14', '2021-02-15',\n                ...\n                '2021-12-22', '2021-12-23', '2021-12-24', '2021-12-25',\n                '2021-12-26', '2021-12-27', '2021-12-28', '2021-12-29',\n                '2021-12-30', '2021-12-31'],\n               dtype='datetime64[ns]', length=197, freq=None),\n 197)"
     },
     "metadata": {}
    }
   ]
  },
  {
   "cell_type": "markdown",
   "source": "Our primary time line focus for the analysis and modelling is the weekly data from 2014 to 2019 (the pre-covid data)",
   "metadata": {
    "cell_id": "f8dc15669b364500b3415cd3c3556925",
    "tags": [],
    "deepnote_cell_type": "markdown",
    "deepnote_cell_height": 52.390625
   }
  },
  {
   "cell_type": "markdown",
   "source": "#### Adding Holidays data",
   "metadata": {
    "cell_id": "27381d13cf7f4944b5e408fe3b3a9cb5",
    "tags": [],
    "deepnote_cell_type": "markdown",
    "deepnote_cell_height": 54
   }
  },
  {
   "cell_type": "code",
   "source": "from datetime import date\nimport holidays\n\nus_holidays = holidays.US()\n\ndef number_of_holidays_in_week(date):\n  res = 0\n  end = date\n  start = date - dt.timedelta(days=7)\n  date_range = pd.date_range(start, end)\n  for day in date_range:\n    if day in us_holidays:\n      res+=1\n  return res",
   "metadata": {
    "cell_id": "3bbb44fa892341fdab6c0418a6562c03",
    "tags": [],
    "deepnote_to_be_reexecuted": false,
    "source_hash": "17f188e",
    "execution_start": 1648029996198,
    "execution_millis": 1,
    "deepnote_cell_type": "code",
    "deepnote_cell_height": 315
   },
   "outputs": [],
   "execution_count": 73
  },
  {
   "cell_type": "code",
   "source": "df_weekly_holiday = df_pre_covid.copy()\ndf_weekly_holiday['holidays'] = df_weekly_holiday['Date'].apply(lambda x: number_of_holidays_in_week(x))\ndf_weekly_holiday.sample()",
   "metadata": {
    "cell_id": "e00156e7472643b0a8225288a40843f9",
    "tags": [],
    "deepnote_to_be_reexecuted": false,
    "source_hash": "95f603ee",
    "execution_start": 1648031237299,
    "execution_millis": 26,
    "deepnote_cell_type": "code",
    "deepnote_cell_height": 281.796875,
    "deepnote_output_heights": [
     98
    ]
   },
   "outputs": [
    {
     "output_type": "execute_result",
     "execution_count": 93,
     "data": {
      "application/vnd.deepnote.dataframe.v3+json": {
       "column_count": 8,
       "row_count": 1,
       "columns": [
        {
         "name": "Date",
         "dtype": "object",
         "stats": {
          "unique_count": 1,
          "nan_count": 0,
          "categories": [
           {
            "name": "2015-03-15",
            "count": 1
           }
          ]
         }
        },
        {
         "name": "Load Type",
         "dtype": "object",
         "stats": {
          "unique_count": 1,
          "nan_count": 0,
          "categories": [
           {
            "name": "['RECYCLING - SINGLE STREAM', 'GARBAGE COLLECTIONS', 'GARBAGE COLLECTIONS', 'GARBAGE COLLECTIONS', 'GARBAGE COLLECTIONS', 'YARD TRIMMING', 'RECYCLING - SINGLE STREAM', 'RECYCLING - SINGLE STREAM', 'RECYCLING - SINGLE STREAM', 'RECYCLING - SINGLE STREAM', 'GARBAGE COLLECTIONS', 'RECYCLING - SINGLE STREAM', 'BRUSH', 'GARBAGE COLLECTIONS', 'GARBAGE COLLECTIONS', 'RECYCLING - SINGLE STREAM', 'YARD TRIMMING', 'GARBAGE COLLECTIONS', 'GARBAGE COLLECTIONS', 'GARBAGE COLLECTIONS', 'YARD TRIMMING', 'GARBAGE COLLECTIONS', 'GARBAGE COLLECTIONS', 'YARD TRIMMING', 'GARBAGE COLLECTIONS', 'RECYCLING - SINGLE STREAM', 'GARBAGE COLLECTIONS', 'RECYCLING - SINGLE STREAM', 'YARD TRIMMING', 'YARD TRIMMING', 'YARD TRIMMING', 'GARBAGE COLLECTIONS', 'GARBAGE COLLECTIONS', 'RECYCLING - SINGLE STREAM', 'GARBAGE COLLECTIONS', 'GARBAGE COLLECTIONS', 'YARD TRIMMING', 'RECYCLING - SINGLE STREAM', 'GARBAGE COLLECTIONS', 'GARBAGE COLLECTIONS', 'RECYCLING - SINGLE STREAM', 'YARD TRIMMING', 'RECYCLING - SINGLE STREAM', 'GARBAGE COLLECTIONS', 'GARBAGE COLLECTIONS', 'GARBAGE COLLECTIONS', 'YARD TRIMMING', 'YARD TRIMMING', 'RECYCLING - SINGLE STREAM', 'GARBAGE COLLECTIONS', 'YARD TRIMMING', 'YARD TRIMMING', 'RECYCLING - SINGLE STREAM', 'GARBAGE COLLECTIONS', 'YARD TRIMMING', 'YARD TRIMMING', 'SWEEPING', 'GARBAGE COLLECTIONS', 'YARD TRIMMING', 'GARBAGE COLLECTIONS', 'GARBAGE COLLECTIONS', 'YARD TRIMMING', 'GARBAGE COLLECTIONS', 'YARD TRIMMING', 'GARBAGE COLLECTIONS', 'GARBAGE COLLECTIONS', 'RECYCLING - SINGLE STREAM', 'GARBAGE COLLECTIONS', 'RECYCLING - SINGLE STREAM', 'YARD TRIMMING', 'GARBAGE COLLECTIONS', 'RECYCLING - SINGLE STREAM', 'RECYCLING - SINGLE STREAM', 'RECYCLING - SINGLE STREAM', 'YARD TRIMMING', 'YARD TRIMMING', 'GARBAGE COLLECTIONS', 'GARBAGE COLLECTIONS', 'SWEEPING', 'YARD TRIMMING', 'BRUSH', 'GARBAGE COLLECTIONS', 'GARBAGE COLLECTIONS', 'RECYCLING - SINGLE STREAM', 'GARBAGE COLLECTIONS', 'YARD TRIMMING', 'RECYCLING - SINGLE STREAM', 'RECYCLING - SINGLE STREAM', 'RECYCLING - SINGLE STREAM', 'GARBAGE COLLECTIONS', 'GARBAGE COLLECTIONS', 'RECYCLING - SINGLE STREAM', 'RECYCLING - SINGLE STREAM', 'GARBAGE COLLECTIONS', 'GARBAGE COLLECTIONS', 'YARD TRIMMING', 'GARBAGE COLLECTIONS', 'GARBAGE COLLECTIONS', 'RECYCLING - SINGLE STREAM', 'YARD TRIMMING', 'RECYCLING - SINGLE STREAM', 'SWEEPING', 'GARBAGE COLLECTIONS', 'RECYCLING - SINGLE STREAM', 'RECYCLING - SINGLE STREAM', 'GARBAGE COLLECTIONS', 'YARD TRIMMING', 'GARBAGE COLLECTIONS', 'RECYCLING - SINGLE STREAM', 'GARBAGE COLLECTIONS', 'YARD TRIMMING', 'GARBAGE COLLECTIONS', 'RECYCLING - SINGLE STREAM', 'YARD TRIMMING', 'SWEEPING', 'GARBAGE COLLECTIONS', 'RECYCLING - SINGLE STREAM', 'GARBAGE COLLECTIONS', 'RECYCLING - SINGLE STREAM', 'DEAD ANIMAL', 'GARBAGE COLLECTIONS', 'RECYCLING - SINGLE STREAM', 'GARBAGE COLLECTIONS', 'GARBAGE COLLECTIONS', 'RECYCLING - SINGLE STREAM', 'YARD TRIMMING', 'GARBAGE COLLECTIONS', 'GARBAGE COLLECTIONS', 'RECYCLING - SINGLE STREAM', 'GARBAGE COLLECTIONS', 'GARBAGE COLLECTIONS', 'GARBAGE COLLECTIONS', 'GARBAGE COLLECTIONS', 'RECYCLING - SINGLE STREAM', 'GARBAGE COLLECTIONS', 'GARBAGE COLLECTIONS', 'YARD TRIMMING', 'BRUSH', 'RECYCLING - SINGLE STREAM', 'RECYCLING - SINGLE STREAM', 'SWEEPING', 'SWEEPING', 'RECYCLING - SINGLE STREAM', 'RECYCLING - SINGLE STREAM', 'GARBAGE COLLECTIONS', 'GARBAGE COLLECTIONS', 'YARD TRIMMING', 'GARBAGE COLLECTIONS', 'RECYCLING - SINGLE STREAM', 'BRUSH', 'GARBAGE COLLECTIONS', 'YARD TRIMMING', 'GARBAGE COLLECTIONS', 'YARD TRIMMING', 'RECYCLING - SINGLE STREAM', 'YARD TRIMMING', 'RECYCLING - SINGLE STREAM', 'GARBAGE COLLECTIONS', 'RECYCLING - SINGLE STREAM', 'RECYCLING - SINGLE STREAM', 'GARBAGE COLLECTIONS', 'GARBAGE COLLECTIONS', 'YARD TRIMMING', 'YARD TRIMMING', 'RECYCLING - SINGLE STREAM', 'GARBAGE COLLECTIONS', 'YARD TRIMMING', 'GARBAGE COLLECTIONS', 'RECYCLING - SINGLE STREAM', 'GARBAGE COLLECTIONS', 'GARBAGE COLLECTIONS', 'RECYCLING - SINGLE STREAM', 'YARD TRIMMING', 'RECYCLING - SINGLE STREAM', 'SWEEPING', 'GARBAGE COLLECTIONS', 'YARD TRIMMING', 'SWEEPING', 'SWEEPING', 'SWEEPING', 'YARD TRIMMING', 'RECYCLING - SINGLE STREAM', 'GARBAGE COLLECTIONS', 'YARD TRIMMING', 'GARBAGE COLLECTIONS', 'YARD TRIMMING', 'GARBAGE COLLECTIONS', 'RECYCLING - SINGLE STREAM', 'GARBAGE COLLECTIONS', 'GARBAGE COLLECTIONS', 'GARBAGE COLLECTIONS', 'YARD TRIMMING', 'YARD TRIMMING', 'YARD TRIMMING', 'RECYCLING - SINGLE STREAM', 'YARD TRIMMING', 'GARBAGE COLLECTIONS', 'RECYCLING - SINGLE STREAM', 'GARBAGE COLLECTIONS', 'GARBAGE COLLECTIONS', 'RECYCLING - SINGLE STREAM', 'GARBAGE COLLECTIONS', 'GARBAGE COLLECTIONS', 'GARBAGE COLLECTIONS', 'RECYCLING - SINGLE STREAM', 'RECYCLING - SINGLE STREAM', 'GARBAGE COLLECTIONS', 'GARBAGE COLLECTIONS', 'YARD TRIMMING', 'BRUSH', 'YARD TRIMMING', 'YARD TRIMMING', 'YARD TRIMMING', 'YARD TRIMMING', 'YARD TRIMMING', 'RECYCLING - SINGLE STREAM', 'GARBAGE COLLECTIONS', 'RECYCLING - SINGLE STREAM', 'YARD TRIMMING', 'GARBAGE COLLECTIONS', 'GARBAGE COLLECTIONS', 'GARBAGE COLLECTIONS', 'BRUSH', 'RECYCLING - SINGLE STREAM', 'RECYCLING - SINGLE STREAM', 'GARBAGE COLLECTIONS', 'GARBAGE COLLECTIONS', 'YARD TRIMMING', 'YARD TRIMMING', 'RECYCLING - SINGLE STREAM', 'RECYCLING - SINGLE STREAM', 'RECYCLING - SINGLE STREAM', 'GARBAGE COLLECTIONS', 'GARBAGE COLLECTIONS', 'RECYCLING - SINGLE STREAM', 'RECYCLING - SINGLE STREAM', 'GARBAGE COLLECTIONS', 'GARBAGE COLLECTIONS', 'GARBAGE COLLECTIONS', 'YARD TRIMMING', 'GARBAGE COLLECTIONS', 'GARBAGE COLLECTIONS', 'BRUSH', 'GARBAGE COLLECTIONS', 'GARBAGE COLLECTIONS', 'GARBAGE COLLECTIONS', 'GARBAGE COLLECTIONS', 'GARBAGE COLLECTIONS', 'YARD TRIMMING', 'BRUSH', 'GARBAGE COLLECTIONS', 'GARBAGE COLLECTIONS', 'GARBAGE COLLECTIONS', 'GARBAGE COLLECTIONS', 'YARD TRIMMING', 'GARBAGE COLLECTIONS', 'YARD TRIMMING', 'GARBAGE COLLECTIONS', 'GARBAGE COLLECTIONS', 'YARD TRIMMING', 'SWEEPING', 'RECYCLING - SINGLE STREAM', 'GARBAGE COLLECTIONS', 'RECYCLING - SINGLE STREAM', 'YARD TRIMMING', 'GARBAGE COLLECTIONS', 'GARBAGE COLLECTIONS', 'GARBAGE COLLECTIONS', 'GARBAGE COLLECTIONS', 'GARBAGE COLLECTIONS', 'RECYCLING - SINGLE STREAM', 'YARD TRIMMING', 'YARD TRIMMING', 'GARBAGE COLLECTIONS', 'RECYCLING - SINGLE STREAM', 'RECYCLING - SINGLE STREAM', 'GARBAGE COLLECTIONS', 'RECYCLING - SINGLE STREAM', 'RECYCLING - SINGLE STREAM', 'RECYCLING - SINGLE STREAM', 'GARBAGE COLLECTIONS', 'BRUSH', 'RECYCLING - SINGLE STREAM', 'RECYCLING - SINGLE STREAM', 'RECYCLING - SINGLE STREAM', 'BRUSH', 'GARBAGE COLLECTIONS', 'YARD TRIMMING', 'YARD TRIMMING', 'YARD TRIMMING', 'YARD TRIMMING', 'RECYCLING - SINGLE STREAM', 'YARD TRIMMING', 'GARBAGE COLLECTIONS', 'SWEEPING', 'BRUSH', 'YARD TRIMMING', 'GARBAGE COLLECTIONS', 'GARBAGE COLLECTIONS', 'GARBAGE COLLECTIONS', 'YARD TRIMMING', 'RECYCLING - SINGLE STREAM', 'GARBAGE COLLECTIONS', 'YARD TRIMMING', 'YARD TRIMMING', 'GARBAGE COLLECTIONS', 'YARD TRIMMING', 'SWEEPING', 'BRUSH', 'YARD TRIMMING', 'GARBAGE COLLECTIONS', 'GARBAGE COLLECTIONS', 'RECYCLING - SINGLE STREAM', 'GARBAGE COLLECTIONS', 'GARBAGE COLLECTIONS', 'GARBAGE COLLECTIONS', 'RECYCLING - SINGLE STREAM', 'YARD TRIMMING', 'GARBAGE COLLECTIONS', 'SWEEPING', 'GARBAGE COLLECTIONS', 'RECYCLING - SINGLE STREAM', 'GARBAGE COLLECTIONS', 'RECYCLING - SINGLE STREAM', 'RECYCLING - SINGLE STREAM', 'YARD TRIMMING', 'YARD TRIMMING', 'RECYCLING - SINGLE STREAM', 'GARBAGE COLLECTIONS', 'RECYCLING - SINGLE STREAM', 'RECYCLING - SINGLE STREAM', 'YARD TRIMMING', 'YARD TRIMMING', 'GARBAGE COLLECTIONS', 'YARD TRIMMING', 'RECYCLING - SINGLE STREAM', 'RECYCLING - SINGLE STREAM', 'YARD TRIMMING', 'YARD TRIMMING', 'GARBAGE COLLECTIONS', 'GARBAGE COLLECTIONS', 'GARBAGE COLLECTIONS', 'YARD TRIMMING', 'GARBAGE COLLECTIONS', 'GARBAGE COLLECTIONS', 'YARD TRIMMING', 'BRUSH', 'BRUSH', 'YARD TRIMMING', 'YARD TRIMMING', 'RECYCLING - SINGLE STREAM', 'YARD TRIMMING', 'YARD TRIMMING', 'YARD TRIMMING', 'RECYCLING - SINGLE STREAM', 'YARD TRIMMING', 'YARD TRIMMING', 'RECYCLING - SINGLE STREAM', 'RECYCLING - SINGLE STREAM', 'BRUSH', 'RECYCLING - SINGLE STREAM', 'GARBAGE COLLECTIONS', 'GARBAGE COLLECTIONS', 'YARD TRIMMING', 'BRUSH', 'GARBAGE COLLECTIONS', 'SWEEPING', 'GARBAGE COLLECTIONS', 'GARBAGE COLLECTIONS', 'GARBAGE COLLECTIONS', 'RECYCLING - SINGLE STREAM', 'YARD TRIMMING', 'YARD TRIMMING', 'RECYCLING - SINGLE STREAM', 'GARBAGE COLLECTIONS', 'RECYCLING - SINGLE STREAM', 'GARBAGE COLLECTIONS', 'RECYCLING - SINGLE STREAM', 'RECYCLING - SINGLE STREAM', 'RECYCLING - SINGLE STREAM', 'YARD TRIMMING', 'YARD TRIMMING', 'YARD TRIMMING', 'YARD TRIMMING', 'YARD TRIMMING', 'RECYCLING - SINGLE STREAM', 'GARBAGE COLLECTIONS', 'RECYCLING - SINGLE STREAM', 'BRUSH', 'BRUSH', 'RECYCLING - SINGLE STREAM', 'RECYCLING - SINGLE STREAM', 'YARD TRIMMING', 'RECYCLING - SINGLE STREAM', 'GARBAGE COLLECTIONS', 'RECYCLING - SINGLE STREAM', 'GARBAGE COLLECTIONS', 'RECYCLING - SINGLE STREAM', 'GARBAGE COLLECTIONS', 'YARD TRIMMING', 'GARBAGE COLLECTIONS', 'RECYCLING - SINGLE STREAM', 'RECYCLING - SINGLE STREAM', 'GARBAGE COLLECTIONS', 'YARD TRIMMING', 'YARD TRIMMING', 'GARBAGE COLLECTIONS', 'YARD TRIMMING', 'RECYCLING - SINGLE STREAM', 'GARBAGE COLLECTIONS', 'GARBAGE COLLECTIONS', 'GARBAGE COLLECTIONS', 'YARD TRIMMING', 'SWEEPING', 'RECYCLING - SINGLE STREAM', 'YARD TRIMMING', 'GARBAGE COLLECTIONS', 'GARBAGE COLLECTIONS', 'GARBAGE COLLECTIONS', 'GARBAGE COLLECTIONS', 'GARBAGE COLLECTIONS', 'YARD TRIMMING', 'GARBAGE COLLECTIONS', 'RECYCLING - SINGLE STREAM', 'YARD TRIMMING', 'RECYCLING - SINGLE STREAM', 'RECYCLING - SINGLE STREAM', 'RECYCLING - SINGLE STREAM', 'YARD TRIMMING', 'GARBAGE COLLECTIONS', 'YARD TRIMMING', 'GARBAGE COLLECTIONS', 'YARD TRIMMING', 'GARBAGE COLLECTIONS', 'YARD TRIMMING', 'YARD TRIMMING', 'YARD TRIMMING', 'YARD TRIMMING', 'RECYCLING - SINGLE STREAM', 'GARBAGE COLLECTIONS', 'YARD TRIMMING', 'YARD TRIMMING', 'RECYCLING - SINGLE STREAM', 'RECYCLING - SINGLE STREAM', 'YARD TRIMMING', 'GARBAGE COLLECTIONS', 'GARBAGE COLLECTIONS', 'YARD TRIMMING', 'YARD TRIMMING', 'YARD TRIMMING', 'RECYCLING - SINGLE STREAM', 'GARBAGE COLLECTIONS', 'YARD TRIMMING', 'YARD TRIMMING', 'GARBAGE COLLECTIONS', 'YARD TRIMMING', 'YARD TRIMMING', 'GARBAGE COLLECTIONS', 'GARBAGE COLLECTIONS', 'GARBAGE COLLECTIONS', 'GARBAGE COLLECTIONS', 'YARD TRIMMING', 'YARD TRIMMING', 'GARBAGE COLLECTIONS', 'BRUSH', 'RECYCLING - SINGLE STREAM', 'GARBAGE COLLECTIONS', 'RECYCLING - SINGLE STREAM', 'GARBAGE COLLECTIONS', 'RECYCLING - SINGLE STREAM', 'GARBAGE COLLECTIONS', 'GARBAGE COLLECTIONS', 'GARBAGE COLLECTIONS', 'GARBAGE COLLECTIONS', 'BRUSH', 'RECYCLING - SINGLE STREAM', 'GARBAGE COLLECTIONS', 'YARD TRIMMING', 'YARD TRIMMING', 'GARBAGE COLLECTIONS', 'GARBAGE COLLECTIONS', 'RECYCLING - SINGLE STREAM', 'GARBAGE COLLECTIONS', 'RECYCLING - SINGLE STREAM', 'RECYCLING - SINGLE STREAM', 'GARBAGE COLLECTIONS', 'YARD TRIMMING', 'YARD TRIMMING', 'YARD TRIMMING', 'GARBAGE COLLECTIONS', 'SWEEPING', 'RECYCLING - SINGLE STREAM', 'GARBAGE COLLECTIONS', 'RECYCLING - SINGLE STREAM', 'RECYCLING - SINGLE STREAM', 'RECYCLING - SINGLE STREAM', 'YARD TRIMMING', 'RECYCLING - SINGLE STREAM', 'RECYCLING - SINGLE STREAM', 'YARD TRIMMING', 'RECYCLING - SINGLE STREAM', 'GARBAGE COLLECTIONS', 'GARBAGE COLLECTIONS', 'GARBAGE COLLECTIONS', 'GARBAGE COLLECTIONS', 'YARD TRIMMING', 'RECYCLING - SINGLE STREAM', 'GARBAGE COLLECTIONS', 'YARD TRIMMING', 'GARBAGE COLLECTIONS', 'DEAD ANIMAL', 'GARBAGE COLLECTIONS', 'RECYCLING - SINGLE STREAM', 'RECYCLING - SINGLE STREAM', 'GARBAGE COLLECTIONS', 'RECYCLING - SINGLE STREAM', 'YARD TRIMMING', 'GARBAGE COLLECTIONS', 'GARBAGE COLLECTIONS', 'DEAD ANIMAL', 'YARD TRIMMING', 'GARBAGE COLLECTIONS', 'RECYCLING - SINGLE STREAM', 'RECYCLING - SINGLE STREAM', 'RECYCLING - SINGLE STREAM', 'YARD TRIMMING', 'GARBAGE COLLECTIONS', 'GARBAGE COLLECTIONS', 'RECYCLING - SINGLE STREAM', 'DEAD ANIMAL', 'GARBAGE COLLECTIONS', 'YARD TRIMMING', 'GARBAGE COLLECTIONS', 'RECYCLING - SINGLE STREAM', 'YARD TRIMMING', 'GARBAGE COLLECTIONS', 'RECYCLING - SINGLE STREAM', 'YARD TRIMMING', 'GARBAGE COLLECTIONS', 'GARBAGE COLLECTIONS', 'RECYCLING - SINGLE STREAM', 'SWEEPING', 'GARBAGE COLLECTIONS', 'YARD TRIMMING', 'GARBAGE COLLECTIONS', 'RECYCLING - SINGLE STREAM', 'YARD TRIMMING', 'YARD TRIMMING', 'RECYCLING - SINGLE STREAM', 'DEAD ANIMAL', 'SWEEPING', 'GARBAGE COLLECTIONS', 'GARBAGE COLLECTIONS', 'GARBAGE COLLECTIONS', 'GARBAGE COLLECTIONS', 'RECYCLING - SINGLE STREAM', 'GARBAGE COLLECTIONS', 'YARD TRIMMING', 'GARBAGE COLLECTIONS', 'GARBAGE COLLECTIONS', 'YARD TRIMMING', 'GARBAGE COLLECTIONS', 'YARD TRIMMING', 'RECYCLING - SINGLE STREAM', 'GARBAGE COLLECTIONS', 'GARBAGE COLLECTIONS', 'YARD TRIMMING', 'GARBAGE COLLECTIONS', 'RECYCLING - SINGLE STREAM', 'GARBAGE COLLECTIONS', 'SWEEPING', 'RECYCLING - SINGLE STREAM', 'YARD TRIMMING', 'GARBAGE COLLECTIONS', 'GARBAGE COLLECTIONS', 'RECYCLING - SINGLE STREAM', 'GARBAGE COLLECTIONS', 'YARD TRIMMING', 'RECYCLING - SINGLE STREAM', 'RECYCLING - SINGLE STREAM', 'BRUSH', 'YARD TRIMMING', 'RECYCLING - SINGLE STREAM', 'YARD TRIMMING', 'SWEEPING', 'YARD TRIMMING', 'GARBAGE COLLECTIONS', 'RECYCLING - SINGLE STREAM', 'GARBAGE COLLECTIONS', 'RECYCLING - SINGLE STREAM', 'GARBAGE COLLECTIONS', 'RECYCLING - SINGLE STREAM', 'RECYCLING - SINGLE STREAM', 'GARBAGE COLLECTIONS', 'GARBAGE COLLECTIONS', 'GARBAGE COLLECTIONS', 'RECYCLING - SINGLE STREAM', 'YARD TRIMMING', 'RECYCLING - SINGLE STREAM', 'RECYCLING - SINGLE STREAM', 'YARD TRIMMING', 'YARD TRIMMING', 'RECYCLING - SINGLE STREAM', 'RECYCLING - SINGLE STREAM', 'YARD TRIMMING', 'YARD TRIMMING', 'YARD TRIMMING', 'GARBAGE COLLECTIONS', 'BRUSH', 'YARD TRIMMING', 'YARD TRIMMING', 'GARBAGE COLLECTIONS', 'YARD TRIMMING', 'YARD TRIMMING', 'BRUSH', 'GARBAGE COLLECTIONS', 'RECYCLING - SINGLE STREAM', 'RECYCLING - SINGLE STREAM', 'YARD TRIMMING', 'GARBAGE COLLECTIONS', 'GARBAGE COLLECTIONS', 'BRUSH', 'GARBAGE COLLECTIONS', 'RECYCLING - SINGLE STREAM', 'RECYCLING - SINGLE STREAM', 'GARBAGE COLLECTIONS', 'SWEEPING', 'YARD TRIMMING', 'GARBAGE COLLECTIONS', 'RECYCLING - SINGLE STREAM', 'RECYCLING - SINGLE STREAM', 'YARD TRIMMING', 'GARBAGE COLLECTIONS', 'RECYCLING - SINGLE STREAM', 'GARBAGE COLLECTIONS', 'RECYCLING - SINGLE STREAM', 'RECYCLING - SINGLE STREAM', 'YARD TRIMMING', 'GARBAGE COLLECTIONS', 'GARBAGE COLLECTIONS', 'YARD TRIMMING', 'BRUSH', 'YARD TRIMMING', 'YARD TRIMMING', 'RECYCLING - SINGLE STREAM', 'GARBAGE COLLECTIONS', 'RECYCLING - SINGLE STREAM', 'GARBAGE COLLECTIONS', 'RECYCLING - SINGLE STREAM', 'BRUSH', 'YARD TRIMMING', 'GARBAGE COLLECTIONS', 'SWEEPING', 'RECYCLING - SINGLE STREAM', 'BRUSH', 'BRUSH', 'GARBAGE COLLECTIONS', 'YARD TRIMMING', 'BRUSH', 'RECYCLING - SINGLE STREAM', 'BULK', 'YARD TRIMMING', 'GARBAGE COLLECTIONS', 'RECYCLING - SINGLE STREAM', 'GARBAGE COLLECTIONS', 'GARBAGE COLLECTIONS', 'GARBAGE COLLECTIONS', 'YARD TRIMMING', 'RECYCLING - SINGLE STREAM', 'RECYCLING - SINGLE STREAM', 'RECYCLING - SINGLE STREAM', 'YARD TRIMMING', 'GARBAGE COLLECTIONS', 'GARBAGE COLLECTIONS', 'RECYCLING - SINGLE STREAM', 'RECYCLING - SINGLE STREAM', 'GARBAGE COLLECTIONS', 'RECYCLING - SINGLE STREAM', 'YARD TRIMMING', 'GARBAGE COLLECTIONS', 'YARD TRIMMING', 'RECYCLING - SINGLE STREAM', 'RECYCLING - SINGLE STREAM', 'RECYCLING - SINGLE STREAM', 'GARBAGE COLLECTIONS', 'RECYCLING - SINGLE STREAM', 'GARBAGE COLLECTIONS', 'RECYCLING - SINGLE STREAM', 'BRUSH', 'GARBAGE COLLECTIONS', 'YARD TRIMMING', 'GARBAGE COLLECTIONS', 'GARBAGE COLLECTIONS', 'YARD TRIMMING', 'GARBAGE COLLECTIONS', 'YARD TRIMMING', 'GARBAGE COLLECTIONS', 'RECYCLING - SINGLE STREAM', 'RECYCLING - SINGLE STREAM', 'GARBAGE COLLECTIONS', 'YARD TRIMMING', 'GARBAGE COLLECTIONS', 'RECYCLING - SINGLE STREAM', 'GARBAGE COLLECTIONS', 'SWEEPING', 'GARBAGE COLLECTIONS', 'YARD TRIMMING', 'BRUSH', 'BRUSH', 'GARBAGE COLLECTIONS', 'GARBAGE COLLECTIONS', 'GARBAGE COLLECTIONS', 'YARD TRIMMING', 'GARBAGE COLLECTIONS', 'RECYCLING - SINGLE STREAM', 'YARD TRIMMING', 'GARBAGE COLLECTIONS', 'RECYCLING - SINGLE STREAM', 'BULK', 'YARD TRIMMING', 'GARBAGE COLLECTIONS', 'YARD TRIMMING', 'RECYCLING - SINGLE STREAM', 'RECYCLING - SINGLE STREAM', 'RECYCLING - SINGLE STREAM', 'RECYCLING - SINGLE STREAM', 'GARBAGE COLLECTIONS']",
            "count": 1
           }
          ]
         }
        },
        {
         "name": "Load Weight",
         "dtype": "float64",
         "stats": {
          "unique_count": 1,
          "nan_count": 0,
          "min": "10460745.0",
          "max": "10460745.0",
          "histogram": [
           {
            "bin_start": 10460744.5,
            "bin_end": 10460744.6,
            "count": 0
           },
           {
            "bin_start": 10460744.6,
            "bin_end": 10460744.7,
            "count": 0
           },
           {
            "bin_start": 10460744.7,
            "bin_end": 10460744.8,
            "count": 0
           },
           {
            "bin_start": 10460744.8,
            "bin_end": 10460744.9,
            "count": 0
           },
           {
            "bin_start": 10460744.9,
            "bin_end": 10460745,
            "count": 0
           },
           {
            "bin_start": 10460745,
            "bin_end": 10460745.1,
            "count": 1
           },
           {
            "bin_start": 10460745.1,
            "bin_end": 10460745.2,
            "count": 0
           },
           {
            "bin_start": 10460745.2,
            "bin_end": 10460745.3,
            "count": 0
           },
           {
            "bin_start": 10460745.3,
            "bin_end": 10460745.4,
            "count": 0
           },
           {
            "bin_start": 10460745.4,
            "bin_end": 10460745.5,
            "count": 0
           }
          ]
         }
        },
        {
         "name": "Dropoff Site",
         "dtype": "object",
         "stats": {
          "unique_count": 1,
          "nan_count": 0,
          "categories": [
           {
            "name": "['TDS LANDFILL', 'TDS LANDFILL', 'TDS LANDFILL', 'TDS LANDFILL', 'TDS LANDFILL', 'HORNSBY BEND', 'BALCONES RECYCLING', 'TDS - MRF', 'BALCONES RECYCLING', 'TDS - MRF', 'TDS LANDFILL', 'TDS LANDFILL', 'HORNSBY BEND', 'TDS LANDFILL', 'TDS LANDFILL', 'TDS - MRF', 'ORGANICS BY GOSH', 'TDS LANDFILL', 'TDS LANDFILL', 'TDS LANDFILL', 'HORNSBY BEND', 'TDS LANDFILL', 'TDS LANDFILL', 'HORNSBY BEND', 'TDS LANDFILL', 'TDS LANDFILL', 'TDS LANDFILL', 'TDS - MRF', 'HORNSBY BEND', 'HORNSBY BEND', 'HORNSBY BEND', 'TDS LANDFILL', 'TDS LANDFILL', 'TDS - MRF', 'TDS LANDFILL', 'TDS LANDFILL', 'HORNSBY BEND', 'TDS - MRF', 'TDS LANDFILL', 'TDS LANDFILL', 'TDS - MRF', 'HORNSBY BEND', 'TDS - MRF', 'TDS LANDFILL', 'TDS LANDFILL', 'TDS LANDFILL', 'HORNSBY BEND', 'HORNSBY BEND', 'TDS - MRF', 'TDS LANDFILL', 'HORNSBY BEND', 'HORNSBY BEND', 'BALCONES RECYCLING', 'TDS LANDFILL', 'HORNSBY BEND', 'HORNSBY BEND', 'TDS LANDFILL', 'TDS LANDFILL', 'GREAT NORTHERN', 'TDS LANDFILL', 'TDS LANDFILL', 'HORNSBY BEND', 'TDS LANDFILL', 'HORNSBY BEND', 'TDS LANDFILL', 'TDS LANDFILL', 'BALCONES RECYCLING', 'TDS LANDFILL', 'TDS - MRF', 'HORNSBY BEND', 'TDS LANDFILL', 'BALCONES RECYCLING', 'TDS LANDFILL', 'TDS - MRF', 'HORNSBY BEND', 'HORNSBY BEND', 'TDS LANDFILL', 'TDS LANDFILL', 'TDS LANDFILL', 'HORNSBY BEND', 'HORNSBY BEND', 'TDS LANDFILL', 'TDS LANDFILL', 'BALCONES RECYCLING', 'TDS LANDFILL', 'HORNSBY BEND', 'TDS LANDFILL', 'BALCONES RECYCLING', 'TDS - MRF', 'TDS LANDFILL', 'TDS LANDFILL', 'BALCONES RECYCLING', 'BALCONES RECYCLING', 'TDS LANDFILL', 'TDS LANDFILL', 'HORNSBY BEND', 'TDS LANDFILL', 'TDS LANDFILL', 'TDS - MRF', 'HORNSBY BEND', 'TDS LANDFILL', 'TDS LANDFILL', 'TDS LANDFILL', 'TDS - MRF', 'TDS - MRF', 'TDS LANDFILL', 'HORNSBY BEND', 'TDS LANDFILL', 'TDS - MRF', 'TDS LANDFILL', 'HORNSBY BEND', 'TDS LANDFILL', 'BALCONES RECYCLING', 'HORNSBY BEND', 'TDS LANDFILL', 'TDS LANDFILL', 'TDS - MRF', 'TDS LANDFILL', 'TDS - MRF', 'TDS LANDFILL', 'TDS LANDFILL', 'TDS - MRF', 'TDS LANDFILL', 'TDS LANDFILL', 'BALCONES RECYCLING', 'ORGANICS BY GOSH', 'TDS LANDFILL', 'TDS LANDFILL', 'BALCONES RECYCLING', 'TDS LANDFILL', 'TDS LANDFILL', 'TDS LANDFILL', 'TDS LANDFILL', 'TDS - MRF', 'TDS LANDFILL', 'TDS LANDFILL', 'HORNSBY BEND', 'HORNSBY BEND', 'TDS - MRF', 'BALCONES RECYCLING', 'TDS LANDFILL', 'TDS LANDFILL', 'TDS LANDFILL', 'BALCONES RECYCLING', 'TDS LANDFILL', 'TDS LANDFILL', 'HORNSBY BEND', 'TDS LANDFILL', 'BALCONES RECYCLING', 'HORNSBY BEND', 'TDS LANDFILL', 'HORNSBY BEND', 'TDS LANDFILL', 'HORNSBY BEND', 'BALCONES RECYCLING', 'HORNSBY BEND', 'BALCONES RECYCLING', 'TDS LANDFILL', 'BALCONES RECYCLING', 'TDS - MRF', 'TDS LANDFILL', 'TDS LANDFILL', 'HORNSBY BEND', 'HORNSBY BEND', 'TDS - MRF', 'TDS LANDFILL', 'HORNSBY BEND', 'TDS LANDFILL', 'TDS - MRF', 'TDS LANDFILL', 'TDS LANDFILL', 'TDS - MRF', 'HORNSBY BEND', 'TDS - MRF', 'TDS LANDFILL', 'TDS LANDFILL', 'HORNSBY BEND', 'TDS LANDFILL', 'TDS LANDFILL', 'TDS LANDFILL', 'HORNSBY BEND', 'TDS - MRF', 'TDS LANDFILL', 'HORNSBY BEND', 'TDS LANDFILL', 'HORNSBY BEND', 'TDS LANDFILL', 'TDS - MRF', 'TDS LANDFILL', 'TDS LANDFILL', 'TDS LANDFILL', 'ORGANICS BY GOSH', 'HORNSBY BEND', 'ORGANICS BY GOSH', 'TDS - MRF', 'HORNSBY BEND', 'TDS LANDFILL', 'TDS - MRF', 'TDS LANDFILL', 'TDS LANDFILL', 'TDS - MRF', 'TDS LANDFILL', 'TDS LANDFILL', 'TDS LANDFILL', 'TDS - MRF', 'TDS - MRF', 'TDS LANDFILL', 'TDS LANDFILL', 'HORNSBY BEND', 'HORNSBY BEND', 'HORNSBY BEND', 'HORNSBY BEND', 'HORNSBY BEND', 'HORNSBY BEND', 'HORNSBY BEND', 'TDS - MRF', 'TDS LANDFILL', 'TDS - MRF', 'HORNSBY BEND', 'TDS LANDFILL', 'TDS LANDFILL', 'TDS LANDFILL', 'HORNSBY BEND', 'TDS - MRF', 'BALCONES RECYCLING', 'TDS LANDFILL', 'TDS LANDFILL', 'HORNSBY BEND', 'HORNSBY BEND', 'BALCONES RECYCLING', 'TDS LANDFILL', 'TDS - MRF', 'TDS LANDFILL', 'TDS LANDFILL', 'BALCONES RECYCLING', 'TDS - MRF', 'TDS LANDFILL', 'TDS LANDFILL', 'TDS LANDFILL', 'ORGANICS BY GOSH', 'TDS LANDFILL', 'TDS LANDFILL', 'HORNSBY BEND', 'TDS LANDFILL', 'TDS LANDFILL', 'TDS LANDFILL', 'TDS LANDFILL', 'TDS LANDFILL', 'HORNSBY BEND', 'HORNSBY BEND', 'TDS LANDFILL', 'TDS LANDFILL', 'TDS LANDFILL', 'TDS LANDFILL', 'HORNSBY BEND', 'TDS LANDFILL', 'HORNSBY BEND', 'TDS LANDFILL', 'TDS LANDFILL', 'HORNSBY BEND', 'TDS LANDFILL', 'TDS - MRF', 'TDS LANDFILL', 'BALCONES RECYCLING', 'HORNSBY BEND', 'TDS LANDFILL', 'TDS LANDFILL', 'TDS LANDFILL', 'TDS LANDFILL', 'TDS LANDFILL', 'TDS - MRF', 'HORNSBY BEND', 'ORGANICS BY GOSH', 'TDS LANDFILL', 'TDS - MRF', 'BALCONES RECYCLING', 'TDS LANDFILL', 'BALCONES RECYCLING', 'BALCONES RECYCLING', 'TDS - MRF', 'TDS LANDFILL', 'HORNSBY BEND', 'TDS - MRF', 'TDS - MRF', 'BALCONES RECYCLING', 'HORNSBY BEND', 'TDS LANDFILL', 'HORNSBY BEND', 'HORNSBY BEND', 'HORNSBY BEND', 'HORNSBY BEND', 'BALCONES RECYCLING', 'HORNSBY BEND', 'TDS LANDFILL', 'TDS LANDFILL', 'HORNSBY BEND', 'HORNSBY BEND', 'TDS LANDFILL', 'TDS LANDFILL', 'TDS LANDFILL', 'HORNSBY BEND', 'BALCONES RECYCLING', 'TDS LANDFILL', 'HORNSBY BEND', 'HORNSBY BEND', 'TDS LANDFILL', 'HORNSBY BEND', 'TDS LANDFILL', 'HORNSBY BEND', 'HORNSBY BEND', 'TDS LANDFILL', 'TDS LANDFILL', 'BALCONES RECYCLING', 'TDS LANDFILL', 'TDS LANDFILL', 'TDS LANDFILL', 'TDS - MRF', 'HORNSBY BEND', 'TDS LANDFILL', 'TDS LANDFILL', 'TDS LANDFILL', 'BALCONES RECYCLING', 'TDS LANDFILL', 'BALCONES RECYCLING', 'TDS - MRF', 'HORNSBY BEND', 'HORNSBY BEND', 'TDS - MRF', 'TDS LANDFILL', 'TDS - MRF', 'BALCONES RECYCLING', 'HORNSBY BEND', 'HORNSBY BEND', 'TDS LANDFILL', 'HORNSBY BEND', 'BALCONES RECYCLING', 'BALCONES RECYCLING', 'HORNSBY BEND', 'HORNSBY BEND', 'TDS LANDFILL', 'TDS LANDFILL', 'TDS LANDFILL', 'HORNSBY BEND', 'TDS LANDFILL', 'TDS LANDFILL', 'HORNSBY BEND', 'HORNSBY BEND', 'HORNSBY BEND', 'ORGANICS BY GOSH', 'HORNSBY BEND', 'TDS - MRF', 'HORNSBY BEND', 'HORNSBY BEND', 'HORNSBY BEND', 'TDS - MRF', 'HORNSBY BEND', 'HORNSBY BEND', 'TDS - MRF', 'TDS - MRF', 'HORNSBY BEND', 'TDS LANDFILL', 'TDS LANDFILL', 'TDS LANDFILL', 'HORNSBY BEND', 'HORNSBY BEND', 'TDS LANDFILL', 'TDS LANDFILL', 'TDS LANDFILL', 'TDS LANDFILL', 'TDS LANDFILL', 'BALCONES RECYCLING', 'HORNSBY BEND', 'HORNSBY BEND', 'TDS - MRF', 'TDS LANDFILL', 'BALCONES RECYCLING', 'TDS LANDFILL', 'BALCONES RECYCLING', 'TDS - MRF', 'TDS - MRF', 'HORNSBY BEND', 'HORNSBY BEND', 'HORNSBY BEND', 'HORNSBY BEND', 'HORNSBY BEND', 'BALCONES RECYCLING', 'TDS LANDFILL', 'BALCONES WOODS', 'HORNSBY BEND', 'HORNSBY BEND', 'TDS - MRF', 'TDS - MRF', 'HORNSBY BEND', 'BALCONES RECYCLING', 'TDS LANDFILL', 'TDS - MRF', 'TDS LANDFILL', 'TDS - MRF', 'TDS LANDFILL', 'HORNSBY BEND', 'TDS LANDFILL', 'TDS - MRF', 'TDS - MRF', 'TDS LANDFILL', 'HORNSBY BEND', 'HORNSBY BEND', 'TDS LANDFILL', 'HORNSBY BEND', 'TDS - MRF', 'TDS LANDFILL', 'TDS LANDFILL', 'TDS LANDFILL', 'HORNSBY BEND', 'TDS LANDFILL', 'BALCONES RECYCLING', 'HORNSBY BEND', 'TDS LANDFILL', 'TDS LANDFILL', 'TDS LANDFILL', 'TDS LANDFILL', 'TDS LANDFILL', 'HORNSBY BEND', 'TDS LANDFILL', 'TDS - MRF', 'HORNSBY BEND', 'TDS - MRF', 'TDS - MRF', 'BALCONES RECYCLING', 'HORNSBY BEND', 'TDS LANDFILL', 'HORNSBY BEND', 'TDS LANDFILL', 'HORNSBY BEND', 'TDS LANDFILL', 'HORNSBY BEND', 'HORNSBY BEND', 'HORNSBY BEND', 'ORGANICS BY GOSH', 'TDS - MRF', 'TDS LANDFILL', 'HORNSBY BEND', 'HORNSBY BEND', 'BALCONES RECYCLING', 'BALCONES RECYCLING', 'HORNSBY BEND', 'TDS LANDFILL', 'TDS LANDFILL', 'ORGANICS BY GOSH', 'HORNSBY BEND', 'HORNSBY BEND', 'TDS - MRF', 'TDS LANDFILL', 'HORNSBY BEND', 'HORNSBY BEND', 'TDS LANDFILL', 'HORNSBY BEND', 'ORGANICS BY GOSH', 'TDS LANDFILL', 'TDS LANDFILL', 'TDS LANDFILL', 'TDS LANDFILL', 'HORNSBY BEND', 'ORGANICS BY GOSH', 'TDS LANDFILL', 'HORNSBY BEND', 'BALCONES RECYCLING', 'TDS LANDFILL', 'TDS - MRF', 'TDS LANDFILL', 'BALCONES RECYCLING', 'TDS LANDFILL', 'TDS LANDFILL', 'TDS LANDFILL', 'TDS LANDFILL', 'HORNSBY BEND', 'TDS - MRF', 'TDS LANDFILL', 'ORGANICS BY GOSH', 'HORNSBY BEND', 'TDS LANDFILL', 'TDS LANDFILL', 'TDS - MRF', 'TDS LANDFILL', 'TDS LANDFILL', 'BALCONES RECYCLING', 'TDS LANDFILL', 'HORNSBY BEND', 'HORNSBY BEND', 'HORNSBY BEND', 'TDS LANDFILL', 'TDS LANDFILL', 'BALCONES RECYCLING', 'TDS LANDFILL', 'TDS - MRF', 'TDS - MRF', 'TDS - MRF', 'HORNSBY BEND', 'BALCONES RECYCLING', 'BALCONES RECYCLING', 'HORNSBY BEND', 'BALCONES RECYCLING', 'TDS LANDFILL', 'TDS LANDFILL', 'TDS LANDFILL', 'TDS LANDFILL', 'HORNSBY BEND', 'TDS - MRF', 'TDS LANDFILL', 'HORNSBY BEND', 'TDS LANDFILL', 'TDS LANDFILL', 'TDS LANDFILL', 'BALCONES RECYCLING', 'BALCONES RECYCLING', 'TDS LANDFILL', 'TDS - MRF', 'HORNSBY BEND', 'TDS LANDFILL', 'TDS LANDFILL', 'TDS LANDFILL', 'HORNSBY BEND', 'TDS LANDFILL', 'BALCONES RECYCLING', 'BALCONES RECYCLING', 'BALCONES RECYCLING', 'HORNSBY BEND', 'TDS LANDFILL', 'TDS LANDFILL', 'TDS - MRF', 'TDS LANDFILL', 'TDS LANDFILL', 'HORNSBY BEND', 'TDS LANDFILL', 'BALCONES RECYCLING', 'HORNSBY BEND', 'TDS LANDFILL', 'TDS - MRF', 'ORGANICS BY GOSH', 'TDS LANDFILL', 'TDS LANDFILL', 'BALCONES RECYCLING', 'TDS LANDFILL', 'TDS LANDFILL', 'HORNSBY BEND', 'TDS LANDFILL', 'BALCONES RECYCLING', 'HORNSBY BEND', 'HORNSBY BEND', 'TDS - MRF', 'TDS LANDFILL', 'TDS LANDFILL', 'TDS LANDFILL', 'TDS LANDFILL', 'TDS LANDFILL', 'TDS LANDFILL', 'TDS - MRF', 'TDS LANDFILL', 'HORNSBY BEND', 'TDS LANDFILL', 'TDS LANDFILL', 'HORNSBY BEND', 'TDS LANDFILL', 'HORNSBY BEND', 'BALCONES RECYCLING', 'TDS LANDFILL', 'TDS LANDFILL', 'ORGANICS BY GOSH', 'TDS LANDFILL', 'BALCONES RECYCLING', 'TDS LANDFILL', 'TDS LANDFILL', 'TDS - MRF', 'HORNSBY BEND', 'TDS LANDFILL', 'TDS LANDFILL', 'TDS LANDFILL', 'TDS LANDFILL', 'HORNSBY BEND', 'BALCONES RECYCLING', 'TDS LANDFILL', 'HORNSBY BEND', 'HORNSBY BEND', 'TDS - MRF', 'HORNSBY BEND', 'TDS LANDFILL', 'HORNSBY BEND', 'TDS LANDFILL', 'TDS - MRF', 'TDS LANDFILL', 'TDS - MRF', 'TDS LANDFILL', 'BALCONES RECYCLING', 'TDS - MRF', 'TDS LANDFILL', 'TDS LANDFILL', 'TDS LANDFILL', 'BALCONES RECYCLING', 'HORNSBY BEND', 'BALCONES RECYCLING', 'TDS - MRF', 'HORNSBY BEND', 'HORNSBY BEND', 'TDS - MRF', 'TDS - MRF', 'HORNSBY BEND', 'HORNSBY BEND', 'HORNSBY BEND', 'TDS LANDFILL', 'HORNSBY BEND', 'HORNSBY BEND', 'HORNSBY BEND', 'TDS LANDFILL', 'HORNSBY BEND', 'HORNSBY BEND', 'HORNSBY BEND', 'TDS LANDFILL', 'BALCONES RECYCLING', 'TDS - MRF', 'GREAT NORTHERN', 'TDS LANDFILL', 'TDS LANDFILL', 'HORNSBY BEND', 'TDS LANDFILL', 'TDS - MRF', 'BALCONES RECYCLING', 'TDS LANDFILL', 'TDS LANDFILL', 'HORNSBY BEND', 'TDS LANDFILL', 'TDS - MRF', 'TDS - MRF', 'ORGANICS BY GOSH', 'TDS LANDFILL', 'TDS - MRF', 'TDS LANDFILL', 'TDS - MRF', 'BALCONES RECYCLING', 'HORNSBY BEND', 'TDS LANDFILL', 'TDS LANDFILL', 'HORNSBY BEND', 'HORNSBY BEND', 'ORGANICS BY GOSH', 'HORNSBY BEND', 'TDS - MRF', 'TDS LANDFILL', 'TDS - MRF', 'TDS LANDFILL', 'BALCONES RECYCLING', 'HORNSBY BEND', 'HORNSBY BEND', 'TDS LANDFILL', 'TDS LANDFILL', 'BALCONES RECYCLING', 'HORNSBY BEND', 'HORNSBY BEND', 'TDS LANDFILL', 'HORNSBY BEND', 'HORNSBY BEND', 'TDS - MRF', 'TDS LANDFILL', 'HORNSBY BEND', 'TDS LANDFILL', 'BALCONES RECYCLING', 'TDS LANDFILL', 'TDS LANDFILL', 'TDS LANDFILL', 'HORNSBY BEND', 'TDS - MRF', 'BALCONES RECYCLING', 'BALCONES RECYCLING', 'ORGANICS BY GOSH', 'TDS LANDFILL', 'TDS LANDFILL', 'BALCONES RECYCLING', 'BALCONES RECYCLING', 'TDS LANDFILL', 'TDS - MRF', 'HORNSBY BEND', 'TDS LANDFILL', 'HORNSBY BEND', 'BALCONES RECYCLING', 'BALCONES RECYCLING', 'BALCONES RECYCLING', 'TDS LANDFILL', 'BALCONES RECYCLING', 'TDS LANDFILL', 'TDS - MRF', 'HORNSBY BEND', 'TDS LANDFILL', 'HORNSBY BEND', 'TDS LANDFILL', 'TDS LANDFILL', 'HORNSBY BEND', 'TDS LANDFILL', 'HORNSBY BEND', 'TDS LANDFILL', 'TDS - MRF', 'BALCONES RECYCLING', 'TDS LANDFILL', 'HORNSBY BEND', 'TDS LANDFILL', 'BALCONES RECYCLING', 'TDS LANDFILL', 'TDS LANDFILL', 'TDS LANDFILL', 'HORNSBY BEND', 'HORNSBY BEND', 'HORNSBY BEND', 'TDS LANDFILL', 'TDS LANDFILL', 'TDS LANDFILL', 'HORNSBY BEND', 'TDS LANDFILL', 'TDS - MRF', 'HORNSBY BEND', 'TDS LANDFILL', 'TDS - MRF', 'MRF', 'ORGANICS BY GOSH', 'TDS LANDFILL', 'ORGANICS BY GOSH', 'BALCONES RECYCLING', 'TDS - MRF', 'BALCONES RECYCLING', 'BALCONES RECYCLING', 'TDS LANDFILL']",
            "count": 1
           }
          ]
         }
        },
        {
         "name": "Route Type",
         "dtype": "object",
         "stats": {
          "unique_count": 1,
          "nan_count": 0,
          "categories": [
           {
            "name": "['RECYCLING - SINGLE STREAM', 'GARBAGE COLLECTION', 'GARBAGE COLLECTION', 'GARBAGE COLLECTION', 'GARBAGE COLLECTION', 'YARD TRIMMINGS', 'RECYCLING - SINGLE STREAM', 'RECYCLING - SINGLE STREAM', 'RECYCLING - SINGLE STREAM', 'RECYCLING - SINGLE STREAM', 'GARBAGE COLLECTION', 'RECYCLING - SINGLE STREAM', 'BRUSH', 'GARBAGE COLLECTION', 'GARBAGE COLLECTION', 'RECYCLING - SINGLE STREAM', 'YARD TRIMMINGS-ORGANICS', 'GARBAGE COLLECTION', 'GARBAGE COLLECTION', 'GARBAGE COLLECTION', 'YARD TRIMMINGS', 'GARBAGE COLLECTION', 'GARBAGE COLLECTION', 'YARD TRIMMINGS', 'GARBAGE COLLECTION', 'RECYCLING - SINGLE STREAM', 'GARBAGE COLLECTION', 'RECYCLING - SINGLE STREAM', 'YARD TRIMMINGS', 'YARD TRIMMINGS', 'YARD TRIMMINGS', 'GARBAGE COLLECTION', 'GARBAGE COLLECTION', 'RECYCLING - SINGLE STREAM', 'GARBAGE COLLECTION', 'GARBAGE COLLECTION', 'YARD TRIMMINGS', 'RECYCLING - SINGLE STREAM', 'GARBAGE COLLECTION', 'GARBAGE COLLECTION', 'RECYCLING - SINGLE STREAM', 'YARD TRIMMINGS', 'RECYCLING - SINGLE STREAM', 'GARBAGE COLLECTION', 'GARBAGE COLLECTION', 'GARBAGE COLLECTION', 'YARD TRIMMINGS', 'YARD TRIMMINGS', 'RECYCLING - SINGLE STREAM', 'GARBAGE COLLECTION', 'YARD TRIMMINGS', 'YARD TRIMMINGS', 'RECYCLING - SINGLE STREAM', 'GARBAGE COLLECTION', 'YARD TRIMMINGS', 'YARD TRIMMINGS-ORGANICS', 'SWEEPER DUMPSITES', 'GARBAGE COLLECTION', 'YARD TRIMMINGS', 'GARBAGE COLLECTION', 'GARBAGE COLLECTION', 'YARD TRIMMINGS', 'GARBAGE COLLECTION', 'YARD TRIMMINGS', 'GARBAGE COLLECTION', 'GARBAGE COLLECTION', 'RECYCLING - SINGLE STREAM', 'GARBAGE COLLECTION', 'RECYCLING - SINGLE STREAM', 'YARD TRIMMINGS', 'GARBAGE COLLECTION', 'RECYCLING - SINGLE STREAM', 'RECYCLING - SINGLE STREAM', 'RECYCLING - SINGLE STREAM', 'YARD TRIMMINGS', 'YARD TRIMMINGS', 'GARBAGE COLLECTION', 'GARBAGE COLLECTION', 'SWEEPER DUMPSITES', 'YARD TRIMMINGS', 'BRUSH', 'GARBAGE COLLECTION', 'GARBAGE COLLECTION', 'RECYCLING - SINGLE STREAM', 'GARBAGE COLLECTION', 'YARD TRIMMINGS', 'RECYCLING - SINGLE STREAM', 'RECYCLING - SINGLE STREAM', 'RECYCLING - SINGLE STREAM', 'GARBAGE COLLECTION', 'GARBAGE COLLECTION', 'RECYCLING - SINGLE STREAM', 'RECYCLING - SINGLE STREAM', 'GARBAGE COLLECTION', 'GARBAGE COLLECTION', 'YARD TRIMMINGS', 'GARBAGE COLLECTION', 'GARBAGE COLLECTION', 'RECYCLING - SINGLE STREAM', 'YARD TRIMMINGS', 'RECYCLING - SINGLE STREAM', 'SWEEPER DUMPSITES', 'GARBAGE COLLECTION', 'RECYCLING - SINGLE STREAM', 'RECYCLING - SINGLE STREAM', 'GARBAGE COLLECTION', 'YARD TRIMMINGS', 'GARBAGE COLLECTION', 'RECYCLING - SINGLE STREAM', 'GARBAGE COLLECTION', 'YARD TRIMMINGS', 'GARBAGE COLLECTION', 'RECYCLING - SINGLE STREAM', 'YARD TRIMMINGS', 'SWEEPER DUMPSITES', 'GARBAGE COLLECTION', 'RECYCLING - SINGLE STREAM', 'GARBAGE COLLECTION', 'RECYCLING - SINGLE STREAM', 'DEAD ANIMAL', 'GARBAGE COLLECTION', 'RECYCLING - SINGLE STREAM', 'GARBAGE COLLECTION', 'GARBAGE COLLECTION', 'INHOUSE - RECYCLING', 'YARD TRIMMINGS-ORGANICS', 'GARBAGE COLLECTION', 'GARBAGE COLLECTION', 'RECYCLING - SINGLE STREAM', 'GARBAGE COLLECTION', 'GARBAGE COLLECTION', 'GARBAGE COLLECTION', 'GARBAGE COLLECTION', 'RECYCLING - SINGLE STREAM', 'GARBAGE COLLECTION', 'GARBAGE COLLECTION', 'YARD TRIMMINGS', 'BRUSH', 'RECYCLING - SINGLE STREAM', 'RECYCLING - SINGLE STREAM', 'SWEEPER DUMPSITES', 'SWEEPER DUMPSITES', 'RECYCLING - SINGLE STREAM', 'RECYCLING - SINGLE STREAM', 'GARBAGE COLLECTION', 'GARBAGE COLLECTION', 'YARD TRIMMINGS', 'GARBAGE COLLECTION', 'RECYCLING - SINGLE STREAM', 'BRUSH', 'GARBAGE COLLECTION', 'YARD TRIMMINGS', 'GARBAGE COLLECTION', 'YARD TRIMMINGS', 'RECYCLING - SINGLE STREAM', 'YARD TRIMMINGS', 'RECYCLING - SINGLE STREAM', 'GARBAGE COLLECTION', 'RECYCLING - SINGLE STREAM', 'RECYCLING - SINGLE STREAM', 'GARBAGE COLLECTION', 'GARBAGE COLLECTION', 'YARD TRIMMINGS', 'YARD TRIMMINGS', 'INHOUSE - RECYCLING', 'GARBAGE COLLECTION', 'YARD TRIMMINGS', 'GARBAGE COLLECTION', 'RECYCLING - SINGLE STREAM', 'GARBAGE COLLECTION', 'GARBAGE COLLECTION', 'RECYCLING - SINGLE STREAM', 'YARD TRIMMINGS', 'RECYCLING - SINGLE STREAM', 'SWEEPER DUMPSITES', 'GARBAGE COLLECTION', 'YARD TRIMMINGS', 'SWEEPER DUMPSITES', 'SWEEPER DUMPSITES', 'SWEEPER DUMPSITES', 'YARD TRIMMINGS', 'RECYCLING - SINGLE STREAM', 'GARBAGE COLLECTION', 'YARD TRIMMINGS', 'GARBAGE COLLECTION', 'YARD TRIMMINGS', 'GARBAGE COLLECTION', 'RECYCLING - SINGLE STREAM', 'GARBAGE COLLECTION', 'GARBAGE COLLECTION', 'GARBAGE COLLECTION', 'YARD TRIMMINGS-ORGANICS', 'YARD TRIMMINGS', 'YARD TRIMMINGS-ORGANICS', 'RECYCLING - SINGLE STREAM', 'YARD TRIMMINGS', 'GARBAGE COLLECTION', 'RECYCLING - SINGLE STREAM', 'GARBAGE COLLECTION', 'GARBAGE COLLECTION', 'RECYCLING - SINGLE STREAM', 'GARBAGE COLLECTION', 'GARBAGE COLLECTION', 'GARBAGE COLLECTION', 'RECYCLING - SINGLE STREAM', 'RECYCLING - SINGLE STREAM', 'GARBAGE COLLECTION', 'GARBAGE COLLECTION', 'YARD TRIMMINGS', 'BRUSH', 'YARD TRIMMINGS', 'YARD TRIMMINGS', 'YARD TRIMMINGS', 'YARD TRIMMINGS', 'YARD TRIMMINGS', 'RECYCLING - SINGLE STREAM', 'GARBAGE COLLECTION', 'RECYCLING - SINGLE STREAM', 'YARD TRIMMINGS', 'GARBAGE COLLECTION', 'GARBAGE COLLECTION', 'GARBAGE COLLECTION', 'BRUSH', 'RECYCLING - SINGLE STREAM', 'RECYCLING - SINGLE STREAM', 'GARBAGE COLLECTION', 'GARBAGE COLLECTION', 'YARD TRIMMINGS', 'YARD TRIMMINGS', 'RECYCLING - SINGLE STREAM', 'RECYCLING - SINGLE STREAM', 'RECYCLING - SINGLE STREAM', 'GARBAGE COLLECTION', 'GARBAGE COLLECTION', 'RECYCLING - SINGLE STREAM', 'RECYCLING - SINGLE STREAM', 'GARBAGE COLLECTION', 'GARBAGE COLLECTION', 'GARBAGE COLLECTION', 'YARD TRIMMINGS-ORGANICS', 'GARBAGE COLLECTION', 'GARBAGE COLLECTION', 'BRUSH', 'GARBAGE COLLECTION', 'GARBAGE COLLECTION', 'GARBAGE COLLECTION', 'GARBAGE COLLECTION', 'GARBAGE COLLECTION', 'YARD TRIMMINGS', 'BRUSH', 'GARBAGE COLLECTION', 'GARBAGE COLLECTION', 'GARBAGE COLLECTION', 'GARBAGE COLLECTION', 'YARD TRIMMINGS', 'GARBAGE COLLECTION', 'YARD TRIMMINGS', 'GARBAGE COLLECTION', 'GARBAGE COLLECTION', 'YARD TRIMMINGS', 'SWEEPER DUMPSITES', 'RECYCLING - SINGLE STREAM', 'GARBAGE COLLECTION', 'RECYCLING - SINGLE STREAM', 'YARD TRIMMINGS', 'GARBAGE COLLECTION', 'GARBAGE COLLECTION', 'GARBAGE COLLECTION', 'GARBAGE COLLECTION', 'GARBAGE COLLECTION', 'RECYCLING - SINGLE STREAM', 'YARD TRIMMINGS', 'YARD TRIMMINGS-ORGANICS', 'GARBAGE COLLECTION', 'RECYCLING - SINGLE STREAM', 'RECYCLING - SINGLE STREAM', 'GARBAGE COLLECTION', 'RECYCLING - SINGLE STREAM', 'RECYCLING - SINGLE STREAM', 'RECYCLING - SINGLE STREAM', 'GARBAGE COLLECTION', 'BRUSH', 'RECYCLING - SINGLE STREAM', 'RECYCLING - SINGLE STREAM', 'RECYCLING - SINGLE STREAM', 'BRUSH', 'GARBAGE COLLECTION', 'YARD TRIMMINGS', 'YARD TRIMMINGS', 'YARD TRIMMINGS', 'YARD TRIMMINGS', 'RECYCLING - SINGLE STREAM', 'YARD TRIMMINGS', 'GARBAGE COLLECTION', 'SWEEPER DUMPSITES', 'BRUSH', 'YARD TRIMMINGS', 'GARBAGE COLLECTION', 'GARBAGE COLLECTION', 'GARBAGE COLLECTION', 'YARD TRIMMINGS', 'RECYCLING - SINGLE STREAM', 'GARBAGE COLLECTION', 'YARD TRIMMINGS', 'YARD TRIMMINGS', 'GARBAGE COLLECTION', 'YARD TRIMMINGS', 'SWEEPER DUMPSITES', 'BRUSH', 'YARD TRIMMINGS', 'GARBAGE COLLECTION', 'GARBAGE COLLECTION', 'RECYCLING - SINGLE STREAM', 'GARBAGE COLLECTION', 'GARBAGE COLLECTION', 'GARBAGE COLLECTION', 'RECYCLING - SINGLE STREAM', 'YARD TRIMMINGS', 'GARBAGE COLLECTION', 'SWEEPER DUMPSITES', 'GARBAGE COLLECTION', 'RECYCLING - SINGLE STREAM', 'GARBAGE COLLECTION', 'RECYCLING - SINGLE STREAM', 'RECYCLING - SINGLE STREAM', 'YARD TRIMMINGS', 'YARD TRIMMINGS', 'RECYCLING - SINGLE STREAM', 'GARBAGE COLLECTION', 'RECYCLING - SINGLE STREAM', 'RECYCLING - SINGLE STREAM', 'YARD TRIMMINGS', 'YARD TRIMMINGS', 'GARBAGE COLLECTION', 'YARD TRIMMINGS', 'RECYCLING - SINGLE STREAM', 'RECYCLING - SINGLE STREAM', 'YARD TRIMMINGS', 'YARD TRIMMINGS', 'GARBAGE COLLECTION', 'GARBAGE COLLECTION', 'GARBAGE COLLECTION', 'YARD TRIMMINGS', 'GARBAGE COLLECTION', 'GARBAGE COLLECTION', 'YARD TRIMMINGS', 'BRUSH', 'BRUSH', 'YARD TRIMMINGS-ORGANICS', 'YARD TRIMMINGS', 'RECYCLING - SINGLE STREAM', 'YARD TRIMMINGS', 'YARD TRIMMINGS', 'YARD TRIMMINGS', 'RECYCLING - SINGLE STREAM', 'YARD TRIMMINGS', 'YARD TRIMMINGS', 'RECYCLING - SINGLE STREAM', 'RECYCLING - SINGLE STREAM', 'BRUSH', 'RECYCLING - SINGLE STREAM', 'GARBAGE COLLECTION', 'GARBAGE COLLECTION', 'YARD TRIMMINGS', 'BRUSH', 'GARBAGE COLLECTION', 'SWEEPER DUMPSITES', 'GARBAGE COLLECTION', 'GARBAGE COLLECTION', 'GARBAGE COLLECTION', 'RECYCLING - SINGLE STREAM', 'YARD TRIMMINGS', 'YARD TRIMMINGS', 'RECYCLING - SINGLE STREAM', 'GARBAGE COLLECTION', 'RECYCLING - SINGLE STREAM', 'GARBAGE COLLECTION', 'RECYCLING - SINGLE STREAM', 'RECYCLING - SINGLE STREAM', 'RECYCLING - SINGLE STREAM', 'YARD TRIMMINGS', 'YARD TRIMMINGS', 'YARD TRIMMINGS', 'YARD TRIMMINGS', 'YARD TRIMMINGS', 'RECYCLING - SINGLE STREAM', 'GARBAGE COLLECTION', 'RECYCLING - SINGLE STREAM', 'BRUSH', 'BRUSH', 'RECYCLING - SINGLE STREAM', 'RECYCLING - SINGLE STREAM', 'YARD TRIMMINGS', 'RECYCLING - SINGLE STREAM', 'GARBAGE COLLECTION', 'RECYCLING - SINGLE STREAM', 'GARBAGE COLLECTION', 'RECYCLING - SINGLE STREAM', 'GARBAGE COLLECTION', 'YARD TRIMMINGS', 'GARBAGE COLLECTION', 'RECYCLING - SINGLE STREAM', 'RECYCLING - SINGLE STREAM', 'GARBAGE COLLECTION', 'YARD TRIMMINGS', 'YARD TRIMMINGS', 'GARBAGE COLLECTION', 'YARD TRIMMINGS', 'RECYCLING - SINGLE STREAM', 'GARBAGE COLLECTION', 'GARBAGE COLLECTION', 'GARBAGE COLLECTION', 'YARD TRIMMINGS', 'SWEEPER DUMPSITES', 'RECYCLING - SINGLE STREAM', 'YARD TRIMMINGS', 'GARBAGE COLLECTION', 'GARBAGE COLLECTION', 'GARBAGE COLLECTION', 'GARBAGE COLLECTION', 'GARBAGE COLLECTION', 'YARD TRIMMINGS', 'GARBAGE COLLECTION', 'RECYCLING - SINGLE STREAM', 'YARD TRIMMINGS', 'RECYCLING - SINGLE STREAM', 'RECYCLING - SINGLE STREAM', 'RECYCLING - SINGLE STREAM', 'YARD TRIMMINGS', 'GARBAGE COLLECTION', 'YARD TRIMMINGS', 'GARBAGE COLLECTION', 'YARD TRIMMINGS', 'GARBAGE COLLECTION', 'YARD TRIMMINGS', 'YARD TRIMMINGS', 'YARD TRIMMINGS', 'YARD TRIMMINGS-ORGANICS', 'RECYCLING - SINGLE STREAM', 'GARBAGE COLLECTION', 'YARD TRIMMINGS', 'YARD TRIMMINGS', 'RECYCLING - SINGLE STREAM', 'RECYCLING - SINGLE STREAM', 'YARD TRIMMINGS', 'GARBAGE COLLECTION', 'GARBAGE COLLECTION', 'YARD TRIMMINGS-ORGANICS', 'YARD TRIMMINGS', 'YARD TRIMMINGS', 'RECYCLING - SINGLE STREAM', 'GARBAGE COLLECTION', 'YARD TRIMMINGS', 'YARD TRIMMINGS', 'GARBAGE COLLECTION', 'YARD TRIMMINGS', 'YARD TRIMMINGS-ORGANICS', 'GARBAGE COLLECTION', 'GARBAGE COLLECTION', 'GARBAGE COLLECTION', 'GARBAGE COLLECTION', 'YARD TRIMMINGS', 'YARD TRIMMINGS-ORGANICS', 'GARBAGE COLLECTION', 'BRUSH', 'RECYCLING - SINGLE STREAM', 'GARBAGE COLLECTION', 'RECYCLING - SINGLE STREAM', 'GARBAGE COLLECTION', 'RECYCLING - SINGLE STREAM', 'GARBAGE COLLECTION', 'GARBAGE COLLECTION', 'GARBAGE COLLECTION', 'GARBAGE COLLECTION', 'BRUSH', 'RECYCLING - SINGLE STREAM', 'GARBAGE COLLECTION', 'YARD TRIMMINGS-ORGANICS', 'YARD TRIMMINGS', 'GARBAGE COLLECTION', 'GARBAGE COLLECTION', 'RECYCLING - SINGLE STREAM', 'GARBAGE COLLECTION', 'RECYCLING - SINGLE STREAM', 'RECYCLING - SINGLE STREAM', 'GARBAGE COLLECTION', 'YARD TRIMMINGS', 'YARD TRIMMINGS', 'YARD TRIMMINGS', 'GARBAGE COLLECTION', 'SWEEPER DUMPSITES', 'RECYCLING - SINGLE STREAM', 'GARBAGE COLLECTION', 'RECYCLING - SINGLE STREAM', 'RECYCLING - SINGLE STREAM', 'RECYCLING - SINGLE STREAM', 'YARD TRIMMINGS', 'RECYCLING - SINGLE STREAM', 'RECYCLING - SINGLE STREAM', 'YARD TRIMMINGS', 'RECYCLING - SINGLE STREAM', 'GARBAGE COLLECTION', 'GARBAGE COLLECTION', 'GARBAGE COLLECTION', 'GARBAGE COLLECTION', 'YARD TRIMMINGS', 'RECYCLING - SINGLE STREAM', 'GARBAGE COLLECTION', 'YARD TRIMMINGS', 'GARBAGE COLLECTION', 'DEAD ANIMAL', 'GARBAGE COLLECTION', 'RECYCLING - SINGLE STREAM', 'RECYCLING - SINGLE STREAM', 'GARBAGE COLLECTION', 'RECYCLING - SINGLE STREAM', 'YARD TRIMMINGS', 'GARBAGE COLLECTION', 'GARBAGE COLLECTION', 'DEAD ANIMAL', 'YARD TRIMMINGS', 'GARBAGE COLLECTION', 'RECYCLING - SINGLE STREAM', 'RECYCLING - SINGLE STREAM', 'RECYCLING - SINGLE STREAM', 'YARD TRIMMINGS', 'GARBAGE COLLECTION', 'GARBAGE COLLECTION', 'RECYCLING - SINGLE STREAM', 'DEAD ANIMAL', 'GARBAGE COLLECTION', 'YARD TRIMMINGS', 'GARBAGE COLLECTION', 'RECYCLING - SINGLE STREAM', 'YARD TRIMMINGS', 'GARBAGE COLLECTION', 'RECYCLING - SINGLE STREAM', 'YARD TRIMMINGS-ORGANICS', 'GARBAGE COLLECTION', 'GARBAGE COLLECTION', 'RECYCLING - SINGLE STREAM', 'SWEEPER DUMPSITES', 'GARBAGE COLLECTION', 'YARD TRIMMINGS', 'GARBAGE COLLECTION', 'RECYCLING - SINGLE STREAM', 'YARD TRIMMINGS', 'YARD TRIMMINGS', 'RECYCLING - SINGLE STREAM', 'DEAD ANIMAL', 'SWEEPER DUMPSITES', 'GARBAGE COLLECTION', 'GARBAGE COLLECTION', 'GARBAGE COLLECTION', 'GARBAGE COLLECTION', 'RECYCLING - SINGLE STREAM', 'GARBAGE COLLECTION', 'YARD TRIMMINGS', 'GARBAGE COLLECTION', 'GARBAGE COLLECTION', 'YARD TRIMMINGS', 'GARBAGE COLLECTION', 'YARD TRIMMINGS', 'RECYCLING - SINGLE STREAM', 'GARBAGE COLLECTION', 'GARBAGE COLLECTION', 'YARD TRIMMINGS-ORGANICS', 'GARBAGE COLLECTION', 'RECYCLING - SINGLE STREAM', 'GARBAGE COLLECTION', 'SWEEPER DUMPSITES', 'RECYCLING - SINGLE STREAM', 'YARD TRIMMINGS', 'GARBAGE COLLECTION', 'GARBAGE COLLECTION', 'RECYCLING - SINGLE STREAM', 'GARBAGE COLLECTION', 'YARD TRIMMINGS', 'RECYCLING - SINGLE STREAM', 'RECYCLING - SINGLE STREAM', 'BRUSH', 'YARD TRIMMINGS', 'RECYCLING - SINGLE STREAM', 'YARD TRIMMINGS', 'SWEEPER DUMPSITES', 'YARD TRIMMINGS', 'GARBAGE COLLECTION', 'RECYCLING - SINGLE STREAM', 'GARBAGE COLLECTION', 'RECYCLING - SINGLE STREAM', 'GARBAGE COLLECTION', 'RECYCLING - SINGLE STREAM', 'RECYCLING - SINGLE STREAM', 'GARBAGE COLLECTION', 'GARBAGE COLLECTION', 'GARBAGE COLLECTION', 'RECYCLING - SINGLE STREAM', 'YARD TRIMMINGS', 'RECYCLING - SINGLE STREAM', 'RECYCLING - SINGLE STREAM', 'YARD TRIMMINGS', 'YARD TRIMMINGS', 'INHOUSE - RECYCLING', 'RECYCLING - SINGLE STREAM', 'YARD TRIMMINGS', 'YARD TRIMMINGS', 'YARD TRIMMINGS', 'GARBAGE COLLECTION', 'BRUSH', 'YARD TRIMMINGS', 'YARD TRIMMINGS', 'GARBAGE COLLECTION', 'YARD TRIMMINGS', 'YARD TRIMMINGS', 'BRUSH', 'GARBAGE COLLECTION', 'RECYCLING - SINGLE STREAM', 'INHOUSE - RECYCLING', 'YARD TRIMMINGS', 'GARBAGE COLLECTION', 'GARBAGE COLLECTION', 'BRUSH', 'GARBAGE COLLECTION', 'RECYCLING - SINGLE STREAM', 'RECYCLING - SINGLE STREAM', 'GARBAGE COLLECTION', 'SWEEPER DUMPSITES', 'YARD TRIMMINGS', 'GARBAGE COLLECTION', 'RECYCLING - SINGLE STREAM', 'RECYCLING - SINGLE STREAM', 'YARD TRIMMINGS-ORGANICS', 'GARBAGE COLLECTION', 'RECYCLING - SINGLE STREAM', 'GARBAGE COLLECTION', 'RECYCLING - SINGLE STREAM', 'RECYCLING - SINGLE STREAM', 'YARD TRIMMINGS', 'GARBAGE COLLECTION', 'GARBAGE COLLECTION', 'YARD TRIMMINGS', 'BRUSH', 'YARD TRIMMINGS-ORGANICS', 'YARD TRIMMINGS', 'RECYCLING - SINGLE STREAM', 'GARBAGE COLLECTION', 'RECYCLING - SINGLE STREAM', 'GARBAGE COLLECTION', 'RECYCLING - SINGLE STREAM', 'BRUSH', 'YARD TRIMMINGS', 'GARBAGE COLLECTION', 'SWEEPER DUMPSITES', 'RECYCLING - SINGLE STREAM', 'BRUSH', 'BRUSH', 'GARBAGE COLLECTION', 'YARD TRIMMINGS', 'BRUSH', 'RECYCLING - SINGLE STREAM', 'BULK', 'YARD TRIMMINGS', 'GARBAGE COLLECTION', 'RECYCLING - SINGLE STREAM', 'GARBAGE COLLECTION', 'GARBAGE COLLECTION', 'GARBAGE COLLECTION', 'YARD TRIMMINGS', 'RECYCLING - SINGLE STREAM', 'RECYCLING - SINGLE STREAM', 'RECYCLING - SINGLE STREAM', 'YARD TRIMMINGS-ORGANICS', 'GARBAGE COLLECTION', 'GARBAGE COLLECTION', 'INHOUSE - RECYCLING', 'RECYCLING - SINGLE STREAM', 'GARBAGE COLLECTION', 'RECYCLING - SINGLE STREAM', 'YARD TRIMMINGS', 'GARBAGE COLLECTION', 'YARD TRIMMINGS', 'RECYCLING - SINGLE STREAM', 'RECYCLING - SINGLE STREAM', 'RECYCLING - SINGLE STREAM', 'GARBAGE COLLECTION', 'RECYCLING - SINGLE STREAM', 'GARBAGE COLLECTION', 'RECYCLING - SINGLE STREAM', 'BRUSH', 'GARBAGE COLLECTION', 'YARD TRIMMINGS', 'GARBAGE COLLECTION', 'GARBAGE COLLECTION', 'YARD TRIMMINGS', 'GARBAGE COLLECTION', 'YARD TRIMMINGS', 'GARBAGE COLLECTION', 'RECYCLING - SINGLE STREAM', 'RECYCLING - SINGLE STREAM', 'GARBAGE COLLECTION', 'YARD TRIMMINGS', 'GARBAGE COLLECTION', 'RECYCLING - SINGLE STREAM', 'GARBAGE COLLECTION', 'SWEEPER DUMPSITES', 'GARBAGE COLLECTION', 'YARD TRIMMINGS', 'BRUSH', 'BRUSH', 'GARBAGE COLLECTION', 'GARBAGE COLLECTION', 'GARBAGE COLLECTION', 'YARD TRIMMINGS', 'GARBAGE COLLECTION', 'RECYCLING - SINGLE STREAM', 'YARD TRIMMINGS', 'GARBAGE COLLECTION', 'RECYCLING - SINGLE STREAM', 'BULK', 'YARD TRIMMINGS-ORGANICS', 'GARBAGE COLLECTION', 'YARD TRIMMINGS-ORGANICS', 'RECYCLING - SINGLE STREAM', 'RECYCLING - SINGLE STREAM', 'RECYCLING - SINGLE STREAM', 'RECYCLING - SINGLE STREAM', 'GARBAGE COLLECTION']",
            "count": 1
           }
          ]
         }
        },
        {
         "name": "Route Number",
         "dtype": "object",
         "stats": {
          "unique_count": 1,
          "nan_count": 0,
          "categories": [
           {
            "name": "['RMBS33', 'PAT54', 'PM21', 'PH11', 'PAW04', 'YT12', 'RHBS34', 'RTBU15', 'RHBU25', 'RTBU26', 'PAM60', 'RFBS33', 'BR20', 'PAM61', 'PAH87', 'RTBU22', 'OT1', 'PAT67', 'PAM04', 'PH21', 'YH02', 'PM12', 'PAH82', 'YM02', 'PAH84', 'RMBS33', 'PAM65', 'RFBU14', 'YBT00', 'YF04', 'YF04', 'PW11', 'PAH83', 'RTBU11', 'PAT82', 'PAH75', 'YW06', 'RFBS40', 'PAM84', 'PH20', 'RFBU22', 'YW01', 'RMBU20', 'PAH61', 'PM41', 'PF30', 'YH04', 'YM04', 'RMBU13', 'PAH50', 'YM01', 'YT05', 'RWBU12', 'PAW51', 'YH01', 'OM-1', 'DSS04', 'PAF70', 'YW02', 'PAM53', 'PM31', 'YW08', 'PAH80', 'YH02', 'PAM83', 'PAH62', 'RWBU16', 'PW22', 'RTBU20', 'YT12', 'PM10', 'RHBU13', 'RTBS33', 'RTBU10', 'YM08', 'YW01', 'PAH82', 'PAM02', 'DSS04', 'YT01', 'BR20', 'PAW69', 'PAH71', 'RHBS35', 'PM39', 'YT10', 'RFBS34', 'RHBU22', 'RFBU21', 'PAM52', 'PAT60', 'RHBU11', 'RWBU10', 'PAM75', 'PAM80', 'YM10', 'PM21', 'PM40', 'RFBU25', 'YT05', 'RFBS33', 'DSS04', 'PAF03', 'RFBU15', 'RMBU15', 'PAT88', 'YH09', 'PM20', 'RMBU26', 'PT19', 'YM04', 'PF11', 'RWBU24', 'YW03', 'DSS04', 'PAW10', 'RMBU22', 'PF10', 'RTBU11', 'DA01', 'PAH51', 'RMBS40', 'PAT53', 'PW12', 'IRW1', 'OW2', 'PF31', 'PAM85', 'RWBS34', 'PT31', 'PW31', 'PAT74', 'PAT10', 'RTBU12', 'PAT72', 'PAW70', 'YW07', 'BR20', 'RTBU22', 'RWBS34', 'DSS04', 'DSS04', 'RFBS35', 'RHBS42', 'PH39', 'PAM51', 'YM03', 'PAT61', 'RWBU25', 'BR20', 'PAM64', 'YW07', 'PH30', 'YM10', 'RHBS43', 'YH03', 'RHBU16', 'PH19', 'RHBU26', 'RTBU13', 'PAH60', 'PAT87', 'YT01', 'YM06', 'IRM1', 'PAM62', 'YW09', 'PT40', 'RFBU11', 'PAM06', 'PAM71', 'RMBU23', 'YH07', 'RMBU25', 'DSS04', 'PAT83', 'YM09', 'DSS04', 'DSN03', 'DSN03', 'YM04', 'RMBU11', 'PT30', 'YW05', 'PAW02', 'YW01', 'PW22', 'RFBU23', 'PAW05', 'PAT63', 'PAW62', 'OT2', 'YH06', 'OW2', 'RFBU24', 'YW02', 'PAM83', 'RTBS43', 'PAM74', 'PH21', 'RTBU16', 'PAH53', 'PAH54', 'PAF01', 'RMBU12', 'DT3', 'PAM72', 'PAF52', 'YM07', 'BR20', 'YW03', 'YW01', 'YM02', 'YH08', 'YH02', 'DT4', 'PM30', 'RTBU10', 'YW01', 'PH10', 'PAM81', 'PAW87', 'BR20', 'RTBU21', 'RWBU22', 'PM24', 'PAW50', 'YM03', 'YM02', 'RHBU16', 'RTBS35', 'RMBU24', 'PM11', 'PAT51', 'RWBS43', 'RMBU16', 'PAW71', 'PAM79', 'PT10', 'OW2', 'PAH52', 'PAM73', 'BR20', 'PM20', 'PT42', 'PAW70', 'PAT73', 'PAW72', 'YH07', 'BR20', 'PAM03', 'PAT62', 'PAW53', 'PAM80', 'YH10', 'PAM05', 'YW06', 'PW19', 'PAF61', 'YH06', 'DSS04', 'RTBU26', 'PAM74', 'RWBU13', 'YM01', 'PAF88', 'PAM61', 'PW10', 'PW30', 'PAM63', 'RMBS43', 'YW01', 'OW2', 'PAW61', 'RTBS41', 'DW2', 'PAF79', 'DH1', 'RHBU13', 'RMBU26', 'PAM85', 'BR20', 'RMBU21', 'RFBS42', 'RWBS35', 'BR20', 'PM22', 'YM10', 'YT03', 'YH02', 'YH08', 'RWBU26', 'YW10', 'PM11', 'DSS04', 'BR20', 'YH10', 'PAF09', 'PH40', 'PAH69', 'YF02', 'RHBU12', 'PAH64', 'YM07', 'YW01', 'PF19', 'YH08', 'DSS04', 'BR20', 'YF02', 'PW14', 'PAF73', 'RWBU22', 'PAH01', 'PAH54', 'PAM54', 'RTBU20', 'YW06', 'PAW74', 'DSS04', 'PAW54', 'RHBU25', 'PAT69', 'RFBU10', 'RFBU13', 'YH04', 'YH12', 'RMBU16', 'PH12', 'RMBU15', 'RHBU20', 'YF05', 'YT07', 'PAM87', 'YH07', 'RWBS40', 'RHBU21', 'YW05', 'YT02', 'PT41', 'PAW03', 'PAF51', 'YF05', 'PM32', 'PAH63', 'YH06', 'BR20', 'BR20', 'OW1', 'YM07', 'RMBU15', 'YM04', 'YHP', 'YHP', 'RTBU23', 'YM02', 'YM09', 'RFBU11', 'RFBU13', 'BR20', 'RMBS33', 'PT11', 'PAF87', 'YM10', 'BR20', 'PAF81', 'DSS04', 'PAH84', 'PAW73', 'PAH79', 'DW3', 'YH07', 'YW05', 'RMBU10', 'PAH73', 'RHBU11', 'PAF60', 'RWBU16', 'DM3', 'RFBU22', 'YH06', 'YW09', 'YH09', 'YW09', 'YH08', 'RHBS34', 'PM10', 'RHBU24', 'BR20', 'BR20', 'RMBU13', 'RMBU14', 'YM10', 'RHBU10', 'PAH09', 'RMBU25', 'PF41', 'RTBU16', 'PAH50', 'YM06', 'PAH72', 'RFBU25', 'RFBU16', 'PAT50', 'YF03', 'YH02', 'PAF02', 'YW03', 'RTBU12', 'PAT70', 'PW40', 'PAH06', 'YHP', 'DSN03', 'RHBS43', 'YT02', 'PAM82', 'PAF04', 'PW39', 'PAH03', 'PAH65', 'YW01', 'PH42', 'RMBS43', 'YM08', 'DF4', 'RFBU15', 'RWBU11', 'YW05', 'PAH52', 'YH02', 'PAH04', 'YHP', 'PW21', 'YT10', 'YW04', 'YH09', 'OF1', 'RFBS41', 'PT20', 'YM06', 'YT10', 'RHBU26', 'RWBU20', 'YM02', 'PAM70', 'PAM04', 'OW2', 'YT10', 'YM02', 'RFBS40', 'PAF83', 'YT09', 'YF05', 'PF33', 'YF05', 'OF2', 'PAM64', 'PH41', 'PM42', 'PF13', 'YW05', 'OW2', 'PH24', 'BR20', 'RWBS33', 'PW41', 'RTBS40', 'PAM02', 'DH3', 'PF39', 'PAM01', 'PAT71', 'PT39', 'BR20', 'RMBU14', 'PAF78', 'OM2', 'YT10', 'PM19', 'PAH05', 'DF3', 'PAT73', 'RMBS34', 'RHBU21', 'PW32', 'YM04', 'YM07', 'YBT00', 'PAW01', 'DSS04', 'RHBU20', 'PF22', 'DF1', 'RFBU21', 'DF4', 'YW07', 'RHBS43', 'RWBU14', 'YW02', 'RHBU12', 'PAW72', 'PAT01', 'PAW80', 'PAM69', 'YM09', 'DF4', 'PAW63', 'YT12', 'PAF78', 'DA01', 'PAM50', 'RTBS33', 'DW1', 'PAH53', 'RMBU24', 'YW02', 'PAF53', 'PM41', 'DA01', 'YT12', 'PAF10', 'RHBU22', 'RWBS33', 'RWBU14', 'YH03', 'PAM51', 'PAT84', 'DT1', 'DA01', 'PAW73', 'YT06', 'PAW79', 'RFBU10', 'YW07', 'PAF67', 'RMBS42', 'OM2', 'PAH70', 'PAF63', 'RHBS35', 'DSS04', 'PAM09', 'YM03', 'PAH83', 'RWBS41', 'YT07', 'YH02', 'RTBU23', 'DA02', 'DSS04', 'PAT04', 'PW40', 'PH32', 'PAF80', 'RMBS41', 'PAM06', 'YM08', 'PAW52', 'PAW82', 'YW09', 'PAT02', 'YW04', 'RWBS35', 'PF40', 'PAW64', 'OF2', 'PAW83', 'RWBS40', 'PAF82', 'DSS04', 'RMBU24', 'YM09', 'PAH02', 'PAM81', 'RMBS35', 'PAW74', 'YH03', 'RWBU10', 'RTBS34', 'BR20', 'YM01', 'DF2', 'YT03', 'DSS04', 'YF03', 'PAM62', 'RTBU13', 'PAW71', 'RMBU12', 'PAH51', 'RWBU23', 'RTBU15', 'PAM75', 'PT24', 'PF20', 'RHBS33', 'YHP', 'DW1', 'RMBU22', 'YM01', 'YM01', 'IRT1', 'RFBU14', 'YM09', 'YT03', 'YM08', 'PAW06', 'BR20', 'YF05', 'YW03', 'PAH74', 'YM03', 'YBH00', 'BR20', 'PAT81', 'RWBU21', 'IRF1', 'YT05', 'PAW81', 'PAT03', 'BR20', 'PAF72', 'RMBU20', 'RHBU24', 'PAM71', 'DSS04', 'YH09', 'PAM01', 'RFBU20', 'RFBU24', 'OT2', 'PAF71', 'RMBU20', 'PAT51', 'RMBS41', 'RWBS41', 'YM03', 'PAT09', 'PAF62', 'YW06', 'BR20', 'OW1', 'YF05', 'DT1', 'PAW85', 'RMBU13', 'PT40', 'RWBU24', 'BR20', 'YW10', 'PAF69', 'DSS04', 'RHBU24', 'BR20', 'BR20', 'PF40', 'YT06', 'BR20', 'RFBU20', 'BU1000', 'YW08', 'PAT52', 'RWBU26', 'PAM84', 'PAT79', 'PM42', 'YH01', 'RTBU21', 'DH3', 'RWBU25', 'OW1', 'PT30', 'PAT80', 'IRH1', 'RHBS40', 'PAH81', 'DM1', 'YF04', 'PAT72', 'YH07', 'RHBU14', 'RWBS43', 'RHBU24', 'PAF50', 'RWBU21', 'PT21', 'RFBU16', 'BR20', 'PW32', 'YH07', 'PAM03', 'PAW09', 'YW01', 'PAW84', 'YM01', 'PAW55', 'RFBU23', 'RWBU11', 'PW20', 'YT09', 'PAH73', 'RHBU10', 'PAT88', 'DSS04', 'PAW60', 'YW04', 'BR20', 'BR20', 'PAM73', 'PAM72', 'PH31', 'YW02', 'PF21', 'RMBU21', 'YW01', 'PAM78', 'RMBU11', 'BU1000', 'OT1', 'PH42', 'OW1', 'RWBU23', 'RMBU10', 'RWBU12', 'RWBU20', 'PAF54']",
            "count": 1
           }
          ]
         }
        },
        {
         "name": "Year",
         "dtype": "int64",
         "stats": {
          "unique_count": 1,
          "nan_count": 0,
          "min": "2015",
          "max": "2015",
          "histogram": [
           {
            "bin_start": 2014.5,
            "bin_end": 2014.6,
            "count": 0
           },
           {
            "bin_start": 2014.6,
            "bin_end": 2014.7,
            "count": 0
           },
           {
            "bin_start": 2014.7,
            "bin_end": 2014.8,
            "count": 0
           },
           {
            "bin_start": 2014.8,
            "bin_end": 2014.9,
            "count": 0
           },
           {
            "bin_start": 2014.9,
            "bin_end": 2015,
            "count": 0
           },
           {
            "bin_start": 2015,
            "bin_end": 2015.1,
            "count": 1
           },
           {
            "bin_start": 2015.1,
            "bin_end": 2015.2,
            "count": 0
           },
           {
            "bin_start": 2015.2,
            "bin_end": 2015.3,
            "count": 0
           },
           {
            "bin_start": 2015.3,
            "bin_end": 2015.4,
            "count": 0
           },
           {
            "bin_start": 2015.4,
            "bin_end": 2015.5,
            "count": 0
           }
          ]
         }
        },
        {
         "name": "holidays",
         "dtype": "int64",
         "stats": {
          "unique_count": 1,
          "nan_count": 0,
          "min": "0",
          "max": "0",
          "histogram": [
           {
            "bin_start": -0.5,
            "bin_end": -0.4,
            "count": 0
           },
           {
            "bin_start": -0.4,
            "bin_end": -0.3,
            "count": 0
           },
           {
            "bin_start": -0.3,
            "bin_end": -0.19999999999999996,
            "count": 0
           },
           {
            "bin_start": -0.19999999999999996,
            "bin_end": -0.09999999999999998,
            "count": 0
           },
           {
            "bin_start": -0.09999999999999998,
            "bin_end": 0,
            "count": 0
           },
           {
            "bin_start": 0,
            "bin_end": 0.10000000000000009,
            "count": 1
           },
           {
            "bin_start": 0.10000000000000009,
            "bin_end": 0.20000000000000007,
            "count": 0
           },
           {
            "bin_start": 0.20000000000000007,
            "bin_end": 0.30000000000000004,
            "count": 0
           },
           {
            "bin_start": 0.30000000000000004,
            "bin_end": 0.4,
            "count": 0
           },
           {
            "bin_start": 0.4,
            "bin_end": 0.5,
            "count": 0
           }
          ]
         }
        },
        {
         "name": "_deepnote_index_column",
         "dtype": "int64"
        }
       ],
       "rows": [
        {
         "Date": "2015-03-15",
         "Load Type": "['RECYCLING - SINGLE STREAM', 'GARBAGE COLLECTIONS', 'GARBAGE COLLECTIONS', 'GARBAGE COLLECTIONS', …",
         "Load Weight": 10460745,
         "Dropoff Site": "['TDS LANDFILL', 'TDS LANDFILL', 'TDS LANDFILL', 'TDS LANDFILL', 'TDS LANDFILL', 'HORNSBY BEND', 'B…",
         "Route Type": "['RECYCLING - SINGLE STREAM', 'GARBAGE COLLECTION', 'GARBAGE COLLECTION', 'GARBAGE COLLECTION', 'GA…",
         "Route Number": "['RMBS33', 'PAT54', 'PM21', 'PH11', 'PAW04', 'YT12', 'RHBS34', 'RTBU15', 'RHBU25', 'RTBU26', 'PAM60…",
         "Year": 2015,
         "holidays": 0,
         "_deepnote_index_column": 63
        }
       ]
      },
      "text/plain": "          Date                                          Load Type  \\\n63  2015-03-15  [RECYCLING - SINGLE STREAM, GARBAGE COLLECTION...   \n\n       Load Weight                                       Dropoff Site  \\\n63 10460745.000000  [TDS LANDFILL, TDS LANDFILL, TDS LANDFILL, TDS...   \n\n                                           Route Type  \\\n63  [RECYCLING - SINGLE STREAM, GARBAGE COLLECTION...   \n\n                                         Route Number  Year  holidays  \n63  [RMBS33, PAT54, PM21, PH11, PAW04, YT12, RHBS3...  2015         0  ",
      "text/html": "<div>\n<style scoped>\n    .dataframe tbody tr th:only-of-type {\n        vertical-align: middle;\n    }\n\n    .dataframe tbody tr th {\n        vertical-align: top;\n    }\n\n    .dataframe thead th {\n        text-align: right;\n    }\n</style>\n<table border=\"1\" class=\"dataframe\">\n  <thead>\n    <tr style=\"text-align: right;\">\n      <th></th>\n      <th>Date</th>\n      <th>Load Type</th>\n      <th>Load Weight</th>\n      <th>Dropoff Site</th>\n      <th>Route Type</th>\n      <th>Route Number</th>\n      <th>Year</th>\n      <th>holidays</th>\n    </tr>\n  </thead>\n  <tbody>\n    <tr>\n      <th>63</th>\n      <td>2015-03-15</td>\n      <td>[RECYCLING - SINGLE STREAM, GARBAGE COLLECTION...</td>\n      <td>10460745.000000</td>\n      <td>[TDS LANDFILL, TDS LANDFILL, TDS LANDFILL, TDS...</td>\n      <td>[RECYCLING - SINGLE STREAM, GARBAGE COLLECTION...</td>\n      <td>[RMBS33, PAT54, PM21, PH11, PAW04, YT12, RHBS3...</td>\n      <td>2015</td>\n      <td>0</td>\n    </tr>\n  </tbody>\n</table>\n</div>"
     },
     "metadata": {}
    }
   ],
   "execution_count": 93
  },
  {
   "cell_type": "markdown",
   "source": "# Add a Viz based on number of holidays vs Load Weight",
   "metadata": {
    "cell_id": "27b8c02b77bd48819da84b976459673f",
    "tags": [],
    "deepnote_cell_type": "markdown",
    "deepnote_cell_height": 134
   }
  },
  {
   "cell_type": "markdown",
   "source": "## Adding Weather Data from Metostat and Pollution data from Airnow API",
   "metadata": {
    "cell_id": "7b2fdbbf58444ca98de5d16f6b8a03fc",
    "tags": [],
    "deepnote_cell_type": "markdown",
    "deepnote_cell_height": 110
   }
  },
  {
   "cell_type": "code",
   "metadata": {
    "cell_id": "e4e2769096db41d3891de0136d5edd8d",
    "tags": [],
    "deepnote_to_be_reexecuted": false,
    "source_hash": "5dd77452",
    "execution_start": 1648031673414,
    "execution_millis": 92,
    "deepnote_cell_type": "code",
    "deepnote_cell_height": 394.796875,
    "deepnote_output_heights": [
     21.1875
    ]
   },
   "source": "weather_poll_df = pd.read_csv(\"https://raw.githubusercontent.com/Pravallika-Myneni/world_data_league_2022/main/stage_one/data_1/WeatherData_weekly.csv\")\nweather_poll_df['time'] = pd.to_datetime(weather_poll_df['time'])\nweather_poll_df['year'] = weather_poll_df['time'].dt.year\nweather_poll_df['time'] = weather_poll_df['time'].dt.date\nweather_poll_df = weather_poll_df[(weather_poll_df['year']>2013) & (weather_poll_df['year']<2020)]\nweather_poll_df= weather_poll_df.drop(columns = ['year', 'wdir', 'wpgt'])\nweather_poll_df.sample(2)",
   "execution_count": 107,
   "outputs": [
    {
     "output_type": "execute_result",
     "execution_count": 107,
     "data": {
      "application/vnd.deepnote.dataframe.v3+json": {
       "column_count": 9,
       "row_count": 2,
       "columns": [
        {
         "name": "time",
         "dtype": "object",
         "stats": {
          "unique_count": 2,
          "nan_count": 0,
          "categories": [
           {
            "name": "2015-12-06",
            "count": 1
           },
           {
            "name": "2014-03-09",
            "count": 1
           }
          ]
         }
        },
        {
         "name": "tavg",
         "dtype": "float64",
         "stats": {
          "unique_count": 2,
          "nan_count": 0,
          "min": "8.4",
          "max": "10.4",
          "histogram": [
           {
            "bin_start": 8.4,
            "bin_end": 8.6,
            "count": 1
           },
           {
            "bin_start": 8.6,
            "bin_end": 8.8,
            "count": 0
           },
           {
            "bin_start": 8.8,
            "bin_end": 9,
            "count": 0
           },
           {
            "bin_start": 9,
            "bin_end": 9.200000000000001,
            "count": 0
           },
           {
            "bin_start": 9.200000000000001,
            "bin_end": 9.4,
            "count": 0
           },
           {
            "bin_start": 9.4,
            "bin_end": 9.600000000000001,
            "count": 0
           },
           {
            "bin_start": 9.600000000000001,
            "bin_end": 9.8,
            "count": 0
           },
           {
            "bin_start": 9.8,
            "bin_end": 10,
            "count": 0
           },
           {
            "bin_start": 10,
            "bin_end": 10.200000000000001,
            "count": 0
           },
           {
            "bin_start": 10.200000000000001,
            "bin_end": 10.4,
            "count": 1
           }
          ]
         }
        },
        {
         "name": "tmin",
         "dtype": "float64",
         "stats": {
          "unique_count": 2,
          "nan_count": 0,
          "min": "-4.3",
          "max": "2.8",
          "histogram": [
           {
            "bin_start": -4.3,
            "bin_end": -3.59,
            "count": 1
           },
           {
            "bin_start": -3.59,
            "bin_end": -2.88,
            "count": 0
           },
           {
            "bin_start": -2.88,
            "bin_end": -2.17,
            "count": 0
           },
           {
            "bin_start": -2.17,
            "bin_end": -1.46,
            "count": 0
           },
           {
            "bin_start": -1.46,
            "bin_end": -0.75,
            "count": 0
           },
           {
            "bin_start": -0.75,
            "bin_end": -0.040000000000000036,
            "count": 0
           },
           {
            "bin_start": -0.040000000000000036,
            "bin_end": 0.6699999999999999,
            "count": 0
           },
           {
            "bin_start": 0.6699999999999999,
            "bin_end": 1.38,
            "count": 0
           },
           {
            "bin_start": 1.38,
            "bin_end": 2.09,
            "count": 0
           },
           {
            "bin_start": 2.09,
            "bin_end": 2.8,
            "count": 1
           }
          ]
         }
        },
        {
         "name": "tmax",
         "dtype": "float64",
         "stats": {
          "unique_count": 2,
          "nan_count": 0,
          "min": "19.4",
          "max": "21.1",
          "histogram": [
           {
            "bin_start": 19.4,
            "bin_end": 19.57,
            "count": 1
           },
           {
            "bin_start": 19.57,
            "bin_end": 19.74,
            "count": 0
           },
           {
            "bin_start": 19.74,
            "bin_end": 19.91,
            "count": 0
           },
           {
            "bin_start": 19.91,
            "bin_end": 20.08,
            "count": 0
           },
           {
            "bin_start": 20.08,
            "bin_end": 20.25,
            "count": 0
           },
           {
            "bin_start": 20.25,
            "bin_end": 20.42,
            "count": 0
           },
           {
            "bin_start": 20.42,
            "bin_end": 20.59,
            "count": 0
           },
           {
            "bin_start": 20.59,
            "bin_end": 20.76,
            "count": 0
           },
           {
            "bin_start": 20.76,
            "bin_end": 20.93,
            "count": 0
           },
           {
            "bin_start": 20.93,
            "bin_end": 21.1,
            "count": 1
           }
          ]
         }
        },
        {
         "name": "prcp",
         "dtype": "float64",
         "stats": {
          "unique_count": 2,
          "nan_count": 0,
          "min": "0.0",
          "max": "27.9",
          "histogram": [
           {
            "bin_start": 0,
            "bin_end": 2.79,
            "count": 1
           },
           {
            "bin_start": 2.79,
            "bin_end": 5.58,
            "count": 0
           },
           {
            "bin_start": 5.58,
            "bin_end": 8.370000000000001,
            "count": 0
           },
           {
            "bin_start": 8.370000000000001,
            "bin_end": 11.16,
            "count": 0
           },
           {
            "bin_start": 11.16,
            "bin_end": 13.95,
            "count": 0
           },
           {
            "bin_start": 13.95,
            "bin_end": 16.740000000000002,
            "count": 0
           },
           {
            "bin_start": 16.740000000000002,
            "bin_end": 19.53,
            "count": 0
           },
           {
            "bin_start": 19.53,
            "bin_end": 22.32,
            "count": 0
           },
           {
            "bin_start": 22.32,
            "bin_end": 25.11,
            "count": 0
           },
           {
            "bin_start": 25.11,
            "bin_end": 27.9,
            "count": 1
           }
          ]
         }
        },
        {
         "name": "snow",
         "dtype": "float64",
         "stats": {
          "unique_count": 1,
          "nan_count": 0,
          "min": "0.0",
          "max": "0.0",
          "histogram": [
           {
            "bin_start": -0.5,
            "bin_end": -0.4,
            "count": 0
           },
           {
            "bin_start": -0.4,
            "bin_end": -0.3,
            "count": 0
           },
           {
            "bin_start": -0.3,
            "bin_end": -0.19999999999999996,
            "count": 0
           },
           {
            "bin_start": -0.19999999999999996,
            "bin_end": -0.09999999999999998,
            "count": 0
           },
           {
            "bin_start": -0.09999999999999998,
            "bin_end": 0,
            "count": 0
           },
           {
            "bin_start": 0,
            "bin_end": 0.10000000000000009,
            "count": 2
           },
           {
            "bin_start": 0.10000000000000009,
            "bin_end": 0.20000000000000007,
            "count": 0
           },
           {
            "bin_start": 0.20000000000000007,
            "bin_end": 0.30000000000000004,
            "count": 0
           },
           {
            "bin_start": 0.30000000000000004,
            "bin_end": 0.4,
            "count": 0
           },
           {
            "bin_start": 0.4,
            "bin_end": 0.5,
            "count": 0
           }
          ]
         }
        },
        {
         "name": "wspd",
         "dtype": "float64",
         "stats": {
          "unique_count": 2,
          "nan_count": 0,
          "min": "3.3",
          "max": "8.3",
          "histogram": [
           {
            "bin_start": 3.3,
            "bin_end": 3.8,
            "count": 1
           },
           {
            "bin_start": 3.8,
            "bin_end": 4.3,
            "count": 0
           },
           {
            "bin_start": 4.3,
            "bin_end": 4.800000000000001,
            "count": 0
           },
           {
            "bin_start": 4.800000000000001,
            "bin_end": 5.300000000000001,
            "count": 0
           },
           {
            "bin_start": 5.300000000000001,
            "bin_end": 5.800000000000001,
            "count": 0
           },
           {
            "bin_start": 5.800000000000001,
            "bin_end": 6.300000000000001,
            "count": 0
           },
           {
            "bin_start": 6.300000000000001,
            "bin_end": 6.800000000000001,
            "count": 0
           },
           {
            "bin_start": 6.800000000000001,
            "bin_end": 7.300000000000001,
            "count": 0
           },
           {
            "bin_start": 7.300000000000001,
            "bin_end": 7.800000000000001,
            "count": 0
           },
           {
            "bin_start": 7.800000000000001,
            "bin_end": 8.3,
            "count": 1
           }
          ]
         }
        },
        {
         "name": "pres",
         "dtype": "float64",
         "stats": {
          "unique_count": 2,
          "nan_count": 0,
          "min": "1019.9",
          "max": "1025.2",
          "histogram": [
           {
            "bin_start": 1019.9,
            "bin_end": 1020.43,
            "count": 1
           },
           {
            "bin_start": 1020.43,
            "bin_end": 1020.96,
            "count": 0
           },
           {
            "bin_start": 1020.96,
            "bin_end": 1021.49,
            "count": 0
           },
           {
            "bin_start": 1021.49,
            "bin_end": 1022.02,
            "count": 0
           },
           {
            "bin_start": 1022.02,
            "bin_end": 1022.55,
            "count": 0
           },
           {
            "bin_start": 1022.55,
            "bin_end": 1023.08,
            "count": 0
           },
           {
            "bin_start": 1023.08,
            "bin_end": 1023.61,
            "count": 0
           },
           {
            "bin_start": 1023.61,
            "bin_end": 1024.14,
            "count": 0
           },
           {
            "bin_start": 1024.14,
            "bin_end": 1024.67,
            "count": 0
           },
           {
            "bin_start": 1024.67,
            "bin_end": 1025.2,
            "count": 1
           }
          ]
         }
        },
        {
         "name": "tsun",
         "dtype": "float64",
         "stats": {
          "unique_count": 1,
          "nan_count": 0,
          "min": "0.0",
          "max": "0.0",
          "histogram": [
           {
            "bin_start": -0.5,
            "bin_end": -0.4,
            "count": 0
           },
           {
            "bin_start": -0.4,
            "bin_end": -0.3,
            "count": 0
           },
           {
            "bin_start": -0.3,
            "bin_end": -0.19999999999999996,
            "count": 0
           },
           {
            "bin_start": -0.19999999999999996,
            "bin_end": -0.09999999999999998,
            "count": 0
           },
           {
            "bin_start": -0.09999999999999998,
            "bin_end": 0,
            "count": 0
           },
           {
            "bin_start": 0,
            "bin_end": 0.10000000000000009,
            "count": 2
           },
           {
            "bin_start": 0.10000000000000009,
            "bin_end": 0.20000000000000007,
            "count": 0
           },
           {
            "bin_start": 0.20000000000000007,
            "bin_end": 0.30000000000000004,
            "count": 0
           },
           {
            "bin_start": 0.30000000000000004,
            "bin_end": 0.4,
            "count": 0
           },
           {
            "bin_start": 0.4,
            "bin_end": 0.5,
            "count": 0
           }
          ]
         }
        },
        {
         "name": "_deepnote_index_column",
         "dtype": "int64"
        }
       ],
       "rows": [
        {
         "time": "2015-12-06",
         "tavg": 10.4,
         "tmin": 2.8,
         "tmax": 21.1,
         "prcp": 0,
         "snow": 0,
         "wspd": 3.3,
         "pres": 1025.2,
         "tsun": 0,
         "_deepnote_index_column": 570
        },
        {
         "time": "2014-03-09",
         "tavg": 8.4,
         "tmin": -4.3,
         "tmax": 19.4,
         "prcp": 27.9,
         "snow": 0,
         "wspd": 8.3,
         "pres": 1019.9,
         "tsun": 0,
         "_deepnote_index_column": 479
        }
       ]
      },
      "text/plain": "           time      tavg      tmin      tmax      prcp     snow     wspd  \\\n570  2015-12-06 10.400000  2.800000 21.100000  0.000000 0.000000 3.300000   \n479  2014-03-09  8.400000 -4.300000 19.400000 27.900000 0.000000 8.300000   \n\n           pres     tsun  \n570 1025.200000 0.000000  \n479 1019.900000 0.000000  ",
      "text/html": "<div>\n<style scoped>\n    .dataframe tbody tr th:only-of-type {\n        vertical-align: middle;\n    }\n\n    .dataframe tbody tr th {\n        vertical-align: top;\n    }\n\n    .dataframe thead th {\n        text-align: right;\n    }\n</style>\n<table border=\"1\" class=\"dataframe\">\n  <thead>\n    <tr style=\"text-align: right;\">\n      <th></th>\n      <th>time</th>\n      <th>tavg</th>\n      <th>tmin</th>\n      <th>tmax</th>\n      <th>prcp</th>\n      <th>snow</th>\n      <th>wspd</th>\n      <th>pres</th>\n      <th>tsun</th>\n    </tr>\n  </thead>\n  <tbody>\n    <tr>\n      <th>570</th>\n      <td>2015-12-06</td>\n      <td>10.400000</td>\n      <td>2.800000</td>\n      <td>21.100000</td>\n      <td>0.000000</td>\n      <td>0.000000</td>\n      <td>3.300000</td>\n      <td>1025.200000</td>\n      <td>0.000000</td>\n    </tr>\n    <tr>\n      <th>479</th>\n      <td>2014-03-09</td>\n      <td>8.400000</td>\n      <td>-4.300000</td>\n      <td>19.400000</td>\n      <td>27.900000</td>\n      <td>0.000000</td>\n      <td>8.300000</td>\n      <td>1019.900000</td>\n      <td>0.000000</td>\n    </tr>\n  </tbody>\n</table>\n</div>"
     },
     "metadata": {}
    }
   ]
  },
  {
   "cell_type": "code",
   "metadata": {
    "cell_id": "1872cf4f7a1844e392528ba694b6ec80",
    "tags": [],
    "deepnote_to_be_reexecuted": false,
    "source_hash": "146ca5d9",
    "execution_start": 1648032289039,
    "execution_millis": 800,
    "deepnote_cell_type": "code",
    "deepnote_cell_height": 322.796875
   },
   "source": "df_weekly_hwp = pd.merge(df_weekly_holiday, weather_poll_df, how = \"inner\", left_on = \"Date\", right_on=\"time\"  ).drop('time', axis = 1)\n#df_weekly_hwp.to_csv(\"data_1/weekly_holiday_weather_pollution_garbage_data_2014-2019.csv\")\ndf_weekly_hwp.sample(2)",
   "execution_count": 116,
   "outputs": [
    {
     "output_type": "execute_result",
     "execution_count": 116,
     "data": {
      "application/vnd.deepnote.dataframe.v3+json": {
       "column_count": 16,
       "row_count": 2,
       "columns": [
        {
         "name": "Date",
         "dtype": "object",
         "stats": {
          "unique_count": 2,
          "nan_count": 0,
          "categories": [
           {
            "name": "2015-01-25",
            "count": 1
           },
           {
            "name": "2018-06-24",
            "count": 1
           }
          ]
         }
        },
        {
         "name": "Load Type",
         "dtype": "object",
         "stats": {
          "unique_count": 2,
          "nan_count": 0,
          "categories": [
           {
            "name": "['RECYCLING - SINGLE STREAM', 'RECYCLING - SINGLE STREAM', 'SWEEPING', 'GARBAGE COLLECTIONS', 'GARBAGE COLLECTIONS', 'RECYCLING - SINGLE STREAM', 'RECYCLING - SINGLE STREAM', 'RECYCLING - SINGLE STREAM', 'GARBAGE COLLECTIONS', 'RECYCLING - SINGLE STREAM', 'GARBAGE COLLECTIONS', 'GARBAGE COLLECTIONS', 'RECYCLING - SINGLE STREAM', 'RECYCLING - SINGLE STREAM', 'RECYCLING - SINGLE STREAM', 'GARBAGE COLLECTIONS', 'GARBAGE COLLECTIONS', 'GARBAGE COLLECTIONS', 'DEAD ANIMAL', 'RECYCLING - SINGLE STREAM', 'BULK', 'GARBAGE COLLECTIONS', 'GARBAGE COLLECTIONS', 'BRUSH', 'RECYCLING - SINGLE STREAM', 'YARD TRIMMING', 'GARBAGE COLLECTIONS', 'GARBAGE COLLECTIONS', 'RECYCLING - SINGLE STREAM', 'RECYCLING - SINGLE STREAM', 'GARBAGE COLLECTIONS', 'RECYCLING - SINGLE STREAM', 'RECYCLING - SINGLE STREAM', 'RECYCLING - SINGLE STREAM', 'YARD TRIMMING', 'GARBAGE COLLECTIONS', 'GARBAGE COLLECTIONS', 'BULK', 'GARBAGE COLLECTIONS', 'GARBAGE COLLECTIONS', 'RECYCLING - SINGLE STREAM', 'GARBAGE COLLECTIONS', 'GARBAGE COLLECTIONS', 'GARBAGE COLLECTIONS', 'GARBAGE COLLECTIONS', 'GARBAGE COLLECTIONS', 'RECYCLING - SINGLE STREAM', 'RECYCLING - SINGLE STREAM', 'RECYCLING - SINGLE STREAM', 'GARBAGE COLLECTIONS', 'GARBAGE COLLECTIONS', 'RECYCLING - SINGLE STREAM', 'RECYCLING - SINGLE STREAM', 'YARD TRIMMING', 'YARD TRIMMING', 'GARBAGE COLLECTIONS', 'GARBAGE COLLECTIONS', 'GARBAGE COLLECTIONS', 'YARD TRIMMING', 'RECYCLING - SINGLE STREAM', 'YARD TRIMMING', 'GARBAGE COLLECTIONS', 'GARBAGE COLLECTIONS', 'GARBAGE COLLECTIONS', 'GARBAGE COLLECTIONS', 'YARD TRIMMING', 'RECYCLING - SINGLE STREAM', 'RECYCLING - SINGLE STREAM', 'GARBAGE COLLECTIONS', 'RECYCLING - SINGLE STREAM', 'GARBAGE COLLECTIONS', 'BULK', 'YARD TRIMMING', 'YARD TRIMMING', 'GARBAGE COLLECTIONS', 'BRUSH', 'YARD TRIMMING', 'GARBAGE COLLECTIONS', 'BULK', 'GARBAGE COLLECTIONS', 'RECYCLING - SINGLE STREAM', 'GARBAGE COLLECTIONS', 'TIRES', 'RECYCLING - SINGLE STREAM', 'SWEEPING', 'YARD TRIMMING', 'GARBAGE COLLECTIONS', 'YARD TRIMMING', 'RECYCLING - SINGLE STREAM', 'GARBAGE COLLECTIONS', 'YARD TRIMMING', 'YARD TRIMMING', 'RECYCLING - SINGLE STREAM', 'RECYCLING - SINGLE STREAM', 'RECYCLING - SINGLE STREAM', 'BRUSH', 'YARD TRIMMING', 'GARBAGE COLLECTIONS', 'GARBAGE COLLECTIONS', 'GARBAGE COLLECTIONS', 'RECYCLING - SINGLE STREAM', 'RECYCLING - SINGLE STREAM', 'RECYCLING - SINGLE STREAM', 'GARBAGE COLLECTIONS', 'GARBAGE COLLECTIONS', 'GARBAGE COLLECTIONS', 'GARBAGE COLLECTIONS', 'RECYCLING - SINGLE STREAM', 'GARBAGE COLLECTIONS', 'YARD TRIMMING', 'GARBAGE COLLECTIONS', 'YARD TRIMMING', 'RECYCLING - SINGLE STREAM', 'BULK', 'GARBAGE COLLECTIONS', 'RECYCLING - SINGLE STREAM', 'SWEEPING', 'GARBAGE COLLECTIONS', 'RECYCLING - SINGLE STREAM', 'BULK', 'RECYCLING - SINGLE STREAM', 'YARD TRIMMING', 'SWEEPING', 'RECYCLING - SINGLE STREAM', 'RECYCLING - SINGLE STREAM', 'GARBAGE COLLECTIONS', 'GARBAGE COLLECTIONS', 'GARBAGE COLLECTIONS', 'GARBAGE COLLECTIONS', 'YARD TRIMMING', 'GARBAGE COLLECTIONS', 'RECYCLING - SINGLE STREAM', 'RECYCLING - SINGLE STREAM', 'GARBAGE COLLECTIONS', 'RECYCLING - SINGLE STREAM', 'BRUSH', 'BULK', 'GARBAGE COLLECTIONS', 'YARD TRIMMING', 'YARD TRIMMING', 'GARBAGE COLLECTIONS', 'YARD TRIMMING', 'GARBAGE COLLECTIONS', 'SWEEPING', 'BULK', 'BULK', 'YARD TRIMMING', 'GARBAGE COLLECTIONS', 'GARBAGE COLLECTIONS', 'YARD TRIMMING', 'DEAD ANIMAL', 'SWEEPING', 'GARBAGE COLLECTIONS', 'RECYCLING - SINGLE STREAM', 'RECYCLING - SINGLE STREAM', 'RECYCLING - SINGLE STREAM', 'GARBAGE COLLECTIONS', 'SWEEPING', 'GARBAGE COLLECTIONS', 'GARBAGE COLLECTIONS', 'YARD TRIMMING', 'YARD TRIMMING', 'RECYCLING - SINGLE STREAM', 'BRUSH', 'BRUSH', 'BRUSH', 'GARBAGE COLLECTIONS', 'GARBAGE COLLECTIONS', 'GARBAGE COLLECTIONS', 'RECYCLING - SINGLE STREAM', 'GARBAGE COLLECTIONS', 'BULK', 'GARBAGE COLLECTIONS', 'RECYCLING - SINGLE STREAM', 'GARBAGE COLLECTIONS', 'RECYCLING - SINGLE STREAM', 'BULK', 'RECYCLING - SINGLE STREAM', 'YARD TRIMMING', 'BULK', 'BULK', 'RECYCLING - SINGLE STREAM', 'RECYCLING - SINGLE STREAM', 'DEAD ANIMAL', 'RECYCLING - SINGLE STREAM', 'RECYCLING - SINGLE STREAM', 'BRUSH', 'YARD TRIMMING', 'RECYCLING - SINGLE STREAM', 'RECYCLING - SINGLE STREAM', 'GARBAGE COLLECTIONS', 'RECYCLING - SINGLE STREAM', 'SWEEPING', 'GARBAGE COLLECTIONS', 'RECYCLING - SINGLE STREAM', 'GARBAGE COLLECTIONS', 'YARD TRIMMING', 'RECYCLING - SINGLE STREAM', 'RECYCLING - SINGLE STREAM', 'GARBAGE COLLECTIONS', 'GARBAGE COLLECTIONS', 'BRUSH', 'GARBAGE COLLECTIONS', 'RECYCLING - SINGLE STREAM', 'GARBAGE COLLECTIONS', 'RECYCLING - SINGLE STREAM', 'RECYCLING - SINGLE STREAM', 'RECYCLING - SINGLE STREAM', 'GARBAGE COLLECTIONS', 'YARD TRIMMING', 'GARBAGE COLLECTIONS', 'RECYCLING - SINGLE STREAM', 'GARBAGE COLLECTIONS', 'RECYCLING - SINGLE STREAM', 'GARBAGE COLLECTIONS', 'RECYCLING - SINGLE STREAM', 'GARBAGE COLLECTIONS', 'GARBAGE COLLECTIONS', 'GARBAGE COLLECTIONS', 'RECYCLING - SINGLE STREAM', 'BULK', 'RECYCLING - SINGLE STREAM', 'TIRES', 'GARBAGE COLLECTIONS', 'GARBAGE COLLECTIONS', 'GARBAGE COLLECTIONS', 'BRUSH', 'SWEEPING', 'RECYCLING - SINGLE STREAM', 'GARBAGE COLLECTIONS', 'RECYCLING - SINGLE STREAM', 'GARBAGE COLLECTIONS', 'GARBAGE COLLECTIONS', 'BULK', 'YARD TRIMMING', 'BRUSH', 'GARBAGE COLLECTIONS', 'RECYCLING - SINGLE STREAM', 'YARD TRIMMING', 'SWEEPING', 'GARBAGE COLLECTIONS', 'RECYCLING - SINGLE STREAM', 'GARBAGE COLLECTIONS', 'GARBAGE COLLECTIONS', 'GARBAGE COLLECTIONS', 'GARBAGE COLLECTIONS', 'RECYCLING - SINGLE STREAM', 'RECYCLING - SINGLE STREAM', 'RECYCLING - SINGLE STREAM', 'GARBAGE COLLECTIONS', 'SWEEPING', 'GARBAGE COLLECTIONS', 'GARBAGE COLLECTIONS', 'BRUSH', 'RECYCLING - SINGLE STREAM', 'GARBAGE COLLECTIONS', 'GARBAGE COLLECTIONS', 'RECYCLING - SINGLE STREAM', 'RECYCLING - SINGLE STREAM', 'GARBAGE COLLECTIONS', 'GARBAGE COLLECTIONS', 'YARD TRIMMING', 'BULK', 'YARD TRIMMING', 'GARBAGE COLLECTIONS', 'SWEEPING', 'GARBAGE COLLECTIONS', 'GARBAGE COLLECTIONS', 'YARD TRIMMING', 'GARBAGE COLLECTIONS', 'GARBAGE COLLECTIONS', 'SWEEPING', 'GARBAGE COLLECTIONS', 'BRUSH', 'GARBAGE COLLECTIONS', 'GARBAGE COLLECTIONS', 'GARBAGE COLLECTIONS', 'GARBAGE COLLECTIONS', 'GARBAGE COLLECTIONS', 'RECYCLING - SINGLE STREAM', 'YARD TRIMMING', 'YARD TRIMMING', 'GARBAGE COLLECTIONS', 'RECYCLING - SINGLE STREAM', 'RECYCLING - SINGLE STREAM', 'YARD TRIMMING', 'RECYCLING - SINGLE STREAM', 'RECYCLING - SINGLE STREAM', 'GARBAGE COLLECTIONS', 'RECYCLING - SINGLE STREAM', 'GARBAGE COLLECTIONS', 'GARBAGE COLLECTIONS', 'MIXED LITTER', 'RECYCLING - SINGLE STREAM', 'RECYCLING - SINGLE STREAM', 'RECYCLING - SINGLE STREAM', 'RECYCLING - SINGLE STREAM', 'GARBAGE COLLECTIONS', 'GARBAGE COLLECTIONS', 'RECYCLING - SINGLE STREAM', 'GARBAGE COLLECTIONS', 'GARBAGE COLLECTIONS', 'YARD TRIMMING', 'GARBAGE COLLECTIONS', 'GARBAGE COLLECTIONS', 'BULK', 'RECYCLING - SINGLE STREAM', 'RECYCLING - SINGLE STREAM', 'BULK', 'GARBAGE COLLECTIONS', 'RECYCLING - SINGLE STREAM', 'GARBAGE COLLECTIONS', 'GARBAGE COLLECTIONS', 'RECYCLING - SINGLE STREAM', 'GARBAGE COLLECTIONS', 'GARBAGE COLLECTIONS', 'SWEEPING', 'GARBAGE COLLECTIONS', 'GARBAGE COLLECTIONS', 'GARBAGE COLLECTIONS', 'GARBAGE COLLECTIONS', 'GARBAGE COLLECTIONS', 'GARBAGE COLLECTIONS', 'RECYCLING - SINGLE STREAM', 'BULK', 'RECYCLING - SINGLE STREAM', 'RECYCLING - SINGLE STREAM', 'RECYCLING - SINGLE STREAM', 'GARBAGE COLLECTIONS', 'GARBAGE COLLECTIONS', 'GARBAGE COLLECTIONS', 'RECYCLING - SINGLE STREAM', 'RECYCLING - SINGLE STREAM', 'GARBAGE COLLECTIONS', 'RECYCLING - SINGLE STREAM', 'YARD TRIMMING', 'TIRES', 'RECYCLING - SINGLE STREAM', 'GARBAGE COLLECTIONS', 'GARBAGE COLLECTIONS', 'YARD TRIMMING', 'RECYCLING - SINGLE STREAM', 'GARBAGE COLLECTIONS', 'GARBAGE COLLECTIONS', 'YARD TRIMMING', 'SWEEPING', 'GARBAGE COLLECTIONS', 'RECYCLING - SINGLE STREAM', 'TIRES', 'YARD TRIMMING', 'GARBAGE COLLECTIONS', 'GARBAGE COLLECTIONS', 'YARD TRIMMING', 'RECYCLING - SINGLE STREAM', 'RECYCLING - SINGLE STREAM', 'GARBAGE COLLECTIONS', 'GARBAGE COLLECTIONS', 'GARBAGE COLLECTIONS', 'RECYCLING - SINGLE STREAM', 'RECYCLING - SINGLE STREAM', 'GARBAGE COLLECTIONS', 'YARD TRIMMING', 'GARBAGE COLLECTIONS', 'GARBAGE COLLECTIONS', 'GARBAGE COLLECTIONS', 'GARBAGE COLLECTIONS', 'YARD TRIMMING', 'GARBAGE COLLECTIONS', 'GARBAGE COLLECTIONS', 'RECYCLING - SINGLE STREAM', 'RECYCLING - SINGLE STREAM', 'GARBAGE COLLECTIONS', 'RECYCLING - SINGLE STREAM', 'BULK', 'DEAD ANIMAL', 'GARBAGE COLLECTIONS', 'SWEEPING', 'YARD TRIMMING', 'RECYCLING - SINGLE STREAM', 'SWEEPING', 'YARD TRIMMING', 'RECYCLING - SINGLE STREAM', 'GARBAGE COLLECTIONS', 'YARD TRIMMING', 'GARBAGE COLLECTIONS', 'GARBAGE COLLECTIONS', 'RECYCLING - SINGLE STREAM', 'YARD TRIMMING', 'RECYCLING - SINGLE STREAM', 'RECYCLING - SINGLE STREAM', 'RECYCLING - SINGLE STREAM', 'RECYCLING - SINGLE STREAM', 'SWEEPING', 'GARBAGE COLLECTIONS', 'GARBAGE COLLECTIONS', 'YARD TRIMMING', 'GARBAGE COLLECTIONS', 'GARBAGE COLLECTIONS', 'RECYCLING - SINGLE STREAM', 'RECYCLING - SINGLE STREAM', 'RECYCLING - SINGLE STREAM', 'RECYCLING - SINGLE STREAM', 'LITTER', 'RECYCLING - SINGLE STREAM', 'GARBAGE COLLECTIONS', 'GARBAGE COLLECTIONS', 'RECYCLING - SINGLE STREAM', 'GARBAGE COLLECTIONS', 'BULK', 'GARBAGE COLLECTIONS', 'RECYCLING - SINGLE STREAM', 'GARBAGE COLLECTIONS', 'GARBAGE COLLECTIONS', 'GARBAGE COLLECTIONS', 'GARBAGE COLLECTIONS', 'GARBAGE COLLECTIONS', 'RECYCLING - SINGLE STREAM', 'RECYCLING - SINGLE STREAM', 'GARBAGE COLLECTIONS', 'RECYCLING - SINGLE STREAM', 'RECYCLING - SINGLE STREAM', 'GARBAGE COLLECTIONS', 'YARD TRIMMING', 'YARD TRIMMING', 'SWEEPING', 'RECYCLING - SINGLE STREAM', 'YARD TRIMMING', 'GARBAGE COLLECTIONS', 'GARBAGE COLLECTIONS', 'GARBAGE COLLECTIONS', 'GARBAGE COLLECTIONS', 'GARBAGE COLLECTIONS', 'GARBAGE COLLECTIONS', 'GARBAGE COLLECTIONS', 'YARD TRIMMING', 'RECYCLING - SINGLE STREAM', 'RECYCLING - SINGLE STREAM', 'GARBAGE COLLECTIONS', 'RECYCLING - SINGLE STREAM', 'GARBAGE COLLECTIONS', 'YARD TRIMMING', 'GARBAGE COLLECTIONS', 'GARBAGE COLLECTIONS', 'YARD TRIMMING', 'RECYCLING - SINGLE STREAM', 'GARBAGE COLLECTIONS', 'GARBAGE COLLECTIONS', 'BULK', 'GARBAGE COLLECTIONS', 'GARBAGE COLLECTIONS', 'GARBAGE COLLECTIONS', 'YARD TRIMMING', 'YARD TRIMMING', 'GARBAGE COLLECTIONS', 'RECYCLING - SINGLE STREAM', 'GARBAGE COLLECTIONS', 'RECYCLING - SINGLE STREAM', 'GARBAGE COLLECTIONS', 'GARBAGE COLLECTIONS', 'RECYCLING - SINGLE STREAM', 'GARBAGE COLLECTIONS', 'BRUSH', 'RECYCLING - SINGLE STREAM', 'GARBAGE COLLECTIONS', 'YARD TRIMMING', 'GARBAGE COLLECTIONS', 'YARD TRIMMING', 'RECYCLING - SINGLE STREAM', 'RECYCLING - SINGLE STREAM', 'DEAD ANIMAL', 'GARBAGE COLLECTIONS', 'RECYCLING - SINGLE STREAM', 'GARBAGE COLLECTIONS', 'GARBAGE COLLECTIONS', 'RECYCLING - SINGLE STREAM', 'GARBAGE COLLECTIONS', 'YARD TRIMMING', 'RECYCLING - SINGLE STREAM', 'GARBAGE COLLECTIONS', 'GARBAGE COLLECTIONS', 'RECYCLING - SINGLE STREAM', 'GARBAGE COLLECTIONS', 'GARBAGE COLLECTIONS', 'GARBAGE COLLECTIONS', 'RECYCLING - SINGLE STREAM', 'RECYCLING - SINGLE STREAM', 'RECYCLED METAL', 'BRUSH', 'RECYCLING - SINGLE STREAM', 'GARBAGE COLLECTIONS', 'RECYCLING - SINGLE STREAM', 'SWEEPING', 'SWEEPING', 'RECYCLING - SINGLE STREAM', 'GARBAGE COLLECTIONS', 'GARBAGE COLLECTIONS', 'GARBAGE COLLECTIONS', 'RECYCLING - SINGLE STREAM', 'RECYCLING - SINGLE STREAM', 'RECYCLING - SINGLE STREAM', 'BULK', 'BULK', 'DEAD ANIMAL', 'RECYCLING - SINGLE STREAM', 'RECYCLING - SINGLE STREAM', 'DEAD ANIMAL', 'RECYCLING - SINGLE STREAM', 'YARD TRIMMING', 'GARBAGE COLLECTIONS', 'GARBAGE COLLECTIONS', 'GARBAGE COLLECTIONS', 'GARBAGE COLLECTIONS', 'GARBAGE COLLECTIONS', 'RECYCLING - SINGLE STREAM', 'SWEEPING', 'RECYCLING - SINGLE STREAM', 'YARD TRIMMING', 'GARBAGE COLLECTIONS', 'RECYCLING - SINGLE STREAM', 'YARD TRIMMING', 'GARBAGE COLLECTIONS', 'GARBAGE COLLECTIONS', 'YARD TRIMMING', 'YARD TRIMMING', 'YARD TRIMMING', 'RECYCLING - SINGLE STREAM', 'BULK', 'RECYCLING - SINGLE STREAM', 'GARBAGE COLLECTIONS', 'GARBAGE COLLECTIONS', 'BULK', 'YARD TRIMMING', 'BULK', 'SWEEPING', 'BRUSH', 'GARBAGE COLLECTIONS', 'GARBAGE COLLECTIONS', 'RECYCLING - SINGLE STREAM', 'GARBAGE COLLECTIONS', 'YARD TRIMMING', 'BRUSH', 'RECYCLING - SINGLE STREAM', 'GARBAGE COLLECTIONS', 'BULK', 'RECYCLING - SINGLE STREAM', 'YARD TRIMMING', 'GARBAGE COLLECTIONS', 'GARBAGE COLLECTIONS', 'GARBAGE COLLECTIONS', 'GARBAGE COLLECTIONS', 'BULK', 'RECYCLING - SINGLE STREAM', 'GARBAGE COLLECTIONS', 'RECYCLING - SINGLE STREAM', 'YARD TRIMMING', 'GARBAGE COLLECTIONS', 'RECYCLING - SINGLE STREAM', 'GARBAGE COLLECTIONS', 'RECYCLING - SINGLE STREAM', 'GARBAGE COLLECTIONS', 'GARBAGE COLLECTIONS', 'GARBAGE COLLECTIONS', 'GARBAGE COLLECTIONS', 'YARD TRIMMING', 'GARBAGE COLLECTIONS', 'YARD TRIMMING', 'YARD TRIMMING', 'RECYCLING - SINGLE STREAM', 'RECYCLING - SINGLE STREAM', 'GARBAGE COLLECTIONS', 'SWEEPING', 'GARBAGE COLLECTIONS', 'GARBAGE COLLECTIONS', 'BRUSH', 'GARBAGE COLLECTIONS', 'RECYCLING - SINGLE STREAM', 'RECYCLING - SINGLE STREAM', 'GARBAGE COLLECTIONS', 'YARD TRIMMING', 'BULK', 'RECYCLING - SINGLE STREAM', 'YARD TRIMMING', 'YARD TRIMMING', 'GARBAGE COLLECTIONS', 'GARBAGE COLLECTIONS', 'GARBAGE COLLECTIONS', 'GARBAGE COLLECTIONS', 'RECYCLING - SINGLE STREAM', 'GARBAGE COLLECTIONS', 'RECYCLING - SINGLE STREAM', 'RECYCLING - SINGLE STREAM', 'GARBAGE COLLECTIONS', 'RECYCLING - SINGLE STREAM', 'YARD TRIMMING', 'YARD TRIMMING', 'SWEEPING', 'RECYCLING - SINGLE STREAM', 'GARBAGE COLLECTIONS', 'YARD TRIMMING', 'BRUSH', 'RECYCLING - SINGLE STREAM', 'BULK', 'RECYCLING - SINGLE STREAM', 'RECYCLING - SINGLE STREAM', 'YARD TRIMMING', 'GARBAGE COLLECTIONS', 'YARD TRIMMING', 'RECYCLING - SINGLE STREAM', 'GARBAGE COLLECTIONS', 'RECYCLING - SINGLE STREAM', 'GARBAGE COLLECTIONS', 'BRUSH', 'RECYCLING - SINGLE STREAM', 'YARD TRIMMING', 'GARBAGE COLLECTIONS', 'GARBAGE COLLECTIONS', 'YARD TRIMMING', 'RECYCLING - SINGLE STREAM', 'GARBAGE COLLECTIONS', 'RECYCLING - SINGLE STREAM', 'RECYCLING - SINGLE STREAM', 'SWEEPING', 'GARBAGE COLLECTIONS', 'GARBAGE COLLECTIONS', 'RECYCLING - SINGLE STREAM', 'YARD TRIMMING', 'RECYCLING - SINGLE STREAM', 'RECYCLING - SINGLE STREAM', 'YARD TRIMMING', 'RECYCLING - SINGLE STREAM', 'GARBAGE COLLECTIONS', 'GARBAGE COLLECTIONS', 'GARBAGE COLLECTIONS', 'YARD TRIMMING', 'GARBAGE COLLECTIONS', 'GARBAGE COLLECTIONS', 'GARBAGE COLLECTIONS', 'GARBAGE COLLECTIONS', 'RECYCLING - SINGLE STREAM', 'RECYCLING - SINGLE STREAM', 'RECYCLING - SINGLE STREAM', 'GARBAGE COLLECTIONS', 'GARBAGE COLLECTIONS', 'GARBAGE COLLECTIONS', 'GARBAGE COLLECTIONS', 'YARD TRIMMING', 'RECYCLING - SINGLE STREAM', 'GARBAGE COLLECTIONS', 'RECYCLING - SINGLE STREAM', 'GARBAGE COLLECTIONS', 'GARBAGE COLLECTIONS', 'GARBAGE COLLECTIONS', 'RECYCLING - SINGLE STREAM', 'SWEEPING', 'YARD TRIMMING', 'RECYCLING - SINGLE STREAM', 'RECYCLING - SINGLE STREAM', 'GARBAGE COLLECTIONS', 'RECYCLING - SINGLE STREAM']",
            "count": 1
           },
           {
            "name": "['BRUSH', 'YARD TRIMMING', 'BULK', 'BRUSH', 'BULK', 'LITTER', 'YARD TRIMMING', 'RECYCLING - SINGLE STREAM', 'GARBAGE COLLECTIONS', 'SWEEPING', 'YARD TRIMMING', 'ORGANICS', 'BULK', 'RECYCLING - SINGLE STREAM', 'GARBAGE COLLECTIONS', 'RECYCLING - SINGLE STREAM', 'GARBAGE COLLECTIONS', 'GARBAGE COLLECTIONS', 'RECYCLING - SINGLE STREAM', 'GARBAGE COLLECTIONS', 'RECYCLING - SINGLE STREAM', 'GARBAGE COLLECTIONS', 'RECYCLING - SINGLE STREAM', 'BULK', 'GARBAGE COLLECTIONS', 'SWEEPING', 'GARBAGE COLLECTIONS', 'GARBAGE COLLECTIONS', 'GARBAGE COLLECTIONS', 'YARD TRIMMING', 'RECYCLING - SINGLE STREAM', 'RECYCLED METAL', 'GARBAGE COLLECTIONS', 'TIRES', 'BULK', 'BULK', 'GARBAGE COLLECTIONS', 'GARBAGE COLLECTIONS', 'GARBAGE COLLECTIONS', 'RECYCLING - SINGLE STREAM', 'GARBAGE COLLECTIONS', 'SWEEPING', 'MIXED LITTER', 'BULK', 'RECYCLING - SINGLE STREAM', 'YARD TRIMMING', 'BULK', 'GARBAGE COLLECTIONS', 'YARD TRIMMING', 'RECYCLING - SINGLE STREAM', 'GARBAGE COLLECTIONS', 'GARBAGE COLLECTIONS', 'RECYCLING - SINGLE STREAM', 'YARD TRIMMING', 'RECYCLING - SINGLE STREAM', 'BULK', 'BRUSH', 'RECYCLING - SINGLE STREAM', 'SWEEPING', 'RECYCLING - SINGLE STREAM', 'BULK', 'RECYCLING - SINGLE STREAM', 'RECYCLING - SINGLE STREAM', 'GARBAGE COLLECTIONS', 'BULK', 'GARBAGE COLLECTIONS', 'RECYCLING - SINGLE STREAM', 'GARBAGE COLLECTIONS', 'RECYCLING - SINGLE STREAM', 'BULK', 'RECYCLING - SINGLE STREAM', 'RECYCLING - SINGLE STREAM', 'GARBAGE COLLECTIONS', 'GARBAGE COLLECTIONS', 'GARBAGE COLLECTIONS', 'RECYCLING - SINGLE STREAM', 'BRUSH', 'GARBAGE COLLECTIONS', 'RECYCLING - SINGLE STREAM', 'GARBAGE COLLECTIONS', 'GARBAGE COLLECTIONS', 'ORGANICS', 'GARBAGE COLLECTIONS', 'RECYCLING - SINGLE STREAM', 'GARBAGE COLLECTIONS', 'BULK', 'RECYCLING - SINGLE STREAM', 'RECYCLING - SINGLE STREAM', 'BULK', 'YARD TRIMMING', 'BULK', 'GARBAGE COLLECTIONS', 'RECYCLING - SINGLE STREAM', 'GARBAGE COLLECTIONS', 'GARBAGE COLLECTIONS', 'GARBAGE COLLECTIONS', 'BRUSH', 'GARBAGE COLLECTIONS', 'GARBAGE COLLECTIONS', 'GARBAGE COLLECTIONS', 'GARBAGE COLLECTIONS', 'RECYCLING - SINGLE STREAM', 'RECYCLING - SINGLE STREAM', 'SWEEPING', 'GARBAGE COLLECTIONS', 'RECYCLING - SINGLE STREAM', 'RECYCLING - SINGLE STREAM', 'GARBAGE COLLECTIONS', 'GARBAGE COLLECTIONS', 'RECYCLING - SINGLE STREAM', 'BRUSH', 'GARBAGE COLLECTIONS', 'YARD TRIMMING', 'ORGANICS', 'RECYCLING - SINGLE STREAM', 'YARD TRIMMING', 'RECYCLING - SINGLE STREAM', 'RECYCLING - SINGLE STREAM', 'GARBAGE COLLECTIONS', 'GARBAGE COLLECTIONS', 'GARBAGE COLLECTIONS', 'RECYCLING - SINGLE STREAM', 'GARBAGE COLLECTIONS', 'BULK', 'GARBAGE COLLECTIONS', 'RECYCLING - SINGLE STREAM', 'YARD TRIMMING', 'BULK', 'BULK', 'GARBAGE COLLECTIONS', 'GARBAGE COLLECTIONS', 'RECYCLING - SINGLE STREAM', 'BULK', 'ORGANICS', 'GARBAGE COLLECTIONS', 'YARD TRIMMING', 'YARD TRIMMING', 'GARBAGE COLLECTIONS', 'GARBAGE COLLECTIONS', 'RECYCLING - SINGLE STREAM', 'GARBAGE COLLECTIONS', 'ORGANICS', 'RECYCLING - SINGLE STREAM', 'GARBAGE COLLECTIONS', 'GARBAGE COLLECTIONS', 'RECYCLING - SINGLE STREAM', 'BULK', 'BULK', 'RECYCLING - SINGLE STREAM', 'BRUSH', 'BULK', 'BULK', 'RECYCLING - SINGLE STREAM', 'YARD TRIMMING', 'GARBAGE COLLECTIONS', 'GARBAGE COLLECTIONS', 'YARD TRIMMING', 'GARBAGE COLLECTIONS', 'RECYCLING - SINGLE STREAM', 'GARBAGE COLLECTIONS', 'RECYCLING - SINGLE STREAM', 'GARBAGE COLLECTIONS', 'RECYCLING - SINGLE STREAM', 'RECYCLING - SINGLE STREAM', 'DEAD ANIMAL', 'TIRES', 'GARBAGE COLLECTIONS', 'RECYCLING - SINGLE STREAM', 'GARBAGE COLLECTIONS', 'RECYCLING - SINGLE STREAM', 'GARBAGE COLLECTIONS', 'YARD TRIMMING', 'DEAD ANIMAL', 'RECYCLING - SINGLE STREAM', 'GARBAGE COLLECTIONS', 'BULK', 'BULK', 'GARBAGE COLLECTIONS', 'BULK', 'TIRES', 'BRUSH', 'GARBAGE COLLECTIONS', 'GARBAGE COLLECTIONS', 'RECYCLING - SINGLE STREAM', 'YARD TRIMMING', 'RECYCLING - SINGLE STREAM', 'RECYCLING - SINGLE STREAM', 'GARBAGE COLLECTIONS', 'GARBAGE COLLECTIONS', 'BULK', 'BULK', 'RECYCLING - SINGLE STREAM', 'RECYCLING - SINGLE STREAM', 'RECYCLING - SINGLE STREAM', 'GARBAGE COLLECTIONS', 'GARBAGE COLLECTIONS', 'RECYCLING - SINGLE STREAM', 'YARD TRIMMING', 'BULK', 'BULK', 'RECYCLING - SINGLE STREAM', 'GARBAGE COLLECTIONS', 'BULK', 'RECYCLING - SINGLE STREAM', 'YARD TRIMMING', 'YARD TRIMMING', 'GARBAGE COLLECTIONS', 'MIXED LITTER', 'GARBAGE COLLECTIONS', 'RECYCLING - SINGLE STREAM', 'MIXED LITTER', 'YARD TRIMMING', 'YARD TRIMMING', 'BRUSH', 'YARD TRIMMING', 'RECYCLING - SINGLE STREAM', 'GARBAGE COLLECTIONS', 'SWEEPING', 'RECYCLING - SINGLE STREAM', 'GARBAGE COLLECTIONS', 'RECYCLING - SINGLE STREAM', 'RECYCLING - SINGLE STREAM', 'YARD TRIMMING', 'ORGANICS', 'RECYCLING - SINGLE STREAM', 'RECYCLING - SINGLE STREAM', 'RECYCLING - SINGLE STREAM', 'RECYCLING - SINGLE STREAM', 'YARD TRIMMING', 'RECYCLING - SINGLE STREAM', 'RECYCLING - SINGLE STREAM', 'YARD TRIMMING', 'BULK', 'GARBAGE COLLECTIONS', 'RECYCLING - SINGLE STREAM', 'YARD TRIMMING', 'RECYCLING - SINGLE STREAM', 'RECYCLING - SINGLE STREAM', 'ORGANICS', 'GARBAGE COLLECTIONS', 'GARBAGE COLLECTIONS', 'YARD TRIMMING', 'BRUSH', 'YARD TRIMMING', 'BULK', 'GARBAGE COLLECTIONS', 'YARD TRIMMING', 'GARBAGE COLLECTIONS', 'GARBAGE COLLECTIONS', 'RECYCLING - SINGLE STREAM', 'YARD TRIMMING', 'BRUSH', 'GARBAGE COLLECTIONS', 'RECYCLING - SINGLE STREAM', 'GARBAGE COLLECTIONS', 'RECYCLING - SINGLE STREAM', 'GARBAGE COLLECTIONS', 'RECYCLING - SINGLE STREAM', 'GARBAGE COLLECTIONS', 'BULK', 'SWEEPING', 'ORGANICS', 'GARBAGE COLLECTIONS', 'BULK', 'YARD TRIMMING', 'GARBAGE COLLECTIONS', 'ORGANICS', 'ORGANICS', 'GARBAGE COLLECTIONS', 'GARBAGE COLLECTIONS', 'RECYCLING - SINGLE STREAM', 'RECYCLING - SINGLE STREAM', 'RECYCLING - SINGLE STREAM', 'GARBAGE COLLECTIONS', 'GARBAGE COLLECTIONS', 'RECYCLING - SINGLE STREAM', 'GARBAGE COLLECTIONS', 'ORGANICS', 'RECYCLING - SINGLE STREAM', 'DEAD ANIMAL', 'YARD TRIMMING', 'RECYCLING - SINGLE STREAM', 'GARBAGE COLLECTIONS', 'RECYCLING - SINGLE STREAM', 'GARBAGE COLLECTIONS', 'RECYCLING - SINGLE STREAM', 'GARBAGE COLLECTIONS', 'TIRES', 'GARBAGE COLLECTIONS', 'GARBAGE COLLECTIONS', 'ORGANICS', 'RECYCLING - SINGLE STREAM', 'GARBAGE COLLECTIONS', 'RECYCLING - SINGLE STREAM', 'RECYCLING - SINGLE STREAM', 'BULK', 'GARBAGE COLLECTIONS', 'RECYCLING - SINGLE STREAM', 'BULK', 'RECYCLING - SINGLE STREAM', 'RECYCLING - SINGLE STREAM', 'RECYCLING - SINGLE STREAM', 'DEAD ANIMAL', 'GARBAGE COLLECTIONS', 'BULK', 'GARBAGE COLLECTIONS', 'BULK', 'BRUSH', 'GARBAGE COLLECTIONS', 'RECYCLING - SINGLE STREAM', 'GARBAGE COLLECTIONS', 'BRUSH', 'GARBAGE COLLECTIONS', 'RECYCLING - SINGLE STREAM', 'GARBAGE COLLECTIONS', 'TIRES', 'ORGANICS', 'GARBAGE COLLECTIONS', 'RECYCLING - SINGLE STREAM', 'ORGANICS', 'GARBAGE COLLECTIONS', 'GARBAGE COLLECTIONS', 'BRUSH', 'GARBAGE COLLECTIONS', 'BULK', 'YARD TRIMMING', 'GARBAGE COLLECTIONS', 'RECYCLING - SINGLE STREAM', 'RECYCLING - SINGLE STREAM', 'GARBAGE COLLECTIONS', 'RECYCLING - SINGLE STREAM', 'GARBAGE COLLECTIONS', 'GARBAGE COLLECTIONS', 'RECYCLING - SINGLE STREAM', 'BULK', 'GARBAGE COLLECTIONS', 'RECYCLING - SINGLE STREAM', 'BULK', 'RECYCLING - SINGLE STREAM', 'GARBAGE COLLECTIONS', 'YARD TRIMMING', 'RECYCLING - SINGLE STREAM', 'RECYCLING - SINGLE STREAM', 'RECYCLING - SINGLE STREAM', 'RECYCLING - SINGLE STREAM', 'RECYCLING - SINGLE STREAM', 'ORGANICS', 'GARBAGE COLLECTIONS', 'BULK', 'GARBAGE COLLECTIONS', 'YARD TRIMMING', 'GARBAGE COLLECTIONS', 'YARD TRIMMING', 'YARD TRIMMING', 'RECYCLING - SINGLE STREAM', 'BULK', 'GARBAGE COLLECTIONS', 'GARBAGE COLLECTIONS', 'GARBAGE COLLECTIONS', 'GARBAGE COLLECTIONS', 'GARBAGE COLLECTIONS', 'BRUSH', 'GARBAGE COLLECTIONS', 'GARBAGE COLLECTIONS', 'BULK', 'BULK', 'RECYCLING - SINGLE STREAM', 'BRUSH', 'BULK', 'ORGANICS', 'DEAD ANIMAL', 'GARBAGE COLLECTIONS', 'RECYCLING - SINGLE STREAM', 'RECYCLING - SINGLE STREAM', 'BRUSH', 'RECYCLING - SINGLE STREAM', 'BULK', 'GARBAGE COLLECTIONS', 'GARBAGE COLLECTIONS', 'GARBAGE COLLECTIONS', 'GARBAGE COLLECTIONS', 'BULK', 'YARD TRIMMING', 'GARBAGE COLLECTIONS', 'GARBAGE COLLECTIONS', 'BRUSH', 'RECYCLING - SINGLE STREAM', 'RECYCLING - SINGLE STREAM', 'GARBAGE COLLECTIONS', 'GARBAGE COLLECTIONS', 'GARBAGE COLLECTIONS', 'TIRES', 'GARBAGE COLLECTIONS', 'RECYCLING - SINGLE STREAM', 'RECYCLING - SINGLE STREAM', 'GARBAGE COLLECTIONS', 'GARBAGE COLLECTIONS', 'RECYCLING - SINGLE STREAM', 'RECYCLING - SINGLE STREAM', 'SWEEPING', 'GARBAGE COLLECTIONS', 'RECYCLING - SINGLE STREAM', 'ORGANICS', 'RECYCLING - SINGLE STREAM', 'GARBAGE COLLECTIONS', 'RECYCLING - SINGLE STREAM', 'BULK', 'GARBAGE COLLECTIONS', 'GARBAGE COLLECTIONS', 'GARBAGE COLLECTIONS', 'BRUSH', 'RECYCLING - SINGLE STREAM', 'GARBAGE COLLECTIONS', 'YARD TRIMMING', 'RECYCLING - SINGLE STREAM', 'RECYCLING - SINGLE STREAM', 'RECYCLING - SINGLE STREAM', 'RECYCLING - SINGLE STREAM', 'GARBAGE COLLECTIONS', 'GARBAGE COLLECTIONS', 'BULK', 'ORGANICS', 'RECYCLING - SINGLE STREAM', 'RECYCLING - SINGLE STREAM', 'RECYCLING - SINGLE STREAM', 'BULK', 'ORGANICS', 'RECYCLING - SINGLE STREAM', 'RECYCLING - SINGLE STREAM', 'BULK', 'GARBAGE COLLECTIONS', 'RECYCLING - SINGLE STREAM', 'GARBAGE COLLECTIONS', 'RECYCLING - SINGLE STREAM', 'GARBAGE COLLECTIONS', 'RECYCLING - SINGLE STREAM', 'YARD TRIMMING', 'GARBAGE COLLECTIONS', 'RECYCLING - SINGLE STREAM', 'RECYCLING - SINGLE STREAM', 'GARBAGE COLLECTIONS', 'GARBAGE COLLECTIONS', 'GARBAGE COLLECTIONS', 'GARBAGE COLLECTIONS', 'RECYCLING - SINGLE STREAM', 'RECYCLING - SINGLE STREAM', 'GARBAGE COLLECTIONS', 'RECYCLING - SINGLE STREAM', 'GARBAGE COLLECTIONS', 'SWEEPING', 'RECYCLING - SINGLE STREAM', 'GARBAGE COLLECTIONS', 'BULK', 'BRUSH', 'BULK', 'GARBAGE COLLECTIONS', 'BULK', 'GARBAGE COLLECTIONS', 'RECYCLING - SINGLE STREAM', 'GARBAGE COLLECTIONS', 'GARBAGE COLLECTIONS', 'YARD TRIMMING', 'TIRES', 'RECYCLING - SINGLE STREAM', 'GARBAGE COLLECTIONS', 'BULK', 'RECYCLING - SINGLE STREAM', 'BULK', 'RECYCLING - SINGLE STREAM', 'BULK', 'ORGANICS', 'BRUSH', 'GARBAGE COLLECTIONS', 'RECYCLING - SINGLE STREAM', 'GARBAGE COLLECTIONS', 'RECYCLING - SINGLE STREAM', 'ORGANICS', 'GARBAGE COLLECTIONS', 'RECYCLING - SINGLE STREAM', 'RECYCLING - SINGLE STREAM', 'GARBAGE COLLECTIONS', 'BULK', 'RECYCLING - SINGLE STREAM', 'BULK', 'GARBAGE COLLECTIONS', 'RECYCLING - SINGLE STREAM', 'GARBAGE COLLECTIONS', 'RECYCLING - SINGLE STREAM', 'GARBAGE COLLECTIONS', 'GARBAGE COLLECTIONS', 'RECYCLING - SINGLE STREAM', 'ORGANICS', 'RECYCLING - SINGLE STREAM', 'YARD TRIMMING', 'GARBAGE COLLECTIONS', 'GARBAGE COLLECTIONS', 'YARD TRIMMING', 'RECYCLING - SINGLE STREAM', 'GARBAGE COLLECTIONS', 'GARBAGE COLLECTIONS', 'YARD TRIMMING', 'RECYCLING - SINGLE STREAM', 'BULK', 'GARBAGE COLLECTIONS', 'RECYCLING - SINGLE STREAM', 'GARBAGE COLLECTIONS', 'YARD TRIMMING', 'BULK', 'GARBAGE COLLECTIONS', 'ORGANICS', 'BULK', 'ORGANICS', 'RECYCLED METAL', 'BULK', 'RECYCLING - SINGLE STREAM', 'GARBAGE COLLECTIONS', 'BULK', 'GARBAGE COLLECTIONS', 'RECYCLING - SINGLE STREAM', 'GARBAGE COLLECTIONS', 'GARBAGE COLLECTIONS', 'BRUSH', 'GARBAGE COLLECTIONS', 'GARBAGE COLLECTIONS', 'RECYCLING - SINGLE STREAM', 'GARBAGE COLLECTIONS', 'GARBAGE COLLECTIONS', 'RECYCLING - SINGLE STREAM', 'BRUSH', 'GARBAGE COLLECTIONS', 'BULK', 'RECYCLING - SINGLE STREAM', 'BULK', 'RECYCLING - SINGLE STREAM', 'GARBAGE COLLECTIONS', 'GARBAGE COLLECTIONS', 'GARBAGE COLLECTIONS', 'GARBAGE COLLECTIONS', 'ORGANICS', 'BULK', 'RECYCLING - SINGLE STREAM', 'RECYCLING - SINGLE STREAM', 'BRUSH', 'GARBAGE COLLECTIONS', 'YARD TRIMMING', 'BULK', 'YARD TRIMMING', 'RECYCLING - SINGLE STREAM', 'BRUSH', 'RECYCLING - SINGLE STREAM', 'ORGANICS', 'GARBAGE COLLECTIONS', 'GARBAGE COLLECTIONS', 'GARBAGE COLLECTIONS', 'RECYCLING - SINGLE STREAM', 'RECYCLED METAL', 'RECYCLING - SINGLE STREAM', 'GARBAGE COLLECTIONS', 'GARBAGE COLLECTIONS', 'BULK', 'BULK', 'GARBAGE COLLECTIONS', 'RECYCLING - SINGLE STREAM', 'RECYCLING - SINGLE STREAM', 'GARBAGE COLLECTIONS', 'RECYCLING - SINGLE STREAM', 'BULK', 'BULK', 'YARD TRIMMING', 'GARBAGE COLLECTIONS', 'BULK', 'BULK', 'GARBAGE COLLECTIONS', 'RECYCLING - SINGLE STREAM', 'RECYCLING - SINGLE STREAM', 'GARBAGE COLLECTIONS', 'BULK', 'BULK', 'RECYCLING - SINGLE STREAM', 'GARBAGE COLLECTIONS', 'GARBAGE COLLECTIONS', 'GARBAGE COLLECTIONS', 'GARBAGE COLLECTIONS', 'RECYCLING - SINGLE STREAM', 'SWEEPING', 'GARBAGE COLLECTIONS', 'GARBAGE COLLECTIONS', 'GARBAGE COLLECTIONS', 'GARBAGE COLLECTIONS', 'GARBAGE COLLECTIONS', 'BRUSH', 'GARBAGE COLLECTIONS', 'BULK', 'GARBAGE COLLECTIONS', 'GARBAGE COLLECTIONS', 'BULK', 'BULK', 'RECYCLING - SINGLE STREAM', 'GARBAGE COLLECTIONS', 'RECYCLING - SINGLE STREAM', 'BULK', 'RECYCLING - SINGLE STREAM', 'GARBAGE COLLECTIONS', 'BULK', 'RECYCLING - SINGLE STREAM', 'BULK', 'GARBAGE COLLECTIONS', 'BULK', 'BULK', 'YARD TRIMMING', 'GARBAGE COLLECTIONS', 'GARBAGE COLLECTIONS', 'SWEEPING', 'DEAD ANIMAL', 'RECYCLING - SINGLE STREAM', 'BULK', 'GARBAGE COLLECTIONS', 'YARD TRIMMING', 'BRUSH', 'GARBAGE COLLECTIONS', 'RECYCLING - SINGLE STREAM', 'YARD TRIMMING', 'RECYCLING - SINGLE STREAM', 'GARBAGE COLLECTIONS', 'BULK', 'RECYCLING - SINGLE STREAM', 'BULK', 'GARBAGE COLLECTIONS', 'GARBAGE COLLECTIONS', 'GARBAGE COLLECTIONS', 'BULK', 'BULK', 'BULK', 'ORGANICS', 'GARBAGE COLLECTIONS', 'GARBAGE COLLECTIONS', 'GARBAGE COLLECTIONS', 'GARBAGE COLLECTIONS', 'YARD TRIMMING', 'RECYCLING - SINGLE STREAM', 'GARBAGE COLLECTIONS', 'BULK', 'GARBAGE COLLECTIONS', 'ORGANICS', 'YARD TRIMMING', 'GARBAGE COLLECTIONS', 'RECYCLING - SINGLE STREAM', 'BULK', 'GARBAGE COLLECTIONS', 'ORGANICS', 'RECYCLING - SINGLE STREAM', 'RECYCLING - SINGLE STREAM', 'RECYCLING - SINGLE STREAM', 'BRUSH', 'RECYCLING - SINGLE STREAM', 'RECYCLING - SINGLE STREAM', 'RECYCLING - SINGLE STREAM', 'GARBAGE COLLECTIONS', 'BULK', 'BRUSH', 'RECYCLING - SINGLE STREAM', 'RECYCLING - SINGLE STREAM', 'BRUSH', 'RECYCLING - SINGLE STREAM', 'GARBAGE COLLECTIONS', 'ORGANICS', 'GARBAGE COLLECTIONS', 'GARBAGE COLLECTIONS', 'GARBAGE COLLECTIONS', 'GARBAGE COLLECTIONS', 'BULK', 'GARBAGE COLLECTIONS', 'RECYCLING - SINGLE STREAM', 'GARBAGE COLLECTIONS', 'GARBAGE COLLECTIONS', 'RECYCLING - SINGLE STREAM', 'GARBAGE COLLECTIONS', 'GARBAGE COLLECTIONS', 'RECYCLING - SINGLE STREAM', 'ORGANICS', 'GARBAGE COLLECTIONS', 'BULK', 'BRUSH', 'GARBAGE COLLECTIONS', 'GARBAGE COLLECTIONS', 'BRUSH', 'GARBAGE COLLECTIONS', 'RECYCLING - SINGLE STREAM', 'SWEEPING', 'GARBAGE COLLECTIONS', 'YARD TRIMMING', 'RECYCLING - SINGLE STREAM', 'RECYCLING - SINGLE STREAM', 'RECYCLING - SINGLE STREAM', 'RECYCLING - SINGLE STREAM', 'RECYCLING - SINGLE STREAM', 'GARBAGE COLLECTIONS', 'BULK', 'GARBAGE COLLECTIONS', 'BULK', 'RECYCLING - SINGLE STREAM', 'BULK', 'BULK', 'RECYCLING - SINGLE STREAM', 'YARD TRIMMING', 'YARD TRIMMING', 'GARBAGE COLLECTIONS', 'RECYCLING - SINGLE STREAM', 'YARD TRIMMING', 'DEAD ANIMAL', 'GARBAGE COLLECTIONS', 'ORGANICS', 'RECYCLING - SINGLE STREAM', 'RECYCLING - SINGLE STREAM', 'RECYCLING - SINGLE STREAM', 'RECYCLING - SINGLE STREAM', 'YARD TRIMMING', 'ORGANICS', 'GARBAGE COLLECTIONS', 'GARBAGE COLLECTIONS', 'YARD TRIMMING', 'GARBAGE COLLECTIONS', 'RECYCLING - SINGLE STREAM', 'GARBAGE COLLECTIONS', 'YARD TRIMMING', 'GARBAGE COLLECTIONS', 'YARD TRIMMING', 'RECYCLING - SINGLE STREAM', 'GARBAGE COLLECTIONS', 'BULK', 'GARBAGE COLLECTIONS', 'BULK', 'GARBAGE COLLECTIONS', 'GARBAGE COLLECTIONS', 'BULK', 'GARBAGE COLLECTIONS', 'RECYCLING - SINGLE STREAM', 'GARBAGE COLLECTIONS', 'GARBAGE COLLECTIONS', 'GARBAGE COLLECTIONS', 'RECYCLING - SINGLE STREAM', 'BULK', 'RECYCLING - SINGLE STREAM', 'GARBAGE COLLECTIONS', 'GARBAGE COLLECTIONS', 'RECYCLING - SINGLE STREAM', 'RECYCLING - SINGLE STREAM', 'ORGANICS', 'RECYCLING - SINGLE STREAM', 'RECYCLING - SINGLE STREAM', 'RECYCLING - SINGLE STREAM', 'GARBAGE COLLECTIONS', 'RECYCLING - SINGLE STREAM', 'GARBAGE COLLECTIONS', 'BULK', 'GARBAGE COLLECTIONS', 'BRUSH', 'BULK', 'BULK', 'GARBAGE COLLECTIONS', 'BULK', 'BULK', 'GARBAGE COLLECTIONS', 'RECYCLING - SINGLE STREAM', 'YARD TRIMMING', 'BULK']",
            "count": 1
           }
          ]
         }
        },
        {
         "name": "Load Weight",
         "dtype": "float64",
         "stats": {
          "unique_count": 2,
          "nan_count": 0,
          "min": "9038870.0",
          "max": "9210387.0",
          "histogram": [
           {
            "bin_start": 9038870,
            "bin_end": 9056021.7,
            "count": 1
           },
           {
            "bin_start": 9056021.7,
            "bin_end": 9073173.4,
            "count": 0
           },
           {
            "bin_start": 9073173.4,
            "bin_end": 9090325.1,
            "count": 0
           },
           {
            "bin_start": 9090325.1,
            "bin_end": 9107476.8,
            "count": 0
           },
           {
            "bin_start": 9107476.8,
            "bin_end": 9124628.5,
            "count": 0
           },
           {
            "bin_start": 9124628.5,
            "bin_end": 9141780.2,
            "count": 0
           },
           {
            "bin_start": 9141780.2,
            "bin_end": 9158931.9,
            "count": 0
           },
           {
            "bin_start": 9158931.9,
            "bin_end": 9176083.6,
            "count": 0
           },
           {
            "bin_start": 9176083.6,
            "bin_end": 9193235.3,
            "count": 0
           },
           {
            "bin_start": 9193235.3,
            "bin_end": 9210387,
            "count": 1
           }
          ]
         }
        },
        {
         "name": "Dropoff Site",
         "dtype": "object",
         "stats": {
          "unique_count": 2,
          "nan_count": 0,
          "categories": [
           {
            "name": "['TDS - MRF', 'TDS - MRF', 'TDS LANDFILL', 'TDS LANDFILL', 'TDS LANDFILL', 'BALCONES RECYCLING', 'TDS - MRF', 'TDS - MRF', 'TDS LANDFILL', 'BALCONES RECYCLING', 'TDS LANDFILL', 'TDS LANDFILL', 'TDS - MRF', 'TDS - MRF', 'BALCONES RECYCLING', 'TDS LANDFILL', 'TDS LANDFILL', 'TDS LANDFILL', 'TDS LANDFILL', 'BALCONES RECYCLING', 'TDS LANDFILL', 'TDS LANDFILL', 'TDS LANDFILL', 'HORNSBY BEND', 'TDS - MRF', 'HORNSBY BEND', 'TDS LANDFILL', 'TDS LANDFILL', 'TDS - MRF', 'TDS LANDFILL', 'TDS LANDFILL', 'TDS - MRF', 'TDS - MRF', 'TDS - MRF', 'HORNSBY BEND', 'TDS LANDFILL', 'TDS LANDFILL', 'TDS LANDFILL', 'TDS LANDFILL', 'TDS LANDFILL', 'TDS - MRF', 'TDS LANDFILL', 'TDS LANDFILL', 'TDS LANDFILL', 'TDS LANDFILL', 'TDS LANDFILL', 'TDS - MRF', 'BALCONES RECYCLING', 'TDS LANDFILL', 'TDS LANDFILL', 'TDS LANDFILL', 'BALCONES RECYCLING', 'TDS - MRF', 'HORNSBY BEND', 'HORNSBY BEND', 'TDS LANDFILL', 'TDS LANDFILL', 'TDS LANDFILL', 'ORGANICS BY GOSH', 'TDS - MRF', 'HORNSBY BEND', 'TDS LANDFILL', 'TDS LANDFILL', 'TDS LANDFILL', 'TDS LANDFILL', 'ORGANICS BY GOSH', 'TDS - MRF', 'TDS - MRF', 'TDS LANDFILL', 'TDS - MRF', 'TDS LANDFILL', 'TDS LANDFILL', 'HORNSBY BEND', 'HORNSBY BEND', 'TDS LANDFILL', 'HORNSBY BEND', 'ORGANICS BY GOSH', 'TDS LANDFILL', 'TDS LANDFILL', 'TDS LANDFILL', 'BALCONES RECYCLING', 'TDS LANDFILL', 'MRF', 'BALCONES RECYCLING', 'TDS LANDFILL', 'HORNSBY BEND', 'TDS LANDFILL', 'HORNSBY BEND', 'TDS - MRF', 'TDS LANDFILL', 'ORGANICS BY GOSH', 'HORNSBY BEND', 'TDS - MRF', 'TDS - MRF', 'TDS - MRF', 'HORNSBY BEND', 'HORNSBY BEND', 'TDS LANDFILL', 'TDS LANDFILL', 'TDS LANDFILL', 'TDS - MRF', 'TDS - MRF', 'BALCONES RECYCLING', 'TDS LANDFILL', 'TDS LANDFILL', 'TDS LANDFILL', 'TDS LANDFILL', 'TDS - MRF', 'TDS LANDFILL', 'HORNSBY BEND', 'TDS LANDFILL', 'HORNSBY BEND', 'BALCONES RECYCLING', 'TDS LANDFILL', 'TDS LANDFILL', 'BALCONES RECYCLING', 'TDS LANDFILL', 'TDS LANDFILL', 'TDS - MRF', 'TDS LANDFILL', 'TDS - MRF', 'HORNSBY BEND', 'TDS LANDFILL', 'TDS - MRF', 'TDS - MRF', 'TDS LANDFILL', 'TDS LANDFILL', 'TDS LANDFILL', 'TDS LANDFILL', 'HORNSBY BEND', 'TDS LANDFILL', 'BALCONES RECYCLING', 'TDS - MRF', 'TDS LANDFILL', 'TDS - MRF', 'HORNSBY BEND', 'TDS LANDFILL', 'TDS LANDFILL', 'HORNSBY BEND', 'HORNSBY BEND', 'TDS LANDFILL', 'HORNSBY BEND', 'TDS LANDFILL', 'TDS LANDFILL', 'TDS LANDFILL', 'TDS LANDFILL', 'HORNSBY BEND', 'TDS LANDFILL', 'TDS LANDFILL', 'HORNSBY BEND', 'TDS LANDFILL', 'TDS LANDFILL', 'TDS LANDFILL', 'TDS LANDFILL', 'TDS - MRF', 'TDS - MRF', 'TDS LANDFILL', 'TDS LANDFILL', 'TDS LANDFILL', 'TDS LANDFILL', 'HORNSBY BEND', 'HORNSBY BEND', 'TDS - MRF', 'HORNSBY BEND', 'HORNSBY BEND', 'HORNSBY BEND', 'TDS LANDFILL', 'TDS LANDFILL', 'TDS LANDFILL', 'BALCONES RECYCLING', 'TDS LANDFILL', 'TDS LANDFILL', 'TDS LANDFILL', 'BALCONES RECYCLING', 'TDS LANDFILL', 'BALCONES RECYCLING', 'TDS LANDFILL', 'BALCONES RECYCLING', 'HORNSBY BEND', 'TDS LANDFILL', 'TDS LANDFILL', 'TDS - MRF', 'BALCONES RECYCLING', 'TDS LANDFILL', 'BALCONES RECYCLING', 'TDS - MRF', 'HORNSBY BEND', 'HORNSBY BEND', 'BALCONES RECYCLING', 'BALCONES RECYCLING', 'TDS LANDFILL', 'BALCONES RECYCLING', 'TDS LANDFILL', 'TDS LANDFILL', 'TDS - MRF', 'TDS LANDFILL', 'HORNSBY BEND', 'BALCONES RECYCLING', 'TDS - MRF', 'TDS LANDFILL', 'TDS LANDFILL', 'HORNSBY BEND', 'TDS LANDFILL', 'BALCONES RECYCLING', 'TDS LANDFILL', 'BALCONES RECYCLING', 'TDS - MRF', 'TDS - MRF', 'TDS LANDFILL', 'HORNSBY BEND', 'TDS LANDFILL', 'TDS - MRF', 'TDS LANDFILL', 'BALCONES RECYCLING', 'TDS LANDFILL', 'BALCONES RECYCLING', 'TDS LANDFILL', 'TDS LANDFILL', 'TDS LANDFILL', 'BALCONES RECYCLING', 'TDS LANDFILL', 'TDS - MRF', 'TDS LANDFILL', 'TDS LANDFILL', 'TDS LANDFILL', 'TDS LANDFILL', 'HORNSBY BEND', 'TDS LANDFILL', 'TDS - MRF', 'TDS LANDFILL', 'TDS - MRF', 'TDS LANDFILL', 'TDS LANDFILL', 'TDS LANDFILL', 'HORNSBY BEND', 'HORNSBY BEND', 'TDS LANDFILL', 'BALCONES RECYCLING', 'HORNSBY BEND', 'TDS LANDFILL', 'TDS LANDFILL', 'TDS - MRF', 'TDS LANDFILL', 'TDS LANDFILL', 'TDS LANDFILL', 'TDS LANDFILL', 'TDS - MRF', 'TDS - MRF', 'BALCONES RECYCLING', 'TDS LANDFILL', 'TDS LANDFILL', 'TDS LANDFILL', 'TDS LANDFILL', 'HORNSBY BEND', 'BALCONES RECYCLING', 'TDS LANDFILL', 'TDS LANDFILL', 'BALCONES RECYCLING', 'TDS - MRF', 'TDS LANDFILL', 'TDS LANDFILL', 'HORNSBY BEND', 'TDS LANDFILL', 'HORNSBY BEND', 'TDS LANDFILL', 'TDS LANDFILL', 'TDS LANDFILL', 'TDS LANDFILL', 'HORNSBY BEND', 'TDS LANDFILL', 'TDS LANDFILL', 'TDS LANDFILL', 'TDS LANDFILL', 'HORNSBY BEND', 'TDS LANDFILL', 'TDS LANDFILL', 'TDS LANDFILL', 'TDS LANDFILL', 'TDS LANDFILL', 'BALCONES RECYCLING', 'HORNSBY BEND', 'HORNSBY BEND', 'TDS LANDFILL', 'TDS - MRF', 'BALCONES RECYCLING', 'HORNSBY BEND', 'TDS - MRF', 'BALCONES RECYCLING', 'TDS LANDFILL', 'TDS - MRF', 'TDS LANDFILL', 'TDS LANDFILL', 'TDS LANDFILL', 'TDS - MRF', 'TDS LANDFILL', 'BALCONES RECYCLING', 'BALCONES RECYCLING', 'TDS LANDFILL', 'TDS LANDFILL', 'BALCONES RECYCLING', 'TDS LANDFILL', 'TDS LANDFILL', 'HORNSBY BEND', 'TDS LANDFILL', 'TDS LANDFILL', 'TDS LANDFILL', 'TDS - MRF', 'BALCONES RECYCLING', 'TDS LANDFILL', 'TDS LANDFILL', 'BALCONES RECYCLING', 'TDS LANDFILL', 'TDS LANDFILL', 'TDS - MRF', 'TDS LANDFILL', 'TDS LANDFILL', 'TDS LANDFILL', 'TDS LANDFILL', 'TDS LANDFILL', 'TDS LANDFILL', 'TDS LANDFILL', 'TDS LANDFILL', 'TDS LANDFILL', 'BALCONES RECYCLING', 'TDS LANDFILL', 'BALCONES RECYCLING', 'BALCONES RECYCLING', 'BALCONES RECYCLING', 'TDS LANDFILL', 'TDS LANDFILL', 'TDS LANDFILL', 'TDS - MRF', 'TDS - MRF', 'TDS LANDFILL', 'BALCONES RECYCLING', 'ORGANICS BY GOSH', 'MRF', 'BALCONES RECYCLING', 'TDS LANDFILL', 'TDS LANDFILL', 'HORNSBY BEND', 'BALCONES RECYCLING', 'TDS LANDFILL', 'TDS LANDFILL', 'HORNSBY BEND', 'TDS LANDFILL', 'TDS LANDFILL', 'TDS - MRF', 'MRF', 'HORNSBY BEND', 'TDS LANDFILL', 'TDS LANDFILL', 'HORNSBY BEND', 'TDS - MRF', 'BALCONES RECYCLING', 'TDS LANDFILL', 'TDS LANDFILL', 'TDS LANDFILL', 'BALCONES RECYCLING', 'BALCONES RECYCLING', 'TDS LANDFILL', 'HORNSBY BEND', 'TDS LANDFILL', 'TDS LANDFILL', 'TDS LANDFILL', 'TDS LANDFILL', 'HORNSBY BEND', 'TDS LANDFILL', 'TDS LANDFILL', 'BALCONES RECYCLING', 'TDS - MRF', 'TDS LANDFILL', 'TDS - MRF', 'TDS - MRF', 'TDS LANDFILL', 'TDS LANDFILL', 'TDS LANDFILL', 'HORNSBY BEND', 'TDS - MRF', 'TDS LANDFILL', 'HORNSBY BEND', 'TDS - MRF', 'TDS LANDFILL', 'HORNSBY BEND', 'TDS LANDFILL', 'TDS LANDFILL', 'BALCONES RECYCLING', 'ORGANICS BY GOSH', 'TDS LANDFILL', 'TDS - MRF', 'BALCONES RECYCLING', 'TDS LANDFILL', 'TDS LANDFILL', 'TDS LANDFILL', 'TDS LANDFILL', 'HORNSBY BEND', 'TDS LANDFILL', 'TDS LANDFILL', 'TDS - MRF', 'TDS - MRF', 'TDS - MRF', 'TDS - MRF', 'TDS LANDFILL', 'TDS - MRF', 'TDS LANDFILL', 'TDS LANDFILL', 'TDS - MRF', 'TDS LANDFILL', 'TDS LANDFILL', 'TDS LANDFILL', 'BALCONES RECYCLING', 'TDS LANDFILL', 'TDS LANDFILL', 'TDS LANDFILL', 'TDS LANDFILL', 'TDS LANDFILL', 'TDS - MRF', 'BALCONES RECYCLING', 'TDS LANDFILL', 'TDS - MRF', 'BALCONES RECYCLING', 'TDS LANDFILL', 'HORNSBY BEND', 'HORNSBY BEND', 'TDS LANDFILL', 'TDS LANDFILL', 'HORNSBY BEND', 'TDS LANDFILL', 'TDS LANDFILL', 'TDS LANDFILL', 'TDS LANDFILL', 'TDS LANDFILL', 'TDS LANDFILL', 'TDS LANDFILL', 'HORNSBY BEND', 'BALCONES RECYCLING', 'TDS - MRF', 'TDS LANDFILL', 'BALCONES RECYCLING', 'TDS LANDFILL', 'HORNSBY BEND', 'TDS LANDFILL', 'TDS LANDFILL', 'HORNSBY BEND', 'TDS - MRF', 'TDS LANDFILL', 'TDS LANDFILL', 'TDS LANDFILL', 'TDS LANDFILL', 'TDS LANDFILL', 'TDS LANDFILL', 'HORNSBY BEND', 'HORNSBY BEND', 'TDS LANDFILL', 'BALCONES RECYCLING', 'TDS LANDFILL', 'TDS - MRF', 'TDS LANDFILL', 'TDS LANDFILL', 'TDS - MRF', 'TDS LANDFILL', 'HORNSBY BEND', 'TDS - MRF', 'TDS LANDFILL', 'HORNSBY BEND', 'TDS LANDFILL', 'HORNSBY BEND', 'TDS - MRF', 'TDS - MRF', 'TDS LANDFILL', 'TDS LANDFILL', 'TDS - MRF', 'TDS LANDFILL', 'TDS LANDFILL', 'TDS - MRF', 'TDS LANDFILL', 'HORNSBY BEND', 'BALCONES RECYCLING', 'TDS LANDFILL', 'TDS LANDFILL', 'BALCONES RECYCLING', 'TDS LANDFILL', 'TDS LANDFILL', 'TDS LANDFILL', 'BALCONES RECYCLING', 'TDS - MRF', 'BALCONES RECYCLING', 'HORNSBY BEND', 'BALCONES RECYCLING', 'TDS LANDFILL', 'TDS - MRF', 'TDS LANDFILL', 'TDS LANDFILL', 'TDS LANDFILL', 'TDS LANDFILL', 'TDS LANDFILL', 'TDS LANDFILL', 'TDS - MRF', 'TDS - MRF', 'TDS - MRF', 'TDS LANDFILL', 'TDS LANDFILL', 'TDS LANDFILL', 'TDS LANDFILL', 'TDS - MRF', 'TDS LANDFILL', 'TDS LANDFILL', 'ORGANICS BY GOSH', 'TDS LANDFILL', 'TDS LANDFILL', 'TDS LANDFILL', 'TDS LANDFILL', 'TDS LANDFILL', 'TDS - MRF', 'TDS LANDFILL', 'TDS - MRF', 'ORGANICS BY GOSH', 'TDS LANDFILL', 'BALCONES RECYCLING', 'HORNSBY BEND', 'TDS LANDFILL', 'TDS LANDFILL', 'HORNSBY BEND', 'HORNSBY BEND', 'HORNSBY BEND', 'TDS - MRF', 'TDS LANDFILL', 'TDS - MRF', 'TDS LANDFILL', 'TDS LANDFILL', 'TDS LANDFILL', 'ORGANICS BY GOSH', 'TDS LANDFILL', 'TDS LANDFILL', 'HORNSBY BEND', 'TDS LANDFILL', 'TDS LANDFILL', 'TDS - MRF', 'TDS LANDFILL', 'ORGANICS BY GOSH', 'HORNSBY BEND', 'BALCONES RECYCLING', 'TDS LANDFILL', 'TDS LANDFILL', 'BALCONES RECYCLING', 'HORNSBY BEND', 'TDS LANDFILL', 'TDS LANDFILL', 'TDS LANDFILL', 'TDS LANDFILL', 'TDS LANDFILL', 'TDS - MRF', 'TDS LANDFILL', 'BALCONES RECYCLING', 'HORNSBY BEND', 'TDS LANDFILL', 'TDS - MRF', 'TDS LANDFILL', 'TDS - MRF', 'TDS LANDFILL', 'TDS LANDFILL', 'TDS LANDFILL', 'TDS LANDFILL', 'HORNSBY BEND', 'TDS LANDFILL', 'ORGANICS BY GOSH', 'HORNSBY BEND', 'BALCONES RECYCLING', 'BALCONES RECYCLING', 'TDS LANDFILL', 'TDS LANDFILL', 'TDS LANDFILL', 'TDS LANDFILL', 'HORNSBY BEND', 'TDS LANDFILL', 'TDS - MRF', 'BALCONES RECYCLING', 'TDS LANDFILL', 'HORNSBY BEND', 'TDS LANDFILL', 'BALCONES RECYCLING', 'ORGANICS BY GOSH', 'HORNSBY BEND', 'TDS LANDFILL', 'TDS LANDFILL', 'TDS LANDFILL', 'TDS LANDFILL', 'BALCONES RECYCLING', 'TDS LANDFILL', 'BALCONES RECYCLING', 'TDS - MRF', 'TDS LANDFILL', 'BALCONES RECYCLING', 'HORNSBY BEND', 'HORNSBY BEND', 'TDS LANDFILL', 'BALCONES RECYCLING', 'TDS LANDFILL', 'HORNSBY BEND', 'HORNSBY BEND', 'BALCONES RECYCLING', 'TDS LANDFILL', 'BALCONES RECYCLING', 'BALCONES RECYCLING', 'HORNSBY BEND', 'TDS LANDFILL', 'HORNSBY BEND', 'TDS - MRF', 'TDS LANDFILL', 'TDS - MRF', 'TDS LANDFILL', 'HORNSBY BEND', 'BALCONES RECYCLING', 'HORNSBY BEND', 'TDS LANDFILL', 'TDS LANDFILL', 'HORNSBY BEND', 'BALCONES RECYCLING', 'TDS LANDFILL', 'BALCONES RECYCLING', 'TDS - MRF', 'TDS LANDFILL', 'TDS LANDFILL', 'TDS LANDFILL', 'BALCONES RECYCLING', 'HORNSBY BEND', 'TDS - MRF', 'BALCONES RECYCLING', 'HORNSBY BEND', 'BALCONES RECYCLING', 'TDS LANDFILL', 'TDS LANDFILL', 'TDS LANDFILL', 'HORNSBY BEND', 'TDS LANDFILL', 'TDS LANDFILL', 'TDS LANDFILL', 'TDS LANDFILL', 'TDS LANDFILL', 'BALCONES RECYCLING', 'TDS - MRF', 'TDS LANDFILL', 'TDS LANDFILL', 'TDS LANDFILL', 'TDS LANDFILL', 'HORNSBY BEND', 'BALCONES RECYCLING', 'TDS LANDFILL', 'TDS - MRF', 'TDS LANDFILL', 'TDS LANDFILL', 'TDS LANDFILL', 'BALCONES RECYCLING', 'TDS LANDFILL', 'HORNSBY BEND', 'BALCONES RECYCLING', 'TDS - MRF', 'TDS LANDFILL', 'BALCONES RECYCLING']",
            "count": 1
           },
           {
            "name": "['HORNSBY BEND', 'HORNSBY BEND', 'TDS LANDFILL', 'HORNSBY BEND', 'TDS LANDFILL', 'TDS LANDFILL', 'ORGANICS BY GOSH', 'BALCONES RECYCLING', 'TDS LANDFILL', 'TDS LANDFILL', 'HORNSBY BEND', 'ORGANICS BY GOSH', 'TDS LANDFILL', 'TDS - MRF', 'TDS LANDFILL', 'BALCONES RECYCLING', 'TDS LANDFILL', 'TDS LANDFILL', 'TDS - MRF', 'TDS LANDFILL', 'TDS - MRF', 'TDS LANDFILL', 'TDS - MRF', 'TDS LANDFILL', 'TDS LANDFILL', 'TDS LANDFILL', 'TDS LANDFILL', 'TDS LANDFILL', 'TDS LANDFILL', 'ORGANICS BY GOSH', 'BALCONES RECYCLING', 'AUSTIN IRON AND METAL', 'TDS LANDFILL', 'MRF', 'TDS LANDFILL', 'TDS LANDFILL', 'TDS LANDFILL', 'TDS LANDFILL', 'TDS LANDFILL', 'TDS - MRF', 'TDS LANDFILL', 'TDS LANDFILL', 'TDS - MRF', 'TDS LANDFILL', 'TDS - MRF', 'HORNSBY BEND', 'TDS LANDFILL', 'TDS LANDFILL', 'HORNSBY BEND', 'BALCONES RECYCLING', 'TDS LANDFILL', 'TDS LANDFILL', 'BALCONES RECYCLING', 'ORGANICS BY GOSH', 'BALCONES RECYCLING', 'TDS LANDFILL', 'HORNSBY BEND', 'BALCONES RECYCLING', 'TDS LANDFILL', 'BALCONES RECYCLING', 'TDS LANDFILL', 'TDS - MRF', 'BALCONES RECYCLING', 'TDS LANDFILL', 'TDS LANDFILL', 'TDS LANDFILL', 'BALCONES RECYCLING', 'TDS LANDFILL', 'BALCONES RECYCLING', 'TDS LANDFILL', 'BALCONES RECYCLING', 'BALCONES RECYCLING', 'TDS LANDFILL', 'TDS LANDFILL', 'TDS LANDFILL', 'TDS - MRF', 'HORNSBY BEND', 'TDS LANDFILL', 'BALCONES RECYCLING', 'TDS LANDFILL', 'TDS LANDFILL', 'ORGANICS BY GOSH', 'TDS LANDFILL', 'BALCONES RECYCLING', 'TDS LANDFILL', 'TDS LANDFILL', 'BALCONES RECYCLING', 'BALCONES RECYCLING', 'TDS LANDFILL', 'ORGANICS BY GOSH', 'TDS LANDFILL', 'TDS LANDFILL', 'TDS - MRF', 'TDS LANDFILL', 'TDS LANDFILL', 'TDS LANDFILL', 'HORNSBY BEND', 'TDS LANDFILL', 'TDS LANDFILL', 'TDS LANDFILL', 'TDS LANDFILL', 'BALCONES RECYCLING', 'BALCONES RECYCLING', 'TDS LANDFILL', 'TDS LANDFILL', 'BALCONES RECYCLING', 'BALCONES RECYCLING', 'TDS LANDFILL', 'TDS LANDFILL', 'TDS - MRF', 'HORNSBY BEND', 'TDS LANDFILL', 'HORNSBY BEND', 'ORGANICS BY GOSH', 'TDS - MRF', 'ORGANICS BY GOSH', 'BALCONES RECYCLING', 'TDS - MRF', 'TDS LANDFILL', 'TDS LANDFILL', 'TDS LANDFILL', 'BALCONES RECYCLING', 'TDS LANDFILL', 'TDS LANDFILL', 'TDS LANDFILL', 'TDS - MRF', 'HORNSBY BEND', 'TDS LANDFILL', 'TDS LANDFILL', 'TDS LANDFILL', 'TDS LANDFILL', 'TDS - MRF', 'TDS LANDFILL', 'ORGANICS BY GOSH', 'TDS LANDFILL', 'ORGANICS BY GOSH', 'HORNSBY BEND', 'TDS LANDFILL', 'TDS LANDFILL', 'BALCONES RECYCLING', 'TDS LANDFILL', 'ORGANICS BY GOSH', 'BALCONES RECYCLING', 'TDS LANDFILL', 'TDS LANDFILL', 'BALCONES RECYCLING', 'TDS LANDFILL', 'TDS LANDFILL', 'BALCONES RECYCLING', 'HORNSBY BEND', 'TDS LANDFILL', 'TDS LANDFILL', 'BALCONES RECYCLING', 'HORNSBY BEND', 'TDS LANDFILL', 'TDS LANDFILL', 'ORGANICS BY GOSH', 'TDS LANDFILL', 'TDS - MRF', 'TDS LANDFILL', 'BALCONES RECYCLING', 'TDS LANDFILL', 'TDS - MRF', 'BALCONES RECYCLING', 'TDS LANDFILL', 'MRF', 'TDS LANDFILL', 'TDS - MRF', 'TDS LANDFILL', 'TDS - MRF', 'TDS LANDFILL', 'ORGANICS BY GOSH', 'TDS LANDFILL', 'BALCONES RECYCLING', 'TDS LANDFILL', 'TDS LANDFILL', 'TDS LANDFILL', 'TDS LANDFILL', 'TDS LANDFILL', 'MRF', 'HORNSBY BEND', 'TDS LANDFILL', 'TDS LANDFILL', 'BALCONES RECYCLING', 'HORNSBY BEND', 'TDS - MRF', 'BALCONES RECYCLING', 'TDS LANDFILL', 'TDS LANDFILL', 'TDS LANDFILL', 'TDS LANDFILL', 'BALCONES RECYCLING', 'TDS - MRF', 'BALCONES RECYCLING', 'TDS LANDFILL', 'TDS LANDFILL', 'TDS - MRF', 'HORNSBY BEND', 'TDS LANDFILL', 'TDS LANDFILL', 'BALCONES RECYCLING', 'TDS LANDFILL', 'TDS LANDFILL', 'BALCONES RECYCLING', 'HORNSBY BEND', 'HORNSBY BEND', 'TDS LANDFILL', 'TDS LANDFILL', 'TDS LANDFILL', 'TDS - MRF', 'TDS LANDFILL', 'ORGANICS BY GOSH', 'ORGANICS BY GOSH', 'HORNSBY BEND', 'ORGANICS BY GOSH', 'BALCONES RECYCLING', 'TDS LANDFILL', 'TDS LANDFILL', 'BALCONES RECYCLING', 'TDS LANDFILL', 'BALCONES RECYCLING', 'TDS - MRF', 'HORNSBY BEND', 'ORGANICS BY GOSH', 'BALCONES RECYCLING', 'TDS - MRF', 'BALCONES RECYCLING', 'BALCONES RECYCLING', 'HORNSBY BEND', 'BALCONES RECYCLING', 'BALCONES RECYCLING', 'HORNSBY BEND', 'TDS LANDFILL', 'TDS LANDFILL', 'BALCONES RECYCLING', 'ORGANICS BY GOSH', 'TDS - MRF', 'TDS - MRF', 'ORGANICS BY GOSH', 'TDS LANDFILL', 'TDS LANDFILL', 'HORNSBY BEND', 'HORNSBY BEND', 'ORGANICS BY GOSH', 'TDS LANDFILL', 'TDS LANDFILL', 'HORNSBY BEND', 'TDS LANDFILL', 'TDS LANDFILL', 'BALCONES RECYCLING', 'ORGANICS BY GOSH', 'HORNSBY BEND', 'TDS LANDFILL', 'BALCONES RECYCLING', 'TDS LANDFILL', 'BALCONES RECYCLING', 'TDS LANDFILL', 'BALCONES RECYCLING', 'TDS LANDFILL', 'TDS LANDFILL', 'TDS LANDFILL', 'ORGANICS BY GOSH', 'TDS LANDFILL', 'TDS LANDFILL', 'ORGANICS BY GOSH', 'TDS LANDFILL', 'ORGANICS BY GOSH', 'ORGANICS BY GOSH', 'TDS LANDFILL', 'TDS LANDFILL', 'TDS - MRF', 'BALCONES RECYCLING', 'BALCONES RECYCLING', 'TDS LANDFILL', 'TDS LANDFILL', 'BALCONES RECYCLING', 'TDS LANDFILL', 'ORGANICS BY GOSH', 'TDS - MRF', 'TDS LANDFILL', 'HORNSBY BEND', 'BALCONES RECYCLING', 'TDS LANDFILL', 'TDS - MRF', 'TDS LANDFILL', 'TDS - MRF', 'TDS LANDFILL', 'MRF', 'TDS LANDFILL', 'TDS LANDFILL', 'ORGANICS BY GOSH', 'BALCONES RECYCLING', 'TDS LANDFILL', 'TDS - MRF', 'BALCONES RECYCLING', 'TDS LANDFILL', 'TDS LANDFILL', 'BALCONES RECYCLING', 'TDS LANDFILL', 'TDS - MRF', 'TDS - MRF', 'BALCONES RECYCLING', 'TDS LANDFILL', 'TDS LANDFILL', 'TDS LANDFILL', 'TDS LANDFILL', 'TDS LANDFILL', 'HORNSBY BEND', 'TDS LANDFILL', 'TDS - MRF', 'TDS LANDFILL', 'HORNSBY BEND', 'TDS LANDFILL', 'BALCONES RECYCLING', 'TDS LANDFILL', 'MRF', 'ORGANICS BY GOSH', 'TDS LANDFILL', 'TDS - MRF', 'ORGANICS BY GOSH', 'TDS LANDFILL', 'TDS LANDFILL', 'HORNSBY BEND', 'TDS LANDFILL', 'TDS LANDFILL', 'ORGANICS BY GOSH', 'TDS LANDFILL', 'BALCONES RECYCLING', 'BALCONES RECYCLING', 'TDS LANDFILL', 'BALCONES RECYCLING', 'TDS LANDFILL', 'TDS LANDFILL', 'BALCONES RECYCLING', 'TDS LANDFILL', 'TDS LANDFILL', 'BALCONES RECYCLING', 'TDS LANDFILL', 'TDS - MRF', 'TDS LANDFILL', 'ORGANICS BY GOSH', 'BALCONES RECYCLING', 'TDS - MRF', 'BALCONES RECYCLING', 'TDS - MRF', 'TDS - MRF', 'ORGANICS BY GOSH', 'TDS LANDFILL', 'TDS LANDFILL', 'TDS LANDFILL', 'HORNSBY BEND', 'TDS LANDFILL', 'ORGANICS BY GOSH', 'HORNSBY BEND', 'BALCONES RECYCLING', 'TDS LANDFILL', 'TDS LANDFILL', 'TDS LANDFILL', 'TDS LANDFILL', 'TDS LANDFILL', 'TDS LANDFILL', 'HORNSBY BEND', 'TDS LANDFILL', 'TDS LANDFILL', 'TDS LANDFILL', 'TDS LANDFILL', 'BALCONES RECYCLING', 'HORNSBY BEND', 'TDS LANDFILL', 'ORGANICS BY GOSH', 'TDS LANDFILL', 'TDS LANDFILL', 'BALCONES RECYCLING', 'TDS - MRF', 'HORNSBY BEND', 'TDS - MRF', 'TDS LANDFILL', 'TDS LANDFILL', 'TDS LANDFILL', 'TDS LANDFILL', 'TDS LANDFILL', 'TDS LANDFILL', 'HORNSBY BEND', 'TDS LANDFILL', 'TDS LANDFILL', 'HORNSBY BEND', 'BALCONES RECYCLING', 'TDS - MRF', 'TDS LANDFILL', 'TDS LANDFILL', 'TDS LANDFILL', 'TDS - MRF', 'TDS LANDFILL', 'BALCONES RECYCLING', 'TDS - MRF', 'TDS LANDFILL', 'TDS LANDFILL', 'TDS - MRF', 'BALCONES RECYCLING', 'TDS LANDFILL', 'TDS LANDFILL', 'BALCONES RECYCLING', 'ORGANICS BY GOSH', 'BALCONES RECYCLING', 'TDS LANDFILL', 'BALCONES RECYCLING', 'TDS LANDFILL', 'TDS LANDFILL', 'TDS LANDFILL', 'TDS LANDFILL', 'HORNSBY BEND', 'TDS - MRF', 'TDS LANDFILL', 'HORNSBY BEND', 'BALCONES RECYCLING', 'TDS - MRF', 'TDS - MRF', 'BALCONES RECYCLING', 'TDS LANDFILL', 'TDS LANDFILL', 'TDS LANDFILL', 'ORGANICS BY GOSH', 'BALCONES RECYCLING', 'BALCONES RECYCLING', 'TDS - MRF', 'TDS LANDFILL', 'ORGANICS BY GOSH', 'BALCONES RECYCLING', 'TDS - MRF', 'TDS LANDFILL', 'TDS LANDFILL', 'TDS - MRF', 'TDS LANDFILL', 'BALCONES RECYCLING', 'TDS LANDFILL', 'BALCONES RECYCLING', 'HORNSBY BEND', 'TDS LANDFILL', 'TDS - MRF', 'TDS - MRF', 'TDS LANDFILL', 'TDS LANDFILL', 'TDS LANDFILL', 'TDS LANDFILL', 'BALCONES RECYCLING', 'BALCONES RECYCLING', 'TDS LANDFILL', 'TDS - MRF', 'TDS LANDFILL', 'TDS LANDFILL', 'TDS - MRF', 'TDS LANDFILL', 'TDS LANDFILL', 'HORNSBY BEND', 'TDS LANDFILL', 'TDS LANDFILL', 'TDS LANDFILL', 'TDS LANDFILL', 'BALCONES RECYCLING', 'TDS LANDFILL', 'TDS LANDFILL', 'HORNSBY BEND', 'MRF', 'BALCONES RECYCLING', 'TDS LANDFILL', 'TDS LANDFILL', 'BALCONES RECYCLING', 'TDS LANDFILL', 'BALCONES RECYCLING', 'TDS LANDFILL', 'ORGANICS BY GOSH', 'HORNSBY BEND', 'TDS LANDFILL', 'TDS - MRF', 'TDS LANDFILL', 'TDS - MRF', 'ORGANICS BY GOSH', 'TDS LANDFILL', 'TDS - MRF', 'TDS - MRF', 'TDS LANDFILL', 'TDS LANDFILL', 'BALCONES RECYCLING', 'TDS LANDFILL', 'TDS LANDFILL', 'BALCONES RECYCLING', 'TDS LANDFILL', 'TDS - MRF', 'TDS LANDFILL', 'TDS LANDFILL', 'BALCONES RECYCLING', 'ORGANICS BY GOSH', 'BALCONES RECYCLING', 'HORNSBY BEND', 'TDS LANDFILL', 'TDS LANDFILL', 'ORGANICS BY GOSH', 'BALCONES RECYCLING', 'TDS LANDFILL', 'TDS LANDFILL', 'ORGANICS BY GOSH', 'BALCONES RECYCLING', 'TDS LANDFILL', 'TDS LANDFILL', 'BALCONES RECYCLING', 'TDS LANDFILL', 'ORGANICS BY GOSH', 'TDS LANDFILL', 'TDS LANDFILL', 'ORGANICS BY GOSH', 'TDS LANDFILL', 'ORGANICS BY GOSH', 'AUSTIN IRON AND METAL', 'TDS LANDFILL', 'BALCONES RECYCLING', 'TDS LANDFILL', 'TDS LANDFILL', 'TDS LANDFILL', 'TDS - MRF', 'TDS LANDFILL', 'TDS LANDFILL', 'HORNSBY BEND', 'TDS LANDFILL', 'TDS LANDFILL', 'BALCONES RECYCLING', 'TDS LANDFILL', 'TDS LANDFILL', 'BALCONES RECYCLING', 'HORNSBY BEND', 'TDS LANDFILL', 'TDS LANDFILL', 'BALCONES RECYCLING', 'TDS LANDFILL', 'TDS - MRF', 'TDS LANDFILL', 'TDS LANDFILL', 'TDS LANDFILL', 'TDS LANDFILL', 'ORGANICS BY GOSH', 'TDS LANDFILL', 'TDS - MRF', 'BALCONES RECYCLING', 'HORNSBY BEND', 'TDS LANDFILL', 'ORGANICS BY GOSH', 'TDS LANDFILL', 'ORGANICS BY GOSH', 'BALCONES RECYCLING', 'HORNSBY BEND', 'TDS - MRF', 'ORGANICS BY GOSH', 'TDS LANDFILL', 'TDS LANDFILL', 'TDS LANDFILL', 'BALCONES RECYCLING', 'AUSTIN IRON AND METAL', 'TDS - MRF', 'TDS LANDFILL', 'TDS LANDFILL', 'TDS LANDFILL', 'TDS LANDFILL', 'TDS LANDFILL', 'BALCONES RECYCLING', 'BALCONES RECYCLING', 'TDS LANDFILL', 'BALCONES RECYCLING', 'TDS LANDFILL', 'TDS LANDFILL', 'ORGANICS BY GOSH', 'TDS LANDFILL', 'TDS LANDFILL', 'TDS LANDFILL', 'TDS LANDFILL', 'BALCONES RECYCLING', 'TDS - MRF', 'TDS LANDFILL', 'TDS LANDFILL', 'TDS LANDFILL', 'TDS - MRF', 'TDS LANDFILL', 'TDS LANDFILL', 'TDS LANDFILL', 'TDS LANDFILL', 'TDS - MRF', 'TDS LANDFILL', 'TDS LANDFILL', 'TDS LANDFILL', 'TDS LANDFILL', 'TDS LANDFILL', 'TDS LANDFILL', 'TDS LANDFILL', 'TDS LANDFILL', 'TDS LANDFILL', 'TDS LANDFILL', 'TDS LANDFILL', 'TDS LANDFILL', 'TDS LANDFILL', 'BALCONES RECYCLING', 'TDS LANDFILL', 'BALCONES RECYCLING', 'TDS LANDFILL', 'TDS - MRF', 'TDS LANDFILL', 'TDS LANDFILL', 'TDS - MRF', 'TDS LANDFILL', 'TDS LANDFILL', 'TDS LANDFILL', 'TDS LANDFILL', 'ORGANICS BY GOSH', 'TDS LANDFILL', 'TDS LANDFILL', 'TDS LANDFILL', 'TDS LANDFILL', 'BALCONES RECYCLING', 'TDS LANDFILL', 'TDS LANDFILL', 'HORNSBY BEND', 'HORNSBY BEND', 'TDS LANDFILL', 'TDS - MRF', 'HORNSBY BEND', 'TDS - MRF', 'TDS LANDFILL', 'TDS LANDFILL', 'BALCONES RECYCLING', 'TDS LANDFILL', 'TDS LANDFILL', 'TDS LANDFILL', 'TDS LANDFILL', 'TDS LANDFILL', 'TDS LANDFILL', 'TDS LANDFILL', 'ORGANICS BY GOSH', 'TDS LANDFILL', 'TDS LANDFILL', 'TDS LANDFILL', 'TDS LANDFILL', 'HORNSBY BEND', 'TDS - MRF', 'TDS LANDFILL', 'TDS LANDFILL', 'TDS LANDFILL', 'ORGANICS BY GOSH', 'ORGANICS BY GOSH', 'TDS LANDFILL', 'BALCONES RECYCLING', 'TDS LANDFILL', 'TDS LANDFILL', 'ORGANICS BY GOSH', 'BALCONES RECYCLING', 'BALCONES RECYCLING', 'BALCONES RECYCLING', 'HORNSBY BEND', 'BALCONES RECYCLING', 'TDS - MRF', 'BALCONES RECYCLING', 'TDS LANDFILL', 'TDS LANDFILL', 'HORNSBY BEND', 'TDS - MRF', 'BALCONES RECYCLING', 'HORNSBY BEND', 'BALCONES RECYCLING', 'TDS LANDFILL', 'ORGANICS BY GOSH', 'TDS LANDFILL', 'TDS LANDFILL', 'TDS LANDFILL', 'TDS LANDFILL', 'TDS LANDFILL', 'TDS LANDFILL', 'BALCONES RECYCLING', 'TDS LANDFILL', 'TDS LANDFILL', 'TDS - MRF', 'TDS LANDFILL', 'TDS LANDFILL', 'TDS - MRF', 'ORGANICS BY GOSH', 'TDS LANDFILL', 'TDS LANDFILL', 'HORNSBY BEND', 'TDS LANDFILL', 'TDS LANDFILL', 'HORNSBY BEND', 'TDS LANDFILL', 'TDS - MRF', 'TDS LANDFILL', 'TDS LANDFILL', 'ORGANICS BY GOSH', 'BALCONES RECYCLING', 'BALCONES RECYCLING', 'BALCONES RECYCLING', 'TDS - MRF', 'BALCONES RECYCLING', 'TDS LANDFILL', 'TDS LANDFILL', 'TDS LANDFILL', 'TDS LANDFILL', 'BALCONES RECYCLING', 'TDS LANDFILL', 'TDS LANDFILL', 'BALCONES RECYCLING', 'HORNSBY BEND', 'HORNSBY BEND', 'TDS LANDFILL', 'BALCONES RECYCLING', 'ORGANICS BY GOSH', 'TDS LANDFILL', 'TDS LANDFILL', 'HORNSBY BEND', 'BALCONES RECYCLING', 'TDS - MRF', 'BALCONES RECYCLING', 'TDS - MRF', 'ORGANICS BY GOSH', 'ORGANICS BY GOSH', 'TDS LANDFILL', 'TDS LANDFILL', 'HORNSBY BEND', 'TDS LANDFILL', 'BALCONES RECYCLING', 'TDS LANDFILL', 'ORGANICS BY GOSH', 'TDS LANDFILL', 'HORNSBY BEND', 'BALCONES RECYCLING', 'TDS LANDFILL', 'TDS LANDFILL', 'TDS LANDFILL', 'TDS LANDFILL', 'TDS LANDFILL', 'TDS LANDFILL', 'TDS LANDFILL', 'TDS LANDFILL', 'BALCONES RECYCLING', 'TDS LANDFILL', 'TDS LANDFILL', 'TDS LANDFILL', 'BALCONES RECYCLING', 'TDS LANDFILL', 'BALCONES RECYCLING', 'TDS LANDFILL', 'TDS LANDFILL', 'BALCONES RECYCLING', 'BALCONES RECYCLING', 'ORGANICS BY GOSH', 'BALCONES RECYCLING', 'BALCONES RECYCLING', 'TDS - MRF', 'TDS LANDFILL', 'TDS - MRF', 'TDS LANDFILL', 'TDS LANDFILL', 'TDS LANDFILL', 'HORNSBY BEND', 'TDS LANDFILL', 'TDS LANDFILL', 'TDS LANDFILL', 'TDS LANDFILL', 'TDS LANDFILL', 'TDS LANDFILL', 'BALCONES RECYCLING', 'ORGANICS BY GOSH', 'TDS LANDFILL']",
            "count": 1
           }
          ]
         }
        },
        {
         "name": "Route Type",
         "dtype": "object",
         "stats": {
          "unique_count": 2,
          "nan_count": 0,
          "categories": [
           {
            "name": "['RECYCLING - SINGLE STREAM', 'RECYCLING - SINGLE STREAM', 'SWEEPER DUMPSITES', 'GARBAGE COLLECTION', 'GARBAGE COLLECTION', 'RECYCLING - SINGLE STREAM', 'RECYCLING - SINGLE STREAM', 'RECYCLING - SINGLE STREAM', 'GARBAGE COLLECTION', 'RECYCLING - SINGLE STREAM', 'GARBAGE COLLECTION', 'GARBAGE COLLECTION', 'RECYCLING - SINGLE STREAM', 'RECYCLING - SINGLE STREAM', 'RECYCLING - SINGLE STREAM', 'GARBAGE COLLECTION', 'GARBAGE COLLECTION', 'GARBAGE COLLECTION', 'DEAD ANIMAL', 'RECYCLING - SINGLE STREAM', 'BULK', 'GARBAGE COLLECTION', 'GARBAGE COLLECTION', 'BRUSH', 'RECYCLING - SINGLE STREAM', 'YARD TRIMMINGS', 'GARBAGE COLLECTION', 'GARBAGE COLLECTION', 'RECYCLING - SINGLE STREAM', 'RECYCLING - SINGLE STREAM', 'GARBAGE COLLECTION', 'RECYCLING - SINGLE STREAM', 'RECYCLING - SINGLE STREAM', 'RECYCLING - SINGLE STREAM', 'YARD TRIMMINGS', 'GARBAGE COLLECTION', 'GARBAGE COLLECTION', 'BULK', 'GARBAGE COLLECTION', 'GARBAGE COLLECTION', 'RECYCLING - SINGLE STREAM', 'GARBAGE COLLECTION', 'GARBAGE COLLECTION', 'GARBAGE COLLECTION', 'GARBAGE COLLECTION', 'GARBAGE COLLECTION', 'RECYCLING - SINGLE STREAM', 'RECYCLING - SINGLE STREAM', 'RECYCLING - SINGLE STREAM', 'GARBAGE COLLECTION', 'GARBAGE COLLECTION', 'INHOUSE - RECYCLING', 'KAB', 'YARD TRIMMINGS', 'YARD TRIMMINGS', 'GARBAGE COLLECTION', 'GARBAGE COLLECTION', 'GARBAGE COLLECTION', 'YARD TRIMMINGS-ORGANICS', 'RECYCLING - SINGLE STREAM', 'YARD TRIMMINGS', 'GARBAGE COLLECTION', 'GARBAGE COLLECTION', 'GARBAGE COLLECTION', 'GARBAGE COLLECTION', 'YARD TRIMMINGS-ORGANICS', 'RECYCLING - SINGLE STREAM', 'RECYCLING - SINGLE STREAM', 'GARBAGE COLLECTION', 'RECYCLING - SINGLE STREAM', 'GARBAGE COLLECTION', 'BULK', 'YARD TRIMMINGS', 'YARD TRIMMINGS', 'GARBAGE COLLECTION', 'BRUSH', 'YARD TRIMMINGS-ORGANICS', 'GARBAGE COLLECTION', 'BULK', 'GARBAGE COLLECTION', 'RECYCLING - SINGLE STREAM', 'GARBAGE COLLECTION', 'BULK', 'RECYCLING - SINGLE STREAM', 'SWEEPER DUMPSITES', 'YARD TRIMMINGS', 'GARBAGE COLLECTION', 'YARD TRIMMINGS', 'RECYCLING - SINGLE STREAM', 'GARBAGE COLLECTION', 'YARD TRIMMINGS', 'YARD TRIMMINGS', 'RECYCLING - SINGLE STREAM', 'RECYCLING - SINGLE STREAM', 'RECYCLING - SINGLE STREAM', 'BRUSH', 'YARD TRIMMINGS', 'GARBAGE COLLECTION', 'GARBAGE COLLECTION', 'GARBAGE COLLECTION', 'RECYCLING - SINGLE STREAM', 'RECYCLING - SINGLE STREAM', 'RECYCLING - SINGLE STREAM', 'GARBAGE COLLECTION', 'GARBAGE COLLECTION', 'GARBAGE COLLECTION', 'GARBAGE COLLECTION', 'RECYCLING - SINGLE STREAM', 'GARBAGE COLLECTION', 'YARD TRIMMINGS', 'GARBAGE COLLECTION', 'YARD TRIMMINGS', 'RECYCLING - SINGLE STREAM', 'BULK', 'GARBAGE COLLECTION', 'RECYCLING - SINGLE STREAM', 'SWEEPER DUMPSITES', 'GARBAGE COLLECTION', 'RECYCLING - SINGLE STREAM', 'BULK', 'RECYCLING - SINGLE STREAM', 'YARD TRIMMINGS', 'SWEEPER DUMPSITES', 'RECYCLING - SINGLE STREAM', 'RECYCLING - SINGLE STREAM', 'GARBAGE COLLECTION', 'GARBAGE COLLECTION', 'GARBAGE COLLECTION', 'GARBAGE COLLECTION', 'YARD TRIMMINGS', 'GARBAGE COLLECTION', 'RECYCLING - SINGLE STREAM', 'RECYCLING - SINGLE STREAM', 'GARBAGE COLLECTION', 'RECYCLING - SINGLE STREAM', 'BRUSH', 'BULK', 'GARBAGE COLLECTION', 'YARD TRIMMINGS', 'YARD TRIMMINGS', 'GARBAGE COLLECTION', 'YARD TRIMMINGS', 'GARBAGE COLLECTION', 'SWEEPER DUMPSITES', 'BULK', 'BULK', 'YARD TRIMMINGS', 'GARBAGE COLLECTION', 'GARBAGE COLLECTION', 'YARD TRIMMINGS', 'DEAD ANIMAL', 'SWEEPER DUMPSITES', 'GARBAGE COLLECTION', 'RECYCLING - SINGLE STREAM', 'RECYCLING - SINGLE STREAM', 'RECYCLING - SINGLE STREAM', 'GARBAGE COLLECTION', 'SWEEPER DUMPSITES', 'GARBAGE COLLECTION', 'GARBAGE COLLECTION', 'YARD TRIMMINGS', 'YARD TRIMMINGS', 'RECYCLING - SINGLE STREAM', 'BRUSH', 'BRUSH', 'BRUSH', 'GARBAGE COLLECTION', 'GARBAGE COLLECTION', 'GARBAGE COLLECTION', 'RECYCLING - SINGLE STREAM', 'GARBAGE COLLECTION', 'BULK', 'GARBAGE COLLECTION', 'RECYCLING - SINGLE STREAM', 'GARBAGE COLLECTION', 'RECYCLING - SINGLE STREAM', 'BULK', 'RECYCLING - SINGLE STREAM', 'YARD TRIMMINGS', 'CAP BULK', 'BULK', 'RECYCLING - SINGLE STREAM', 'RECYCLING - SINGLE STREAM', 'DEAD ANIMAL', 'RECYCLING - SINGLE STREAM', 'RECYCLING - SINGLE STREAM', 'BRUSH', 'YARD TRIMMINGS', 'RECYCLING - SINGLE STREAM', 'RECYCLING - SINGLE STREAM', 'GARBAGE COLLECTION', 'RECYCLING - SINGLE STREAM', 'SWEEPER DUMPSITES', 'GARBAGE COLLECTION', 'RECYCLING - SINGLE STREAM', 'GARBAGE COLLECTION', 'YARD TRIMMINGS', 'RECYCLING - SINGLE STREAM', 'RECYCLING - SINGLE STREAM', 'GARBAGE COLLECTION', 'GARBAGE COLLECTION', 'BRUSH', 'GARBAGE COLLECTION', 'RECYCLING - SINGLE STREAM', 'GARBAGE COLLECTION', 'RECYCLING - SINGLE STREAM', 'RECYCLING - SINGLE STREAM', 'RECYCLING - SINGLE STREAM', 'GARBAGE COLLECTION', 'YARD TRIMMINGS', 'GARBAGE COLLECTION', 'RECYCLING - SINGLE STREAM', 'GARBAGE COLLECTION', 'RECYCLING - SINGLE STREAM', 'GARBAGE COLLECTION', 'RECYCLING - SINGLE STREAM', 'GARBAGE COLLECTION', 'GARBAGE COLLECTION', 'GARBAGE COLLECTION', 'RECYCLING - SINGLE STREAM', 'BULK', 'RECYCLING - SINGLE STREAM', 'BULK', 'GARBAGE COLLECTION', 'GARBAGE COLLECTION', 'GARBAGE COLLECTION', 'BRUSH', 'SWEEPER DUMPSITES', 'RECYCLING - SINGLE STREAM', 'GARBAGE COLLECTION', 'RECYCLING - SINGLE STREAM', 'GARBAGE COLLECTION', 'GARBAGE COLLECTION', 'BULK', 'YARD TRIMMINGS', 'BRUSH', 'GARBAGE COLLECTION', 'RECYCLING - SINGLE STREAM', 'YARD TRIMMINGS', 'SWEEPER DUMPSITES', 'GARBAGE COLLECTION', 'RECYCLING - SINGLE STREAM', 'GARBAGE COLLECTION', 'GARBAGE COLLECTION', 'GARBAGE COLLECTION', 'GARBAGE COLLECTION', 'RECYCLING - SINGLE STREAM', 'RECYCLING - SINGLE STREAM', 'RECYCLING - SINGLE STREAM', 'GARBAGE COLLECTION', 'SWEEPER DUMPSITES', 'GARBAGE COLLECTION', 'GARBAGE COLLECTION', 'BRUSH', 'RECYCLING - SINGLE STREAM', 'GARBAGE COLLECTION', 'GARBAGE COLLECTION', 'RECYCLING - SINGLE STREAM', 'RECYCLING - SINGLE STREAM', 'GARBAGE COLLECTION', 'GARBAGE COLLECTION', 'YARD TRIMMINGS-ORGANICS', 'BULK', 'YARD TRIMMINGS', 'GARBAGE COLLECTION', 'SWEEPER DUMPSITES', 'GARBAGE COLLECTION', 'GARBAGE COLLECTION', 'YARD TRIMMINGS', 'GARBAGE COLLECTION', 'GARBAGE COLLECTION', 'SWEEPER DUMPSITES', 'GARBAGE COLLECTION', 'BRUSH', 'GARBAGE COLLECTION', 'GARBAGE COLLECTION', 'GARBAGE COLLECTION', 'GARBAGE COLLECTION', 'GARBAGE COLLECTION', 'RECYCLING - SINGLE STREAM', 'YARD TRIMMINGS', 'YARD TRIMMINGS', 'GARBAGE COLLECTION', 'RECYCLING - SINGLE STREAM', 'RECYCLING - SINGLE STREAM', 'YARD TRIMMINGS', 'RECYCLING - SINGLE STREAM', 'RECYCLING - SINGLE STREAM', 'GARBAGE COLLECTION', 'RECYCLING - SINGLE STREAM', 'GARBAGE COLLECTION', 'GARBAGE COLLECTION', 'SPECIAL PROJECT LC', 'RECYCLING - SINGLE STREAM', 'RECYCLING - SINGLE STREAM', 'RECYCLING - SINGLE STREAM', 'RECYCLING - SINGLE STREAM', 'GARBAGE COLLECTION', 'GARBAGE COLLECTION', 'RECYCLING - SINGLE STREAM', 'GARBAGE COLLECTION', 'GARBAGE COLLECTION', 'YARD TRIMMINGS', 'GARBAGE COLLECTION', 'GARBAGE COLLECTION', 'BULK', 'RECYCLING - SINGLE STREAM', 'RECYCLING - SINGLE STREAM', 'BULK', 'GARBAGE COLLECTION', 'RECYCLING - SINGLE STREAM', 'GARBAGE COLLECTION', 'GARBAGE COLLECTION', 'RECYCLING - SINGLE STREAM', 'GARBAGE COLLECTION', 'GARBAGE COLLECTION', 'SWEEPER DUMPSITES', 'GARBAGE COLLECTION', 'GARBAGE COLLECTION', 'GARBAGE COLLECTION', 'GARBAGE COLLECTION', 'GARBAGE COLLECTION', 'GARBAGE COLLECTION', 'RECYCLING - SINGLE STREAM', 'BULK', 'RECYCLING - SINGLE STREAM', 'RECYCLING - SINGLE STREAM', 'RECYCLING - SINGLE STREAM', 'GARBAGE COLLECTION', 'GARBAGE COLLECTION', 'GARBAGE COLLECTION', 'RECYCLING - SINGLE STREAM', 'RECYCLING - SINGLE STREAM', 'GARBAGE COLLECTION', 'RECYCLING - SINGLE STREAM', 'YARD TRIMMINGS-ORGANICS', 'BULK', 'RECYCLING - SINGLE STREAM', 'GARBAGE COLLECTION', 'GARBAGE COLLECTION', 'YARD TRIMMINGS', 'RECYCLING - SINGLE STREAM', 'GARBAGE COLLECTION', 'GARBAGE COLLECTION', 'YARD TRIMMINGS', 'SWEEPER DUMPSITES', 'GARBAGE COLLECTION', 'RECYCLING - SINGLE STREAM', 'BULK', 'YARD TRIMMINGS', 'GARBAGE COLLECTION', 'GARBAGE COLLECTION', 'YARD TRIMMINGS', 'RECYCLING - SINGLE STREAM', 'RECYCLING - SINGLE STREAM', 'GARBAGE COLLECTION', 'GARBAGE COLLECTION', 'GARBAGE COLLECTION', 'RECYCLING - SINGLE STREAM', 'RECYCLING - SINGLE STREAM', 'GARBAGE COLLECTION', 'YARD TRIMMINGS', 'GARBAGE COLLECTION', 'GARBAGE COLLECTION', 'GARBAGE COLLECTION', 'GARBAGE COLLECTION', 'YARD TRIMMINGS', 'GARBAGE COLLECTION', 'GARBAGE COLLECTION', 'RECYCLING - SINGLE STREAM', 'RECYCLING - SINGLE STREAM', 'GARBAGE COLLECTION', 'RECYCLING - SINGLE STREAM', 'CAP BULK', 'DEAD ANIMAL', 'GARBAGE COLLECTION', 'SWEEPER DUMPSITES', 'YARD TRIMMINGS', 'RECYCLING - SINGLE STREAM', 'SWEEPER DUMPSITES', 'YARD TRIMMINGS', 'RECYCLING - SINGLE STREAM', 'GARBAGE COLLECTION', 'YARD TRIMMINGS', 'GARBAGE COLLECTION', 'GARBAGE COLLECTION', 'RECYCLING - SINGLE STREAM', 'YARD TRIMMINGS-ORGANICS', 'RECYCLING - SINGLE STREAM', 'RECYCLING - SINGLE STREAM', 'RECYCLING - SINGLE STREAM', 'RECYCLING - SINGLE STREAM', 'SWEEPER DUMPSITES', 'GARBAGE COLLECTION', 'GARBAGE COLLECTION', 'YARD TRIMMINGS', 'GARBAGE COLLECTION', 'GARBAGE COLLECTION', 'INHOUSE - RECYCLING', 'RECYCLING - SINGLE STREAM', 'RECYCLING - SINGLE STREAM', 'RECYCLING - SINGLE STREAM', 'KAB', 'RECYCLING - SINGLE STREAM', 'GARBAGE COLLECTION', 'GARBAGE COLLECTION', 'RECYCLING - SINGLE STREAM', 'GARBAGE COLLECTION', 'BULK', 'GARBAGE COLLECTION', 'RECYCLING - SINGLE STREAM', 'GARBAGE COLLECTION', 'GARBAGE COLLECTION', 'GARBAGE COLLECTION', 'GARBAGE COLLECTION', 'GARBAGE COLLECTION', 'RECYCLING - SINGLE STREAM', 'RECYCLING - SINGLE STREAM', 'GARBAGE COLLECTION', 'RECYCLING - SINGLE STREAM', 'RECYCLING - SINGLE STREAM', 'GARBAGE COLLECTION', 'YARD TRIMMINGS', 'YARD TRIMMINGS', 'SWEEPER DUMPSITES', 'RECYCLING - SINGLE STREAM', 'YARD TRIMMINGS', 'GARBAGE COLLECTION', 'GARBAGE COLLECTION', 'GARBAGE COLLECTION', 'GARBAGE COLLECTION', 'GARBAGE COLLECTION', 'GARBAGE COLLECTION', 'GARBAGE COLLECTION', 'YARD TRIMMINGS', 'RECYCLING - SINGLE STREAM', 'RECYCLING - SINGLE STREAM', 'GARBAGE COLLECTION', 'RECYCLING - SINGLE STREAM', 'GARBAGE COLLECTION', 'YARD TRIMMINGS', 'GARBAGE COLLECTION', 'GARBAGE COLLECTION', 'YARD TRIMMINGS', 'RECYCLING - SINGLE STREAM', 'GARBAGE COLLECTION', 'GARBAGE COLLECTION', 'BULK', 'GARBAGE COLLECTION', 'GARBAGE COLLECTION', 'GARBAGE COLLECTION', 'YARD TRIMMINGS', 'YARD TRIMMINGS', 'GARBAGE COLLECTION', 'RECYCLING - SINGLE STREAM', 'GARBAGE COLLECTION', 'RECYCLING - SINGLE STREAM', 'GARBAGE COLLECTION', 'GARBAGE COLLECTION', 'RECYCLING - SINGLE STREAM', 'GARBAGE COLLECTION', 'BRUSH', 'RECYCLING - SINGLE STREAM', 'GARBAGE COLLECTION', 'YARD TRIMMINGS', 'GARBAGE COLLECTION', 'YARD TRIMMINGS', 'RECYCLING - SINGLE STREAM', 'RECYCLING - SINGLE STREAM', 'DEAD ANIMAL', 'GARBAGE COLLECTION', 'RECYCLING - SINGLE STREAM', 'GARBAGE COLLECTION', 'GARBAGE COLLECTION', 'RECYCLING - SINGLE STREAM', 'GARBAGE COLLECTION', 'YARD TRIMMINGS', 'INHOUSE - RECYCLING', 'GARBAGE COLLECTION', 'GARBAGE COLLECTION', 'RECYCLING - SINGLE STREAM', 'GARBAGE COLLECTION', 'GARBAGE COLLECTION', 'GARBAGE COLLECTION', 'RECYCLING - SINGLE STREAM', 'RECYCLING - SINGLE STREAM', 'RECYCLING - SINGLE STREAM', 'BRUSH', 'RECYCLING - SINGLE STREAM', 'GARBAGE COLLECTION', 'RECYCLING - SINGLE STREAM', 'SWEEPER DUMPSITES', 'SWEEPER DUMPSITES', 'RECYCLING - SINGLE STREAM', 'GARBAGE COLLECTION', 'GARBAGE COLLECTION', 'GARBAGE COLLECTION', 'RECYCLING - SINGLE STREAM', 'RECYCLING - SINGLE STREAM', 'INHOUSE - RECYCLING', 'BULK', 'CAP BULK', 'DEAD ANIMAL', 'RECYCLING - SINGLE STREAM', 'RECYCLING - SINGLE STREAM', 'DEAD ANIMAL', 'RECYCLING - SINGLE STREAM', 'YARD TRIMMINGS-ORGANICS', 'GARBAGE COLLECTION', 'GARBAGE COLLECTION', 'GARBAGE COLLECTION', 'GARBAGE COLLECTION', 'GARBAGE COLLECTION', 'RECYCLING - SINGLE STREAM', 'SWEEPER DUMPSITES', 'RECYCLING - SINGLE STREAM', 'YARD TRIMMINGS-ORGANICS', 'GARBAGE COLLECTION', 'RECYCLING - SINGLE STREAM', 'YARD TRIMMINGS', 'GARBAGE COLLECTION', 'GARBAGE COLLECTION', 'YARD TRIMMINGS', 'YARD TRIMMINGS', 'YARD TRIMMINGS', 'RECYCLING - SINGLE STREAM', 'BULK', 'RECYCLING - SINGLE STREAM', 'GARBAGE COLLECTION', 'GARBAGE COLLECTION', 'BULK', 'YARD TRIMMINGS-ORGANICS', 'BULK', 'SWEEPER DUMPSITES', 'BRUSH', 'GARBAGE COLLECTION', 'GARBAGE COLLECTION', 'RECYCLING - SINGLE STREAM', 'GARBAGE COLLECTION', 'YARD TRIMMINGS-ORGANICS', 'BRUSH', 'RECYCLING - SINGLE STREAM', 'GARBAGE COLLECTION', 'BULK', 'RECYCLING - SINGLE STREAM', 'YARD TRIMMINGS', 'GARBAGE COLLECTION', 'GARBAGE COLLECTION', 'GARBAGE COLLECTION', 'GARBAGE COLLECTION', 'BULK', 'RECYCLING - SINGLE STREAM', 'GARBAGE COLLECTION', 'RECYCLING - SINGLE STREAM', 'YARD TRIMMINGS', 'GARBAGE COLLECTION', 'RECYCLING - SINGLE STREAM', 'GARBAGE COLLECTION', 'RECYCLING - SINGLE STREAM', 'GARBAGE COLLECTION', 'GARBAGE COLLECTION', 'GARBAGE COLLECTION', 'GARBAGE COLLECTION', 'YARD TRIMMINGS', 'GARBAGE COLLECTION', 'YARD TRIMMINGS-ORGANICS', 'YARD TRIMMINGS', 'RECYCLING - SINGLE STREAM', 'RECYCLING - SINGLE STREAM', 'GARBAGE COLLECTION', 'SWEEPER DUMPSITES', 'GARBAGE COLLECTION', 'GARBAGE COLLECTION', 'BRUSH', 'GARBAGE COLLECTION', 'RECYCLING - SINGLE STREAM', 'RECYCLING - SINGLE STREAM', 'GARBAGE COLLECTION', 'YARD TRIMMINGS', 'BULK', 'RECYCLING - SINGLE STREAM', 'YARD TRIMMINGS-ORGANICS', 'YARD TRIMMINGS', 'GARBAGE COLLECTION', 'GARBAGE COLLECTION', 'GARBAGE COLLECTION', 'GARBAGE COLLECTION', 'RECYCLING - SINGLE STREAM', 'GARBAGE COLLECTION', 'RECYCLING - SINGLE STREAM', 'RECYCLING - SINGLE STREAM', 'GARBAGE COLLECTION', 'RECYCLING - SINGLE STREAM', 'YARD TRIMMINGS', 'YARD TRIMMINGS', 'SWEEPER DUMPSITES', 'RECYCLING - SINGLE STREAM', 'GARBAGE COLLECTION', 'YARD TRIMMINGS', 'BRUSH', 'RECYCLING - SINGLE STREAM', 'CAP BULK', 'RECYCLING - SINGLE STREAM', 'RECYCLING - SINGLE STREAM', 'YARD TRIMMINGS', 'GARBAGE COLLECTION', 'YARD TRIMMINGS', 'RECYCLING - SINGLE STREAM', 'GARBAGE COLLECTION', 'RECYCLING - SINGLE STREAM', 'GARBAGE COLLECTION', 'BRUSH', 'RECYCLING - SINGLE STREAM', 'YARD TRIMMINGS', 'GARBAGE COLLECTION', 'GARBAGE COLLECTION', 'YARD TRIMMINGS', 'RECYCLING - SINGLE STREAM', 'GARBAGE COLLECTION', 'RECYCLING - SINGLE STREAM', 'RECYCLING - SINGLE STREAM', 'SWEEPER DUMPSITES', 'GARBAGE COLLECTION', 'GARBAGE COLLECTION', 'RECYCLING - SINGLE STREAM', 'YARD TRIMMINGS', 'RECYCLING - SINGLE STREAM', 'RECYCLING - SINGLE STREAM', 'YARD TRIMMINGS', 'RECYCLING - SINGLE STREAM', 'GARBAGE COLLECTION', 'GARBAGE COLLECTION', 'GARBAGE COLLECTION', 'YARD TRIMMINGS', 'GARBAGE COLLECTION', 'GARBAGE COLLECTION', 'GARBAGE COLLECTION', 'GARBAGE COLLECTION', 'RECYCLING - SINGLE STREAM', 'RECYCLING - SINGLE STREAM', 'RECYCLING - SINGLE STREAM', 'GARBAGE COLLECTION', 'GARBAGE COLLECTION', 'GARBAGE COLLECTION', 'GARBAGE COLLECTION', 'YARD TRIMMINGS', 'RECYCLING - SINGLE STREAM', 'GARBAGE COLLECTION', 'INHOUSE - RECYCLING', 'GARBAGE COLLECTION', 'GARBAGE COLLECTION', 'GARBAGE COLLECTION', 'RECYCLING - SINGLE STREAM', 'SWEEPER DUMPSITES', 'YARD TRIMMINGS', 'RECYCLING - SINGLE STREAM', 'RECYCLING - SINGLE STREAM', 'GARBAGE COLLECTION', 'RECYCLING - SINGLE STREAM']",
            "count": 1
           },
           {
            "name": "['BRUSH', 'YARD TRIMMINGS', 'BULK', 'BRUSH', 'BULK', 'KAB', 'YARD TRIMMINGS-ORGANICS', 'RECYCLING - SINGLE STREAM', 'GARBAGE COLLECTION', 'SWEEPER DUMPSITES', 'YARD TRIMMINGS', 'YARD TRIMMINGS-ORGANICS', 'BULK', 'RECYCLING - SINGLE STREAM', 'GARBAGE COLLECTION', 'RECYCLING - SINGLE STREAM', 'GARBAGE COLLECTION', 'GARBAGE COLLECTION', 'RECYCLING - SINGLE STREAM', 'GARBAGE COLLECTION', 'RECYCLING - SINGLE STREAM', 'GARBAGE COLLECTION', 'RECYCLING - SINGLE STREAM', 'BULK', 'GARBAGE COLLECTION', 'SWEEPER DUMPSITES', 'GARBAGE COLLECTION', 'GARBAGE COLLECTION', 'GARBAGE COLLECTION', 'YARD TRIMMINGS-ORGANICS', 'RECYCLING - SINGLE STREAM', 'ON CALL BULK', 'GARBAGE COLLECTION', 'BULK', 'BULK', 'BULK', 'GARBAGE COLLECTION', 'GARBAGE COLLECTION', 'GARBAGE COLLECTION', 'RECYCLING - SINGLE STREAM', 'GARBAGE COLLECTION', 'SWEEPER DUMPSITES', 'KAB', 'BULK', 'RECYCLING - SINGLE STREAM', 'YARD TRIMMINGS', 'BULK', 'GARBAGE COLLECTION', 'YARD TRIMMINGS', 'RECYCLING - SINGLE STREAM', 'GARBAGE COLLECTION', 'GARBAGE COLLECTION', 'RECYCLING - SINGLE STREAM', 'YARD TRIMMINGS-ORGANICS', 'RECYCLING - SINGLE STREAM', 'BULK', 'BRUSH', 'RECYCLING - SINGLE STREAM', 'SWEEPER DUMPSITES', 'RECYCLING - SINGLE STREAM', 'BULK', 'RECYCLING - SINGLE STREAM', 'RECYCLING - SINGLE STREAM', 'GARBAGE COLLECTION', 'BULK', 'GARBAGE COLLECTION', 'RECYCLING - SINGLE STREAM', 'GARBAGE COLLECTION', 'RECYCLING - SINGLE STREAM', 'CAP BULK', 'RECYCLING - SINGLE STREAM', 'RECYCLING - SINGLE STREAM', 'GARBAGE COLLECTION', 'GARBAGE COLLECTION', 'GARBAGE COLLECTION', 'RECYCLING - SINGLE STREAM', 'BRUSH', 'GARBAGE COLLECTION', 'RECYCLING - SINGLE STREAM', 'GARBAGE COLLECTION', 'GARBAGE COLLECTION', 'YARD TRIMMINGS-ORGANICS', 'GARBAGE COLLECTION', 'RECYCLING - SINGLE STREAM', 'GARBAGE COLLECTION', 'ON CALL BULK', 'RECYCLING - SINGLE STREAM', 'RECYCLING - SINGLE STREAM', 'ON CALL BULK', 'YARD TRIMMINGS-ORGANICS', 'ON CALL BULK', 'GARBAGE COLLECTION', 'RECYCLING - SINGLE STREAM', 'GARBAGE COLLECTION', 'GARBAGE COLLECTION', 'GARBAGE COLLECTION', 'BRUSH', 'GARBAGE COLLECTION', 'GARBAGE COLLECTION', 'GARBAGE COLLECTION', 'GARBAGE COLLECTION', 'RECYCLING - SINGLE STREAM', 'RECYCLING - SINGLE STREAM', 'SWEEPER DUMPSITES', 'GARBAGE COLLECTION', 'RECYCLING - SINGLE STREAM', 'RECYCLING - SINGLE STREAM', 'GARBAGE COLLECTION', 'GARBAGE COLLECTION', 'RECYCLING - SINGLE STREAM', 'BRUSH', 'GARBAGE COLLECTION', 'YARD TRIMMINGS-ORGANICS', 'YARD TRIMMINGS-ORGANICS', 'RECYCLING - SINGLE STREAM', 'YARD TRIMMINGS-ORGANICS', 'RECYCLING - SINGLE STREAM', 'RECYCLING - SINGLE STREAM', 'GARBAGE COLLECTION', 'GARBAGE COLLECTION', 'GARBAGE COLLECTION', 'RECYCLING - SINGLE STREAM', 'GARBAGE COLLECTION', 'BULK', 'GARBAGE COLLECTION', 'RECYCLING', 'YARD TRIMMINGS', 'BULK', 'BULK', 'GARBAGE COLLECTION', 'GARBAGE COLLECTION', 'RECYCLING - SINGLE STREAM', 'BULK', 'YARD TRIMMINGS-ORGANICS', 'GARBAGE COLLECTION', 'YARD TRIMMINGS-ORGANICS', 'YARD TRIMMINGS', 'GARBAGE COLLECTION', 'GARBAGE COLLECTION', 'RECYCLING DEAD END', 'GARBAGE COLLECTION', 'YARD TRIMMINGS-ORGANICS', 'RECYCLING - SINGLE STREAM', 'GARBAGE COLLECTION', 'GARBAGE COLLECTION', 'RECYCLING - SINGLE STREAM', 'BULK', 'BULK', 'RECYCLING - SINGLE STREAM', 'BRUSH', 'BULK', 'BULK', 'RECYCLING - SINGLE STREAM', 'YARD TRIMMINGS', 'GARBAGE COLLECTION', 'GARBAGE COLLECTION', 'YARD TRIMMINGS-ORGANICS', 'GARBAGE COLLECTION', 'RECYCLING - SINGLE STREAM', 'GARBAGE COLLECTION', 'RECYCLING - SINGLE STREAM', 'GARBAGE COLLECTION', 'RECYCLING - SINGLE STREAM', 'RECYCLING - SINGLE STREAM', 'DEAD ANIMAL', 'BULK', 'GARBAGE COLLECTION', 'RECYCLING - SINGLE STREAM', 'GARBAGE COLLECTION', 'RECYCLING - SINGLE STREAM', 'GARBAGE COLLECTION', 'YARD TRIMMINGS-ORGANICS', 'DEAD ANIMAL', 'RECYCLING - SINGLE STREAM', 'GARBAGE COLLECTION', 'BULK', 'BULK', 'GARBAGE COLLECTION', 'BULK', 'BULK', 'BRUSH', 'GARBAGE COLLECTION', 'GARBAGE COLLECTION', 'RECYCLING - SINGLE STREAM', 'YARD TRIMMINGS', 'RECYCLING - SINGLE STREAM', 'RECYCLING - SINGLE STREAM', 'GARBAGE COLLECTION', 'GARBAGE COLLECTION', 'BULK', 'BULK', 'RECYCLING - SINGLE STREAM', 'RECYCLING - SINGLE STREAM', 'RECYCLING - SINGLE STREAM', 'GARBAGE COLLECTION', 'GARBAGE COLLECTION', 'RECYCLING - SINGLE STREAM', 'YARD TRIMMINGS', 'BULK', 'BULK', 'RECYCLING - SINGLE STREAM', 'GARBAGE COLLECTION', 'BULK', 'RECYCLING - SINGLE STREAM', 'YARD TRIMMINGS-ORGANICS', 'YARD TRIMMINGS', 'GARBAGE COLLECTION', 'SPECIAL PROJECT LC', 'GARBAGE COLLECTION', 'RECYCLING - SINGLE STREAM', 'KAB', 'YARD TRIMMINGS-ORGANICS', 'YARD TRIMMINGS-ORGANICS', 'BRUSH', 'YARD TRIMMINGS-ORGANICS', 'RECYCLING - SINGLE STREAM', 'GARBAGE COLLECTION', 'SWEEPER DUMPSITES', 'RECYCLING - SINGLE STREAM', 'GARBAGE COLLECTION', 'RECYCLING - SINGLE STREAM', 'RECYCLING', 'YARD TRIMMINGS', 'YARD TRIMMINGS-ORGANICS', 'RECYCLING - SINGLE STREAM', 'RECYCLING - SINGLE STREAM', 'RECYCLING - SINGLE STREAM', 'RECYCLING - SINGLE STREAM', 'YARD TRIMMINGS', 'RECYCLING - SINGLE STREAM', 'RECYCLING - SINGLE STREAM', 'YARD TRIMMINGS', 'BULK', 'GARBAGE COLLECTION', 'RECYCLING - SINGLE STREAM', 'YARD TRIMMINGS-ORGANICS', 'KAB', 'RECYCLING - SINGLE STREAM', 'YARD TRIMMINGS-ORGANICS', 'GARBAGE COLLECTION', 'GARBAGE COLLECTION', 'YARD TRIMMINGS', 'BRUSH', 'YARD TRIMMINGS-ORGANICS', 'BULK', 'GARBAGE COLLECTION', 'YARD TRIMMINGS', 'GARBAGE COLLECTION', 'GARBAGE COLLECTION', 'RECYCLING - SINGLE STREAM', 'YARD TRIMMINGS-ORGANICS', 'BRUSH', 'GARBAGE COLLECTION', 'RECYCLING - SINGLE STREAM', 'GARBAGE COLLECTION', 'RECYCLING - SINGLE STREAM', 'GARBAGE COLLECTION', 'RECYCLING - SINGLE STREAM', 'GARBAGE COLLECTION', 'BULK', 'SWEEPER DUMPSITES', 'YARD TRIMMINGS-ORGANICS', 'GARBAGE COLLECTION', 'BULK', 'YARD TRIMMINGS-ORGANICS', 'GARBAGE COLLECTION', 'YARD TRIMMINGS-ORGANICS', 'YARD TRIMMINGS-ORGANICS', 'GARBAGE COLLECTION', 'GARBAGE COLLECTION', 'KAB', 'RECYCLING - SINGLE STREAM', 'RECYCLING - SINGLE STREAM', 'GARBAGE COLLECTION', 'GARBAGE COLLECTION', 'RECYCLING - SINGLE STREAM', 'GARBAGE COLLECTION', 'YARD TRIMMINGS-ORGANICS', 'RECYCLING - SINGLE STREAM', 'DEAD ANIMAL', 'YARD TRIMMINGS', 'RECYCLING - SINGLE STREAM', 'GARBAGE COLLECTION', 'RECYCLING - SINGLE STREAM', 'GARBAGE COLLECTION', 'RECYCLING - SINGLE STREAM', 'GARBAGE COLLECTION', 'BULK', 'GARBAGE COLLECTION', 'GARBAGE COLLECTION', 'YARD TRIMMINGS-ORGANICS', 'RECYCLING - SINGLE STREAM', 'GARBAGE COLLECTION', 'RECYCLING - SINGLE STREAM', 'RECYCLING - SINGLE STREAM', 'BULK', 'GARBAGE COLLECTION', 'RECYCLING - SINGLE STREAM', 'BULK', 'RECYCLING - SINGLE STREAM', 'RECYCLING - SINGLE STREAM', 'RECYCLING - SINGLE STREAM', 'DEAD ANIMAL', 'GARBAGE COLLECTION', 'BULK', 'GARBAGE COLLECTION', 'BULK', 'BRUSH', 'GARBAGE COLLECTION', 'RECYCLING - SINGLE STREAM', 'GARBAGE COLLECTION', 'BRUSH', 'GARBAGE COLLECTION', 'RECYCLING - SINGLE STREAM', 'GARBAGE COLLECTION', 'BULK', 'YARD TRIMMINGS-ORGANICS', 'GARBAGE COLLECTION', 'RECYCLING - SINGLE STREAM', 'YARD TRIMMINGS-ORGANICS', 'GARBAGE COLLECTION', 'GARBAGE COLLECTION', 'BRUSH', 'GARBAGE COLLECTION', 'BULK', 'YARD TRIMMINGS-ORGANICS', 'GARBAGE COLLECTION', 'RECYCLING DEAD END', 'RECYCLING - SINGLE STREAM', 'GARBAGE COLLECTION', 'RECYCLING - SINGLE STREAM', 'GARBAGE COLLECTION', 'GARBAGE COLLECTION', 'RECYCLING - SINGLE STREAM', 'BULK', 'GARBAGE COLLECTION', 'RECYCLING - SINGLE STREAM', 'BULK', 'RECYCLING - SINGLE STREAM', 'GARBAGE COLLECTION', 'YARD TRIMMINGS-ORGANICS', 'RECYCLING - SINGLE STREAM', 'RECYCLING - SINGLE STREAM', 'RECYCLING - SINGLE STREAM', 'RECYCLING - SINGLE STREAM', 'RECYCLING', 'YARD TRIMMINGS-ORGANICS', 'GARBAGE COLLECTION', 'BULK', 'GARBAGE COLLECTION', 'YARD TRIMMINGS', 'GARBAGE COLLECTION', 'YARD TRIMMINGS-ORGANICS', 'YARD TRIMMINGS', 'RECYCLING - SINGLE STREAM', 'BULK', 'GARBAGE COLLECTION', 'GARBAGE COLLECTION', 'GARBAGE COLLECTION', 'GARBAGE COLLECTION', 'GARBAGE COLLECTION', 'STORM', 'GARBAGE COLLECTION', 'GARBAGE COLLECTION', 'BULK', 'BULK', 'RECYCLING - SINGLE STREAM', 'BRUSH', 'BULK', 'YARD TRIMMINGS-ORGANICS', 'DEAD ANIMAL', 'GARBAGE COLLECTION', 'RECYCLING - SINGLE STREAM', 'RECYCLING - SINGLE STREAM', 'BRUSH', 'RECYCLING - SINGLE STREAM', 'BULK', 'GARBAGE COLLECTION', 'GARBAGE COLLECTION', 'GARBAGE COLLECTION', 'GARBAGE COLLECTION', 'ON CALL BULK', 'YARD TRIMMINGS', 'GARBAGE COLLECTION', 'GARBAGE COLLECTION', 'STORM', 'RECYCLING - SINGLE STREAM', 'RECYCLING - SINGLE STREAM', 'GARBAGE COLLECTION', 'GARBAGE COLLECTION', 'GARBAGE COLLECTION', 'BULK', 'GARBAGE COLLECTION', 'INHOUSE - RECYCLING', 'RECYCLING - SINGLE STREAM', 'GARBAGE COLLECTION', 'GARBAGE COLLECTION', 'KAB', 'RECYCLING - SINGLE STREAM', 'SWEEPER DUMPSITES', 'GARBAGE COLLECTION', 'RECYCLING - SINGLE STREAM', 'YARD TRIMMINGS-ORGANICS', 'RECYCLING - SINGLE STREAM', 'GARBAGE COLLECTION', 'RECYCLING - SINGLE STREAM', 'BULK', 'GARBAGE COLLECTION', 'GARBAGE COLLECTION', 'GARBAGE COLLECTION', 'BRUSH', 'RECYCLING - SINGLE STREAM', 'GARBAGE COLLECTION', 'YARD TRIMMINGS', 'RECYCLING - SINGLE STREAM', 'RECYCLING - SINGLE STREAM', 'RECYCLING - SINGLE STREAM', 'RECYCLING - SINGLE STREAM', 'GARBAGE COLLECTION', 'GARBAGE COLLECTION', 'BULK', 'YARD TRIMMINGS-ORGANICS', 'RECYCLING - SINGLE STREAM', 'RECYCLING - SINGLE STREAM', 'RECYCLING', 'BULK', 'YARD TRIMMINGS-ORGANICS', 'RECYCLING DEAD END', 'RECYCLING - SINGLE STREAM', 'BULK', 'GARBAGE COLLECTION', 'RECYCLING - SINGLE STREAM', 'GARBAGE COLLECTION', 'INHOUSE - RECYCLING', 'GARBAGE COLLECTION', 'RECYCLING - SINGLE STREAM', 'YARD TRIMMINGS', 'GARBAGE COLLECTION', 'RECYCLING - SINGLE STREAM', 'RECYCLING - SINGLE STREAM', 'GARBAGE COLLECTION', 'GARBAGE COLLECTION', 'GARBAGE COLLECTION', 'GARBAGE COLLECTION', 'RECYCLING - SINGLE STREAM', 'RECYCLING - SINGLE STREAM', 'GARBAGE COLLECTION', 'RECYCLING - SINGLE STREAM', 'GARBAGE COLLECTION', 'SWEEPER DUMPSITES', 'RECYCLING - SINGLE STREAM', 'GARBAGE COLLECTION', 'BULK', 'BRUSH', 'BULK', 'GARBAGE COLLECTION', 'BULK', 'GARBAGE COLLECTION', 'RECYCLING - SINGLE STREAM', 'GARBAGE COLLECTION', 'GARBAGE COLLECTION', 'YARD TRIMMINGS', 'BULK', 'RECYCLING - SINGLE STREAM', 'GARBAGE COLLECTION', 'BULK', 'RECYCLING - SINGLE STREAM', 'BULK', 'RECYCLING - SINGLE STREAM', 'BULK', 'YARD TRIMMINGS-ORGANICS', 'BRUSH', 'GARBAGE COLLECTION', 'RECYCLING - SINGLE STREAM', 'GARBAGE COLLECTION', 'RECYCLING - SINGLE STREAM', 'YARD TRIMMINGS-ORGANICS', 'GARBAGE COLLECTION', 'RECYCLING - SINGLE STREAM', 'RECYCLING - SINGLE STREAM', 'GARBAGE COLLECTION', 'BULK', 'RECYCLING - SINGLE STREAM', 'BULK', 'GARBAGE COLLECTION', 'RECYCLING - SINGLE STREAM', 'GARBAGE COLLECTION', 'RECYCLING - SINGLE STREAM', 'GARBAGE COLLECTION', 'GARBAGE COLLECTION', 'RECYCLING - SINGLE STREAM', 'YARD TRIMMINGS-ORGANICS', 'RECYCLING - SINGLE STREAM', 'YARD TRIMMINGS', 'GARBAGE COLLECTION', 'GARBAGE COLLECTION', 'YARD TRIMMINGS-ORGANICS', 'RECYCLING - SINGLE STREAM', 'GARBAGE COLLECTION', 'GARBAGE COLLECTION', 'YARD TRIMMINGS-ORGANICS', 'RECYCLING - SINGLE STREAM', 'BULK', 'GARBAGE COLLECTION', 'RECYCLING - SINGLE STREAM', 'GARBAGE COLLECTION', 'YARD TRIMMINGS-ORGANICS', 'BULK', 'GARBAGE COLLECTION', 'YARD TRIMMINGS-ORGANICS', 'BULK', 'YARD TRIMMINGS-ORGANICS', 'ON CALL BULK', 'BULK', 'RECYCLING', 'GARBAGE COLLECTION', 'BULK', 'GARBAGE COLLECTION', 'RECYCLING - SINGLE STREAM', 'GARBAGE COLLECTION', 'GARBAGE COLLECTION', 'STORM', 'GARBAGE COLLECTION', 'GARBAGE COLLECTION', 'RECYCLING - SINGLE STREAM', 'GARBAGE COLLECTION', 'GARBAGE COLLECTION', 'RECYCLING - SINGLE STREAM', 'STORM', 'GARBAGE COLLECTION', 'BULK', 'RECYCLING - SINGLE STREAM', 'BULK', 'RECYCLING - SINGLE STREAM', 'GARBAGE COLLECTION', 'GARBAGE COLLECTION', 'GARBAGE COLLECTION', 'GARBAGE COLLECTION', 'YARD TRIMMINGS-ORGANICS', 'BULK', 'RECYCLING - SINGLE STREAM', 'INHOUSE - RECYCLING', 'BRUSH', 'GARBAGE COLLECTION', 'YARD TRIMMINGS-ORGANICS', 'BULK', 'YARD TRIMMINGS-ORGANICS', 'INHOUSE - RECYCLING', 'BRUSH', 'RECYCLING - SINGLE STREAM', 'YARD TRIMMINGS-ORGANICS', 'GARBAGE COLLECTION', 'GARBAGE COLLECTION', 'GARBAGE COLLECTION', 'RECYCLING - SINGLE STREAM', 'ON CALL BULK', 'RECYCLING - SINGLE STREAM', 'GARBAGE COLLECTION', 'GARBAGE COLLECTION', 'BULK', 'BULK', 'GARBAGE COLLECTION', 'RECYCLING - SINGLE STREAM', 'RECYCLING - SINGLE STREAM', 'GARBAGE COLLECTION', 'RECYCLING - SINGLE STREAM', 'BULK', 'ON CALL BULK', 'YARD TRIMMINGS-ORGANICS', 'GARBAGE COLLECTION', 'BULK', 'BULK', 'GARBAGE COLLECTION', 'RECYCLING - SINGLE STREAM', 'RECYCLING - SINGLE STREAM', 'GARBAGE COLLECTION', 'BULK', 'BULK', 'RECYCLING - SINGLE STREAM', 'GARBAGE COLLECTION', 'GARBAGE COLLECTION', 'GARBAGE COLLECTION', 'GARBAGE COLLECTION', 'RECYCLING - SINGLE STREAM', 'SWEEPER DUMPSITES', 'GARBAGE COLLECTION', 'GARBAGE COLLECTION', 'GARBAGE COLLECTION', 'GARBAGE COLLECTION', 'GARBAGE COLLECTION', 'DEAD ANIMAL', 'GARBAGE COLLECTION', 'BULK', 'GARBAGE COLLECTION', 'GARBAGE COLLECTION', 'BULK', 'BULK', 'RECYCLING - SINGLE STREAM', 'GARBAGE COLLECTION', 'RECYCLING - SINGLE STREAM', 'BULK', 'RECYCLING - SINGLE STREAM', 'GARBAGE COLLECTION', 'BULK', 'RECYCLING - SINGLE STREAM', 'BULK', 'GARBAGE COLLECTION', 'ON CALL BULK', 'BULK', 'YARD TRIMMINGS-ORGANICS', 'GARBAGE COLLECTION', 'GARBAGE COLLECTION', 'SWEEPER DUMPSITES', 'DEAD ANIMAL', 'RECYCLING - SINGLE STREAM', 'BULK', 'GARBAGE COLLECTION', 'YARD TRIMMINGS', 'STORM', 'GARBAGE COLLECTION', 'RECYCLING - SINGLE STREAM', 'YARD TRIMMINGS', 'RECYCLING - SINGLE STREAM', 'GARBAGE COLLECTION', 'BULK', 'RECYCLING - SINGLE STREAM', 'BULK', 'GARBAGE COLLECTION', 'GARBAGE COLLECTION', 'GARBAGE COLLECTION', 'BULK', 'BULK', 'BULK', 'YARD TRIMMINGS-ORGANICS', 'GARBAGE COLLECTION', 'GARBAGE COLLECTION', 'GARBAGE COLLECTION', 'GARBAGE COLLECTION', 'YARD TRIMMINGS', 'RECYCLING - SINGLE STREAM', 'GARBAGE COLLECTION', 'BULK', 'GARBAGE COLLECTION', 'YARD TRIMMINGS-ORGANICS', 'YARD TRIMMINGS-ORGANICS', 'GARBAGE COLLECTION', 'RECYCLING - SINGLE STREAM', 'BULK', 'GARBAGE COLLECTION', 'YARD TRIMMINGS-ORGANICS', 'RECYCLING - SINGLE STREAM', 'RECYCLING - SINGLE STREAM', 'RECYCLING - SINGLE STREAM', 'BRUSH', 'RECYCLING - SINGLE STREAM', 'RECYCLING - SINGLE STREAM', 'RECYCLING - SINGLE STREAM', 'GARBAGE COLLECTION', 'BULK', 'BRUSH', 'RECYCLING - SINGLE STREAM', 'RECYCLING - SINGLE STREAM', 'BRUSH', 'RECYCLING - SINGLE STREAM', 'GARBAGE COLLECTION', 'YARD TRIMMINGS-ORGANICS', 'GARBAGE COLLECTION', 'GARBAGE COLLECTION', 'GARBAGE COLLECTION', 'GARBAGE COLLECTION', 'BULK', 'GARBAGE COLLECTION', 'RECYCLING - SINGLE STREAM', 'GARBAGE COLLECTION', 'GARBAGE COLLECTION', 'RECYCLING - SINGLE STREAM', 'GARBAGE COLLECTION', 'GARBAGE COLLECTION', 'RECYCLING - SINGLE STREAM', 'YARD TRIMMINGS-ORGANICS', 'GARBAGE COLLECTION', 'BULK', 'BRUSH', 'GARBAGE COLLECTION', 'GARBAGE COLLECTION', 'BRUSH', 'GARBAGE COLLECTION', 'RECYCLING - SINGLE STREAM', 'SWEEPER DUMPSITES', 'GARBAGE COLLECTION', 'YARD TRIMMINGS-ORGANICS', 'RECYCLING - SINGLE STREAM', 'RECYCLING - SINGLE STREAM', 'RECYCLING - SINGLE STREAM', 'RECYCLING - SINGLE STREAM', 'RECYCLING - SINGLE STREAM', 'GARBAGE COLLECTION', 'BULK', 'GARBAGE COLLECTION', 'BULK', 'RECYCLING - SINGLE STREAM', 'BULK', 'BULK', 'RECYCLING - SINGLE STREAM', 'YARD TRIMMINGS', 'YARD TRIMMINGS', 'GARBAGE COLLECTION', 'RECYCLING - SINGLE STREAM', 'YARD TRIMMINGS-ORGANICS', 'DEAD ANIMAL', 'GARBAGE COLLECTION', 'YARD TRIMMINGS-ORGANICS', 'RECYCLING - SINGLE STREAM', 'RECYCLING - SINGLE STREAM', 'RECYCLING - SINGLE STREAM', 'RECYCLING - SINGLE STREAM', 'YARD TRIMMINGS-ORGANICS', 'YARD TRIMMINGS-ORGANICS', 'GARBAGE COLLECTION', 'GARBAGE COLLECTION', 'YARD TRIMMINGS', 'GARBAGE COLLECTION', 'RECYCLING - SINGLE STREAM', 'GARBAGE COLLECTION', 'YARD TRIMMINGS-ORGANICS', 'GARBAGE COLLECTION', 'YARD TRIMMINGS', 'RECYCLING - SINGLE STREAM', 'GARBAGE COLLECTION', 'BULK', 'GARBAGE COLLECTION', 'ON CALL BULK', 'GARBAGE COLLECTION', 'GARBAGE COLLECTION', 'BULK', 'GARBAGE COLLECTION', 'RECYCLING - SINGLE STREAM', 'GARBAGE COLLECTION', 'GARBAGE COLLECTION', 'GARBAGE COLLECTION', 'RECYCLING - SINGLE STREAM', 'BULK', 'RECYCLING - SINGLE STREAM', 'GARBAGE COLLECTION', 'GARBAGE COLLECTION', 'RECYCLING - SINGLE STREAM', 'RECYCLING - SINGLE STREAM', 'YARD TRIMMINGS-ORGANICS', 'RECYCLING - SINGLE STREAM', 'RECYCLING - SINGLE STREAM', 'RECYCLING - SINGLE STREAM', 'GARBAGE COLLECTION', 'RECYCLING - SINGLE STREAM', 'GARBAGE COLLECTION', 'BULK', 'GARBAGE COLLECTION', 'BRUSH', 'BULK', 'BULK', 'GARBAGE COLLECTION', 'BULK', 'BULK', 'GARBAGE COLLECTION', 'RECYCLING - SINGLE STREAM', 'YARD TRIMMINGS-ORGANICS', 'BULK']",
            "count": 1
           }
          ]
         }
        },
        {
         "name": "Route Number",
         "dtype": "object",
         "stats": {
          "unique_count": 2,
          "nan_count": 0,
          "categories": [
           {
            "name": "['RMAU23', 'DF3', 'DSN03', 'PT21', 'PAT51', 'RFBU21', 'RMAU15', 'DM3', 'PAT74', 'RWAU24', 'PM19', 'PW10', 'RFAU10', 'RTAU21', 'RHAS43', 'PAW83', 'PF33', 'PAM04', 'DA02', 'DH1', 'BU30', 'PH39', 'PM24', 'BR10', 'RTAU22', 'YM09', 'PAT61', 'PAW74', 'DF1', 'RFAS35', 'PAM75', 'RTAU11', 'RFAU20', 'DF1', 'YBM00', 'PAH54', 'PAF53', 'BU30', 'PAW50', 'PH19', 'RTAU22', 'PAM73', 'PAW80', 'PAW05', 'PAT80', 'PAW78', 'RTAU12', 'RHAU25', 'RMAS35', 'PH32', 'PAW61', 'IRW1', 'KAB03', 'YH07', 'YW09', 'PAT10', 'PAF50', 'PW41', 'OH1', 'RFAS42', 'YF07', 'PM12', 'PAM05', 'PM10', 'PM42', 'OF1', 'RFAU16', 'RTAU14', 'PAM62', 'RMAS40', 'PAM61', 'BU30', 'YBF00', 'YT07', 'PAW55', 'BR10', 'OH-2', 'PH30', 'BU30', 'PAM79', 'RHAU10', 'PAM74', 'BU30', 'RHAU25', 'DSS04', 'YF04', 'PM39', 'YBT00', 'RMAU14', 'PT32', 'YF05', 'YH02', 'RTAU13', 'RMAU20', 'RMAU10', 'BR10', 'YM03', 'PW39', 'PF22', 'PAH01', 'DF3', 'RFAU26', 'RHAU26', 'PAM83', 'PAF81', 'PT39', 'PAW64', 'RFAU16', 'PAM54', 'YF09', 'PF32', 'YH10', 'RHAU14', 'BU30', 'PAM52', 'RWAU14', 'DSN03', 'PAW73', 'RTAU14', 'BU30', 'RMAU20', 'YHP', 'DSE02', 'RTAU20', 'RTAU20', 'PAH71', 'PAT09', 'PAH75', 'PAF09', 'YM04', 'PAM75', 'RHAU11', 'RTAU24', 'PF32', 'RMAU24', 'BR10', 'BU30', 'PAW71', 'YH13', 'YBH00', 'PAF62', 'YBW00', 'PAF60', 'DSE01', 'BU30', 'BU30', 'YW01', 'PAT50', 'PF13', 'YW08', 'DA02', 'DSS04', 'PAT70', 'RTAS35', 'RTAU23', 'RFAU13', 'PAH53', 'DSN03', 'PAM51', 'PAM05', 'YH01', 'YF10', 'RMAU22', 'BR10', 'BR10', 'BR10', 'PAW84', 'PM20', 'PAW82', 'RWAU22', 'PAM74', 'BU30', 'PAW72', 'RWAU11', 'PH40', 'RWAU23', 'BU30', 'DH4', 'YBH00', 'CAPBU-04', 'BU30', 'DM4', 'DH3', 'DA02', 'RWAU20', 'RMAU24', 'BR10', 'YF01', 'RHAS41', 'RWAS41', 'PAM63', 'RWAU14', 'DSE01', 'PAH84', 'DM2', 'PAW02', 'YBF00', 'DW1', 'RFAU26', 'PW31', 'PAM80', 'BR10', 'PM30', 'RHAS33', 'PH24', 'RHAU20', 'RTAU16', 'DT4', 'PAW85', 'YW01', 'PAF04', 'RMAS41', 'PAH04', 'RWAS34', 'PH20', 'RWAU25', 'PAH70', 'PAH54', 'PH40', 'RWAS35', 'BU30', 'RTAU13', 'BU30', 'PAF52', 'PT20', 'PAF69', 'BR10', 'DSN03', 'RFAU20', 'PAH50', 'RFAU25', 'PAH60', 'PF14', 'BU30', 'YT10', 'BR10', 'PAW79', 'RHAU21', 'YH01', 'DSE02', 'PT41', 'DF4', 'PAT54', 'PAW51', 'PAT84', 'PH31', 'RMAU15', 'RTAU16', 'RHAU23', 'PT42', 'DSS04', 'PW22', 'PAW03', 'BR10', 'RWAS34', 'PAW83', 'PAF79', 'RHAS43', 'RTAU23', 'PM31', 'PAH63', 'OH-2', 'BU30', 'YF08', 'PAT04', 'DSE01', 'PF32', 'PAM53', 'YW05', 'PAH74', 'PAH80', 'DSE02', 'PAM02', 'BR10', 'PAT63', 'PAF54', 'PW40', 'PAW09', 'PAM01', 'RHAU12', 'YM07', 'YT05', 'PAT71', 'RTAU10', 'RWAU25', 'YH09', 'RFAU12', 'RFAS33', 'PAM10', 'DT1', 'PAH10', 'PH32', 'SPEC PROJCT', 'RFAS41', 'RMAS33', 'RHAS40', 'DW3', 'PAT78', 'PW11', 'RHAU20', 'PAW06', 'PF39', 'YH04', 'PAH87', 'PM40', 'BU30', 'RFAU22', 'RWAU16', 'BU30', 'PAM53', 'RHAU14', 'PAT60', 'PAH06', 'RFAU12', 'PF40', 'PAH79', 'DSN03', 'PAM61', 'PAH82', 'PAT79', 'PAM61', 'PAT87', 'PAT52', 'RWAS42', 'BU30', 'RHAU26', 'RWAU10', 'RHAU10', 'PAF67', 'PAF51', 'PF30', 'RMAU20', 'RTAU10', 'PAM69', 'RHAU24', 'OW2', 'BU30', 'RFAS33', 'PAM85', 'PAM65', 'YT04', 'RWAU22', 'PAH73', 'PAM03', 'YM06', 'DSN03', 'PAF78', 'RMAU12', 'BU30', 'YT12', 'PAH62', 'PAM52', 'YM03', 'RMAS41', 'DH2', 'PAM87', 'PAT72', 'PF39', 'RHAS33', 'RHAU23', 'PAM70', 'YF05', 'PAW82', 'PAH03', 'PF11', 'PAM71', 'YM11', 'PAW04', 'PAM81', 'RHAS41', 'RMAU10', 'PT21', 'RTAU24', 'CAPBU-04', 'DA02', 'PAF70', 'DSE01', 'YF01', 'RTAU21', 'DSE01', 'YT03', 'RTAS42', 'PH12', 'YF04', 'PT11', 'PAM06', 'RWAU24', 'OT2', 'RFAS35', 'RMAU10', 'RWAU13', 'RMAS34', 'DSN03', 'PT10', 'PW30', 'YT08', 'PH21', 'PAH65', 'IRT1', 'RMAS42', 'RFAU25', 'RFAU22', 'KAB03', 'RMAU22', 'PAH83', 'PH21', 'DM1', 'PAW63', 'BU30', 'PAW51', 'RWAU12', 'PAM84', 'PH41', 'PAT83', 'PAH82', 'PAW01', 'RFAU25', 'RWAS33', 'PAM73', 'RTAU15', 'RHAU15', 'PW20', 'YH05', 'YH10', 'DSN03', 'RMAS34', 'YM01', 'PAM06', 'PT31', 'PW24', 'PM21', 'PAM72', 'PAT81', 'PAT67', 'YM01', 'RWAU23', 'RFAU13', 'PF10', 'RHAU24', 'PAF71', 'YW03', 'PAF02', 'PAF83', 'YH06', 'DF4', 'PW32', 'PAT62', 'BU30', 'PAF80', 'PM21', 'PAM82', 'YM08', 'YHP', 'PAM03', 'RFAU21', 'PAF52', 'RFAU21', 'PM10', 'PAW80', 'DT3', 'PW19', 'BR10', 'RFAU21', 'PW32', 'YBH00', 'PAH09', 'YW04', 'RMAU25', 'RTAU26', 'DA01', 'PM42', 'RTAS41', 'PAM51', 'PF41', 'RTAU15', 'PAH61', 'YT06', 'IRH1', 'PAM70', 'PAW87', 'RWAU15', 'PAH51', 'PAH81', 'PAT82', 'RHBS34', 'RMAU25', 'RWAS42', 'BR10', 'RHAU22', 'PAH02', 'RTAU12', 'DSE01', 'DSE01', 'RTAS34', 'PAW62', 'PAT54', 'PT42', 'RMAU11', 'RMAU16', 'IRM1', 'BU30', 'CAPBU-04', 'DA02', 'RTAS33', 'RMAU12', 'DA02', 'RTAS33', 'OT1', 'PF33', 'PAW88', 'PAF72', 'PH11', 'PAW81', 'RFAU15', 'DSE01', 'RMAU20', 'OF2', 'PAF61', 'RWAU12', 'YW10', 'PAM71', 'PT40', 'YF02', 'YH04', 'YF03', 'DF2', 'BU30', 'RMAU11', 'PM11', 'PAT02', 'BU30', 'OW1', 'BU30', 'DSE01', 'BR10', 'PAF03', 'PW40', 'RMAU23', 'PF21', 'OM-1', 'BR10', 'RHAU22', 'PAW73', 'BU30', 'RHAU13', 'YH03', 'PAF87', 'PAT01', 'PF20', 'PH10', 'BU30', 'RMAU10', 'PT19', 'RWAU16', 'YF04', 'PAW52', 'RMAU16', 'PAT51', 'RFAU25', 'PAT69', 'PAH69', 'PM20', 'PAM64', 'YBH00', 'PAW85', 'OH1', 'YF08', 'RHAU12', 'RHAU11', 'PAF10', 'DSN03', 'PAT88', 'PAW10', 'BR10', 'PM22', 'RMAU21', 'RHAU21', 'PAT53', 'YM05', 'BU30', 'RWAU26', 'OM2', 'YBT00', 'PF30', 'PAW70', 'PAW54', 'PAM01', 'RWAU11', 'PAW53', 'RWAU21', 'RMAU14', 'PAM50', 'RHAS35', 'YF02', 'YH02', 'DSN03', 'RWAS40', 'PAM54', 'YT01', 'BR10', 'RHAU15', 'CAPBU-05', 'RWAU24', 'RFBS34', 'YH08', 'PAW81', 'YW02', 'RTAU26', 'PM41', 'RTAS40', 'PAW69', 'BR10', 'RHAS34', 'YM10', 'PAT73', 'PM11', 'YT09', 'RWAU20', 'PH42', 'RWAU21', 'RMAU21', 'DSE02', 'PAT03', 'PT30', 'RWAU13', 'YF06', 'RTAU11', 'RWAS40', 'YF03', 'DW4', 'PAH73', 'PM31', 'PAM72', 'YH03', 'PAF63', 'PAH52', 'PW21', 'PT24', 'RMAS35', 'RWAS35', 'RFAS43', 'PAH05', 'PAH72', 'PAW72', 'PAF73', 'YT02', 'DW2', 'PAH64', 'IRF1', 'PAF01', 'PAM50', 'PM40', 'RWAU15', 'DSE01', 'YW06', 'RWAU26', 'RFAU15', 'PAW60', 'RWAU10']",
            "count": 1
           },
           {
            "name": "['BR13', 'YF01', 'BU13', 'BR13', 'BU13', 'KAB05', 'OT11', 'RHAU13', 'PAH02', 'DSS04', 'YT07', 'OM4', 'BU13', 'RTAS35', 'PAT04', 'RHAU20', 'PAM81', 'PAT84', 'RMAU20', 'PH19', 'RMAU53', 'PAT62', 'RMAU50', 'BU13', 'PAH60', 'DSS04', 'PAH69', 'PT40', 'PM40', 'OF8', 'RWAU20', 'OCPBU23', 'PAM75', 'BU13', 'BU13', 'BU13', 'PAW05', 'PW11', 'PAF59', 'RMAU51', 'PAM82', 'DSS04', 'KAB03', 'BU13', 'RTAU51', 'YT02', 'BU13', 'PAT54', 'YT06', 'RHAU11', 'PAF72', 'PAM52', 'RWAU14', 'OH-12', 'DF4', 'BU13', 'BR13', 'DF3', 'DSS04', 'RHAU22', 'BU13', 'RMAU20', 'RMAU53', 'PAM83', 'BU13', 'PAH06', 'RWAS34', 'PAH82', 'RFAU50', 'CAPBU-01', 'RFAS42', 'RFBS35', 'PAT71', 'PT10', 'PW12', 'RTAU20', 'BR13', 'PAM02', 'RHAU11', 'PAF88', 'PAM72', 'OBH00', 'PAT59', 'DW3', 'PAT82', 'OCPBU23', 'RWAU10', 'RWAS42', 'OCPBU09', 'OT12', 'OCPBU23', 'PAF71', 'RMAU20', 'PM24', 'PF24', 'PAT63', 'BR13', 'PAT87', 'PAT73', 'PAM73', 'PAF79', 'RWAU53', 'RWAU12', 'DSS04', 'PAW69', 'RFAU21', 'RFAU22', 'PAW05', 'PAT10', 'RTAU12', 'BR13', 'PAM09', 'OBS00', 'OH-6', 'RTAS33', 'OF7', 'RWAU12', 'RTAS34', 'PF39', 'PAW87', 'PAH50', 'RHAS43', 'PAF81', 'BU13', 'PAW51', 'RT20', 'YW04', 'BU13', 'BU13', 'PAW52', 'PT39', 'RMAS40', 'BU13', 'OH-5', 'PAT02', 'OW13', 'YM10', 'PAW64', 'PT21', 'DH5', 'PAW01', 'OH-4', 'RMAU52', 'PAM73', 'PAM74', 'RWAS34', 'BU13', 'BU13', 'RWAU50', 'BR13', 'BU13', 'BU13', 'RWAS40', 'YM01', 'PAF70', 'PAW82', 'OW10', 'PH41', 'RHAU53', 'PAW54', 'RHAU51', 'PM30', 'RMAU11', 'RHAS33', 'DA01', 'BU13', 'PH39', 'RTAS41', 'PAF56', 'DM4', 'PAM79', 'OW7', 'DA02', 'RHAU25', 'PW30', 'BU13', 'BU13', 'PAF61', 'BU13', 'BU13', 'BR13', 'PAM50', 'PM21', 'RWAU24', 'YH01', 'DM3', 'DW2', 'PAW83', 'PH42', 'BU13', 'BU13', 'RWAS35', 'RMAU22', 'RWAU10', 'PAM54', 'PAW53', 'RTAS35', 'YH07', 'BU13', 'BU13', 'RFAU53', 'PM31', 'BU13', 'RHAS40', 'OBS00', 'YW03', 'PW41', 'SPEC PROJCT', 'PAT78', 'RTAU53', 'KAB07', 'OM12', 'OM10', 'BR13', 'OM8', 'RFAU21', 'PAM75', 'DSS04', 'RHAU10', 'PAH74', 'RWAS34', 'RT30', 'YF06', 'OW5', 'RWAS41', 'RTAU53', 'RFAU20', 'RFAU23', 'YT03', 'RWAU50', 'RHAU52', 'YF02', 'BU13', 'PAM70', 'RWAU11', 'OF10', 'KAB02', 'RMAU21', 'OT2', 'PAF52', 'PAM80', 'YW10', 'BR13', 'OT10', 'BU13', 'PAF67', 'YH03', 'PH11', 'PAH79', 'RHAU51', 'OM11', 'BR13', 'PH12', 'RHAU52', 'PAM69', 'RHAU23', 'PAF53', 'RTAU52', 'PAW01', 'BU13', 'DSS04', 'OF15', 'PM11', 'BU13', 'OF11', 'PAT61', 'OT6', 'OF3', 'PAH70', 'PF22', 'KAB05', 'RHAU23', 'RHAU25', 'PF20', 'PAF51', 'RFAS43', 'PM12', 'OT5', 'RTAU11', 'DA02', 'YM06', 'RHAU50', 'PAW73', 'RMAU13', 'PAM01', 'RMAU20', 'PAW53', 'BU13', 'PAM04', 'PAW74', 'OW3', 'RFAU52', 'PAW71', 'RTAS34', 'RHAU24', 'BU13', 'PAT83', 'RWAS34', 'BU13', 'RMAU52', 'RTAU22', 'RFAU51', 'DA01', 'PF11', 'BU13', 'PAW52', 'BU13', 'BR13', 'PAT67', 'RMAU12', 'PT23', 'BR13', 'PAH53', 'RFAU11', 'PAM01', 'BU13', 'OW2', 'PAW54', 'RTAS35', 'OT3', 'PAF87', 'PAM87', 'BR13', 'PH30', 'BU13', 'OF14', 'PAM50', 'DF5', 'DF4', 'PAM60', 'RWAS33', 'PAW74', 'PAW62', 'RFBS33', 'BU13', 'PAH65', 'RFBS34', 'BU13', 'RTAU10', 'PAW61', 'OT13', 'RFAU11', 'RMAU13', 'RFAU52', 'RMAU11', 'RT05', 'OF5', 'PH21', 'BU13', 'PH20', 'YW06', 'PAT69', 'OM7', 'YH02', 'RHAU51', 'BU13', 'PAH62', 'PF40', 'PM20', 'PAT81', 'PAF82', 'STRMJUNE18', 'PW21', 'PT30', 'BU13', 'BU13', 'RHAS34', 'BR13', 'BU13', 'OM6', 'DA02', 'PAW50', 'RFAS35', 'RTAU11', 'BR13', 'RMAU12', 'BU13', 'PM22', 'PAW03', 'PM10', 'PAH75', 'OCPBU23', 'YW03', 'PAT09', 'PM23', 'STRMJUNE18', 'RFAU50', 'RTAU50', 'PAH05', 'PAW02', 'PM32', 'BU13', 'PH31', 'IRH1', 'RMAU11', 'PF32', 'PAH06', 'KAB04', 'RWAU13', 'DSS04', 'PAH63', 'RHAS34', 'OM2', 'DH3', 'PAM05', 'RFAU12', 'BU13', 'PAW55', 'PAW09', 'PW11', 'BR13', 'RMAS34', 'PAT50', 'YF09', 'RHAS40', 'RTAS41', 'RMAS34', 'RHAU20', 'PT11', 'PAT70', 'BU13', 'OW4', 'RFAU21', 'RHAU24', 'RT03', 'BU13', 'OF6', 'DF5', 'RMAU22', 'BU13', 'PAW73', 'RTAU21', 'PAT64', 'IRH1', 'PAW04', 'RFAS33', 'YH10', 'PAM53', 'RMAU23', 'RTAU21', 'PAH04', 'PAW59', 'PAW84', 'PAM53', 'RWAU20', 'RFAS34', 'PAW51', 'RMAS33', 'PAW81', 'DSS04', 'RMAU10', 'PAM64', 'BU13', 'BR13', 'BU13', 'PF21', 'BU13', 'PAM70', 'RFBS33', 'PAH87', 'PAH64', 'YW11', 'BU13', 'RHAU10', 'PAF54', 'BU13', 'RFAU10', 'BU13', 'RHAU50', 'BU13', 'OW6', 'BR13', 'PAW72', 'RTAS42', 'PAH52', 'RTAU53', 'OH-3', 'PAM63', 'RTAU14', 'RMAS35', 'PH42', 'BU13', 'RWAU23', 'BU13', 'PT20', 'RFAU22', 'PAT79', 'RTAU13', 'PW33', 'PAW70', 'RFBU21', 'OM-1', 'RWAU11', 'YT10', 'PAW71', 'PT41', 'OT8', 'RFBS34', 'PAH01', 'PAW70', 'OH-7', 'RWAU51', 'BU13', 'PAT72', 'RFAU23', 'PF33', 'OM8', 'BU13', 'PF30', 'OH-2', 'BU13', 'OF2', 'OCPBU23', 'BU13', 'RW05', 'PW32', 'BU13', 'PAF56', 'RTAU13', 'PAM61', 'PAH69', 'STRMJUNE18', 'PAF50', 'PAM85', 'RFAS41', 'PAH03', 'PAW55', 'RWAS35', 'STRMJUNE18', 'PAW65', 'BU13', 'RFAU53', 'BU13', 'RMAS35', 'PH42', 'PAT53', 'PAW85', 'PAH09', 'OT1', 'BU13', 'RTAU12', 'IRM1', 'BR13', 'PAH73', 'OW11', 'BU13', 'OH-8', 'IRT1', 'BR13', 'RTAU14', 'OF1', 'PW19', 'PF34', 'PAH59', 'RWAU25', 'OCPBU09', 'DM2', 'PAT74', 'PM42', 'BU13', 'BU13', 'PH32', 'RWAU21', 'RFAU20', 'PAM05', 'RHAS35', 'BU13', 'OCPBU09', 'OH-10', 'PH40', 'BU13', 'BU13', 'PAW06', 'RFAU10', 'RMAU10', 'PAW04', 'BU13', 'BU13', 'RMAU21', 'PAH71', 'PAW03', 'PAM03', 'PAM04', 'RTAS40', 'DSS04', 'PF13', 'PT31', 'PAH61', 'PT19', 'PAT88', 'DA01', 'PAW02', 'BU13', 'PAT52', 'PAM84', 'BU13', 'BU13', 'RHAS41', 'PW41', 'DF2', 'BU13', 'RTAU20', 'PAW63', 'BU13', 'RMAS42', 'BU13', 'PW20', 'OCPBU09', 'BU13', 'OW12', 'PAM74', 'PM19', 'DSS04', 'DA02', 'RWAU25', 'BU13', 'PAW50', 'YM02', 'STRMJUNE18', 'PAF78', 'RTAU10', 'YW02', 'RTAU50', 'PW31', 'BU13', 'RWAU24', 'BU13', 'PAW60', 'PAM06', 'PAT51', 'BU13', 'BU13', 'BU13', 'OM5', 'PAF83', 'PAM51', 'PAH54', 'PAW80', 'YM09', 'RMAS35', 'PAM51', 'BU13', 'PAH51', 'OM3', 'OH-11', 'PH33', 'RWAS42', 'BU13', 'PAF73', 'OW1', 'RWAU51', 'RFBU21', 'DH2', 'BR13', 'RHAS35', 'RTAU23', 'RWAU23', 'PAF80', 'BU13', 'BR13', 'RTAU22', 'RHAU22', 'BR13', 'RHAU53', 'PAM71', 'OBH00', 'PM40', 'PAH81', 'PT32', 'PW22', 'BU13', 'PAH83', 'RWAU22', 'PAM72', 'PAT60', 'RTAU23', 'PAT80', 'PAF63', 'RMAS41', 'OT4', 'PAM83', 'BU13', 'BR13', 'PAM61', 'PAH73', 'BR13', 'PAT03', 'DM1', 'DSS04', 'PAF60', 'OBF00', 'RHAU21', 'RWAU21', 'RFAU13', 'RMAS42', 'RFAS43', 'PAW79', 'BU13', 'PAH72', 'BU13', 'RHAU21', 'BU13', 'BU13', 'RFAS35', 'YF03', 'YM05', 'PW10', 'RWAU50', 'OT7', 'DA01', 'PAM02', 'OH1', 'RFAU51', 'RTAU51', 'RHAU51', 'RMAU23', 'OF12', 'OM4', 'PF10', 'PAF62', 'YH06', 'PAW72', 'RWAU22', 'PF41', 'OH-13', 'PF19', 'YW01', 'RFAU13', 'PAM65', 'BU13', 'PW40', 'OCPBU23', 'PM41', 'PAM03', 'BU13', 'PT42', 'RWAU53', 'PW23', 'PAM54', 'PAT01', 'DH4', 'BU13', 'RWAU52', 'PAH84', 'PAM71', 'RMAU52', 'RHAU12', 'OF4', 'RMAU50', 'RHAU13', 'RMAU52', 'PAM62', 'RMAU51', 'PAS59', 'BU13', 'PH10', 'BR13', 'BU13', 'BU13', 'PAH80', 'BU13', 'BU13', 'PAF69', 'RWAU53', 'OF13', 'BU13']",
            "count": 1
           }
          ]
         }
        },
        {
         "name": "Year",
         "dtype": "int64",
         "stats": {
          "unique_count": 2,
          "nan_count": 0,
          "min": "2015",
          "max": "2018",
          "histogram": [
           {
            "bin_start": 2015,
            "bin_end": 2015.3,
            "count": 1
           },
           {
            "bin_start": 2015.3,
            "bin_end": 2015.6,
            "count": 0
           },
           {
            "bin_start": 2015.6,
            "bin_end": 2015.9,
            "count": 0
           },
           {
            "bin_start": 2015.9,
            "bin_end": 2016.2,
            "count": 0
           },
           {
            "bin_start": 2016.2,
            "bin_end": 2016.5,
            "count": 0
           },
           {
            "bin_start": 2016.5,
            "bin_end": 2016.8,
            "count": 0
           },
           {
            "bin_start": 2016.8,
            "bin_end": 2017.1,
            "count": 0
           },
           {
            "bin_start": 2017.1,
            "bin_end": 2017.4,
            "count": 0
           },
           {
            "bin_start": 2017.4,
            "bin_end": 2017.7,
            "count": 0
           },
           {
            "bin_start": 2017.7,
            "bin_end": 2018,
            "count": 1
           }
          ]
         }
        },
        {
         "name": "holidays",
         "dtype": "int64",
         "stats": {
          "unique_count": 2,
          "nan_count": 0,
          "min": "0",
          "max": "1",
          "histogram": [
           {
            "bin_start": 0,
            "bin_end": 0.1,
            "count": 1
           },
           {
            "bin_start": 0.1,
            "bin_end": 0.2,
            "count": 0
           },
           {
            "bin_start": 0.2,
            "bin_end": 0.30000000000000004,
            "count": 0
           },
           {
            "bin_start": 0.30000000000000004,
            "bin_end": 0.4,
            "count": 0
           },
           {
            "bin_start": 0.4,
            "bin_end": 0.5,
            "count": 0
           },
           {
            "bin_start": 0.5,
            "bin_end": 0.6000000000000001,
            "count": 0
           },
           {
            "bin_start": 0.6000000000000001,
            "bin_end": 0.7000000000000001,
            "count": 0
           },
           {
            "bin_start": 0.7000000000000001,
            "bin_end": 0.8,
            "count": 0
           },
           {
            "bin_start": 0.8,
            "bin_end": 0.9,
            "count": 0
           },
           {
            "bin_start": 0.9,
            "bin_end": 1,
            "count": 1
           }
          ]
         }
        },
        {
         "name": "tavg",
         "dtype": "float64",
         "stats": {
          "unique_count": 2,
          "nan_count": 0,
          "min": "10.7",
          "max": "28.1",
          "histogram": [
           {
            "bin_start": 10.7,
            "bin_end": 12.44,
            "count": 1
           },
           {
            "bin_start": 12.44,
            "bin_end": 14.18,
            "count": 0
           },
           {
            "bin_start": 14.18,
            "bin_end": 15.92,
            "count": 0
           },
           {
            "bin_start": 15.92,
            "bin_end": 17.66,
            "count": 0
           },
           {
            "bin_start": 17.66,
            "bin_end": 19.4,
            "count": 0
           },
           {
            "bin_start": 19.4,
            "bin_end": 21.14,
            "count": 0
           },
           {
            "bin_start": 21.14,
            "bin_end": 22.880000000000003,
            "count": 0
           },
           {
            "bin_start": 22.880000000000003,
            "bin_end": 24.62,
            "count": 0
           },
           {
            "bin_start": 24.62,
            "bin_end": 26.36,
            "count": 0
           },
           {
            "bin_start": 26.36,
            "bin_end": 28.1,
            "count": 1
           }
          ]
         }
        },
        {
         "name": "tmin",
         "dtype": "float64",
         "stats": {
          "unique_count": 2,
          "nan_count": 0,
          "min": "2.2",
          "max": "23.3",
          "histogram": [
           {
            "bin_start": 2.2,
            "bin_end": 4.3100000000000005,
            "count": 1
           },
           {
            "bin_start": 4.3100000000000005,
            "bin_end": 6.420000000000001,
            "count": 0
           },
           {
            "bin_start": 6.420000000000001,
            "bin_end": 8.530000000000001,
            "count": 0
           },
           {
            "bin_start": 8.530000000000001,
            "bin_end": 10.64,
            "count": 0
           },
           {
            "bin_start": 10.64,
            "bin_end": 12.75,
            "count": 0
           },
           {
            "bin_start": 12.75,
            "bin_end": 14.860000000000003,
            "count": 0
           },
           {
            "bin_start": 14.860000000000003,
            "bin_end": 16.970000000000002,
            "count": 0
           },
           {
            "bin_start": 16.970000000000002,
            "bin_end": 19.080000000000002,
            "count": 0
           },
           {
            "bin_start": 19.080000000000002,
            "bin_end": 21.19,
            "count": 0
           },
           {
            "bin_start": 21.19,
            "bin_end": 23.3,
            "count": 1
           }
          ]
         }
        },
        {
         "name": "tmax",
         "dtype": "float64",
         "stats": {
          "unique_count": 2,
          "nan_count": 0,
          "min": "26.7",
          "max": "38.3",
          "histogram": [
           {
            "bin_start": 26.7,
            "bin_end": 27.86,
            "count": 1
           },
           {
            "bin_start": 27.86,
            "bin_end": 29.02,
            "count": 0
           },
           {
            "bin_start": 29.02,
            "bin_end": 30.18,
            "count": 0
           },
           {
            "bin_start": 30.18,
            "bin_end": 31.339999999999996,
            "count": 0
           },
           {
            "bin_start": 31.339999999999996,
            "bin_end": 32.5,
            "count": 0
           },
           {
            "bin_start": 32.5,
            "bin_end": 33.66,
            "count": 0
           },
           {
            "bin_start": 33.66,
            "bin_end": 34.81999999999999,
            "count": 0
           },
           {
            "bin_start": 34.81999999999999,
            "bin_end": 35.98,
            "count": 0
           },
           {
            "bin_start": 35.98,
            "bin_end": 37.14,
            "count": 0
           },
           {
            "bin_start": 37.14,
            "bin_end": 38.3,
            "count": 1
           }
          ]
         }
        },
        {
         "name": "prcp",
         "dtype": "float64",
         "stats": {
          "unique_count": 2,
          "nan_count": 0,
          "min": "12.5",
          "max": "66.9",
          "histogram": [
           {
            "bin_start": 12.5,
            "bin_end": 17.94,
            "count": 1
           },
           {
            "bin_start": 17.94,
            "bin_end": 23.380000000000003,
            "count": 0
           },
           {
            "bin_start": 23.380000000000003,
            "bin_end": 28.82,
            "count": 0
           },
           {
            "bin_start": 28.82,
            "bin_end": 34.260000000000005,
            "count": 0
           },
           {
            "bin_start": 34.260000000000005,
            "bin_end": 39.7,
            "count": 0
           },
           {
            "bin_start": 39.7,
            "bin_end": 45.14,
            "count": 0
           },
           {
            "bin_start": 45.14,
            "bin_end": 50.580000000000005,
            "count": 0
           },
           {
            "bin_start": 50.580000000000005,
            "bin_end": 56.02,
            "count": 0
           },
           {
            "bin_start": 56.02,
            "bin_end": 61.46,
            "count": 0
           },
           {
            "bin_start": 61.46,
            "bin_end": 66.9,
            "count": 1
           }
          ]
         }
        },
        {
         "name": "snow",
         "dtype": "float64",
         "stats": {
          "unique_count": 1,
          "nan_count": 0,
          "min": "0.0",
          "max": "0.0",
          "histogram": [
           {
            "bin_start": -0.5,
            "bin_end": -0.4,
            "count": 0
           },
           {
            "bin_start": -0.4,
            "bin_end": -0.3,
            "count": 0
           },
           {
            "bin_start": -0.3,
            "bin_end": -0.19999999999999996,
            "count": 0
           },
           {
            "bin_start": -0.19999999999999996,
            "bin_end": -0.09999999999999998,
            "count": 0
           },
           {
            "bin_start": -0.09999999999999998,
            "bin_end": 0,
            "count": 0
           },
           {
            "bin_start": 0,
            "bin_end": 0.10000000000000009,
            "count": 2
           },
           {
            "bin_start": 0.10000000000000009,
            "bin_end": 0.20000000000000007,
            "count": 0
           },
           {
            "bin_start": 0.20000000000000007,
            "bin_end": 0.30000000000000004,
            "count": 0
           },
           {
            "bin_start": 0.30000000000000004,
            "bin_end": 0.4,
            "count": 0
           },
           {
            "bin_start": 0.4,
            "bin_end": 0.5,
            "count": 0
           }
          ]
         }
        },
        {
         "name": "wspd",
         "dtype": "float64",
         "stats": {
          "unique_count": 2,
          "nan_count": 0,
          "min": "8.7",
          "max": "9.3",
          "histogram": [
           {
            "bin_start": 8.7,
            "bin_end": 8.76,
            "count": 1
           },
           {
            "bin_start": 8.76,
            "bin_end": 8.82,
            "count": 0
           },
           {
            "bin_start": 8.82,
            "bin_end": 8.879999999999999,
            "count": 0
           },
           {
            "bin_start": 8.879999999999999,
            "bin_end": 8.94,
            "count": 0
           },
           {
            "bin_start": 8.94,
            "bin_end": 9,
            "count": 0
           },
           {
            "bin_start": 9,
            "bin_end": 9.06,
            "count": 0
           },
           {
            "bin_start": 9.06,
            "bin_end": 9.120000000000001,
            "count": 0
           },
           {
            "bin_start": 9.120000000000001,
            "bin_end": 9.18,
            "count": 0
           },
           {
            "bin_start": 9.18,
            "bin_end": 9.24,
            "count": 0
           },
           {
            "bin_start": 9.24,
            "bin_end": 9.3,
            "count": 1
           }
          ]
         }
        },
        {
         "name": "pres",
         "dtype": "float64",
         "stats": {
          "unique_count": 2,
          "nan_count": 0,
          "min": "1010.4",
          "max": "1018.2",
          "histogram": [
           {
            "bin_start": 1010.4,
            "bin_end": 1011.18,
            "count": 1
           },
           {
            "bin_start": 1011.18,
            "bin_end": 1011.96,
            "count": 0
           },
           {
            "bin_start": 1011.96,
            "bin_end": 1012.74,
            "count": 0
           },
           {
            "bin_start": 1012.74,
            "bin_end": 1013.52,
            "count": 0
           },
           {
            "bin_start": 1013.52,
            "bin_end": 1014.3,
            "count": 0
           },
           {
            "bin_start": 1014.3,
            "bin_end": 1015.08,
            "count": 0
           },
           {
            "bin_start": 1015.08,
            "bin_end": 1015.86,
            "count": 0
           },
           {
            "bin_start": 1015.86,
            "bin_end": 1016.64,
            "count": 0
           },
           {
            "bin_start": 1016.64,
            "bin_end": 1017.4200000000001,
            "count": 0
           },
           {
            "bin_start": 1017.4200000000001,
            "bin_end": 1018.2,
            "count": 1
           }
          ]
         }
        },
        {
         "name": "tsun",
         "dtype": "float64",
         "stats": {
          "unique_count": 1,
          "nan_count": 0,
          "min": "0.0",
          "max": "0.0",
          "histogram": [
           {
            "bin_start": -0.5,
            "bin_end": -0.4,
            "count": 0
           },
           {
            "bin_start": -0.4,
            "bin_end": -0.3,
            "count": 0
           },
           {
            "bin_start": -0.3,
            "bin_end": -0.19999999999999996,
            "count": 0
           },
           {
            "bin_start": -0.19999999999999996,
            "bin_end": -0.09999999999999998,
            "count": 0
           },
           {
            "bin_start": -0.09999999999999998,
            "bin_end": 0,
            "count": 0
           },
           {
            "bin_start": 0,
            "bin_end": 0.10000000000000009,
            "count": 2
           },
           {
            "bin_start": 0.10000000000000009,
            "bin_end": 0.20000000000000007,
            "count": 0
           },
           {
            "bin_start": 0.20000000000000007,
            "bin_end": 0.30000000000000004,
            "count": 0
           },
           {
            "bin_start": 0.30000000000000004,
            "bin_end": 0.4,
            "count": 0
           },
           {
            "bin_start": 0.4,
            "bin_end": 0.5,
            "count": 0
           }
          ]
         }
        },
        {
         "name": "_deepnote_index_column",
         "dtype": "int64"
        }
       ],
       "rows": [
        {
         "Date": "2015-01-25",
         "Load Type": "['RECYCLING - SINGLE STREAM', 'RECYCLING - SINGLE STREAM', 'SWEEPING', 'GARBAGE COLLECTIONS', 'GARB…",
         "Load Weight": 9038870,
         "Dropoff Site": "['TDS - MRF', 'TDS - MRF', 'TDS LANDFILL', 'TDS LANDFILL', 'TDS LANDFILL', 'BALCONES RECYCLING', 'T…",
         "Route Type": "['RECYCLING - SINGLE STREAM', 'RECYCLING - SINGLE STREAM', 'SWEEPER DUMPSITES', 'GARBAGE COLLECTION…",
         "Route Number": "['RMAU23', 'DF3', 'DSN03', 'PT21', 'PAT51', 'RFBU21', 'RMAU15', 'DM3', 'PAT74', 'RWAU24', 'PM19', '…",
         "Year": 2015,
         "holidays": 1,
         "tavg": 10.7,
         "tmin": 2.2,
         "tmax": 26.7,
         "prcp": 66.9,
         "snow": 0,
         "wspd": 8.7,
         "pres": 1018.2,
         "tsun": 0,
         "_deepnote_index_column": 55
        },
        {
         "Date": "2018-06-24",
         "Load Type": "['BRUSH', 'YARD TRIMMING', 'BULK', 'BRUSH', 'BULK', 'LITTER', 'YARD TRIMMING', 'RECYCLING - SINGLE …",
         "Load Weight": 9210387,
         "Dropoff Site": "['HORNSBY BEND', 'HORNSBY BEND', 'TDS LANDFILL', 'HORNSBY BEND', 'TDS LANDFILL', 'TDS LANDFILL', 'O…",
         "Route Type": "['BRUSH', 'YARD TRIMMINGS', 'BULK', 'BRUSH', 'BULK', 'KAB', 'YARD TRIMMINGS-ORGANICS', 'RECYCLING -…",
         "Route Number": "['BR13', 'YF01', 'BU13', 'BR13', 'BU13', 'KAB05', 'OT11', 'RHAU13', 'PAH02', 'DSS04', 'YT07', 'OM4'…",
         "Year": 2018,
         "holidays": 0,
         "tavg": 28.1,
         "tmin": 23.3,
         "tmax": 38.3,
         "prcp": 12.5,
         "snow": 0,
         "wspd": 9.3,
         "pres": 1010.4,
         "tsun": 0,
         "_deepnote_index_column": 233
        }
       ]
      },
      "text/plain": "           Date                                          Load Type  \\\n55   2015-01-25  [RECYCLING - SINGLE STREAM, RECYCLING - SINGLE...   \n233  2018-06-24  [BRUSH, YARD TRIMMING, BULK, BRUSH, BULK, LITT...   \n\n       Load Weight                                       Dropoff Site  \\\n55  9038870.000000  [TDS - MRF, TDS - MRF, TDS LANDFILL, TDS LANDF...   \n233 9210387.000000  [HORNSBY BEND, HORNSBY BEND, TDS LANDFILL, HOR...   \n\n                                            Route Type  \\\n55   [RECYCLING - SINGLE STREAM, RECYCLING - SINGLE...   \n233  [BRUSH, YARD TRIMMINGS, BULK, BRUSH, BULK, KAB...   \n\n                                          Route Number  Year  holidays  \\\n55   [RMAU23, DF3, DSN03, PT21, PAT51, RFBU21, RMAU...  2015         1   \n233  [BR13, YF01, BU13, BR13, BU13, KAB05, OT11, RH...  2018         0   \n\n         tavg      tmin      tmax      prcp     snow     wspd        pres  \\\n55  10.700000  2.200000 26.700000 66.900000 0.000000 8.700000 1018.200000   \n233 28.100000 23.300000 38.300000 12.500000 0.000000 9.300000 1010.400000   \n\n        tsun  \n55  0.000000  \n233 0.000000  ",
      "text/html": "<div>\n<style scoped>\n    .dataframe tbody tr th:only-of-type {\n        vertical-align: middle;\n    }\n\n    .dataframe tbody tr th {\n        vertical-align: top;\n    }\n\n    .dataframe thead th {\n        text-align: right;\n    }\n</style>\n<table border=\"1\" class=\"dataframe\">\n  <thead>\n    <tr style=\"text-align: right;\">\n      <th></th>\n      <th>Date</th>\n      <th>Load Type</th>\n      <th>Load Weight</th>\n      <th>Dropoff Site</th>\n      <th>Route Type</th>\n      <th>Route Number</th>\n      <th>Year</th>\n      <th>holidays</th>\n      <th>tavg</th>\n      <th>tmin</th>\n      <th>tmax</th>\n      <th>prcp</th>\n      <th>snow</th>\n      <th>wspd</th>\n      <th>pres</th>\n      <th>tsun</th>\n    </tr>\n  </thead>\n  <tbody>\n    <tr>\n      <th>55</th>\n      <td>2015-01-25</td>\n      <td>[RECYCLING - SINGLE STREAM, RECYCLING - SINGLE...</td>\n      <td>9038870.000000</td>\n      <td>[TDS - MRF, TDS - MRF, TDS LANDFILL, TDS LANDF...</td>\n      <td>[RECYCLING - SINGLE STREAM, RECYCLING - SINGLE...</td>\n      <td>[RMAU23, DF3, DSN03, PT21, PAT51, RFBU21, RMAU...</td>\n      <td>2015</td>\n      <td>1</td>\n      <td>10.700000</td>\n      <td>2.200000</td>\n      <td>26.700000</td>\n      <td>66.900000</td>\n      <td>0.000000</td>\n      <td>8.700000</td>\n      <td>1018.200000</td>\n      <td>0.000000</td>\n    </tr>\n    <tr>\n      <th>233</th>\n      <td>2018-06-24</td>\n      <td>[BRUSH, YARD TRIMMING, BULK, BRUSH, BULK, LITT...</td>\n      <td>9210387.000000</td>\n      <td>[HORNSBY BEND, HORNSBY BEND, TDS LANDFILL, HOR...</td>\n      <td>[BRUSH, YARD TRIMMINGS, BULK, BRUSH, BULK, KAB...</td>\n      <td>[BR13, YF01, BU13, BR13, BU13, KAB05, OT11, RH...</td>\n      <td>2018</td>\n      <td>0</td>\n      <td>28.100000</td>\n      <td>23.300000</td>\n      <td>38.300000</td>\n      <td>12.500000</td>\n      <td>0.000000</td>\n      <td>9.300000</td>\n      <td>1010.400000</td>\n      <td>0.000000</td>\n    </tr>\n  </tbody>\n</table>\n</div>"
     },
     "metadata": {}
    }
   ]
  },
  {
   "cell_type": "code",
   "metadata": {
    "cell_id": "8cfff18d84ab4e14abdb9da905b19965",
    "tags": [],
    "deepnote_to_be_reexecuted": false,
    "source_hash": "9b6432a1",
    "execution_start": 1648031734615,
    "execution_millis": 17,
    "deepnote_cell_type": "code",
    "deepnote_cell_height": 154.1875,
    "deepnote_output_heights": [
     21.1875
    ]
   },
   "source": "all_weeks_2014_2019 = pd.date_range(\n  start=\"2014-01-01\", end=\"2019-12-28\", freq = \"W-SUN\")\nall_weeks_2014_2019.difference(pd.to_datetime(df_weekly_hwp['Date']))",
   "execution_count": 113,
   "outputs": [
    {
     "output_type": "execute_result",
     "execution_count": 113,
     "data": {
      "text/plain": "DatetimeIndex([], dtype='datetime64[ns]', freq='W-SUN')"
     },
     "metadata": {}
    }
   ]
  },
  {
   "cell_type": "markdown",
   "source": "## Exploratory Data Analysis",
   "metadata": {
    "cell_id": "2f4f6b0264b64e4c91d8965b83d72499",
    "tags": [],
    "deepnote_cell_type": "markdown",
    "deepnote_cell_height": 70
   }
  },
  {
   "cell_type": "code",
   "source": "",
   "metadata": {
    "cell_id": "615ad37012d44d689a413e67ca19ff96",
    "tags": [],
    "deepnote_cell_type": "code",
    "deepnote_cell_height": 66
   },
   "outputs": [],
   "execution_count": null
  },
  {
   "cell_type": "code",
   "source": "",
   "metadata": {
    "cell_id": "e9651195df5049b68d4e841a577ecae2",
    "tags": [],
    "deepnote_cell_type": "code",
    "deepnote_cell_height": 66
   },
   "outputs": [],
   "execution_count": null
  },
  {
   "cell_type": "code",
   "source": "",
   "metadata": {
    "cell_id": "3df5af2ee8b448269fac144f55d8b428",
    "tags": [],
    "deepnote_cell_type": "code",
    "deepnote_cell_height": 66
   },
   "outputs": [],
   "execution_count": null
  },
  {
   "cell_type": "markdown",
   "source": "## Modelling",
   "metadata": {
    "cell_id": "506d117235c843ce856ec482d10b3ee5",
    "tags": [],
    "is_collapsed": false,
    "deepnote_cell_type": "text-cell-h2"
   }
  },
  {
   "cell_type": "code",
   "metadata": {
    "cell_id": "6af1db0f5b01450dae63543b45dda79e",
    "tags": [],
    "deepnote_cell_type": "code",
    "deepnote_cell_height": 66
   },
   "source": "",
   "execution_count": null,
   "outputs": []
  },
  {
   "cell_type": "code",
   "metadata": {
    "cell_id": "3874df2c6797457585af6f035f01deb4",
    "tags": [],
    "deepnote_cell_type": "code",
    "deepnote_cell_height": 66
   },
   "source": "",
   "execution_count": null,
   "outputs": []
  },
  {
   "cell_type": "code",
   "metadata": {
    "cell_id": "6e3ce8ac164c441d94207d5825802114",
    "tags": [],
    "deepnote_cell_type": "code",
    "deepnote_cell_height": 66
   },
   "source": "",
   "execution_count": null,
   "outputs": []
  },
  {
   "cell_type": "markdown",
   "source": "## 🖼️ Visualisations\nCopy here the most important visualizations (graphs, charts, maps, images, etc). You can refer to them in the Executive Summary.\n\nTechnical note: If not all the visualisations are visible, you can still include them as an image or link - in this case please upload them to your own repository.",
   "metadata": {
    "id": "gCcVSUTsasBP",
    "cell_id": "00142-fa54a517-9184-439b-8940-52044fd92fbc",
    "deepnote_cell_type": "markdown",
    "deepnote_cell_height": 167.1875
   }
  },
  {
   "cell_type": "markdown",
   "source": "## 👓 References\nList all of the external links (even if they are already linked above), such as external datasets, papers, blog posts, code repositories and any other materials.",
   "metadata": {
    "id": "F2REdi5_rThg",
    "cell_id": "00143-b23d0516-9ac0-4cd6-9b0b-bc0d09091f39",
    "deepnote_cell_type": "markdown",
    "deepnote_cell_height": 130.796875
   }
  },
  {
   "cell_type": "markdown",
   "source": "- https://routereadytrucks.com/blogs/know-4-major-types-garbage-trucks/",
   "metadata": {
    "cell_id": "00144-7446dbba-b034-4ddf-a401-fb67d2762644",
    "deepnote_cell_type": "markdown",
    "deepnote_cell_height": 69.390625
   }
  },
  {
   "cell_type": "markdown",
   "source": "## ⏭️ Appendix\nAdd here any code, images or text that you still find relevant, but that was too long to include in the main report. This section is optional.\n",
   "metadata": {
    "id": "uLBpGOl5o0ix",
    "cell_id": "00145-32d8a40f-4629-467a-84bc-3d1f4d0fed39",
    "deepnote_cell_type": "markdown",
    "deepnote_cell_height": 108.390625
   }
  },
  {
   "cell_type": "markdown",
   "source": "### Open Street Maps",
   "metadata": {
    "id": "Mot-NqmmpAHI",
    "cell_id": "00146-d7ef80b2-b713-412a-b757-7129c7e561c1",
    "deepnote_cell_type": "markdown",
    "deepnote_cell_height": 62
   }
  },
  {
   "cell_type": "markdown",
   "source": "OSM dataset contains waste management locations listed in OpenStreetMap (OSM). Specifically, it includes OSM features having the tags \"amenity:recycling\", \"amenity:waste_transfer_station\", \"amenity:sanitary_dump_station\", \"amenity:waste_disposal\", or \"industrial:scrap_yard\". It includes a poi_type, a poi_name, and all other OSM tags as associated with the point (see https://taginfo.openstreetmap.org/tags).",
   "metadata": {
    "cell_id": "00147-146212ba-1727-4702-adfe-8e4005b91d80",
    "deepnote_cell_type": "markdown",
    "deepnote_cell_height": 119.59375
   }
  },
  {
   "cell_type": "code",
   "metadata": {
    "cell_id": "00148-e6fa6702-d637-4611-94f2-5d7abe176bd9",
    "deepnote_cell_type": "code",
    "deepnote_cell_height": 264
   },
   "source": "key = \"amenity\"\nurl = \"https://taginfo.openstreetmap.org/api/4/key/values\"\n\nresponse = requests.get(url, params={\n                        'key' : key,\n                        'page' : 0, 'rp':100,\n                        'sortname':'count', 'sortorder':'desc'\n})\n\ndata_osm = response.json()['data']\ndf = pd.DataFrame(data_osm).set_index('value')\ndf[['count','description']].head()",
   "execution_count": null,
   "outputs": []
  },
  {
   "cell_type": "code",
   "metadata": {
    "cell_id": "00149-65cc6ef8-19f8-4dac-a3ac-cfeb743985c1",
    "deepnote_cell_type": "code",
    "deepnote_cell_height": 102
   },
   "source": "%%bash\nwget    https://download.bbbike.org/osm/extract/planet_-98.323,29.94_-97.185,30.569.osm.pbf \\\n    --quiet -O data/Austin.osm.pbf",
   "execution_count": null,
   "outputs": []
  },
  {
   "cell_type": "code",
   "metadata": {
    "cell_id": "00150-a9d5a99c-eeb2-4c53-bce3-8cdf899aade2",
    "deepnote_cell_type": "code",
    "deepnote_cell_height": 66
   },
   "source": "!ogrinfo data/Austin.osm.pbf",
   "execution_count": null,
   "outputs": []
  },
  {
   "cell_type": "code",
   "metadata": {
    "cell_id": "00151-92ea0e3b-f53f-4400-b99f-237a72db525c",
    "deepnote_cell_type": "code",
    "deepnote_cell_height": 120
   },
   "source": "%%bash\nogr2ogr \\\n  -f \"GPKG\" data/austin_points.gpkg \\\n      data/Austin.osm.pbf \\",
   "execution_count": null,
   "outputs": []
  },
  {
   "cell_type": "code",
   "metadata": {
    "cell_id": "00152-624e99af-be39-4c9c-8994-4d930059e38d",
    "deepnote_cell_type": "code",
    "deepnote_cell_height": 84
   },
   "source": "gdf_points = gpd.read_file(\"data/austin_points.gpkg\", driver='GPKG')\ngdf_points.head(2)",
   "execution_count": null,
   "outputs": []
  },
  {
   "cell_type": "code",
   "metadata": {
    "cell_id": "00153-71799143-9fd4-4a2e-b303-c2f8204f9fb3",
    "deepnote_cell_type": "code",
    "deepnote_cell_height": 84
   },
   "source": "gdf_points.loc[0,\"other_tags\"]\ngdf_points[\"geometry\"]",
   "execution_count": null,
   "outputs": []
  },
  {
   "cell_type": "code",
   "metadata": {
    "cell_id": "00154-d78f3468-f937-4deb-b76a-b716d3e72f5d",
    "deepnote_cell_type": "code",
    "deepnote_cell_height": 156
   },
   "source": "%%bash\nogr2ogr \\\n  -f \"GPKG\" data/austin_poly.gpkg \\\n      data/Austin.osm.pbf \\\n    -nlt POLYGONS \\\n    -nln polygons",
   "execution_count": null,
   "outputs": []
  },
  {
   "cell_type": "code",
   "metadata": {
    "cell_id": "00155-307ca013-71e3-4c91-87f1-5c1f34196594",
    "deepnote_cell_type": "code",
    "deepnote_cell_height": 372
   },
   "source": "#Read data\nlayer_file = \"data/austin_poly.gpkg\"\ncollection = list(fiona.open(layer_file,'r'))\ndf1 = pd.DataFrame(collection)\n\n#Check Geometry\ndef isvalid(geom):\n    try:\n        shape(geom)\n        return 1\n    except:\n        return 0\ndf1['isvalid'] = df1['geometry'].apply(lambda x: isvalid(x))\ndf1 = df1[df1['isvalid'] == 1]\ncollection = json.loads(df1.to_json(orient='records'))\n\n#Convert to geodataframe\ngdf = gpd.GeoDataFrame.from_features(collection)",
   "execution_count": null,
   "outputs": []
  },
  {
   "cell_type": "code",
   "metadata": {
    "cell_id": "00156-9bfe3adc-dbf2-4d61-b6eb-753ed84f0285",
    "deepnote_cell_type": "code",
    "deepnote_cell_height": 66
   },
   "source": "gdf.head()",
   "execution_count": null,
   "outputs": []
  },
  {
   "cell_type": "code",
   "metadata": {
    "cell_id": "00157-ed4eb3b4-6071-431c-9e61-74ceaeb1c7c4",
    "deepnote_cell_type": "code",
    "deepnote_cell_height": 102
   },
   "source": "gdf.to_csv(\"data/austin_poly.csv\")\ngdf.columns.nunique()\ngdf.columns.unique",
   "execution_count": null,
   "outputs": []
  },
  {
   "cell_type": "markdown",
   "source": "OSM dataset contains waste management locations listed in OpenStreetMap (OSM). Specifically, it includes OSM features having the tags \"amenity:recycling\", \"amenity:waste_transfer_station\", \"amenity:sanitary_dump_station\", \"amenity:waste_disposal\", or \"industrial:scrap_yard\"",
   "metadata": {
    "cell_id": "00158-fcca1ea9-e547-423b-897d-2965981d74f1",
    "deepnote_cell_type": "markdown",
    "deepnote_cell_height": 97.1875
   }
  },
  {
   "cell_type": "code",
   "metadata": {
    "scrolled": false,
    "cell_id": "00159-9e6ee274-f52b-4a77-9763-d4d11f34ef93",
    "deepnote_cell_type": "code",
    "deepnote_cell_height": 66
   },
   "source": "gdf_poly = pd.read_csv(\"data/austin_poly.csv\")",
   "execution_count": null,
   "outputs": []
  },
  {
   "cell_type": "code",
   "metadata": {
    "cell_id": "00160-90cad3d4-260a-447c-bd38-7fa6047941c7",
    "deepnote_cell_type": "code",
    "deepnote_cell_height": 66
   },
   "source": "gdf_poly.columns.unique",
   "execution_count": null,
   "outputs": []
  },
  {
   "cell_type": "code",
   "metadata": {
    "cell_id": "00161-4b023871-7a42-4446-8e6d-88a9f3b7c115",
    "deepnote_cell_type": "code",
    "deepnote_cell_height": 84
   },
   "source": "# reducing features\npoi_austin = gdf_poly[['geometry', 'osm_id','name','amenity','building', 'natural', 'shop', 'leisure',  'office', 'sport', 'tourism']]",
   "execution_count": null,
   "outputs": []
  },
  {
   "cell_type": "code",
   "metadata": {
    "cell_id": "00162-55a2f67e-5c72-4005-8b90-1f6085a71672",
    "deepnote_cell_type": "code",
    "deepnote_cell_height": 156
   },
   "source": "# removing all nan vals\ndef remove_rows(df):\n    df_mod = df\n    df_mod = df.dropna(how='all', subset=['amenity', 'natural', 'shop', 'leisure', 'tourism'])\n#     df_mod = df_mod[~df_mod.is_empty] # check if neccessary\n    return df_mod",
   "execution_count": null,
   "outputs": []
  },
  {
   "cell_type": "code",
   "metadata": {
    "scrolled": true,
    "cell_id": "00163-ff547afc-b40e-47ce-8f03-1b63294b3f26",
    "deepnote_cell_type": "code",
    "deepnote_cell_height": 84
   },
   "source": "poi_austin_clean = remove_rows(poi_austin)\npoi_austin_clean",
   "execution_count": null,
   "outputs": []
  },
  {
   "cell_type": "code",
   "metadata": {
    "scrolled": true,
    "cell_id": "00164-4bee4490-dd14-47c3-b08d-dd3228f5ed87",
    "deepnote_cell_type": "code",
    "deepnote_cell_height": 66
   },
   "source": "poi_austin_clean['amenity'].unique()",
   "execution_count": null,
   "outputs": []
  },
  {
   "cell_type": "code",
   "metadata": {
    "cell_id": "00165-74752716-0c93-4550-85bf-8e8fa9a41316",
    "deepnote_cell_type": "code",
    "deepnote_cell_height": 66
   },
   "source": "poi_austin_clean['natural'].unique()",
   "execution_count": null,
   "outputs": []
  },
  {
   "cell_type": "code",
   "metadata": {
    "cell_id": "00166-d6fdd83d-bfb1-436d-9cb8-41556161eac5",
    "deepnote_cell_type": "code",
    "deepnote_cell_height": 66
   },
   "source": "poi_austin_clean['shop'].unique()",
   "execution_count": null,
   "outputs": []
  },
  {
   "cell_type": "code",
   "metadata": {
    "cell_id": "00167-7ccfac7d-2777-4542-9d03-dc7e4d568069",
    "deepnote_cell_type": "code",
    "deepnote_cell_height": 66
   },
   "source": "poi_austin_clean['leisure'].unique()",
   "execution_count": null,
   "outputs": []
  },
  {
   "cell_type": "code",
   "metadata": {
    "scrolled": true,
    "cell_id": "00168-018801c7-2a36-4701-856f-3836042d9bb1",
    "deepnote_cell_type": "code",
    "deepnote_cell_height": 66
   },
   "source": "poi_austin_clean['tourism'].unique()",
   "execution_count": null,
   "outputs": []
  },
  {
   "cell_type": "code",
   "metadata": {
    "cell_id": "00169-7e99f5c1-6c8b-44c2-8d17-9e126ffe724c",
    "deepnote_cell_type": "code",
    "deepnote_cell_height": 300
   },
   "source": "# leisure = ['garden', 'park']\n\n# the polygons of the actual green spaces are also in the data set\nparks = poi_austin_clean[(poi_austin_clean['leisure'] == 'park') | (poi_austin_clean['leisure'] == 'garden')]\nparks = parks.set_crs(epsg=4326)\npoi_austin_clean = poi_austin_clean.drop(parks.index) # remove the used shapes\nparks['geom'] = parks.geometry # not to loose it while joining\nmatches = gpd.sjoin(green_areas_dic, \n                    parks[['geometry', 'geom']], \n                    op='within',\n                   ).drop(columns=['index_right', \n                                   'geometry']).rename(columns={'geom':'geometry'})\n\ngreen_areas_shape = matches",
   "execution_count": null,
   "outputs": []
  },
  {
   "cell_type": "markdown",
   "source": "### Weather Data",
   "metadata": {
    "cell_id": "00170-06c0a562-30a4-48a0-94f1-6a1dec0d1d36",
    "deepnote_cell_type": "markdown",
    "deepnote_cell_height": 62
   }
  },
  {
   "cell_type": "code",
   "metadata": {
    "cell_id": "00171-8e2c9a02-3ff1-4184-a7f4-47af524e8831",
    "deepnote_cell_type": "code",
    "deepnote_cell_height": 84
   },
   "source": "#!pip install meteostat\n#!pip install pyairnow",
   "execution_count": null,
   "outputs": []
  },
  {
   "cell_type": "markdown",
   "source": "**Data Structure**\n\nEach hour is represented by a Pandas DataFrame row which provides the weather data recorded at that time. \n\nThese are the different columns:\n\nColumn\tDescription\tType\n\n- station\tThe Meteostat ID of the weather station (only if query refers to multiple stations)\tString\n- time\tThe datetime of the observation\tDatetime64\n- temp\tThe air temperature in °C\tFloat64\n- dwpt\tThe dew point in °C\tFloat64\n- rhum\tThe relative humidity in percent (%)\tFloat64\n- prcp\tThe one hour precipitation total in mm\tFloat64\n- snow\tThe snow depth in mm\tFloat64\n- wdir\tThe average wind direction in degrees (°)\tFloat64\n- wspd\tThe average wind speed in km/h\tFloat64\n- wpgt\tThe peak wind gust in km/h\tFloat64\n- pres\tThe average sea-level air pressure in hPa\tFloat64\n- tsun\tThe one hour sunshine total in minutes (m)\tFloat64\n- coco\tThe weather condition code\tFloat64\n",
   "metadata": {
    "cell_id": "00172-466bfe19-cf8e-4624-8c93-226d164d9fd2",
    "deepnote_cell_type": "markdown",
    "deepnote_cell_height": 516.796875
   }
  },
  {
   "cell_type": "code",
   "metadata": {
    "cell_id": "00173-c9917ef3-c222-41b5-bfb6-5b8de3a39f28",
    "deepnote_cell_type": "code",
    "deepnote_cell_height": 516
   },
   "source": "\n# Get weather stations ordered by distance to Austin, TX \n#(30.4895484046493\" N, 97.7249632541566\" W) || Latitude of Austin (TX) 30.267153. Longitude of Austin (TX) -97.7430608.\nAus_lat = 30.267153\nAus_long = -97.7430608\n\n# Set time period\nstart = datetime(2005, 1, 1)\nend = datetime(2021, 12, 31, 23, 59)\n\n#Fetch closest station (limit = 1)\nstations = Stations()\nstations = stations.nearby(Aus_lat, Aus_long)\nstations = stations.inventory('daily', (start, end))\nlocation = stations.fetch(1)\n\n# Create Point for Austin, TX\n#location = Point(Aus_lat, Aus_long, 70)\n\n# Get daily data for 2005 to 2021\ndata = Daily(location, start, end)\n#data_h = Hourly(location, start, end) \n\n# Plot line chart including average, minimum and maximum temperature\n#data.plot(y=['tavg', 'tmin', 'tmax'])\n#plt.show()",
   "execution_count": null,
   "outputs": []
  },
  {
   "cell_type": "markdown",
   "source": "The normalize method makes sure that gaps in the time series are filled. necessary before interpolation\n\nAggregate Functions\nMeteostat uses the following aggregate functions:\n\n- temp => mean\n- dwpt => mean\n- rhum => mean\n- tavg => mean\n- tmin => min\n- tmax => max\n- prcp => sum\n- snow => max\n- wdir => meteostat.utilities.aggregations.degree_mean\n- wspd => mean\n- wpgt => max\n- pres => mean\n- tsun => sum\n- coco => max",
   "metadata": {
    "cell_id": "00174-73ec4899-8077-4555-b60b-9d128bea3f01",
    "deepnote_cell_type": "markdown",
    "deepnote_cell_height": 469.390625
   }
  },
  {
   "cell_type": "code",
   "metadata": {
    "cell_id": "00175-bde53c45-8a5f-4eac-8849-c23753d3dcb1",
    "deepnote_cell_type": "code",
    "deepnote_cell_height": 210
   },
   "source": "data = data.normalize()\ndata = data.interpolate()\ndata_w = data.aggregate('1W') # Weekly aggregation according to above function\ndata_w = data_w.fetch()\n\ndata = data.aggregate('1D')\ndata = data.fetch()\n\ndata.head()",
   "execution_count": null,
   "outputs": []
  },
  {
   "cell_type": "code",
   "metadata": {
    "cell_id": "00176-8c5c9143-0751-45f1-9eb4-5985cc910c48",
    "deepnote_cell_type": "code",
    "deepnote_cell_height": 84
   },
   "source": "print(data.shape)\nprint(data_w.shape)",
   "execution_count": null,
   "outputs": []
  },
  {
   "cell_type": "code",
   "metadata": {
    "cell_id": "00177-83f03e39-8a49-4d14-b8ac-a89a63a7a47a",
    "deepnote_cell_type": "code",
    "deepnote_cell_height": 84
   },
   "source": "data.to_csv(\"WeatherData_weekly.csv\")\ndata_w.to_csv(\"WeatherData_weekly.csv\")",
   "execution_count": null,
   "outputs": []
  },
  {
   "cell_type": "code",
   "metadata": {
    "cell_id": "00178-46efe106-55f8-475a-9f05-69548ca85436",
    "deepnote_cell_type": "code",
    "deepnote_cell_height": 66
   },
   "source": "data_w.describe()",
   "execution_count": null,
   "outputs": []
  },
  {
   "cell_type": "code",
   "metadata": {
    "cell_id": "00179-ae7cb822-56df-48c4-9016-43e3c75b38b8",
    "deepnote_cell_type": "code",
    "deepnote_cell_height": 66
   },
   "source": "data.describe()",
   "execution_count": null,
   "outputs": []
  },
  {
   "cell_type": "markdown",
   "source": "### Pollution Data",
   "metadata": {
    "cell_id": "00180-d5fad1ae-b37d-4b21-b9fd-e6cc9d6e0c5c",
    "deepnote_cell_type": "markdown",
    "deepnote_cell_height": 62
   }
  },
  {
   "cell_type": "code",
   "metadata": {
    "cell_id": "00181-52be9cd3-95e7-4a5d-b94a-d84c14f9da05",
    "deepnote_cell_type": "code",
    "deepnote_cell_height": 282
   },
   "source": "'''import requests \nfrom six.moves import urllib\n\nAPIkey = 'C0944E2A-D5D0-4231-ABAB-5F7530450F2A'\n\n#&zipCode=78708&date=2022-03-18T00-0000&distance=50&API_KEY=C0944E2A-D5D0-4231-ABAB-5F7530450F2A\nurl = 'https://www.airnowapi.org/aq/observation/latLong/historical/?format=text/csv&latitude={}&longitude={}&date={}T00-0000&distance=50&API_KEY={}'.format(Aus_lat,Aus_long,start,APIkey)\n\nPdata = requests.get(url)\nairdata = Pdata.json()\nprint(airdata)\n'''\n",
   "execution_count": null,
   "outputs": []
  },
  {
   "cell_type": "code",
   "metadata": {
    "cell_id": "00182-bb41f230-7ab5-4422-b32a-a3d9711d75e4",
    "deepnote_cell_type": "code",
    "deepnote_cell_height": 120
   },
   "source": "import pandas as pd \n\nPMdata = pd.read_csv('./austin-texas-air-quality.csv')\nPMdata.head()",
   "execution_count": null,
   "outputs": []
  },
  {
   "cell_type": "code",
   "metadata": {
    "cell_id": "00183-cafbe19f-c4ab-4e10-93b8-0f533e659813",
    "deepnote_cell_type": "code",
    "deepnote_cell_height": 66
   },
   "source": "PMdata.tail()",
   "execution_count": null,
   "outputs": []
  },
  {
   "cell_type": "code",
   "metadata": {
    "cell_id": "00184-eef0e5bf-9eb2-4850-89b1-100c3f86a4d9",
    "deepnote_cell_type": "code",
    "deepnote_cell_height": 138
   },
   "source": "PMdata['date'] = pd.to_datetime(PMdata[\"date\"].astype(str), format='%Y-%m-%d')\nPMdata.rename(columns = {'date':'time'}, inplace = True)\nPMdata.set_index('time')\nprint(PMdata.shape)\nPMdata.head()",
   "execution_count": null,
   "outputs": []
  },
  {
   "cell_type": "code",
   "metadata": {
    "cell_id": "00185-592e0543-3129-4768-9e69-96eca037e5e7",
    "deepnote_cell_type": "code",
    "deepnote_cell_height": 120
   },
   "source": "Weather_merged_daily = pd.merge(data, PMdata, on=['time'])\nWeather_merged_daily.to_csv('Weather_merged_daily.csv')\nprint(Weather_merged_daily.shape)\nWeather_merged_daily.head()",
   "execution_count": null,
   "outputs": []
  },
  {
   "cell_type": "code",
   "metadata": {
    "cell_id": "00186-09518e81-0d52-4869-9f7f-b03ca8209802",
    "deepnote_cell_type": "code",
    "deepnote_cell_height": 66
   },
   "source": "PMdata.describe()",
   "execution_count": null,
   "outputs": []
  },
  {
   "cell_type": "code",
   "metadata": {
    "cell_id": "00187-5d1b8102-2f81-4283-90cd-47ba69878728",
    "deepnote_cell_type": "code",
    "deepnote_cell_height": 264
   },
   "source": "import datetime as dt\n\nPMdata_w = PMdata.copy()\n\nPMdata_w['WeekDate'] = PMdata_w.apply(lambda row: row['time'] - dt.timedelta(days=row['time'].weekday()+1),axis=1)\nPMdata_w[' pm25']= pd.to_numeric(PMdata_w[' pm25'],errors = 'coerce',downcast=\"integer\")\nPMdata_w[' o3']= pd.to_numeric(PMdata_w[' o3'],errors = 'coerce',downcast=\"integer\")\nPMdata_w[' no2']= pd.to_numeric(PMdata_w[' no2'],errors = 'coerce',downcast=\"integer\")\nPMdata_w[' so2']= pd.to_numeric(PMdata_w[' so2'],errors = 'coerce',downcast=\"integer\")\n#print(PMdata_w.dtypes)\nperweek = PMdata_w[' pm25'].groupby(PMdata_w['WeekDate']).mean()\nperweek",
   "execution_count": null,
   "outputs": []
  },
  {
   "cell_type": "code",
   "metadata": {
    "cell_id": "00188-e4561c45-dee0-40bc-bf9c-74c61191db09",
    "deepnote_cell_type": "code",
    "deepnote_cell_height": 138
   },
   "source": "#perweek.rename(columns = {'WeekDate':'time'}, inplace = True)\nperweek_df = pd.DataFrame(perweek)\n#perweek_df = perweek_df.rename(columns = {'WeekDate':'time'})\nperweek_df.index.names = ['time']\nperweek_df",
   "execution_count": null,
   "outputs": []
  },
  {
   "cell_type": "code",
   "metadata": {
    "cell_id": "00189-62f7e7a1-9c87-449b-a12e-756a5c367909",
    "deepnote_cell_type": "code",
    "deepnote_cell_height": 102
   },
   "source": "Weather_merged_weekly = pd.merge(data_w, perweek_df, on=['time'])\nprint(Weather_merged_weekly.shape)\nWeather_merged_weekly.head()",
   "execution_count": null,
   "outputs": []
  },
  {
   "cell_type": "code",
   "metadata": {
    "cell_id": "00190-842a1d9b-b4f6-423d-8527-884b4d11a4bf",
    "deepnote_cell_type": "code",
    "deepnote_cell_height": 66
   },
   "source": "Weather_merged_weekly.to_csv('Weather_merged_weekly.csv')",
   "execution_count": null,
   "outputs": []
  },
  {
   "cell_type": "markdown",
   "source": "<a style='text-decoration:none;line-height:16px;display:flex;color:#5B5B62;padding:10px;justify-content:end;' href='https://deepnote.com?utm_source=created-in-deepnote-cell&projectId=1a1cabe9-69f7-4a67-be18-e232e1feb2b6' target=\"_blank\">\n<img alt='Created in deepnote.com' style='display:inline;max-height:16px;margin:0px;margin-right:7.5px;' src='data:image/svg+xml;base64,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' > </img>\nCreated in <span style='font-weight:600;margin-left:4px;'>Deepnote</span></a>",
   "metadata": {
    "tags": [],
    "created_in_deepnote_cell": true,
    "deepnote_cell_type": "markdown"
   }
  }
 ],
 "nbformat": 4,
 "nbformat_minor": 1,
 "metadata": {
  "colab": {
   "collapsed_sections": [
    "63ltgxp_rOpI",
    "C8rCpNajszur",
    "gSDath2nr1fq",
    "a92GV5ghiRg3",
    "qo35-wi0iaFm",
    "CsQEKAQhi_MG",
    "My5BY9qAkSb4",
    "JQuIjEpYka3O",
    "DjduQ037k9CK",
    "kaPf4ZEalZH9",
    "0XBiBOyAl2Sv"
   ],
   "name": "Submission Template.ipynb",
   "provenance": []
  },
  "deepnote_notebook_id": "35d0b8dd-3ed7-43bc-b738-03f5d536e730",
  "kernelspec": {
   "display_name": "Python 3 (ipykernel)",
   "language": "python",
   "name": "python3"
  },
  "language_info": {
   "codemirror_mode": {
    "name": "ipython",
    "version": 3
   },
   "file_extension": ".py",
   "mimetype": "text/x-python",
   "name": "python",
   "nbconvert_exporter": "python",
   "pygments_lexer": "ipython3",
   "version": "3.8.12"
  },
  "deepnote": {},
  "deepnote_execution_queue": []
 }
}