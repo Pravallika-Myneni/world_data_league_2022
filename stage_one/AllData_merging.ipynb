{
 "cells": [
  {
   "cell_type": "code",
   "metadata": {
    "cell_id": "ad8fd476-2720-4dbc-b79d-7864c1752793",
    "deepnote_cell_type": "code"
   },
   "source": "# basic\nimport pandas as pd\nimport math\nimport requests\nimport numpy as np\nimport json\n\n# datetime\nfrom datetime import datetime\n\n# visualization\nimport matplotlib.pyplot as plt\nimport seaborn as sns\n",
   "outputs": [],
   "execution_count": null
  },
  {
   "cell_type": "code",
   "metadata": {
    "cell_id": "00001-0ed6f485-2d21-4dc3-9867-7a03ccf4ec52",
    "deepnote_cell_type": "code"
   },
   "source": "df_gc = pd.read_csv(\"weekly_garbage_data_2014-2021.csv\")\ndf_gc.shape",
   "outputs": [
    {
     "data": {
      "text/plain": "(396, 8)"
     },
     "execution_count": 22,
     "metadata": {},
     "output_type": "execute_result"
    }
   ],
   "execution_count": null
  },
  {
   "cell_type": "code",
   "metadata": {
    "cell_id": "00002-d02b1773-fed0-496a-b303-5e4c2970c939",
    "deepnote_cell_type": "code"
   },
   "source": "df_gc.head()\ndf_gc.set_index('Date')",
   "outputs": [
    {
     "data": {
      "text/html": "<div>\n<style scoped>\n    .dataframe tbody tr th:only-of-type {\n        vertical-align: middle;\n    }\n\n    .dataframe tbody tr th {\n        vertical-align: top;\n    }\n\n    .dataframe thead th {\n        text-align: right;\n    }\n</style>\n<table border=\"1\" class=\"dataframe\">\n  <thead>\n    <tr style=\"text-align: right;\">\n      <th></th>\n      <th>Unnamed: 0</th>\n      <th>Load Type</th>\n      <th>Load Weight</th>\n      <th>Dropoff Site</th>\n      <th>Route Type</th>\n      <th>Route Number</th>\n      <th>Time</th>\n    </tr>\n    <tr>\n      <th>Date</th>\n      <th></th>\n      <th></th>\n      <th></th>\n      <th></th>\n      <th></th>\n      <th></th>\n      <th></th>\n    </tr>\n  </thead>\n  <tbody>\n    <tr>\n      <th>2013-12-29</th>\n      <td>0</td>\n      <td>['YARD TRIMMING', 'YARD TRIMMING', 'YARD TRIMM...</td>\n      <td>5864992.0</td>\n      <td>['HORNSBY BEND', 'HORNSBY BEND', 'HORNSBY BEND...</td>\n      <td>['YARD TRIMMINGS', 'YARD TRIMMINGS', 'YARD TRI...</td>\n      <td>['YF01', 'YH01', 'YW13', 'DH1', 'YH06', 'RFAU2...</td>\n      <td>[datetime.time(12, 10), datetime.time(16, 38),...</td>\n    </tr>\n    <tr>\n      <th>2014-01-05</th>\n      <td>1</td>\n      <td>['GARBAGE COLLECTIONS', 'GARBAGE COLLECTIONS',...</td>\n      <td>9650424.0</td>\n      <td>['TDS LANDFILL', 'TDS LANDFILL', 'TDS LANDFILL...</td>\n      <td>['GARBAGE COLLECTION', 'GARBAGE COLLECTION', '...</td>\n      <td>['PAW72', 'PAH71', 'PH34', 'BU06', 'RHBU13', '...</td>\n      <td>[datetime.time(14, 12), datetime.time(12, 38),...</td>\n    </tr>\n    <tr>\n      <th>2014-01-12</th>\n      <td>2</td>\n      <td>['GARBAGE COLLECTIONS', 'GARBAGE COLLECTIONS',...</td>\n      <td>9311385.0</td>\n      <td>['TDS LANDFILL', 'TDS LANDFILL', 'TDS - MRF', ...</td>\n      <td>['GARBAGE COLLECTION', 'GARBAGE COLLECTION', '...</td>\n      <td>['PAW64', 'PH21', 'RMAU21', 'DA02', 'PAH09', '...</td>\n      <td>[datetime.time(18, 35), datetime.time(13, 42),...</td>\n    </tr>\n    <tr>\n      <th>2014-01-19</th>\n      <td>3</td>\n      <td>['BULK', 'BULK', 'GARBAGE COLLECTIONS', 'GARBA...</td>\n      <td>8808898.0</td>\n      <td>['TDS LANDFILL', 'TDS LANDFILL', 'TDS LANDFILL...</td>\n      <td>['BULK', 'BULK', 'GARBAGE COLLECTION', 'GARBAG...</td>\n      <td>['BU22', 'BU22', 'PT10', 'PAM85', 'DF1', 'PH32...</td>\n      <td>[datetime.time(15, 46), datetime.time(14, 1), ...</td>\n    </tr>\n    <tr>\n      <th>2014-01-26</th>\n      <td>4</td>\n      <td>['TIRES', 'YARD TRIMMING', 'GARBAGE COLLECTION...</td>\n      <td>8335148.0</td>\n      <td>['MRF', 'HORNSBY BEND', 'TDS LANDFILL', 'TDS -...</td>\n      <td>['BULK', 'YARD TRIMMINGS', 'GARBAGE COLLECTION...</td>\n      <td>['BU30', 'YW12', 'PAM70', 'PW22', 'PAH81', 'PM...</td>\n      <td>[datetime.time(0, 0), datetime.time(12, 50), d...</td>\n    </tr>\n    <tr>\n      <th>...</th>\n      <td>...</td>\n      <td>...</td>\n      <td>...</td>\n      <td>...</td>\n      <td>...</td>\n      <td>...</td>\n      <td>...</td>\n    </tr>\n    <tr>\n      <th>2021-06-27</th>\n      <td>391</td>\n      <td>['RECYCLING - SINGLE STREAM', 'GARBAGE COLLECT...</td>\n      <td>10174590.0</td>\n      <td>['TDS - MRF', 'TDS LANDFILL', 'TDS LANDFILL', ...</td>\n      <td>['RECYCLING - SINGLE STREAM', 'GARBAGE COLLECT...</td>\n      <td>['RMBU52', 'PAM74', 'PAM75', 'PAM74', 'PAM73',...</td>\n      <td>[datetime.time(10, 0), datetime.time(18, 0), d...</td>\n    </tr>\n    <tr>\n      <th>2021-07-04</th>\n      <td>392</td>\n      <td>['GARBAGE COLLECTIONS', 'GARBAGE COLLECTIONS',...</td>\n      <td>6951360.0</td>\n      <td>['TDS LANDFILL', 'TDS LANDFILL', 'TDS LANDFILL...</td>\n      <td>['GARBAGE COLLECTION', 'GARBAGE COLLECTION', '...</td>\n      <td>['PAF02', 'PAM06', 'PAM79', 'VB-01', 'OM17', '...</td>\n      <td>[datetime.time(12, 36), datetime.time(3, 57), ...</td>\n    </tr>\n    <tr>\n      <th>2021-07-11</th>\n      <td>393</td>\n      <td>['RECYCLING - COMINGLE', 'RECYCLING - COMINGLE...</td>\n      <td>643740.0</td>\n      <td>['MRF', 'MRF', 'MRF', 'TDS - MRF', 'TDS LANDFI...</td>\n      <td>['RECYCLING', 'RECYCLING', 'RECYCLING', 'RECYC...</td>\n      <td>['RH05', 'RH02', 'RF03', 'RWAS35', 'BU03', 'RM...</td>\n      <td>[datetime.time(7, 0, 38), datetime.time(7, 0, ...</td>\n    </tr>\n    <tr>\n      <th>2021-12-05</th>\n      <td>394</td>\n      <td>['ORGANICS']</td>\n      <td>1340.0</td>\n      <td>['ORGANICS BY GOSH']</td>\n      <td>['YARD TRIMMINGS-ORGANICS']</td>\n      <td>['OBT99']</td>\n      <td>[datetime.time(0, 0)]</td>\n    </tr>\n    <tr>\n      <th>2021-12-19</th>\n      <td>395</td>\n      <td>['RECYCLING - SINGLE STREAM']</td>\n      <td>6940.0</td>\n      <td>['TDS LANDFILL']</td>\n      <td>['RECYCLING - SINGLE STREAM']</td>\n      <td>['RMAU21']</td>\n      <td>[datetime.time(12, 41)]</td>\n    </tr>\n  </tbody>\n</table>\n<p>396 rows × 7 columns</p>\n</div>",
      "text/plain": "            Unnamed: 0                                          Load Type  \\\nDate                                                                        \n2013-12-29           0  ['YARD TRIMMING', 'YARD TRIMMING', 'YARD TRIMM...   \n2014-01-05           1  ['GARBAGE COLLECTIONS', 'GARBAGE COLLECTIONS',...   \n2014-01-12           2  ['GARBAGE COLLECTIONS', 'GARBAGE COLLECTIONS',...   \n2014-01-19           3  ['BULK', 'BULK', 'GARBAGE COLLECTIONS', 'GARBA...   \n2014-01-26           4  ['TIRES', 'YARD TRIMMING', 'GARBAGE COLLECTION...   \n...                ...                                                ...   \n2021-06-27         391  ['RECYCLING - SINGLE STREAM', 'GARBAGE COLLECT...   \n2021-07-04         392  ['GARBAGE COLLECTIONS', 'GARBAGE COLLECTIONS',...   \n2021-07-11         393  ['RECYCLING - COMINGLE', 'RECYCLING - COMINGLE...   \n2021-12-05         394                                       ['ORGANICS']   \n2021-12-19         395                      ['RECYCLING - SINGLE STREAM']   \n\n            Load Weight                                       Dropoff Site  \\\nDate                                                                         \n2013-12-29    5864992.0  ['HORNSBY BEND', 'HORNSBY BEND', 'HORNSBY BEND...   \n2014-01-05    9650424.0  ['TDS LANDFILL', 'TDS LANDFILL', 'TDS LANDFILL...   \n2014-01-12    9311385.0  ['TDS LANDFILL', 'TDS LANDFILL', 'TDS - MRF', ...   \n2014-01-19    8808898.0  ['TDS LANDFILL', 'TDS LANDFILL', 'TDS LANDFILL...   \n2014-01-26    8335148.0  ['MRF', 'HORNSBY BEND', 'TDS LANDFILL', 'TDS -...   \n...                 ...                                                ...   \n2021-06-27   10174590.0  ['TDS - MRF', 'TDS LANDFILL', 'TDS LANDFILL', ...   \n2021-07-04    6951360.0  ['TDS LANDFILL', 'TDS LANDFILL', 'TDS LANDFILL...   \n2021-07-11     643740.0  ['MRF', 'MRF', 'MRF', 'TDS - MRF', 'TDS LANDFI...   \n2021-12-05       1340.0                               ['ORGANICS BY GOSH']   \n2021-12-19       6940.0                                   ['TDS LANDFILL']   \n\n                                                   Route Type  \\\nDate                                                            \n2013-12-29  ['YARD TRIMMINGS', 'YARD TRIMMINGS', 'YARD TRI...   \n2014-01-05  ['GARBAGE COLLECTION', 'GARBAGE COLLECTION', '...   \n2014-01-12  ['GARBAGE COLLECTION', 'GARBAGE COLLECTION', '...   \n2014-01-19  ['BULK', 'BULK', 'GARBAGE COLLECTION', 'GARBAG...   \n2014-01-26  ['BULK', 'YARD TRIMMINGS', 'GARBAGE COLLECTION...   \n...                                                       ...   \n2021-06-27  ['RECYCLING - SINGLE STREAM', 'GARBAGE COLLECT...   \n2021-07-04  ['GARBAGE COLLECTION', 'GARBAGE COLLECTION', '...   \n2021-07-11  ['RECYCLING', 'RECYCLING', 'RECYCLING', 'RECYC...   \n2021-12-05                        ['YARD TRIMMINGS-ORGANICS']   \n2021-12-19                      ['RECYCLING - SINGLE STREAM']   \n\n                                                 Route Number  \\\nDate                                                            \n2013-12-29  ['YF01', 'YH01', 'YW13', 'DH1', 'YH06', 'RFAU2...   \n2014-01-05  ['PAW72', 'PAH71', 'PH34', 'BU06', 'RHBU13', '...   \n2014-01-12  ['PAW64', 'PH21', 'RMAU21', 'DA02', 'PAH09', '...   \n2014-01-19  ['BU22', 'BU22', 'PT10', 'PAM85', 'DF1', 'PH32...   \n2014-01-26  ['BU30', 'YW12', 'PAM70', 'PW22', 'PAH81', 'PM...   \n...                                                       ...   \n2021-06-27  ['RMBU52', 'PAM74', 'PAM75', 'PAM74', 'PAM73',...   \n2021-07-04  ['PAF02', 'PAM06', 'PAM79', 'VB-01', 'OM17', '...   \n2021-07-11  ['RH05', 'RH02', 'RF03', 'RWAS35', 'BU03', 'RM...   \n2021-12-05                                          ['OBT99']   \n2021-12-19                                         ['RMAU21']   \n\n                                                         Time  \nDate                                                           \n2013-12-29  [datetime.time(12, 10), datetime.time(16, 38),...  \n2014-01-05  [datetime.time(14, 12), datetime.time(12, 38),...  \n2014-01-12  [datetime.time(18, 35), datetime.time(13, 42),...  \n2014-01-19  [datetime.time(15, 46), datetime.time(14, 1), ...  \n2014-01-26  [datetime.time(0, 0), datetime.time(12, 50), d...  \n...                                                       ...  \n2021-06-27  [datetime.time(10, 0), datetime.time(18, 0), d...  \n2021-07-04  [datetime.time(12, 36), datetime.time(3, 57), ...  \n2021-07-11  [datetime.time(7, 0, 38), datetime.time(7, 0, ...  \n2021-12-05                              [datetime.time(0, 0)]  \n2021-12-19                            [datetime.time(12, 41)]  \n\n[396 rows x 7 columns]"
     },
     "execution_count": 40,
     "metadata": {},
     "output_type": "execute_result"
    }
   ],
   "execution_count": null
  },
  {
   "cell_type": "code",
   "metadata": {
    "cell_id": "00003-b1728f75-2d72-4a78-8a18-18edd2e23482",
    "deepnote_cell_type": "code"
   },
   "source": "df_w = pd.read_csv(\"WeatherData_weekly.csv\")\ndf_w.shape",
   "outputs": [
    {
     "data": {
      "text/plain": "(888, 11)"
     },
     "execution_count": 41,
     "metadata": {},
     "output_type": "execute_result"
    }
   ],
   "execution_count": null
  },
  {
   "cell_type": "code",
   "metadata": {
    "cell_id": "00004-a55cf78d-6a80-4149-ad63-882f712b6b5d",
    "deepnote_cell_type": "code"
   },
   "source": "df_w = df_w.rename(columns={'time':'Date'})\ndf_w=df_w.set_index('Date')\ndf_w.head()",
   "outputs": [
    {
     "data": {
      "text/html": "<div>\n<style scoped>\n    .dataframe tbody tr th:only-of-type {\n        vertical-align: middle;\n    }\n\n    .dataframe tbody tr th {\n        vertical-align: top;\n    }\n\n    .dataframe thead th {\n        text-align: right;\n    }\n</style>\n<table border=\"1\" class=\"dataframe\">\n  <thead>\n    <tr style=\"text-align: right;\">\n      <th></th>\n      <th>tavg</th>\n      <th>tmin</th>\n      <th>tmax</th>\n      <th>prcp</th>\n      <th>snow</th>\n      <th>wdir</th>\n      <th>wspd</th>\n      <th>wpgt</th>\n      <th>pres</th>\n      <th>tsun</th>\n    </tr>\n    <tr>\n      <th>Date</th>\n      <th></th>\n      <th></th>\n      <th></th>\n      <th></th>\n      <th></th>\n      <th></th>\n      <th></th>\n      <th></th>\n      <th></th>\n      <th></th>\n    </tr>\n  </thead>\n  <tbody>\n    <tr>\n      <th>2005-01-02</th>\n      <td>20.8</td>\n      <td>17.8</td>\n      <td>23.9</td>\n      <td>8.1</td>\n      <td>0.0</td>\n      <td>NaN</td>\n      <td>11.4</td>\n      <td>NaN</td>\n      <td>1019.5</td>\n      <td>0.0</td>\n    </tr>\n    <tr>\n      <th>2005-01-09</th>\n      <td>13.7</td>\n      <td>1.1</td>\n      <td>25.6</td>\n      <td>6.1</td>\n      <td>0.0</td>\n      <td>NaN</td>\n      <td>9.0</td>\n      <td>NaN</td>\n      <td>1022.0</td>\n      <td>0.0</td>\n    </tr>\n    <tr>\n      <th>2005-01-16</th>\n      <td>13.7</td>\n      <td>-1.1</td>\n      <td>26.1</td>\n      <td>0.0</td>\n      <td>0.0</td>\n      <td>325.2</td>\n      <td>11.8</td>\n      <td>NaN</td>\n      <td>1022.2</td>\n      <td>0.0</td>\n    </tr>\n    <tr>\n      <th>2005-01-23</th>\n      <td>10.5</td>\n      <td>-1.7</td>\n      <td>23.3</td>\n      <td>0.0</td>\n      <td>0.0</td>\n      <td>NaN</td>\n      <td>7.3</td>\n      <td>NaN</td>\n      <td>1027.2</td>\n      <td>0.0</td>\n    </tr>\n    <tr>\n      <th>2005-01-30</th>\n      <td>11.1</td>\n      <td>0.0</td>\n      <td>26.7</td>\n      <td>40.3</td>\n      <td>0.0</td>\n      <td>NaN</td>\n      <td>8.0</td>\n      <td>NaN</td>\n      <td>1019.9</td>\n      <td>0.0</td>\n    </tr>\n  </tbody>\n</table>\n</div>",
      "text/plain": "            tavg  tmin  tmax  prcp  snow   wdir  wspd  wpgt    pres  tsun\nDate                                                                     \n2005-01-02  20.8  17.8  23.9   8.1   0.0    NaN  11.4   NaN  1019.5   0.0\n2005-01-09  13.7   1.1  25.6   6.1   0.0    NaN   9.0   NaN  1022.0   0.0\n2005-01-16  13.7  -1.1  26.1   0.0   0.0  325.2  11.8   NaN  1022.2   0.0\n2005-01-23  10.5  -1.7  23.3   0.0   0.0    NaN   7.3   NaN  1027.2   0.0\n2005-01-30  11.1   0.0  26.7  40.3   0.0    NaN   8.0   NaN  1019.9   0.0"
     },
     "execution_count": 53,
     "metadata": {},
     "output_type": "execute_result"
    }
   ],
   "execution_count": null
  },
  {
   "cell_type": "code",
   "metadata": {
    "cell_id": "00005-47fc10eb-129a-4fd0-8ee3-355da470b988",
    "deepnote_cell_type": "code"
   },
   "source": "df_wp = pd.read_csv('Weather_merged_weekly.csv',index_col=False)\ndf_wp.shape",
   "outputs": [
    {
     "data": {
      "text/plain": "(888, 13)"
     },
     "execution_count": 44,
     "metadata": {},
     "output_type": "execute_result"
    }
   ],
   "execution_count": null
  },
  {
   "cell_type": "code",
   "metadata": {
    "cell_id": "00006-dc0322ca-a44c-4453-aa73-413d59e9d6ce",
    "deepnote_cell_type": "code"
   },
   "source": "df_wp = df_wp.rename(columns={'time':'Date'})\ndf_wp=df_wp.set_index('Date')\ndf_wp",
   "outputs": [
    {
     "data": {
      "text/html": "<div>\n<style scoped>\n    .dataframe tbody tr th:only-of-type {\n        vertical-align: middle;\n    }\n\n    .dataframe tbody tr th {\n        vertical-align: top;\n    }\n\n    .dataframe thead th {\n        text-align: right;\n    }\n</style>\n<table border=\"1\" class=\"dataframe\">\n  <thead>\n    <tr style=\"text-align: right;\">\n      <th></th>\n      <th>Unnamed: 0</th>\n      <th>tavg</th>\n      <th>tmin</th>\n      <th>tmax</th>\n      <th>prcp</th>\n      <th>snow</th>\n      <th>wdir</th>\n      <th>wspd</th>\n      <th>wpgt</th>\n      <th>pres</th>\n      <th>tsun</th>\n      <th>pm25</th>\n    </tr>\n    <tr>\n      <th>Date</th>\n      <th></th>\n      <th></th>\n      <th></th>\n      <th></th>\n      <th></th>\n      <th></th>\n      <th></th>\n      <th></th>\n      <th></th>\n      <th></th>\n      <th></th>\n      <th></th>\n    </tr>\n  </thead>\n  <tbody>\n    <tr>\n      <th>2005-01-02</th>\n      <td>0</td>\n      <td>20.8</td>\n      <td>17.8</td>\n      <td>23.9</td>\n      <td>8.1</td>\n      <td>0.0</td>\n      <td>NaN</td>\n      <td>11.4</td>\n      <td>NaN</td>\n      <td>1019.5</td>\n      <td>0.0</td>\n      <td>NaN</td>\n    </tr>\n    <tr>\n      <th>2005-01-09</th>\n      <td>1</td>\n      <td>13.7</td>\n      <td>1.1</td>\n      <td>25.6</td>\n      <td>6.1</td>\n      <td>0.0</td>\n      <td>NaN</td>\n      <td>9.0</td>\n      <td>NaN</td>\n      <td>1022.0</td>\n      <td>0.0</td>\n      <td>NaN</td>\n    </tr>\n    <tr>\n      <th>2005-01-16</th>\n      <td>2</td>\n      <td>13.7</td>\n      <td>-1.1</td>\n      <td>26.1</td>\n      <td>0.0</td>\n      <td>0.0</td>\n      <td>325.2</td>\n      <td>11.8</td>\n      <td>NaN</td>\n      <td>1022.2</td>\n      <td>0.0</td>\n      <td>NaN</td>\n    </tr>\n    <tr>\n      <th>2005-01-23</th>\n      <td>3</td>\n      <td>10.5</td>\n      <td>-1.7</td>\n      <td>23.3</td>\n      <td>0.0</td>\n      <td>0.0</td>\n      <td>NaN</td>\n      <td>7.3</td>\n      <td>NaN</td>\n      <td>1027.2</td>\n      <td>0.0</td>\n      <td>NaN</td>\n    </tr>\n    <tr>\n      <th>2005-01-30</th>\n      <td>4</td>\n      <td>11.1</td>\n      <td>0.0</td>\n      <td>26.7</td>\n      <td>40.3</td>\n      <td>0.0</td>\n      <td>NaN</td>\n      <td>8.0</td>\n      <td>NaN</td>\n      <td>1019.9</td>\n      <td>0.0</td>\n      <td>NaN</td>\n    </tr>\n    <tr>\n      <th>...</th>\n      <td>...</td>\n      <td>...</td>\n      <td>...</td>\n      <td>...</td>\n      <td>...</td>\n      <td>...</td>\n      <td>...</td>\n      <td>...</td>\n      <td>...</td>\n      <td>...</td>\n      <td>...</td>\n      <td>...</td>\n    </tr>\n    <tr>\n      <th>2021-12-05</th>\n      <td>883</td>\n      <td>18.2</td>\n      <td>7.2</td>\n      <td>27.2</td>\n      <td>0.8</td>\n      <td>0.0</td>\n      <td>235.0</td>\n      <td>4.4</td>\n      <td>NaN</td>\n      <td>1018.6</td>\n      <td>0.0</td>\n      <td>39.714286</td>\n    </tr>\n    <tr>\n      <th>2021-12-12</th>\n      <td>884</td>\n      <td>16.0</td>\n      <td>0.6</td>\n      <td>29.4</td>\n      <td>0.3</td>\n      <td>0.0</td>\n      <td>347.5</td>\n      <td>6.4</td>\n      <td>NaN</td>\n      <td>1016.6</td>\n      <td>0.0</td>\n      <td>29.000000</td>\n    </tr>\n    <tr>\n      <th>2021-12-19</th>\n      <td>885</td>\n      <td>17.8</td>\n      <td>4.4</td>\n      <td>27.2</td>\n      <td>42.0</td>\n      <td>0.0</td>\n      <td>42.0</td>\n      <td>7.7</td>\n      <td>NaN</td>\n      <td>1019.1</td>\n      <td>0.0</td>\n      <td>36.857143</td>\n    </tr>\n    <tr>\n      <th>2021-12-26</th>\n      <td>886</td>\n      <td>16.2</td>\n      <td>3.3</td>\n      <td>26.1</td>\n      <td>0.0</td>\n      <td>0.0</td>\n      <td>186.6</td>\n      <td>5.7</td>\n      <td>NaN</td>\n      <td>1016.2</td>\n      <td>0.0</td>\n      <td>52.142857</td>\n    </tr>\n    <tr>\n      <th>2022-01-02</th>\n      <td>887</td>\n      <td>20.9</td>\n      <td>13.9</td>\n      <td>28.3</td>\n      <td>0.0</td>\n      <td>0.0</td>\n      <td>210.9</td>\n      <td>5.8</td>\n      <td>NaN</td>\n      <td>1008.2</td>\n      <td>0.0</td>\n      <td>34.857143</td>\n    </tr>\n  </tbody>\n</table>\n<p>888 rows × 12 columns</p>\n</div>",
      "text/plain": "            Unnamed: 0  tavg  tmin  tmax  prcp  snow   wdir  wspd  wpgt  \\\nDate                                                                      \n2005-01-02           0  20.8  17.8  23.9   8.1   0.0    NaN  11.4   NaN   \n2005-01-09           1  13.7   1.1  25.6   6.1   0.0    NaN   9.0   NaN   \n2005-01-16           2  13.7  -1.1  26.1   0.0   0.0  325.2  11.8   NaN   \n2005-01-23           3  10.5  -1.7  23.3   0.0   0.0    NaN   7.3   NaN   \n2005-01-30           4  11.1   0.0  26.7  40.3   0.0    NaN   8.0   NaN   \n...                ...   ...   ...   ...   ...   ...    ...   ...   ...   \n2021-12-05         883  18.2   7.2  27.2   0.8   0.0  235.0   4.4   NaN   \n2021-12-12         884  16.0   0.6  29.4   0.3   0.0  347.5   6.4   NaN   \n2021-12-19         885  17.8   4.4  27.2  42.0   0.0   42.0   7.7   NaN   \n2021-12-26         886  16.2   3.3  26.1   0.0   0.0  186.6   5.7   NaN   \n2022-01-02         887  20.9  13.9  28.3   0.0   0.0  210.9   5.8   NaN   \n\n              pres  tsun       pm25  \nDate                                 \n2005-01-02  1019.5   0.0        NaN  \n2005-01-09  1022.0   0.0        NaN  \n2005-01-16  1022.2   0.0        NaN  \n2005-01-23  1027.2   0.0        NaN  \n2005-01-30  1019.9   0.0        NaN  \n...            ...   ...        ...  \n2021-12-05  1018.6   0.0  39.714286  \n2021-12-12  1016.6   0.0  29.000000  \n2021-12-19  1019.1   0.0  36.857143  \n2021-12-26  1016.2   0.0  52.142857  \n2022-01-02  1008.2   0.0  34.857143  \n\n[888 rows x 12 columns]"
     },
     "execution_count": 46,
     "metadata": {},
     "output_type": "execute_result"
    }
   ],
   "execution_count": null
  },
  {
   "cell_type": "code",
   "metadata": {
    "cell_id": "00007-e05b0062-7158-48bc-babe-a1616be7498b",
    "deepnote_cell_type": "code"
   },
   "source": "#df = pd.concat([df_gc,df_w],axis=1)\ndf = pd.merge(df_gc,df_w,on='Date')",
   "outputs": [],
   "execution_count": null
  },
  {
   "cell_type": "code",
   "metadata": {
    "cell_id": "00008-9c61e510-4df7-4d49-9140-b378fec92e48",
    "deepnote_cell_type": "code"
   },
   "source": "df.shape",
   "outputs": [
    {
     "data": {
      "text/plain": "(396, 18)"
     },
     "execution_count": 62,
     "metadata": {},
     "output_type": "execute_result"
    }
   ],
   "execution_count": null
  },
  {
   "cell_type": "code",
   "metadata": {
    "cell_id": "00009-526dec20-c9f5-48f3-b011-b3a8cd5eb9ba",
    "deepnote_cell_type": "code"
   },
   "source": "df.head()",
   "outputs": [
    {
     "data": {
      "text/html": "<div>\n<style scoped>\n    .dataframe tbody tr th:only-of-type {\n        vertical-align: middle;\n    }\n\n    .dataframe tbody tr th {\n        vertical-align: top;\n    }\n\n    .dataframe thead th {\n        text-align: right;\n    }\n</style>\n<table border=\"1\" class=\"dataframe\">\n  <thead>\n    <tr style=\"text-align: right;\">\n      <th></th>\n      <th>Unnamed: 0</th>\n      <th>Date</th>\n      <th>Load Type</th>\n      <th>Load Weight</th>\n      <th>Dropoff Site</th>\n      <th>Route Type</th>\n      <th>Route Number</th>\n      <th>Time</th>\n      <th>tavg</th>\n      <th>tmin</th>\n      <th>tmax</th>\n      <th>prcp</th>\n      <th>snow</th>\n      <th>wdir</th>\n      <th>wspd</th>\n      <th>wpgt</th>\n      <th>pres</th>\n      <th>tsun</th>\n    </tr>\n  </thead>\n  <tbody>\n    <tr>\n      <th>0</th>\n      <td>0</td>\n      <td>2013-12-29</td>\n      <td>['YARD TRIMMING', 'YARD TRIMMING', 'YARD TRIMM...</td>\n      <td>5864992.0</td>\n      <td>['HORNSBY BEND', 'HORNSBY BEND', 'HORNSBY BEND...</td>\n      <td>['YARD TRIMMINGS', 'YARD TRIMMINGS', 'YARD TRI...</td>\n      <td>['YF01', 'YH01', 'YW13', 'DH1', 'YH06', 'RFAU2...</td>\n      <td>[datetime.time(12, 10), datetime.time(16, 38),...</td>\n      <td>8.9</td>\n      <td>-0.5</td>\n      <td>17.8</td>\n      <td>0.0</td>\n      <td>0.0</td>\n      <td>NaN</td>\n      <td>4.7</td>\n      <td>NaN</td>\n      <td>1026.9</td>\n      <td>0.0</td>\n    </tr>\n    <tr>\n      <th>1</th>\n      <td>1</td>\n      <td>2014-01-05</td>\n      <td>['GARBAGE COLLECTIONS', 'GARBAGE COLLECTIONS',...</td>\n      <td>9650424.0</td>\n      <td>['TDS LANDFILL', 'TDS LANDFILL', 'TDS LANDFILL...</td>\n      <td>['GARBAGE COLLECTION', 'GARBAGE COLLECTION', '...</td>\n      <td>['PAW72', 'PAH71', 'PH34', 'BU06', 'RHBU13', '...</td>\n      <td>[datetime.time(14, 12), datetime.time(12, 38),...</td>\n      <td>8.0</td>\n      <td>-2.1</td>\n      <td>21.7</td>\n      <td>0.0</td>\n      <td>0.0</td>\n      <td>NaN</td>\n      <td>8.7</td>\n      <td>NaN</td>\n      <td>1023.5</td>\n      <td>0.0</td>\n    </tr>\n    <tr>\n      <th>2</th>\n      <td>2</td>\n      <td>2014-01-12</td>\n      <td>['GARBAGE COLLECTIONS', 'GARBAGE COLLECTIONS',...</td>\n      <td>9311385.0</td>\n      <td>['TDS LANDFILL', 'TDS LANDFILL', 'TDS - MRF', ...</td>\n      <td>['GARBAGE COLLECTION', 'GARBAGE COLLECTION', '...</td>\n      <td>['PAW64', 'PH21', 'RMAU21', 'DA02', 'PAH09', '...</td>\n      <td>[datetime.time(18, 35), datetime.time(13, 42),...</td>\n      <td>10.5</td>\n      <td>-5.5</td>\n      <td>23.9</td>\n      <td>6.9</td>\n      <td>0.0</td>\n      <td>NaN</td>\n      <td>6.6</td>\n      <td>NaN</td>\n      <td>1027.3</td>\n      <td>0.0</td>\n    </tr>\n    <tr>\n      <th>3</th>\n      <td>3</td>\n      <td>2014-01-19</td>\n      <td>['BULK', 'BULK', 'GARBAGE COLLECTIONS', 'GARBA...</td>\n      <td>8808898.0</td>\n      <td>['TDS LANDFILL', 'TDS LANDFILL', 'TDS LANDFILL...</td>\n      <td>['BULK', 'BULK', 'GARBAGE COLLECTION', 'GARBAG...</td>\n      <td>['BU22', 'BU22', 'PT10', 'PAM85', 'DF1', 'PH32...</td>\n      <td>[datetime.time(15, 46), datetime.time(14, 1), ...</td>\n      <td>13.0</td>\n      <td>2.8</td>\n      <td>24.4</td>\n      <td>0.0</td>\n      <td>0.0</td>\n      <td>NaN</td>\n      <td>7.0</td>\n      <td>NaN</td>\n      <td>1022.2</td>\n      <td>0.0</td>\n    </tr>\n    <tr>\n      <th>4</th>\n      <td>4</td>\n      <td>2014-01-26</td>\n      <td>['TIRES', 'YARD TRIMMING', 'GARBAGE COLLECTION...</td>\n      <td>8335148.0</td>\n      <td>['MRF', 'HORNSBY BEND', 'TDS LANDFILL', 'TDS -...</td>\n      <td>['BULK', 'YARD TRIMMINGS', 'GARBAGE COLLECTION...</td>\n      <td>['BU30', 'YW12', 'PAM70', 'PW22', 'PAH81', 'PM...</td>\n      <td>[datetime.time(0, 0), datetime.time(12, 50), d...</td>\n      <td>9.9</td>\n      <td>-3.2</td>\n      <td>27.8</td>\n      <td>2.8</td>\n      <td>0.0</td>\n      <td>NaN</td>\n      <td>7.7</td>\n      <td>NaN</td>\n      <td>1023.2</td>\n      <td>0.0</td>\n    </tr>\n  </tbody>\n</table>\n</div>",
      "text/plain": "   Unnamed: 0        Date                                          Load Type  \\\n0           0  2013-12-29  ['YARD TRIMMING', 'YARD TRIMMING', 'YARD TRIMM...   \n1           1  2014-01-05  ['GARBAGE COLLECTIONS', 'GARBAGE COLLECTIONS',...   \n2           2  2014-01-12  ['GARBAGE COLLECTIONS', 'GARBAGE COLLECTIONS',...   \n3           3  2014-01-19  ['BULK', 'BULK', 'GARBAGE COLLECTIONS', 'GARBA...   \n4           4  2014-01-26  ['TIRES', 'YARD TRIMMING', 'GARBAGE COLLECTION...   \n\n   Load Weight                                       Dropoff Site  \\\n0    5864992.0  ['HORNSBY BEND', 'HORNSBY BEND', 'HORNSBY BEND...   \n1    9650424.0  ['TDS LANDFILL', 'TDS LANDFILL', 'TDS LANDFILL...   \n2    9311385.0  ['TDS LANDFILL', 'TDS LANDFILL', 'TDS - MRF', ...   \n3    8808898.0  ['TDS LANDFILL', 'TDS LANDFILL', 'TDS LANDFILL...   \n4    8335148.0  ['MRF', 'HORNSBY BEND', 'TDS LANDFILL', 'TDS -...   \n\n                                          Route Type  \\\n0  ['YARD TRIMMINGS', 'YARD TRIMMINGS', 'YARD TRI...   \n1  ['GARBAGE COLLECTION', 'GARBAGE COLLECTION', '...   \n2  ['GARBAGE COLLECTION', 'GARBAGE COLLECTION', '...   \n3  ['BULK', 'BULK', 'GARBAGE COLLECTION', 'GARBAG...   \n4  ['BULK', 'YARD TRIMMINGS', 'GARBAGE COLLECTION...   \n\n                                        Route Number  \\\n0  ['YF01', 'YH01', 'YW13', 'DH1', 'YH06', 'RFAU2...   \n1  ['PAW72', 'PAH71', 'PH34', 'BU06', 'RHBU13', '...   \n2  ['PAW64', 'PH21', 'RMAU21', 'DA02', 'PAH09', '...   \n3  ['BU22', 'BU22', 'PT10', 'PAM85', 'DF1', 'PH32...   \n4  ['BU30', 'YW12', 'PAM70', 'PW22', 'PAH81', 'PM...   \n\n                                                Time  tavg  tmin  tmax  prcp  \\\n0  [datetime.time(12, 10), datetime.time(16, 38),...   8.9  -0.5  17.8   0.0   \n1  [datetime.time(14, 12), datetime.time(12, 38),...   8.0  -2.1  21.7   0.0   \n2  [datetime.time(18, 35), datetime.time(13, 42),...  10.5  -5.5  23.9   6.9   \n3  [datetime.time(15, 46), datetime.time(14, 1), ...  13.0   2.8  24.4   0.0   \n4  [datetime.time(0, 0), datetime.time(12, 50), d...   9.9  -3.2  27.8   2.8   \n\n   snow  wdir  wspd  wpgt    pres  tsun  \n0   0.0   NaN   4.7   NaN  1026.9   0.0  \n1   0.0   NaN   8.7   NaN  1023.5   0.0  \n2   0.0   NaN   6.6   NaN  1027.3   0.0  \n3   0.0   NaN   7.0   NaN  1022.2   0.0  \n4   0.0   NaN   7.7   NaN  1023.2   0.0  "
     },
     "execution_count": 63,
     "metadata": {},
     "output_type": "execute_result"
    }
   ],
   "execution_count": null
  },
  {
   "cell_type": "code",
   "metadata": {
    "cell_id": "00010-8569d904-7453-4df4-a0ab-dd5754143d35",
    "deepnote_cell_type": "code"
   },
   "source": "df.to_csv('AllData.csv')",
   "outputs": [],
   "execution_count": null
  },
  {
   "cell_type": "code",
   "metadata": {
    "cell_id": "00011-ed8e5e05-2fe9-4e44-b7b3-16c2177891e3",
    "deepnote_cell_type": "code"
   },
   "source": "",
   "execution_count": null,
   "outputs": []
  },
  {
   "cell_type": "markdown",
   "source": "<a style='text-decoration:none;line-height:16px;display:flex;color:#5B5B62;padding:10px;justify-content:end;' href='https://deepnote.com?utm_source=created-in-deepnote-cell&projectId=1a1cabe9-69f7-4a67-be18-e232e1feb2b6' target=\"_blank\">\n<img alt='Created in deepnote.com' style='display:inline;max-height:16px;margin:0px;margin-right:7.5px;' src='data:image/svg+xml;base64,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' > </img>\nCreated in <span style='font-weight:600;margin-left:4px;'>Deepnote</span></a>",
   "metadata": {
    "tags": [],
    "created_in_deepnote_cell": true,
    "deepnote_cell_type": "markdown"
   }
  }
 ],
 "nbformat": 4,
 "nbformat_minor": 5,
 "metadata": {
  "kernelspec": {
   "display_name": "Python 3 (ipykernel)",
   "language": "python",
   "name": "python3"
  },
  "language_info": {
   "codemirror_mode": {
    "name": "ipython",
    "version": 3
   },
   "file_extension": ".py",
   "mimetype": "text/x-python",
   "name": "python",
   "nbconvert_exporter": "python",
   "pygments_lexer": "ipython3",
   "version": "3.9.7"
  },
  "deepnote_notebook_id": "27260a05-76b2-455d-8703-2ee3660e2fbc",
  "deepnote": {},
  "deepnote_execution_queue": []
 }
}