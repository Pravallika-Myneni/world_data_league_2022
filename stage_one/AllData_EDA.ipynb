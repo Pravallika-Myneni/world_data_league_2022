{
 "cells": [
  {
   "cell_type": "code",
   "metadata": {
    "cell_id": "ac25aa7d-3e06-41a1-9a24-5e648bc83236",
    "deepnote_cell_type": "code",
    "deepnote_cell_height": 832.5625
   },
   "source": "!pip install pandas_profiling",
   "outputs": [
    {
     "name": "stdout",
     "output_type": "stream",
     "text": "Collecting pandas_profiling\n  Downloading pandas_profiling-3.1.0-py2.py3-none-any.whl (261 kB)\nRequirement already satisfied: scipy>=1.4.1 in c:\\users\\happysoul\\anaconda3\\lib\\site-packages (from pandas_profiling) (1.7.1)\nCollecting markupsafe~=2.0.1\n  Downloading MarkupSafe-2.0.1-cp39-cp39-win_amd64.whl (14 kB)\nCollecting visions[type_image_path]==0.7.4\n  Downloading visions-0.7.4-py3-none-any.whl (102 kB)\nCollecting tangled-up-in-unicode==0.1.0\n  Downloading tangled_up_in_unicode-0.1.0-py3-none-any.whl (3.1 MB)\nCollecting htmlmin>=0.1.12\n  Downloading htmlmin-0.1.12.tar.gz (19 kB)\nRequirement already satisfied: jinja2>=2.11.1 in c:\\users\\happysoul\\anaconda3\\lib\\site-packages (from pandas_profiling) (2.11.3)\nCollecting joblib~=1.0.1\n  Downloading joblib-1.0.1-py3-none-any.whl (303 kB)\nRequirement already satisfied: matplotlib>=3.2.0 in c:\\users\\happysoul\\anaconda3\\lib\\site-packages (from pandas_profiling) (3.4.3)\nCollecting phik>=0.11.1\n  Downloading phik-0.12.2-cp39-cp39-win_amd64.whl (685 kB)\nRequirement already satisfied: numpy>=1.16.0 in c:\\users\\happysoul\\anaconda3\\lib\\site-packages (from pandas_profiling) (1.20.3)\nRequirement already satisfied: requests>=2.24.0 in c:\\users\\happysoul\\anaconda3\\lib\\site-packages (from pandas_profiling) (2.26.0)\nRequirement already satisfied: tqdm>=4.48.2 in c:\\users\\happysoul\\anaconda3\\lib\\site-packages (from pandas_profiling) (4.62.3)\nCollecting pydantic>=1.8.1\n  Downloading pydantic-1.9.0-cp39-cp39-win_amd64.whl (2.1 MB)\nRequirement already satisfied: PyYAML>=5.0.0 in c:\\users\\happysoul\\anaconda3\\lib\\site-packages (from pandas_profiling) (6.0)\nRequirement already satisfied: pandas!=1.0.0,!=1.0.1,!=1.0.2,!=1.1.0,>=0.25.3 in c:\\users\\happysoul\\anaconda3\\lib\\site-packages (from pandas_profiling) (1.3.4)\nCollecting missingno>=0.4.2\n  Downloading missingno-0.5.1-py3-none-any.whl (8.7 kB)\nRequirement already satisfied: seaborn>=0.10.1 in c:\\users\\happysoul\\anaconda3\\lib\\site-packages (from pandas_profiling) (0.11.2)\nCollecting multimethod>=1.4\n  Downloading multimethod-1.7-py3-none-any.whl (9.5 kB)\nRequirement already satisfied: networkx>=2.4 in c:\\users\\happysoul\\anaconda3\\lib\\site-packages (from visions[type_image_path]==0.7.4->pandas_profiling) (2.6.3)\nRequirement already satisfied: attrs>=19.3.0 in c:\\users\\happysoul\\anaconda3\\lib\\site-packages (from visions[type_image_path]==0.7.4->pandas_profiling) (21.2.0)\nCollecting imagehash\n  Downloading ImageHash-4.2.1.tar.gz (812 kB)\nRequirement already satisfied: Pillow in c:\\users\\happysoul\\anaconda3\\lib\\site-packages (from visions[type_image_path]==0.7.4->pandas_profiling) (8.4.0)\nRequirement already satisfied: cycler>=0.10 in c:\\users\\happysoul\\anaconda3\\lib\\site-packages (from matplotlib>=3.2.0->pandas_profiling) (0.10.0)\nRequirement already satisfied: kiwisolver>=1.0.1 in c:\\users\\happysoul\\anaconda3\\lib\\site-packages (from matplotlib>=3.2.0->pandas_profiling) (1.3.1)\nRequirement already satisfied: pyparsing>=2.2.1 in c:\\users\\happysoul\\anaconda3\\lib\\site-packages (from matplotlib>=3.2.0->pandas_profiling) (3.0.4)\nRequirement already satisfied: python-dateutil>=2.7 in c:\\users\\happysoul\\anaconda3\\lib\\site-packages (from matplotlib>=3.2.0->pandas_profiling) (2.8.2)\nRequirement already satisfied: six in c:\\users\\happysoul\\anaconda3\\lib\\site-packages (from cycler>=0.10->matplotlib>=3.2.0->pandas_profiling) (1.16.0)\nRequirement already satisfied: pytz>=2017.3 in c:\\users\\happysoul\\anaconda3\\lib\\site-packages (from pandas!=1.0.0,!=1.0.1,!=1.0.2,!=1.1.0,>=0.25.3->pandas_profiling) (2021.3)\nRequirement already satisfied: typing-extensions>=3.7.4.3 in c:\\users\\happysoul\\anaconda3\\lib\\site-packages (from pydantic>=1.8.1->pandas_profiling) (3.10.0.2)\nRequirement already satisfied: idna<4,>=2.5 in c:\\users\\happysoul\\anaconda3\\lib\\site-packages (from requests>=2.24.0->pandas_profiling) (3.2)\nRequirement already satisfied: certifi>=2017.4.17 in c:\\users\\happysoul\\anaconda3\\lib\\site-packages (from requests>=2.24.0->pandas_profiling) (2021.10.8)\nRequirement already satisfied: charset-normalizer~=2.0.0 in c:\\users\\happysoul\\anaconda3\\lib\\site-packages (from requests>=2.24.0->pandas_profiling) (2.0.4)\nRequirement already satisfied: urllib3<1.27,>=1.21.1 in c:\\users\\happysoul\\anaconda3\\lib\\site-packages (from requests>=2.24.0->pandas_profiling) (1.26.7)\nRequirement already satisfied: colorama in c:\\users\\happysoul\\anaconda3\\lib\\site-packages (from tqdm>=4.48.2->pandas_profiling) (0.4.4)\nRequirement already satisfied: PyWavelets in c:\\users\\happysoul\\anaconda3\\lib\\site-packages (from imagehash->visions[type_image_path]==0.7.4->pandas_profiling) (1.1.1)\nBuilding wheels for collected packages: htmlmin, imagehash\n  Building wheel for htmlmin (setup.py): started\n  Building wheel for htmlmin (setup.py): finished with status 'done'\n  Created wheel for htmlmin: filename=htmlmin-0.1.12-py3-none-any.whl size=27098 sha256=ab41c8c683166f420301e7f01502c2425a5ea689c488d308d9a1ac1972e20942\n  Stored in directory: c:\\users\\happysoul\\appdata\\local\\pip\\cache\\wheels\\1d\\05\\04\\c6d7d3b66539d9e659ac6dfe81e2d0fd4c1a8316cc5a403300\n  Building wheel for imagehash (setup.py): started\n  Building wheel for imagehash (setup.py): finished with status 'done'\n  Created wheel for imagehash: filename=ImageHash-4.2.1-py2.py3-none-any.whl size=295207 sha256=ccb072811fdd910523e394367f01c27a60302b2b3bdf5ac7e5fc2cae70348f70\n  Stored in directory: c:\\users\\happysoul\\appdata\\local\\pip\\cache\\wheels\\51\\f9\\a5\\740af2fdb0ad1edf79aabdc41531be0b6f0b2e2be684c388cf\nSuccessfully built htmlmin imagehash\nInstalling collected packages: tangled-up-in-unicode, multimethod, visions, markupsafe, joblib, imagehash, pydantic, phik, missingno, htmlmin, pandas-profiling\n  Attempting uninstall: markupsafe\n    Found existing installation: MarkupSafe 1.1.1\n    Uninstalling MarkupSafe-1.1.1:\n      Successfully uninstalled MarkupSafe-1.1.1\n"
    },
    {
     "name": "stderr",
     "output_type": "stream",
     "text": "ERROR: Could not install packages due to an OSError: [WinError 5] Access is denied: 'C:\\\\Users\\\\HappySoul\\\\anaconda3\\\\Lib\\\\site-packages\\\\~arkupsafe\\\\_speedups.cp39-win_amd64.pyd'\nConsider using the `--user` option or check the permissions.\n\n"
    }
   ],
   "execution_count": null
  },
  {
   "cell_type": "code",
   "metadata": {
    "cell_id": "00001-2dc99270-4f03-448c-b540-a19bc99b79da",
    "deepnote_cell_type": "code",
    "deepnote_cell_height": 282
   },
   "source": "import pandas as pd\nimport math\nimport requests\nimport numpy as np\nimport json\n\n\n# datetime\nfrom datetime import datetime\n\n# visualization\nimport seaborn as sns\nimport matplotlib.pyplot as plt",
   "outputs": [],
   "execution_count": null
  },
  {
   "cell_type": "code",
   "metadata": {
    "cell_id": "00002-d115f71d-9d8a-4c70-ac16-f8c7a5aa372d",
    "deepnote_cell_type": "code",
    "deepnote_cell_height": 374.1875,
    "deepnote_output_heights": [
     null,
     177
    ]
   },
   "source": "df = pd.read_csv('AllData.csv',index_col=False)\ndf = df.loc[:, ~df.columns.str.match('Unnamed')]\nprint(df.shape)\ndf.head()",
   "outputs": [
    {
     "name": "stdout",
     "output_type": "stream",
     "text": "(396, 17)\n"
    },
    {
     "data": {
      "text/html": "<div>\n<style scoped>\n    .dataframe tbody tr th:only-of-type {\n        vertical-align: middle;\n    }\n\n    .dataframe tbody tr th {\n        vertical-align: top;\n    }\n\n    .dataframe thead th {\n        text-align: right;\n    }\n</style>\n<table border=\"1\" class=\"dataframe\">\n  <thead>\n    <tr style=\"text-align: right;\">\n      <th></th>\n      <th>Date</th>\n      <th>Load Type</th>\n      <th>Load Weight</th>\n      <th>Dropoff Site</th>\n      <th>Route Type</th>\n      <th>Route Number</th>\n      <th>Time</th>\n      <th>tavg</th>\n      <th>tmin</th>\n      <th>tmax</th>\n      <th>prcp</th>\n      <th>snow</th>\n      <th>wdir</th>\n      <th>wspd</th>\n      <th>wpgt</th>\n      <th>pres</th>\n      <th>tsun</th>\n    </tr>\n  </thead>\n  <tbody>\n    <tr>\n      <th>0</th>\n      <td>2013-12-29</td>\n      <td>['YARD TRIMMING', 'YARD TRIMMING', 'YARD TRIMM...</td>\n      <td>5864992.0</td>\n      <td>['HORNSBY BEND', 'HORNSBY BEND', 'HORNSBY BEND...</td>\n      <td>['YARD TRIMMINGS', 'YARD TRIMMINGS', 'YARD TRI...</td>\n      <td>['YF01', 'YH01', 'YW13', 'DH1', 'YH06', 'RFAU2...</td>\n      <td>[datetime.time(12, 10), datetime.time(16, 38),...</td>\n      <td>8.9</td>\n      <td>-0.5</td>\n      <td>17.8</td>\n      <td>0.0</td>\n      <td>0.0</td>\n      <td>NaN</td>\n      <td>4.7</td>\n      <td>NaN</td>\n      <td>1026.9</td>\n      <td>0.0</td>\n    </tr>\n    <tr>\n      <th>1</th>\n      <td>2014-01-05</td>\n      <td>['GARBAGE COLLECTIONS', 'GARBAGE COLLECTIONS',...</td>\n      <td>9650424.0</td>\n      <td>['TDS LANDFILL', 'TDS LANDFILL', 'TDS LANDFILL...</td>\n      <td>['GARBAGE COLLECTION', 'GARBAGE COLLECTION', '...</td>\n      <td>['PAW72', 'PAH71', 'PH34', 'BU06', 'RHBU13', '...</td>\n      <td>[datetime.time(14, 12), datetime.time(12, 38),...</td>\n      <td>8.0</td>\n      <td>-2.1</td>\n      <td>21.7</td>\n      <td>0.0</td>\n      <td>0.0</td>\n      <td>NaN</td>\n      <td>8.7</td>\n      <td>NaN</td>\n      <td>1023.5</td>\n      <td>0.0</td>\n    </tr>\n    <tr>\n      <th>2</th>\n      <td>2014-01-12</td>\n      <td>['GARBAGE COLLECTIONS', 'GARBAGE COLLECTIONS',...</td>\n      <td>9311385.0</td>\n      <td>['TDS LANDFILL', 'TDS LANDFILL', 'TDS - MRF', ...</td>\n      <td>['GARBAGE COLLECTION', 'GARBAGE COLLECTION', '...</td>\n      <td>['PAW64', 'PH21', 'RMAU21', 'DA02', 'PAH09', '...</td>\n      <td>[datetime.time(18, 35), datetime.time(13, 42),...</td>\n      <td>10.5</td>\n      <td>-5.5</td>\n      <td>23.9</td>\n      <td>6.9</td>\n      <td>0.0</td>\n      <td>NaN</td>\n      <td>6.6</td>\n      <td>NaN</td>\n      <td>1027.3</td>\n      <td>0.0</td>\n    </tr>\n    <tr>\n      <th>3</th>\n      <td>2014-01-19</td>\n      <td>['BULK', 'BULK', 'GARBAGE COLLECTIONS', 'GARBA...</td>\n      <td>8808898.0</td>\n      <td>['TDS LANDFILL', 'TDS LANDFILL', 'TDS LANDFILL...</td>\n      <td>['BULK', 'BULK', 'GARBAGE COLLECTION', 'GARBAG...</td>\n      <td>['BU22', 'BU22', 'PT10', 'PAM85', 'DF1', 'PH32...</td>\n      <td>[datetime.time(15, 46), datetime.time(14, 1), ...</td>\n      <td>13.0</td>\n      <td>2.8</td>\n      <td>24.4</td>\n      <td>0.0</td>\n      <td>0.0</td>\n      <td>NaN</td>\n      <td>7.0</td>\n      <td>NaN</td>\n      <td>1022.2</td>\n      <td>0.0</td>\n    </tr>\n    <tr>\n      <th>4</th>\n      <td>2014-01-26</td>\n      <td>['TIRES', 'YARD TRIMMING', 'GARBAGE COLLECTION...</td>\n      <td>8335148.0</td>\n      <td>['MRF', 'HORNSBY BEND', 'TDS LANDFILL', 'TDS -...</td>\n      <td>['BULK', 'YARD TRIMMINGS', 'GARBAGE COLLECTION...</td>\n      <td>['BU30', 'YW12', 'PAM70', 'PW22', 'PAH81', 'PM...</td>\n      <td>[datetime.time(0, 0), datetime.time(12, 50), d...</td>\n      <td>9.9</td>\n      <td>-3.2</td>\n      <td>27.8</td>\n      <td>2.8</td>\n      <td>0.0</td>\n      <td>NaN</td>\n      <td>7.7</td>\n      <td>NaN</td>\n      <td>1023.2</td>\n      <td>0.0</td>\n    </tr>\n  </tbody>\n</table>\n</div>",
      "text/plain": "         Date                                          Load Type  Load Weight  \\\n0  2013-12-29  ['YARD TRIMMING', 'YARD TRIMMING', 'YARD TRIMM...    5864992.0   \n1  2014-01-05  ['GARBAGE COLLECTIONS', 'GARBAGE COLLECTIONS',...    9650424.0   \n2  2014-01-12  ['GARBAGE COLLECTIONS', 'GARBAGE COLLECTIONS',...    9311385.0   \n3  2014-01-19  ['BULK', 'BULK', 'GARBAGE COLLECTIONS', 'GARBA...    8808898.0   \n4  2014-01-26  ['TIRES', 'YARD TRIMMING', 'GARBAGE COLLECTION...    8335148.0   \n\n                                        Dropoff Site  \\\n0  ['HORNSBY BEND', 'HORNSBY BEND', 'HORNSBY BEND...   \n1  ['TDS LANDFILL', 'TDS LANDFILL', 'TDS LANDFILL...   \n2  ['TDS LANDFILL', 'TDS LANDFILL', 'TDS - MRF', ...   \n3  ['TDS LANDFILL', 'TDS LANDFILL', 'TDS LANDFILL...   \n4  ['MRF', 'HORNSBY BEND', 'TDS LANDFILL', 'TDS -...   \n\n                                          Route Type  \\\n0  ['YARD TRIMMINGS', 'YARD TRIMMINGS', 'YARD TRI...   \n1  ['GARBAGE COLLECTION', 'GARBAGE COLLECTION', '...   \n2  ['GARBAGE COLLECTION', 'GARBAGE COLLECTION', '...   \n3  ['BULK', 'BULK', 'GARBAGE COLLECTION', 'GARBAG...   \n4  ['BULK', 'YARD TRIMMINGS', 'GARBAGE COLLECTION...   \n\n                                        Route Number  \\\n0  ['YF01', 'YH01', 'YW13', 'DH1', 'YH06', 'RFAU2...   \n1  ['PAW72', 'PAH71', 'PH34', 'BU06', 'RHBU13', '...   \n2  ['PAW64', 'PH21', 'RMAU21', 'DA02', 'PAH09', '...   \n3  ['BU22', 'BU22', 'PT10', 'PAM85', 'DF1', 'PH32...   \n4  ['BU30', 'YW12', 'PAM70', 'PW22', 'PAH81', 'PM...   \n\n                                                Time  tavg  tmin  tmax  prcp  \\\n0  [datetime.time(12, 10), datetime.time(16, 38),...   8.9  -0.5  17.8   0.0   \n1  [datetime.time(14, 12), datetime.time(12, 38),...   8.0  -2.1  21.7   0.0   \n2  [datetime.time(18, 35), datetime.time(13, 42),...  10.5  -5.5  23.9   6.9   \n3  [datetime.time(15, 46), datetime.time(14, 1), ...  13.0   2.8  24.4   0.0   \n4  [datetime.time(0, 0), datetime.time(12, 50), d...   9.9  -3.2  27.8   2.8   \n\n   snow  wdir  wspd  wpgt    pres  tsun  \n0   0.0   NaN   4.7   NaN  1026.9   0.0  \n1   0.0   NaN   8.7   NaN  1023.5   0.0  \n2   0.0   NaN   6.6   NaN  1027.3   0.0  \n3   0.0   NaN   7.0   NaN  1022.2   0.0  \n4   0.0   NaN   7.7   NaN  1023.2   0.0  "
     },
     "execution_count": 23,
     "metadata": {},
     "output_type": "execute_result"
    }
   ],
   "execution_count": null
  },
  {
   "cell_type": "code",
   "metadata": {
    "cell_id": "00003-dec33506-564a-4c9c-9d31-abdda81572d4",
    "deepnote_cell_type": "code",
    "deepnote_cell_height": 225.1875
   },
   "source": "from pandas_profiling import ProfileReport\n#report=ProfileReport(df)\n#report",
   "outputs": [
    {
     "ename": "ModuleNotFoundError",
     "evalue": "No module named 'pandas_profiling'",
     "output_type": "error",
     "traceback": [
      "\u001b[1;31m---------------------------------------------------------------------------\u001b[0m",
      "\u001b[1;31mModuleNotFoundError\u001b[0m                       Traceback (most recent call last)",
      "\u001b[1;32mC:\\Users\\HAPPYS~1\\AppData\\Local\\Temp/ipykernel_31200/3537584859.py\u001b[0m in \u001b[0;36m<module>\u001b[1;34m\u001b[0m\n\u001b[1;32m----> 1\u001b[1;33m \u001b[1;32mfrom\u001b[0m \u001b[0mpandas_profiling\u001b[0m \u001b[1;32mimport\u001b[0m \u001b[0mProfileReport\u001b[0m\u001b[1;33m\u001b[0m\u001b[1;33m\u001b[0m\u001b[0m\n\u001b[0m\u001b[0;32m      2\u001b[0m \u001b[1;31m#report=ProfileReport(df)\u001b[0m\u001b[1;33m\u001b[0m\u001b[1;33m\u001b[0m\u001b[0m\n\u001b[0;32m      3\u001b[0m \u001b[1;31m#report\u001b[0m\u001b[1;33m\u001b[0m\u001b[1;33m\u001b[0m\u001b[0m\n",
      "\u001b[1;31mModuleNotFoundError\u001b[0m: No module named 'pandas_profiling'"
     ]
    }
   ],
   "execution_count": null
  },
  {
   "cell_type": "code",
   "metadata": {
    "cell_id": "00004-1be036f5-b3a8-4b18-b708-b2d9cc13284d",
    "deepnote_cell_type": "code",
    "deepnote_cell_height": 224.5625,
    "deepnote_output_heights": [
     null,
     21.1875
    ]
   },
   "source": "categorical_cols =[c for c in df.columns if (1<df[c].nunique())&(df[c].dtype !=np.number)&(df[c].dtype!= int)]\ncategorical_cols.remove('Date')\ncategorical_cols",
   "outputs": [
    {
     "name": "stderr",
     "output_type": "stream",
     "text": "C:\\Users\\HAPPYS~1\\AppData\\Local\\Temp/ipykernel_31200/815223697.py:1: DeprecationWarning: Converting `np.inexact` or `np.floating` to a dtype is deprecated. The current result is `float64` which is not strictly correct.\n  categorical_cols =[c for c in df.columns if (1<df[c].nunique())&(df[c].dtype !=np.number)&(df[c].dtype!= int)]\n"
    },
    {
     "data": {
      "text/plain": "['Load Type', 'Dropoff Site', 'Route Type', 'Route Number', 'Time']"
     },
     "execution_count": 38,
     "metadata": {},
     "output_type": "execute_result"
    }
   ],
   "execution_count": null
  },
  {
   "cell_type": "code",
   "metadata": {
    "cell_id": "00005-3167e7fd-cc97-4c52-a229-45d35600aa98",
    "deepnote_cell_type": "code",
    "deepnote_cell_height": 84
   },
   "source": "for col in categorical_cols:\n    df[col]=df[col].astype('category')",
   "outputs": [],
   "execution_count": null
  },
  {
   "cell_type": "code",
   "metadata": {
    "cell_id": "00006-9da18d3b-c1d8-48e4-ac9b-a704973215b1",
    "deepnote_cell_type": "code",
    "deepnote_cell_height": 174.5625,
    "deepnote_output_heights": [
     59.5625
    ]
   },
   "source": "binary_col = df.select_dtypes('category').columns\nbinary_col",
   "outputs": [
    {
     "data": {
      "text/plain": "Index(['Date', 'Load Type', 'Dropoff Site', 'Route Type', 'Route Number',\n       'Time'],\n      dtype='object')"
     },
     "execution_count": 42,
     "metadata": {},
     "output_type": "execute_result"
    }
   ],
   "execution_count": null
  },
  {
   "cell_type": "code",
   "metadata": {
    "cell_id": "00007-2afb4e4f-92c4-4f82-a818-08fcf4f6e3b1",
    "deepnote_cell_type": "code",
    "deepnote_cell_height": 174.5625,
    "deepnote_output_heights": [
     59.5625
    ]
   },
   "source": "num_cols=df.select_dtypes('number').columns\nnum_cols",
   "outputs": [
    {
     "data": {
      "text/plain": "Index(['Load Weight', 'tavg', 'tmin', 'tmax', 'prcp', 'snow', 'wdir', 'wspd',\n       'wpgt', 'pres', 'tsun'],\n      dtype='object')"
     },
     "execution_count": 43,
     "metadata": {},
     "output_type": "execute_result"
    }
   ],
   "execution_count": null
  },
  {
   "cell_type": "code",
   "metadata": {
    "cell_id": "00008-2495e541-4e60-4a6d-949d-f93c5f54616c",
    "deepnote_cell_type": "code",
    "deepnote_cell_height": 427.1875,
    "deepnote_output_heights": [
     21.1875,
     278
    ]
   },
   "source": "sns.distplot(df['Load Weight'])",
   "outputs": [
    {
     "data": {
      "text/plain": "<AxesSubplot:xlabel='Load Weight', ylabel='Density'>"
     },
     "execution_count": 44,
     "metadata": {},
     "output_type": "execute_result"
    },
    {
     "data": {
      "image/png": "[encoded data removed]",
      "text/plain": "<Figure size 432x288 with 1 Axes>"
     },
     "metadata": {
      "image/png": {
       "width": 378,
       "height": 276
      }
     },
     "output_type": "display_data"
    }
   ],
   "execution_count": null
  },
  {
   "cell_type": "code",
   "metadata": {
    "cell_id": "00009-6b4f5347-ab7b-4cae-a695-ad8c04771d5f",
    "deepnote_cell_type": "code",
    "deepnote_cell_height": 192
   },
   "source": "plt.figure(figsize=(15,5))\nsns.set(style = 'darkgrid')\ni=1\nfor col in categorical_cols:\n    plt.subplot(5,1,i)\n    sns.boxplot(data=df,x=col,y='Load Weight')\n    i=i+1\nplt.show()",
   "execution_count": null,
   "outputs": []
  },
  {
   "cell_type": "code",
   "metadata": {
    "cell_id": "00010-e669a041-3401-4492-9ef4-4dd684883d15",
    "deepnote_cell_type": "code",
    "deepnote_cell_height": 156
   },
   "source": "\nfor col in num_cols:\n    plt.figure(figsize=(15,2))\n    sns.distplot(df[col],kde=True)\n    plt.title(col+\"distribution\")\n    plt.show()",
   "execution_count": null,
   "outputs": []
  },
  {
   "cell_type": "code",
   "metadata": {
    "cell_id": "00011-80dc85ac-b0da-4b61-9cfe-b03a8d93a990",
    "deepnote_cell_type": "code",
    "deepnote_cell_height": 156
   },
   "source": "#correlation analysis\n\ndata_corr = df.corr()\ndf_upper = data_corr.where(np.triu(np.ones(data_corr.shape,dtype=np.int),k=1).astype(np.bool))\ncorr80 = [col for col in df_upper.columns if any(df_upper[col])>= 0.9]\ncorr80",
   "execution_count": null,
   "outputs": []
  },
  {
   "cell_type": "code",
   "metadata": {
    "cell_id": "00012-86b0c10a-b6a0-4e8e-b19f-cad3deec06e0",
    "deepnote_cell_type": "code",
    "deepnote_cell_height": 66
   },
   "source": "",
   "execution_count": null,
   "outputs": []
  },
  {
   "cell_type": "markdown",
   "source": "<a style='text-decoration:none;line-height:16px;display:flex;color:#5B5B62;padding:10px;justify-content:end;' href='https://deepnote.com?utm_source=created-in-deepnote-cell&projectId=1a1cabe9-69f7-4a67-be18-e232e1feb2b6' target=\"_blank\">\n<img alt='Created in deepnote.com' style='display:inline;max-height:16px;margin:0px;margin-right:7.5px;' src='data:image/svg+xml;base64,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' > </img>\nCreated in <span style='font-weight:600;margin-left:4px;'>Deepnote</span></a>",
   "metadata": {
    "tags": [],
    "created_in_deepnote_cell": true,
    "deepnote_cell_type": "markdown"
   }
  }
 ],
 "nbformat": 4,
 "nbformat_minor": 5,
 "metadata": {
  "kernelspec": {
   "display_name": "Python 3 (ipykernel)",
   "language": "python",
   "name": "python3"
  },
  "language_info": {
   "codemirror_mode": {
    "name": "ipython",
    "version": 3
   },
   "file_extension": ".py",
   "mimetype": "text/x-python",
   "name": "python",
   "nbconvert_exporter": "python",
   "pygments_lexer": "ipython3",
   "version": "3.9.7"
  },
  "deepnote_notebook_id": "076758e5-33bc-4a46-9d14-71a44907022a",
  "deepnote": {},
  "deepnote_execution_queue": []
 }
}