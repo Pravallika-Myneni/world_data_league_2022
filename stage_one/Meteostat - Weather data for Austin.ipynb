{
 "cells": [
  {
   "cell_type": "markdown",
   "source": "# Weather Data",
   "metadata": {
    "cell_id": "995b146e-c22a-4420-ab48-b01ecbf61a0d",
    "deepnote_cell_type": "markdown",
    "deepnote_cell_height": 82
   }
  },
  {
   "cell_type": "code",
   "metadata": {
    "cell_id": "00001-2ee799a0-f0be-4dcc-8813-3942aeb663cd",
    "deepnote_cell_type": "code",
    "deepnote_cell_height": 84
   },
   "source": "#!pip install meteostat\n#!pip install pyairnow",
   "outputs": [],
   "execution_count": null
  },
  {
   "cell_type": "markdown",
   "source": "Data Structure\nEach hour is represented by a Pandas DataFrame row which provides the weather data recorded at that time. These are the different columns:\n\nColumn\tDescription\tType\nstation\tThe Meteostat ID of the weather station (only if query refers to multiple stations)\tString\ntime\tThe datetime of the observation\tDatetime64\ntemp\tThe air temperature in °C\tFloat64\ndwpt\tThe dew point in °C\tFloat64\nrhum\tThe relative humidity in percent (%)\tFloat64\nprcp\tThe one hour precipitation total in mm\tFloat64\nsnow\tThe snow depth in mm\tFloat64\nwdir\tThe average wind direction in degrees (°)\tFloat64\nwspd\tThe average wind speed in km/h\tFloat64\nwpgt\tThe peak wind gust in km/h\tFloat64\npres\tThe average sea-level air pressure in hPa\tFloat64\ntsun\tThe one hour sunshine total in minutes (m)\tFloat64\ncoco\tThe weather condition code\tFloat64\n",
   "metadata": {
    "cell_id": "00002-9dc37eb7-042e-4648-8c6a-2b5663b44a50",
    "deepnote_cell_type": "markdown",
    "deepnote_cell_height": 155.953125
   }
  },
  {
   "cell_type": "code",
   "metadata": {
    "cell_id": "00003-3dc21c87-9a68-4946-8b5b-98b93493762b",
    "deepnote_cell_type": "code",
    "deepnote_cell_height": 588
   },
   "source": "# Import Meteostat library and dependencies\nfrom datetime import datetime\nimport matplotlib.pyplot as plt\nfrom meteostat import Point, Daily, Stations, Hourly\n\n# Get weather stations ordered by distance to Austin, TX \n#(30.4895484046493\" N, 97.7249632541566\" W) || Latitude of Austin (TX) 30.267153. Longitude of Austin (TX) -97.7430608.\nAus_lat = 30.267153\nAus_long = -97.7430608\n\n# Set time period\nstart = datetime(2005, 1, 1)\nend = datetime(2021, 12, 31, 23, 59)\n\n#Fetch closest station (limit = 1)\nstations = Stations()\nstations = stations.nearby(Aus_lat, Aus_long)\nstations = stations.inventory('daily', (start, end))\nlocation = stations.fetch(1)\n\n# Create Point for Austin, TX\n#location = Point(Aus_lat, Aus_long, 70)\n\n# Get daily data for 2005 to 2021\ndata = Daily(location, start, end)\n#data_h = Hourly(location, start, end) \n\n# Plot line chart including average, minimum and maximum temperature\n#data.plot(y=['tavg', 'tmin', 'tmax'])\n#plt.show()",
   "outputs": [],
   "execution_count": null
  },
  {
   "cell_type": "markdown",
   "source": "The normalize method makes sure that gaps in the time series are filled. necessary before interpolation\n\nAggregate Functions\nMeteostat uses the following aggregate functions:\n\ntemp => mean\ndwpt => mean\nrhum => mean\ntavg => mean\ntmin => min\ntmax => max\nprcp => sum\nsnow => max\nwdir => meteostat.utilities.aggregations.degree_mean\nwspd => mean\nwpgt => max\npres => mean\ntsun => sum\ncoco => max",
   "metadata": {
    "cell_id": "00004-55218bbb-bdb3-4f00-b51e-fdc651ae8395",
    "deepnote_cell_type": "markdown",
    "deepnote_cell_height": 147.5625
   }
  },
  {
   "cell_type": "code",
   "metadata": {
    "cell_id": "00005-78458c1a-1a59-4e0b-800f-4eb5293d48ad",
    "deepnote_cell_type": "code",
    "deepnote_cell_height": 447,
    "deepnote_output_heights": [
     206
    ]
   },
   "source": "data = data.normalize()\ndata = data.interpolate()\ndata_w = data.aggregate('1W') # Weekly aggregation according to above function\ndata_w = data_w.fetch()\n\ndata = data.aggregate('1D')\ndata = data.fetch()\n\ndata.head()",
   "outputs": [
    {
     "data": {
      "text/html": "<div>\n<style scoped>\n    .dataframe tbody tr th:only-of-type {\n        vertical-align: middle;\n    }\n\n    .dataframe tbody tr th {\n        vertical-align: top;\n    }\n\n    .dataframe thead th {\n        text-align: right;\n    }\n</style>\n<table border=\"1\" class=\"dataframe\">\n  <thead>\n    <tr style=\"text-align: right;\">\n      <th></th>\n      <th>tavg</th>\n      <th>tmin</th>\n      <th>tmax</th>\n      <th>prcp</th>\n      <th>snow</th>\n      <th>wdir</th>\n      <th>wspd</th>\n      <th>wpgt</th>\n      <th>pres</th>\n      <th>tsun</th>\n    </tr>\n    <tr>\n      <th>time</th>\n      <th></th>\n      <th></th>\n      <th></th>\n      <th></th>\n      <th></th>\n      <th></th>\n      <th></th>\n      <th></th>\n      <th></th>\n      <th></th>\n    </tr>\n  </thead>\n  <tbody>\n    <tr>\n      <th>2005-01-01</th>\n      <td>21.1</td>\n      <td>17.8</td>\n      <td>23.9</td>\n      <td>0.0</td>\n      <td>0.0</td>\n      <td>NaN</td>\n      <td>11.5</td>\n      <td>NaN</td>\n      <td>1019.3</td>\n      <td>0.0</td>\n    </tr>\n    <tr>\n      <th>2005-01-02</th>\n      <td>20.6</td>\n      <td>18.3</td>\n      <td>22.2</td>\n      <td>8.1</td>\n      <td>0.0</td>\n      <td>NaN</td>\n      <td>11.2</td>\n      <td>NaN</td>\n      <td>1019.7</td>\n      <td>0.0</td>\n    </tr>\n    <tr>\n      <th>2005-01-03</th>\n      <td>22.8</td>\n      <td>20.0</td>\n      <td>25.0</td>\n      <td>1.8</td>\n      <td>0.0</td>\n      <td>NaN</td>\n      <td>13.3</td>\n      <td>NaN</td>\n      <td>1020.2</td>\n      <td>0.0</td>\n    </tr>\n    <tr>\n      <th>2005-01-04</th>\n      <td>22.8</td>\n      <td>19.4</td>\n      <td>25.6</td>\n      <td>0.5</td>\n      <td>0.0</td>\n      <td>NaN</td>\n      <td>15.1</td>\n      <td>NaN</td>\n      <td>1020.6</td>\n      <td>0.0</td>\n    </tr>\n    <tr>\n      <th>2005-01-05</th>\n      <td>12.8</td>\n      <td>3.9</td>\n      <td>21.1</td>\n      <td>2.5</td>\n      <td>0.0</td>\n      <td>NaN</td>\n      <td>14.0</td>\n      <td>NaN</td>\n      <td>1021.1</td>\n      <td>0.0</td>\n    </tr>\n  </tbody>\n</table>\n</div>",
      "text/plain": "            tavg  tmin  tmax  prcp  snow  wdir  wspd  wpgt    pres  tsun\ntime                                                                    \n2005-01-01  21.1  17.8  23.9   0.0   0.0   NaN  11.5   NaN  1019.3   0.0\n2005-01-02  20.6  18.3  22.2   8.1   0.0   NaN  11.2   NaN  1019.7   0.0\n2005-01-03  22.8  20.0  25.0   1.8   0.0   NaN  13.3   NaN  1020.2   0.0\n2005-01-04  22.8  19.4  25.6   0.5   0.0   NaN  15.1   NaN  1020.6   0.0\n2005-01-05  12.8   3.9  21.1   2.5   0.0   NaN  14.0   NaN  1021.1   0.0"
     },
     "execution_count": 46,
     "metadata": {},
     "output_type": "execute_result"
    }
   ],
   "execution_count": null
  },
  {
   "cell_type": "code",
   "metadata": {
    "cell_id": "00006-d08d9db0-0400-4fbc-9bf2-6de5a90d0c79",
    "deepnote_cell_type": "code",
    "deepnote_cell_height": 66
   },
   "source": "",
   "execution_count": null,
   "outputs": []
  },
  {
   "cell_type": "code",
   "metadata": {
    "cell_id": "00007-95dcd9c6-468f-4425-8ecd-bb77b403efe4",
    "deepnote_cell_type": "code",
    "deepnote_cell_height": 150.375
   },
   "source": "print(data.shape)\nprint(data_w.shape)",
   "outputs": [
    {
     "name": "stdout",
     "output_type": "stream",
     "text": "(6209, 10)\n(888, 10)\n"
    }
   ],
   "execution_count": null
  },
  {
   "cell_type": "code",
   "metadata": {
    "cell_id": "00008-3dd12ba8-c7a7-495a-91ec-f1d95c1f29df",
    "deepnote_cell_type": "code",
    "deepnote_cell_height": 84
   },
   "source": "data.to_csv(\"WeatherData_weekly.csv\")\ndata_w.to_csv(\"WeatherData_weekly.csv\")",
   "outputs": [],
   "execution_count": null
  },
  {
   "cell_type": "code",
   "metadata": {
    "cell_id": "00009-c1b539c9-2432-407c-a116-b2e8a7c21c43",
    "deepnote_cell_type": "code",
    "deepnote_cell_height": 361,
    "deepnote_output_heights": [
     264
    ]
   },
   "source": "data_w.describe()",
   "outputs": [
    {
     "data": {
      "text/html": "<div>\n<style scoped>\n    .dataframe tbody tr th:only-of-type {\n        vertical-align: middle;\n    }\n\n    .dataframe tbody tr th {\n        vertical-align: top;\n    }\n\n    .dataframe thead th {\n        text-align: right;\n    }\n</style>\n<table border=\"1\" class=\"dataframe\">\n  <thead>\n    <tr style=\"text-align: right;\">\n      <th></th>\n      <th>tavg</th>\n      <th>tmin</th>\n      <th>tmax</th>\n      <th>prcp</th>\n      <th>snow</th>\n      <th>wdir</th>\n      <th>wspd</th>\n      <th>wpgt</th>\n      <th>pres</th>\n      <th>tsun</th>\n    </tr>\n  </thead>\n  <tbody>\n    <tr>\n      <th>count</th>\n      <td>888.000000</td>\n      <td>888.000000</td>\n      <td>888.000000</td>\n      <td>888.000000</td>\n      <td>888.000000</td>\n      <td>251.000000</td>\n      <td>888.000000</td>\n      <td>0.0</td>\n      <td>888.000000</td>\n      <td>888.000000</td>\n    </tr>\n    <tr>\n      <th>mean</th>\n      <td>21.003941</td>\n      <td>11.477815</td>\n      <td>31.517568</td>\n      <td>17.089302</td>\n      <td>0.230856</td>\n      <td>158.891235</td>\n      <td>7.953604</td>\n      <td>NaN</td>\n      <td>1016.444820</td>\n      <td>506.817568</td>\n    </tr>\n    <tr>\n      <th>std</th>\n      <td>7.251894</td>\n      <td>8.950844</td>\n      <td>5.850357</td>\n      <td>28.520209</td>\n      <td>5.199262</td>\n      <td>106.643329</td>\n      <td>2.093300</td>\n      <td>NaN</td>\n      <td>4.613467</td>\n      <td>1190.330275</td>\n    </tr>\n    <tr>\n      <th>min</th>\n      <td>-0.100000</td>\n      <td>-13.800000</td>\n      <td>10.600000</td>\n      <td>0.000000</td>\n      <td>0.000000</td>\n      <td>0.400000</td>\n      <td>2.200000</td>\n      <td>NaN</td>\n      <td>1005.700000</td>\n      <td>0.000000</td>\n    </tr>\n    <tr>\n      <th>25%</th>\n      <td>15.550000</td>\n      <td>3.900000</td>\n      <td>27.200000</td>\n      <td>0.000000</td>\n      <td>0.000000</td>\n      <td>65.950000</td>\n      <td>6.500000</td>\n      <td>NaN</td>\n      <td>1013.175000</td>\n      <td>0.000000</td>\n    </tr>\n    <tr>\n      <th>50%</th>\n      <td>21.550000</td>\n      <td>11.100000</td>\n      <td>31.700000</td>\n      <td>3.450000</td>\n      <td>0.000000</td>\n      <td>153.500000</td>\n      <td>7.900000</td>\n      <td>NaN</td>\n      <td>1015.500000</td>\n      <td>0.000000</td>\n    </tr>\n    <tr>\n      <th>75%</th>\n      <td>27.400000</td>\n      <td>20.600000</td>\n      <td>36.100000</td>\n      <td>23.725000</td>\n      <td>0.000000</td>\n      <td>209.300000</td>\n      <td>9.300000</td>\n      <td>NaN</td>\n      <td>1019.400000</td>\n      <td>0.000000</td>\n    </tr>\n    <tr>\n      <th>max</th>\n      <td>33.300000</td>\n      <td>25.600000</td>\n      <td>44.400000</td>\n      <td>201.600000</td>\n      <td>150.000000</td>\n      <td>359.100000</td>\n      <td>16.200000</td>\n      <td>NaN</td>\n      <td>1033.700000</td>\n      <td>5069.000000</td>\n    </tr>\n  </tbody>\n</table>\n</div>",
      "text/plain": "             tavg        tmin        tmax        prcp        snow        wdir  \\\ncount  888.000000  888.000000  888.000000  888.000000  888.000000  251.000000   \nmean    21.003941   11.477815   31.517568   17.089302    0.230856  158.891235   \nstd      7.251894    8.950844    5.850357   28.520209    5.199262  106.643329   \nmin     -0.100000  -13.800000   10.600000    0.000000    0.000000    0.400000   \n25%     15.550000    3.900000   27.200000    0.000000    0.000000   65.950000   \n50%     21.550000   11.100000   31.700000    3.450000    0.000000  153.500000   \n75%     27.400000   20.600000   36.100000   23.725000    0.000000  209.300000   \nmax     33.300000   25.600000   44.400000  201.600000  150.000000  359.100000   \n\n             wspd  wpgt         pres         tsun  \ncount  888.000000   0.0   888.000000   888.000000  \nmean     7.953604   NaN  1016.444820   506.817568  \nstd      2.093300   NaN     4.613467  1190.330275  \nmin      2.200000   NaN  1005.700000     0.000000  \n25%      6.500000   NaN  1013.175000     0.000000  \n50%      7.900000   NaN  1015.500000     0.000000  \n75%      9.300000   NaN  1019.400000     0.000000  \nmax     16.200000   NaN  1033.700000  5069.000000  "
     },
     "execution_count": 49,
     "metadata": {},
     "output_type": "execute_result"
    }
   ],
   "execution_count": null
  },
  {
   "cell_type": "code",
   "metadata": {
    "cell_id": "00010-0cee43c9-3b88-476e-ae37-745de980842f",
    "deepnote_cell_type": "code",
    "deepnote_cell_height": 361,
    "deepnote_output_heights": [
     264
    ]
   },
   "source": "data.describe()",
   "outputs": [
    {
     "data": {
      "text/html": "<div>\n<style scoped>\n    .dataframe tbody tr th:only-of-type {\n        vertical-align: middle;\n    }\n\n    .dataframe tbody tr th {\n        vertical-align: top;\n    }\n\n    .dataframe thead th {\n        text-align: right;\n    }\n</style>\n<table border=\"1\" class=\"dataframe\">\n  <thead>\n    <tr style=\"text-align: right;\">\n      <th></th>\n      <th>tavg</th>\n      <th>tmin</th>\n      <th>tmax</th>\n      <th>prcp</th>\n      <th>snow</th>\n      <th>wdir</th>\n      <th>wspd</th>\n      <th>wpgt</th>\n      <th>pres</th>\n      <th>tsun</th>\n    </tr>\n  </thead>\n  <tbody>\n    <tr>\n      <th>count</th>\n      <td>6209.000000</td>\n      <td>6209.000000</td>\n      <td>6209.000000</td>\n      <td>6209.000000</td>\n      <td>6209.000000</td>\n      <td>1542.000000</td>\n      <td>6209.000000</td>\n      <td>0.0</td>\n      <td>6179.000000</td>\n      <td>6209.000000</td>\n    </tr>\n    <tr>\n      <th>mean</th>\n      <td>21.005637</td>\n      <td>15.452070</td>\n      <td>27.520551</td>\n      <td>2.444081</td>\n      <td>0.102271</td>\n      <td>163.520817</td>\n      <td>7.952311</td>\n      <td>NaN</td>\n      <td>1016.457000</td>\n      <td>72.484136</td>\n    </tr>\n    <tr>\n      <th>std</th>\n      <td>7.807130</td>\n      <td>8.063366</td>\n      <td>8.357006</td>\n      <td>9.461687</td>\n      <td>3.257131</td>\n      <td>109.044366</td>\n      <td>3.534772</td>\n      <td>NaN</td>\n      <td>5.891307</td>\n      <td>189.689991</td>\n    </tr>\n    <tr>\n      <th>min</th>\n      <td>-9.200000</td>\n      <td>-13.800000</td>\n      <td>-3.800000</td>\n      <td>0.000000</td>\n      <td>0.000000</td>\n      <td>0.000000</td>\n      <td>0.400000</td>\n      <td>NaN</td>\n      <td>998.300000</td>\n      <td>0.000000</td>\n    </tr>\n    <tr>\n      <th>25%</th>\n      <td>15.400000</td>\n      <td>8.900000</td>\n      <td>22.200000</td>\n      <td>0.000000</td>\n      <td>0.000000</td>\n      <td>73.250000</td>\n      <td>5.400000</td>\n      <td>NaN</td>\n      <td>1012.500000</td>\n      <td>0.000000</td>\n    </tr>\n    <tr>\n      <th>50%</th>\n      <td>22.200000</td>\n      <td>17.200000</td>\n      <td>28.300000</td>\n      <td>0.000000</td>\n      <td>0.000000</td>\n      <td>161.900000</td>\n      <td>7.600000</td>\n      <td>NaN</td>\n      <td>1015.300000</td>\n      <td>0.000000</td>\n    </tr>\n    <tr>\n      <th>75%</th>\n      <td>27.600000</td>\n      <td>22.800000</td>\n      <td>34.400000</td>\n      <td>0.000000</td>\n      <td>0.000000</td>\n      <td>211.000000</td>\n      <td>10.400000</td>\n      <td>NaN</td>\n      <td>1019.700000</td>\n      <td>0.000000</td>\n    </tr>\n    <tr>\n      <th>max</th>\n      <td>35.500000</td>\n      <td>28.900000</td>\n      <td>44.400000</td>\n      <td>178.800000</td>\n      <td>150.000000</td>\n      <td>359.000000</td>\n      <td>25.900000</td>\n      <td>NaN</td>\n      <td>1045.300000</td>\n      <td>841.000000</td>\n    </tr>\n  </tbody>\n</table>\n</div>",
      "text/plain": "              tavg         tmin         tmax         prcp         snow  \\\ncount  6209.000000  6209.000000  6209.000000  6209.000000  6209.000000   \nmean     21.005637    15.452070    27.520551     2.444081     0.102271   \nstd       7.807130     8.063366     8.357006     9.461687     3.257131   \nmin      -9.200000   -13.800000    -3.800000     0.000000     0.000000   \n25%      15.400000     8.900000    22.200000     0.000000     0.000000   \n50%      22.200000    17.200000    28.300000     0.000000     0.000000   \n75%      27.600000    22.800000    34.400000     0.000000     0.000000   \nmax      35.500000    28.900000    44.400000   178.800000   150.000000   \n\n              wdir         wspd  wpgt         pres         tsun  \ncount  1542.000000  6209.000000   0.0  6179.000000  6209.000000  \nmean    163.520817     7.952311   NaN  1016.457000    72.484136  \nstd     109.044366     3.534772   NaN     5.891307   189.689991  \nmin       0.000000     0.400000   NaN   998.300000     0.000000  \n25%      73.250000     5.400000   NaN  1012.500000     0.000000  \n50%     161.900000     7.600000   NaN  1015.300000     0.000000  \n75%     211.000000    10.400000   NaN  1019.700000     0.000000  \nmax     359.000000    25.900000   NaN  1045.300000   841.000000  "
     },
     "execution_count": 50,
     "metadata": {},
     "output_type": "execute_result"
    }
   ],
   "execution_count": null
  },
  {
   "cell_type": "markdown",
   "source": "# Pollution data",
   "metadata": {
    "cell_id": "00011-4b8e0fe2-89f3-44c0-8264-8820d9683810",
    "deepnote_cell_type": "markdown",
    "deepnote_cell_height": 82
   }
  },
  {
   "cell_type": "code",
   "metadata": {
    "cell_id": "00012-ab127ed6-bbfc-44a1-b981-fcf53f375106",
    "deepnote_cell_type": "code",
    "deepnote_cell_height": 334.1875,
    "deepnote_output_heights": [
     21.1875
    ]
   },
   "source": "'''import requests \nfrom six.moves import urllib\n\nAPIkey = 'C0944E2A-D5D0-4231-ABAB-5F7530450F2A'\n\n#&zipCode=78708&date=2022-03-18T00-0000&distance=50&API_KEY=C0944E2A-D5D0-4231-ABAB-5F7530450F2A\nurl = 'https://www.airnowapi.org/aq/observation/latLong/historical/?format=text/csv&latitude={}&longitude={}&date={}T00-0000&distance=50&API_KEY={}'.format(Aus_lat,Aus_long,start,APIkey)\n\nPdata = requests.get(url)\nairdata = Pdata.json()\nprint(airdata)\n'''\n",
   "outputs": [
    {
     "data": {
      "text/plain": "\"import requests \\nfrom six.moves import urllib\\n\\nAPIkey = 'C0944E2A-D5D0-4231-ABAB-5F7530450F2A'\\n\\n#&zipCode=78708&date=2022-03-18T00-0000&distance=50&API_KEY=C0944E2A-D5D0-4231-ABAB-5F7530450F2A\\nurl = 'https://www.airnowapi.org/aq/observation/latLong/historical/?format=text/csv&latitude={}&longitude={}&date={}T00-0000&distance=50&API_KEY={}'.format(Aus_lat,Aus_long,start,APIkey)\\n\\nPdata = requests.get(url)\\nairdata = Pdata.json()\\nprint(airdata)\\n\""
     },
     "execution_count": 144,
     "metadata": {},
     "output_type": "execute_result"
    }
   ],
   "execution_count": null
  },
  {
   "cell_type": "code",
   "metadata": {
    "cell_id": "00013-be835c6e-f92b-4cf7-aebd-6b14de92f59e",
    "deepnote_cell_type": "code",
    "deepnote_cell_height": 328,
    "deepnote_output_heights": [
     177
    ]
   },
   "source": "import pandas as pd \n\nPMdata = pd.read_csv('./austin-texas-air-quality.csv')\nPMdata.head()",
   "outputs": [
    {
     "data": {
      "text/html": "<div>\n<style scoped>\n    .dataframe tbody tr th:only-of-type {\n        vertical-align: middle;\n    }\n\n    .dataframe tbody tr th {\n        vertical-align: top;\n    }\n\n    .dataframe thead th {\n        text-align: right;\n    }\n</style>\n<table border=\"1\" class=\"dataframe\">\n  <thead>\n    <tr style=\"text-align: right;\">\n      <th></th>\n      <th>date</th>\n      <th>pm25</th>\n      <th>o3</th>\n      <th>no2</th>\n      <th>so2</th>\n    </tr>\n  </thead>\n  <tbody>\n    <tr>\n      <th>0</th>\n      <td>2022/3/1</td>\n      <td>45</td>\n      <td></td>\n      <td></td>\n      <td></td>\n    </tr>\n    <tr>\n      <th>1</th>\n      <td>2022/3/2</td>\n      <td>49</td>\n      <td></td>\n      <td></td>\n      <td></td>\n    </tr>\n    <tr>\n      <th>2</th>\n      <td>2022/3/3</td>\n      <td>39</td>\n      <td></td>\n      <td></td>\n      <td></td>\n    </tr>\n    <tr>\n      <th>3</th>\n      <td>2022/3/4</td>\n      <td>33</td>\n      <td></td>\n      <td></td>\n      <td></td>\n    </tr>\n    <tr>\n      <th>4</th>\n      <td>2022/3/5</td>\n      <td>33</td>\n      <td></td>\n      <td></td>\n      <td></td>\n    </tr>\n  </tbody>\n</table>\n</div>",
      "text/plain": "       date  pm25  o3  no2  so2\n0  2022/3/1    45              \n1  2022/3/2    49              \n2  2022/3/3    39              \n3  2022/3/4    33              \n4  2022/3/5    33              "
     },
     "execution_count": 57,
     "metadata": {},
     "output_type": "execute_result"
    }
   ],
   "execution_count": null
  },
  {
   "cell_type": "code",
   "metadata": {
    "cell_id": "00014-4cfd8cbc-c027-4363-9fdb-33d289aac0c9",
    "deepnote_cell_type": "code",
    "deepnote_cell_height": 274,
    "deepnote_output_heights": [
     177
    ]
   },
   "source": "PMdata.tail()",
   "outputs": [
    {
     "data": {
      "text/html": "<div>\n<style scoped>\n    .dataframe tbody tr th:only-of-type {\n        vertical-align: middle;\n    }\n\n    .dataframe tbody tr th {\n        vertical-align: top;\n    }\n\n    .dataframe thead th {\n        text-align: right;\n    }\n</style>\n<table border=\"1\" class=\"dataframe\">\n  <thead>\n    <tr style=\"text-align: right;\">\n      <th></th>\n      <th>time</th>\n      <th>pm25</th>\n      <th>o3</th>\n      <th>no2</th>\n      <th>so2</th>\n    </tr>\n  </thead>\n  <tbody>\n    <tr>\n      <th>2695</th>\n      <td>2014-03-29</td>\n      <td>21</td>\n      <td></td>\n      <td></td>\n      <td></td>\n    </tr>\n    <tr>\n      <th>2696</th>\n      <td>2014-03-30</td>\n      <td>29</td>\n      <td></td>\n      <td></td>\n      <td></td>\n    </tr>\n    <tr>\n      <th>2697</th>\n      <td>2014-03-31</td>\n      <td>35</td>\n      <td></td>\n      <td></td>\n      <td></td>\n    </tr>\n    <tr>\n      <th>2698</th>\n      <td>2016-10-29</td>\n      <td></td>\n      <td>26</td>\n      <td></td>\n      <td></td>\n    </tr>\n    <tr>\n      <th>2699</th>\n      <td>2016-10-30</td>\n      <td></td>\n      <td>14</td>\n      <td></td>\n      <td></td>\n    </tr>\n  </tbody>\n</table>\n</div>",
      "text/plain": "           time  pm25   o3  no2  so2\n2695 2014-03-29    21               \n2696 2014-03-30    29               \n2697 2014-03-31    35               \n2698 2016-10-29         26          \n2699 2016-10-30         14          "
     },
     "execution_count": 59,
     "metadata": {},
     "output_type": "execute_result"
    }
   ],
   "execution_count": null
  },
  {
   "cell_type": "code",
   "metadata": {
    "cell_id": "00015-74055e84-719a-4fe9-8b2f-d4118c723e51",
    "deepnote_cell_type": "code",
    "deepnote_cell_height": 392.1875,
    "deepnote_output_heights": [
     null,
     177
    ]
   },
   "source": "PMdata['date'] = pd.to_datetime(PMdata[\"date\"].astype(str), format='%Y-%m-%d')\nPMdata.rename(columns = {'date':'time'}, inplace = True)\nPMdata.set_index('time')\nprint(PMdata.shape)\nPMdata.head()",
   "outputs": [
    {
     "name": "stdout",
     "output_type": "stream",
     "text": "(2700, 5)\n"
    },
    {
     "data": {
      "text/html": "<div>\n<style scoped>\n    .dataframe tbody tr th:only-of-type {\n        vertical-align: middle;\n    }\n\n    .dataframe tbody tr th {\n        vertical-align: top;\n    }\n\n    .dataframe thead th {\n        text-align: right;\n    }\n</style>\n<table border=\"1\" class=\"dataframe\">\n  <thead>\n    <tr style=\"text-align: right;\">\n      <th></th>\n      <th>time</th>\n      <th>pm25</th>\n      <th>o3</th>\n      <th>no2</th>\n      <th>so2</th>\n    </tr>\n  </thead>\n  <tbody>\n    <tr>\n      <th>0</th>\n      <td>2022-03-01</td>\n      <td>45</td>\n      <td></td>\n      <td></td>\n      <td></td>\n    </tr>\n    <tr>\n      <th>1</th>\n      <td>2022-03-02</td>\n      <td>49</td>\n      <td></td>\n      <td></td>\n      <td></td>\n    </tr>\n    <tr>\n      <th>2</th>\n      <td>2022-03-03</td>\n      <td>39</td>\n      <td></td>\n      <td></td>\n      <td></td>\n    </tr>\n    <tr>\n      <th>3</th>\n      <td>2022-03-04</td>\n      <td>33</td>\n      <td></td>\n      <td></td>\n      <td></td>\n    </tr>\n    <tr>\n      <th>4</th>\n      <td>2022-03-05</td>\n      <td>33</td>\n      <td></td>\n      <td></td>\n      <td></td>\n    </tr>\n  </tbody>\n</table>\n</div>",
      "text/plain": "        time  pm25  o3  no2  so2\n0 2022-03-01    45              \n1 2022-03-02    49              \n2 2022-03-03    39              \n3 2022-03-04    33              \n4 2022-03-05    33              "
     },
     "execution_count": 58,
     "metadata": {},
     "output_type": "execute_result"
    }
   ],
   "execution_count": null
  },
  {
   "cell_type": "code",
   "metadata": {
    "cell_id": "00016-d79af39c-d491-4fa7-8acc-4a42ee1d64d4",
    "deepnote_cell_type": "code",
    "deepnote_cell_height": 374.1875,
    "deepnote_output_heights": [
     null,
     177
    ]
   },
   "source": "Weather_merged_daily = pd.merge(data, PMdata, on=['time'])\nWeather_merged_daily.to_csv('Weather_merged_daily.csv')\nprint(Weather_merged_daily.shape)\nWeather_merged_daily.head()",
   "outputs": [
    {
     "name": "stdout",
     "output_type": "stream",
     "text": "(2624, 15)\n"
    },
    {
     "data": {
      "text/html": "<div>\n<style scoped>\n    .dataframe tbody tr th:only-of-type {\n        vertical-align: middle;\n    }\n\n    .dataframe tbody tr th {\n        vertical-align: top;\n    }\n\n    .dataframe thead th {\n        text-align: right;\n    }\n</style>\n<table border=\"1\" class=\"dataframe\">\n  <thead>\n    <tr style=\"text-align: right;\">\n      <th></th>\n      <th>time</th>\n      <th>tavg</th>\n      <th>tmin</th>\n      <th>tmax</th>\n      <th>prcp</th>\n      <th>snow</th>\n      <th>wdir</th>\n      <th>wspd</th>\n      <th>wpgt</th>\n      <th>pres</th>\n      <th>tsun</th>\n      <th>pm25</th>\n      <th>o3</th>\n      <th>no2</th>\n      <th>so2</th>\n    </tr>\n  </thead>\n  <tbody>\n    <tr>\n      <th>0</th>\n      <td>2014-01-01</td>\n      <td>10.9</td>\n      <td>3.9</td>\n      <td>20.6</td>\n      <td>0.0</td>\n      <td>0.0</td>\n      <td>NaN</td>\n      <td>6.1</td>\n      <td>NaN</td>\n      <td>1020.2</td>\n      <td>0.0</td>\n      <td>71</td>\n      <td></td>\n      <td></td>\n      <td></td>\n    </tr>\n    <tr>\n      <th>1</th>\n      <td>2014-01-02</td>\n      <td>6.8</td>\n      <td>0.6</td>\n      <td>12.8</td>\n      <td>0.0</td>\n      <td>0.0</td>\n      <td>NaN</td>\n      <td>12.2</td>\n      <td>NaN</td>\n      <td>1024.2</td>\n      <td>0.0</td>\n      <td>17</td>\n      <td></td>\n      <td></td>\n      <td></td>\n    </tr>\n    <tr>\n      <th>2</th>\n      <td>2014-01-03</td>\n      <td>5.6</td>\n      <td>-2.1</td>\n      <td>14.4</td>\n      <td>0.0</td>\n      <td>0.0</td>\n      <td>NaN</td>\n      <td>6.8</td>\n      <td>NaN</td>\n      <td>1028.2</td>\n      <td>0.0</td>\n      <td>26</td>\n      <td></td>\n      <td></td>\n      <td></td>\n    </tr>\n    <tr>\n      <th>3</th>\n      <td>2014-01-04</td>\n      <td>13.8</td>\n      <td>5.6</td>\n      <td>21.7</td>\n      <td>0.0</td>\n      <td>0.0</td>\n      <td>NaN</td>\n      <td>10.4</td>\n      <td>NaN</td>\n      <td>1014.6</td>\n      <td>0.0</td>\n      <td>26</td>\n      <td></td>\n      <td></td>\n      <td></td>\n    </tr>\n    <tr>\n      <th>4</th>\n      <td>2014-01-05</td>\n      <td>8.2</td>\n      <td>1.1</td>\n      <td>15.0</td>\n      <td>0.0</td>\n      <td>0.0</td>\n      <td>NaN</td>\n      <td>15.5</td>\n      <td>NaN</td>\n      <td>1026.6</td>\n      <td>0.0</td>\n      <td>10</td>\n      <td></td>\n      <td></td>\n      <td></td>\n    </tr>\n  </tbody>\n</table>\n</div>",
      "text/plain": "        time  tavg  tmin  tmax  prcp  snow  wdir  wspd  wpgt    pres  tsun  \\\n0 2014-01-01  10.9   3.9  20.6   0.0   0.0   NaN   6.1   NaN  1020.2   0.0   \n1 2014-01-02   6.8   0.6  12.8   0.0   0.0   NaN  12.2   NaN  1024.2   0.0   \n2 2014-01-03   5.6  -2.1  14.4   0.0   0.0   NaN   6.8   NaN  1028.2   0.0   \n3 2014-01-04  13.8   5.6  21.7   0.0   0.0   NaN  10.4   NaN  1014.6   0.0   \n4 2014-01-05   8.2   1.1  15.0   0.0   0.0   NaN  15.5   NaN  1026.6   0.0   \n\n   pm25  o3  no2  so2  \n0    71                \n1    17                \n2    26                \n3    26                \n4    10                "
     },
     "execution_count": 145,
     "metadata": {},
     "output_type": "execute_result"
    }
   ],
   "execution_count": null
  },
  {
   "cell_type": "code",
   "metadata": {
    "cell_id": "00017-457a1d35-e28d-4858-8408-0f7745b8bc1a",
    "deepnote_cell_type": "code",
    "deepnote_cell_height": 353.1875,
    "deepnote_output_heights": [
     null,
     206
    ]
   },
   "source": "PMdata.describe()",
   "outputs": [
    {
     "name": "stderr",
     "output_type": "stream",
     "text": "FutureWarning: Treating datetime data as categorical rather than numeric in `.describe` is deprecated and will be removed in a future version of pandas. Specify `datetime_is_numeric=True` to silence this warning and adopt the future behavior now.\n"
    },
    {
     "data": {
      "text/html": "<div>\n<style scoped>\n    .dataframe tbody tr th:only-of-type {\n        vertical-align: middle;\n    }\n\n    .dataframe tbody tr th {\n        vertical-align: top;\n    }\n\n    .dataframe thead th {\n        text-align: right;\n    }\n</style>\n<table border=\"1\" class=\"dataframe\">\n  <thead>\n    <tr style=\"text-align: right;\">\n      <th></th>\n      <th>time</th>\n      <th>pm25</th>\n      <th>o3</th>\n      <th>no2</th>\n      <th>so2</th>\n    </tr>\n  </thead>\n  <tbody>\n    <tr>\n      <th>count</th>\n      <td>2700</td>\n      <td>2700</td>\n      <td>2700</td>\n      <td>2700</td>\n      <td>2700</td>\n    </tr>\n    <tr>\n      <th>unique</th>\n      <td>2700</td>\n      <td>88</td>\n      <td>11</td>\n      <td>6</td>\n      <td>1</td>\n    </tr>\n    <tr>\n      <th>top</th>\n      <td>2022-03-01 00:00:00</td>\n      <td>33</td>\n      <td></td>\n      <td></td>\n      <td></td>\n    </tr>\n    <tr>\n      <th>freq</th>\n      <td>1</td>\n      <td>81</td>\n      <td>2687</td>\n      <td>2694</td>\n      <td>2700</td>\n    </tr>\n    <tr>\n      <th>first</th>\n      <td>2014-01-01 00:00:00</td>\n      <td>NaN</td>\n      <td>NaN</td>\n      <td>NaN</td>\n      <td>NaN</td>\n    </tr>\n    <tr>\n      <th>last</th>\n      <td>2022-03-19 00:00:00</td>\n      <td>NaN</td>\n      <td>NaN</td>\n      <td>NaN</td>\n      <td>NaN</td>\n    </tr>\n  </tbody>\n</table>\n</div>",
      "text/plain": "                       time  pm25    o3   no2   so2\ncount                  2700  2700  2700  2700  2700\nunique                 2700    88    11     6     1\ntop     2022-03-01 00:00:00    33                  \nfreq                      1    81  2687  2694  2700\nfirst   2014-01-01 00:00:00   NaN   NaN   NaN   NaN\nlast    2022-03-19 00:00:00   NaN   NaN   NaN   NaN"
     },
     "execution_count": 60,
     "metadata": {},
     "output_type": "execute_result"
    }
   ],
   "execution_count": null
  },
  {
   "cell_type": "code",
   "metadata": {
    "cell_id": "00018-3ba4f85a-d492-4f9b-8ee9-ebc54371726b",
    "deepnote_cell_type": "code",
    "deepnote_cell_height": 546.4375,
    "deepnote_output_heights": [
     251.4375
    ]
   },
   "source": "import datetime as dt\n\nPMdata_w = PMdata.copy()\n\nPMdata_w['WeekDate'] = PMdata_w.apply(lambda row: row['time'] - dt.timedelta(days=row['time'].weekday()+1),axis=1)\nPMdata_w[' pm25']= pd.to_numeric(PMdata_w[' pm25'],errors = 'coerce',downcast=\"integer\")\nPMdata_w[' o3']= pd.to_numeric(PMdata_w[' o3'],errors = 'coerce',downcast=\"integer\")\nPMdata_w[' no2']= pd.to_numeric(PMdata_w[' no2'],errors = 'coerce',downcast=\"integer\")\nPMdata_w[' so2']= pd.to_numeric(PMdata_w[' so2'],errors = 'coerce',downcast=\"integer\")\n#print(PMdata_w.dtypes)\nperweek = PMdata_w[' pm25'].groupby(PMdata_w['WeekDate']).mean()\nperweek",
   "outputs": [
    {
     "data": {
      "text/plain": "WeekDate\n2013-12-29    30.000000\n2014-01-05    26.000000\n2014-01-12    29.571429\n2014-01-19    28.714286\n2014-01-26    23.142857\n                ...    \n2022-02-13    30.857143\n2022-02-20    34.857143\n2022-02-27    40.428571\n2022-03-06    32.857143\n2022-03-13    34.500000\nName:  pm25, Length: 398, dtype: float64"
     },
     "execution_count": 139,
     "metadata": {},
     "output_type": "execute_result"
    }
   ],
   "execution_count": null
  },
  {
   "cell_type": "code",
   "metadata": {
    "cell_id": "00019-c113c742-2d0e-4427-a286-96829c243a92",
    "deepnote_cell_type": "code",
    "deepnote_cell_height": 580.1875,
    "deepnote_output_heights": [
     411.1875
    ]
   },
   "source": "#perweek.rename(columns = {'WeekDate':'time'}, inplace = True)\nperweek_df = pd.DataFrame(perweek)\n#perweek_df = perweek_df.rename(columns = {'WeekDate':'time'})\nperweek_df.index.names = ['time']\nperweek_df",
   "outputs": [
    {
     "data": {
      "text/html": "<div>\n<style scoped>\n    .dataframe tbody tr th:only-of-type {\n        vertical-align: middle;\n    }\n\n    .dataframe tbody tr th {\n        vertical-align: top;\n    }\n\n    .dataframe thead th {\n        text-align: right;\n    }\n</style>\n<table border=\"1\" class=\"dataframe\">\n  <thead>\n    <tr style=\"text-align: right;\">\n      <th></th>\n      <th>pm25</th>\n    </tr>\n    <tr>\n      <th>time</th>\n      <th></th>\n    </tr>\n  </thead>\n  <tbody>\n    <tr>\n      <th>2013-12-29</th>\n      <td>30.000000</td>\n    </tr>\n    <tr>\n      <th>2014-01-05</th>\n      <td>26.000000</td>\n    </tr>\n    <tr>\n      <th>2014-01-12</th>\n      <td>29.571429</td>\n    </tr>\n    <tr>\n      <th>2014-01-19</th>\n      <td>28.714286</td>\n    </tr>\n    <tr>\n      <th>2014-01-26</th>\n      <td>23.142857</td>\n    </tr>\n    <tr>\n      <th>...</th>\n      <td>...</td>\n    </tr>\n    <tr>\n      <th>2022-02-13</th>\n      <td>30.857143</td>\n    </tr>\n    <tr>\n      <th>2022-02-20</th>\n      <td>34.857143</td>\n    </tr>\n    <tr>\n      <th>2022-02-27</th>\n      <td>40.428571</td>\n    </tr>\n    <tr>\n      <th>2022-03-06</th>\n      <td>32.857143</td>\n    </tr>\n    <tr>\n      <th>2022-03-13</th>\n      <td>34.500000</td>\n    </tr>\n  </tbody>\n</table>\n<p>398 rows × 1 columns</p>\n</div>",
      "text/plain": "                 pm25\ntime                 \n2013-12-29  30.000000\n2014-01-05  26.000000\n2014-01-12  29.571429\n2014-01-19  28.714286\n2014-01-26  23.142857\n...               ...\n2022-02-13  30.857143\n2022-02-20  34.857143\n2022-02-27  40.428571\n2022-03-06  32.857143\n2022-03-13  34.500000\n\n[398 rows x 1 columns]"
     },
     "execution_count": 141,
     "metadata": {},
     "output_type": "execute_result"
    }
   ],
   "execution_count": null
  },
  {
   "cell_type": "code",
   "metadata": {
    "cell_id": "00020-f02c355c-4a74-4103-878c-b3058da22d07",
    "deepnote_cell_type": "code",
    "deepnote_cell_height": 385.1875,
    "deepnote_output_heights": [
     null,
     206
    ]
   },
   "source": "Weather_merged_weekly = pd.merge(data_w, perweek_df, on=['time'])\nprint(Weather_merged_weekly.shape)\nWeather_merged_weekly.head()",
   "outputs": [
    {
     "name": "stdout",
     "output_type": "stream",
     "text": "(388, 11)\n"
    },
    {
     "data": {
      "text/html": "<div>\n<style scoped>\n    .dataframe tbody tr th:only-of-type {\n        vertical-align: middle;\n    }\n\n    .dataframe tbody tr th {\n        vertical-align: top;\n    }\n\n    .dataframe thead th {\n        text-align: right;\n    }\n</style>\n<table border=\"1\" class=\"dataframe\">\n  <thead>\n    <tr style=\"text-align: right;\">\n      <th></th>\n      <th>tavg</th>\n      <th>tmin</th>\n      <th>tmax</th>\n      <th>prcp</th>\n      <th>snow</th>\n      <th>wdir</th>\n      <th>wspd</th>\n      <th>wpgt</th>\n      <th>pres</th>\n      <th>tsun</th>\n      <th>pm25</th>\n    </tr>\n    <tr>\n      <th>time</th>\n      <th></th>\n      <th></th>\n      <th></th>\n      <th></th>\n      <th></th>\n      <th></th>\n      <th></th>\n      <th></th>\n      <th></th>\n      <th></th>\n      <th></th>\n    </tr>\n  </thead>\n  <tbody>\n    <tr>\n      <th>2013-12-29</th>\n      <td>8.9</td>\n      <td>-0.5</td>\n      <td>17.8</td>\n      <td>0.0</td>\n      <td>0.0</td>\n      <td>NaN</td>\n      <td>4.7</td>\n      <td>NaN</td>\n      <td>1026.9</td>\n      <td>0.0</td>\n      <td>30.000000</td>\n    </tr>\n    <tr>\n      <th>2014-01-05</th>\n      <td>8.0</td>\n      <td>-2.1</td>\n      <td>21.7</td>\n      <td>0.0</td>\n      <td>0.0</td>\n      <td>NaN</td>\n      <td>8.7</td>\n      <td>NaN</td>\n      <td>1023.5</td>\n      <td>0.0</td>\n      <td>26.000000</td>\n    </tr>\n    <tr>\n      <th>2014-01-12</th>\n      <td>10.5</td>\n      <td>-5.5</td>\n      <td>23.9</td>\n      <td>6.9</td>\n      <td>0.0</td>\n      <td>NaN</td>\n      <td>6.6</td>\n      <td>NaN</td>\n      <td>1027.3</td>\n      <td>0.0</td>\n      <td>29.571429</td>\n    </tr>\n    <tr>\n      <th>2014-01-19</th>\n      <td>13.0</td>\n      <td>2.8</td>\n      <td>24.4</td>\n      <td>0.0</td>\n      <td>0.0</td>\n      <td>NaN</td>\n      <td>7.0</td>\n      <td>NaN</td>\n      <td>1022.2</td>\n      <td>0.0</td>\n      <td>28.714286</td>\n    </tr>\n    <tr>\n      <th>2014-01-26</th>\n      <td>9.9</td>\n      <td>-3.2</td>\n      <td>27.8</td>\n      <td>2.8</td>\n      <td>0.0</td>\n      <td>NaN</td>\n      <td>7.7</td>\n      <td>NaN</td>\n      <td>1023.2</td>\n      <td>0.0</td>\n      <td>23.142857</td>\n    </tr>\n  </tbody>\n</table>\n</div>",
      "text/plain": "            tavg  tmin  tmax  prcp  snow  wdir  wspd  wpgt    pres  tsun  \\\ntime                                                                       \n2013-12-29   8.9  -0.5  17.8   0.0   0.0   NaN   4.7   NaN  1026.9   0.0   \n2014-01-05   8.0  -2.1  21.7   0.0   0.0   NaN   8.7   NaN  1023.5   0.0   \n2014-01-12  10.5  -5.5  23.9   6.9   0.0   NaN   6.6   NaN  1027.3   0.0   \n2014-01-19  13.0   2.8  24.4   0.0   0.0   NaN   7.0   NaN  1022.2   0.0   \n2014-01-26   9.9  -3.2  27.8   2.8   0.0   NaN   7.7   NaN  1023.2   0.0   \n\n                 pm25  \ntime                   \n2013-12-29  30.000000  \n2014-01-05  26.000000  \n2014-01-12  29.571429  \n2014-01-19  28.714286  \n2014-01-26  23.142857  "
     },
     "execution_count": 142,
     "metadata": {},
     "output_type": "execute_result"
    }
   ],
   "execution_count": null
  },
  {
   "cell_type": "code",
   "metadata": {
    "cell_id": "00021-0c39495e-6f2c-4ccf-8c0d-8bf23cb1b382",
    "deepnote_cell_type": "code",
    "deepnote_cell_height": 66
   },
   "source": "Weather_merged_weekly.to_csv('Weather_merged_weekly.csv')",
   "outputs": [],
   "execution_count": null
  },
  {
   "cell_type": "code",
   "metadata": {
    "cell_id": "00022-f02f24c3-a5fa-4e27-9e28-d976def65afb",
    "deepnote_cell_type": "code",
    "deepnote_cell_height": 66
   },
   "source": "",
   "execution_count": null,
   "outputs": []
  },
  {
   "cell_type": "markdown",
   "source": "<a style='text-decoration:none;line-height:16px;display:flex;color:#5B5B62;padding:10px;justify-content:end;' href='https://deepnote.com?utm_source=created-in-deepnote-cell&projectId=1a1cabe9-69f7-4a67-be18-e232e1feb2b6' target=\"_blank\">\n<img alt='Created in deepnote.com' style='display:inline;max-height:16px;margin:0px;margin-right:7.5px;' src='data:image/svg+xml;base64,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' > </img>\nCreated in <span style='font-weight:600;margin-left:4px;'>Deepnote</span></a>",
   "metadata": {
    "tags": [],
    "created_in_deepnote_cell": true,
    "deepnote_cell_type": "markdown"
   }
  }
 ],
 "nbformat": 4,
 "nbformat_minor": 5,
 "metadata": {
  "kernelspec": {
   "display_name": "Python 3 (ipykernel)",
   "language": "python",
   "name": "python3"
  },
  "language_info": {
   "codemirror_mode": {
    "name": "ipython",
    "version": 3
   },
   "file_extension": ".py",
   "mimetype": "text/x-python",
   "name": "python",
   "nbconvert_exporter": "python",
   "pygments_lexer": "ipython3",
   "version": "3.9.7"
  },
  "deepnote_notebook_id": "32f3c1db-25fb-4635-af26-f144615b1373",
  "deepnote": {},
  "deepnote_execution_queue": []
 }
}