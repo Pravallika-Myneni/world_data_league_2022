{
 "cells": [
  {
   "cell_type": "markdown",
   "source": "# World Data League 2022",
   "metadata": {
    "id": "Is1th3sXsLqf",
    "cell_id": "39b19e46-7bae-42d4-a136-0a3602733319",
    "deepnote_cell_type": "markdown",
    "deepnote_cell_height": 82
   }
  },
  {
   "cell_type": "markdown",
   "source": "## 🎯 Challenge: Air Quality Prediction in busy streets \n",
   "metadata": {
    "id": "94NlB4NxwLra",
    "cell_id": "00001-39629a47-2a86-45ff-902e-bde457869e71",
    "deepnote_cell_type": "markdown",
    "deepnote_cell_height": 70
   }
  },
  {
   "cell_type": "markdown",
   "source": "## 👥 Authors\n* Person 1\n* Person 2\n* Person 3",
   "metadata": {
    "id": "jVBl_rp5gAdK",
    "cell_id": "00002-8eda5ea5-0c95-46d0-ad88-04d6a9feab3f",
    "deepnote_cell_type": "markdown",
    "deepnote_cell_height": 173.171875
   }
  },
  {
   "cell_type": "markdown",
   "source": "## 💻 Development\nStart coding here! 🐱‍🏍\n\nCreate the necessary subsections (e.g. EDA, different experiments, etc..) and markdown cells to include descriptions of your work where you see fit. Comment your code. \n\nAll new subsections must start with three hash characters.\n\nPro-tip 1: Don't forget to make the jury's life easier. Remove any unnecessary prints before submitting the work. Hide any long output cells (from training a model for example). For each subsection, have a quick introduction (justifying what you are about to do) and conclusion (results you got from what you did). \n\nPro-tip 2: Have many similiar graphs which all tell the same story? Add them to the appendix and show only a couple of examples, with the mention that all the others are in the appendix.",
   "metadata": {
    "id": "C8rCpNajszur",
    "cell_id": "00003-25c805eb-3803-452a-9fc4-c402c0500577",
    "deepnote_cell_type": "markdown",
    "deepnote_cell_height": 276.34375
   }
  },
  {
   "cell_type": "code",
   "metadata": {
    "id": "afB4W0KnutpV",
    "cell_id": "00004-e730512c-cc09-4731-8f14-1df07e8403f6",
    "deepnote_cell_type": "code",
    "deepnote_cell_height": 66
   },
   "source": "import pandas as pd",
   "outputs": [],
   "execution_count": null
  },
  {
   "cell_type": "code",
   "metadata": {
    "id": "J4jPpcKOutZ5",
    "cell_id": "00005-f2b94e17-c2fe-4e4b-a4c6-af3b7c963fb9",
    "deepnote_cell_type": "code",
    "deepnote_cell_height": 292,
    "deepnote_output_heights": [
     177
    ]
   },
   "source": "df = pd.read_csv(\"data/air_quality_2014_to_2022.csv\", index_col = 0)\ndf.head()",
   "outputs": [
    {
     "data": {
      "text/html": "<div>\n<style scoped>\n    .dataframe tbody tr th:only-of-type {\n        vertical-align: middle;\n    }\n\n    .dataframe tbody tr th {\n        vertical-align: top;\n    }\n\n    .dataframe thead th {\n        text-align: right;\n    }\n</style>\n<table border=\"1\" class=\"dataframe\">\n  <thead>\n    <tr style=\"text-align: right;\">\n      <th></th>\n      <th>id</th>\n      <th>component_id</th>\n      <th>value</th>\n      <th>timestamp_measured</th>\n    </tr>\n  </thead>\n  <tbody>\n    <tr>\n      <th>0</th>\n      <td>6fc2b8dd-db16-4f67-bc0d-a2ee96dbf46d</td>\n      <td>PM25</td>\n      <td>7.40</td>\n      <td>2022-02-15T23:00:00+00:00</td>\n    </tr>\n    <tr>\n      <th>1</th>\n      <td>f0b41647-e2f5-402d-ab7a-47a2202e283d</td>\n      <td>PM10</td>\n      <td>12.30</td>\n      <td>2022-02-15T23:00:00+00:00</td>\n    </tr>\n    <tr>\n      <th>2</th>\n      <td>50b377ca-bdc1-4365-9521-5dc5affb238d</td>\n      <td>FN</td>\n      <td>0.29</td>\n      <td>2022-02-15T23:00:00+00:00</td>\n    </tr>\n    <tr>\n      <th>3</th>\n      <td>01cce658-ac64-4019-a436-cdf7172ce8ef</td>\n      <td>C8H10</td>\n      <td>0.32</td>\n      <td>2022-02-15T23:00:00+00:00</td>\n    </tr>\n    <tr>\n      <th>4</th>\n      <td>b66ba836-5ddf-4ac2-bb6f-0c63e17f697b</td>\n      <td>C7H8</td>\n      <td>0.55</td>\n      <td>2022-02-15T23:00:00+00:00</td>\n    </tr>\n  </tbody>\n</table>\n</div>",
      "text/plain": "                                     id component_id  value  \\\n0  6fc2b8dd-db16-4f67-bc0d-a2ee96dbf46d         PM25   7.40   \n1  f0b41647-e2f5-402d-ab7a-47a2202e283d         PM10  12.30   \n2  50b377ca-bdc1-4365-9521-5dc5affb238d           FN   0.29   \n3  01cce658-ac64-4019-a436-cdf7172ce8ef        C8H10   0.32   \n4  b66ba836-5ddf-4ac2-bb6f-0c63e17f697b         C7H8   0.55   \n\n          timestamp_measured  \n0  2022-02-15T23:00:00+00:00  \n1  2022-02-15T23:00:00+00:00  \n2  2022-02-15T23:00:00+00:00  \n3  2022-02-15T23:00:00+00:00  \n4  2022-02-15T23:00:00+00:00  "
     },
     "execution_count": 10,
     "metadata": {},
     "output_type": "execute_result"
    }
   ],
   "execution_count": null
  },
  {
   "cell_type": "code",
   "metadata": {
    "id": "LQ90XveiBN6A",
    "cell_id": "00006-fdb079d6-aad2-43c9-94a4-acb041b8724f",
    "deepnote_cell_type": "code",
    "deepnote_cell_height": 321,
    "deepnote_output_heights": [
     206
    ]
   },
   "source": "df_1 = df.set_index('id')\ndf_1.head()",
   "outputs": [
    {
     "data": {
      "text/html": "<div>\n<style scoped>\n    .dataframe tbody tr th:only-of-type {\n        vertical-align: middle;\n    }\n\n    .dataframe tbody tr th {\n        vertical-align: top;\n    }\n\n    .dataframe thead th {\n        text-align: right;\n    }\n</style>\n<table border=\"1\" class=\"dataframe\">\n  <thead>\n    <tr style=\"text-align: right;\">\n      <th></th>\n      <th>component_id</th>\n      <th>value</th>\n      <th>timestamp_measured</th>\n    </tr>\n    <tr>\n      <th>id</th>\n      <th></th>\n      <th></th>\n      <th></th>\n    </tr>\n  </thead>\n  <tbody>\n    <tr>\n      <th>6fc2b8dd-db16-4f67-bc0d-a2ee96dbf46d</th>\n      <td>PM25</td>\n      <td>7.40</td>\n      <td>2022-02-15T23:00:00+00:00</td>\n    </tr>\n    <tr>\n      <th>f0b41647-e2f5-402d-ab7a-47a2202e283d</th>\n      <td>PM10</td>\n      <td>12.30</td>\n      <td>2022-02-15T23:00:00+00:00</td>\n    </tr>\n    <tr>\n      <th>50b377ca-bdc1-4365-9521-5dc5affb238d</th>\n      <td>FN</td>\n      <td>0.29</td>\n      <td>2022-02-15T23:00:00+00:00</td>\n    </tr>\n    <tr>\n      <th>01cce658-ac64-4019-a436-cdf7172ce8ef</th>\n      <td>C8H10</td>\n      <td>0.32</td>\n      <td>2022-02-15T23:00:00+00:00</td>\n    </tr>\n    <tr>\n      <th>b66ba836-5ddf-4ac2-bb6f-0c63e17f697b</th>\n      <td>C7H8</td>\n      <td>0.55</td>\n      <td>2022-02-15T23:00:00+00:00</td>\n    </tr>\n  </tbody>\n</table>\n</div>",
      "text/plain": "                                     component_id  value  \\\nid                                                         \n6fc2b8dd-db16-4f67-bc0d-a2ee96dbf46d         PM25   7.40   \nf0b41647-e2f5-402d-ab7a-47a2202e283d         PM10  12.30   \n50b377ca-bdc1-4365-9521-5dc5affb238d           FN   0.29   \n01cce658-ac64-4019-a436-cdf7172ce8ef        C8H10   0.32   \nb66ba836-5ddf-4ac2-bb6f-0c63e17f697b         C7H8   0.55   \n\n                                             timestamp_measured  \nid                                                               \n6fc2b8dd-db16-4f67-bc0d-a2ee96dbf46d  2022-02-15T23:00:00+00:00  \nf0b41647-e2f5-402d-ab7a-47a2202e283d  2022-02-15T23:00:00+00:00  \n50b377ca-bdc1-4365-9521-5dc5affb238d  2022-02-15T23:00:00+00:00  \n01cce658-ac64-4019-a436-cdf7172ce8ef  2022-02-15T23:00:00+00:00  \nb66ba836-5ddf-4ac2-bb6f-0c63e17f697b  2022-02-15T23:00:00+00:00  "
     },
     "execution_count": 11,
     "metadata": {},
     "output_type": "execute_result"
    }
   ],
   "execution_count": null
  },
  {
   "cell_type": "code",
   "metadata": {
    "cell_id": "00007-0415e969-f94e-4e3c-945e-336871a7aa73",
    "deepnote_cell_type": "code",
    "deepnote_cell_height": 271.6875,
    "deepnote_output_heights": [
     174.6875
    ]
   },
   "source": "df_1['component_id'].value_counts()",
   "outputs": [
    {
     "data": {
      "text/plain": "FN       69955\nPM25     69419\nPM10     69412\nNO       69229\nNO2      69221\nC7H8     66456\nC6H6     66350\nC8H10    57135\nName: component_id, dtype: int64"
     },
     "execution_count": 12,
     "metadata": {},
     "output_type": "execute_result"
    }
   ],
   "execution_count": null
  },
  {
   "cell_type": "markdown",
   "source": "## 🖼️ Visualisations\nCopy here the most important visualizations (graphs, charts, maps, images, etc). You can refer to them in the Executive Summary.\n\nTechnical note: If not all the visualisations are visible, you can still include them as an image or link - in this case please upload them to your own repository.",
   "metadata": {
    "id": "gCcVSUTsasBP",
    "cell_id": "00008-ba4d7780-9f47-4532-abf6-165fd75cb19e",
    "deepnote_cell_type": "markdown",
    "deepnote_cell_height": 144.78125
   }
  },
  {
   "cell_type": "markdown",
   "source": "## 👓 References\nList all of the external links (even if they are already linked above), such as external datasets, papers, blog posts, code repositories and any other materials.",
   "metadata": {
    "id": "F2REdi5_rThg",
    "cell_id": "00009-405c3268-20b1-4bc6-ad95-334ce0300f2c",
    "deepnote_cell_type": "markdown",
    "deepnote_cell_height": 108.390625
   }
  },
  {
   "cell_type": "markdown",
   "source": "## ⏭️ Appendix\nAdd here any code, images or text that you still find relevant, but that was too long to include in the main report. This section is optional.\n",
   "metadata": {
    "id": "uLBpGOl5o0ix",
    "cell_id": "00010-3c327ee8-fb99-463d-be83-51638cefe076",
    "deepnote_cell_type": "markdown",
    "deepnote_cell_height": 108.390625
   }
  },
  {
   "cell_type": "code",
   "metadata": {
    "id": "Mot-NqmmpAHI",
    "cell_id": "00011-d974c638-e563-4731-aba3-33e38519ec6f",
    "deepnote_cell_type": "code",
    "deepnote_cell_height": 66
   },
   "source": "",
   "execution_count": null,
   "outputs": []
  },
  {
   "cell_type": "markdown",
   "source": "<a style='text-decoration:none;line-height:16px;display:flex;color:#5B5B62;padding:10px;justify-content:end;' href='https://deepnote.com?utm_source=created-in-deepnote-cell&projectId=1a1cabe9-69f7-4a67-be18-e232e1feb2b6' target=\"_blank\">\n<img alt='Created in deepnote.com' style='display:inline;max-height:16px;margin:0px;margin-right:7.5px;' src='data:image/svg+xml;base64,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' > </img>\nCreated in <span style='font-weight:600;margin-left:4px;'>Deepnote</span></a>",
   "metadata": {
    "tags": [],
    "created_in_deepnote_cell": true,
    "deepnote_cell_type": "markdown"
   }
  }
 ],
 "nbformat": 4,
 "nbformat_minor": 0,
 "metadata": {
  "colab": {
   "collapsed_sections": [
    "63ltgxp_rOpI",
    "C8rCpNajszur",
    "gSDath2nr1fq",
    "a92GV5ghiRg3",
    "qo35-wi0iaFm",
    "CsQEKAQhi_MG",
    "My5BY9qAkSb4",
    "JQuIjEpYka3O",
    "DjduQ037k9CK",
    "kaPf4ZEalZH9",
    "0XBiBOyAl2Sv"
   ],
   "name": "Submission Template.ipynb",
   "provenance": []
  },
  "kernelspec": {
   "display_name": "Python 3",
   "name": "python3"
  },
  "language_info": {
   "codemirror_mode": {
    "name": "ipython",
    "version": 3
   },
   "file_extension": ".py",
   "mimetype": "text/x-python",
   "name": "python",
   "nbconvert_exporter": "python",
   "pygments_lexer": "ipython3",
   "version": "3.9.0"
  },
  "deepnote_notebook_id": "bea0b98d-0e46-41bd-ae38-8e0aa6e590a8",
  "deepnote": {},
  "deepnote_execution_queue": []
 }
}