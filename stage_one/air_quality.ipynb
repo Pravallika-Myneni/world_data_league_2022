{
  "cells": [
    {
      "cell_type": "markdown",
      "metadata": {
        "id": "Is1th3sXsLqf"
      },
      "source": [
        "# World Data League 2022"
      ]
    },
    {
      "cell_type": "markdown",
      "metadata": {
        "id": "94NlB4NxwLra"
      },
      "source": [
        "## 🎯 Challenge: Air Quality Prediction in busy streets \n"
      ]
    },
    {
      "cell_type": "markdown",
      "metadata": {
        "id": "jVBl_rp5gAdK"
      },
      "source": [
        "## 👥 Authors\n",
        "* Person 1\n",
        "* Person 2\n",
        "* Person 3"
      ]
    },
    {
      "cell_type": "markdown",
      "metadata": {
        "id": "C8rCpNajszur"
      },
      "source": [
        "## 💻 Development\n",
        "Start coding here! 🐱‍🏍\n",
        "\n",
        "Create the necessary subsections (e.g. EDA, different experiments, etc..) and markdown cells to include descriptions of your work where you see fit. Comment your code. \n",
        "\n",
        "All new subsections must start with three hash characters.\n",
        "\n",
        "Pro-tip 1: Don't forget to make the jury's life easier. Remove any unnecessary prints before submitting the work. Hide any long output cells (from training a model for example). For each subsection, have a quick introduction (justifying what you are about to do) and conclusion (results you got from what you did). \n",
        "\n",
        "Pro-tip 2: Have many similiar graphs which all tell the same story? Add them to the appendix and show only a couple of examples, with the mention that all the others are in the appendix."
      ]
    },
    {
      "cell_type": "code",
      "execution_count": 1,
      "metadata": {
        "id": "afB4W0KnutpV"
      },
      "outputs": [],
      "source": [
        "import pandas as pd"
      ]
    },
    {
      "cell_type": "code",
      "execution_count": 10,
      "metadata": {
        "id": "J4jPpcKOutZ5"
      },
      "outputs": [
        {
          "data": {
            "text/html": [
              "<div>\n",
              "<style scoped>\n",
              "    .dataframe tbody tr th:only-of-type {\n",
              "        vertical-align: middle;\n",
              "    }\n",
              "\n",
              "    .dataframe tbody tr th {\n",
              "        vertical-align: top;\n",
              "    }\n",
              "\n",
              "    .dataframe thead th {\n",
              "        text-align: right;\n",
              "    }\n",
              "</style>\n",
              "<table border=\"1\" class=\"dataframe\">\n",
              "  <thead>\n",
              "    <tr style=\"text-align: right;\">\n",
              "      <th></th>\n",
              "      <th>id</th>\n",
              "      <th>component_id</th>\n",
              "      <th>value</th>\n",
              "      <th>timestamp_measured</th>\n",
              "    </tr>\n",
              "  </thead>\n",
              "  <tbody>\n",
              "    <tr>\n",
              "      <th>0</th>\n",
              "      <td>6fc2b8dd-db16-4f67-bc0d-a2ee96dbf46d</td>\n",
              "      <td>PM25</td>\n",
              "      <td>7.40</td>\n",
              "      <td>2022-02-15T23:00:00+00:00</td>\n",
              "    </tr>\n",
              "    <tr>\n",
              "      <th>1</th>\n",
              "      <td>f0b41647-e2f5-402d-ab7a-47a2202e283d</td>\n",
              "      <td>PM10</td>\n",
              "      <td>12.30</td>\n",
              "      <td>2022-02-15T23:00:00+00:00</td>\n",
              "    </tr>\n",
              "    <tr>\n",
              "      <th>2</th>\n",
              "      <td>50b377ca-bdc1-4365-9521-5dc5affb238d</td>\n",
              "      <td>FN</td>\n",
              "      <td>0.29</td>\n",
              "      <td>2022-02-15T23:00:00+00:00</td>\n",
              "    </tr>\n",
              "    <tr>\n",
              "      <th>3</th>\n",
              "      <td>01cce658-ac64-4019-a436-cdf7172ce8ef</td>\n",
              "      <td>C8H10</td>\n",
              "      <td>0.32</td>\n",
              "      <td>2022-02-15T23:00:00+00:00</td>\n",
              "    </tr>\n",
              "    <tr>\n",
              "      <th>4</th>\n",
              "      <td>b66ba836-5ddf-4ac2-bb6f-0c63e17f697b</td>\n",
              "      <td>C7H8</td>\n",
              "      <td>0.55</td>\n",
              "      <td>2022-02-15T23:00:00+00:00</td>\n",
              "    </tr>\n",
              "  </tbody>\n",
              "</table>\n",
              "</div>"
            ],
            "text/plain": [
              "                                     id component_id  value  \\\n",
              "0  6fc2b8dd-db16-4f67-bc0d-a2ee96dbf46d         PM25   7.40   \n",
              "1  f0b41647-e2f5-402d-ab7a-47a2202e283d         PM10  12.30   \n",
              "2  50b377ca-bdc1-4365-9521-5dc5affb238d           FN   0.29   \n",
              "3  01cce658-ac64-4019-a436-cdf7172ce8ef        C8H10   0.32   \n",
              "4  b66ba836-5ddf-4ac2-bb6f-0c63e17f697b         C7H8   0.55   \n",
              "\n",
              "          timestamp_measured  \n",
              "0  2022-02-15T23:00:00+00:00  \n",
              "1  2022-02-15T23:00:00+00:00  \n",
              "2  2022-02-15T23:00:00+00:00  \n",
              "3  2022-02-15T23:00:00+00:00  \n",
              "4  2022-02-15T23:00:00+00:00  "
            ]
          },
          "execution_count": 10,
          "metadata": {},
          "output_type": "execute_result"
        }
      ],
      "source": [
        "df = pd.read_csv(\"data/air_quality_2014_to_2022.csv\", index_col = 0)\n",
        "df.head()"
      ]
    },
    {
      "cell_type": "code",
      "execution_count": 11,
      "metadata": {
        "id": "LQ90XveiBN6A"
      },
      "outputs": [
        {
          "data": {
            "text/html": [
              "<div>\n",
              "<style scoped>\n",
              "    .dataframe tbody tr th:only-of-type {\n",
              "        vertical-align: middle;\n",
              "    }\n",
              "\n",
              "    .dataframe tbody tr th {\n",
              "        vertical-align: top;\n",
              "    }\n",
              "\n",
              "    .dataframe thead th {\n",
              "        text-align: right;\n",
              "    }\n",
              "</style>\n",
              "<table border=\"1\" class=\"dataframe\">\n",
              "  <thead>\n",
              "    <tr style=\"text-align: right;\">\n",
              "      <th></th>\n",
              "      <th>component_id</th>\n",
              "      <th>value</th>\n",
              "      <th>timestamp_measured</th>\n",
              "    </tr>\n",
              "    <tr>\n",
              "      <th>id</th>\n",
              "      <th></th>\n",
              "      <th></th>\n",
              "      <th></th>\n",
              "    </tr>\n",
              "  </thead>\n",
              "  <tbody>\n",
              "    <tr>\n",
              "      <th>6fc2b8dd-db16-4f67-bc0d-a2ee96dbf46d</th>\n",
              "      <td>PM25</td>\n",
              "      <td>7.40</td>\n",
              "      <td>2022-02-15T23:00:00+00:00</td>\n",
              "    </tr>\n",
              "    <tr>\n",
              "      <th>f0b41647-e2f5-402d-ab7a-47a2202e283d</th>\n",
              "      <td>PM10</td>\n",
              "      <td>12.30</td>\n",
              "      <td>2022-02-15T23:00:00+00:00</td>\n",
              "    </tr>\n",
              "    <tr>\n",
              "      <th>50b377ca-bdc1-4365-9521-5dc5affb238d</th>\n",
              "      <td>FN</td>\n",
              "      <td>0.29</td>\n",
              "      <td>2022-02-15T23:00:00+00:00</td>\n",
              "    </tr>\n",
              "    <tr>\n",
              "      <th>01cce658-ac64-4019-a436-cdf7172ce8ef</th>\n",
              "      <td>C8H10</td>\n",
              "      <td>0.32</td>\n",
              "      <td>2022-02-15T23:00:00+00:00</td>\n",
              "    </tr>\n",
              "    <tr>\n",
              "      <th>b66ba836-5ddf-4ac2-bb6f-0c63e17f697b</th>\n",
              "      <td>C7H8</td>\n",
              "      <td>0.55</td>\n",
              "      <td>2022-02-15T23:00:00+00:00</td>\n",
              "    </tr>\n",
              "  </tbody>\n",
              "</table>\n",
              "</div>"
            ],
            "text/plain": [
              "                                     component_id  value  \\\n",
              "id                                                         \n",
              "6fc2b8dd-db16-4f67-bc0d-a2ee96dbf46d         PM25   7.40   \n",
              "f0b41647-e2f5-402d-ab7a-47a2202e283d         PM10  12.30   \n",
              "50b377ca-bdc1-4365-9521-5dc5affb238d           FN   0.29   \n",
              "01cce658-ac64-4019-a436-cdf7172ce8ef        C8H10   0.32   \n",
              "b66ba836-5ddf-4ac2-bb6f-0c63e17f697b         C7H8   0.55   \n",
              "\n",
              "                                             timestamp_measured  \n",
              "id                                                               \n",
              "6fc2b8dd-db16-4f67-bc0d-a2ee96dbf46d  2022-02-15T23:00:00+00:00  \n",
              "f0b41647-e2f5-402d-ab7a-47a2202e283d  2022-02-15T23:00:00+00:00  \n",
              "50b377ca-bdc1-4365-9521-5dc5affb238d  2022-02-15T23:00:00+00:00  \n",
              "01cce658-ac64-4019-a436-cdf7172ce8ef  2022-02-15T23:00:00+00:00  \n",
              "b66ba836-5ddf-4ac2-bb6f-0c63e17f697b  2022-02-15T23:00:00+00:00  "
            ]
          },
          "execution_count": 11,
          "metadata": {},
          "output_type": "execute_result"
        }
      ],
      "source": [
        "df_1 = df.set_index('id')\n",
        "df_1.head()"
      ]
    },
    {
      "cell_type": "code",
      "execution_count": 12,
      "metadata": {},
      "outputs": [
        {
          "data": {
            "text/plain": [
              "FN       69955\n",
              "PM25     69419\n",
              "PM10     69412\n",
              "NO       69229\n",
              "NO2      69221\n",
              "C7H8     66456\n",
              "C6H6     66350\n",
              "C8H10    57135\n",
              "Name: component_id, dtype: int64"
            ]
          },
          "execution_count": 12,
          "metadata": {},
          "output_type": "execute_result"
        }
      ],
      "source": [
        "df_1['component_id'].value_counts()"
      ]
    },
    {
      "cell_type": "markdown",
      "metadata": {
        "id": "gCcVSUTsasBP"
      },
      "source": [
        "## 🖼️ Visualisations\n",
        "Copy here the most important visualizations (graphs, charts, maps, images, etc). You can refer to them in the Executive Summary.\n",
        "\n",
        "Technical note: If not all the visualisations are visible, you can still include them as an image or link - in this case please upload them to your own repository."
      ]
    },
    {
      "cell_type": "markdown",
      "metadata": {
        "id": "F2REdi5_rThg"
      },
      "source": [
        "## 👓 References\n",
        "List all of the external links (even if they are already linked above), such as external datasets, papers, blog posts, code repositories and any other materials."
      ]
    },
    {
      "cell_type": "markdown",
      "metadata": {
        "id": "uLBpGOl5o0ix"
      },
      "source": [
        "## ⏭️ Appendix\n",
        "Add here any code, images or text that you still find relevant, but that was too long to include in the main report. This section is optional.\n"
      ]
    },
    {
      "cell_type": "code",
      "execution_count": null,
      "metadata": {
        "id": "Mot-NqmmpAHI"
      },
      "outputs": [],
      "source": []
    }
  ],
  "metadata": {
    "colab": {
      "collapsed_sections": [
        "63ltgxp_rOpI",
        "C8rCpNajszur",
        "gSDath2nr1fq",
        "a92GV5ghiRg3",
        "qo35-wi0iaFm",
        "CsQEKAQhi_MG",
        "My5BY9qAkSb4",
        "JQuIjEpYka3O",
        "DjduQ037k9CK",
        "kaPf4ZEalZH9",
        "0XBiBOyAl2Sv"
      ],
      "name": "Submission Template.ipynb",
      "provenance": []
    },
    "kernelspec": {
      "display_name": "Python 3",
      "name": "python3"
    },
    "language_info": {
      "codemirror_mode": {
        "name": "ipython",
        "version": 3
      },
      "file_extension": ".py",
      "mimetype": "text/x-python",
      "name": "python",
      "nbconvert_exporter": "python",
      "pygments_lexer": "ipython3",
      "version": "3.9.0"
    }
  },
  "nbformat": 4,
  "nbformat_minor": 0
}
